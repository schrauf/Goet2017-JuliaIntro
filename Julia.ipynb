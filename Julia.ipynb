{
 "cells": [
  {
   "cell_type": "markdown",
   "metadata": {
    "slideshow": {
     "slide_type": "slide"
    }
   },
   "source": [
    "# Julia: an introduction"
   ]
  },
  {
   "cell_type": "markdown",
   "metadata": {
    "slideshow": {
     "slide_type": "-"
    }
   },
   "source": [
    "Borrowed extensively from\n",
    "\n",
    "- David P. Sanders ([link](https://github.com/dpsanders))\n",
    "- Bogumił Kamiński ([link](https://github.com/bkamins))"
   ]
  },
  {
   "cell_type": "markdown",
   "metadata": {
    "slideshow": {
     "slide_type": "-"
    }
   },
   "source": [
    "#### Göttingen, 18.10.17"
   ]
  },
  {
   "cell_type": "markdown",
   "metadata": {
    "slideshow": {
     "slide_type": "slide"
    }
   },
   "source": [
    "# What is Julia?"
   ]
  },
  {
   "cell_type": "markdown",
   "metadata": {},
   "source": [
    "http://julialang.org/"
   ]
  },
  {
   "cell_type": "markdown",
   "metadata": {},
   "source": [
    "- Programming language "
   ]
  },
  {
   "cell_type": "markdown",
   "metadata": {
    "slideshow": {
     "slide_type": "fragment"
    }
   },
   "source": [
    "- Free and open source (MIT licensed)"
   ]
  },
  {
   "cell_type": "markdown",
   "metadata": {},
   "source": [
    "- Whose design incorporates best ideas from other languages"
   ]
  },
  {
   "cell_type": "markdown",
   "metadata": {
    "slideshow": {
     "slide_type": "fragment"
    }
   },
   "source": [
    "- Interactive but (just in time) compiled"
   ]
  },
  {
   "cell_type": "markdown",
   "metadata": {
    "slideshow": {
     "slide_type": "fragment"
    }
   },
   "source": [
    "- Compiled, therefore fast"
   ]
  },
  {
   "cell_type": "markdown",
   "metadata": {
    "slideshow": {
     "slide_type": "fragment"
    }
   },
   "source": [
    "- Extensible - by writing Julia code"
   ]
  },
  {
   "cell_type": "markdown",
   "metadata": {
    "slideshow": {
     "slide_type": "fragment"
    }
   },
   "source": [
    "- Packages designed to interact with each other"
   ]
  },
  {
   "cell_type": "markdown",
   "metadata": {
    "slideshow": {
     "slide_type": "subslide"
    }
   },
   "source": [
    "Julia allows me to:\n",
    "\n",
    "- Write readable code"
   ]
  },
  {
   "cell_type": "markdown",
   "metadata": {
    "slideshow": {
     "slide_type": "fragment"
    }
   },
   "source": [
    "- That is generic (works with objects of different types)"
   ]
  },
  {
   "cell_type": "markdown",
   "metadata": {
    "slideshow": {
     "slide_type": "fragment"
    }
   },
   "source": [
    "- But is fast"
   ]
  },
  {
   "cell_type": "markdown",
   "metadata": {
    "slideshow": {
     "slide_type": "skip"
    }
   },
   "source": [
    "For an interesting discussion of what makes Julia unique compared to the various attempts to accelerate Python etc., see\n",
    "https://discourse.julialang.org/t/julia-motivation-why-werent-numpy-scipy-numba-good-enough/"
   ]
  },
  {
   "cell_type": "markdown",
   "metadata": {},
   "source": [
    "## Some history"
   ]
  },
  {
   "cell_type": "markdown",
   "metadata": {},
   "source": [
    "- Work on Julia was started in **2009**"
   ]
  },
  {
   "cell_type": "markdown",
   "metadata": {},
   "source": [
    "- On **2012** it had a public website"
   ]
  },
  {
   "cell_type": "markdown",
   "metadata": {},
   "source": [
    "- **JuliaCon**, a yearly conference, first met in **2014**"
   ]
  },
  {
   "cell_type": "markdown",
   "metadata": {},
   "source": [
    "- ~ 250K users"
   ]
  },
  {
   "cell_type": "markdown",
   "metadata": {
    "slideshow": {
     "slide_type": "subslide"
    }
   },
   "source": [
    "### Julia is (not) quite stable (yet)\n",
    "\n",
    "- Yesterday (May-2017): **v0.5**\n",
    "\n",
    "\n",
    "\n",
    "- Today: **v0.6**\n",
    "\n",
    "\n",
    "\n",
    "- Tomorrow: **v1.0** - first long-term stable release"
   ]
  },
  {
   "cell_type": "markdown",
   "metadata": {
    "slideshow": {
     "slide_type": "slide"
    }
   },
   "source": [
    "# Use in Genetics"
   ]
  },
  {
   "cell_type": "markdown",
   "metadata": {
    "slideshow": {
     "slide_type": "fragment"
    }
   },
   "source": [
    "- BioJulia http://biojulia.net/\n",
    "![biojulia](http://biojulia.net/img/BioJulia_Brand.svg)"
   ]
  },
  {
   "cell_type": "markdown",
   "metadata": {
    "slideshow": {
     "slide_type": "fragment"
    }
   },
   "source": [
    "- Quantitative genetics Triangle Lab http://qtl.rocks/\n",
    "\n",
    "    - _Introduction to Julia for Statistical Genetics_, by Hao Cheng and Rohan Fernando\n",
    "    - _Statistical Methods for Whole Genome Analyses_, by Rohan Fernando"
   ]
  },
  {
   "cell_type": "markdown",
   "metadata": {
    "slideshow": {
     "slide_type": "fragment"
    }
   },
   "source": [
    "- BGLR-Julia https://github.com/gdlc/BGLR.jl"
   ]
  },
  {
   "cell_type": "markdown",
   "metadata": {
    "slideshow": {
     "slide_type": "slide"
    }
   },
   "source": [
    "# In statistics\n",
    "\n",
    "- JuliaStats http://juliastats.github.io/\n",
    "![juliastats](https://avatars2.githubusercontent.com/u/2761531?v=4&s=200)\n",
    "- MixedModels.jl, by Douglas Bates (nlme, lme4 in R)\n",
    "- Quite a few neural network packages ([Knet.jl](https://github.com/denizyuret/Knet.jl), [MXNet.jl](https://github.com/dmlc/MXNet.jl),...)"
   ]
  },
  {
   "cell_type": "markdown",
   "metadata": {
    "slideshow": {
     "slide_type": "slide"
    }
   },
   "source": [
    "# How to use Julia"
   ]
  },
  {
   "cell_type": "markdown",
   "metadata": {
    "slideshow": {
     "slide_type": "fragment"
    }
   },
   "source": [
    "- **Command line:** Interactive experiments (REPL) and scripts"
   ]
  },
  {
   "cell_type": "markdown",
   "metadata": {
    "slideshow": {
     "slide_type": "fragment"
    }
   },
   "source": [
    "- [Jupyter Notebook](https://jupyter.org): Coherent narrative documents (see keynote)"
   ]
  },
  {
   "cell_type": "markdown",
   "metadata": {
    "slideshow": {
     "slide_type": "fragment"
    }
   },
   "source": [
    "- [Juno](http://junolab.org/): Julia IDE in Atom editor (inline evaluation)"
   ]
  },
  {
   "cell_type": "markdown",
   "metadata": {
    "slideshow": {
     "slide_type": "fragment"
    }
   },
   "source": [
    "- [JuliaBox.com](http://juliabox.com): Online Jupyter Notebook server"
   ]
  },
  {
   "cell_type": "markdown",
   "metadata": {
    "slideshow": {
     "slide_type": "subslide"
    }
   },
   "source": [
    "## Where to get help\n"
   ]
  },
  {
   "cell_type": "markdown",
   "metadata": {
    "slideshow": {
     "slide_type": "fragment"
    }
   },
   "source": [
    "- Interactively (REPL / Juno / IJulia): `?sin`"
   ]
  },
  {
   "cell_type": "code",
   "execution_count": 1,
   "metadata": {},
   "outputs": [
    {
     "name": "stdout",
     "output_type": "stream",
     "text": [
      "search: \u001b[1ms\u001b[22m\u001b[1mi\u001b[22m\u001b[1mn\u001b[22m \u001b[1ms\u001b[22m\u001b[1mi\u001b[22m\u001b[1mn\u001b[22mh \u001b[1ms\u001b[22m\u001b[1mi\u001b[22m\u001b[1mn\u001b[22md \u001b[1ms\u001b[22m\u001b[1mi\u001b[22m\u001b[1mn\u001b[22mc \u001b[1ms\u001b[22m\u001b[1mi\u001b[22m\u001b[1mn\u001b[22mpi a\u001b[1ms\u001b[22m\u001b[1mi\u001b[22m\u001b[1mn\u001b[22m u\u001b[1ms\u001b[22m\u001b[1mi\u001b[22m\u001b[1mn\u001b[22mg i\u001b[1ms\u001b[22m\u001b[1mi\u001b[22m\u001b[1mn\u001b[22mf a\u001b[1ms\u001b[22m\u001b[1mi\u001b[22m\u001b[1mn\u001b[22mh a\u001b[1ms\u001b[22m\u001b[1mi\u001b[22m\u001b[1mn\u001b[22md i\u001b[1ms\u001b[22m\u001b[1mi\u001b[22m\u001b[1mn\u001b[22mteger\n",
      "\n"
     ]
    },
    {
     "data": {
      "text/markdown": [
       "```\n",
       "sin(x)\n",
       "```\n",
       "\n",
       "Compute sine of `x`, where `x` is in radians.\n"
      ],
      "text/plain": [
       "```\n",
       "sin(x)\n",
       "```\n",
       "\n",
       "Compute sine of `x`, where `x` is in radians.\n"
      ]
     },
     "execution_count": 1,
     "metadata": {},
     "output_type": "execute_result"
    }
   ],
   "source": [
    "?sin"
   ]
  },
  {
   "cell_type": "markdown",
   "metadata": {
    "slideshow": {
     "slide_type": "fragment"
    }
   },
   "source": [
    "- [Julia docs](https://docs.julialang.org/en/stable/)"
   ]
  },
  {
   "cell_type": "markdown",
   "metadata": {},
   "source": [
    "- wiki, kaggle (images), ...?"
   ]
  },
  {
   "cell_type": "markdown",
   "metadata": {
    "slideshow": {
     "slide_type": "fragment"
    }
   },
   "source": [
    "- Google, Stack Overflow"
   ]
  },
  {
   "cell_type": "markdown",
   "metadata": {
    "slideshow": {
     "slide_type": "fragment"
    }
   },
   "source": [
    "- Discourse discussion forum: https://discourse.julialang.org/"
   ]
  },
  {
   "cell_type": "markdown",
   "metadata": {
    "slideshow": {
     "slide_type": "fragment"
    }
   },
   "source": [
    "- Gitter chat room(s):  https://gitter.im/JuliaLang/julia"
   ]
  },
  {
   "cell_type": "markdown",
   "metadata": {},
   "source": [
    "Books tend to get outdated but a good one is:\n",
    "\n",
    "- _Julia for Data Science_, by Ansul Joshi\n",
    "\n",
    "The best short introduction I've found is:\n",
    "\n",
    "- _The Julia Express_, by Bogumił Kaminski [pdf](http://bogumilkaminski.pl/files/julia_express.pdf)"
   ]
  },
  {
   "cell_type": "markdown",
   "metadata": {},
   "source": [
    "## A Recommendation\n",
    "\n",
    "- Familiarize with the syntax\n",
    "    - Julia Express\n",
    "    - Julia Documentation\n",
    "\n",
    "\n",
    "- Explore packages from your domain area (but don't depend too much yet)\n",
    "    - JuliaOpt\n",
    "    - JuliaStat\n",
    "    - BioJulia"
   ]
  },
  {
   "cell_type": "markdown",
   "metadata": {},
   "source": [
    "## Some useful packages (I use)\n",
    "\n",
    "- [RCall.jl](https://github.com/JuliaInterop/RCall.jl)\n",
    "- [Plots.jl](https://juliaplots.github.io/)\n",
    "- [HDF5.jl](https://github.com/JuliaIO/HDF5.jl)\n",
    "- [ApproxFun.jl](https://github.com/JuliaApproximation/ApproxFun.jl)\n",
    "- [SymPy.jl](https://github.com/JuliaPy/SymPy.jl)"
   ]
  },
  {
   "cell_type": "markdown",
   "metadata": {
    "slideshow": {
     "slide_type": "slide"
    }
   },
   "source": [
    "## Example 1: derivative of the determinant of a diagonal matrix"
   ]
  },
  {
   "cell_type": "markdown",
   "metadata": {
    "slideshow": {
     "slide_type": "fragment"
    }
   },
   "source": [
    "- Julia is fast"
   ]
  },
  {
   "cell_type": "markdown",
   "metadata": {
    "slideshow": {
     "slide_type": "fragment"
    }
   },
   "source": [
    "- But it can also be very concise"
   ]
  },
  {
   "cell_type": "code",
   "execution_count": 10,
   "metadata": {
    "collapsed": true
   },
   "outputs": [],
   "source": [
    "using SymPy"
   ]
  },
  {
   "cell_type": "code",
   "execution_count": 11,
   "metadata": {
    "slideshow": {
     "slide_type": "subslide"
    }
   },
   "outputs": [
    {
     "data": {
      "text/latex": [
       "\\begin{bmatrix}a&d&g\\\\b&e&h\\\\c&f&i\\end{bmatrix}"
      ],
      "text/plain": [
       "3×3 Array{SymPy.Sym,2}:\n",
       " a  d  g\n",
       " b  e  h\n",
       " c  f  i"
      ]
     },
     "execution_count": 11,
     "metadata": {},
     "output_type": "execute_result"
    }
   ],
   "source": [
    "vars = @syms a b c d e f g h i real=true\n",
    "A = reshape([vars...],3,3)"
   ]
  },
  {
   "cell_type": "code",
   "execution_count": 13,
   "metadata": {
    "slideshow": {
     "slide_type": "subslide"
    }
   },
   "outputs": [
    {
     "data": {
      "text/html": [
       "a*e*i - a*f*h - b*d*i + b*f*g + c*d*h - c*e*g"
      ],
      "text/plain": [
       "a*e*i - a*f*h - b*d*i + b*f*g + c*d*h - c*e*g"
      ]
     },
     "execution_count": 13,
     "metadata": {},
     "output_type": "execute_result"
    }
   ],
   "source": [
    "detA = simplify(det(A))"
   ]
  },
  {
   "cell_type": "code",
   "execution_count": 15,
   "metadata": {
    "slideshow": {
     "slide_type": "fragment"
    }
   },
   "outputs": [
    {
     "data": {
      "text/latex": [
       "\\begin{bmatrix}e i - f h&- b i + c h&b f - c e\\\\- d i + f g&a i - c g&- a f + c d\\\\d h - e g&- a h + b g&a e - b d\\end{bmatrix}"
      ],
      "text/plain": [
       "3×3 Array{SymPy.Sym,2}:\n",
       "  e*i - f*h  -b*i + c*h   b*f - c*e\n",
       " -d*i + f*g   a*i - c*g  -a*f + c*d\n",
       "  d*h - e*g  -a*h + b*g   a*e - b*d"
      ]
     },
     "execution_count": 15,
     "metadata": {},
     "output_type": "execute_result"
    }
   ],
   "source": [
    "dA = diff.(detA,A)"
   ]
  },
  {
   "cell_type": "code",
   "execution_count": 16,
   "metadata": {},
   "outputs": [
    {
     "data": {
      "text/latex": [
       "\\begin{bmatrix}e i - f h&- b i + c h&b f - c e\\\\- d i + f g&a i - c g&- a f + c d\\\\d h - e g&- a h + b g&a e - b d\\end{bmatrix}"
      ],
      "text/plain": [
       "3×3 Array{SymPy.Sym,2}:\n",
       "  e*i - f*h  -b*i + c*h   b*f - c*e\n",
       " -d*i + f*g   a*i - c*g  -a*f + c*d\n",
       "  d*h - e*g  -a*h + b*g   a*e - b*d"
      ]
     },
     "execution_count": 16,
     "metadata": {},
     "output_type": "execute_result"
    }
   ],
   "source": [
    "dA"
   ]
  },
  {
   "cell_type": "code",
   "execution_count": 21,
   "metadata": {
    "slideshow": {
     "slide_type": "subslide"
    }
   },
   "outputs": [
    {
     "data": {
      "text/latex": [
       "\\begin{bmatrix}e i&0&0\\\\0&a i&- a f\\\\0&0&a e\\end{bmatrix}"
      ],
      "text/plain": [
       "3×3 Array{SymPy.Sym,2}:\n",
       " e*i    0     0\n",
       "   0  a*i  -a*f\n",
       "   0    0   a*e"
      ]
     },
     "execution_count": 21,
     "metadata": {},
     "output_type": "execute_result"
    }
   ],
   "source": [
    "subs(dA,b=>0,c=>0,d=>0,g=>0,h=>0)"
   ]
  },
  {
   "cell_type": "markdown",
   "metadata": {
    "slideshow": {
     "slide_type": "fragment"
    }
   },
   "source": [
    "![formula](https://wikimedia.org/api/rest_v1/media/math/render/svg/835e914386933faeafc643d130b90e668296479e)\n",
    "https://en.wikipedia.org/wiki/Jacobi's_formula"
   ]
  },
  {
   "cell_type": "markdown",
   "metadata": {
    "slideshow": {
     "slide_type": "slide"
    }
   },
   "source": [
    "# Syntax and General Design"
   ]
  },
  {
   "cell_type": "code",
   "execution_count": null,
   "metadata": {
    "collapsed": true,
    "slideshow": {
     "slide_type": "subslide"
    }
   },
   "outputs": [],
   "source": [
    "x = 1.0 # x is Float64\n",
    "x = 1 # now x is Int32 on 32 bit machine and Int64 on 64 bit machine"
   ]
  },
  {
   "cell_type": "code",
   "execution_count": null,
   "metadata": {
    "collapsed": true,
    "slideshow": {
     "slide_type": "subslide"
    }
   },
   "outputs": [],
   "source": [
    "x = (a = 1; 2 * a) # after: x = 2; a = 1"
   ]
  },
  {
   "cell_type": "code",
   "execution_count": null,
   "metadata": {
    "collapsed": true,
    "slideshow": {
     "slide_type": "fragment"
    }
   },
   "outputs": [],
   "source": [
    "y = begin\n",
    "    b = 3\n",
    "    3 * b\n",
    "end # after: y = 9; b = 3"
   ]
  },
  {
   "cell_type": "code",
   "execution_count": null,
   "metadata": {
    "collapsed": true,
    "slideshow": {
     "slide_type": "subslide"
    }
   },
   "outputs": [],
   "source": [
    "if false # if clause requires Bool test\n",
    "    z = 1\n",
    "elseif 1==2\n",
    "    z = 2\n",
    "else\n",
    "    a = 3\n",
    "end # after this a = 3 and z is undefined"
   ]
  },
  {
   "cell_type": "code",
   "execution_count": null,
   "metadata": {
    "collapsed": true,
    "slideshow": {
     "slide_type": "fragment"
    }
   },
   "outputs": [],
   "source": [
    "1==2 ? \"A\" : \"B\" # standard ternary operator"
   ]
  },
  {
   "cell_type": "code",
   "execution_count": null,
   "metadata": {
    "collapsed": true,
    "slideshow": {
     "slide_type": "subslide"
    }
   },
   "outputs": [],
   "source": [
    "i = 1\n",
    "while true\n",
    "    i += 1\n",
    "    if i > 10\n",
    "        break\n",
    "    end\n",
    "end "
   ]
  },
  {
   "cell_type": "code",
   "execution_count": null,
   "metadata": {
    "collapsed": true,
    "slideshow": {
     "slide_type": "subslide"
    }
   },
   "outputs": [],
   "source": [
    "for x = 1:10 # x in collection, can also use = here instead of in\n",
    "    if 3 < x < 6\n",
    "        continue # skip one iteration\n",
    "    end\n",
    "    println(x)\n",
    "end"
   ]
  },
  {
   "cell_type": "code",
   "execution_count": 2,
   "metadata": {
    "slideshow": {
     "slide_type": "subslide"
    }
   },
   "outputs": [
    {
     "data": {
      "text/plain": [
       "fun (generic function with 2 methods)"
      ]
     },
     "execution_count": 2,
     "metadata": {},
     "output_type": "execute_result"
    }
   ],
   "source": [
    "fun(x, y = 10; optional=\"default\") = x + y # new function f with y defaulting to 10\n",
    "                     # last expression result returned"
   ]
  },
  {
   "cell_type": "code",
   "execution_count": 3,
   "metadata": {
    "slideshow": {
     "slide_type": "fragment"
    }
   },
   "outputs": [
    {
     "data": {
      "text/plain": [
       "5"
      ]
     },
     "execution_count": 3,
     "metadata": {},
     "output_type": "execute_result"
    }
   ],
   "source": [
    "fun(3, 2) # simple call, 5 returned"
   ]
  },
  {
   "cell_type": "code",
   "execution_count": 4,
   "metadata": {
    "slideshow": {
     "slide_type": "fragment"
    }
   },
   "outputs": [
    {
     "data": {
      "text/plain": [
       "13"
      ]
     },
     "execution_count": 4,
     "metadata": {},
     "output_type": "execute_result"
    }
   ],
   "source": [
    "fun(3) # 13 returned"
   ]
  },
  {
   "cell_type": "code",
   "execution_count": 5,
   "metadata": {
    "slideshow": {
     "slide_type": "subslide"
    }
   },
   "outputs": [
    {
     "data": {
      "text/plain": [
       "gun (generic function with 1 method)"
      ]
     },
     "execution_count": 5,
     "metadata": {},
     "output_type": "execute_result"
    }
   ],
   "source": [
    "function gun(x::Int, y::Int) # type restriction\n",
    "    return y, x            # explicit return of a tuple\n",
    "end"
   ]
  },
  {
   "cell_type": "code",
   "execution_count": 6,
   "metadata": {
    "slideshow": {
     "slide_type": "fragment"
    }
   },
   "outputs": [
    {
     "data": {
      "text/plain": [
       "gun (generic function with 2 methods)"
      ]
     },
     "execution_count": 6,
     "metadata": {},
     "output_type": "execute_result"
    }
   ],
   "source": [
    "gun(x::Int, y::Bool) = x * y # add multiple dispatch"
   ]
  },
  {
   "cell_type": "code",
   "execution_count": 7,
   "metadata": {
    "slideshow": {
     "slide_type": "fragment"
    }
   },
   "outputs": [
    {
     "data": {
      "text/plain": [
       "2"
      ]
     },
     "execution_count": 7,
     "metadata": {},
     "output_type": "execute_result"
    }
   ],
   "source": [
    "gun(2, true) "
   ]
  },
  {
   "cell_type": "code",
   "execution_count": 39,
   "metadata": {
    "slideshow": {
     "slide_type": "subslide"
    }
   },
   "outputs": [
    {
     "data": {
      "text/html": [
       "2 methods for generic function <b>gun</b>:<ul><li> gun(x::<b>Int64</b>, y::<b>Bool</b>) at In[37]:1</li> <li> gun(x::<b>Int64</b>, y::<b>Int64</b>) at In[32]:2</li> </ul>"
      ],
      "text/plain": [
       "# 2 methods for generic function \"gun\":\n",
       "gun(x::Int64, y::Bool) in Main at In[37]:1\n",
       "gun(x::Int64, y::Int64) in Main at In[32]:2"
      ]
     },
     "execution_count": 39,
     "metadata": {},
     "output_type": "execute_result"
    }
   ],
   "source": [
    "methods(gun) # list all methods defined for g"
   ]
  },
  {
   "cell_type": "code",
   "execution_count": 40,
   "metadata": {
    "slideshow": {
     "slide_type": "subslide"
    }
   },
   "outputs": [
    {
     "data": {
      "text/html": [
       "9"
      ],
      "text/plain": [
       "9"
      ]
     },
     "execution_count": 40,
     "metadata": {},
     "output_type": "execute_result"
    }
   ],
   "source": [
    "(x -> x^2)(3) # anonymous function with a call"
   ]
  },
  {
   "cell_type": "code",
   "execution_count": 41,
   "metadata": {
    "slideshow": {
     "slide_type": "fragment"
    }
   },
   "outputs": [
    {
     "data": {
      "text/plain": [
       "(::#29) (generic function with 1 method)"
      ]
     },
     "execution_count": 41,
     "metadata": {},
     "output_type": "execute_result"
    }
   ],
   "source": [
    "() -> 0 # anonymous function with no arguments"
   ]
  },
  {
   "cell_type": "code",
   "execution_count": 42,
   "metadata": {
    "slideshow": {
     "slide_type": "subslide"
    }
   },
   "outputs": [
    {
     "data": {
      "text/plain": [
       "3×4 Array{Float64,2}:\n",
       " 0.970839  0.337238  0.233727     0.0301505\n",
       " 0.389181  0.157598  0.000965937  0.0837972\n",
       " 0.279411  0.971829  0.199654     0.420509 "
      ]
     },
     "execution_count": 42,
     "metadata": {},
     "output_type": "execute_result"
    }
   ],
   "source": [
    "m = rand(3,4)\n",
    "map(x -> (x > 0) ? x^2 : -x^2, m) # 3x4 array returned with transformed data"
   ]
  },
  {
   "cell_type": "code",
   "execution_count": 9,
   "metadata": {
    "slideshow": {
     "slide_type": "fragment"
    }
   },
   "outputs": [
    {
     "data": {
      "text/plain": [
       "6-element Array{Int64,1}:\n",
       "  2\n",
       "  4\n",
       "  6\n",
       "  8\n",
       " 10\n",
       " 12"
      ]
     },
     "execution_count": 9,
     "metadata": {},
     "output_type": "execute_result"
    }
   ],
   "source": [
    "filter(x -> bits(x)[end] == '0', 1:12) # a fancy way to choose even integers from the range"
   ]
  },
  {
   "cell_type": "markdown",
   "metadata": {
    "slideshow": {
     "slide_type": "fragment"
    }
   },
   "source": [
    "- **Convention:** functions with a \"!\" at the end modify their first argument"
   ]
  },
  {
   "cell_type": "markdown",
   "metadata": {
    "collapsed": true,
    "slideshow": {
     "slide_type": "slide"
    }
   },
   "source": [
    "## Basic literals and types"
   ]
  },
  {
   "cell_type": "code",
   "execution_count": 43,
   "metadata": {
    "collapsed": true
   },
   "outputs": [],
   "source": [
    "1::Int64 # 64-bit integer, no overflow warnings, fails on 32 bit Julia\n",
    "1.0::Float64 # 64-bit float, defines NaN, -Inf, Inf\n",
    "true::Bool # boolean, allows \"true\" and \"false\"\n",
    "'c'::Char # character, allows Unicode\n",
    "\"s\"::AbstractString # strings, allows Unicode, see also Strings\n",
    "nothing::Void # only instance of Void"
   ]
  },
  {
   "cell_type": "code",
   "execution_count": 45,
   "metadata": {
    "slideshow": {
     "slide_type": "subslide"
    }
   },
   "outputs": [
    {
     "data": {
      "text/html": [
       "5"
      ],
      "text/plain": [
       "5"
      ]
     },
     "execution_count": 45,
     "metadata": {},
     "output_type": "execute_result"
    }
   ],
   "source": [
    "5::Int"
   ]
  },
  {
   "cell_type": "code",
   "execution_count": 48,
   "metadata": {
    "slideshow": {
     "slide_type": "fragment"
    }
   },
   "outputs": [
    {
     "data": {
      "text/html": [
       "0.5"
      ],
      "text/plain": [
       "0.5"
      ]
     },
     "execution_count": 48,
     "metadata": {},
     "output_type": "execute_result"
    }
   ],
   "source": [
    "x = 0.5\n",
    "x::Real"
   ]
  },
  {
   "cell_type": "markdown",
   "metadata": {
    "slideshow": {
     "slide_type": "subslide"
    }
   },
   "source": [
    "###### Number type hierarchy"
   ]
  },
  {
   "cell_type": "markdown",
   "metadata": {
    "slideshow": {
     "slide_type": "-"
    }
   },
   "source": [
    "![Hierarchy of numeric types](Hierarchy of numeric types.png)"
   ]
  },
  {
   "cell_type": "code",
   "execution_count": 51,
   "metadata": {
    "slideshow": {
     "slide_type": "subslide"
    }
   },
   "outputs": [
    {
     "data": {
      "text/html": [
       "π = 3.1415926535897..."
      ],
      "text/plain": [
       "π = 3.1415926535897..."
      ]
     },
     "execution_count": 51,
     "metadata": {},
     "output_type": "execute_result"
    }
   ],
   "source": [
    "π"
   ]
  },
  {
   "cell_type": "code",
   "execution_count": 52,
   "metadata": {
    "slideshow": {
     "slide_type": "fragment"
    }
   },
   "outputs": [
    {
     "data": {
      "text/plain": [
       "Irrational{:π}"
      ]
     },
     "execution_count": 52,
     "metadata": {},
     "output_type": "execute_result"
    }
   ],
   "source": [
    "typeof(π)"
   ]
  },
  {
   "cell_type": "code",
   "execution_count": 53,
   "metadata": {
    "slideshow": {
     "slide_type": "fragment"
    }
   },
   "outputs": [
    {
     "data": {
      "text/html": [
       "3.14"
      ],
      "text/plain": [
       "Float16(3.14)"
      ]
     },
     "execution_count": 53,
     "metadata": {},
     "output_type": "execute_result"
    }
   ],
   "source": [
    "Float16(π)"
   ]
  },
  {
   "cell_type": "code",
   "execution_count": 54,
   "metadata": {
    "slideshow": {
     "slide_type": "fragment"
    }
   },
   "outputs": [
    {
     "data": {
      "text/html": [
       "3.141592653589793"
      ],
      "text/plain": [
       "3.141592653589793"
      ]
     },
     "execution_count": 54,
     "metadata": {},
     "output_type": "execute_result"
    }
   ],
   "source": [
    "Float64(π)"
   ]
  },
  {
   "cell_type": "code",
   "execution_count": 55,
   "metadata": {
    "slideshow": {
     "slide_type": "fragment"
    }
   },
   "outputs": [
    {
     "data": {
      "text/html": [
       "3.141592653589793238462643383279502884197169399375105820974944592307816406286198"
      ],
      "text/plain": [
       "3.141592653589793238462643383279502884197169399375105820974944592307816406286198"
      ]
     },
     "execution_count": 55,
     "metadata": {},
     "output_type": "execute_result"
    }
   ],
   "source": [
    "BigFloat(π)"
   ]
  },
  {
   "cell_type": "code",
   "execution_count": 11,
   "metadata": {
    "slideshow": {
     "slide_type": "subslide"
    }
   },
   "outputs": [
    {
     "data": {
      "text/plain": [
       "0.0"
      ]
     },
     "execution_count": 11,
     "metadata": {},
     "output_type": "execute_result"
    }
   ],
   "source": [
    "srand(123)\n",
    "X = rand(1000,1000)\n",
    "G = X'X\n",
    "G /= maximum(G)\n",
    "det(G)"
   ]
  },
  {
   "cell_type": "code",
   "execution_count": 15,
   "metadata": {
    "scrolled": true,
    "slideshow": {
     "slide_type": "fragment"
    }
   },
   "outputs": [
    {
     "data": {
      "text/plain": [
       "9.543806910105881416184159118808578733480882507881895021952319469008396936195641e-1070"
      ]
     },
     "execution_count": 15,
     "metadata": {},
     "output_type": "execute_result"
    }
   ],
   "source": [
    "prod(BigFloat.(eigvals(G)))"
   ]
  },
  {
   "cell_type": "code",
   "execution_count": 16,
   "metadata": {
    "slideshow": {
     "slide_type": "fragment"
    }
   },
   "outputs": [
    {
     "data": {
      "text/plain": [
       "-1069.0202783558764"
      ]
     },
     "execution_count": 16,
     "metadata": {},
     "output_type": "execute_result"
    }
   ],
   "source": [
    "sum(log10.(eigvals(G)))"
   ]
  },
  {
   "cell_type": "code",
   "execution_count": 17,
   "metadata": {
    "slideshow": {
     "slide_type": "fragment"
    }
   },
   "outputs": [
    {
     "data": {
      "text/plain": [
       "false"
      ]
     },
     "execution_count": 17,
     "metadata": {},
     "output_type": "execute_result"
    }
   ],
   "source": [
    "any(eigvals(G) .<= 0)"
   ]
  },
  {
   "cell_type": "markdown",
   "metadata": {
    "slideshow": {
     "slide_type": "fragment"
    }
   },
   "source": [
    "There are always many ways to do things."
   ]
  },
  {
   "cell_type": "markdown",
   "metadata": {
    "slideshow": {
     "slide_type": "subslide"
    }
   },
   "source": [
    "- Julia is not the solution to your problem."
   ]
  },
  {
   "cell_type": "markdown",
   "metadata": {
    "slideshow": {
     "slide_type": "skip"
    }
   },
   "source": [
    "- There is already an R package (or Python module) for that"
   ]
  },
  {
   "cell_type": "markdown",
   "metadata": {
    "slideshow": {
     "slide_type": "fragment"
    }
   },
   "source": [
    "- it is a tool than can help you re-thinking how you do things"
   ]
  },
  {
   "cell_type": "markdown",
   "metadata": {},
   "source": [
    "### Some details of BigNums\n",
    "\n",
    "- BigInt uses the [GNU Multiple Precision Arithmetic Library](https://gmplib.org/)\n",
    "    - There are no practical limits to the precision except the ones implied by the available memory in the machine\n",
    "\n",
    "\n",
    "- BigFloat uses the [GNU Multiple Precision Floating-Point Reliably](http://www.mpfr.org/)\n",
    "    - correct rounding up to user specified precision (default: 256 bits, _i.e._ 'quadruple' precision)\n",
    "    \n",
    "MPFR is not able to track the accuracy of numbers in a whole program or expression; this is not its goal.\n",
    "Interval arithmetic can do that, see [IntervalArithmetic.jl](https://github.com/JuliaIntervals/IntervalArithmetic.jl)"
   ]
  },
  {
   "cell_type": "markdown",
   "metadata": {
    "slideshow": {
     "slide_type": "slide"
    }
   },
   "source": [
    "## Arrays"
   ]
  },
  {
   "cell_type": "markdown",
   "metadata": {
    "slideshow": {
     "slide_type": "fragment"
    }
   },
   "source": [
    "Julia has excellent functionality for manipulating arrays and for linear algebra. We will have a quick look at this subject, which is much more complicated than you might suspect; see e.g. the talk on \"Taking vector transposes seriously\"."
   ]
  },
  {
   "cell_type": "markdown",
   "metadata": {
    "slideshow": {
     "slide_type": "fragment"
    }
   },
   "source": [
    "Let's define a 2x2 array (matrix):"
   ]
  },
  {
   "cell_type": "code",
   "execution_count": 18,
   "metadata": {
    "slideshow": {
     "slide_type": "fragment"
    }
   },
   "outputs": [
    {
     "data": {
      "text/plain": [
       "3×3 Array{Int64,2}:\n",
       " 1  2  3\n",
       " 4  5  6\n",
       " 7  8  9"
      ]
     },
     "execution_count": 18,
     "metadata": {},
     "output_type": "execute_result"
    }
   ],
   "source": [
    "M = [1 2 3; 4 5 6; 7 8 9]  # a 3x3 matrix"
   ]
  },
  {
   "cell_type": "code",
   "execution_count": 19,
   "metadata": {
    "slideshow": {
     "slide_type": "subslide"
    }
   },
   "outputs": [
    {
     "data": {
      "text/plain": [
       "2×2 Array{Int64,2}:\n",
       " 4  5\n",
       " 7  8"
      ]
     },
     "execution_count": 19,
     "metadata": {},
     "output_type": "execute_result"
    }
   ],
   "source": [
    "part = M[2:3, 1:2]"
   ]
  },
  {
   "cell_type": "code",
   "execution_count": 20,
   "metadata": {
    "slideshow": {
     "slide_type": "fragment"
    }
   },
   "outputs": [
    {
     "data": {
      "text/plain": [
       "4"
      ]
     },
     "execution_count": 20,
     "metadata": {},
     "output_type": "execute_result"
    }
   ],
   "source": [
    "part[1, 1]"
   ]
  },
  {
   "cell_type": "code",
   "execution_count": 21,
   "metadata": {
    "slideshow": {
     "slide_type": "subslide"
    }
   },
   "outputs": [
    {
     "data": {
      "text/plain": [
       "10"
      ]
     },
     "execution_count": 21,
     "metadata": {},
     "output_type": "execute_result"
    }
   ],
   "source": [
    "part[1, 1] = 10"
   ]
  },
  {
   "cell_type": "code",
   "execution_count": 22,
   "metadata": {
    "slideshow": {
     "slide_type": "fragment"
    }
   },
   "outputs": [
    {
     "data": {
      "text/plain": [
       "2×2 Array{Int64,2}:\n",
       " 10  5\n",
       "  7  8"
      ]
     },
     "execution_count": 22,
     "metadata": {},
     "output_type": "execute_result"
    }
   ],
   "source": [
    "part"
   ]
  },
  {
   "cell_type": "code",
   "execution_count": 23,
   "metadata": {
    "slideshow": {
     "slide_type": "subslide"
    }
   },
   "outputs": [
    {
     "data": {
      "text/plain": [
       "3×3 Array{Int64,2}:\n",
       " 1  2  3\n",
       " 4  5  6\n",
       " 7  8  9"
      ]
     },
     "execution_count": 23,
     "metadata": {},
     "output_type": "execute_result"
    }
   ],
   "source": [
    "M"
   ]
  },
  {
   "cell_type": "markdown",
   "metadata": {
    "slideshow": {
     "slide_type": "fragment"
    }
   },
   "source": [
    "We see that `M` has *not* been modified: `part` was a **copy** of that part of `M`."
   ]
  },
  {
   "cell_type": "markdown",
   "metadata": {
    "slideshow": {
     "slide_type": "slide"
    }
   },
   "source": [
    "## Views"
   ]
  },
  {
   "cell_type": "markdown",
   "metadata": {
    "slideshow": {
     "slide_type": "-"
    }
   },
   "source": [
    "We often do *not* want a copy, but rather just a reference to the same data, which is called a `view`: "
   ]
  },
  {
   "cell_type": "code",
   "execution_count": 24,
   "metadata": {
    "slideshow": {
     "slide_type": "fragment"
    }
   },
   "outputs": [
    {
     "data": {
      "text/plain": [
       "2×2 SubArray{Int64,2,Array{Int64,2},Tuple{UnitRange{Int64},UnitRange{Int64}},false}:\n",
       " 4  5\n",
       " 7  8"
      ]
     },
     "execution_count": 24,
     "metadata": {},
     "output_type": "execute_result"
    }
   ],
   "source": [
    "V = view(M, 2:3, 1:2)"
   ]
  },
  {
   "cell_type": "code",
   "execution_count": 25,
   "metadata": {
    "slideshow": {
     "slide_type": "fragment"
    }
   },
   "outputs": [
    {
     "data": {
      "text/plain": [
       "SubArray{Int64,2,Array{Int64,2},Tuple{UnitRange{Int64},UnitRange{Int64}},false}"
      ]
     },
     "execution_count": 25,
     "metadata": {},
     "output_type": "execute_result"
    }
   ],
   "source": [
    "typeof(V)"
   ]
  },
  {
   "cell_type": "markdown",
   "metadata": {
    "slideshow": {
     "slide_type": "fragment"
    }
   },
   "source": [
    "Although this type looks complicated, it just contains the necessary information for the object to manipulate correctly the underlying data."
   ]
  },
  {
   "cell_type": "markdown",
   "metadata": {
    "slideshow": {
     "slide_type": "fragment"
    }
   },
   "source": [
    "If we modify `V`, then `M` also gets modified, since it is the same data:"
   ]
  },
  {
   "cell_type": "code",
   "execution_count": 26,
   "metadata": {
    "slideshow": {
     "slide_type": "subslide"
    }
   },
   "outputs": [
    {
     "data": {
      "text/plain": [
       "4"
      ]
     },
     "execution_count": 26,
     "metadata": {},
     "output_type": "execute_result"
    }
   ],
   "source": [
    "V[1, 1]"
   ]
  },
  {
   "cell_type": "code",
   "execution_count": 31,
   "metadata": {
    "slideshow": {
     "slide_type": "fragment"
    }
   },
   "outputs": [
    {
     "data": {
      "text/plain": [
       "100"
      ]
     },
     "execution_count": 31,
     "metadata": {},
     "output_type": "execute_result"
    }
   ],
   "source": [
    "V[1, 1] = 100"
   ]
  },
  {
   "cell_type": "code",
   "execution_count": 28,
   "metadata": {
    "slideshow": {
     "slide_type": "fragment"
    }
   },
   "outputs": [
    {
     "data": {
      "text/plain": [
       "3×3 Array{Int64,2}:\n",
       "   1  2  3\n",
       " 100  5  6\n",
       "   7  8  9"
      ]
     },
     "execution_count": 28,
     "metadata": {},
     "output_type": "execute_result"
    }
   ],
   "source": [
    "M"
   ]
  },
  {
   "cell_type": "code",
   "execution_count": 29,
   "metadata": {
    "slideshow": {
     "slide_type": "slide"
    }
   },
   "outputs": [
    {
     "data": {
      "text/plain": [
       "2×2 SubArray{Int64,2,Array{Int64,2},Tuple{UnitRange{Int64},UnitRange{Int64}},false}:\n",
       " 100  5\n",
       "   7  8"
      ]
     },
     "execution_count": 29,
     "metadata": {},
     "output_type": "execute_result"
    }
   ],
   "source": [
    "V"
   ]
  },
  {
   "cell_type": "code",
   "execution_count": 32,
   "metadata": {
    "slideshow": {
     "slide_type": "fragment"
    }
   },
   "outputs": [
    {
     "data": {
      "text/plain": [
       "true"
      ]
     },
     "execution_count": 32,
     "metadata": {},
     "output_type": "execute_result"
    }
   ],
   "source": [
    "isa(V, AbstractArray)"
   ]
  },
  {
   "cell_type": "code",
   "execution_count": 33,
   "metadata": {
    "slideshow": {
     "slide_type": "fragment"
    }
   },
   "outputs": [
    {
     "data": {
      "text/plain": [
       "24-element Array{Union{DataType, UnionAll},1}:\n",
       " AbstractSparseArray                      \n",
       " Base.LinAlg.AbstractTriangular           \n",
       " Base.LinAlg.HessenbergQ                  \n",
       " Base.LinAlg.LQPackedQ                    \n",
       " Base.LinAlg.QRCompactWYQ                 \n",
       " Base.LinAlg.QRPackedQ                    \n",
       " Base.LinAlg.SVDOperator                  \n",
       " Base.LogicalIndex                        \n",
       " Base.ReshapedArray                       \n",
       " Base.SparseArrays.CHOLMOD.FactorComponent\n",
       " Bidiagonal                               \n",
       " ConjArray                                \n",
       " Core.Inference.Range                     \n",
       " DenseArray                               \n",
       " Diagonal                                 \n",
       " Hermitian                                \n",
       " PermutedDimsArray                        \n",
       " Range                                    \n",
       " RowVector                                \n",
       " SubArray                                 \n",
       " SymTridiagonal                           \n",
       " Symmetric                                \n",
       " Tridiagonal                              \n",
       " ZMQ.Message                              "
      ]
     },
     "execution_count": 33,
     "metadata": {},
     "output_type": "execute_result"
    }
   ],
   "source": [
    "subtypes(AbstractArray) # behave 'like' an Array"
   ]
  },
  {
   "cell_type": "code",
   "execution_count": 34,
   "metadata": {
    "slideshow": {
     "slide_type": "slide"
    }
   },
   "outputs": [
    {
     "data": {
      "text/plain": [
       "3×3 Diagonal{Int64}:\n",
       " 1  ⋅  ⋅\n",
       " ⋅  5  ⋅\n",
       " ⋅  ⋅  9"
      ]
     },
     "execution_count": 34,
     "metadata": {},
     "output_type": "execute_result"
    }
   ],
   "source": [
    "D = Diagonal(M)"
   ]
  },
  {
   "cell_type": "code",
   "execution_count": 35,
   "metadata": {},
   "outputs": [
    {
     "data": {
      "text/plain": [
       "3-element Array{Int64,1}:\n",
       " 1\n",
       " 5\n",
       " 9"
      ]
     },
     "execution_count": 35,
     "metadata": {},
     "output_type": "execute_result"
    }
   ],
   "source": [
    "D.diag"
   ]
  },
  {
   "cell_type": "code",
   "execution_count": null,
   "metadata": {
    "collapsed": true,
    "slideshow": {
     "slide_type": "subslide"
    }
   },
   "outputs": [],
   "source": [
    "@less D * [1,2,3] # multiplication is efficient"
   ]
  },
  {
   "cell_type": "code",
   "execution_count": null,
   "metadata": {
    "collapsed": true
   },
   "outputs": [],
   "source": [
    "@less Symmetric(rand(10,10))' # transpose is a no-op"
   ]
  },
  {
   "cell_type": "markdown",
   "metadata": {},
   "source": [
    "## In-place and vectorized operations: \"`.`\" (\"pointwise\")"
   ]
  },
  {
   "cell_type": "markdown",
   "metadata": {},
   "source": [
    "Suppose we have two matrices and wish to add one to the other:"
   ]
  },
  {
   "cell_type": "code",
   "execution_count": 38,
   "metadata": {
    "collapsed": true
   },
   "outputs": [],
   "source": [
    "A = rand(1000, 1000)\n",
    "B = rand(1000, 1000);"
   ]
  },
  {
   "cell_type": "markdown",
   "metadata": {},
   "source": [
    "Coming from other languages, we might expect to write `A += B`, and indeed this works:"
   ]
  },
  {
   "cell_type": "code",
   "execution_count": 39,
   "metadata": {},
   "outputs": [
    {
     "data": {
      "text/plain": [
       "1000×1000 Array{Float64,2}:\n",
       " 1.58326   0.902894  1.11803   1.32511   …  0.328183  1.04798    0.818282\n",
       " 0.324894  1.27995   0.96932   0.931103     1.11366   1.40532    1.25461 \n",
       " 0.513644  1.86568   1.25478   1.84941      0.901096  0.400251   1.79177 \n",
       " 1.41789   1.1128    1.15146   1.16042      0.866602  0.313769   0.334557\n",
       " 0.381573  1.27973   1.11411   0.337586     0.199087  1.38602    0.840951\n",
       " 1.25939   0.391719  0.45161   1.43326   …  0.329576  1.94963    1.16941 \n",
       " 1.66567   1.19891   1.3936    1.47685      1.7722    1.06815    1.16033 \n",
       " 1.55489   1.21698   1.49082   0.795486     0.693028  0.0626584  0.790415\n",
       " 1.42172   1.22334   1.63587   0.985915     1.08658   0.857472   1.34248 \n",
       " 0.634308  0.75913   1.03617   0.687611     1.0897    0.158631   1.06743 \n",
       " 0.413782  1.73455   1.00016   0.845412  …  0.865779  0.0983797  0.555915\n",
       " 1.65978   0.810061  0.539685  1.29793      0.326749  1.32055    1.12129 \n",
       " 0.648596  0.73555   0.816262  0.857937     0.613586  1.7253     0.680492\n",
       " ⋮                                       ⋱                               \n",
       " 1.01227   0.699457  1.68432   1.44962      0.922974  1.3306     1.27356 \n",
       " 1.517     1.49702   0.907264  1.38079      0.673745  1.13774    1.31142 \n",
       " 1.25279   1.01651   0.655458  0.606897  …  1.0147    0.464253   0.52095 \n",
       " 0.381863  0.861436  0.529234  0.491119     1.35071   1.17755    1.19232 \n",
       " 0.76325   1.05698   0.697062  0.101242     1.76997   0.258026   0.955873\n",
       " 0.554758  0.737326  1.47323   0.347495     1.32884   0.978619   1.23531 \n",
       " 0.433299  0.927851  1.38808   1.8723       0.38275   1.00986    1.01451 \n",
       " 1.53903   1.38461   1.22264   1.35559   …  1.73078   0.817188   0.192127\n",
       " 0.150778  1.17781   0.583656  0.747705     1.61836   1.26736    1.20779 \n",
       " 1.06662   1.27656   1.64006   1.88348      0.253999  0.698243   1.20416 \n",
       " 0.83681   1.34573   0.948334  0.46855      0.681489  0.214433   1.70625 \n",
       " 1.63495   0.490104  0.840732  1.16319      1.67286   0.801009   0.29916 "
      ]
     },
     "execution_count": 39,
     "metadata": {},
     "output_type": "execute_result"
    }
   ],
   "source": [
    "A += B"
   ]
  },
  {
   "cell_type": "markdown",
   "metadata": {},
   "source": [
    "This is just \"syntactic sugar\" (i.e. a cute way of writing) `A = A + B`."
   ]
  },
  {
   "cell_type": "markdown",
   "metadata": {},
   "source": [
    "However, it turns out that this does not do what you think it does, namely \"in-place addition\", in which each element of `A` is updated in place. Rather, it allocates a new temporary object for the result of `A + B`. We can see this:"
   ]
  },
  {
   "cell_type": "code",
   "execution_count": 40,
   "metadata": {},
   "outputs": [
    {
     "name": "stdout",
     "output_type": "stream",
     "text": [
      "  1.897 ms (2 allocations: 7.63 MiB)\n"
     ]
    }
   ],
   "source": [
    "using BenchmarkTools\n",
    "\n",
    "@btime $A += $B;"
   ]
  },
  {
   "cell_type": "markdown",
   "metadata": {},
   "source": [
    "Note the large amount of allocation here (1,000,000 $\\times$ 8 bytes)"
   ]
  },
  {
   "cell_type": "markdown",
   "metadata": {},
   "source": [
    "The in-place behaviour can be obtained using **pointwise operators**:"
   ]
  },
  {
   "cell_type": "code",
   "execution_count": 41,
   "metadata": {},
   "outputs": [
    {
     "data": {
      "text/plain": [
       "1000×1000 Array{Float64,2}:\n",
       " 2.51222   1.13418   1.7866    2.22866   …  0.502663  1.17512   1.01114 \n",
       " 0.614365  1.86981   1.55164   1.02296      2.09711   1.94631   1.85398 \n",
       " 0.914315  2.80202   2.10922   2.71681      1.55704   0.481082  2.69854 \n",
       " 2.1322    1.76054   2.01525   1.89607      1.26202   0.353263  0.536328\n",
       " 0.621026  2.18093   1.3375    0.401366     0.3915    2.04742   1.49617 \n",
       " 1.96535   0.778447  0.896085  2.29987   …  0.516028  2.90181   1.69111 \n",
       " 2.64545   2.08023   2.11098   2.05528      2.60076   1.15739   1.57571 \n",
       " 2.2998    1.4891    2.43913   1.31364      1.16849   0.119663  0.888529\n",
       " 2.15548   1.48822   2.38151   1.60062      1.86153   0.912735  1.75456 \n",
       " 0.68381   0.791657  1.30124   1.28101      1.64307   0.196536  1.39593 \n",
       " 0.788089  2.56191   1.53019   1.35358   …  0.887645  0.134513  0.631759\n",
       " 2.32951   1.19679   1.05331   1.71053      0.416482  1.64487   1.83421 \n",
       " 0.924703  1.11053   1.30928   1.20797      0.971885  2.68529   1.1228  \n",
       " ⋮                                       ⋱                              \n",
       " 1.40188   0.766592  2.5776    1.95919      1.33084   1.88965   1.96406 \n",
       " 2.0725    2.3739    1.75984   2.37898      0.697965  1.62741   2.04993 \n",
       " 1.53108   1.39439   0.869404  1.06587   …  1.22785   0.786506  1.00106 \n",
       " 0.396424  1.12148   0.657979  0.684306     1.99738   1.88524   1.59497 \n",
       " 1.2193    1.43897   1.34914   0.108788     2.66611   0.485551  1.5967  \n",
       " 0.645122  0.987763  2.2621    0.630174     1.79812   1.586     2.03678 \n",
       " 0.544526  0.96878   2.1202    2.84153      0.576207  1.51817   1.95426 \n",
       " 2.19357   2.28163   1.71765   2.30603   …  2.70564   1.60835   0.298805\n",
       " 0.180853  1.84747   1.00912   1.27242      2.39438   1.71314   1.50406 \n",
       " 1.85785   1.99457   2.38964   2.76925      0.277601  1.31285   1.90128 \n",
       " 0.876995  1.76697   1.13929   0.930795     0.818439  0.272646  2.62182 \n",
       " 2.35003   0.937508  1.53221   1.59519      2.37292   1.19289   0.372945"
      ]
     },
     "execution_count": 41,
     "metadata": {},
     "output_type": "execute_result"
    }
   ],
   "source": [
    "A .= A .+ B"
   ]
  },
  {
   "cell_type": "code",
   "execution_count": 42,
   "metadata": {},
   "outputs": [
    {
     "name": "stdout",
     "output_type": "stream",
     "text": [
      "  1.145 ms (4 allocations: 128 bytes)\n"
     ]
    }
   ],
   "source": [
    "@btime A .= A .+ B;"
   ]
  },
  {
   "cell_type": "markdown",
   "metadata": {},
   "source": [
    "Furthermore, we can chain such operations together with no creation of temporaries:"
   ]
  },
  {
   "cell_type": "code",
   "execution_count": 43,
   "metadata": {},
   "outputs": [
    {
     "name": "stdout",
     "output_type": "stream",
     "text": [
      "  3.148 ms (6 allocations: 7.63 MiB)\n"
     ]
    },
    {
     "data": {
      "text/plain": [
       "1000×1000 Array{Float64,2}:\n",
       " 11267.1    3319.4    7280.78   9481.14  …   2967.19    2885.0     3717.93\n",
       "  2961.89   7192.59   6180.02   1321.79      9886.21    6746.01    7879.14\n",
       "  4702.47  11491.9    9921.3    8625.6       7212.27    2225.97   10919.1 \n",
       "  8828.88   8612.2    9196.77   9582.46      4367.92    2705.61    3846.77\n",
       "  2457.31   8904.0    3206.76   2283.58      4179.28    6492.73    7737.02\n",
       "  8787.91   5638.38   5426.33  10041.9   …   3147.2    10864.2     5879.11\n",
       " 11520.6    8831.49   7936.3    7875.73      9467.35    2333.94    5470.02\n",
       "  7408.93   2991.11  10785.5    7387.88      6252.46    2472.93    2167.67\n",
       "  8084.39   3322.5    8832.94   7347.76      8857.07    1292.86    6253.2 \n",
       "  1059.94   1099.24   4491.6    6788.52      7534.56     469.642   3708.27\n",
       "  4138.71   9627.54   5210.2    5355.53  …   2257.63     812.994   2922.63\n",
       "  6672.37   5171.75   7262.18   4144.47      2610.44    4643.13    8059.28\n",
       "  4048.6    5278.8    7010.47   4478.81      3731.11   10542.7     6174.76\n",
       "     ⋮                                   ⋱                                \n",
       "  4896.03   1477.66  10888.1    6717.79      5577.69    6977.97    7863.14\n",
       "  7667.77   9725.43   8492.1   10012.0       1432.5     5845.79    7203.48\n",
       "  2828.31   4464.01   2703.42   4914.24  …   3344.26    4314.16    5617.17\n",
       "  1981.78   3450.16   2657.14   4228.07      7907.85    6948.1     5732.66\n",
       "  4998.48   4358.45   7748.41   1180.54      9244.76    4589.87    7529.14\n",
       "  2324.44   4082.33   7790.44   3509.66      6936.5     7344.18    9904.96\n",
       "  2878.78   1079.87   8076.86  11313.9       2122.16    6813.18    9580.37\n",
       "  6674.58   9634.57   5148.3   11294.5   …  11531.2     8048.93    1237.57\n",
       "   820.43   7155.26   5409.16   5673.9       9655.12    4657.21    4557.59\n",
       "  9116.61   7699.57   8221.75   9223.51       492.331   6257.72    8746.99\n",
       "  2579.76   4224.87   1975.18   6398.14      2395.24    2808.43    9322.45\n",
       "  7941.91   6578.01   8149.06   5980.09      8849.55    4049.9     1661.63"
      ]
     },
     "execution_count": 43,
     "metadata": {},
     "output_type": "execute_result"
    }
   ],
   "source": [
    "C = rand(1000, 1000)\n",
    "\n",
    "@btime A .+= B + C  # allocates"
   ]
  },
  {
   "cell_type": "code",
   "execution_count": 44,
   "metadata": {},
   "outputs": [
    {
     "name": "stdout",
     "output_type": "stream",
     "text": [
      "  1.605 ms (4 allocations: 160 bytes)\n"
     ]
    },
    {
     "data": {
      "text/plain": [
       "1000×1000 Array{Float64,2}:\n",
       " 21763.4    7136.61  12894.3   16227.4   …   6932.97   7467.06    9127.33\n",
       "  4946.28  13946.5   10690.7    2844.69     16214.1   13290.0    16079.5 \n",
       "  8861.73  22387.9   18540.2   13984.6      12881.7    6057.97   20979.1 \n",
       " 17286.5   17702.8   15957.7   19441.5       7832.3    8369.74    9406.73\n",
       "  4115.43  14338.1    6894.68   6542.69     10679.1   10381.3    14648.9 \n",
       " 17292.9   12230.1   10532.2   18734.9   …   7329.9   20017.7    10722.2 \n",
       " 21740.8   14436.1   14249.7   16426.1      17464.3    6273.51   11174.8 \n",
       " 12014.5    5339.0   19822.2   15828.6      12763.3    7292.5     5566.18\n",
       " 14464.2    6571.01  16763.3   14040.7      16343.3    3374.66   13849.6 \n",
       "  2694.99   3116.76  10477.4   12536.4      15715.4     920.915   6771.87\n",
       "  7428.36  18020.6    8343.34   9203.85  …   7172.4    2099.47    8472.42\n",
       " 10838.6   10669.0   15486.4    6789.81      7191.25   9968.79   14737.8 \n",
       "  8808.0   11228.3   14997.0    8980.22      6339.11  18809.3    13071.2 \n",
       "     ⋮                                   ⋱                               \n",
       "  9697.25   3789.66  21106.8   13733.5      11664.0   13756.5    14465.5 \n",
       " 16123.2   17500.4   13794.2   16381.8       4373.55  11159.2    11437.5 \n",
       "  4688.84   8453.53   5374.5    8571.26  …   7530.01   8906.21   10559.9 \n",
       "  6376.26   7081.59   6678.94  10828.3      15365.3   11111.8    12270.8 \n",
       "  8902.67   8030.06  14741.2    3817.9      15562.9   11450.6    14200.1 \n",
       "  6223.63   9360.12  12537.6    6894.1      15155.0   14154.2    19392.7 \n",
       "  7720.22   2907.76  14467.1   21229.7       3782.39  14075.0    15940.0 \n",
       " 11106.5   16852.2    8735.58  21487.7   …  21860.0   13364.1     2310.94\n",
       "  2227.94  12455.7   10800.0    9985.34     18992.3    7936.22   10163.3 \n",
       " 16932.4   13447.5   14652.1   15669.2       1241.48  10398.3    17307.6 \n",
       "  7935.89   6910.59   3332.43  13477.3       5662.35   8393.25   15490.1 \n",
       " 14307.1   14332.8   15405.8   12595.8      17599.2    6829.55    4291.87"
      ]
     },
     "execution_count": 44,
     "metadata": {},
     "output_type": "execute_result"
    }
   ],
   "source": [
    "@btime A .+= B .+ C  # does not allocate"
   ]
  },
  {
   "cell_type": "markdown",
   "metadata": {},
   "source": [
    "See [this blog post by Steven Johnson](https://julialang.org/blog/2017/01/moredots) for more details."
   ]
  },
  {
   "cell_type": "markdown",
   "metadata": {},
   "source": [
    "## Modules"
   ]
  },
  {
   "cell_type": "code",
   "execution_count": 45,
   "metadata": {},
   "outputs": [
    {
     "data": {
      "text/plain": [
       "Mod"
      ]
     },
     "execution_count": 45,
     "metadata": {},
     "output_type": "execute_result"
    }
   ],
   "source": [
    "module Mod\n",
    "export x # what module exposes for the world\n",
    "    x = 1\n",
    "    y = 2 # hidden variable\n",
    "# load standard packages this way\n",
    "end # M"
   ]
  },
  {
   "cell_type": "code",
   "execution_count": 46,
   "metadata": {
    "collapsed": true
   },
   "outputs": [],
   "source": [
    "# load standard packages this way\n",
    "using Mod"
   ]
  },
  {
   "cell_type": "code",
   "execution_count": 47,
   "metadata": {},
   "outputs": [
    {
     "data": {
      "text/plain": [
       "1"
      ]
     },
     "execution_count": 47,
     "metadata": {},
     "output_type": "execute_result"
    }
   ],
   "source": [
    "x # import all exported variables"
   ]
  },
  {
   "cell_type": "code",
   "execution_count": 48,
   "metadata": {},
   "outputs": [
    {
     "data": {
      "text/plain": [
       "2"
      ]
     },
     "execution_count": 48,
     "metadata": {},
     "output_type": "execute_result"
    }
   ],
   "source": [
    "Mod.y # direct variable access possible"
   ]
  },
  {
   "cell_type": "markdown",
   "metadata": {},
   "source": [
    "## Efficient small matrices and vectors"
   ]
  },
  {
   "cell_type": "markdown",
   "metadata": {},
   "source": [
    "For small matrices and vectors, the generic vector and matrix code is too slow, since the type does not contain the information on the number of elements contained in the array, so that generic loops are used.\n",
    "\n",
    "The `StaticArrays.jl` package fixes this problem by unrolling operations for small arrays."
   ]
  },
  {
   "cell_type": "code",
   "execution_count": 49,
   "metadata": {
    "collapsed": true
   },
   "outputs": [],
   "source": [
    "# Pkg.add(\"StaticArrays\")\n",
    "using StaticArrays, BenchmarkTools"
   ]
  },
  {
   "cell_type": "code",
   "execution_count": 50,
   "metadata": {},
   "outputs": [
    {
     "data": {
      "text/plain": [
       "bench (generic function with 1 method)"
      ]
     },
     "execution_count": 50,
     "metadata": {},
     "output_type": "execute_result"
    }
   ],
   "source": [
    "function bench()\n",
    "    x = SVector(1, 2)\n",
    "    y = [1, 2]\n",
    "    \n",
    "    @btime $x + $x\n",
    "    @btime $y + $y\n",
    "end"
   ]
  },
  {
   "cell_type": "code",
   "execution_count": 51,
   "metadata": {},
   "outputs": [
    {
     "name": "stdout",
     "output_type": "stream",
     "text": [
      "  2.171 ns (0 allocations: 0 bytes)\n",
      "  36.141 ns (1 allocation: 96 bytes)\n"
     ]
    },
    {
     "data": {
      "text/plain": [
       "2-element Array{Int64,1}:\n",
       " 2\n",
       " 4"
      ]
     },
     "execution_count": 51,
     "metadata": {},
     "output_type": "execute_result"
    }
   ],
   "source": [
    "bench()"
   ]
  },
  {
   "cell_type": "code",
   "execution_count": 56,
   "metadata": {},
   "outputs": [
    {
     "data": {
      "text/plain": [
       "CodeInfo(:(begin \n",
       "        nothing\n",
       "        nothing\n",
       "        return (StaticArrays.map)(StaticArrays.+, a, b)\n",
       "    end))"
      ]
     },
     "execution_count": 56,
     "metadata": {},
     "output_type": "execute_result"
    }
   ],
   "source": [
    "x = SVector(1, 2)\n",
    "@code_lowered x + x"
   ]
  },
  {
   "cell_type": "code",
   "execution_count": 53,
   "metadata": {},
   "outputs": [
    {
     "data": {
      "text/plain": [
       "CodeInfo(:(begin \n",
       "        SSAValue(4) = a\n",
       "        SSAValue(5) = b\n",
       "        $(Expr(:inbounds, false))\n",
       "        # meta: location /home/matias/.julia/v0.6/StaticArrays/src/mapreduce.jl map 10\n",
       "        SSAValue(2) = SSAValue(4)\n",
       "        SSAValue(3) = SSAValue(5)\n",
       "        # meta: location /home/matias/.julia/v0.6/StaticArrays/src/mapreduce.jl _map 14\n",
       "        # meta: location /home/matias/.julia/v0.6/StaticArrays/src/mapreduce.jl # line 23:\n",
       "        $(Expr(:inbounds, true))\n",
       "        #temp# = $(Expr(:new, SVector{2,Int64}, :((StaticArrays.tuple)((Base.add_int)((Base.getfield)((Core.getfield)(SSAValue(2), :data)::Tuple{Int64,Int64}, 1)::Int64, (Base.getfield)((Core.getfield)(SSAValue(3), :data)::Tuple{Int64,Int64}, 1)::Int64)::Int64, (Base.add_int)((Base.getfield)((Core.getfield)(SSAValue(2), :data)::Tuple{Int64,Int64}, 2)::Int64, (Base.getfield)((Core.getfield)(SSAValue(3), :data)::Tuple{Int64,Int64}, 2)::Int64)::Int64)::Tuple{Int64,Int64})))\n",
       "        goto 15\n",
       "        # meta: pop location\n",
       "        $(Expr(:inbounds, :pop))\n",
       "        15: \n",
       "        # meta: pop location\n",
       "        # meta: pop location\n",
       "        $(Expr(:inbounds, :pop))\n",
       "        return #temp#\n",
       "    end))=>SVector{2,Int64}"
      ]
     },
     "execution_count": 53,
     "metadata": {},
     "output_type": "execute_result"
    }
   ],
   "source": [
    "@code_typed x + x"
   ]
  },
  {
   "cell_type": "code",
   "execution_count": 54,
   "metadata": {},
   "outputs": [
    {
     "name": "stdout",
     "output_type": "stream",
     "text": [
      "\n",
      "define void @\"julia_+_62197\"(%SArray* noalias nocapture sret, %SArray* nocapture readonly dereferenceable(16), %SArray* nocapture readonly dereferenceable(16)) #0 !dbg !5 {\n",
      "top:\n",
      "  %3 = getelementptr inbounds %SArray, %SArray* %1, i64 0, i32 0, i64 0\n",
      "  %4 = getelementptr inbounds %SArray, %SArray* %2, i64 0, i32 0, i64 0\n",
      "  %5 = load i64, i64* %3, align 8\n",
      "  %6 = load i64, i64* %4, align 8\n",
      "  %7 = add i64 %6, %5\n",
      "  %8 = getelementptr inbounds %SArray, %SArray* %1, i64 0, i32 0, i64 1\n",
      "  %9 = getelementptr inbounds %SArray, %SArray* %2, i64 0, i32 0, i64 1\n",
      "  %10 = load i64, i64* %8, align 8\n",
      "  %11 = load i64, i64* %9, align 8\n",
      "  %12 = add i64 %11, %10\n",
      "  %\"#temp#.sroa.0.sroa.0.0.#temp#.sroa.0.0..sroa_cast1.sroa_idx\" = getelementptr inbounds %SArray, %SArray* %0, i64 0, i32 0, i64 0\n",
      "  store i64 %7, i64* %\"#temp#.sroa.0.sroa.0.0.#temp#.sroa.0.0..sroa_cast1.sroa_idx\", align 8\n",
      "  %\"#temp#.sroa.0.sroa.2.0.#temp#.sroa.0.0..sroa_cast1.sroa_idx7\" = getelementptr inbounds %SArray, %SArray* %0, i64 0, i32 0, i64 1\n",
      "  store i64 %12, i64* %\"#temp#.sroa.0.sroa.2.0.#temp#.sroa.0.0..sroa_cast1.sroa_idx7\", align 8\n",
      "  ret void\n",
      "}\n"
     ]
    }
   ],
   "source": [
    "@code_llvm x + x"
   ]
  },
  {
   "cell_type": "code",
   "execution_count": 55,
   "metadata": {},
   "outputs": [
    {
     "name": "stdout",
     "output_type": "stream",
     "text": [
      "\t.text\n",
      "Filename: linalg.jl\n",
      "\tpushq\t%rbp\n",
      "\tmovq\t%rsp, %rbp\n",
      "Source line: 23\n",
      "\tmovq\t(%rdx), %rax\n",
      "\tmovq\t8(%rdx), %rcx\n",
      "\taddq\t(%rsi), %rax\n",
      "\taddq\t8(%rsi), %rcx\n",
      "Source line: 10\n",
      "\tmovq\t%rax, (%rdi)\n",
      "\tmovq\t%rcx, 8(%rdi)\n",
      "\tmovq\t%rdi, %rax\n",
      "\tpopq\t%rbp\n",
      "\tretq\n",
      "\tnop\n"
     ]
    }
   ],
   "source": [
    "@code_native x + x"
   ]
  },
  {
   "cell_type": "code",
   "execution_count": 57,
   "metadata": {},
   "outputs": [
    {
     "name": "stdout",
     "output_type": "stream",
     "text": [
      "\t.text\n",
      "Filename: arraymath.jl\n",
      "\tpushq\t%rbp\n",
      "\tmovq\t%rsp, %rbp\n",
      "\tpushq\t%r15\n",
      "\tpushq\t%r14\n",
      "\tpushq\t%r12\n",
      "\tpushq\t%rbx\n",
      "\tsubq\t$64, %rsp\n",
      "\tmovq\t%rsi, %r15\n",
      "\tmovq\t%rdi, %r14\n",
      "\tmovq\t%fs:0, %r12\n",
      "\taddq\t$-10888, %r12           # imm = 0xD578\n",
      "\tpxor\t%xmm0, %xmm0\n",
      "\tmovdqu\t%xmm0, -80(%rbp)\n",
      "\tmovq\t$4, -96(%rbp)\n",
      "\tmovq\t(%r12), %rax\n",
      "\tmovq\t%rax, -88(%rbp)\n",
      "\tleaq\t-96(%rbp), %rax\n",
      "\tmovq\t%rax, (%r12)\n",
      "Source line: 64\n",
      "\tmovq\t24(%r14), %rax\n",
      "Source line: 64\n",
      "\tmovq\t24(%r15), %rcx\n",
      "\txorl\t%ebx, %ebx\n",
      "Source line: 37\n",
      "\ttestq\t%rax, %rax\n",
      "\tcmovsq\t%rbx, %rax\n",
      "\tmovq\t%rax, -40(%rbp)\n",
      "\ttestq\t%rcx, %rcx\n",
      "\tcmovsq\t%rbx, %rcx\n",
      "\tmovq\t%rcx, -48(%rbp)\n",
      "\tmovabsq\t$promote_shape, %rax\n",
      "\tleaq\t-40(%rbp), %rdi\n",
      "\tleaq\t-48(%rbp), %rsi\n",
      "\tcallq\t*%rax\n",
      "Source line: 64\n",
      "\tmovq\t24(%r14), %rax\n",
      "Source line: 64\n",
      "\tmovq\t24(%r15), %rcx\n",
      "Source line: 63\n",
      "\ttestq\t%rax, %rax\n",
      "\tcmovsq\t%rbx, %rax\n",
      "\tmovq\t%rax, -56(%rbp)\n",
      "\ttestq\t%rcx, %rcx\n",
      "\tcmovsq\t%rbx, %rcx\n",
      "\tmovq\t%rcx, -64(%rbp)\n",
      "\tmovabsq\t$_bcs1, %rax\n",
      "\tleaq\t-56(%rbp), %rdi\n",
      "\tleaq\t-64(%rbp), %rsi\n",
      "\tcallq\t*%rax\n",
      "\tmovq\t%rax, %rbx\n",
      "Source line: 266\n",
      "\tmovabsq\t$140590865402992, %rdi  # imm = 0x7FDDDC974C70\n",
      "\tleaq\t178980480(%rdi), %rax\n",
      "\tmovq\t%rbx, %rsi\n",
      "\tcallq\t*%rax\n",
      "\tmovq\t%rax, -80(%rbp)\n",
      "Source line: 68\n",
      "\ttestq\t%rbx, %rbx\n",
      "\tjle\tL822\n",
      "Source line: 151\n",
      "\tmovq\t(%r15), %r10\n",
      "Source line: 64\n",
      "\tmovq\t24(%r15), %rcx\n",
      "\txorl\t%edx, %edx\n",
      "Source line: 111\n",
      "\ttestq\t%rcx, %rcx\n",
      "\tcmovsq\t%rdx, %rcx\n",
      "Source line: 151\n",
      "\tmovq\t(%r14), %r11\n",
      "Source line: 64\n",
      "\tmovq\t24(%r14), %rsi\n",
      "Source line: 111\n",
      "\ttestq\t%rsi, %rsi\n",
      "\tcmovsq\t%rdx, %rsi\n",
      "Source line: 126\n",
      "\tcmpq\t%rsi, %rbx\n",
      "Source line: 247\n",
      "\tmovq\t(%rax), %r8\n",
      "\tjne\tL415\n",
      "\tcmpq\t%rcx, %rbx\n",
      "\tjne\tL571\n",
      "\txorl\t%esi, %esi\n",
      "Source line: 151\n",
      "\tcmpq\t$4, %rbx\n",
      "\tjb\tL369\n",
      "\txorl\t%esi, %esi\n",
      "\tmovq\t%rbx, %r9\n",
      "\tandq\t$-4, %r9\n",
      "\tje\tL369\n",
      "\tleaq\t16(%r11), %rsi\n",
      "\tleaq\t16(%r10), %rdi\n",
      "\tleaq\t16(%r8), %rcx\n",
      "Source line: 74\n",
      "\tmovq\t%r9, %rdx\n",
      "\tnopw\t(%rax,%rax)\n",
      "Source line: 151\n",
      "L304:\n",
      "\tmovdqu\t-16(%rsi), %xmm0\n",
      "\tmovdqu\t(%rsi), %xmm1\n",
      "\tmovdqu\t-16(%rdi), %xmm2\n",
      "\tmovdqu\t(%rdi), %xmm3\n",
      "Source line: 153\n",
      "\tpaddq\t%xmm0, %xmm2\n",
      "\tpaddq\t%xmm1, %xmm3\n",
      "Source line: 247\n",
      "\tmovdqu\t%xmm2, -16(%rcx)\n",
      "\tmovdqu\t%xmm3, (%rcx)\n",
      "Source line: 151\n",
      "\taddq\t$32, %rsi\n",
      "\taddq\t$32, %rdi\n",
      "\taddq\t$32, %rcx\n",
      "\taddq\t$-4, %rdx\n",
      "\tjne\tL304\n",
      "\tcmpq\t%r9, %rbx\n",
      "\tmovq\t%r9, %rsi\n",
      "\tje\tL818\n",
      "L369:\n",
      "\tleaq\t(%r10,%rsi,8), %rcx\n",
      "\tsubq\t%rsi, %rbx\n",
      "\tleaq\t(%r8,%rsi,8), %rdx\n",
      "\tleaq\t(%r11,%rsi,8), %rsi\n",
      "L384:\n",
      "\tmovq\t(%rcx), %rdi\n",
      "Source line: 153\n",
      "\taddq\t(%rsi), %rdi\n",
      "Source line: 247\n",
      "\tmovq\t%rdi, (%rdx)\n",
      "Source line: 71\n",
      "\taddq\t$8, %rcx\n",
      "\taddq\t$8, %rdx\n",
      "\taddq\t$8, %rsi\n",
      "\tdecq\t%rbx\n",
      "\tjne\tL384\n",
      "\tjmp\tL818\n",
      "L415:\n",
      "\txorl\t%edx, %edx\n",
      "\tcmpq\t%rcx, %rbx\n",
      "\tjne\tL712\n",
      "Source line: 151\n",
      "\tcmpq\t$4, %rbx\n",
      "\tjb\tL526\n",
      "\txorl\t%edx, %edx\n",
      "\tmovq\t%rbx, %rdi\n",
      "\tandq\t$-4, %rdi\n",
      "\tje\tL526\n",
      "\tleaq\t16(%r10), %rcx\n",
      "\tleaq\t16(%r8), %rdx\n",
      "Source line: 74\n",
      "\tmovq\t%rdi, %rsi\n",
      "\tnopw\t%cs:(%rax,%rax)\n",
      "Source line: 151\n",
      "L464:\n",
      "\tmovq\t(%r11), %xmm0           # xmm0 = mem[0],zero\n",
      "\tpshufd\t$68, %xmm0, %xmm0       # xmm0 = xmm0[0,1,0,1]\n",
      "\tmovdqu\t-16(%rcx), %xmm1\n",
      "\tmovdqu\t(%rcx), %xmm2\n",
      "Source line: 153\n",
      "\tpaddq\t%xmm0, %xmm1\n",
      "\tpaddq\t%xmm0, %xmm2\n",
      "Source line: 247\n",
      "\tmovdqu\t%xmm1, -16(%rdx)\n",
      "\tmovdqu\t%xmm2, (%rdx)\n",
      "Source line: 151\n",
      "\taddq\t$32, %rcx\n",
      "\taddq\t$32, %rdx\n",
      "\taddq\t$-4, %rsi\n",
      "\tjne\tL464\n",
      "\tcmpq\t%rdi, %rbx\n",
      "\tmovq\t%rdi, %rdx\n",
      "\tje\tL818\n",
      "L526:\n",
      "\tleaq\t(%r10,%rdx,8), %rcx\n",
      "\tsubq\t%rdx, %rbx\n",
      "\tleaq\t(%r8,%rdx,8), %rdx\n",
      "\tnopl\t(%rax)\n",
      "L544:\n",
      "\tmovq\t(%rcx), %rsi\n",
      "Source line: 153\n",
      "\taddq\t(%r11), %rsi\n",
      "Source line: 247\n",
      "\tmovq\t%rsi, (%rdx)\n",
      "Source line: 71\n",
      "\taddq\t$8, %rcx\n",
      "\taddq\t$8, %rdx\n",
      "\tdecq\t%rbx\n",
      "\tjne\tL544\n",
      "\tjmp\tL818\n",
      "L571:\n",
      "\txorl\t%edx, %edx\n",
      "Source line: 151\n",
      "\tcmpq\t$4, %rbx\n",
      "\tjb\tL670\n",
      "\txorl\t%edx, %edx\n",
      "\tmovq\t%rbx, %rdi\n",
      "\tandq\t$-4, %rdi\n",
      "\tje\tL670\n",
      "\tleaq\t16(%r11), %rcx\n",
      "\tleaq\t16(%r8), %rdx\n",
      "Source line: 74\n",
      "\tmovq\t%rdi, %rsi\n",
      "\tnopl\t(%rax)\n",
      "Source line: 151\n",
      "L608:\n",
      "\tmovdqu\t-16(%rcx), %xmm0\n",
      "\tmovdqu\t(%rcx), %xmm1\n",
      "\tmovq\t(%r10), %xmm2           # xmm2 = mem[0],zero\n",
      "\tpshufd\t$68, %xmm2, %xmm2       # xmm2 = xmm2[0,1,0,1]\n",
      "Source line: 153\n",
      "\tpaddq\t%xmm2, %xmm0\n",
      "\tpaddq\t%xmm2, %xmm1\n",
      "Source line: 247\n",
      "\tmovdqu\t%xmm0, -16(%rdx)\n",
      "\tmovdqu\t%xmm1, (%rdx)\n",
      "Source line: 151\n",
      "\taddq\t$32, %rcx\n",
      "\taddq\t$32, %rdx\n",
      "\taddq\t$-4, %rsi\n",
      "\tjne\tL608\n",
      "\tcmpq\t%rdi, %rbx\n",
      "\tmovq\t%rdi, %rdx\n",
      "\tje\tL818\n",
      "L670:\n",
      "\tleaq\t(%r11,%rdx,8), %rcx\n",
      "\tsubq\t%rdx, %rbx\n",
      "\tleaq\t(%r8,%rdx,8), %rdx\n",
      "\tnopl\t(%rax)\n",
      "L688:\n",
      "\tmovq\t(%r10), %rsi\n",
      "Source line: 153\n",
      "\taddq\t(%rcx), %rsi\n",
      "Source line: 247\n",
      "\tmovq\t%rsi, (%rdx)\n",
      "Source line: 71\n",
      "\taddq\t$8, %rcx\n",
      "\taddq\t$8, %rdx\n",
      "\tdecq\t%rbx\n",
      "\tjne\tL688\n",
      "\tjmp\tL818\n",
      "Source line: 151\n",
      "L712:\n",
      "\tcmpq\t$4, %rbx\n",
      "\tjb\tL787\n",
      "\txorl\t%edx, %edx\n",
      "\tmovq\t%rbx, %rcx\n",
      "\tandq\t$-4, %rcx\n",
      "\tje\tL787\n",
      "\tleaq\t16(%r8), %rdx\n",
      "Source line: 74\n",
      "\tmovq\t%rcx, %rsi\n",
      "Source line: 151\n",
      "L736:\n",
      "\tmovq\t(%r11), %xmm0           # xmm0 = mem[0],zero\n",
      "\tpshufd\t$68, %xmm0, %xmm0       # xmm0 = xmm0[0,1,0,1]\n",
      "\tmovq\t(%r10), %xmm1           # xmm1 = mem[0],zero\n",
      "\tpshufd\t$68, %xmm1, %xmm1       # xmm1 = xmm1[0,1,0,1]\n",
      "Source line: 153\n",
      "\tpaddq\t%xmm0, %xmm1\n",
      "Source line: 247\n",
      "\tmovdqu\t%xmm1, -16(%rdx)\n",
      "\tmovdqu\t%xmm1, (%rdx)\n",
      "Source line: 151\n",
      "\taddq\t$32, %rdx\n",
      "\taddq\t$-4, %rsi\n",
      "\tjne\tL736\n",
      "\tcmpq\t%rcx, %rbx\n",
      "\tmovq\t%rcx, %rdx\n",
      "\tje\tL818\n",
      "L787:\n",
      "\tsubq\t%rdx, %rbx\n",
      "\tleaq\t(%r8,%rdx,8), %rcx\n",
      "\tnopw\t(%rax,%rax)\n",
      "L800:\n",
      "\tmovq\t(%r10), %rdx\n",
      "Source line: 153\n",
      "\taddq\t(%r11), %rdx\n",
      "Source line: 247\n",
      "\tmovq\t%rdx, (%rcx)\n",
      "Source line: 71\n",
      "\taddq\t$8, %rcx\n",
      "\tdecq\t%rbx\n",
      "\tjne\tL800\n",
      "Source line: 247\n",
      "L818:\n",
      "\tmovq\t%rax, -72(%rbp)\n",
      "Source line: 38\n",
      "L822:\n",
      "\tmovq\t-88(%rbp), %rcx\n",
      "\tmovq\t%rcx, (%r12)\n",
      "\taddq\t$64, %rsp\n",
      "\tpopq\t%rbx\n",
      "\tpopq\t%r12\n",
      "\tpopq\t%r14\n",
      "\tpopq\t%r15\n",
      "\tpopq\t%rbp\n",
      "\tretq\n",
      "\tnopl\t(%rax,%rax)\n"
     ]
    }
   ],
   "source": [
    "y = [1, 2]\n",
    "@code_native y + y"
   ]
  },
  {
   "cell_type": "markdown",
   "metadata": {},
   "source": [
    "## Simulation of Data"
   ]
  },
  {
   "cell_type": "code",
   "execution_count": 58,
   "metadata": {
    "collapsed": true
   },
   "outputs": [],
   "source": [
    "using Distributions\n",
    "using StatsBase"
   ]
  },
  {
   "cell_type": "code",
   "execution_count": 60,
   "metadata": {
    "collapsed": true
   },
   "outputs": [],
   "source": [
    "n = 10 #number of observations\n",
    "k = 15    #number of covariates\n",
    "\n",
    "varBeta = 0.1\n",
    "varRes  = 1.0\n",
    "\n",
    "x = rand([0,1,2],(n,k))\n",
    "X = [ones(n) x]\n",
    "\n",
    "betaTrue = [1, (randn(k)*sqrt(varBeta))...]\n",
    "y = X*betaTrue .+ randn(n)*sqrt(varRes);"
   ]
  },
  {
   "cell_type": "markdown",
   "metadata": {},
   "source": [
    "## MME"
   ]
  },
  {
   "cell_type": "code",
   "execution_count": 61,
   "metadata": {
    "scrolled": false
   },
   "outputs": [
    {
     "data": {
      "text/plain": [
       "16-element Array{Float64,1}:\n",
       " -0.0485241 \n",
       " -0.12028   \n",
       "  0.166474  \n",
       "  0.185464  \n",
       "  0.0412082 \n",
       "  0.141487  \n",
       " -0.0626514 \n",
       " -0.00500923\n",
       " -0.0799967 \n",
       "  0.0161724 \n",
       "  0.145735  \n",
       "  0.0245838 \n",
       " -0.179124  \n",
       " -0.0512669 \n",
       " -0.107334  \n",
       "  0.0250157 "
      ]
     },
     "execution_count": 61,
     "metadata": {},
     "output_type": "execute_result"
    }
   ],
   "source": [
    "λ=varRes/varBeta\n",
    "d=speye(k+1)\n",
    "d[1,1]=0\n",
    "lhs=X'X+d*λ\n",
    "rhs=X'y\n",
    "sol=lhs\\rhs"
   ]
  },
  {
   "cell_type": "markdown",
   "metadata": {
    "slideshow": {
     "slide_type": "slide"
    }
   },
   "source": [
    "## Random walk example"
   ]
  },
  {
   "cell_type": "markdown",
   "metadata": {
    "slideshow": {
     "slide_type": "fragment"
    }
   },
   "source": [
    "An important model in science (biology, chemistry, physics, etc.) is Brownian motion, or random walk, a model of a molecule moving in a medium."
   ]
  },
  {
   "cell_type": "markdown",
   "metadata": {
    "slideshow": {
     "slide_type": "fragment"
    }
   },
   "source": [
    "The simplest model we can make is a particle jumping at random on the integers. We save the list of consecutive positions in an array."
   ]
  },
  {
   "cell_type": "markdown",
   "metadata": {
    "slideshow": {
     "slide_type": "fragment"
    }
   },
   "source": [
    "We wrap the code in a function in order to make it more general (e.g. to be able to change the number of steps). It turns out that this also makes it (much) more efficient in Julia:"
   ]
  },
  {
   "cell_type": "code",
   "execution_count": 62,
   "metadata": {
    "slideshow": {
     "slide_type": "slide"
    }
   },
   "outputs": [
    {
     "data": {
      "text/plain": [
       "walk"
      ]
     },
     "execution_count": 62,
     "metadata": {},
     "output_type": "execute_result"
    }
   ],
   "source": [
    "\"\"\"\n",
    "    walk(T)\n",
    "\n",
    "Simulate a simple random walk up to time `T`.\n",
    "Returns the trajectory as a `Vector`.\n",
    "\"\"\"\n",
    "function walk(T)\n",
    "    x = 0  # position\n",
    "    trajectory = [x]  # initialise vector\n",
    "    for t in 1:T  # range\n",
    "        if rand() < 0.5\n",
    "            x += 1       # equivalent to `x = x + 1`, i.e. modifies the value of x\n",
    "        else\n",
    "            x -= 1\n",
    "        end        \n",
    "        push!(trajectory, x)  # add the value of `x` to the Vector `trajectory`\n",
    "    end    \n",
    "    return trajectory\n",
    "end"
   ]
  },
  {
   "cell_type": "code",
   "execution_count": 3,
   "metadata": {
    "slideshow": {
     "slide_type": "slide"
    }
   },
   "outputs": [
    {
     "name": "stdout",
     "output_type": "stream",
     "text": [
      "search: \u001b[1mw\u001b[22m\u001b[1ma\u001b[22m\u001b[1ml\u001b[22m\u001b[1mk\u001b[22mdir sho\u001b[1mw\u001b[22m\u001b[1ma\u001b[22m\u001b[1ml\u001b[22ml ro\u001b[1mw\u001b[22mv\u001b[1ma\u001b[22m\u001b[1ml\u001b[22ms is\u001b[1mw\u001b[22mrit\u001b[1ma\u001b[22mb\u001b[1ml\u001b[22me mime\u001b[1mw\u001b[22mrit\u001b[1ma\u001b[22mb\u001b[1ml\u001b[22me \u001b[1mw\u001b[22mhiteb\u001b[1ma\u001b[22m\u001b[1ml\u001b[22mance \u001b[1mw\u001b[22m\u001b[1ma\u001b[22mtch_fi\u001b[1ml\u001b[22me\n",
      "\n"
     ]
    },
    {
     "data": {
      "text/markdown": [
       "```\n",
       "walk(T)\n",
       "```\n",
       "\n",
       "Simulate a simple random walk up to time `T`. Returns the trajectory as a `Vector`.\n"
      ],
      "text/plain": [
       "```\n",
       "walk(T)\n",
       "```\n",
       "\n",
       "Simulate a simple random walk up to time `T`. Returns the trajectory as a `Vector`.\n"
      ]
     },
     "execution_count": 3,
     "metadata": {},
     "output_type": "execute_result"
    }
   ],
   "source": [
    "?walk"
   ]
  },
  {
   "cell_type": "markdown",
   "metadata": {
    "slideshow": {
     "slide_type": "fragment"
    }
   },
   "source": [
    "We call the function and give the calculated data a name:"
   ]
  },
  {
   "cell_type": "code",
   "execution_count": 4,
   "metadata": {},
   "outputs": [
    {
     "data": {
      "text/plain": [
       "11-element Array{Int64,1}:\n",
       "  0\n",
       " -1\n",
       " -2\n",
       " -1\n",
       " -2\n",
       " -1\n",
       " -2\n",
       " -3\n",
       " -4\n",
       " -3\n",
       " -4"
      ]
     },
     "execution_count": 4,
     "metadata": {},
     "output_type": "execute_result"
    }
   ],
   "source": [
    "traj = walk(10)\n",
    "traj"
   ]
  },
  {
   "cell_type": "markdown",
   "metadata": {
    "slideshow": {
     "slide_type": "subslide"
    }
   },
   "source": [
    "We can use `show(traj)` to use less vertical space:"
   ]
  },
  {
   "cell_type": "code",
   "execution_count": 5,
   "metadata": {},
   "outputs": [
    {
     "name": "stdout",
     "output_type": "stream",
     "text": [
      "[0, -1, -2, -1, -2, -1, -2, -3, -4, -3, -4]"
     ]
    }
   ],
   "source": [
    "show(traj)"
   ]
  },
  {
   "cell_type": "markdown",
   "metadata": {
    "slideshow": {
     "slide_type": "slide"
    }
   },
   "source": [
    "## Graphic output"
   ]
  },
  {
   "cell_type": "markdown",
   "metadata": {
    "slideshow": {
     "slide_type": "fragment"
    }
   },
   "source": [
    "- Many Packages\n",
    "    - PyPlot\n",
    "    - GR\n",
    "    - PlotlyJs\n",
    "    - PGFPlots\n",
    "    - UnicodePlots"
   ]
  },
  {
   "cell_type": "markdown",
   "metadata": {
    "slideshow": {
     "slide_type": "fragment"
    }
   },
   "source": [
    "- A MetaPackage: Plots.jl"
   ]
  },
  {
   "cell_type": "markdown",
   "metadata": {
    "slideshow": {
     "slide_type": "subslide"
    }
   },
   "source": [
    "We wish to plot the trajectory $x(t)$ as a function of $t$. \n",
    "\n",
    "We recommen the `Plots.jl` package, which provides a common interface to several plotting \"backends\":"
   ]
  },
  {
   "cell_type": "code",
   "execution_count": 63,
   "metadata": {
    "slideshow": {
     "slide_type": "fragment"
    }
   },
   "outputs": [
    {
     "data": {
      "text/plain": [
       "Plots.GRBackend()"
      ]
     },
     "execution_count": 63,
     "metadata": {},
     "output_type": "execute_result"
    }
   ],
   "source": [
    "using Plots           # load the package in each session\n",
    "gr()   # choose the GR backend"
   ]
  },
  {
   "cell_type": "code",
   "execution_count": 64,
   "metadata": {
    "slideshow": {
     "slide_type": "subslide"
    }
   },
   "outputs": [
    {
     "data": {
      "text/html": [
       "<?xml version=\"1.0\" encoding=\"utf-8\"?>\n",
       "<svg xmlns=\"http://www.w3.org/2000/svg\" xmlns:xlink=\"http://www.w3.org/1999/xlink\" width=\"600\" height=\"400\" viewBox=\"0 0 600 400\">\n",
       "<defs>\n",
       "  <clipPath id=\"clip00\">\n",
       "    <rect x=\"0\" y=\"0\" width=\"600\" height=\"400\"/>\n",
       "  </clipPath>\n",
       "</defs>\n",
       "<polygon clip-path=\"url(#clip00)\" points=\"\n",
       "0,400 600,400 600,0 0,0 \n",
       "  \" fill=\"#ffffff\" fill-opacity=\"1\"/>\n",
       "<defs>\n",
       "  <clipPath id=\"clip01\">\n",
       "    <rect x=\"120\" y=\"0\" width=\"421\" height=\"400\"/>\n",
       "  </clipPath>\n",
       "</defs>\n",
       "<polygon clip-path=\"url(#clip00)\" points=\"\n",
       "39.3701,376.378 592.126,376.378 592.126,7.87402 39.3701,7.87402 \n",
       "  \" fill=\"#ffffff\" fill-opacity=\"1\"/>\n",
       "<defs>\n",
       "  <clipPath id=\"clip02\">\n",
       "    <rect x=\"39\" y=\"7\" width=\"554\" height=\"370\"/>\n",
       "  </clipPath>\n",
       "</defs>\n",
       "<polyline clip-path=\"url(#clip02)\" style=\"stroke:#000000; stroke-width:1; stroke-opacity:0.5; fill:none\" stroke-dasharray=\"1, 2\" points=\"\n",
       "  131.496,370.85 131.496,13.4016 \n",
       "  \"/>\n",
       "<polyline clip-path=\"url(#clip02)\" style=\"stroke:#000000; stroke-width:1; stroke-opacity:0.5; fill:none\" stroke-dasharray=\"1, 2\" points=\"\n",
       "  285.039,370.85 285.039,13.4016 \n",
       "  \"/>\n",
       "<polyline clip-path=\"url(#clip02)\" style=\"stroke:#000000; stroke-width:1; stroke-opacity:0.5; fill:none\" stroke-dasharray=\"1, 2\" points=\"\n",
       "  438.583,370.85 438.583,13.4016 \n",
       "  \"/>\n",
       "<polyline clip-path=\"url(#clip02)\" style=\"stroke:#000000; stroke-width:1; stroke-opacity:0.5; fill:none\" stroke-dasharray=\"1, 2\" points=\"\n",
       "  592.126,370.85 592.126,13.4016 \n",
       "  \"/>\n",
       "<polyline clip-path=\"url(#clip02)\" style=\"stroke:#000000; stroke-width:1; stroke-opacity:0.5; fill:none\" stroke-dasharray=\"1, 2\" points=\"\n",
       "  47.6614,376.378 583.835,376.378 \n",
       "  \"/>\n",
       "<polyline clip-path=\"url(#clip02)\" style=\"stroke:#000000; stroke-width:1; stroke-opacity:0.5; fill:none\" stroke-dasharray=\"1, 2\" points=\"\n",
       "  47.6614,314.961 583.835,314.961 \n",
       "  \"/>\n",
       "<polyline clip-path=\"url(#clip02)\" style=\"stroke:#000000; stroke-width:1; stroke-opacity:0.5; fill:none\" stroke-dasharray=\"1, 2\" points=\"\n",
       "  47.6614,253.543 583.835,253.543 \n",
       "  \"/>\n",
       "<polyline clip-path=\"url(#clip02)\" style=\"stroke:#000000; stroke-width:1; stroke-opacity:0.5; fill:none\" stroke-dasharray=\"1, 2\" points=\"\n",
       "  47.6614,192.126 583.835,192.126 \n",
       "  \"/>\n",
       "<polyline clip-path=\"url(#clip02)\" style=\"stroke:#000000; stroke-width:1; stroke-opacity:0.5; fill:none\" stroke-dasharray=\"1, 2\" points=\"\n",
       "  47.6614,130.709 583.835,130.709 \n",
       "  \"/>\n",
       "<polyline clip-path=\"url(#clip02)\" style=\"stroke:#000000; stroke-width:1; stroke-opacity:0.5; fill:none\" stroke-dasharray=\"1, 2\" points=\"\n",
       "  47.6614,69.2913 583.835,69.2913 \n",
       "  \"/>\n",
       "<polyline clip-path=\"url(#clip02)\" style=\"stroke:#000000; stroke-width:1; stroke-opacity:0.5; fill:none\" stroke-dasharray=\"1, 2\" points=\"\n",
       "  47.6614,7.87402 583.835,7.87402 \n",
       "  \"/>\n",
       "<polyline clip-path=\"url(#clip00)\" style=\"stroke:#000000; stroke-width:1; stroke-opacity:1; fill:none\" points=\"\n",
       "  39.3701,376.378 592.126,376.378 \n",
       "  \"/>\n",
       "<polyline clip-path=\"url(#clip00)\" style=\"stroke:#000000; stroke-width:1; stroke-opacity:1; fill:none\" points=\"\n",
       "  131.496,376.378 131.496,370.85 \n",
       "  \"/>\n",
       "<polyline clip-path=\"url(#clip00)\" style=\"stroke:#000000; stroke-width:1; stroke-opacity:1; fill:none\" points=\"\n",
       "  285.039,376.378 285.039,370.85 \n",
       "  \"/>\n",
       "<polyline clip-path=\"url(#clip00)\" style=\"stroke:#000000; stroke-width:1; stroke-opacity:1; fill:none\" points=\"\n",
       "  438.583,376.378 438.583,370.85 \n",
       "  \"/>\n",
       "<polyline clip-path=\"url(#clip00)\" style=\"stroke:#000000; stroke-width:1; stroke-opacity:1; fill:none\" points=\"\n",
       "  592.126,376.378 592.126,370.85 \n",
       "  \"/>\n",
       "<polyline clip-path=\"url(#clip00)\" style=\"stroke:#000000; stroke-width:1; stroke-opacity:1; fill:none\" points=\"\n",
       "  39.3701,376.378 39.3701,7.87402 \n",
       "  \"/>\n",
       "<polyline clip-path=\"url(#clip00)\" style=\"stroke:#000000; stroke-width:1; stroke-opacity:1; fill:none\" points=\"\n",
       "  39.3701,376.378 47.6614,376.378 \n",
       "  \"/>\n",
       "<polyline clip-path=\"url(#clip00)\" style=\"stroke:#000000; stroke-width:1; stroke-opacity:1; fill:none\" points=\"\n",
       "  39.3701,314.961 47.6614,314.961 \n",
       "  \"/>\n",
       "<polyline clip-path=\"url(#clip00)\" style=\"stroke:#000000; stroke-width:1; stroke-opacity:1; fill:none\" points=\"\n",
       "  39.3701,253.543 47.6614,253.543 \n",
       "  \"/>\n",
       "<polyline clip-path=\"url(#clip00)\" style=\"stroke:#000000; stroke-width:1; stroke-opacity:1; fill:none\" points=\"\n",
       "  39.3701,192.126 47.6614,192.126 \n",
       "  \"/>\n",
       "<polyline clip-path=\"url(#clip00)\" style=\"stroke:#000000; stroke-width:1; stroke-opacity:1; fill:none\" points=\"\n",
       "  39.3701,130.709 47.6614,130.709 \n",
       "  \"/>\n",
       "<polyline clip-path=\"url(#clip00)\" style=\"stroke:#000000; stroke-width:1; stroke-opacity:1; fill:none\" points=\"\n",
       "  39.3701,69.2913 47.6614,69.2913 \n",
       "  \"/>\n",
       "<polyline clip-path=\"url(#clip00)\" style=\"stroke:#000000; stroke-width:1; stroke-opacity:1; fill:none\" points=\"\n",
       "  39.3701,7.87402 47.6614,7.87402 \n",
       "  \"/>\n",
       "<g clip-path=\"url(#clip00)\">\n",
       "<text style=\"fill:#000000; fill-opacity:1; font-family:Arial,Helvetica Neue,Helvetica,sans-serif; font-size:12; text-anchor:middle;\" transform=\"rotate(0, 131.496, 390.178)\" x=\"131.496\" y=\"390.178\">2.5</text>\n",
       "</g>\n",
       "<g clip-path=\"url(#clip00)\">\n",
       "<text style=\"fill:#000000; fill-opacity:1; font-family:Arial,Helvetica Neue,Helvetica,sans-serif; font-size:12; text-anchor:middle;\" transform=\"rotate(0, 285.039, 390.178)\" x=\"285.039\" y=\"390.178\">5.0</text>\n",
       "</g>\n",
       "<g clip-path=\"url(#clip00)\">\n",
       "<text style=\"fill:#000000; fill-opacity:1; font-family:Arial,Helvetica Neue,Helvetica,sans-serif; font-size:12; text-anchor:middle;\" transform=\"rotate(0, 438.583, 390.178)\" x=\"438.583\" y=\"390.178\">7.5</text>\n",
       "</g>\n",
       "<g clip-path=\"url(#clip00)\">\n",
       "<text style=\"fill:#000000; fill-opacity:1; font-family:Arial,Helvetica Neue,Helvetica,sans-serif; font-size:12; text-anchor:middle;\" transform=\"rotate(0, 592.126, 390.178)\" x=\"592.126\" y=\"390.178\">10.0</text>\n",
       "</g>\n",
       "<g clip-path=\"url(#clip00)\">\n",
       "<text style=\"fill:#000000; fill-opacity:1; font-family:Arial,Helvetica Neue,Helvetica,sans-serif; font-size:12; text-anchor:end;\" transform=\"rotate(0, 33.3701, 380.878)\" x=\"33.3701\" y=\"380.878\">-2</text>\n",
       "</g>\n",
       "<g clip-path=\"url(#clip00)\">\n",
       "<text style=\"fill:#000000; fill-opacity:1; font-family:Arial,Helvetica Neue,Helvetica,sans-serif; font-size:12; text-anchor:end;\" transform=\"rotate(0, 33.3701, 319.461)\" x=\"33.3701\" y=\"319.461\">-1</text>\n",
       "</g>\n",
       "<g clip-path=\"url(#clip00)\">\n",
       "<text style=\"fill:#000000; fill-opacity:1; font-family:Arial,Helvetica Neue,Helvetica,sans-serif; font-size:12; text-anchor:end;\" transform=\"rotate(0, 33.3701, 258.043)\" x=\"33.3701\" y=\"258.043\">0</text>\n",
       "</g>\n",
       "<g clip-path=\"url(#clip00)\">\n",
       "<text style=\"fill:#000000; fill-opacity:1; font-family:Arial,Helvetica Neue,Helvetica,sans-serif; font-size:12; text-anchor:end;\" transform=\"rotate(0, 33.3701, 196.626)\" x=\"33.3701\" y=\"196.626\">1</text>\n",
       "</g>\n",
       "<g clip-path=\"url(#clip00)\">\n",
       "<text style=\"fill:#000000; fill-opacity:1; font-family:Arial,Helvetica Neue,Helvetica,sans-serif; font-size:12; text-anchor:end;\" transform=\"rotate(0, 33.3701, 135.209)\" x=\"33.3701\" y=\"135.209\">2</text>\n",
       "</g>\n",
       "<g clip-path=\"url(#clip00)\">\n",
       "<text style=\"fill:#000000; fill-opacity:1; font-family:Arial,Helvetica Neue,Helvetica,sans-serif; font-size:12; text-anchor:end;\" transform=\"rotate(0, 33.3701, 73.7913)\" x=\"33.3701\" y=\"73.7913\">3</text>\n",
       "</g>\n",
       "<g clip-path=\"url(#clip00)\">\n",
       "<text style=\"fill:#000000; fill-opacity:1; font-family:Arial,Helvetica Neue,Helvetica,sans-serif; font-size:12; text-anchor:end;\" transform=\"rotate(0, 33.3701, 12.374)\" x=\"33.3701\" y=\"12.374\">4</text>\n",
       "</g>\n",
       "<polyline clip-path=\"url(#clip02)\" style=\"stroke:#009af9; stroke-width:1; stroke-opacity:1; fill:none\" points=\"\n",
       "  39.3701,253.543 100.787,314.961 162.205,376.378 223.622,314.961 285.039,253.543 346.457,192.126 407.874,130.709 469.291,192.126 530.709,130.709 592.126,69.2913 \n",
       "  \n",
       "  \"/>\n",
       "<polyline clip-path=\"url(#clip02)\" style=\"stroke:#000000; stroke-width:2; stroke-opacity:1; fill:none\" stroke-dasharray=\"8, 5\" points=\"\n",
       "  39.3701,253.543 592.126,253.543 \n",
       "  \"/>\n",
       "<polygon clip-path=\"url(#clip00)\" points=\"\n",
       "501.61,74.114 574.126,74.114 574.126,28.754 501.61,28.754 \n",
       "  \" fill=\"#ffffff\" fill-opacity=\"1\"/>\n",
       "<polyline clip-path=\"url(#clip00)\" style=\"stroke:#000000; stroke-width:1; stroke-opacity:1; fill:none\" points=\"\n",
       "  501.61,74.114 574.126,74.114 574.126,28.754 501.61,28.754 501.61,74.114 \n",
       "  \"/>\n",
       "<polyline clip-path=\"url(#clip00)\" style=\"stroke:#009af9; stroke-width:1; stroke-opacity:1; fill:none\" points=\"\n",
       "  507.61,43.874 543.61,43.874 \n",
       "  \"/>\n",
       "<g clip-path=\"url(#clip00)\">\n",
       "<text style=\"fill:#000000; fill-opacity:1; font-family:Arial,Helvetica Neue,Helvetica,sans-serif; font-size:12; text-anchor:start;\" transform=\"rotate(0, 549.61, 48.374)\" x=\"549.61\" y=\"48.374\">y1</text>\n",
       "</g>\n",
       "<polyline clip-path=\"url(#clip00)\" style=\"stroke:#000000; stroke-width:2; stroke-opacity:1; fill:none\" stroke-dasharray=\"8, 5\" points=\"\n",
       "  507.61,58.994 543.61,58.994 \n",
       "  \"/>\n",
       "<g clip-path=\"url(#clip00)\">\n",
       "<text style=\"fill:#000000; fill-opacity:1; font-family:Arial,Helvetica Neue,Helvetica,sans-serif; font-size:12; text-anchor:start;\" transform=\"rotate(0, 549.61, 63.494)\" x=\"549.61\" y=\"63.494\">y2</text>\n",
       "</g>\n",
       "</svg>\n"
      ]
     },
     "execution_count": 64,
     "metadata": {},
     "output_type": "execute_result"
    }
   ],
   "source": [
    "T = 10\n",
    "Plots.plot(1:T, walk(T))  # vector of x coordinates, and vector of y coordinates\n",
    "hline!([0], c=:black, ls=:dash, lw=2)  # add dashed horizontal line to plot"
   ]
  },
  {
   "cell_type": "markdown",
   "metadata": {
    "slideshow": {
     "slide_type": "subslide"
    }
   },
   "source": [
    "Let's draw a few walks:"
   ]
  },
  {
   "cell_type": "code",
   "execution_count": 65,
   "metadata": {
    "scrolled": false
   },
   "outputs": [
    {
     "data": {
      "text/html": [
       "<?xml version=\"1.0\" encoding=\"utf-8\"?>\n",
       "<svg xmlns=\"http://www.w3.org/2000/svg\" xmlns:xlink=\"http://www.w3.org/1999/xlink\" width=\"600\" height=\"400\" viewBox=\"0 0 600 400\">\n",
       "<defs>\n",
       "  <clipPath id=\"clip00\">\n",
       "    <rect x=\"0\" y=\"0\" width=\"600\" height=\"400\"/>\n",
       "  </clipPath>\n",
       "</defs>\n",
       "<polygon clip-path=\"url(#clip00)\" points=\"\n",
       "0,400 600,400 600,0 0,0 \n",
       "  \" fill=\"#ffffff\" fill-opacity=\"1\"/>\n",
       "<defs>\n",
       "  <clipPath id=\"clip01\">\n",
       "    <rect x=\"120\" y=\"0\" width=\"421\" height=\"400\"/>\n",
       "  </clipPath>\n",
       "</defs>\n",
       "<polygon clip-path=\"url(#clip00)\" points=\"\n",
       "39.3701,376.378 592.126,376.378 592.126,7.87402 39.3701,7.87402 \n",
       "  \" fill=\"#ffffff\" fill-opacity=\"1\"/>\n",
       "<defs>\n",
       "  <clipPath id=\"clip02\">\n",
       "    <rect x=\"39\" y=\"7\" width=\"554\" height=\"370\"/>\n",
       "  </clipPath>\n",
       "</defs>\n",
       "<polyline clip-path=\"url(#clip02)\" style=\"stroke:#000000; stroke-width:1; stroke-opacity:0.5; fill:none\" stroke-dasharray=\"1, 2\" points=\"\n",
       "  210.915,370.85 210.915,13.4016 \n",
       "  \"/>\n",
       "<polyline clip-path=\"url(#clip02)\" style=\"stroke:#000000; stroke-width:1; stroke-opacity:0.5; fill:none\" stroke-dasharray=\"1, 2\" points=\"\n",
       "  401.52,370.85 401.52,13.4016 \n",
       "  \"/>\n",
       "<polyline clip-path=\"url(#clip02)\" style=\"stroke:#000000; stroke-width:1; stroke-opacity:0.5; fill:none\" stroke-dasharray=\"1, 2\" points=\"\n",
       "  592.126,370.85 592.126,13.4016 \n",
       "  \"/>\n",
       "<polyline clip-path=\"url(#clip02)\" style=\"stroke:#000000; stroke-width:1; stroke-opacity:0.5; fill:none\" stroke-dasharray=\"1, 2\" points=\"\n",
       "  47.6614,376.378 583.835,376.378 \n",
       "  \"/>\n",
       "<polyline clip-path=\"url(#clip02)\" style=\"stroke:#000000; stroke-width:1; stroke-opacity:0.5; fill:none\" stroke-dasharray=\"1, 2\" points=\"\n",
       "  47.6614,314.961 583.835,314.961 \n",
       "  \"/>\n",
       "<polyline clip-path=\"url(#clip02)\" style=\"stroke:#000000; stroke-width:1; stroke-opacity:0.5; fill:none\" stroke-dasharray=\"1, 2\" points=\"\n",
       "  47.6614,253.543 583.835,253.543 \n",
       "  \"/>\n",
       "<polyline clip-path=\"url(#clip02)\" style=\"stroke:#000000; stroke-width:1; stroke-opacity:0.5; fill:none\" stroke-dasharray=\"1, 2\" points=\"\n",
       "  47.6614,192.126 583.835,192.126 \n",
       "  \"/>\n",
       "<polyline clip-path=\"url(#clip02)\" style=\"stroke:#000000; stroke-width:1; stroke-opacity:0.5; fill:none\" stroke-dasharray=\"1, 2\" points=\"\n",
       "  47.6614,130.709 583.835,130.709 \n",
       "  \"/>\n",
       "<polyline clip-path=\"url(#clip02)\" style=\"stroke:#000000; stroke-width:1; stroke-opacity:0.5; fill:none\" stroke-dasharray=\"1, 2\" points=\"\n",
       "  47.6614,69.2913 583.835,69.2913 \n",
       "  \"/>\n",
       "<polyline clip-path=\"url(#clip02)\" style=\"stroke:#000000; stroke-width:1; stroke-opacity:0.5; fill:none\" stroke-dasharray=\"1, 2\" points=\"\n",
       "  47.6614,7.87402 583.835,7.87402 \n",
       "  \"/>\n",
       "<polyline clip-path=\"url(#clip00)\" style=\"stroke:#000000; stroke-width:1; stroke-opacity:1; fill:none\" points=\"\n",
       "  39.3701,376.378 592.126,376.378 \n",
       "  \"/>\n",
       "<polyline clip-path=\"url(#clip00)\" style=\"stroke:#000000; stroke-width:1; stroke-opacity:1; fill:none\" points=\"\n",
       "  210.915,376.378 210.915,370.85 \n",
       "  \"/>\n",
       "<polyline clip-path=\"url(#clip00)\" style=\"stroke:#000000; stroke-width:1; stroke-opacity:1; fill:none\" points=\"\n",
       "  401.52,376.378 401.52,370.85 \n",
       "  \"/>\n",
       "<polyline clip-path=\"url(#clip00)\" style=\"stroke:#000000; stroke-width:1; stroke-opacity:1; fill:none\" points=\"\n",
       "  592.126,376.378 592.126,370.85 \n",
       "  \"/>\n",
       "<polyline clip-path=\"url(#clip00)\" style=\"stroke:#000000; stroke-width:1; stroke-opacity:1; fill:none\" points=\"\n",
       "  39.3701,376.378 39.3701,7.87402 \n",
       "  \"/>\n",
       "<polyline clip-path=\"url(#clip00)\" style=\"stroke:#000000; stroke-width:1; stroke-opacity:1; fill:none\" points=\"\n",
       "  39.3701,376.378 47.6614,376.378 \n",
       "  \"/>\n",
       "<polyline clip-path=\"url(#clip00)\" style=\"stroke:#000000; stroke-width:1; stroke-opacity:1; fill:none\" points=\"\n",
       "  39.3701,314.961 47.6614,314.961 \n",
       "  \"/>\n",
       "<polyline clip-path=\"url(#clip00)\" style=\"stroke:#000000; stroke-width:1; stroke-opacity:1; fill:none\" points=\"\n",
       "  39.3701,253.543 47.6614,253.543 \n",
       "  \"/>\n",
       "<polyline clip-path=\"url(#clip00)\" style=\"stroke:#000000; stroke-width:1; stroke-opacity:1; fill:none\" points=\"\n",
       "  39.3701,192.126 47.6614,192.126 \n",
       "  \"/>\n",
       "<polyline clip-path=\"url(#clip00)\" style=\"stroke:#000000; stroke-width:1; stroke-opacity:1; fill:none\" points=\"\n",
       "  39.3701,130.709 47.6614,130.709 \n",
       "  \"/>\n",
       "<polyline clip-path=\"url(#clip00)\" style=\"stroke:#000000; stroke-width:1; stroke-opacity:1; fill:none\" points=\"\n",
       "  39.3701,69.2913 47.6614,69.2913 \n",
       "  \"/>\n",
       "<polyline clip-path=\"url(#clip00)\" style=\"stroke:#000000; stroke-width:1; stroke-opacity:1; fill:none\" points=\"\n",
       "  39.3701,7.87402 47.6614,7.87402 \n",
       "  \"/>\n",
       "<g clip-path=\"url(#clip00)\">\n",
       "<text style=\"fill:#000000; fill-opacity:1; font-family:Arial,Helvetica Neue,Helvetica,sans-serif; font-size:12; text-anchor:middle;\" transform=\"rotate(0, 210.915, 390.178)\" x=\"210.915\" y=\"390.178\">10</text>\n",
       "</g>\n",
       "<g clip-path=\"url(#clip00)\">\n",
       "<text style=\"fill:#000000; fill-opacity:1; font-family:Arial,Helvetica Neue,Helvetica,sans-serif; font-size:12; text-anchor:middle;\" transform=\"rotate(0, 401.52, 390.178)\" x=\"401.52\" y=\"390.178\">20</text>\n",
       "</g>\n",
       "<g clip-path=\"url(#clip00)\">\n",
       "<text style=\"fill:#000000; fill-opacity:1; font-family:Arial,Helvetica Neue,Helvetica,sans-serif; font-size:12; text-anchor:middle;\" transform=\"rotate(0, 592.126, 390.178)\" x=\"592.126\" y=\"390.178\">30</text>\n",
       "</g>\n",
       "<g clip-path=\"url(#clip00)\">\n",
       "<text style=\"fill:#000000; fill-opacity:1; font-family:Arial,Helvetica Neue,Helvetica,sans-serif; font-size:12; text-anchor:end;\" transform=\"rotate(0, 33.3701, 380.878)\" x=\"33.3701\" y=\"380.878\">-6</text>\n",
       "</g>\n",
       "<g clip-path=\"url(#clip00)\">\n",
       "<text style=\"fill:#000000; fill-opacity:1; font-family:Arial,Helvetica Neue,Helvetica,sans-serif; font-size:12; text-anchor:end;\" transform=\"rotate(0, 33.3701, 319.461)\" x=\"33.3701\" y=\"319.461\">-3</text>\n",
       "</g>\n",
       "<g clip-path=\"url(#clip00)\">\n",
       "<text style=\"fill:#000000; fill-opacity:1; font-family:Arial,Helvetica Neue,Helvetica,sans-serif; font-size:12; text-anchor:end;\" transform=\"rotate(0, 33.3701, 258.043)\" x=\"33.3701\" y=\"258.043\">0</text>\n",
       "</g>\n",
       "<g clip-path=\"url(#clip00)\">\n",
       "<text style=\"fill:#000000; fill-opacity:1; font-family:Arial,Helvetica Neue,Helvetica,sans-serif; font-size:12; text-anchor:end;\" transform=\"rotate(0, 33.3701, 196.626)\" x=\"33.3701\" y=\"196.626\">3</text>\n",
       "</g>\n",
       "<g clip-path=\"url(#clip00)\">\n",
       "<text style=\"fill:#000000; fill-opacity:1; font-family:Arial,Helvetica Neue,Helvetica,sans-serif; font-size:12; text-anchor:end;\" transform=\"rotate(0, 33.3701, 135.209)\" x=\"33.3701\" y=\"135.209\">6</text>\n",
       "</g>\n",
       "<g clip-path=\"url(#clip00)\">\n",
       "<text style=\"fill:#000000; fill-opacity:1; font-family:Arial,Helvetica Neue,Helvetica,sans-serif; font-size:12; text-anchor:end;\" transform=\"rotate(0, 33.3701, 73.7913)\" x=\"33.3701\" y=\"73.7913\">9</text>\n",
       "</g>\n",
       "<g clip-path=\"url(#clip00)\">\n",
       "<text style=\"fill:#000000; fill-opacity:1; font-family:Arial,Helvetica Neue,Helvetica,sans-serif; font-size:12; text-anchor:end;\" transform=\"rotate(0, 33.3701, 12.374)\" x=\"33.3701\" y=\"12.374\">12</text>\n",
       "</g>\n",
       "<polyline clip-path=\"url(#clip02)\" style=\"stroke:#009af9; stroke-width:1; stroke-opacity:1; fill:none\" points=\"\n",
       "  39.3701,253.543 58.4306,274.016 77.4912,294.488 96.5517,274.016 115.612,294.488 134.673,314.961 153.733,335.433 172.794,314.961 191.854,335.433 210.915,314.961 \n",
       "  229.976,294.488 249.036,314.961 268.097,335.433 287.157,314.961 306.218,294.488 325.278,274.016 344.339,294.488 363.399,314.961 382.46,335.433 401.52,314.961 \n",
       "  420.581,294.488 439.642,314.961 458.702,335.433 477.763,355.906 496.823,376.378 515.884,355.906 534.944,335.433 554.005,314.961 573.065,294.488 592.126,274.016 \n",
       "  \n",
       "  \"/>\n",
       "<polyline clip-path=\"url(#clip02)\" style=\"stroke:#e26f46; stroke-width:1; stroke-opacity:1; fill:none\" points=\"\n",
       "  39.3701,253.543 58.4306,274.016 77.4912,253.543 96.5517,233.071 115.612,253.543 134.673,274.016 153.733,294.488 172.794,314.961 191.854,294.488 210.915,314.961 \n",
       "  229.976,294.488 249.036,274.016 268.097,253.543 287.157,233.071 306.218,212.598 325.278,233.071 344.339,212.598 363.399,192.126 382.46,212.598 401.52,192.126 \n",
       "  420.581,171.654 439.642,151.181 458.702,130.709 477.763,110.236 496.823,89.7638 515.884,110.236 534.944,89.7638 554.005,110.236 573.065,130.709 592.126,110.236 \n",
       "  \n",
       "  \"/>\n",
       "<polyline clip-path=\"url(#clip02)\" style=\"stroke:#3da44d; stroke-width:1; stroke-opacity:1; fill:none\" points=\"\n",
       "  39.3701,253.543 58.4306,233.071 77.4912,253.543 96.5517,274.016 115.612,253.543 134.673,233.071 153.733,253.543 172.794,233.071 191.854,212.598 210.915,233.071 \n",
       "  229.976,253.543 249.036,233.071 268.097,253.543 287.157,274.016 306.218,294.488 325.278,274.016 344.339,294.488 363.399,314.961 382.46,335.433 401.52,314.961 \n",
       "  420.581,335.433 439.642,314.961 458.702,294.488 477.763,274.016 496.823,253.543 515.884,233.071 534.944,253.543 554.005,274.016 573.065,294.488 592.126,274.016 \n",
       "  \n",
       "  \"/>\n",
       "<polyline clip-path=\"url(#clip02)\" style=\"stroke:#c271d2; stroke-width:1; stroke-opacity:1; fill:none\" points=\"\n",
       "  39.3701,253.543 58.4306,233.071 77.4912,212.598 96.5517,233.071 115.612,253.543 134.673,233.071 153.733,253.543 172.794,274.016 191.854,253.543 210.915,274.016 \n",
       "  229.976,253.543 249.036,274.016 268.097,253.543 287.157,233.071 306.218,212.598 325.278,233.071 344.339,253.543 363.399,233.071 382.46,212.598 401.52,233.071 \n",
       "  420.581,253.543 439.642,274.016 458.702,253.543 477.763,233.071 496.823,212.598 515.884,192.126 534.944,171.654 554.005,192.126 573.065,212.598 592.126,192.126 \n",
       "  \n",
       "  \"/>\n",
       "<polyline clip-path=\"url(#clip02)\" style=\"stroke:#ac8d18; stroke-width:1; stroke-opacity:1; fill:none\" points=\"\n",
       "  39.3701,253.543 58.4306,233.071 77.4912,253.543 96.5517,274.016 115.612,253.543 134.673,274.016 153.733,253.543 172.794,274.016 191.854,253.543 210.915,274.016 \n",
       "  229.976,253.543 249.036,274.016 268.097,253.543 287.157,274.016 306.218,294.488 325.278,314.961 344.339,335.433 363.399,314.961 382.46,294.488 401.52,274.016 \n",
       "  420.581,294.488 439.642,314.961 458.702,294.488 477.763,274.016 496.823,253.543 515.884,274.016 534.944,294.488 554.005,274.016 573.065,294.488 592.126,314.961 \n",
       "  \n",
       "  \"/>\n",
       "<polyline clip-path=\"url(#clip02)\" style=\"stroke:#00a9ad; stroke-width:1; stroke-opacity:1; fill:none\" points=\"\n",
       "  39.3701,253.543 58.4306,274.016 77.4912,253.543 96.5517,233.071 115.612,253.543 134.673,274.016 153.733,253.543 172.794,233.071 191.854,253.543 210.915,233.071 \n",
       "  229.976,212.598 249.036,233.071 268.097,253.543 287.157,233.071 306.218,253.543 325.278,233.071 344.339,253.543 363.399,233.071 382.46,253.543 401.52,233.071 \n",
       "  420.581,253.543 439.642,233.071 458.702,253.543 477.763,233.071 496.823,212.598 515.884,233.071 534.944,253.543 554.005,233.071 573.065,212.598 592.126,233.071 \n",
       "  \n",
       "  \"/>\n",
       "<polyline clip-path=\"url(#clip02)\" style=\"stroke:#ed5d92; stroke-width:1; stroke-opacity:1; fill:none\" points=\"\n",
       "  39.3701,253.543 58.4306,274.016 77.4912,294.488 96.5517,274.016 115.612,294.488 134.673,274.016 153.733,294.488 172.794,274.016 191.854,294.488 210.915,274.016 \n",
       "  229.976,294.488 249.036,274.016 268.097,253.543 287.157,274.016 306.218,294.488 325.278,274.016 344.339,253.543 363.399,274.016 382.46,253.543 401.52,233.071 \n",
       "  420.581,212.598 439.642,192.126 458.702,212.598 477.763,233.071 496.823,253.543 515.884,274.016 534.944,294.488 554.005,314.961 573.065,294.488 592.126,274.016 \n",
       "  \n",
       "  \"/>\n",
       "<polyline clip-path=\"url(#clip02)\" style=\"stroke:#c68125; stroke-width:1; stroke-opacity:1; fill:none\" points=\"\n",
       "  39.3701,253.543 58.4306,274.016 77.4912,253.543 96.5517,274.016 115.612,294.488 134.673,274.016 153.733,253.543 172.794,233.071 191.854,212.598 210.915,233.071 \n",
       "  229.976,212.598 249.036,233.071 268.097,212.598 287.157,233.071 306.218,253.543 325.278,274.016 344.339,253.543 363.399,233.071 382.46,253.543 401.52,274.016 \n",
       "  420.581,253.543 439.642,233.071 458.702,212.598 477.763,233.071 496.823,253.543 515.884,274.016 534.944,294.488 554.005,314.961 573.065,335.433 592.126,355.906 \n",
       "  \n",
       "  \"/>\n",
       "<polyline clip-path=\"url(#clip02)\" style=\"stroke:#00a98d; stroke-width:1; stroke-opacity:1; fill:none\" points=\"\n",
       "  39.3701,253.543 58.4306,274.016 77.4912,253.543 96.5517,233.071 115.612,212.598 134.673,192.126 153.733,212.598 172.794,192.126 191.854,212.598 210.915,192.126 \n",
       "  229.976,212.598 249.036,192.126 268.097,171.654 287.157,151.181 306.218,171.654 325.278,192.126 344.339,171.654 363.399,151.181 382.46,130.709 401.52,110.236 \n",
       "  420.581,89.7638 439.642,69.2913 458.702,48.8189 477.763,28.3465 496.823,7.87402 515.884,28.3465 534.944,48.8189 554.005,69.2913 573.065,48.8189 592.126,28.3465 \n",
       "  \n",
       "  \"/>\n",
       "<polyline clip-path=\"url(#clip02)\" style=\"stroke:#8e971d; stroke-width:1; stroke-opacity:1; fill:none\" points=\"\n",
       "  39.3701,253.543 58.4306,233.071 77.4912,212.598 96.5517,233.071 115.612,253.543 134.673,233.071 153.733,253.543 172.794,233.071 191.854,253.543 210.915,233.071 \n",
       "  229.976,253.543 249.036,233.071 268.097,253.543 287.157,274.016 306.218,294.488 325.278,314.961 344.339,294.488 363.399,314.961 382.46,335.433 401.52,355.906 \n",
       "  420.581,376.378 439.642,355.906 458.702,335.433 477.763,314.961 496.823,335.433 515.884,314.961 534.944,294.488 554.005,274.016 573.065,294.488 592.126,314.961 \n",
       "  \n",
       "  \"/>\n",
       "<polyline clip-path=\"url(#clip02)\" style=\"stroke:#000000; stroke-width:2; stroke-opacity:1; fill:none\" stroke-dasharray=\"8, 5\" points=\"\n",
       "  39.3701,253.543 592.126,253.543 \n",
       "  \"/>\n",
       "</svg>\n"
      ]
     },
     "execution_count": 65,
     "metadata": {},
     "output_type": "execute_result"
    }
   ],
   "source": [
    "T = 30  # maximum time\n",
    "N = 10  # number of walks\n",
    "\n",
    "plot(legend=false)  # make empty plot with no legend\n",
    "\n",
    "for i in 1:N\n",
    "    plot!(1:T, walk(T))   # ! means \"add to plot\"\n",
    "end\n",
    "\n",
    "hline!([0], c=:black, ls=:dash, lw=2)  # add "
   ]
  },
  {
   "cell_type": "code",
   "execution_count": 66,
   "metadata": {
    "slideshow": {
     "slide_type": "subslide"
    }
   },
   "outputs": [
    {
     "data": {
      "text/html": [
       "<div id=\"interact-js-shim\">\n",
       "    <script charset=\"utf-8\">\n",
       "(function (IPython, $, _, MathJax) {\n",
       "    $.event.special.destroyed = {\n",
       "\tremove: function(o) {\n",
       "\t    if (o.handler) {\n",
       "\t\to.handler.apply(this, arguments)\n",
       "\t    }\n",
       "\t}\n",
       "    }\n",
       "\n",
       "    var OutputArea = IPython.version >= \"4.0.0\" ? require(\"notebook/js/outputarea\").OutputArea : IPython.OutputArea;\n",
       "\n",
       "    var redrawValue = function (container, type, val) {\n",
       "\tvar selector = $(\"<div/>\");\n",
       "\tvar oa = new OutputArea(_.extend(selector, {\n",
       "\t    selector: selector,\n",
       "\t    prompt_area: true,\n",
       "\t    events: IPython.events,\n",
       "\t    keyboard_manager: IPython.keyboard_manager\n",
       "\t})); // Hack to work with IPython 2.1.0\n",
       "\n",
       "\tswitch (type) {\n",
       "\tcase \"image/png\":\n",
       "            var _src = 'data:' + type + ';base64,' + val;\n",
       "\t    $(container).find(\"img\").attr('src', _src);\n",
       "\t    break;\n",
       "\tcase \"text/latex\":\n",
       "\t\tif (MathJax){\n",
       "\t\t\tvar math = MathJax.Hub.getAllJax(container)[0];\n",
       "\t\t\tMathJax.Hub.Queue([\"Text\", math, val.replace(/^\\${1,2}|\\${1,2}$/g, '')]);\n",
       "\t\t\tbreak;\n",
       "\t\t}\n",
       "\tdefault:\n",
       "\t    var toinsert = OutputArea.append_map[type].apply(\n",
       "\t\toa, [val, {}, selector]\n",
       "\t    );\n",
       "\t    $(container).empty().append(toinsert.contents());\n",
       "\t    selector.remove();\n",
       "\t}\n",
       "    }\n",
       "\n",
       "\n",
       "    $(document).ready(function() {\n",
       "\tfunction initComm(evt, data) {\n",
       "\t    var comm_manager = data.kernel.comm_manager;\n",
       "        //_.extend(comm_manager.targets, require(\"widgets/js/widget\"))\n",
       "\t    comm_manager.register_target(\"Signal\", function (comm) {\n",
       "            comm.on_msg(function (msg) {\n",
       "                var val = msg.content.data.value;\n",
       "                $(\".signal-\" + comm.comm_id).each(function() {\n",
       "                var type = $(this).data(\"type\");\n",
       "                if (typeof(val[type]) !== \"undefined\" && val[type] !== null) {\n",
       "                    redrawValue(this, type, val[type], type);\n",
       "                }\n",
       "                });\n",
       "                delete val;\n",
       "                delete msg.content.data.value;\n",
       "            });\n",
       "\t    });\n",
       "\n",
       "\t    // coordingate with Comm and redraw Signals\n",
       "\t    // XXX: Test using Reactive here to improve performance\n",
       "\t    $([IPython.events]).on(\n",
       "\t\t'output_appended.OutputArea', function (event, type, value, md, toinsert) {\n",
       "\t\t    if (md && md.reactive) {\n",
       "                // console.log(md.comm_id);\n",
       "                toinsert.addClass(\"signal-\" + md.comm_id);\n",
       "                toinsert.data(\"type\", type);\n",
       "                // Signal back indicating the mimetype required\n",
       "                var comm_manager = IPython.notebook.kernel.comm_manager;\n",
       "                var comm = comm_manager.comms[md.comm_id];\n",
       "                comm.then(function (c) {\n",
       "                    c.send({action: \"subscribe_mime\",\n",
       "                       mime: type});\n",
       "                    toinsert.bind(\"destroyed\", function() {\n",
       "                        c.send({action: \"unsubscribe_mime\",\n",
       "                               mime: type});\n",
       "                    });\n",
       "                })\n",
       "\t\t    }\n",
       "\t    });\n",
       "\t}\n",
       "\n",
       "\ttry {\n",
       "\t    // try to initialize right away. otherwise, wait on the status_started event.\n",
       "\t    initComm(undefined, IPython.notebook);\n",
       "\t} catch (e) {\n",
       "\t    $([IPython.events]).on('kernel_created.Kernel kernel_created.Session', initComm);\n",
       "\t}\n",
       "    });\n",
       "})(IPython, jQuery, _, MathJax);\n",
       "</script>\n",
       "    <script>\n",
       "        window.interactLoadedFlag = true\n",
       "       $(\"#interact-js-shim\").bind(\"destroyed\", function () {\n",
       "           if (window.interactLoadedFlag) {\n",
       "               console.warn(\"JavaScript required by Interact will be removed if you remove this cell or run using Interact more than once.\")\n",
       "           }\n",
       "       })\n",
       "       $([IPython.events]).on(\"kernel_starting.Kernel kernel_restarting.Kernel\", function () { window.interactLoadedFlag = false })\n",
       "   </script>\n",
       "</div>"
      ]
     },
     "metadata": {},
     "output_type": "display_data"
    }
   ],
   "source": [
    "using Interact"
   ]
  },
  {
   "cell_type": "code",
   "execution_count": 67,
   "metadata": {},
   "outputs": [
    {
     "data": {
      "text/html": [],
      "text/plain": [
       "Interact.Options{:SelectionSlider,Int64}(1: \"input\" = 50 Int64 , \"T\", 50, \"50\", Interact.OptionDict(DataStructures.OrderedDict(\"1\"=>1,\"2\"=>2,\"3\"=>3,\"4\"=>4,\"5\"=>5,\"6\"=>6,\"7\"=>7,\"8\"=>8,\"9\"=>9,\"10\"=>10…), Dict(68=>\"68\",2=>\"2\",89=>\"89\",11=>\"11\",39=>\"39\",46=>\"46\",85=>\"85\",25=>\"25\",55=>\"55\",42=>\"42\"…)), Any[], Any[], true, \"horizontal\")"
      ]
     },
     "metadata": {},
     "output_type": "display_data"
    },
    {
     "data": {
      "text/html": [],
      "text/plain": [
       "Interact.Options{:SelectionSlider,Int64}(3: \"input-2\" = 500 Int64 , \"N\", 500, \"500\", Interact.OptionDict(DataStructures.OrderedDict(\"1\"=>1,\"2\"=>2,\"3\"=>3,\"4\"=>4,\"5\"=>5,\"6\"=>6,\"7\"=>7,\"8\"=>8,\"9\"=>9,\"10\"=>10…), Dict(306=>\"306\",29=>\"29\",74=>\"74\",905=>\"905\",176=>\"176\",892=>\"892\",285=>\"285\",318=>\"318\",873=>\"873\",975=>\"975\"…)), Any[], Any[], true, \"horizontal\")"
      ]
     },
     "metadata": {},
     "output_type": "display_data"
    },
    {
     "data": {
      "text/html": [
       "<?xml version=\"1.0\" encoding=\"utf-8\"?>\n",
       "<svg xmlns=\"http://www.w3.org/2000/svg\" xmlns:xlink=\"http://www.w3.org/1999/xlink\" width=\"600\" height=\"400\" viewBox=\"0 0 600 400\">\n",
       "<defs>\n",
       "  <clipPath id=\"clip00\">\n",
       "    <rect x=\"0\" y=\"0\" width=\"600\" height=\"400\"/>\n",
       "  </clipPath>\n",
       "</defs>\n",
       "<polygon clip-path=\"url(#clip00)\" points=\"\n",
       "0,400 600,400 600,0 0,0 \n",
       "  \" fill=\"#ffffff\" fill-opacity=\"1\"/>\n",
       "<defs>\n",
       "  <clipPath id=\"clip01\">\n",
       "    <rect x=\"120\" y=\"0\" width=\"421\" height=\"400\"/>\n",
       "  </clipPath>\n",
       "</defs>\n",
       "<polygon clip-path=\"url(#clip00)\" points=\"\n",
       "39.3701,376.378 592.126,376.378 592.126,7.87402 39.3701,7.87402 \n",
       "  \" fill=\"#ffffff\" fill-opacity=\"1\"/>\n",
       "<defs>\n",
       "  <clipPath id=\"clip02\">\n",
       "    <rect x=\"39\" y=\"7\" width=\"554\" height=\"370\"/>\n",
       "  </clipPath>\n",
       "</defs>\n",
       "<polyline clip-path=\"url(#clip02)\" style=\"stroke:#000000; stroke-width:1; stroke-opacity:0.5; fill:none\" stroke-dasharray=\"1, 2\" points=\"\n",
       "  39.3701,370.85 39.3701,13.4016 \n",
       "  \"/>\n",
       "<polyline clip-path=\"url(#clip02)\" style=\"stroke:#000000; stroke-width:1; stroke-opacity:0.5; fill:none\" stroke-dasharray=\"1, 2\" points=\"\n",
       "  149.921,370.85 149.921,13.4016 \n",
       "  \"/>\n",
       "<polyline clip-path=\"url(#clip02)\" style=\"stroke:#000000; stroke-width:1; stroke-opacity:0.5; fill:none\" stroke-dasharray=\"1, 2\" points=\"\n",
       "  260.472,370.85 260.472,13.4016 \n",
       "  \"/>\n",
       "<polyline clip-path=\"url(#clip02)\" style=\"stroke:#000000; stroke-width:1; stroke-opacity:0.5; fill:none\" stroke-dasharray=\"1, 2\" points=\"\n",
       "  371.024,370.85 371.024,13.4016 \n",
       "  \"/>\n",
       "<polyline clip-path=\"url(#clip02)\" style=\"stroke:#000000; stroke-width:1; stroke-opacity:0.5; fill:none\" stroke-dasharray=\"1, 2\" points=\"\n",
       "  481.575,370.85 481.575,13.4016 \n",
       "  \"/>\n",
       "<polyline clip-path=\"url(#clip02)\" style=\"stroke:#000000; stroke-width:1; stroke-opacity:0.5; fill:none\" stroke-dasharray=\"1, 2\" points=\"\n",
       "  592.126,370.85 592.126,13.4016 \n",
       "  \"/>\n",
       "<polyline clip-path=\"url(#clip02)\" style=\"stroke:#000000; stroke-width:1; stroke-opacity:0.5; fill:none\" stroke-dasharray=\"1, 2\" points=\"\n",
       "  47.6614,376.378 583.835,376.378 \n",
       "  \"/>\n",
       "<polyline clip-path=\"url(#clip02)\" style=\"stroke:#000000; stroke-width:1; stroke-opacity:0.5; fill:none\" stroke-dasharray=\"1, 2\" points=\"\n",
       "  47.6614,284.252 583.835,284.252 \n",
       "  \"/>\n",
       "<polyline clip-path=\"url(#clip02)\" style=\"stroke:#000000; stroke-width:1; stroke-opacity:0.5; fill:none\" stroke-dasharray=\"1, 2\" points=\"\n",
       "  47.6614,192.126 583.835,192.126 \n",
       "  \"/>\n",
       "<polyline clip-path=\"url(#clip02)\" style=\"stroke:#000000; stroke-width:1; stroke-opacity:0.5; fill:none\" stroke-dasharray=\"1, 2\" points=\"\n",
       "  47.6614,100 583.835,100 \n",
       "  \"/>\n",
       "<polyline clip-path=\"url(#clip02)\" style=\"stroke:#000000; stroke-width:1; stroke-opacity:0.5; fill:none\" stroke-dasharray=\"1, 2\" points=\"\n",
       "  47.6614,7.87402 583.835,7.87402 \n",
       "  \"/>\n",
       "<polyline clip-path=\"url(#clip00)\" style=\"stroke:#000000; stroke-width:1; stroke-opacity:1; fill:none\" points=\"\n",
       "  39.3701,376.378 592.126,376.378 \n",
       "  \"/>\n",
       "<polyline clip-path=\"url(#clip00)\" style=\"stroke:#000000; stroke-width:1; stroke-opacity:1; fill:none\" points=\"\n",
       "  39.3701,376.378 39.3701,370.85 \n",
       "  \"/>\n",
       "<polyline clip-path=\"url(#clip00)\" style=\"stroke:#000000; stroke-width:1; stroke-opacity:1; fill:none\" points=\"\n",
       "  149.921,376.378 149.921,370.85 \n",
       "  \"/>\n",
       "<polyline clip-path=\"url(#clip00)\" style=\"stroke:#000000; stroke-width:1; stroke-opacity:1; fill:none\" points=\"\n",
       "  260.472,376.378 260.472,370.85 \n",
       "  \"/>\n",
       "<polyline clip-path=\"url(#clip00)\" style=\"stroke:#000000; stroke-width:1; stroke-opacity:1; fill:none\" points=\"\n",
       "  371.024,376.378 371.024,370.85 \n",
       "  \"/>\n",
       "<polyline clip-path=\"url(#clip00)\" style=\"stroke:#000000; stroke-width:1; stroke-opacity:1; fill:none\" points=\"\n",
       "  481.575,376.378 481.575,370.85 \n",
       "  \"/>\n",
       "<polyline clip-path=\"url(#clip00)\" style=\"stroke:#000000; stroke-width:1; stroke-opacity:1; fill:none\" points=\"\n",
       "  592.126,376.378 592.126,370.85 \n",
       "  \"/>\n",
       "<polyline clip-path=\"url(#clip00)\" style=\"stroke:#000000; stroke-width:1; stroke-opacity:1; fill:none\" points=\"\n",
       "  39.3701,376.378 39.3701,7.87402 \n",
       "  \"/>\n",
       "<polyline clip-path=\"url(#clip00)\" style=\"stroke:#000000; stroke-width:1; stroke-opacity:1; fill:none\" points=\"\n",
       "  39.3701,376.378 47.6614,376.378 \n",
       "  \"/>\n",
       "<polyline clip-path=\"url(#clip00)\" style=\"stroke:#000000; stroke-width:1; stroke-opacity:1; fill:none\" points=\"\n",
       "  39.3701,284.252 47.6614,284.252 \n",
       "  \"/>\n",
       "<polyline clip-path=\"url(#clip00)\" style=\"stroke:#000000; stroke-width:1; stroke-opacity:1; fill:none\" points=\"\n",
       "  39.3701,192.126 47.6614,192.126 \n",
       "  \"/>\n",
       "<polyline clip-path=\"url(#clip00)\" style=\"stroke:#000000; stroke-width:1; stroke-opacity:1; fill:none\" points=\"\n",
       "  39.3701,100 47.6614,100 \n",
       "  \"/>\n",
       "<polyline clip-path=\"url(#clip00)\" style=\"stroke:#000000; stroke-width:1; stroke-opacity:1; fill:none\" points=\"\n",
       "  39.3701,7.87402 47.6614,7.87402 \n",
       "  \"/>\n",
       "<g clip-path=\"url(#clip00)\">\n",
       "<text style=\"fill:#000000; fill-opacity:1; font-family:Arial,Helvetica Neue,Helvetica,sans-serif; font-size:12; text-anchor:middle;\" transform=\"rotate(0, 39.3701, 390.178)\" x=\"39.3701\" y=\"390.178\">0</text>\n",
       "</g>\n",
       "<g clip-path=\"url(#clip00)\">\n",
       "<text style=\"fill:#000000; fill-opacity:1; font-family:Arial,Helvetica Neue,Helvetica,sans-serif; font-size:12; text-anchor:middle;\" transform=\"rotate(0, 149.921, 390.178)\" x=\"149.921\" y=\"390.178\">20</text>\n",
       "</g>\n",
       "<g clip-path=\"url(#clip00)\">\n",
       "<text style=\"fill:#000000; fill-opacity:1; font-family:Arial,Helvetica Neue,Helvetica,sans-serif; font-size:12; text-anchor:middle;\" transform=\"rotate(0, 260.472, 390.178)\" x=\"260.472\" y=\"390.178\">40</text>\n",
       "</g>\n",
       "<g clip-path=\"url(#clip00)\">\n",
       "<text style=\"fill:#000000; fill-opacity:1; font-family:Arial,Helvetica Neue,Helvetica,sans-serif; font-size:12; text-anchor:middle;\" transform=\"rotate(0, 371.024, 390.178)\" x=\"371.024\" y=\"390.178\">60</text>\n",
       "</g>\n",
       "<g clip-path=\"url(#clip00)\">\n",
       "<text style=\"fill:#000000; fill-opacity:1; font-family:Arial,Helvetica Neue,Helvetica,sans-serif; font-size:12; text-anchor:middle;\" transform=\"rotate(0, 481.575, 390.178)\" x=\"481.575\" y=\"390.178\">80</text>\n",
       "</g>\n",
       "<g clip-path=\"url(#clip00)\">\n",
       "<text style=\"fill:#000000; fill-opacity:1; font-family:Arial,Helvetica Neue,Helvetica,sans-serif; font-size:12; text-anchor:middle;\" transform=\"rotate(0, 592.126, 390.178)\" x=\"592.126\" y=\"390.178\">100</text>\n",
       "</g>\n",
       "<g clip-path=\"url(#clip00)\">\n",
       "<text style=\"fill:#000000; fill-opacity:1; font-family:Arial,Helvetica Neue,Helvetica,sans-serif; font-size:12; text-anchor:end;\" transform=\"rotate(0, 33.3701, 380.878)\" x=\"33.3701\" y=\"380.878\">-50</text>\n",
       "</g>\n",
       "<g clip-path=\"url(#clip00)\">\n",
       "<text style=\"fill:#000000; fill-opacity:1; font-family:Arial,Helvetica Neue,Helvetica,sans-serif; font-size:12; text-anchor:end;\" transform=\"rotate(0, 33.3701, 288.752)\" x=\"33.3701\" y=\"288.752\">-25</text>\n",
       "</g>\n",
       "<g clip-path=\"url(#clip00)\">\n",
       "<text style=\"fill:#000000; fill-opacity:1; font-family:Arial,Helvetica Neue,Helvetica,sans-serif; font-size:12; text-anchor:end;\" transform=\"rotate(0, 33.3701, 196.626)\" x=\"33.3701\" y=\"196.626\">0</text>\n",
       "</g>\n",
       "<g clip-path=\"url(#clip00)\">\n",
       "<text style=\"fill:#000000; fill-opacity:1; font-family:Arial,Helvetica Neue,Helvetica,sans-serif; font-size:12; text-anchor:end;\" transform=\"rotate(0, 33.3701, 104.5)\" x=\"33.3701\" y=\"104.5\">25</text>\n",
       "</g>\n",
       "<g clip-path=\"url(#clip00)\">\n",
       "<text style=\"fill:#000000; fill-opacity:1; font-family:Arial,Helvetica Neue,Helvetica,sans-serif; font-size:12; text-anchor:end;\" transform=\"rotate(0, 33.3701, 12.374)\" x=\"33.3701\" y=\"12.374\">50</text>\n",
       "</g>\n",
       "<polyline clip-path=\"url(#clip02)\" style=\"stroke:#009af9; stroke-width:1; stroke-opacity:1; fill:none\" points=\"\n",
       "  44.8976,192.126 50.4252,195.811 55.9528,199.496 61.4803,203.181 67.0079,206.866 72.5354,210.551 78.063,206.866 83.5906,210.551 89.1181,206.866 94.6457,203.181 \n",
       "  100.173,199.496 105.701,203.181 111.228,206.866 116.756,210.551 122.283,206.866 127.811,210.551 133.339,206.866 138.866,203.181 144.394,199.496 149.921,203.181 \n",
       "  155.449,206.866 160.976,203.181 166.504,199.496 172.031,203.181 177.559,206.866 183.087,210.551 188.614,206.866 194.142,203.181 199.669,206.866 205.197,203.181 \n",
       "  210.724,199.496 216.252,203.181 221.78,206.866 227.307,203.181 232.835,206.866 238.362,203.181 243.89,199.496 249.417,203.181 254.945,206.866 260.472,203.181 \n",
       "  266,206.866 271.528,203.181 277.055,206.866 282.583,210.551 288.11,206.866 293.638,203.181 299.165,206.866 304.693,203.181 310.22,206.866 315.748,203.181 \n",
       "  \n",
       "  \"/>\n",
       "<polyline clip-path=\"url(#clip02)\" style=\"stroke:#e26f46; stroke-width:1; stroke-opacity:1; fill:none\" points=\"\n",
       "  44.8976,192.126 50.4252,195.811 55.9528,199.496 61.4803,195.811 67.0079,199.496 72.5354,195.811 78.063,192.126 83.5906,195.811 89.1181,192.126 94.6457,188.441 \n",
       "  100.173,184.756 105.701,181.071 111.228,184.756 116.756,181.071 122.283,177.386 127.811,181.071 133.339,184.756 138.866,181.071 144.394,184.756 149.921,181.071 \n",
       "  155.449,177.386 160.976,173.701 166.504,177.386 172.031,173.701 177.559,170.016 183.087,173.701 188.614,170.016 194.142,166.331 199.669,162.646 205.197,166.331 \n",
       "  210.724,170.016 216.252,173.701 221.78,170.016 227.307,173.701 232.835,177.386 238.362,181.071 243.89,184.756 249.417,188.441 254.945,192.126 260.472,195.811 \n",
       "  266,192.126 271.528,195.811 277.055,199.496 282.583,195.811 288.11,199.496 293.638,203.181 299.165,206.866 304.693,210.551 310.22,206.866 315.748,210.551 \n",
       "  \n",
       "  \"/>\n",
       "<polyline clip-path=\"url(#clip02)\" style=\"stroke:#3da44d; stroke-width:1; stroke-opacity:1; fill:none\" points=\"\n",
       "  44.8976,192.126 50.4252,188.441 55.9528,192.126 61.4803,195.811 67.0079,199.496 72.5354,203.181 78.063,206.866 83.5906,203.181 89.1181,206.866 94.6457,210.551 \n",
       "  100.173,206.866 105.701,203.181 111.228,206.866 116.756,210.551 122.283,206.866 127.811,203.181 133.339,199.496 138.866,203.181 144.394,206.866 149.921,210.551 \n",
       "  155.449,214.236 160.976,217.921 166.504,221.606 172.031,217.921 177.559,214.236 183.087,217.921 188.614,221.606 194.142,225.291 199.669,221.606 205.197,217.921 \n",
       "  210.724,221.606 216.252,225.291 221.78,228.976 227.307,225.291 232.835,221.606 238.362,225.291 243.89,228.976 249.417,225.291 254.945,228.976 260.472,232.661 \n",
       "  266,228.976 271.528,232.661 277.055,228.976 282.583,232.661 288.11,236.346 293.638,240.031 299.165,236.346 304.693,240.031 310.22,236.346 315.748,240.031 \n",
       "  \n",
       "  \"/>\n",
       "<polyline clip-path=\"url(#clip02)\" style=\"stroke:#c271d2; stroke-width:1; stroke-opacity:1; fill:none\" points=\"\n",
       "  44.8976,192.126 50.4252,188.441 55.9528,192.126 61.4803,195.811 67.0079,199.496 72.5354,195.811 78.063,199.496 83.5906,195.811 89.1181,192.126 94.6457,195.811 \n",
       "  100.173,192.126 105.701,195.811 111.228,199.496 116.756,195.811 122.283,192.126 127.811,188.441 133.339,192.126 138.866,195.811 144.394,199.496 149.921,195.811 \n",
       "  155.449,199.496 160.976,203.181 166.504,199.496 172.031,195.811 177.559,199.496 183.087,195.811 188.614,192.126 194.142,188.441 199.669,184.756 205.197,181.071 \n",
       "  210.724,177.386 216.252,181.071 221.78,177.386 227.307,173.701 232.835,177.386 238.362,173.701 243.89,170.016 249.417,166.331 254.945,162.646 260.472,166.331 \n",
       "  266,162.646 271.528,166.331 277.055,162.646 282.583,158.961 288.11,162.646 293.638,158.961 299.165,155.276 304.693,151.591 310.22,147.906 315.748,151.591 \n",
       "  \n",
       "  \"/>\n",
       "<polyline clip-path=\"url(#clip02)\" style=\"stroke:#ac8d18; stroke-width:1; stroke-opacity:1; fill:none\" points=\"\n",
       "  44.8976,192.126 50.4252,195.811 55.9528,199.496 61.4803,203.181 67.0079,199.496 72.5354,195.811 78.063,199.496 83.5906,203.181 89.1181,199.496 94.6457,203.181 \n",
       "  100.173,199.496 105.701,195.811 111.228,192.126 116.756,188.441 122.283,192.126 127.811,195.811 133.339,199.496 138.866,203.181 144.394,206.866 149.921,210.551 \n",
       "  155.449,206.866 160.976,203.181 166.504,206.866 172.031,203.181 177.559,199.496 183.087,195.811 188.614,192.126 194.142,195.811 199.669,192.126 205.197,188.441 \n",
       "  210.724,192.126 216.252,195.811 221.78,192.126 227.307,195.811 232.835,192.126 238.362,188.441 243.89,184.756 249.417,181.071 254.945,184.756 260.472,188.441 \n",
       "  266,192.126 271.528,188.441 277.055,184.756 282.583,188.441 288.11,184.756 293.638,181.071 299.165,177.386 304.693,181.071 310.22,184.756 315.748,188.441 \n",
       "  \n",
       "  \"/>\n",
       "<polyline clip-path=\"url(#clip02)\" style=\"stroke:#00a9ad; stroke-width:1; stroke-opacity:1; fill:none\" points=\"\n",
       "  44.8976,192.126 50.4252,195.811 55.9528,199.496 61.4803,203.181 67.0079,199.496 72.5354,203.181 78.063,199.496 83.5906,195.811 89.1181,192.126 94.6457,195.811 \n",
       "  100.173,199.496 105.701,195.811 111.228,192.126 116.756,195.811 122.283,199.496 127.811,203.181 133.339,199.496 138.866,203.181 144.394,206.866 149.921,210.551 \n",
       "  155.449,206.866 160.976,210.551 166.504,206.866 172.031,203.181 177.559,206.866 183.087,203.181 188.614,199.496 194.142,195.811 199.669,192.126 205.197,195.811 \n",
       "  210.724,199.496 216.252,203.181 221.78,199.496 227.307,195.811 232.835,199.496 238.362,195.811 243.89,199.496 249.417,195.811 254.945,199.496 260.472,203.181 \n",
       "  266,206.866 271.528,210.551 277.055,214.236 282.583,217.921 288.11,221.606 293.638,217.921 299.165,214.236 304.693,210.551 310.22,206.866 315.748,203.181 \n",
       "  \n",
       "  \"/>\n",
       "<polyline clip-path=\"url(#clip02)\" style=\"stroke:#ed5d92; stroke-width:1; stroke-opacity:1; fill:none\" points=\"\n",
       "  44.8976,192.126 50.4252,195.811 55.9528,192.126 61.4803,188.441 67.0079,192.126 72.5354,188.441 78.063,184.756 83.5906,181.071 89.1181,184.756 94.6457,181.071 \n",
       "  100.173,177.386 105.701,181.071 111.228,184.756 116.756,181.071 122.283,184.756 127.811,188.441 133.339,192.126 138.866,195.811 144.394,199.496 149.921,203.181 \n",
       "  155.449,206.866 160.976,203.181 166.504,206.866 172.031,210.551 177.559,214.236 183.087,217.921 188.614,214.236 194.142,217.921 199.669,214.236 205.197,210.551 \n",
       "  210.724,214.236 216.252,210.551 221.78,214.236 227.307,210.551 232.835,214.236 238.362,210.551 243.89,206.866 249.417,203.181 254.945,206.866 260.472,210.551 \n",
       "  266,206.866 271.528,210.551 277.055,214.236 282.583,210.551 288.11,214.236 293.638,210.551 299.165,214.236 304.693,217.921 310.22,221.606 315.748,225.291 \n",
       "  \n",
       "  \"/>\n",
       "<polyline clip-path=\"url(#clip02)\" style=\"stroke:#c68125; stroke-width:1; stroke-opacity:1; fill:none\" points=\"\n",
       "  44.8976,192.126 50.4252,188.441 55.9528,184.756 61.4803,181.071 67.0079,184.756 72.5354,181.071 78.063,184.756 83.5906,181.071 89.1181,184.756 94.6457,181.071 \n",
       "  100.173,184.756 105.701,188.441 111.228,184.756 116.756,181.071 122.283,184.756 127.811,181.071 133.339,177.386 138.866,173.701 144.394,170.016 149.921,166.331 \n",
       "  155.449,162.646 160.976,166.331 166.504,162.646 172.031,158.961 177.559,162.646 183.087,158.961 188.614,155.276 194.142,151.591 199.669,155.276 205.197,158.961 \n",
       "  210.724,155.276 216.252,158.961 221.78,155.276 227.307,158.961 232.835,162.646 238.362,158.961 243.89,162.646 249.417,166.331 254.945,162.646 260.472,158.961 \n",
       "  266,155.276 271.528,158.961 277.055,155.276 282.583,151.591 288.11,147.906 293.638,144.22 299.165,147.906 304.693,144.22 310.22,140.535 315.748,136.85 \n",
       "  \n",
       "  \"/>\n",
       "<polyline clip-path=\"url(#clip02)\" style=\"stroke:#00a98d; stroke-width:1; stroke-opacity:1; fill:none\" points=\"\n",
       "  44.8976,192.126 50.4252,195.811 55.9528,192.126 61.4803,188.441 67.0079,184.756 72.5354,188.441 78.063,192.126 83.5906,188.441 89.1181,184.756 94.6457,181.071 \n",
       "  100.173,184.756 105.701,188.441 111.228,192.126 116.756,188.441 122.283,184.756 127.811,181.071 133.339,177.386 138.866,181.071 144.394,184.756 149.921,188.441 \n",
       "  155.449,192.126 160.976,195.811 166.504,192.126 172.031,188.441 177.559,184.756 183.087,188.441 188.614,184.756 194.142,181.071 199.669,184.756 205.197,188.441 \n",
       "  210.724,192.126 216.252,188.441 221.78,192.126 227.307,188.441 232.835,184.756 238.362,181.071 243.89,184.756 249.417,181.071 254.945,177.386 260.472,173.701 \n",
       "  266,177.386 271.528,173.701 277.055,170.016 282.583,173.701 288.11,170.016 293.638,166.331 299.165,162.646 304.693,166.331 310.22,162.646 315.748,158.961 \n",
       "  \n",
       "  \"/>\n",
       "<polyline clip-path=\"url(#clip02)\" style=\"stroke:#8e971d; stroke-width:1; stroke-opacity:1; fill:none\" points=\"\n",
       "  44.8976,192.126 50.4252,188.441 55.9528,192.126 61.4803,188.441 67.0079,192.126 72.5354,188.441 78.063,192.126 83.5906,195.811 89.1181,192.126 94.6457,188.441 \n",
       "  100.173,192.126 105.701,195.811 111.228,192.126 116.756,188.441 122.283,184.756 127.811,188.441 133.339,184.756 138.866,188.441 144.394,192.126 149.921,188.441 \n",
       "  155.449,184.756 160.976,188.441 166.504,192.126 172.031,188.441 177.559,192.126 183.087,188.441 188.614,192.126 194.142,195.811 199.669,192.126 205.197,195.811 \n",
       "  210.724,192.126 216.252,188.441 221.78,192.126 227.307,195.811 232.835,199.496 238.362,203.181 243.89,206.866 249.417,203.181 254.945,206.866 260.472,203.181 \n",
       "  266,206.866 271.528,203.181 277.055,199.496 282.583,203.181 288.11,199.496 293.638,203.181 299.165,206.866 304.693,203.181 310.22,206.866 315.748,203.181 \n",
       "  \n",
       "  \"/>\n",
       "<polyline clip-path=\"url(#clip02)\" style=\"stroke:#00a8cb; stroke-width:1; stroke-opacity:1; fill:none\" points=\"\n",
       "  44.8976,192.126 50.4252,195.811 55.9528,192.126 61.4803,188.441 67.0079,184.756 72.5354,188.441 78.063,192.126 83.5906,188.441 89.1181,184.756 94.6457,188.441 \n",
       "  100.173,184.756 105.701,188.441 111.228,192.126 116.756,195.811 122.283,199.496 127.811,195.811 133.339,199.496 138.866,195.811 144.394,199.496 149.921,195.811 \n",
       "  155.449,192.126 160.976,188.441 166.504,192.126 172.031,188.441 177.559,184.756 183.087,181.071 188.614,177.386 194.142,181.071 199.669,184.756 205.197,188.441 \n",
       "  210.724,184.756 216.252,188.441 221.78,192.126 227.307,188.441 232.835,184.756 238.362,181.071 243.89,177.386 249.417,173.701 254.945,177.386 260.472,173.701 \n",
       "  266,177.386 271.528,173.701 277.055,170.016 282.583,166.331 288.11,162.646 293.638,166.331 299.165,170.016 304.693,166.331 310.22,170.016 315.748,173.701 \n",
       "  \n",
       "  \"/>\n",
       "<polyline clip-path=\"url(#clip02)\" style=\"stroke:#9b7fe8; stroke-width:1; stroke-opacity:1; fill:none\" points=\"\n",
       "  44.8976,192.126 50.4252,195.811 55.9528,199.496 61.4803,195.811 67.0079,192.126 72.5354,195.811 78.063,192.126 83.5906,195.811 89.1181,192.126 94.6457,195.811 \n",
       "  100.173,192.126 105.701,195.811 111.228,199.496 116.756,195.811 122.283,199.496 127.811,195.811 133.339,199.496 138.866,203.181 144.394,199.496 149.921,195.811 \n",
       "  155.449,192.126 160.976,188.441 166.504,184.756 172.031,188.441 177.559,192.126 183.087,195.811 188.614,199.496 194.142,195.811 199.669,192.126 205.197,195.811 \n",
       "  210.724,192.126 216.252,195.811 221.78,192.126 227.307,188.441 232.835,184.756 238.362,181.071 243.89,177.386 249.417,173.701 254.945,170.016 260.472,166.331 \n",
       "  266,162.646 271.528,158.961 277.055,162.646 282.583,166.331 288.11,162.646 293.638,166.331 299.165,162.646 304.693,158.961 310.22,155.276 315.748,151.591 \n",
       "  \n",
       "  \"/>\n",
       "<polyline clip-path=\"url(#clip02)\" style=\"stroke:#608cf6; stroke-width:1; stroke-opacity:1; fill:none\" points=\"\n",
       "  44.8976,192.126 50.4252,188.441 55.9528,192.126 61.4803,188.441 67.0079,192.126 72.5354,188.441 78.063,192.126 83.5906,188.441 89.1181,184.756 94.6457,188.441 \n",
       "  100.173,192.126 105.701,195.811 111.228,192.126 116.756,195.811 122.283,192.126 127.811,188.441 133.339,192.126 138.866,188.441 144.394,184.756 149.921,188.441 \n",
       "  155.449,184.756 160.976,188.441 166.504,184.756 172.031,181.071 177.559,177.386 183.087,181.071 188.614,177.386 194.142,173.701 199.669,177.386 205.197,173.701 \n",
       "  210.724,177.386 216.252,181.071 221.78,184.756 227.307,188.441 232.835,192.126 238.362,188.441 243.89,184.756 249.417,181.071 254.945,184.756 260.472,188.441 \n",
       "  266,184.756 271.528,181.071 277.055,177.386 282.583,181.071 288.11,177.386 293.638,181.071 299.165,177.386 304.693,173.701 310.22,177.386 315.748,173.701 \n",
       "  \n",
       "  \"/>\n",
       "<polyline clip-path=\"url(#clip02)\" style=\"stroke:#f05f73; stroke-width:1; stroke-opacity:1; fill:none\" points=\"\n",
       "  44.8976,192.126 50.4252,188.441 55.9528,184.756 61.4803,188.441 67.0079,192.126 72.5354,188.441 78.063,192.126 83.5906,188.441 89.1181,184.756 94.6457,181.071 \n",
       "  100.173,177.386 105.701,181.071 111.228,177.386 116.756,173.701 122.283,170.016 127.811,166.331 133.339,162.646 138.866,166.331 144.394,170.016 149.921,173.701 \n",
       "  155.449,177.386 160.976,173.701 166.504,177.386 172.031,173.701 177.559,170.016 183.087,166.331 188.614,170.016 194.142,166.331 199.669,170.016 205.197,166.331 \n",
       "  210.724,170.016 216.252,173.701 221.78,170.016 227.307,166.331 232.835,170.016 238.362,166.331 243.89,170.016 249.417,166.331 254.945,162.646 260.472,158.961 \n",
       "  266,155.276 271.528,158.961 277.055,155.276 282.583,151.591 288.11,155.276 293.638,158.961 299.165,162.646 304.693,158.961 310.22,155.276 315.748,158.961 \n",
       "  \n",
       "  \"/>\n",
       "<polyline clip-path=\"url(#clip02)\" style=\"stroke:#dd64b5; stroke-width:1; stroke-opacity:1; fill:none\" points=\"\n",
       "  44.8976,192.126 50.4252,188.441 55.9528,184.756 61.4803,181.071 67.0079,177.386 72.5354,173.701 78.063,177.386 83.5906,173.701 89.1181,177.386 94.6457,181.071 \n",
       "  100.173,184.756 105.701,188.441 111.228,184.756 116.756,188.441 122.283,184.756 127.811,188.441 133.339,184.756 138.866,188.441 144.394,184.756 149.921,181.071 \n",
       "  155.449,177.386 160.976,181.071 166.504,184.756 172.031,181.071 177.559,177.386 183.087,173.701 188.614,170.016 194.142,166.331 199.669,162.646 205.197,166.331 \n",
       "  210.724,170.016 216.252,166.331 221.78,170.016 227.307,166.331 232.835,162.646 238.362,158.961 243.89,162.646 249.417,166.331 254.945,162.646 260.472,158.961 \n",
       "  266,155.276 271.528,151.591 277.055,147.906 282.583,151.591 288.11,147.906 293.638,144.22 299.165,140.535 304.693,136.85 310.22,133.165 315.748,129.48 \n",
       "  \n",
       "  \"/>\n",
       "<polyline clip-path=\"url(#clip02)\" style=\"stroke:#6b9e32; stroke-width:1; stroke-opacity:1; fill:none\" points=\"\n",
       "  44.8976,192.126 50.4252,195.811 55.9528,192.126 61.4803,188.441 67.0079,192.126 72.5354,195.811 78.063,192.126 83.5906,195.811 89.1181,192.126 94.6457,195.811 \n",
       "  100.173,192.126 105.701,188.441 111.228,192.126 116.756,188.441 122.283,192.126 127.811,195.811 133.339,199.496 138.866,195.811 144.394,192.126 149.921,195.811 \n",
       "  155.449,199.496 160.976,203.181 166.504,199.496 172.031,203.181 177.559,199.496 183.087,195.811 188.614,192.126 194.142,188.441 199.669,192.126 205.197,188.441 \n",
       "  210.724,184.756 216.252,181.071 221.78,177.386 227.307,173.701 232.835,177.386 238.362,181.071 243.89,184.756 249.417,181.071 254.945,177.386 260.472,173.701 \n",
       "  266,170.016 271.528,166.331 277.055,170.016 282.583,166.331 288.11,162.646 293.638,158.961 299.165,162.646 304.693,158.961 310.22,155.276 315.748,158.961 \n",
       "  \n",
       "  \"/>\n",
       "<polyline clip-path=\"url(#clip02)\" style=\"stroke:#718c69; stroke-width:1; stroke-opacity:1; fill:none\" points=\"\n",
       "  44.8976,192.126 50.4252,195.811 55.9528,192.126 61.4803,188.441 67.0079,184.756 72.5354,188.441 78.063,184.756 83.5906,188.441 89.1181,184.756 94.6457,188.441 \n",
       "  100.173,184.756 105.701,181.071 111.228,184.756 116.756,181.071 122.283,177.386 127.811,173.701 133.339,177.386 138.866,181.071 144.394,177.386 149.921,181.071 \n",
       "  155.449,184.756 160.976,181.071 166.504,177.386 172.031,173.701 177.559,177.386 183.087,173.701 188.614,170.016 194.142,173.701 199.669,170.016 205.197,173.701 \n",
       "  210.724,170.016 216.252,166.331 221.78,162.646 227.307,158.961 232.835,155.276 238.362,158.961 243.89,155.276 249.417,151.591 254.945,155.276 260.472,151.591 \n",
       "  266,155.276 271.528,158.961 277.055,155.276 282.583,151.591 288.11,147.906 293.638,151.591 299.165,155.276 304.693,158.961 310.22,155.276 315.748,151.591 \n",
       "  \n",
       "  \"/>\n",
       "<polyline clip-path=\"url(#clip02)\" style=\"stroke:#47988b; stroke-width:1; stroke-opacity:1; fill:none\" points=\"\n",
       "  44.8976,192.126 50.4252,188.441 55.9528,184.756 61.4803,181.071 67.0079,184.756 72.5354,188.441 78.063,184.756 83.5906,188.441 89.1181,192.126 94.6457,188.441 \n",
       "  100.173,184.756 105.701,188.441 111.228,192.126 116.756,188.441 122.283,184.756 127.811,181.071 133.339,184.756 138.866,188.441 144.394,184.756 149.921,181.071 \n",
       "  155.449,177.386 160.976,181.071 166.504,177.386 172.031,173.701 177.559,177.386 183.087,181.071 188.614,177.386 194.142,181.071 199.669,184.756 205.197,188.441 \n",
       "  210.724,184.756 216.252,181.071 221.78,177.386 227.307,173.701 232.835,170.016 238.362,166.331 243.89,162.646 249.417,158.961 254.945,162.646 260.472,158.961 \n",
       "  266,155.276 271.528,151.591 277.055,147.906 282.583,144.22 288.11,147.906 293.638,144.22 299.165,147.906 304.693,151.591 310.22,155.276 315.748,151.591 \n",
       "  \n",
       "  \"/>\n",
       "<polyline clip-path=\"url(#clip02)\" style=\"stroke:#1ea68c; stroke-width:1; stroke-opacity:1; fill:none\" points=\"\n",
       "  44.8976,192.126 50.4252,195.811 55.9528,192.126 61.4803,195.811 67.0079,199.496 72.5354,195.811 78.063,199.496 83.5906,203.181 89.1181,199.496 94.6457,203.181 \n",
       "  100.173,206.866 105.701,210.551 111.228,214.236 116.756,217.921 122.283,214.236 127.811,217.921 133.339,214.236 138.866,210.551 144.394,206.866 149.921,203.181 \n",
       "  155.449,199.496 160.976,195.811 166.504,192.126 172.031,188.441 177.559,192.126 183.087,195.811 188.614,192.126 194.142,188.441 199.669,192.126 205.197,195.811 \n",
       "  210.724,199.496 216.252,203.181 221.78,206.866 227.307,210.551 232.835,214.236 238.362,217.921 243.89,214.236 249.417,217.921 254.945,221.606 260.472,225.291 \n",
       "  266,221.606 271.528,225.291 277.055,221.606 282.583,225.291 288.11,228.976 293.638,225.291 299.165,221.606 304.693,217.921 310.22,221.606 315.748,225.291 \n",
       "  \n",
       "  \"/>\n",
       "<polyline clip-path=\"url(#clip02)\" style=\"stroke:#af78dd; stroke-width:1; stroke-opacity:1; fill:none\" points=\"\n",
       "  44.8976,192.126 50.4252,195.811 55.9528,192.126 61.4803,188.441 67.0079,184.756 72.5354,181.071 78.063,184.756 83.5906,181.071 89.1181,177.386 94.6457,181.071 \n",
       "  100.173,184.756 105.701,181.071 111.228,184.756 116.756,181.071 122.283,184.756 127.811,181.071 133.339,177.386 138.866,173.701 144.394,170.016 149.921,166.331 \n",
       "  155.449,162.646 160.976,166.331 166.504,162.646 172.031,158.961 177.559,155.276 183.087,151.591 188.614,147.906 194.142,144.22 199.669,140.535 205.197,136.85 \n",
       "  210.724,133.165 216.252,129.48 221.78,125.795 227.307,122.11 232.835,118.425 238.362,114.74 243.89,118.425 249.417,122.11 254.945,118.425 260.472,122.11 \n",
       "  266,125.795 271.528,122.11 277.055,118.425 282.583,122.11 288.11,118.425 293.638,114.74 299.165,111.055 304.693,114.74 310.22,118.425 315.748,122.11 \n",
       "  \n",
       "  \"/>\n",
       "<polyline clip-path=\"url(#clip02)\" style=\"stroke:#868d87; stroke-width:1; stroke-opacity:1; fill:none\" points=\"\n",
       "  44.8976,192.126 50.4252,188.441 55.9528,184.756 61.4803,181.071 67.0079,177.386 72.5354,173.701 78.063,177.386 83.5906,181.071 89.1181,184.756 94.6457,181.071 \n",
       "  100.173,177.386 105.701,181.071 111.228,177.386 116.756,181.071 122.283,177.386 127.811,181.071 133.339,177.386 138.866,181.071 144.394,184.756 149.921,181.071 \n",
       "  155.449,177.386 160.976,173.701 166.504,170.016 172.031,166.331 177.559,170.016 183.087,173.701 188.614,170.016 194.142,173.701 199.669,170.016 205.197,166.331 \n",
       "  210.724,162.646 216.252,166.331 221.78,162.646 227.307,158.961 232.835,162.646 238.362,158.961 243.89,162.646 249.417,158.961 254.945,155.276 260.472,151.591 \n",
       "  266,155.276 271.528,158.961 277.055,155.276 282.583,158.961 288.11,162.646 293.638,158.961 299.165,162.646 304.693,166.331 310.22,170.016 315.748,173.701 \n",
       "  \n",
       "  \"/>\n",
       "<polyline clip-path=\"url(#clip02)\" style=\"stroke:#47a065; stroke-width:1; stroke-opacity:1; fill:none\" points=\"\n",
       "  44.8976,192.126 50.4252,195.811 55.9528,199.496 61.4803,203.181 67.0079,206.866 72.5354,203.181 78.063,206.866 83.5906,210.551 89.1181,206.866 94.6457,210.551 \n",
       "  100.173,214.236 105.701,217.921 111.228,214.236 116.756,217.921 122.283,214.236 127.811,217.921 133.339,221.606 138.866,225.291 144.394,228.976 149.921,225.291 \n",
       "  155.449,221.606 160.976,225.291 166.504,228.976 172.031,232.661 177.559,236.346 183.087,240.031 188.614,236.346 194.142,232.661 199.669,236.346 205.197,240.031 \n",
       "  210.724,243.717 216.252,240.031 221.78,236.346 227.307,240.031 232.835,236.346 238.362,240.031 243.89,243.717 249.417,247.402 254.945,251.087 260.472,254.772 \n",
       "  266,251.087 271.528,254.772 277.055,251.087 282.583,247.402 288.11,251.087 293.638,254.772 299.165,258.457 304.693,254.772 310.22,251.087 315.748,247.402 \n",
       "  \n",
       "  \"/>\n",
       "<polyline clip-path=\"url(#clip02)\" style=\"stroke:#7683af; stroke-width:1; stroke-opacity:1; fill:none\" points=\"\n",
       "  44.8976,192.126 50.4252,195.811 55.9528,199.496 61.4803,195.811 67.0079,199.496 72.5354,203.181 78.063,199.496 83.5906,195.811 89.1181,192.126 94.6457,195.811 \n",
       "  100.173,199.496 105.701,203.181 111.228,199.496 116.756,195.811 122.283,192.126 127.811,195.811 133.339,199.496 138.866,203.181 144.394,206.866 149.921,203.181 \n",
       "  155.449,206.866 160.976,203.181 166.504,199.496 172.031,203.181 177.559,206.866 183.087,210.551 188.614,214.236 194.142,217.921 199.669,214.236 205.197,210.551 \n",
       "  210.724,206.866 216.252,203.181 221.78,206.866 227.307,203.181 232.835,206.866 238.362,210.551 243.89,206.866 249.417,210.551 254.945,214.236 260.472,210.551 \n",
       "  266,206.866 271.528,210.551 277.055,206.866 282.583,203.181 288.11,206.866 293.638,203.181 299.165,206.866 304.693,203.181 310.22,206.866 315.748,203.181 \n",
       "  \n",
       "  \"/>\n",
       "<polyline clip-path=\"url(#clip02)\" style=\"stroke:#b08086; stroke-width:1; stroke-opacity:1; fill:none\" points=\"\n",
       "  44.8976,192.126 50.4252,195.811 55.9528,192.126 61.4803,195.811 67.0079,192.126 72.5354,188.441 78.063,184.756 83.5906,181.071 89.1181,184.756 94.6457,181.071 \n",
       "  100.173,177.386 105.701,173.701 111.228,177.386 116.756,173.701 122.283,177.386 127.811,173.701 133.339,177.386 138.866,181.071 144.394,184.756 149.921,188.441 \n",
       "  155.449,184.756 160.976,181.071 166.504,184.756 172.031,181.071 177.559,184.756 183.087,188.441 188.614,184.756 194.142,181.071 199.669,177.386 205.197,173.701 \n",
       "  210.724,177.386 216.252,181.071 221.78,177.386 227.307,173.701 232.835,170.016 238.362,166.331 243.89,170.016 249.417,173.701 254.945,177.386 260.472,173.701 \n",
       "  266,177.386 271.528,181.071 277.055,177.386 282.583,181.071 288.11,177.386 293.638,173.701 299.165,177.386 304.693,181.071 310.22,177.386 315.748,181.071 \n",
       "  \n",
       "  \"/>\n",
       "<polyline clip-path=\"url(#clip02)\" style=\"stroke:#309ac1; stroke-width:1; stroke-opacity:1; fill:none\" points=\"\n",
       "  44.8976,192.126 50.4252,195.811 55.9528,192.126 61.4803,188.441 67.0079,192.126 72.5354,188.441 78.063,184.756 83.5906,181.071 89.1181,184.756 94.6457,181.071 \n",
       "  100.173,184.756 105.701,188.441 111.228,192.126 116.756,188.441 122.283,192.126 127.811,188.441 133.339,184.756 138.866,188.441 144.394,184.756 149.921,188.441 \n",
       "  155.449,192.126 160.976,195.811 166.504,192.126 172.031,195.811 177.559,199.496 183.087,203.181 188.614,206.866 194.142,210.551 199.669,214.236 205.197,210.551 \n",
       "  210.724,206.866 216.252,210.551 221.78,214.236 227.307,217.921 232.835,214.236 238.362,217.921 243.89,214.236 249.417,217.921 254.945,214.236 260.472,217.921 \n",
       "  266,214.236 271.528,210.551 277.055,206.866 282.583,210.551 288.11,206.866 293.638,203.181 299.165,199.496 304.693,203.181 310.22,199.496 315.748,203.181 \n",
       "  \n",
       "  \"/>\n",
       "<polyline clip-path=\"url(#clip02)\" style=\"stroke:#788490; stroke-width:1; stroke-opacity:1; fill:none\" points=\"\n",
       "  44.8976,192.126 50.4252,195.811 55.9528,192.126 61.4803,195.811 67.0079,199.496 72.5354,203.181 78.063,199.496 83.5906,195.811 89.1181,199.496 94.6457,195.811 \n",
       "  100.173,192.126 105.701,188.441 111.228,192.126 116.756,195.811 122.283,199.496 127.811,203.181 133.339,206.866 138.866,210.551 144.394,206.866 149.921,203.181 \n",
       "  155.449,206.866 160.976,203.181 166.504,206.866 172.031,210.551 177.559,214.236 183.087,210.551 188.614,206.866 194.142,210.551 199.669,206.866 205.197,210.551 \n",
       "  210.724,214.236 216.252,217.921 221.78,221.606 227.307,217.921 232.835,214.236 238.362,217.921 243.89,221.606 249.417,217.921 254.945,214.236 260.472,210.551 \n",
       "  266,206.866 271.528,203.181 277.055,206.866 282.583,203.181 288.11,199.496 293.638,203.181 299.165,206.866 304.693,203.181 310.22,199.496 315.748,203.181 \n",
       "  \n",
       "  \"/>\n",
       "<polyline clip-path=\"url(#clip02)\" style=\"stroke:#e561a4; stroke-width:1; stroke-opacity:1; fill:none\" points=\"\n",
       "  44.8976,192.126 50.4252,188.441 55.9528,184.756 61.4803,181.071 67.0079,184.756 72.5354,181.071 78.063,184.756 83.5906,181.071 89.1181,177.386 94.6457,181.071 \n",
       "  100.173,177.386 105.701,173.701 111.228,177.386 116.756,181.071 122.283,177.386 127.811,181.071 133.339,184.756 138.866,188.441 144.394,192.126 149.921,188.441 \n",
       "  155.449,192.126 160.976,188.441 166.504,192.126 172.031,195.811 177.559,199.496 183.087,195.811 188.614,192.126 194.142,188.441 199.669,192.126 205.197,195.811 \n",
       "  210.724,192.126 216.252,188.441 221.78,184.756 227.307,188.441 232.835,184.756 238.362,188.441 243.89,184.756 249.417,188.441 254.945,184.756 260.472,188.441 \n",
       "  266,184.756 271.528,181.071 277.055,184.756 282.583,181.071 288.11,177.386 293.638,173.701 299.165,170.016 304.693,166.331 310.22,170.016 315.748,166.331 \n",
       "  \n",
       "  \"/>\n",
       "<polyline clip-path=\"url(#clip02)\" style=\"stroke:#99902c; stroke-width:1; stroke-opacity:1; fill:none\" points=\"\n",
       "  44.8976,192.126 50.4252,195.811 55.9528,199.496 61.4803,195.811 67.0079,199.496 72.5354,195.811 78.063,199.496 83.5906,203.181 89.1181,206.866 94.6457,203.181 \n",
       "  100.173,199.496 105.701,195.811 111.228,192.126 116.756,195.811 122.283,192.126 127.811,188.441 133.339,184.756 138.866,188.441 144.394,192.126 149.921,188.441 \n",
       "  155.449,192.126 160.976,188.441 166.504,192.126 172.031,195.811 177.559,192.126 183.087,195.811 188.614,192.126 194.142,195.811 199.669,199.496 205.197,203.181 \n",
       "  210.724,199.496 216.252,195.811 221.78,192.126 227.307,195.811 232.835,199.496 238.362,203.181 243.89,199.496 249.417,195.811 254.945,199.496 260.472,195.811 \n",
       "  266,192.126 271.528,188.441 277.055,192.126 282.583,188.441 288.11,192.126 293.638,188.441 299.165,192.126 304.693,188.441 310.22,192.126 315.748,195.811 \n",
       "  \n",
       "  \"/>\n",
       "<polyline clip-path=\"url(#clip02)\" style=\"stroke:#389a7b; stroke-width:1; stroke-opacity:1; fill:none\" points=\"\n",
       "  44.8976,192.126 50.4252,188.441 55.9528,192.126 61.4803,195.811 67.0079,192.126 72.5354,195.811 78.063,192.126 83.5906,188.441 89.1181,184.756 94.6457,188.441 \n",
       "  100.173,192.126 105.701,188.441 111.228,184.756 116.756,188.441 122.283,192.126 127.811,195.811 133.339,192.126 138.866,195.811 144.394,199.496 149.921,203.181 \n",
       "  155.449,199.496 160.976,195.811 166.504,199.496 172.031,195.811 177.559,192.126 183.087,195.811 188.614,199.496 194.142,195.811 199.669,199.496 205.197,203.181 \n",
       "  210.724,199.496 216.252,195.811 221.78,199.496 227.307,203.181 232.835,199.496 238.362,195.811 243.89,199.496 249.417,195.811 254.945,192.126 260.472,188.441 \n",
       "  266,192.126 271.528,188.441 277.055,192.126 282.583,188.441 288.11,184.756 293.638,181.071 299.165,184.756 304.693,181.071 310.22,177.386 315.748,173.701 \n",
       "  \n",
       "  \"/>\n",
       "<polyline clip-path=\"url(#clip02)\" style=\"stroke:#d968a2; stroke-width:1; stroke-opacity:1; fill:none\" points=\"\n",
       "  44.8976,192.126 50.4252,188.441 55.9528,184.756 61.4803,188.441 67.0079,192.126 72.5354,188.441 78.063,192.126 83.5906,188.441 89.1181,184.756 94.6457,188.441 \n",
       "  100.173,192.126 105.701,188.441 111.228,192.126 116.756,195.811 122.283,192.126 127.811,195.811 133.339,192.126 138.866,188.441 144.394,184.756 149.921,188.441 \n",
       "  155.449,192.126 160.976,188.441 166.504,192.126 172.031,188.441 177.559,184.756 183.087,181.071 188.614,177.386 194.142,173.701 199.669,177.386 205.197,173.701 \n",
       "  210.724,170.016 216.252,166.331 221.78,162.646 227.307,166.331 232.835,162.646 238.362,166.331 243.89,170.016 249.417,173.701 254.945,177.386 260.472,181.071 \n",
       "  266,184.756 271.528,188.441 277.055,192.126 282.583,195.811 288.11,192.126 293.638,188.441 299.165,184.756 304.693,181.071 310.22,177.386 315.748,173.701 \n",
       "  \n",
       "  \"/>\n",
       "<polyline clip-path=\"url(#clip02)\" style=\"stroke:#009af9; stroke-width:1; stroke-opacity:1; fill:none\" points=\"\n",
       "  44.8976,192.126 50.4252,195.811 55.9528,192.126 61.4803,195.811 67.0079,199.496 72.5354,203.181 78.063,199.496 83.5906,203.181 89.1181,206.866 94.6457,210.551 \n",
       "  100.173,214.236 105.701,217.921 111.228,221.606 116.756,225.291 122.283,221.606 127.811,217.921 133.339,214.236 138.866,210.551 144.394,206.866 149.921,210.551 \n",
       "  155.449,206.866 160.976,210.551 166.504,214.236 172.031,217.921 177.559,221.606 183.087,217.921 188.614,221.606 194.142,225.291 199.669,221.606 205.197,225.291 \n",
       "  210.724,228.976 216.252,232.661 221.78,228.976 227.307,232.661 232.835,236.346 238.362,240.031 243.89,243.717 249.417,240.031 254.945,236.346 260.472,232.661 \n",
       "  266,228.976 271.528,232.661 277.055,228.976 282.583,225.291 288.11,221.606 293.638,217.921 299.165,221.606 304.693,225.291 310.22,221.606 315.748,217.921 \n",
       "  \n",
       "  \"/>\n",
       "<polyline clip-path=\"url(#clip02)\" style=\"stroke:#e26f46; stroke-width:1; stroke-opacity:1; fill:none\" points=\"\n",
       "  44.8976,192.126 50.4252,188.441 55.9528,192.126 61.4803,188.441 67.0079,192.126 72.5354,195.811 78.063,192.126 83.5906,195.811 89.1181,192.126 94.6457,195.811 \n",
       "  100.173,199.496 105.701,203.181 111.228,206.866 116.756,203.181 122.283,206.866 127.811,203.181 133.339,206.866 138.866,210.551 144.394,214.236 149.921,210.551 \n",
       "  155.449,214.236 160.976,217.921 166.504,221.606 172.031,217.921 177.559,214.236 183.087,210.551 188.614,206.866 194.142,203.181 199.669,206.866 205.197,210.551 \n",
       "  210.724,214.236 216.252,217.921 221.78,221.606 227.307,217.921 232.835,221.606 238.362,217.921 243.89,214.236 249.417,210.551 254.945,206.866 260.472,203.181 \n",
       "  266,206.866 271.528,203.181 277.055,206.866 282.583,210.551 288.11,214.236 293.638,210.551 299.165,206.866 304.693,210.551 310.22,206.866 315.748,210.551 \n",
       "  \n",
       "  \"/>\n",
       "<polyline clip-path=\"url(#clip02)\" style=\"stroke:#3da44d; stroke-width:1; stroke-opacity:1; fill:none\" points=\"\n",
       "  44.8976,192.126 50.4252,188.441 55.9528,192.126 61.4803,188.441 67.0079,192.126 72.5354,195.811 78.063,199.496 83.5906,195.811 89.1181,192.126 94.6457,188.441 \n",
       "  100.173,192.126 105.701,195.811 111.228,199.496 116.756,195.811 122.283,199.496 127.811,195.811 133.339,199.496 138.866,203.181 144.394,206.866 149.921,203.181 \n",
       "  155.449,199.496 160.976,203.181 166.504,206.866 172.031,210.551 177.559,206.866 183.087,210.551 188.614,214.236 194.142,217.921 199.669,214.236 205.197,210.551 \n",
       "  210.724,206.866 216.252,203.181 221.78,206.866 227.307,203.181 232.835,206.866 238.362,203.181 243.89,206.866 249.417,210.551 254.945,206.866 260.472,203.181 \n",
       "  266,206.866 271.528,203.181 277.055,199.496 282.583,195.811 288.11,199.496 293.638,203.181 299.165,199.496 304.693,195.811 310.22,192.126 315.748,195.811 \n",
       "  \n",
       "  \"/>\n",
       "<polyline clip-path=\"url(#clip02)\" style=\"stroke:#c271d2; stroke-width:1; stroke-opacity:1; fill:none\" points=\"\n",
       "  44.8976,192.126 50.4252,195.811 55.9528,192.126 61.4803,188.441 67.0079,184.756 72.5354,188.441 78.063,184.756 83.5906,188.441 89.1181,192.126 94.6457,188.441 \n",
       "  100.173,192.126 105.701,188.441 111.228,192.126 116.756,195.811 122.283,192.126 127.811,195.811 133.339,199.496 138.866,195.811 144.394,199.496 149.921,195.811 \n",
       "  155.449,199.496 160.976,195.811 166.504,199.496 172.031,195.811 177.559,199.496 183.087,203.181 188.614,199.496 194.142,195.811 199.669,199.496 205.197,195.811 \n",
       "  210.724,192.126 216.252,195.811 221.78,192.126 227.307,188.441 232.835,184.756 238.362,181.071 243.89,184.756 249.417,181.071 254.945,184.756 260.472,181.071 \n",
       "  266,184.756 271.528,188.441 277.055,192.126 282.583,195.811 288.11,192.126 293.638,188.441 299.165,184.756 304.693,188.441 310.22,192.126 315.748,195.811 \n",
       "  \n",
       "  \"/>\n",
       "<polyline clip-path=\"url(#clip02)\" style=\"stroke:#ac8d18; stroke-width:1; stroke-opacity:1; fill:none\" points=\"\n",
       "  44.8976,192.126 50.4252,195.811 55.9528,199.496 61.4803,203.181 67.0079,199.496 72.5354,195.811 78.063,192.126 83.5906,195.811 89.1181,192.126 94.6457,195.811 \n",
       "  100.173,199.496 105.701,195.811 111.228,199.496 116.756,195.811 122.283,199.496 127.811,195.811 133.339,192.126 138.866,188.441 144.394,184.756 149.921,188.441 \n",
       "  155.449,192.126 160.976,188.441 166.504,192.126 172.031,195.811 177.559,199.496 183.087,195.811 188.614,199.496 194.142,203.181 199.669,206.866 205.197,203.181 \n",
       "  210.724,206.866 216.252,203.181 221.78,199.496 227.307,203.181 232.835,206.866 238.362,203.181 243.89,206.866 249.417,203.181 254.945,199.496 260.472,203.181 \n",
       "  266,199.496 271.528,195.811 277.055,199.496 282.583,203.181 288.11,206.866 293.638,203.181 299.165,206.866 304.693,210.551 310.22,206.866 315.748,210.551 \n",
       "  \n",
       "  \"/>\n",
       "<polyline clip-path=\"url(#clip02)\" style=\"stroke:#00a9ad; stroke-width:1; stroke-opacity:1; fill:none\" points=\"\n",
       "  44.8976,192.126 50.4252,188.441 55.9528,184.756 61.4803,188.441 67.0079,184.756 72.5354,181.071 78.063,177.386 83.5906,181.071 89.1181,184.756 94.6457,188.441 \n",
       "  100.173,192.126 105.701,188.441 111.228,192.126 116.756,188.441 122.283,184.756 127.811,181.071 133.339,177.386 138.866,181.071 144.394,177.386 149.921,173.701 \n",
       "  155.449,177.386 160.976,181.071 166.504,177.386 172.031,181.071 177.559,177.386 183.087,173.701 188.614,177.386 194.142,181.071 199.669,184.756 205.197,181.071 \n",
       "  210.724,184.756 216.252,188.441 221.78,184.756 227.307,181.071 232.835,184.756 238.362,181.071 243.89,177.386 249.417,173.701 254.945,177.386 260.472,173.701 \n",
       "  266,177.386 271.528,181.071 277.055,184.756 282.583,188.441 288.11,184.756 293.638,181.071 299.165,177.386 304.693,173.701 310.22,170.016 315.748,166.331 \n",
       "  \n",
       "  \"/>\n",
       "<polyline clip-path=\"url(#clip02)\" style=\"stroke:#ed5d92; stroke-width:1; stroke-opacity:1; fill:none\" points=\"\n",
       "  44.8976,192.126 50.4252,188.441 55.9528,192.126 61.4803,195.811 67.0079,192.126 72.5354,188.441 78.063,184.756 83.5906,181.071 89.1181,177.386 94.6457,173.701 \n",
       "  100.173,170.016 105.701,173.701 111.228,170.016 116.756,173.701 122.283,177.386 127.811,181.071 133.339,177.386 138.866,181.071 144.394,184.756 149.921,181.071 \n",
       "  155.449,177.386 160.976,173.701 166.504,177.386 172.031,173.701 177.559,170.016 183.087,173.701 188.614,177.386 194.142,173.701 199.669,170.016 205.197,173.701 \n",
       "  210.724,177.386 216.252,173.701 221.78,177.386 227.307,173.701 232.835,177.386 238.362,173.701 243.89,170.016 249.417,173.701 254.945,177.386 260.472,181.071 \n",
       "  266,184.756 271.528,188.441 277.055,184.756 282.583,181.071 288.11,184.756 293.638,188.441 299.165,192.126 304.693,195.811 310.22,192.126 315.748,188.441 \n",
       "  \n",
       "  \"/>\n",
       "<polyline clip-path=\"url(#clip02)\" style=\"stroke:#c68125; stroke-width:1; stroke-opacity:1; fill:none\" points=\"\n",
       "  44.8976,192.126 50.4252,188.441 55.9528,192.126 61.4803,195.811 67.0079,192.126 72.5354,195.811 78.063,199.496 83.5906,203.181 89.1181,199.496 94.6457,195.811 \n",
       "  100.173,199.496 105.701,195.811 111.228,199.496 116.756,203.181 122.283,199.496 127.811,203.181 133.339,199.496 138.866,203.181 144.394,199.496 149.921,195.811 \n",
       "  155.449,199.496 160.976,203.181 166.504,199.496 172.031,195.811 177.559,192.126 183.087,195.811 188.614,192.126 194.142,188.441 199.669,184.756 205.197,181.071 \n",
       "  210.724,177.386 216.252,181.071 221.78,177.386 227.307,173.701 232.835,177.386 238.362,173.701 243.89,170.016 249.417,166.331 254.945,170.016 260.472,173.701 \n",
       "  266,170.016 271.528,173.701 277.055,170.016 282.583,173.701 288.11,170.016 293.638,173.701 299.165,170.016 304.693,166.331 310.22,162.646 315.748,166.331 \n",
       "  \n",
       "  \"/>\n",
       "<polyline clip-path=\"url(#clip02)\" style=\"stroke:#00a98d; stroke-width:1; stroke-opacity:1; fill:none\" points=\"\n",
       "  44.8976,192.126 50.4252,188.441 55.9528,192.126 61.4803,188.441 67.0079,184.756 72.5354,188.441 78.063,184.756 83.5906,181.071 89.1181,177.386 94.6457,173.701 \n",
       "  100.173,170.016 105.701,173.701 111.228,177.386 116.756,173.701 122.283,170.016 127.811,166.331 133.339,162.646 138.866,158.961 144.394,162.646 149.921,166.331 \n",
       "  155.449,170.016 160.976,173.701 166.504,177.386 172.031,173.701 177.559,170.016 183.087,173.701 188.614,170.016 194.142,166.331 199.669,162.646 205.197,158.961 \n",
       "  210.724,162.646 216.252,166.331 221.78,170.016 227.307,166.331 232.835,170.016 238.362,166.331 243.89,162.646 249.417,158.961 254.945,162.646 260.472,158.961 \n",
       "  266,155.276 271.528,151.591 277.055,155.276 282.583,151.591 288.11,155.276 293.638,158.961 299.165,155.276 304.693,151.591 310.22,147.906 315.748,144.22 \n",
       "  \n",
       "  \"/>\n",
       "<polyline clip-path=\"url(#clip02)\" style=\"stroke:#8e971d; stroke-width:1; stroke-opacity:1; fill:none\" points=\"\n",
       "  44.8976,192.126 50.4252,188.441 55.9528,184.756 61.4803,181.071 67.0079,177.386 72.5354,173.701 78.063,177.386 83.5906,181.071 89.1181,184.756 94.6457,188.441 \n",
       "  100.173,184.756 105.701,181.071 111.228,184.756 116.756,181.071 122.283,184.756 127.811,188.441 133.339,184.756 138.866,188.441 144.394,192.126 149.921,188.441 \n",
       "  155.449,192.126 160.976,195.811 166.504,199.496 172.031,195.811 177.559,199.496 183.087,195.811 188.614,199.496 194.142,203.181 199.669,206.866 205.197,210.551 \n",
       "  210.724,206.866 216.252,210.551 221.78,214.236 227.307,210.551 232.835,206.866 238.362,203.181 243.89,206.866 249.417,203.181 254.945,206.866 260.472,203.181 \n",
       "  266,199.496 271.528,203.181 277.055,199.496 282.583,195.811 288.11,199.496 293.638,203.181 299.165,206.866 304.693,210.551 310.22,214.236 315.748,210.551 \n",
       "  \n",
       "  \"/>\n",
       "<polyline clip-path=\"url(#clip02)\" style=\"stroke:#00a8cb; stroke-width:1; stroke-opacity:1; fill:none\" points=\"\n",
       "  44.8976,192.126 50.4252,188.441 55.9528,192.126 61.4803,195.811 67.0079,192.126 72.5354,188.441 78.063,192.126 83.5906,195.811 89.1181,192.126 94.6457,188.441 \n",
       "  100.173,184.756 105.701,188.441 111.228,184.756 116.756,181.071 122.283,184.756 127.811,188.441 133.339,184.756 138.866,188.441 144.394,184.756 149.921,181.071 \n",
       "  155.449,184.756 160.976,188.441 166.504,184.756 172.031,181.071 177.559,177.386 183.087,173.701 188.614,170.016 194.142,166.331 199.669,170.016 205.197,173.701 \n",
       "  210.724,170.016 216.252,173.701 221.78,177.386 227.307,173.701 232.835,170.016 238.362,166.331 243.89,170.016 249.417,173.701 254.945,170.016 260.472,166.331 \n",
       "  266,170.016 271.528,173.701 277.055,177.386 282.583,173.701 288.11,177.386 293.638,173.701 299.165,177.386 304.693,181.071 310.22,184.756 315.748,181.071 \n",
       "  \n",
       "  \"/>\n",
       "<polyline clip-path=\"url(#clip02)\" style=\"stroke:#9b7fe8; stroke-width:1; stroke-opacity:1; fill:none\" points=\"\n",
       "  44.8976,192.126 50.4252,188.441 55.9528,184.756 61.4803,181.071 67.0079,177.386 72.5354,181.071 78.063,177.386 83.5906,173.701 89.1181,177.386 94.6457,181.071 \n",
       "  100.173,184.756 105.701,188.441 111.228,192.126 116.756,195.811 122.283,192.126 127.811,195.811 133.339,192.126 138.866,188.441 144.394,184.756 149.921,188.441 \n",
       "  155.449,192.126 160.976,195.811 166.504,192.126 172.031,195.811 177.559,192.126 183.087,188.441 188.614,184.756 194.142,181.071 199.669,177.386 205.197,173.701 \n",
       "  210.724,177.386 216.252,181.071 221.78,184.756 227.307,188.441 232.835,192.126 238.362,188.441 243.89,192.126 249.417,188.441 254.945,192.126 260.472,195.811 \n",
       "  266,192.126 271.528,188.441 277.055,192.126 282.583,188.441 288.11,184.756 293.638,181.071 299.165,184.756 304.693,188.441 310.22,192.126 315.748,188.441 \n",
       "  \n",
       "  \"/>\n",
       "<polyline clip-path=\"url(#clip02)\" style=\"stroke:#608cf6; stroke-width:1; stroke-opacity:1; fill:none\" points=\"\n",
       "  44.8976,192.126 50.4252,195.811 55.9528,199.496 61.4803,203.181 67.0079,206.866 72.5354,210.551 78.063,214.236 83.5906,217.921 89.1181,214.236 94.6457,217.921 \n",
       "  100.173,221.606 105.701,225.291 111.228,228.976 116.756,225.291 122.283,228.976 127.811,225.291 133.339,228.976 138.866,232.661 144.394,236.346 149.921,232.661 \n",
       "  155.449,228.976 160.976,225.291 166.504,221.606 172.031,225.291 177.559,221.606 183.087,217.921 188.614,214.236 194.142,210.551 199.669,214.236 205.197,210.551 \n",
       "  210.724,214.236 216.252,217.921 221.78,221.606 227.307,217.921 232.835,221.606 238.362,225.291 243.89,221.606 249.417,225.291 254.945,228.976 260.472,232.661 \n",
       "  266,236.346 271.528,240.031 277.055,243.717 282.583,240.031 288.11,243.717 293.638,240.031 299.165,243.717 304.693,240.031 310.22,236.346 315.748,232.661 \n",
       "  \n",
       "  \"/>\n",
       "<polyline clip-path=\"url(#clip02)\" style=\"stroke:#f05f73; stroke-width:1; stroke-opacity:1; fill:none\" points=\"\n",
       "  44.8976,192.126 50.4252,195.811 55.9528,192.126 61.4803,195.811 67.0079,199.496 72.5354,203.181 78.063,206.866 83.5906,203.181 89.1181,199.496 94.6457,203.181 \n",
       "  100.173,206.866 105.701,210.551 111.228,206.866 116.756,210.551 122.283,214.236 127.811,217.921 133.339,214.236 138.866,217.921 144.394,221.606 149.921,217.921 \n",
       "  155.449,221.606 160.976,217.921 166.504,214.236 172.031,210.551 177.559,214.236 183.087,217.921 188.614,221.606 194.142,225.291 199.669,221.606 205.197,217.921 \n",
       "  210.724,214.236 216.252,210.551 221.78,214.236 227.307,217.921 232.835,221.606 238.362,217.921 243.89,214.236 249.417,210.551 254.945,214.236 260.472,217.921 \n",
       "  266,214.236 271.528,210.551 277.055,206.866 282.583,210.551 288.11,214.236 293.638,210.551 299.165,206.866 304.693,210.551 310.22,214.236 315.748,210.551 \n",
       "  \n",
       "  \"/>\n",
       "<polyline clip-path=\"url(#clip02)\" style=\"stroke:#dd64b5; stroke-width:1; stroke-opacity:1; fill:none\" points=\"\n",
       "  44.8976,192.126 50.4252,195.811 55.9528,199.496 61.4803,195.811 67.0079,199.496 72.5354,203.181 78.063,206.866 83.5906,210.551 89.1181,214.236 94.6457,210.551 \n",
       "  100.173,214.236 105.701,210.551 111.228,206.866 116.756,210.551 122.283,206.866 127.811,203.181 133.339,206.866 138.866,203.181 144.394,199.496 149.921,203.181 \n",
       "  155.449,199.496 160.976,195.811 166.504,199.496 172.031,203.181 177.559,206.866 183.087,210.551 188.614,214.236 194.142,217.921 199.669,221.606 205.197,225.291 \n",
       "  210.724,228.976 216.252,225.291 221.78,228.976 227.307,232.661 232.835,236.346 238.362,232.661 243.89,236.346 249.417,240.031 254.945,243.717 260.472,240.031 \n",
       "  266,243.717 271.528,240.031 277.055,236.346 282.583,232.661 288.11,236.346 293.638,232.661 299.165,228.976 304.693,232.661 310.22,236.346 315.748,232.661 \n",
       "  \n",
       "  \"/>\n",
       "<polyline clip-path=\"url(#clip02)\" style=\"stroke:#6b9e32; stroke-width:1; stroke-opacity:1; fill:none\" points=\"\n",
       "  44.8976,192.126 50.4252,188.441 55.9528,192.126 61.4803,188.441 67.0079,184.756 72.5354,181.071 78.063,184.756 83.5906,181.071 89.1181,184.756 94.6457,181.071 \n",
       "  100.173,184.756 105.701,188.441 111.228,184.756 116.756,181.071 122.283,184.756 127.811,188.441 133.339,192.126 138.866,195.811 144.394,192.126 149.921,195.811 \n",
       "  155.449,192.126 160.976,195.811 166.504,192.126 172.031,188.441 177.559,184.756 183.087,188.441 188.614,184.756 194.142,188.441 199.669,184.756 205.197,188.441 \n",
       "  210.724,184.756 216.252,181.071 221.78,177.386 227.307,181.071 232.835,177.386 238.362,181.071 243.89,184.756 249.417,181.071 254.945,177.386 260.472,181.071 \n",
       "  266,177.386 271.528,173.701 277.055,177.386 282.583,181.071 288.11,184.756 293.638,188.441 299.165,192.126 304.693,195.811 310.22,199.496 315.748,203.181 \n",
       "  \n",
       "  \"/>\n",
       "<polyline clip-path=\"url(#clip02)\" style=\"stroke:#718c69; stroke-width:1; stroke-opacity:1; fill:none\" points=\"\n",
       "  44.8976,192.126 50.4252,188.441 55.9528,184.756 61.4803,181.071 67.0079,184.756 72.5354,188.441 78.063,192.126 83.5906,188.441 89.1181,184.756 94.6457,181.071 \n",
       "  100.173,177.386 105.701,173.701 111.228,170.016 116.756,166.331 122.283,162.646 127.811,158.961 133.339,155.276 138.866,158.961 144.394,162.646 149.921,166.331 \n",
       "  155.449,162.646 160.976,158.961 166.504,155.276 172.031,151.591 177.559,147.906 183.087,151.591 188.614,155.276 194.142,151.591 199.669,155.276 205.197,151.591 \n",
       "  210.724,155.276 216.252,158.961 221.78,162.646 227.307,158.961 232.835,162.646 238.362,166.331 243.89,162.646 249.417,166.331 254.945,170.016 260.472,173.701 \n",
       "  266,177.386 271.528,181.071 277.055,177.386 282.583,173.701 288.11,177.386 293.638,181.071 299.165,177.386 304.693,181.071 310.22,177.386 315.748,173.701 \n",
       "  \n",
       "  \"/>\n",
       "<polyline clip-path=\"url(#clip02)\" style=\"stroke:#47988b; stroke-width:1; stroke-opacity:1; fill:none\" points=\"\n",
       "  44.8976,192.126 50.4252,188.441 55.9528,184.756 61.4803,181.071 67.0079,177.386 72.5354,173.701 78.063,170.016 83.5906,166.331 89.1181,170.016 94.6457,166.331 \n",
       "  100.173,170.016 105.701,166.331 111.228,162.646 116.756,166.331 122.283,162.646 127.811,166.331 133.339,162.646 138.866,158.961 144.394,162.646 149.921,158.961 \n",
       "  155.449,162.646 160.976,166.331 166.504,162.646 172.031,166.331 177.559,170.016 183.087,166.331 188.614,170.016 194.142,166.331 199.669,170.016 205.197,166.331 \n",
       "  210.724,170.016 216.252,166.331 221.78,170.016 227.307,166.331 232.835,170.016 238.362,166.331 243.89,170.016 249.417,166.331 254.945,162.646 260.472,158.961 \n",
       "  266,162.646 271.528,158.961 277.055,162.646 282.583,158.961 288.11,155.276 293.638,158.961 299.165,155.276 304.693,151.591 310.22,147.906 315.748,144.22 \n",
       "  \n",
       "  \"/>\n",
       "<polyline clip-path=\"url(#clip02)\" style=\"stroke:#1ea68c; stroke-width:1; stroke-opacity:1; fill:none\" points=\"\n",
       "  44.8976,192.126 50.4252,188.441 55.9528,184.756 61.4803,188.441 67.0079,184.756 72.5354,188.441 78.063,184.756 83.5906,181.071 89.1181,177.386 94.6457,173.701 \n",
       "  100.173,170.016 105.701,173.701 111.228,177.386 116.756,181.071 122.283,184.756 127.811,188.441 133.339,184.756 138.866,181.071 144.394,184.756 149.921,188.441 \n",
       "  155.449,184.756 160.976,181.071 166.504,184.756 172.031,188.441 177.559,184.756 183.087,188.441 188.614,184.756 194.142,188.441 199.669,192.126 205.197,195.811 \n",
       "  210.724,192.126 216.252,195.811 221.78,199.496 227.307,203.181 232.835,206.866 238.362,203.181 243.89,199.496 249.417,195.811 254.945,199.496 260.472,195.811 \n",
       "  266,192.126 271.528,188.441 277.055,184.756 282.583,188.441 288.11,192.126 293.638,195.811 299.165,199.496 304.693,195.811 310.22,199.496 315.748,195.811 \n",
       "  \n",
       "  \"/>\n",
       "<polyline clip-path=\"url(#clip02)\" style=\"stroke:#af78dd; stroke-width:1; stroke-opacity:1; fill:none\" points=\"\n",
       "  44.8976,192.126 50.4252,188.441 55.9528,184.756 61.4803,188.441 67.0079,192.126 72.5354,188.441 78.063,192.126 83.5906,195.811 89.1181,192.126 94.6457,188.441 \n",
       "  100.173,184.756 105.701,181.071 111.228,184.756 116.756,188.441 122.283,192.126 127.811,188.441 133.339,192.126 138.866,188.441 144.394,184.756 149.921,188.441 \n",
       "  155.449,192.126 160.976,195.811 166.504,199.496 172.031,203.181 177.559,206.866 183.087,203.181 188.614,206.866 194.142,210.551 199.669,206.866 205.197,210.551 \n",
       "  210.724,206.866 216.252,210.551 221.78,206.866 227.307,210.551 232.835,214.236 238.362,210.551 243.89,206.866 249.417,210.551 254.945,214.236 260.472,210.551 \n",
       "  266,214.236 271.528,217.921 277.055,214.236 282.583,217.921 288.11,214.236 293.638,210.551 299.165,214.236 304.693,210.551 310.22,206.866 315.748,210.551 \n",
       "  \n",
       "  \"/>\n",
       "<polyline clip-path=\"url(#clip02)\" style=\"stroke:#868d87; stroke-width:1; stroke-opacity:1; fill:none\" points=\"\n",
       "  44.8976,192.126 50.4252,188.441 55.9528,184.756 61.4803,188.441 67.0079,192.126 72.5354,188.441 78.063,192.126 83.5906,188.441 89.1181,184.756 94.6457,188.441 \n",
       "  100.173,192.126 105.701,188.441 111.228,184.756 116.756,188.441 122.283,192.126 127.811,195.811 133.339,192.126 138.866,188.441 144.394,184.756 149.921,181.071 \n",
       "  155.449,184.756 160.976,181.071 166.504,184.756 172.031,181.071 177.559,177.386 183.087,181.071 188.614,177.386 194.142,181.071 199.669,184.756 205.197,181.071 \n",
       "  210.724,184.756 216.252,181.071 221.78,177.386 227.307,173.701 232.835,177.386 238.362,173.701 243.89,177.386 249.417,173.701 254.945,177.386 260.472,173.701 \n",
       "  266,177.386 271.528,173.701 277.055,177.386 282.583,181.071 288.11,184.756 293.638,181.071 299.165,177.386 304.693,181.071 310.22,177.386 315.748,173.701 \n",
       "  \n",
       "  \"/>\n",
       "<polyline clip-path=\"url(#clip02)\" style=\"stroke:#47a065; stroke-width:1; stroke-opacity:1; fill:none\" points=\"\n",
       "  44.8976,192.126 50.4252,195.811 55.9528,192.126 61.4803,188.441 67.0079,192.126 72.5354,195.811 78.063,199.496 83.5906,203.181 89.1181,199.496 94.6457,195.811 \n",
       "  100.173,192.126 105.701,188.441 111.228,184.756 116.756,181.071 122.283,177.386 127.811,173.701 133.339,170.016 138.866,173.701 144.394,170.016 149.921,166.331 \n",
       "  155.449,170.016 160.976,173.701 166.504,170.016 172.031,166.331 177.559,162.646 183.087,166.331 188.614,170.016 194.142,173.701 199.669,177.386 205.197,181.071 \n",
       "  210.724,177.386 216.252,173.701 221.78,177.386 227.307,181.071 232.835,184.756 238.362,188.441 243.89,192.126 249.417,195.811 254.945,199.496 260.472,195.811 \n",
       "  266,199.496 271.528,195.811 277.055,192.126 282.583,188.441 288.11,184.756 293.638,188.441 299.165,184.756 304.693,188.441 310.22,192.126 315.748,195.811 \n",
       "  \n",
       "  \"/>\n",
       "<polyline clip-path=\"url(#clip02)\" style=\"stroke:#7683af; stroke-width:1; stroke-opacity:1; fill:none\" points=\"\n",
       "  44.8976,192.126 50.4252,195.811 55.9528,199.496 61.4803,195.811 67.0079,192.126 72.5354,195.811 78.063,192.126 83.5906,188.441 89.1181,192.126 94.6457,195.811 \n",
       "  100.173,199.496 105.701,203.181 111.228,206.866 116.756,203.181 122.283,206.866 127.811,203.181 133.339,199.496 138.866,203.181 144.394,199.496 149.921,203.181 \n",
       "  155.449,206.866 160.976,203.181 166.504,206.866 172.031,203.181 177.559,206.866 183.087,203.181 188.614,206.866 194.142,210.551 199.669,214.236 205.197,217.921 \n",
       "  210.724,221.606 216.252,217.921 221.78,214.236 227.307,217.921 232.835,221.606 238.362,217.921 243.89,221.606 249.417,217.921 254.945,214.236 260.472,217.921 \n",
       "  266,214.236 271.528,210.551 277.055,214.236 282.583,210.551 288.11,206.866 293.638,203.181 299.165,199.496 304.693,203.181 310.22,206.866 315.748,203.181 \n",
       "  \n",
       "  \"/>\n",
       "<polyline clip-path=\"url(#clip02)\" style=\"stroke:#b08086; stroke-width:1; stroke-opacity:1; fill:none\" points=\"\n",
       "  44.8976,192.126 50.4252,188.441 55.9528,184.756 61.4803,181.071 67.0079,177.386 72.5354,181.071 78.063,184.756 83.5906,181.071 89.1181,177.386 94.6457,173.701 \n",
       "  100.173,170.016 105.701,173.701 111.228,177.386 116.756,181.071 122.283,177.386 127.811,181.071 133.339,184.756 138.866,188.441 144.394,184.756 149.921,181.071 \n",
       "  155.449,184.756 160.976,181.071 166.504,177.386 172.031,181.071 177.559,184.756 183.087,188.441 188.614,184.756 194.142,188.441 199.669,192.126 205.197,195.811 \n",
       "  210.724,199.496 216.252,195.811 221.78,199.496 227.307,195.811 232.835,192.126 238.362,195.811 243.89,199.496 249.417,195.811 254.945,192.126 260.472,195.811 \n",
       "  266,199.496 271.528,203.181 277.055,206.866 282.583,203.181 288.11,199.496 293.638,203.181 299.165,206.866 304.693,210.551 310.22,206.866 315.748,203.181 \n",
       "  \n",
       "  \"/>\n",
       "<polyline clip-path=\"url(#clip02)\" style=\"stroke:#309ac1; stroke-width:1; stroke-opacity:1; fill:none\" points=\"\n",
       "  44.8976,192.126 50.4252,188.441 55.9528,184.756 61.4803,181.071 67.0079,184.756 72.5354,181.071 78.063,177.386 83.5906,181.071 89.1181,184.756 94.6457,188.441 \n",
       "  100.173,184.756 105.701,181.071 111.228,184.756 116.756,188.441 122.283,192.126 127.811,195.811 133.339,192.126 138.866,188.441 144.394,192.126 149.921,188.441 \n",
       "  155.449,192.126 160.976,195.811 166.504,199.496 172.031,195.811 177.559,192.126 183.087,195.811 188.614,199.496 194.142,203.181 199.669,199.496 205.197,203.181 \n",
       "  210.724,206.866 216.252,203.181 221.78,206.866 227.307,210.551 232.835,214.236 238.362,217.921 243.89,221.606 249.417,217.921 254.945,221.606 260.472,217.921 \n",
       "  266,221.606 271.528,225.291 277.055,221.606 282.583,217.921 288.11,221.606 293.638,217.921 299.165,221.606 304.693,225.291 310.22,228.976 315.748,232.661 \n",
       "  \n",
       "  \"/>\n",
       "<polyline clip-path=\"url(#clip02)\" style=\"stroke:#788490; stroke-width:1; stroke-opacity:1; fill:none\" points=\"\n",
       "  44.8976,192.126 50.4252,188.441 55.9528,184.756 61.4803,181.071 67.0079,177.386 72.5354,173.701 78.063,177.386 83.5906,181.071 89.1181,177.386 94.6457,173.701 \n",
       "  100.173,177.386 105.701,173.701 111.228,170.016 116.756,166.331 122.283,170.016 127.811,166.331 133.339,162.646 138.866,166.331 144.394,170.016 149.921,173.701 \n",
       "  155.449,177.386 160.976,181.071 166.504,177.386 172.031,173.701 177.559,177.386 183.087,181.071 188.614,184.756 194.142,188.441 199.669,192.126 205.197,188.441 \n",
       "  210.724,184.756 216.252,181.071 221.78,177.386 227.307,181.071 232.835,184.756 238.362,181.071 243.89,177.386 249.417,181.071 254.945,184.756 260.472,181.071 \n",
       "  266,177.386 271.528,181.071 277.055,184.756 282.583,181.071 288.11,177.386 293.638,181.071 299.165,177.386 304.693,181.071 310.22,184.756 315.748,188.441 \n",
       "  \n",
       "  \"/>\n",
       "<polyline clip-path=\"url(#clip02)\" style=\"stroke:#e561a4; stroke-width:1; stroke-opacity:1; fill:none\" points=\"\n",
       "  44.8976,192.126 50.4252,188.441 55.9528,192.126 61.4803,195.811 67.0079,199.496 72.5354,195.811 78.063,192.126 83.5906,188.441 89.1181,192.126 94.6457,195.811 \n",
       "  100.173,199.496 105.701,203.181 111.228,206.866 116.756,210.551 122.283,214.236 127.811,210.551 133.339,214.236 138.866,217.921 144.394,214.236 149.921,217.921 \n",
       "  155.449,221.606 160.976,217.921 166.504,214.236 172.031,210.551 177.559,214.236 183.087,217.921 188.614,221.606 194.142,225.291 199.669,228.976 205.197,232.661 \n",
       "  210.724,228.976 216.252,225.291 221.78,221.606 227.307,225.291 232.835,221.606 238.362,225.291 243.89,228.976 249.417,225.291 254.945,221.606 260.472,217.921 \n",
       "  266,221.606 271.528,217.921 277.055,221.606 282.583,225.291 288.11,228.976 293.638,225.291 299.165,221.606 304.693,217.921 310.22,221.606 315.748,217.921 \n",
       "  \n",
       "  \"/>\n",
       "<polyline clip-path=\"url(#clip02)\" style=\"stroke:#99902c; stroke-width:1; stroke-opacity:1; fill:none\" points=\"\n",
       "  44.8976,192.126 50.4252,188.441 55.9528,192.126 61.4803,195.811 67.0079,199.496 72.5354,195.811 78.063,192.126 83.5906,188.441 89.1181,192.126 94.6457,188.441 \n",
       "  100.173,184.756 105.701,181.071 111.228,177.386 116.756,181.071 122.283,184.756 127.811,181.071 133.339,177.386 138.866,173.701 144.394,170.016 149.921,173.701 \n",
       "  155.449,177.386 160.976,173.701 166.504,170.016 172.031,166.331 177.559,162.646 183.087,158.961 188.614,155.276 194.142,158.961 199.669,155.276 205.197,151.591 \n",
       "  210.724,155.276 216.252,158.961 221.78,162.646 227.307,158.961 232.835,155.276 238.362,151.591 243.89,155.276 249.417,151.591 254.945,155.276 260.472,151.591 \n",
       "  266,147.906 271.528,151.591 277.055,147.906 282.583,144.22 288.11,140.535 293.638,144.22 299.165,140.535 304.693,136.85 310.22,140.535 315.748,144.22 \n",
       "  \n",
       "  \"/>\n",
       "<polyline clip-path=\"url(#clip02)\" style=\"stroke:#389a7b; stroke-width:1; stroke-opacity:1; fill:none\" points=\"\n",
       "  44.8976,192.126 50.4252,188.441 55.9528,192.126 61.4803,188.441 67.0079,192.126 72.5354,188.441 78.063,192.126 83.5906,195.811 89.1181,192.126 94.6457,188.441 \n",
       "  100.173,184.756 105.701,181.071 111.228,184.756 116.756,188.441 122.283,184.756 127.811,188.441 133.339,184.756 138.866,181.071 144.394,177.386 149.921,173.701 \n",
       "  155.449,177.386 160.976,173.701 166.504,170.016 172.031,173.701 177.559,177.386 183.087,173.701 188.614,170.016 194.142,173.701 199.669,177.386 205.197,173.701 \n",
       "  210.724,170.016 216.252,173.701 221.78,177.386 227.307,173.701 232.835,170.016 238.362,173.701 243.89,170.016 249.417,166.331 254.945,162.646 260.472,158.961 \n",
       "  266,162.646 271.528,166.331 277.055,162.646 282.583,166.331 288.11,170.016 293.638,173.701 299.165,170.016 304.693,166.331 310.22,162.646 315.748,166.331 \n",
       "  \n",
       "  \"/>\n",
       "<polyline clip-path=\"url(#clip02)\" style=\"stroke:#d968a2; stroke-width:1; stroke-opacity:1; fill:none\" points=\"\n",
       "  44.8976,192.126 50.4252,195.811 55.9528,192.126 61.4803,188.441 67.0079,192.126 72.5354,195.811 78.063,192.126 83.5906,195.811 89.1181,192.126 94.6457,195.811 \n",
       "  100.173,192.126 105.701,188.441 111.228,192.126 116.756,188.441 122.283,192.126 127.811,195.811 133.339,192.126 138.866,195.811 144.394,192.126 149.921,188.441 \n",
       "  155.449,184.756 160.976,181.071 166.504,184.756 172.031,188.441 177.559,184.756 183.087,188.441 188.614,192.126 194.142,195.811 199.669,199.496 205.197,195.811 \n",
       "  210.724,192.126 216.252,188.441 221.78,184.756 227.307,181.071 232.835,184.756 238.362,181.071 243.89,184.756 249.417,188.441 254.945,192.126 260.472,188.441 \n",
       "  266,192.126 271.528,195.811 277.055,192.126 282.583,188.441 288.11,192.126 293.638,195.811 299.165,199.496 304.693,203.181 310.22,206.866 315.748,203.181 \n",
       "  \n",
       "  \"/>\n",
       "<polyline clip-path=\"url(#clip02)\" style=\"stroke:#009af9; stroke-width:1; stroke-opacity:1; fill:none\" points=\"\n",
       "  44.8976,192.126 50.4252,195.811 55.9528,192.126 61.4803,188.441 67.0079,184.756 72.5354,188.441 78.063,184.756 83.5906,181.071 89.1181,177.386 94.6457,173.701 \n",
       "  100.173,170.016 105.701,166.331 111.228,170.016 116.756,166.331 122.283,162.646 127.811,158.961 133.339,155.276 138.866,158.961 144.394,162.646 149.921,166.331 \n",
       "  155.449,170.016 160.976,166.331 166.504,170.016 172.031,173.701 177.559,177.386 183.087,173.701 188.614,170.016 194.142,166.331 199.669,170.016 205.197,173.701 \n",
       "  210.724,170.016 216.252,173.701 221.78,170.016 227.307,166.331 232.835,170.016 238.362,173.701 243.89,170.016 249.417,166.331 254.945,162.646 260.472,166.331 \n",
       "  266,170.016 271.528,166.331 277.055,162.646 282.583,166.331 288.11,162.646 293.638,158.961 299.165,155.276 304.693,151.591 310.22,147.906 315.748,151.591 \n",
       "  \n",
       "  \"/>\n",
       "<polyline clip-path=\"url(#clip02)\" style=\"stroke:#e26f46; stroke-width:1; stroke-opacity:1; fill:none\" points=\"\n",
       "  44.8976,192.126 50.4252,188.441 55.9528,192.126 61.4803,188.441 67.0079,184.756 72.5354,188.441 78.063,192.126 83.5906,195.811 89.1181,192.126 94.6457,195.811 \n",
       "  100.173,199.496 105.701,195.811 111.228,199.496 116.756,195.811 122.283,199.496 127.811,203.181 133.339,199.496 138.866,195.811 144.394,199.496 149.921,203.181 \n",
       "  155.449,199.496 160.976,195.811 166.504,199.496 172.031,203.181 177.559,199.496 183.087,203.181 188.614,206.866 194.142,210.551 199.669,214.236 205.197,217.921 \n",
       "  210.724,214.236 216.252,210.551 221.78,206.866 227.307,210.551 232.835,206.866 238.362,210.551 243.89,214.236 249.417,217.921 254.945,214.236 260.472,210.551 \n",
       "  266,214.236 271.528,217.921 277.055,214.236 282.583,210.551 288.11,206.866 293.638,203.181 299.165,199.496 304.693,203.181 310.22,199.496 315.748,195.811 \n",
       "  \n",
       "  \"/>\n",
       "<polyline clip-path=\"url(#clip02)\" style=\"stroke:#3da44d; stroke-width:1; stroke-opacity:1; fill:none\" points=\"\n",
       "  44.8976,192.126 50.4252,195.811 55.9528,199.496 61.4803,203.181 67.0079,199.496 72.5354,203.181 78.063,199.496 83.5906,203.181 89.1181,206.866 94.6457,203.181 \n",
       "  100.173,199.496 105.701,195.811 111.228,192.126 116.756,188.441 122.283,192.126 127.811,188.441 133.339,184.756 138.866,181.071 144.394,184.756 149.921,188.441 \n",
       "  155.449,184.756 160.976,181.071 166.504,177.386 172.031,181.071 177.559,177.386 183.087,173.701 188.614,170.016 194.142,173.701 199.669,170.016 205.197,173.701 \n",
       "  210.724,170.016 216.252,173.701 221.78,170.016 227.307,166.331 232.835,170.016 238.362,166.331 243.89,170.016 249.417,173.701 254.945,170.016 260.472,173.701 \n",
       "  266,170.016 271.528,173.701 277.055,170.016 282.583,173.701 288.11,170.016 293.638,173.701 299.165,177.386 304.693,173.701 310.22,170.016 315.748,166.331 \n",
       "  \n",
       "  \"/>\n",
       "<polyline clip-path=\"url(#clip02)\" style=\"stroke:#c271d2; stroke-width:1; stroke-opacity:1; fill:none\" points=\"\n",
       "  44.8976,192.126 50.4252,188.441 55.9528,192.126 61.4803,195.811 67.0079,199.496 72.5354,203.181 78.063,206.866 83.5906,203.181 89.1181,206.866 94.6457,203.181 \n",
       "  100.173,199.496 105.701,203.181 111.228,206.866 116.756,210.551 122.283,214.236 127.811,217.921 133.339,221.606 138.866,217.921 144.394,214.236 149.921,217.921 \n",
       "  155.449,214.236 160.976,210.551 166.504,214.236 172.031,210.551 177.559,214.236 183.087,210.551 188.614,214.236 194.142,210.551 199.669,214.236 205.197,217.921 \n",
       "  210.724,221.606 216.252,217.921 221.78,214.236 227.307,217.921 232.835,214.236 238.362,210.551 243.89,214.236 249.417,210.551 254.945,214.236 260.472,217.921 \n",
       "  266,221.606 271.528,217.921 277.055,214.236 282.583,217.921 288.11,221.606 293.638,225.291 299.165,221.606 304.693,217.921 310.22,214.236 315.748,210.551 \n",
       "  \n",
       "  \"/>\n",
       "<polyline clip-path=\"url(#clip02)\" style=\"stroke:#ac8d18; stroke-width:1; stroke-opacity:1; fill:none\" points=\"\n",
       "  44.8976,192.126 50.4252,195.811 55.9528,192.126 61.4803,195.811 67.0079,199.496 72.5354,203.181 78.063,206.866 83.5906,210.551 89.1181,206.866 94.6457,203.181 \n",
       "  100.173,206.866 105.701,210.551 111.228,206.866 116.756,210.551 122.283,214.236 127.811,217.921 133.339,221.606 138.866,225.291 144.394,221.606 149.921,217.921 \n",
       "  155.449,214.236 160.976,217.921 166.504,221.606 172.031,217.921 177.559,214.236 183.087,210.551 188.614,206.866 194.142,210.551 199.669,206.866 205.197,203.181 \n",
       "  210.724,206.866 216.252,203.181 221.78,206.866 227.307,210.551 232.835,214.236 238.362,210.551 243.89,206.866 249.417,210.551 254.945,214.236 260.472,217.921 \n",
       "  266,221.606 271.528,217.921 277.055,221.606 282.583,225.291 288.11,228.976 293.638,232.661 299.165,236.346 304.693,240.031 310.22,236.346 315.748,232.661 \n",
       "  \n",
       "  \"/>\n",
       "<polyline clip-path=\"url(#clip02)\" style=\"stroke:#00a9ad; stroke-width:1; stroke-opacity:1; fill:none\" points=\"\n",
       "  44.8976,192.126 50.4252,188.441 55.9528,184.756 61.4803,188.441 67.0079,184.756 72.5354,188.441 78.063,184.756 83.5906,181.071 89.1181,177.386 94.6457,173.701 \n",
       "  100.173,170.016 105.701,173.701 111.228,177.386 116.756,173.701 122.283,177.386 127.811,181.071 133.339,184.756 138.866,188.441 144.394,184.756 149.921,188.441 \n",
       "  155.449,184.756 160.976,188.441 166.504,184.756 172.031,188.441 177.559,192.126 183.087,195.811 188.614,192.126 194.142,195.811 199.669,199.496 205.197,203.181 \n",
       "  210.724,199.496 216.252,195.811 221.78,192.126 227.307,188.441 232.835,184.756 238.362,181.071 243.89,177.386 249.417,173.701 254.945,170.016 260.472,166.331 \n",
       "  266,170.016 271.528,166.331 277.055,162.646 282.583,158.961 288.11,155.276 293.638,158.961 299.165,155.276 304.693,158.961 310.22,162.646 315.748,158.961 \n",
       "  \n",
       "  \"/>\n",
       "<polyline clip-path=\"url(#clip02)\" style=\"stroke:#ed5d92; stroke-width:1; stroke-opacity:1; fill:none\" points=\"\n",
       "  44.8976,192.126 50.4252,188.441 55.9528,192.126 61.4803,188.441 67.0079,184.756 72.5354,188.441 78.063,184.756 83.5906,188.441 89.1181,192.126 94.6457,195.811 \n",
       "  100.173,192.126 105.701,188.441 111.228,184.756 116.756,188.441 122.283,192.126 127.811,188.441 133.339,184.756 138.866,181.071 144.394,177.386 149.921,181.071 \n",
       "  155.449,184.756 160.976,181.071 166.504,184.756 172.031,181.071 177.559,177.386 183.087,173.701 188.614,177.386 194.142,173.701 199.669,170.016 205.197,166.331 \n",
       "  210.724,162.646 216.252,158.961 221.78,162.646 227.307,158.961 232.835,155.276 238.362,151.591 243.89,147.906 249.417,144.22 254.945,147.906 260.472,151.591 \n",
       "  266,147.906 271.528,151.591 277.055,155.276 282.583,151.591 288.11,147.906 293.638,144.22 299.165,140.535 304.693,136.85 310.22,133.165 315.748,129.48 \n",
       "  \n",
       "  \"/>\n",
       "<polyline clip-path=\"url(#clip02)\" style=\"stroke:#c68125; stroke-width:1; stroke-opacity:1; fill:none\" points=\"\n",
       "  44.8976,192.126 50.4252,188.441 55.9528,192.126 61.4803,195.811 67.0079,192.126 72.5354,188.441 78.063,192.126 83.5906,195.811 89.1181,192.126 94.6457,188.441 \n",
       "  100.173,192.126 105.701,195.811 111.228,192.126 116.756,195.811 122.283,192.126 127.811,195.811 133.339,192.126 138.866,195.811 144.394,192.126 149.921,188.441 \n",
       "  155.449,192.126 160.976,188.441 166.504,184.756 172.031,181.071 177.559,184.756 183.087,181.071 188.614,184.756 194.142,188.441 199.669,192.126 205.197,188.441 \n",
       "  210.724,184.756 216.252,181.071 221.78,184.756 227.307,188.441 232.835,184.756 238.362,188.441 243.89,184.756 249.417,188.441 254.945,192.126 260.472,188.441 \n",
       "  266,184.756 271.528,188.441 277.055,192.126 282.583,195.811 288.11,192.126 293.638,188.441 299.165,184.756 304.693,181.071 310.22,184.756 315.748,181.071 \n",
       "  \n",
       "  \"/>\n",
       "<polyline clip-path=\"url(#clip02)\" style=\"stroke:#00a98d; stroke-width:1; stroke-opacity:1; fill:none\" points=\"\n",
       "  44.8976,192.126 50.4252,188.441 55.9528,184.756 61.4803,181.071 67.0079,177.386 72.5354,181.071 78.063,184.756 83.5906,188.441 89.1181,184.756 94.6457,188.441 \n",
       "  100.173,192.126 105.701,195.811 111.228,199.496 116.756,195.811 122.283,192.126 127.811,195.811 133.339,199.496 138.866,203.181 144.394,199.496 149.921,203.181 \n",
       "  155.449,199.496 160.976,203.181 166.504,199.496 172.031,203.181 177.559,206.866 183.087,203.181 188.614,206.866 194.142,210.551 199.669,214.236 205.197,210.551 \n",
       "  210.724,214.236 216.252,210.551 221.78,206.866 227.307,203.181 232.835,206.866 238.362,210.551 243.89,206.866 249.417,203.181 254.945,199.496 260.472,195.811 \n",
       "  266,192.126 271.528,188.441 277.055,192.126 282.583,188.441 288.11,192.126 293.638,188.441 299.165,192.126 304.693,188.441 310.22,184.756 315.748,181.071 \n",
       "  \n",
       "  \"/>\n",
       "<polyline clip-path=\"url(#clip02)\" style=\"stroke:#8e971d; stroke-width:1; stroke-opacity:1; fill:none\" points=\"\n",
       "  44.8976,192.126 50.4252,195.811 55.9528,199.496 61.4803,203.181 67.0079,199.496 72.5354,195.811 78.063,192.126 83.5906,188.441 89.1181,184.756 94.6457,181.071 \n",
       "  100.173,177.386 105.701,181.071 111.228,177.386 116.756,173.701 122.283,170.016 127.811,166.331 133.339,170.016 138.866,166.331 144.394,162.646 149.921,166.331 \n",
       "  155.449,162.646 160.976,166.331 166.504,162.646 172.031,166.331 177.559,162.646 183.087,166.331 188.614,170.016 194.142,166.331 199.669,162.646 205.197,158.961 \n",
       "  210.724,162.646 216.252,158.961 221.78,162.646 227.307,158.961 232.835,162.646 238.362,158.961 243.89,155.276 249.417,151.591 254.945,155.276 260.472,151.591 \n",
       "  266,155.276 271.528,151.591 277.055,155.276 282.583,158.961 288.11,155.276 293.638,151.591 299.165,155.276 304.693,151.591 310.22,155.276 315.748,158.961 \n",
       "  \n",
       "  \"/>\n",
       "<polyline clip-path=\"url(#clip02)\" style=\"stroke:#00a8cb; stroke-width:1; stroke-opacity:1; fill:none\" points=\"\n",
       "  44.8976,192.126 50.4252,188.441 55.9528,192.126 61.4803,188.441 67.0079,184.756 72.5354,181.071 78.063,184.756 83.5906,181.071 89.1181,184.756 94.6457,188.441 \n",
       "  100.173,192.126 105.701,188.441 111.228,184.756 116.756,188.441 122.283,192.126 127.811,195.811 133.339,199.496 138.866,203.181 144.394,206.866 149.921,210.551 \n",
       "  155.449,206.866 160.976,203.181 166.504,206.866 172.031,203.181 177.559,199.496 183.087,203.181 188.614,206.866 194.142,203.181 199.669,199.496 205.197,203.181 \n",
       "  210.724,206.866 216.252,203.181 221.78,199.496 227.307,203.181 232.835,206.866 238.362,203.181 243.89,206.866 249.417,210.551 254.945,214.236 260.472,210.551 \n",
       "  266,214.236 271.528,217.921 277.055,214.236 282.583,210.551 288.11,214.236 293.638,217.921 299.165,221.606 304.693,225.291 310.22,228.976 315.748,232.661 \n",
       "  \n",
       "  \"/>\n",
       "<polyline clip-path=\"url(#clip02)\" style=\"stroke:#9b7fe8; stroke-width:1; stroke-opacity:1; fill:none\" points=\"\n",
       "  44.8976,192.126 50.4252,188.441 55.9528,184.756 61.4803,181.071 67.0079,177.386 72.5354,181.071 78.063,177.386 83.5906,181.071 89.1181,184.756 94.6457,188.441 \n",
       "  100.173,192.126 105.701,195.811 111.228,199.496 116.756,203.181 122.283,206.866 127.811,210.551 133.339,206.866 138.866,203.181 144.394,206.866 149.921,203.181 \n",
       "  155.449,206.866 160.976,203.181 166.504,199.496 172.031,203.181 177.559,206.866 183.087,203.181 188.614,206.866 194.142,210.551 199.669,206.866 205.197,203.181 \n",
       "  210.724,206.866 216.252,210.551 221.78,206.866 227.307,203.181 232.835,206.866 238.362,210.551 243.89,206.866 249.417,203.181 254.945,199.496 260.472,195.811 \n",
       "  266,199.496 271.528,195.811 277.055,192.126 282.583,195.811 288.11,199.496 293.638,203.181 299.165,199.496 304.693,203.181 310.22,206.866 315.748,210.551 \n",
       "  \n",
       "  \"/>\n",
       "<polyline clip-path=\"url(#clip02)\" style=\"stroke:#608cf6; stroke-width:1; stroke-opacity:1; fill:none\" points=\"\n",
       "  44.8976,192.126 50.4252,188.441 55.9528,184.756 61.4803,188.441 67.0079,184.756 72.5354,181.071 78.063,184.756 83.5906,181.071 89.1181,184.756 94.6457,188.441 \n",
       "  100.173,184.756 105.701,181.071 111.228,184.756 116.756,181.071 122.283,184.756 127.811,188.441 133.339,192.126 138.866,188.441 144.394,184.756 149.921,181.071 \n",
       "  155.449,177.386 160.976,173.701 166.504,177.386 172.031,181.071 177.559,177.386 183.087,181.071 188.614,184.756 194.142,188.441 199.669,184.756 205.197,181.071 \n",
       "  210.724,184.756 216.252,181.071 221.78,184.756 227.307,188.441 232.835,184.756 238.362,188.441 243.89,192.126 249.417,195.811 254.945,199.496 260.472,203.181 \n",
       "  266,199.496 271.528,203.181 277.055,199.496 282.583,203.181 288.11,206.866 293.638,203.181 299.165,206.866 304.693,210.551 310.22,214.236 315.748,210.551 \n",
       "  \n",
       "  \"/>\n",
       "<polyline clip-path=\"url(#clip02)\" style=\"stroke:#f05f73; stroke-width:1; stroke-opacity:1; fill:none\" points=\"\n",
       "  44.8976,192.126 50.4252,188.441 55.9528,192.126 61.4803,195.811 67.0079,192.126 72.5354,195.811 78.063,199.496 83.5906,195.811 89.1181,199.496 94.6457,203.181 \n",
       "  100.173,206.866 105.701,203.181 111.228,199.496 116.756,203.181 122.283,199.496 127.811,203.181 133.339,199.496 138.866,195.811 144.394,199.496 149.921,203.181 \n",
       "  155.449,199.496 160.976,195.811 166.504,192.126 172.031,195.811 177.559,192.126 183.087,188.441 188.614,184.756 194.142,188.441 199.669,184.756 205.197,181.071 \n",
       "  210.724,184.756 216.252,188.441 221.78,192.126 227.307,188.441 232.835,192.126 238.362,188.441 243.89,192.126 249.417,188.441 254.945,192.126 260.472,188.441 \n",
       "  266,184.756 271.528,188.441 277.055,184.756 282.583,181.071 288.11,177.386 293.638,173.701 299.165,170.016 304.693,166.331 310.22,162.646 315.748,158.961 \n",
       "  \n",
       "  \"/>\n",
       "<polyline clip-path=\"url(#clip02)\" style=\"stroke:#dd64b5; stroke-width:1; stroke-opacity:1; fill:none\" points=\"\n",
       "  44.8976,192.126 50.4252,195.811 55.9528,199.496 61.4803,203.181 67.0079,206.866 72.5354,210.551 78.063,214.236 83.5906,217.921 89.1181,214.236 94.6457,217.921 \n",
       "  100.173,214.236 105.701,217.921 111.228,214.236 116.756,210.551 122.283,206.866 127.811,203.181 133.339,199.496 138.866,203.181 144.394,206.866 149.921,210.551 \n",
       "  155.449,214.236 160.976,210.551 166.504,214.236 172.031,210.551 177.559,206.866 183.087,210.551 188.614,214.236 194.142,210.551 199.669,206.866 205.197,210.551 \n",
       "  210.724,206.866 216.252,203.181 221.78,206.866 227.307,203.181 232.835,206.866 238.362,203.181 243.89,206.866 249.417,203.181 254.945,206.866 260.472,203.181 \n",
       "  266,199.496 271.528,195.811 277.055,199.496 282.583,203.181 288.11,199.496 293.638,203.181 299.165,206.866 304.693,210.551 310.22,206.866 315.748,203.181 \n",
       "  \n",
       "  \"/>\n",
       "<polyline clip-path=\"url(#clip02)\" style=\"stroke:#6b9e32; stroke-width:1; stroke-opacity:1; fill:none\" points=\"\n",
       "  44.8976,192.126 50.4252,188.441 55.9528,184.756 61.4803,188.441 67.0079,192.126 72.5354,195.811 78.063,199.496 83.5906,195.811 89.1181,199.496 94.6457,195.811 \n",
       "  100.173,199.496 105.701,203.181 111.228,199.496 116.756,203.181 122.283,199.496 127.811,195.811 133.339,199.496 138.866,203.181 144.394,199.496 149.921,203.181 \n",
       "  155.449,206.866 160.976,203.181 166.504,206.866 172.031,210.551 177.559,206.866 183.087,210.551 188.614,206.866 194.142,203.181 199.669,206.866 205.197,210.551 \n",
       "  210.724,214.236 216.252,210.551 221.78,214.236 227.307,217.921 232.835,221.606 238.362,217.921 243.89,214.236 249.417,210.551 254.945,206.866 260.472,210.551 \n",
       "  266,214.236 271.528,217.921 277.055,221.606 282.583,225.291 288.11,221.606 293.638,217.921 299.165,221.606 304.693,225.291 310.22,221.606 315.748,225.291 \n",
       "  \n",
       "  \"/>\n",
       "<polyline clip-path=\"url(#clip02)\" style=\"stroke:#718c69; stroke-width:1; stroke-opacity:1; fill:none\" points=\"\n",
       "  44.8976,192.126 50.4252,195.811 55.9528,199.496 61.4803,203.181 67.0079,199.496 72.5354,203.181 78.063,206.866 83.5906,203.181 89.1181,199.496 94.6457,203.181 \n",
       "  100.173,206.866 105.701,203.181 111.228,199.496 116.756,195.811 122.283,199.496 127.811,195.811 133.339,199.496 138.866,203.181 144.394,199.496 149.921,195.811 \n",
       "  155.449,199.496 160.976,195.811 166.504,199.496 172.031,203.181 177.559,206.866 183.087,210.551 188.614,214.236 194.142,217.921 199.669,214.236 205.197,217.921 \n",
       "  210.724,221.606 216.252,217.921 221.78,221.606 227.307,225.291 232.835,228.976 238.362,225.291 243.89,221.606 249.417,217.921 254.945,214.236 260.472,217.921 \n",
       "  266,214.236 271.528,210.551 277.055,214.236 282.583,210.551 288.11,214.236 293.638,217.921 299.165,214.236 304.693,217.921 310.22,221.606 315.748,225.291 \n",
       "  \n",
       "  \"/>\n",
       "<polyline clip-path=\"url(#clip02)\" style=\"stroke:#47988b; stroke-width:1; stroke-opacity:1; fill:none\" points=\"\n",
       "  44.8976,192.126 50.4252,188.441 55.9528,184.756 61.4803,188.441 67.0079,184.756 72.5354,181.071 78.063,184.756 83.5906,188.441 89.1181,192.126 94.6457,188.441 \n",
       "  100.173,192.126 105.701,188.441 111.228,192.126 116.756,195.811 122.283,199.496 127.811,195.811 133.339,199.496 138.866,195.811 144.394,199.496 149.921,195.811 \n",
       "  155.449,192.126 160.976,195.811 166.504,199.496 172.031,203.181 177.559,199.496 183.087,195.811 188.614,192.126 194.142,195.811 199.669,199.496 205.197,195.811 \n",
       "  210.724,192.126 216.252,188.441 221.78,192.126 227.307,188.441 232.835,192.126 238.362,188.441 243.89,184.756 249.417,181.071 254.945,177.386 260.472,173.701 \n",
       "  266,177.386 271.528,173.701 277.055,170.016 282.583,173.701 288.11,170.016 293.638,173.701 299.165,170.016 304.693,173.701 310.22,177.386 315.748,173.701 \n",
       "  \n",
       "  \"/>\n",
       "<polyline clip-path=\"url(#clip02)\" style=\"stroke:#1ea68c; stroke-width:1; stroke-opacity:1; fill:none\" points=\"\n",
       "  44.8976,192.126 50.4252,195.811 55.9528,199.496 61.4803,203.181 67.0079,206.866 72.5354,203.181 78.063,199.496 83.5906,203.181 89.1181,199.496 94.6457,195.811 \n",
       "  100.173,199.496 105.701,195.811 111.228,199.496 116.756,203.181 122.283,206.866 127.811,210.551 133.339,206.866 138.866,203.181 144.394,199.496 149.921,203.181 \n",
       "  155.449,199.496 160.976,203.181 166.504,206.866 172.031,203.181 177.559,206.866 183.087,203.181 188.614,206.866 194.142,210.551 199.669,214.236 205.197,210.551 \n",
       "  210.724,214.236 216.252,210.551 221.78,214.236 227.307,210.551 232.835,206.866 238.362,203.181 243.89,199.496 249.417,203.181 254.945,199.496 260.472,195.811 \n",
       "  266,199.496 271.528,195.811 277.055,192.126 282.583,195.811 288.11,199.496 293.638,203.181 299.165,206.866 304.693,203.181 310.22,206.866 315.748,203.181 \n",
       "  \n",
       "  \"/>\n",
       "<polyline clip-path=\"url(#clip02)\" style=\"stroke:#af78dd; stroke-width:1; stroke-opacity:1; fill:none\" points=\"\n",
       "  44.8976,192.126 50.4252,188.441 55.9528,192.126 61.4803,195.811 67.0079,192.126 72.5354,195.811 78.063,199.496 83.5906,195.811 89.1181,192.126 94.6457,195.811 \n",
       "  100.173,192.126 105.701,195.811 111.228,199.496 116.756,195.811 122.283,199.496 127.811,195.811 133.339,192.126 138.866,195.811 144.394,199.496 149.921,195.811 \n",
       "  155.449,192.126 160.976,188.441 166.504,192.126 172.031,188.441 177.559,192.126 183.087,188.441 188.614,192.126 194.142,195.811 199.669,199.496 205.197,203.181 \n",
       "  210.724,199.496 216.252,203.181 221.78,206.866 227.307,203.181 232.835,206.866 238.362,210.551 243.89,206.866 249.417,210.551 254.945,214.236 260.472,210.551 \n",
       "  266,206.866 271.528,210.551 277.055,214.236 282.583,217.921 288.11,221.606 293.638,225.291 299.165,228.976 304.693,232.661 310.22,236.346 315.748,240.031 \n",
       "  \n",
       "  \"/>\n",
       "<polyline clip-path=\"url(#clip02)\" style=\"stroke:#868d87; stroke-width:1; stroke-opacity:1; fill:none\" points=\"\n",
       "  44.8976,192.126 50.4252,188.441 55.9528,192.126 61.4803,195.811 67.0079,192.126 72.5354,195.811 78.063,199.496 83.5906,195.811 89.1181,199.496 94.6457,203.181 \n",
       "  100.173,199.496 105.701,203.181 111.228,199.496 116.756,195.811 122.283,192.126 127.811,188.441 133.339,184.756 138.866,188.441 144.394,184.756 149.921,188.441 \n",
       "  155.449,192.126 160.976,195.811 166.504,192.126 172.031,195.811 177.559,199.496 183.087,203.181 188.614,206.866 194.142,210.551 199.669,206.866 205.197,210.551 \n",
       "  210.724,214.236 216.252,217.921 221.78,214.236 227.307,210.551 232.835,214.236 238.362,217.921 243.89,214.236 249.417,217.921 254.945,221.606 260.472,217.921 \n",
       "  266,214.236 271.528,210.551 277.055,206.866 282.583,210.551 288.11,214.236 293.638,210.551 299.165,214.236 304.693,210.551 310.22,206.866 315.748,203.181 \n",
       "  \n",
       "  \"/>\n",
       "<polyline clip-path=\"url(#clip02)\" style=\"stroke:#47a065; stroke-width:1; stroke-opacity:1; fill:none\" points=\"\n",
       "  44.8976,192.126 50.4252,188.441 55.9528,192.126 61.4803,195.811 67.0079,199.496 72.5354,195.811 78.063,192.126 83.5906,195.811 89.1181,192.126 94.6457,188.441 \n",
       "  100.173,184.756 105.701,181.071 111.228,184.756 116.756,181.071 122.283,177.386 127.811,181.071 133.339,177.386 138.866,181.071 144.394,177.386 149.921,173.701 \n",
       "  155.449,177.386 160.976,181.071 166.504,177.386 172.031,181.071 177.559,177.386 183.087,173.701 188.614,170.016 194.142,173.701 199.669,177.386 205.197,173.701 \n",
       "  210.724,177.386 216.252,181.071 221.78,177.386 227.307,181.071 232.835,177.386 238.362,173.701 243.89,177.386 249.417,173.701 254.945,170.016 260.472,173.701 \n",
       "  266,170.016 271.528,166.331 277.055,162.646 282.583,158.961 288.11,162.646 293.638,166.331 299.165,162.646 304.693,166.331 310.22,170.016 315.748,173.701 \n",
       "  \n",
       "  \"/>\n",
       "<polyline clip-path=\"url(#clip02)\" style=\"stroke:#7683af; stroke-width:1; stroke-opacity:1; fill:none\" points=\"\n",
       "  44.8976,192.126 50.4252,195.811 55.9528,192.126 61.4803,188.441 67.0079,192.126 72.5354,188.441 78.063,192.126 83.5906,188.441 89.1181,184.756 94.6457,188.441 \n",
       "  100.173,192.126 105.701,195.811 111.228,192.126 116.756,195.811 122.283,199.496 127.811,203.181 133.339,199.496 138.866,203.181 144.394,199.496 149.921,203.181 \n",
       "  155.449,206.866 160.976,210.551 166.504,214.236 172.031,210.551 177.559,214.236 183.087,210.551 188.614,206.866 194.142,210.551 199.669,214.236 205.197,217.921 \n",
       "  210.724,221.606 216.252,217.921 221.78,221.606 227.307,217.921 232.835,214.236 238.362,210.551 243.89,206.866 249.417,203.181 254.945,206.866 260.472,203.181 \n",
       "  266,206.866 271.528,203.181 277.055,206.866 282.583,210.551 288.11,206.866 293.638,203.181 299.165,206.866 304.693,210.551 310.22,214.236 315.748,217.921 \n",
       "  \n",
       "  \"/>\n",
       "<polyline clip-path=\"url(#clip02)\" style=\"stroke:#b08086; stroke-width:1; stroke-opacity:1; fill:none\" points=\"\n",
       "  44.8976,192.126 50.4252,188.441 55.9528,184.756 61.4803,181.071 67.0079,184.756 72.5354,188.441 78.063,192.126 83.5906,188.441 89.1181,192.126 94.6457,195.811 \n",
       "  100.173,192.126 105.701,188.441 111.228,184.756 116.756,181.071 122.283,184.756 127.811,181.071 133.339,184.756 138.866,181.071 144.394,184.756 149.921,181.071 \n",
       "  155.449,177.386 160.976,173.701 166.504,177.386 172.031,181.071 177.559,184.756 183.087,181.071 188.614,177.386 194.142,181.071 199.669,177.386 205.197,173.701 \n",
       "  210.724,170.016 216.252,166.331 221.78,170.016 227.307,166.331 232.835,162.646 238.362,166.331 243.89,170.016 249.417,166.331 254.945,162.646 260.472,158.961 \n",
       "  266,155.276 271.528,151.591 277.055,147.906 282.583,144.22 288.11,147.906 293.638,151.591 299.165,147.906 304.693,144.22 310.22,140.535 315.748,136.85 \n",
       "  \n",
       "  \"/>\n",
       "<polyline clip-path=\"url(#clip02)\" style=\"stroke:#309ac1; stroke-width:1; stroke-opacity:1; fill:none\" points=\"\n",
       "  44.8976,192.126 50.4252,195.811 55.9528,192.126 61.4803,188.441 67.0079,192.126 72.5354,188.441 78.063,184.756 83.5906,188.441 89.1181,184.756 94.6457,188.441 \n",
       "  100.173,192.126 105.701,188.441 111.228,184.756 116.756,181.071 122.283,184.756 127.811,188.441 133.339,184.756 138.866,181.071 144.394,184.756 149.921,181.071 \n",
       "  155.449,177.386 160.976,173.701 166.504,170.016 172.031,166.331 177.559,162.646 183.087,158.961 188.614,162.646 194.142,158.961 199.669,155.276 205.197,158.961 \n",
       "  210.724,162.646 216.252,166.331 221.78,162.646 227.307,166.331 232.835,162.646 238.362,158.961 243.89,162.646 249.417,166.331 254.945,162.646 260.472,166.331 \n",
       "  266,170.016 271.528,173.701 277.055,170.016 282.583,173.701 288.11,177.386 293.638,173.701 299.165,170.016 304.693,173.701 310.22,170.016 315.748,166.331 \n",
       "  \n",
       "  \"/>\n",
       "<polyline clip-path=\"url(#clip02)\" style=\"stroke:#788490; stroke-width:1; stroke-opacity:1; fill:none\" points=\"\n",
       "  44.8976,192.126 50.4252,188.441 55.9528,184.756 61.4803,181.071 67.0079,184.756 72.5354,188.441 78.063,192.126 83.5906,188.441 89.1181,192.126 94.6457,188.441 \n",
       "  100.173,192.126 105.701,195.811 111.228,199.496 116.756,203.181 122.283,206.866 127.811,210.551 133.339,206.866 138.866,203.181 144.394,206.866 149.921,203.181 \n",
       "  155.449,206.866 160.976,210.551 166.504,214.236 172.031,217.921 177.559,221.606 183.087,225.291 188.614,228.976 194.142,232.661 199.669,236.346 205.197,232.661 \n",
       "  210.724,236.346 216.252,232.661 221.78,228.976 227.307,232.661 232.835,236.346 238.362,232.661 243.89,236.346 249.417,240.031 254.945,243.717 260.472,247.402 \n",
       "  266,243.717 271.528,247.402 277.055,243.717 282.583,240.031 288.11,243.717 293.638,247.402 299.165,243.717 304.693,240.031 310.22,243.717 315.748,247.402 \n",
       "  \n",
       "  \"/>\n",
       "<polyline clip-path=\"url(#clip02)\" style=\"stroke:#e561a4; stroke-width:1; stroke-opacity:1; fill:none\" points=\"\n",
       "  44.8976,192.126 50.4252,195.811 55.9528,199.496 61.4803,203.181 67.0079,199.496 72.5354,195.811 78.063,199.496 83.5906,203.181 89.1181,199.496 94.6457,195.811 \n",
       "  100.173,192.126 105.701,195.811 111.228,199.496 116.756,203.181 122.283,206.866 127.811,210.551 133.339,206.866 138.866,210.551 144.394,214.236 149.921,210.551 \n",
       "  155.449,206.866 160.976,203.181 166.504,206.866 172.031,203.181 177.559,206.866 183.087,210.551 188.614,206.866 194.142,203.181 199.669,199.496 205.197,195.811 \n",
       "  210.724,192.126 216.252,188.441 221.78,184.756 227.307,188.441 232.835,192.126 238.362,195.811 243.89,192.126 249.417,188.441 254.945,192.126 260.472,188.441 \n",
       "  266,192.126 271.528,188.441 277.055,184.756 282.583,188.441 288.11,184.756 293.638,188.441 299.165,184.756 304.693,188.441 310.22,184.756 315.748,188.441 \n",
       "  \n",
       "  \"/>\n",
       "<polyline clip-path=\"url(#clip02)\" style=\"stroke:#99902c; stroke-width:1; stroke-opacity:1; fill:none\" points=\"\n",
       "  44.8976,192.126 50.4252,188.441 55.9528,184.756 61.4803,188.441 67.0079,184.756 72.5354,188.441 78.063,192.126 83.5906,188.441 89.1181,192.126 94.6457,195.811 \n",
       "  100.173,192.126 105.701,188.441 111.228,184.756 116.756,188.441 122.283,192.126 127.811,188.441 133.339,192.126 138.866,195.811 144.394,199.496 149.921,195.811 \n",
       "  155.449,192.126 160.976,188.441 166.504,184.756 172.031,188.441 177.559,184.756 183.087,181.071 188.614,177.386 194.142,181.071 199.669,177.386 205.197,181.071 \n",
       "  210.724,177.386 216.252,173.701 221.78,177.386 227.307,173.701 232.835,177.386 238.362,173.701 243.89,177.386 249.417,181.071 254.945,177.386 260.472,173.701 \n",
       "  266,170.016 271.528,166.331 277.055,170.016 282.583,166.331 288.11,162.646 293.638,158.961 299.165,155.276 304.693,151.591 310.22,147.906 315.748,144.22 \n",
       "  \n",
       "  \"/>\n",
       "<polyline clip-path=\"url(#clip02)\" style=\"stroke:#389a7b; stroke-width:1; stroke-opacity:1; fill:none\" points=\"\n",
       "  44.8976,192.126 50.4252,195.811 55.9528,199.496 61.4803,195.811 67.0079,192.126 72.5354,188.441 78.063,184.756 83.5906,188.441 89.1181,192.126 94.6457,188.441 \n",
       "  100.173,184.756 105.701,181.071 111.228,184.756 116.756,188.441 122.283,192.126 127.811,188.441 133.339,192.126 138.866,195.811 144.394,192.126 149.921,188.441 \n",
       "  155.449,184.756 160.976,181.071 166.504,184.756 172.031,188.441 177.559,184.756 183.087,181.071 188.614,184.756 194.142,188.441 199.669,184.756 205.197,188.441 \n",
       "  210.724,184.756 216.252,188.441 221.78,184.756 227.307,181.071 232.835,177.386 238.362,181.071 243.89,177.386 249.417,173.701 254.945,170.016 260.472,166.331 \n",
       "  266,170.016 271.528,173.701 277.055,177.386 282.583,181.071 288.11,177.386 293.638,173.701 299.165,170.016 304.693,166.331 310.22,170.016 315.748,166.331 \n",
       "  \n",
       "  \"/>\n",
       "<polyline clip-path=\"url(#clip02)\" style=\"stroke:#d968a2; stroke-width:1; stroke-opacity:1; fill:none\" points=\"\n",
       "  44.8976,192.126 50.4252,188.441 55.9528,184.756 61.4803,188.441 67.0079,192.126 72.5354,188.441 78.063,184.756 83.5906,181.071 89.1181,184.756 94.6457,181.071 \n",
       "  100.173,184.756 105.701,188.441 111.228,192.126 116.756,188.441 122.283,192.126 127.811,188.441 133.339,192.126 138.866,188.441 144.394,192.126 149.921,188.441 \n",
       "  155.449,192.126 160.976,195.811 166.504,199.496 172.031,203.181 177.559,206.866 183.087,203.181 188.614,206.866 194.142,203.181 199.669,206.866 205.197,210.551 \n",
       "  210.724,214.236 216.252,210.551 221.78,214.236 227.307,210.551 232.835,214.236 238.362,210.551 243.89,206.866 249.417,210.551 254.945,206.866 260.472,210.551 \n",
       "  266,214.236 271.528,217.921 277.055,221.606 282.583,217.921 288.11,221.606 293.638,217.921 299.165,214.236 304.693,210.551 310.22,206.866 315.748,203.181 \n",
       "  \n",
       "  \"/>\n",
       "<polyline clip-path=\"url(#clip02)\" style=\"stroke:#009af9; stroke-width:1; stroke-opacity:1; fill:none\" points=\"\n",
       "  44.8976,192.126 50.4252,188.441 55.9528,192.126 61.4803,188.441 67.0079,192.126 72.5354,195.811 78.063,199.496 83.5906,195.811 89.1181,192.126 94.6457,188.441 \n",
       "  100.173,184.756 105.701,181.071 111.228,177.386 116.756,173.701 122.283,177.386 127.811,173.701 133.339,170.016 138.866,173.701 144.394,177.386 149.921,181.071 \n",
       "  155.449,177.386 160.976,173.701 166.504,177.386 172.031,173.701 177.559,170.016 183.087,173.701 188.614,177.386 194.142,173.701 199.669,177.386 205.197,181.071 \n",
       "  210.724,177.386 216.252,173.701 221.78,177.386 227.307,181.071 232.835,184.756 238.362,181.071 243.89,184.756 249.417,188.441 254.945,184.756 260.472,181.071 \n",
       "  266,184.756 271.528,188.441 277.055,192.126 282.583,188.441 288.11,184.756 293.638,181.071 299.165,184.756 304.693,188.441 310.22,184.756 315.748,181.071 \n",
       "  \n",
       "  \"/>\n",
       "<polyline clip-path=\"url(#clip02)\" style=\"stroke:#e26f46; stroke-width:1; stroke-opacity:1; fill:none\" points=\"\n",
       "  44.8976,192.126 50.4252,195.811 55.9528,192.126 61.4803,195.811 67.0079,192.126 72.5354,195.811 78.063,192.126 83.5906,188.441 89.1181,184.756 94.6457,181.071 \n",
       "  100.173,177.386 105.701,181.071 111.228,184.756 116.756,188.441 122.283,192.126 127.811,195.811 133.339,199.496 138.866,195.811 144.394,192.126 149.921,188.441 \n",
       "  155.449,184.756 160.976,188.441 166.504,184.756 172.031,181.071 177.559,184.756 183.087,188.441 188.614,192.126 194.142,188.441 199.669,192.126 205.197,195.811 \n",
       "  210.724,192.126 216.252,188.441 221.78,192.126 227.307,188.441 232.835,192.126 238.362,195.811 243.89,199.496 249.417,195.811 254.945,199.496 260.472,203.181 \n",
       "  266,206.866 271.528,203.181 277.055,199.496 282.583,195.811 288.11,199.496 293.638,195.811 299.165,199.496 304.693,203.181 310.22,199.496 315.748,203.181 \n",
       "  \n",
       "  \"/>\n",
       "<polyline clip-path=\"url(#clip02)\" style=\"stroke:#3da44d; stroke-width:1; stroke-opacity:1; fill:none\" points=\"\n",
       "  44.8976,192.126 50.4252,195.811 55.9528,192.126 61.4803,188.441 67.0079,184.756 72.5354,188.441 78.063,192.126 83.5906,195.811 89.1181,199.496 94.6457,195.811 \n",
       "  100.173,192.126 105.701,188.441 111.228,192.126 116.756,195.811 122.283,199.496 127.811,195.811 133.339,199.496 138.866,195.811 144.394,192.126 149.921,188.441 \n",
       "  155.449,184.756 160.976,181.071 166.504,184.756 172.031,181.071 177.559,177.386 183.087,181.071 188.614,177.386 194.142,181.071 199.669,177.386 205.197,173.701 \n",
       "  210.724,177.386 216.252,181.071 221.78,184.756 227.307,181.071 232.835,184.756 238.362,188.441 243.89,192.126 249.417,195.811 254.945,199.496 260.472,195.811 \n",
       "  266,192.126 271.528,188.441 277.055,184.756 282.583,188.441 288.11,192.126 293.638,188.441 299.165,192.126 304.693,188.441 310.22,192.126 315.748,195.811 \n",
       "  \n",
       "  \"/>\n",
       "<polyline clip-path=\"url(#clip02)\" style=\"stroke:#c271d2; stroke-width:1; stroke-opacity:1; fill:none\" points=\"\n",
       "  44.8976,192.126 50.4252,195.811 55.9528,192.126 61.4803,188.441 67.0079,184.756 72.5354,181.071 78.063,184.756 83.5906,181.071 89.1181,184.756 94.6457,188.441 \n",
       "  100.173,192.126 105.701,195.811 111.228,199.496 116.756,195.811 122.283,192.126 127.811,188.441 133.339,192.126 138.866,188.441 144.394,184.756 149.921,181.071 \n",
       "  155.449,177.386 160.976,181.071 166.504,184.756 172.031,181.071 177.559,184.756 183.087,181.071 188.614,184.756 194.142,181.071 199.669,184.756 205.197,181.071 \n",
       "  210.724,177.386 216.252,173.701 221.78,177.386 227.307,173.701 232.835,177.386 238.362,181.071 243.89,177.386 249.417,181.071 254.945,184.756 260.472,181.071 \n",
       "  266,184.756 271.528,188.441 277.055,192.126 282.583,188.441 288.11,184.756 293.638,181.071 299.165,177.386 304.693,181.071 310.22,177.386 315.748,173.701 \n",
       "  \n",
       "  \"/>\n",
       "<polyline clip-path=\"url(#clip02)\" style=\"stroke:#ac8d18; stroke-width:1; stroke-opacity:1; fill:none\" points=\"\n",
       "  44.8976,192.126 50.4252,188.441 55.9528,192.126 61.4803,188.441 67.0079,184.756 72.5354,181.071 78.063,177.386 83.5906,181.071 89.1181,177.386 94.6457,181.071 \n",
       "  100.173,177.386 105.701,173.701 111.228,170.016 116.756,166.331 122.283,162.646 127.811,158.961 133.339,155.276 138.866,151.591 144.394,147.906 149.921,151.591 \n",
       "  155.449,155.276 160.976,158.961 166.504,162.646 172.031,166.331 177.559,162.646 183.087,158.961 188.614,162.646 194.142,166.331 199.669,162.646 205.197,166.331 \n",
       "  210.724,162.646 216.252,158.961 221.78,155.276 227.307,158.961 232.835,162.646 238.362,158.961 243.89,162.646 249.417,166.331 254.945,162.646 260.472,158.961 \n",
       "  266,162.646 271.528,158.961 277.055,162.646 282.583,158.961 288.11,162.646 293.638,166.331 299.165,162.646 304.693,166.331 310.22,162.646 315.748,158.961 \n",
       "  \n",
       "  \"/>\n",
       "<polyline clip-path=\"url(#clip02)\" style=\"stroke:#00a9ad; stroke-width:1; stroke-opacity:1; fill:none\" points=\"\n",
       "  44.8976,192.126 50.4252,188.441 55.9528,192.126 61.4803,195.811 67.0079,192.126 72.5354,195.811 78.063,199.496 83.5906,195.811 89.1181,192.126 94.6457,195.811 \n",
       "  100.173,199.496 105.701,195.811 111.228,192.126 116.756,195.811 122.283,199.496 127.811,203.181 133.339,206.866 138.866,210.551 144.394,214.236 149.921,210.551 \n",
       "  155.449,206.866 160.976,203.181 166.504,199.496 172.031,203.181 177.559,206.866 183.087,203.181 188.614,199.496 194.142,203.181 199.669,206.866 205.197,210.551 \n",
       "  210.724,206.866 216.252,210.551 221.78,214.236 227.307,217.921 232.835,214.236 238.362,210.551 243.89,206.866 249.417,210.551 254.945,214.236 260.472,210.551 \n",
       "  266,206.866 271.528,210.551 277.055,206.866 282.583,203.181 288.11,199.496 293.638,195.811 299.165,192.126 304.693,195.811 310.22,192.126 315.748,195.811 \n",
       "  \n",
       "  \"/>\n",
       "<polyline clip-path=\"url(#clip02)\" style=\"stroke:#ed5d92; stroke-width:1; stroke-opacity:1; fill:none\" points=\"\n",
       "  44.8976,192.126 50.4252,188.441 55.9528,184.756 61.4803,181.071 67.0079,177.386 72.5354,181.071 78.063,177.386 83.5906,173.701 89.1181,170.016 94.6457,166.331 \n",
       "  100.173,162.646 105.701,158.961 111.228,162.646 116.756,158.961 122.283,155.276 127.811,151.591 133.339,147.906 138.866,144.22 144.394,140.535 149.921,136.85 \n",
       "  155.449,133.165 160.976,129.48 166.504,133.165 172.031,136.85 177.559,140.535 183.087,136.85 188.614,140.535 194.142,144.22 199.669,147.906 205.197,144.22 \n",
       "  210.724,140.535 216.252,144.22 221.78,147.906 227.307,144.22 232.835,147.906 238.362,144.22 243.89,147.906 249.417,151.591 254.945,147.906 260.472,151.591 \n",
       "  266,147.906 271.528,144.22 277.055,140.535 282.583,136.85 288.11,140.535 293.638,144.22 299.165,147.906 304.693,151.591 310.22,155.276 315.748,151.591 \n",
       "  \n",
       "  \"/>\n",
       "<polyline clip-path=\"url(#clip02)\" style=\"stroke:#c68125; stroke-width:1; stroke-opacity:1; fill:none\" points=\"\n",
       "  44.8976,192.126 50.4252,188.441 55.9528,192.126 61.4803,195.811 67.0079,199.496 72.5354,195.811 78.063,199.496 83.5906,195.811 89.1181,199.496 94.6457,203.181 \n",
       "  100.173,206.866 105.701,210.551 111.228,206.866 116.756,203.181 122.283,206.866 127.811,203.181 133.339,199.496 138.866,195.811 144.394,192.126 149.921,195.811 \n",
       "  155.449,192.126 160.976,195.811 166.504,199.496 172.031,203.181 177.559,206.866 183.087,203.181 188.614,199.496 194.142,203.181 199.669,206.866 205.197,203.181 \n",
       "  210.724,206.866 216.252,203.181 221.78,206.866 227.307,203.181 232.835,199.496 238.362,203.181 243.89,206.866 249.417,203.181 254.945,206.866 260.472,203.181 \n",
       "  266,199.496 271.528,203.181 277.055,199.496 282.583,195.811 288.11,192.126 293.638,195.811 299.165,199.496 304.693,203.181 310.22,206.866 315.748,203.181 \n",
       "  \n",
       "  \"/>\n",
       "<polyline clip-path=\"url(#clip02)\" style=\"stroke:#00a98d; stroke-width:1; stroke-opacity:1; fill:none\" points=\"\n",
       "  44.8976,192.126 50.4252,188.441 55.9528,192.126 61.4803,195.811 67.0079,199.496 72.5354,195.811 78.063,192.126 83.5906,188.441 89.1181,192.126 94.6457,195.811 \n",
       "  100.173,192.126 105.701,188.441 111.228,184.756 116.756,181.071 122.283,177.386 127.811,181.071 133.339,177.386 138.866,181.071 144.394,184.756 149.921,188.441 \n",
       "  155.449,192.126 160.976,188.441 166.504,192.126 172.031,188.441 177.559,184.756 183.087,181.071 188.614,184.756 194.142,188.441 199.669,192.126 205.197,195.811 \n",
       "  210.724,199.496 216.252,203.181 221.78,199.496 227.307,195.811 232.835,199.496 238.362,195.811 243.89,192.126 249.417,188.441 254.945,192.126 260.472,195.811 \n",
       "  266,192.126 271.528,188.441 277.055,184.756 282.583,188.441 288.11,184.756 293.638,181.071 299.165,177.386 304.693,181.071 310.22,177.386 315.748,181.071 \n",
       "  \n",
       "  \"/>\n",
       "<polyline clip-path=\"url(#clip02)\" style=\"stroke:#8e971d; stroke-width:1; stroke-opacity:1; fill:none\" points=\"\n",
       "  44.8976,192.126 50.4252,188.441 55.9528,184.756 61.4803,181.071 67.0079,177.386 72.5354,181.071 78.063,184.756 83.5906,188.441 89.1181,184.756 94.6457,181.071 \n",
       "  100.173,184.756 105.701,181.071 111.228,177.386 116.756,181.071 122.283,177.386 127.811,173.701 133.339,177.386 138.866,181.071 144.394,184.756 149.921,181.071 \n",
       "  155.449,184.756 160.976,188.441 166.504,184.756 172.031,181.071 177.559,177.386 183.087,173.701 188.614,170.016 194.142,173.701 199.669,170.016 205.197,166.331 \n",
       "  210.724,162.646 216.252,158.961 221.78,155.276 227.307,158.961 232.835,155.276 238.362,151.591 243.89,147.906 249.417,144.22 254.945,147.906 260.472,151.591 \n",
       "  266,147.906 271.528,151.591 277.055,155.276 282.583,158.961 288.11,155.276 293.638,151.591 299.165,155.276 304.693,151.591 310.22,155.276 315.748,151.591 \n",
       "  \n",
       "  \"/>\n",
       "<polyline clip-path=\"url(#clip02)\" style=\"stroke:#00a8cb; stroke-width:1; stroke-opacity:1; fill:none\" points=\"\n",
       "  44.8976,192.126 50.4252,195.811 55.9528,199.496 61.4803,195.811 67.0079,199.496 72.5354,195.811 78.063,192.126 83.5906,195.811 89.1181,199.496 94.6457,195.811 \n",
       "  100.173,199.496 105.701,203.181 111.228,206.866 116.756,203.181 122.283,199.496 127.811,195.811 133.339,199.496 138.866,195.811 144.394,192.126 149.921,188.441 \n",
       "  155.449,184.756 160.976,181.071 166.504,177.386 172.031,181.071 177.559,177.386 183.087,181.071 188.614,184.756 194.142,188.441 199.669,192.126 205.197,195.811 \n",
       "  210.724,199.496 216.252,195.811 221.78,199.496 227.307,195.811 232.835,192.126 238.362,195.811 243.89,199.496 249.417,203.181 254.945,206.866 260.472,210.551 \n",
       "  266,206.866 271.528,203.181 277.055,206.866 282.583,210.551 288.11,214.236 293.638,217.921 299.165,221.606 304.693,225.291 310.22,228.976 315.748,225.291 \n",
       "  \n",
       "  \"/>\n",
       "<polyline clip-path=\"url(#clip02)\" style=\"stroke:#9b7fe8; stroke-width:1; stroke-opacity:1; fill:none\" points=\"\n",
       "  44.8976,192.126 50.4252,195.811 55.9528,199.496 61.4803,203.181 67.0079,206.866 72.5354,203.181 78.063,199.496 83.5906,203.181 89.1181,199.496 94.6457,195.811 \n",
       "  100.173,199.496 105.701,203.181 111.228,199.496 116.756,195.811 122.283,192.126 127.811,195.811 133.339,199.496 138.866,203.181 144.394,206.866 149.921,203.181 \n",
       "  155.449,199.496 160.976,195.811 166.504,192.126 172.031,188.441 177.559,192.126 183.087,195.811 188.614,199.496 194.142,195.811 199.669,199.496 205.197,195.811 \n",
       "  210.724,199.496 216.252,195.811 221.78,192.126 227.307,195.811 232.835,199.496 238.362,195.811 243.89,192.126 249.417,188.441 254.945,184.756 260.472,181.071 \n",
       "  266,177.386 271.528,181.071 277.055,177.386 282.583,181.071 288.11,177.386 293.638,181.071 299.165,177.386 304.693,181.071 310.22,184.756 315.748,188.441 \n",
       "  \n",
       "  \"/>\n",
       "<polyline clip-path=\"url(#clip02)\" style=\"stroke:#608cf6; stroke-width:1; stroke-opacity:1; fill:none\" points=\"\n",
       "  44.8976,192.126 50.4252,188.441 55.9528,184.756 61.4803,188.441 67.0079,184.756 72.5354,181.071 78.063,184.756 83.5906,181.071 89.1181,184.756 94.6457,188.441 \n",
       "  100.173,184.756 105.701,181.071 111.228,177.386 116.756,181.071 122.283,177.386 127.811,181.071 133.339,184.756 138.866,181.071 144.394,177.386 149.921,173.701 \n",
       "  155.449,170.016 160.976,173.701 166.504,177.386 172.031,181.071 177.559,184.756 183.087,188.441 188.614,184.756 194.142,181.071 199.669,177.386 205.197,173.701 \n",
       "  210.724,177.386 216.252,173.701 221.78,177.386 227.307,173.701 232.835,170.016 238.362,173.701 243.89,170.016 249.417,173.701 254.945,170.016 260.472,166.331 \n",
       "  266,170.016 271.528,173.701 277.055,170.016 282.583,173.701 288.11,177.386 293.638,181.071 299.165,177.386 304.693,181.071 310.22,177.386 315.748,181.071 \n",
       "  \n",
       "  \"/>\n",
       "<polyline clip-path=\"url(#clip02)\" style=\"stroke:#f05f73; stroke-width:1; stroke-opacity:1; fill:none\" points=\"\n",
       "  44.8976,192.126 50.4252,188.441 55.9528,184.756 61.4803,188.441 67.0079,184.756 72.5354,188.441 78.063,184.756 83.5906,188.441 89.1181,184.756 94.6457,181.071 \n",
       "  100.173,184.756 105.701,181.071 111.228,184.756 116.756,188.441 122.283,192.126 127.811,188.441 133.339,184.756 138.866,181.071 144.394,177.386 149.921,181.071 \n",
       "  155.449,184.756 160.976,181.071 166.504,177.386 172.031,173.701 177.559,177.386 183.087,173.701 188.614,170.016 194.142,166.331 199.669,170.016 205.197,166.331 \n",
       "  210.724,170.016 216.252,173.701 221.78,170.016 227.307,166.331 232.835,170.016 238.362,166.331 243.89,162.646 249.417,158.961 254.945,162.646 260.472,158.961 \n",
       "  266,155.276 271.528,158.961 277.055,155.276 282.583,151.591 288.11,147.906 293.638,151.591 299.165,147.906 304.693,151.591 310.22,147.906 315.748,144.22 \n",
       "  \n",
       "  \"/>\n",
       "<polyline clip-path=\"url(#clip02)\" style=\"stroke:#dd64b5; stroke-width:1; stroke-opacity:1; fill:none\" points=\"\n",
       "  44.8976,192.126 50.4252,188.441 55.9528,184.756 61.4803,188.441 67.0079,184.756 72.5354,188.441 78.063,192.126 83.5906,195.811 89.1181,199.496 94.6457,203.181 \n",
       "  100.173,206.866 105.701,210.551 111.228,214.236 116.756,210.551 122.283,206.866 127.811,203.181 133.339,199.496 138.866,195.811 144.394,199.496 149.921,203.181 \n",
       "  155.449,206.866 160.976,203.181 166.504,206.866 172.031,210.551 177.559,214.236 183.087,217.921 188.614,221.606 194.142,217.921 199.669,221.606 205.197,225.291 \n",
       "  210.724,228.976 216.252,232.661 221.78,236.346 227.307,232.661 232.835,236.346 238.362,240.031 243.89,236.346 249.417,232.661 254.945,228.976 260.472,225.291 \n",
       "  266,228.976 271.528,225.291 277.055,221.606 282.583,217.921 288.11,214.236 293.638,210.551 299.165,206.866 304.693,203.181 310.22,206.866 315.748,210.551 \n",
       "  \n",
       "  \"/>\n",
       "<polyline clip-path=\"url(#clip02)\" style=\"stroke:#6b9e32; stroke-width:1; stroke-opacity:1; fill:none\" points=\"\n",
       "  44.8976,192.126 50.4252,188.441 55.9528,184.756 61.4803,181.071 67.0079,184.756 72.5354,188.441 78.063,184.756 83.5906,181.071 89.1181,177.386 94.6457,181.071 \n",
       "  100.173,177.386 105.701,181.071 111.228,177.386 116.756,173.701 122.283,170.016 127.811,173.701 133.339,177.386 138.866,181.071 144.394,177.386 149.921,181.071 \n",
       "  155.449,177.386 160.976,173.701 166.504,170.016 172.031,173.701 177.559,177.386 183.087,173.701 188.614,177.386 194.142,173.701 199.669,170.016 205.197,166.331 \n",
       "  210.724,170.016 216.252,173.701 221.78,170.016 227.307,173.701 232.835,177.386 238.362,173.701 243.89,177.386 249.417,181.071 254.945,177.386 260.472,173.701 \n",
       "  266,177.386 271.528,181.071 277.055,184.756 282.583,181.071 288.11,184.756 293.638,188.441 299.165,192.126 304.693,195.811 310.22,192.126 315.748,195.811 \n",
       "  \n",
       "  \"/>\n",
       "<polyline clip-path=\"url(#clip02)\" style=\"stroke:#718c69; stroke-width:1; stroke-opacity:1; fill:none\" points=\"\n",
       "  44.8976,192.126 50.4252,188.441 55.9528,192.126 61.4803,188.441 67.0079,184.756 72.5354,181.071 78.063,184.756 83.5906,181.071 89.1181,184.756 94.6457,188.441 \n",
       "  100.173,184.756 105.701,188.441 111.228,192.126 116.756,195.811 122.283,199.496 127.811,203.181 133.339,206.866 138.866,210.551 144.394,214.236 149.921,210.551 \n",
       "  155.449,214.236 160.976,217.921 166.504,214.236 172.031,210.551 177.559,214.236 183.087,210.551 188.614,214.236 194.142,210.551 199.669,214.236 205.197,217.921 \n",
       "  210.724,221.606 216.252,217.921 221.78,214.236 227.307,210.551 232.835,214.236 238.362,217.921 243.89,221.606 249.417,225.291 254.945,221.606 260.472,225.291 \n",
       "  266,228.976 271.528,232.661 277.055,228.976 282.583,232.661 288.11,228.976 293.638,232.661 299.165,228.976 304.693,225.291 310.22,221.606 315.748,225.291 \n",
       "  \n",
       "  \"/>\n",
       "<polyline clip-path=\"url(#clip02)\" style=\"stroke:#47988b; stroke-width:1; stroke-opacity:1; fill:none\" points=\"\n",
       "  44.8976,192.126 50.4252,195.811 55.9528,192.126 61.4803,188.441 67.0079,184.756 72.5354,181.071 78.063,184.756 83.5906,181.071 89.1181,177.386 94.6457,173.701 \n",
       "  100.173,170.016 105.701,173.701 111.228,177.386 116.756,181.071 122.283,177.386 127.811,181.071 133.339,177.386 138.866,181.071 144.394,184.756 149.921,188.441 \n",
       "  155.449,192.126 160.976,188.441 166.504,184.756 172.031,181.071 177.559,184.756 183.087,181.071 188.614,184.756 194.142,181.071 199.669,184.756 205.197,188.441 \n",
       "  210.724,192.126 216.252,188.441 221.78,192.126 227.307,188.441 232.835,184.756 238.362,181.071 243.89,184.756 249.417,181.071 254.945,177.386 260.472,173.701 \n",
       "  266,170.016 271.528,173.701 277.055,170.016 282.583,173.701 288.11,170.016 293.638,166.331 299.165,170.016 304.693,173.701 310.22,170.016 315.748,173.701 \n",
       "  \n",
       "  \"/>\n",
       "<polyline clip-path=\"url(#clip02)\" style=\"stroke:#1ea68c; stroke-width:1; stroke-opacity:1; fill:none\" points=\"\n",
       "  44.8976,192.126 50.4252,195.811 55.9528,192.126 61.4803,188.441 67.0079,184.756 72.5354,188.441 78.063,192.126 83.5906,195.811 89.1181,199.496 94.6457,203.181 \n",
       "  100.173,199.496 105.701,195.811 111.228,192.126 116.756,195.811 122.283,199.496 127.811,195.811 133.339,192.126 138.866,188.441 144.394,184.756 149.921,188.441 \n",
       "  155.449,184.756 160.976,188.441 166.504,192.126 172.031,195.811 177.559,192.126 183.087,195.811 188.614,192.126 194.142,188.441 199.669,192.126 205.197,195.811 \n",
       "  210.724,199.496 216.252,203.181 221.78,199.496 227.307,203.181 232.835,206.866 238.362,203.181 243.89,206.866 249.417,210.551 254.945,206.866 260.472,210.551 \n",
       "  266,214.236 271.528,217.921 277.055,214.236 282.583,210.551 288.11,206.866 293.638,203.181 299.165,206.866 304.693,210.551 310.22,206.866 315.748,203.181 \n",
       "  \n",
       "  \"/>\n",
       "<polyline clip-path=\"url(#clip02)\" style=\"stroke:#af78dd; stroke-width:1; stroke-opacity:1; fill:none\" points=\"\n",
       "  44.8976,192.126 50.4252,188.441 55.9528,192.126 61.4803,195.811 67.0079,199.496 72.5354,195.811 78.063,192.126 83.5906,195.811 89.1181,192.126 94.6457,195.811 \n",
       "  100.173,192.126 105.701,195.811 111.228,199.496 116.756,195.811 122.283,199.496 127.811,195.811 133.339,192.126 138.866,195.811 144.394,199.496 149.921,195.811 \n",
       "  155.449,199.496 160.976,195.811 166.504,199.496 172.031,203.181 177.559,199.496 183.087,203.181 188.614,199.496 194.142,203.181 199.669,199.496 205.197,195.811 \n",
       "  210.724,199.496 216.252,195.811 221.78,192.126 227.307,188.441 232.835,192.126 238.362,188.441 243.89,184.756 249.417,188.441 254.945,192.126 260.472,195.811 \n",
       "  266,199.496 271.528,195.811 277.055,199.496 282.583,203.181 288.11,206.866 293.638,203.181 299.165,199.496 304.693,195.811 310.22,199.496 315.748,203.181 \n",
       "  \n",
       "  \"/>\n",
       "<polyline clip-path=\"url(#clip02)\" style=\"stroke:#868d87; stroke-width:1; stroke-opacity:1; fill:none\" points=\"\n",
       "  44.8976,192.126 50.4252,188.441 55.9528,184.756 61.4803,188.441 67.0079,192.126 72.5354,195.811 78.063,192.126 83.5906,188.441 89.1181,184.756 94.6457,181.071 \n",
       "  100.173,177.386 105.701,181.071 111.228,177.386 116.756,173.701 122.283,177.386 127.811,181.071 133.339,184.756 138.866,181.071 144.394,177.386 149.921,173.701 \n",
       "  155.449,177.386 160.976,173.701 166.504,177.386 172.031,173.701 177.559,177.386 183.087,181.071 188.614,184.756 194.142,188.441 199.669,184.756 205.197,181.071 \n",
       "  210.724,177.386 216.252,173.701 221.78,177.386 227.307,173.701 232.835,177.386 238.362,181.071 243.89,184.756 249.417,188.441 254.945,192.126 260.472,188.441 \n",
       "  266,192.126 271.528,188.441 277.055,184.756 282.583,188.441 288.11,184.756 293.638,181.071 299.165,177.386 304.693,173.701 310.22,177.386 315.748,181.071 \n",
       "  \n",
       "  \"/>\n",
       "<polyline clip-path=\"url(#clip02)\" style=\"stroke:#47a065; stroke-width:1; stroke-opacity:1; fill:none\" points=\"\n",
       "  44.8976,192.126 50.4252,188.441 55.9528,184.756 61.4803,188.441 67.0079,192.126 72.5354,195.811 78.063,192.126 83.5906,195.811 89.1181,192.126 94.6457,188.441 \n",
       "  100.173,184.756 105.701,181.071 111.228,177.386 116.756,181.071 122.283,184.756 127.811,181.071 133.339,177.386 138.866,173.701 144.394,177.386 149.921,173.701 \n",
       "  155.449,170.016 160.976,166.331 166.504,170.016 172.031,166.331 177.559,170.016 183.087,173.701 188.614,170.016 194.142,173.701 199.669,170.016 205.197,166.331 \n",
       "  210.724,162.646 216.252,166.331 221.78,170.016 227.307,173.701 232.835,170.016 238.362,173.701 243.89,177.386 249.417,173.701 254.945,170.016 260.472,166.331 \n",
       "  266,170.016 271.528,173.701 277.055,177.386 282.583,173.701 288.11,177.386 293.638,181.071 299.165,177.386 304.693,181.071 310.22,184.756 315.748,188.441 \n",
       "  \n",
       "  \"/>\n",
       "<polyline clip-path=\"url(#clip02)\" style=\"stroke:#7683af; stroke-width:1; stroke-opacity:1; fill:none\" points=\"\n",
       "  44.8976,192.126 50.4252,195.811 55.9528,199.496 61.4803,195.811 67.0079,192.126 72.5354,195.811 78.063,192.126 83.5906,188.441 89.1181,192.126 94.6457,195.811 \n",
       "  100.173,192.126 105.701,195.811 111.228,199.496 116.756,203.181 122.283,206.866 127.811,210.551 133.339,214.236 138.866,217.921 144.394,221.606 149.921,217.921 \n",
       "  155.449,221.606 160.976,225.291 166.504,221.606 172.031,225.291 177.559,228.976 183.087,225.291 188.614,221.606 194.142,225.291 199.669,221.606 205.197,217.921 \n",
       "  210.724,221.606 216.252,217.921 221.78,221.606 227.307,217.921 232.835,221.606 238.362,225.291 243.89,221.606 249.417,217.921 254.945,221.606 260.472,217.921 \n",
       "  266,221.606 271.528,217.921 277.055,214.236 282.583,210.551 288.11,214.236 293.638,217.921 299.165,221.606 304.693,225.291 310.22,221.606 315.748,217.921 \n",
       "  \n",
       "  \"/>\n",
       "<polyline clip-path=\"url(#clip02)\" style=\"stroke:#b08086; stroke-width:1; stroke-opacity:1; fill:none\" points=\"\n",
       "  44.8976,192.126 50.4252,188.441 55.9528,184.756 61.4803,188.441 67.0079,192.126 72.5354,195.811 78.063,192.126 83.5906,195.811 89.1181,199.496 94.6457,195.811 \n",
       "  100.173,199.496 105.701,195.811 111.228,199.496 116.756,195.811 122.283,192.126 127.811,195.811 133.339,192.126 138.866,195.811 144.394,192.126 149.921,195.811 \n",
       "  155.449,192.126 160.976,195.811 166.504,199.496 172.031,203.181 177.559,206.866 183.087,210.551 188.614,214.236 194.142,217.921 199.669,214.236 205.197,210.551 \n",
       "  210.724,214.236 216.252,210.551 221.78,214.236 227.307,217.921 232.835,221.606 238.362,217.921 243.89,221.606 249.417,217.921 254.945,221.606 260.472,217.921 \n",
       "  266,214.236 271.528,210.551 277.055,214.236 282.583,217.921 288.11,221.606 293.638,217.921 299.165,214.236 304.693,217.921 310.22,214.236 315.748,217.921 \n",
       "  \n",
       "  \"/>\n",
       "<polyline clip-path=\"url(#clip02)\" style=\"stroke:#309ac1; stroke-width:1; stroke-opacity:1; fill:none\" points=\"\n",
       "  44.8976,192.126 50.4252,188.441 55.9528,192.126 61.4803,195.811 67.0079,199.496 72.5354,195.811 78.063,199.496 83.5906,203.181 89.1181,206.866 94.6457,210.551 \n",
       "  100.173,214.236 105.701,217.921 111.228,221.606 116.756,225.291 122.283,228.976 127.811,225.291 133.339,228.976 138.866,225.291 144.394,221.606 149.921,217.921 \n",
       "  155.449,221.606 160.976,225.291 166.504,221.606 172.031,225.291 177.559,228.976 183.087,232.661 188.614,228.976 194.142,232.661 199.669,228.976 205.197,225.291 \n",
       "  210.724,228.976 216.252,232.661 221.78,236.346 227.307,232.661 232.835,228.976 238.362,225.291 243.89,228.976 249.417,232.661 254.945,236.346 260.472,232.661 \n",
       "  266,236.346 271.528,240.031 277.055,236.346 282.583,240.031 288.11,243.717 293.638,240.031 299.165,243.717 304.693,247.402 310.22,251.087 315.748,247.402 \n",
       "  \n",
       "  \"/>\n",
       "<polyline clip-path=\"url(#clip02)\" style=\"stroke:#788490; stroke-width:1; stroke-opacity:1; fill:none\" points=\"\n",
       "  44.8976,192.126 50.4252,195.811 55.9528,199.496 61.4803,195.811 67.0079,199.496 72.5354,203.181 78.063,199.496 83.5906,203.181 89.1181,206.866 94.6457,210.551 \n",
       "  100.173,206.866 105.701,203.181 111.228,199.496 116.756,195.811 122.283,199.496 127.811,203.181 133.339,199.496 138.866,195.811 144.394,199.496 149.921,203.181 \n",
       "  155.449,199.496 160.976,195.811 166.504,192.126 172.031,195.811 177.559,192.126 183.087,188.441 188.614,192.126 194.142,195.811 199.669,192.126 205.197,195.811 \n",
       "  210.724,199.496 216.252,203.181 221.78,199.496 227.307,203.181 232.835,199.496 238.362,203.181 243.89,199.496 249.417,203.181 254.945,206.866 260.472,203.181 \n",
       "  266,199.496 271.528,195.811 277.055,199.496 282.583,203.181 288.11,206.866 293.638,210.551 299.165,214.236 304.693,217.921 310.22,221.606 315.748,217.921 \n",
       "  \n",
       "  \"/>\n",
       "<polyline clip-path=\"url(#clip02)\" style=\"stroke:#e561a4; stroke-width:1; stroke-opacity:1; fill:none\" points=\"\n",
       "  44.8976,192.126 50.4252,195.811 55.9528,192.126 61.4803,188.441 67.0079,184.756 72.5354,181.071 78.063,184.756 83.5906,188.441 89.1181,192.126 94.6457,188.441 \n",
       "  100.173,192.126 105.701,195.811 111.228,192.126 116.756,188.441 122.283,184.756 127.811,188.441 133.339,184.756 138.866,181.071 144.394,177.386 149.921,181.071 \n",
       "  155.449,177.386 160.976,181.071 166.504,177.386 172.031,173.701 177.559,177.386 183.087,181.071 188.614,177.386 194.142,173.701 199.669,177.386 205.197,181.071 \n",
       "  210.724,184.756 216.252,181.071 221.78,177.386 227.307,181.071 232.835,177.386 238.362,173.701 243.89,177.386 249.417,181.071 254.945,177.386 260.472,181.071 \n",
       "  266,177.386 271.528,173.701 277.055,170.016 282.583,173.701 288.11,177.386 293.638,173.701 299.165,177.386 304.693,173.701 310.22,177.386 315.748,173.701 \n",
       "  \n",
       "  \"/>\n",
       "<polyline clip-path=\"url(#clip02)\" style=\"stroke:#99902c; stroke-width:1; stroke-opacity:1; fill:none\" points=\"\n",
       "  44.8976,192.126 50.4252,188.441 55.9528,192.126 61.4803,195.811 67.0079,199.496 72.5354,203.181 78.063,206.866 83.5906,203.181 89.1181,206.866 94.6457,210.551 \n",
       "  100.173,206.866 105.701,203.181 111.228,199.496 116.756,203.181 122.283,199.496 127.811,195.811 133.339,199.496 138.866,195.811 144.394,192.126 149.921,195.811 \n",
       "  155.449,192.126 160.976,195.811 166.504,192.126 172.031,195.811 177.559,199.496 183.087,195.811 188.614,199.496 194.142,195.811 199.669,192.126 205.197,188.441 \n",
       "  210.724,192.126 216.252,195.811 221.78,199.496 227.307,203.181 232.835,206.866 238.362,203.181 243.89,206.866 249.417,210.551 254.945,214.236 260.472,210.551 \n",
       "  266,206.866 271.528,210.551 277.055,214.236 282.583,217.921 288.11,221.606 293.638,225.291 299.165,228.976 304.693,225.291 310.22,228.976 315.748,225.291 \n",
       "  \n",
       "  \"/>\n",
       "<polyline clip-path=\"url(#clip02)\" style=\"stroke:#389a7b; stroke-width:1; stroke-opacity:1; fill:none\" points=\"\n",
       "  44.8976,192.126 50.4252,188.441 55.9528,184.756 61.4803,181.071 67.0079,177.386 72.5354,173.701 78.063,170.016 83.5906,173.701 89.1181,177.386 94.6457,181.071 \n",
       "  100.173,184.756 105.701,181.071 111.228,184.756 116.756,188.441 122.283,184.756 127.811,181.071 133.339,177.386 138.866,181.071 144.394,177.386 149.921,173.701 \n",
       "  155.449,177.386 160.976,181.071 166.504,184.756 172.031,181.071 177.559,177.386 183.087,181.071 188.614,177.386 194.142,181.071 199.669,177.386 205.197,181.071 \n",
       "  210.724,177.386 216.252,173.701 221.78,177.386 227.307,173.701 232.835,170.016 238.362,166.331 243.89,170.016 249.417,173.701 254.945,170.016 260.472,166.331 \n",
       "  266,170.016 271.528,173.701 277.055,170.016 282.583,173.701 288.11,177.386 293.638,181.071 299.165,177.386 304.693,173.701 310.22,177.386 315.748,181.071 \n",
       "  \n",
       "  \"/>\n",
       "<polyline clip-path=\"url(#clip02)\" style=\"stroke:#d968a2; stroke-width:1; stroke-opacity:1; fill:none\" points=\"\n",
       "  44.8976,192.126 50.4252,195.811 55.9528,199.496 61.4803,195.811 67.0079,192.126 72.5354,195.811 78.063,199.496 83.5906,195.811 89.1181,192.126 94.6457,188.441 \n",
       "  100.173,192.126 105.701,195.811 111.228,199.496 116.756,203.181 122.283,206.866 127.811,203.181 133.339,206.866 138.866,203.181 144.394,206.866 149.921,203.181 \n",
       "  155.449,206.866 160.976,210.551 166.504,214.236 172.031,210.551 177.559,206.866 183.087,210.551 188.614,206.866 194.142,210.551 199.669,206.866 205.197,203.181 \n",
       "  210.724,206.866 216.252,210.551 221.78,206.866 227.307,203.181 232.835,206.866 238.362,203.181 243.89,199.496 249.417,195.811 254.945,192.126 260.472,195.811 \n",
       "  266,199.496 271.528,195.811 277.055,199.496 282.583,195.811 288.11,192.126 293.638,195.811 299.165,199.496 304.693,203.181 310.22,199.496 315.748,195.811 \n",
       "  \n",
       "  \"/>\n",
       "<polyline clip-path=\"url(#clip02)\" style=\"stroke:#009af9; stroke-width:1; stroke-opacity:1; fill:none\" points=\"\n",
       "  44.8976,192.126 50.4252,195.811 55.9528,192.126 61.4803,195.811 67.0079,192.126 72.5354,195.811 78.063,199.496 83.5906,203.181 89.1181,206.866 94.6457,210.551 \n",
       "  100.173,214.236 105.701,217.921 111.228,221.606 116.756,217.921 122.283,214.236 127.811,217.921 133.339,221.606 138.866,217.921 144.394,214.236 149.921,210.551 \n",
       "  155.449,214.236 160.976,210.551 166.504,206.866 172.031,203.181 177.559,206.866 183.087,210.551 188.614,206.866 194.142,203.181 199.669,206.866 205.197,203.181 \n",
       "  210.724,199.496 216.252,195.811 221.78,192.126 227.307,188.441 232.835,184.756 238.362,188.441 243.89,184.756 249.417,181.071 254.945,177.386 260.472,173.701 \n",
       "  266,177.386 271.528,181.071 277.055,177.386 282.583,181.071 288.11,184.756 293.638,181.071 299.165,184.756 304.693,181.071 310.22,177.386 315.748,173.701 \n",
       "  \n",
       "  \"/>\n",
       "<polyline clip-path=\"url(#clip02)\" style=\"stroke:#e26f46; stroke-width:1; stroke-opacity:1; fill:none\" points=\"\n",
       "  44.8976,192.126 50.4252,188.441 55.9528,192.126 61.4803,195.811 67.0079,192.126 72.5354,195.811 78.063,192.126 83.5906,195.811 89.1181,199.496 94.6457,195.811 \n",
       "  100.173,192.126 105.701,195.811 111.228,192.126 116.756,188.441 122.283,192.126 127.811,188.441 133.339,192.126 138.866,195.811 144.394,199.496 149.921,203.181 \n",
       "  155.449,206.866 160.976,203.181 166.504,206.866 172.031,203.181 177.559,199.496 183.087,195.811 188.614,199.496 194.142,203.181 199.669,206.866 205.197,203.181 \n",
       "  210.724,199.496 216.252,195.811 221.78,199.496 227.307,195.811 232.835,199.496 238.362,203.181 243.89,206.866 249.417,210.551 254.945,214.236 260.472,217.921 \n",
       "  266,221.606 271.528,217.921 277.055,221.606 282.583,217.921 288.11,214.236 293.638,210.551 299.165,214.236 304.693,210.551 310.22,214.236 315.748,210.551 \n",
       "  \n",
       "  \"/>\n",
       "<polyline clip-path=\"url(#clip02)\" style=\"stroke:#3da44d; stroke-width:1; stroke-opacity:1; fill:none\" points=\"\n",
       "  44.8976,192.126 50.4252,195.811 55.9528,192.126 61.4803,195.811 67.0079,192.126 72.5354,195.811 78.063,192.126 83.5906,195.811 89.1181,192.126 94.6457,188.441 \n",
       "  100.173,184.756 105.701,188.441 111.228,184.756 116.756,181.071 122.283,177.386 127.811,181.071 133.339,184.756 138.866,188.441 144.394,184.756 149.921,181.071 \n",
       "  155.449,177.386 160.976,173.701 166.504,170.016 172.031,173.701 177.559,170.016 183.087,166.331 188.614,170.016 194.142,166.331 199.669,170.016 205.197,166.331 \n",
       "  210.724,162.646 216.252,158.961 221.78,155.276 227.307,151.591 232.835,147.906 238.362,144.22 243.89,147.906 249.417,144.22 254.945,147.906 260.472,144.22 \n",
       "  266,140.535 271.528,144.22 277.055,147.906 282.583,151.591 288.11,147.906 293.638,151.591 299.165,147.906 304.693,144.22 310.22,140.535 315.748,136.85 \n",
       "  \n",
       "  \"/>\n",
       "<polyline clip-path=\"url(#clip02)\" style=\"stroke:#c271d2; stroke-width:1; stroke-opacity:1; fill:none\" points=\"\n",
       "  44.8976,192.126 50.4252,195.811 55.9528,192.126 61.4803,195.811 67.0079,192.126 72.5354,195.811 78.063,199.496 83.5906,203.181 89.1181,206.866 94.6457,203.181 \n",
       "  100.173,199.496 105.701,195.811 111.228,199.496 116.756,195.811 122.283,199.496 127.811,203.181 133.339,206.866 138.866,203.181 144.394,199.496 149.921,195.811 \n",
       "  155.449,192.126 160.976,195.811 166.504,199.496 172.031,203.181 177.559,206.866 183.087,203.181 188.614,206.866 194.142,210.551 199.669,206.866 205.197,203.181 \n",
       "  210.724,206.866 216.252,203.181 221.78,206.866 227.307,203.181 232.835,199.496 238.362,203.181 243.89,199.496 249.417,203.181 254.945,206.866 260.472,203.181 \n",
       "  266,199.496 271.528,203.181 277.055,199.496 282.583,203.181 288.11,206.866 293.638,210.551 299.165,206.866 304.693,203.181 310.22,206.866 315.748,203.181 \n",
       "  \n",
       "  \"/>\n",
       "<polyline clip-path=\"url(#clip02)\" style=\"stroke:#ac8d18; stroke-width:1; stroke-opacity:1; fill:none\" points=\"\n",
       "  44.8976,192.126 50.4252,188.441 55.9528,192.126 61.4803,188.441 67.0079,184.756 72.5354,181.071 78.063,177.386 83.5906,173.701 89.1181,177.386 94.6457,173.701 \n",
       "  100.173,177.386 105.701,173.701 111.228,177.386 116.756,181.071 122.283,184.756 127.811,181.071 133.339,184.756 138.866,181.071 144.394,184.756 149.921,188.441 \n",
       "  155.449,184.756 160.976,181.071 166.504,177.386 172.031,181.071 177.559,184.756 183.087,188.441 188.614,184.756 194.142,188.441 199.669,192.126 205.197,188.441 \n",
       "  210.724,184.756 216.252,181.071 221.78,184.756 227.307,181.071 232.835,177.386 238.362,181.071 243.89,184.756 249.417,188.441 254.945,184.756 260.472,188.441 \n",
       "  266,184.756 271.528,188.441 277.055,184.756 282.583,181.071 288.11,184.756 293.638,188.441 299.165,184.756 304.693,181.071 310.22,177.386 315.748,173.701 \n",
       "  \n",
       "  \"/>\n",
       "<polyline clip-path=\"url(#clip02)\" style=\"stroke:#00a9ad; stroke-width:1; stroke-opacity:1; fill:none\" points=\"\n",
       "  44.8976,192.126 50.4252,195.811 55.9528,192.126 61.4803,195.811 67.0079,199.496 72.5354,195.811 78.063,192.126 83.5906,195.811 89.1181,192.126 94.6457,195.811 \n",
       "  100.173,192.126 105.701,195.811 111.228,192.126 116.756,195.811 122.283,192.126 127.811,195.811 133.339,192.126 138.866,195.811 144.394,199.496 149.921,203.181 \n",
       "  155.449,199.496 160.976,203.181 166.504,206.866 172.031,203.181 177.559,199.496 183.087,195.811 188.614,192.126 194.142,188.441 199.669,184.756 205.197,181.071 \n",
       "  210.724,177.386 216.252,173.701 221.78,177.386 227.307,181.071 232.835,177.386 238.362,173.701 243.89,177.386 249.417,181.071 254.945,184.756 260.472,188.441 \n",
       "  266,184.756 271.528,181.071 277.055,184.756 282.583,188.441 288.11,192.126 293.638,195.811 299.165,199.496 304.693,195.811 310.22,192.126 315.748,195.811 \n",
       "  \n",
       "  \"/>\n",
       "<polyline clip-path=\"url(#clip02)\" style=\"stroke:#ed5d92; stroke-width:1; stroke-opacity:1; fill:none\" points=\"\n",
       "  44.8976,192.126 50.4252,195.811 55.9528,199.496 61.4803,195.811 67.0079,199.496 72.5354,195.811 78.063,199.496 83.5906,203.181 89.1181,206.866 94.6457,203.181 \n",
       "  100.173,199.496 105.701,195.811 111.228,192.126 116.756,195.811 122.283,192.126 127.811,195.811 133.339,192.126 138.866,188.441 144.394,192.126 149.921,195.811 \n",
       "  155.449,192.126 160.976,195.811 166.504,192.126 172.031,195.811 177.559,192.126 183.087,195.811 188.614,192.126 194.142,188.441 199.669,192.126 205.197,195.811 \n",
       "  210.724,192.126 216.252,195.811 221.78,199.496 227.307,195.811 232.835,192.126 238.362,188.441 243.89,192.126 249.417,195.811 254.945,199.496 260.472,203.181 \n",
       "  266,206.866 271.528,203.181 277.055,206.866 282.583,210.551 288.11,206.866 293.638,203.181 299.165,199.496 304.693,203.181 310.22,199.496 315.748,195.811 \n",
       "  \n",
       "  \"/>\n",
       "<polyline clip-path=\"url(#clip02)\" style=\"stroke:#c68125; stroke-width:1; stroke-opacity:1; fill:none\" points=\"\n",
       "  44.8976,192.126 50.4252,195.811 55.9528,192.126 61.4803,188.441 67.0079,184.756 72.5354,188.441 78.063,192.126 83.5906,188.441 89.1181,192.126 94.6457,195.811 \n",
       "  100.173,192.126 105.701,188.441 111.228,192.126 116.756,195.811 122.283,199.496 127.811,195.811 133.339,192.126 138.866,195.811 144.394,199.496 149.921,203.181 \n",
       "  155.449,206.866 160.976,203.181 166.504,199.496 172.031,203.181 177.559,206.866 183.087,203.181 188.614,206.866 194.142,203.181 199.669,199.496 205.197,203.181 \n",
       "  210.724,199.496 216.252,203.181 221.78,199.496 227.307,203.181 232.835,199.496 238.362,203.181 243.89,206.866 249.417,210.551 254.945,206.866 260.472,210.551 \n",
       "  266,214.236 271.528,210.551 277.055,206.866 282.583,210.551 288.11,206.866 293.638,203.181 299.165,199.496 304.693,195.811 310.22,199.496 315.748,203.181 \n",
       "  \n",
       "  \"/>\n",
       "<polyline clip-path=\"url(#clip02)\" style=\"stroke:#00a98d; stroke-width:1; stroke-opacity:1; fill:none\" points=\"\n",
       "  44.8976,192.126 50.4252,195.811 55.9528,192.126 61.4803,195.811 67.0079,199.496 72.5354,195.811 78.063,199.496 83.5906,195.811 89.1181,192.126 94.6457,188.441 \n",
       "  100.173,184.756 105.701,188.441 111.228,184.756 116.756,181.071 122.283,184.756 127.811,181.071 133.339,184.756 138.866,181.071 144.394,184.756 149.921,188.441 \n",
       "  155.449,184.756 160.976,188.441 166.504,192.126 172.031,188.441 177.559,192.126 183.087,195.811 188.614,192.126 194.142,195.811 199.669,192.126 205.197,195.811 \n",
       "  210.724,199.496 216.252,203.181 221.78,199.496 227.307,203.181 232.835,206.866 238.362,210.551 243.89,214.236 249.417,210.551 254.945,206.866 260.472,210.551 \n",
       "  266,214.236 271.528,217.921 277.055,221.606 282.583,217.921 288.11,214.236 293.638,210.551 299.165,214.236 304.693,217.921 310.22,221.606 315.748,217.921 \n",
       "  \n",
       "  \"/>\n",
       "<polyline clip-path=\"url(#clip02)\" style=\"stroke:#8e971d; stroke-width:1; stroke-opacity:1; fill:none\" points=\"\n",
       "  44.8976,192.126 50.4252,188.441 55.9528,184.756 61.4803,188.441 67.0079,192.126 72.5354,195.811 78.063,199.496 83.5906,203.181 89.1181,199.496 94.6457,195.811 \n",
       "  100.173,199.496 105.701,195.811 111.228,199.496 116.756,203.181 122.283,206.866 127.811,210.551 133.339,214.236 138.866,217.921 144.394,214.236 149.921,210.551 \n",
       "  155.449,206.866 160.976,210.551 166.504,206.866 172.031,210.551 177.559,206.866 183.087,203.181 188.614,199.496 194.142,195.811 199.669,199.496 205.197,203.181 \n",
       "  210.724,206.866 216.252,203.181 221.78,206.866 227.307,210.551 232.835,206.866 238.362,210.551 243.89,206.866 249.417,203.181 254.945,199.496 260.472,195.811 \n",
       "  266,199.496 271.528,203.181 277.055,199.496 282.583,203.181 288.11,206.866 293.638,203.181 299.165,206.866 304.693,203.181 310.22,199.496 315.748,195.811 \n",
       "  \n",
       "  \"/>\n",
       "<polyline clip-path=\"url(#clip02)\" style=\"stroke:#00a8cb; stroke-width:1; stroke-opacity:1; fill:none\" points=\"\n",
       "  44.8976,192.126 50.4252,188.441 55.9528,184.756 61.4803,188.441 67.0079,184.756 72.5354,181.071 78.063,177.386 83.5906,173.701 89.1181,170.016 94.6457,166.331 \n",
       "  100.173,170.016 105.701,166.331 111.228,162.646 116.756,166.331 122.283,162.646 127.811,158.961 133.339,155.276 138.866,151.591 144.394,147.906 149.921,151.591 \n",
       "  155.449,147.906 160.976,151.591 166.504,147.906 172.031,144.22 177.559,147.906 183.087,151.591 188.614,155.276 194.142,151.591 199.669,155.276 205.197,158.961 \n",
       "  210.724,162.646 216.252,166.331 221.78,162.646 227.307,166.331 232.835,162.646 238.362,166.331 243.89,162.646 249.417,166.331 254.945,162.646 260.472,166.331 \n",
       "  266,162.646 271.528,166.331 277.055,170.016 282.583,173.701 288.11,177.386 293.638,181.071 299.165,184.756 304.693,188.441 310.22,192.126 315.748,188.441 \n",
       "  \n",
       "  \"/>\n",
       "<polyline clip-path=\"url(#clip02)\" style=\"stroke:#9b7fe8; stroke-width:1; stroke-opacity:1; fill:none\" points=\"\n",
       "  44.8976,192.126 50.4252,188.441 55.9528,184.756 61.4803,188.441 67.0079,184.756 72.5354,181.071 78.063,184.756 83.5906,181.071 89.1181,177.386 94.6457,181.071 \n",
       "  100.173,177.386 105.701,181.071 111.228,184.756 116.756,181.071 122.283,177.386 127.811,181.071 133.339,177.386 138.866,181.071 144.394,184.756 149.921,181.071 \n",
       "  155.449,184.756 160.976,188.441 166.504,192.126 172.031,188.441 177.559,192.126 183.087,188.441 188.614,192.126 194.142,188.441 199.669,184.756 205.197,181.071 \n",
       "  210.724,184.756 216.252,188.441 221.78,184.756 227.307,188.441 232.835,184.756 238.362,181.071 243.89,184.756 249.417,188.441 254.945,184.756 260.472,188.441 \n",
       "  266,192.126 271.528,195.811 277.055,199.496 282.583,203.181 288.11,199.496 293.638,203.181 299.165,206.866 304.693,210.551 310.22,206.866 315.748,210.551 \n",
       "  \n",
       "  \"/>\n",
       "<polyline clip-path=\"url(#clip02)\" style=\"stroke:#608cf6; stroke-width:1; stroke-opacity:1; fill:none\" points=\"\n",
       "  44.8976,192.126 50.4252,195.811 55.9528,199.496 61.4803,203.181 67.0079,206.866 72.5354,203.181 78.063,206.866 83.5906,203.181 89.1181,199.496 94.6457,195.811 \n",
       "  100.173,192.126 105.701,195.811 111.228,199.496 116.756,195.811 122.283,199.496 127.811,203.181 133.339,206.866 138.866,210.551 144.394,214.236 149.921,210.551 \n",
       "  155.449,206.866 160.976,203.181 166.504,199.496 172.031,195.811 177.559,192.126 183.087,195.811 188.614,192.126 194.142,188.441 199.669,192.126 205.197,195.811 \n",
       "  210.724,192.126 216.252,188.441 221.78,184.756 227.307,181.071 232.835,177.386 238.362,173.701 243.89,177.386 249.417,173.701 254.945,170.016 260.472,166.331 \n",
       "  266,170.016 271.528,166.331 277.055,162.646 282.583,166.331 288.11,170.016 293.638,166.331 299.165,162.646 304.693,158.961 310.22,162.646 315.748,158.961 \n",
       "  \n",
       "  \"/>\n",
       "<polyline clip-path=\"url(#clip02)\" style=\"stroke:#f05f73; stroke-width:1; stroke-opacity:1; fill:none\" points=\"\n",
       "  44.8976,192.126 50.4252,188.441 55.9528,192.126 61.4803,195.811 67.0079,192.126 72.5354,188.441 78.063,184.756 83.5906,188.441 89.1181,192.126 94.6457,195.811 \n",
       "  100.173,192.126 105.701,195.811 111.228,199.496 116.756,195.811 122.283,192.126 127.811,188.441 133.339,184.756 138.866,181.071 144.394,184.756 149.921,181.071 \n",
       "  155.449,184.756 160.976,188.441 166.504,184.756 172.031,181.071 177.559,177.386 183.087,181.071 188.614,177.386 194.142,181.071 199.669,177.386 205.197,181.071 \n",
       "  210.724,184.756 216.252,188.441 221.78,192.126 227.307,195.811 232.835,192.126 238.362,195.811 243.89,199.496 249.417,203.181 254.945,206.866 260.472,203.181 \n",
       "  266,199.496 271.528,195.811 277.055,199.496 282.583,195.811 288.11,199.496 293.638,195.811 299.165,192.126 304.693,188.441 310.22,184.756 315.748,188.441 \n",
       "  \n",
       "  \"/>\n",
       "<polyline clip-path=\"url(#clip02)\" style=\"stroke:#dd64b5; stroke-width:1; stroke-opacity:1; fill:none\" points=\"\n",
       "  44.8976,192.126 50.4252,195.811 55.9528,192.126 61.4803,188.441 67.0079,192.126 72.5354,195.811 78.063,199.496 83.5906,203.181 89.1181,206.866 94.6457,203.181 \n",
       "  100.173,199.496 105.701,203.181 111.228,206.866 116.756,210.551 122.283,206.866 127.811,210.551 133.339,206.866 138.866,210.551 144.394,214.236 149.921,210.551 \n",
       "  155.449,206.866 160.976,203.181 166.504,199.496 172.031,195.811 177.559,199.496 183.087,203.181 188.614,206.866 194.142,203.181 199.669,199.496 205.197,195.811 \n",
       "  210.724,192.126 216.252,195.811 221.78,192.126 227.307,188.441 232.835,192.126 238.362,188.441 243.89,192.126 249.417,195.811 254.945,199.496 260.472,203.181 \n",
       "  266,199.496 271.528,195.811 277.055,199.496 282.583,203.181 288.11,206.866 293.638,210.551 299.165,214.236 304.693,217.921 310.22,221.606 315.748,217.921 \n",
       "  \n",
       "  \"/>\n",
       "<polyline clip-path=\"url(#clip02)\" style=\"stroke:#6b9e32; stroke-width:1; stroke-opacity:1; fill:none\" points=\"\n",
       "  44.8976,192.126 50.4252,188.441 55.9528,192.126 61.4803,188.441 67.0079,192.126 72.5354,195.811 78.063,199.496 83.5906,195.811 89.1181,192.126 94.6457,195.811 \n",
       "  100.173,192.126 105.701,195.811 111.228,192.126 116.756,188.441 122.283,192.126 127.811,188.441 133.339,184.756 138.866,181.071 144.394,177.386 149.921,181.071 \n",
       "  155.449,177.386 160.976,173.701 166.504,177.386 172.031,181.071 177.559,177.386 183.087,181.071 188.614,177.386 194.142,181.071 199.669,177.386 205.197,181.071 \n",
       "  210.724,184.756 216.252,188.441 221.78,184.756 227.307,188.441 232.835,192.126 238.362,195.811 243.89,192.126 249.417,195.811 254.945,192.126 260.472,188.441 \n",
       "  266,192.126 271.528,188.441 277.055,184.756 282.583,188.441 288.11,192.126 293.638,195.811 299.165,192.126 304.693,195.811 310.22,192.126 315.748,188.441 \n",
       "  \n",
       "  \"/>\n",
       "<polyline clip-path=\"url(#clip02)\" style=\"stroke:#718c69; stroke-width:1; stroke-opacity:1; fill:none\" points=\"\n",
       "  44.8976,192.126 50.4252,195.811 55.9528,199.496 61.4803,203.181 67.0079,206.866 72.5354,210.551 78.063,206.866 83.5906,203.181 89.1181,199.496 94.6457,203.181 \n",
       "  100.173,199.496 105.701,195.811 111.228,199.496 116.756,195.811 122.283,192.126 127.811,188.441 133.339,184.756 138.866,181.071 144.394,177.386 149.921,181.071 \n",
       "  155.449,177.386 160.976,181.071 166.504,184.756 172.031,181.071 177.559,184.756 183.087,188.441 188.614,192.126 194.142,188.441 199.669,184.756 205.197,181.071 \n",
       "  210.724,177.386 216.252,181.071 221.78,177.386 227.307,173.701 232.835,177.386 238.362,173.701 243.89,170.016 249.417,173.701 254.945,177.386 260.472,181.071 \n",
       "  266,184.756 271.528,181.071 277.055,177.386 282.583,181.071 288.11,177.386 293.638,173.701 299.165,170.016 304.693,173.701 310.22,177.386 315.748,173.701 \n",
       "  \n",
       "  \"/>\n",
       "<polyline clip-path=\"url(#clip02)\" style=\"stroke:#47988b; stroke-width:1; stroke-opacity:1; fill:none\" points=\"\n",
       "  44.8976,192.126 50.4252,188.441 55.9528,184.756 61.4803,188.441 67.0079,192.126 72.5354,195.811 78.063,199.496 83.5906,203.181 89.1181,206.866 94.6457,210.551 \n",
       "  100.173,214.236 105.701,217.921 111.228,221.606 116.756,225.291 122.283,221.606 127.811,217.921 133.339,221.606 138.866,225.291 144.394,228.976 149.921,232.661 \n",
       "  155.449,228.976 160.976,225.291 166.504,221.606 172.031,217.921 177.559,214.236 183.087,217.921 188.614,221.606 194.142,225.291 199.669,228.976 205.197,232.661 \n",
       "  210.724,236.346 216.252,232.661 221.78,228.976 227.307,232.661 232.835,236.346 238.362,232.661 243.89,236.346 249.417,232.661 254.945,236.346 260.472,232.661 \n",
       "  266,228.976 271.528,232.661 277.055,236.346 282.583,232.661 288.11,228.976 293.638,225.291 299.165,221.606 304.693,217.921 310.22,214.236 315.748,217.921 \n",
       "  \n",
       "  \"/>\n",
       "<polyline clip-path=\"url(#clip02)\" style=\"stroke:#1ea68c; stroke-width:1; stroke-opacity:1; fill:none\" points=\"\n",
       "  44.8976,192.126 50.4252,195.811 55.9528,192.126 61.4803,188.441 67.0079,184.756 72.5354,181.071 78.063,177.386 83.5906,181.071 89.1181,177.386 94.6457,173.701 \n",
       "  100.173,177.386 105.701,173.701 111.228,177.386 116.756,181.071 122.283,177.386 127.811,173.701 133.339,177.386 138.866,173.701 144.394,177.386 149.921,173.701 \n",
       "  155.449,177.386 160.976,181.071 166.504,177.386 172.031,181.071 177.559,184.756 183.087,181.071 188.614,177.386 194.142,173.701 199.669,170.016 205.197,173.701 \n",
       "  210.724,170.016 216.252,166.331 221.78,162.646 227.307,166.331 232.835,162.646 238.362,158.961 243.89,162.646 249.417,166.331 254.945,162.646 260.472,158.961 \n",
       "  266,155.276 271.528,158.961 277.055,162.646 282.583,158.961 288.11,155.276 293.638,158.961 299.165,155.276 304.693,158.961 310.22,162.646 315.748,166.331 \n",
       "  \n",
       "  \"/>\n",
       "<polyline clip-path=\"url(#clip02)\" style=\"stroke:#af78dd; stroke-width:1; stroke-opacity:1; fill:none\" points=\"\n",
       "  44.8976,192.126 50.4252,195.811 55.9528,192.126 61.4803,188.441 67.0079,192.126 72.5354,195.811 78.063,199.496 83.5906,203.181 89.1181,199.496 94.6457,203.181 \n",
       "  100.173,199.496 105.701,195.811 111.228,199.496 116.756,195.811 122.283,199.496 127.811,203.181 133.339,206.866 138.866,210.551 144.394,206.866 149.921,210.551 \n",
       "  155.449,214.236 160.976,210.551 166.504,214.236 172.031,217.921 177.559,214.236 183.087,210.551 188.614,214.236 194.142,210.551 199.669,214.236 205.197,217.921 \n",
       "  210.724,214.236 216.252,210.551 221.78,214.236 227.307,210.551 232.835,206.866 238.362,203.181 243.89,206.866 249.417,203.181 254.945,206.866 260.472,210.551 \n",
       "  266,214.236 271.528,210.551 277.055,214.236 282.583,217.921 288.11,214.236 293.638,217.921 299.165,221.606 304.693,217.921 310.22,214.236 315.748,210.551 \n",
       "  \n",
       "  \"/>\n",
       "<polyline clip-path=\"url(#clip02)\" style=\"stroke:#868d87; stroke-width:1; stroke-opacity:1; fill:none\" points=\"\n",
       "  44.8976,192.126 50.4252,188.441 55.9528,184.756 61.4803,181.071 67.0079,177.386 72.5354,181.071 78.063,184.756 83.5906,181.071 89.1181,177.386 94.6457,181.071 \n",
       "  100.173,177.386 105.701,181.071 111.228,184.756 116.756,181.071 122.283,184.756 127.811,188.441 133.339,184.756 138.866,181.071 144.394,177.386 149.921,181.071 \n",
       "  155.449,184.756 160.976,188.441 166.504,192.126 172.031,195.811 177.559,199.496 183.087,195.811 188.614,192.126 194.142,188.441 199.669,192.126 205.197,188.441 \n",
       "  210.724,192.126 216.252,195.811 221.78,199.496 227.307,195.811 232.835,192.126 238.362,195.811 243.89,192.126 249.417,188.441 254.945,192.126 260.472,188.441 \n",
       "  266,192.126 271.528,188.441 277.055,192.126 282.583,195.811 288.11,192.126 293.638,188.441 299.165,184.756 304.693,188.441 310.22,184.756 315.748,181.071 \n",
       "  \n",
       "  \"/>\n",
       "<polyline clip-path=\"url(#clip02)\" style=\"stroke:#47a065; stroke-width:1; stroke-opacity:1; fill:none\" points=\"\n",
       "  44.8976,192.126 50.4252,195.811 55.9528,199.496 61.4803,195.811 67.0079,199.496 72.5354,195.811 78.063,199.496 83.5906,203.181 89.1181,206.866 94.6457,210.551 \n",
       "  100.173,206.866 105.701,210.551 111.228,206.866 116.756,203.181 122.283,206.866 127.811,210.551 133.339,214.236 138.866,210.551 144.394,214.236 149.921,210.551 \n",
       "  155.449,214.236 160.976,217.921 166.504,221.606 172.031,225.291 177.559,228.976 183.087,232.661 188.614,236.346 194.142,240.031 199.669,243.717 205.197,247.402 \n",
       "  210.724,251.087 216.252,254.772 221.78,251.087 227.307,254.772 232.835,251.087 238.362,247.402 243.89,251.087 249.417,247.402 254.945,243.717 260.472,247.402 \n",
       "  266,243.717 271.528,247.402 277.055,243.717 282.583,240.031 288.11,243.717 293.638,247.402 299.165,251.087 304.693,247.402 310.22,251.087 315.748,254.772 \n",
       "  \n",
       "  \"/>\n",
       "<polyline clip-path=\"url(#clip02)\" style=\"stroke:#7683af; stroke-width:1; stroke-opacity:1; fill:none\" points=\"\n",
       "  44.8976,192.126 50.4252,188.441 55.9528,184.756 61.4803,181.071 67.0079,177.386 72.5354,181.071 78.063,177.386 83.5906,173.701 89.1181,170.016 94.6457,166.331 \n",
       "  100.173,170.016 105.701,166.331 111.228,170.016 116.756,173.701 122.283,177.386 127.811,173.701 133.339,177.386 138.866,181.071 144.394,177.386 149.921,173.701 \n",
       "  155.449,170.016 160.976,173.701 166.504,177.386 172.031,181.071 177.559,177.386 183.087,173.701 188.614,177.386 194.142,173.701 199.669,177.386 205.197,181.071 \n",
       "  210.724,184.756 216.252,181.071 221.78,177.386 227.307,173.701 232.835,170.016 238.362,173.701 243.89,170.016 249.417,173.701 254.945,170.016 260.472,166.331 \n",
       "  266,162.646 271.528,158.961 277.055,162.646 282.583,166.331 288.11,170.016 293.638,166.331 299.165,162.646 304.693,158.961 310.22,155.276 315.748,158.961 \n",
       "  \n",
       "  \"/>\n",
       "<polyline clip-path=\"url(#clip02)\" style=\"stroke:#b08086; stroke-width:1; stroke-opacity:1; fill:none\" points=\"\n",
       "  44.8976,192.126 50.4252,195.811 55.9528,192.126 61.4803,188.441 67.0079,184.756 72.5354,181.071 78.063,184.756 83.5906,188.441 89.1181,192.126 94.6457,195.811 \n",
       "  100.173,199.496 105.701,203.181 111.228,199.496 116.756,203.181 122.283,206.866 127.811,210.551 133.339,206.866 138.866,203.181 144.394,206.866 149.921,210.551 \n",
       "  155.449,206.866 160.976,210.551 166.504,214.236 172.031,210.551 177.559,206.866 183.087,203.181 188.614,199.496 194.142,195.811 199.669,192.126 205.197,188.441 \n",
       "  210.724,184.756 216.252,188.441 221.78,184.756 227.307,188.441 232.835,184.756 238.362,188.441 243.89,184.756 249.417,188.441 254.945,192.126 260.472,195.811 \n",
       "  266,199.496 271.528,195.811 277.055,199.496 282.583,195.811 288.11,199.496 293.638,195.811 299.165,192.126 304.693,195.811 310.22,192.126 315.748,188.441 \n",
       "  \n",
       "  \"/>\n",
       "<polyline clip-path=\"url(#clip02)\" style=\"stroke:#309ac1; stroke-width:1; stroke-opacity:1; fill:none\" points=\"\n",
       "  44.8976,192.126 50.4252,195.811 55.9528,199.496 61.4803,195.811 67.0079,192.126 72.5354,195.811 78.063,199.496 83.5906,195.811 89.1181,192.126 94.6457,188.441 \n",
       "  100.173,192.126 105.701,188.441 111.228,184.756 116.756,188.441 122.283,192.126 127.811,188.441 133.339,184.756 138.866,188.441 144.394,184.756 149.921,181.071 \n",
       "  155.449,184.756 160.976,181.071 166.504,184.756 172.031,188.441 177.559,192.126 183.087,188.441 188.614,192.126 194.142,188.441 199.669,184.756 205.197,181.071 \n",
       "  210.724,184.756 216.252,181.071 221.78,177.386 227.307,181.071 232.835,177.386 238.362,181.071 243.89,184.756 249.417,188.441 254.945,192.126 260.472,188.441 \n",
       "  266,184.756 271.528,181.071 277.055,184.756 282.583,181.071 288.11,184.756 293.638,188.441 299.165,192.126 304.693,188.441 310.22,192.126 315.748,195.811 \n",
       "  \n",
       "  \"/>\n",
       "<polyline clip-path=\"url(#clip02)\" style=\"stroke:#788490; stroke-width:1; stroke-opacity:1; fill:none\" points=\"\n",
       "  44.8976,192.126 50.4252,195.811 55.9528,192.126 61.4803,188.441 67.0079,184.756 72.5354,181.071 78.063,177.386 83.5906,173.701 89.1181,170.016 94.6457,166.331 \n",
       "  100.173,170.016 105.701,166.331 111.228,170.016 116.756,166.331 122.283,170.016 127.811,173.701 133.339,170.016 138.866,173.701 144.394,177.386 149.921,173.701 \n",
       "  155.449,177.386 160.976,181.071 166.504,184.756 172.031,181.071 177.559,184.756 183.087,188.441 188.614,192.126 194.142,188.441 199.669,192.126 205.197,188.441 \n",
       "  210.724,192.126 216.252,188.441 221.78,184.756 227.307,188.441 232.835,184.756 238.362,181.071 243.89,177.386 249.417,173.701 254.945,177.386 260.472,173.701 \n",
       "  266,177.386 271.528,173.701 277.055,177.386 282.583,173.701 288.11,177.386 293.638,173.701 299.165,177.386 304.693,181.071 310.22,177.386 315.748,181.071 \n",
       "  \n",
       "  \"/>\n",
       "<polyline clip-path=\"url(#clip02)\" style=\"stroke:#e561a4; stroke-width:1; stroke-opacity:1; fill:none\" points=\"\n",
       "  44.8976,192.126 50.4252,188.441 55.9528,184.756 61.4803,181.071 67.0079,184.756 72.5354,188.441 78.063,184.756 83.5906,181.071 89.1181,177.386 94.6457,173.701 \n",
       "  100.173,177.386 105.701,181.071 111.228,177.386 116.756,173.701 122.283,177.386 127.811,173.701 133.339,170.016 138.866,173.701 144.394,170.016 149.921,173.701 \n",
       "  155.449,170.016 160.976,173.701 166.504,170.016 172.031,166.331 177.559,170.016 183.087,166.331 188.614,162.646 194.142,158.961 199.669,162.646 205.197,166.331 \n",
       "  210.724,170.016 216.252,166.331 221.78,170.016 227.307,173.701 232.835,170.016 238.362,166.331 243.89,162.646 249.417,166.331 254.945,162.646 260.472,166.331 \n",
       "  266,162.646 271.528,166.331 277.055,162.646 282.583,166.331 288.11,170.016 293.638,173.701 299.165,170.016 304.693,173.701 310.22,177.386 315.748,181.071 \n",
       "  \n",
       "  \"/>\n",
       "<polyline clip-path=\"url(#clip02)\" style=\"stroke:#99902c; stroke-width:1; stroke-opacity:1; fill:none\" points=\"\n",
       "  44.8976,192.126 50.4252,195.811 55.9528,199.496 61.4803,195.811 67.0079,192.126 72.5354,195.811 78.063,199.496 83.5906,195.811 89.1181,199.496 94.6457,203.181 \n",
       "  100.173,199.496 105.701,195.811 111.228,192.126 116.756,195.811 122.283,192.126 127.811,195.811 133.339,192.126 138.866,188.441 144.394,184.756 149.921,181.071 \n",
       "  155.449,184.756 160.976,188.441 166.504,192.126 172.031,195.811 177.559,192.126 183.087,188.441 188.614,192.126 194.142,195.811 199.669,192.126 205.197,195.811 \n",
       "  210.724,192.126 216.252,188.441 221.78,184.756 227.307,188.441 232.835,184.756 238.362,181.071 243.89,184.756 249.417,181.071 254.945,177.386 260.472,181.071 \n",
       "  266,177.386 271.528,181.071 277.055,177.386 282.583,181.071 288.11,177.386 293.638,181.071 299.165,184.756 304.693,181.071 310.22,177.386 315.748,173.701 \n",
       "  \n",
       "  \"/>\n",
       "<polyline clip-path=\"url(#clip02)\" style=\"stroke:#389a7b; stroke-width:1; stroke-opacity:1; fill:none\" points=\"\n",
       "  44.8976,192.126 50.4252,195.811 55.9528,192.126 61.4803,195.811 67.0079,192.126 72.5354,195.811 78.063,192.126 83.5906,188.441 89.1181,184.756 94.6457,188.441 \n",
       "  100.173,184.756 105.701,181.071 111.228,184.756 116.756,188.441 122.283,192.126 127.811,195.811 133.339,192.126 138.866,195.811 144.394,199.496 149.921,203.181 \n",
       "  155.449,206.866 160.976,203.181 166.504,199.496 172.031,195.811 177.559,199.496 183.087,195.811 188.614,199.496 194.142,195.811 199.669,199.496 205.197,195.811 \n",
       "  210.724,192.126 216.252,188.441 221.78,192.126 227.307,195.811 232.835,192.126 238.362,195.811 243.89,192.126 249.417,188.441 254.945,184.756 260.472,188.441 \n",
       "  266,192.126 271.528,195.811 277.055,199.496 282.583,203.181 288.11,206.866 293.638,210.551 299.165,206.866 304.693,203.181 310.22,199.496 315.748,195.811 \n",
       "  \n",
       "  \"/>\n",
       "<polyline clip-path=\"url(#clip02)\" style=\"stroke:#d968a2; stroke-width:1; stroke-opacity:1; fill:none\" points=\"\n",
       "  44.8976,192.126 50.4252,195.811 55.9528,199.496 61.4803,195.811 67.0079,192.126 72.5354,188.441 78.063,184.756 83.5906,188.441 89.1181,184.756 94.6457,181.071 \n",
       "  100.173,177.386 105.701,173.701 111.228,170.016 116.756,166.331 122.283,162.646 127.811,166.331 133.339,162.646 138.866,158.961 144.394,162.646 149.921,166.331 \n",
       "  155.449,170.016 160.976,166.331 166.504,170.016 172.031,166.331 177.559,170.016 183.087,173.701 188.614,170.016 194.142,173.701 199.669,170.016 205.197,173.701 \n",
       "  210.724,170.016 216.252,166.331 221.78,170.016 227.307,166.331 232.835,162.646 238.362,166.331 243.89,162.646 249.417,166.331 254.945,162.646 260.472,158.961 \n",
       "  266,155.276 271.528,158.961 277.055,162.646 282.583,158.961 288.11,155.276 293.638,151.591 299.165,147.906 304.693,151.591 310.22,155.276 315.748,158.961 \n",
       "  \n",
       "  \"/>\n",
       "<polyline clip-path=\"url(#clip02)\" style=\"stroke:#009af9; stroke-width:1; stroke-opacity:1; fill:none\" points=\"\n",
       "  44.8976,192.126 50.4252,188.441 55.9528,192.126 61.4803,195.811 67.0079,199.496 72.5354,195.811 78.063,192.126 83.5906,195.811 89.1181,192.126 94.6457,195.811 \n",
       "  100.173,192.126 105.701,195.811 111.228,192.126 116.756,195.811 122.283,199.496 127.811,195.811 133.339,199.496 138.866,195.811 144.394,199.496 149.921,203.181 \n",
       "  155.449,206.866 160.976,203.181 166.504,199.496 172.031,203.181 177.559,206.866 183.087,210.551 188.614,214.236 194.142,217.921 199.669,221.606 205.197,217.921 \n",
       "  210.724,221.606 216.252,225.291 221.78,221.606 227.307,217.921 232.835,214.236 238.362,210.551 243.89,214.236 249.417,210.551 254.945,206.866 260.472,203.181 \n",
       "  266,206.866 271.528,210.551 277.055,206.866 282.583,210.551 288.11,214.236 293.638,217.921 299.165,221.606 304.693,225.291 310.22,228.976 315.748,225.291 \n",
       "  \n",
       "  \"/>\n",
       "<polyline clip-path=\"url(#clip02)\" style=\"stroke:#e26f46; stroke-width:1; stroke-opacity:1; fill:none\" points=\"\n",
       "  44.8976,192.126 50.4252,188.441 55.9528,192.126 61.4803,195.811 67.0079,199.496 72.5354,195.811 78.063,192.126 83.5906,188.441 89.1181,184.756 94.6457,188.441 \n",
       "  100.173,184.756 105.701,188.441 111.228,184.756 116.756,181.071 122.283,177.386 127.811,181.071 133.339,184.756 138.866,181.071 144.394,177.386 149.921,181.071 \n",
       "  155.449,184.756 160.976,188.441 166.504,192.126 172.031,195.811 177.559,192.126 183.087,188.441 188.614,184.756 194.142,188.441 199.669,192.126 205.197,188.441 \n",
       "  210.724,192.126 216.252,188.441 221.78,184.756 227.307,188.441 232.835,184.756 238.362,188.441 243.89,184.756 249.417,181.071 254.945,184.756 260.472,181.071 \n",
       "  266,177.386 271.528,173.701 277.055,170.016 282.583,173.701 288.11,170.016 293.638,173.701 299.165,177.386 304.693,181.071 310.22,177.386 315.748,181.071 \n",
       "  \n",
       "  \"/>\n",
       "<polyline clip-path=\"url(#clip02)\" style=\"stroke:#3da44d; stroke-width:1; stroke-opacity:1; fill:none\" points=\"\n",
       "  44.8976,192.126 50.4252,195.811 55.9528,199.496 61.4803,203.181 67.0079,206.866 72.5354,210.551 78.063,206.866 83.5906,203.181 89.1181,206.866 94.6457,203.181 \n",
       "  100.173,199.496 105.701,203.181 111.228,199.496 116.756,195.811 122.283,199.496 127.811,203.181 133.339,199.496 138.866,203.181 144.394,206.866 149.921,203.181 \n",
       "  155.449,199.496 160.976,203.181 166.504,206.866 172.031,203.181 177.559,199.496 183.087,203.181 188.614,206.866 194.142,210.551 199.669,206.866 205.197,210.551 \n",
       "  210.724,206.866 216.252,203.181 221.78,199.496 227.307,203.181 232.835,199.496 238.362,203.181 243.89,206.866 249.417,203.181 254.945,199.496 260.472,203.181 \n",
       "  266,206.866 271.528,210.551 277.055,214.236 282.583,217.921 288.11,221.606 293.638,225.291 299.165,228.976 304.693,225.291 310.22,221.606 315.748,217.921 \n",
       "  \n",
       "  \"/>\n",
       "<polyline clip-path=\"url(#clip02)\" style=\"stroke:#c271d2; stroke-width:1; stroke-opacity:1; fill:none\" points=\"\n",
       "  44.8976,192.126 50.4252,195.811 55.9528,199.496 61.4803,203.181 67.0079,199.496 72.5354,195.811 78.063,199.496 83.5906,195.811 89.1181,199.496 94.6457,203.181 \n",
       "  100.173,199.496 105.701,195.811 111.228,199.496 116.756,203.181 122.283,206.866 127.811,210.551 133.339,214.236 138.866,217.921 144.394,221.606 149.921,225.291 \n",
       "  155.449,221.606 160.976,225.291 166.504,221.606 172.031,225.291 177.559,221.606 183.087,225.291 188.614,228.976 194.142,225.291 199.669,228.976 205.197,225.291 \n",
       "  210.724,228.976 216.252,232.661 221.78,236.346 227.307,232.661 232.835,228.976 238.362,225.291 243.89,228.976 249.417,232.661 254.945,236.346 260.472,240.031 \n",
       "  266,243.717 271.528,247.402 277.055,243.717 282.583,240.031 288.11,243.717 293.638,247.402 299.165,251.087 304.693,247.402 310.22,243.717 315.748,240.031 \n",
       "  \n",
       "  \"/>\n",
       "<polyline clip-path=\"url(#clip02)\" style=\"stroke:#ac8d18; stroke-width:1; stroke-opacity:1; fill:none\" points=\"\n",
       "  44.8976,192.126 50.4252,195.811 55.9528,192.126 61.4803,195.811 67.0079,192.126 72.5354,188.441 78.063,184.756 83.5906,188.441 89.1181,184.756 94.6457,181.071 \n",
       "  100.173,184.756 105.701,188.441 111.228,184.756 116.756,181.071 122.283,177.386 127.811,173.701 133.339,170.016 138.866,166.331 144.394,170.016 149.921,166.331 \n",
       "  155.449,162.646 160.976,158.961 166.504,162.646 172.031,166.331 177.559,162.646 183.087,158.961 188.614,162.646 194.142,166.331 199.669,162.646 205.197,158.961 \n",
       "  210.724,155.276 216.252,151.591 221.78,155.276 227.307,151.591 232.835,147.906 238.362,144.22 243.89,147.906 249.417,151.591 254.945,147.906 260.472,151.591 \n",
       "  266,155.276 271.528,158.961 277.055,162.646 282.583,166.331 288.11,170.016 293.638,173.701 299.165,170.016 304.693,173.701 310.22,170.016 315.748,166.331 \n",
       "  \n",
       "  \"/>\n",
       "<polyline clip-path=\"url(#clip02)\" style=\"stroke:#00a9ad; stroke-width:1; stroke-opacity:1; fill:none\" points=\"\n",
       "  44.8976,192.126 50.4252,188.441 55.9528,184.756 61.4803,188.441 67.0079,184.756 72.5354,188.441 78.063,184.756 83.5906,188.441 89.1181,192.126 94.6457,195.811 \n",
       "  100.173,199.496 105.701,195.811 111.228,199.496 116.756,195.811 122.283,199.496 127.811,203.181 133.339,199.496 138.866,203.181 144.394,206.866 149.921,210.551 \n",
       "  155.449,214.236 160.976,217.921 166.504,214.236 172.031,217.921 177.559,221.606 183.087,217.921 188.614,214.236 194.142,210.551 199.669,214.236 205.197,210.551 \n",
       "  210.724,214.236 216.252,210.551 221.78,206.866 227.307,203.181 232.835,206.866 238.362,203.181 243.89,206.866 249.417,203.181 254.945,206.866 260.472,210.551 \n",
       "  266,214.236 271.528,210.551 277.055,206.866 282.583,210.551 288.11,206.866 293.638,203.181 299.165,199.496 304.693,203.181 310.22,199.496 315.748,195.811 \n",
       "  \n",
       "  \"/>\n",
       "<polyline clip-path=\"url(#clip02)\" style=\"stroke:#ed5d92; stroke-width:1; stroke-opacity:1; fill:none\" points=\"\n",
       "  44.8976,192.126 50.4252,195.811 55.9528,192.126 61.4803,195.811 67.0079,199.496 72.5354,203.181 78.063,199.496 83.5906,203.181 89.1181,206.866 94.6457,203.181 \n",
       "  100.173,199.496 105.701,203.181 111.228,199.496 116.756,195.811 122.283,199.496 127.811,195.811 133.339,192.126 138.866,188.441 144.394,192.126 149.921,188.441 \n",
       "  155.449,184.756 160.976,181.071 166.504,177.386 172.031,173.701 177.559,170.016 183.087,166.331 188.614,170.016 194.142,173.701 199.669,177.386 205.197,181.071 \n",
       "  210.724,184.756 216.252,181.071 221.78,177.386 227.307,173.701 232.835,177.386 238.362,173.701 243.89,177.386 249.417,181.071 254.945,184.756 260.472,188.441 \n",
       "  266,192.126 271.528,195.811 277.055,192.126 282.583,195.811 288.11,192.126 293.638,195.811 299.165,192.126 304.693,188.441 310.22,184.756 315.748,188.441 \n",
       "  \n",
       "  \"/>\n",
       "<polyline clip-path=\"url(#clip02)\" style=\"stroke:#c68125; stroke-width:1; stroke-opacity:1; fill:none\" points=\"\n",
       "  44.8976,192.126 50.4252,188.441 55.9528,192.126 61.4803,195.811 67.0079,199.496 72.5354,195.811 78.063,199.496 83.5906,195.811 89.1181,192.126 94.6457,188.441 \n",
       "  100.173,192.126 105.701,188.441 111.228,192.126 116.756,195.811 122.283,192.126 127.811,188.441 133.339,184.756 138.866,188.441 144.394,184.756 149.921,181.071 \n",
       "  155.449,184.756 160.976,181.071 166.504,177.386 172.031,173.701 177.559,177.386 183.087,173.701 188.614,170.016 194.142,173.701 199.669,170.016 205.197,173.701 \n",
       "  210.724,177.386 216.252,173.701 221.78,177.386 227.307,173.701 232.835,177.386 238.362,181.071 243.89,177.386 249.417,181.071 254.945,177.386 260.472,173.701 \n",
       "  266,177.386 271.528,181.071 277.055,177.386 282.583,181.071 288.11,177.386 293.638,181.071 299.165,184.756 304.693,181.071 310.22,177.386 315.748,181.071 \n",
       "  \n",
       "  \"/>\n",
       "<polyline clip-path=\"url(#clip02)\" style=\"stroke:#00a98d; stroke-width:1; stroke-opacity:1; fill:none\" points=\"\n",
       "  44.8976,192.126 50.4252,188.441 55.9528,184.756 61.4803,188.441 67.0079,184.756 72.5354,181.071 78.063,177.386 83.5906,173.701 89.1181,170.016 94.6457,173.701 \n",
       "  100.173,170.016 105.701,166.331 111.228,162.646 116.756,158.961 122.283,155.276 127.811,158.961 133.339,162.646 138.866,158.961 144.394,155.276 149.921,151.591 \n",
       "  155.449,147.906 160.976,151.591 166.504,155.276 172.031,151.591 177.559,147.906 183.087,144.22 188.614,140.535 194.142,136.85 199.669,133.165 205.197,129.48 \n",
       "  210.724,133.165 216.252,129.48 221.78,125.795 227.307,129.48 232.835,125.795 238.362,122.11 243.89,118.425 249.417,122.11 254.945,125.795 260.472,129.48 \n",
       "  266,125.795 271.528,129.48 277.055,125.795 282.583,122.11 288.11,125.795 293.638,122.11 299.165,118.425 304.693,122.11 310.22,118.425 315.748,114.74 \n",
       "  \n",
       "  \"/>\n",
       "<polyline clip-path=\"url(#clip02)\" style=\"stroke:#8e971d; stroke-width:1; stroke-opacity:1; fill:none\" points=\"\n",
       "  44.8976,192.126 50.4252,195.811 55.9528,199.496 61.4803,203.181 67.0079,199.496 72.5354,195.811 78.063,192.126 83.5906,188.441 89.1181,192.126 94.6457,195.811 \n",
       "  100.173,199.496 105.701,203.181 111.228,206.866 116.756,203.181 122.283,206.866 127.811,203.181 133.339,199.496 138.866,195.811 144.394,192.126 149.921,195.811 \n",
       "  155.449,199.496 160.976,203.181 166.504,206.866 172.031,203.181 177.559,206.866 183.087,203.181 188.614,199.496 194.142,203.181 199.669,199.496 205.197,203.181 \n",
       "  210.724,199.496 216.252,203.181 221.78,206.866 227.307,203.181 232.835,206.866 238.362,203.181 243.89,199.496 249.417,203.181 254.945,199.496 260.472,195.811 \n",
       "  266,199.496 271.528,195.811 277.055,199.496 282.583,195.811 288.11,199.496 293.638,195.811 299.165,192.126 304.693,188.441 310.22,184.756 315.748,181.071 \n",
       "  \n",
       "  \"/>\n",
       "<polyline clip-path=\"url(#clip02)\" style=\"stroke:#00a8cb; stroke-width:1; stroke-opacity:1; fill:none\" points=\"\n",
       "  44.8976,192.126 50.4252,195.811 55.9528,199.496 61.4803,195.811 67.0079,192.126 72.5354,188.441 78.063,184.756 83.5906,188.441 89.1181,184.756 94.6457,181.071 \n",
       "  100.173,184.756 105.701,188.441 111.228,192.126 116.756,188.441 122.283,184.756 127.811,188.441 133.339,192.126 138.866,188.441 144.394,192.126 149.921,195.811 \n",
       "  155.449,192.126 160.976,188.441 166.504,184.756 172.031,188.441 177.559,184.756 183.087,188.441 188.614,192.126 194.142,188.441 199.669,184.756 205.197,188.441 \n",
       "  210.724,184.756 216.252,181.071 221.78,184.756 227.307,188.441 232.835,184.756 238.362,188.441 243.89,184.756 249.417,188.441 254.945,192.126 260.472,195.811 \n",
       "  266,199.496 271.528,195.811 277.055,199.496 282.583,203.181 288.11,206.866 293.638,210.551 299.165,206.866 304.693,203.181 310.22,199.496 315.748,203.181 \n",
       "  \n",
       "  \"/>\n",
       "<polyline clip-path=\"url(#clip02)\" style=\"stroke:#9b7fe8; stroke-width:1; stroke-opacity:1; fill:none\" points=\"\n",
       "  44.8976,192.126 50.4252,188.441 55.9528,192.126 61.4803,188.441 67.0079,192.126 72.5354,188.441 78.063,184.756 83.5906,188.441 89.1181,192.126 94.6457,195.811 \n",
       "  100.173,199.496 105.701,203.181 111.228,206.866 116.756,203.181 122.283,206.866 127.811,210.551 133.339,206.866 138.866,203.181 144.394,199.496 149.921,203.181 \n",
       "  155.449,199.496 160.976,195.811 166.504,199.496 172.031,203.181 177.559,206.866 183.087,203.181 188.614,206.866 194.142,203.181 199.669,199.496 205.197,203.181 \n",
       "  210.724,206.866 216.252,203.181 221.78,206.866 227.307,210.551 232.835,214.236 238.362,217.921 243.89,214.236 249.417,210.551 254.945,214.236 260.472,217.921 \n",
       "  266,221.606 271.528,217.921 277.055,221.606 282.583,225.291 288.11,228.976 293.638,225.291 299.165,228.976 304.693,225.291 310.22,221.606 315.748,225.291 \n",
       "  \n",
       "  \"/>\n",
       "<polyline clip-path=\"url(#clip02)\" style=\"stroke:#608cf6; stroke-width:1; stroke-opacity:1; fill:none\" points=\"\n",
       "  44.8976,192.126 50.4252,195.811 55.9528,192.126 61.4803,188.441 67.0079,184.756 72.5354,181.071 78.063,184.756 83.5906,181.071 89.1181,184.756 94.6457,181.071 \n",
       "  100.173,184.756 105.701,188.441 111.228,192.126 116.756,195.811 122.283,199.496 127.811,203.181 133.339,199.496 138.866,203.181 144.394,199.496 149.921,203.181 \n",
       "  155.449,206.866 160.976,203.181 166.504,199.496 172.031,195.811 177.559,199.496 183.087,203.181 188.614,199.496 194.142,203.181 199.669,206.866 205.197,203.181 \n",
       "  210.724,199.496 216.252,195.811 221.78,192.126 227.307,188.441 232.835,192.126 238.362,195.811 243.89,199.496 249.417,203.181 254.945,206.866 260.472,203.181 \n",
       "  266,199.496 271.528,203.181 277.055,199.496 282.583,203.181 288.11,199.496 293.638,203.181 299.165,206.866 304.693,210.551 310.22,214.236 315.748,210.551 \n",
       "  \n",
       "  \"/>\n",
       "<polyline clip-path=\"url(#clip02)\" style=\"stroke:#f05f73; stroke-width:1; stroke-opacity:1; fill:none\" points=\"\n",
       "  44.8976,192.126 50.4252,188.441 55.9528,184.756 61.4803,188.441 67.0079,184.756 72.5354,181.071 78.063,177.386 83.5906,181.071 89.1181,177.386 94.6457,181.071 \n",
       "  100.173,177.386 105.701,173.701 111.228,177.386 116.756,173.701 122.283,177.386 127.811,181.071 133.339,177.386 138.866,181.071 144.394,184.756 149.921,181.071 \n",
       "  155.449,184.756 160.976,188.441 166.504,192.126 172.031,195.811 177.559,192.126 183.087,195.811 188.614,192.126 194.142,188.441 199.669,184.756 205.197,181.071 \n",
       "  210.724,184.756 216.252,188.441 221.78,184.756 227.307,181.071 232.835,177.386 238.362,181.071 243.89,184.756 249.417,181.071 254.945,184.756 260.472,181.071 \n",
       "  266,184.756 271.528,188.441 277.055,184.756 282.583,181.071 288.11,177.386 293.638,173.701 299.165,177.386 304.693,173.701 310.22,177.386 315.748,181.071 \n",
       "  \n",
       "  \"/>\n",
       "<polyline clip-path=\"url(#clip02)\" style=\"stroke:#dd64b5; stroke-width:1; stroke-opacity:1; fill:none\" points=\"\n",
       "  44.8976,192.126 50.4252,195.811 55.9528,192.126 61.4803,195.811 67.0079,199.496 72.5354,195.811 78.063,192.126 83.5906,195.811 89.1181,199.496 94.6457,195.811 \n",
       "  100.173,192.126 105.701,188.441 111.228,192.126 116.756,195.811 122.283,192.126 127.811,195.811 133.339,192.126 138.866,195.811 144.394,199.496 149.921,203.181 \n",
       "  155.449,199.496 160.976,195.811 166.504,199.496 172.031,195.811 177.559,199.496 183.087,203.181 188.614,199.496 194.142,195.811 199.669,199.496 205.197,195.811 \n",
       "  210.724,199.496 216.252,195.811 221.78,192.126 227.307,195.811 232.835,192.126 238.362,188.441 243.89,192.126 249.417,188.441 254.945,192.126 260.472,195.811 \n",
       "  266,199.496 271.528,203.181 277.055,206.866 282.583,210.551 288.11,206.866 293.638,210.551 299.165,206.866 304.693,210.551 310.22,214.236 315.748,217.921 \n",
       "  \n",
       "  \"/>\n",
       "<polyline clip-path=\"url(#clip02)\" style=\"stroke:#6b9e32; stroke-width:1; stroke-opacity:1; fill:none\" points=\"\n",
       "  44.8976,192.126 50.4252,188.441 55.9528,192.126 61.4803,195.811 67.0079,199.496 72.5354,195.811 78.063,192.126 83.5906,195.811 89.1181,192.126 94.6457,195.811 \n",
       "  100.173,199.496 105.701,195.811 111.228,192.126 116.756,195.811 122.283,192.126 127.811,195.811 133.339,192.126 138.866,188.441 144.394,192.126 149.921,195.811 \n",
       "  155.449,192.126 160.976,188.441 166.504,184.756 172.031,188.441 177.559,184.756 183.087,188.441 188.614,192.126 194.142,188.441 199.669,192.126 205.197,195.811 \n",
       "  210.724,192.126 216.252,195.811 221.78,192.126 227.307,195.811 232.835,199.496 238.362,203.181 243.89,206.866 249.417,210.551 254.945,214.236 260.472,217.921 \n",
       "  266,221.606 271.528,217.921 277.055,221.606 282.583,225.291 288.11,228.976 293.638,232.661 299.165,228.976 304.693,225.291 310.22,221.606 315.748,225.291 \n",
       "  \n",
       "  \"/>\n",
       "<polyline clip-path=\"url(#clip02)\" style=\"stroke:#718c69; stroke-width:1; stroke-opacity:1; fill:none\" points=\"\n",
       "  44.8976,192.126 50.4252,195.811 55.9528,192.126 61.4803,188.441 67.0079,184.756 72.5354,188.441 78.063,184.756 83.5906,188.441 89.1181,192.126 94.6457,195.811 \n",
       "  100.173,199.496 105.701,195.811 111.228,192.126 116.756,195.811 122.283,199.496 127.811,195.811 133.339,199.496 138.866,195.811 144.394,199.496 149.921,203.181 \n",
       "  155.449,206.866 160.976,203.181 166.504,199.496 172.031,203.181 177.559,206.866 183.087,210.551 188.614,206.866 194.142,203.181 199.669,199.496 205.197,203.181 \n",
       "  210.724,199.496 216.252,203.181 221.78,199.496 227.307,203.181 232.835,206.866 238.362,203.181 243.89,199.496 249.417,203.181 254.945,206.866 260.472,210.551 \n",
       "  266,206.866 271.528,203.181 277.055,206.866 282.583,210.551 288.11,214.236 293.638,217.921 299.165,221.606 304.693,217.921 310.22,214.236 315.748,210.551 \n",
       "  \n",
       "  \"/>\n",
       "<polyline clip-path=\"url(#clip02)\" style=\"stroke:#47988b; stroke-width:1; stroke-opacity:1; fill:none\" points=\"\n",
       "  44.8976,192.126 50.4252,188.441 55.9528,192.126 61.4803,195.811 67.0079,192.126 72.5354,195.811 78.063,199.496 83.5906,203.181 89.1181,206.866 94.6457,203.181 \n",
       "  100.173,206.866 105.701,203.181 111.228,206.866 116.756,203.181 122.283,206.866 127.811,203.181 133.339,199.496 138.866,203.181 144.394,206.866 149.921,210.551 \n",
       "  155.449,214.236 160.976,210.551 166.504,206.866 172.031,210.551 177.559,214.236 183.087,210.551 188.614,214.236 194.142,217.921 199.669,221.606 205.197,225.291 \n",
       "  210.724,228.976 216.252,232.661 221.78,236.346 227.307,232.661 232.835,236.346 238.362,240.031 243.89,243.717 249.417,247.402 254.945,251.087 260.472,247.402 \n",
       "  266,251.087 271.528,247.402 277.055,251.087 282.583,254.772 288.11,251.087 293.638,254.772 299.165,251.087 304.693,254.772 310.22,258.457 315.748,262.142 \n",
       "  \n",
       "  \"/>\n",
       "<polyline clip-path=\"url(#clip02)\" style=\"stroke:#1ea68c; stroke-width:1; stroke-opacity:1; fill:none\" points=\"\n",
       "  44.8976,192.126 50.4252,188.441 55.9528,192.126 61.4803,195.811 67.0079,192.126 72.5354,188.441 78.063,192.126 83.5906,188.441 89.1181,184.756 94.6457,188.441 \n",
       "  100.173,184.756 105.701,181.071 111.228,177.386 116.756,181.071 122.283,184.756 127.811,188.441 133.339,192.126 138.866,195.811 144.394,192.126 149.921,188.441 \n",
       "  155.449,192.126 160.976,188.441 166.504,184.756 172.031,188.441 177.559,192.126 183.087,188.441 188.614,192.126 194.142,188.441 199.669,192.126 205.197,188.441 \n",
       "  210.724,184.756 216.252,181.071 221.78,184.756 227.307,181.071 232.835,177.386 238.362,173.701 243.89,170.016 249.417,166.331 254.945,170.016 260.472,173.701 \n",
       "  266,177.386 271.528,181.071 277.055,177.386 282.583,173.701 288.11,177.386 293.638,181.071 299.165,184.756 304.693,188.441 310.22,192.126 315.748,188.441 \n",
       "  \n",
       "  \"/>\n",
       "<polyline clip-path=\"url(#clip02)\" style=\"stroke:#af78dd; stroke-width:1; stroke-opacity:1; fill:none\" points=\"\n",
       "  44.8976,192.126 50.4252,195.811 55.9528,192.126 61.4803,195.811 67.0079,192.126 72.5354,195.811 78.063,192.126 83.5906,195.811 89.1181,192.126 94.6457,188.441 \n",
       "  100.173,184.756 105.701,188.441 111.228,192.126 116.756,188.441 122.283,184.756 127.811,181.071 133.339,184.756 138.866,181.071 144.394,177.386 149.921,181.071 \n",
       "  155.449,177.386 160.976,173.701 166.504,177.386 172.031,181.071 177.559,184.756 183.087,181.071 188.614,184.756 194.142,188.441 199.669,192.126 205.197,188.441 \n",
       "  210.724,192.126 216.252,195.811 221.78,199.496 227.307,203.181 232.835,199.496 238.362,203.181 243.89,199.496 249.417,203.181 254.945,206.866 260.472,203.181 \n",
       "  266,206.866 271.528,203.181 277.055,199.496 282.583,195.811 288.11,192.126 293.638,195.811 299.165,192.126 304.693,195.811 310.22,199.496 315.748,195.811 \n",
       "  \n",
       "  \"/>\n",
       "<polyline clip-path=\"url(#clip02)\" style=\"stroke:#868d87; stroke-width:1; stroke-opacity:1; fill:none\" points=\"\n",
       "  44.8976,192.126 50.4252,188.441 55.9528,192.126 61.4803,188.441 67.0079,184.756 72.5354,181.071 78.063,184.756 83.5906,188.441 89.1181,192.126 94.6457,188.441 \n",
       "  100.173,192.126 105.701,188.441 111.228,184.756 116.756,188.441 122.283,184.756 127.811,181.071 133.339,184.756 138.866,181.071 144.394,184.756 149.921,188.441 \n",
       "  155.449,192.126 160.976,195.811 166.504,199.496 172.031,203.181 177.559,199.496 183.087,203.181 188.614,206.866 194.142,203.181 199.669,206.866 205.197,210.551 \n",
       "  210.724,214.236 216.252,210.551 221.78,214.236 227.307,217.921 232.835,221.606 238.362,225.291 243.89,221.606 249.417,225.291 254.945,228.976 260.472,232.661 \n",
       "  266,228.976 271.528,225.291 277.055,221.606 282.583,225.291 288.11,228.976 293.638,225.291 299.165,221.606 304.693,217.921 310.22,221.606 315.748,217.921 \n",
       "  \n",
       "  \"/>\n",
       "<polyline clip-path=\"url(#clip02)\" style=\"stroke:#47a065; stroke-width:1; stroke-opacity:1; fill:none\" points=\"\n",
       "  44.8976,192.126 50.4252,188.441 55.9528,184.756 61.4803,181.071 67.0079,177.386 72.5354,181.071 78.063,177.386 83.5906,173.701 89.1181,177.386 94.6457,173.701 \n",
       "  100.173,170.016 105.701,173.701 111.228,170.016 116.756,166.331 122.283,170.016 127.811,173.701 133.339,170.016 138.866,173.701 144.394,170.016 149.921,173.701 \n",
       "  155.449,177.386 160.976,173.701 166.504,177.386 172.031,173.701 177.559,177.386 183.087,173.701 188.614,177.386 194.142,181.071 199.669,177.386 205.197,181.071 \n",
       "  210.724,184.756 216.252,181.071 221.78,177.386 227.307,181.071 232.835,177.386 238.362,173.701 243.89,170.016 249.417,166.331 254.945,170.016 260.472,173.701 \n",
       "  266,170.016 271.528,166.331 277.055,162.646 282.583,166.331 288.11,170.016 293.638,166.331 299.165,170.016 304.693,173.701 310.22,170.016 315.748,166.331 \n",
       "  \n",
       "  \"/>\n",
       "<polyline clip-path=\"url(#clip02)\" style=\"stroke:#7683af; stroke-width:1; stroke-opacity:1; fill:none\" points=\"\n",
       "  44.8976,192.126 50.4252,188.441 55.9528,192.126 61.4803,195.811 67.0079,192.126 72.5354,188.441 78.063,184.756 83.5906,181.071 89.1181,177.386 94.6457,173.701 \n",
       "  100.173,177.386 105.701,181.071 111.228,177.386 116.756,173.701 122.283,170.016 127.811,166.331 133.339,170.016 138.866,173.701 144.394,177.386 149.921,181.071 \n",
       "  155.449,184.756 160.976,181.071 166.504,184.756 172.031,188.441 177.559,184.756 183.087,188.441 188.614,184.756 194.142,188.441 199.669,192.126 205.197,195.811 \n",
       "  210.724,199.496 216.252,195.811 221.78,192.126 227.307,195.811 232.835,199.496 238.362,203.181 243.89,206.866 249.417,203.181 254.945,206.866 260.472,210.551 \n",
       "  266,214.236 271.528,210.551 277.055,206.866 282.583,210.551 288.11,214.236 293.638,217.921 299.165,214.236 304.693,210.551 310.22,206.866 315.748,203.181 \n",
       "  \n",
       "  \"/>\n",
       "<polyline clip-path=\"url(#clip02)\" style=\"stroke:#b08086; stroke-width:1; stroke-opacity:1; fill:none\" points=\"\n",
       "  44.8976,192.126 50.4252,188.441 55.9528,192.126 61.4803,195.811 67.0079,199.496 72.5354,203.181 78.063,206.866 83.5906,210.551 89.1181,206.866 94.6457,203.181 \n",
       "  100.173,206.866 105.701,203.181 111.228,199.496 116.756,203.181 122.283,199.496 127.811,203.181 133.339,199.496 138.866,203.181 144.394,206.866 149.921,210.551 \n",
       "  155.449,214.236 160.976,217.921 166.504,221.606 172.031,225.291 177.559,228.976 183.087,225.291 188.614,221.606 194.142,217.921 199.669,221.606 205.197,217.921 \n",
       "  210.724,221.606 216.252,225.291 221.78,228.976 227.307,232.661 232.835,236.346 238.362,232.661 243.89,236.346 249.417,232.661 254.945,228.976 260.472,225.291 \n",
       "  266,228.976 271.528,225.291 277.055,228.976 282.583,225.291 288.11,221.606 293.638,225.291 299.165,228.976 304.693,232.661 310.22,236.346 315.748,232.661 \n",
       "  \n",
       "  \"/>\n",
       "<polyline clip-path=\"url(#clip02)\" style=\"stroke:#309ac1; stroke-width:1; stroke-opacity:1; fill:none\" points=\"\n",
       "  44.8976,192.126 50.4252,195.811 55.9528,192.126 61.4803,188.441 67.0079,184.756 72.5354,181.071 78.063,177.386 83.5906,173.701 89.1181,170.016 94.6457,173.701 \n",
       "  100.173,177.386 105.701,181.071 111.228,184.756 116.756,181.071 122.283,184.756 127.811,181.071 133.339,184.756 138.866,181.071 144.394,177.386 149.921,173.701 \n",
       "  155.449,177.386 160.976,173.701 166.504,170.016 172.031,173.701 177.559,177.386 183.087,181.071 188.614,184.756 194.142,181.071 199.669,184.756 205.197,181.071 \n",
       "  210.724,184.756 216.252,188.441 221.78,184.756 227.307,188.441 232.835,192.126 238.362,188.441 243.89,192.126 249.417,195.811 254.945,199.496 260.472,195.811 \n",
       "  266,192.126 271.528,195.811 277.055,192.126 282.583,195.811 288.11,199.496 293.638,203.181 299.165,206.866 304.693,210.551 310.22,214.236 315.748,210.551 \n",
       "  \n",
       "  \"/>\n",
       "<polyline clip-path=\"url(#clip02)\" style=\"stroke:#788490; stroke-width:1; stroke-opacity:1; fill:none\" points=\"\n",
       "  44.8976,192.126 50.4252,188.441 55.9528,192.126 61.4803,195.811 67.0079,199.496 72.5354,195.811 78.063,192.126 83.5906,195.811 89.1181,199.496 94.6457,203.181 \n",
       "  100.173,206.866 105.701,210.551 111.228,214.236 116.756,217.921 122.283,214.236 127.811,210.551 133.339,206.866 138.866,203.181 144.394,206.866 149.921,210.551 \n",
       "  155.449,206.866 160.976,210.551 166.504,214.236 172.031,210.551 177.559,206.866 183.087,203.181 188.614,206.866 194.142,210.551 199.669,206.866 205.197,210.551 \n",
       "  210.724,206.866 216.252,210.551 221.78,206.866 227.307,210.551 232.835,206.866 238.362,203.181 243.89,206.866 249.417,210.551 254.945,214.236 260.472,217.921 \n",
       "  266,214.236 271.528,217.921 277.055,221.606 282.583,225.291 288.11,228.976 293.638,232.661 299.165,228.976 304.693,225.291 310.22,228.976 315.748,232.661 \n",
       "  \n",
       "  \"/>\n",
       "<polyline clip-path=\"url(#clip02)\" style=\"stroke:#e561a4; stroke-width:1; stroke-opacity:1; fill:none\" points=\"\n",
       "  44.8976,192.126 50.4252,188.441 55.9528,192.126 61.4803,195.811 67.0079,192.126 72.5354,195.811 78.063,192.126 83.5906,188.441 89.1181,192.126 94.6457,195.811 \n",
       "  100.173,199.496 105.701,203.181 111.228,206.866 116.756,203.181 122.283,199.496 127.811,195.811 133.339,192.126 138.866,195.811 144.394,192.126 149.921,188.441 \n",
       "  155.449,184.756 160.976,188.441 166.504,184.756 172.031,181.071 177.559,184.756 183.087,181.071 188.614,177.386 194.142,173.701 199.669,170.016 205.197,166.331 \n",
       "  210.724,162.646 216.252,158.961 221.78,155.276 227.307,151.591 232.835,147.906 238.362,144.22 243.89,140.535 249.417,144.22 254.945,140.535 260.472,136.85 \n",
       "  266,133.165 271.528,129.48 277.055,133.165 282.583,129.48 288.11,133.165 293.638,129.48 299.165,133.165 304.693,129.48 310.22,125.795 315.748,122.11 \n",
       "  \n",
       "  \"/>\n",
       "<polyline clip-path=\"url(#clip02)\" style=\"stroke:#99902c; stroke-width:1; stroke-opacity:1; fill:none\" points=\"\n",
       "  44.8976,192.126 50.4252,188.441 55.9528,184.756 61.4803,188.441 67.0079,184.756 72.5354,188.441 78.063,184.756 83.5906,188.441 89.1181,192.126 94.6457,195.811 \n",
       "  100.173,199.496 105.701,203.181 111.228,206.866 116.756,210.551 122.283,214.236 127.811,210.551 133.339,214.236 138.866,210.551 144.394,214.236 149.921,210.551 \n",
       "  155.449,214.236 160.976,210.551 166.504,214.236 172.031,217.921 177.559,221.606 183.087,217.921 188.614,214.236 194.142,217.921 199.669,214.236 205.197,217.921 \n",
       "  210.724,221.606 216.252,217.921 221.78,221.606 227.307,225.291 232.835,221.606 238.362,217.921 243.89,214.236 249.417,217.921 254.945,214.236 260.472,210.551 \n",
       "  266,206.866 271.528,203.181 277.055,206.866 282.583,203.181 288.11,199.496 293.638,203.181 299.165,199.496 304.693,203.181 310.22,206.866 315.748,210.551 \n",
       "  \n",
       "  \"/>\n",
       "<polyline clip-path=\"url(#clip02)\" style=\"stroke:#389a7b; stroke-width:1; stroke-opacity:1; fill:none\" points=\"\n",
       "  44.8976,192.126 50.4252,188.441 55.9528,192.126 61.4803,195.811 67.0079,199.496 72.5354,203.181 78.063,206.866 83.5906,203.181 89.1181,199.496 94.6457,203.181 \n",
       "  100.173,206.866 105.701,210.551 111.228,214.236 116.756,210.551 122.283,214.236 127.811,217.921 133.339,221.606 138.866,225.291 144.394,228.976 149.921,225.291 \n",
       "  155.449,228.976 160.976,225.291 166.504,228.976 172.031,225.291 177.559,228.976 183.087,232.661 188.614,236.346 194.142,240.031 199.669,236.346 205.197,240.031 \n",
       "  210.724,243.717 216.252,247.402 221.78,251.087 227.307,254.772 232.835,258.457 238.362,262.142 243.89,265.827 249.417,269.512 254.945,273.197 260.472,269.512 \n",
       "  266,265.827 271.528,262.142 277.055,258.457 282.583,262.142 288.11,258.457 293.638,262.142 299.165,265.827 304.693,262.142 310.22,258.457 315.748,262.142 \n",
       "  \n",
       "  \"/>\n",
       "<polyline clip-path=\"url(#clip02)\" style=\"stroke:#d968a2; stroke-width:1; stroke-opacity:1; fill:none\" points=\"\n",
       "  44.8976,192.126 50.4252,195.811 55.9528,199.496 61.4803,203.181 67.0079,206.866 72.5354,203.181 78.063,199.496 83.5906,195.811 89.1181,199.496 94.6457,195.811 \n",
       "  100.173,199.496 105.701,203.181 111.228,199.496 116.756,203.181 122.283,206.866 127.811,210.551 133.339,214.236 138.866,217.921 144.394,221.606 149.921,225.291 \n",
       "  155.449,221.606 160.976,217.921 166.504,214.236 172.031,210.551 177.559,214.236 183.087,217.921 188.614,214.236 194.142,210.551 199.669,214.236 205.197,210.551 \n",
       "  210.724,214.236 216.252,217.921 221.78,214.236 227.307,210.551 232.835,206.866 238.362,203.181 243.89,206.866 249.417,210.551 254.945,214.236 260.472,210.551 \n",
       "  266,214.236 271.528,217.921 277.055,221.606 282.583,225.291 288.11,221.606 293.638,225.291 299.165,221.606 304.693,225.291 310.22,221.606 315.748,217.921 \n",
       "  \n",
       "  \"/>\n",
       "<polyline clip-path=\"url(#clip02)\" style=\"stroke:#009af9; stroke-width:1; stroke-opacity:1; fill:none\" points=\"\n",
       "  44.8976,192.126 50.4252,195.811 55.9528,192.126 61.4803,195.811 67.0079,199.496 72.5354,195.811 78.063,192.126 83.5906,195.811 89.1181,192.126 94.6457,195.811 \n",
       "  100.173,192.126 105.701,195.811 111.228,199.496 116.756,203.181 122.283,199.496 127.811,203.181 133.339,199.496 138.866,195.811 144.394,192.126 149.921,188.441 \n",
       "  155.449,192.126 160.976,188.441 166.504,192.126 172.031,188.441 177.559,184.756 183.087,188.441 188.614,192.126 194.142,188.441 199.669,192.126 205.197,195.811 \n",
       "  210.724,192.126 216.252,188.441 221.78,192.126 227.307,188.441 232.835,192.126 238.362,195.811 243.89,192.126 249.417,195.811 254.945,192.126 260.472,195.811 \n",
       "  266,192.126 271.528,188.441 277.055,184.756 282.583,188.441 288.11,192.126 293.638,195.811 299.165,199.496 304.693,195.811 310.22,199.496 315.748,195.811 \n",
       "  \n",
       "  \"/>\n",
       "<polyline clip-path=\"url(#clip02)\" style=\"stroke:#e26f46; stroke-width:1; stroke-opacity:1; fill:none\" points=\"\n",
       "  44.8976,192.126 50.4252,188.441 55.9528,184.756 61.4803,181.071 67.0079,184.756 72.5354,188.441 78.063,184.756 83.5906,181.071 89.1181,184.756 94.6457,188.441 \n",
       "  100.173,184.756 105.701,188.441 111.228,192.126 116.756,195.811 122.283,199.496 127.811,195.811 133.339,199.496 138.866,195.811 144.394,192.126 149.921,188.441 \n",
       "  155.449,184.756 160.976,181.071 166.504,184.756 172.031,188.441 177.559,192.126 183.087,188.441 188.614,184.756 194.142,188.441 199.669,184.756 205.197,188.441 \n",
       "  210.724,184.756 216.252,181.071 221.78,184.756 227.307,181.071 232.835,184.756 238.362,188.441 243.89,192.126 249.417,188.441 254.945,184.756 260.472,188.441 \n",
       "  266,192.126 271.528,188.441 277.055,184.756 282.583,181.071 288.11,177.386 293.638,173.701 299.165,177.386 304.693,181.071 310.22,177.386 315.748,181.071 \n",
       "  \n",
       "  \"/>\n",
       "<polyline clip-path=\"url(#clip02)\" style=\"stroke:#3da44d; stroke-width:1; stroke-opacity:1; fill:none\" points=\"\n",
       "  44.8976,192.126 50.4252,195.811 55.9528,199.496 61.4803,203.181 67.0079,206.866 72.5354,210.551 78.063,206.866 83.5906,210.551 89.1181,214.236 94.6457,217.921 \n",
       "  100.173,214.236 105.701,210.551 111.228,214.236 116.756,210.551 122.283,206.866 127.811,203.181 133.339,206.866 138.866,210.551 144.394,206.866 149.921,203.181 \n",
       "  155.449,206.866 160.976,210.551 166.504,206.866 172.031,203.181 177.559,199.496 183.087,195.811 188.614,199.496 194.142,195.811 199.669,199.496 205.197,203.181 \n",
       "  210.724,206.866 216.252,203.181 221.78,206.866 227.307,203.181 232.835,199.496 238.362,203.181 243.89,206.866 249.417,203.181 254.945,206.866 260.472,203.181 \n",
       "  266,206.866 271.528,210.551 277.055,206.866 282.583,210.551 288.11,206.866 293.638,203.181 299.165,199.496 304.693,195.811 310.22,192.126 315.748,195.811 \n",
       "  \n",
       "  \"/>\n",
       "<polyline clip-path=\"url(#clip02)\" style=\"stroke:#c271d2; stroke-width:1; stroke-opacity:1; fill:none\" points=\"\n",
       "  44.8976,192.126 50.4252,188.441 55.9528,184.756 61.4803,181.071 67.0079,184.756 72.5354,188.441 78.063,184.756 83.5906,188.441 89.1181,184.756 94.6457,188.441 \n",
       "  100.173,184.756 105.701,188.441 111.228,184.756 116.756,188.441 122.283,192.126 127.811,188.441 133.339,184.756 138.866,188.441 144.394,192.126 149.921,188.441 \n",
       "  155.449,184.756 160.976,188.441 166.504,184.756 172.031,181.071 177.559,177.386 183.087,173.701 188.614,177.386 194.142,173.701 199.669,170.016 205.197,166.331 \n",
       "  210.724,170.016 216.252,173.701 221.78,177.386 227.307,173.701 232.835,177.386 238.362,181.071 243.89,177.386 249.417,173.701 254.945,177.386 260.472,173.701 \n",
       "  266,177.386 271.528,181.071 277.055,184.756 282.583,188.441 288.11,184.756 293.638,181.071 299.165,184.756 304.693,181.071 310.22,184.756 315.748,181.071 \n",
       "  \n",
       "  \"/>\n",
       "<polyline clip-path=\"url(#clip02)\" style=\"stroke:#ac8d18; stroke-width:1; stroke-opacity:1; fill:none\" points=\"\n",
       "  44.8976,192.126 50.4252,188.441 55.9528,192.126 61.4803,188.441 67.0079,184.756 72.5354,181.071 78.063,184.756 83.5906,181.071 89.1181,177.386 94.6457,181.071 \n",
       "  100.173,177.386 105.701,173.701 111.228,170.016 116.756,166.331 122.283,170.016 127.811,166.331 133.339,170.016 138.866,166.331 144.394,162.646 149.921,166.331 \n",
       "  155.449,162.646 160.976,166.331 166.504,170.016 172.031,173.701 177.559,177.386 183.087,173.701 188.614,170.016 194.142,173.701 199.669,177.386 205.197,181.071 \n",
       "  210.724,177.386 216.252,181.071 221.78,184.756 227.307,181.071 232.835,177.386 238.362,173.701 243.89,170.016 249.417,173.701 254.945,177.386 260.472,181.071 \n",
       "  266,184.756 271.528,188.441 277.055,184.756 282.583,188.441 288.11,184.756 293.638,181.071 299.165,184.756 304.693,181.071 310.22,177.386 315.748,173.701 \n",
       "  \n",
       "  \"/>\n",
       "<polyline clip-path=\"url(#clip02)\" style=\"stroke:#00a9ad; stroke-width:1; stroke-opacity:1; fill:none\" points=\"\n",
       "  44.8976,192.126 50.4252,188.441 55.9528,184.756 61.4803,181.071 67.0079,184.756 72.5354,181.071 78.063,177.386 83.5906,173.701 89.1181,177.386 94.6457,173.701 \n",
       "  100.173,177.386 105.701,181.071 111.228,184.756 116.756,181.071 122.283,177.386 127.811,181.071 133.339,177.386 138.866,173.701 144.394,170.016 149.921,166.331 \n",
       "  155.449,170.016 160.976,173.701 166.504,170.016 172.031,166.331 177.559,162.646 183.087,158.961 188.614,155.276 194.142,151.591 199.669,147.906 205.197,151.591 \n",
       "  210.724,155.276 216.252,158.961 221.78,155.276 227.307,158.961 232.835,162.646 238.362,158.961 243.89,162.646 249.417,158.961 254.945,162.646 260.472,158.961 \n",
       "  266,155.276 271.528,151.591 277.055,155.276 282.583,158.961 288.11,162.646 293.638,166.331 299.165,170.016 304.693,173.701 310.22,177.386 315.748,173.701 \n",
       "  \n",
       "  \"/>\n",
       "<polyline clip-path=\"url(#clip02)\" style=\"stroke:#ed5d92; stroke-width:1; stroke-opacity:1; fill:none\" points=\"\n",
       "  44.8976,192.126 50.4252,195.811 55.9528,192.126 61.4803,188.441 67.0079,192.126 72.5354,195.811 78.063,192.126 83.5906,188.441 89.1181,192.126 94.6457,188.441 \n",
       "  100.173,184.756 105.701,188.441 111.228,192.126 116.756,195.811 122.283,192.126 127.811,188.441 133.339,184.756 138.866,181.071 144.394,184.756 149.921,181.071 \n",
       "  155.449,177.386 160.976,173.701 166.504,170.016 172.031,173.701 177.559,177.386 183.087,173.701 188.614,177.386 194.142,181.071 199.669,184.756 205.197,181.071 \n",
       "  210.724,177.386 216.252,173.701 221.78,170.016 227.307,173.701 232.835,170.016 238.362,166.331 243.89,162.646 249.417,158.961 254.945,162.646 260.472,166.331 \n",
       "  266,170.016 271.528,173.701 277.055,170.016 282.583,173.701 288.11,177.386 293.638,173.701 299.165,177.386 304.693,173.701 310.22,177.386 315.748,173.701 \n",
       "  \n",
       "  \"/>\n",
       "<polyline clip-path=\"url(#clip02)\" style=\"stroke:#c68125; stroke-width:1; stroke-opacity:1; fill:none\" points=\"\n",
       "  44.8976,192.126 50.4252,188.441 55.9528,184.756 61.4803,181.071 67.0079,177.386 72.5354,173.701 78.063,170.016 83.5906,166.331 89.1181,162.646 94.6457,166.331 \n",
       "  100.173,170.016 105.701,173.701 111.228,170.016 116.756,173.701 122.283,170.016 127.811,166.331 133.339,162.646 138.866,158.961 144.394,155.276 149.921,158.961 \n",
       "  155.449,162.646 160.976,166.331 166.504,170.016 172.031,166.331 177.559,162.646 183.087,158.961 188.614,162.646 194.142,158.961 199.669,155.276 205.197,151.591 \n",
       "  210.724,147.906 216.252,151.591 221.78,155.276 227.307,151.591 232.835,147.906 238.362,144.22 243.89,140.535 249.417,136.85 254.945,140.535 260.472,144.22 \n",
       "  266,147.906 271.528,144.22 277.055,147.906 282.583,151.591 288.11,147.906 293.638,144.22 299.165,147.906 304.693,151.591 310.22,147.906 315.748,144.22 \n",
       "  \n",
       "  \"/>\n",
       "<polyline clip-path=\"url(#clip02)\" style=\"stroke:#00a98d; stroke-width:1; stroke-opacity:1; fill:none\" points=\"\n",
       "  44.8976,192.126 50.4252,195.811 55.9528,192.126 61.4803,188.441 67.0079,184.756 72.5354,188.441 78.063,192.126 83.5906,188.441 89.1181,184.756 94.6457,181.071 \n",
       "  100.173,177.386 105.701,173.701 111.228,177.386 116.756,173.701 122.283,177.386 127.811,181.071 133.339,177.386 138.866,173.701 144.394,170.016 149.921,173.701 \n",
       "  155.449,177.386 160.976,173.701 166.504,177.386 172.031,173.701 177.559,177.386 183.087,181.071 188.614,177.386 194.142,173.701 199.669,177.386 205.197,173.701 \n",
       "  210.724,177.386 216.252,173.701 221.78,177.386 227.307,173.701 232.835,170.016 238.362,173.701 243.89,170.016 249.417,173.701 254.945,177.386 260.472,173.701 \n",
       "  266,177.386 271.528,181.071 277.055,184.756 282.583,181.071 288.11,177.386 293.638,181.071 299.165,184.756 304.693,181.071 310.22,184.756 315.748,188.441 \n",
       "  \n",
       "  \"/>\n",
       "<polyline clip-path=\"url(#clip02)\" style=\"stroke:#8e971d; stroke-width:1; stroke-opacity:1; fill:none\" points=\"\n",
       "  44.8976,192.126 50.4252,188.441 55.9528,184.756 61.4803,181.071 67.0079,177.386 72.5354,181.071 78.063,184.756 83.5906,181.071 89.1181,184.756 94.6457,188.441 \n",
       "  100.173,192.126 105.701,195.811 111.228,192.126 116.756,195.811 122.283,199.496 127.811,195.811 133.339,199.496 138.866,195.811 144.394,192.126 149.921,195.811 \n",
       "  155.449,199.496 160.976,203.181 166.504,206.866 172.031,203.181 177.559,206.866 183.087,210.551 188.614,206.866 194.142,203.181 199.669,206.866 205.197,203.181 \n",
       "  210.724,199.496 216.252,203.181 221.78,206.866 227.307,203.181 232.835,206.866 238.362,203.181 243.89,206.866 249.417,210.551 254.945,214.236 260.472,217.921 \n",
       "  266,221.606 271.528,225.291 277.055,228.976 282.583,232.661 288.11,228.976 293.638,225.291 299.165,228.976 304.693,225.291 310.22,228.976 315.748,225.291 \n",
       "  \n",
       "  \"/>\n",
       "<polyline clip-path=\"url(#clip02)\" style=\"stroke:#00a8cb; stroke-width:1; stroke-opacity:1; fill:none\" points=\"\n",
       "  44.8976,192.126 50.4252,188.441 55.9528,184.756 61.4803,188.441 67.0079,184.756 72.5354,181.071 78.063,177.386 83.5906,173.701 89.1181,170.016 94.6457,173.701 \n",
       "  100.173,170.016 105.701,166.331 111.228,170.016 116.756,166.331 122.283,170.016 127.811,166.331 133.339,170.016 138.866,166.331 144.394,162.646 149.921,166.331 \n",
       "  155.449,170.016 160.976,173.701 166.504,170.016 172.031,173.701 177.559,170.016 183.087,173.701 188.614,177.386 194.142,173.701 199.669,177.386 205.197,173.701 \n",
       "  210.724,177.386 216.252,173.701 221.78,170.016 227.307,173.701 232.835,170.016 238.362,166.331 243.89,162.646 249.417,158.961 254.945,162.646 260.472,166.331 \n",
       "  266,162.646 271.528,158.961 277.055,162.646 282.583,158.961 288.11,162.646 293.638,166.331 299.165,170.016 304.693,166.331 310.22,162.646 315.748,158.961 \n",
       "  \n",
       "  \"/>\n",
       "<polyline clip-path=\"url(#clip02)\" style=\"stroke:#9b7fe8; stroke-width:1; stroke-opacity:1; fill:none\" points=\"\n",
       "  44.8976,192.126 50.4252,195.811 55.9528,192.126 61.4803,195.811 67.0079,199.496 72.5354,203.181 78.063,206.866 83.5906,210.551 89.1181,214.236 94.6457,217.921 \n",
       "  100.173,214.236 105.701,217.921 111.228,221.606 116.756,225.291 122.283,221.606 127.811,217.921 133.339,221.606 138.866,225.291 144.394,221.606 149.921,217.921 \n",
       "  155.449,221.606 160.976,217.921 166.504,221.606 172.031,225.291 177.559,221.606 183.087,217.921 188.614,221.606 194.142,225.291 199.669,221.606 205.197,217.921 \n",
       "  210.724,221.606 216.252,225.291 221.78,221.606 227.307,217.921 232.835,214.236 238.362,210.551 243.89,206.866 249.417,203.181 254.945,206.866 260.472,210.551 \n",
       "  266,206.866 271.528,210.551 277.055,214.236 282.583,210.551 288.11,206.866 293.638,203.181 299.165,206.866 304.693,210.551 310.22,206.866 315.748,210.551 \n",
       "  \n",
       "  \"/>\n",
       "<polyline clip-path=\"url(#clip02)\" style=\"stroke:#608cf6; stroke-width:1; stroke-opacity:1; fill:none\" points=\"\n",
       "  44.8976,192.126 50.4252,188.441 55.9528,192.126 61.4803,188.441 67.0079,184.756 72.5354,188.441 78.063,192.126 83.5906,195.811 89.1181,199.496 94.6457,195.811 \n",
       "  100.173,192.126 105.701,188.441 111.228,192.126 116.756,195.811 122.283,199.496 127.811,195.811 133.339,192.126 138.866,195.811 144.394,199.496 149.921,195.811 \n",
       "  155.449,199.496 160.976,203.181 166.504,206.866 172.031,203.181 177.559,206.866 183.087,210.551 188.614,214.236 194.142,217.921 199.669,221.606 205.197,217.921 \n",
       "  210.724,221.606 216.252,217.921 221.78,214.236 227.307,217.921 232.835,221.606 238.362,225.291 243.89,228.976 249.417,225.291 254.945,221.606 260.472,217.921 \n",
       "  266,221.606 271.528,217.921 277.055,214.236 282.583,217.921 288.11,214.236 293.638,217.921 299.165,214.236 304.693,217.921 310.22,221.606 315.748,225.291 \n",
       "  \n",
       "  \"/>\n",
       "<polyline clip-path=\"url(#clip02)\" style=\"stroke:#f05f73; stroke-width:1; stroke-opacity:1; fill:none\" points=\"\n",
       "  44.8976,192.126 50.4252,188.441 55.9528,184.756 61.4803,188.441 67.0079,192.126 72.5354,188.441 78.063,184.756 83.5906,188.441 89.1181,192.126 94.6457,188.441 \n",
       "  100.173,184.756 105.701,181.071 111.228,177.386 116.756,181.071 122.283,184.756 127.811,188.441 133.339,192.126 138.866,195.811 144.394,199.496 149.921,195.811 \n",
       "  155.449,192.126 160.976,188.441 166.504,192.126 172.031,188.441 177.559,184.756 183.087,188.441 188.614,184.756 194.142,181.071 199.669,184.756 205.197,181.071 \n",
       "  210.724,177.386 216.252,173.701 221.78,177.386 227.307,181.071 232.835,177.386 238.362,181.071 243.89,184.756 249.417,181.071 254.945,177.386 260.472,173.701 \n",
       "  266,177.386 271.528,173.701 277.055,170.016 282.583,166.331 288.11,170.016 293.638,166.331 299.165,170.016 304.693,173.701 310.22,170.016 315.748,166.331 \n",
       "  \n",
       "  \"/>\n",
       "<polyline clip-path=\"url(#clip02)\" style=\"stroke:#dd64b5; stroke-width:1; stroke-opacity:1; fill:none\" points=\"\n",
       "  44.8976,192.126 50.4252,195.811 55.9528,199.496 61.4803,195.811 67.0079,199.496 72.5354,195.811 78.063,192.126 83.5906,195.811 89.1181,192.126 94.6457,195.811 \n",
       "  100.173,199.496 105.701,195.811 111.228,199.496 116.756,203.181 122.283,199.496 127.811,203.181 133.339,199.496 138.866,203.181 144.394,206.866 149.921,210.551 \n",
       "  155.449,206.866 160.976,203.181 166.504,199.496 172.031,195.811 177.559,192.126 183.087,188.441 188.614,184.756 194.142,181.071 199.669,184.756 205.197,188.441 \n",
       "  210.724,192.126 216.252,195.811 221.78,192.126 227.307,195.811 232.835,199.496 238.362,195.811 243.89,192.126 249.417,195.811 254.945,192.126 260.472,188.441 \n",
       "  266,184.756 271.528,188.441 277.055,192.126 282.583,195.811 288.11,192.126 293.638,188.441 299.165,192.126 304.693,195.811 310.22,199.496 315.748,203.181 \n",
       "  \n",
       "  \"/>\n",
       "<polyline clip-path=\"url(#clip02)\" style=\"stroke:#6b9e32; stroke-width:1; stroke-opacity:1; fill:none\" points=\"\n",
       "  44.8976,192.126 50.4252,195.811 55.9528,192.126 61.4803,195.811 67.0079,192.126 72.5354,188.441 78.063,184.756 83.5906,188.441 89.1181,184.756 94.6457,181.071 \n",
       "  100.173,177.386 105.701,181.071 111.228,184.756 116.756,181.071 122.283,177.386 127.811,181.071 133.339,184.756 138.866,188.441 144.394,184.756 149.921,181.071 \n",
       "  155.449,184.756 160.976,188.441 166.504,184.756 172.031,181.071 177.559,177.386 183.087,173.701 188.614,170.016 194.142,173.701 199.669,177.386 205.197,173.701 \n",
       "  210.724,177.386 216.252,181.071 221.78,177.386 227.307,173.701 232.835,177.386 238.362,181.071 243.89,184.756 249.417,188.441 254.945,184.756 260.472,188.441 \n",
       "  266,192.126 271.528,188.441 277.055,192.126 282.583,195.811 288.11,199.496 293.638,195.811 299.165,199.496 304.693,195.811 310.22,199.496 315.748,195.811 \n",
       "  \n",
       "  \"/>\n",
       "<polyline clip-path=\"url(#clip02)\" style=\"stroke:#718c69; stroke-width:1; stroke-opacity:1; fill:none\" points=\"\n",
       "  44.8976,192.126 50.4252,195.811 55.9528,199.496 61.4803,203.181 67.0079,199.496 72.5354,195.811 78.063,199.496 83.5906,195.811 89.1181,199.496 94.6457,203.181 \n",
       "  100.173,199.496 105.701,195.811 111.228,192.126 116.756,188.441 122.283,184.756 127.811,188.441 133.339,184.756 138.866,181.071 144.394,177.386 149.921,173.701 \n",
       "  155.449,170.016 160.976,166.331 166.504,170.016 172.031,166.331 177.559,170.016 183.087,166.331 188.614,162.646 194.142,166.331 199.669,162.646 205.197,166.331 \n",
       "  210.724,162.646 216.252,166.331 221.78,162.646 227.307,158.961 232.835,155.276 238.362,151.591 243.89,155.276 249.417,158.961 254.945,155.276 260.472,158.961 \n",
       "  266,162.646 271.528,158.961 277.055,162.646 282.583,166.331 288.11,162.646 293.638,158.961 299.165,162.646 304.693,166.331 310.22,170.016 315.748,173.701 \n",
       "  \n",
       "  \"/>\n",
       "<polyline clip-path=\"url(#clip02)\" style=\"stroke:#47988b; stroke-width:1; stroke-opacity:1; fill:none\" points=\"\n",
       "  44.8976,192.126 50.4252,195.811 55.9528,199.496 61.4803,203.181 67.0079,206.866 72.5354,203.181 78.063,206.866 83.5906,210.551 89.1181,206.866 94.6457,210.551 \n",
       "  100.173,206.866 105.701,203.181 111.228,199.496 116.756,195.811 122.283,199.496 127.811,203.181 133.339,199.496 138.866,203.181 144.394,206.866 149.921,203.181 \n",
       "  155.449,199.496 160.976,195.811 166.504,199.496 172.031,203.181 177.559,199.496 183.087,195.811 188.614,199.496 194.142,195.811 199.669,199.496 205.197,203.181 \n",
       "  210.724,199.496 216.252,195.811 221.78,199.496 227.307,203.181 232.835,199.496 238.362,195.811 243.89,192.126 249.417,188.441 254.945,184.756 260.472,181.071 \n",
       "  266,177.386 271.528,181.071 277.055,177.386 282.583,173.701 288.11,177.386 293.638,181.071 299.165,184.756 304.693,181.071 310.22,184.756 315.748,188.441 \n",
       "  \n",
       "  \"/>\n",
       "<polyline clip-path=\"url(#clip02)\" style=\"stroke:#1ea68c; stroke-width:1; stroke-opacity:1; fill:none\" points=\"\n",
       "  44.8976,192.126 50.4252,195.811 55.9528,192.126 61.4803,195.811 67.0079,199.496 72.5354,203.181 78.063,206.866 83.5906,203.181 89.1181,206.866 94.6457,203.181 \n",
       "  100.173,199.496 105.701,195.811 111.228,199.496 116.756,203.181 122.283,206.866 127.811,210.551 133.339,214.236 138.866,217.921 144.394,214.236 149.921,210.551 \n",
       "  155.449,214.236 160.976,210.551 166.504,206.866 172.031,203.181 177.559,199.496 183.087,195.811 188.614,192.126 194.142,188.441 199.669,184.756 205.197,181.071 \n",
       "  210.724,177.386 216.252,181.071 221.78,184.756 227.307,181.071 232.835,184.756 238.362,188.441 243.89,192.126 249.417,188.441 254.945,184.756 260.472,188.441 \n",
       "  266,192.126 271.528,195.811 277.055,199.496 282.583,195.811 288.11,199.496 293.638,195.811 299.165,199.496 304.693,195.811 310.22,192.126 315.748,195.811 \n",
       "  \n",
       "  \"/>\n",
       "<polyline clip-path=\"url(#clip02)\" style=\"stroke:#af78dd; stroke-width:1; stroke-opacity:1; fill:none\" points=\"\n",
       "  44.8976,192.126 50.4252,195.811 55.9528,199.496 61.4803,195.811 67.0079,199.496 72.5354,203.181 78.063,206.866 83.5906,203.181 89.1181,206.866 94.6457,203.181 \n",
       "  100.173,206.866 105.701,210.551 111.228,214.236 116.756,210.551 122.283,214.236 127.811,217.921 133.339,214.236 138.866,217.921 144.394,214.236 149.921,210.551 \n",
       "  155.449,206.866 160.976,210.551 166.504,214.236 172.031,210.551 177.559,214.236 183.087,210.551 188.614,214.236 194.142,210.551 199.669,206.866 205.197,210.551 \n",
       "  210.724,214.236 216.252,217.921 221.78,221.606 227.307,217.921 232.835,214.236 238.362,210.551 243.89,214.236 249.417,210.551 254.945,206.866 260.472,203.181 \n",
       "  266,199.496 271.528,203.181 277.055,206.866 282.583,210.551 288.11,214.236 293.638,210.551 299.165,214.236 304.693,217.921 310.22,214.236 315.748,217.921 \n",
       "  \n",
       "  \"/>\n",
       "<polyline clip-path=\"url(#clip02)\" style=\"stroke:#868d87; stroke-width:1; stroke-opacity:1; fill:none\" points=\"\n",
       "  44.8976,192.126 50.4252,188.441 55.9528,192.126 61.4803,188.441 67.0079,184.756 72.5354,181.071 78.063,177.386 83.5906,173.701 89.1181,177.386 94.6457,173.701 \n",
       "  100.173,177.386 105.701,181.071 111.228,184.756 116.756,188.441 122.283,184.756 127.811,181.071 133.339,177.386 138.866,181.071 144.394,184.756 149.921,181.071 \n",
       "  155.449,177.386 160.976,173.701 166.504,170.016 172.031,173.701 177.559,177.386 183.087,173.701 188.614,177.386 194.142,181.071 199.669,184.756 205.197,188.441 \n",
       "  210.724,192.126 216.252,195.811 221.78,192.126 227.307,188.441 232.835,192.126 238.362,195.811 243.89,192.126 249.417,195.811 254.945,199.496 260.472,195.811 \n",
       "  266,192.126 271.528,188.441 277.055,184.756 282.583,188.441 288.11,192.126 293.638,188.441 299.165,192.126 304.693,188.441 310.22,192.126 315.748,195.811 \n",
       "  \n",
       "  \"/>\n",
       "<polyline clip-path=\"url(#clip02)\" style=\"stroke:#47a065; stroke-width:1; stroke-opacity:1; fill:none\" points=\"\n",
       "  44.8976,192.126 50.4252,195.811 55.9528,199.496 61.4803,195.811 67.0079,192.126 72.5354,195.811 78.063,199.496 83.5906,203.181 89.1181,199.496 94.6457,203.181 \n",
       "  100.173,206.866 105.701,203.181 111.228,199.496 116.756,195.811 122.283,199.496 127.811,195.811 133.339,199.496 138.866,195.811 144.394,199.496 149.921,203.181 \n",
       "  155.449,206.866 160.976,210.551 166.504,214.236 172.031,210.551 177.559,206.866 183.087,210.551 188.614,214.236 194.142,210.551 199.669,206.866 205.197,210.551 \n",
       "  210.724,206.866 216.252,203.181 221.78,206.866 227.307,210.551 232.835,206.866 238.362,203.181 243.89,206.866 249.417,210.551 254.945,206.866 260.472,203.181 \n",
       "  266,206.866 271.528,203.181 277.055,206.866 282.583,203.181 288.11,206.866 293.638,203.181 299.165,199.496 304.693,195.811 310.22,192.126 315.748,188.441 \n",
       "  \n",
       "  \"/>\n",
       "<polyline clip-path=\"url(#clip02)\" style=\"stroke:#7683af; stroke-width:1; stroke-opacity:1; fill:none\" points=\"\n",
       "  44.8976,192.126 50.4252,188.441 55.9528,192.126 61.4803,195.811 67.0079,199.496 72.5354,195.811 78.063,192.126 83.5906,195.811 89.1181,192.126 94.6457,195.811 \n",
       "  100.173,199.496 105.701,195.811 111.228,192.126 116.756,195.811 122.283,192.126 127.811,188.441 133.339,184.756 138.866,181.071 144.394,177.386 149.921,173.701 \n",
       "  155.449,177.386 160.976,173.701 166.504,170.016 172.031,166.331 177.559,170.016 183.087,173.701 188.614,177.386 194.142,181.071 199.669,184.756 205.197,188.441 \n",
       "  210.724,184.756 216.252,188.441 221.78,184.756 227.307,181.071 232.835,184.756 238.362,181.071 243.89,177.386 249.417,173.701 254.945,170.016 260.472,166.331 \n",
       "  266,170.016 271.528,166.331 277.055,162.646 282.583,158.961 288.11,162.646 293.638,166.331 299.165,170.016 304.693,173.701 310.22,177.386 315.748,181.071 \n",
       "  \n",
       "  \"/>\n",
       "<polyline clip-path=\"url(#clip02)\" style=\"stroke:#b08086; stroke-width:1; stroke-opacity:1; fill:none\" points=\"\n",
       "  44.8976,192.126 50.4252,195.811 55.9528,199.496 61.4803,203.181 67.0079,206.866 72.5354,210.551 78.063,214.236 83.5906,217.921 89.1181,221.606 94.6457,217.921 \n",
       "  100.173,221.606 105.701,225.291 111.228,221.606 116.756,225.291 122.283,221.606 127.811,225.291 133.339,228.976 138.866,225.291 144.394,228.976 149.921,225.291 \n",
       "  155.449,221.606 160.976,225.291 166.504,221.606 172.031,225.291 177.559,221.606 183.087,217.921 188.614,214.236 194.142,210.551 199.669,214.236 205.197,217.921 \n",
       "  210.724,221.606 216.252,217.921 221.78,214.236 227.307,217.921 232.835,214.236 238.362,210.551 243.89,214.236 249.417,210.551 254.945,206.866 260.472,203.181 \n",
       "  266,199.496 271.528,203.181 277.055,199.496 282.583,203.181 288.11,199.496 293.638,195.811 299.165,199.496 304.693,203.181 310.22,199.496 315.748,203.181 \n",
       "  \n",
       "  \"/>\n",
       "<polyline clip-path=\"url(#clip02)\" style=\"stroke:#309ac1; stroke-width:1; stroke-opacity:1; fill:none\" points=\"\n",
       "  44.8976,192.126 50.4252,188.441 55.9528,184.756 61.4803,188.441 67.0079,192.126 72.5354,188.441 78.063,192.126 83.5906,188.441 89.1181,192.126 94.6457,195.811 \n",
       "  100.173,199.496 105.701,203.181 111.228,199.496 116.756,195.811 122.283,192.126 127.811,195.811 133.339,199.496 138.866,195.811 144.394,199.496 149.921,195.811 \n",
       "  155.449,192.126 160.976,195.811 166.504,199.496 172.031,203.181 177.559,206.866 183.087,210.551 188.614,214.236 194.142,210.551 199.669,214.236 205.197,217.921 \n",
       "  210.724,214.236 216.252,217.921 221.78,221.606 227.307,225.291 232.835,221.606 238.362,217.921 243.89,221.606 249.417,217.921 254.945,221.606 260.472,217.921 \n",
       "  266,221.606 271.528,225.291 277.055,221.606 282.583,217.921 288.11,221.606 293.638,217.921 299.165,221.606 304.693,225.291 310.22,221.606 315.748,225.291 \n",
       "  \n",
       "  \"/>\n",
       "<polyline clip-path=\"url(#clip02)\" style=\"stroke:#788490; stroke-width:1; stroke-opacity:1; fill:none\" points=\"\n",
       "  44.8976,192.126 50.4252,188.441 55.9528,184.756 61.4803,181.071 67.0079,184.756 72.5354,181.071 78.063,177.386 83.5906,173.701 89.1181,170.016 94.6457,173.701 \n",
       "  100.173,170.016 105.701,173.701 111.228,170.016 116.756,166.331 122.283,162.646 127.811,166.331 133.339,170.016 138.866,173.701 144.394,170.016 149.921,166.331 \n",
       "  155.449,170.016 160.976,173.701 166.504,177.386 172.031,173.701 177.559,170.016 183.087,173.701 188.614,177.386 194.142,173.701 199.669,170.016 205.197,166.331 \n",
       "  210.724,162.646 216.252,166.331 221.78,170.016 227.307,166.331 232.835,162.646 238.362,166.331 243.89,162.646 249.417,158.961 254.945,155.276 260.472,158.961 \n",
       "  266,162.646 271.528,166.331 277.055,170.016 282.583,173.701 288.11,177.386 293.638,173.701 299.165,170.016 304.693,173.701 310.22,177.386 315.748,173.701 \n",
       "  \n",
       "  \"/>\n",
       "<polyline clip-path=\"url(#clip02)\" style=\"stroke:#e561a4; stroke-width:1; stroke-opacity:1; fill:none\" points=\"\n",
       "  44.8976,192.126 50.4252,195.811 55.9528,199.496 61.4803,203.181 67.0079,199.496 72.5354,203.181 78.063,199.496 83.5906,203.181 89.1181,206.866 94.6457,210.551 \n",
       "  100.173,214.236 105.701,217.921 111.228,214.236 116.756,217.921 122.283,221.606 127.811,225.291 133.339,221.606 138.866,225.291 144.394,228.976 149.921,225.291 \n",
       "  155.449,221.606 160.976,225.291 166.504,228.976 172.031,232.661 177.559,236.346 183.087,232.661 188.614,228.976 194.142,225.291 199.669,221.606 205.197,225.291 \n",
       "  210.724,221.606 216.252,225.291 221.78,228.976 227.307,232.661 232.835,228.976 238.362,225.291 243.89,221.606 249.417,217.921 254.945,221.606 260.472,225.291 \n",
       "  266,228.976 271.528,232.661 277.055,236.346 282.583,232.661 288.11,236.346 293.638,240.031 299.165,236.346 304.693,240.031 310.22,243.717 315.748,247.402 \n",
       "  \n",
       "  \"/>\n",
       "<polyline clip-path=\"url(#clip02)\" style=\"stroke:#99902c; stroke-width:1; stroke-opacity:1; fill:none\" points=\"\n",
       "  44.8976,192.126 50.4252,188.441 55.9528,184.756 61.4803,181.071 67.0079,177.386 72.5354,181.071 78.063,184.756 83.5906,181.071 89.1181,177.386 94.6457,181.071 \n",
       "  100.173,177.386 105.701,181.071 111.228,184.756 116.756,188.441 122.283,184.756 127.811,181.071 133.339,177.386 138.866,173.701 144.394,170.016 149.921,166.331 \n",
       "  155.449,162.646 160.976,166.331 166.504,162.646 172.031,166.331 177.559,170.016 183.087,173.701 188.614,177.386 194.142,173.701 199.669,170.016 205.197,173.701 \n",
       "  210.724,177.386 216.252,181.071 221.78,177.386 227.307,181.071 232.835,184.756 238.362,181.071 243.89,184.756 249.417,188.441 254.945,192.126 260.472,195.811 \n",
       "  266,192.126 271.528,188.441 277.055,184.756 282.583,181.071 288.11,177.386 293.638,173.701 299.165,177.386 304.693,181.071 310.22,177.386 315.748,173.701 \n",
       "  \n",
       "  \"/>\n",
       "<polyline clip-path=\"url(#clip02)\" style=\"stroke:#389a7b; stroke-width:1; stroke-opacity:1; fill:none\" points=\"\n",
       "  44.8976,192.126 50.4252,195.811 55.9528,192.126 61.4803,188.441 67.0079,184.756 72.5354,181.071 78.063,177.386 83.5906,173.701 89.1181,170.016 94.6457,166.331 \n",
       "  100.173,170.016 105.701,166.331 111.228,162.646 116.756,166.331 122.283,170.016 127.811,166.331 133.339,162.646 138.866,166.331 144.394,162.646 149.921,166.331 \n",
       "  155.449,162.646 160.976,158.961 166.504,155.276 172.031,158.961 177.559,162.646 183.087,158.961 188.614,155.276 194.142,158.961 199.669,162.646 205.197,158.961 \n",
       "  210.724,162.646 216.252,166.331 221.78,170.016 227.307,166.331 232.835,162.646 238.362,166.331 243.89,170.016 249.417,173.701 254.945,177.386 260.472,181.071 \n",
       "  266,177.386 271.528,173.701 277.055,170.016 282.583,173.701 288.11,170.016 293.638,166.331 299.165,162.646 304.693,166.331 310.22,170.016 315.748,173.701 \n",
       "  \n",
       "  \"/>\n",
       "<polyline clip-path=\"url(#clip02)\" style=\"stroke:#d968a2; stroke-width:1; stroke-opacity:1; fill:none\" points=\"\n",
       "  44.8976,192.126 50.4252,195.811 55.9528,192.126 61.4803,188.441 67.0079,192.126 72.5354,188.441 78.063,192.126 83.5906,188.441 89.1181,184.756 94.6457,188.441 \n",
       "  100.173,192.126 105.701,195.811 111.228,199.496 116.756,203.181 122.283,199.496 127.811,203.181 133.339,206.866 138.866,203.181 144.394,199.496 149.921,203.181 \n",
       "  155.449,199.496 160.976,203.181 166.504,206.866 172.031,210.551 177.559,206.866 183.087,210.551 188.614,214.236 194.142,210.551 199.669,214.236 205.197,210.551 \n",
       "  210.724,214.236 216.252,210.551 221.78,214.236 227.307,210.551 232.835,206.866 238.362,203.181 243.89,199.496 249.417,203.181 254.945,199.496 260.472,203.181 \n",
       "  266,199.496 271.528,195.811 277.055,199.496 282.583,195.811 288.11,192.126 293.638,195.811 299.165,199.496 304.693,195.811 310.22,199.496 315.748,203.181 \n",
       "  \n",
       "  \"/>\n",
       "<polyline clip-path=\"url(#clip02)\" style=\"stroke:#009af9; stroke-width:1; stroke-opacity:1; fill:none\" points=\"\n",
       "  44.8976,192.126 50.4252,188.441 55.9528,184.756 61.4803,181.071 67.0079,184.756 72.5354,188.441 78.063,192.126 83.5906,188.441 89.1181,184.756 94.6457,181.071 \n",
       "  100.173,177.386 105.701,181.071 111.228,184.756 116.756,181.071 122.283,184.756 127.811,181.071 133.339,184.756 138.866,188.441 144.394,192.126 149.921,195.811 \n",
       "  155.449,199.496 160.976,195.811 166.504,199.496 172.031,203.181 177.559,199.496 183.087,195.811 188.614,199.496 194.142,203.181 199.669,199.496 205.197,203.181 \n",
       "  210.724,206.866 216.252,203.181 221.78,206.866 227.307,210.551 232.835,206.866 238.362,203.181 243.89,199.496 249.417,203.181 254.945,206.866 260.472,210.551 \n",
       "  266,214.236 271.528,217.921 277.055,221.606 282.583,225.291 288.11,228.976 293.638,225.291 299.165,228.976 304.693,232.661 310.22,228.976 315.748,232.661 \n",
       "  \n",
       "  \"/>\n",
       "<polyline clip-path=\"url(#clip02)\" style=\"stroke:#e26f46; stroke-width:1; stroke-opacity:1; fill:none\" points=\"\n",
       "  44.8976,192.126 50.4252,188.441 55.9528,192.126 61.4803,188.441 67.0079,192.126 72.5354,195.811 78.063,199.496 83.5906,195.811 89.1181,192.126 94.6457,188.441 \n",
       "  100.173,184.756 105.701,188.441 111.228,192.126 116.756,188.441 122.283,192.126 127.811,195.811 133.339,199.496 138.866,195.811 144.394,199.496 149.921,195.811 \n",
       "  155.449,199.496 160.976,203.181 166.504,206.866 172.031,203.181 177.559,206.866 183.087,210.551 188.614,214.236 194.142,217.921 199.669,214.236 205.197,210.551 \n",
       "  210.724,206.866 216.252,203.181 221.78,206.866 227.307,203.181 232.835,199.496 238.362,203.181 243.89,199.496 249.417,203.181 254.945,206.866 260.472,210.551 \n",
       "  266,214.236 271.528,210.551 277.055,206.866 282.583,203.181 288.11,199.496 293.638,195.811 299.165,199.496 304.693,195.811 310.22,192.126 315.748,188.441 \n",
       "  \n",
       "  \"/>\n",
       "<polyline clip-path=\"url(#clip02)\" style=\"stroke:#3da44d; stroke-width:1; stroke-opacity:1; fill:none\" points=\"\n",
       "  44.8976,192.126 50.4252,195.811 55.9528,199.496 61.4803,203.181 67.0079,199.496 72.5354,195.811 78.063,192.126 83.5906,195.811 89.1181,192.126 94.6457,188.441 \n",
       "  100.173,184.756 105.701,188.441 111.228,184.756 116.756,188.441 122.283,184.756 127.811,181.071 133.339,184.756 138.866,188.441 144.394,184.756 149.921,181.071 \n",
       "  155.449,184.756 160.976,188.441 166.504,192.126 172.031,195.811 177.559,192.126 183.087,195.811 188.614,199.496 194.142,203.181 199.669,199.496 205.197,195.811 \n",
       "  210.724,199.496 216.252,195.811 221.78,192.126 227.307,195.811 232.835,192.126 238.362,188.441 243.89,192.126 249.417,195.811 254.945,192.126 260.472,195.811 \n",
       "  266,192.126 271.528,195.811 277.055,199.496 282.583,203.181 288.11,199.496 293.638,195.811 299.165,199.496 304.693,203.181 310.22,206.866 315.748,210.551 \n",
       "  \n",
       "  \"/>\n",
       "<polyline clip-path=\"url(#clip02)\" style=\"stroke:#c271d2; stroke-width:1; stroke-opacity:1; fill:none\" points=\"\n",
       "  44.8976,192.126 50.4252,188.441 55.9528,192.126 61.4803,195.811 67.0079,199.496 72.5354,195.811 78.063,192.126 83.5906,188.441 89.1181,192.126 94.6457,195.811 \n",
       "  100.173,192.126 105.701,188.441 111.228,184.756 116.756,188.441 122.283,184.756 127.811,188.441 133.339,192.126 138.866,195.811 144.394,199.496 149.921,203.181 \n",
       "  155.449,206.866 160.976,210.551 166.504,214.236 172.031,210.551 177.559,206.866 183.087,203.181 188.614,199.496 194.142,203.181 199.669,199.496 205.197,203.181 \n",
       "  210.724,206.866 216.252,210.551 221.78,206.866 227.307,203.181 232.835,199.496 238.362,195.811 243.89,199.496 249.417,203.181 254.945,206.866 260.472,210.551 \n",
       "  266,214.236 271.528,210.551 277.055,214.236 282.583,210.551 288.11,214.236 293.638,217.921 299.165,221.606 304.693,217.921 310.22,214.236 315.748,210.551 \n",
       "  \n",
       "  \"/>\n",
       "<polyline clip-path=\"url(#clip02)\" style=\"stroke:#ac8d18; stroke-width:1; stroke-opacity:1; fill:none\" points=\"\n",
       "  44.8976,192.126 50.4252,188.441 55.9528,192.126 61.4803,195.811 67.0079,199.496 72.5354,203.181 78.063,206.866 83.5906,203.181 89.1181,206.866 94.6457,203.181 \n",
       "  100.173,199.496 105.701,195.811 111.228,199.496 116.756,195.811 122.283,192.126 127.811,195.811 133.339,192.126 138.866,188.441 144.394,192.126 149.921,188.441 \n",
       "  155.449,184.756 160.976,181.071 166.504,184.756 172.031,188.441 177.559,192.126 183.087,188.441 188.614,184.756 194.142,188.441 199.669,184.756 205.197,181.071 \n",
       "  210.724,184.756 216.252,188.441 221.78,184.756 227.307,181.071 232.835,184.756 238.362,188.441 243.89,184.756 249.417,181.071 254.945,177.386 260.472,181.071 \n",
       "  266,184.756 271.528,188.441 277.055,184.756 282.583,188.441 288.11,184.756 293.638,181.071 299.165,177.386 304.693,181.071 310.22,177.386 315.748,181.071 \n",
       "  \n",
       "  \"/>\n",
       "<polyline clip-path=\"url(#clip02)\" style=\"stroke:#00a9ad; stroke-width:1; stroke-opacity:1; fill:none\" points=\"\n",
       "  44.8976,192.126 50.4252,188.441 55.9528,192.126 61.4803,188.441 67.0079,184.756 72.5354,181.071 78.063,177.386 83.5906,173.701 89.1181,170.016 94.6457,166.331 \n",
       "  100.173,170.016 105.701,166.331 111.228,170.016 116.756,173.701 122.283,177.386 127.811,173.701 133.339,170.016 138.866,166.331 144.394,170.016 149.921,166.331 \n",
       "  155.449,170.016 160.976,173.701 166.504,177.386 172.031,173.701 177.559,177.386 183.087,173.701 188.614,177.386 194.142,181.071 199.669,177.386 205.197,173.701 \n",
       "  210.724,170.016 216.252,166.331 221.78,162.646 227.307,166.331 232.835,162.646 238.362,166.331 243.89,162.646 249.417,158.961 254.945,162.646 260.472,166.331 \n",
       "  266,170.016 271.528,173.701 277.055,170.016 282.583,173.701 288.11,170.016 293.638,173.701 299.165,170.016 304.693,166.331 310.22,170.016 315.748,173.701 \n",
       "  \n",
       "  \"/>\n",
       "<polyline clip-path=\"url(#clip02)\" style=\"stroke:#ed5d92; stroke-width:1; stroke-opacity:1; fill:none\" points=\"\n",
       "  44.8976,192.126 50.4252,195.811 55.9528,192.126 61.4803,195.811 67.0079,192.126 72.5354,195.811 78.063,192.126 83.5906,188.441 89.1181,184.756 94.6457,181.071 \n",
       "  100.173,177.386 105.701,181.071 111.228,177.386 116.756,173.701 122.283,170.016 127.811,166.331 133.339,170.016 138.866,166.331 144.394,162.646 149.921,158.961 \n",
       "  155.449,155.276 160.976,158.961 166.504,155.276 172.031,158.961 177.559,162.646 183.087,158.961 188.614,162.646 194.142,158.961 199.669,155.276 205.197,151.591 \n",
       "  210.724,155.276 216.252,158.961 221.78,155.276 227.307,158.961 232.835,155.276 238.362,151.591 243.89,155.276 249.417,151.591 254.945,147.906 260.472,144.22 \n",
       "  266,140.535 271.528,136.85 277.055,133.165 282.583,129.48 288.11,133.165 293.638,129.48 299.165,125.795 304.693,129.48 310.22,133.165 315.748,136.85 \n",
       "  \n",
       "  \"/>\n",
       "<polyline clip-path=\"url(#clip02)\" style=\"stroke:#c68125; stroke-width:1; stroke-opacity:1; fill:none\" points=\"\n",
       "  44.8976,192.126 50.4252,195.811 55.9528,192.126 61.4803,195.811 67.0079,192.126 72.5354,195.811 78.063,192.126 83.5906,188.441 89.1181,184.756 94.6457,188.441 \n",
       "  100.173,184.756 105.701,188.441 111.228,184.756 116.756,188.441 122.283,192.126 127.811,188.441 133.339,192.126 138.866,195.811 144.394,192.126 149.921,195.811 \n",
       "  155.449,199.496 160.976,195.811 166.504,192.126 172.031,195.811 177.559,192.126 183.087,195.811 188.614,199.496 194.142,195.811 199.669,192.126 205.197,195.811 \n",
       "  210.724,199.496 216.252,203.181 221.78,206.866 227.307,203.181 232.835,206.866 238.362,210.551 243.89,206.866 249.417,210.551 254.945,206.866 260.472,203.181 \n",
       "  266,206.866 271.528,203.181 277.055,199.496 282.583,195.811 288.11,199.496 293.638,195.811 299.165,199.496 304.693,203.181 310.22,206.866 315.748,203.181 \n",
       "  \n",
       "  \"/>\n",
       "<polyline clip-path=\"url(#clip02)\" style=\"stroke:#00a98d; stroke-width:1; stroke-opacity:1; fill:none\" points=\"\n",
       "  44.8976,192.126 50.4252,188.441 55.9528,184.756 61.4803,188.441 67.0079,192.126 72.5354,195.811 78.063,199.496 83.5906,203.181 89.1181,206.866 94.6457,203.181 \n",
       "  100.173,206.866 105.701,203.181 111.228,206.866 116.756,210.551 122.283,214.236 127.811,210.551 133.339,214.236 138.866,210.551 144.394,206.866 149.921,203.181 \n",
       "  155.449,206.866 160.976,203.181 166.504,199.496 172.031,203.181 177.559,206.866 183.087,210.551 188.614,206.866 194.142,210.551 199.669,206.866 205.197,210.551 \n",
       "  210.724,206.866 216.252,203.181 221.78,206.866 227.307,203.181 232.835,199.496 238.362,203.181 243.89,206.866 249.417,210.551 254.945,214.236 260.472,217.921 \n",
       "  266,221.606 271.528,225.291 277.055,228.976 282.583,225.291 288.11,221.606 293.638,217.921 299.165,221.606 304.693,217.921 310.22,214.236 315.748,217.921 \n",
       "  \n",
       "  \"/>\n",
       "<polyline clip-path=\"url(#clip02)\" style=\"stroke:#8e971d; stroke-width:1; stroke-opacity:1; fill:none\" points=\"\n",
       "  44.8976,192.126 50.4252,195.811 55.9528,199.496 61.4803,195.811 67.0079,199.496 72.5354,203.181 78.063,206.866 83.5906,210.551 89.1181,214.236 94.6457,210.551 \n",
       "  100.173,214.236 105.701,210.551 111.228,214.236 116.756,210.551 122.283,206.866 127.811,210.551 133.339,214.236 138.866,217.921 144.394,221.606 149.921,225.291 \n",
       "  155.449,221.606 160.976,217.921 166.504,214.236 172.031,217.921 177.559,214.236 183.087,210.551 188.614,206.866 194.142,210.551 199.669,206.866 205.197,210.551 \n",
       "  210.724,214.236 216.252,217.921 221.78,214.236 227.307,217.921 232.835,214.236 238.362,217.921 243.89,214.236 249.417,210.551 254.945,206.866 260.472,210.551 \n",
       "  266,214.236 271.528,210.551 277.055,214.236 282.583,217.921 288.11,221.606 293.638,225.291 299.165,221.606 304.693,217.921 310.22,214.236 315.748,217.921 \n",
       "  \n",
       "  \"/>\n",
       "<polyline clip-path=\"url(#clip02)\" style=\"stroke:#00a8cb; stroke-width:1; stroke-opacity:1; fill:none\" points=\"\n",
       "  44.8976,192.126 50.4252,188.441 55.9528,192.126 61.4803,195.811 67.0079,192.126 72.5354,188.441 78.063,192.126 83.5906,195.811 89.1181,192.126 94.6457,188.441 \n",
       "  100.173,184.756 105.701,188.441 111.228,184.756 116.756,188.441 122.283,184.756 127.811,188.441 133.339,184.756 138.866,181.071 144.394,184.756 149.921,181.071 \n",
       "  155.449,177.386 160.976,173.701 166.504,177.386 172.031,181.071 177.559,177.386 183.087,173.701 188.614,170.016 194.142,173.701 199.669,177.386 205.197,181.071 \n",
       "  210.724,177.386 216.252,173.701 221.78,170.016 227.307,166.331 232.835,162.646 238.362,166.331 243.89,170.016 249.417,166.331 254.945,170.016 260.472,166.331 \n",
       "  266,162.646 271.528,166.331 277.055,162.646 282.583,166.331 288.11,162.646 293.638,166.331 299.165,170.016 304.693,166.331 310.22,170.016 315.748,173.701 \n",
       "  \n",
       "  \"/>\n",
       "<polyline clip-path=\"url(#clip02)\" style=\"stroke:#9b7fe8; stroke-width:1; stroke-opacity:1; fill:none\" points=\"\n",
       "  44.8976,192.126 50.4252,195.811 55.9528,199.496 61.4803,203.181 67.0079,206.866 72.5354,210.551 78.063,206.866 83.5906,203.181 89.1181,206.866 94.6457,210.551 \n",
       "  100.173,214.236 105.701,210.551 111.228,206.866 116.756,210.551 122.283,214.236 127.811,217.921 133.339,221.606 138.866,225.291 144.394,228.976 149.921,232.661 \n",
       "  155.449,228.976 160.976,232.661 166.504,228.976 172.031,232.661 177.559,228.976 183.087,232.661 188.614,228.976 194.142,232.661 199.669,236.346 205.197,232.661 \n",
       "  210.724,228.976 216.252,225.291 221.78,221.606 227.307,225.291 232.835,221.606 238.362,217.921 243.89,214.236 249.417,217.921 254.945,221.606 260.472,225.291 \n",
       "  266,228.976 271.528,232.661 277.055,236.346 282.583,232.661 288.11,228.976 293.638,225.291 299.165,221.606 304.693,225.291 310.22,228.976 315.748,225.291 \n",
       "  \n",
       "  \"/>\n",
       "<polyline clip-path=\"url(#clip02)\" style=\"stroke:#608cf6; stroke-width:1; stroke-opacity:1; fill:none\" points=\"\n",
       "  44.8976,192.126 50.4252,188.441 55.9528,184.756 61.4803,181.071 67.0079,184.756 72.5354,181.071 78.063,184.756 83.5906,188.441 89.1181,184.756 94.6457,188.441 \n",
       "  100.173,184.756 105.701,188.441 111.228,192.126 116.756,195.811 122.283,199.496 127.811,195.811 133.339,192.126 138.866,188.441 144.394,192.126 149.921,188.441 \n",
       "  155.449,184.756 160.976,181.071 166.504,184.756 172.031,188.441 177.559,184.756 183.087,188.441 188.614,192.126 194.142,195.811 199.669,199.496 205.197,203.181 \n",
       "  210.724,206.866 216.252,203.181 221.78,199.496 227.307,203.181 232.835,206.866 238.362,203.181 243.89,206.866 249.417,210.551 254.945,206.866 260.472,210.551 \n",
       "  266,214.236 271.528,217.921 277.055,214.236 282.583,210.551 288.11,214.236 293.638,217.921 299.165,221.606 304.693,217.921 310.22,214.236 315.748,210.551 \n",
       "  \n",
       "  \"/>\n",
       "<polyline clip-path=\"url(#clip02)\" style=\"stroke:#f05f73; stroke-width:1; stroke-opacity:1; fill:none\" points=\"\n",
       "  44.8976,192.126 50.4252,195.811 55.9528,199.496 61.4803,195.811 67.0079,192.126 72.5354,195.811 78.063,192.126 83.5906,195.811 89.1181,199.496 94.6457,195.811 \n",
       "  100.173,192.126 105.701,195.811 111.228,192.126 116.756,188.441 122.283,192.126 127.811,188.441 133.339,192.126 138.866,195.811 144.394,199.496 149.921,203.181 \n",
       "  155.449,206.866 160.976,210.551 166.504,214.236 172.031,210.551 177.559,214.236 183.087,217.921 188.614,221.606 194.142,225.291 199.669,228.976 205.197,225.291 \n",
       "  210.724,228.976 216.252,225.291 221.78,221.606 227.307,217.921 232.835,221.606 238.362,225.291 243.89,228.976 249.417,225.291 254.945,228.976 260.472,232.661 \n",
       "  266,236.346 271.528,240.031 277.055,236.346 282.583,240.031 288.11,243.717 293.638,240.031 299.165,236.346 304.693,240.031 310.22,243.717 315.748,240.031 \n",
       "  \n",
       "  \"/>\n",
       "<polyline clip-path=\"url(#clip02)\" style=\"stroke:#dd64b5; stroke-width:1; stroke-opacity:1; fill:none\" points=\"\n",
       "  44.8976,192.126 50.4252,188.441 55.9528,192.126 61.4803,195.811 67.0079,199.496 72.5354,203.181 78.063,206.866 83.5906,203.181 89.1181,199.496 94.6457,195.811 \n",
       "  100.173,199.496 105.701,203.181 111.228,199.496 116.756,203.181 122.283,199.496 127.811,203.181 133.339,206.866 138.866,210.551 144.394,206.866 149.921,210.551 \n",
       "  155.449,214.236 160.976,210.551 166.504,214.236 172.031,210.551 177.559,214.236 183.087,210.551 188.614,206.866 194.142,210.551 199.669,214.236 205.197,217.921 \n",
       "  210.724,221.606 216.252,217.921 221.78,221.606 227.307,217.921 232.835,221.606 238.362,217.921 243.89,214.236 249.417,217.921 254.945,221.606 260.472,217.921 \n",
       "  266,214.236 271.528,217.921 277.055,214.236 282.583,217.921 288.11,221.606 293.638,225.291 299.165,221.606 304.693,225.291 310.22,228.976 315.748,232.661 \n",
       "  \n",
       "  \"/>\n",
       "<polyline clip-path=\"url(#clip02)\" style=\"stroke:#6b9e32; stroke-width:1; stroke-opacity:1; fill:none\" points=\"\n",
       "  44.8976,192.126 50.4252,195.811 55.9528,192.126 61.4803,188.441 67.0079,184.756 72.5354,181.071 78.063,184.756 83.5906,188.441 89.1181,184.756 94.6457,188.441 \n",
       "  100.173,192.126 105.701,188.441 111.228,192.126 116.756,195.811 122.283,199.496 127.811,195.811 133.339,199.496 138.866,203.181 144.394,199.496 149.921,195.811 \n",
       "  155.449,199.496 160.976,203.181 166.504,199.496 172.031,195.811 177.559,199.496 183.087,195.811 188.614,199.496 194.142,195.811 199.669,192.126 205.197,195.811 \n",
       "  210.724,192.126 216.252,188.441 221.78,192.126 227.307,195.811 232.835,199.496 238.362,203.181 243.89,206.866 249.417,203.181 254.945,206.866 260.472,203.181 \n",
       "  266,206.866 271.528,210.551 277.055,214.236 282.583,217.921 288.11,221.606 293.638,217.921 299.165,214.236 304.693,210.551 310.22,214.236 315.748,217.921 \n",
       "  \n",
       "  \"/>\n",
       "<polyline clip-path=\"url(#clip02)\" style=\"stroke:#718c69; stroke-width:1; stroke-opacity:1; fill:none\" points=\"\n",
       "  44.8976,192.126 50.4252,188.441 55.9528,184.756 61.4803,188.441 67.0079,192.126 72.5354,188.441 78.063,192.126 83.5906,188.441 89.1181,192.126 94.6457,195.811 \n",
       "  100.173,199.496 105.701,203.181 111.228,206.866 116.756,203.181 122.283,199.496 127.811,195.811 133.339,192.126 138.866,195.811 144.394,199.496 149.921,203.181 \n",
       "  155.449,199.496 160.976,195.811 166.504,192.126 172.031,188.441 177.559,184.756 183.087,181.071 188.614,177.386 194.142,181.071 199.669,184.756 205.197,188.441 \n",
       "  210.724,184.756 216.252,188.441 221.78,184.756 227.307,181.071 232.835,177.386 238.362,173.701 243.89,170.016 249.417,166.331 254.945,170.016 260.472,173.701 \n",
       "  266,170.016 271.528,173.701 277.055,170.016 282.583,166.331 288.11,162.646 293.638,166.331 299.165,162.646 304.693,158.961 310.22,155.276 315.748,151.591 \n",
       "  \n",
       "  \"/>\n",
       "<polyline clip-path=\"url(#clip02)\" style=\"stroke:#47988b; stroke-width:1; stroke-opacity:1; fill:none\" points=\"\n",
       "  44.8976,192.126 50.4252,188.441 55.9528,192.126 61.4803,195.811 67.0079,192.126 72.5354,195.811 78.063,192.126 83.5906,188.441 89.1181,184.756 94.6457,188.441 \n",
       "  100.173,192.126 105.701,188.441 111.228,184.756 116.756,181.071 122.283,184.756 127.811,181.071 133.339,177.386 138.866,173.701 144.394,177.386 149.921,173.701 \n",
       "  155.449,177.386 160.976,173.701 166.504,170.016 172.031,166.331 177.559,162.646 183.087,158.961 188.614,162.646 194.142,166.331 199.669,170.016 205.197,166.331 \n",
       "  210.724,162.646 216.252,166.331 221.78,170.016 227.307,166.331 232.835,170.016 238.362,173.701 243.89,170.016 249.417,166.331 254.945,162.646 260.472,158.961 \n",
       "  266,162.646 271.528,158.961 277.055,162.646 282.583,166.331 288.11,162.646 293.638,158.961 299.165,162.646 304.693,166.331 310.22,162.646 315.748,158.961 \n",
       "  \n",
       "  \"/>\n",
       "<polyline clip-path=\"url(#clip02)\" style=\"stroke:#1ea68c; stroke-width:1; stroke-opacity:1; fill:none\" points=\"\n",
       "  44.8976,192.126 50.4252,188.441 55.9528,192.126 61.4803,188.441 67.0079,184.756 72.5354,188.441 78.063,192.126 83.5906,188.441 89.1181,192.126 94.6457,195.811 \n",
       "  100.173,199.496 105.701,203.181 111.228,199.496 116.756,195.811 122.283,192.126 127.811,195.811 133.339,199.496 138.866,195.811 144.394,199.496 149.921,195.811 \n",
       "  155.449,199.496 160.976,195.811 166.504,192.126 172.031,195.811 177.559,199.496 183.087,203.181 188.614,206.866 194.142,210.551 199.669,214.236 205.197,217.921 \n",
       "  210.724,221.606 216.252,217.921 221.78,214.236 227.307,210.551 232.835,206.866 238.362,210.551 243.89,206.866 249.417,203.181 254.945,199.496 260.472,203.181 \n",
       "  266,206.866 271.528,203.181 277.055,199.496 282.583,203.181 288.11,199.496 293.638,203.181 299.165,199.496 304.693,203.181 310.22,199.496 315.748,195.811 \n",
       "  \n",
       "  \"/>\n",
       "<polyline clip-path=\"url(#clip02)\" style=\"stroke:#af78dd; stroke-width:1; stroke-opacity:1; fill:none\" points=\"\n",
       "  44.8976,192.126 50.4252,195.811 55.9528,199.496 61.4803,203.181 67.0079,199.496 72.5354,195.811 78.063,199.496 83.5906,203.181 89.1181,206.866 94.6457,210.551 \n",
       "  100.173,214.236 105.701,217.921 111.228,221.606 116.756,225.291 122.283,221.606 127.811,217.921 133.339,214.236 138.866,217.921 144.394,214.236 149.921,217.921 \n",
       "  155.449,221.606 160.976,217.921 166.504,214.236 172.031,210.551 177.559,206.866 183.087,203.181 188.614,199.496 194.142,203.181 199.669,199.496 205.197,203.181 \n",
       "  210.724,206.866 216.252,210.551 221.78,214.236 227.307,217.921 232.835,214.236 238.362,210.551 243.89,214.236 249.417,217.921 254.945,214.236 260.472,210.551 \n",
       "  266,206.866 271.528,210.551 277.055,206.866 282.583,203.181 288.11,206.866 293.638,203.181 299.165,199.496 304.693,203.181 310.22,199.496 315.748,195.811 \n",
       "  \n",
       "  \"/>\n",
       "<polyline clip-path=\"url(#clip02)\" style=\"stroke:#868d87; stroke-width:1; stroke-opacity:1; fill:none\" points=\"\n",
       "  44.8976,192.126 50.4252,195.811 55.9528,199.496 61.4803,203.181 67.0079,206.866 72.5354,203.181 78.063,199.496 83.5906,195.811 89.1181,192.126 94.6457,195.811 \n",
       "  100.173,199.496 105.701,195.811 111.228,199.496 116.756,203.181 122.283,199.496 127.811,203.181 133.339,199.496 138.866,203.181 144.394,199.496 149.921,195.811 \n",
       "  155.449,199.496 160.976,203.181 166.504,206.866 172.031,203.181 177.559,199.496 183.087,195.811 188.614,192.126 194.142,188.441 199.669,184.756 205.197,181.071 \n",
       "  210.724,184.756 216.252,181.071 221.78,177.386 227.307,181.071 232.835,177.386 238.362,173.701 243.89,170.016 249.417,166.331 254.945,162.646 260.472,166.331 \n",
       "  266,162.646 271.528,158.961 277.055,162.646 282.583,166.331 288.11,170.016 293.638,173.701 299.165,170.016 304.693,173.701 310.22,177.386 315.748,173.701 \n",
       "  \n",
       "  \"/>\n",
       "<polyline clip-path=\"url(#clip02)\" style=\"stroke:#47a065; stroke-width:1; stroke-opacity:1; fill:none\" points=\"\n",
       "  44.8976,192.126 50.4252,188.441 55.9528,192.126 61.4803,188.441 67.0079,192.126 72.5354,188.441 78.063,192.126 83.5906,195.811 89.1181,192.126 94.6457,195.811 \n",
       "  100.173,199.496 105.701,195.811 111.228,199.496 116.756,203.181 122.283,199.496 127.811,195.811 133.339,199.496 138.866,203.181 144.394,206.866 149.921,210.551 \n",
       "  155.449,206.866 160.976,210.551 166.504,206.866 172.031,210.551 177.559,206.866 183.087,210.551 188.614,214.236 194.142,217.921 199.669,221.606 205.197,225.291 \n",
       "  210.724,228.976 216.252,232.661 221.78,236.346 227.307,240.031 232.835,236.346 238.362,232.661 243.89,236.346 249.417,232.661 254.945,228.976 260.472,232.661 \n",
       "  266,236.346 271.528,240.031 277.055,236.346 282.583,232.661 288.11,236.346 293.638,232.661 299.165,236.346 304.693,240.031 310.22,236.346 315.748,232.661 \n",
       "  \n",
       "  \"/>\n",
       "<polyline clip-path=\"url(#clip02)\" style=\"stroke:#7683af; stroke-width:1; stroke-opacity:1; fill:none\" points=\"\n",
       "  44.8976,192.126 50.4252,188.441 55.9528,184.756 61.4803,188.441 67.0079,192.126 72.5354,195.811 78.063,199.496 83.5906,195.811 89.1181,192.126 94.6457,188.441 \n",
       "  100.173,192.126 105.701,195.811 111.228,192.126 116.756,195.811 122.283,192.126 127.811,195.811 133.339,192.126 138.866,195.811 144.394,192.126 149.921,188.441 \n",
       "  155.449,184.756 160.976,181.071 166.504,184.756 172.031,188.441 177.559,192.126 183.087,188.441 188.614,184.756 194.142,188.441 199.669,184.756 205.197,181.071 \n",
       "  210.724,184.756 216.252,188.441 221.78,184.756 227.307,181.071 232.835,184.756 238.362,188.441 243.89,184.756 249.417,188.441 254.945,192.126 260.472,188.441 \n",
       "  266,184.756 271.528,188.441 277.055,192.126 282.583,195.811 288.11,192.126 293.638,188.441 299.165,184.756 304.693,181.071 310.22,177.386 315.748,173.701 \n",
       "  \n",
       "  \"/>\n",
       "<polyline clip-path=\"url(#clip02)\" style=\"stroke:#b08086; stroke-width:1; stroke-opacity:1; fill:none\" points=\"\n",
       "  44.8976,192.126 50.4252,195.811 55.9528,199.496 61.4803,203.181 67.0079,206.866 72.5354,203.181 78.063,199.496 83.5906,195.811 89.1181,192.126 94.6457,195.811 \n",
       "  100.173,199.496 105.701,203.181 111.228,199.496 116.756,195.811 122.283,192.126 127.811,188.441 133.339,184.756 138.866,188.441 144.394,192.126 149.921,188.441 \n",
       "  155.449,192.126 160.976,188.441 166.504,192.126 172.031,188.441 177.559,192.126 183.087,188.441 188.614,192.126 194.142,188.441 199.669,192.126 205.197,195.811 \n",
       "  210.724,199.496 216.252,203.181 221.78,206.866 227.307,210.551 232.835,214.236 238.362,217.921 243.89,221.606 249.417,217.921 254.945,214.236 260.472,210.551 \n",
       "  266,206.866 271.528,210.551 277.055,206.866 282.583,203.181 288.11,206.866 293.638,210.551 299.165,206.866 304.693,203.181 310.22,206.866 315.748,203.181 \n",
       "  \n",
       "  \"/>\n",
       "<polyline clip-path=\"url(#clip02)\" style=\"stroke:#309ac1; stroke-width:1; stroke-opacity:1; fill:none\" points=\"\n",
       "  44.8976,192.126 50.4252,195.811 55.9528,192.126 61.4803,195.811 67.0079,199.496 72.5354,195.811 78.063,199.496 83.5906,203.181 89.1181,199.496 94.6457,203.181 \n",
       "  100.173,199.496 105.701,195.811 111.228,192.126 116.756,195.811 122.283,199.496 127.811,195.811 133.339,199.496 138.866,195.811 144.394,192.126 149.921,188.441 \n",
       "  155.449,192.126 160.976,195.811 166.504,192.126 172.031,195.811 177.559,199.496 183.087,195.811 188.614,192.126 194.142,188.441 199.669,184.756 205.197,188.441 \n",
       "  210.724,192.126 216.252,195.811 221.78,199.496 227.307,195.811 232.835,192.126 238.362,195.811 243.89,199.496 249.417,203.181 254.945,199.496 260.472,203.181 \n",
       "  266,199.496 271.528,203.181 277.055,199.496 282.583,195.811 288.11,199.496 293.638,203.181 299.165,206.866 304.693,210.551 310.22,206.866 315.748,210.551 \n",
       "  \n",
       "  \"/>\n",
       "<polyline clip-path=\"url(#clip02)\" style=\"stroke:#788490; stroke-width:1; stroke-opacity:1; fill:none\" points=\"\n",
       "  44.8976,192.126 50.4252,195.811 55.9528,199.496 61.4803,195.811 67.0079,199.496 72.5354,203.181 78.063,199.496 83.5906,203.181 89.1181,206.866 94.6457,210.551 \n",
       "  100.173,206.866 105.701,210.551 111.228,214.236 116.756,217.921 122.283,214.236 127.811,217.921 133.339,214.236 138.866,217.921 144.394,214.236 149.921,210.551 \n",
       "  155.449,206.866 160.976,203.181 166.504,199.496 172.031,203.181 177.559,199.496 183.087,203.181 188.614,206.866 194.142,203.181 199.669,206.866 205.197,203.181 \n",
       "  210.724,206.866 216.252,210.551 221.78,206.866 227.307,203.181 232.835,199.496 238.362,203.181 243.89,206.866 249.417,203.181 254.945,199.496 260.472,195.811 \n",
       "  266,192.126 271.528,188.441 277.055,192.126 282.583,188.441 288.11,192.126 293.638,188.441 299.165,192.126 304.693,195.811 310.22,192.126 315.748,195.811 \n",
       "  \n",
       "  \"/>\n",
       "<polyline clip-path=\"url(#clip02)\" style=\"stroke:#e561a4; stroke-width:1; stroke-opacity:1; fill:none\" points=\"\n",
       "  44.8976,192.126 50.4252,195.811 55.9528,192.126 61.4803,188.441 67.0079,192.126 72.5354,195.811 78.063,192.126 83.5906,188.441 89.1181,192.126 94.6457,188.441 \n",
       "  100.173,184.756 105.701,181.071 111.228,177.386 116.756,173.701 122.283,177.386 127.811,181.071 133.339,184.756 138.866,181.071 144.394,184.756 149.921,181.071 \n",
       "  155.449,177.386 160.976,181.071 166.504,184.756 172.031,188.441 177.559,192.126 183.087,195.811 188.614,192.126 194.142,195.811 199.669,199.496 205.197,195.811 \n",
       "  210.724,199.496 216.252,195.811 221.78,199.496 227.307,195.811 232.835,192.126 238.362,195.811 243.89,192.126 249.417,188.441 254.945,184.756 260.472,181.071 \n",
       "  266,177.386 271.528,173.701 277.055,177.386 282.583,181.071 288.11,184.756 293.638,188.441 299.165,184.756 304.693,188.441 310.22,192.126 315.748,188.441 \n",
       "  \n",
       "  \"/>\n",
       "<polyline clip-path=\"url(#clip02)\" style=\"stroke:#99902c; stroke-width:1; stroke-opacity:1; fill:none\" points=\"\n",
       "  44.8976,192.126 50.4252,195.811 55.9528,192.126 61.4803,188.441 67.0079,184.756 72.5354,181.071 78.063,184.756 83.5906,188.441 89.1181,184.756 94.6457,188.441 \n",
       "  100.173,184.756 105.701,188.441 111.228,192.126 116.756,195.811 122.283,199.496 127.811,203.181 133.339,206.866 138.866,210.551 144.394,214.236 149.921,210.551 \n",
       "  155.449,206.866 160.976,210.551 166.504,206.866 172.031,203.181 177.559,199.496 183.087,195.811 188.614,199.496 194.142,203.181 199.669,199.496 205.197,203.181 \n",
       "  210.724,199.496 216.252,195.811 221.78,199.496 227.307,195.811 232.835,192.126 238.362,195.811 243.89,192.126 249.417,188.441 254.945,192.126 260.472,195.811 \n",
       "  266,199.496 271.528,203.181 277.055,206.866 282.583,210.551 288.11,214.236 293.638,210.551 299.165,206.866 304.693,203.181 310.22,206.866 315.748,210.551 \n",
       "  \n",
       "  \"/>\n",
       "<polyline clip-path=\"url(#clip02)\" style=\"stroke:#389a7b; stroke-width:1; stroke-opacity:1; fill:none\" points=\"\n",
       "  44.8976,192.126 50.4252,188.441 55.9528,184.756 61.4803,181.071 67.0079,177.386 72.5354,173.701 78.063,170.016 83.5906,173.701 89.1181,177.386 94.6457,173.701 \n",
       "  100.173,170.016 105.701,166.331 111.228,170.016 116.756,173.701 122.283,177.386 127.811,173.701 133.339,177.386 138.866,173.701 144.394,170.016 149.921,166.331 \n",
       "  155.449,162.646 160.976,158.961 166.504,155.276 172.031,151.591 177.559,147.906 183.087,151.591 188.614,147.906 194.142,144.22 199.669,140.535 205.197,136.85 \n",
       "  210.724,140.535 216.252,144.22 221.78,140.535 227.307,144.22 232.835,147.906 238.362,151.591 243.89,147.906 249.417,151.591 254.945,155.276 260.472,158.961 \n",
       "  266,155.276 271.528,158.961 277.055,155.276 282.583,158.961 288.11,155.276 293.638,151.591 299.165,147.906 304.693,144.22 310.22,147.906 315.748,144.22 \n",
       "  \n",
       "  \"/>\n",
       "<polyline clip-path=\"url(#clip02)\" style=\"stroke:#d968a2; stroke-width:1; stroke-opacity:1; fill:none\" points=\"\n",
       "  44.8976,192.126 50.4252,188.441 55.9528,192.126 61.4803,195.811 67.0079,192.126 72.5354,195.811 78.063,192.126 83.5906,188.441 89.1181,192.126 94.6457,188.441 \n",
       "  100.173,184.756 105.701,181.071 111.228,177.386 116.756,181.071 122.283,177.386 127.811,181.071 133.339,184.756 138.866,188.441 144.394,192.126 149.921,188.441 \n",
       "  155.449,192.126 160.976,195.811 166.504,192.126 172.031,188.441 177.559,192.126 183.087,188.441 188.614,192.126 194.142,188.441 199.669,184.756 205.197,181.071 \n",
       "  210.724,177.386 216.252,181.071 221.78,184.756 227.307,188.441 232.835,192.126 238.362,188.441 243.89,184.756 249.417,181.071 254.945,177.386 260.472,181.071 \n",
       "  266,184.756 271.528,188.441 277.055,192.126 282.583,188.441 288.11,192.126 293.638,188.441 299.165,192.126 304.693,188.441 310.22,184.756 315.748,188.441 \n",
       "  \n",
       "  \"/>\n",
       "<polyline clip-path=\"url(#clip02)\" style=\"stroke:#009af9; stroke-width:1; stroke-opacity:1; fill:none\" points=\"\n",
       "  44.8976,192.126 50.4252,195.811 55.9528,199.496 61.4803,195.811 67.0079,199.496 72.5354,195.811 78.063,199.496 83.5906,195.811 89.1181,199.496 94.6457,203.181 \n",
       "  100.173,206.866 105.701,203.181 111.228,206.866 116.756,210.551 122.283,206.866 127.811,203.181 133.339,199.496 138.866,195.811 144.394,199.496 149.921,195.811 \n",
       "  155.449,199.496 160.976,195.811 166.504,199.496 172.031,203.181 177.559,206.866 183.087,210.551 188.614,214.236 194.142,210.551 199.669,214.236 205.197,217.921 \n",
       "  210.724,214.236 216.252,210.551 221.78,214.236 227.307,217.921 232.835,221.606 238.362,225.291 243.89,221.606 249.417,225.291 254.945,221.606 260.472,225.291 \n",
       "  266,221.606 271.528,217.921 277.055,214.236 282.583,217.921 288.11,221.606 293.638,225.291 299.165,228.976 304.693,232.661 310.22,228.976 315.748,225.291 \n",
       "  \n",
       "  \"/>\n",
       "<polyline clip-path=\"url(#clip02)\" style=\"stroke:#e26f46; stroke-width:1; stroke-opacity:1; fill:none\" points=\"\n",
       "  44.8976,192.126 50.4252,188.441 55.9528,184.756 61.4803,181.071 67.0079,184.756 72.5354,188.441 78.063,192.126 83.5906,188.441 89.1181,192.126 94.6457,188.441 \n",
       "  100.173,192.126 105.701,195.811 111.228,192.126 116.756,188.441 122.283,192.126 127.811,188.441 133.339,192.126 138.866,195.811 144.394,199.496 149.921,203.181 \n",
       "  155.449,206.866 160.976,210.551 166.504,214.236 172.031,210.551 177.559,206.866 183.087,210.551 188.614,206.866 194.142,210.551 199.669,214.236 205.197,210.551 \n",
       "  210.724,214.236 216.252,210.551 221.78,206.866 227.307,210.551 232.835,214.236 238.362,217.921 243.89,221.606 249.417,225.291 254.945,228.976 260.472,232.661 \n",
       "  266,236.346 271.528,240.031 277.055,236.346 282.583,240.031 288.11,236.346 293.638,232.661 299.165,228.976 304.693,225.291 310.22,228.976 315.748,232.661 \n",
       "  \n",
       "  \"/>\n",
       "<polyline clip-path=\"url(#clip02)\" style=\"stroke:#3da44d; stroke-width:1; stroke-opacity:1; fill:none\" points=\"\n",
       "  44.8976,192.126 50.4252,188.441 55.9528,192.126 61.4803,188.441 67.0079,192.126 72.5354,188.441 78.063,192.126 83.5906,195.811 89.1181,192.126 94.6457,195.811 \n",
       "  100.173,199.496 105.701,195.811 111.228,192.126 116.756,188.441 122.283,184.756 127.811,188.441 133.339,184.756 138.866,188.441 144.394,184.756 149.921,181.071 \n",
       "  155.449,184.756 160.976,188.441 166.504,192.126 172.031,188.441 177.559,192.126 183.087,195.811 188.614,192.126 194.142,188.441 199.669,192.126 205.197,195.811 \n",
       "  210.724,199.496 216.252,203.181 221.78,199.496 227.307,195.811 232.835,192.126 238.362,188.441 243.89,184.756 249.417,181.071 254.945,177.386 260.472,173.701 \n",
       "  266,170.016 271.528,166.331 277.055,162.646 282.583,158.961 288.11,162.646 293.638,158.961 299.165,162.646 304.693,166.331 310.22,170.016 315.748,166.331 \n",
       "  \n",
       "  \"/>\n",
       "<polyline clip-path=\"url(#clip02)\" style=\"stroke:#c271d2; stroke-width:1; stroke-opacity:1; fill:none\" points=\"\n",
       "  44.8976,192.126 50.4252,195.811 55.9528,199.496 61.4803,203.181 67.0079,206.866 72.5354,210.551 78.063,206.866 83.5906,210.551 89.1181,214.236 94.6457,217.921 \n",
       "  100.173,221.606 105.701,225.291 111.228,228.976 116.756,225.291 122.283,228.976 127.811,232.661 133.339,228.976 138.866,232.661 144.394,228.976 149.921,225.291 \n",
       "  155.449,228.976 160.976,232.661 166.504,236.346 172.031,232.661 177.559,228.976 183.087,225.291 188.614,228.976 194.142,225.291 199.669,228.976 205.197,232.661 \n",
       "  210.724,236.346 216.252,232.661 221.78,236.346 227.307,240.031 232.835,243.717 238.362,240.031 243.89,243.717 249.417,240.031 254.945,236.346 260.472,232.661 \n",
       "  266,236.346 271.528,240.031 277.055,243.717 282.583,247.402 288.11,243.717 293.638,240.031 299.165,243.717 304.693,247.402 310.22,243.717 315.748,247.402 \n",
       "  \n",
       "  \"/>\n",
       "<polyline clip-path=\"url(#clip02)\" style=\"stroke:#ac8d18; stroke-width:1; stroke-opacity:1; fill:none\" points=\"\n",
       "  44.8976,192.126 50.4252,188.441 55.9528,192.126 61.4803,195.811 67.0079,199.496 72.5354,195.811 78.063,199.496 83.5906,203.181 89.1181,199.496 94.6457,195.811 \n",
       "  100.173,192.126 105.701,195.811 111.228,192.126 116.756,188.441 122.283,192.126 127.811,195.811 133.339,199.496 138.866,203.181 144.394,199.496 149.921,195.811 \n",
       "  155.449,199.496 160.976,203.181 166.504,199.496 172.031,195.811 177.559,192.126 183.087,195.811 188.614,192.126 194.142,195.811 199.669,199.496 205.197,203.181 \n",
       "  210.724,206.866 216.252,203.181 221.78,206.866 227.307,203.181 232.835,199.496 238.362,195.811 243.89,192.126 249.417,188.441 254.945,184.756 260.472,181.071 \n",
       "  266,177.386 271.528,181.071 277.055,177.386 282.583,173.701 288.11,177.386 293.638,181.071 299.165,177.386 304.693,181.071 310.22,177.386 315.748,173.701 \n",
       "  \n",
       "  \"/>\n",
       "<polyline clip-path=\"url(#clip02)\" style=\"stroke:#00a9ad; stroke-width:1; stroke-opacity:1; fill:none\" points=\"\n",
       "  44.8976,192.126 50.4252,195.811 55.9528,192.126 61.4803,188.441 67.0079,192.126 72.5354,188.441 78.063,192.126 83.5906,195.811 89.1181,199.496 94.6457,203.181 \n",
       "  100.173,206.866 105.701,203.181 111.228,206.866 116.756,203.181 122.283,199.496 127.811,195.811 133.339,192.126 138.866,195.811 144.394,199.496 149.921,203.181 \n",
       "  155.449,199.496 160.976,203.181 166.504,206.866 172.031,203.181 177.559,199.496 183.087,203.181 188.614,199.496 194.142,195.811 199.669,199.496 205.197,203.181 \n",
       "  210.724,199.496 216.252,195.811 221.78,199.496 227.307,195.811 232.835,199.496 238.362,195.811 243.89,192.126 249.417,188.441 254.945,192.126 260.472,195.811 \n",
       "  266,192.126 271.528,188.441 277.055,184.756 282.583,181.071 288.11,177.386 293.638,173.701 299.165,177.386 304.693,173.701 310.22,170.016 315.748,173.701 \n",
       "  \n",
       "  \"/>\n",
       "<polyline clip-path=\"url(#clip02)\" style=\"stroke:#ed5d92; stroke-width:1; stroke-opacity:1; fill:none\" points=\"\n",
       "  44.8976,192.126 50.4252,195.811 55.9528,199.496 61.4803,195.811 67.0079,192.126 72.5354,195.811 78.063,199.496 83.5906,203.181 89.1181,206.866 94.6457,210.551 \n",
       "  100.173,214.236 105.701,210.551 111.228,214.236 116.756,210.551 122.283,214.236 127.811,210.551 133.339,214.236 138.866,217.921 144.394,214.236 149.921,210.551 \n",
       "  155.449,214.236 160.976,217.921 166.504,214.236 172.031,217.921 177.559,214.236 183.087,210.551 188.614,214.236 194.142,210.551 199.669,206.866 205.197,210.551 \n",
       "  210.724,206.866 216.252,210.551 221.78,206.866 227.307,210.551 232.835,214.236 238.362,210.551 243.89,214.236 249.417,210.551 254.945,214.236 260.472,217.921 \n",
       "  266,221.606 271.528,217.921 277.055,214.236 282.583,217.921 288.11,221.606 293.638,225.291 299.165,221.606 304.693,217.921 310.22,221.606 315.748,217.921 \n",
       "  \n",
       "  \"/>\n",
       "<polyline clip-path=\"url(#clip02)\" style=\"stroke:#c68125; stroke-width:1; stroke-opacity:1; fill:none\" points=\"\n",
       "  44.8976,192.126 50.4252,188.441 55.9528,184.756 61.4803,188.441 67.0079,192.126 72.5354,188.441 78.063,184.756 83.5906,188.441 89.1181,192.126 94.6457,195.811 \n",
       "  100.173,199.496 105.701,195.811 111.228,199.496 116.756,195.811 122.283,199.496 127.811,195.811 133.339,199.496 138.866,195.811 144.394,199.496 149.921,195.811 \n",
       "  155.449,199.496 160.976,203.181 166.504,199.496 172.031,195.811 177.559,192.126 183.087,188.441 188.614,192.126 194.142,188.441 199.669,184.756 205.197,181.071 \n",
       "  210.724,177.386 216.252,173.701 221.78,170.016 227.307,173.701 232.835,170.016 238.362,166.331 243.89,162.646 249.417,166.331 254.945,170.016 260.472,166.331 \n",
       "  266,170.016 271.528,173.701 277.055,177.386 282.583,173.701 288.11,177.386 293.638,181.071 299.165,184.756 304.693,181.071 310.22,184.756 315.748,188.441 \n",
       "  \n",
       "  \"/>\n",
       "<polyline clip-path=\"url(#clip02)\" style=\"stroke:#00a98d; stroke-width:1; stroke-opacity:1; fill:none\" points=\"\n",
       "  44.8976,192.126 50.4252,195.811 55.9528,199.496 61.4803,203.181 67.0079,199.496 72.5354,203.181 78.063,206.866 83.5906,210.551 89.1181,214.236 94.6457,210.551 \n",
       "  100.173,206.866 105.701,203.181 111.228,206.866 116.756,203.181 122.283,199.496 127.811,203.181 133.339,199.496 138.866,195.811 144.394,199.496 149.921,203.181 \n",
       "  155.449,206.866 160.976,210.551 166.504,214.236 172.031,217.921 177.559,214.236 183.087,217.921 188.614,214.236 194.142,217.921 199.669,214.236 205.197,210.551 \n",
       "  210.724,206.866 216.252,203.181 221.78,206.866 227.307,210.551 232.835,206.866 238.362,203.181 243.89,199.496 249.417,195.811 254.945,192.126 260.472,188.441 \n",
       "  266,192.126 271.528,195.811 277.055,199.496 282.583,195.811 288.11,199.496 293.638,195.811 299.165,192.126 304.693,195.811 310.22,199.496 315.748,195.811 \n",
       "  \n",
       "  \"/>\n",
       "<polyline clip-path=\"url(#clip02)\" style=\"stroke:#8e971d; stroke-width:1; stroke-opacity:1; fill:none\" points=\"\n",
       "  44.8976,192.126 50.4252,195.811 55.9528,192.126 61.4803,195.811 67.0079,192.126 72.5354,188.441 78.063,192.126 83.5906,195.811 89.1181,199.496 94.6457,195.811 \n",
       "  100.173,192.126 105.701,188.441 111.228,192.126 116.756,195.811 122.283,199.496 127.811,203.181 133.339,199.496 138.866,203.181 144.394,206.866 149.921,203.181 \n",
       "  155.449,199.496 160.976,203.181 166.504,206.866 172.031,210.551 177.559,206.866 183.087,210.551 188.614,206.866 194.142,203.181 199.669,206.866 205.197,203.181 \n",
       "  210.724,206.866 216.252,210.551 221.78,206.866 227.307,203.181 232.835,199.496 238.362,195.811 243.89,199.496 249.417,195.811 254.945,199.496 260.472,195.811 \n",
       "  266,192.126 271.528,195.811 277.055,199.496 282.583,203.181 288.11,199.496 293.638,203.181 299.165,199.496 304.693,195.811 310.22,192.126 315.748,195.811 \n",
       "  \n",
       "  \"/>\n",
       "<polyline clip-path=\"url(#clip02)\" style=\"stroke:#00a8cb; stroke-width:1; stroke-opacity:1; fill:none\" points=\"\n",
       "  44.8976,192.126 50.4252,188.441 55.9528,184.756 61.4803,181.071 67.0079,177.386 72.5354,181.071 78.063,177.386 83.5906,181.071 89.1181,177.386 94.6457,173.701 \n",
       "  100.173,170.016 105.701,173.701 111.228,177.386 116.756,173.701 122.283,170.016 127.811,173.701 133.339,177.386 138.866,173.701 144.394,177.386 149.921,173.701 \n",
       "  155.449,170.016 160.976,173.701 166.504,170.016 172.031,166.331 177.559,162.646 183.087,158.961 188.614,162.646 194.142,158.961 199.669,162.646 205.197,166.331 \n",
       "  210.724,170.016 216.252,166.331 221.78,162.646 227.307,158.961 232.835,162.646 238.362,158.961 243.89,155.276 249.417,158.961 254.945,155.276 260.472,151.591 \n",
       "  266,147.906 271.528,144.22 277.055,140.535 282.583,144.22 288.11,140.535 293.638,144.22 299.165,140.535 304.693,144.22 310.22,140.535 315.748,144.22 \n",
       "  \n",
       "  \"/>\n",
       "<polyline clip-path=\"url(#clip02)\" style=\"stroke:#9b7fe8; stroke-width:1; stroke-opacity:1; fill:none\" points=\"\n",
       "  44.8976,192.126 50.4252,188.441 55.9528,192.126 61.4803,195.811 67.0079,192.126 72.5354,195.811 78.063,199.496 83.5906,195.811 89.1181,199.496 94.6457,195.811 \n",
       "  100.173,192.126 105.701,188.441 111.228,192.126 116.756,195.811 122.283,199.496 127.811,195.811 133.339,192.126 138.866,195.811 144.394,199.496 149.921,203.181 \n",
       "  155.449,199.496 160.976,203.181 166.504,199.496 172.031,195.811 177.559,192.126 183.087,188.441 188.614,192.126 194.142,195.811 199.669,199.496 205.197,203.181 \n",
       "  210.724,199.496 216.252,203.181 221.78,206.866 227.307,203.181 232.835,199.496 238.362,195.811 243.89,192.126 249.417,188.441 254.945,184.756 260.472,188.441 \n",
       "  266,192.126 271.528,188.441 277.055,184.756 282.583,188.441 288.11,184.756 293.638,181.071 299.165,184.756 304.693,188.441 310.22,184.756 315.748,188.441 \n",
       "  \n",
       "  \"/>\n",
       "<polyline clip-path=\"url(#clip02)\" style=\"stroke:#608cf6; stroke-width:1; stroke-opacity:1; fill:none\" points=\"\n",
       "  44.8976,192.126 50.4252,188.441 55.9528,184.756 61.4803,188.441 67.0079,192.126 72.5354,188.441 78.063,192.126 83.5906,188.441 89.1181,192.126 94.6457,195.811 \n",
       "  100.173,199.496 105.701,203.181 111.228,206.866 116.756,203.181 122.283,199.496 127.811,203.181 133.339,199.496 138.866,203.181 144.394,199.496 149.921,195.811 \n",
       "  155.449,192.126 160.976,195.811 166.504,192.126 172.031,188.441 177.559,192.126 183.087,195.811 188.614,199.496 194.142,203.181 199.669,206.866 205.197,210.551 \n",
       "  210.724,206.866 216.252,210.551 221.78,214.236 227.307,217.921 232.835,214.236 238.362,217.921 243.89,221.606 249.417,225.291 254.945,228.976 260.472,232.661 \n",
       "  266,236.346 271.528,232.661 277.055,236.346 282.583,240.031 288.11,236.346 293.638,240.031 299.165,236.346 304.693,240.031 310.22,236.346 315.748,232.661 \n",
       "  \n",
       "  \"/>\n",
       "<polyline clip-path=\"url(#clip02)\" style=\"stroke:#f05f73; stroke-width:1; stroke-opacity:1; fill:none\" points=\"\n",
       "  44.8976,192.126 50.4252,195.811 55.9528,199.496 61.4803,195.811 67.0079,199.496 72.5354,195.811 78.063,199.496 83.5906,203.181 89.1181,206.866 94.6457,203.181 \n",
       "  100.173,199.496 105.701,195.811 111.228,192.126 116.756,195.811 122.283,199.496 127.811,195.811 133.339,192.126 138.866,195.811 144.394,199.496 149.921,203.181 \n",
       "  155.449,206.866 160.976,210.551 166.504,206.866 172.031,210.551 177.559,214.236 183.087,217.921 188.614,214.236 194.142,210.551 199.669,206.866 205.197,210.551 \n",
       "  210.724,214.236 216.252,217.921 221.78,221.606 227.307,225.291 232.835,221.606 238.362,217.921 243.89,214.236 249.417,210.551 254.945,214.236 260.472,217.921 \n",
       "  266,221.606 271.528,225.291 277.055,228.976 282.583,225.291 288.11,228.976 293.638,225.291 299.165,228.976 304.693,232.661 310.22,228.976 315.748,225.291 \n",
       "  \n",
       "  \"/>\n",
       "<polyline clip-path=\"url(#clip02)\" style=\"stroke:#dd64b5; stroke-width:1; stroke-opacity:1; fill:none\" points=\"\n",
       "  44.8976,192.126 50.4252,195.811 55.9528,192.126 61.4803,195.811 67.0079,192.126 72.5354,188.441 78.063,192.126 83.5906,195.811 89.1181,192.126 94.6457,188.441 \n",
       "  100.173,192.126 105.701,195.811 111.228,199.496 116.756,195.811 122.283,192.126 127.811,195.811 133.339,199.496 138.866,195.811 144.394,199.496 149.921,195.811 \n",
       "  155.449,192.126 160.976,188.441 166.504,192.126 172.031,188.441 177.559,192.126 183.087,195.811 188.614,199.496 194.142,203.181 199.669,199.496 205.197,195.811 \n",
       "  210.724,192.126 216.252,188.441 221.78,192.126 227.307,195.811 232.835,192.126 238.362,195.811 243.89,199.496 249.417,195.811 254.945,199.496 260.472,203.181 \n",
       "  266,199.496 271.528,195.811 277.055,192.126 282.583,188.441 288.11,184.756 293.638,181.071 299.165,184.756 304.693,181.071 310.22,177.386 315.748,181.071 \n",
       "  \n",
       "  \"/>\n",
       "<polyline clip-path=\"url(#clip02)\" style=\"stroke:#6b9e32; stroke-width:1; stroke-opacity:1; fill:none\" points=\"\n",
       "  44.8976,192.126 50.4252,195.811 55.9528,192.126 61.4803,195.811 67.0079,192.126 72.5354,195.811 78.063,199.496 83.5906,195.811 89.1181,192.126 94.6457,188.441 \n",
       "  100.173,184.756 105.701,181.071 111.228,184.756 116.756,188.441 122.283,184.756 127.811,188.441 133.339,184.756 138.866,188.441 144.394,192.126 149.921,195.811 \n",
       "  155.449,199.496 160.976,203.181 166.504,199.496 172.031,203.181 177.559,206.866 183.087,203.181 188.614,206.866 194.142,210.551 199.669,214.236 205.197,217.921 \n",
       "  210.724,214.236 216.252,217.921 221.78,221.606 227.307,217.921 232.835,221.606 238.362,225.291 243.89,228.976 249.417,232.661 254.945,236.346 260.472,240.031 \n",
       "  266,236.346 271.528,240.031 277.055,236.346 282.583,232.661 288.11,236.346 293.638,232.661 299.165,236.346 304.693,232.661 310.22,236.346 315.748,232.661 \n",
       "  \n",
       "  \"/>\n",
       "<polyline clip-path=\"url(#clip02)\" style=\"stroke:#718c69; stroke-width:1; stroke-opacity:1; fill:none\" points=\"\n",
       "  44.8976,192.126 50.4252,188.441 55.9528,184.756 61.4803,188.441 67.0079,192.126 72.5354,188.441 78.063,184.756 83.5906,181.071 89.1181,177.386 94.6457,181.071 \n",
       "  100.173,184.756 105.701,181.071 111.228,184.756 116.756,188.441 122.283,192.126 127.811,188.441 133.339,192.126 138.866,195.811 144.394,199.496 149.921,195.811 \n",
       "  155.449,199.496 160.976,203.181 166.504,206.866 172.031,203.181 177.559,199.496 183.087,195.811 188.614,199.496 194.142,203.181 199.669,199.496 205.197,203.181 \n",
       "  210.724,206.866 216.252,203.181 221.78,199.496 227.307,203.181 232.835,199.496 238.362,195.811 243.89,199.496 249.417,203.181 254.945,206.866 260.472,210.551 \n",
       "  266,214.236 271.528,217.921 277.055,214.236 282.583,210.551 288.11,214.236 293.638,217.921 299.165,214.236 304.693,210.551 310.22,206.866 315.748,210.551 \n",
       "  \n",
       "  \"/>\n",
       "<polyline clip-path=\"url(#clip02)\" style=\"stroke:#47988b; stroke-width:1; stroke-opacity:1; fill:none\" points=\"\n",
       "  44.8976,192.126 50.4252,188.441 55.9528,192.126 61.4803,195.811 67.0079,192.126 72.5354,195.811 78.063,199.496 83.5906,195.811 89.1181,192.126 94.6457,188.441 \n",
       "  100.173,192.126 105.701,188.441 111.228,184.756 116.756,181.071 122.283,177.386 127.811,173.701 133.339,170.016 138.866,166.331 144.394,162.646 149.921,158.961 \n",
       "  155.449,155.276 160.976,151.591 166.504,147.906 172.031,144.22 177.559,140.535 183.087,144.22 188.614,140.535 194.142,144.22 199.669,147.906 205.197,151.591 \n",
       "  210.724,155.276 216.252,151.591 221.78,155.276 227.307,151.591 232.835,147.906 238.362,144.22 243.89,147.906 249.417,144.22 254.945,147.906 260.472,144.22 \n",
       "  266,147.906 271.528,151.591 277.055,147.906 282.583,151.591 288.11,147.906 293.638,144.22 299.165,147.906 304.693,151.591 310.22,155.276 315.748,158.961 \n",
       "  \n",
       "  \"/>\n",
       "<polyline clip-path=\"url(#clip02)\" style=\"stroke:#1ea68c; stroke-width:1; stroke-opacity:1; fill:none\" points=\"\n",
       "  44.8976,192.126 50.4252,188.441 55.9528,184.756 61.4803,181.071 67.0079,177.386 72.5354,173.701 78.063,170.016 83.5906,166.331 89.1181,170.016 94.6457,166.331 \n",
       "  100.173,162.646 105.701,166.331 111.228,162.646 116.756,158.961 122.283,162.646 127.811,166.331 133.339,162.646 138.866,158.961 144.394,162.646 149.921,166.331 \n",
       "  155.449,170.016 160.976,173.701 166.504,177.386 172.031,173.701 177.559,170.016 183.087,173.701 188.614,177.386 194.142,181.071 199.669,177.386 205.197,181.071 \n",
       "  210.724,184.756 216.252,188.441 221.78,184.756 227.307,188.441 232.835,192.126 238.362,195.811 243.89,199.496 249.417,195.811 254.945,199.496 260.472,195.811 \n",
       "  266,192.126 271.528,188.441 277.055,184.756 282.583,188.441 288.11,192.126 293.638,195.811 299.165,192.126 304.693,188.441 310.22,184.756 315.748,188.441 \n",
       "  \n",
       "  \"/>\n",
       "<polyline clip-path=\"url(#clip02)\" style=\"stroke:#af78dd; stroke-width:1; stroke-opacity:1; fill:none\" points=\"\n",
       "  44.8976,192.126 50.4252,195.811 55.9528,192.126 61.4803,188.441 67.0079,192.126 72.5354,188.441 78.063,192.126 83.5906,195.811 89.1181,199.496 94.6457,195.811 \n",
       "  100.173,199.496 105.701,195.811 111.228,192.126 116.756,188.441 122.283,192.126 127.811,195.811 133.339,192.126 138.866,188.441 144.394,192.126 149.921,195.811 \n",
       "  155.449,199.496 160.976,195.811 166.504,192.126 172.031,188.441 177.559,192.126 183.087,195.811 188.614,199.496 194.142,203.181 199.669,199.496 205.197,195.811 \n",
       "  210.724,192.126 216.252,195.811 221.78,199.496 227.307,195.811 232.835,192.126 238.362,188.441 243.89,192.126 249.417,195.811 254.945,199.496 260.472,203.181 \n",
       "  266,206.866 271.528,210.551 277.055,206.866 282.583,203.181 288.11,199.496 293.638,203.181 299.165,199.496 304.693,195.811 310.22,192.126 315.748,188.441 \n",
       "  \n",
       "  \"/>\n",
       "<polyline clip-path=\"url(#clip02)\" style=\"stroke:#868d87; stroke-width:1; stroke-opacity:1; fill:none\" points=\"\n",
       "  44.8976,192.126 50.4252,188.441 55.9528,184.756 61.4803,181.071 67.0079,184.756 72.5354,188.441 78.063,184.756 83.5906,188.441 89.1181,192.126 94.6457,188.441 \n",
       "  100.173,192.126 105.701,188.441 111.228,184.756 116.756,188.441 122.283,184.756 127.811,188.441 133.339,192.126 138.866,188.441 144.394,184.756 149.921,188.441 \n",
       "  155.449,184.756 160.976,188.441 166.504,184.756 172.031,181.071 177.559,177.386 183.087,181.071 188.614,184.756 194.142,181.071 199.669,184.756 205.197,188.441 \n",
       "  210.724,192.126 216.252,195.811 221.78,199.496 227.307,195.811 232.835,199.496 238.362,195.811 243.89,192.126 249.417,188.441 254.945,192.126 260.472,195.811 \n",
       "  266,192.126 271.528,195.811 277.055,192.126 282.583,188.441 288.11,184.756 293.638,181.071 299.165,184.756 304.693,188.441 310.22,192.126 315.748,195.811 \n",
       "  \n",
       "  \"/>\n",
       "<polyline clip-path=\"url(#clip02)\" style=\"stroke:#47a065; stroke-width:1; stroke-opacity:1; fill:none\" points=\"\n",
       "  44.8976,192.126 50.4252,195.811 55.9528,199.496 61.4803,203.181 67.0079,199.496 72.5354,203.181 78.063,199.496 83.5906,203.181 89.1181,199.496 94.6457,195.811 \n",
       "  100.173,199.496 105.701,203.181 111.228,199.496 116.756,203.181 122.283,199.496 127.811,203.181 133.339,199.496 138.866,195.811 144.394,192.126 149.921,188.441 \n",
       "  155.449,192.126 160.976,195.811 166.504,192.126 172.031,188.441 177.559,192.126 183.087,188.441 188.614,192.126 194.142,188.441 199.669,184.756 205.197,188.441 \n",
       "  210.724,192.126 216.252,195.811 221.78,192.126 227.307,188.441 232.835,192.126 238.362,195.811 243.89,192.126 249.417,195.811 254.945,192.126 260.472,195.811 \n",
       "  266,199.496 271.528,203.181 277.055,199.496 282.583,195.811 288.11,199.496 293.638,195.811 299.165,192.126 304.693,195.811 310.22,199.496 315.748,203.181 \n",
       "  \n",
       "  \"/>\n",
       "<polyline clip-path=\"url(#clip02)\" style=\"stroke:#7683af; stroke-width:1; stroke-opacity:1; fill:none\" points=\"\n",
       "  44.8976,192.126 50.4252,195.811 55.9528,192.126 61.4803,195.811 67.0079,192.126 72.5354,195.811 78.063,199.496 83.5906,203.181 89.1181,199.496 94.6457,195.811 \n",
       "  100.173,199.496 105.701,195.811 111.228,199.496 116.756,203.181 122.283,199.496 127.811,195.811 133.339,199.496 138.866,203.181 144.394,199.496 149.921,195.811 \n",
       "  155.449,192.126 160.976,195.811 166.504,192.126 172.031,195.811 177.559,199.496 183.087,203.181 188.614,199.496 194.142,195.811 199.669,199.496 205.197,195.811 \n",
       "  210.724,199.496 216.252,203.181 221.78,206.866 227.307,210.551 232.835,206.866 238.362,210.551 243.89,206.866 249.417,210.551 254.945,214.236 260.472,217.921 \n",
       "  266,221.606 271.528,225.291 277.055,221.606 282.583,225.291 288.11,221.606 293.638,217.921 299.165,221.606 304.693,225.291 310.22,228.976 315.748,225.291 \n",
       "  \n",
       "  \"/>\n",
       "<polyline clip-path=\"url(#clip02)\" style=\"stroke:#b08086; stroke-width:1; stroke-opacity:1; fill:none\" points=\"\n",
       "  44.8976,192.126 50.4252,188.441 55.9528,184.756 61.4803,181.071 67.0079,184.756 72.5354,188.441 78.063,184.756 83.5906,181.071 89.1181,177.386 94.6457,173.701 \n",
       "  100.173,177.386 105.701,173.701 111.228,170.016 116.756,173.701 122.283,177.386 127.811,173.701 133.339,177.386 138.866,173.701 144.394,177.386 149.921,181.071 \n",
       "  155.449,184.756 160.976,188.441 166.504,184.756 172.031,188.441 177.559,192.126 183.087,188.441 188.614,184.756 194.142,181.071 199.669,177.386 205.197,173.701 \n",
       "  210.724,170.016 216.252,173.701 221.78,170.016 227.307,173.701 232.835,170.016 238.362,173.701 243.89,170.016 249.417,166.331 254.945,162.646 260.472,158.961 \n",
       "  266,162.646 271.528,166.331 277.055,162.646 282.583,158.961 288.11,162.646 293.638,166.331 299.165,162.646 304.693,158.961 310.22,162.646 315.748,166.331 \n",
       "  \n",
       "  \"/>\n",
       "<polyline clip-path=\"url(#clip02)\" style=\"stroke:#309ac1; stroke-width:1; stroke-opacity:1; fill:none\" points=\"\n",
       "  44.8976,192.126 50.4252,188.441 55.9528,184.756 61.4803,181.071 67.0079,184.756 72.5354,188.441 78.063,192.126 83.5906,188.441 89.1181,192.126 94.6457,195.811 \n",
       "  100.173,192.126 105.701,195.811 111.228,199.496 116.756,203.181 122.283,199.496 127.811,195.811 133.339,199.496 138.866,195.811 144.394,199.496 149.921,203.181 \n",
       "  155.449,206.866 160.976,210.551 166.504,214.236 172.031,210.551 177.559,214.236 183.087,217.921 188.614,221.606 194.142,225.291 199.669,221.606 205.197,225.291 \n",
       "  210.724,221.606 216.252,225.291 221.78,221.606 227.307,225.291 232.835,221.606 238.362,225.291 243.89,228.976 249.417,225.291 254.945,228.976 260.472,225.291 \n",
       "  266,228.976 271.528,225.291 277.055,221.606 282.583,217.921 288.11,214.236 293.638,210.551 299.165,214.236 304.693,210.551 310.22,214.236 315.748,210.551 \n",
       "  \n",
       "  \"/>\n",
       "<polyline clip-path=\"url(#clip02)\" style=\"stroke:#788490; stroke-width:1; stroke-opacity:1; fill:none\" points=\"\n",
       "  44.8976,192.126 50.4252,195.811 55.9528,192.126 61.4803,188.441 67.0079,192.126 72.5354,188.441 78.063,184.756 83.5906,188.441 89.1181,192.126 94.6457,188.441 \n",
       "  100.173,184.756 105.701,188.441 111.228,184.756 116.756,181.071 122.283,177.386 127.811,181.071 133.339,184.756 138.866,188.441 144.394,192.126 149.921,195.811 \n",
       "  155.449,199.496 160.976,195.811 166.504,192.126 172.031,195.811 177.559,199.496 183.087,195.811 188.614,192.126 194.142,188.441 199.669,192.126 205.197,188.441 \n",
       "  210.724,184.756 216.252,188.441 221.78,192.126 227.307,188.441 232.835,192.126 238.362,188.441 243.89,184.756 249.417,181.071 254.945,177.386 260.472,181.071 \n",
       "  266,184.756 271.528,188.441 277.055,184.756 282.583,181.071 288.11,184.756 293.638,181.071 299.165,177.386 304.693,173.701 310.22,170.016 315.748,173.701 \n",
       "  \n",
       "  \"/>\n",
       "<polyline clip-path=\"url(#clip02)\" style=\"stroke:#e561a4; stroke-width:1; stroke-opacity:1; fill:none\" points=\"\n",
       "  44.8976,192.126 50.4252,188.441 55.9528,184.756 61.4803,188.441 67.0079,184.756 72.5354,181.071 78.063,177.386 83.5906,181.071 89.1181,177.386 94.6457,173.701 \n",
       "  100.173,170.016 105.701,173.701 111.228,170.016 116.756,166.331 122.283,162.646 127.811,158.961 133.339,155.276 138.866,158.961 144.394,162.646 149.921,166.331 \n",
       "  155.449,170.016 160.976,173.701 166.504,170.016 172.031,173.701 177.559,177.386 183.087,181.071 188.614,184.756 194.142,188.441 199.669,184.756 205.197,188.441 \n",
       "  210.724,192.126 216.252,195.811 221.78,192.126 227.307,188.441 232.835,192.126 238.362,195.811 243.89,199.496 249.417,203.181 254.945,199.496 260.472,195.811 \n",
       "  266,199.496 271.528,195.811 277.055,192.126 282.583,188.441 288.11,192.126 293.638,195.811 299.165,199.496 304.693,195.811 310.22,199.496 315.748,195.811 \n",
       "  \n",
       "  \"/>\n",
       "<polyline clip-path=\"url(#clip02)\" style=\"stroke:#99902c; stroke-width:1; stroke-opacity:1; fill:none\" points=\"\n",
       "  44.8976,192.126 50.4252,188.441 55.9528,184.756 61.4803,181.071 67.0079,177.386 72.5354,173.701 78.063,177.386 83.5906,173.701 89.1181,177.386 94.6457,181.071 \n",
       "  100.173,184.756 105.701,188.441 111.228,192.126 116.756,188.441 122.283,184.756 127.811,188.441 133.339,192.126 138.866,188.441 144.394,192.126 149.921,188.441 \n",
       "  155.449,184.756 160.976,188.441 166.504,184.756 172.031,181.071 177.559,177.386 183.087,173.701 188.614,170.016 194.142,166.331 199.669,170.016 205.197,173.701 \n",
       "  210.724,177.386 216.252,173.701 221.78,170.016 227.307,173.701 232.835,177.386 238.362,181.071 243.89,177.386 249.417,181.071 254.945,177.386 260.472,181.071 \n",
       "  266,177.386 271.528,173.701 277.055,170.016 282.583,173.701 288.11,170.016 293.638,173.701 299.165,177.386 304.693,173.701 310.22,170.016 315.748,166.331 \n",
       "  \n",
       "  \"/>\n",
       "<polyline clip-path=\"url(#clip02)\" style=\"stroke:#389a7b; stroke-width:1; stroke-opacity:1; fill:none\" points=\"\n",
       "  44.8976,192.126 50.4252,195.811 55.9528,199.496 61.4803,195.811 67.0079,199.496 72.5354,203.181 78.063,199.496 83.5906,203.181 89.1181,206.866 94.6457,203.181 \n",
       "  100.173,199.496 105.701,203.181 111.228,199.496 116.756,195.811 122.283,199.496 127.811,203.181 133.339,206.866 138.866,210.551 144.394,206.866 149.921,203.181 \n",
       "  155.449,206.866 160.976,210.551 166.504,206.866 172.031,210.551 177.559,206.866 183.087,203.181 188.614,199.496 194.142,203.181 199.669,206.866 205.197,203.181 \n",
       "  210.724,206.866 216.252,210.551 221.78,206.866 227.307,203.181 232.835,199.496 238.362,195.811 243.89,199.496 249.417,203.181 254.945,199.496 260.472,203.181 \n",
       "  266,206.866 271.528,210.551 277.055,214.236 282.583,210.551 288.11,206.866 293.638,210.551 299.165,214.236 304.693,210.551 310.22,206.866 315.748,210.551 \n",
       "  \n",
       "  \"/>\n",
       "<polyline clip-path=\"url(#clip02)\" style=\"stroke:#d968a2; stroke-width:1; stroke-opacity:1; fill:none\" points=\"\n",
       "  44.8976,192.126 50.4252,188.441 55.9528,184.756 61.4803,188.441 67.0079,192.126 72.5354,195.811 78.063,199.496 83.5906,203.181 89.1181,206.866 94.6457,210.551 \n",
       "  100.173,214.236 105.701,217.921 111.228,214.236 116.756,217.921 122.283,221.606 127.811,225.291 133.339,228.976 138.866,225.291 144.394,221.606 149.921,225.291 \n",
       "  155.449,221.606 160.976,225.291 166.504,221.606 172.031,225.291 177.559,221.606 183.087,225.291 188.614,221.606 194.142,225.291 199.669,221.606 205.197,225.291 \n",
       "  210.724,221.606 216.252,225.291 221.78,221.606 227.307,225.291 232.835,228.976 238.362,225.291 243.89,221.606 249.417,225.291 254.945,228.976 260.472,225.291 \n",
       "  266,228.976 271.528,225.291 277.055,221.606 282.583,217.921 288.11,221.606 293.638,217.921 299.165,214.236 304.693,217.921 310.22,221.606 315.748,225.291 \n",
       "  \n",
       "  \"/>\n",
       "<polyline clip-path=\"url(#clip02)\" style=\"stroke:#009af9; stroke-width:1; stroke-opacity:1; fill:none\" points=\"\n",
       "  44.8976,192.126 50.4252,195.811 55.9528,199.496 61.4803,203.181 67.0079,199.496 72.5354,203.181 78.063,199.496 83.5906,203.181 89.1181,206.866 94.6457,210.551 \n",
       "  100.173,214.236 105.701,210.551 111.228,214.236 116.756,217.921 122.283,221.606 127.811,217.921 133.339,221.606 138.866,225.291 144.394,221.606 149.921,225.291 \n",
       "  155.449,228.976 160.976,232.661 166.504,236.346 172.031,240.031 177.559,243.717 183.087,247.402 188.614,243.717 194.142,240.031 199.669,236.346 205.197,240.031 \n",
       "  210.724,236.346 216.252,240.031 221.78,236.346 227.307,232.661 232.835,228.976 238.362,232.661 243.89,228.976 249.417,225.291 254.945,221.606 260.472,225.291 \n",
       "  266,228.976 271.528,225.291 277.055,228.976 282.583,225.291 288.11,221.606 293.638,217.921 299.165,214.236 304.693,217.921 310.22,221.606 315.748,217.921 \n",
       "  \n",
       "  \"/>\n",
       "<polyline clip-path=\"url(#clip02)\" style=\"stroke:#e26f46; stroke-width:1; stroke-opacity:1; fill:none\" points=\"\n",
       "  44.8976,192.126 50.4252,188.441 55.9528,184.756 61.4803,188.441 67.0079,192.126 72.5354,195.811 78.063,192.126 83.5906,188.441 89.1181,192.126 94.6457,188.441 \n",
       "  100.173,184.756 105.701,188.441 111.228,184.756 116.756,188.441 122.283,184.756 127.811,188.441 133.339,192.126 138.866,195.811 144.394,192.126 149.921,188.441 \n",
       "  155.449,184.756 160.976,181.071 166.504,177.386 172.031,173.701 177.559,170.016 183.087,166.331 188.614,162.646 194.142,166.331 199.669,170.016 205.197,173.701 \n",
       "  210.724,170.016 216.252,173.701 221.78,170.016 227.307,166.331 232.835,162.646 238.362,158.961 243.89,162.646 249.417,166.331 254.945,170.016 260.472,173.701 \n",
       "  266,177.386 271.528,173.701 277.055,170.016 282.583,173.701 288.11,177.386 293.638,181.071 299.165,177.386 304.693,181.071 310.22,184.756 315.748,181.071 \n",
       "  \n",
       "  \"/>\n",
       "<polyline clip-path=\"url(#clip02)\" style=\"stroke:#3da44d; stroke-width:1; stroke-opacity:1; fill:none\" points=\"\n",
       "  44.8976,192.126 50.4252,195.811 55.9528,192.126 61.4803,195.811 67.0079,199.496 72.5354,195.811 78.063,199.496 83.5906,203.181 89.1181,199.496 94.6457,195.811 \n",
       "  100.173,192.126 105.701,188.441 111.228,184.756 116.756,188.441 122.283,192.126 127.811,188.441 133.339,184.756 138.866,181.071 144.394,177.386 149.921,173.701 \n",
       "  155.449,170.016 160.976,173.701 166.504,177.386 172.031,173.701 177.559,170.016 183.087,173.701 188.614,170.016 194.142,166.331 199.669,170.016 205.197,166.331 \n",
       "  210.724,162.646 216.252,158.961 221.78,162.646 227.307,166.331 232.835,162.646 238.362,158.961 243.89,162.646 249.417,158.961 254.945,162.646 260.472,166.331 \n",
       "  266,170.016 271.528,173.701 277.055,170.016 282.583,173.701 288.11,177.386 293.638,181.071 299.165,184.756 304.693,181.071 310.22,177.386 315.748,181.071 \n",
       "  \n",
       "  \"/>\n",
       "<polyline clip-path=\"url(#clip02)\" style=\"stroke:#c271d2; stroke-width:1; stroke-opacity:1; fill:none\" points=\"\n",
       "  44.8976,192.126 50.4252,195.811 55.9528,199.496 61.4803,195.811 67.0079,192.126 72.5354,195.811 78.063,199.496 83.5906,195.811 89.1181,192.126 94.6457,188.441 \n",
       "  100.173,192.126 105.701,188.441 111.228,192.126 116.756,195.811 122.283,199.496 127.811,195.811 133.339,199.496 138.866,203.181 144.394,206.866 149.921,210.551 \n",
       "  155.449,206.866 160.976,203.181 166.504,199.496 172.031,195.811 177.559,192.126 183.087,188.441 188.614,184.756 194.142,181.071 199.669,177.386 205.197,173.701 \n",
       "  210.724,170.016 216.252,166.331 221.78,170.016 227.307,166.331 232.835,162.646 238.362,166.331 243.89,162.646 249.417,166.331 254.945,162.646 260.472,166.331 \n",
       "  266,162.646 271.528,166.331 277.055,162.646 282.583,166.331 288.11,170.016 293.638,173.701 299.165,170.016 304.693,173.701 310.22,170.016 315.748,166.331 \n",
       "  \n",
       "  \"/>\n",
       "<polyline clip-path=\"url(#clip02)\" style=\"stroke:#ac8d18; stroke-width:1; stroke-opacity:1; fill:none\" points=\"\n",
       "  44.8976,192.126 50.4252,188.441 55.9528,192.126 61.4803,188.441 67.0079,192.126 72.5354,195.811 78.063,192.126 83.5906,195.811 89.1181,192.126 94.6457,195.811 \n",
       "  100.173,199.496 105.701,195.811 111.228,199.496 116.756,195.811 122.283,199.496 127.811,195.811 133.339,192.126 138.866,195.811 144.394,199.496 149.921,203.181 \n",
       "  155.449,206.866 160.976,210.551 166.504,214.236 172.031,210.551 177.559,206.866 183.087,203.181 188.614,206.866 194.142,203.181 199.669,199.496 205.197,195.811 \n",
       "  210.724,199.496 216.252,195.811 221.78,199.496 227.307,195.811 232.835,199.496 238.362,195.811 243.89,192.126 249.417,188.441 254.945,184.756 260.472,181.071 \n",
       "  266,184.756 271.528,188.441 277.055,192.126 282.583,188.441 288.11,184.756 293.638,188.441 299.165,184.756 304.693,188.441 310.22,184.756 315.748,188.441 \n",
       "  \n",
       "  \"/>\n",
       "<polyline clip-path=\"url(#clip02)\" style=\"stroke:#00a9ad; stroke-width:1; stroke-opacity:1; fill:none\" points=\"\n",
       "  44.8976,192.126 50.4252,188.441 55.9528,192.126 61.4803,195.811 67.0079,192.126 72.5354,188.441 78.063,184.756 83.5906,188.441 89.1181,192.126 94.6457,195.811 \n",
       "  100.173,199.496 105.701,203.181 111.228,206.866 116.756,203.181 122.283,206.866 127.811,210.551 133.339,214.236 138.866,210.551 144.394,214.236 149.921,210.551 \n",
       "  155.449,214.236 160.976,217.921 166.504,214.236 172.031,210.551 177.559,206.866 183.087,210.551 188.614,214.236 194.142,217.921 199.669,214.236 205.197,210.551 \n",
       "  210.724,206.866 216.252,203.181 221.78,206.866 227.307,203.181 232.835,199.496 238.362,195.811 243.89,199.496 249.417,203.181 254.945,199.496 260.472,203.181 \n",
       "  266,206.866 271.528,203.181 277.055,199.496 282.583,195.811 288.11,192.126 293.638,195.811 299.165,192.126 304.693,195.811 310.22,199.496 315.748,203.181 \n",
       "  \n",
       "  \"/>\n",
       "<polyline clip-path=\"url(#clip02)\" style=\"stroke:#ed5d92; stroke-width:1; stroke-opacity:1; fill:none\" points=\"\n",
       "  44.8976,192.126 50.4252,188.441 55.9528,184.756 61.4803,181.071 67.0079,177.386 72.5354,181.071 78.063,177.386 83.5906,173.701 89.1181,170.016 94.6457,173.701 \n",
       "  100.173,177.386 105.701,173.701 111.228,170.016 116.756,173.701 122.283,177.386 127.811,181.071 133.339,177.386 138.866,173.701 144.394,177.386 149.921,173.701 \n",
       "  155.449,170.016 160.976,173.701 166.504,177.386 172.031,173.701 177.559,177.386 183.087,173.701 188.614,170.016 194.142,166.331 199.669,170.016 205.197,173.701 \n",
       "  210.724,170.016 216.252,173.701 221.78,177.386 227.307,173.701 232.835,177.386 238.362,173.701 243.89,170.016 249.417,173.701 254.945,177.386 260.472,173.701 \n",
       "  266,170.016 271.528,173.701 277.055,170.016 282.583,173.701 288.11,177.386 293.638,181.071 299.165,184.756 304.693,188.441 310.22,184.756 315.748,188.441 \n",
       "  \n",
       "  \"/>\n",
       "<polyline clip-path=\"url(#clip02)\" style=\"stroke:#c68125; stroke-width:1; stroke-opacity:1; fill:none\" points=\"\n",
       "  44.8976,192.126 50.4252,188.441 55.9528,184.756 61.4803,181.071 67.0079,184.756 72.5354,188.441 78.063,192.126 83.5906,195.811 89.1181,192.126 94.6457,195.811 \n",
       "  100.173,192.126 105.701,195.811 111.228,199.496 116.756,195.811 122.283,192.126 127.811,195.811 133.339,192.126 138.866,195.811 144.394,192.126 149.921,195.811 \n",
       "  155.449,199.496 160.976,195.811 166.504,192.126 172.031,188.441 177.559,184.756 183.087,188.441 188.614,192.126 194.142,195.811 199.669,192.126 205.197,195.811 \n",
       "  210.724,192.126 216.252,195.811 221.78,192.126 227.307,195.811 232.835,192.126 238.362,188.441 243.89,192.126 249.417,195.811 254.945,199.496 260.472,203.181 \n",
       "  266,206.866 271.528,210.551 277.055,214.236 282.583,210.551 288.11,214.236 293.638,217.921 299.165,221.606 304.693,225.291 310.22,228.976 315.748,232.661 \n",
       "  \n",
       "  \"/>\n",
       "<polyline clip-path=\"url(#clip02)\" style=\"stroke:#00a98d; stroke-width:1; stroke-opacity:1; fill:none\" points=\"\n",
       "  44.8976,192.126 50.4252,188.441 55.9528,192.126 61.4803,195.811 67.0079,199.496 72.5354,203.181 78.063,206.866 83.5906,203.181 89.1181,206.866 94.6457,203.181 \n",
       "  100.173,206.866 105.701,203.181 111.228,199.496 116.756,203.181 122.283,199.496 127.811,203.181 133.339,199.496 138.866,195.811 144.394,199.496 149.921,203.181 \n",
       "  155.449,206.866 160.976,203.181 166.504,199.496 172.031,203.181 177.559,199.496 183.087,203.181 188.614,206.866 194.142,203.181 199.669,199.496 205.197,195.811 \n",
       "  210.724,192.126 216.252,188.441 221.78,192.126 227.307,195.811 232.835,192.126 238.362,195.811 243.89,192.126 249.417,188.441 254.945,192.126 260.472,188.441 \n",
       "  266,184.756 271.528,181.071 277.055,177.386 282.583,173.701 288.11,177.386 293.638,173.701 299.165,177.386 304.693,173.701 310.22,170.016 315.748,173.701 \n",
       "  \n",
       "  \"/>\n",
       "<polyline clip-path=\"url(#clip02)\" style=\"stroke:#8e971d; stroke-width:1; stroke-opacity:1; fill:none\" points=\"\n",
       "  44.8976,192.126 50.4252,195.811 55.9528,199.496 61.4803,203.181 67.0079,206.866 72.5354,210.551 78.063,214.236 83.5906,217.921 89.1181,221.606 94.6457,217.921 \n",
       "  100.173,214.236 105.701,217.921 111.228,214.236 116.756,217.921 122.283,221.606 127.811,217.921 133.339,214.236 138.866,217.921 144.394,214.236 149.921,217.921 \n",
       "  155.449,214.236 160.976,210.551 166.504,206.866 172.031,210.551 177.559,206.866 183.087,203.181 188.614,199.496 194.142,203.181 199.669,206.866 205.197,203.181 \n",
       "  210.724,199.496 216.252,195.811 221.78,199.496 227.307,203.181 232.835,199.496 238.362,203.181 243.89,206.866 249.417,210.551 254.945,214.236 260.472,217.921 \n",
       "  266,214.236 271.528,210.551 277.055,214.236 282.583,210.551 288.11,214.236 293.638,210.551 299.165,214.236 304.693,217.921 310.22,221.606 315.748,225.291 \n",
       "  \n",
       "  \"/>\n",
       "<polyline clip-path=\"url(#clip02)\" style=\"stroke:#00a8cb; stroke-width:1; stroke-opacity:1; fill:none\" points=\"\n",
       "  44.8976,192.126 50.4252,195.811 55.9528,192.126 61.4803,188.441 67.0079,184.756 72.5354,188.441 78.063,184.756 83.5906,181.071 89.1181,177.386 94.6457,181.071 \n",
       "  100.173,177.386 105.701,173.701 111.228,170.016 116.756,173.701 122.283,170.016 127.811,166.331 133.339,170.016 138.866,173.701 144.394,177.386 149.921,181.071 \n",
       "  155.449,177.386 160.976,173.701 166.504,170.016 172.031,166.331 177.559,162.646 183.087,166.331 188.614,170.016 194.142,173.701 199.669,177.386 205.197,173.701 \n",
       "  210.724,177.386 216.252,173.701 221.78,177.386 227.307,181.071 232.835,184.756 238.362,188.441 243.89,184.756 249.417,181.071 254.945,184.756 260.472,188.441 \n",
       "  266,184.756 271.528,181.071 277.055,177.386 282.583,181.071 288.11,184.756 293.638,181.071 299.165,184.756 304.693,181.071 310.22,184.756 315.748,181.071 \n",
       "  \n",
       "  \"/>\n",
       "<polyline clip-path=\"url(#clip02)\" style=\"stroke:#9b7fe8; stroke-width:1; stroke-opacity:1; fill:none\" points=\"\n",
       "  44.8976,192.126 50.4252,195.811 55.9528,199.496 61.4803,195.811 67.0079,199.496 72.5354,203.181 78.063,199.496 83.5906,195.811 89.1181,199.496 94.6457,195.811 \n",
       "  100.173,199.496 105.701,195.811 111.228,192.126 116.756,195.811 122.283,199.496 127.811,195.811 133.339,199.496 138.866,203.181 144.394,206.866 149.921,203.181 \n",
       "  155.449,206.866 160.976,210.551 166.504,214.236 172.031,217.921 177.559,221.606 183.087,225.291 188.614,221.606 194.142,225.291 199.669,221.606 205.197,217.921 \n",
       "  210.724,214.236 216.252,217.921 221.78,221.606 227.307,217.921 232.835,221.606 238.362,217.921 243.89,221.606 249.417,217.921 254.945,214.236 260.472,210.551 \n",
       "  266,214.236 271.528,210.551 277.055,206.866 282.583,210.551 288.11,214.236 293.638,210.551 299.165,214.236 304.693,217.921 310.22,214.236 315.748,217.921 \n",
       "  \n",
       "  \"/>\n",
       "<polyline clip-path=\"url(#clip02)\" style=\"stroke:#608cf6; stroke-width:1; stroke-opacity:1; fill:none\" points=\"\n",
       "  44.8976,192.126 50.4252,195.811 55.9528,192.126 61.4803,195.811 67.0079,199.496 72.5354,203.181 78.063,206.866 83.5906,210.551 89.1181,214.236 94.6457,210.551 \n",
       "  100.173,214.236 105.701,217.921 111.228,221.606 116.756,225.291 122.283,228.976 127.811,232.661 133.339,228.976 138.866,232.661 144.394,228.976 149.921,225.291 \n",
       "  155.449,228.976 160.976,225.291 166.504,221.606 172.031,225.291 177.559,228.976 183.087,232.661 188.614,236.346 194.142,240.031 199.669,243.717 205.197,240.031 \n",
       "  210.724,236.346 216.252,232.661 221.78,228.976 227.307,225.291 232.835,221.606 238.362,225.291 243.89,228.976 249.417,225.291 254.945,221.606 260.472,217.921 \n",
       "  266,221.606 271.528,217.921 277.055,214.236 282.583,217.921 288.11,221.606 293.638,225.291 299.165,228.976 304.693,225.291 310.22,221.606 315.748,225.291 \n",
       "  \n",
       "  \"/>\n",
       "<polyline clip-path=\"url(#clip02)\" style=\"stroke:#f05f73; stroke-width:1; stroke-opacity:1; fill:none\" points=\"\n",
       "  44.8976,192.126 50.4252,195.811 55.9528,192.126 61.4803,195.811 67.0079,199.496 72.5354,195.811 78.063,192.126 83.5906,195.811 89.1181,192.126 94.6457,195.811 \n",
       "  100.173,192.126 105.701,188.441 111.228,192.126 116.756,188.441 122.283,184.756 127.811,181.071 133.339,177.386 138.866,181.071 144.394,177.386 149.921,181.071 \n",
       "  155.449,177.386 160.976,181.071 166.504,184.756 172.031,181.071 177.559,184.756 183.087,188.441 188.614,184.756 194.142,188.441 199.669,184.756 205.197,188.441 \n",
       "  210.724,184.756 216.252,181.071 221.78,177.386 227.307,173.701 232.835,170.016 238.362,166.331 243.89,162.646 249.417,166.331 254.945,162.646 260.472,158.961 \n",
       "  266,155.276 271.528,151.591 277.055,155.276 282.583,158.961 288.11,155.276 293.638,158.961 299.165,162.646 304.693,166.331 310.22,162.646 315.748,166.331 \n",
       "  \n",
       "  \"/>\n",
       "<polyline clip-path=\"url(#clip02)\" style=\"stroke:#dd64b5; stroke-width:1; stroke-opacity:1; fill:none\" points=\"\n",
       "  44.8976,192.126 50.4252,195.811 55.9528,192.126 61.4803,195.811 67.0079,199.496 72.5354,203.181 78.063,206.866 83.5906,210.551 89.1181,214.236 94.6457,210.551 \n",
       "  100.173,214.236 105.701,217.921 111.228,214.236 116.756,210.551 122.283,214.236 127.811,217.921 133.339,221.606 138.866,217.921 144.394,221.606 149.921,217.921 \n",
       "  155.449,214.236 160.976,217.921 166.504,214.236 172.031,210.551 177.559,206.866 183.087,203.181 188.614,199.496 194.142,195.811 199.669,192.126 205.197,188.441 \n",
       "  210.724,192.126 216.252,188.441 221.78,184.756 227.307,188.441 232.835,192.126 238.362,188.441 243.89,184.756 249.417,188.441 254.945,192.126 260.472,188.441 \n",
       "  266,184.756 271.528,181.071 277.055,177.386 282.583,181.071 288.11,184.756 293.638,188.441 299.165,192.126 304.693,195.811 310.22,199.496 315.748,203.181 \n",
       "  \n",
       "  \"/>\n",
       "<polyline clip-path=\"url(#clip02)\" style=\"stroke:#6b9e32; stroke-width:1; stroke-opacity:1; fill:none\" points=\"\n",
       "  44.8976,192.126 50.4252,195.811 55.9528,192.126 61.4803,195.811 67.0079,192.126 72.5354,188.441 78.063,192.126 83.5906,195.811 89.1181,199.496 94.6457,195.811 \n",
       "  100.173,199.496 105.701,203.181 111.228,199.496 116.756,203.181 122.283,206.866 127.811,210.551 133.339,214.236 138.866,217.921 144.394,214.236 149.921,210.551 \n",
       "  155.449,214.236 160.976,217.921 166.504,214.236 172.031,217.921 177.559,214.236 183.087,217.921 188.614,214.236 194.142,217.921 199.669,214.236 205.197,210.551 \n",
       "  210.724,214.236 216.252,210.551 221.78,206.866 227.307,203.181 232.835,199.496 238.362,195.811 243.89,192.126 249.417,195.811 254.945,199.496 260.472,195.811 \n",
       "  266,199.496 271.528,195.811 277.055,199.496 282.583,195.811 288.11,199.496 293.638,195.811 299.165,199.496 304.693,195.811 310.22,192.126 315.748,195.811 \n",
       "  \n",
       "  \"/>\n",
       "<polyline clip-path=\"url(#clip02)\" style=\"stroke:#718c69; stroke-width:1; stroke-opacity:1; fill:none\" points=\"\n",
       "  44.8976,192.126 50.4252,195.811 55.9528,199.496 61.4803,203.181 67.0079,206.866 72.5354,203.181 78.063,206.866 83.5906,210.551 89.1181,206.866 94.6457,210.551 \n",
       "  100.173,206.866 105.701,203.181 111.228,199.496 116.756,195.811 122.283,192.126 127.811,195.811 133.339,192.126 138.866,195.811 144.394,192.126 149.921,195.811 \n",
       "  155.449,192.126 160.976,195.811 166.504,199.496 172.031,195.811 177.559,192.126 183.087,188.441 188.614,184.756 194.142,181.071 199.669,184.756 205.197,188.441 \n",
       "  210.724,192.126 216.252,195.811 221.78,199.496 227.307,203.181 232.835,206.866 238.362,203.181 243.89,206.866 249.417,203.181 254.945,199.496 260.472,195.811 \n",
       "  266,192.126 271.528,188.441 277.055,184.756 282.583,181.071 288.11,177.386 293.638,173.701 299.165,177.386 304.693,173.701 310.22,177.386 315.748,173.701 \n",
       "  \n",
       "  \"/>\n",
       "<polyline clip-path=\"url(#clip02)\" style=\"stroke:#47988b; stroke-width:1; stroke-opacity:1; fill:none\" points=\"\n",
       "  44.8976,192.126 50.4252,195.811 55.9528,192.126 61.4803,195.811 67.0079,192.126 72.5354,195.811 78.063,192.126 83.5906,195.811 89.1181,192.126 94.6457,188.441 \n",
       "  100.173,184.756 105.701,188.441 111.228,192.126 116.756,188.441 122.283,184.756 127.811,188.441 133.339,192.126 138.866,188.441 144.394,184.756 149.921,181.071 \n",
       "  155.449,177.386 160.976,181.071 166.504,177.386 172.031,181.071 177.559,184.756 183.087,188.441 188.614,184.756 194.142,188.441 199.669,184.756 205.197,181.071 \n",
       "  210.724,184.756 216.252,181.071 221.78,184.756 227.307,188.441 232.835,192.126 238.362,195.811 243.89,192.126 249.417,188.441 254.945,184.756 260.472,188.441 \n",
       "  266,184.756 271.528,188.441 277.055,192.126 282.583,195.811 288.11,199.496 293.638,203.181 299.165,206.866 304.693,203.181 310.22,206.866 315.748,203.181 \n",
       "  \n",
       "  \"/>\n",
       "<polyline clip-path=\"url(#clip02)\" style=\"stroke:#1ea68c; stroke-width:1; stroke-opacity:1; fill:none\" points=\"\n",
       "  44.8976,192.126 50.4252,188.441 55.9528,184.756 61.4803,181.071 67.0079,177.386 72.5354,173.701 78.063,170.016 83.5906,166.331 89.1181,162.646 94.6457,166.331 \n",
       "  100.173,170.016 105.701,166.331 111.228,170.016 116.756,166.331 122.283,162.646 127.811,158.961 133.339,162.646 138.866,158.961 144.394,162.646 149.921,166.331 \n",
       "  155.449,162.646 160.976,158.961 166.504,155.276 172.031,151.591 177.559,147.906 183.087,144.22 188.614,140.535 194.142,136.85 199.669,133.165 205.197,129.48 \n",
       "  210.724,133.165 216.252,129.48 221.78,125.795 227.307,129.48 232.835,133.165 238.362,129.48 243.89,125.795 249.417,122.11 254.945,118.425 260.472,122.11 \n",
       "  266,125.795 271.528,129.48 277.055,133.165 282.583,136.85 288.11,133.165 293.638,129.48 299.165,125.795 304.693,122.11 310.22,125.795 315.748,122.11 \n",
       "  \n",
       "  \"/>\n",
       "<polyline clip-path=\"url(#clip02)\" style=\"stroke:#af78dd; stroke-width:1; stroke-opacity:1; fill:none\" points=\"\n",
       "  44.8976,192.126 50.4252,188.441 55.9528,184.756 61.4803,188.441 67.0079,184.756 72.5354,188.441 78.063,192.126 83.5906,195.811 89.1181,192.126 94.6457,195.811 \n",
       "  100.173,199.496 105.701,203.181 111.228,199.496 116.756,203.181 122.283,199.496 127.811,203.181 133.339,206.866 138.866,210.551 144.394,214.236 149.921,217.921 \n",
       "  155.449,221.606 160.976,225.291 166.504,228.976 172.031,232.661 177.559,236.346 183.087,232.661 188.614,228.976 194.142,225.291 199.669,228.976 205.197,232.661 \n",
       "  210.724,236.346 216.252,240.031 221.78,243.717 227.307,240.031 232.835,236.346 238.362,240.031 243.89,243.717 249.417,247.402 254.945,251.087 260.472,247.402 \n",
       "  266,243.717 271.528,247.402 277.055,251.087 282.583,247.402 288.11,251.087 293.638,247.402 299.165,243.717 304.693,247.402 310.22,251.087 315.748,247.402 \n",
       "  \n",
       "  \"/>\n",
       "<polyline clip-path=\"url(#clip02)\" style=\"stroke:#868d87; stroke-width:1; stroke-opacity:1; fill:none\" points=\"\n",
       "  44.8976,192.126 50.4252,195.811 55.9528,192.126 61.4803,195.811 67.0079,199.496 72.5354,203.181 78.063,206.866 83.5906,210.551 89.1181,214.236 94.6457,217.921 \n",
       "  100.173,214.236 105.701,210.551 111.228,206.866 116.756,203.181 122.283,199.496 127.811,203.181 133.339,206.866 138.866,203.181 144.394,199.496 149.921,195.811 \n",
       "  155.449,199.496 160.976,195.811 166.504,199.496 172.031,203.181 177.559,206.866 183.087,210.551 188.614,206.866 194.142,203.181 199.669,206.866 205.197,203.181 \n",
       "  210.724,206.866 216.252,203.181 221.78,199.496 227.307,195.811 232.835,199.496 238.362,203.181 243.89,199.496 249.417,203.181 254.945,199.496 260.472,195.811 \n",
       "  266,192.126 271.528,195.811 277.055,192.126 282.583,195.811 288.11,192.126 293.638,195.811 299.165,199.496 304.693,203.181 310.22,206.866 315.748,203.181 \n",
       "  \n",
       "  \"/>\n",
       "<polyline clip-path=\"url(#clip02)\" style=\"stroke:#47a065; stroke-width:1; stroke-opacity:1; fill:none\" points=\"\n",
       "  44.8976,192.126 50.4252,195.811 55.9528,192.126 61.4803,195.811 67.0079,192.126 72.5354,188.441 78.063,184.756 83.5906,181.071 89.1181,184.756 94.6457,188.441 \n",
       "  100.173,184.756 105.701,188.441 111.228,184.756 116.756,188.441 122.283,192.126 127.811,188.441 133.339,192.126 138.866,195.811 144.394,192.126 149.921,188.441 \n",
       "  155.449,192.126 160.976,195.811 166.504,199.496 172.031,195.811 177.559,199.496 183.087,195.811 188.614,199.496 194.142,195.811 199.669,199.496 205.197,203.181 \n",
       "  210.724,199.496 216.252,195.811 221.78,192.126 227.307,188.441 232.835,192.126 238.362,195.811 243.89,192.126 249.417,195.811 254.945,192.126 260.472,188.441 \n",
       "  266,192.126 271.528,188.441 277.055,192.126 282.583,195.811 288.11,192.126 293.638,188.441 299.165,184.756 304.693,188.441 310.22,184.756 315.748,188.441 \n",
       "  \n",
       "  \"/>\n",
       "<polyline clip-path=\"url(#clip02)\" style=\"stroke:#7683af; stroke-width:1; stroke-opacity:1; fill:none\" points=\"\n",
       "  44.8976,192.126 50.4252,195.811 55.9528,199.496 61.4803,195.811 67.0079,199.496 72.5354,195.811 78.063,192.126 83.5906,195.811 89.1181,199.496 94.6457,203.181 \n",
       "  100.173,199.496 105.701,195.811 111.228,192.126 116.756,188.441 122.283,184.756 127.811,188.441 133.339,184.756 138.866,188.441 144.394,192.126 149.921,188.441 \n",
       "  155.449,192.126 160.976,188.441 166.504,192.126 172.031,188.441 177.559,184.756 183.087,188.441 188.614,192.126 194.142,188.441 199.669,184.756 205.197,181.071 \n",
       "  210.724,184.756 216.252,181.071 221.78,177.386 227.307,181.071 232.835,177.386 238.362,181.071 243.89,184.756 249.417,181.071 254.945,184.756 260.472,188.441 \n",
       "  266,192.126 271.528,195.811 277.055,199.496 282.583,203.181 288.11,206.866 293.638,210.551 299.165,214.236 304.693,210.551 310.22,206.866 315.748,210.551 \n",
       "  \n",
       "  \"/>\n",
       "<polyline clip-path=\"url(#clip02)\" style=\"stroke:#b08086; stroke-width:1; stroke-opacity:1; fill:none\" points=\"\n",
       "  44.8976,192.126 50.4252,188.441 55.9528,184.756 61.4803,181.071 67.0079,184.756 72.5354,188.441 78.063,192.126 83.5906,195.811 89.1181,199.496 94.6457,195.811 \n",
       "  100.173,192.126 105.701,188.441 111.228,192.126 116.756,195.811 122.283,192.126 127.811,188.441 133.339,184.756 138.866,188.441 144.394,192.126 149.921,188.441 \n",
       "  155.449,192.126 160.976,195.811 166.504,192.126 172.031,188.441 177.559,192.126 183.087,195.811 188.614,192.126 194.142,188.441 199.669,184.756 205.197,188.441 \n",
       "  210.724,184.756 216.252,181.071 221.78,177.386 227.307,181.071 232.835,177.386 238.362,173.701 243.89,177.386 249.417,173.701 254.945,170.016 260.472,166.331 \n",
       "  266,170.016 271.528,173.701 277.055,177.386 282.583,173.701 288.11,177.386 293.638,173.701 299.165,170.016 304.693,166.331 310.22,170.016 315.748,166.331 \n",
       "  \n",
       "  \"/>\n",
       "<polyline clip-path=\"url(#clip02)\" style=\"stroke:#309ac1; stroke-width:1; stroke-opacity:1; fill:none\" points=\"\n",
       "  44.8976,192.126 50.4252,195.811 55.9528,192.126 61.4803,195.811 67.0079,192.126 72.5354,195.811 78.063,199.496 83.5906,195.811 89.1181,192.126 94.6457,195.811 \n",
       "  100.173,199.496 105.701,195.811 111.228,199.496 116.756,195.811 122.283,192.126 127.811,195.811 133.339,192.126 138.866,195.811 144.394,192.126 149.921,188.441 \n",
       "  155.449,192.126 160.976,188.441 166.504,192.126 172.031,188.441 177.559,184.756 183.087,188.441 188.614,192.126 194.142,195.811 199.669,199.496 205.197,203.181 \n",
       "  210.724,199.496 216.252,203.181 221.78,206.866 227.307,203.181 232.835,206.866 238.362,210.551 243.89,206.866 249.417,203.181 254.945,206.866 260.472,210.551 \n",
       "  266,206.866 271.528,203.181 277.055,199.496 282.583,195.811 288.11,192.126 293.638,195.811 299.165,199.496 304.693,195.811 310.22,199.496 315.748,195.811 \n",
       "  \n",
       "  \"/>\n",
       "<polyline clip-path=\"url(#clip02)\" style=\"stroke:#788490; stroke-width:1; stroke-opacity:1; fill:none\" points=\"\n",
       "  44.8976,192.126 50.4252,195.811 55.9528,199.496 61.4803,203.181 67.0079,199.496 72.5354,203.181 78.063,206.866 83.5906,210.551 89.1181,206.866 94.6457,203.181 \n",
       "  100.173,199.496 105.701,203.181 111.228,199.496 116.756,203.181 122.283,206.866 127.811,203.181 133.339,199.496 138.866,203.181 144.394,199.496 149.921,195.811 \n",
       "  155.449,192.126 160.976,188.441 166.504,184.756 172.031,188.441 177.559,184.756 183.087,181.071 188.614,184.756 194.142,181.071 199.669,184.756 205.197,188.441 \n",
       "  210.724,184.756 216.252,181.071 221.78,184.756 227.307,188.441 232.835,192.126 238.362,188.441 243.89,192.126 249.417,188.441 254.945,192.126 260.472,188.441 \n",
       "  266,184.756 271.528,181.071 277.055,184.756 282.583,181.071 288.11,184.756 293.638,188.441 299.165,192.126 304.693,195.811 310.22,199.496 315.748,203.181 \n",
       "  \n",
       "  \"/>\n",
       "<polyline clip-path=\"url(#clip02)\" style=\"stroke:#e561a4; stroke-width:1; stroke-opacity:1; fill:none\" points=\"\n",
       "  44.8976,192.126 50.4252,195.811 55.9528,199.496 61.4803,195.811 67.0079,192.126 72.5354,195.811 78.063,199.496 83.5906,195.811 89.1181,192.126 94.6457,195.811 \n",
       "  100.173,199.496 105.701,195.811 111.228,192.126 116.756,188.441 122.283,184.756 127.811,181.071 133.339,177.386 138.866,173.701 144.394,177.386 149.921,181.071 \n",
       "  155.449,184.756 160.976,188.441 166.504,192.126 172.031,188.441 177.559,192.126 183.087,188.441 188.614,192.126 194.142,188.441 199.669,192.126 205.197,195.811 \n",
       "  210.724,192.126 216.252,195.811 221.78,199.496 227.307,203.181 232.835,206.866 238.362,210.551 243.89,206.866 249.417,210.551 254.945,206.866 260.472,210.551 \n",
       "  266,206.866 271.528,210.551 277.055,214.236 282.583,210.551 288.11,206.866 293.638,203.181 299.165,206.866 304.693,203.181 310.22,206.866 315.748,210.551 \n",
       "  \n",
       "  \"/>\n",
       "<polyline clip-path=\"url(#clip02)\" style=\"stroke:#99902c; stroke-width:1; stroke-opacity:1; fill:none\" points=\"\n",
       "  44.8976,192.126 50.4252,195.811 55.9528,192.126 61.4803,188.441 67.0079,184.756 72.5354,188.441 78.063,192.126 83.5906,195.811 89.1181,192.126 94.6457,195.811 \n",
       "  100.173,192.126 105.701,195.811 111.228,192.126 116.756,188.441 122.283,184.756 127.811,188.441 133.339,184.756 138.866,181.071 144.394,184.756 149.921,188.441 \n",
       "  155.449,184.756 160.976,188.441 166.504,184.756 172.031,181.071 177.559,184.756 183.087,181.071 188.614,177.386 194.142,173.701 199.669,170.016 205.197,173.701 \n",
       "  210.724,177.386 216.252,173.701 221.78,170.016 227.307,173.701 232.835,177.386 238.362,173.701 243.89,177.386 249.417,173.701 254.945,170.016 260.472,166.331 \n",
       "  266,170.016 271.528,166.331 277.055,170.016 282.583,166.331 288.11,162.646 293.638,166.331 299.165,162.646 304.693,166.331 310.22,162.646 315.748,166.331 \n",
       "  \n",
       "  \"/>\n",
       "<polyline clip-path=\"url(#clip02)\" style=\"stroke:#389a7b; stroke-width:1; stroke-opacity:1; fill:none\" points=\"\n",
       "  44.8976,192.126 50.4252,195.811 55.9528,192.126 61.4803,188.441 67.0079,184.756 72.5354,181.071 78.063,177.386 83.5906,181.071 89.1181,177.386 94.6457,181.071 \n",
       "  100.173,184.756 105.701,188.441 111.228,192.126 116.756,195.811 122.283,192.126 127.811,188.441 133.339,184.756 138.866,188.441 144.394,184.756 149.921,188.441 \n",
       "  155.449,184.756 160.976,181.071 166.504,184.756 172.031,181.071 177.559,184.756 183.087,188.441 188.614,192.126 194.142,195.811 199.669,199.496 205.197,203.181 \n",
       "  210.724,206.866 216.252,203.181 221.78,199.496 227.307,195.811 232.835,192.126 238.362,188.441 243.89,192.126 249.417,188.441 254.945,184.756 260.472,188.441 \n",
       "  266,184.756 271.528,181.071 277.055,177.386 282.583,181.071 288.11,177.386 293.638,173.701 299.165,177.386 304.693,173.701 310.22,177.386 315.748,181.071 \n",
       "  \n",
       "  \"/>\n",
       "<polyline clip-path=\"url(#clip02)\" style=\"stroke:#d968a2; stroke-width:1; stroke-opacity:1; fill:none\" points=\"\n",
       "  44.8976,192.126 50.4252,188.441 55.9528,184.756 61.4803,188.441 67.0079,192.126 72.5354,188.441 78.063,192.126 83.5906,188.441 89.1181,184.756 94.6457,181.071 \n",
       "  100.173,184.756 105.701,181.071 111.228,184.756 116.756,188.441 122.283,184.756 127.811,181.071 133.339,177.386 138.866,173.701 144.394,170.016 149.921,173.701 \n",
       "  155.449,170.016 160.976,173.701 166.504,170.016 172.031,173.701 177.559,170.016 183.087,173.701 188.614,177.386 194.142,181.071 199.669,177.386 205.197,173.701 \n",
       "  210.724,170.016 216.252,173.701 221.78,170.016 227.307,173.701 232.835,170.016 238.362,173.701 243.89,170.016 249.417,166.331 254.945,162.646 260.472,166.331 \n",
       "  266,170.016 271.528,173.701 277.055,177.386 282.583,173.701 288.11,170.016 293.638,166.331 299.165,162.646 304.693,158.961 310.22,162.646 315.748,166.331 \n",
       "  \n",
       "  \"/>\n",
       "<polyline clip-path=\"url(#clip02)\" style=\"stroke:#009af9; stroke-width:1; stroke-opacity:1; fill:none\" points=\"\n",
       "  44.8976,192.126 50.4252,188.441 55.9528,184.756 61.4803,181.071 67.0079,177.386 72.5354,173.701 78.063,177.386 83.5906,173.701 89.1181,177.386 94.6457,181.071 \n",
       "  100.173,177.386 105.701,181.071 111.228,177.386 116.756,173.701 122.283,170.016 127.811,166.331 133.339,170.016 138.866,173.701 144.394,177.386 149.921,173.701 \n",
       "  155.449,170.016 160.976,173.701 166.504,170.016 172.031,166.331 177.559,162.646 183.087,158.961 188.614,155.276 194.142,158.961 199.669,162.646 205.197,158.961 \n",
       "  210.724,162.646 216.252,166.331 221.78,170.016 227.307,166.331 232.835,170.016 238.362,166.331 243.89,170.016 249.417,166.331 254.945,170.016 260.472,173.701 \n",
       "  266,177.386 271.528,173.701 277.055,177.386 282.583,173.701 288.11,170.016 293.638,166.331 299.165,170.016 304.693,166.331 310.22,170.016 315.748,173.701 \n",
       "  \n",
       "  \"/>\n",
       "<polyline clip-path=\"url(#clip02)\" style=\"stroke:#e26f46; stroke-width:1; stroke-opacity:1; fill:none\" points=\"\n",
       "  44.8976,192.126 50.4252,195.811 55.9528,192.126 61.4803,188.441 67.0079,184.756 72.5354,181.071 78.063,177.386 83.5906,181.071 89.1181,184.756 94.6457,181.071 \n",
       "  100.173,184.756 105.701,181.071 111.228,177.386 116.756,173.701 122.283,170.016 127.811,173.701 133.339,170.016 138.866,173.701 144.394,170.016 149.921,173.701 \n",
       "  155.449,177.386 160.976,181.071 166.504,177.386 172.031,181.071 177.559,184.756 183.087,188.441 188.614,184.756 194.142,188.441 199.669,192.126 205.197,195.811 \n",
       "  210.724,192.126 216.252,195.811 221.78,192.126 227.307,195.811 232.835,192.126 238.362,195.811 243.89,199.496 249.417,195.811 254.945,192.126 260.472,188.441 \n",
       "  266,192.126 271.528,188.441 277.055,184.756 282.583,188.441 288.11,192.126 293.638,188.441 299.165,192.126 304.693,195.811 310.22,199.496 315.748,195.811 \n",
       "  \n",
       "  \"/>\n",
       "<polyline clip-path=\"url(#clip02)\" style=\"stroke:#3da44d; stroke-width:1; stroke-opacity:1; fill:none\" points=\"\n",
       "  44.8976,192.126 50.4252,195.811 55.9528,199.496 61.4803,195.811 67.0079,199.496 72.5354,203.181 78.063,206.866 83.5906,203.181 89.1181,199.496 94.6457,203.181 \n",
       "  100.173,199.496 105.701,203.181 111.228,206.866 116.756,210.551 122.283,206.866 127.811,210.551 133.339,214.236 138.866,210.551 144.394,214.236 149.921,210.551 \n",
       "  155.449,214.236 160.976,210.551 166.504,214.236 172.031,210.551 177.559,206.866 183.087,203.181 188.614,206.866 194.142,210.551 199.669,214.236 205.197,210.551 \n",
       "  210.724,206.866 216.252,203.181 221.78,206.866 227.307,210.551 232.835,214.236 238.362,210.551 243.89,206.866 249.417,210.551 254.945,214.236 260.472,217.921 \n",
       "  266,221.606 271.528,225.291 277.055,221.606 282.583,225.291 288.11,228.976 293.638,225.291 299.165,221.606 304.693,217.921 310.22,221.606 315.748,217.921 \n",
       "  \n",
       "  \"/>\n",
       "<polyline clip-path=\"url(#clip02)\" style=\"stroke:#c271d2; stroke-width:1; stroke-opacity:1; fill:none\" points=\"\n",
       "  44.8976,192.126 50.4252,188.441 55.9528,192.126 61.4803,195.811 67.0079,199.496 72.5354,203.181 78.063,199.496 83.5906,203.181 89.1181,206.866 94.6457,210.551 \n",
       "  100.173,206.866 105.701,203.181 111.228,199.496 116.756,195.811 122.283,192.126 127.811,188.441 133.339,184.756 138.866,181.071 144.394,177.386 149.921,173.701 \n",
       "  155.449,170.016 160.976,173.701 166.504,170.016 172.031,173.701 177.559,170.016 183.087,166.331 188.614,170.016 194.142,166.331 199.669,170.016 205.197,166.331 \n",
       "  210.724,162.646 216.252,166.331 221.78,170.016 227.307,173.701 232.835,170.016 238.362,173.701 243.89,170.016 249.417,166.331 254.945,170.016 260.472,173.701 \n",
       "  266,170.016 271.528,173.701 277.055,177.386 282.583,173.701 288.11,177.386 293.638,181.071 299.165,177.386 304.693,173.701 310.22,170.016 315.748,173.701 \n",
       "  \n",
       "  \"/>\n",
       "<polyline clip-path=\"url(#clip02)\" style=\"stroke:#ac8d18; stroke-width:1; stroke-opacity:1; fill:none\" points=\"\n",
       "  44.8976,192.126 50.4252,188.441 55.9528,192.126 61.4803,195.811 67.0079,192.126 72.5354,195.811 78.063,192.126 83.5906,188.441 89.1181,192.126 94.6457,195.811 \n",
       "  100.173,199.496 105.701,195.811 111.228,192.126 116.756,188.441 122.283,184.756 127.811,188.441 133.339,192.126 138.866,195.811 144.394,199.496 149.921,195.811 \n",
       "  155.449,192.126 160.976,188.441 166.504,184.756 172.031,181.071 177.559,184.756 183.087,181.071 188.614,184.756 194.142,181.071 199.669,177.386 205.197,181.071 \n",
       "  210.724,177.386 216.252,173.701 221.78,170.016 227.307,173.701 232.835,170.016 238.362,166.331 243.89,162.646 249.417,166.331 254.945,162.646 260.472,166.331 \n",
       "  266,170.016 271.528,173.701 277.055,170.016 282.583,173.701 288.11,170.016 293.638,166.331 299.165,170.016 304.693,166.331 310.22,162.646 315.748,158.961 \n",
       "  \n",
       "  \"/>\n",
       "<polyline clip-path=\"url(#clip02)\" style=\"stroke:#00a9ad; stroke-width:1; stroke-opacity:1; fill:none\" points=\"\n",
       "  44.8976,192.126 50.4252,195.811 55.9528,199.496 61.4803,203.181 67.0079,206.866 72.5354,203.181 78.063,206.866 83.5906,210.551 89.1181,206.866 94.6457,203.181 \n",
       "  100.173,206.866 105.701,210.551 111.228,214.236 116.756,217.921 122.283,221.606 127.811,217.921 133.339,214.236 138.866,217.921 144.394,221.606 149.921,225.291 \n",
       "  155.449,221.606 160.976,225.291 166.504,228.976 172.031,232.661 177.559,236.346 183.087,232.661 188.614,236.346 194.142,232.661 199.669,236.346 205.197,232.661 \n",
       "  210.724,228.976 216.252,232.661 221.78,228.976 227.307,232.661 232.835,228.976 238.362,232.661 243.89,236.346 249.417,232.661 254.945,228.976 260.472,232.661 \n",
       "  266,236.346 271.528,240.031 277.055,236.346 282.583,232.661 288.11,228.976 293.638,232.661 299.165,236.346 304.693,240.031 310.22,236.346 315.748,232.661 \n",
       "  \n",
       "  \"/>\n",
       "<polyline clip-path=\"url(#clip02)\" style=\"stroke:#ed5d92; stroke-width:1; stroke-opacity:1; fill:none\" points=\"\n",
       "  44.8976,192.126 50.4252,195.811 55.9528,192.126 61.4803,195.811 67.0079,192.126 72.5354,188.441 78.063,192.126 83.5906,188.441 89.1181,192.126 94.6457,195.811 \n",
       "  100.173,199.496 105.701,195.811 111.228,199.496 116.756,203.181 122.283,199.496 127.811,203.181 133.339,199.496 138.866,195.811 144.394,199.496 149.921,203.181 \n",
       "  155.449,199.496 160.976,203.181 166.504,199.496 172.031,195.811 177.559,192.126 183.087,195.811 188.614,192.126 194.142,188.441 199.669,192.126 205.197,195.811 \n",
       "  210.724,199.496 216.252,203.181 221.78,206.866 227.307,203.181 232.835,206.866 238.362,210.551 243.89,206.866 249.417,203.181 254.945,206.866 260.472,203.181 \n",
       "  266,199.496 271.528,195.811 277.055,199.496 282.583,203.181 288.11,199.496 293.638,195.811 299.165,199.496 304.693,203.181 310.22,199.496 315.748,195.811 \n",
       "  \n",
       "  \"/>\n",
       "<polyline clip-path=\"url(#clip02)\" style=\"stroke:#c68125; stroke-width:1; stroke-opacity:1; fill:none\" points=\"\n",
       "  44.8976,192.126 50.4252,195.811 55.9528,199.496 61.4803,195.811 67.0079,192.126 72.5354,188.441 78.063,192.126 83.5906,188.441 89.1181,184.756 94.6457,188.441 \n",
       "  100.173,192.126 105.701,188.441 111.228,192.126 116.756,188.441 122.283,184.756 127.811,181.071 133.339,177.386 138.866,181.071 144.394,177.386 149.921,181.071 \n",
       "  155.449,184.756 160.976,181.071 166.504,177.386 172.031,173.701 177.559,170.016 183.087,166.331 188.614,170.016 194.142,166.331 199.669,162.646 205.197,166.331 \n",
       "  210.724,162.646 216.252,158.961 221.78,155.276 227.307,151.591 232.835,155.276 238.362,158.961 243.89,162.646 249.417,158.961 254.945,162.646 260.472,166.331 \n",
       "  266,162.646 271.528,166.331 277.055,162.646 282.583,158.961 288.11,155.276 293.638,158.961 299.165,162.646 304.693,166.331 310.22,162.646 315.748,158.961 \n",
       "  \n",
       "  \"/>\n",
       "<polyline clip-path=\"url(#clip02)\" style=\"stroke:#00a98d; stroke-width:1; stroke-opacity:1; fill:none\" points=\"\n",
       "  44.8976,192.126 50.4252,195.811 55.9528,192.126 61.4803,188.441 67.0079,184.756 72.5354,188.441 78.063,184.756 83.5906,181.071 89.1181,177.386 94.6457,181.071 \n",
       "  100.173,184.756 105.701,188.441 111.228,184.756 116.756,188.441 122.283,184.756 127.811,181.071 133.339,184.756 138.866,188.441 144.394,192.126 149.921,188.441 \n",
       "  155.449,192.126 160.976,188.441 166.504,184.756 172.031,188.441 177.559,184.756 183.087,188.441 188.614,192.126 194.142,195.811 199.669,199.496 205.197,195.811 \n",
       "  210.724,192.126 216.252,188.441 221.78,192.126 227.307,195.811 232.835,199.496 238.362,203.181 243.89,199.496 249.417,195.811 254.945,192.126 260.472,195.811 \n",
       "  266,192.126 271.528,195.811 277.055,192.126 282.583,195.811 288.11,199.496 293.638,203.181 299.165,199.496 304.693,203.181 310.22,206.866 315.748,210.551 \n",
       "  \n",
       "  \"/>\n",
       "<polyline clip-path=\"url(#clip02)\" style=\"stroke:#8e971d; stroke-width:1; stroke-opacity:1; fill:none\" points=\"\n",
       "  44.8976,192.126 50.4252,188.441 55.9528,192.126 61.4803,188.441 67.0079,184.756 72.5354,181.071 78.063,177.386 83.5906,173.701 89.1181,177.386 94.6457,181.071 \n",
       "  100.173,184.756 105.701,188.441 111.228,184.756 116.756,188.441 122.283,192.126 127.811,188.441 133.339,192.126 138.866,195.811 144.394,199.496 149.921,203.181 \n",
       "  155.449,199.496 160.976,203.181 166.504,206.866 172.031,210.551 177.559,206.866 183.087,203.181 188.614,206.866 194.142,203.181 199.669,206.866 205.197,203.181 \n",
       "  210.724,206.866 216.252,210.551 221.78,206.866 227.307,210.551 232.835,214.236 238.362,217.921 243.89,221.606 249.417,225.291 254.945,228.976 260.472,225.291 \n",
       "  266,228.976 271.528,232.661 277.055,236.346 282.583,232.661 288.11,236.346 293.638,240.031 299.165,236.346 304.693,232.661 310.22,228.976 315.748,232.661 \n",
       "  \n",
       "  \"/>\n",
       "<polyline clip-path=\"url(#clip02)\" style=\"stroke:#00a8cb; stroke-width:1; stroke-opacity:1; fill:none\" points=\"\n",
       "  44.8976,192.126 50.4252,195.811 55.9528,199.496 61.4803,203.181 67.0079,199.496 72.5354,195.811 78.063,199.496 83.5906,195.811 89.1181,199.496 94.6457,203.181 \n",
       "  100.173,206.866 105.701,210.551 111.228,214.236 116.756,210.551 122.283,214.236 127.811,210.551 133.339,206.866 138.866,203.181 144.394,199.496 149.921,195.811 \n",
       "  155.449,199.496 160.976,195.811 166.504,192.126 172.031,188.441 177.559,192.126 183.087,195.811 188.614,192.126 194.142,188.441 199.669,192.126 205.197,188.441 \n",
       "  210.724,184.756 216.252,181.071 221.78,184.756 227.307,181.071 232.835,184.756 238.362,181.071 243.89,184.756 249.417,181.071 254.945,177.386 260.472,173.701 \n",
       "  266,177.386 271.528,181.071 277.055,177.386 282.583,173.701 288.11,177.386 293.638,173.701 299.165,170.016 304.693,166.331 310.22,170.016 315.748,173.701 \n",
       "  \n",
       "  \"/>\n",
       "<polyline clip-path=\"url(#clip02)\" style=\"stroke:#9b7fe8; stroke-width:1; stroke-opacity:1; fill:none\" points=\"\n",
       "  44.8976,192.126 50.4252,195.811 55.9528,199.496 61.4803,203.181 67.0079,199.496 72.5354,195.811 78.063,192.126 83.5906,188.441 89.1181,192.126 94.6457,195.811 \n",
       "  100.173,192.126 105.701,195.811 111.228,199.496 116.756,195.811 122.283,192.126 127.811,188.441 133.339,192.126 138.866,195.811 144.394,199.496 149.921,195.811 \n",
       "  155.449,199.496 160.976,203.181 166.504,206.866 172.031,210.551 177.559,214.236 183.087,210.551 188.614,214.236 194.142,210.551 199.669,214.236 205.197,210.551 \n",
       "  210.724,206.866 216.252,210.551 221.78,214.236 227.307,210.551 232.835,214.236 238.362,210.551 243.89,206.866 249.417,210.551 254.945,214.236 260.472,210.551 \n",
       "  266,214.236 271.528,210.551 277.055,214.236 282.583,210.551 288.11,206.866 293.638,210.551 299.165,214.236 304.693,217.921 310.22,221.606 315.748,217.921 \n",
       "  \n",
       "  \"/>\n",
       "<polyline clip-path=\"url(#clip02)\" style=\"stroke:#608cf6; stroke-width:1; stroke-opacity:1; fill:none\" points=\"\n",
       "  44.8976,192.126 50.4252,195.811 55.9528,192.126 61.4803,188.441 67.0079,184.756 72.5354,188.441 78.063,184.756 83.5906,188.441 89.1181,184.756 94.6457,181.071 \n",
       "  100.173,177.386 105.701,181.071 111.228,177.386 116.756,173.701 122.283,177.386 127.811,173.701 133.339,170.016 138.866,173.701 144.394,177.386 149.921,181.071 \n",
       "  155.449,177.386 160.976,173.701 166.504,177.386 172.031,173.701 177.559,177.386 183.087,173.701 188.614,177.386 194.142,173.701 199.669,170.016 205.197,166.331 \n",
       "  210.724,170.016 216.252,173.701 221.78,170.016 227.307,173.701 232.835,170.016 238.362,173.701 243.89,177.386 249.417,181.071 254.945,177.386 260.472,181.071 \n",
       "  266,177.386 271.528,173.701 277.055,177.386 282.583,181.071 288.11,177.386 293.638,173.701 299.165,170.016 304.693,173.701 310.22,170.016 315.748,166.331 \n",
       "  \n",
       "  \"/>\n",
       "<polyline clip-path=\"url(#clip02)\" style=\"stroke:#f05f73; stroke-width:1; stroke-opacity:1; fill:none\" points=\"\n",
       "  44.8976,192.126 50.4252,188.441 55.9528,184.756 61.4803,188.441 67.0079,192.126 72.5354,188.441 78.063,192.126 83.5906,188.441 89.1181,192.126 94.6457,188.441 \n",
       "  100.173,184.756 105.701,181.071 111.228,177.386 116.756,173.701 122.283,177.386 127.811,181.071 133.339,184.756 138.866,188.441 144.394,184.756 149.921,181.071 \n",
       "  155.449,184.756 160.976,188.441 166.504,192.126 172.031,195.811 177.559,192.126 183.087,188.441 188.614,192.126 194.142,188.441 199.669,192.126 205.197,195.811 \n",
       "  210.724,199.496 216.252,203.181 221.78,206.866 227.307,210.551 232.835,206.866 238.362,203.181 243.89,206.866 249.417,203.181 254.945,206.866 260.472,210.551 \n",
       "  266,206.866 271.528,203.181 277.055,206.866 282.583,210.551 288.11,206.866 293.638,203.181 299.165,206.866 304.693,210.551 310.22,214.236 315.748,210.551 \n",
       "  \n",
       "  \"/>\n",
       "<polyline clip-path=\"url(#clip02)\" style=\"stroke:#dd64b5; stroke-width:1; stroke-opacity:1; fill:none\" points=\"\n",
       "  44.8976,192.126 50.4252,188.441 55.9528,184.756 61.4803,181.071 67.0079,177.386 72.5354,173.701 78.063,170.016 83.5906,166.331 89.1181,162.646 94.6457,166.331 \n",
       "  100.173,170.016 105.701,173.701 111.228,177.386 116.756,181.071 122.283,177.386 127.811,181.071 133.339,177.386 138.866,181.071 144.394,184.756 149.921,188.441 \n",
       "  155.449,184.756 160.976,181.071 166.504,177.386 172.031,181.071 177.559,184.756 183.087,181.071 188.614,177.386 194.142,173.701 199.669,177.386 205.197,173.701 \n",
       "  210.724,177.386 216.252,181.071 221.78,177.386 227.307,173.701 232.835,170.016 238.362,173.701 243.89,170.016 249.417,173.701 254.945,170.016 260.472,173.701 \n",
       "  266,177.386 271.528,173.701 277.055,170.016 282.583,166.331 288.11,162.646 293.638,158.961 299.165,155.276 304.693,151.591 310.22,147.906 315.748,151.591 \n",
       "  \n",
       "  \"/>\n",
       "<polyline clip-path=\"url(#clip02)\" style=\"stroke:#6b9e32; stroke-width:1; stroke-opacity:1; fill:none\" points=\"\n",
       "  44.8976,192.126 50.4252,195.811 55.9528,199.496 61.4803,203.181 67.0079,206.866 72.5354,210.551 78.063,206.866 83.5906,210.551 89.1181,214.236 94.6457,210.551 \n",
       "  100.173,214.236 105.701,217.921 111.228,214.236 116.756,210.551 122.283,206.866 127.811,203.181 133.339,206.866 138.866,203.181 144.394,199.496 149.921,195.811 \n",
       "  155.449,192.126 160.976,195.811 166.504,199.496 172.031,203.181 177.559,206.866 183.087,210.551 188.614,206.866 194.142,203.181 199.669,206.866 205.197,210.551 \n",
       "  210.724,214.236 216.252,210.551 221.78,214.236 227.307,210.551 232.835,206.866 238.362,203.181 243.89,206.866 249.417,203.181 254.945,206.866 260.472,203.181 \n",
       "  266,199.496 271.528,195.811 277.055,192.126 282.583,195.811 288.11,192.126 293.638,188.441 299.165,192.126 304.693,188.441 310.22,192.126 315.748,188.441 \n",
       "  \n",
       "  \"/>\n",
       "<polyline clip-path=\"url(#clip02)\" style=\"stroke:#718c69; stroke-width:1; stroke-opacity:1; fill:none\" points=\"\n",
       "  44.8976,192.126 50.4252,195.811 55.9528,199.496 61.4803,195.811 67.0079,192.126 72.5354,188.441 78.063,184.756 83.5906,188.441 89.1181,192.126 94.6457,195.811 \n",
       "  100.173,192.126 105.701,195.811 111.228,199.496 116.756,195.811 122.283,192.126 127.811,188.441 133.339,184.756 138.866,181.071 144.394,177.386 149.921,181.071 \n",
       "  155.449,184.756 160.976,188.441 166.504,184.756 172.031,188.441 177.559,184.756 183.087,188.441 188.614,184.756 194.142,181.071 199.669,177.386 205.197,181.071 \n",
       "  210.724,184.756 216.252,181.071 221.78,184.756 227.307,188.441 232.835,184.756 238.362,188.441 243.89,184.756 249.417,188.441 254.945,192.126 260.472,188.441 \n",
       "  266,184.756 271.528,188.441 277.055,192.126 282.583,195.811 288.11,192.126 293.638,195.811 299.165,192.126 304.693,195.811 310.22,192.126 315.748,188.441 \n",
       "  \n",
       "  \"/>\n",
       "<polyline clip-path=\"url(#clip02)\" style=\"stroke:#47988b; stroke-width:1; stroke-opacity:1; fill:none\" points=\"\n",
       "  44.8976,192.126 50.4252,195.811 55.9528,192.126 61.4803,188.441 67.0079,192.126 72.5354,195.811 78.063,192.126 83.5906,195.811 89.1181,199.496 94.6457,195.811 \n",
       "  100.173,199.496 105.701,203.181 111.228,199.496 116.756,203.181 122.283,199.496 127.811,203.181 133.339,199.496 138.866,203.181 144.394,206.866 149.921,203.181 \n",
       "  155.449,199.496 160.976,195.811 166.504,192.126 172.031,195.811 177.559,199.496 183.087,203.181 188.614,199.496 194.142,203.181 199.669,199.496 205.197,203.181 \n",
       "  210.724,206.866 216.252,210.551 221.78,206.866 227.307,203.181 232.835,199.496 238.362,195.811 243.89,192.126 249.417,188.441 254.945,192.126 260.472,188.441 \n",
       "  266,184.756 271.528,181.071 277.055,177.386 282.583,173.701 288.11,170.016 293.638,173.701 299.165,177.386 304.693,173.701 310.22,177.386 315.748,181.071 \n",
       "  \n",
       "  \"/>\n",
       "<polyline clip-path=\"url(#clip02)\" style=\"stroke:#1ea68c; stroke-width:1; stroke-opacity:1; fill:none\" points=\"\n",
       "  44.8976,192.126 50.4252,188.441 55.9528,192.126 61.4803,188.441 67.0079,184.756 72.5354,181.071 78.063,177.386 83.5906,181.071 89.1181,184.756 94.6457,188.441 \n",
       "  100.173,192.126 105.701,195.811 111.228,199.496 116.756,203.181 122.283,206.866 127.811,203.181 133.339,199.496 138.866,195.811 144.394,192.126 149.921,195.811 \n",
       "  155.449,199.496 160.976,203.181 166.504,199.496 172.031,203.181 177.559,206.866 183.087,203.181 188.614,206.866 194.142,203.181 199.669,199.496 205.197,195.811 \n",
       "  210.724,199.496 216.252,195.811 221.78,199.496 227.307,203.181 232.835,206.866 238.362,210.551 243.89,206.866 249.417,210.551 254.945,206.866 260.472,210.551 \n",
       "  266,214.236 271.528,217.921 277.055,221.606 282.583,217.921 288.11,221.606 293.638,225.291 299.165,221.606 304.693,225.291 310.22,228.976 315.748,225.291 \n",
       "  \n",
       "  \"/>\n",
       "<polyline clip-path=\"url(#clip02)\" style=\"stroke:#af78dd; stroke-width:1; stroke-opacity:1; fill:none\" points=\"\n",
       "  44.8976,192.126 50.4252,188.441 55.9528,192.126 61.4803,188.441 67.0079,192.126 72.5354,195.811 78.063,192.126 83.5906,188.441 89.1181,192.126 94.6457,195.811 \n",
       "  100.173,199.496 105.701,195.811 111.228,192.126 116.756,195.811 122.283,199.496 127.811,195.811 133.339,192.126 138.866,195.811 144.394,192.126 149.921,188.441 \n",
       "  155.449,192.126 160.976,195.811 166.504,192.126 172.031,188.441 177.559,184.756 183.087,181.071 188.614,184.756 194.142,188.441 199.669,184.756 205.197,181.071 \n",
       "  210.724,184.756 216.252,181.071 221.78,177.386 227.307,173.701 232.835,177.386 238.362,173.701 243.89,177.386 249.417,181.071 254.945,177.386 260.472,181.071 \n",
       "  266,177.386 271.528,173.701 277.055,177.386 282.583,181.071 288.11,184.756 293.638,181.071 299.165,184.756 304.693,188.441 310.22,192.126 315.748,195.811 \n",
       "  \n",
       "  \"/>\n",
       "<polyline clip-path=\"url(#clip02)\" style=\"stroke:#868d87; stroke-width:1; stroke-opacity:1; fill:none\" points=\"\n",
       "  44.8976,192.126 50.4252,188.441 55.9528,192.126 61.4803,188.441 67.0079,192.126 72.5354,195.811 78.063,199.496 83.5906,203.181 89.1181,206.866 94.6457,203.181 \n",
       "  100.173,199.496 105.701,195.811 111.228,192.126 116.756,188.441 122.283,184.756 127.811,188.441 133.339,192.126 138.866,188.441 144.394,184.756 149.921,181.071 \n",
       "  155.449,184.756 160.976,188.441 166.504,192.126 172.031,195.811 177.559,192.126 183.087,188.441 188.614,184.756 194.142,188.441 199.669,184.756 205.197,181.071 \n",
       "  210.724,184.756 216.252,181.071 221.78,184.756 227.307,188.441 232.835,192.126 238.362,195.811 243.89,192.126 249.417,195.811 254.945,199.496 260.472,195.811 \n",
       "  266,192.126 271.528,195.811 277.055,199.496 282.583,203.181 288.11,206.866 293.638,210.551 299.165,214.236 304.693,217.921 310.22,221.606 315.748,217.921 \n",
       "  \n",
       "  \"/>\n",
       "<polyline clip-path=\"url(#clip02)\" style=\"stroke:#47a065; stroke-width:1; stroke-opacity:1; fill:none\" points=\"\n",
       "  44.8976,192.126 50.4252,195.811 55.9528,192.126 61.4803,195.811 67.0079,199.496 72.5354,195.811 78.063,199.496 83.5906,195.811 89.1181,199.496 94.6457,203.181 \n",
       "  100.173,199.496 105.701,195.811 111.228,192.126 116.756,195.811 122.283,192.126 127.811,188.441 133.339,192.126 138.866,195.811 144.394,192.126 149.921,195.811 \n",
       "  155.449,199.496 160.976,203.181 166.504,199.496 172.031,195.811 177.559,199.496 183.087,203.181 188.614,206.866 194.142,210.551 199.669,214.236 205.197,217.921 \n",
       "  210.724,221.606 216.252,217.921 221.78,214.236 227.307,217.921 232.835,221.606 238.362,217.921 243.89,221.606 249.417,225.291 254.945,221.606 260.472,217.921 \n",
       "  266,214.236 271.528,217.921 277.055,214.236 282.583,217.921 288.11,221.606 293.638,225.291 299.165,228.976 304.693,232.661 310.22,236.346 315.748,232.661 \n",
       "  \n",
       "  \"/>\n",
       "<polyline clip-path=\"url(#clip02)\" style=\"stroke:#7683af; stroke-width:1; stroke-opacity:1; fill:none\" points=\"\n",
       "  44.8976,192.126 50.4252,188.441 55.9528,192.126 61.4803,188.441 67.0079,192.126 72.5354,195.811 78.063,199.496 83.5906,203.181 89.1181,199.496 94.6457,203.181 \n",
       "  100.173,199.496 105.701,195.811 111.228,199.496 116.756,203.181 122.283,199.496 127.811,195.811 133.339,199.496 138.866,203.181 144.394,199.496 149.921,203.181 \n",
       "  155.449,199.496 160.976,195.811 166.504,192.126 172.031,188.441 177.559,192.126 183.087,195.811 188.614,192.126 194.142,195.811 199.669,192.126 205.197,188.441 \n",
       "  210.724,184.756 216.252,188.441 221.78,192.126 227.307,195.811 232.835,199.496 238.362,203.181 243.89,199.496 249.417,203.181 254.945,199.496 260.472,195.811 \n",
       "  266,199.496 271.528,203.181 277.055,199.496 282.583,203.181 288.11,199.496 293.638,195.811 299.165,199.496 304.693,195.811 310.22,192.126 315.748,195.811 \n",
       "  \n",
       "  \"/>\n",
       "<polyline clip-path=\"url(#clip02)\" style=\"stroke:#b08086; stroke-width:1; stroke-opacity:1; fill:none\" points=\"\n",
       "  44.8976,192.126 50.4252,195.811 55.9528,192.126 61.4803,188.441 67.0079,192.126 72.5354,188.441 78.063,192.126 83.5906,188.441 89.1181,192.126 94.6457,188.441 \n",
       "  100.173,192.126 105.701,188.441 111.228,192.126 116.756,195.811 122.283,192.126 127.811,195.811 133.339,192.126 138.866,195.811 144.394,199.496 149.921,195.811 \n",
       "  155.449,192.126 160.976,195.811 166.504,199.496 172.031,203.181 177.559,199.496 183.087,203.181 188.614,199.496 194.142,203.181 199.669,199.496 205.197,195.811 \n",
       "  210.724,199.496 216.252,203.181 221.78,206.866 227.307,210.551 232.835,214.236 238.362,217.921 243.89,214.236 249.417,210.551 254.945,206.866 260.472,203.181 \n",
       "  266,206.866 271.528,203.181 277.055,206.866 282.583,203.181 288.11,206.866 293.638,203.181 299.165,206.866 304.693,210.551 310.22,214.236 315.748,210.551 \n",
       "  \n",
       "  \"/>\n",
       "<polyline clip-path=\"url(#clip02)\" style=\"stroke:#309ac1; stroke-width:1; stroke-opacity:1; fill:none\" points=\"\n",
       "  44.8976,192.126 50.4252,195.811 55.9528,192.126 61.4803,195.811 67.0079,199.496 72.5354,195.811 78.063,199.496 83.5906,195.811 89.1181,192.126 94.6457,195.811 \n",
       "  100.173,192.126 105.701,188.441 111.228,192.126 116.756,195.811 122.283,192.126 127.811,195.811 133.339,192.126 138.866,195.811 144.394,199.496 149.921,203.181 \n",
       "  155.449,206.866 160.976,210.551 166.504,214.236 172.031,217.921 177.559,221.606 183.087,217.921 188.614,221.606 194.142,225.291 199.669,228.976 205.197,225.291 \n",
       "  210.724,228.976 216.252,225.291 221.78,228.976 227.307,232.661 232.835,236.346 238.362,232.661 243.89,236.346 249.417,232.661 254.945,236.346 260.472,232.661 \n",
       "  266,236.346 271.528,240.031 277.055,236.346 282.583,240.031 288.11,236.346 293.638,232.661 299.165,228.976 304.693,232.661 310.22,228.976 315.748,232.661 \n",
       "  \n",
       "  \"/>\n",
       "<polyline clip-path=\"url(#clip02)\" style=\"stroke:#788490; stroke-width:1; stroke-opacity:1; fill:none\" points=\"\n",
       "  44.8976,192.126 50.4252,188.441 55.9528,192.126 61.4803,195.811 67.0079,199.496 72.5354,195.811 78.063,192.126 83.5906,188.441 89.1181,192.126 94.6457,188.441 \n",
       "  100.173,184.756 105.701,188.441 111.228,184.756 116.756,181.071 122.283,177.386 127.811,181.071 133.339,184.756 138.866,181.071 144.394,184.756 149.921,181.071 \n",
       "  155.449,184.756 160.976,188.441 166.504,192.126 172.031,188.441 177.559,184.756 183.087,181.071 188.614,184.756 194.142,188.441 199.669,192.126 205.197,188.441 \n",
       "  210.724,184.756 216.252,188.441 221.78,192.126 227.307,195.811 232.835,199.496 238.362,195.811 243.89,192.126 249.417,188.441 254.945,184.756 260.472,188.441 \n",
       "  266,184.756 271.528,181.071 277.055,184.756 282.583,181.071 288.11,177.386 293.638,181.071 299.165,177.386 304.693,181.071 310.22,177.386 315.748,181.071 \n",
       "  \n",
       "  \"/>\n",
       "<polyline clip-path=\"url(#clip02)\" style=\"stroke:#e561a4; stroke-width:1; stroke-opacity:1; fill:none\" points=\"\n",
       "  44.8976,192.126 50.4252,195.811 55.9528,199.496 61.4803,195.811 67.0079,192.126 72.5354,195.811 78.063,192.126 83.5906,195.811 89.1181,192.126 94.6457,195.811 \n",
       "  100.173,192.126 105.701,195.811 111.228,199.496 116.756,203.181 122.283,199.496 127.811,203.181 133.339,199.496 138.866,203.181 144.394,199.496 149.921,203.181 \n",
       "  155.449,206.866 160.976,210.551 166.504,206.866 172.031,210.551 177.559,214.236 183.087,210.551 188.614,206.866 194.142,203.181 199.669,206.866 205.197,210.551 \n",
       "  210.724,214.236 216.252,210.551 221.78,206.866 227.307,210.551 232.835,214.236 238.362,210.551 243.89,206.866 249.417,203.181 254.945,199.496 260.472,203.181 \n",
       "  266,199.496 271.528,195.811 277.055,192.126 282.583,195.811 288.11,199.496 293.638,203.181 299.165,199.496 304.693,195.811 310.22,199.496 315.748,195.811 \n",
       "  \n",
       "  \"/>\n",
       "<polyline clip-path=\"url(#clip02)\" style=\"stroke:#99902c; stroke-width:1; stroke-opacity:1; fill:none\" points=\"\n",
       "  44.8976,192.126 50.4252,188.441 55.9528,192.126 61.4803,188.441 67.0079,192.126 72.5354,195.811 78.063,199.496 83.5906,203.181 89.1181,199.496 94.6457,195.811 \n",
       "  100.173,199.496 105.701,195.811 111.228,192.126 116.756,195.811 122.283,192.126 127.811,188.441 133.339,184.756 138.866,181.071 144.394,184.756 149.921,188.441 \n",
       "  155.449,184.756 160.976,181.071 166.504,184.756 172.031,181.071 177.559,177.386 183.087,181.071 188.614,184.756 194.142,181.071 199.669,184.756 205.197,181.071 \n",
       "  210.724,177.386 216.252,181.071 221.78,177.386 227.307,181.071 232.835,177.386 238.362,181.071 243.89,184.756 249.417,181.071 254.945,184.756 260.472,188.441 \n",
       "  266,184.756 271.528,188.441 277.055,184.756 282.583,181.071 288.11,177.386 293.638,173.701 299.165,177.386 304.693,173.701 310.22,170.016 315.748,166.331 \n",
       "  \n",
       "  \"/>\n",
       "<polyline clip-path=\"url(#clip02)\" style=\"stroke:#389a7b; stroke-width:1; stroke-opacity:1; fill:none\" points=\"\n",
       "  44.8976,192.126 50.4252,195.811 55.9528,199.496 61.4803,195.811 67.0079,199.496 72.5354,203.181 78.063,199.496 83.5906,195.811 89.1181,192.126 94.6457,195.811 \n",
       "  100.173,192.126 105.701,188.441 111.228,192.126 116.756,188.441 122.283,184.756 127.811,188.441 133.339,192.126 138.866,188.441 144.394,184.756 149.921,188.441 \n",
       "  155.449,184.756 160.976,181.071 166.504,177.386 172.031,173.701 177.559,177.386 183.087,173.701 188.614,177.386 194.142,181.071 199.669,177.386 205.197,173.701 \n",
       "  210.724,170.016 216.252,173.701 221.78,170.016 227.307,173.701 232.835,170.016 238.362,166.331 243.89,162.646 249.417,166.331 254.945,170.016 260.472,173.701 \n",
       "  266,170.016 271.528,166.331 277.055,170.016 282.583,166.331 288.11,170.016 293.638,173.701 299.165,170.016 304.693,166.331 310.22,170.016 315.748,173.701 \n",
       "  \n",
       "  \"/>\n",
       "<polyline clip-path=\"url(#clip02)\" style=\"stroke:#d968a2; stroke-width:1; stroke-opacity:1; fill:none\" points=\"\n",
       "  44.8976,192.126 50.4252,195.811 55.9528,199.496 61.4803,203.181 67.0079,199.496 72.5354,195.811 78.063,199.496 83.5906,195.811 89.1181,199.496 94.6457,203.181 \n",
       "  100.173,199.496 105.701,203.181 111.228,206.866 116.756,203.181 122.283,206.866 127.811,203.181 133.339,206.866 138.866,210.551 144.394,206.866 149.921,210.551 \n",
       "  155.449,214.236 160.976,210.551 166.504,214.236 172.031,217.921 177.559,214.236 183.087,210.551 188.614,206.866 194.142,210.551 199.669,206.866 205.197,210.551 \n",
       "  210.724,206.866 216.252,203.181 221.78,199.496 227.307,195.811 232.835,199.496 238.362,195.811 243.89,199.496 249.417,195.811 254.945,192.126 260.472,195.811 \n",
       "  266,192.126 271.528,188.441 277.055,184.756 282.583,181.071 288.11,177.386 293.638,181.071 299.165,177.386 304.693,173.701 310.22,170.016 315.748,173.701 \n",
       "  \n",
       "  \"/>\n",
       "<polyline clip-path=\"url(#clip02)\" style=\"stroke:#009af9; stroke-width:1; stroke-opacity:1; fill:none\" points=\"\n",
       "  44.8976,192.126 50.4252,195.811 55.9528,199.496 61.4803,195.811 67.0079,199.496 72.5354,195.811 78.063,199.496 83.5906,203.181 89.1181,199.496 94.6457,195.811 \n",
       "  100.173,199.496 105.701,203.181 111.228,199.496 116.756,195.811 122.283,192.126 127.811,188.441 133.339,192.126 138.866,195.811 144.394,192.126 149.921,188.441 \n",
       "  155.449,192.126 160.976,188.441 166.504,192.126 172.031,188.441 177.559,184.756 183.087,188.441 188.614,184.756 194.142,181.071 199.669,184.756 205.197,188.441 \n",
       "  210.724,192.126 216.252,195.811 221.78,192.126 227.307,195.811 232.835,192.126 238.362,195.811 243.89,192.126 249.417,188.441 254.945,184.756 260.472,188.441 \n",
       "  266,192.126 271.528,188.441 277.055,192.126 282.583,195.811 288.11,192.126 293.638,188.441 299.165,184.756 304.693,188.441 310.22,184.756 315.748,188.441 \n",
       "  \n",
       "  \"/>\n",
       "<polyline clip-path=\"url(#clip02)\" style=\"stroke:#e26f46; stroke-width:1; stroke-opacity:1; fill:none\" points=\"\n",
       "  44.8976,192.126 50.4252,195.811 55.9528,199.496 61.4803,195.811 67.0079,192.126 72.5354,188.441 78.063,192.126 83.5906,195.811 89.1181,199.496 94.6457,203.181 \n",
       "  100.173,206.866 105.701,203.181 111.228,199.496 116.756,195.811 122.283,199.496 127.811,203.181 133.339,206.866 138.866,203.181 144.394,206.866 149.921,210.551 \n",
       "  155.449,206.866 160.976,203.181 166.504,206.866 172.031,210.551 177.559,214.236 183.087,210.551 188.614,214.236 194.142,210.551 199.669,206.866 205.197,210.551 \n",
       "  210.724,206.866 216.252,210.551 221.78,206.866 227.307,203.181 232.835,206.866 238.362,203.181 243.89,199.496 249.417,203.181 254.945,199.496 260.472,203.181 \n",
       "  266,206.866 271.528,203.181 277.055,199.496 282.583,195.811 288.11,199.496 293.638,195.811 299.165,199.496 304.693,203.181 310.22,199.496 315.748,195.811 \n",
       "  \n",
       "  \"/>\n",
       "<polyline clip-path=\"url(#clip02)\" style=\"stroke:#3da44d; stroke-width:1; stroke-opacity:1; fill:none\" points=\"\n",
       "  44.8976,192.126 50.4252,195.811 55.9528,192.126 61.4803,188.441 67.0079,184.756 72.5354,188.441 78.063,184.756 83.5906,181.071 89.1181,184.756 94.6457,181.071 \n",
       "  100.173,177.386 105.701,173.701 111.228,170.016 116.756,173.701 122.283,170.016 127.811,166.331 133.339,162.646 138.866,158.961 144.394,162.646 149.921,158.961 \n",
       "  155.449,162.646 160.976,166.331 166.504,170.016 172.031,166.331 177.559,170.016 183.087,166.331 188.614,162.646 194.142,166.331 199.669,162.646 205.197,158.961 \n",
       "  210.724,155.276 216.252,151.591 221.78,147.906 227.307,144.22 232.835,140.535 238.362,136.85 243.89,133.165 249.417,129.48 254.945,133.165 260.472,129.48 \n",
       "  266,125.795 271.528,122.11 277.055,125.795 282.583,129.48 288.11,133.165 293.638,136.85 299.165,140.535 304.693,144.22 310.22,140.535 315.748,144.22 \n",
       "  \n",
       "  \"/>\n",
       "<polyline clip-path=\"url(#clip02)\" style=\"stroke:#c271d2; stroke-width:1; stroke-opacity:1; fill:none\" points=\"\n",
       "  44.8976,192.126 50.4252,195.811 55.9528,192.126 61.4803,195.811 67.0079,199.496 72.5354,203.181 78.063,206.866 83.5906,203.181 89.1181,199.496 94.6457,203.181 \n",
       "  100.173,199.496 105.701,195.811 111.228,192.126 116.756,195.811 122.283,192.126 127.811,195.811 133.339,192.126 138.866,195.811 144.394,192.126 149.921,195.811 \n",
       "  155.449,192.126 160.976,195.811 166.504,192.126 172.031,188.441 177.559,184.756 183.087,188.441 188.614,192.126 194.142,195.811 199.669,192.126 205.197,188.441 \n",
       "  210.724,184.756 216.252,188.441 221.78,192.126 227.307,195.811 232.835,199.496 238.362,203.181 243.89,199.496 249.417,195.811 254.945,199.496 260.472,203.181 \n",
       "  266,206.866 271.528,210.551 277.055,206.866 282.583,203.181 288.11,199.496 293.638,203.181 299.165,199.496 304.693,195.811 310.22,199.496 315.748,203.181 \n",
       "  \n",
       "  \"/>\n",
       "<polyline clip-path=\"url(#clip02)\" style=\"stroke:#ac8d18; stroke-width:1; stroke-opacity:1; fill:none\" points=\"\n",
       "  44.8976,192.126 50.4252,195.811 55.9528,199.496 61.4803,203.181 67.0079,199.496 72.5354,195.811 78.063,199.496 83.5906,195.811 89.1181,192.126 94.6457,188.441 \n",
       "  100.173,192.126 105.701,195.811 111.228,199.496 116.756,195.811 122.283,199.496 127.811,203.181 133.339,206.866 138.866,203.181 144.394,199.496 149.921,203.181 \n",
       "  155.449,199.496 160.976,203.181 166.504,199.496 172.031,203.181 177.559,206.866 183.087,203.181 188.614,206.866 194.142,203.181 199.669,199.496 205.197,195.811 \n",
       "  210.724,192.126 216.252,195.811 221.78,192.126 227.307,195.811 232.835,192.126 238.362,195.811 243.89,192.126 249.417,195.811 254.945,192.126 260.472,188.441 \n",
       "  266,192.126 271.528,195.811 277.055,192.126 282.583,195.811 288.11,192.126 293.638,195.811 299.165,199.496 304.693,203.181 310.22,206.866 315.748,210.551 \n",
       "  \n",
       "  \"/>\n",
       "<polyline clip-path=\"url(#clip02)\" style=\"stroke:#00a9ad; stroke-width:1; stroke-opacity:1; fill:none\" points=\"\n",
       "  44.8976,192.126 50.4252,195.811 55.9528,192.126 61.4803,195.811 67.0079,199.496 72.5354,195.811 78.063,199.496 83.5906,203.181 89.1181,199.496 94.6457,195.811 \n",
       "  100.173,199.496 105.701,195.811 111.228,199.496 116.756,195.811 122.283,192.126 127.811,188.441 133.339,192.126 138.866,188.441 144.394,192.126 149.921,188.441 \n",
       "  155.449,184.756 160.976,188.441 166.504,184.756 172.031,188.441 177.559,184.756 183.087,181.071 188.614,177.386 194.142,173.701 199.669,177.386 205.197,173.701 \n",
       "  210.724,177.386 216.252,173.701 221.78,170.016 227.307,166.331 232.835,170.016 238.362,173.701 243.89,177.386 249.417,173.701 254.945,170.016 260.472,173.701 \n",
       "  266,170.016 271.528,173.701 277.055,170.016 282.583,173.701 288.11,177.386 293.638,173.701 299.165,170.016 304.693,173.701 310.22,177.386 315.748,173.701 \n",
       "  \n",
       "  \"/>\n",
       "<polyline clip-path=\"url(#clip02)\" style=\"stroke:#ed5d92; stroke-width:1; stroke-opacity:1; fill:none\" points=\"\n",
       "  44.8976,192.126 50.4252,195.811 55.9528,199.496 61.4803,195.811 67.0079,199.496 72.5354,195.811 78.063,192.126 83.5906,188.441 89.1181,192.126 94.6457,195.811 \n",
       "  100.173,192.126 105.701,195.811 111.228,199.496 116.756,203.181 122.283,199.496 127.811,203.181 133.339,206.866 138.866,210.551 144.394,206.866 149.921,210.551 \n",
       "  155.449,214.236 160.976,210.551 166.504,206.866 172.031,210.551 177.559,206.866 183.087,203.181 188.614,206.866 194.142,210.551 199.669,214.236 205.197,217.921 \n",
       "  210.724,221.606 216.252,225.291 221.78,221.606 227.307,225.291 232.835,228.976 238.362,225.291 243.89,228.976 249.417,225.291 254.945,221.606 260.472,217.921 \n",
       "  266,214.236 271.528,217.921 277.055,221.606 282.583,217.921 288.11,221.606 293.638,217.921 299.165,214.236 304.693,210.551 310.22,214.236 315.748,217.921 \n",
       "  \n",
       "  \"/>\n",
       "<polyline clip-path=\"url(#clip02)\" style=\"stroke:#c68125; stroke-width:1; stroke-opacity:1; fill:none\" points=\"\n",
       "  44.8976,192.126 50.4252,195.811 55.9528,192.126 61.4803,188.441 67.0079,192.126 72.5354,195.811 78.063,192.126 83.5906,188.441 89.1181,192.126 94.6457,195.811 \n",
       "  100.173,199.496 105.701,203.181 111.228,206.866 116.756,203.181 122.283,206.866 127.811,210.551 133.339,214.236 138.866,217.921 144.394,214.236 149.921,210.551 \n",
       "  155.449,206.866 160.976,210.551 166.504,214.236 172.031,210.551 177.559,206.866 183.087,210.551 188.614,206.866 194.142,210.551 199.669,206.866 205.197,203.181 \n",
       "  210.724,199.496 216.252,195.811 221.78,199.496 227.307,195.811 232.835,199.496 238.362,203.181 243.89,206.866 249.417,203.181 254.945,206.866 260.472,203.181 \n",
       "  266,199.496 271.528,195.811 277.055,199.496 282.583,203.181 288.11,199.496 293.638,203.181 299.165,199.496 304.693,195.811 310.22,199.496 315.748,203.181 \n",
       "  \n",
       "  \"/>\n",
       "<polyline clip-path=\"url(#clip02)\" style=\"stroke:#00a98d; stroke-width:1; stroke-opacity:1; fill:none\" points=\"\n",
       "  44.8976,192.126 50.4252,188.441 55.9528,192.126 61.4803,188.441 67.0079,184.756 72.5354,181.071 78.063,184.756 83.5906,181.071 89.1181,177.386 94.6457,173.701 \n",
       "  100.173,177.386 105.701,173.701 111.228,170.016 116.756,166.331 122.283,170.016 127.811,166.331 133.339,170.016 138.866,173.701 144.394,170.016 149.921,173.701 \n",
       "  155.449,170.016 160.976,166.331 166.504,170.016 172.031,166.331 177.559,170.016 183.087,173.701 188.614,170.016 194.142,173.701 199.669,170.016 205.197,173.701 \n",
       "  210.724,177.386 216.252,173.701 221.78,170.016 227.307,173.701 232.835,177.386 238.362,173.701 243.89,177.386 249.417,173.701 254.945,177.386 260.472,173.701 \n",
       "  266,170.016 271.528,166.331 277.055,162.646 282.583,158.961 288.11,155.276 293.638,151.591 299.165,155.276 304.693,151.591 310.22,147.906 315.748,151.591 \n",
       "  \n",
       "  \"/>\n",
       "<polyline clip-path=\"url(#clip02)\" style=\"stroke:#8e971d; stroke-width:1; stroke-opacity:1; fill:none\" points=\"\n",
       "  44.8976,192.126 50.4252,195.811 55.9528,192.126 61.4803,188.441 67.0079,184.756 72.5354,181.071 78.063,177.386 83.5906,181.071 89.1181,184.756 94.6457,188.441 \n",
       "  100.173,192.126 105.701,195.811 111.228,199.496 116.756,203.181 122.283,206.866 127.811,203.181 133.339,206.866 138.866,203.181 144.394,199.496 149.921,203.181 \n",
       "  155.449,206.866 160.976,210.551 166.504,206.866 172.031,203.181 177.559,199.496 183.087,195.811 188.614,192.126 194.142,195.811 199.669,192.126 205.197,195.811 \n",
       "  210.724,199.496 216.252,203.181 221.78,199.496 227.307,203.181 232.835,199.496 238.362,203.181 243.89,199.496 249.417,203.181 254.945,199.496 260.472,195.811 \n",
       "  266,192.126 271.528,195.811 277.055,192.126 282.583,188.441 288.11,184.756 293.638,188.441 299.165,184.756 304.693,181.071 310.22,184.756 315.748,188.441 \n",
       "  \n",
       "  \"/>\n",
       "<polyline clip-path=\"url(#clip02)\" style=\"stroke:#00a8cb; stroke-width:1; stroke-opacity:1; fill:none\" points=\"\n",
       "  44.8976,192.126 50.4252,195.811 55.9528,192.126 61.4803,188.441 67.0079,184.756 72.5354,181.071 78.063,184.756 83.5906,181.071 89.1181,177.386 94.6457,173.701 \n",
       "  100.173,177.386 105.701,173.701 111.228,177.386 116.756,181.071 122.283,177.386 127.811,181.071 133.339,177.386 138.866,181.071 144.394,177.386 149.921,181.071 \n",
       "  155.449,177.386 160.976,181.071 166.504,184.756 172.031,181.071 177.559,177.386 183.087,181.071 188.614,177.386 194.142,173.701 199.669,177.386 205.197,181.071 \n",
       "  210.724,177.386 216.252,181.071 221.78,184.756 227.307,188.441 232.835,184.756 238.362,181.071 243.89,177.386 249.417,181.071 254.945,177.386 260.472,181.071 \n",
       "  266,177.386 271.528,181.071 277.055,177.386 282.583,181.071 288.11,177.386 293.638,181.071 299.165,184.756 304.693,188.441 310.22,192.126 315.748,188.441 \n",
       "  \n",
       "  \"/>\n",
       "<polyline clip-path=\"url(#clip02)\" style=\"stroke:#9b7fe8; stroke-width:1; stroke-opacity:1; fill:none\" points=\"\n",
       "  44.8976,192.126 50.4252,188.441 55.9528,184.756 61.4803,188.441 67.0079,192.126 72.5354,188.441 78.063,192.126 83.5906,188.441 89.1181,192.126 94.6457,195.811 \n",
       "  100.173,199.496 105.701,195.811 111.228,199.496 116.756,203.181 122.283,206.866 127.811,210.551 133.339,214.236 138.866,217.921 144.394,214.236 149.921,217.921 \n",
       "  155.449,221.606 160.976,225.291 166.504,221.606 172.031,225.291 177.559,228.976 183.087,232.661 188.614,236.346 194.142,232.661 199.669,228.976 205.197,232.661 \n",
       "  210.724,228.976 216.252,225.291 221.78,228.976 227.307,225.291 232.835,221.606 238.362,217.921 243.89,214.236 249.417,217.921 254.945,214.236 260.472,217.921 \n",
       "  266,221.606 271.528,217.921 277.055,221.606 282.583,217.921 288.11,221.606 293.638,225.291 299.165,221.606 304.693,217.921 310.22,214.236 315.748,210.551 \n",
       "  \n",
       "  \"/>\n",
       "<polyline clip-path=\"url(#clip02)\" style=\"stroke:#608cf6; stroke-width:1; stroke-opacity:1; fill:none\" points=\"\n",
       "  44.8976,192.126 50.4252,188.441 55.9528,184.756 61.4803,181.071 67.0079,177.386 72.5354,173.701 78.063,177.386 83.5906,181.071 89.1181,184.756 94.6457,181.071 \n",
       "  100.173,177.386 105.701,173.701 111.228,177.386 116.756,173.701 122.283,170.016 127.811,173.701 133.339,177.386 138.866,181.071 144.394,184.756 149.921,188.441 \n",
       "  155.449,192.126 160.976,188.441 166.504,184.756 172.031,181.071 177.559,184.756 183.087,181.071 188.614,184.756 194.142,188.441 199.669,192.126 205.197,188.441 \n",
       "  210.724,192.126 216.252,195.811 221.78,199.496 227.307,203.181 232.835,206.866 238.362,203.181 243.89,199.496 249.417,195.811 254.945,199.496 260.472,195.811 \n",
       "  266,199.496 271.528,195.811 277.055,199.496 282.583,203.181 288.11,199.496 293.638,203.181 299.165,206.866 304.693,203.181 310.22,206.866 315.748,210.551 \n",
       "  \n",
       "  \"/>\n",
       "<polyline clip-path=\"url(#clip02)\" style=\"stroke:#f05f73; stroke-width:1; stroke-opacity:1; fill:none\" points=\"\n",
       "  44.8976,192.126 50.4252,188.441 55.9528,184.756 61.4803,188.441 67.0079,184.756 72.5354,188.441 78.063,192.126 83.5906,188.441 89.1181,192.126 94.6457,188.441 \n",
       "  100.173,192.126 105.701,188.441 111.228,192.126 116.756,195.811 122.283,199.496 127.811,195.811 133.339,199.496 138.866,203.181 144.394,206.866 149.921,210.551 \n",
       "  155.449,206.866 160.976,203.181 166.504,199.496 172.031,195.811 177.559,192.126 183.087,188.441 188.614,184.756 194.142,181.071 199.669,184.756 205.197,181.071 \n",
       "  210.724,177.386 216.252,181.071 221.78,177.386 227.307,181.071 232.835,184.756 238.362,181.071 243.89,184.756 249.417,188.441 254.945,184.756 260.472,181.071 \n",
       "  266,184.756 271.528,188.441 277.055,192.126 282.583,188.441 288.11,192.126 293.638,195.811 299.165,192.126 304.693,188.441 310.22,184.756 315.748,181.071 \n",
       "  \n",
       "  \"/>\n",
       "<polyline clip-path=\"url(#clip02)\" style=\"stroke:#dd64b5; stroke-width:1; stroke-opacity:1; fill:none\" points=\"\n",
       "  44.8976,192.126 50.4252,188.441 55.9528,192.126 61.4803,195.811 67.0079,199.496 72.5354,195.811 78.063,192.126 83.5906,195.811 89.1181,192.126 94.6457,188.441 \n",
       "  100.173,184.756 105.701,181.071 111.228,184.756 116.756,181.071 122.283,177.386 127.811,181.071 133.339,184.756 138.866,181.071 144.394,177.386 149.921,173.701 \n",
       "  155.449,177.386 160.976,173.701 166.504,170.016 172.031,166.331 177.559,162.646 183.087,158.961 188.614,162.646 194.142,166.331 199.669,170.016 205.197,166.331 \n",
       "  210.724,162.646 216.252,166.331 221.78,162.646 227.307,158.961 232.835,155.276 238.362,158.961 243.89,155.276 249.417,158.961 254.945,162.646 260.472,158.961 \n",
       "  266,155.276 271.528,151.591 277.055,155.276 282.583,151.591 288.11,147.906 293.638,151.591 299.165,155.276 304.693,158.961 310.22,162.646 315.748,158.961 \n",
       "  \n",
       "  \"/>\n",
       "<polyline clip-path=\"url(#clip02)\" style=\"stroke:#6b9e32; stroke-width:1; stroke-opacity:1; fill:none\" points=\"\n",
       "  44.8976,192.126 50.4252,195.811 55.9528,199.496 61.4803,203.181 67.0079,199.496 72.5354,203.181 78.063,206.866 83.5906,210.551 89.1181,214.236 94.6457,210.551 \n",
       "  100.173,214.236 105.701,210.551 111.228,206.866 116.756,210.551 122.283,214.236 127.811,210.551 133.339,206.866 138.866,203.181 144.394,199.496 149.921,203.181 \n",
       "  155.449,206.866 160.976,203.181 166.504,199.496 172.031,195.811 177.559,192.126 183.087,188.441 188.614,184.756 194.142,188.441 199.669,184.756 205.197,181.071 \n",
       "  210.724,184.756 216.252,181.071 221.78,184.756 227.307,181.071 232.835,177.386 238.362,181.071 243.89,177.386 249.417,173.701 254.945,170.016 260.472,166.331 \n",
       "  266,162.646 271.528,166.331 277.055,170.016 282.583,166.331 288.11,162.646 293.638,158.961 299.165,162.646 304.693,166.331 310.22,162.646 315.748,166.331 \n",
       "  \n",
       "  \"/>\n",
       "<polyline clip-path=\"url(#clip02)\" style=\"stroke:#718c69; stroke-width:1; stroke-opacity:1; fill:none\" points=\"\n",
       "  44.8976,192.126 50.4252,188.441 55.9528,184.756 61.4803,188.441 67.0079,192.126 72.5354,195.811 78.063,192.126 83.5906,188.441 89.1181,184.756 94.6457,181.071 \n",
       "  100.173,184.756 105.701,181.071 111.228,177.386 116.756,181.071 122.283,184.756 127.811,181.071 133.339,177.386 138.866,181.071 144.394,177.386 149.921,173.701 \n",
       "  155.449,177.386 160.976,181.071 166.504,184.756 172.031,188.441 177.559,184.756 183.087,188.441 188.614,184.756 194.142,181.071 199.669,184.756 205.197,188.441 \n",
       "  210.724,184.756 216.252,181.071 221.78,177.386 227.307,173.701 232.835,177.386 238.362,181.071 243.89,177.386 249.417,181.071 254.945,184.756 260.472,188.441 \n",
       "  266,184.756 271.528,181.071 277.055,184.756 282.583,181.071 288.11,184.756 293.638,188.441 299.165,192.126 304.693,188.441 310.22,184.756 315.748,181.071 \n",
       "  \n",
       "  \"/>\n",
       "<polyline clip-path=\"url(#clip02)\" style=\"stroke:#47988b; stroke-width:1; stroke-opacity:1; fill:none\" points=\"\n",
       "  44.8976,192.126 50.4252,195.811 55.9528,192.126 61.4803,188.441 67.0079,184.756 72.5354,181.071 78.063,184.756 83.5906,181.071 89.1181,177.386 94.6457,181.071 \n",
       "  100.173,177.386 105.701,181.071 111.228,184.756 116.756,188.441 122.283,184.756 127.811,181.071 133.339,177.386 138.866,173.701 144.394,170.016 149.921,166.331 \n",
       "  155.449,162.646 160.976,166.331 166.504,162.646 172.031,166.331 177.559,170.016 183.087,166.331 188.614,162.646 194.142,158.961 199.669,162.646 205.197,166.331 \n",
       "  210.724,170.016 216.252,173.701 221.78,177.386 227.307,173.701 232.835,170.016 238.362,173.701 243.89,177.386 249.417,181.071 254.945,177.386 260.472,181.071 \n",
       "  266,184.756 271.528,181.071 277.055,184.756 282.583,181.071 288.11,177.386 293.638,181.071 299.165,184.756 304.693,181.071 310.22,184.756 315.748,181.071 \n",
       "  \n",
       "  \"/>\n",
       "<polyline clip-path=\"url(#clip02)\" style=\"stroke:#1ea68c; stroke-width:1; stroke-opacity:1; fill:none\" points=\"\n",
       "  44.8976,192.126 50.4252,188.441 55.9528,184.756 61.4803,188.441 67.0079,192.126 72.5354,188.441 78.063,192.126 83.5906,195.811 89.1181,199.496 94.6457,195.811 \n",
       "  100.173,192.126 105.701,188.441 111.228,192.126 116.756,188.441 122.283,184.756 127.811,181.071 133.339,184.756 138.866,188.441 144.394,192.126 149.921,188.441 \n",
       "  155.449,192.126 160.976,188.441 166.504,192.126 172.031,188.441 177.559,192.126 183.087,188.441 188.614,184.756 194.142,188.441 199.669,192.126 205.197,195.811 \n",
       "  210.724,199.496 216.252,195.811 221.78,192.126 227.307,195.811 232.835,192.126 238.362,188.441 243.89,192.126 249.417,195.811 254.945,199.496 260.472,203.181 \n",
       "  266,199.496 271.528,203.181 277.055,199.496 282.583,195.811 288.11,192.126 293.638,188.441 299.165,192.126 304.693,188.441 310.22,192.126 315.748,188.441 \n",
       "  \n",
       "  \"/>\n",
       "<polyline clip-path=\"url(#clip02)\" style=\"stroke:#af78dd; stroke-width:1; stroke-opacity:1; fill:none\" points=\"\n",
       "  44.8976,192.126 50.4252,188.441 55.9528,192.126 61.4803,188.441 67.0079,192.126 72.5354,188.441 78.063,192.126 83.5906,195.811 89.1181,199.496 94.6457,203.181 \n",
       "  100.173,206.866 105.701,210.551 111.228,214.236 116.756,210.551 122.283,206.866 127.811,210.551 133.339,214.236 138.866,210.551 144.394,214.236 149.921,210.551 \n",
       "  155.449,206.866 160.976,210.551 166.504,214.236 172.031,217.921 177.559,221.606 183.087,225.291 188.614,221.606 194.142,217.921 199.669,221.606 205.197,225.291 \n",
       "  210.724,221.606 216.252,225.291 221.78,221.606 227.307,225.291 232.835,221.606 238.362,225.291 243.89,221.606 249.417,225.291 254.945,221.606 260.472,225.291 \n",
       "  266,221.606 271.528,225.291 277.055,221.606 282.583,225.291 288.11,228.976 293.638,225.291 299.165,228.976 304.693,225.291 310.22,221.606 315.748,225.291 \n",
       "  \n",
       "  \"/>\n",
       "<polyline clip-path=\"url(#clip02)\" style=\"stroke:#868d87; stroke-width:1; stroke-opacity:1; fill:none\" points=\"\n",
       "  44.8976,192.126 50.4252,195.811 55.9528,192.126 61.4803,188.441 67.0079,192.126 72.5354,188.441 78.063,184.756 83.5906,188.441 89.1181,184.756 94.6457,188.441 \n",
       "  100.173,192.126 105.701,188.441 111.228,184.756 116.756,188.441 122.283,192.126 127.811,188.441 133.339,184.756 138.866,181.071 144.394,184.756 149.921,188.441 \n",
       "  155.449,192.126 160.976,195.811 166.504,199.496 172.031,195.811 177.559,199.496 183.087,195.811 188.614,192.126 194.142,195.811 199.669,199.496 205.197,203.181 \n",
       "  210.724,199.496 216.252,195.811 221.78,199.496 227.307,195.811 232.835,192.126 238.362,195.811 243.89,192.126 249.417,188.441 254.945,192.126 260.472,188.441 \n",
       "  266,192.126 271.528,188.441 277.055,192.126 282.583,188.441 288.11,184.756 293.638,181.071 299.165,184.756 304.693,188.441 310.22,184.756 315.748,188.441 \n",
       "  \n",
       "  \"/>\n",
       "<polyline clip-path=\"url(#clip02)\" style=\"stroke:#47a065; stroke-width:1; stroke-opacity:1; fill:none\" points=\"\n",
       "  44.8976,192.126 50.4252,195.811 55.9528,192.126 61.4803,188.441 67.0079,192.126 72.5354,188.441 78.063,184.756 83.5906,188.441 89.1181,184.756 94.6457,188.441 \n",
       "  100.173,192.126 105.701,195.811 111.228,199.496 116.756,203.181 122.283,199.496 127.811,195.811 133.339,192.126 138.866,188.441 144.394,192.126 149.921,188.441 \n",
       "  155.449,192.126 160.976,188.441 166.504,192.126 172.031,188.441 177.559,184.756 183.087,188.441 188.614,192.126 194.142,195.811 199.669,199.496 205.197,203.181 \n",
       "  210.724,199.496 216.252,203.181 221.78,206.866 227.307,203.181 232.835,206.866 238.362,210.551 243.89,214.236 249.417,210.551 254.945,214.236 260.472,217.921 \n",
       "  266,214.236 271.528,210.551 277.055,206.866 282.583,210.551 288.11,206.866 293.638,210.551 299.165,206.866 304.693,210.551 310.22,206.866 315.748,210.551 \n",
       "  \n",
       "  \"/>\n",
       "<polyline clip-path=\"url(#clip02)\" style=\"stroke:#7683af; stroke-width:1; stroke-opacity:1; fill:none\" points=\"\n",
       "  44.8976,192.126 50.4252,188.441 55.9528,184.756 61.4803,188.441 67.0079,192.126 72.5354,195.811 78.063,199.496 83.5906,203.181 89.1181,206.866 94.6457,210.551 \n",
       "  100.173,214.236 105.701,217.921 111.228,221.606 116.756,217.921 122.283,214.236 127.811,217.921 133.339,221.606 138.866,217.921 144.394,214.236 149.921,217.921 \n",
       "  155.449,221.606 160.976,225.291 166.504,221.606 172.031,217.921 177.559,214.236 183.087,217.921 188.614,221.606 194.142,217.921 199.669,214.236 205.197,217.921 \n",
       "  210.724,214.236 216.252,210.551 221.78,214.236 227.307,210.551 232.835,206.866 238.362,203.181 243.89,206.866 249.417,210.551 254.945,214.236 260.472,217.921 \n",
       "  266,214.236 271.528,210.551 277.055,206.866 282.583,210.551 288.11,214.236 293.638,217.921 299.165,214.236 304.693,217.921 310.22,214.236 315.748,210.551 \n",
       "  \n",
       "  \"/>\n",
       "<polyline clip-path=\"url(#clip02)\" style=\"stroke:#b08086; stroke-width:1; stroke-opacity:1; fill:none\" points=\"\n",
       "  44.8976,192.126 50.4252,188.441 55.9528,184.756 61.4803,188.441 67.0079,192.126 72.5354,195.811 78.063,192.126 83.5906,195.811 89.1181,199.496 94.6457,203.181 \n",
       "  100.173,206.866 105.701,210.551 111.228,206.866 116.756,210.551 122.283,214.236 127.811,210.551 133.339,206.866 138.866,203.181 144.394,199.496 149.921,203.181 \n",
       "  155.449,206.866 160.976,210.551 166.504,206.866 172.031,210.551 177.559,206.866 183.087,203.181 188.614,199.496 194.142,203.181 199.669,206.866 205.197,210.551 \n",
       "  210.724,206.866 216.252,210.551 221.78,214.236 227.307,217.921 232.835,221.606 238.362,217.921 243.89,214.236 249.417,217.921 254.945,214.236 260.472,217.921 \n",
       "  266,214.236 271.528,210.551 277.055,206.866 282.583,210.551 288.11,206.866 293.638,203.181 299.165,206.866 304.693,210.551 310.22,214.236 315.748,210.551 \n",
       "  \n",
       "  \"/>\n",
       "<polyline clip-path=\"url(#clip02)\" style=\"stroke:#309ac1; stroke-width:1; stroke-opacity:1; fill:none\" points=\"\n",
       "  44.8976,192.126 50.4252,188.441 55.9528,184.756 61.4803,181.071 67.0079,184.756 72.5354,181.071 78.063,184.756 83.5906,181.071 89.1181,177.386 94.6457,181.071 \n",
       "  100.173,177.386 105.701,173.701 111.228,170.016 116.756,173.701 122.283,177.386 127.811,181.071 133.339,177.386 138.866,181.071 144.394,184.756 149.921,181.071 \n",
       "  155.449,177.386 160.976,181.071 166.504,177.386 172.031,173.701 177.559,170.016 183.087,173.701 188.614,177.386 194.142,181.071 199.669,177.386 205.197,181.071 \n",
       "  210.724,184.756 216.252,188.441 221.78,192.126 227.307,188.441 232.835,184.756 238.362,188.441 243.89,184.756 249.417,181.071 254.945,177.386 260.472,181.071 \n",
       "  266,177.386 271.528,181.071 277.055,184.756 282.583,188.441 288.11,184.756 293.638,188.441 299.165,184.756 304.693,188.441 310.22,192.126 315.748,188.441 \n",
       "  \n",
       "  \"/>\n",
       "<polyline clip-path=\"url(#clip02)\" style=\"stroke:#788490; stroke-width:1; stroke-opacity:1; fill:none\" points=\"\n",
       "  44.8976,192.126 50.4252,188.441 55.9528,192.126 61.4803,195.811 67.0079,199.496 72.5354,203.181 78.063,199.496 83.5906,203.181 89.1181,199.496 94.6457,195.811 \n",
       "  100.173,199.496 105.701,195.811 111.228,199.496 116.756,203.181 122.283,199.496 127.811,203.181 133.339,199.496 138.866,195.811 144.394,199.496 149.921,195.811 \n",
       "  155.449,192.126 160.976,195.811 166.504,199.496 172.031,203.181 177.559,206.866 183.087,210.551 188.614,214.236 194.142,217.921 199.669,214.236 205.197,217.921 \n",
       "  210.724,214.236 216.252,217.921 221.78,221.606 227.307,225.291 232.835,228.976 238.362,225.291 243.89,221.606 249.417,217.921 254.945,214.236 260.472,217.921 \n",
       "  266,214.236 271.528,217.921 277.055,221.606 282.583,225.291 288.11,221.606 293.638,217.921 299.165,214.236 304.693,210.551 310.22,214.236 315.748,210.551 \n",
       "  \n",
       "  \"/>\n",
       "<polyline clip-path=\"url(#clip02)\" style=\"stroke:#e561a4; stroke-width:1; stroke-opacity:1; fill:none\" points=\"\n",
       "  44.8976,192.126 50.4252,195.811 55.9528,199.496 61.4803,195.811 67.0079,192.126 72.5354,195.811 78.063,192.126 83.5906,188.441 89.1181,184.756 94.6457,188.441 \n",
       "  100.173,192.126 105.701,195.811 111.228,199.496 116.756,203.181 122.283,206.866 127.811,203.181 133.339,199.496 138.866,195.811 144.394,192.126 149.921,195.811 \n",
       "  155.449,199.496 160.976,203.181 166.504,206.866 172.031,203.181 177.559,199.496 183.087,203.181 188.614,206.866 194.142,210.551 199.669,206.866 205.197,203.181 \n",
       "  210.724,206.866 216.252,203.181 221.78,206.866 227.307,203.181 232.835,206.866 238.362,203.181 243.89,206.866 249.417,203.181 254.945,199.496 260.472,203.181 \n",
       "  266,199.496 271.528,195.811 277.055,199.496 282.583,195.811 288.11,199.496 293.638,203.181 299.165,199.496 304.693,195.811 310.22,199.496 315.748,195.811 \n",
       "  \n",
       "  \"/>\n",
       "<polyline clip-path=\"url(#clip02)\" style=\"stroke:#99902c; stroke-width:1; stroke-opacity:1; fill:none\" points=\"\n",
       "  44.8976,192.126 50.4252,188.441 55.9528,192.126 61.4803,188.441 67.0079,192.126 72.5354,188.441 78.063,184.756 83.5906,181.071 89.1181,184.756 94.6457,181.071 \n",
       "  100.173,177.386 105.701,173.701 111.228,177.386 116.756,173.701 122.283,170.016 127.811,173.701 133.339,177.386 138.866,181.071 144.394,177.386 149.921,181.071 \n",
       "  155.449,177.386 160.976,181.071 166.504,177.386 172.031,181.071 177.559,184.756 183.087,188.441 188.614,192.126 194.142,188.441 199.669,192.126 205.197,195.811 \n",
       "  210.724,199.496 216.252,203.181 221.78,206.866 227.307,203.181 232.835,206.866 238.362,210.551 243.89,206.866 249.417,210.551 254.945,206.866 260.472,203.181 \n",
       "  266,206.866 271.528,203.181 277.055,206.866 282.583,210.551 288.11,206.866 293.638,203.181 299.165,199.496 304.693,203.181 310.22,199.496 315.748,195.811 \n",
       "  \n",
       "  \"/>\n",
       "<polyline clip-path=\"url(#clip02)\" style=\"stroke:#389a7b; stroke-width:1; stroke-opacity:1; fill:none\" points=\"\n",
       "  44.8976,192.126 50.4252,195.811 55.9528,199.496 61.4803,195.811 67.0079,199.496 72.5354,195.811 78.063,199.496 83.5906,203.181 89.1181,199.496 94.6457,203.181 \n",
       "  100.173,199.496 105.701,203.181 111.228,206.866 116.756,203.181 122.283,199.496 127.811,203.181 133.339,206.866 138.866,210.551 144.394,214.236 149.921,210.551 \n",
       "  155.449,206.866 160.976,203.181 166.504,206.866 172.031,210.551 177.559,206.866 183.087,210.551 188.614,206.866 194.142,203.181 199.669,199.496 205.197,195.811 \n",
       "  210.724,199.496 216.252,203.181 221.78,206.866 227.307,210.551 232.835,214.236 238.362,210.551 243.89,206.866 249.417,210.551 254.945,206.866 260.472,210.551 \n",
       "  266,214.236 271.528,210.551 277.055,206.866 282.583,203.181 288.11,206.866 293.638,210.551 299.165,214.236 304.693,217.921 310.22,221.606 315.748,225.291 \n",
       "  \n",
       "  \"/>\n",
       "<polyline clip-path=\"url(#clip02)\" style=\"stroke:#d968a2; stroke-width:1; stroke-opacity:1; fill:none\" points=\"\n",
       "  44.8976,192.126 50.4252,195.811 55.9528,192.126 61.4803,195.811 67.0079,192.126 72.5354,195.811 78.063,199.496 83.5906,203.181 89.1181,206.866 94.6457,203.181 \n",
       "  100.173,206.866 105.701,203.181 111.228,199.496 116.756,203.181 122.283,199.496 127.811,203.181 133.339,206.866 138.866,203.181 144.394,206.866 149.921,203.181 \n",
       "  155.449,206.866 160.976,210.551 166.504,206.866 172.031,203.181 177.559,206.866 183.087,210.551 188.614,206.866 194.142,210.551 199.669,206.866 205.197,203.181 \n",
       "  210.724,199.496 216.252,195.811 221.78,192.126 227.307,188.441 232.835,192.126 238.362,188.441 243.89,184.756 249.417,181.071 254.945,177.386 260.472,173.701 \n",
       "  266,170.016 271.528,166.331 277.055,162.646 282.583,158.961 288.11,162.646 293.638,166.331 299.165,170.016 304.693,166.331 310.22,170.016 315.748,166.331 \n",
       "  \n",
       "  \"/>\n",
       "<polyline clip-path=\"url(#clip02)\" style=\"stroke:#009af9; stroke-width:1; stroke-opacity:1; fill:none\" points=\"\n",
       "  44.8976,192.126 50.4252,188.441 55.9528,184.756 61.4803,188.441 67.0079,184.756 72.5354,188.441 78.063,184.756 83.5906,188.441 89.1181,192.126 94.6457,195.811 \n",
       "  100.173,192.126 105.701,195.811 111.228,199.496 116.756,203.181 122.283,206.866 127.811,203.181 133.339,199.496 138.866,195.811 144.394,199.496 149.921,195.811 \n",
       "  155.449,199.496 160.976,203.181 166.504,206.866 172.031,210.551 177.559,206.866 183.087,210.551 188.614,214.236 194.142,217.921 199.669,221.606 205.197,217.921 \n",
       "  210.724,221.606 216.252,225.291 221.78,228.976 227.307,225.291 232.835,221.606 238.362,217.921 243.89,214.236 249.417,217.921 254.945,221.606 260.472,225.291 \n",
       "  266,221.606 271.528,217.921 277.055,221.606 282.583,217.921 288.11,214.236 293.638,210.551 299.165,206.866 304.693,210.551 310.22,214.236 315.748,217.921 \n",
       "  \n",
       "  \"/>\n",
       "<polyline clip-path=\"url(#clip02)\" style=\"stroke:#e26f46; stroke-width:1; stroke-opacity:1; fill:none\" points=\"\n",
       "  44.8976,192.126 50.4252,188.441 55.9528,184.756 61.4803,188.441 67.0079,192.126 72.5354,195.811 78.063,192.126 83.5906,188.441 89.1181,192.126 94.6457,195.811 \n",
       "  100.173,199.496 105.701,195.811 111.228,199.496 116.756,203.181 122.283,199.496 127.811,203.181 133.339,199.496 138.866,195.811 144.394,199.496 149.921,195.811 \n",
       "  155.449,192.126 160.976,188.441 166.504,184.756 172.031,181.071 177.559,184.756 183.087,188.441 188.614,184.756 194.142,188.441 199.669,192.126 205.197,188.441 \n",
       "  210.724,192.126 216.252,195.811 221.78,192.126 227.307,188.441 232.835,192.126 238.362,195.811 243.89,192.126 249.417,188.441 254.945,184.756 260.472,181.071 \n",
       "  266,177.386 271.528,173.701 277.055,177.386 282.583,173.701 288.11,177.386 293.638,181.071 299.165,177.386 304.693,181.071 310.22,177.386 315.748,173.701 \n",
       "  \n",
       "  \"/>\n",
       "<polyline clip-path=\"url(#clip02)\" style=\"stroke:#3da44d; stroke-width:1; stroke-opacity:1; fill:none\" points=\"\n",
       "  44.8976,192.126 50.4252,195.811 55.9528,192.126 61.4803,195.811 67.0079,199.496 72.5354,195.811 78.063,199.496 83.5906,203.181 89.1181,199.496 94.6457,195.811 \n",
       "  100.173,192.126 105.701,188.441 111.228,192.126 116.756,188.441 122.283,184.756 127.811,181.071 133.339,177.386 138.866,181.071 144.394,184.756 149.921,188.441 \n",
       "  155.449,192.126 160.976,188.441 166.504,192.126 172.031,188.441 177.559,184.756 183.087,181.071 188.614,184.756 194.142,181.071 199.669,177.386 205.197,173.701 \n",
       "  210.724,170.016 216.252,166.331 221.78,162.646 227.307,166.331 232.835,162.646 238.362,166.331 243.89,170.016 249.417,173.701 254.945,170.016 260.472,173.701 \n",
       "  266,177.386 271.528,173.701 277.055,177.386 282.583,173.701 288.11,170.016 293.638,166.331 299.165,170.016 304.693,166.331 310.22,162.646 315.748,158.961 \n",
       "  \n",
       "  \"/>\n",
       "<polyline clip-path=\"url(#clip02)\" style=\"stroke:#c271d2; stroke-width:1; stroke-opacity:1; fill:none\" points=\"\n",
       "  44.8976,192.126 50.4252,195.811 55.9528,192.126 61.4803,188.441 67.0079,192.126 72.5354,195.811 78.063,192.126 83.5906,195.811 89.1181,199.496 94.6457,203.181 \n",
       "  100.173,199.496 105.701,195.811 111.228,199.496 116.756,195.811 122.283,199.496 127.811,195.811 133.339,199.496 138.866,195.811 144.394,192.126 149.921,188.441 \n",
       "  155.449,192.126 160.976,188.441 166.504,184.756 172.031,181.071 177.559,177.386 183.087,173.701 188.614,177.386 194.142,173.701 199.669,170.016 205.197,166.331 \n",
       "  210.724,162.646 216.252,158.961 221.78,162.646 227.307,166.331 232.835,170.016 238.362,173.701 243.89,177.386 249.417,181.071 254.945,184.756 260.472,188.441 \n",
       "  266,184.756 271.528,181.071 277.055,184.756 282.583,188.441 288.11,184.756 293.638,181.071 299.165,184.756 304.693,181.071 310.22,184.756 315.748,181.071 \n",
       "  \n",
       "  \"/>\n",
       "<polyline clip-path=\"url(#clip02)\" style=\"stroke:#ac8d18; stroke-width:1; stroke-opacity:1; fill:none\" points=\"\n",
       "  44.8976,192.126 50.4252,188.441 55.9528,192.126 61.4803,188.441 67.0079,192.126 72.5354,188.441 78.063,192.126 83.5906,188.441 89.1181,184.756 94.6457,188.441 \n",
       "  100.173,192.126 105.701,195.811 111.228,192.126 116.756,188.441 122.283,192.126 127.811,195.811 133.339,199.496 138.866,195.811 144.394,199.496 149.921,195.811 \n",
       "  155.449,192.126 160.976,195.811 166.504,192.126 172.031,195.811 177.559,199.496 183.087,203.181 188.614,206.866 194.142,210.551 199.669,206.866 205.197,210.551 \n",
       "  210.724,206.866 216.252,203.181 221.78,199.496 227.307,203.181 232.835,199.496 238.362,195.811 243.89,192.126 249.417,195.811 254.945,199.496 260.472,203.181 \n",
       "  266,206.866 271.528,203.181 277.055,199.496 282.583,203.181 288.11,206.866 293.638,203.181 299.165,206.866 304.693,203.181 310.22,206.866 315.748,210.551 \n",
       "  \n",
       "  \"/>\n",
       "<polyline clip-path=\"url(#clip02)\" style=\"stroke:#00a9ad; stroke-width:1; stroke-opacity:1; fill:none\" points=\"\n",
       "  44.8976,192.126 50.4252,195.811 55.9528,199.496 61.4803,195.811 67.0079,192.126 72.5354,188.441 78.063,184.756 83.5906,181.071 89.1181,177.386 94.6457,181.071 \n",
       "  100.173,184.756 105.701,188.441 111.228,184.756 116.756,188.441 122.283,192.126 127.811,188.441 133.339,192.126 138.866,195.811 144.394,199.496 149.921,195.811 \n",
       "  155.449,199.496 160.976,195.811 166.504,192.126 172.031,188.441 177.559,184.756 183.087,188.441 188.614,184.756 194.142,188.441 199.669,184.756 205.197,188.441 \n",
       "  210.724,192.126 216.252,188.441 221.78,184.756 227.307,181.071 232.835,184.756 238.362,181.071 243.89,177.386 249.417,181.071 254.945,177.386 260.472,181.071 \n",
       "  266,177.386 271.528,173.701 277.055,177.386 282.583,173.701 288.11,170.016 293.638,166.331 299.165,162.646 304.693,158.961 310.22,155.276 315.748,158.961 \n",
       "  \n",
       "  \"/>\n",
       "<polyline clip-path=\"url(#clip02)\" style=\"stroke:#ed5d92; stroke-width:1; stroke-opacity:1; fill:none\" points=\"\n",
       "  44.8976,192.126 50.4252,188.441 55.9528,184.756 61.4803,188.441 67.0079,192.126 72.5354,188.441 78.063,192.126 83.5906,188.441 89.1181,184.756 94.6457,188.441 \n",
       "  100.173,192.126 105.701,188.441 111.228,184.756 116.756,188.441 122.283,192.126 127.811,188.441 133.339,184.756 138.866,188.441 144.394,192.126 149.921,195.811 \n",
       "  155.449,192.126 160.976,195.811 166.504,192.126 172.031,188.441 177.559,184.756 183.087,188.441 188.614,192.126 194.142,195.811 199.669,199.496 205.197,203.181 \n",
       "  210.724,206.866 216.252,210.551 221.78,206.866 227.307,210.551 232.835,206.866 238.362,203.181 243.89,206.866 249.417,203.181 254.945,206.866 260.472,210.551 \n",
       "  266,206.866 271.528,210.551 277.055,206.866 282.583,210.551 288.11,206.866 293.638,210.551 299.165,214.236 304.693,210.551 310.22,214.236 315.748,210.551 \n",
       "  \n",
       "  \"/>\n",
       "<polyline clip-path=\"url(#clip02)\" style=\"stroke:#c68125; stroke-width:1; stroke-opacity:1; fill:none\" points=\"\n",
       "  44.8976,192.126 50.4252,195.811 55.9528,192.126 61.4803,188.441 67.0079,184.756 72.5354,188.441 78.063,192.126 83.5906,195.811 89.1181,192.126 94.6457,195.811 \n",
       "  100.173,199.496 105.701,195.811 111.228,199.496 116.756,195.811 122.283,199.496 127.811,195.811 133.339,199.496 138.866,203.181 144.394,206.866 149.921,203.181 \n",
       "  155.449,199.496 160.976,195.811 166.504,199.496 172.031,203.181 177.559,206.866 183.087,210.551 188.614,206.866 194.142,203.181 199.669,206.866 205.197,203.181 \n",
       "  210.724,206.866 216.252,210.551 221.78,206.866 227.307,203.181 232.835,206.866 238.362,210.551 243.89,214.236 249.417,210.551 254.945,214.236 260.472,217.921 \n",
       "  266,214.236 271.528,210.551 277.055,206.866 282.583,203.181 288.11,206.866 293.638,210.551 299.165,214.236 304.693,217.921 310.22,214.236 315.748,217.921 \n",
       "  \n",
       "  \"/>\n",
       "<polyline clip-path=\"url(#clip02)\" style=\"stroke:#00a98d; stroke-width:1; stroke-opacity:1; fill:none\" points=\"\n",
       "  44.8976,192.126 50.4252,195.811 55.9528,199.496 61.4803,203.181 67.0079,199.496 72.5354,195.811 78.063,199.496 83.5906,203.181 89.1181,206.866 94.6457,203.181 \n",
       "  100.173,206.866 105.701,203.181 111.228,199.496 116.756,203.181 122.283,199.496 127.811,195.811 133.339,199.496 138.866,203.181 144.394,199.496 149.921,203.181 \n",
       "  155.449,206.866 160.976,203.181 166.504,206.866 172.031,210.551 177.559,206.866 183.087,203.181 188.614,199.496 194.142,203.181 199.669,199.496 205.197,203.181 \n",
       "  210.724,206.866 216.252,210.551 221.78,214.236 227.307,210.551 232.835,214.236 238.362,217.921 243.89,214.236 249.417,210.551 254.945,206.866 260.472,203.181 \n",
       "  266,199.496 271.528,203.181 277.055,199.496 282.583,203.181 288.11,199.496 293.638,195.811 299.165,199.496 304.693,203.181 310.22,199.496 315.748,203.181 \n",
       "  \n",
       "  \"/>\n",
       "<polyline clip-path=\"url(#clip02)\" style=\"stroke:#8e971d; stroke-width:1; stroke-opacity:1; fill:none\" points=\"\n",
       "  44.8976,192.126 50.4252,195.811 55.9528,199.496 61.4803,195.811 67.0079,192.126 72.5354,195.811 78.063,192.126 83.5906,188.441 89.1181,184.756 94.6457,188.441 \n",
       "  100.173,184.756 105.701,181.071 111.228,177.386 116.756,173.701 122.283,177.386 127.811,181.071 133.339,177.386 138.866,181.071 144.394,184.756 149.921,181.071 \n",
       "  155.449,184.756 160.976,181.071 166.504,184.756 172.031,188.441 177.559,192.126 183.087,195.811 188.614,199.496 194.142,203.181 199.669,199.496 205.197,195.811 \n",
       "  210.724,192.126 216.252,188.441 221.78,184.756 227.307,188.441 232.835,184.756 238.362,181.071 243.89,177.386 249.417,181.071 254.945,184.756 260.472,181.071 \n",
       "  266,184.756 271.528,188.441 277.055,184.756 282.583,188.441 288.11,192.126 293.638,195.811 299.165,199.496 304.693,203.181 310.22,206.866 315.748,203.181 \n",
       "  \n",
       "  \"/>\n",
       "<polyline clip-path=\"url(#clip02)\" style=\"stroke:#00a8cb; stroke-width:1; stroke-opacity:1; fill:none\" points=\"\n",
       "  44.8976,192.126 50.4252,188.441 55.9528,192.126 61.4803,188.441 67.0079,192.126 72.5354,188.441 78.063,192.126 83.5906,195.811 89.1181,192.126 94.6457,195.811 \n",
       "  100.173,192.126 105.701,188.441 111.228,184.756 116.756,181.071 122.283,184.756 127.811,181.071 133.339,184.756 138.866,181.071 144.394,184.756 149.921,188.441 \n",
       "  155.449,192.126 160.976,188.441 166.504,192.126 172.031,195.811 177.559,192.126 183.087,188.441 188.614,192.126 194.142,188.441 199.669,184.756 205.197,181.071 \n",
       "  210.724,184.756 216.252,181.071 221.78,177.386 227.307,181.071 232.835,177.386 238.362,173.701 243.89,177.386 249.417,181.071 254.945,177.386 260.472,173.701 \n",
       "  266,170.016 271.528,166.331 277.055,162.646 282.583,166.331 288.11,170.016 293.638,166.331 299.165,162.646 304.693,158.961 310.22,162.646 315.748,166.331 \n",
       "  \n",
       "  \"/>\n",
       "<polyline clip-path=\"url(#clip02)\" style=\"stroke:#9b7fe8; stroke-width:1; stroke-opacity:1; fill:none\" points=\"\n",
       "  44.8976,192.126 50.4252,195.811 55.9528,192.126 61.4803,195.811 67.0079,199.496 72.5354,195.811 78.063,192.126 83.5906,195.811 89.1181,199.496 94.6457,195.811 \n",
       "  100.173,192.126 105.701,195.811 111.228,192.126 116.756,188.441 122.283,184.756 127.811,181.071 133.339,184.756 138.866,181.071 144.394,177.386 149.921,173.701 \n",
       "  155.449,177.386 160.976,181.071 166.504,177.386 172.031,181.071 177.559,184.756 183.087,188.441 188.614,192.126 194.142,195.811 199.669,192.126 205.197,188.441 \n",
       "  210.724,192.126 216.252,195.811 221.78,199.496 227.307,195.811 232.835,199.496 238.362,195.811 243.89,199.496 249.417,195.811 254.945,199.496 260.472,195.811 \n",
       "  266,192.126 271.528,188.441 277.055,184.756 282.583,181.071 288.11,177.386 293.638,173.701 299.165,177.386 304.693,173.701 310.22,177.386 315.748,181.071 \n",
       "  \n",
       "  \"/>\n",
       "<polyline clip-path=\"url(#clip02)\" style=\"stroke:#608cf6; stroke-width:1; stroke-opacity:1; fill:none\" points=\"\n",
       "  44.8976,192.126 50.4252,195.811 55.9528,192.126 61.4803,188.441 67.0079,192.126 72.5354,195.811 78.063,192.126 83.5906,195.811 89.1181,192.126 94.6457,195.811 \n",
       "  100.173,192.126 105.701,195.811 111.228,192.126 116.756,195.811 122.283,199.496 127.811,195.811 133.339,199.496 138.866,195.811 144.394,192.126 149.921,195.811 \n",
       "  155.449,199.496 160.976,195.811 166.504,192.126 172.031,195.811 177.559,192.126 183.087,188.441 188.614,184.756 194.142,188.441 199.669,192.126 205.197,195.811 \n",
       "  210.724,192.126 216.252,195.811 221.78,192.126 227.307,195.811 232.835,199.496 238.362,203.181 243.89,206.866 249.417,210.551 254.945,214.236 260.472,210.551 \n",
       "  266,214.236 271.528,210.551 277.055,206.866 282.583,203.181 288.11,206.866 293.638,210.551 299.165,214.236 304.693,210.551 310.22,206.866 315.748,210.551 \n",
       "  \n",
       "  \"/>\n",
       "<polyline clip-path=\"url(#clip02)\" style=\"stroke:#f05f73; stroke-width:1; stroke-opacity:1; fill:none\" points=\"\n",
       "  44.8976,192.126 50.4252,188.441 55.9528,192.126 61.4803,195.811 67.0079,199.496 72.5354,203.181 78.063,206.866 83.5906,210.551 89.1181,214.236 94.6457,217.921 \n",
       "  100.173,221.606 105.701,225.291 111.228,221.606 116.756,217.921 122.283,221.606 127.811,225.291 133.339,221.606 138.866,217.921 144.394,221.606 149.921,217.921 \n",
       "  155.449,214.236 160.976,210.551 166.504,206.866 172.031,210.551 177.559,206.866 183.087,210.551 188.614,214.236 194.142,217.921 199.669,221.606 205.197,217.921 \n",
       "  210.724,221.606 216.252,217.921 221.78,221.606 227.307,217.921 232.835,214.236 238.362,217.921 243.89,214.236 249.417,217.921 254.945,214.236 260.472,217.921 \n",
       "  266,214.236 271.528,217.921 277.055,221.606 282.583,225.291 288.11,228.976 293.638,232.661 299.165,228.976 304.693,225.291 310.22,228.976 315.748,232.661 \n",
       "  \n",
       "  \"/>\n",
       "<polyline clip-path=\"url(#clip02)\" style=\"stroke:#dd64b5; stroke-width:1; stroke-opacity:1; fill:none\" points=\"\n",
       "  44.8976,192.126 50.4252,188.441 55.9528,192.126 61.4803,188.441 67.0079,184.756 72.5354,181.071 78.063,184.756 83.5906,188.441 89.1181,184.756 94.6457,181.071 \n",
       "  100.173,177.386 105.701,181.071 111.228,184.756 116.756,181.071 122.283,177.386 127.811,173.701 133.339,177.386 138.866,173.701 144.394,170.016 149.921,173.701 \n",
       "  155.449,170.016 160.976,173.701 166.504,170.016 172.031,166.331 177.559,162.646 183.087,158.961 188.614,162.646 194.142,166.331 199.669,170.016 205.197,173.701 \n",
       "  210.724,177.386 216.252,173.701 221.78,170.016 227.307,173.701 232.835,177.386 238.362,173.701 243.89,170.016 249.417,166.331 254.945,170.016 260.472,173.701 \n",
       "  266,177.386 271.528,181.071 277.055,177.386 282.583,181.071 288.11,184.756 293.638,188.441 299.165,184.756 304.693,181.071 310.22,184.756 315.748,188.441 \n",
       "  \n",
       "  \"/>\n",
       "<polyline clip-path=\"url(#clip02)\" style=\"stroke:#6b9e32; stroke-width:1; stroke-opacity:1; fill:none\" points=\"\n",
       "  44.8976,192.126 50.4252,195.811 55.9528,192.126 61.4803,195.811 67.0079,192.126 72.5354,195.811 78.063,199.496 83.5906,195.811 89.1181,192.126 94.6457,195.811 \n",
       "  100.173,199.496 105.701,203.181 111.228,206.866 116.756,210.551 122.283,214.236 127.811,210.551 133.339,206.866 138.866,210.551 144.394,214.236 149.921,217.921 \n",
       "  155.449,214.236 160.976,210.551 166.504,206.866 172.031,210.551 177.559,206.866 183.087,210.551 188.614,206.866 194.142,210.551 199.669,206.866 205.197,203.181 \n",
       "  210.724,206.866 216.252,203.181 221.78,199.496 227.307,195.811 232.835,192.126 238.362,195.811 243.89,192.126 249.417,188.441 254.945,192.126 260.472,188.441 \n",
       "  266,192.126 271.528,195.811 277.055,192.126 282.583,195.811 288.11,199.496 293.638,195.811 299.165,192.126 304.693,195.811 310.22,192.126 315.748,195.811 \n",
       "  \n",
       "  \"/>\n",
       "<polyline clip-path=\"url(#clip02)\" style=\"stroke:#718c69; stroke-width:1; stroke-opacity:1; fill:none\" points=\"\n",
       "  44.8976,192.126 50.4252,195.811 55.9528,192.126 61.4803,195.811 67.0079,192.126 72.5354,195.811 78.063,199.496 83.5906,203.181 89.1181,206.866 94.6457,210.551 \n",
       "  100.173,214.236 105.701,217.921 111.228,214.236 116.756,210.551 122.283,206.866 127.811,210.551 133.339,206.866 138.866,210.551 144.394,214.236 149.921,210.551 \n",
       "  155.449,206.866 160.976,210.551 166.504,206.866 172.031,203.181 177.559,206.866 183.087,210.551 188.614,206.866 194.142,210.551 199.669,206.866 205.197,203.181 \n",
       "  210.724,199.496 216.252,203.181 221.78,206.866 227.307,210.551 232.835,206.866 238.362,210.551 243.89,214.236 249.417,217.921 254.945,214.236 260.472,217.921 \n",
       "  266,214.236 271.528,210.551 277.055,206.866 282.583,203.181 288.11,206.866 293.638,210.551 299.165,214.236 304.693,210.551 310.22,214.236 315.748,210.551 \n",
       "  \n",
       "  \"/>\n",
       "<polyline clip-path=\"url(#clip02)\" style=\"stroke:#47988b; stroke-width:1; stroke-opacity:1; fill:none\" points=\"\n",
       "  44.8976,192.126 50.4252,195.811 55.9528,192.126 61.4803,195.811 67.0079,192.126 72.5354,195.811 78.063,199.496 83.5906,203.181 89.1181,206.866 94.6457,203.181 \n",
       "  100.173,206.866 105.701,203.181 111.228,206.866 116.756,210.551 122.283,206.866 127.811,210.551 133.339,206.866 138.866,210.551 144.394,214.236 149.921,210.551 \n",
       "  155.449,214.236 160.976,217.921 166.504,221.606 172.031,225.291 177.559,228.976 183.087,232.661 188.614,236.346 194.142,232.661 199.669,236.346 205.197,232.661 \n",
       "  210.724,236.346 216.252,240.031 221.78,236.346 227.307,232.661 232.835,228.976 238.362,232.661 243.89,236.346 249.417,232.661 254.945,236.346 260.472,240.031 \n",
       "  266,236.346 271.528,232.661 277.055,228.976 282.583,232.661 288.11,228.976 293.638,225.291 299.165,228.976 304.693,225.291 310.22,221.606 315.748,225.291 \n",
       "  \n",
       "  \"/>\n",
       "<polyline clip-path=\"url(#clip02)\" style=\"stroke:#1ea68c; stroke-width:1; stroke-opacity:1; fill:none\" points=\"\n",
       "  44.8976,192.126 50.4252,188.441 55.9528,184.756 61.4803,181.071 67.0079,177.386 72.5354,173.701 78.063,170.016 83.5906,173.701 89.1181,177.386 94.6457,173.701 \n",
       "  100.173,177.386 105.701,173.701 111.228,177.386 116.756,173.701 122.283,170.016 127.811,166.331 133.339,162.646 138.866,166.331 144.394,170.016 149.921,166.331 \n",
       "  155.449,162.646 160.976,158.961 166.504,162.646 172.031,158.961 177.559,155.276 183.087,158.961 188.614,155.276 194.142,158.961 199.669,155.276 205.197,151.591 \n",
       "  210.724,155.276 216.252,151.591 221.78,155.276 227.307,151.591 232.835,155.276 238.362,151.591 243.89,147.906 249.417,144.22 254.945,147.906 260.472,151.591 \n",
       "  266,155.276 271.528,158.961 277.055,162.646 282.583,158.961 288.11,155.276 293.638,158.961 299.165,162.646 304.693,158.961 310.22,155.276 315.748,151.591 \n",
       "  \n",
       "  \"/>\n",
       "<polyline clip-path=\"url(#clip02)\" style=\"stroke:#af78dd; stroke-width:1; stroke-opacity:1; fill:none\" points=\"\n",
       "  44.8976,192.126 50.4252,188.441 55.9528,192.126 61.4803,195.811 67.0079,192.126 72.5354,188.441 78.063,192.126 83.5906,195.811 89.1181,192.126 94.6457,188.441 \n",
       "  100.173,192.126 105.701,195.811 111.228,192.126 116.756,188.441 122.283,192.126 127.811,188.441 133.339,192.126 138.866,188.441 144.394,184.756 149.921,181.071 \n",
       "  155.449,184.756 160.976,188.441 166.504,192.126 172.031,195.811 177.559,192.126 183.087,188.441 188.614,184.756 194.142,181.071 199.669,177.386 205.197,173.701 \n",
       "  210.724,170.016 216.252,166.331 221.78,170.016 227.307,173.701 232.835,170.016 238.362,166.331 243.89,170.016 249.417,166.331 254.945,170.016 260.472,173.701 \n",
       "  266,170.016 271.528,173.701 277.055,170.016 282.583,166.331 288.11,170.016 293.638,166.331 299.165,162.646 304.693,166.331 310.22,162.646 315.748,158.961 \n",
       "  \n",
       "  \"/>\n",
       "<polyline clip-path=\"url(#clip02)\" style=\"stroke:#868d87; stroke-width:1; stroke-opacity:1; fill:none\" points=\"\n",
       "  44.8976,192.126 50.4252,195.811 55.9528,192.126 61.4803,195.811 67.0079,192.126 72.5354,188.441 78.063,192.126 83.5906,195.811 89.1181,192.126 94.6457,195.811 \n",
       "  100.173,192.126 105.701,195.811 111.228,199.496 116.756,195.811 122.283,192.126 127.811,195.811 133.339,199.496 138.866,203.181 144.394,199.496 149.921,195.811 \n",
       "  155.449,192.126 160.976,188.441 166.504,184.756 172.031,181.071 177.559,177.386 183.087,181.071 188.614,177.386 194.142,173.701 199.669,170.016 205.197,166.331 \n",
       "  210.724,162.646 216.252,166.331 221.78,162.646 227.307,158.961 232.835,162.646 238.362,166.331 243.89,162.646 249.417,166.331 254.945,170.016 260.472,173.701 \n",
       "  266,177.386 271.528,181.071 277.055,184.756 282.583,188.441 288.11,184.756 293.638,188.441 299.165,184.756 304.693,188.441 310.22,192.126 315.748,188.441 \n",
       "  \n",
       "  \"/>\n",
       "<polyline clip-path=\"url(#clip02)\" style=\"stroke:#47a065; stroke-width:1; stroke-opacity:1; fill:none\" points=\"\n",
       "  44.8976,192.126 50.4252,188.441 55.9528,184.756 61.4803,181.071 67.0079,177.386 72.5354,181.071 78.063,177.386 83.5906,173.701 89.1181,177.386 94.6457,173.701 \n",
       "  100.173,177.386 105.701,181.071 111.228,177.386 116.756,173.701 122.283,177.386 127.811,173.701 133.339,170.016 138.866,173.701 144.394,177.386 149.921,173.701 \n",
       "  155.449,177.386 160.976,181.071 166.504,184.756 172.031,181.071 177.559,177.386 183.087,173.701 188.614,170.016 194.142,166.331 199.669,170.016 205.197,166.331 \n",
       "  210.724,170.016 216.252,166.331 221.78,162.646 227.307,158.961 232.835,155.276 238.362,158.961 243.89,155.276 249.417,151.591 254.945,155.276 260.472,151.591 \n",
       "  266,147.906 271.528,151.591 277.055,155.276 282.583,158.961 288.11,155.276 293.638,151.591 299.165,155.276 304.693,151.591 310.22,155.276 315.748,158.961 \n",
       "  \n",
       "  \"/>\n",
       "<polyline clip-path=\"url(#clip02)\" style=\"stroke:#7683af; stroke-width:1; stroke-opacity:1; fill:none\" points=\"\n",
       "  44.8976,192.126 50.4252,195.811 55.9528,192.126 61.4803,195.811 67.0079,192.126 72.5354,188.441 78.063,184.756 83.5906,188.441 89.1181,192.126 94.6457,188.441 \n",
       "  100.173,192.126 105.701,195.811 111.228,192.126 116.756,195.811 122.283,192.126 127.811,195.811 133.339,199.496 138.866,203.181 144.394,206.866 149.921,203.181 \n",
       "  155.449,206.866 160.976,203.181 166.504,199.496 172.031,195.811 177.559,192.126 183.087,195.811 188.614,199.496 194.142,195.811 199.669,192.126 205.197,195.811 \n",
       "  210.724,192.126 216.252,188.441 221.78,192.126 227.307,188.441 232.835,192.126 238.362,188.441 243.89,184.756 249.417,181.071 254.945,184.756 260.472,181.071 \n",
       "  266,177.386 271.528,181.071 277.055,177.386 282.583,181.071 288.11,184.756 293.638,188.441 299.165,192.126 304.693,195.811 310.22,192.126 315.748,188.441 \n",
       "  \n",
       "  \"/>\n",
       "<polyline clip-path=\"url(#clip02)\" style=\"stroke:#b08086; stroke-width:1; stroke-opacity:1; fill:none\" points=\"\n",
       "  44.8976,192.126 50.4252,195.811 55.9528,199.496 61.4803,195.811 67.0079,192.126 72.5354,188.441 78.063,184.756 83.5906,181.071 89.1181,177.386 94.6457,173.701 \n",
       "  100.173,177.386 105.701,173.701 111.228,177.386 116.756,173.701 122.283,170.016 127.811,173.701 133.339,170.016 138.866,166.331 144.394,162.646 149.921,166.331 \n",
       "  155.449,162.646 160.976,158.961 166.504,162.646 172.031,158.961 177.559,162.646 183.087,166.331 188.614,170.016 194.142,166.331 199.669,170.016 205.197,173.701 \n",
       "  210.724,170.016 216.252,166.331 221.78,170.016 227.307,166.331 232.835,162.646 238.362,158.961 243.89,162.646 249.417,166.331 254.945,162.646 260.472,166.331 \n",
       "  266,170.016 271.528,173.701 277.055,170.016 282.583,166.331 288.11,162.646 293.638,166.331 299.165,162.646 304.693,158.961 310.22,155.276 315.748,151.591 \n",
       "  \n",
       "  \"/>\n",
       "<polyline clip-path=\"url(#clip02)\" style=\"stroke:#309ac1; stroke-width:1; stroke-opacity:1; fill:none\" points=\"\n",
       "  44.8976,192.126 50.4252,188.441 55.9528,192.126 61.4803,188.441 67.0079,192.126 72.5354,188.441 78.063,192.126 83.5906,195.811 89.1181,192.126 94.6457,188.441 \n",
       "  100.173,184.756 105.701,188.441 111.228,184.756 116.756,181.071 122.283,177.386 127.811,173.701 133.339,170.016 138.866,173.701 144.394,170.016 149.921,173.701 \n",
       "  155.449,177.386 160.976,181.071 166.504,177.386 172.031,181.071 177.559,184.756 183.087,188.441 188.614,184.756 194.142,188.441 199.669,192.126 205.197,195.811 \n",
       "  210.724,192.126 216.252,195.811 221.78,192.126 227.307,188.441 232.835,192.126 238.362,188.441 243.89,192.126 249.417,188.441 254.945,184.756 260.472,188.441 \n",
       "  266,192.126 271.528,195.811 277.055,199.496 282.583,203.181 288.11,199.496 293.638,203.181 299.165,206.866 304.693,203.181 310.22,206.866 315.748,203.181 \n",
       "  \n",
       "  \"/>\n",
       "<polyline clip-path=\"url(#clip02)\" style=\"stroke:#788490; stroke-width:1; stroke-opacity:1; fill:none\" points=\"\n",
       "  44.8976,192.126 50.4252,195.811 55.9528,192.126 61.4803,188.441 67.0079,184.756 72.5354,181.071 78.063,177.386 83.5906,181.071 89.1181,177.386 94.6457,181.071 \n",
       "  100.173,184.756 105.701,188.441 111.228,192.126 116.756,188.441 122.283,192.126 127.811,188.441 133.339,184.756 138.866,181.071 144.394,184.756 149.921,181.071 \n",
       "  155.449,184.756 160.976,181.071 166.504,177.386 172.031,173.701 177.559,170.016 183.087,173.701 188.614,170.016 194.142,173.701 199.669,170.016 205.197,166.331 \n",
       "  210.724,170.016 216.252,166.331 221.78,162.646 227.307,158.961 232.835,162.646 238.362,158.961 243.89,162.646 249.417,158.961 254.945,155.276 260.472,158.961 \n",
       "  266,162.646 271.528,166.331 277.055,162.646 282.583,158.961 288.11,155.276 293.638,151.591 299.165,155.276 304.693,158.961 310.22,162.646 315.748,158.961 \n",
       "  \n",
       "  \"/>\n",
       "<polyline clip-path=\"url(#clip02)\" style=\"stroke:#e561a4; stroke-width:1; stroke-opacity:1; fill:none\" points=\"\n",
       "  44.8976,192.126 50.4252,188.441 55.9528,192.126 61.4803,195.811 67.0079,192.126 72.5354,195.811 78.063,199.496 83.5906,195.811 89.1181,192.126 94.6457,188.441 \n",
       "  100.173,192.126 105.701,188.441 111.228,192.126 116.756,195.811 122.283,199.496 127.811,195.811 133.339,199.496 138.866,203.181 144.394,206.866 149.921,203.181 \n",
       "  155.449,206.866 160.976,210.551 166.504,206.866 172.031,203.181 177.559,206.866 183.087,203.181 188.614,199.496 194.142,195.811 199.669,192.126 205.197,195.811 \n",
       "  210.724,199.496 216.252,203.181 221.78,199.496 227.307,203.181 232.835,206.866 238.362,203.181 243.89,199.496 249.417,195.811 254.945,199.496 260.472,195.811 \n",
       "  266,199.496 271.528,203.181 277.055,206.866 282.583,210.551 288.11,214.236 293.638,210.551 299.165,206.866 304.693,203.181 310.22,199.496 315.748,203.181 \n",
       "  \n",
       "  \"/>\n",
       "<polyline clip-path=\"url(#clip02)\" style=\"stroke:#99902c; stroke-width:1; stroke-opacity:1; fill:none\" points=\"\n",
       "  44.8976,192.126 50.4252,195.811 55.9528,199.496 61.4803,195.811 67.0079,192.126 72.5354,195.811 78.063,199.496 83.5906,195.811 89.1181,192.126 94.6457,195.811 \n",
       "  100.173,192.126 105.701,195.811 111.228,199.496 116.756,195.811 122.283,199.496 127.811,203.181 133.339,199.496 138.866,203.181 144.394,206.866 149.921,203.181 \n",
       "  155.449,206.866 160.976,210.551 166.504,206.866 172.031,203.181 177.559,206.866 183.087,210.551 188.614,214.236 194.142,217.921 199.669,221.606 205.197,217.921 \n",
       "  210.724,221.606 216.252,217.921 221.78,214.236 227.307,217.921 232.835,221.606 238.362,217.921 243.89,221.606 249.417,225.291 254.945,221.606 260.472,217.921 \n",
       "  266,221.606 271.528,225.291 277.055,221.606 282.583,217.921 288.11,214.236 293.638,210.551 299.165,214.236 304.693,217.921 310.22,221.606 315.748,225.291 \n",
       "  \n",
       "  \"/>\n",
       "<polyline clip-path=\"url(#clip02)\" style=\"stroke:#389a7b; stroke-width:1; stroke-opacity:1; fill:none\" points=\"\n",
       "  44.8976,192.126 50.4252,195.811 55.9528,192.126 61.4803,195.811 67.0079,192.126 72.5354,188.441 78.063,192.126 83.5906,195.811 89.1181,192.126 94.6457,195.811 \n",
       "  100.173,199.496 105.701,195.811 111.228,199.496 116.756,195.811 122.283,199.496 127.811,195.811 133.339,192.126 138.866,195.811 144.394,192.126 149.921,195.811 \n",
       "  155.449,199.496 160.976,195.811 166.504,199.496 172.031,203.181 177.559,206.866 183.087,210.551 188.614,214.236 194.142,210.551 199.669,214.236 205.197,217.921 \n",
       "  210.724,221.606 216.252,225.291 221.78,221.606 227.307,225.291 232.835,221.606 238.362,225.291 243.89,221.606 249.417,217.921 254.945,221.606 260.472,225.291 \n",
       "  266,221.606 271.528,217.921 277.055,214.236 282.583,217.921 288.11,214.236 293.638,217.921 299.165,214.236 304.693,217.921 310.22,221.606 315.748,225.291 \n",
       "  \n",
       "  \"/>\n",
       "<polyline clip-path=\"url(#clip02)\" style=\"stroke:#d968a2; stroke-width:1; stroke-opacity:1; fill:none\" points=\"\n",
       "  44.8976,192.126 50.4252,188.441 55.9528,192.126 61.4803,195.811 67.0079,192.126 72.5354,195.811 78.063,199.496 83.5906,203.181 89.1181,206.866 94.6457,203.181 \n",
       "  100.173,199.496 105.701,195.811 111.228,192.126 116.756,195.811 122.283,199.496 127.811,203.181 133.339,199.496 138.866,195.811 144.394,199.496 149.921,195.811 \n",
       "  155.449,199.496 160.976,195.811 166.504,199.496 172.031,203.181 177.559,199.496 183.087,203.181 188.614,199.496 194.142,203.181 199.669,206.866 205.197,210.551 \n",
       "  210.724,214.236 216.252,217.921 221.78,214.236 227.307,217.921 232.835,214.236 238.362,210.551 243.89,214.236 249.417,210.551 254.945,206.866 260.472,203.181 \n",
       "  266,199.496 271.528,203.181 277.055,206.866 282.583,203.181 288.11,206.866 293.638,210.551 299.165,214.236 304.693,210.551 310.22,206.866 315.748,210.551 \n",
       "  \n",
       "  \"/>\n",
       "<polyline clip-path=\"url(#clip02)\" style=\"stroke:#009af9; stroke-width:1; stroke-opacity:1; fill:none\" points=\"\n",
       "  44.8976,192.126 50.4252,195.811 55.9528,199.496 61.4803,195.811 67.0079,199.496 72.5354,195.811 78.063,192.126 83.5906,195.811 89.1181,199.496 94.6457,195.811 \n",
       "  100.173,199.496 105.701,203.181 111.228,199.496 116.756,203.181 122.283,199.496 127.811,195.811 133.339,199.496 138.866,195.811 144.394,192.126 149.921,195.811 \n",
       "  155.449,192.126 160.976,188.441 166.504,192.126 172.031,188.441 177.559,192.126 183.087,188.441 188.614,192.126 194.142,195.811 199.669,199.496 205.197,203.181 \n",
       "  210.724,199.496 216.252,195.811 221.78,192.126 227.307,195.811 232.835,192.126 238.362,188.441 243.89,192.126 249.417,195.811 254.945,199.496 260.472,203.181 \n",
       "  266,206.866 271.528,210.551 277.055,214.236 282.583,217.921 288.11,214.236 293.638,210.551 299.165,214.236 304.693,210.551 310.22,206.866 315.748,210.551 \n",
       "  \n",
       "  \"/>\n",
       "<polyline clip-path=\"url(#clip02)\" style=\"stroke:#e26f46; stroke-width:1; stroke-opacity:1; fill:none\" points=\"\n",
       "  44.8976,192.126 50.4252,188.441 55.9528,192.126 61.4803,188.441 67.0079,192.126 72.5354,195.811 78.063,199.496 83.5906,195.811 89.1181,192.126 94.6457,188.441 \n",
       "  100.173,184.756 105.701,181.071 111.228,184.756 116.756,188.441 122.283,184.756 127.811,188.441 133.339,184.756 138.866,188.441 144.394,192.126 149.921,188.441 \n",
       "  155.449,184.756 160.976,181.071 166.504,177.386 172.031,181.071 177.559,177.386 183.087,181.071 188.614,177.386 194.142,173.701 199.669,177.386 205.197,181.071 \n",
       "  210.724,177.386 216.252,181.071 221.78,177.386 227.307,173.701 232.835,177.386 238.362,181.071 243.89,184.756 249.417,181.071 254.945,177.386 260.472,173.701 \n",
       "  266,177.386 271.528,181.071 277.055,177.386 282.583,181.071 288.11,177.386 293.638,173.701 299.165,170.016 304.693,166.331 310.22,170.016 315.748,173.701 \n",
       "  \n",
       "  \"/>\n",
       "<polyline clip-path=\"url(#clip02)\" style=\"stroke:#3da44d; stroke-width:1; stroke-opacity:1; fill:none\" points=\"\n",
       "  44.8976,192.126 50.4252,188.441 55.9528,184.756 61.4803,188.441 67.0079,184.756 72.5354,188.441 78.063,184.756 83.5906,181.071 89.1181,177.386 94.6457,181.071 \n",
       "  100.173,184.756 105.701,188.441 111.228,192.126 116.756,195.811 122.283,199.496 127.811,203.181 133.339,199.496 138.866,195.811 144.394,192.126 149.921,195.811 \n",
       "  155.449,192.126 160.976,195.811 166.504,192.126 172.031,195.811 177.559,192.126 183.087,188.441 188.614,184.756 194.142,188.441 199.669,184.756 205.197,188.441 \n",
       "  210.724,184.756 216.252,188.441 221.78,192.126 227.307,188.441 232.835,184.756 238.362,188.441 243.89,192.126 249.417,188.441 254.945,184.756 260.472,188.441 \n",
       "  266,184.756 271.528,181.071 277.055,177.386 282.583,173.701 288.11,177.386 293.638,181.071 299.165,177.386 304.693,181.071 310.22,184.756 315.748,181.071 \n",
       "  \n",
       "  \"/>\n",
       "<polyline clip-path=\"url(#clip02)\" style=\"stroke:#c271d2; stroke-width:1; stroke-opacity:1; fill:none\" points=\"\n",
       "  44.8976,192.126 50.4252,195.811 55.9528,192.126 61.4803,188.441 67.0079,192.126 72.5354,188.441 78.063,192.126 83.5906,195.811 89.1181,199.496 94.6457,195.811 \n",
       "  100.173,192.126 105.701,195.811 111.228,192.126 116.756,195.811 122.283,192.126 127.811,195.811 133.339,199.496 138.866,195.811 144.394,199.496 149.921,203.181 \n",
       "  155.449,199.496 160.976,203.181 166.504,199.496 172.031,195.811 177.559,192.126 183.087,195.811 188.614,199.496 194.142,203.181 199.669,199.496 205.197,195.811 \n",
       "  210.724,199.496 216.252,195.811 221.78,192.126 227.307,195.811 232.835,199.496 238.362,195.811 243.89,192.126 249.417,188.441 254.945,184.756 260.472,188.441 \n",
       "  266,184.756 271.528,188.441 277.055,192.126 282.583,195.811 288.11,192.126 293.638,195.811 299.165,199.496 304.693,203.181 310.22,206.866 315.748,203.181 \n",
       "  \n",
       "  \"/>\n",
       "<polyline clip-path=\"url(#clip02)\" style=\"stroke:#ac8d18; stroke-width:1; stroke-opacity:1; fill:none\" points=\"\n",
       "  44.8976,192.126 50.4252,195.811 55.9528,192.126 61.4803,188.441 67.0079,184.756 72.5354,181.071 78.063,177.386 83.5906,181.071 89.1181,184.756 94.6457,181.071 \n",
       "  100.173,177.386 105.701,181.071 111.228,184.756 116.756,188.441 122.283,192.126 127.811,195.811 133.339,199.496 138.866,195.811 144.394,199.496 149.921,195.811 \n",
       "  155.449,192.126 160.976,188.441 166.504,184.756 172.031,181.071 177.559,184.756 183.087,188.441 188.614,184.756 194.142,181.071 199.669,177.386 205.197,173.701 \n",
       "  210.724,177.386 216.252,173.701 221.78,170.016 227.307,166.331 232.835,162.646 238.362,166.331 243.89,162.646 249.417,166.331 254.945,162.646 260.472,166.331 \n",
       "  266,170.016 271.528,166.331 277.055,170.016 282.583,166.331 288.11,170.016 293.638,166.331 299.165,170.016 304.693,173.701 310.22,177.386 315.748,181.071 \n",
       "  \n",
       "  \"/>\n",
       "<polyline clip-path=\"url(#clip02)\" style=\"stroke:#00a9ad; stroke-width:1; stroke-opacity:1; fill:none\" points=\"\n",
       "  44.8976,192.126 50.4252,188.441 55.9528,192.126 61.4803,195.811 67.0079,199.496 72.5354,203.181 78.063,206.866 83.5906,203.181 89.1181,199.496 94.6457,195.811 \n",
       "  100.173,192.126 105.701,188.441 111.228,184.756 116.756,181.071 122.283,184.756 127.811,181.071 133.339,177.386 138.866,173.701 144.394,177.386 149.921,181.071 \n",
       "  155.449,177.386 160.976,181.071 166.504,184.756 172.031,181.071 177.559,184.756 183.087,181.071 188.614,184.756 194.142,188.441 199.669,192.126 205.197,195.811 \n",
       "  210.724,192.126 216.252,188.441 221.78,192.126 227.307,195.811 232.835,199.496 238.362,203.181 243.89,199.496 249.417,203.181 254.945,199.496 260.472,203.181 \n",
       "  266,206.866 271.528,210.551 277.055,206.866 282.583,210.551 288.11,206.866 293.638,210.551 299.165,206.866 304.693,203.181 310.22,206.866 315.748,203.181 \n",
       "  \n",
       "  \"/>\n",
       "<polyline clip-path=\"url(#clip02)\" style=\"stroke:#ed5d92; stroke-width:1; stroke-opacity:1; fill:none\" points=\"\n",
       "  44.8976,192.126 50.4252,188.441 55.9528,184.756 61.4803,188.441 67.0079,184.756 72.5354,188.441 78.063,184.756 83.5906,188.441 89.1181,192.126 94.6457,188.441 \n",
       "  100.173,184.756 105.701,188.441 111.228,192.126 116.756,188.441 122.283,192.126 127.811,188.441 133.339,192.126 138.866,188.441 144.394,192.126 149.921,195.811 \n",
       "  155.449,199.496 160.976,203.181 166.504,206.866 172.031,203.181 177.559,199.496 183.087,203.181 188.614,199.496 194.142,203.181 199.669,199.496 205.197,203.181 \n",
       "  210.724,206.866 216.252,210.551 221.78,214.236 227.307,217.921 232.835,214.236 238.362,217.921 243.89,214.236 249.417,210.551 254.945,206.866 260.472,210.551 \n",
       "  266,214.236 271.528,210.551 277.055,214.236 282.583,210.551 288.11,206.866 293.638,203.181 299.165,206.866 304.693,203.181 310.22,206.866 315.748,210.551 \n",
       "  \n",
       "  \"/>\n",
       "<polyline clip-path=\"url(#clip02)\" style=\"stroke:#c68125; stroke-width:1; stroke-opacity:1; fill:none\" points=\"\n",
       "  44.8976,192.126 50.4252,195.811 55.9528,199.496 61.4803,195.811 67.0079,192.126 72.5354,188.441 78.063,184.756 83.5906,181.071 89.1181,177.386 94.6457,173.701 \n",
       "  100.173,177.386 105.701,173.701 111.228,177.386 116.756,181.071 122.283,184.756 127.811,181.071 133.339,177.386 138.866,173.701 144.394,170.016 149.921,173.701 \n",
       "  155.449,177.386 160.976,173.701 166.504,170.016 172.031,166.331 177.559,162.646 183.087,158.961 188.614,162.646 194.142,158.961 199.669,162.646 205.197,158.961 \n",
       "  210.724,162.646 216.252,158.961 221.78,162.646 227.307,158.961 232.835,155.276 238.362,158.961 243.89,162.646 249.417,166.331 254.945,162.646 260.472,158.961 \n",
       "  266,162.646 271.528,166.331 277.055,170.016 282.583,166.331 288.11,170.016 293.638,173.701 299.165,170.016 304.693,166.331 310.22,162.646 315.748,166.331 \n",
       "  \n",
       "  \"/>\n",
       "<polyline clip-path=\"url(#clip02)\" style=\"stroke:#00a98d; stroke-width:1; stroke-opacity:1; fill:none\" points=\"\n",
       "  44.8976,192.126 50.4252,195.811 55.9528,199.496 61.4803,203.181 67.0079,199.496 72.5354,195.811 78.063,199.496 83.5906,203.181 89.1181,206.866 94.6457,210.551 \n",
       "  100.173,214.236 105.701,217.921 111.228,214.236 116.756,217.921 122.283,214.236 127.811,210.551 133.339,206.866 138.866,203.181 144.394,199.496 149.921,195.811 \n",
       "  155.449,192.126 160.976,188.441 166.504,184.756 172.031,188.441 177.559,192.126 183.087,195.811 188.614,192.126 194.142,188.441 199.669,192.126 205.197,195.811 \n",
       "  210.724,199.496 216.252,195.811 221.78,199.496 227.307,195.811 232.835,199.496 238.362,195.811 243.89,192.126 249.417,188.441 254.945,184.756 260.472,188.441 \n",
       "  266,192.126 271.528,188.441 277.055,192.126 282.583,195.811 288.11,192.126 293.638,188.441 299.165,192.126 304.693,195.811 310.22,199.496 315.748,195.811 \n",
       "  \n",
       "  \"/>\n",
       "<polyline clip-path=\"url(#clip02)\" style=\"stroke:#8e971d; stroke-width:1; stroke-opacity:1; fill:none\" points=\"\n",
       "  44.8976,192.126 50.4252,188.441 55.9528,192.126 61.4803,188.441 67.0079,184.756 72.5354,188.441 78.063,192.126 83.5906,188.441 89.1181,192.126 94.6457,195.811 \n",
       "  100.173,199.496 105.701,195.811 111.228,192.126 116.756,195.811 122.283,192.126 127.811,188.441 133.339,192.126 138.866,195.811 144.394,192.126 149.921,188.441 \n",
       "  155.449,184.756 160.976,181.071 166.504,177.386 172.031,181.071 177.559,177.386 183.087,173.701 188.614,170.016 194.142,166.331 199.669,162.646 205.197,158.961 \n",
       "  210.724,162.646 216.252,166.331 221.78,162.646 227.307,158.961 232.835,162.646 238.362,158.961 243.89,155.276 249.417,158.961 254.945,155.276 260.472,158.961 \n",
       "  266,155.276 271.528,151.591 277.055,155.276 282.583,151.591 288.11,155.276 293.638,151.591 299.165,147.906 304.693,151.591 310.22,155.276 315.748,151.591 \n",
       "  \n",
       "  \"/>\n",
       "<polyline clip-path=\"url(#clip02)\" style=\"stroke:#00a8cb; stroke-width:1; stroke-opacity:1; fill:none\" points=\"\n",
       "  44.8976,192.126 50.4252,195.811 55.9528,192.126 61.4803,188.441 67.0079,184.756 72.5354,188.441 78.063,184.756 83.5906,188.441 89.1181,184.756 94.6457,181.071 \n",
       "  100.173,177.386 105.701,181.071 111.228,177.386 116.756,181.071 122.283,184.756 127.811,188.441 133.339,192.126 138.866,188.441 144.394,192.126 149.921,195.811 \n",
       "  155.449,192.126 160.976,188.441 166.504,184.756 172.031,181.071 177.559,184.756 183.087,181.071 188.614,184.756 194.142,188.441 199.669,192.126 205.197,188.441 \n",
       "  210.724,184.756 216.252,188.441 221.78,192.126 227.307,195.811 232.835,199.496 238.362,203.181 243.89,206.866 249.417,210.551 254.945,206.866 260.472,203.181 \n",
       "  266,199.496 271.528,203.181 277.055,199.496 282.583,203.181 288.11,199.496 293.638,203.181 299.165,206.866 304.693,210.551 310.22,206.866 315.748,210.551 \n",
       "  \n",
       "  \"/>\n",
       "<polyline clip-path=\"url(#clip02)\" style=\"stroke:#9b7fe8; stroke-width:1; stroke-opacity:1; fill:none\" points=\"\n",
       "  44.8976,192.126 50.4252,188.441 55.9528,184.756 61.4803,181.071 67.0079,177.386 72.5354,173.701 78.063,177.386 83.5906,173.701 89.1181,177.386 94.6457,173.701 \n",
       "  100.173,177.386 105.701,173.701 111.228,177.386 116.756,173.701 122.283,177.386 127.811,173.701 133.339,177.386 138.866,173.701 144.394,177.386 149.921,173.701 \n",
       "  155.449,170.016 160.976,173.701 166.504,170.016 172.031,166.331 177.559,162.646 183.087,158.961 188.614,162.646 194.142,166.331 199.669,170.016 205.197,166.331 \n",
       "  210.724,162.646 216.252,166.331 221.78,162.646 227.307,166.331 232.835,170.016 238.362,166.331 243.89,162.646 249.417,158.961 254.945,162.646 260.472,158.961 \n",
       "  266,155.276 271.528,158.961 277.055,162.646 282.583,158.961 288.11,155.276 293.638,158.961 299.165,155.276 304.693,158.961 310.22,155.276 315.748,151.591 \n",
       "  \n",
       "  \"/>\n",
       "<polyline clip-path=\"url(#clip02)\" style=\"stroke:#608cf6; stroke-width:1; stroke-opacity:1; fill:none\" points=\"\n",
       "  44.8976,192.126 50.4252,188.441 55.9528,192.126 61.4803,195.811 67.0079,199.496 72.5354,195.811 78.063,199.496 83.5906,195.811 89.1181,199.496 94.6457,195.811 \n",
       "  100.173,192.126 105.701,188.441 111.228,192.126 116.756,188.441 122.283,184.756 127.811,188.441 133.339,184.756 138.866,181.071 144.394,177.386 149.921,173.701 \n",
       "  155.449,170.016 160.976,166.331 166.504,170.016 172.031,173.701 177.559,177.386 183.087,173.701 188.614,170.016 194.142,166.331 199.669,170.016 205.197,166.331 \n",
       "  210.724,162.646 216.252,158.961 221.78,162.646 227.307,158.961 232.835,162.646 238.362,158.961 243.89,155.276 249.417,158.961 254.945,162.646 260.472,158.961 \n",
       "  266,162.646 271.528,166.331 277.055,162.646 282.583,158.961 288.11,162.646 293.638,158.961 299.165,155.276 304.693,158.961 310.22,155.276 315.748,151.591 \n",
       "  \n",
       "  \"/>\n",
       "<polyline clip-path=\"url(#clip02)\" style=\"stroke:#f05f73; stroke-width:1; stroke-opacity:1; fill:none\" points=\"\n",
       "  44.8976,192.126 50.4252,188.441 55.9528,184.756 61.4803,188.441 67.0079,184.756 72.5354,181.071 78.063,177.386 83.5906,173.701 89.1181,177.386 94.6457,181.071 \n",
       "  100.173,184.756 105.701,181.071 111.228,177.386 116.756,181.071 122.283,177.386 127.811,173.701 133.339,170.016 138.866,166.331 144.394,162.646 149.921,166.331 \n",
       "  155.449,162.646 160.976,166.331 166.504,170.016 172.031,166.331 177.559,170.016 183.087,173.701 188.614,177.386 194.142,173.701 199.669,177.386 205.197,173.701 \n",
       "  210.724,177.386 216.252,181.071 221.78,184.756 227.307,181.071 232.835,184.756 238.362,181.071 243.89,184.756 249.417,181.071 254.945,184.756 260.472,188.441 \n",
       "  266,192.126 271.528,188.441 277.055,184.756 282.583,181.071 288.11,177.386 293.638,173.701 299.165,170.016 304.693,166.331 310.22,170.016 315.748,173.701 \n",
       "  \n",
       "  \"/>\n",
       "<polyline clip-path=\"url(#clip02)\" style=\"stroke:#dd64b5; stroke-width:1; stroke-opacity:1; fill:none\" points=\"\n",
       "  44.8976,192.126 50.4252,195.811 55.9528,192.126 61.4803,195.811 67.0079,192.126 72.5354,188.441 78.063,192.126 83.5906,188.441 89.1181,184.756 94.6457,181.071 \n",
       "  100.173,177.386 105.701,181.071 111.228,184.756 116.756,188.441 122.283,184.756 127.811,181.071 133.339,184.756 138.866,188.441 144.394,192.126 149.921,188.441 \n",
       "  155.449,192.126 160.976,195.811 166.504,199.496 172.031,195.811 177.559,192.126 183.087,188.441 188.614,184.756 194.142,188.441 199.669,192.126 205.197,188.441 \n",
       "  210.724,192.126 216.252,188.441 221.78,192.126 227.307,188.441 232.835,192.126 238.362,195.811 243.89,199.496 249.417,203.181 254.945,206.866 260.472,210.551 \n",
       "  266,214.236 271.528,210.551 277.055,214.236 282.583,217.921 288.11,221.606 293.638,225.291 299.165,221.606 304.693,217.921 310.22,221.606 315.748,225.291 \n",
       "  \n",
       "  \"/>\n",
       "<polyline clip-path=\"url(#clip02)\" style=\"stroke:#6b9e32; stroke-width:1; stroke-opacity:1; fill:none\" points=\"\n",
       "  44.8976,192.126 50.4252,195.811 55.9528,199.496 61.4803,203.181 67.0079,199.496 72.5354,195.811 78.063,192.126 83.5906,195.811 89.1181,192.126 94.6457,188.441 \n",
       "  100.173,184.756 105.701,188.441 111.228,192.126 116.756,195.811 122.283,192.126 127.811,195.811 133.339,192.126 138.866,195.811 144.394,199.496 149.921,195.811 \n",
       "  155.449,199.496 160.976,195.811 166.504,199.496 172.031,195.811 177.559,192.126 183.087,188.441 188.614,184.756 194.142,188.441 199.669,184.756 205.197,188.441 \n",
       "  210.724,192.126 216.252,195.811 221.78,199.496 227.307,195.811 232.835,199.496 238.362,203.181 243.89,206.866 249.417,210.551 254.945,206.866 260.472,210.551 \n",
       "  266,206.866 271.528,210.551 277.055,214.236 282.583,217.921 288.11,221.606 293.638,225.291 299.165,228.976 304.693,225.291 310.22,228.976 315.748,225.291 \n",
       "  \n",
       "  \"/>\n",
       "<polyline clip-path=\"url(#clip02)\" style=\"stroke:#718c69; stroke-width:1; stroke-opacity:1; fill:none\" points=\"\n",
       "  44.8976,192.126 50.4252,188.441 55.9528,192.126 61.4803,188.441 67.0079,192.126 72.5354,188.441 78.063,184.756 83.5906,181.071 89.1181,184.756 94.6457,181.071 \n",
       "  100.173,177.386 105.701,181.071 111.228,177.386 116.756,181.071 122.283,184.756 127.811,188.441 133.339,192.126 138.866,195.811 144.394,199.496 149.921,195.811 \n",
       "  155.449,199.496 160.976,195.811 166.504,192.126 172.031,188.441 177.559,184.756 183.087,188.441 188.614,192.126 194.142,195.811 199.669,192.126 205.197,188.441 \n",
       "  210.724,184.756 216.252,188.441 221.78,184.756 227.307,188.441 232.835,184.756 238.362,188.441 243.89,192.126 249.417,188.441 254.945,184.756 260.472,188.441 \n",
       "  266,184.756 271.528,188.441 277.055,184.756 282.583,181.071 288.11,177.386 293.638,181.071 299.165,184.756 304.693,181.071 310.22,177.386 315.748,173.701 \n",
       "  \n",
       "  \"/>\n",
       "<polyline clip-path=\"url(#clip02)\" style=\"stroke:#47988b; stroke-width:1; stroke-opacity:1; fill:none\" points=\"\n",
       "  44.8976,192.126 50.4252,195.811 55.9528,199.496 61.4803,195.811 67.0079,192.126 72.5354,188.441 78.063,192.126 83.5906,188.441 89.1181,192.126 94.6457,195.811 \n",
       "  100.173,192.126 105.701,195.811 111.228,199.496 116.756,195.811 122.283,199.496 127.811,195.811 133.339,192.126 138.866,195.811 144.394,199.496 149.921,203.181 \n",
       "  155.449,199.496 160.976,203.181 166.504,206.866 172.031,203.181 177.559,199.496 183.087,195.811 188.614,192.126 194.142,195.811 199.669,199.496 205.197,203.181 \n",
       "  210.724,199.496 216.252,195.811 221.78,192.126 227.307,195.811 232.835,192.126 238.362,195.811 243.89,199.496 249.417,203.181 254.945,199.496 260.472,195.811 \n",
       "  266,192.126 271.528,188.441 277.055,184.756 282.583,181.071 288.11,184.756 293.638,181.071 299.165,177.386 304.693,181.071 310.22,177.386 315.748,181.071 \n",
       "  \n",
       "  \"/>\n",
       "<polyline clip-path=\"url(#clip02)\" style=\"stroke:#1ea68c; stroke-width:1; stroke-opacity:1; fill:none\" points=\"\n",
       "  44.8976,192.126 50.4252,188.441 55.9528,192.126 61.4803,195.811 67.0079,199.496 72.5354,195.811 78.063,192.126 83.5906,195.811 89.1181,199.496 94.6457,203.181 \n",
       "  100.173,199.496 105.701,203.181 111.228,206.866 116.756,203.181 122.283,206.866 127.811,210.551 133.339,214.236 138.866,217.921 144.394,214.236 149.921,217.921 \n",
       "  155.449,221.606 160.976,225.291 166.504,221.606 172.031,217.921 177.559,221.606 183.087,225.291 188.614,221.606 194.142,225.291 199.669,221.606 205.197,217.921 \n",
       "  210.724,214.236 216.252,217.921 221.78,214.236 227.307,210.551 232.835,206.866 238.362,210.551 243.89,206.866 249.417,210.551 254.945,206.866 260.472,210.551 \n",
       "  266,214.236 271.528,217.921 277.055,214.236 282.583,210.551 288.11,214.236 293.638,217.921 299.165,214.236 304.693,210.551 310.22,206.866 315.748,210.551 \n",
       "  \n",
       "  \"/>\n",
       "<polyline clip-path=\"url(#clip02)\" style=\"stroke:#af78dd; stroke-width:1; stroke-opacity:1; fill:none\" points=\"\n",
       "  44.8976,192.126 50.4252,188.441 55.9528,184.756 61.4803,188.441 67.0079,192.126 72.5354,195.811 78.063,192.126 83.5906,188.441 89.1181,192.126 94.6457,188.441 \n",
       "  100.173,184.756 105.701,181.071 111.228,184.756 116.756,181.071 122.283,177.386 127.811,173.701 133.339,170.016 138.866,166.331 144.394,162.646 149.921,166.331 \n",
       "  155.449,170.016 160.976,166.331 166.504,162.646 172.031,158.961 177.559,162.646 183.087,158.961 188.614,162.646 194.142,166.331 199.669,162.646 205.197,158.961 \n",
       "  210.724,155.276 216.252,151.591 221.78,155.276 227.307,151.591 232.835,147.906 238.362,151.591 243.89,155.276 249.417,151.591 254.945,147.906 260.472,144.22 \n",
       "  266,147.906 271.528,151.591 277.055,147.906 282.583,144.22 288.11,147.906 293.638,151.591 299.165,155.276 304.693,151.591 310.22,155.276 315.748,158.961 \n",
       "  \n",
       "  \"/>\n",
       "<polyline clip-path=\"url(#clip02)\" style=\"stroke:#868d87; stroke-width:1; stroke-opacity:1; fill:none\" points=\"\n",
       "  44.8976,192.126 50.4252,195.811 55.9528,199.496 61.4803,203.181 67.0079,199.496 72.5354,195.811 78.063,192.126 83.5906,195.811 89.1181,192.126 94.6457,188.441 \n",
       "  100.173,192.126 105.701,195.811 111.228,192.126 116.756,188.441 122.283,184.756 127.811,181.071 133.339,177.386 138.866,181.071 144.394,177.386 149.921,181.071 \n",
       "  155.449,184.756 160.976,188.441 166.504,192.126 172.031,195.811 177.559,199.496 183.087,203.181 188.614,206.866 194.142,210.551 199.669,206.866 205.197,203.181 \n",
       "  210.724,206.866 216.252,203.181 221.78,199.496 227.307,195.811 232.835,192.126 238.362,188.441 243.89,192.126 249.417,188.441 254.945,184.756 260.472,181.071 \n",
       "  266,184.756 271.528,188.441 277.055,184.756 282.583,188.441 288.11,184.756 293.638,188.441 299.165,192.126 304.693,188.441 310.22,192.126 315.748,188.441 \n",
       "  \n",
       "  \"/>\n",
       "<polyline clip-path=\"url(#clip02)\" style=\"stroke:#47a065; stroke-width:1; stroke-opacity:1; fill:none\" points=\"\n",
       "  44.8976,192.126 50.4252,188.441 55.9528,192.126 61.4803,188.441 67.0079,184.756 72.5354,181.071 78.063,184.756 83.5906,181.071 89.1181,177.386 94.6457,181.071 \n",
       "  100.173,177.386 105.701,181.071 111.228,184.756 116.756,181.071 122.283,184.756 127.811,188.441 133.339,184.756 138.866,188.441 144.394,184.756 149.921,181.071 \n",
       "  155.449,177.386 160.976,181.071 166.504,184.756 172.031,181.071 177.559,184.756 183.087,188.441 188.614,184.756 194.142,181.071 199.669,184.756 205.197,181.071 \n",
       "  210.724,184.756 216.252,181.071 221.78,184.756 227.307,188.441 232.835,184.756 238.362,181.071 243.89,177.386 249.417,173.701 254.945,177.386 260.472,181.071 \n",
       "  266,184.756 271.528,181.071 277.055,177.386 282.583,173.701 288.11,177.386 293.638,181.071 299.165,177.386 304.693,173.701 310.22,177.386 315.748,181.071 \n",
       "  \n",
       "  \"/>\n",
       "<polyline clip-path=\"url(#clip02)\" style=\"stroke:#7683af; stroke-width:1; stroke-opacity:1; fill:none\" points=\"\n",
       "  44.8976,192.126 50.4252,188.441 55.9528,192.126 61.4803,188.441 67.0079,192.126 72.5354,188.441 78.063,192.126 83.5906,195.811 89.1181,192.126 94.6457,188.441 \n",
       "  100.173,192.126 105.701,195.811 111.228,199.496 116.756,195.811 122.283,199.496 127.811,203.181 133.339,206.866 138.866,210.551 144.394,206.866 149.921,210.551 \n",
       "  155.449,206.866 160.976,210.551 166.504,214.236 172.031,217.921 177.559,214.236 183.087,210.551 188.614,206.866 194.142,210.551 199.669,214.236 205.197,210.551 \n",
       "  210.724,206.866 216.252,210.551 221.78,206.866 227.307,203.181 232.835,199.496 238.362,195.811 243.89,192.126 249.417,195.811 254.945,199.496 260.472,195.811 \n",
       "  266,192.126 271.528,188.441 277.055,192.126 282.583,188.441 288.11,192.126 293.638,195.811 299.165,199.496 304.693,195.811 310.22,199.496 315.748,203.181 \n",
       "  \n",
       "  \"/>\n",
       "<polyline clip-path=\"url(#clip02)\" style=\"stroke:#b08086; stroke-width:1; stroke-opacity:1; fill:none\" points=\"\n",
       "  44.8976,192.126 50.4252,195.811 55.9528,192.126 61.4803,195.811 67.0079,199.496 72.5354,203.181 78.063,206.866 83.5906,203.181 89.1181,199.496 94.6457,203.181 \n",
       "  100.173,199.496 105.701,195.811 111.228,199.496 116.756,203.181 122.283,199.496 127.811,195.811 133.339,199.496 138.866,195.811 144.394,192.126 149.921,195.811 \n",
       "  155.449,192.126 160.976,188.441 166.504,184.756 172.031,181.071 177.559,184.756 183.087,181.071 188.614,177.386 194.142,181.071 199.669,177.386 205.197,173.701 \n",
       "  210.724,177.386 216.252,173.701 221.78,177.386 227.307,173.701 232.835,170.016 238.362,166.331 243.89,170.016 249.417,173.701 254.945,170.016 260.472,173.701 \n",
       "  266,170.016 271.528,173.701 277.055,170.016 282.583,173.701 288.11,170.016 293.638,166.331 299.165,162.646 304.693,158.961 310.22,155.276 315.748,158.961 \n",
       "  \n",
       "  \"/>\n",
       "<polyline clip-path=\"url(#clip02)\" style=\"stroke:#309ac1; stroke-width:1; stroke-opacity:1; fill:none\" points=\"\n",
       "  44.8976,192.126 50.4252,195.811 55.9528,192.126 61.4803,195.811 67.0079,192.126 72.5354,195.811 78.063,192.126 83.5906,195.811 89.1181,199.496 94.6457,195.811 \n",
       "  100.173,192.126 105.701,195.811 111.228,192.126 116.756,188.441 122.283,184.756 127.811,181.071 133.339,184.756 138.866,181.071 144.394,177.386 149.921,181.071 \n",
       "  155.449,177.386 160.976,181.071 166.504,184.756 172.031,188.441 177.559,184.756 183.087,188.441 188.614,184.756 194.142,188.441 199.669,192.126 205.197,195.811 \n",
       "  210.724,192.126 216.252,188.441 221.78,184.756 227.307,188.441 232.835,184.756 238.362,188.441 243.89,192.126 249.417,188.441 254.945,192.126 260.472,195.811 \n",
       "  266,192.126 271.528,188.441 277.055,184.756 282.583,181.071 288.11,184.756 293.638,181.071 299.165,177.386 304.693,173.701 310.22,177.386 315.748,181.071 \n",
       "  \n",
       "  \"/>\n",
       "<polyline clip-path=\"url(#clip02)\" style=\"stroke:#788490; stroke-width:1; stroke-opacity:1; fill:none\" points=\"\n",
       "  44.8976,192.126 50.4252,195.811 55.9528,192.126 61.4803,188.441 67.0079,184.756 72.5354,181.071 78.063,184.756 83.5906,181.071 89.1181,177.386 94.6457,173.701 \n",
       "  100.173,177.386 105.701,173.701 111.228,177.386 116.756,181.071 122.283,177.386 127.811,173.701 133.339,170.016 138.866,166.331 144.394,162.646 149.921,166.331 \n",
       "  155.449,170.016 160.976,173.701 166.504,177.386 172.031,181.071 177.559,184.756 183.087,181.071 188.614,184.756 194.142,188.441 199.669,192.126 205.197,188.441 \n",
       "  210.724,192.126 216.252,188.441 221.78,192.126 227.307,188.441 232.835,184.756 238.362,188.441 243.89,192.126 249.417,188.441 254.945,184.756 260.472,181.071 \n",
       "  266,184.756 271.528,188.441 277.055,192.126 282.583,195.811 288.11,199.496 293.638,203.181 299.165,199.496 304.693,195.811 310.22,192.126 315.748,195.811 \n",
       "  \n",
       "  \"/>\n",
       "<polyline clip-path=\"url(#clip02)\" style=\"stroke:#e561a4; stroke-width:1; stroke-opacity:1; fill:none\" points=\"\n",
       "  44.8976,192.126 50.4252,195.811 55.9528,192.126 61.4803,195.811 67.0079,192.126 72.5354,195.811 78.063,199.496 83.5906,203.181 89.1181,199.496 94.6457,195.811 \n",
       "  100.173,199.496 105.701,195.811 111.228,192.126 116.756,195.811 122.283,192.126 127.811,188.441 133.339,184.756 138.866,188.441 144.394,192.126 149.921,195.811 \n",
       "  155.449,199.496 160.976,195.811 166.504,199.496 172.031,195.811 177.559,199.496 183.087,203.181 188.614,206.866 194.142,203.181 199.669,206.866 205.197,203.181 \n",
       "  210.724,199.496 216.252,195.811 221.78,192.126 227.307,195.811 232.835,199.496 238.362,203.181 243.89,206.866 249.417,203.181 254.945,206.866 260.472,203.181 \n",
       "  266,199.496 271.528,195.811 277.055,192.126 282.583,188.441 288.11,192.126 293.638,195.811 299.165,199.496 304.693,203.181 310.22,206.866 315.748,203.181 \n",
       "  \n",
       "  \"/>\n",
       "<polyline clip-path=\"url(#clip02)\" style=\"stroke:#99902c; stroke-width:1; stroke-opacity:1; fill:none\" points=\"\n",
       "  44.8976,192.126 50.4252,195.811 55.9528,192.126 61.4803,188.441 67.0079,184.756 72.5354,181.071 78.063,184.756 83.5906,181.071 89.1181,177.386 94.6457,181.071 \n",
       "  100.173,177.386 105.701,181.071 111.228,184.756 116.756,181.071 122.283,184.756 127.811,188.441 133.339,184.756 138.866,181.071 144.394,184.756 149.921,188.441 \n",
       "  155.449,184.756 160.976,181.071 166.504,184.756 172.031,181.071 177.559,177.386 183.087,181.071 188.614,177.386 194.142,173.701 199.669,170.016 205.197,166.331 \n",
       "  210.724,170.016 216.252,166.331 221.78,162.646 227.307,158.961 232.835,155.276 238.362,151.591 243.89,147.906 249.417,151.591 254.945,147.906 260.472,151.591 \n",
       "  266,155.276 271.528,151.591 277.055,155.276 282.583,151.591 288.11,147.906 293.638,151.591 299.165,155.276 304.693,151.591 310.22,147.906 315.748,151.591 \n",
       "  \n",
       "  \"/>\n",
       "<polyline clip-path=\"url(#clip02)\" style=\"stroke:#389a7b; stroke-width:1; stroke-opacity:1; fill:none\" points=\"\n",
       "  44.8976,192.126 50.4252,195.811 55.9528,192.126 61.4803,188.441 67.0079,192.126 72.5354,195.811 78.063,192.126 83.5906,188.441 89.1181,184.756 94.6457,181.071 \n",
       "  100.173,177.386 105.701,181.071 111.228,177.386 116.756,181.071 122.283,177.386 127.811,181.071 133.339,177.386 138.866,173.701 144.394,170.016 149.921,173.701 \n",
       "  155.449,170.016 160.976,173.701 166.504,170.016 172.031,173.701 177.559,170.016 183.087,173.701 188.614,177.386 194.142,181.071 199.669,177.386 205.197,181.071 \n",
       "  210.724,184.756 216.252,181.071 221.78,184.756 227.307,188.441 232.835,192.126 238.362,188.441 243.89,184.756 249.417,188.441 254.945,192.126 260.472,188.441 \n",
       "  266,184.756 271.528,188.441 277.055,192.126 282.583,188.441 288.11,184.756 293.638,181.071 299.165,177.386 304.693,181.071 310.22,184.756 315.748,181.071 \n",
       "  \n",
       "  \"/>\n",
       "<polyline clip-path=\"url(#clip02)\" style=\"stroke:#d968a2; stroke-width:1; stroke-opacity:1; fill:none\" points=\"\n",
       "  44.8976,192.126 50.4252,188.441 55.9528,192.126 61.4803,188.441 67.0079,184.756 72.5354,188.441 78.063,192.126 83.5906,188.441 89.1181,192.126 94.6457,195.811 \n",
       "  100.173,192.126 105.701,195.811 111.228,192.126 116.756,188.441 122.283,192.126 127.811,188.441 133.339,184.756 138.866,188.441 144.394,192.126 149.921,195.811 \n",
       "  155.449,199.496 160.976,195.811 166.504,192.126 172.031,188.441 177.559,192.126 183.087,195.811 188.614,192.126 194.142,195.811 199.669,199.496 205.197,195.811 \n",
       "  210.724,199.496 216.252,203.181 221.78,199.496 227.307,203.181 232.835,199.496 238.362,195.811 243.89,199.496 249.417,203.181 254.945,199.496 260.472,195.811 \n",
       "  266,199.496 271.528,203.181 277.055,206.866 282.583,210.551 288.11,206.866 293.638,210.551 299.165,214.236 304.693,210.551 310.22,214.236 315.748,217.921 \n",
       "  \n",
       "  \"/>\n",
       "<polyline clip-path=\"url(#clip02)\" style=\"stroke:#009af9; stroke-width:1; stroke-opacity:1; fill:none\" points=\"\n",
       "  44.8976,192.126 50.4252,195.811 55.9528,192.126 61.4803,188.441 67.0079,184.756 72.5354,181.071 78.063,184.756 83.5906,181.071 89.1181,177.386 94.6457,173.701 \n",
       "  100.173,170.016 105.701,173.701 111.228,177.386 116.756,181.071 122.283,184.756 127.811,181.071 133.339,177.386 138.866,181.071 144.394,184.756 149.921,188.441 \n",
       "  155.449,192.126 160.976,188.441 166.504,192.126 172.031,195.811 177.559,199.496 183.087,195.811 188.614,192.126 194.142,188.441 199.669,192.126 205.197,195.811 \n",
       "  210.724,192.126 216.252,188.441 221.78,184.756 227.307,181.071 232.835,177.386 238.362,181.071 243.89,184.756 249.417,181.071 254.945,177.386 260.472,181.071 \n",
       "  266,184.756 271.528,188.441 277.055,192.126 282.583,195.811 288.11,192.126 293.638,195.811 299.165,192.126 304.693,195.811 310.22,199.496 315.748,195.811 \n",
       "  \n",
       "  \"/>\n",
       "<polyline clip-path=\"url(#clip02)\" style=\"stroke:#e26f46; stroke-width:1; stroke-opacity:1; fill:none\" points=\"\n",
       "  44.8976,192.126 50.4252,195.811 55.9528,199.496 61.4803,203.181 67.0079,206.866 72.5354,210.551 78.063,206.866 83.5906,203.181 89.1181,199.496 94.6457,203.181 \n",
       "  100.173,206.866 105.701,210.551 111.228,214.236 116.756,217.921 122.283,221.606 127.811,225.291 133.339,221.606 138.866,217.921 144.394,214.236 149.921,217.921 \n",
       "  155.449,221.606 160.976,225.291 166.504,221.606 172.031,225.291 177.559,221.606 183.087,217.921 188.614,221.606 194.142,225.291 199.669,228.976 205.197,225.291 \n",
       "  210.724,221.606 216.252,225.291 221.78,221.606 227.307,217.921 232.835,214.236 238.362,217.921 243.89,214.236 249.417,210.551 254.945,214.236 260.472,210.551 \n",
       "  266,206.866 271.528,210.551 277.055,206.866 282.583,203.181 288.11,206.866 293.638,210.551 299.165,206.866 304.693,203.181 310.22,206.866 315.748,203.181 \n",
       "  \n",
       "  \"/>\n",
       "<polyline clip-path=\"url(#clip02)\" style=\"stroke:#3da44d; stroke-width:1; stroke-opacity:1; fill:none\" points=\"\n",
       "  44.8976,192.126 50.4252,195.811 55.9528,199.496 61.4803,195.811 67.0079,192.126 72.5354,188.441 78.063,184.756 83.5906,181.071 89.1181,177.386 94.6457,181.071 \n",
       "  100.173,184.756 105.701,188.441 111.228,192.126 116.756,188.441 122.283,184.756 127.811,181.071 133.339,184.756 138.866,181.071 144.394,184.756 149.921,188.441 \n",
       "  155.449,192.126 160.976,195.811 166.504,199.496 172.031,203.181 177.559,199.496 183.087,195.811 188.614,192.126 194.142,188.441 199.669,184.756 205.197,188.441 \n",
       "  210.724,184.756 216.252,181.071 221.78,177.386 227.307,173.701 232.835,177.386 238.362,181.071 243.89,177.386 249.417,181.071 254.945,177.386 260.472,181.071 \n",
       "  266,177.386 271.528,173.701 277.055,177.386 282.583,181.071 288.11,177.386 293.638,173.701 299.165,177.386 304.693,173.701 310.22,170.016 315.748,173.701 \n",
       "  \n",
       "  \"/>\n",
       "<polyline clip-path=\"url(#clip02)\" style=\"stroke:#c271d2; stroke-width:1; stroke-opacity:1; fill:none\" points=\"\n",
       "  44.8976,192.126 50.4252,195.811 55.9528,192.126 61.4803,195.811 67.0079,192.126 72.5354,195.811 78.063,192.126 83.5906,188.441 89.1181,192.126 94.6457,188.441 \n",
       "  100.173,192.126 105.701,195.811 111.228,192.126 116.756,188.441 122.283,184.756 127.811,188.441 133.339,192.126 138.866,188.441 144.394,192.126 149.921,195.811 \n",
       "  155.449,192.126 160.976,195.811 166.504,199.496 172.031,203.181 177.559,199.496 183.087,203.181 188.614,199.496 194.142,203.181 199.669,199.496 205.197,203.181 \n",
       "  210.724,199.496 216.252,195.811 221.78,199.496 227.307,195.811 232.835,199.496 238.362,203.181 243.89,206.866 249.417,203.181 254.945,206.866 260.472,210.551 \n",
       "  266,214.236 271.528,217.921 277.055,214.236 282.583,217.921 288.11,214.236 293.638,210.551 299.165,214.236 304.693,210.551 310.22,214.236 315.748,217.921 \n",
       "  \n",
       "  \"/>\n",
       "<polyline clip-path=\"url(#clip02)\" style=\"stroke:#ac8d18; stroke-width:1; stroke-opacity:1; fill:none\" points=\"\n",
       "  44.8976,192.126 50.4252,188.441 55.9528,184.756 61.4803,181.071 67.0079,184.756 72.5354,181.071 78.063,177.386 83.5906,173.701 89.1181,177.386 94.6457,181.071 \n",
       "  100.173,184.756 105.701,181.071 111.228,184.756 116.756,188.441 122.283,192.126 127.811,188.441 133.339,192.126 138.866,195.811 144.394,199.496 149.921,203.181 \n",
       "  155.449,206.866 160.976,203.181 166.504,206.866 172.031,210.551 177.559,206.866 183.087,203.181 188.614,199.496 194.142,203.181 199.669,199.496 205.197,195.811 \n",
       "  210.724,199.496 216.252,195.811 221.78,192.126 227.307,195.811 232.835,199.496 238.362,203.181 243.89,199.496 249.417,195.811 254.945,192.126 260.472,188.441 \n",
       "  266,192.126 271.528,195.811 277.055,199.496 282.583,195.811 288.11,192.126 293.638,195.811 299.165,199.496 304.693,203.181 310.22,199.496 315.748,203.181 \n",
       "  \n",
       "  \"/>\n",
       "<polyline clip-path=\"url(#clip02)\" style=\"stroke:#00a9ad; stroke-width:1; stroke-opacity:1; fill:none\" points=\"\n",
       "  44.8976,192.126 50.4252,188.441 55.9528,192.126 61.4803,195.811 67.0079,199.496 72.5354,203.181 78.063,199.496 83.5906,195.811 89.1181,199.496 94.6457,195.811 \n",
       "  100.173,199.496 105.701,203.181 111.228,199.496 116.756,203.181 122.283,199.496 127.811,195.811 133.339,199.496 138.866,195.811 144.394,192.126 149.921,188.441 \n",
       "  155.449,184.756 160.976,188.441 166.504,192.126 172.031,188.441 177.559,184.756 183.087,181.071 188.614,177.386 194.142,181.071 199.669,177.386 205.197,181.071 \n",
       "  210.724,177.386 216.252,181.071 221.78,177.386 227.307,173.701 232.835,177.386 238.362,173.701 243.89,170.016 249.417,173.701 254.945,170.016 260.472,173.701 \n",
       "  266,177.386 271.528,173.701 277.055,177.386 282.583,181.071 288.11,184.756 293.638,188.441 299.165,192.126 304.693,195.811 310.22,192.126 315.748,188.441 \n",
       "  \n",
       "  \"/>\n",
       "<polyline clip-path=\"url(#clip02)\" style=\"stroke:#ed5d92; stroke-width:1; stroke-opacity:1; fill:none\" points=\"\n",
       "  44.8976,192.126 50.4252,195.811 55.9528,199.496 61.4803,195.811 67.0079,199.496 72.5354,203.181 78.063,199.496 83.5906,195.811 89.1181,199.496 94.6457,195.811 \n",
       "  100.173,192.126 105.701,188.441 111.228,192.126 116.756,195.811 122.283,192.126 127.811,195.811 133.339,192.126 138.866,195.811 144.394,192.126 149.921,195.811 \n",
       "  155.449,192.126 160.976,195.811 166.504,192.126 172.031,195.811 177.559,192.126 183.087,188.441 188.614,192.126 194.142,195.811 199.669,199.496 205.197,195.811 \n",
       "  210.724,192.126 216.252,195.811 221.78,199.496 227.307,203.181 232.835,206.866 238.362,210.551 243.89,214.236 249.417,210.551 254.945,206.866 260.472,210.551 \n",
       "  266,206.866 271.528,210.551 277.055,214.236 282.583,210.551 288.11,206.866 293.638,210.551 299.165,206.866 304.693,203.181 310.22,199.496 315.748,203.181 \n",
       "  \n",
       "  \"/>\n",
       "<polyline clip-path=\"url(#clip02)\" style=\"stroke:#c68125; stroke-width:1; stroke-opacity:1; fill:none\" points=\"\n",
       "  44.8976,192.126 50.4252,188.441 55.9528,192.126 61.4803,195.811 67.0079,192.126 72.5354,188.441 78.063,192.126 83.5906,195.811 89.1181,192.126 94.6457,188.441 \n",
       "  100.173,192.126 105.701,195.811 111.228,199.496 116.756,203.181 122.283,199.496 127.811,203.181 133.339,206.866 138.866,210.551 144.394,206.866 149.921,210.551 \n",
       "  155.449,206.866 160.976,210.551 166.504,206.866 172.031,210.551 177.559,206.866 183.087,203.181 188.614,199.496 194.142,195.811 199.669,192.126 205.197,195.811 \n",
       "  210.724,192.126 216.252,188.441 221.78,184.756 227.307,181.071 232.835,184.756 238.362,181.071 243.89,177.386 249.417,181.071 254.945,177.386 260.472,181.071 \n",
       "  266,184.756 271.528,188.441 277.055,184.756 282.583,188.441 288.11,192.126 293.638,195.811 299.165,192.126 304.693,195.811 310.22,192.126 315.748,188.441 \n",
       "  \n",
       "  \"/>\n",
       "<polyline clip-path=\"url(#clip02)\" style=\"stroke:#00a98d; stroke-width:1; stroke-opacity:1; fill:none\" points=\"\n",
       "  44.8976,192.126 50.4252,195.811 55.9528,192.126 61.4803,188.441 67.0079,184.756 72.5354,181.071 78.063,184.756 83.5906,181.071 89.1181,184.756 94.6457,188.441 \n",
       "  100.173,184.756 105.701,188.441 111.228,192.126 116.756,188.441 122.283,192.126 127.811,195.811 133.339,192.126 138.866,195.811 144.394,192.126 149.921,195.811 \n",
       "  155.449,192.126 160.976,195.811 166.504,192.126 172.031,195.811 177.559,199.496 183.087,203.181 188.614,199.496 194.142,203.181 199.669,206.866 205.197,210.551 \n",
       "  210.724,206.866 216.252,210.551 221.78,206.866 227.307,203.181 232.835,199.496 238.362,203.181 243.89,206.866 249.417,210.551 254.945,206.866 260.472,203.181 \n",
       "  266,199.496 271.528,203.181 277.055,206.866 282.583,203.181 288.11,206.866 293.638,210.551 299.165,206.866 304.693,203.181 310.22,199.496 315.748,195.811 \n",
       "  \n",
       "  \"/>\n",
       "<polyline clip-path=\"url(#clip02)\" style=\"stroke:#8e971d; stroke-width:1; stroke-opacity:1; fill:none\" points=\"\n",
       "  44.8976,192.126 50.4252,195.811 55.9528,192.126 61.4803,188.441 67.0079,184.756 72.5354,181.071 78.063,177.386 83.5906,181.071 89.1181,177.386 94.6457,181.071 \n",
       "  100.173,177.386 105.701,173.701 111.228,170.016 116.756,166.331 122.283,162.646 127.811,158.961 133.339,155.276 138.866,158.961 144.394,162.646 149.921,166.331 \n",
       "  155.449,170.016 160.976,166.331 166.504,162.646 172.031,158.961 177.559,155.276 183.087,158.961 188.614,162.646 194.142,158.961 199.669,155.276 205.197,151.591 \n",
       "  210.724,147.906 216.252,144.22 221.78,147.906 227.307,151.591 232.835,155.276 238.362,151.591 243.89,147.906 249.417,144.22 254.945,140.535 260.472,136.85 \n",
       "  266,133.165 271.528,129.48 277.055,125.795 282.583,129.48 288.11,125.795 293.638,129.48 299.165,125.795 304.693,129.48 310.22,133.165 315.748,129.48 \n",
       "  \n",
       "  \"/>\n",
       "<polyline clip-path=\"url(#clip02)\" style=\"stroke:#00a8cb; stroke-width:1; stroke-opacity:1; fill:none\" points=\"\n",
       "  44.8976,192.126 50.4252,188.441 55.9528,192.126 61.4803,195.811 67.0079,192.126 72.5354,195.811 78.063,192.126 83.5906,195.811 89.1181,199.496 94.6457,195.811 \n",
       "  100.173,199.496 105.701,203.181 111.228,199.496 116.756,195.811 122.283,199.496 127.811,203.181 133.339,206.866 138.866,203.181 144.394,199.496 149.921,203.181 \n",
       "  155.449,199.496 160.976,195.811 166.504,192.126 172.031,188.441 177.559,184.756 183.087,188.441 188.614,184.756 194.142,181.071 199.669,184.756 205.197,188.441 \n",
       "  210.724,184.756 216.252,181.071 221.78,184.756 227.307,188.441 232.835,192.126 238.362,188.441 243.89,192.126 249.417,195.811 254.945,199.496 260.472,203.181 \n",
       "  266,206.866 271.528,203.181 277.055,206.866 282.583,210.551 288.11,206.866 293.638,203.181 299.165,206.866 304.693,210.551 310.22,214.236 315.748,217.921 \n",
       "  \n",
       "  \"/>\n",
       "<polyline clip-path=\"url(#clip02)\" style=\"stroke:#9b7fe8; stroke-width:1; stroke-opacity:1; fill:none\" points=\"\n",
       "  44.8976,192.126 50.4252,195.811 55.9528,192.126 61.4803,195.811 67.0079,199.496 72.5354,203.181 78.063,199.496 83.5906,195.811 89.1181,192.126 94.6457,188.441 \n",
       "  100.173,192.126 105.701,188.441 111.228,192.126 116.756,195.811 122.283,199.496 127.811,203.181 133.339,206.866 138.866,203.181 144.394,199.496 149.921,195.811 \n",
       "  155.449,192.126 160.976,195.811 166.504,192.126 172.031,195.811 177.559,192.126 183.087,188.441 188.614,192.126 194.142,195.811 199.669,192.126 205.197,195.811 \n",
       "  210.724,192.126 216.252,195.811 221.78,199.496 227.307,195.811 232.835,199.496 238.362,195.811 243.89,192.126 249.417,195.811 254.945,192.126 260.472,195.811 \n",
       "  266,192.126 271.528,188.441 277.055,192.126 282.583,188.441 288.11,184.756 293.638,188.441 299.165,192.126 304.693,195.811 310.22,199.496 315.748,203.181 \n",
       "  \n",
       "  \"/>\n",
       "<polyline clip-path=\"url(#clip02)\" style=\"stroke:#608cf6; stroke-width:1; stroke-opacity:1; fill:none\" points=\"\n",
       "  44.8976,192.126 50.4252,195.811 55.9528,192.126 61.4803,188.441 67.0079,192.126 72.5354,188.441 78.063,184.756 83.5906,188.441 89.1181,192.126 94.6457,195.811 \n",
       "  100.173,192.126 105.701,195.811 111.228,192.126 116.756,188.441 122.283,192.126 127.811,188.441 133.339,184.756 138.866,181.071 144.394,184.756 149.921,181.071 \n",
       "  155.449,184.756 160.976,188.441 166.504,192.126 172.031,188.441 177.559,184.756 183.087,188.441 188.614,184.756 194.142,188.441 199.669,184.756 205.197,181.071 \n",
       "  210.724,177.386 216.252,181.071 221.78,184.756 227.307,188.441 232.835,184.756 238.362,188.441 243.89,192.126 249.417,195.811 254.945,199.496 260.472,195.811 \n",
       "  266,199.496 271.528,203.181 277.055,206.866 282.583,210.551 288.11,214.236 293.638,217.921 299.165,214.236 304.693,217.921 310.22,214.236 315.748,210.551 \n",
       "  \n",
       "  \"/>\n",
       "<polyline clip-path=\"url(#clip02)\" style=\"stroke:#f05f73; stroke-width:1; stroke-opacity:1; fill:none\" points=\"\n",
       "  44.8976,192.126 50.4252,188.441 55.9528,192.126 61.4803,188.441 67.0079,184.756 72.5354,181.071 78.063,184.756 83.5906,188.441 89.1181,184.756 94.6457,181.071 \n",
       "  100.173,177.386 105.701,173.701 111.228,177.386 116.756,173.701 122.283,170.016 127.811,166.331 133.339,162.646 138.866,158.961 144.394,162.646 149.921,158.961 \n",
       "  155.449,155.276 160.976,158.961 166.504,155.276 172.031,158.961 177.559,162.646 183.087,158.961 188.614,162.646 194.142,158.961 199.669,155.276 205.197,151.591 \n",
       "  210.724,147.906 216.252,144.22 221.78,147.906 227.307,144.22 232.835,140.535 238.362,144.22 243.89,140.535 249.417,136.85 254.945,133.165 260.472,129.48 \n",
       "  266,125.795 271.528,129.48 277.055,133.165 282.583,136.85 288.11,140.535 293.638,144.22 299.165,140.535 304.693,136.85 310.22,140.535 315.748,136.85 \n",
       "  \n",
       "  \"/>\n",
       "<polyline clip-path=\"url(#clip02)\" style=\"stroke:#dd64b5; stroke-width:1; stroke-opacity:1; fill:none\" points=\"\n",
       "  44.8976,192.126 50.4252,188.441 55.9528,192.126 61.4803,188.441 67.0079,184.756 72.5354,188.441 78.063,184.756 83.5906,181.071 89.1181,184.756 94.6457,181.071 \n",
       "  100.173,177.386 105.701,181.071 111.228,184.756 116.756,181.071 122.283,184.756 127.811,188.441 133.339,192.126 138.866,195.811 144.394,199.496 149.921,203.181 \n",
       "  155.449,206.866 160.976,203.181 166.504,199.496 172.031,203.181 177.559,199.496 183.087,195.811 188.614,192.126 194.142,188.441 199.669,192.126 205.197,188.441 \n",
       "  210.724,184.756 216.252,188.441 221.78,192.126 227.307,195.811 232.835,199.496 238.362,203.181 243.89,206.866 249.417,203.181 254.945,199.496 260.472,195.811 \n",
       "  266,192.126 271.528,188.441 277.055,184.756 282.583,188.441 288.11,184.756 293.638,181.071 299.165,184.756 304.693,188.441 310.22,192.126 315.748,188.441 \n",
       "  \n",
       "  \"/>\n",
       "<polyline clip-path=\"url(#clip02)\" style=\"stroke:#6b9e32; stroke-width:1; stroke-opacity:1; fill:none\" points=\"\n",
       "  44.8976,192.126 50.4252,188.441 55.9528,192.126 61.4803,188.441 67.0079,192.126 72.5354,188.441 78.063,184.756 83.5906,181.071 89.1181,184.756 94.6457,181.071 \n",
       "  100.173,184.756 105.701,188.441 111.228,184.756 116.756,188.441 122.283,184.756 127.811,181.071 133.339,177.386 138.866,173.701 144.394,177.386 149.921,181.071 \n",
       "  155.449,184.756 160.976,188.441 166.504,184.756 172.031,181.071 177.559,184.756 183.087,181.071 188.614,184.756 194.142,188.441 199.669,184.756 205.197,188.441 \n",
       "  210.724,184.756 216.252,181.071 221.78,184.756 227.307,188.441 232.835,192.126 238.362,195.811 243.89,199.496 249.417,203.181 254.945,206.866 260.472,210.551 \n",
       "  266,206.866 271.528,203.181 277.055,199.496 282.583,195.811 288.11,199.496 293.638,203.181 299.165,206.866 304.693,203.181 310.22,206.866 315.748,203.181 \n",
       "  \n",
       "  \"/>\n",
       "<polyline clip-path=\"url(#clip02)\" style=\"stroke:#718c69; stroke-width:1; stroke-opacity:1; fill:none\" points=\"\n",
       "  44.8976,192.126 50.4252,188.441 55.9528,184.756 61.4803,188.441 67.0079,192.126 72.5354,195.811 78.063,192.126 83.5906,195.811 89.1181,199.496 94.6457,203.181 \n",
       "  100.173,206.866 105.701,203.181 111.228,206.866 116.756,203.181 122.283,199.496 127.811,203.181 133.339,206.866 138.866,203.181 144.394,206.866 149.921,210.551 \n",
       "  155.449,206.866 160.976,210.551 166.504,206.866 172.031,210.551 177.559,206.866 183.087,203.181 188.614,206.866 194.142,210.551 199.669,206.866 205.197,210.551 \n",
       "  210.724,206.866 216.252,203.181 221.78,199.496 227.307,195.811 232.835,192.126 238.362,195.811 243.89,192.126 249.417,195.811 254.945,192.126 260.472,188.441 \n",
       "  266,192.126 271.528,188.441 277.055,184.756 282.583,188.441 288.11,192.126 293.638,195.811 299.165,199.496 304.693,203.181 310.22,206.866 315.748,210.551 \n",
       "  \n",
       "  \"/>\n",
       "<polyline clip-path=\"url(#clip02)\" style=\"stroke:#47988b; stroke-width:1; stroke-opacity:1; fill:none\" points=\"\n",
       "  44.8976,192.126 50.4252,188.441 55.9528,192.126 61.4803,195.811 67.0079,199.496 72.5354,203.181 78.063,206.866 83.5906,203.181 89.1181,199.496 94.6457,203.181 \n",
       "  100.173,199.496 105.701,203.181 111.228,199.496 116.756,203.181 122.283,199.496 127.811,203.181 133.339,199.496 138.866,203.181 144.394,199.496 149.921,195.811 \n",
       "  155.449,192.126 160.976,195.811 166.504,199.496 172.031,203.181 177.559,206.866 183.087,210.551 188.614,214.236 194.142,210.551 199.669,206.866 205.197,210.551 \n",
       "  210.724,214.236 216.252,210.551 221.78,214.236 227.307,210.551 232.835,206.866 238.362,210.551 243.89,206.866 249.417,203.181 254.945,199.496 260.472,203.181 \n",
       "  266,199.496 271.528,195.811 277.055,192.126 282.583,188.441 288.11,184.756 293.638,181.071 299.165,177.386 304.693,181.071 310.22,184.756 315.748,181.071 \n",
       "  \n",
       "  \"/>\n",
       "<polyline clip-path=\"url(#clip02)\" style=\"stroke:#1ea68c; stroke-width:1; stroke-opacity:1; fill:none\" points=\"\n",
       "  44.8976,192.126 50.4252,188.441 55.9528,192.126 61.4803,188.441 67.0079,192.126 72.5354,188.441 78.063,184.756 83.5906,188.441 89.1181,192.126 94.6457,188.441 \n",
       "  100.173,184.756 105.701,188.441 111.228,184.756 116.756,181.071 122.283,177.386 127.811,173.701 133.339,170.016 138.866,166.331 144.394,162.646 149.921,166.331 \n",
       "  155.449,162.646 160.976,158.961 166.504,162.646 172.031,158.961 177.559,162.646 183.087,166.331 188.614,170.016 194.142,173.701 199.669,177.386 205.197,181.071 \n",
       "  210.724,177.386 216.252,181.071 221.78,184.756 227.307,181.071 232.835,177.386 238.362,181.071 243.89,177.386 249.417,173.701 254.945,170.016 260.472,166.331 \n",
       "  266,170.016 271.528,173.701 277.055,170.016 282.583,166.331 288.11,170.016 293.638,166.331 299.165,162.646 304.693,166.331 310.22,170.016 315.748,173.701 \n",
       "  \n",
       "  \"/>\n",
       "<polyline clip-path=\"url(#clip02)\" style=\"stroke:#af78dd; stroke-width:1; stroke-opacity:1; fill:none\" points=\"\n",
       "  44.8976,192.126 50.4252,195.811 55.9528,199.496 61.4803,203.181 67.0079,206.866 72.5354,210.551 78.063,214.236 83.5906,217.921 89.1181,221.606 94.6457,217.921 \n",
       "  100.173,214.236 105.701,217.921 111.228,221.606 116.756,225.291 122.283,221.606 127.811,225.291 133.339,228.976 138.866,225.291 144.394,221.606 149.921,225.291 \n",
       "  155.449,221.606 160.976,217.921 166.504,214.236 172.031,217.921 177.559,221.606 183.087,217.921 188.614,214.236 194.142,217.921 199.669,221.606 205.197,225.291 \n",
       "  210.724,221.606 216.252,225.291 221.78,221.606 227.307,217.921 232.835,214.236 238.362,217.921 243.89,221.606 249.417,225.291 254.945,228.976 260.472,232.661 \n",
       "  266,236.346 271.528,232.661 277.055,228.976 282.583,225.291 288.11,228.976 293.638,225.291 299.165,221.606 304.693,217.921 310.22,221.606 315.748,217.921 \n",
       "  \n",
       "  \"/>\n",
       "<polyline clip-path=\"url(#clip02)\" style=\"stroke:#868d87; stroke-width:1; stroke-opacity:1; fill:none\" points=\"\n",
       "  44.8976,192.126 50.4252,195.811 55.9528,199.496 61.4803,195.811 67.0079,192.126 72.5354,195.811 78.063,199.496 83.5906,203.181 89.1181,206.866 94.6457,210.551 \n",
       "  100.173,214.236 105.701,210.551 111.228,214.236 116.756,210.551 122.283,214.236 127.811,217.921 133.339,214.236 138.866,210.551 144.394,214.236 149.921,210.551 \n",
       "  155.449,214.236 160.976,210.551 166.504,214.236 172.031,217.921 177.559,221.606 183.087,217.921 188.614,221.606 194.142,225.291 199.669,228.976 205.197,225.291 \n",
       "  210.724,221.606 216.252,217.921 221.78,214.236 227.307,210.551 232.835,214.236 238.362,210.551 243.89,206.866 249.417,210.551 254.945,206.866 260.472,203.181 \n",
       "  266,206.866 271.528,210.551 277.055,206.866 282.583,203.181 288.11,206.866 293.638,203.181 299.165,206.866 304.693,210.551 310.22,214.236 315.748,217.921 \n",
       "  \n",
       "  \"/>\n",
       "<polyline clip-path=\"url(#clip02)\" style=\"stroke:#47a065; stroke-width:1; stroke-opacity:1; fill:none\" points=\"\n",
       "  44.8976,192.126 50.4252,195.811 55.9528,192.126 61.4803,195.811 67.0079,199.496 72.5354,203.181 78.063,206.866 83.5906,210.551 89.1181,214.236 94.6457,217.921 \n",
       "  100.173,214.236 105.701,210.551 111.228,214.236 116.756,210.551 122.283,206.866 127.811,203.181 133.339,206.866 138.866,203.181 144.394,199.496 149.921,203.181 \n",
       "  155.449,199.496 160.976,195.811 166.504,199.496 172.031,195.811 177.559,199.496 183.087,195.811 188.614,192.126 194.142,188.441 199.669,192.126 205.197,195.811 \n",
       "  210.724,192.126 216.252,188.441 221.78,184.756 227.307,188.441 232.835,184.756 238.362,188.441 243.89,184.756 249.417,181.071 254.945,184.756 260.472,181.071 \n",
       "  266,184.756 271.528,181.071 277.055,184.756 282.583,188.441 288.11,184.756 293.638,181.071 299.165,184.756 304.693,181.071 310.22,184.756 315.748,181.071 \n",
       "  \n",
       "  \"/>\n",
       "<polyline clip-path=\"url(#clip02)\" style=\"stroke:#7683af; stroke-width:1; stroke-opacity:1; fill:none\" points=\"\n",
       "  44.8976,192.126 50.4252,188.441 55.9528,184.756 61.4803,181.071 67.0079,184.756 72.5354,181.071 78.063,177.386 83.5906,173.701 89.1181,170.016 94.6457,173.701 \n",
       "  100.173,177.386 105.701,181.071 111.228,177.386 116.756,173.701 122.283,177.386 127.811,181.071 133.339,177.386 138.866,173.701 144.394,170.016 149.921,166.331 \n",
       "  155.449,170.016 160.976,173.701 166.504,177.386 172.031,173.701 177.559,177.386 183.087,181.071 188.614,184.756 194.142,181.071 199.669,177.386 205.197,173.701 \n",
       "  210.724,177.386 216.252,181.071 221.78,177.386 227.307,173.701 232.835,170.016 238.362,166.331 243.89,162.646 249.417,166.331 254.945,170.016 260.472,166.331 \n",
       "  266,170.016 271.528,166.331 277.055,170.016 282.583,166.331 288.11,162.646 293.638,166.331 299.165,162.646 304.693,158.961 310.22,162.646 315.748,166.331 \n",
       "  \n",
       "  \"/>\n",
       "<polyline clip-path=\"url(#clip02)\" style=\"stroke:#b08086; stroke-width:1; stroke-opacity:1; fill:none\" points=\"\n",
       "  44.8976,192.126 50.4252,195.811 55.9528,199.496 61.4803,195.811 67.0079,199.496 72.5354,195.811 78.063,199.496 83.5906,195.811 89.1181,192.126 94.6457,195.811 \n",
       "  100.173,192.126 105.701,195.811 111.228,192.126 116.756,188.441 122.283,184.756 127.811,188.441 133.339,184.756 138.866,188.441 144.394,192.126 149.921,188.441 \n",
       "  155.449,192.126 160.976,188.441 166.504,192.126 172.031,188.441 177.559,184.756 183.087,181.071 188.614,177.386 194.142,181.071 199.669,177.386 205.197,181.071 \n",
       "  210.724,184.756 216.252,188.441 221.78,184.756 227.307,188.441 232.835,184.756 238.362,181.071 243.89,184.756 249.417,188.441 254.945,192.126 260.472,188.441 \n",
       "  266,184.756 271.528,181.071 277.055,184.756 282.583,188.441 288.11,192.126 293.638,188.441 299.165,192.126 304.693,195.811 310.22,199.496 315.748,203.181 \n",
       "  \n",
       "  \"/>\n",
       "<polyline clip-path=\"url(#clip02)\" style=\"stroke:#309ac1; stroke-width:1; stroke-opacity:1; fill:none\" points=\"\n",
       "  44.8976,192.126 50.4252,188.441 55.9528,192.126 61.4803,188.441 67.0079,192.126 72.5354,195.811 78.063,199.496 83.5906,203.181 89.1181,206.866 94.6457,210.551 \n",
       "  100.173,206.866 105.701,203.181 111.228,206.866 116.756,203.181 122.283,206.866 127.811,210.551 133.339,206.866 138.866,203.181 144.394,199.496 149.921,195.811 \n",
       "  155.449,192.126 160.976,195.811 166.504,192.126 172.031,188.441 177.559,184.756 183.087,188.441 188.614,192.126 194.142,195.811 199.669,199.496 205.197,203.181 \n",
       "  210.724,199.496 216.252,203.181 221.78,206.866 227.307,203.181 232.835,206.866 238.362,203.181 243.89,206.866 249.417,210.551 254.945,214.236 260.472,210.551 \n",
       "  266,214.236 271.528,210.551 277.055,206.866 282.583,210.551 288.11,214.236 293.638,210.551 299.165,214.236 304.693,217.921 310.22,214.236 315.748,217.921 \n",
       "  \n",
       "  \"/>\n",
       "<polyline clip-path=\"url(#clip02)\" style=\"stroke:#788490; stroke-width:1; stroke-opacity:1; fill:none\" points=\"\n",
       "  44.8976,192.126 50.4252,195.811 55.9528,192.126 61.4803,195.811 67.0079,192.126 72.5354,195.811 78.063,192.126 83.5906,195.811 89.1181,199.496 94.6457,195.811 \n",
       "  100.173,199.496 105.701,203.181 111.228,199.496 116.756,203.181 122.283,206.866 127.811,210.551 133.339,214.236 138.866,210.551 144.394,214.236 149.921,210.551 \n",
       "  155.449,206.866 160.976,210.551 166.504,214.236 172.031,217.921 177.559,214.236 183.087,210.551 188.614,214.236 194.142,217.921 199.669,214.236 205.197,210.551 \n",
       "  210.724,206.866 216.252,203.181 221.78,206.866 227.307,203.181 232.835,206.866 238.362,210.551 243.89,206.866 249.417,203.181 254.945,206.866 260.472,210.551 \n",
       "  266,206.866 271.528,203.181 277.055,206.866 282.583,210.551 288.11,206.866 293.638,203.181 299.165,206.866 304.693,203.181 310.22,206.866 315.748,210.551 \n",
       "  \n",
       "  \"/>\n",
       "<polyline clip-path=\"url(#clip02)\" style=\"stroke:#e561a4; stroke-width:1; stroke-opacity:1; fill:none\" points=\"\n",
       "  44.8976,192.126 50.4252,195.811 55.9528,199.496 61.4803,195.811 67.0079,199.496 72.5354,203.181 78.063,206.866 83.5906,210.551 89.1181,206.866 94.6457,203.181 \n",
       "  100.173,199.496 105.701,203.181 111.228,206.866 116.756,203.181 122.283,199.496 127.811,203.181 133.339,199.496 138.866,203.181 144.394,206.866 149.921,203.181 \n",
       "  155.449,206.866 160.976,210.551 166.504,214.236 172.031,210.551 177.559,214.236 183.087,217.921 188.614,214.236 194.142,210.551 199.669,206.866 205.197,210.551 \n",
       "  210.724,214.236 216.252,210.551 221.78,214.236 227.307,217.921 232.835,214.236 238.362,217.921 243.89,214.236 249.417,210.551 254.945,214.236 260.472,217.921 \n",
       "  266,214.236 271.528,217.921 277.055,221.606 282.583,225.291 288.11,221.606 293.638,217.921 299.165,221.606 304.693,217.921 310.22,214.236 315.748,210.551 \n",
       "  \n",
       "  \"/>\n",
       "<polyline clip-path=\"url(#clip02)\" style=\"stroke:#99902c; stroke-width:1; stroke-opacity:1; fill:none\" points=\"\n",
       "  44.8976,192.126 50.4252,195.811 55.9528,192.126 61.4803,188.441 67.0079,192.126 72.5354,195.811 78.063,199.496 83.5906,195.811 89.1181,199.496 94.6457,203.181 \n",
       "  100.173,199.496 105.701,195.811 111.228,192.126 116.756,195.811 122.283,192.126 127.811,188.441 133.339,192.126 138.866,188.441 144.394,192.126 149.921,195.811 \n",
       "  155.449,192.126 160.976,195.811 166.504,199.496 172.031,195.811 177.559,199.496 183.087,195.811 188.614,199.496 194.142,203.181 199.669,206.866 205.197,203.181 \n",
       "  210.724,199.496 216.252,203.181 221.78,206.866 227.307,210.551 232.835,214.236 238.362,210.551 243.89,206.866 249.417,203.181 254.945,206.866 260.472,203.181 \n",
       "  266,206.866 271.528,203.181 277.055,206.866 282.583,203.181 288.11,199.496 293.638,195.811 299.165,192.126 304.693,188.441 310.22,192.126 315.748,188.441 \n",
       "  \n",
       "  \"/>\n",
       "<polyline clip-path=\"url(#clip02)\" style=\"stroke:#389a7b; stroke-width:1; stroke-opacity:1; fill:none\" points=\"\n",
       "  44.8976,192.126 50.4252,195.811 55.9528,199.496 61.4803,203.181 67.0079,199.496 72.5354,195.811 78.063,199.496 83.5906,203.181 89.1181,199.496 94.6457,195.811 \n",
       "  100.173,192.126 105.701,188.441 111.228,192.126 116.756,195.811 122.283,199.496 127.811,203.181 133.339,206.866 138.866,203.181 144.394,206.866 149.921,210.551 \n",
       "  155.449,206.866 160.976,203.181 166.504,206.866 172.031,203.181 177.559,206.866 183.087,210.551 188.614,206.866 194.142,203.181 199.669,199.496 205.197,195.811 \n",
       "  210.724,192.126 216.252,195.811 221.78,199.496 227.307,203.181 232.835,206.866 238.362,210.551 243.89,214.236 249.417,210.551 254.945,214.236 260.472,217.921 \n",
       "  266,221.606 271.528,225.291 277.055,221.606 282.583,217.921 288.11,214.236 293.638,210.551 299.165,214.236 304.693,217.921 310.22,214.236 315.748,210.551 \n",
       "  \n",
       "  \"/>\n",
       "<polyline clip-path=\"url(#clip02)\" style=\"stroke:#d968a2; stroke-width:1; stroke-opacity:1; fill:none\" points=\"\n",
       "  44.8976,192.126 50.4252,195.811 55.9528,192.126 61.4803,195.811 67.0079,199.496 72.5354,203.181 78.063,206.866 83.5906,210.551 89.1181,206.866 94.6457,203.181 \n",
       "  100.173,199.496 105.701,195.811 111.228,192.126 116.756,188.441 122.283,192.126 127.811,195.811 133.339,192.126 138.866,188.441 144.394,192.126 149.921,188.441 \n",
       "  155.449,192.126 160.976,195.811 166.504,199.496 172.031,203.181 177.559,199.496 183.087,195.811 188.614,199.496 194.142,195.811 199.669,192.126 205.197,195.811 \n",
       "  210.724,192.126 216.252,188.441 221.78,192.126 227.307,195.811 232.835,199.496 238.362,203.181 243.89,206.866 249.417,210.551 254.945,214.236 260.472,210.551 \n",
       "  266,206.866 271.528,203.181 277.055,199.496 282.583,195.811 288.11,192.126 293.638,188.441 299.165,184.756 304.693,188.441 310.22,192.126 315.748,195.811 \n",
       "  \n",
       "  \"/>\n",
       "<polyline clip-path=\"url(#clip02)\" style=\"stroke:#009af9; stroke-width:1; stroke-opacity:1; fill:none\" points=\"\n",
       "  44.8976,192.126 50.4252,188.441 55.9528,184.756 61.4803,181.071 67.0079,177.386 72.5354,181.071 78.063,184.756 83.5906,181.071 89.1181,184.756 94.6457,188.441 \n",
       "  100.173,192.126 105.701,188.441 111.228,184.756 116.756,181.071 122.283,177.386 127.811,173.701 133.339,170.016 138.866,173.701 144.394,170.016 149.921,166.331 \n",
       "  155.449,170.016 160.976,173.701 166.504,170.016 172.031,166.331 177.559,170.016 183.087,166.331 188.614,162.646 194.142,158.961 199.669,162.646 205.197,158.961 \n",
       "  210.724,155.276 216.252,151.591 221.78,155.276 227.307,151.591 232.835,147.906 238.362,151.591 243.89,147.906 249.417,151.591 254.945,155.276 260.472,151.591 \n",
       "  266,147.906 271.528,144.22 277.055,140.535 282.583,136.85 288.11,140.535 293.638,136.85 299.165,133.165 304.693,129.48 310.22,133.165 315.748,129.48 \n",
       "  \n",
       "  \"/>\n",
       "<polyline clip-path=\"url(#clip02)\" style=\"stroke:#e26f46; stroke-width:1; stroke-opacity:1; fill:none\" points=\"\n",
       "  44.8976,192.126 50.4252,195.811 55.9528,192.126 61.4803,188.441 67.0079,192.126 72.5354,188.441 78.063,192.126 83.5906,188.441 89.1181,192.126 94.6457,195.811 \n",
       "  100.173,199.496 105.701,203.181 111.228,199.496 116.756,195.811 122.283,199.496 127.811,203.181 133.339,199.496 138.866,195.811 144.394,199.496 149.921,195.811 \n",
       "  155.449,192.126 160.976,195.811 166.504,192.126 172.031,195.811 177.559,199.496 183.087,195.811 188.614,192.126 194.142,188.441 199.669,184.756 205.197,181.071 \n",
       "  210.724,184.756 216.252,181.071 221.78,177.386 227.307,173.701 232.835,177.386 238.362,173.701 243.89,177.386 249.417,173.701 254.945,177.386 260.472,173.701 \n",
       "  266,170.016 271.528,166.331 277.055,170.016 282.583,173.701 288.11,177.386 293.638,181.071 299.165,177.386 304.693,173.701 310.22,177.386 315.748,181.071 \n",
       "  \n",
       "  \"/>\n",
       "<polyline clip-path=\"url(#clip02)\" style=\"stroke:#3da44d; stroke-width:1; stroke-opacity:1; fill:none\" points=\"\n",
       "  44.8976,192.126 50.4252,195.811 55.9528,199.496 61.4803,195.811 67.0079,192.126 72.5354,188.441 78.063,184.756 83.5906,181.071 89.1181,184.756 94.6457,181.071 \n",
       "  100.173,177.386 105.701,173.701 111.228,170.016 116.756,166.331 122.283,170.016 127.811,173.701 133.339,177.386 138.866,181.071 144.394,184.756 149.921,181.071 \n",
       "  155.449,177.386 160.976,181.071 166.504,184.756 172.031,188.441 177.559,192.126 183.087,188.441 188.614,184.756 194.142,188.441 199.669,192.126 205.197,195.811 \n",
       "  210.724,199.496 216.252,203.181 221.78,199.496 227.307,195.811 232.835,199.496 238.362,195.811 243.89,192.126 249.417,188.441 254.945,184.756 260.472,188.441 \n",
       "  266,184.756 271.528,181.071 277.055,184.756 282.583,188.441 288.11,184.756 293.638,181.071 299.165,184.756 304.693,181.071 310.22,184.756 315.748,188.441 \n",
       "  \n",
       "  \"/>\n",
       "<polyline clip-path=\"url(#clip02)\" style=\"stroke:#c271d2; stroke-width:1; stroke-opacity:1; fill:none\" points=\"\n",
       "  44.8976,192.126 50.4252,188.441 55.9528,192.126 61.4803,195.811 67.0079,192.126 72.5354,188.441 78.063,192.126 83.5906,188.441 89.1181,184.756 94.6457,188.441 \n",
       "  100.173,192.126 105.701,195.811 111.228,199.496 116.756,195.811 122.283,192.126 127.811,188.441 133.339,192.126 138.866,188.441 144.394,184.756 149.921,188.441 \n",
       "  155.449,184.756 160.976,188.441 166.504,184.756 172.031,188.441 177.559,192.126 183.087,195.811 188.614,192.126 194.142,195.811 199.669,199.496 205.197,195.811 \n",
       "  210.724,199.496 216.252,195.811 221.78,192.126 227.307,195.811 232.835,199.496 238.362,203.181 243.89,206.866 249.417,203.181 254.945,199.496 260.472,195.811 \n",
       "  266,199.496 271.528,203.181 277.055,206.866 282.583,210.551 288.11,206.866 293.638,210.551 299.165,214.236 304.693,217.921 310.22,221.606 315.748,225.291 \n",
       "  \n",
       "  \"/>\n",
       "<polyline clip-path=\"url(#clip02)\" style=\"stroke:#ac8d18; stroke-width:1; stroke-opacity:1; fill:none\" points=\"\n",
       "  44.8976,192.126 50.4252,188.441 55.9528,184.756 61.4803,188.441 67.0079,184.756 72.5354,188.441 78.063,192.126 83.5906,195.811 89.1181,199.496 94.6457,195.811 \n",
       "  100.173,192.126 105.701,195.811 111.228,199.496 116.756,203.181 122.283,206.866 127.811,203.181 133.339,199.496 138.866,203.181 144.394,206.866 149.921,210.551 \n",
       "  155.449,206.866 160.976,210.551 166.504,214.236 172.031,210.551 177.559,206.866 183.087,203.181 188.614,199.496 194.142,195.811 199.669,199.496 205.197,203.181 \n",
       "  210.724,199.496 216.252,203.181 221.78,206.866 227.307,210.551 232.835,214.236 238.362,210.551 243.89,206.866 249.417,203.181 254.945,199.496 260.472,203.181 \n",
       "  266,206.866 271.528,203.181 277.055,199.496 282.583,195.811 288.11,199.496 293.638,195.811 299.165,199.496 304.693,195.811 310.22,192.126 315.748,195.811 \n",
       "  \n",
       "  \"/>\n",
       "<polyline clip-path=\"url(#clip02)\" style=\"stroke:#00a9ad; stroke-width:1; stroke-opacity:1; fill:none\" points=\"\n",
       "  44.8976,192.126 50.4252,195.811 55.9528,192.126 61.4803,188.441 67.0079,184.756 72.5354,181.071 78.063,177.386 83.5906,181.071 89.1181,184.756 94.6457,188.441 \n",
       "  100.173,192.126 105.701,195.811 111.228,192.126 116.756,195.811 122.283,192.126 127.811,188.441 133.339,184.756 138.866,181.071 144.394,184.756 149.921,188.441 \n",
       "  155.449,184.756 160.976,188.441 166.504,184.756 172.031,188.441 177.559,184.756 183.087,188.441 188.614,192.126 194.142,195.811 199.669,192.126 205.197,195.811 \n",
       "  210.724,192.126 216.252,188.441 221.78,192.126 227.307,195.811 232.835,192.126 238.362,188.441 243.89,192.126 249.417,188.441 254.945,184.756 260.472,188.441 \n",
       "  266,192.126 271.528,195.811 277.055,199.496 282.583,195.811 288.11,192.126 293.638,188.441 299.165,192.126 304.693,188.441 310.22,184.756 315.748,188.441 \n",
       "  \n",
       "  \"/>\n",
       "<polyline clip-path=\"url(#clip02)\" style=\"stroke:#ed5d92; stroke-width:1; stroke-opacity:1; fill:none\" points=\"\n",
       "  44.8976,192.126 50.4252,195.811 55.9528,199.496 61.4803,203.181 67.0079,206.866 72.5354,203.181 78.063,206.866 83.5906,203.181 89.1181,206.866 94.6457,210.551 \n",
       "  100.173,206.866 105.701,210.551 111.228,214.236 116.756,217.921 122.283,214.236 127.811,217.921 133.339,221.606 138.866,225.291 144.394,221.606 149.921,217.921 \n",
       "  155.449,221.606 160.976,225.291 166.504,221.606 172.031,217.921 177.559,214.236 183.087,210.551 188.614,206.866 194.142,203.181 199.669,199.496 205.197,203.181 \n",
       "  210.724,199.496 216.252,203.181 221.78,206.866 227.307,203.181 232.835,199.496 238.362,203.181 243.89,199.496 249.417,195.811 254.945,192.126 260.472,188.441 \n",
       "  266,184.756 271.528,181.071 277.055,177.386 282.583,181.071 288.11,184.756 293.638,181.071 299.165,184.756 304.693,188.441 310.22,184.756 315.748,181.071 \n",
       "  \n",
       "  \"/>\n",
       "<polyline clip-path=\"url(#clip02)\" style=\"stroke:#c68125; stroke-width:1; stroke-opacity:1; fill:none\" points=\"\n",
       "  44.8976,192.126 50.4252,195.811 55.9528,192.126 61.4803,195.811 67.0079,192.126 72.5354,188.441 78.063,184.756 83.5906,188.441 89.1181,184.756 94.6457,181.071 \n",
       "  100.173,177.386 105.701,181.071 111.228,184.756 116.756,188.441 122.283,192.126 127.811,188.441 133.339,192.126 138.866,188.441 144.394,192.126 149.921,188.441 \n",
       "  155.449,192.126 160.976,188.441 166.504,192.126 172.031,188.441 177.559,192.126 183.087,188.441 188.614,184.756 194.142,188.441 199.669,184.756 205.197,188.441 \n",
       "  210.724,192.126 216.252,195.811 221.78,192.126 227.307,188.441 232.835,192.126 238.362,195.811 243.89,199.496 249.417,203.181 254.945,206.866 260.472,203.181 \n",
       "  266,199.496 271.528,195.811 277.055,192.126 282.583,188.441 288.11,192.126 293.638,188.441 299.165,192.126 304.693,195.811 310.22,192.126 315.748,195.811 \n",
       "  \n",
       "  \"/>\n",
       "<polyline clip-path=\"url(#clip02)\" style=\"stroke:#00a98d; stroke-width:1; stroke-opacity:1; fill:none\" points=\"\n",
       "  44.8976,192.126 50.4252,188.441 55.9528,184.756 61.4803,188.441 67.0079,184.756 72.5354,188.441 78.063,192.126 83.5906,188.441 89.1181,192.126 94.6457,188.441 \n",
       "  100.173,184.756 105.701,188.441 111.228,192.126 116.756,195.811 122.283,199.496 127.811,195.811 133.339,199.496 138.866,203.181 144.394,206.866 149.921,210.551 \n",
       "  155.449,214.236 160.976,210.551 166.504,214.236 172.031,210.551 177.559,214.236 183.087,217.921 188.614,221.606 194.142,217.921 199.669,214.236 205.197,210.551 \n",
       "  210.724,214.236 216.252,210.551 221.78,206.866 227.307,210.551 232.835,214.236 238.362,217.921 243.89,214.236 249.417,217.921 254.945,214.236 260.472,217.921 \n",
       "  266,214.236 271.528,217.921 277.055,221.606 282.583,225.291 288.11,228.976 293.638,232.661 299.165,236.346 304.693,240.031 310.22,243.717 315.748,247.402 \n",
       "  \n",
       "  \"/>\n",
       "<polyline clip-path=\"url(#clip02)\" style=\"stroke:#8e971d; stroke-width:1; stroke-opacity:1; fill:none\" points=\"\n",
       "  44.8976,192.126 50.4252,188.441 55.9528,192.126 61.4803,188.441 67.0079,192.126 72.5354,195.811 78.063,199.496 83.5906,195.811 89.1181,192.126 94.6457,195.811 \n",
       "  100.173,199.496 105.701,195.811 111.228,192.126 116.756,188.441 122.283,184.756 127.811,188.441 133.339,184.756 138.866,188.441 144.394,184.756 149.921,188.441 \n",
       "  155.449,184.756 160.976,181.071 166.504,177.386 172.031,173.701 177.559,177.386 183.087,181.071 188.614,177.386 194.142,181.071 199.669,184.756 205.197,181.071 \n",
       "  210.724,177.386 216.252,173.701 221.78,170.016 227.307,173.701 232.835,170.016 238.362,173.701 243.89,177.386 249.417,173.701 254.945,170.016 260.472,166.331 \n",
       "  266,162.646 271.528,158.961 277.055,162.646 282.583,166.331 288.11,170.016 293.638,173.701 299.165,177.386 304.693,173.701 310.22,170.016 315.748,166.331 \n",
       "  \n",
       "  \"/>\n",
       "<polyline clip-path=\"url(#clip02)\" style=\"stroke:#00a8cb; stroke-width:1; stroke-opacity:1; fill:none\" points=\"\n",
       "  44.8976,192.126 50.4252,188.441 55.9528,184.756 61.4803,181.071 67.0079,184.756 72.5354,181.071 78.063,184.756 83.5906,188.441 89.1181,192.126 94.6457,188.441 \n",
       "  100.173,192.126 105.701,195.811 111.228,199.496 116.756,203.181 122.283,199.496 127.811,203.181 133.339,199.496 138.866,203.181 144.394,199.496 149.921,195.811 \n",
       "  155.449,192.126 160.976,195.811 166.504,199.496 172.031,195.811 177.559,199.496 183.087,203.181 188.614,199.496 194.142,203.181 199.669,206.866 205.197,210.551 \n",
       "  210.724,214.236 216.252,217.921 221.78,214.236 227.307,210.551 232.835,206.866 238.362,210.551 243.89,214.236 249.417,217.921 254.945,221.606 260.472,217.921 \n",
       "  266,214.236 271.528,217.921 277.055,221.606 282.583,225.291 288.11,228.976 293.638,225.291 299.165,228.976 304.693,225.291 310.22,228.976 315.748,232.661 \n",
       "  \n",
       "  \"/>\n",
       "<polyline clip-path=\"url(#clip02)\" style=\"stroke:#9b7fe8; stroke-width:1; stroke-opacity:1; fill:none\" points=\"\n",
       "  44.8976,192.126 50.4252,195.811 55.9528,192.126 61.4803,195.811 67.0079,199.496 72.5354,195.811 78.063,192.126 83.5906,188.441 89.1181,184.756 94.6457,181.071 \n",
       "  100.173,184.756 105.701,181.071 111.228,177.386 116.756,181.071 122.283,184.756 127.811,181.071 133.339,184.756 138.866,188.441 144.394,192.126 149.921,188.441 \n",
       "  155.449,184.756 160.976,188.441 166.504,192.126 172.031,188.441 177.559,192.126 183.087,195.811 188.614,192.126 194.142,195.811 199.669,199.496 205.197,195.811 \n",
       "  210.724,199.496 216.252,195.811 221.78,199.496 227.307,195.811 232.835,192.126 238.362,188.441 243.89,184.756 249.417,188.441 254.945,192.126 260.472,188.441 \n",
       "  266,184.756 271.528,188.441 277.055,184.756 282.583,181.071 288.11,177.386 293.638,181.071 299.165,177.386 304.693,181.071 310.22,177.386 315.748,181.071 \n",
       "  \n",
       "  \"/>\n",
       "<polyline clip-path=\"url(#clip02)\" style=\"stroke:#608cf6; stroke-width:1; stroke-opacity:1; fill:none\" points=\"\n",
       "  44.8976,192.126 50.4252,195.811 55.9528,192.126 61.4803,195.811 67.0079,199.496 72.5354,195.811 78.063,192.126 83.5906,195.811 89.1181,192.126 94.6457,188.441 \n",
       "  100.173,192.126 105.701,195.811 111.228,199.496 116.756,203.181 122.283,199.496 127.811,195.811 133.339,199.496 138.866,195.811 144.394,192.126 149.921,188.441 \n",
       "  155.449,184.756 160.976,181.071 166.504,184.756 172.031,188.441 177.559,184.756 183.087,188.441 188.614,184.756 194.142,181.071 199.669,184.756 205.197,181.071 \n",
       "  210.724,177.386 216.252,181.071 221.78,184.756 227.307,188.441 232.835,184.756 238.362,181.071 243.89,177.386 249.417,173.701 254.945,170.016 260.472,173.701 \n",
       "  266,177.386 271.528,173.701 277.055,177.386 282.583,181.071 288.11,184.756 293.638,188.441 299.165,192.126 304.693,188.441 310.22,192.126 315.748,195.811 \n",
       "  \n",
       "  \"/>\n",
       "<polyline clip-path=\"url(#clip02)\" style=\"stroke:#f05f73; stroke-width:1; stroke-opacity:1; fill:none\" points=\"\n",
       "  44.8976,192.126 50.4252,195.811 55.9528,192.126 61.4803,188.441 67.0079,184.756 72.5354,181.071 78.063,177.386 83.5906,173.701 89.1181,170.016 94.6457,173.701 \n",
       "  100.173,170.016 105.701,173.701 111.228,177.386 116.756,173.701 122.283,177.386 127.811,181.071 133.339,177.386 138.866,173.701 144.394,177.386 149.921,173.701 \n",
       "  155.449,177.386 160.976,173.701 166.504,170.016 172.031,173.701 177.559,170.016 183.087,173.701 188.614,177.386 194.142,181.071 199.669,184.756 205.197,181.071 \n",
       "  210.724,177.386 216.252,181.071 221.78,184.756 227.307,188.441 232.835,192.126 238.362,195.811 243.89,192.126 249.417,195.811 254.945,192.126 260.472,188.441 \n",
       "  266,192.126 271.528,195.811 277.055,199.496 282.583,203.181 288.11,206.866 293.638,210.551 299.165,214.236 304.693,217.921 310.22,221.606 315.748,217.921 \n",
       "  \n",
       "  \"/>\n",
       "<polyline clip-path=\"url(#clip02)\" style=\"stroke:#dd64b5; stroke-width:1; stroke-opacity:1; fill:none\" points=\"\n",
       "  44.8976,192.126 50.4252,195.811 55.9528,199.496 61.4803,195.811 67.0079,199.496 72.5354,195.811 78.063,192.126 83.5906,195.811 89.1181,192.126 94.6457,188.441 \n",
       "  100.173,184.756 105.701,188.441 111.228,192.126 116.756,195.811 122.283,192.126 127.811,195.811 133.339,199.496 138.866,203.181 144.394,199.496 149.921,195.811 \n",
       "  155.449,192.126 160.976,188.441 166.504,184.756 172.031,188.441 177.559,184.756 183.087,188.441 188.614,184.756 194.142,181.071 199.669,184.756 205.197,188.441 \n",
       "  210.724,184.756 216.252,181.071 221.78,184.756 227.307,181.071 232.835,177.386 238.362,181.071 243.89,184.756 249.417,181.071 254.945,184.756 260.472,188.441 \n",
       "  266,184.756 271.528,181.071 277.055,184.756 282.583,188.441 288.11,192.126 293.638,195.811 299.165,199.496 304.693,195.811 310.22,199.496 315.748,195.811 \n",
       "  \n",
       "  \"/>\n",
       "<polyline clip-path=\"url(#clip02)\" style=\"stroke:#6b9e32; stroke-width:1; stroke-opacity:1; fill:none\" points=\"\n",
       "  44.8976,192.126 50.4252,195.811 55.9528,199.496 61.4803,195.811 67.0079,199.496 72.5354,203.181 78.063,206.866 83.5906,210.551 89.1181,206.866 94.6457,203.181 \n",
       "  100.173,206.866 105.701,203.181 111.228,206.866 116.756,210.551 122.283,214.236 127.811,210.551 133.339,214.236 138.866,217.921 144.394,221.606 149.921,225.291 \n",
       "  155.449,221.606 160.976,225.291 166.504,221.606 172.031,217.921 177.559,214.236 183.087,217.921 188.614,221.606 194.142,217.921 199.669,214.236 205.197,217.921 \n",
       "  210.724,221.606 216.252,217.921 221.78,221.606 227.307,217.921 232.835,221.606 238.362,225.291 243.89,221.606 249.417,217.921 254.945,221.606 260.472,217.921 \n",
       "  266,221.606 271.528,225.291 277.055,221.606 282.583,225.291 288.11,221.606 293.638,217.921 299.165,214.236 304.693,210.551 310.22,206.866 315.748,203.181 \n",
       "  \n",
       "  \"/>\n",
       "<polyline clip-path=\"url(#clip02)\" style=\"stroke:#718c69; stroke-width:1; stroke-opacity:1; fill:none\" points=\"\n",
       "  44.8976,192.126 50.4252,195.811 55.9528,192.126 61.4803,195.811 67.0079,199.496 72.5354,203.181 78.063,206.866 83.5906,203.181 89.1181,206.866 94.6457,210.551 \n",
       "  100.173,206.866 105.701,210.551 111.228,214.236 116.756,217.921 122.283,221.606 127.811,217.921 133.339,214.236 138.866,210.551 144.394,214.236 149.921,210.551 \n",
       "  155.449,206.866 160.976,203.181 166.504,206.866 172.031,203.181 177.559,199.496 183.087,203.181 188.614,206.866 194.142,210.551 199.669,206.866 205.197,210.551 \n",
       "  210.724,206.866 216.252,203.181 221.78,199.496 227.307,195.811 232.835,199.496 238.362,195.811 243.89,192.126 249.417,188.441 254.945,192.126 260.472,195.811 \n",
       "  266,199.496 271.528,195.811 277.055,199.496 282.583,203.181 288.11,206.866 293.638,210.551 299.165,214.236 304.693,217.921 310.22,214.236 315.748,217.921 \n",
       "  \n",
       "  \"/>\n",
       "<polyline clip-path=\"url(#clip02)\" style=\"stroke:#47988b; stroke-width:1; stroke-opacity:1; fill:none\" points=\"\n",
       "  44.8976,192.126 50.4252,195.811 55.9528,192.126 61.4803,188.441 67.0079,184.756 72.5354,188.441 78.063,192.126 83.5906,188.441 89.1181,192.126 94.6457,188.441 \n",
       "  100.173,184.756 105.701,181.071 111.228,177.386 116.756,173.701 122.283,170.016 127.811,173.701 133.339,170.016 138.866,166.331 144.394,170.016 149.921,173.701 \n",
       "  155.449,170.016 160.976,173.701 166.504,177.386 172.031,181.071 177.559,177.386 183.087,181.071 188.614,184.756 194.142,181.071 199.669,177.386 205.197,173.701 \n",
       "  210.724,170.016 216.252,166.331 221.78,162.646 227.307,158.961 232.835,162.646 238.362,166.331 243.89,170.016 249.417,173.701 254.945,177.386 260.472,181.071 \n",
       "  266,184.756 271.528,181.071 277.055,184.756 282.583,188.441 288.11,192.126 293.638,188.441 299.165,192.126 304.693,195.811 310.22,192.126 315.748,188.441 \n",
       "  \n",
       "  \"/>\n",
       "<polyline clip-path=\"url(#clip02)\" style=\"stroke:#1ea68c; stroke-width:1; stroke-opacity:1; fill:none\" points=\"\n",
       "  44.8976,192.126 50.4252,195.811 55.9528,192.126 61.4803,188.441 67.0079,192.126 72.5354,188.441 78.063,192.126 83.5906,195.811 89.1181,199.496 94.6457,203.181 \n",
       "  100.173,199.496 105.701,195.811 111.228,192.126 116.756,188.441 122.283,184.756 127.811,188.441 133.339,192.126 138.866,195.811 144.394,192.126 149.921,188.441 \n",
       "  155.449,192.126 160.976,188.441 166.504,192.126 172.031,195.811 177.559,199.496 183.087,195.811 188.614,199.496 194.142,203.181 199.669,206.866 205.197,203.181 \n",
       "  210.724,206.866 216.252,210.551 221.78,214.236 227.307,217.921 232.835,221.606 238.362,217.921 243.89,214.236 249.417,217.921 254.945,221.606 260.472,217.921 \n",
       "  266,221.606 271.528,217.921 277.055,214.236 282.583,217.921 288.11,221.606 293.638,225.291 299.165,221.606 304.693,217.921 310.22,221.606 315.748,225.291 \n",
       "  \n",
       "  \"/>\n",
       "<polyline clip-path=\"url(#clip02)\" style=\"stroke:#af78dd; stroke-width:1; stroke-opacity:1; fill:none\" points=\"\n",
       "  44.8976,192.126 50.4252,195.811 55.9528,199.496 61.4803,195.811 67.0079,199.496 72.5354,195.811 78.063,199.496 83.5906,195.811 89.1181,199.496 94.6457,203.181 \n",
       "  100.173,199.496 105.701,203.181 111.228,199.496 116.756,203.181 122.283,199.496 127.811,195.811 133.339,199.496 138.866,195.811 144.394,192.126 149.921,188.441 \n",
       "  155.449,192.126 160.976,188.441 166.504,184.756 172.031,188.441 177.559,184.756 183.087,181.071 188.614,177.386 194.142,181.071 199.669,177.386 205.197,173.701 \n",
       "  210.724,170.016 216.252,166.331 221.78,170.016 227.307,166.331 232.835,162.646 238.362,158.961 243.89,162.646 249.417,158.961 254.945,162.646 260.472,158.961 \n",
       "  266,155.276 271.528,151.591 277.055,147.906 282.583,144.22 288.11,147.906 293.638,144.22 299.165,140.535 304.693,144.22 310.22,147.906 315.748,144.22 \n",
       "  \n",
       "  \"/>\n",
       "<polyline clip-path=\"url(#clip02)\" style=\"stroke:#868d87; stroke-width:1; stroke-opacity:1; fill:none\" points=\"\n",
       "  44.8976,192.126 50.4252,188.441 55.9528,192.126 61.4803,188.441 67.0079,192.126 72.5354,195.811 78.063,199.496 83.5906,203.181 89.1181,199.496 94.6457,203.181 \n",
       "  100.173,206.866 105.701,203.181 111.228,206.866 116.756,203.181 122.283,199.496 127.811,203.181 133.339,206.866 138.866,203.181 144.394,206.866 149.921,210.551 \n",
       "  155.449,206.866 160.976,210.551 166.504,206.866 172.031,210.551 177.559,206.866 183.087,203.181 188.614,206.866 194.142,203.181 199.669,199.496 205.197,195.811 \n",
       "  210.724,199.496 216.252,195.811 221.78,199.496 227.307,195.811 232.835,199.496 238.362,203.181 243.89,206.866 249.417,203.181 254.945,199.496 260.472,195.811 \n",
       "  266,199.496 271.528,195.811 277.055,199.496 282.583,203.181 288.11,206.866 293.638,210.551 299.165,206.866 304.693,203.181 310.22,206.866 315.748,210.551 \n",
       "  \n",
       "  \"/>\n",
       "<polyline clip-path=\"url(#clip02)\" style=\"stroke:#47a065; stroke-width:1; stroke-opacity:1; fill:none\" points=\"\n",
       "  44.8976,192.126 50.4252,195.811 55.9528,192.126 61.4803,188.441 67.0079,192.126 72.5354,195.811 78.063,192.126 83.5906,188.441 89.1181,184.756 94.6457,181.071 \n",
       "  100.173,177.386 105.701,173.701 111.228,170.016 116.756,166.331 122.283,162.646 127.811,158.961 133.339,155.276 138.866,151.591 144.394,155.276 149.921,151.591 \n",
       "  155.449,155.276 160.976,151.591 166.504,155.276 172.031,158.961 177.559,155.276 183.087,158.961 188.614,162.646 194.142,166.331 199.669,170.016 205.197,166.331 \n",
       "  210.724,162.646 216.252,166.331 221.78,170.016 227.307,173.701 232.835,177.386 238.362,173.701 243.89,170.016 249.417,173.701 254.945,177.386 260.472,181.071 \n",
       "  266,184.756 271.528,181.071 277.055,177.386 282.583,181.071 288.11,184.756 293.638,188.441 299.165,192.126 304.693,188.441 310.22,192.126 315.748,188.441 \n",
       "  \n",
       "  \"/>\n",
       "<polyline clip-path=\"url(#clip02)\" style=\"stroke:#7683af; stroke-width:1; stroke-opacity:1; fill:none\" points=\"\n",
       "  44.8976,192.126 50.4252,195.811 55.9528,199.496 61.4803,195.811 67.0079,199.496 72.5354,203.181 78.063,199.496 83.5906,203.181 89.1181,199.496 94.6457,203.181 \n",
       "  100.173,206.866 105.701,210.551 111.228,214.236 116.756,210.551 122.283,206.866 127.811,210.551 133.339,214.236 138.866,217.921 144.394,214.236 149.921,210.551 \n",
       "  155.449,206.866 160.976,203.181 166.504,206.866 172.031,210.551 177.559,206.866 183.087,203.181 188.614,199.496 194.142,195.811 199.669,199.496 205.197,203.181 \n",
       "  210.724,199.496 216.252,203.181 221.78,206.866 227.307,203.181 232.835,199.496 238.362,195.811 243.89,199.496 249.417,203.181 254.945,206.866 260.472,203.181 \n",
       "  266,206.866 271.528,210.551 277.055,206.866 282.583,203.181 288.11,199.496 293.638,203.181 299.165,206.866 304.693,210.551 310.22,206.866 315.748,210.551 \n",
       "  \n",
       "  \"/>\n",
       "<polyline clip-path=\"url(#clip02)\" style=\"stroke:#b08086; stroke-width:1; stroke-opacity:1; fill:none\" points=\"\n",
       "  44.8976,192.126 50.4252,188.441 55.9528,184.756 61.4803,181.071 67.0079,177.386 72.5354,173.701 78.063,170.016 83.5906,173.701 89.1181,170.016 94.6457,166.331 \n",
       "  100.173,170.016 105.701,166.331 111.228,162.646 116.756,166.331 122.283,162.646 127.811,158.961 133.339,155.276 138.866,158.961 144.394,162.646 149.921,158.961 \n",
       "  155.449,162.646 160.976,158.961 166.504,162.646 172.031,158.961 177.559,162.646 183.087,166.331 188.614,170.016 194.142,166.331 199.669,162.646 205.197,158.961 \n",
       "  210.724,162.646 216.252,166.331 221.78,170.016 227.307,166.331 232.835,162.646 238.362,166.331 243.89,162.646 249.417,158.961 254.945,155.276 260.472,151.591 \n",
       "  266,155.276 271.528,158.961 277.055,155.276 282.583,151.591 288.11,155.276 293.638,151.591 299.165,155.276 304.693,151.591 310.22,147.906 315.748,151.591 \n",
       "  \n",
       "  \"/>\n",
       "<polyline clip-path=\"url(#clip02)\" style=\"stroke:#309ac1; stroke-width:1; stroke-opacity:1; fill:none\" points=\"\n",
       "  44.8976,192.126 50.4252,195.811 55.9528,199.496 61.4803,203.181 67.0079,206.866 72.5354,210.551 78.063,206.866 83.5906,203.181 89.1181,199.496 94.6457,203.181 \n",
       "  100.173,206.866 105.701,203.181 111.228,206.866 116.756,203.181 122.283,206.866 127.811,203.181 133.339,199.496 138.866,195.811 144.394,199.496 149.921,203.181 \n",
       "  155.449,199.496 160.976,203.181 166.504,199.496 172.031,203.181 177.559,206.866 183.087,210.551 188.614,206.866 194.142,210.551 199.669,206.866 205.197,210.551 \n",
       "  210.724,206.866 216.252,203.181 221.78,206.866 227.307,210.551 232.835,206.866 238.362,210.551 243.89,214.236 249.417,217.921 254.945,214.236 260.472,217.921 \n",
       "  266,214.236 271.528,210.551 277.055,206.866 282.583,203.181 288.11,206.866 293.638,210.551 299.165,214.236 304.693,217.921 310.22,221.606 315.748,225.291 \n",
       "  \n",
       "  \"/>\n",
       "<polyline clip-path=\"url(#clip02)\" style=\"stroke:#788490; stroke-width:1; stroke-opacity:1; fill:none\" points=\"\n",
       "  44.8976,192.126 50.4252,195.811 55.9528,192.126 61.4803,195.811 67.0079,192.126 72.5354,195.811 78.063,199.496 83.5906,203.181 89.1181,199.496 94.6457,195.811 \n",
       "  100.173,192.126 105.701,188.441 111.228,192.126 116.756,195.811 122.283,199.496 127.811,195.811 133.339,192.126 138.866,195.811 144.394,192.126 149.921,188.441 \n",
       "  155.449,192.126 160.976,195.811 166.504,199.496 172.031,195.811 177.559,192.126 183.087,188.441 188.614,192.126 194.142,188.441 199.669,184.756 205.197,181.071 \n",
       "  210.724,177.386 216.252,173.701 221.78,177.386 227.307,173.701 232.835,170.016 238.362,173.701 243.89,170.016 249.417,166.331 254.945,170.016 260.472,166.331 \n",
       "  266,162.646 271.528,158.961 277.055,162.646 282.583,166.331 288.11,170.016 293.638,173.701 299.165,170.016 304.693,173.701 310.22,170.016 315.748,173.701 \n",
       "  \n",
       "  \"/>\n",
       "<polyline clip-path=\"url(#clip02)\" style=\"stroke:#e561a4; stroke-width:1; stroke-opacity:1; fill:none\" points=\"\n",
       "  44.8976,192.126 50.4252,195.811 55.9528,199.496 61.4803,203.181 67.0079,199.496 72.5354,203.181 78.063,206.866 83.5906,203.181 89.1181,199.496 94.6457,195.811 \n",
       "  100.173,192.126 105.701,188.441 111.228,184.756 116.756,188.441 122.283,192.126 127.811,188.441 133.339,192.126 138.866,195.811 144.394,199.496 149.921,203.181 \n",
       "  155.449,206.866 160.976,203.181 166.504,206.866 172.031,203.181 177.559,199.496 183.087,195.811 188.614,199.496 194.142,195.811 199.669,192.126 205.197,188.441 \n",
       "  210.724,184.756 216.252,188.441 221.78,184.756 227.307,181.071 232.835,177.386 238.362,173.701 243.89,177.386 249.417,181.071 254.945,177.386 260.472,181.071 \n",
       "  266,177.386 271.528,181.071 277.055,184.756 282.583,181.071 288.11,184.756 293.638,181.071 299.165,177.386 304.693,181.071 310.22,184.756 315.748,181.071 \n",
       "  \n",
       "  \"/>\n",
       "<polyline clip-path=\"url(#clip02)\" style=\"stroke:#99902c; stroke-width:1; stroke-opacity:1; fill:none\" points=\"\n",
       "  44.8976,192.126 50.4252,195.811 55.9528,192.126 61.4803,188.441 67.0079,184.756 72.5354,181.071 78.063,184.756 83.5906,188.441 89.1181,192.126 94.6457,188.441 \n",
       "  100.173,184.756 105.701,181.071 111.228,184.756 116.756,188.441 122.283,192.126 127.811,195.811 133.339,192.126 138.866,195.811 144.394,199.496 149.921,203.181 \n",
       "  155.449,206.866 160.976,203.181 166.504,199.496 172.031,203.181 177.559,206.866 183.087,210.551 188.614,206.866 194.142,203.181 199.669,206.866 205.197,210.551 \n",
       "  210.724,214.236 216.252,210.551 221.78,206.866 227.307,210.551 232.835,214.236 238.362,210.551 243.89,206.866 249.417,210.551 254.945,206.866 260.472,203.181 \n",
       "  266,199.496 271.528,203.181 277.055,199.496 282.583,203.181 288.11,206.866 293.638,210.551 299.165,206.866 304.693,203.181 310.22,206.866 315.748,203.181 \n",
       "  \n",
       "  \"/>\n",
       "<polyline clip-path=\"url(#clip02)\" style=\"stroke:#389a7b; stroke-width:1; stroke-opacity:1; fill:none\" points=\"\n",
       "  44.8976,192.126 50.4252,195.811 55.9528,199.496 61.4803,203.181 67.0079,206.866 72.5354,203.181 78.063,206.866 83.5906,210.551 89.1181,214.236 94.6457,210.551 \n",
       "  100.173,214.236 105.701,217.921 111.228,221.606 116.756,225.291 122.283,221.606 127.811,217.921 133.339,214.236 138.866,217.921 144.394,214.236 149.921,210.551 \n",
       "  155.449,214.236 160.976,210.551 166.504,206.866 172.031,210.551 177.559,214.236 183.087,217.921 188.614,214.236 194.142,210.551 199.669,214.236 205.197,217.921 \n",
       "  210.724,221.606 216.252,217.921 221.78,221.606 227.307,217.921 232.835,221.606 238.362,225.291 243.89,228.976 249.417,232.661 254.945,228.976 260.472,225.291 \n",
       "  266,221.606 271.528,225.291 277.055,228.976 282.583,232.661 288.11,228.976 293.638,225.291 299.165,221.606 304.693,217.921 310.22,221.606 315.748,217.921 \n",
       "  \n",
       "  \"/>\n",
       "<polyline clip-path=\"url(#clip02)\" style=\"stroke:#d968a2; stroke-width:1; stroke-opacity:1; fill:none\" points=\"\n",
       "  44.8976,192.126 50.4252,188.441 55.9528,192.126 61.4803,195.811 67.0079,199.496 72.5354,195.811 78.063,192.126 83.5906,195.811 89.1181,199.496 94.6457,203.181 \n",
       "  100.173,206.866 105.701,203.181 111.228,206.866 116.756,210.551 122.283,206.866 127.811,210.551 133.339,214.236 138.866,210.551 144.394,214.236 149.921,217.921 \n",
       "  155.449,214.236 160.976,210.551 166.504,206.866 172.031,203.181 177.559,199.496 183.087,203.181 188.614,206.866 194.142,203.181 199.669,199.496 205.197,195.811 \n",
       "  210.724,199.496 216.252,195.811 221.78,192.126 227.307,195.811 232.835,199.496 238.362,203.181 243.89,206.866 249.417,210.551 254.945,206.866 260.472,203.181 \n",
       "  266,199.496 271.528,195.811 277.055,199.496 282.583,203.181 288.11,199.496 293.638,203.181 299.165,199.496 304.693,195.811 310.22,192.126 315.748,195.811 \n",
       "  \n",
       "  \"/>\n",
       "<polyline clip-path=\"url(#clip02)\" style=\"stroke:#009af9; stroke-width:1; stroke-opacity:1; fill:none\" points=\"\n",
       "  44.8976,192.126 50.4252,188.441 55.9528,184.756 61.4803,188.441 67.0079,184.756 72.5354,181.071 78.063,184.756 83.5906,181.071 89.1181,184.756 94.6457,181.071 \n",
       "  100.173,177.386 105.701,173.701 111.228,170.016 116.756,166.331 122.283,162.646 127.811,166.331 133.339,170.016 138.866,166.331 144.394,162.646 149.921,158.961 \n",
       "  155.449,162.646 160.976,166.331 166.504,170.016 172.031,166.331 177.559,162.646 183.087,158.961 188.614,155.276 194.142,158.961 199.669,162.646 205.197,158.961 \n",
       "  210.724,155.276 216.252,158.961 221.78,162.646 227.307,158.961 232.835,162.646 238.362,158.961 243.89,162.646 249.417,166.331 254.945,162.646 260.472,158.961 \n",
       "  266,162.646 271.528,166.331 277.055,162.646 282.583,158.961 288.11,155.276 293.638,158.961 299.165,162.646 304.693,166.331 310.22,170.016 315.748,166.331 \n",
       "  \n",
       "  \"/>\n",
       "<polyline clip-path=\"url(#clip02)\" style=\"stroke:#e26f46; stroke-width:1; stroke-opacity:1; fill:none\" points=\"\n",
       "  44.8976,192.126 50.4252,188.441 55.9528,192.126 61.4803,195.811 67.0079,199.496 72.5354,195.811 78.063,199.496 83.5906,203.181 89.1181,199.496 94.6457,195.811 \n",
       "  100.173,199.496 105.701,203.181 111.228,206.866 116.756,203.181 122.283,199.496 127.811,203.181 133.339,199.496 138.866,203.181 144.394,206.866 149.921,210.551 \n",
       "  155.449,214.236 160.976,210.551 166.504,214.236 172.031,217.921 177.559,221.606 183.087,225.291 188.614,228.976 194.142,232.661 199.669,228.976 205.197,225.291 \n",
       "  210.724,221.606 216.252,225.291 221.78,228.976 227.307,225.291 232.835,228.976 238.362,232.661 243.89,228.976 249.417,225.291 254.945,228.976 260.472,232.661 \n",
       "  266,236.346 271.528,240.031 277.055,236.346 282.583,240.031 288.11,236.346 293.638,240.031 299.165,243.717 304.693,247.402 310.22,251.087 315.748,247.402 \n",
       "  \n",
       "  \"/>\n",
       "<polyline clip-path=\"url(#clip02)\" style=\"stroke:#3da44d; stroke-width:1; stroke-opacity:1; fill:none\" points=\"\n",
       "  44.8976,192.126 50.4252,188.441 55.9528,184.756 61.4803,181.071 67.0079,177.386 72.5354,173.701 78.063,170.016 83.5906,173.701 89.1181,177.386 94.6457,181.071 \n",
       "  100.173,177.386 105.701,181.071 111.228,184.756 116.756,188.441 122.283,192.126 127.811,195.811 133.339,192.126 138.866,188.441 144.394,184.756 149.921,181.071 \n",
       "  155.449,177.386 160.976,181.071 166.504,177.386 172.031,173.701 177.559,170.016 183.087,166.331 188.614,162.646 194.142,158.961 199.669,155.276 205.197,158.961 \n",
       "  210.724,155.276 216.252,151.591 221.78,155.276 227.307,151.591 232.835,147.906 238.362,144.22 243.89,147.906 249.417,144.22 254.945,147.906 260.472,144.22 \n",
       "  266,147.906 271.528,151.591 277.055,147.906 282.583,151.591 288.11,155.276 293.638,158.961 299.165,155.276 304.693,158.961 310.22,162.646 315.748,158.961 \n",
       "  \n",
       "  \"/>\n",
       "<polyline clip-path=\"url(#clip02)\" style=\"stroke:#c271d2; stroke-width:1; stroke-opacity:1; fill:none\" points=\"\n",
       "  44.8976,192.126 50.4252,188.441 55.9528,184.756 61.4803,188.441 67.0079,192.126 72.5354,195.811 78.063,199.496 83.5906,203.181 89.1181,206.866 94.6457,210.551 \n",
       "  100.173,206.866 105.701,210.551 111.228,206.866 116.756,203.181 122.283,206.866 127.811,203.181 133.339,199.496 138.866,203.181 144.394,206.866 149.921,210.551 \n",
       "  155.449,214.236 160.976,217.921 166.504,221.606 172.031,217.921 177.559,214.236 183.087,217.921 188.614,214.236 194.142,217.921 199.669,214.236 205.197,217.921 \n",
       "  210.724,214.236 216.252,210.551 221.78,214.236 227.307,210.551 232.835,206.866 238.362,210.551 243.89,206.866 249.417,210.551 254.945,206.866 260.472,203.181 \n",
       "  266,206.866 271.528,210.551 277.055,214.236 282.583,217.921 288.11,221.606 293.638,225.291 299.165,228.976 304.693,232.661 310.22,228.976 315.748,232.661 \n",
       "  \n",
       "  \"/>\n",
       "<polyline clip-path=\"url(#clip02)\" style=\"stroke:#ac8d18; stroke-width:1; stroke-opacity:1; fill:none\" points=\"\n",
       "  44.8976,192.126 50.4252,195.811 55.9528,199.496 61.4803,203.181 67.0079,199.496 72.5354,195.811 78.063,192.126 83.5906,188.441 89.1181,192.126 94.6457,188.441 \n",
       "  100.173,192.126 105.701,188.441 111.228,192.126 116.756,188.441 122.283,192.126 127.811,195.811 133.339,199.496 138.866,195.811 144.394,192.126 149.921,195.811 \n",
       "  155.449,199.496 160.976,203.181 166.504,199.496 172.031,203.181 177.559,199.496 183.087,203.181 188.614,206.866 194.142,210.551 199.669,214.236 205.197,210.551 \n",
       "  210.724,214.236 216.252,217.921 221.78,214.236 227.307,210.551 232.835,214.236 238.362,210.551 243.89,214.236 249.417,210.551 254.945,214.236 260.472,217.921 \n",
       "  266,214.236 271.528,217.921 277.055,214.236 282.583,210.551 288.11,214.236 293.638,210.551 299.165,214.236 304.693,217.921 310.22,214.236 315.748,210.551 \n",
       "  \n",
       "  \"/>\n",
       "<polyline clip-path=\"url(#clip02)\" style=\"stroke:#00a9ad; stroke-width:1; stroke-opacity:1; fill:none\" points=\"\n",
       "  44.8976,192.126 50.4252,195.811 55.9528,192.126 61.4803,195.811 67.0079,199.496 72.5354,195.811 78.063,192.126 83.5906,195.811 89.1181,199.496 94.6457,203.181 \n",
       "  100.173,206.866 105.701,203.181 111.228,206.866 116.756,203.181 122.283,206.866 127.811,210.551 133.339,206.866 138.866,210.551 144.394,206.866 149.921,203.181 \n",
       "  155.449,206.866 160.976,210.551 166.504,214.236 172.031,217.921 177.559,221.606 183.087,225.291 188.614,221.606 194.142,217.921 199.669,221.606 205.197,225.291 \n",
       "  210.724,228.976 216.252,232.661 221.78,236.346 227.307,240.031 232.835,236.346 238.362,240.031 243.89,243.717 249.417,247.402 254.945,251.087 260.472,247.402 \n",
       "  266,251.087 271.528,254.772 277.055,251.087 282.583,254.772 288.11,251.087 293.638,247.402 299.165,243.717 304.693,240.031 310.22,243.717 315.748,240.031 \n",
       "  \n",
       "  \"/>\n",
       "<polyline clip-path=\"url(#clip02)\" style=\"stroke:#ed5d92; stroke-width:1; stroke-opacity:1; fill:none\" points=\"\n",
       "  44.8976,192.126 50.4252,195.811 55.9528,192.126 61.4803,188.441 67.0079,192.126 72.5354,195.811 78.063,199.496 83.5906,203.181 89.1181,206.866 94.6457,210.551 \n",
       "  100.173,214.236 105.701,217.921 111.228,214.236 116.756,217.921 122.283,221.606 127.811,217.921 133.339,221.606 138.866,217.921 144.394,221.606 149.921,217.921 \n",
       "  155.449,221.606 160.976,225.291 166.504,221.606 172.031,217.921 177.559,214.236 183.087,210.551 188.614,214.236 194.142,210.551 199.669,214.236 205.197,217.921 \n",
       "  210.724,221.606 216.252,225.291 221.78,221.606 227.307,217.921 232.835,214.236 238.362,210.551 243.89,214.236 249.417,217.921 254.945,214.236 260.472,210.551 \n",
       "  266,214.236 271.528,210.551 277.055,206.866 282.583,210.551 288.11,214.236 293.638,210.551 299.165,206.866 304.693,210.551 310.22,206.866 315.748,203.181 \n",
       "  \n",
       "  \"/>\n",
       "<polyline clip-path=\"url(#clip02)\" style=\"stroke:#c68125; stroke-width:1; stroke-opacity:1; fill:none\" points=\"\n",
       "  44.8976,192.126 50.4252,188.441 55.9528,184.756 61.4803,188.441 67.0079,184.756 72.5354,188.441 78.063,192.126 83.5906,195.811 89.1181,192.126 94.6457,188.441 \n",
       "  100.173,192.126 105.701,195.811 111.228,192.126 116.756,195.811 122.283,199.496 127.811,195.811 133.339,199.496 138.866,195.811 144.394,192.126 149.921,188.441 \n",
       "  155.449,192.126 160.976,188.441 166.504,184.756 172.031,188.441 177.559,192.126 183.087,195.811 188.614,199.496 194.142,195.811 199.669,192.126 205.197,195.811 \n",
       "  210.724,192.126 216.252,195.811 221.78,199.496 227.307,195.811 232.835,199.496 238.362,203.181 243.89,206.866 249.417,210.551 254.945,214.236 260.472,210.551 \n",
       "  266,214.236 271.528,217.921 277.055,214.236 282.583,217.921 288.11,221.606 293.638,225.291 299.165,228.976 304.693,232.661 310.22,228.976 315.748,232.661 \n",
       "  \n",
       "  \"/>\n",
       "<polyline clip-path=\"url(#clip02)\" style=\"stroke:#00a98d; stroke-width:1; stroke-opacity:1; fill:none\" points=\"\n",
       "  44.8976,192.126 50.4252,188.441 55.9528,192.126 61.4803,188.441 67.0079,184.756 72.5354,188.441 78.063,184.756 83.5906,188.441 89.1181,192.126 94.6457,188.441 \n",
       "  100.173,192.126 105.701,195.811 111.228,192.126 116.756,195.811 122.283,199.496 127.811,195.811 133.339,192.126 138.866,188.441 144.394,184.756 149.921,181.071 \n",
       "  155.449,184.756 160.976,181.071 166.504,177.386 172.031,181.071 177.559,177.386 183.087,173.701 188.614,177.386 194.142,173.701 199.669,170.016 205.197,166.331 \n",
       "  210.724,170.016 216.252,166.331 221.78,170.016 227.307,166.331 232.835,170.016 238.362,173.701 243.89,170.016 249.417,166.331 254.945,170.016 260.472,166.331 \n",
       "  266,162.646 271.528,158.961 277.055,155.276 282.583,158.961 288.11,155.276 293.638,151.591 299.165,147.906 304.693,151.591 310.22,155.276 315.748,158.961 \n",
       "  \n",
       "  \"/>\n",
       "<polyline clip-path=\"url(#clip02)\" style=\"stroke:#8e971d; stroke-width:1; stroke-opacity:1; fill:none\" points=\"\n",
       "  44.8976,192.126 50.4252,188.441 55.9528,192.126 61.4803,188.441 67.0079,184.756 72.5354,181.071 78.063,184.756 83.5906,181.071 89.1181,184.756 94.6457,181.071 \n",
       "  100.173,177.386 105.701,173.701 111.228,170.016 116.756,173.701 122.283,177.386 127.811,181.071 133.339,184.756 138.866,188.441 144.394,184.756 149.921,181.071 \n",
       "  155.449,177.386 160.976,181.071 166.504,184.756 172.031,181.071 177.559,184.756 183.087,181.071 188.614,184.756 194.142,181.071 199.669,184.756 205.197,188.441 \n",
       "  210.724,192.126 216.252,195.811 221.78,192.126 227.307,195.811 232.835,192.126 238.362,195.811 243.89,192.126 249.417,195.811 254.945,192.126 260.472,195.811 \n",
       "  266,199.496 271.528,203.181 277.055,206.866 282.583,203.181 288.11,206.866 293.638,210.551 299.165,214.236 304.693,210.551 310.22,206.866 315.748,210.551 \n",
       "  \n",
       "  \"/>\n",
       "<polyline clip-path=\"url(#clip02)\" style=\"stroke:#00a8cb; stroke-width:1; stroke-opacity:1; fill:none\" points=\"\n",
       "  44.8976,192.126 50.4252,195.811 55.9528,192.126 61.4803,195.811 67.0079,199.496 72.5354,203.181 78.063,206.866 83.5906,210.551 89.1181,214.236 94.6457,217.921 \n",
       "  100.173,214.236 105.701,217.921 111.228,214.236 116.756,210.551 122.283,214.236 127.811,210.551 133.339,214.236 138.866,210.551 144.394,206.866 149.921,210.551 \n",
       "  155.449,206.866 160.976,210.551 166.504,206.866 172.031,210.551 177.559,214.236 183.087,217.921 188.614,214.236 194.142,217.921 199.669,221.606 205.197,217.921 \n",
       "  210.724,221.606 216.252,217.921 221.78,214.236 227.307,210.551 232.835,214.236 238.362,217.921 243.89,221.606 249.417,225.291 254.945,221.606 260.472,217.921 \n",
       "  266,221.606 271.528,225.291 277.055,221.606 282.583,225.291 288.11,221.606 293.638,225.291 299.165,228.976 304.693,225.291 310.22,221.606 315.748,225.291 \n",
       "  \n",
       "  \"/>\n",
       "<polyline clip-path=\"url(#clip02)\" style=\"stroke:#9b7fe8; stroke-width:1; stroke-opacity:1; fill:none\" points=\"\n",
       "  44.8976,192.126 50.4252,195.811 55.9528,192.126 61.4803,188.441 67.0079,192.126 72.5354,188.441 78.063,192.126 83.5906,195.811 89.1181,199.496 94.6457,195.811 \n",
       "  100.173,199.496 105.701,203.181 111.228,206.866 116.756,210.551 122.283,214.236 127.811,217.921 133.339,221.606 138.866,225.291 144.394,221.606 149.921,225.291 \n",
       "  155.449,221.606 160.976,217.921 166.504,221.606 172.031,225.291 177.559,228.976 183.087,225.291 188.614,221.606 194.142,217.921 199.669,221.606 205.197,225.291 \n",
       "  210.724,228.976 216.252,232.661 221.78,228.976 227.307,232.661 232.835,236.346 238.362,240.031 243.89,243.717 249.417,240.031 254.945,243.717 260.472,240.031 \n",
       "  266,243.717 271.528,247.402 277.055,251.087 282.583,247.402 288.11,243.717 293.638,240.031 299.165,243.717 304.693,240.031 310.22,236.346 315.748,232.661 \n",
       "  \n",
       "  \"/>\n",
       "<polyline clip-path=\"url(#clip02)\" style=\"stroke:#608cf6; stroke-width:1; stroke-opacity:1; fill:none\" points=\"\n",
       "  44.8976,192.126 50.4252,195.811 55.9528,192.126 61.4803,195.811 67.0079,199.496 72.5354,195.811 78.063,199.496 83.5906,195.811 89.1181,199.496 94.6457,203.181 \n",
       "  100.173,206.866 105.701,203.181 111.228,199.496 116.756,195.811 122.283,199.496 127.811,203.181 133.339,206.866 138.866,203.181 144.394,199.496 149.921,195.811 \n",
       "  155.449,192.126 160.976,188.441 166.504,192.126 172.031,188.441 177.559,184.756 183.087,188.441 188.614,192.126 194.142,195.811 199.669,199.496 205.197,203.181 \n",
       "  210.724,199.496 216.252,195.811 221.78,192.126 227.307,195.811 232.835,199.496 238.362,203.181 243.89,206.866 249.417,203.181 254.945,199.496 260.472,203.181 \n",
       "  266,206.866 271.528,203.181 277.055,199.496 282.583,195.811 288.11,192.126 293.638,188.441 299.165,192.126 304.693,195.811 310.22,192.126 315.748,195.811 \n",
       "  \n",
       "  \"/>\n",
       "<polyline clip-path=\"url(#clip02)\" style=\"stroke:#f05f73; stroke-width:1; stroke-opacity:1; fill:none\" points=\"\n",
       "  44.8976,192.126 50.4252,195.811 55.9528,199.496 61.4803,203.181 67.0079,206.866 72.5354,210.551 78.063,214.236 83.5906,210.551 89.1181,214.236 94.6457,210.551 \n",
       "  100.173,214.236 105.701,210.551 111.228,214.236 116.756,217.921 122.283,221.606 127.811,217.921 133.339,214.236 138.866,217.921 144.394,214.236 149.921,210.551 \n",
       "  155.449,206.866 160.976,210.551 166.504,214.236 172.031,210.551 177.559,214.236 183.087,210.551 188.614,206.866 194.142,210.551 199.669,206.866 205.197,210.551 \n",
       "  210.724,214.236 216.252,217.921 221.78,214.236 227.307,210.551 232.835,214.236 238.362,210.551 243.89,206.866 249.417,203.181 254.945,206.866 260.472,203.181 \n",
       "  266,199.496 271.528,195.811 277.055,199.496 282.583,195.811 288.11,199.496 293.638,195.811 299.165,192.126 304.693,195.811 310.22,199.496 315.748,195.811 \n",
       "  \n",
       "  \"/>\n",
       "<polyline clip-path=\"url(#clip02)\" style=\"stroke:#dd64b5; stroke-width:1; stroke-opacity:1; fill:none\" points=\"\n",
       "  44.8976,192.126 50.4252,195.811 55.9528,199.496 61.4803,203.181 67.0079,199.496 72.5354,203.181 78.063,206.866 83.5906,210.551 89.1181,214.236 94.6457,210.551 \n",
       "  100.173,206.866 105.701,203.181 111.228,199.496 116.756,203.181 122.283,199.496 127.811,203.181 133.339,206.866 138.866,210.551 144.394,206.866 149.921,203.181 \n",
       "  155.449,199.496 160.976,195.811 166.504,199.496 172.031,195.811 177.559,192.126 183.087,188.441 188.614,184.756 194.142,181.071 199.669,184.756 205.197,181.071 \n",
       "  210.724,177.386 216.252,173.701 221.78,177.386 227.307,173.701 232.835,177.386 238.362,181.071 243.89,177.386 249.417,173.701 254.945,177.386 260.472,181.071 \n",
       "  266,177.386 271.528,181.071 277.055,184.756 282.583,181.071 288.11,184.756 293.638,188.441 299.165,192.126 304.693,195.811 310.22,199.496 315.748,195.811 \n",
       "  \n",
       "  \"/>\n",
       "<polyline clip-path=\"url(#clip02)\" style=\"stroke:#6b9e32; stroke-width:1; stroke-opacity:1; fill:none\" points=\"\n",
       "  44.8976,192.126 50.4252,188.441 55.9528,192.126 61.4803,188.441 67.0079,184.756 72.5354,188.441 78.063,192.126 83.5906,188.441 89.1181,192.126 94.6457,188.441 \n",
       "  100.173,192.126 105.701,188.441 111.228,192.126 116.756,188.441 122.283,192.126 127.811,195.811 133.339,192.126 138.866,188.441 144.394,184.756 149.921,181.071 \n",
       "  155.449,184.756 160.976,181.071 166.504,184.756 172.031,188.441 177.559,184.756 183.087,188.441 188.614,192.126 194.142,188.441 199.669,184.756 205.197,188.441 \n",
       "  210.724,192.126 216.252,195.811 221.78,192.126 227.307,188.441 232.835,184.756 238.362,181.071 243.89,184.756 249.417,188.441 254.945,184.756 260.472,181.071 \n",
       "  266,177.386 271.528,173.701 277.055,177.386 282.583,181.071 288.11,184.756 293.638,181.071 299.165,184.756 304.693,188.441 310.22,192.126 315.748,188.441 \n",
       "  \n",
       "  \"/>\n",
       "<polyline clip-path=\"url(#clip02)\" style=\"stroke:#718c69; stroke-width:1; stroke-opacity:1; fill:none\" points=\"\n",
       "  44.8976,192.126 50.4252,188.441 55.9528,184.756 61.4803,181.071 67.0079,177.386 72.5354,181.071 78.063,177.386 83.5906,173.701 89.1181,170.016 94.6457,173.701 \n",
       "  100.173,170.016 105.701,166.331 111.228,162.646 116.756,158.961 122.283,155.276 127.811,151.591 133.339,147.906 138.866,151.591 144.394,147.906 149.921,151.591 \n",
       "  155.449,155.276 160.976,158.961 166.504,155.276 172.031,158.961 177.559,155.276 183.087,158.961 188.614,155.276 194.142,151.591 199.669,155.276 205.197,151.591 \n",
       "  210.724,155.276 216.252,158.961 221.78,162.646 227.307,166.331 232.835,170.016 238.362,173.701 243.89,170.016 249.417,166.331 254.945,162.646 260.472,158.961 \n",
       "  266,155.276 271.528,158.961 277.055,155.276 282.583,151.591 288.11,147.906 293.638,144.22 299.165,147.906 304.693,151.591 310.22,147.906 315.748,151.591 \n",
       "  \n",
       "  \"/>\n",
       "<polyline clip-path=\"url(#clip02)\" style=\"stroke:#47988b; stroke-width:1; stroke-opacity:1; fill:none\" points=\"\n",
       "  44.8976,192.126 50.4252,195.811 55.9528,199.496 61.4803,195.811 67.0079,199.496 72.5354,195.811 78.063,192.126 83.5906,195.811 89.1181,192.126 94.6457,195.811 \n",
       "  100.173,199.496 105.701,195.811 111.228,192.126 116.756,188.441 122.283,192.126 127.811,188.441 133.339,184.756 138.866,181.071 144.394,177.386 149.921,173.701 \n",
       "  155.449,170.016 160.976,173.701 166.504,177.386 172.031,181.071 177.559,184.756 183.087,181.071 188.614,184.756 194.142,181.071 199.669,184.756 205.197,188.441 \n",
       "  210.724,184.756 216.252,181.071 221.78,177.386 227.307,181.071 232.835,177.386 238.362,181.071 243.89,177.386 249.417,173.701 254.945,177.386 260.472,181.071 \n",
       "  266,184.756 271.528,188.441 277.055,184.756 282.583,181.071 288.11,177.386 293.638,173.701 299.165,177.386 304.693,173.701 310.22,177.386 315.748,181.071 \n",
       "  \n",
       "  \"/>\n",
       "<polyline clip-path=\"url(#clip02)\" style=\"stroke:#1ea68c; stroke-width:1; stroke-opacity:1; fill:none\" points=\"\n",
       "  44.8976,192.126 50.4252,195.811 55.9528,192.126 61.4803,188.441 67.0079,192.126 72.5354,188.441 78.063,184.756 83.5906,188.441 89.1181,184.756 94.6457,188.441 \n",
       "  100.173,192.126 105.701,188.441 111.228,192.126 116.756,188.441 122.283,184.756 127.811,181.071 133.339,177.386 138.866,173.701 144.394,170.016 149.921,173.701 \n",
       "  155.449,170.016 160.976,166.331 166.504,170.016 172.031,173.701 177.559,177.386 183.087,181.071 188.614,184.756 194.142,188.441 199.669,192.126 205.197,195.811 \n",
       "  210.724,192.126 216.252,188.441 221.78,184.756 227.307,188.441 232.835,184.756 238.362,188.441 243.89,184.756 249.417,181.071 254.945,177.386 260.472,173.701 \n",
       "  266,177.386 271.528,181.071 277.055,177.386 282.583,181.071 288.11,177.386 293.638,173.701 299.165,170.016 304.693,173.701 310.22,170.016 315.748,166.331 \n",
       "  \n",
       "  \"/>\n",
       "<polyline clip-path=\"url(#clip02)\" style=\"stroke:#af78dd; stroke-width:1; stroke-opacity:1; fill:none\" points=\"\n",
       "  44.8976,192.126 50.4252,188.441 55.9528,192.126 61.4803,188.441 67.0079,192.126 72.5354,188.441 78.063,192.126 83.5906,188.441 89.1181,192.126 94.6457,188.441 \n",
       "  100.173,184.756 105.701,188.441 111.228,192.126 116.756,188.441 122.283,192.126 127.811,188.441 133.339,192.126 138.866,188.441 144.394,192.126 149.921,188.441 \n",
       "  155.449,192.126 160.976,188.441 166.504,184.756 172.031,188.441 177.559,192.126 183.087,188.441 188.614,184.756 194.142,181.071 199.669,177.386 205.197,173.701 \n",
       "  210.724,170.016 216.252,166.331 221.78,162.646 227.307,166.331 232.835,170.016 238.362,166.331 243.89,170.016 249.417,173.701 254.945,177.386 260.472,173.701 \n",
       "  266,177.386 271.528,181.071 277.055,184.756 282.583,188.441 288.11,192.126 293.638,188.441 299.165,184.756 304.693,181.071 310.22,184.756 315.748,188.441 \n",
       "  \n",
       "  \"/>\n",
       "<polyline clip-path=\"url(#clip02)\" style=\"stroke:#000000; stroke-width:2; stroke-opacity:1; fill:none\" stroke-dasharray=\"8, 5\" points=\"\n",
       "  39.3701,192.126 592.126,192.126 \n",
       "  \"/>\n",
       "</svg>\n"
      ]
     },
     "execution_count": 67,
     "metadata": {
      "comm_id": "3df3126f-fc85-460c-9ad9-eda38123e36f",
      "reactive": true
     },
     "output_type": "execute_result"
    }
   ],
   "source": [
    "max_T = 100\n",
    "max_N = 1000\n",
    "\n",
    "@manipulate for T in 1:max_T, N in 1:max_N\n",
    "    p = plot(legend=false, xlim=(0, max_T), ylim=(-5sqrt(max_T), 5sqrt(max_T)))  # make empty plot with no legend; fix axes limits\n",
    "    for i in 1:N\n",
    "        plot!(p, 1:T, walk(T))   # ! means \"add to plot\"\n",
    "    end\n",
    "    hline!(p, [0], c=:black, ls=:dash, lw=2)  # add\n",
    "    p\n",
    "end"
   ]
  },
  {
   "cell_type": "code",
   "execution_count": 74,
   "metadata": {
    "slideshow": {
     "slide_type": "subslide"
    }
   },
   "outputs": [
    {
     "name": "stderr",
     "output_type": "stream",
     "text": [
      "\u001b[1m\u001b[36mINFO: \u001b[39m\u001b[22m\u001b[36mSaved animation to /home/matias/Documents/Programación/Julia/Goet2017-JuliaIntro/tmp.gif\n",
      "\u001b[39m"
     ]
    },
    {
     "data": {
      "text/html": [
       "<img src=\"tmp.gif?0.7655436598970842>\" />"
      ],
      "text/plain": [
       "Plots.AnimatedGif(\"/home/matias/Documents/Programación/Julia/Goet2017-JuliaIntro/tmp.gif\")"
      ]
     },
     "execution_count": 74,
     "metadata": {},
     "output_type": "execute_result"
    }
   ],
   "source": [
    "T = 30  # maximum time\n",
    "N = 10  # number of walks\n",
    "many_walks = hcat([walk(T) for i in 1:N]...)\n",
    "\n",
    "@gif for tf in 1:0.5:T\n",
    "    t = floor(Int,tf)\n",
    "    plot(xlims = (0,T), ylims = extrema(many_walks), legend=false)  # make empty plot with no legend\n",
    "    for i in 1:N\n",
    "        plot!(1:t, many_walks[1:t,i])   # ! means \"add to plot\"\n",
    "    end\n",
    "    hline!([0], c=:black, ls=:dash, lw=2)  # add\n",
    "end"
   ]
  },
  {
   "cell_type": "code",
   "execution_count": 68,
   "metadata": {
    "collapsed": true,
    "slideshow": {
     "slide_type": "subslide"
    }
   },
   "outputs": [],
   "source": [
    "using ProfileView"
   ]
  },
  {
   "cell_type": "code",
   "execution_count": 69,
   "metadata": {
    "collapsed": true,
    "slideshow": {
     "slide_type": "fragment"
    }
   },
   "outputs": [],
   "source": [
    "Profile.clear()\n",
    "for i in 1:1000\n",
    "    @profile walk(10000)\n",
    "    end; "
   ]
  },
  {
   "cell_type": "code",
   "execution_count": 70,
   "metadata": {
    "slideshow": {
     "slide_type": "fragment"
    }
   },
   "outputs": [
    {
     "data": {
      "image/svg+xml": [
       "<?xml version=\"1.0\" standalone=\"no\"?>\n",
       "<!DOCTYPE svg PUBLIC \"-//W3C//DTD SVG 1.1//EN\" \"http://www.w3.org/Graphics/SVG/1.1/DTD/svg11.dtd\">\n",
       "<svg version=\"1.1\" width=\"1200\" height=\"190\" viewBox=\"0 0 1200 190\" xmlns=\"http://www.w3.org/2000/svg\" >\n",
       "<defs >\n",
       "    <linearGradient id=\"background\" y1=\"0\" y2=\"1\" x1=\"0\" x2=\"0\" >\n",
       "        <stop stop-color=\"#eeeeee\" offset=\"5%\" />\n",
       "        <stop stop-color=\"#eeeeb0\" offset=\"95%\" />\n",
       "    </linearGradient>\n",
       "    <clipPath id=\"fig-4b28bc445d204db8b4fd47e5c8d4ea16-image-frame\">\n",
       "      <rect id=\"fig-4b28bc445d204db8b4fd47e5c8d4ea16-clip-rect\" x=\"0\" y=\"0\" width=\"1200\" height=\"190\" />\n",
       "    </clipPath>\n",
       "</defs>\n",
       "<style type=\"text/css\">\n",
       "    rect[rx]:hover { stroke:black; stroke-width:1; }\n",
       "    text:hover { stroke:black; stroke-width:1; stroke-opacity:0.35; }\n",
       "</style>\n",
       "<g id=\"fig-4b28bc445d204db8b4fd47e5c8d4ea16-frame\" clip-path=\"url(#fig-4b28bc445d204db8b4fd47e5c8d4ea16-image-frame)\">\n",
       "<rect class=\"pvbackground\" x=\"0.0\" y=\"0\" width=\"1200.0\" height=\"190.0\" fill=\"url(#background)\"  />\n",
       "<text class=\"pvbackground\" text-anchor=\"middle\" x=\"600\" y=\"24\" font-size=\"17\" font-family=\"Verdana\" fill=\"rgb(0,0,0)\"  >Profile results</text>\n",
       "<text text-anchor=\"left\" x=\"10\" y=\"173\" font-size=\"12\" font-family=\"Verdana\" fill=\"rgb(0,0,0)\"  >Function:</text>\n",
       "<text text-anchor=\"\" x=\"70\" y=\"173\" font-size=\"12\" font-family=\"Verdana\" fill=\"rgb(0,0,0)\" id=\"fig-4b28bc445d204db8b4fd47e5c8d4ea16-details\" > </text>\n",
       "<g id=\"fig-4b28bc445d204db8b4fd47e5c8d4ea16-viewport\" transform=\"scale(1)\">\n",
       "<rect vector-effect=\"non-scaling-stroke\" x=\"10.0\" y=\"135.0\" width=\"1151.219512195122\" height=\"15.0\" fill=\"rgb(232,112,221)\" rx=\"2\" ry=\"2\" data-shortinfo=\"#14 in task.jl:335\" data-info=\"#14 in ./task.jl:335\"/>\n",
       "<text text-anchor=\"\" x=\"14.0\" y=\"146.5\" font-size=\"12\" font-family=\"Verdana\" fill=\"rgb(0,0,0)\" ></text>\n",
       "<rect vector-effect=\"non-scaling-stroke\" x=\"10.0\" y=\"120.0\" width=\"1151.219512195122\" height=\"15.0\" fill=\"rgb(255,0,0)\" rx=\"2\" ry=\"2\" data-shortinfo=\"eventloop in eventloop.jl:8\" data-info=\"eventloop in /home/matias/.julia/v0.6/IJulia/src/eventloop.jl:8\"/>\n",
       "<text text-anchor=\"\" x=\"14.0\" y=\"131.5\" font-size=\"12\" font-family=\"Verdana\" fill=\"rgb(0,0,0)\" ></text>\n",
       "<rect vector-effect=\"non-scaling-stroke\" x=\"10.0\" y=\"105.0\" width=\"1151.219512195122\" height=\"15.0\" fill=\"rgb(255,0,0)\" rx=\"2\" ry=\"2\" data-shortinfo=\"execute_request in execute_request.jl:154\" data-info=\"execute_request in /home/matias/.julia/v0.6/IJulia/src/execute_request.jl:154\"/>\n",
       "<text text-anchor=\"\" x=\"14.0\" y=\"116.5\" font-size=\"12\" font-family=\"Verdana\" fill=\"rgb(0,0,0)\" ></text>\n",
       "<rect vector-effect=\"non-scaling-stroke\" x=\"10.0\" y=\"90.0\" width=\"1151.219512195122\" height=\"15.0\" fill=\"rgb(255,0,0)\" rx=\"2\" ry=\"2\" data-shortinfo=\"include_string in Compat.jl:577\" data-info=\"include_string in /home/matias/.julia/v0.6/Compat/src/Compat.jl:577\"/>\n",
       "<text text-anchor=\"\" x=\"14.0\" y=\"101.5\" font-size=\"12\" font-family=\"Verdana\" fill=\"rgb(0,0,0)\" ></text>\n",
       "<rect vector-effect=\"non-scaling-stroke\" x=\"10.0\" y=\"75.0\" width=\"1151.219512195122\" height=\"15.0\" fill=\"rgb(232,112,221)\" rx=\"2\" ry=\"2\" data-shortinfo=\"include_string in loading.jl:515\" data-info=\"include_string in ./loading.jl:515\"/>\n",
       "<text text-anchor=\"\" x=\"14.0\" y=\"86.5\" font-size=\"12\" font-family=\"Verdana\" fill=\"rgb(0,0,0)\" ></text>\n",
       "<rect vector-effect=\"non-scaling-stroke\" x=\"10.0\" y=\"60.0\" width=\"1151.219512195122\" height=\"15.0\" fill=\"rgb(255,164,156)\" rx=\"2\" ry=\"2\" data-shortinfo=\"macro expansion in profile.jl:23; macro expansion in In[69]:3; anonymous in &amp;lt;missing&amp;gt;:-1\" data-info=\"macro expansion in ./profile.jl:23; macro expansion in ./In[69]:3; anonymous in ./&amp;lt;missing&amp;gt;:-1\"/>\n",
       "<text text-anchor=\"\" x=\"14.0\" y=\"71.5\" font-size=\"12\" font-family=\"Verdana\" fill=\"rgb(0,0,0)\" ></text>\n",
       "<rect vector-effect=\"non-scaling-stroke\" x=\"10.0\" y=\"45.0\" width=\"287.8048780487805\" height=\"15.0\" fill=\"rgb(232,112,221)\" rx=\"2\" ry=\"2\" data-shortinfo=\"walk in In[62]:9\" data-info=\"walk in ./In[62]:9\"/>\n",
       "<text text-anchor=\"\" x=\"14.0\" y=\"56.5\" font-size=\"12\" font-family=\"Verdana\" fill=\"rgb(0,0,0)\" ></text>\n",
       "<rect vector-effect=\"non-scaling-stroke\" x=\"297.8048780487805\" y=\"45.0\" width=\"863.4146341463415\" height=\"15.0\" fill=\"rgb(50,180,78)\" rx=\"2\" ry=\"2\" data-shortinfo=\"push! in array.jl:618; walk in In[62]:16\" data-info=\"push! in ./array.jl:618; walk in ./In[62]:16\"/>\n",
       "<text text-anchor=\"\" x=\"301.8048780487805\" y=\"56.5\" font-size=\"12\" font-family=\"Verdana\" fill=\"rgb(0,0,0)\" ></text>\n",
       "<rect vector-effect=\"non-scaling-stroke\" x=\"10.0\" y=\"30.0\" width=\"287.8048780487805\" height=\"15.0\" fill=\"rgb(255,164,156)\" rx=\"2\" ry=\"2\" data-shortinfo=\"vect in array.jl:76\" data-info=\"vect in ./array.jl:76\"/>\n",
       "<text text-anchor=\"\" x=\"14.0\" y=\"41.5\" font-size=\"12\" font-family=\"Verdana\" fill=\"rgb(0,0,0)\" ></text>\n",
       "    </g></g>\n",
       "    <script><![CDATA[(function(N){var k=/[\\.\\/]/,L=/\\s*,\\s*/,C=function(a,d){return a-d},a,v,y={n:{}},M=function(){for(var a=0,d=this.length;a<d;a++)if(\"undefined\"!=typeof this[a])return this[a]},A=function(){for(var a=this.length;--a;)if(\"undefined\"!=typeof this[a])return this[a]},w=function(k,d){k=String(k);var f=v,n=Array.prototype.slice.call(arguments,2),u=w.listeners(k),p=0,b,q=[],e={},l=[],r=a;l.firstDefined=M;l.lastDefined=A;a=k;for(var s=v=0,x=u.length;s<x;s++)\"zIndex\"in u[s]&&(q.push(u[s].zIndex),0>u[s].zIndex&&\n",
       "(e[u[s].zIndex]=u[s]));for(q.sort(C);0>q[p];)if(b=e[q[p++] ],l.push(b.apply(d,n)),v)return v=f,l;for(s=0;s<x;s++)if(b=u[s],\"zIndex\"in b)if(b.zIndex==q[p]){l.push(b.apply(d,n));if(v)break;do if(p++,(b=e[q[p] ])&&l.push(b.apply(d,n)),v)break;while(b)}else e[b.zIndex]=b;else if(l.push(b.apply(d,n)),v)break;v=f;a=r;return l};w._events=y;w.listeners=function(a){a=a.split(k);var d=y,f,n,u,p,b,q,e,l=[d],r=[];u=0;for(p=a.length;u<p;u++){e=[];b=0;for(q=l.length;b<q;b++)for(d=l[b].n,f=[d[a[u] ],d[\"*\"] ],n=2;n--;)if(d=\n",
       "f[n])e.push(d),r=r.concat(d.f||[]);l=e}return r};w.on=function(a,d){a=String(a);if(\"function\"!=typeof d)return function(){};for(var f=a.split(L),n=0,u=f.length;n<u;n++)(function(a){a=a.split(k);for(var b=y,f,e=0,l=a.length;e<l;e++)b=b.n,b=b.hasOwnProperty(a[e])&&b[a[e] ]||(b[a[e] ]={n:{}});b.f=b.f||[];e=0;for(l=b.f.length;e<l;e++)if(b.f[e]==d){f=!0;break}!f&&b.f.push(d)})(f[n]);return function(a){+a==+a&&(d.zIndex=+a)}};w.f=function(a){var d=[].slice.call(arguments,1);return function(){w.apply(null,\n",
       "[a,null].concat(d).concat([].slice.call(arguments,0)))}};w.stop=function(){v=1};w.nt=function(k){return k?(new RegExp(\"(?:\\\\.|\\\\/|^)\"+k+\"(?:\\\\.|\\\\/|$)\")).test(a):a};w.nts=function(){return a.split(k)};w.off=w.unbind=function(a,d){if(a){var f=a.split(L);if(1<f.length)for(var n=0,u=f.length;n<u;n++)w.off(f[n],d);else{for(var f=a.split(k),p,b,q,e,l=[y],n=0,u=f.length;n<u;n++)for(e=0;e<l.length;e+=q.length-2){q=[e,1];p=l[e].n;if(\"*\"!=f[n])p[f[n] ]&&q.push(p[f[n] ]);else for(b in p)p.hasOwnProperty(b)&&\n",
       "q.push(p[b]);l.splice.apply(l,q)}n=0;for(u=l.length;n<u;n++)for(p=l[n];p.n;){if(d){if(p.f){e=0;for(f=p.f.length;e<f;e++)if(p.f[e]==d){p.f.splice(e,1);break}!p.f.length&&delete p.f}for(b in p.n)if(p.n.hasOwnProperty(b)&&p.n[b].f){q=p.n[b].f;e=0;for(f=q.length;e<f;e++)if(q[e]==d){q.splice(e,1);break}!q.length&&delete p.n[b].f}}else for(b in delete p.f,p.n)p.n.hasOwnProperty(b)&&p.n[b].f&&delete p.n[b].f;p=p.n}}}else w._events=y={n:{}}};w.once=function(a,d){var f=function(){w.unbind(a,f);return d.apply(this,\n",
       "arguments)};return w.on(a,f)};w.version=\"0.4.2\";w.toString=function(){return\"You are running Eve 0.4.2\"};\"undefined\"!=typeof module&&module.exports?module.exports=w:\"function\"===typeof define&&define.amd?define(\"eve\",[],function(){return w}):N.eve=w})(this);\n",
       "(function(N,k){\"function\"===typeof define&&define.amd?define(\"Snap.svg\",[\"eve\"],function(L){return k(N,L)}):k(N,N.eve)})(this,function(N,k){var L=function(a){var k={},y=N.requestAnimationFrame||N.webkitRequestAnimationFrame||N.mozRequestAnimationFrame||N.oRequestAnimationFrame||N.msRequestAnimationFrame||function(a){setTimeout(a,16)},M=Array.isArray||function(a){return a instanceof Array||\"[object Array]\"==Object.prototype.toString.call(a)},A=0,w=\"M\"+(+new Date).toString(36),z=function(a){if(null==\n",
       "a)return this.s;var b=this.s-a;this.b+=this.dur*b;this.B+=this.dur*b;this.s=a},d=function(a){if(null==a)return this.spd;this.spd=a},f=function(a){if(null==a)return this.dur;this.s=this.s*a/this.dur;this.dur=a},n=function(){delete k[this.id];this.update();a(\"mina.stop.\"+this.id,this)},u=function(){this.pdif||(delete k[this.id],this.update(),this.pdif=this.get()-this.b)},p=function(){this.pdif&&(this.b=this.get()-this.pdif,delete this.pdif,k[this.id]=this)},b=function(){var a;if(M(this.start)){a=[];\n",
       "for(var b=0,e=this.start.length;b<e;b++)a[b]=+this.start[b]+(this.end[b]-this.start[b])*this.easing(this.s)}else a=+this.start+(this.end-this.start)*this.easing(this.s);this.set(a)},q=function(){var l=0,b;for(b in k)if(k.hasOwnProperty(b)){var e=k[b],f=e.get();l++;e.s=(f-e.b)/(e.dur/e.spd);1<=e.s&&(delete k[b],e.s=1,l--,function(b){setTimeout(function(){a(\"mina.finish.\"+b.id,b)})}(e));e.update()}l&&y(q)},e=function(a,r,s,x,G,h,J){a={id:w+(A++).toString(36),start:a,end:r,b:s,s:0,dur:x-s,spd:1,get:G,\n",
       "set:h,easing:J||e.linear,status:z,speed:d,duration:f,stop:n,pause:u,resume:p,update:b};k[a.id]=a;r=0;for(var K in k)if(k.hasOwnProperty(K)&&(r++,2==r))break;1==r&&y(q);return a};e.time=Date.now||function(){return+new Date};e.getById=function(a){return k[a]||null};e.linear=function(a){return a};e.easeout=function(a){return Math.pow(a,1.7)};e.easein=function(a){return Math.pow(a,0.48)};e.easeinout=function(a){if(1==a)return 1;if(0==a)return 0;var b=0.48-a/1.04,e=Math.sqrt(0.1734+b*b);a=e-b;a=Math.pow(Math.abs(a),\n",
       "1/3)*(0>a?-1:1);b=-e-b;b=Math.pow(Math.abs(b),1/3)*(0>b?-1:1);a=a+b+0.5;return 3*(1-a)*a*a+a*a*a};e.backin=function(a){return 1==a?1:a*a*(2.70158*a-1.70158)};e.backout=function(a){if(0==a)return 0;a-=1;return a*a*(2.70158*a+1.70158)+1};e.elastic=function(a){return a==!!a?a:Math.pow(2,-10*a)*Math.sin(2*(a-0.075)*Math.PI/0.3)+1};e.bounce=function(a){a<1/2.75?a*=7.5625*a:a<2/2.75?(a-=1.5/2.75,a=7.5625*a*a+0.75):a<2.5/2.75?(a-=2.25/2.75,a=7.5625*a*a+0.9375):(a-=2.625/2.75,a=7.5625*a*a+0.984375);return a};\n",
       "return N.mina=e}(\"undefined\"==typeof k?function(){}:k),C=function(){function a(c,t){if(c){if(c.tagName)return x(c);if(y(c,\"array\")&&a.set)return a.set.apply(a,c);if(c instanceof e)return c;if(null==t)return c=G.doc.querySelector(c),x(c)}return new s(null==c?\"100%\":c,null==t?\"100%\":t)}function v(c,a){if(a){\"#text\"==c&&(c=G.doc.createTextNode(a.text||\"\"));\"string\"==typeof c&&(c=v(c));if(\"string\"==typeof a)return\"xlink:\"==a.substring(0,6)?c.getAttributeNS(m,a.substring(6)):\"xml:\"==a.substring(0,4)?c.getAttributeNS(la,\n",
       "a.substring(4)):c.getAttribute(a);for(var da in a)if(a[h](da)){var b=J(a[da]);b?\"xlink:\"==da.substring(0,6)?c.setAttributeNS(m,da.substring(6),b):\"xml:\"==da.substring(0,4)?c.setAttributeNS(la,da.substring(4),b):c.setAttribute(da,b):c.removeAttribute(da)}}else c=G.doc.createElementNS(la,c);return c}function y(c,a){a=J.prototype.toLowerCase.call(a);return\"finite\"==a?isFinite(c):\"array\"==a&&(c instanceof Array||Array.isArray&&Array.isArray(c))?!0:\"null\"==a&&null===c||a==typeof c&&null!==c||\"object\"==\n",
       "a&&c===Object(c)||$.call(c).slice(8,-1).toLowerCase()==a}function M(c){if(\"function\"==typeof c||Object(c)!==c)return c;var a=new c.constructor,b;for(b in c)c[h](b)&&(a[b]=M(c[b]));return a}function A(c,a,b){function m(){var e=Array.prototype.slice.call(arguments,0),f=e.join(\"\\u2400\"),d=m.cache=m.cache||{},l=m.count=m.count||[];if(d[h](f)){a:for(var e=l,l=f,B=0,H=e.length;B<H;B++)if(e[B]===l){e.push(e.splice(B,1)[0]);break a}return b?b(d[f]):d[f]}1E3<=l.length&&delete d[l.shift()];l.push(f);d[f]=c.apply(a,\n",
       "e);return b?b(d[f]):d[f]}return m}function w(c,a,b,m,e,f){return null==e?(c-=b,a-=m,c||a?(180*I.atan2(-a,-c)/C+540)%360:0):w(c,a,e,f)-w(b,m,e,f)}function z(c){return c%360*C/180}function d(c){var a=[];c=c.replace(/(?:^|\\s)(\\w+)\\(([^)]+)\\)/g,function(c,b,m){m=m.split(/\\s*,\\s*|\\s+/);\"rotate\"==b&&1==m.length&&m.push(0,0);\"scale\"==b&&(2<m.length?m=m.slice(0,2):2==m.length&&m.push(0,0),1==m.length&&m.push(m[0],0,0));\"skewX\"==b?a.push([\"m\",1,0,I.tan(z(m[0])),1,0,0]):\"skewY\"==b?a.push([\"m\",1,I.tan(z(m[0])),\n",
       "0,1,0,0]):a.push([b.charAt(0)].concat(m));return c});return a}function f(c,t){var b=O(c),m=new a.Matrix;if(b)for(var e=0,f=b.length;e<f;e++){var h=b[e],d=h.length,B=J(h[0]).toLowerCase(),H=h[0]!=B,l=H?m.invert():0,E;\"t\"==B&&2==d?m.translate(h[1],0):\"t\"==B&&3==d?H?(d=l.x(0,0),B=l.y(0,0),H=l.x(h[1],h[2]),l=l.y(h[1],h[2]),m.translate(H-d,l-B)):m.translate(h[1],h[2]):\"r\"==B?2==d?(E=E||t,m.rotate(h[1],E.x+E.width/2,E.y+E.height/2)):4==d&&(H?(H=l.x(h[2],h[3]),l=l.y(h[2],h[3]),m.rotate(h[1],H,l)):m.rotate(h[1],\n",
       "h[2],h[3])):\"s\"==B?2==d||3==d?(E=E||t,m.scale(h[1],h[d-1],E.x+E.width/2,E.y+E.height/2)):4==d?H?(H=l.x(h[2],h[3]),l=l.y(h[2],h[3]),m.scale(h[1],h[1],H,l)):m.scale(h[1],h[1],h[2],h[3]):5==d&&(H?(H=l.x(h[3],h[4]),l=l.y(h[3],h[4]),m.scale(h[1],h[2],H,l)):m.scale(h[1],h[2],h[3],h[4])):\"m\"==B&&7==d&&m.add(h[1],h[2],h[3],h[4],h[5],h[6])}return m}function n(c,t){if(null==t){var m=!0;t=\"linearGradient\"==c.type||\"radialGradient\"==c.type?c.node.getAttribute(\"gradientTransform\"):\"pattern\"==c.type?c.node.getAttribute(\"patternTransform\"):\n",
       "c.node.getAttribute(\"transform\");if(!t)return new a.Matrix;t=d(t)}else t=a._.rgTransform.test(t)?J(t).replace(/\\.{3}|\\u2026/g,c._.transform||aa):d(t),y(t,\"array\")&&(t=a.path?a.path.toString.call(t):J(t)),c._.transform=t;var b=f(t,c.getBBox(1));if(m)return b;c.matrix=b}function u(c){c=c.node.ownerSVGElement&&x(c.node.ownerSVGElement)||c.node.parentNode&&x(c.node.parentNode)||a.select(\"svg\")||a(0,0);var t=c.select(\"defs\"),t=null==t?!1:t.node;t||(t=r(\"defs\",c.node).node);return t}function p(c){return c.node.ownerSVGElement&&\n",
       "x(c.node.ownerSVGElement)||a.select(\"svg\")}function b(c,a,m){function b(c){if(null==c)return aa;if(c==+c)return c;v(B,{width:c});try{return B.getBBox().width}catch(a){return 0}}function h(c){if(null==c)return aa;if(c==+c)return c;v(B,{height:c});try{return B.getBBox().height}catch(a){return 0}}function e(b,B){null==a?d[b]=B(c.attr(b)||0):b==a&&(d=B(null==m?c.attr(b)||0:m))}var f=p(c).node,d={},B=f.querySelector(\".svg---mgr\");B||(B=v(\"rect\"),v(B,{x:-9E9,y:-9E9,width:10,height:10,\"class\":\"svg---mgr\",\n",
       "fill:\"none\"}),f.appendChild(B));switch(c.type){case \"rect\":e(\"rx\",b),e(\"ry\",h);case \"image\":e(\"width\",b),e(\"height\",h);case \"text\":e(\"x\",b);e(\"y\",h);break;case \"circle\":e(\"cx\",b);e(\"cy\",h);e(\"r\",b);break;case \"ellipse\":e(\"cx\",b);e(\"cy\",h);e(\"rx\",b);e(\"ry\",h);break;case \"line\":e(\"x1\",b);e(\"x2\",b);e(\"y1\",h);e(\"y2\",h);break;case \"marker\":e(\"refX\",b);e(\"markerWidth\",b);e(\"refY\",h);e(\"markerHeight\",h);break;case \"radialGradient\":e(\"fx\",b);e(\"fy\",h);break;case \"tspan\":e(\"dx\",b);e(\"dy\",h);break;default:e(a,\n",
       "b)}f.removeChild(B);return d}function q(c){y(c,\"array\")||(c=Array.prototype.slice.call(arguments,0));for(var a=0,b=0,m=this.node;this[a];)delete this[a++];for(a=0;a<c.length;a++)\"set\"==c[a].type?c[a].forEach(function(c){m.appendChild(c.node)}):m.appendChild(c[a].node);for(var h=m.childNodes,a=0;a<h.length;a++)this[b++]=x(h[a]);return this}function e(c){if(c.snap in E)return E[c.snap];var a=this.id=V(),b;try{b=c.ownerSVGElement}catch(m){}this.node=c;b&&(this.paper=new s(b));this.type=c.tagName;this.anims=\n",
       "{};this._={transform:[]};c.snap=a;E[a]=this;\"g\"==this.type&&(this.add=q);if(this.type in{g:1,mask:1,pattern:1})for(var e in s.prototype)s.prototype[h](e)&&(this[e]=s.prototype[e])}function l(c){this.node=c}function r(c,a){var b=v(c);a.appendChild(b);return x(b)}function s(c,a){var b,m,f,d=s.prototype;if(c&&\"svg\"==c.tagName){if(c.snap in E)return E[c.snap];var l=c.ownerDocument;b=new e(c);m=c.getElementsByTagName(\"desc\")[0];f=c.getElementsByTagName(\"defs\")[0];m||(m=v(\"desc\"),m.appendChild(l.createTextNode(\"Created with Snap\")),\n",
       "b.node.appendChild(m));f||(f=v(\"defs\"),b.node.appendChild(f));b.defs=f;for(var ca in d)d[h](ca)&&(b[ca]=d[ca]);b.paper=b.root=b}else b=r(\"svg\",G.doc.body),v(b.node,{height:a,version:1.1,width:c,xmlns:la});return b}function x(c){return!c||c instanceof e||c instanceof l?c:c.tagName&&\"svg\"==c.tagName.toLowerCase()?new s(c):c.tagName&&\"object\"==c.tagName.toLowerCase()&&\"image/svg+xml\"==c.type?new s(c.contentDocument.getElementsByTagName(\"svg\")[0]):new e(c)}a.version=\"0.3.0\";a.toString=function(){return\"Snap v\"+\n",
       "this.version};a._={};var G={win:N,doc:N.document};a._.glob=G;var h=\"hasOwnProperty\",J=String,K=parseFloat,U=parseInt,I=Math,P=I.max,Q=I.min,Y=I.abs,C=I.PI,aa=\"\",$=Object.prototype.toString,F=/^\\s*((#[a-f\\d]{6})|(#[a-f\\d]{3})|rgba?\\(\\s*([\\d\\.]+%?\\s*,\\s*[\\d\\.]+%?\\s*,\\s*[\\d\\.]+%?(?:\\s*,\\s*[\\d\\.]+%?)?)\\s*\\)|hsba?\\(\\s*([\\d\\.]+(?:deg|\\xb0|%)?\\s*,\\s*[\\d\\.]+%?\\s*,\\s*[\\d\\.]+(?:%?\\s*,\\s*[\\d\\.]+)?%?)\\s*\\)|hsla?\\(\\s*([\\d\\.]+(?:deg|\\xb0|%)?\\s*,\\s*[\\d\\.]+%?\\s*,\\s*[\\d\\.]+(?:%?\\s*,\\s*[\\d\\.]+)?%?)\\s*\\))\\s*$/i;a._.separator=\n",
       "RegExp(\"[,\\t\\n\\x0B\\f\\r \\u00a0\\u1680\\u180e\\u2000\\u2001\\u2002\\u2003\\u2004\\u2005\\u2006\\u2007\\u2008\\u2009\\u200a\\u202f\\u205f\\u3000\\u2028\\u2029]+\");var S=RegExp(\"[\\t\\n\\x0B\\f\\r \\u00a0\\u1680\\u180e\\u2000\\u2001\\u2002\\u2003\\u2004\\u2005\\u2006\\u2007\\u2008\\u2009\\u200a\\u202f\\u205f\\u3000\\u2028\\u2029]*,[\\t\\n\\x0B\\f\\r \\u00a0\\u1680\\u180e\\u2000\\u2001\\u2002\\u2003\\u2004\\u2005\\u2006\\u2007\\u2008\\u2009\\u200a\\u202f\\u205f\\u3000\\u2028\\u2029]*\"),X={hs:1,rg:1},W=RegExp(\"([a-z])[\\t\\n\\x0B\\f\\r \\u00a0\\u1680\\u180e\\u2000\\u2001\\u2002\\u2003\\u2004\\u2005\\u2006\\u2007\\u2008\\u2009\\u200a\\u202f\\u205f\\u3000\\u2028\\u2029,]*((-?\\\\d*\\\\.?\\\\d*(?:e[\\\\-+]?\\\\d+)?[\\t\\n\\x0B\\f\\r \\u00a0\\u1680\\u180e\\u2000\\u2001\\u2002\\u2003\\u2004\\u2005\\u2006\\u2007\\u2008\\u2009\\u200a\\u202f\\u205f\\u3000\\u2028\\u2029]*,?[\\t\\n\\x0B\\f\\r \\u00a0\\u1680\\u180e\\u2000\\u2001\\u2002\\u2003\\u2004\\u2005\\u2006\\u2007\\u2008\\u2009\\u200a\\u202f\\u205f\\u3000\\u2028\\u2029]*)+)\",\n",
       "\"ig\"),ma=RegExp(\"([rstm])[\\t\\n\\x0B\\f\\r \\u00a0\\u1680\\u180e\\u2000\\u2001\\u2002\\u2003\\u2004\\u2005\\u2006\\u2007\\u2008\\u2009\\u200a\\u202f\\u205f\\u3000\\u2028\\u2029,]*((-?\\\\d*\\\\.?\\\\d*(?:e[\\\\-+]?\\\\d+)?[\\t\\n\\x0B\\f\\r \\u00a0\\u1680\\u180e\\u2000\\u2001\\u2002\\u2003\\u2004\\u2005\\u2006\\u2007\\u2008\\u2009\\u200a\\u202f\\u205f\\u3000\\u2028\\u2029]*,?[\\t\\n\\x0B\\f\\r \\u00a0\\u1680\\u180e\\u2000\\u2001\\u2002\\u2003\\u2004\\u2005\\u2006\\u2007\\u2008\\u2009\\u200a\\u202f\\u205f\\u3000\\u2028\\u2029]*)+)\",\"ig\"),Z=RegExp(\"(-?\\\\d*\\\\.?\\\\d*(?:e[\\\\-+]?\\\\d+)?)[\\t\\n\\x0B\\f\\r \\u00a0\\u1680\\u180e\\u2000\\u2001\\u2002\\u2003\\u2004\\u2005\\u2006\\u2007\\u2008\\u2009\\u200a\\u202f\\u205f\\u3000\\u2028\\u2029]*,?[\\t\\n\\x0B\\f\\r \\u00a0\\u1680\\u180e\\u2000\\u2001\\u2002\\u2003\\u2004\\u2005\\u2006\\u2007\\u2008\\u2009\\u200a\\u202f\\u205f\\u3000\\u2028\\u2029]*\",\n",
       "\"ig\"),na=0,ba=\"S\"+(+new Date).toString(36),V=function(){return ba+(na++).toString(36)},m=\"http://www.w3.org/1999/xlink\",la=\"http://www.w3.org/2000/svg\",E={},ca=a.url=function(c){return\"url('#\"+c+\"')\"};a._.$=v;a._.id=V;a.format=function(){var c=/\\{([^\\}]+)\\}/g,a=/(?:(?:^|\\.)(.+?)(?=\\[|\\.|$|\\()|\\[('|\")(.+?)\\2\\])(\\(\\))?/g,b=function(c,b,m){var h=m;b.replace(a,function(c,a,b,m,t){a=a||m;h&&(a in h&&(h=h[a]),\"function\"==typeof h&&t&&(h=h()))});return h=(null==h||h==m?c:h)+\"\"};return function(a,m){return J(a).replace(c,\n",
       "function(c,a){return b(c,a,m)})}}();a._.clone=M;a._.cacher=A;a.rad=z;a.deg=function(c){return 180*c/C%360};a.angle=w;a.is=y;a.snapTo=function(c,a,b){b=y(b,\"finite\")?b:10;if(y(c,\"array\"))for(var m=c.length;m--;){if(Y(c[m]-a)<=b)return c[m]}else{c=+c;m=a%c;if(m<b)return a-m;if(m>c-b)return a-m+c}return a};a.getRGB=A(function(c){if(!c||(c=J(c)).indexOf(\"-\")+1)return{r:-1,g:-1,b:-1,hex:\"none\",error:1,toString:ka};if(\"none\"==c)return{r:-1,g:-1,b:-1,hex:\"none\",toString:ka};!X[h](c.toLowerCase().substring(0,\n",
       "2))&&\"#\"!=c.charAt()&&(c=T(c));if(!c)return{r:-1,g:-1,b:-1,hex:\"none\",error:1,toString:ka};var b,m,e,f,d;if(c=c.match(F)){c[2]&&(e=U(c[2].substring(5),16),m=U(c[2].substring(3,5),16),b=U(c[2].substring(1,3),16));c[3]&&(e=U((d=c[3].charAt(3))+d,16),m=U((d=c[3].charAt(2))+d,16),b=U((d=c[3].charAt(1))+d,16));c[4]&&(d=c[4].split(S),b=K(d[0]),\"%\"==d[0].slice(-1)&&(b*=2.55),m=K(d[1]),\"%\"==d[1].slice(-1)&&(m*=2.55),e=K(d[2]),\"%\"==d[2].slice(-1)&&(e*=2.55),\"rgba\"==c[1].toLowerCase().slice(0,4)&&(f=K(d[3])),\n",
       "d[3]&&\"%\"==d[3].slice(-1)&&(f/=100));if(c[5])return d=c[5].split(S),b=K(d[0]),\"%\"==d[0].slice(-1)&&(b/=100),m=K(d[1]),\"%\"==d[1].slice(-1)&&(m/=100),e=K(d[2]),\"%\"==d[2].slice(-1)&&(e/=100),\"deg\"!=d[0].slice(-3)&&\"\\u00b0\"!=d[0].slice(-1)||(b/=360),\"hsba\"==c[1].toLowerCase().slice(0,4)&&(f=K(d[3])),d[3]&&\"%\"==d[3].slice(-1)&&(f/=100),a.hsb2rgb(b,m,e,f);if(c[6])return d=c[6].split(S),b=K(d[0]),\"%\"==d[0].slice(-1)&&(b/=100),m=K(d[1]),\"%\"==d[1].slice(-1)&&(m/=100),e=K(d[2]),\"%\"==d[2].slice(-1)&&(e/=100),\n",
       "\"deg\"!=d[0].slice(-3)&&\"\\u00b0\"!=d[0].slice(-1)||(b/=360),\"hsla\"==c[1].toLowerCase().slice(0,4)&&(f=K(d[3])),d[3]&&\"%\"==d[3].slice(-1)&&(f/=100),a.hsl2rgb(b,m,e,f);b=Q(I.round(b),255);m=Q(I.round(m),255);e=Q(I.round(e),255);f=Q(P(f,0),1);c={r:b,g:m,b:e,toString:ka};c.hex=\"#\"+(16777216|e|m<<8|b<<16).toString(16).slice(1);c.opacity=y(f,\"finite\")?f:1;return c}return{r:-1,g:-1,b:-1,hex:\"none\",error:1,toString:ka}},a);a.hsb=A(function(c,b,m){return a.hsb2rgb(c,b,m).hex});a.hsl=A(function(c,b,m){return a.hsl2rgb(c,\n",
       "b,m).hex});a.rgb=A(function(c,a,b,m){if(y(m,\"finite\")){var e=I.round;return\"rgba(\"+[e(c),e(a),e(b),+m.toFixed(2)]+\")\"}return\"#\"+(16777216|b|a<<8|c<<16).toString(16).slice(1)});var T=function(c){var a=G.doc.getElementsByTagName(\"head\")[0]||G.doc.getElementsByTagName(\"svg\")[0];T=A(function(c){if(\"red\"==c.toLowerCase())return\"rgb(255, 0, 0)\";a.style.color=\"rgb(255, 0, 0)\";a.style.color=c;c=G.doc.defaultView.getComputedStyle(a,aa).getPropertyValue(\"color\");return\"rgb(255, 0, 0)\"==c?null:c});return T(c)},\n",
       "qa=function(){return\"hsb(\"+[this.h,this.s,this.b]+\")\"},ra=function(){return\"hsl(\"+[this.h,this.s,this.l]+\")\"},ka=function(){return 1==this.opacity||null==this.opacity?this.hex:\"rgba(\"+[this.r,this.g,this.b,this.opacity]+\")\"},D=function(c,b,m){null==b&&y(c,\"object\")&&\"r\"in c&&\"g\"in c&&\"b\"in c&&(m=c.b,b=c.g,c=c.r);null==b&&y(c,string)&&(m=a.getRGB(c),c=m.r,b=m.g,m=m.b);if(1<c||1<b||1<m)c/=255,b/=255,m/=255;return[c,b,m]},oa=function(c,b,m,e){c=I.round(255*c);b=I.round(255*b);m=I.round(255*m);c={r:c,\n",
       "g:b,b:m,opacity:y(e,\"finite\")?e:1,hex:a.rgb(c,b,m),toString:ka};y(e,\"finite\")&&(c.opacity=e);return c};a.color=function(c){var b;y(c,\"object\")&&\"h\"in c&&\"s\"in c&&\"b\"in c?(b=a.hsb2rgb(c),c.r=b.r,c.g=b.g,c.b=b.b,c.opacity=1,c.hex=b.hex):y(c,\"object\")&&\"h\"in c&&\"s\"in c&&\"l\"in c?(b=a.hsl2rgb(c),c.r=b.r,c.g=b.g,c.b=b.b,c.opacity=1,c.hex=b.hex):(y(c,\"string\")&&(c=a.getRGB(c)),y(c,\"object\")&&\"r\"in c&&\"g\"in c&&\"b\"in c&&!(\"error\"in c)?(b=a.rgb2hsl(c),c.h=b.h,c.s=b.s,c.l=b.l,b=a.rgb2hsb(c),c.v=b.b):(c={hex:\"none\"},\n",
       "c.r=c.g=c.b=c.h=c.s=c.v=c.l=-1,c.error=1));c.toString=ka;return c};a.hsb2rgb=function(c,a,b,m){y(c,\"object\")&&\"h\"in c&&\"s\"in c&&\"b\"in c&&(b=c.b,a=c.s,c=c.h,m=c.o);var e,h,d;c=360*c%360/60;d=b*a;a=d*(1-Y(c%2-1));b=e=h=b-d;c=~~c;b+=[d,a,0,0,a,d][c];e+=[a,d,d,a,0,0][c];h+=[0,0,a,d,d,a][c];return oa(b,e,h,m)};a.hsl2rgb=function(c,a,b,m){y(c,\"object\")&&\"h\"in c&&\"s\"in c&&\"l\"in c&&(b=c.l,a=c.s,c=c.h);if(1<c||1<a||1<b)c/=360,a/=100,b/=100;var e,h,d;c=360*c%360/60;d=2*a*(0.5>b?b:1-b);a=d*(1-Y(c%2-1));b=e=\n",
       "h=b-d/2;c=~~c;b+=[d,a,0,0,a,d][c];e+=[a,d,d,a,0,0][c];h+=[0,0,a,d,d,a][c];return oa(b,e,h,m)};a.rgb2hsb=function(c,a,b){b=D(c,a,b);c=b[0];a=b[1];b=b[2];var m,e;m=P(c,a,b);e=m-Q(c,a,b);c=((0==e?0:m==c?(a-b)/e:m==a?(b-c)/e+2:(c-a)/e+4)+360)%6*60/360;return{h:c,s:0==e?0:e/m,b:m,toString:qa}};a.rgb2hsl=function(c,a,b){b=D(c,a,b);c=b[0];a=b[1];b=b[2];var m,e,h;m=P(c,a,b);e=Q(c,a,b);h=m-e;c=((0==h?0:m==c?(a-b)/h:m==a?(b-c)/h+2:(c-a)/h+4)+360)%6*60/360;m=(m+e)/2;return{h:c,s:0==h?0:0.5>m?h/(2*m):h/(2-2*\n",
       "m),l:m,toString:ra}};a.parsePathString=function(c){if(!c)return null;var b=a.path(c);if(b.arr)return a.path.clone(b.arr);var m={a:7,c:6,o:2,h:1,l:2,m:2,r:4,q:4,s:4,t:2,v:1,u:3,z:0},e=[];y(c,\"array\")&&y(c[0],\"array\")&&(e=a.path.clone(c));e.length||J(c).replace(W,function(c,a,b){var h=[];c=a.toLowerCase();b.replace(Z,function(c,a){a&&h.push(+a)});\"m\"==c&&2<h.length&&(e.push([a].concat(h.splice(0,2))),c=\"l\",a=\"m\"==a?\"l\":\"L\");\"o\"==c&&1==h.length&&e.push([a,h[0] ]);if(\"r\"==c)e.push([a].concat(h));else for(;h.length>=\n",
       "m[c]&&(e.push([a].concat(h.splice(0,m[c]))),m[c]););});e.toString=a.path.toString;b.arr=a.path.clone(e);return e};var O=a.parseTransformString=function(c){if(!c)return null;var b=[];y(c,\"array\")&&y(c[0],\"array\")&&(b=a.path.clone(c));b.length||J(c).replace(ma,function(c,a,m){var e=[];a.toLowerCase();m.replace(Z,function(c,a){a&&e.push(+a)});b.push([a].concat(e))});b.toString=a.path.toString;return b};a._.svgTransform2string=d;a._.rgTransform=RegExp(\"^[a-z][\\t\\n\\x0B\\f\\r \\u00a0\\u1680\\u180e\\u2000\\u2001\\u2002\\u2003\\u2004\\u2005\\u2006\\u2007\\u2008\\u2009\\u200a\\u202f\\u205f\\u3000\\u2028\\u2029]*-?\\\\.?\\\\d\",\n",
       "\"i\");a._.transform2matrix=f;a._unit2px=b;a._.getSomeDefs=u;a._.getSomeSVG=p;a.select=function(c){return x(G.doc.querySelector(c))};a.selectAll=function(c){c=G.doc.querySelectorAll(c);for(var b=(a.set||Array)(),m=0;m<c.length;m++)b.push(x(c[m]));return b};setInterval(function(){for(var c in E)if(E[h](c)){var a=E[c],b=a.node;(\"svg\"!=a.type&&!b.ownerSVGElement||\"svg\"==a.type&&(!b.parentNode||\"ownerSVGElement\"in b.parentNode&&!b.ownerSVGElement))&&delete E[c]}},1E4);(function(c){function m(c){function a(c,\n",
       "b){var m=v(c.node,b);(m=(m=m&&m.match(d))&&m[2])&&\"#\"==m.charAt()&&(m=m.substring(1))&&(f[m]=(f[m]||[]).concat(function(a){var m={};m[b]=ca(a);v(c.node,m)}))}function b(c){var a=v(c.node,\"xlink:href\");a&&\"#\"==a.charAt()&&(a=a.substring(1))&&(f[a]=(f[a]||[]).concat(function(a){c.attr(\"xlink:href\",\"#\"+a)}))}var e=c.selectAll(\"*\"),h,d=/^\\s*url\\((\"|'|)(.*)\\1\\)\\s*$/;c=[];for(var f={},l=0,E=e.length;l<E;l++){h=e[l];a(h,\"fill\");a(h,\"stroke\");a(h,\"filter\");a(h,\"mask\");a(h,\"clip-path\");b(h);var t=v(h.node,\n",
       "\"id\");t&&(v(h.node,{id:h.id}),c.push({old:t,id:h.id}))}l=0;for(E=c.length;l<E;l++)if(e=f[c[l].old])for(h=0,t=e.length;h<t;h++)e[h](c[l].id)}function e(c,a,b){return function(m){m=m.slice(c,a);1==m.length&&(m=m[0]);return b?b(m):m}}function d(c){return function(){var a=c?\"<\"+this.type:\"\",b=this.node.attributes,m=this.node.childNodes;if(c)for(var e=0,h=b.length;e<h;e++)a+=\" \"+b[e].name+'=\"'+b[e].value.replace(/\"/g,'\\\\\"')+'\"';if(m.length){c&&(a+=\">\");e=0;for(h=m.length;e<h;e++)3==m[e].nodeType?a+=m[e].nodeValue:\n",
       "1==m[e].nodeType&&(a+=x(m[e]).toString());c&&(a+=\"</\"+this.type+\">\")}else c&&(a+=\"/>\");return a}}c.attr=function(c,a){if(!c)return this;if(y(c,\"string\"))if(1<arguments.length){var b={};b[c]=a;c=b}else return k(\"snap.util.getattr.\"+c,this).firstDefined();for(var m in c)c[h](m)&&k(\"snap.util.attr.\"+m,this,c[m]);return this};c.getBBox=function(c){if(!a.Matrix||!a.path)return this.node.getBBox();var b=this,m=new a.Matrix;if(b.removed)return a._.box();for(;\"use\"==b.type;)if(c||(m=m.add(b.transform().localMatrix.translate(b.attr(\"x\")||\n",
       "0,b.attr(\"y\")||0))),b.original)b=b.original;else var e=b.attr(\"xlink:href\"),b=b.original=b.node.ownerDocument.getElementById(e.substring(e.indexOf(\"#\")+1));var e=b._,h=a.path.get[b.type]||a.path.get.deflt;try{if(c)return e.bboxwt=h?a.path.getBBox(b.realPath=h(b)):a._.box(b.node.getBBox()),a._.box(e.bboxwt);b.realPath=h(b);b.matrix=b.transform().localMatrix;e.bbox=a.path.getBBox(a.path.map(b.realPath,m.add(b.matrix)));return a._.box(e.bbox)}catch(d){return a._.box()}};var f=function(){return this.string};\n",
       "c.transform=function(c){var b=this._;if(null==c){var m=this;c=new a.Matrix(this.node.getCTM());for(var e=n(this),h=[e],d=new a.Matrix,l=e.toTransformString(),b=J(e)==J(this.matrix)?J(b.transform):l;\"svg\"!=m.type&&(m=m.parent());)h.push(n(m));for(m=h.length;m--;)d.add(h[m]);return{string:b,globalMatrix:c,totalMatrix:d,localMatrix:e,diffMatrix:c.clone().add(e.invert()),global:c.toTransformString(),total:d.toTransformString(),local:l,toString:f}}c instanceof a.Matrix?this.matrix=c:n(this,c);this.node&&\n",
       "(\"linearGradient\"==this.type||\"radialGradient\"==this.type?v(this.node,{gradientTransform:this.matrix}):\"pattern\"==this.type?v(this.node,{patternTransform:this.matrix}):v(this.node,{transform:this.matrix}));return this};c.parent=function(){return x(this.node.parentNode)};c.append=c.add=function(c){if(c){if(\"set\"==c.type){var a=this;c.forEach(function(c){a.add(c)});return this}c=x(c);this.node.appendChild(c.node);c.paper=this.paper}return this};c.appendTo=function(c){c&&(c=x(c),c.append(this));return this};\n",
       "c.prepend=function(c){if(c){if(\"set\"==c.type){var a=this,b;c.forEach(function(c){b?b.after(c):a.prepend(c);b=c});return this}c=x(c);var m=c.parent();this.node.insertBefore(c.node,this.node.firstChild);this.add&&this.add();c.paper=this.paper;this.parent()&&this.parent().add();m&&m.add()}return this};c.prependTo=function(c){c=x(c);c.prepend(this);return this};c.before=function(c){if(\"set\"==c.type){var a=this;c.forEach(function(c){var b=c.parent();a.node.parentNode.insertBefore(c.node,a.node);b&&b.add()});\n",
       "this.parent().add();return this}c=x(c);var b=c.parent();this.node.parentNode.insertBefore(c.node,this.node);this.parent()&&this.parent().add();b&&b.add();c.paper=this.paper;return this};c.after=function(c){c=x(c);var a=c.parent();this.node.nextSibling?this.node.parentNode.insertBefore(c.node,this.node.nextSibling):this.node.parentNode.appendChild(c.node);this.parent()&&this.parent().add();a&&a.add();c.paper=this.paper;return this};c.insertBefore=function(c){c=x(c);var a=this.parent();c.node.parentNode.insertBefore(this.node,\n",
       "c.node);this.paper=c.paper;a&&a.add();c.parent()&&c.parent().add();return this};c.insertAfter=function(c){c=x(c);var a=this.parent();c.node.parentNode.insertBefore(this.node,c.node.nextSibling);this.paper=c.paper;a&&a.add();c.parent()&&c.parent().add();return this};c.remove=function(){var c=this.parent();this.node.parentNode&&this.node.parentNode.removeChild(this.node);delete this.paper;this.removed=!0;c&&c.add();return this};c.select=function(c){return x(this.node.querySelector(c))};c.selectAll=\n",
       "function(c){c=this.node.querySelectorAll(c);for(var b=(a.set||Array)(),m=0;m<c.length;m++)b.push(x(c[m]));return b};c.asPX=function(c,a){null==a&&(a=this.attr(c));return+b(this,c,a)};c.use=function(){var c,a=this.node.id;a||(a=this.id,v(this.node,{id:a}));c=\"linearGradient\"==this.type||\"radialGradient\"==this.type||\"pattern\"==this.type?r(this.type,this.node.parentNode):r(\"use\",this.node.parentNode);v(c.node,{\"xlink:href\":\"#\"+a});c.original=this;return c};var l=/\\S+/g;c.addClass=function(c){var a=(c||\n",
       "\"\").match(l)||[];c=this.node;var b=c.className.baseVal,m=b.match(l)||[],e,h,d;if(a.length){for(e=0;d=a[e++];)h=m.indexOf(d),~h||m.push(d);a=m.join(\" \");b!=a&&(c.className.baseVal=a)}return this};c.removeClass=function(c){var a=(c||\"\").match(l)||[];c=this.node;var b=c.className.baseVal,m=b.match(l)||[],e,h;if(m.length){for(e=0;h=a[e++];)h=m.indexOf(h),~h&&m.splice(h,1);a=m.join(\" \");b!=a&&(c.className.baseVal=a)}return this};c.hasClass=function(c){return!!~(this.node.className.baseVal.match(l)||[]).indexOf(c)};\n",
       "c.toggleClass=function(c,a){if(null!=a)return a?this.addClass(c):this.removeClass(c);var b=(c||\"\").match(l)||[],m=this.node,e=m.className.baseVal,h=e.match(l)||[],d,f,E;for(d=0;E=b[d++];)f=h.indexOf(E),~f?h.splice(f,1):h.push(E);b=h.join(\" \");e!=b&&(m.className.baseVal=b);return this};c.clone=function(){var c=x(this.node.cloneNode(!0));v(c.node,\"id\")&&v(c.node,{id:c.id});m(c);c.insertAfter(this);return c};c.toDefs=function(){u(this).appendChild(this.node);return this};c.pattern=c.toPattern=function(c,\n",
       "a,b,m){var e=r(\"pattern\",u(this));null==c&&(c=this.getBBox());y(c,\"object\")&&\"x\"in c&&(a=c.y,b=c.width,m=c.height,c=c.x);v(e.node,{x:c,y:a,width:b,height:m,patternUnits:\"userSpaceOnUse\",id:e.id,viewBox:[c,a,b,m].join(\" \")});e.node.appendChild(this.node);return e};c.marker=function(c,a,b,m,e,h){var d=r(\"marker\",u(this));null==c&&(c=this.getBBox());y(c,\"object\")&&\"x\"in c&&(a=c.y,b=c.width,m=c.height,e=c.refX||c.cx,h=c.refY||c.cy,c=c.x);v(d.node,{viewBox:[c,a,b,m].join(\" \"),markerWidth:b,markerHeight:m,\n",
       "orient:\"auto\",refX:e||0,refY:h||0,id:d.id});d.node.appendChild(this.node);return d};var E=function(c,a,b,m){\"function\"!=typeof b||b.length||(m=b,b=L.linear);this.attr=c;this.dur=a;b&&(this.easing=b);m&&(this.callback=m)};a._.Animation=E;a.animation=function(c,a,b,m){return new E(c,a,b,m)};c.inAnim=function(){var c=[],a;for(a in this.anims)this.anims[h](a)&&function(a){c.push({anim:new E(a._attrs,a.dur,a.easing,a._callback),mina:a,curStatus:a.status(),status:function(c){return a.status(c)},stop:function(){a.stop()}})}(this.anims[a]);\n",
       "return c};a.animate=function(c,a,b,m,e,h){\"function\"!=typeof e||e.length||(h=e,e=L.linear);var d=L.time();c=L(c,a,d,d+m,L.time,b,e);h&&k.once(\"mina.finish.\"+c.id,h);return c};c.stop=function(){for(var c=this.inAnim(),a=0,b=c.length;a<b;a++)c[a].stop();return this};c.animate=function(c,a,b,m){\"function\"!=typeof b||b.length||(m=b,b=L.linear);c instanceof E&&(m=c.callback,b=c.easing,a=b.dur,c=c.attr);var d=[],f=[],l={},t,ca,n,T=this,q;for(q in c)if(c[h](q)){T.equal?(n=T.equal(q,J(c[q])),t=n.from,ca=\n",
       "n.to,n=n.f):(t=+T.attr(q),ca=+c[q]);var la=y(t,\"array\")?t.length:1;l[q]=e(d.length,d.length+la,n);d=d.concat(t);f=f.concat(ca)}t=L.time();var p=L(d,f,t,t+a,L.time,function(c){var a={},b;for(b in l)l[h](b)&&(a[b]=l[b](c));T.attr(a)},b);T.anims[p.id]=p;p._attrs=c;p._callback=m;k(\"snap.animcreated.\"+T.id,p);k.once(\"mina.finish.\"+p.id,function(){delete T.anims[p.id];m&&m.call(T)});k.once(\"mina.stop.\"+p.id,function(){delete T.anims[p.id]});return T};var T={};c.data=function(c,b){var m=T[this.id]=T[this.id]||\n",
       "{};if(0==arguments.length)return k(\"snap.data.get.\"+this.id,this,m,null),m;if(1==arguments.length){if(a.is(c,\"object\")){for(var e in c)c[h](e)&&this.data(e,c[e]);return this}k(\"snap.data.get.\"+this.id,this,m[c],c);return m[c]}m[c]=b;k(\"snap.data.set.\"+this.id,this,b,c);return this};c.removeData=function(c){null==c?T[this.id]={}:T[this.id]&&delete T[this.id][c];return this};c.outerSVG=c.toString=d(1);c.innerSVG=d()})(e.prototype);a.parse=function(c){var a=G.doc.createDocumentFragment(),b=!0,m=G.doc.createElement(\"div\");\n",
       "c=J(c);c.match(/^\\s*<\\s*svg(?:\\s|>)/)||(c=\"<svg>\"+c+\"</svg>\",b=!1);m.innerHTML=c;if(c=m.getElementsByTagName(\"svg\")[0])if(b)a=c;else for(;c.firstChild;)a.appendChild(c.firstChild);m.innerHTML=aa;return new l(a)};l.prototype.select=e.prototype.select;l.prototype.selectAll=e.prototype.selectAll;a.fragment=function(){for(var c=Array.prototype.slice.call(arguments,0),b=G.doc.createDocumentFragment(),m=0,e=c.length;m<e;m++){var h=c[m];h.node&&h.node.nodeType&&b.appendChild(h.node);h.nodeType&&b.appendChild(h);\n",
       "\"string\"==typeof h&&b.appendChild(a.parse(h).node)}return new l(b)};a._.make=r;a._.wrap=x;s.prototype.el=function(c,a){var b=r(c,this.node);a&&b.attr(a);return b};k.on(\"snap.util.getattr\",function(){var c=k.nt(),c=c.substring(c.lastIndexOf(\".\")+1),a=c.replace(/[A-Z]/g,function(c){return\"-\"+c.toLowerCase()});return pa[h](a)?this.node.ownerDocument.defaultView.getComputedStyle(this.node,null).getPropertyValue(a):v(this.node,c)});var pa={\"alignment-baseline\":0,\"baseline-shift\":0,clip:0,\"clip-path\":0,\n",
       "\"clip-rule\":0,color:0,\"color-interpolation\":0,\"color-interpolation-filters\":0,\"color-profile\":0,\"color-rendering\":0,cursor:0,direction:0,display:0,\"dominant-baseline\":0,\"enable-background\":0,fill:0,\"fill-opacity\":0,\"fill-rule\":0,filter:0,\"flood-color\":0,\"flood-opacity\":0,font:0,\"font-family\":0,\"font-size\":0,\"font-size-adjust\":0,\"font-stretch\":0,\"font-style\":0,\"font-variant\":0,\"font-weight\":0,\"glyph-orientation-horizontal\":0,\"glyph-orientation-vertical\":0,\"image-rendering\":0,kerning:0,\"letter-spacing\":0,\n",
       "\"lighting-color\":0,marker:0,\"marker-end\":0,\"marker-mid\":0,\"marker-start\":0,mask:0,opacity:0,overflow:0,\"pointer-events\":0,\"shape-rendering\":0,\"stop-color\":0,\"stop-opacity\":0,stroke:0,\"stroke-dasharray\":0,\"stroke-dashoffset\":0,\"stroke-linecap\":0,\"stroke-linejoin\":0,\"stroke-miterlimit\":0,\"stroke-opacity\":0,\"stroke-width\":0,\"text-anchor\":0,\"text-decoration\":0,\"text-rendering\":0,\"unicode-bidi\":0,visibility:0,\"word-spacing\":0,\"writing-mode\":0};k.on(\"snap.util.attr\",function(c){var a=k.nt(),b={},a=a.substring(a.lastIndexOf(\".\")+\n",
       "1);b[a]=c;var m=a.replace(/-(\\w)/gi,function(c,a){return a.toUpperCase()}),a=a.replace(/[A-Z]/g,function(c){return\"-\"+c.toLowerCase()});pa[h](a)?this.node.style[m]=null==c?aa:c:v(this.node,b)});a.ajax=function(c,a,b,m){var e=new XMLHttpRequest,h=V();if(e){if(y(a,\"function\"))m=b,b=a,a=null;else if(y(a,\"object\")){var d=[],f;for(f in a)a.hasOwnProperty(f)&&d.push(encodeURIComponent(f)+\"=\"+encodeURIComponent(a[f]));a=d.join(\"&\")}e.open(a?\"POST\":\"GET\",c,!0);a&&(e.setRequestHeader(\"X-Requested-With\",\"XMLHttpRequest\"),\n",
       "e.setRequestHeader(\"Content-type\",\"application/x-www-form-urlencoded\"));b&&(k.once(\"snap.ajax.\"+h+\".0\",b),k.once(\"snap.ajax.\"+h+\".200\",b),k.once(\"snap.ajax.\"+h+\".304\",b));e.onreadystatechange=function(){4==e.readyState&&k(\"snap.ajax.\"+h+\".\"+e.status,m,e)};if(4==e.readyState)return e;e.send(a);return e}};a.load=function(c,b,m){a.ajax(c,function(c){c=a.parse(c.responseText);m?b.call(m,c):b(c)})};a.getElementByPoint=function(c,a){var b,m,e=G.doc.elementFromPoint(c,a);if(G.win.opera&&\"svg\"==e.tagName){b=\n",
       "e;m=b.getBoundingClientRect();b=b.ownerDocument;var h=b.body,d=b.documentElement;b=m.top+(g.win.pageYOffset||d.scrollTop||h.scrollTop)-(d.clientTop||h.clientTop||0);m=m.left+(g.win.pageXOffset||d.scrollLeft||h.scrollLeft)-(d.clientLeft||h.clientLeft||0);h=e.createSVGRect();h.x=c-m;h.y=a-b;h.width=h.height=1;b=e.getIntersectionList(h,null);b.length&&(e=b[b.length-1])}return e?x(e):null};a.plugin=function(c){c(a,e,s,G,l)};return G.win.Snap=a}();C.plugin(function(a,k,y,M,A){function w(a,d,f,b,q,e){null==\n",
       "d&&\"[object SVGMatrix]\"==z.call(a)?(this.a=a.a,this.b=a.b,this.c=a.c,this.d=a.d,this.e=a.e,this.f=a.f):null!=a?(this.a=+a,this.b=+d,this.c=+f,this.d=+b,this.e=+q,this.f=+e):(this.a=1,this.c=this.b=0,this.d=1,this.f=this.e=0)}var z=Object.prototype.toString,d=String,f=Math;(function(n){function k(a){return a[0]*a[0]+a[1]*a[1]}function p(a){var d=f.sqrt(k(a));a[0]&&(a[0]/=d);a[1]&&(a[1]/=d)}n.add=function(a,d,e,f,n,p){var k=[[],[],[] ],u=[[this.a,this.c,this.e],[this.b,this.d,this.f],[0,0,1] ];d=[[a,\n",
       "e,n],[d,f,p],[0,0,1] ];a&&a instanceof w&&(d=[[a.a,a.c,a.e],[a.b,a.d,a.f],[0,0,1] ]);for(a=0;3>a;a++)for(e=0;3>e;e++){for(f=n=0;3>f;f++)n+=u[a][f]*d[f][e];k[a][e]=n}this.a=k[0][0];this.b=k[1][0];this.c=k[0][1];this.d=k[1][1];this.e=k[0][2];this.f=k[1][2];return this};n.invert=function(){var a=this.a*this.d-this.b*this.c;return new w(this.d/a,-this.b/a,-this.c/a,this.a/a,(this.c*this.f-this.d*this.e)/a,(this.b*this.e-this.a*this.f)/a)};n.clone=function(){return new w(this.a,this.b,this.c,this.d,this.e,\n",
       "this.f)};n.translate=function(a,d){return this.add(1,0,0,1,a,d)};n.scale=function(a,d,e,f){null==d&&(d=a);(e||f)&&this.add(1,0,0,1,e,f);this.add(a,0,0,d,0,0);(e||f)&&this.add(1,0,0,1,-e,-f);return this};n.rotate=function(b,d,e){b=a.rad(b);d=d||0;e=e||0;var l=+f.cos(b).toFixed(9);b=+f.sin(b).toFixed(9);this.add(l,b,-b,l,d,e);return this.add(1,0,0,1,-d,-e)};n.x=function(a,d){return a*this.a+d*this.c+this.e};n.y=function(a,d){return a*this.b+d*this.d+this.f};n.get=function(a){return+this[d.fromCharCode(97+\n",
       "a)].toFixed(4)};n.toString=function(){return\"matrix(\"+[this.get(0),this.get(1),this.get(2),this.get(3),this.get(4),this.get(5)].join()+\")\"};n.offset=function(){return[this.e.toFixed(4),this.f.toFixed(4)]};n.determinant=function(){return this.a*this.d-this.b*this.c};n.split=function(){var b={};b.dx=this.e;b.dy=this.f;var d=[[this.a,this.c],[this.b,this.d] ];b.scalex=f.sqrt(k(d[0]));p(d[0]);b.shear=d[0][0]*d[1][0]+d[0][1]*d[1][1];d[1]=[d[1][0]-d[0][0]*b.shear,d[1][1]-d[0][1]*b.shear];b.scaley=f.sqrt(k(d[1]));\n",
       "p(d[1]);b.shear/=b.scaley;0>this.determinant()&&(b.scalex=-b.scalex);var e=-d[0][1],d=d[1][1];0>d?(b.rotate=a.deg(f.acos(d)),0>e&&(b.rotate=360-b.rotate)):b.rotate=a.deg(f.asin(e));b.isSimple=!+b.shear.toFixed(9)&&(b.scalex.toFixed(9)==b.scaley.toFixed(9)||!b.rotate);b.isSuperSimple=!+b.shear.toFixed(9)&&b.scalex.toFixed(9)==b.scaley.toFixed(9)&&!b.rotate;b.noRotation=!+b.shear.toFixed(9)&&!b.rotate;return b};n.toTransformString=function(a){a=a||this.split();if(+a.shear.toFixed(9))return\"m\"+[this.get(0),\n",
       "this.get(1),this.get(2),this.get(3),this.get(4),this.get(5)];a.scalex=+a.scalex.toFixed(4);a.scaley=+a.scaley.toFixed(4);a.rotate=+a.rotate.toFixed(4);return(a.dx||a.dy?\"t\"+[+a.dx.toFixed(4),+a.dy.toFixed(4)]:\"\")+(1!=a.scalex||1!=a.scaley?\"s\"+[a.scalex,a.scaley,0,0]:\"\")+(a.rotate?\"r\"+[+a.rotate.toFixed(4),0,0]:\"\")}})(w.prototype);a.Matrix=w;a.matrix=function(a,d,f,b,k,e){return new w(a,d,f,b,k,e)}});C.plugin(function(a,v,y,M,A){function w(h){return function(d){k.stop();d instanceof A&&1==d.node.childNodes.length&&\n",
       "(\"radialGradient\"==d.node.firstChild.tagName||\"linearGradient\"==d.node.firstChild.tagName||\"pattern\"==d.node.firstChild.tagName)&&(d=d.node.firstChild,b(this).appendChild(d),d=u(d));if(d instanceof v)if(\"radialGradient\"==d.type||\"linearGradient\"==d.type||\"pattern\"==d.type){d.node.id||e(d.node,{id:d.id});var f=l(d.node.id)}else f=d.attr(h);else f=a.color(d),f.error?(f=a(b(this).ownerSVGElement).gradient(d))?(f.node.id||e(f.node,{id:f.id}),f=l(f.node.id)):f=d:f=r(f);d={};d[h]=f;e(this.node,d);this.node.style[h]=\n",
       "x}}function z(a){k.stop();a==+a&&(a+=\"px\");this.node.style.fontSize=a}function d(a){var b=[];a=a.childNodes;for(var e=0,f=a.length;e<f;e++){var l=a[e];3==l.nodeType&&b.push(l.nodeValue);\"tspan\"==l.tagName&&(1==l.childNodes.length&&3==l.firstChild.nodeType?b.push(l.firstChild.nodeValue):b.push(d(l)))}return b}function f(){k.stop();return this.node.style.fontSize}var n=a._.make,u=a._.wrap,p=a.is,b=a._.getSomeDefs,q=/^url\\(#?([^)]+)\\)$/,e=a._.$,l=a.url,r=String,s=a._.separator,x=\"\";k.on(\"snap.util.attr.mask\",\n",
       "function(a){if(a instanceof v||a instanceof A){k.stop();a instanceof A&&1==a.node.childNodes.length&&(a=a.node.firstChild,b(this).appendChild(a),a=u(a));if(\"mask\"==a.type)var d=a;else d=n(\"mask\",b(this)),d.node.appendChild(a.node);!d.node.id&&e(d.node,{id:d.id});e(this.node,{mask:l(d.id)})}});(function(a){k.on(\"snap.util.attr.clip\",a);k.on(\"snap.util.attr.clip-path\",a);k.on(\"snap.util.attr.clipPath\",a)})(function(a){if(a instanceof v||a instanceof A){k.stop();if(\"clipPath\"==a.type)var d=a;else d=\n",
       "n(\"clipPath\",b(this)),d.node.appendChild(a.node),!d.node.id&&e(d.node,{id:d.id});e(this.node,{\"clip-path\":l(d.id)})}});k.on(\"snap.util.attr.fill\",w(\"fill\"));k.on(\"snap.util.attr.stroke\",w(\"stroke\"));var G=/^([lr])(?:\\(([^)]*)\\))?(.*)$/i;k.on(\"snap.util.grad.parse\",function(a){a=r(a);var b=a.match(G);if(!b)return null;a=b[1];var e=b[2],b=b[3],e=e.split(/\\s*,\\s*/).map(function(a){return+a==a?+a:a});1==e.length&&0==e[0]&&(e=[]);b=b.split(\"-\");b=b.map(function(a){a=a.split(\":\");var b={color:a[0]};a[1]&&\n",
       "(b.offset=parseFloat(a[1]));return b});return{type:a,params:e,stops:b}});k.on(\"snap.util.attr.d\",function(b){k.stop();p(b,\"array\")&&p(b[0],\"array\")&&(b=a.path.toString.call(b));b=r(b);b.match(/[ruo]/i)&&(b=a.path.toAbsolute(b));e(this.node,{d:b})})(-1);k.on(\"snap.util.attr.#text\",function(a){k.stop();a=r(a);for(a=M.doc.createTextNode(a);this.node.firstChild;)this.node.removeChild(this.node.firstChild);this.node.appendChild(a)})(-1);k.on(\"snap.util.attr.path\",function(a){k.stop();this.attr({d:a})})(-1);\n",
       "k.on(\"snap.util.attr.class\",function(a){k.stop();this.node.className.baseVal=a})(-1);k.on(\"snap.util.attr.viewBox\",function(a){a=p(a,\"object\")&&\"x\"in a?[a.x,a.y,a.width,a.height].join(\" \"):p(a,\"array\")?a.join(\" \"):a;e(this.node,{viewBox:a});k.stop()})(-1);k.on(\"snap.util.attr.transform\",function(a){this.transform(a);k.stop()})(-1);k.on(\"snap.util.attr.r\",function(a){\"rect\"==this.type&&(k.stop(),e(this.node,{rx:a,ry:a}))})(-1);k.on(\"snap.util.attr.textpath\",function(a){k.stop();if(\"text\"==this.type){var d,\n",
       "f;if(!a&&this.textPath){for(a=this.textPath;a.node.firstChild;)this.node.appendChild(a.node.firstChild);a.remove();delete this.textPath}else if(p(a,\"string\")?(d=b(this),a=u(d.parentNode).path(a),d.appendChild(a.node),d=a.id,a.attr({id:d})):(a=u(a),a instanceof v&&(d=a.attr(\"id\"),d||(d=a.id,a.attr({id:d})))),d)if(a=this.textPath,f=this.node,a)a.attr({\"xlink:href\":\"#\"+d});else{for(a=e(\"textPath\",{\"xlink:href\":\"#\"+d});f.firstChild;)a.appendChild(f.firstChild);f.appendChild(a);this.textPath=u(a)}}})(-1);\n",
       "k.on(\"snap.util.attr.text\",function(a){if(\"text\"==this.type){for(var b=this.node,d=function(a){var b=e(\"tspan\");if(p(a,\"array\"))for(var f=0;f<a.length;f++)b.appendChild(d(a[f]));else b.appendChild(M.doc.createTextNode(a));b.normalize&&b.normalize();return b};b.firstChild;)b.removeChild(b.firstChild);for(a=d(a);a.firstChild;)b.appendChild(a.firstChild)}k.stop()})(-1);k.on(\"snap.util.attr.fontSize\",z)(-1);k.on(\"snap.util.attr.font-size\",z)(-1);k.on(\"snap.util.getattr.transform\",function(){k.stop();\n",
       "return this.transform()})(-1);k.on(\"snap.util.getattr.textpath\",function(){k.stop();return this.textPath})(-1);(function(){function b(d){return function(){k.stop();var b=M.doc.defaultView.getComputedStyle(this.node,null).getPropertyValue(\"marker-\"+d);return\"none\"==b?b:a(M.doc.getElementById(b.match(q)[1]))}}function d(a){return function(b){k.stop();var d=\"marker\"+a.charAt(0).toUpperCase()+a.substring(1);if(\"\"==b||!b)this.node.style[d]=\"none\";else if(\"marker\"==b.type){var f=b.node.id;f||e(b.node,{id:b.id});\n",
       "this.node.style[d]=l(f)}}}k.on(\"snap.util.getattr.marker-end\",b(\"end\"))(-1);k.on(\"snap.util.getattr.markerEnd\",b(\"end\"))(-1);k.on(\"snap.util.getattr.marker-start\",b(\"start\"))(-1);k.on(\"snap.util.getattr.markerStart\",b(\"start\"))(-1);k.on(\"snap.util.getattr.marker-mid\",b(\"mid\"))(-1);k.on(\"snap.util.getattr.markerMid\",b(\"mid\"))(-1);k.on(\"snap.util.attr.marker-end\",d(\"end\"))(-1);k.on(\"snap.util.attr.markerEnd\",d(\"end\"))(-1);k.on(\"snap.util.attr.marker-start\",d(\"start\"))(-1);k.on(\"snap.util.attr.markerStart\",\n",
       "d(\"start\"))(-1);k.on(\"snap.util.attr.marker-mid\",d(\"mid\"))(-1);k.on(\"snap.util.attr.markerMid\",d(\"mid\"))(-1)})();k.on(\"snap.util.getattr.r\",function(){if(\"rect\"==this.type&&e(this.node,\"rx\")==e(this.node,\"ry\"))return k.stop(),e(this.node,\"rx\")})(-1);k.on(\"snap.util.getattr.text\",function(){if(\"text\"==this.type||\"tspan\"==this.type){k.stop();var a=d(this.node);return 1==a.length?a[0]:a}})(-1);k.on(\"snap.util.getattr.#text\",function(){return this.node.textContent})(-1);k.on(\"snap.util.getattr.viewBox\",\n",
       "function(){k.stop();var b=e(this.node,\"viewBox\");if(b)return b=b.split(s),a._.box(+b[0],+b[1],+b[2],+b[3])})(-1);k.on(\"snap.util.getattr.points\",function(){var a=e(this.node,\"points\");k.stop();if(a)return a.split(s)})(-1);k.on(\"snap.util.getattr.path\",function(){var a=e(this.node,\"d\");k.stop();return a})(-1);k.on(\"snap.util.getattr.class\",function(){return this.node.className.baseVal})(-1);k.on(\"snap.util.getattr.fontSize\",f)(-1);k.on(\"snap.util.getattr.font-size\",f)(-1)});C.plugin(function(a,v,y,\n",
       "M,A){function w(a){return a}function z(a){return function(b){return+b.toFixed(3)+a}}var d={\"+\":function(a,b){return a+b},\"-\":function(a,b){return a-b},\"/\":function(a,b){return a/b},\"*\":function(a,b){return a*b}},f=String,n=/[a-z]+$/i,u=/^\\s*([+\\-\\/*])\\s*=\\s*([\\d.eE+\\-]+)\\s*([^\\d\\s]+)?\\s*$/;k.on(\"snap.util.attr\",function(a){if(a=f(a).match(u)){var b=k.nt(),b=b.substring(b.lastIndexOf(\".\")+1),q=this.attr(b),e={};k.stop();var l=a[3]||\"\",r=q.match(n),s=d[a[1] ];r&&r==l?a=s(parseFloat(q),+a[2]):(q=this.asPX(b),\n",
       "a=s(this.asPX(b),this.asPX(b,a[2]+l)));isNaN(q)||isNaN(a)||(e[b]=a,this.attr(e))}})(-10);k.on(\"snap.util.equal\",function(a,b){var q=f(this.attr(a)||\"\"),e=f(b).match(u);if(e){k.stop();var l=e[3]||\"\",r=q.match(n),s=d[e[1] ];if(r&&r==l)return{from:parseFloat(q),to:s(parseFloat(q),+e[2]),f:z(r)};q=this.asPX(a);return{from:q,to:s(q,this.asPX(a,e[2]+l)),f:w}}})(-10)});C.plugin(function(a,v,y,M,A){var w=y.prototype,z=a.is;w.rect=function(a,d,k,p,b,q){var e;null==q&&(q=b);z(a,\"object\")&&\"[object Object]\"==\n",
       "a?e=a:null!=a&&(e={x:a,y:d,width:k,height:p},null!=b&&(e.rx=b,e.ry=q));return this.el(\"rect\",e)};w.circle=function(a,d,k){var p;z(a,\"object\")&&\"[object Object]\"==a?p=a:null!=a&&(p={cx:a,cy:d,r:k});return this.el(\"circle\",p)};var d=function(){function a(){this.parentNode.removeChild(this)}return function(d,k){var p=M.doc.createElement(\"img\"),b=M.doc.body;p.style.cssText=\"position:absolute;left:-9999em;top:-9999em\";p.onload=function(){k.call(p);p.onload=p.onerror=null;b.removeChild(p)};p.onerror=a;\n",
       "b.appendChild(p);p.src=d}}();w.image=function(f,n,k,p,b){var q=this.el(\"image\");if(z(f,\"object\")&&\"src\"in f)q.attr(f);else if(null!=f){var e={\"xlink:href\":f,preserveAspectRatio:\"none\"};null!=n&&null!=k&&(e.x=n,e.y=k);null!=p&&null!=b?(e.width=p,e.height=b):d(f,function(){a._.$(q.node,{width:this.offsetWidth,height:this.offsetHeight})});a._.$(q.node,e)}return q};w.ellipse=function(a,d,k,p){var b;z(a,\"object\")&&\"[object Object]\"==a?b=a:null!=a&&(b={cx:a,cy:d,rx:k,ry:p});return this.el(\"ellipse\",b)};\n",
       "w.path=function(a){var d;z(a,\"object\")&&!z(a,\"array\")?d=a:a&&(d={d:a});return this.el(\"path\",d)};w.group=w.g=function(a){var d=this.el(\"g\");1==arguments.length&&a&&!a.type?d.attr(a):arguments.length&&d.add(Array.prototype.slice.call(arguments,0));return d};w.svg=function(a,d,k,p,b,q,e,l){var r={};z(a,\"object\")&&null==d?r=a:(null!=a&&(r.x=a),null!=d&&(r.y=d),null!=k&&(r.width=k),null!=p&&(r.height=p),null!=b&&null!=q&&null!=e&&null!=l&&(r.viewBox=[b,q,e,l]));return this.el(\"svg\",r)};w.mask=function(a){var d=\n",
       "this.el(\"mask\");1==arguments.length&&a&&!a.type?d.attr(a):arguments.length&&d.add(Array.prototype.slice.call(arguments,0));return d};w.ptrn=function(a,d,k,p,b,q,e,l){if(z(a,\"object\"))var r=a;else arguments.length?(r={},null!=a&&(r.x=a),null!=d&&(r.y=d),null!=k&&(r.width=k),null!=p&&(r.height=p),null!=b&&null!=q&&null!=e&&null!=l&&(r.viewBox=[b,q,e,l])):r={patternUnits:\"userSpaceOnUse\"};return this.el(\"pattern\",r)};w.use=function(a){return null!=a?(make(\"use\",this.node),a instanceof v&&(a.attr(\"id\")||\n",
       "a.attr({id:ID()}),a=a.attr(\"id\")),this.el(\"use\",{\"xlink:href\":a})):v.prototype.use.call(this)};w.text=function(a,d,k){var p={};z(a,\"object\")?p=a:null!=a&&(p={x:a,y:d,text:k||\"\"});return this.el(\"text\",p)};w.line=function(a,d,k,p){var b={};z(a,\"object\")?b=a:null!=a&&(b={x1:a,x2:k,y1:d,y2:p});return this.el(\"line\",b)};w.polyline=function(a){1<arguments.length&&(a=Array.prototype.slice.call(arguments,0));var d={};z(a,\"object\")&&!z(a,\"array\")?d=a:null!=a&&(d={points:a});return this.el(\"polyline\",d)};\n",
       "w.polygon=function(a){1<arguments.length&&(a=Array.prototype.slice.call(arguments,0));var d={};z(a,\"object\")&&!z(a,\"array\")?d=a:null!=a&&(d={points:a});return this.el(\"polygon\",d)};(function(){function d(){return this.selectAll(\"stop\")}function n(b,d){var f=e(\"stop\"),k={offset:+d+\"%\"};b=a.color(b);k[\"stop-color\"]=b.hex;1>b.opacity&&(k[\"stop-opacity\"]=b.opacity);e(f,k);this.node.appendChild(f);return this}function u(){if(\"linearGradient\"==this.type){var b=e(this.node,\"x1\")||0,d=e(this.node,\"x2\")||\n",
       "1,f=e(this.node,\"y1\")||0,k=e(this.node,\"y2\")||0;return a._.box(b,f,math.abs(d-b),math.abs(k-f))}b=this.node.r||0;return a._.box((this.node.cx||0.5)-b,(this.node.cy||0.5)-b,2*b,2*b)}function p(a,d){function f(a,b){for(var d=(b-u)/(a-w),e=w;e<a;e++)h[e].offset=+(+u+d*(e-w)).toFixed(2);w=a;u=b}var n=k(\"snap.util.grad.parse\",null,d).firstDefined(),p;if(!n)return null;n.params.unshift(a);p=\"l\"==n.type.toLowerCase()?b.apply(0,n.params):q.apply(0,n.params);n.type!=n.type.toLowerCase()&&e(p.node,{gradientUnits:\"userSpaceOnUse\"});\n",
       "var h=n.stops,n=h.length,u=0,w=0;n--;for(var v=0;v<n;v++)\"offset\"in h[v]&&f(v,h[v].offset);h[n].offset=h[n].offset||100;f(n,h[n].offset);for(v=0;v<=n;v++){var y=h[v];p.addStop(y.color,y.offset)}return p}function b(b,k,p,q,w){b=a._.make(\"linearGradient\",b);b.stops=d;b.addStop=n;b.getBBox=u;null!=k&&e(b.node,{x1:k,y1:p,x2:q,y2:w});return b}function q(b,k,p,q,w,h){b=a._.make(\"radialGradient\",b);b.stops=d;b.addStop=n;b.getBBox=u;null!=k&&e(b.node,{cx:k,cy:p,r:q});null!=w&&null!=h&&e(b.node,{fx:w,fy:h});\n",
       "return b}var e=a._.$;w.gradient=function(a){return p(this.defs,a)};w.gradientLinear=function(a,d,e,f){return b(this.defs,a,d,e,f)};w.gradientRadial=function(a,b,d,e,f){return q(this.defs,a,b,d,e,f)};w.toString=function(){var b=this.node.ownerDocument,d=b.createDocumentFragment(),b=b.createElement(\"div\"),e=this.node.cloneNode(!0);d.appendChild(b);b.appendChild(e);a._.$(e,{xmlns:\"http://www.w3.org/2000/svg\"});b=b.innerHTML;d.removeChild(d.firstChild);return b};w.clear=function(){for(var a=this.node.firstChild,\n",
       "b;a;)b=a.nextSibling,\"defs\"!=a.tagName?a.parentNode.removeChild(a):w.clear.call({node:a}),a=b}})()});C.plugin(function(a,k,y,M){function A(a){var b=A.ps=A.ps||{};b[a]?b[a].sleep=100:b[a]={sleep:100};setTimeout(function(){for(var d in b)b[L](d)&&d!=a&&(b[d].sleep--,!b[d].sleep&&delete b[d])});return b[a]}function w(a,b,d,e){null==a&&(a=b=d=e=0);null==b&&(b=a.y,d=a.width,e=a.height,a=a.x);return{x:a,y:b,width:d,w:d,height:e,h:e,x2:a+d,y2:b+e,cx:a+d/2,cy:b+e/2,r1:F.min(d,e)/2,r2:F.max(d,e)/2,r0:F.sqrt(d*\n",
       "d+e*e)/2,path:s(a,b,d,e),vb:[a,b,d,e].join(\" \")}}function z(){return this.join(\",\").replace(N,\"$1\")}function d(a){a=C(a);a.toString=z;return a}function f(a,b,d,h,f,k,l,n,p){if(null==p)return e(a,b,d,h,f,k,l,n);if(0>p||e(a,b,d,h,f,k,l,n)<p)p=void 0;else{var q=0.5,O=1-q,s;for(s=e(a,b,d,h,f,k,l,n,O);0.01<Z(s-p);)q/=2,O+=(s<p?1:-1)*q,s=e(a,b,d,h,f,k,l,n,O);p=O}return u(a,b,d,h,f,k,l,n,p)}function n(b,d){function e(a){return+(+a).toFixed(3)}return a._.cacher(function(a,h,l){a instanceof k&&(a=a.attr(\"d\"));\n",
       "a=I(a);for(var n,p,D,q,O=\"\",s={},c=0,t=0,r=a.length;t<r;t++){D=a[t];if(\"M\"==D[0])n=+D[1],p=+D[2];else{q=f(n,p,D[1],D[2],D[3],D[4],D[5],D[6]);if(c+q>h){if(d&&!s.start){n=f(n,p,D[1],D[2],D[3],D[4],D[5],D[6],h-c);O+=[\"C\"+e(n.start.x),e(n.start.y),e(n.m.x),e(n.m.y),e(n.x),e(n.y)];if(l)return O;s.start=O;O=[\"M\"+e(n.x),e(n.y)+\"C\"+e(n.n.x),e(n.n.y),e(n.end.x),e(n.end.y),e(D[5]),e(D[6])].join();c+=q;n=+D[5];p=+D[6];continue}if(!b&&!d)return n=f(n,p,D[1],D[2],D[3],D[4],D[5],D[6],h-c)}c+=q;n=+D[5];p=+D[6]}O+=\n",
       "D.shift()+D}s.end=O;return n=b?c:d?s:u(n,p,D[0],D[1],D[2],D[3],D[4],D[5],1)},null,a._.clone)}function u(a,b,d,e,h,f,k,l,n){var p=1-n,q=ma(p,3),s=ma(p,2),c=n*n,t=c*n,r=q*a+3*s*n*d+3*p*n*n*h+t*k,q=q*b+3*s*n*e+3*p*n*n*f+t*l,s=a+2*n*(d-a)+c*(h-2*d+a),t=b+2*n*(e-b)+c*(f-2*e+b),x=d+2*n*(h-d)+c*(k-2*h+d),c=e+2*n*(f-e)+c*(l-2*f+e);a=p*a+n*d;b=p*b+n*e;h=p*h+n*k;f=p*f+n*l;l=90-180*F.atan2(s-x,t-c)/S;return{x:r,y:q,m:{x:s,y:t},n:{x:x,y:c},start:{x:a,y:b},end:{x:h,y:f},alpha:l}}function p(b,d,e,h,f,n,k,l){a.is(b,\n",
       "\"array\")||(b=[b,d,e,h,f,n,k,l]);b=U.apply(null,b);return w(b.min.x,b.min.y,b.max.x-b.min.x,b.max.y-b.min.y)}function b(a,b,d){return b>=a.x&&b<=a.x+a.width&&d>=a.y&&d<=a.y+a.height}function q(a,d){a=w(a);d=w(d);return b(d,a.x,a.y)||b(d,a.x2,a.y)||b(d,a.x,a.y2)||b(d,a.x2,a.y2)||b(a,d.x,d.y)||b(a,d.x2,d.y)||b(a,d.x,d.y2)||b(a,d.x2,d.y2)||(a.x<d.x2&&a.x>d.x||d.x<a.x2&&d.x>a.x)&&(a.y<d.y2&&a.y>d.y||d.y<a.y2&&d.y>a.y)}function e(a,b,d,e,h,f,n,k,l){null==l&&(l=1);l=(1<l?1:0>l?0:l)/2;for(var p=[-0.1252,\n",
       "0.1252,-0.3678,0.3678,-0.5873,0.5873,-0.7699,0.7699,-0.9041,0.9041,-0.9816,0.9816],q=[0.2491,0.2491,0.2335,0.2335,0.2032,0.2032,0.1601,0.1601,0.1069,0.1069,0.0472,0.0472],s=0,c=0;12>c;c++)var t=l*p[c]+l,r=t*(t*(-3*a+9*d-9*h+3*n)+6*a-12*d+6*h)-3*a+3*d,t=t*(t*(-3*b+9*e-9*f+3*k)+6*b-12*e+6*f)-3*b+3*e,s=s+q[c]*F.sqrt(r*r+t*t);return l*s}function l(a,b,d){a=I(a);b=I(b);for(var h,f,l,n,k,s,r,O,x,c,t=d?0:[],w=0,v=a.length;w<v;w++)if(x=a[w],\"M\"==x[0])h=k=x[1],f=s=x[2];else{\"C\"==x[0]?(x=[h,f].concat(x.slice(1)),\n",
       "h=x[6],f=x[7]):(x=[h,f,h,f,k,s,k,s],h=k,f=s);for(var G=0,y=b.length;G<y;G++)if(c=b[G],\"M\"==c[0])l=r=c[1],n=O=c[2];else{\"C\"==c[0]?(c=[l,n].concat(c.slice(1)),l=c[6],n=c[7]):(c=[l,n,l,n,r,O,r,O],l=r,n=O);var z;var K=x,B=c;z=d;var H=p(K),J=p(B);if(q(H,J)){for(var H=e.apply(0,K),J=e.apply(0,B),H=~~(H/8),J=~~(J/8),U=[],A=[],F={},M=z?0:[],P=0;P<H+1;P++){var C=u.apply(0,K.concat(P/H));U.push({x:C.x,y:C.y,t:P/H})}for(P=0;P<J+1;P++)C=u.apply(0,B.concat(P/J)),A.push({x:C.x,y:C.y,t:P/J});for(P=0;P<H;P++)for(K=\n",
       "0;K<J;K++){var Q=U[P],L=U[P+1],B=A[K],C=A[K+1],N=0.001>Z(L.x-Q.x)?\"y\":\"x\",S=0.001>Z(C.x-B.x)?\"y\":\"x\",R;R=Q.x;var Y=Q.y,V=L.x,ea=L.y,fa=B.x,ga=B.y,ha=C.x,ia=C.y;if(W(R,V)<X(fa,ha)||X(R,V)>W(fa,ha)||W(Y,ea)<X(ga,ia)||X(Y,ea)>W(ga,ia))R=void 0;else{var $=(R*ea-Y*V)*(fa-ha)-(R-V)*(fa*ia-ga*ha),aa=(R*ea-Y*V)*(ga-ia)-(Y-ea)*(fa*ia-ga*ha),ja=(R-V)*(ga-ia)-(Y-ea)*(fa-ha);if(ja){var $=$/ja,aa=aa/ja,ja=+$.toFixed(2),ba=+aa.toFixed(2);R=ja<+X(R,V).toFixed(2)||ja>+W(R,V).toFixed(2)||ja<+X(fa,ha).toFixed(2)||\n",
       "ja>+W(fa,ha).toFixed(2)||ba<+X(Y,ea).toFixed(2)||ba>+W(Y,ea).toFixed(2)||ba<+X(ga,ia).toFixed(2)||ba>+W(ga,ia).toFixed(2)?void 0:{x:$,y:aa}}else R=void 0}R&&F[R.x.toFixed(4)]!=R.y.toFixed(4)&&(F[R.x.toFixed(4)]=R.y.toFixed(4),Q=Q.t+Z((R[N]-Q[N])/(L[N]-Q[N]))*(L.t-Q.t),B=B.t+Z((R[S]-B[S])/(C[S]-B[S]))*(C.t-B.t),0<=Q&&1>=Q&&0<=B&&1>=B&&(z?M++:M.push({x:R.x,y:R.y,t1:Q,t2:B})))}z=M}else z=z?0:[];if(d)t+=z;else{H=0;for(J=z.length;H<J;H++)z[H].segment1=w,z[H].segment2=G,z[H].bez1=x,z[H].bez2=c;t=t.concat(z)}}}return t}\n",
       "function r(a){var b=A(a);if(b.bbox)return C(b.bbox);if(!a)return w();a=I(a);for(var d=0,e=0,h=[],f=[],l,n=0,k=a.length;n<k;n++)l=a[n],\"M\"==l[0]?(d=l[1],e=l[2],h.push(d),f.push(e)):(d=U(d,e,l[1],l[2],l[3],l[4],l[5],l[6]),h=h.concat(d.min.x,d.max.x),f=f.concat(d.min.y,d.max.y),d=l[5],e=l[6]);a=X.apply(0,h);l=X.apply(0,f);h=W.apply(0,h);f=W.apply(0,f);f=w(a,l,h-a,f-l);b.bbox=C(f);return f}function s(a,b,d,e,h){if(h)return[[\"M\",+a+ +h,b],[\"l\",d-2*h,0],[\"a\",h,h,0,0,1,h,h],[\"l\",0,e-2*h],[\"a\",h,h,0,0,1,\n",
       "-h,h],[\"l\",2*h-d,0],[\"a\",h,h,0,0,1,-h,-h],[\"l\",0,2*h-e],[\"a\",h,h,0,0,1,h,-h],[\"z\"] ];a=[[\"M\",a,b],[\"l\",d,0],[\"l\",0,e],[\"l\",-d,0],[\"z\"] ];a.toString=z;return a}function x(a,b,d,e,h){null==h&&null==e&&(e=d);a=+a;b=+b;d=+d;e=+e;if(null!=h){var f=Math.PI/180,l=a+d*Math.cos(-e*f);a+=d*Math.cos(-h*f);var n=b+d*Math.sin(-e*f);b+=d*Math.sin(-h*f);d=[[\"M\",l,n],[\"A\",d,d,0,+(180<h-e),0,a,b] ]}else d=[[\"M\",a,b],[\"m\",0,-e],[\"a\",d,e,0,1,1,0,2*e],[\"a\",d,e,0,1,1,0,-2*e],[\"z\"] ];d.toString=z;return d}function G(b){var e=\n",
       "A(b);if(e.abs)return d(e.abs);Q(b,\"array\")&&Q(b&&b[0],\"array\")||(b=a.parsePathString(b));if(!b||!b.length)return[[\"M\",0,0] ];var h=[],f=0,l=0,n=0,k=0,p=0;\"M\"==b[0][0]&&(f=+b[0][1],l=+b[0][2],n=f,k=l,p++,h[0]=[\"M\",f,l]);for(var q=3==b.length&&\"M\"==b[0][0]&&\"R\"==b[1][0].toUpperCase()&&\"Z\"==b[2][0].toUpperCase(),s,r,w=p,c=b.length;w<c;w++){h.push(s=[]);r=b[w];p=r[0];if(p!=p.toUpperCase())switch(s[0]=p.toUpperCase(),s[0]){case \"A\":s[1]=r[1];s[2]=r[2];s[3]=r[3];s[4]=r[4];s[5]=r[5];s[6]=+r[6]+f;s[7]=+r[7]+\n",
       "l;break;case \"V\":s[1]=+r[1]+l;break;case \"H\":s[1]=+r[1]+f;break;case \"R\":for(var t=[f,l].concat(r.slice(1)),u=2,v=t.length;u<v;u++)t[u]=+t[u]+f,t[++u]=+t[u]+l;h.pop();h=h.concat(P(t,q));break;case \"O\":h.pop();t=x(f,l,r[1],r[2]);t.push(t[0]);h=h.concat(t);break;case \"U\":h.pop();h=h.concat(x(f,l,r[1],r[2],r[3]));s=[\"U\"].concat(h[h.length-1].slice(-2));break;case \"M\":n=+r[1]+f,k=+r[2]+l;default:for(u=1,v=r.length;u<v;u++)s[u]=+r[u]+(u%2?f:l)}else if(\"R\"==p)t=[f,l].concat(r.slice(1)),h.pop(),h=h.concat(P(t,\n",
       "q)),s=[\"R\"].concat(r.slice(-2));else if(\"O\"==p)h.pop(),t=x(f,l,r[1],r[2]),t.push(t[0]),h=h.concat(t);else if(\"U\"==p)h.pop(),h=h.concat(x(f,l,r[1],r[2],r[3])),s=[\"U\"].concat(h[h.length-1].slice(-2));else for(t=0,u=r.length;t<u;t++)s[t]=r[t];p=p.toUpperCase();if(\"O\"!=p)switch(s[0]){case \"Z\":f=+n;l=+k;break;case \"H\":f=s[1];break;case \"V\":l=s[1];break;case \"M\":n=s[s.length-2],k=s[s.length-1];default:f=s[s.length-2],l=s[s.length-1]}}h.toString=z;e.abs=d(h);return h}function h(a,b,d,e){return[a,b,d,e,d,\n",
       "e]}function J(a,b,d,e,h,f){var l=1/3,n=2/3;return[l*a+n*d,l*b+n*e,l*h+n*d,l*f+n*e,h,f]}function K(b,d,e,h,f,l,n,k,p,s){var r=120*S/180,q=S/180*(+f||0),c=[],t,x=a._.cacher(function(a,b,c){var d=a*F.cos(c)-b*F.sin(c);a=a*F.sin(c)+b*F.cos(c);return{x:d,y:a}});if(s)v=s[0],t=s[1],l=s[2],u=s[3];else{t=x(b,d,-q);b=t.x;d=t.y;t=x(k,p,-q);k=t.x;p=t.y;F.cos(S/180*f);F.sin(S/180*f);t=(b-k)/2;v=(d-p)/2;u=t*t/(e*e)+v*v/(h*h);1<u&&(u=F.sqrt(u),e*=u,h*=u);var u=e*e,w=h*h,u=(l==n?-1:1)*F.sqrt(Z((u*w-u*v*v-w*t*t)/\n",
       "(u*v*v+w*t*t)));l=u*e*v/h+(b+k)/2;var u=u*-h*t/e+(d+p)/2,v=F.asin(((d-u)/h).toFixed(9));t=F.asin(((p-u)/h).toFixed(9));v=b<l?S-v:v;t=k<l?S-t:t;0>v&&(v=2*S+v);0>t&&(t=2*S+t);n&&v>t&&(v-=2*S);!n&&t>v&&(t-=2*S)}if(Z(t-v)>r){var c=t,w=k,G=p;t=v+r*(n&&t>v?1:-1);k=l+e*F.cos(t);p=u+h*F.sin(t);c=K(k,p,e,h,f,0,n,w,G,[t,c,l,u])}l=t-v;f=F.cos(v);r=F.sin(v);n=F.cos(t);t=F.sin(t);l=F.tan(l/4);e=4/3*e*l;l*=4/3*h;h=[b,d];b=[b+e*r,d-l*f];d=[k+e*t,p-l*n];k=[k,p];b[0]=2*h[0]-b[0];b[1]=2*h[1]-b[1];if(s)return[b,d,k].concat(c);\n",
       "c=[b,d,k].concat(c).join().split(\",\");s=[];k=0;for(p=c.length;k<p;k++)s[k]=k%2?x(c[k-1],c[k],q).y:x(c[k],c[k+1],q).x;return s}function U(a,b,d,e,h,f,l,k){for(var n=[],p=[[],[] ],s,r,c,t,q=0;2>q;++q)0==q?(r=6*a-12*d+6*h,s=-3*a+9*d-9*h+3*l,c=3*d-3*a):(r=6*b-12*e+6*f,s=-3*b+9*e-9*f+3*k,c=3*e-3*b),1E-12>Z(s)?1E-12>Z(r)||(s=-c/r,0<s&&1>s&&n.push(s)):(t=r*r-4*c*s,c=F.sqrt(t),0>t||(t=(-r+c)/(2*s),0<t&&1>t&&n.push(t),s=(-r-c)/(2*s),0<s&&1>s&&n.push(s)));for(r=q=n.length;q--;)s=n[q],c=1-s,p[0][q]=c*c*c*a+3*\n",
       "c*c*s*d+3*c*s*s*h+s*s*s*l,p[1][q]=c*c*c*b+3*c*c*s*e+3*c*s*s*f+s*s*s*k;p[0][r]=a;p[1][r]=b;p[0][r+1]=l;p[1][r+1]=k;p[0].length=p[1].length=r+2;return{min:{x:X.apply(0,p[0]),y:X.apply(0,p[1])},max:{x:W.apply(0,p[0]),y:W.apply(0,p[1])}}}function I(a,b){var e=!b&&A(a);if(!b&&e.curve)return d(e.curve);var f=G(a),l=b&&G(b),n={x:0,y:0,bx:0,by:0,X:0,Y:0,qx:null,qy:null},k={x:0,y:0,bx:0,by:0,X:0,Y:0,qx:null,qy:null},p=function(a,b,c){if(!a)return[\"C\",b.x,b.y,b.x,b.y,b.x,b.y];a[0]in{T:1,Q:1}||(b.qx=b.qy=null);\n",
       "switch(a[0]){case \"M\":b.X=a[1];b.Y=a[2];break;case \"A\":a=[\"C\"].concat(K.apply(0,[b.x,b.y].concat(a.slice(1))));break;case \"S\":\"C\"==c||\"S\"==c?(c=2*b.x-b.bx,b=2*b.y-b.by):(c=b.x,b=b.y);a=[\"C\",c,b].concat(a.slice(1));break;case \"T\":\"Q\"==c||\"T\"==c?(b.qx=2*b.x-b.qx,b.qy=2*b.y-b.qy):(b.qx=b.x,b.qy=b.y);a=[\"C\"].concat(J(b.x,b.y,b.qx,b.qy,a[1],a[2]));break;case \"Q\":b.qx=a[1];b.qy=a[2];a=[\"C\"].concat(J(b.x,b.y,a[1],a[2],a[3],a[4]));break;case \"L\":a=[\"C\"].concat(h(b.x,b.y,a[1],a[2]));break;case \"H\":a=[\"C\"].concat(h(b.x,\n",
       "b.y,a[1],b.y));break;case \"V\":a=[\"C\"].concat(h(b.x,b.y,b.x,a[1]));break;case \"Z\":a=[\"C\"].concat(h(b.x,b.y,b.X,b.Y))}return a},s=function(a,b){if(7<a[b].length){a[b].shift();for(var c=a[b];c.length;)q[b]=\"A\",l&&(u[b]=\"A\"),a.splice(b++,0,[\"C\"].concat(c.splice(0,6)));a.splice(b,1);v=W(f.length,l&&l.length||0)}},r=function(a,b,c,d,e){a&&b&&\"M\"==a[e][0]&&\"M\"!=b[e][0]&&(b.splice(e,0,[\"M\",d.x,d.y]),c.bx=0,c.by=0,c.x=a[e][1],c.y=a[e][2],v=W(f.length,l&&l.length||0))},q=[],u=[],c=\"\",t=\"\",x=0,v=W(f.length,\n",
       "l&&l.length||0);for(;x<v;x++){f[x]&&(c=f[x][0]);\"C\"!=c&&(q[x]=c,x&&(t=q[x-1]));f[x]=p(f[x],n,t);\"A\"!=q[x]&&\"C\"==c&&(q[x]=\"C\");s(f,x);l&&(l[x]&&(c=l[x][0]),\"C\"!=c&&(u[x]=c,x&&(t=u[x-1])),l[x]=p(l[x],k,t),\"A\"!=u[x]&&\"C\"==c&&(u[x]=\"C\"),s(l,x));r(f,l,n,k,x);r(l,f,k,n,x);var w=f[x],z=l&&l[x],y=w.length,U=l&&z.length;n.x=w[y-2];n.y=w[y-1];n.bx=$(w[y-4])||n.x;n.by=$(w[y-3])||n.y;k.bx=l&&($(z[U-4])||k.x);k.by=l&&($(z[U-3])||k.y);k.x=l&&z[U-2];k.y=l&&z[U-1]}l||(e.curve=d(f));return l?[f,l]:f}function P(a,\n",
       "b){for(var d=[],e=0,h=a.length;h-2*!b>e;e+=2){var f=[{x:+a[e-2],y:+a[e-1]},{x:+a[e],y:+a[e+1]},{x:+a[e+2],y:+a[e+3]},{x:+a[e+4],y:+a[e+5]}];b?e?h-4==e?f[3]={x:+a[0],y:+a[1]}:h-2==e&&(f[2]={x:+a[0],y:+a[1]},f[3]={x:+a[2],y:+a[3]}):f[0]={x:+a[h-2],y:+a[h-1]}:h-4==e?f[3]=f[2]:e||(f[0]={x:+a[e],y:+a[e+1]});d.push([\"C\",(-f[0].x+6*f[1].x+f[2].x)/6,(-f[0].y+6*f[1].y+f[2].y)/6,(f[1].x+6*f[2].x-f[3].x)/6,(f[1].y+6*f[2].y-f[3].y)/6,f[2].x,f[2].y])}return d}y=k.prototype;var Q=a.is,C=a._.clone,L=\"hasOwnProperty\",\n",
       "N=/,?([a-z]),?/gi,$=parseFloat,F=Math,S=F.PI,X=F.min,W=F.max,ma=F.pow,Z=F.abs;M=n(1);var na=n(),ba=n(0,1),V=a._unit2px;a.path=A;a.path.getTotalLength=M;a.path.getPointAtLength=na;a.path.getSubpath=function(a,b,d){if(1E-6>this.getTotalLength(a)-d)return ba(a,b).end;a=ba(a,d,1);return b?ba(a,b).end:a};y.getTotalLength=function(){if(this.node.getTotalLength)return this.node.getTotalLength()};y.getPointAtLength=function(a){return na(this.attr(\"d\"),a)};y.getSubpath=function(b,d){return a.path.getSubpath(this.attr(\"d\"),\n",
       "b,d)};a._.box=w;a.path.findDotsAtSegment=u;a.path.bezierBBox=p;a.path.isPointInsideBBox=b;a.path.isBBoxIntersect=q;a.path.intersection=function(a,b){return l(a,b)};a.path.intersectionNumber=function(a,b){return l(a,b,1)};a.path.isPointInside=function(a,d,e){var h=r(a);return b(h,d,e)&&1==l(a,[[\"M\",d,e],[\"H\",h.x2+10] ],1)%2};a.path.getBBox=r;a.path.get={path:function(a){return a.attr(\"path\")},circle:function(a){a=V(a);return x(a.cx,a.cy,a.r)},ellipse:function(a){a=V(a);return x(a.cx||0,a.cy||0,a.rx,\n",
       "a.ry)},rect:function(a){a=V(a);return s(a.x||0,a.y||0,a.width,a.height,a.rx,a.ry)},image:function(a){a=V(a);return s(a.x||0,a.y||0,a.width,a.height)},line:function(a){return\"M\"+[a.attr(\"x1\")||0,a.attr(\"y1\")||0,a.attr(\"x2\"),a.attr(\"y2\")]},polyline:function(a){return\"M\"+a.attr(\"points\")},polygon:function(a){return\"M\"+a.attr(\"points\")+\"z\"},deflt:function(a){a=a.node.getBBox();return s(a.x,a.y,a.width,a.height)}};a.path.toRelative=function(b){var e=A(b),h=String.prototype.toLowerCase;if(e.rel)return d(e.rel);\n",
       "a.is(b,\"array\")&&a.is(b&&b[0],\"array\")||(b=a.parsePathString(b));var f=[],l=0,n=0,k=0,p=0,s=0;\"M\"==b[0][0]&&(l=b[0][1],n=b[0][2],k=l,p=n,s++,f.push([\"M\",l,n]));for(var r=b.length;s<r;s++){var q=f[s]=[],x=b[s];if(x[0]!=h.call(x[0]))switch(q[0]=h.call(x[0]),q[0]){case \"a\":q[1]=x[1];q[2]=x[2];q[3]=x[3];q[4]=x[4];q[5]=x[5];q[6]=+(x[6]-l).toFixed(3);q[7]=+(x[7]-n).toFixed(3);break;case \"v\":q[1]=+(x[1]-n).toFixed(3);break;case \"m\":k=x[1],p=x[2];default:for(var c=1,t=x.length;c<t;c++)q[c]=+(x[c]-(c%2?l:\n",
       "n)).toFixed(3)}else for(f[s]=[],\"m\"==x[0]&&(k=x[1]+l,p=x[2]+n),q=0,c=x.length;q<c;q++)f[s][q]=x[q];x=f[s].length;switch(f[s][0]){case \"z\":l=k;n=p;break;case \"h\":l+=+f[s][x-1];break;case \"v\":n+=+f[s][x-1];break;default:l+=+f[s][x-2],n+=+f[s][x-1]}}f.toString=z;e.rel=d(f);return f};a.path.toAbsolute=G;a.path.toCubic=I;a.path.map=function(a,b){if(!b)return a;var d,e,h,f,l,n,k;a=I(a);h=0;for(l=a.length;h<l;h++)for(k=a[h],f=1,n=k.length;f<n;f+=2)d=b.x(k[f],k[f+1]),e=b.y(k[f],k[f+1]),k[f]=d,k[f+1]=e;return a};\n",
       "a.path.toString=z;a.path.clone=d});C.plugin(function(a,v,y,C){var A=Math.max,w=Math.min,z=function(a){this.items=[];this.bindings={};this.length=0;this.type=\"set\";if(a)for(var f=0,n=a.length;f<n;f++)a[f]&&(this[this.items.length]=this.items[this.items.length]=a[f],this.length++)};v=z.prototype;v.push=function(){for(var a,f,n=0,k=arguments.length;n<k;n++)if(a=arguments[n])f=this.items.length,this[f]=this.items[f]=a,this.length++;return this};v.pop=function(){this.length&&delete this[this.length--];\n",
       "return this.items.pop()};v.forEach=function(a,f){for(var n=0,k=this.items.length;n<k&&!1!==a.call(f,this.items[n],n);n++);return this};v.animate=function(d,f,n,u){\"function\"!=typeof n||n.length||(u=n,n=L.linear);d instanceof a._.Animation&&(u=d.callback,n=d.easing,f=n.dur,d=d.attr);var p=arguments;if(a.is(d,\"array\")&&a.is(p[p.length-1],\"array\"))var b=!0;var q,e=function(){q?this.b=q:q=this.b},l=0,r=u&&function(){l++==this.length&&u.call(this)};return this.forEach(function(a,l){k.once(\"snap.animcreated.\"+\n",
       "a.id,e);b?p[l]&&a.animate.apply(a,p[l]):a.animate(d,f,n,r)})};v.remove=function(){for(;this.length;)this.pop().remove();return this};v.bind=function(a,f,k){var u={};if(\"function\"==typeof f)this.bindings[a]=f;else{var p=k||a;this.bindings[a]=function(a){u[p]=a;f.attr(u)}}return this};v.attr=function(a){var f={},k;for(k in a)if(this.bindings[k])this.bindings[k](a[k]);else f[k]=a[k];a=0;for(k=this.items.length;a<k;a++)this.items[a].attr(f);return this};v.clear=function(){for(;this.length;)this.pop()};\n",
       "v.splice=function(a,f,k){a=0>a?A(this.length+a,0):a;f=A(0,w(this.length-a,f));var u=[],p=[],b=[],q;for(q=2;q<arguments.length;q++)b.push(arguments[q]);for(q=0;q<f;q++)p.push(this[a+q]);for(;q<this.length-a;q++)u.push(this[a+q]);var e=b.length;for(q=0;q<e+u.length;q++)this.items[a+q]=this[a+q]=q<e?b[q]:u[q-e];for(q=this.items.length=this.length-=f-e;this[q];)delete this[q++];return new z(p)};v.exclude=function(a){for(var f=0,k=this.length;f<k;f++)if(this[f]==a)return this.splice(f,1),!0;return!1};\n",
       "v.insertAfter=function(a){for(var f=this.items.length;f--;)this.items[f].insertAfter(a);return this};v.getBBox=function(){for(var a=[],f=[],k=[],u=[],p=this.items.length;p--;)if(!this.items[p].removed){var b=this.items[p].getBBox();a.push(b.x);f.push(b.y);k.push(b.x+b.width);u.push(b.y+b.height)}a=w.apply(0,a);f=w.apply(0,f);k=A.apply(0,k);u=A.apply(0,u);return{x:a,y:f,x2:k,y2:u,width:k-a,height:u-f,cx:a+(k-a)/2,cy:f+(u-f)/2}};v.clone=function(a){a=new z;for(var f=0,k=this.items.length;f<k;f++)a.push(this.items[f].clone());\n",
       "return a};v.toString=function(){return\"Snap\\u2018s set\"};v.type=\"set\";a.set=function(){var a=new z;arguments.length&&a.push.apply(a,Array.prototype.slice.call(arguments,0));return a}});C.plugin(function(a,v,y,C){function A(a){var b=a[0];switch(b.toLowerCase()){case \"t\":return[b,0,0];case \"m\":return[b,1,0,0,1,0,0];case \"r\":return 4==a.length?[b,0,a[2],a[3] ]:[b,0];case \"s\":return 5==a.length?[b,1,1,a[3],a[4] ]:3==a.length?[b,1,1]:[b,1]}}function w(b,d,f){d=q(d).replace(/\\.{3}|\\u2026/g,b);b=a.parseTransformString(b)||\n",
       "[];d=a.parseTransformString(d)||[];for(var k=Math.max(b.length,d.length),p=[],v=[],h=0,w,z,y,I;h<k;h++){y=b[h]||A(d[h]);I=d[h]||A(y);if(y[0]!=I[0]||\"r\"==y[0].toLowerCase()&&(y[2]!=I[2]||y[3]!=I[3])||\"s\"==y[0].toLowerCase()&&(y[3]!=I[3]||y[4]!=I[4])){b=a._.transform2matrix(b,f());d=a._.transform2matrix(d,f());p=[[\"m\",b.a,b.b,b.c,b.d,b.e,b.f] ];v=[[\"m\",d.a,d.b,d.c,d.d,d.e,d.f] ];break}p[h]=[];v[h]=[];w=0;for(z=Math.max(y.length,I.length);w<z;w++)w in y&&(p[h][w]=y[w]),w in I&&(v[h][w]=I[w])}return{from:u(p),\n",
       "to:u(v),f:n(p)}}function z(a){return a}function d(a){return function(b){return+b.toFixed(3)+a}}function f(b){return a.rgb(b[0],b[1],b[2])}function n(a){var b=0,d,f,k,n,h,p,q=[];d=0;for(f=a.length;d<f;d++){h=\"[\";p=['\"'+a[d][0]+'\"'];k=1;for(n=a[d].length;k<n;k++)p[k]=\"val[\"+b++ +\"]\";h+=p+\"]\";q[d]=h}return Function(\"val\",\"return Snap.path.toString.call([\"+q+\"])\")}function u(a){for(var b=[],d=0,f=a.length;d<f;d++)for(var k=1,n=a[d].length;k<n;k++)b.push(a[d][k]);return b}var p={},b=/[a-z]+$/i,q=String;\n",
       "p.stroke=p.fill=\"colour\";v.prototype.equal=function(a,b){return k(\"snap.util.equal\",this,a,b).firstDefined()};k.on(\"snap.util.equal\",function(e,k){var r,s;r=q(this.attr(e)||\"\");var x=this;if(r==+r&&k==+k)return{from:+r,to:+k,f:z};if(\"colour\"==p[e])return r=a.color(r),s=a.color(k),{from:[r.r,r.g,r.b,r.opacity],to:[s.r,s.g,s.b,s.opacity],f:f};if(\"transform\"==e||\"gradientTransform\"==e||\"patternTransform\"==e)return k instanceof a.Matrix&&(k=k.toTransformString()),a._.rgTransform.test(k)||(k=a._.svgTransform2string(k)),\n",
       "w(r,k,function(){return x.getBBox(1)});if(\"d\"==e||\"path\"==e)return r=a.path.toCubic(r,k),{from:u(r[0]),to:u(r[1]),f:n(r[0])};if(\"points\"==e)return r=q(r).split(a._.separator),s=q(k).split(a._.separator),{from:r,to:s,f:function(a){return a}};aUnit=r.match(b);s=q(k).match(b);return aUnit&&aUnit==s?{from:parseFloat(r),to:parseFloat(k),f:d(aUnit)}:{from:this.asPX(e),to:this.asPX(e,k),f:z}})});C.plugin(function(a,v,y,C){var A=v.prototype,w=\"createTouch\"in C.doc;v=\"click dblclick mousedown mousemove mouseout mouseover mouseup touchstart touchmove touchend touchcancel\".split(\" \");\n",
       "var z={mousedown:\"touchstart\",mousemove:\"touchmove\",mouseup:\"touchend\"},d=function(a,b){var d=\"y\"==a?\"scrollTop\":\"scrollLeft\",e=b&&b.node?b.node.ownerDocument:C.doc;return e[d in e.documentElement?\"documentElement\":\"body\"][d]},f=function(){this.returnValue=!1},n=function(){return this.originalEvent.preventDefault()},u=function(){this.cancelBubble=!0},p=function(){return this.originalEvent.stopPropagation()},b=function(){if(C.doc.addEventListener)return function(a,b,e,f){var k=w&&z[b]?z[b]:b,l=function(k){var l=\n",
       "d(\"y\",f),q=d(\"x\",f);if(w&&z.hasOwnProperty(b))for(var r=0,u=k.targetTouches&&k.targetTouches.length;r<u;r++)if(k.targetTouches[r].target==a||a.contains(k.targetTouches[r].target)){u=k;k=k.targetTouches[r];k.originalEvent=u;k.preventDefault=n;k.stopPropagation=p;break}return e.call(f,k,k.clientX+q,k.clientY+l)};b!==k&&a.addEventListener(b,l,!1);a.addEventListener(k,l,!1);return function(){b!==k&&a.removeEventListener(b,l,!1);a.removeEventListener(k,l,!1);return!0}};if(C.doc.attachEvent)return function(a,\n",
       "b,e,h){var k=function(a){a=a||h.node.ownerDocument.window.event;var b=d(\"y\",h),k=d(\"x\",h),k=a.clientX+k,b=a.clientY+b;a.preventDefault=a.preventDefault||f;a.stopPropagation=a.stopPropagation||u;return e.call(h,a,k,b)};a.attachEvent(\"on\"+b,k);return function(){a.detachEvent(\"on\"+b,k);return!0}}}(),q=[],e=function(a){for(var b=a.clientX,e=a.clientY,f=d(\"y\"),l=d(\"x\"),n,p=q.length;p--;){n=q[p];if(w)for(var r=a.touches&&a.touches.length,u;r--;){if(u=a.touches[r],u.identifier==n.el._drag.id||n.el.node.contains(u.target)){b=\n",
       "u.clientX;e=u.clientY;(a.originalEvent?a.originalEvent:a).preventDefault();break}}else a.preventDefault();b+=l;e+=f;k(\"snap.drag.move.\"+n.el.id,n.move_scope||n.el,b-n.el._drag.x,e-n.el._drag.y,b,e,a)}},l=function(b){a.unmousemove(e).unmouseup(l);for(var d=q.length,f;d--;)f=q[d],f.el._drag={},k(\"snap.drag.end.\"+f.el.id,f.end_scope||f.start_scope||f.move_scope||f.el,b);q=[]};for(y=v.length;y--;)(function(d){a[d]=A[d]=function(e,f){a.is(e,\"function\")&&(this.events=this.events||[],this.events.push({name:d,\n",
       "f:e,unbind:b(this.node||document,d,e,f||this)}));return this};a[\"un\"+d]=A[\"un\"+d]=function(a){for(var b=this.events||[],e=b.length;e--;)if(b[e].name==d&&(b[e].f==a||!a)){b[e].unbind();b.splice(e,1);!b.length&&delete this.events;break}return this}})(v[y]);A.hover=function(a,b,d,e){return this.mouseover(a,d).mouseout(b,e||d)};A.unhover=function(a,b){return this.unmouseover(a).unmouseout(b)};var r=[];A.drag=function(b,d,f,h,n,p){function u(r,v,w){(r.originalEvent||r).preventDefault();this._drag.x=v;\n",
       "this._drag.y=w;this._drag.id=r.identifier;!q.length&&a.mousemove(e).mouseup(l);q.push({el:this,move_scope:h,start_scope:n,end_scope:p});d&&k.on(\"snap.drag.start.\"+this.id,d);b&&k.on(\"snap.drag.move.\"+this.id,b);f&&k.on(\"snap.drag.end.\"+this.id,f);k(\"snap.drag.start.\"+this.id,n||h||this,v,w,r)}if(!arguments.length){var v;return this.drag(function(a,b){this.attr({transform:v+(v?\"T\":\"t\")+[a,b]})},function(){v=this.transform().local})}this._drag={};r.push({el:this,start:u});this.mousedown(u);return this};\n",
       "A.undrag=function(){for(var b=r.length;b--;)r[b].el==this&&(this.unmousedown(r[b].start),r.splice(b,1),k.unbind(\"snap.drag.*.\"+this.id));!r.length&&a.unmousemove(e).unmouseup(l);return this}});C.plugin(function(a,v,y,C){y=y.prototype;var A=/^\\s*url\\((.+)\\)/,w=String,z=a._.$;a.filter={};y.filter=function(d){var f=this;\"svg\"!=f.type&&(f=f.paper);d=a.parse(w(d));var k=a._.id(),u=z(\"filter\");z(u,{id:k,filterUnits:\"userSpaceOnUse\"});u.appendChild(d.node);f.defs.appendChild(u);return new v(u)};k.on(\"snap.util.getattr.filter\",\n",
       "function(){k.stop();var d=z(this.node,\"filter\");if(d)return(d=w(d).match(A))&&a.select(d[1])});k.on(\"snap.util.attr.filter\",function(d){if(d instanceof v&&\"filter\"==d.type){k.stop();var f=d.node.id;f||(z(d.node,{id:d.id}),f=d.id);z(this.node,{filter:a.url(f)})}d&&\"none\"!=d||(k.stop(),this.node.removeAttribute(\"filter\"))});a.filter.blur=function(d,f){null==d&&(d=2);return a.format('<feGaussianBlur stdDeviation=\"{def}\"/>',{def:null==f?d:[d,f]})};a.filter.blur.toString=function(){return this()};a.filter.shadow=\n",
       "function(d,f,k,u,p){\"string\"==typeof k&&(p=u=k,k=4);\"string\"!=typeof u&&(p=u,u=\"#000\");null==k&&(k=4);null==p&&(p=1);null==d&&(d=0,f=2);null==f&&(f=d);u=a.color(u||\"#000\");return a.format('<feGaussianBlur in=\"SourceAlpha\" stdDeviation=\"{blur}\"/><feOffset dx=\"{dx}\" dy=\"{dy}\" result=\"offsetblur\"/><feFlood flood-color=\"{color}\"/><feComposite in2=\"offsetblur\" operator=\"in\"/><feComponentTransfer><feFuncA type=\"linear\" slope=\"{opacity}\"/></feComponentTransfer><feMerge><feMergeNode/><feMergeNode in=\"SourceGraphic\"/></feMerge>',\n",
       "{color:u,dx:d,dy:f,blur:k,opacity:p})};a.filter.shadow.toString=function(){return this()};a.filter.grayscale=function(d){null==d&&(d=1);return a.format('<feColorMatrix type=\"matrix\" values=\"{a} {b} {c} 0 0 {d} {e} {f} 0 0 {g} {b} {h} 0 0 0 0 0 1 0\"/>',{a:0.2126+0.7874*(1-d),b:0.7152-0.7152*(1-d),c:0.0722-0.0722*(1-d),d:0.2126-0.2126*(1-d),e:0.7152+0.2848*(1-d),f:0.0722-0.0722*(1-d),g:0.2126-0.2126*(1-d),h:0.0722+0.9278*(1-d)})};a.filter.grayscale.toString=function(){return this()};a.filter.sepia=\n",
       "function(d){null==d&&(d=1);return a.format('<feColorMatrix type=\"matrix\" values=\"{a} {b} {c} 0 0 {d} {e} {f} 0 0 {g} {h} {i} 0 0 0 0 0 1 0\"/>',{a:0.393+0.607*(1-d),b:0.769-0.769*(1-d),c:0.189-0.189*(1-d),d:0.349-0.349*(1-d),e:0.686+0.314*(1-d),f:0.168-0.168*(1-d),g:0.272-0.272*(1-d),h:0.534-0.534*(1-d),i:0.131+0.869*(1-d)})};a.filter.sepia.toString=function(){return this()};a.filter.saturate=function(d){null==d&&(d=1);return a.format('<feColorMatrix type=\"saturate\" values=\"{amount}\"/>',{amount:1-\n",
       "d})};a.filter.saturate.toString=function(){return this()};a.filter.hueRotate=function(d){return a.format('<feColorMatrix type=\"hueRotate\" values=\"{angle}\"/>',{angle:d||0})};a.filter.hueRotate.toString=function(){return this()};a.filter.invert=function(d){null==d&&(d=1);return a.format('<feComponentTransfer><feFuncR type=\"table\" tableValues=\"{amount} {amount2}\"/><feFuncG type=\"table\" tableValues=\"{amount} {amount2}\"/><feFuncB type=\"table\" tableValues=\"{amount} {amount2}\"/></feComponentTransfer>',{amount:d,\n",
       "amount2:1-d})};a.filter.invert.toString=function(){return this()};a.filter.brightness=function(d){null==d&&(d=1);return a.format('<feComponentTransfer><feFuncR type=\"linear\" slope=\"{amount}\"/><feFuncG type=\"linear\" slope=\"{amount}\"/><feFuncB type=\"linear\" slope=\"{amount}\"/></feComponentTransfer>',{amount:d})};a.filter.brightness.toString=function(){return this()};a.filter.contrast=function(d){null==d&&(d=1);return a.format('<feComponentTransfer><feFuncR type=\"linear\" slope=\"{amount}\" intercept=\"{amount2}\"/><feFuncG type=\"linear\" slope=\"{amount}\" intercept=\"{amount2}\"/><feFuncB type=\"linear\" slope=\"{amount}\" intercept=\"{amount2}\"/></feComponentTransfer>',\n",
       "{amount:d,amount2:0.5-d/2})};a.filter.contrast.toString=function(){return this()}});return C});\n",
       "]]></script>\n",
       "    <script><![CDATA[\n",
       "        (function(glob, factory){\n",
       "    if (typeof define == \"function\" && define.amd) {\n",
       "        define(\"ProfileView\", [\"Snap.svg\"], function (Snap){\n",
       "            return factory(Snap);\n",
       "        });\n",
       "    }\n",
       "    else {\n",
       "        glob.ProfileView = factory(glob.Snap);\n",
       "    }\n",
       "}(this, function(Snap){\n",
       "    var ProfileView = {};\n",
       "\n",
       "    var avgcharwidth = 6;\n",
       "    var default_transition_time = 300;\n",
       "    var viewport_scale = 0.9;\n",
       "\n",
       "    var format_text = function(text, available_len){\n",
       "        if (available_len < 3*avgcharwidth) {\n",
       "            return \"\";\n",
       "        }\n",
       "        else if (text.length*avgcharwidth > available_len) {\n",
       "            nchars = Math.round(available_len/avgcharwidth)-2;\n",
       "            return text.slice(0,nchars) + \"..\"\n",
       "        }\n",
       "        return text;\n",
       "    }\n",
       "\n",
       "    // Shift the view port to center on xc, then scale in the x direction\n",
       "    ProfileView.move_and_zoom = function(xc, xs, xScale, fig, delta_t){\n",
       "        if (typeof delta_t === 'undefined') { delta_t = default_transition_time; }\n",
       "        if (typeof xs === 'undefined') {xs = xc;}\n",
       "\n",
       "        var oldScale = fig.scale;\n",
       "        var oldShift = fig.shift;\n",
       "\n",
       "        fig.scale = xScale;\n",
       "        fig.shift = xc;\n",
       "\n",
       "        xScale *= viewport_scale;\n",
       "\n",
       "        var oldxshift = -(oldShift - 0.5*fig.clip_width);\n",
       "        var xshift = -(xc - 0.5*fig.clip_width);\n",
       "\n",
       "        fig.texts.forEach(function(text){\n",
       "            text.node.textContent = \"\";\n",
       "        });\n",
       "\n",
       "        if (delta_t != 0){\n",
       "            Snap.animate(0, 1, function(step){\n",
       "\n",
       "                var scale = oldScale + (xScale - oldScale)*step\n",
       "                var rMatrix = new Snap.Matrix;\n",
       "                rMatrix.translate(oldxshift + (xshift - oldxshift)*step, 0);\n",
       "                rMatrix.scale(scale, 1, xs, fig.clip_middle);\n",
       "                fig.viewport.attr({\n",
       "                    transform: rMatrix\n",
       "                })\n",
       "                fig.rects.forEach(function(rect){\n",
       "                    rect.attr({\n",
       "                        rx: 2/scale,\n",
       "                        ry: 2/scale\n",
       "                    });\n",
       "                })\n",
       "\n",
       "            }, delta_t, null, function(){\n",
       "                fig.rects.forEach(function(rect, i){\n",
       "                    var bbox = rect.getBBox();\n",
       "                    var text = fig.texts[i];\n",
       "                    var shortinfo = rect.node.getAttribute(\"data-shortinfo\");\n",
       "\n",
       "                    var tMatrix = new Snap.Matrix;\n",
       "                    tMatrix.scale(1.0/xScale, 1, bbox.x, bbox.y);\n",
       "\n",
       "                    text.node.textContent = format_text(shortinfo, bbox.w*xScale);\n",
       "                    text.transform(tMatrix);\n",
       "                });\n",
       "            });\n",
       "        }\n",
       "        else {\n",
       "            var rMatrix = new Snap.Matrix;\n",
       "            rMatrix.translate(xshift, 0);\n",
       "            rMatrix.scale(xScale, 1, xs, fig.clip_middle);\n",
       "\n",
       "            fig.viewport.transform(rMatrix);\n",
       "            fig.rects.forEach(function(rect, i){\n",
       "                rect.attr({\n",
       "                    rx: 2/xScale,\n",
       "                    ry: 2/xScale\n",
       "                });\n",
       "                var bbox = rect.getBBox();\n",
       "                var text = fig.texts[i];\n",
       "                var shortinfo = rect.node.getAttribute(\"data-shortinfo\");\n",
       "\n",
       "                var tMatrix = new Snap.Matrix;\n",
       "                tMatrix.scale(1.0/xScale, 1, bbox.x, bbox.y);\n",
       "\n",
       "                text.node.textContent = format_text(shortinfo, bbox.w*xScale);\n",
       "                text.transform(tMatrix);\n",
       "            });\n",
       "       }\n",
       "\n",
       "    }\n",
       "\n",
       "    ProfileView.reset = function(fig) {\n",
       "        ProfileView.move_and_zoom(fig.viewport_cx, fig.viewport_cx, viewport_scale, fig);\n",
       "    }\n",
       "\n",
       "    return ProfileView;\n",
       "}));\n",
       "\n",
       "        (function (glob, factory) {\n",
       "            if (typeof require === \"function\" && typeof define === \"function\" && define.amd) {\n",
       "                require([\"Snap.svg\", \"ProfileView\"], function (Snap, ProfileView) {\n",
       "                    factory(Snap, ProfileView);\n",
       "                });\n",
       "          } else {\n",
       "              factory(glob.Snap, glob.ProfileView);\n",
       "          }\n",
       "        })(window, function (Snap, ProfileView) {\n",
       "            var svg = Snap.select('svg').node;\n",
       "            var pt = svg.createSVGPoint();\n",
       "\n",
       "            var fig = {};\n",
       "\n",
       "            fig.viewport = Snap.select('#fig-4b28bc445d204db8b4fd47e5c8d4ea16-viewport');\n",
       "            fig.frame = Snap.select('#fig-4b28bc445d204db8b4fd47e5c8d4ea16-frame');\n",
       "\n",
       "            fig.viewport_cx = fig.viewport.getBBox().cx;\n",
       "\n",
       "            fig.rects = Snap.selectAll('#fig-4b28bc445d204db8b4fd47e5c8d4ea16-viewport rect');\n",
       "            fig.texts = Snap.selectAll('#fig-4b28bc445d204db8b4fd47e5c8d4ea16-viewport text');\n",
       "            fig.clip = Snap.select('#fig-4b28bc445d204db8b4fd47e5c8d4ea16-clip-rect');\n",
       "            fig.clip_width  = fig.clip.getBBox().w;\n",
       "            fig.clip_middle = fig.clip.getBBox().cy;\n",
       "            fig.details = document.getElementById(\"fig-4b28bc445d204db8b4fd47e5c8d4ea16-details\").firstChild; \n",
       "\n",
       "            fig.scale = 1.0;\n",
       "            fig.shift = fig.viewport_cx;\n",
       "\n",
       "            ProfileView.reset(fig)\n",
       "\n",
       "            fig.rects.forEach(function(rect, i){\n",
       "                rect.dblclick(function(){\n",
       "                    bbox = rect.getBBox();\n",
       "                    ProfileView.move_and_zoom(bbox.cx, bbox.cx, fig.clip_width/bbox.w, fig);\n",
       "                })\n",
       "                .mouseover(function(){\n",
       "                    fig.details.nodeValue = rect.node.getAttribute(\"data-info\");\n",
       "                })\n",
       "                .mouseout(function(){\n",
       "                    fig.details.nodeValue = \"\";\n",
       "                });\n",
       "\n",
       "            })\n",
       "            fig.texts.forEach(function(text, i){\n",
       "                text.dblclick(function(){\n",
       "                    bbox = fig.rects[i].getBBox();\n",
       "                    ProfileView.move_and_zoom(bbox.cx, bbox.cx, fig.clip_width/bbox.w, fig);\n",
       "                })\n",
       "                .mouseover(function(){\n",
       "                    fig.details.nodeValue = fig.rects[i].node.getAttribute(\"data-info\");\n",
       "                })\n",
       "                .mouseout(function(){\n",
       "                    fig.details.nodeValue = \"\";\n",
       "                });\n",
       "            })\n",
       "            Snap.selectAll(\"#fig-4b28bc445d204db8b4fd47e5c8d4ea16-frame .pvbackground\").forEach(function(bg){\n",
       "               bg.dblclick(function(e){\n",
       "                   ProfileView.reset(fig);\n",
       "                });\n",
       "            });\n",
       "\n",
       "            function throttle(delay, callback) {\n",
       "                var previousCall = new Date().getTime();\n",
       "                return function() {\n",
       "                    var time = new Date().getTime();\n",
       "\n",
       "                    if ((time - previousCall) >= delay) {\n",
       "                        previousCall = time;\n",
       "                        callback.apply(null, arguments);\n",
       "                    }\n",
       "                    else {\n",
       "                        arguments[0].preventDefault();\n",
       "                    }\n",
       "                };\n",
       "            }\n",
       "\n",
       "            var MouseWheelHandler = throttle(400, function(e) {\n",
       "                e.preventDefault();\n",
       "                var e = window.event || e;\n",
       "                var delta = Math.max(-1, Math.min(1, (e.wheelDelta || -e.detail)));\n",
       "                pt.x = e.clientX;\n",
       "                pt.y = e.clientY;\n",
       "\n",
       "                pt.matrixTransform(fig.viewport.node.getScreenCTM().inverse());\n",
       "                var targetScale = fig.scale + 0.2*delta;\n",
       "                ProfileView.move_and_zoom(fig.shift, pt.x, targetScale, fig, 400);\n",
       "                return false;\n",
       "            })\n",
       "            frame = fig.frame.node;\n",
       "            if (frame.addEventListener) {\n",
       "                frame.addEventListener(\"mousewheel\", MouseWheelHandler, false);\n",
       "                frame.addEventListener(\"DOMMouseScroll\", MouseWheelHandler, false);\n",
       "            }\n",
       "            else {\n",
       "                frame.attachEvent(\"onmousewheel\", MouseWheelHandler);\n",
       "            }\n",
       "\n",
       "        fig.viewport.drag();\n",
       "}); ]]></script>\n",
       "</svg>\n"
      ],
      "text/plain": [
       "ProfileView.ProfileData(ColorTypes.RGB{FixedPointNumbers.Normed{UInt8,8}}[RGB{N0f8}(0.91,0.439,0.867) RGB{N0f8}(1.0,0.0,0.0) … RGB{N0f8}(0.91,0.439,0.867) RGB{N0f8}(1.0,0.643,0.612); RGB{N0f8}(0.91,0.439,0.867) RGB{N0f8}(1.0,0.0,0.0) … RGB{N0f8}(0.91,0.439,0.867) RGB{N0f8}(1.0,0.643,0.612); … ; RGB{N0f8}(0.91,0.439,0.867) RGB{N0f8}(1.0,0.0,0.0) … RGB{N0f8}(0.196,0.706,0.306) RGB{N0f8}(1.0,1.0,1.0); RGB{N0f8}(0.91,0.439,0.867) RGB{N0f8}(1.0,0.0,0.0) … RGB{N0f8}(0.102,0.635,1.0) RGB{N0f8}(1.0,1.0,1.0)], Dict(0x00007fdde744d2ee=>StackFrame[gc_setmark_pool_ at gc.c:583 [inlined], gc_setmark_pool at gc.c:605 [inlined], gc_setmark at gc.c:612 [inlined], gc_mark_obj at gc.c:1687],0x00007fdde744c61e=>StackFrame[sweep_page at gc.c:984 [inlined], sweep_pool_page at gc.c:1104 [inlined], sweep_pool_pagetable0 at gc.c:1124 [inlined], sweep_pool_pagetable1 at gc.c:1144 [inlined], sweep_pool_pagetable at gc.c:1173 [inlined], gc_sweep_pool at gc.c:1244],0x00007fdde7452d17=>StackFrame[jl_gc_pool_alloc at gc.c:919],0x00007fdde744dab5=>StackFrame[gc_scan_obj_ at gc.c:1584],0x00007fdde7453330=>StackFrame[jl_gc_alloc_ at julia_internal.h:249 [inlined], jl_gc_alloc at gc.c:2129],0x00007fdde7453348=>StackFrame[jl_gc_alloc_ at julia_internal.h:252 [inlined], jl_gc_alloc at gc.c:2129],0x00007fddced6c84d=>StackFrame[eventloop(::ZMQ.Socket) at eventloop.jl:8],0x00007fdde744db80=>StackFrame[gc_scan_obj_ at gc.c:1549],0x00007fdde744c56f=>StackFrame[sweep_pool_pagetable0 at gc.c:1113 [inlined], sweep_pool_pagetable1 at gc.c:1144 [inlined], sweep_pool_pagetable at gc.c:1173 [inlined], gc_sweep_pool at gc.c:1244],0x00007fdde744c6f7=>StackFrame[sweep_page at gc.c:1036 [inlined], sweep_pool_page at gc.c:1104 [inlined], sweep_pool_pagetable0 at gc.c:1124 [inlined], sweep_pool_pagetable1 at gc.c:1144 [inlined], sweep_pool_pagetable at gc.c:1173 [inlined], gc_sweep_pool at gc.c:1244]…), ProfileView.TagData[ProfileView.TagData(0x00007fddced6d20a, 0) ProfileView.TagData(0x00007fddced6c84d, 1) … ProfileView.TagData(0x00007fddc070d011, 0) ProfileView.TagData(0x00007fdde127c39b, 0); ProfileView.TagData(0x00007fddced6d20a, 0) ProfileView.TagData(0x00007fddced6c84d, 1) … ProfileView.TagData(0x00007fddc070d011, 0) ProfileView.TagData(0x00007fdde127c39b, 0); … ; ProfileView.TagData(0x00007fddced6d20a, 0) ProfileView.TagData(0x00007fddced6c84d, 1) … ProfileView.TagData(0x00007fddc070d0dd, 0) ProfileView.TagData(0x0000000000000000, -1); ProfileView.TagData(0x00007fddced6d20a, 0) ProfileView.TagData(0x00007fddced6c84d, 1) … ProfileView.TagData(0x00007fddc070d0a0, 0) ProfileView.TagData(0x0000000000000000, -1)], 12)"
      ]
     },
     "execution_count": 70,
     "metadata": {},
     "output_type": "execute_result"
    }
   ],
   "source": [
    "ProfileViewSVG.view() "
   ]
  },
  {
   "cell_type": "markdown",
   "metadata": {},
   "source": [
    "## Example 3: Binomial sampler"
   ]
  },
  {
   "cell_type": "code",
   "execution_count": 71,
   "metadata": {},
   "outputs": [
    {
     "name": "stdout",
     "output_type": "stream",
     "text": [
      "1, 6, 6, 4, 6, 9, 6, 5, 6, 8, 6, 4, 5, 6, 7, 5, 7, 5, 6, 5, 3, 6, 6, 2, 7, "
     ]
    }
   ],
   "source": [
    "function binomial_rv(n, p)\n",
    "    count = 0\n",
    "    U = rand(n)\n",
    "    for i in 1:n\n",
    "        if U[i] < p\n",
    "            count = count + 1    # Or count += 1\n",
    "        end\n",
    "    end\n",
    "    return count\n",
    "end\n",
    "\n",
    "for j in 1:25\n",
    "    b = binomial_rv(10, 0.5)\n",
    "    print(\"$b, \")\n",
    "end"
   ]
  },
  {
   "cell_type": "code",
   "execution_count": 72,
   "metadata": {},
   "outputs": [
    {
     "data": {
      "text/plain": [
       "binomial_rv (generic function with 1 method)"
      ]
     },
     "execution_count": 72,
     "metadata": {},
     "output_type": "execute_result"
    }
   ],
   "source": [
    "binomial_rv(n, p) = sum(rand() .> p for i in 1:n)"
   ]
  },
  {
   "cell_type": "code",
   "execution_count": 73,
   "metadata": {},
   "outputs": [
    {
     "data": {
      "text/plain": [
       "499"
      ]
     },
     "execution_count": 73,
     "metadata": {},
     "output_type": "execute_result"
    }
   ],
   "source": [
    "binomial_rv(1000,0.5)"
   ]
  },
  {
   "cell_type": "code",
   "execution_count": 76,
   "metadata": {},
   "outputs": [
    {
     "data": {
      "text/plain": [
       "RCall.RObject{RCall.IntSxp}\n",
       "[1] 484\n"
      ]
     },
     "execution_count": 76,
     "metadata": {},
     "output_type": "execute_result"
    }
   ],
   "source": [
    "using RCall\n",
    "R\"function(n,p) sum(runif(n) > p)\"(1000,0.5)"
   ]
  },
  {
   "cell_type": "markdown",
   "metadata": {
    "slideshow": {
     "slide_type": "slide"
    }
   },
   "source": [
    "## Parallelism"
   ]
  },
  {
   "cell_type": "markdown",
   "metadata": {},
   "source": [
    "`pmap` and `@parallel` are the two most frequently used and useful functions."
   ]
  },
  {
   "cell_type": "code",
   "execution_count": 77,
   "metadata": {},
   "outputs": [
    {
     "data": {
      "text/plain": [
       "4-element Array{Int64,1}:\n",
       " 2\n",
       " 3\n",
       " 4\n",
       " 5"
      ]
     },
     "execution_count": 77,
     "metadata": {},
     "output_type": "execute_result"
    }
   ],
   "source": [
    "addprocs(Sys.CPU_CORES)"
   ]
  },
  {
   "cell_type": "code",
   "execution_count": 78,
   "metadata": {},
   "outputs": [
    {
     "data": {
      "text/plain": [
       "pbinomial_rv (generic function with 1 method)"
      ]
     },
     "execution_count": 78,
     "metadata": {},
     "output_type": "execute_result"
    }
   ],
   "source": [
    "pbinomial_rv(n, p) = @parallel (+) for i=1:n\n",
    "    Int(rand() > p)\n",
    "end"
   ]
  },
  {
   "cell_type": "code",
   "execution_count": 79,
   "metadata": {},
   "outputs": [
    {
     "name": "stdout",
     "output_type": "stream",
     "text": [
      "  5.286 ms (2 allocations: 48 bytes)\n"
     ]
    },
    {
     "data": {
      "text/html": [
       "800524"
      ],
      "text/plain": [
       "800524"
      ]
     },
     "execution_count": 79,
     "metadata": {},
     "output_type": "execute_result"
    }
   ],
   "source": [
    "@btime binomial_rv(1_000_000,0.2)"
   ]
  },
  {
   "cell_type": "code",
   "execution_count": 80,
   "metadata": {},
   "outputs": [
    {
     "name": "stdout",
     "output_type": "stream",
     "text": [
      "  1.547 ms (616 allocations: 44.33 KiB)\n"
     ]
    },
    {
     "data": {
      "text/html": [
       "799653"
      ],
      "text/plain": [
       "799653"
      ]
     },
     "execution_count": 80,
     "metadata": {},
     "output_type": "execute_result"
    }
   ],
   "source": [
    "@btime pbinomial_rv(1_000_000,0.2)"
   ]
  },
  {
   "cell_type": "code",
   "execution_count": 99,
   "metadata": {},
   "outputs": [
    {
     "name": "stdout",
     "output_type": "stream",
     "text": [
      "  2.220207 seconds (24.38 k allocations: 591.456 MiB, 2.58% gc time)\n"
     ]
    },
    {
     "data": {
      "text/html": [
       "62568.78752369832"
      ],
      "text/plain": [
       "62568.78752369832"
      ]
     },
     "execution_count": 99,
     "metadata": {},
     "output_type": "execute_result"
    }
   ],
   "source": [
    "@time mean(map(i -> begin\n",
    "    A = rand(500,500)\n",
    "    eigvals(A'A)[end]\n",
    "end, 1:100))"
   ]
  },
  {
   "cell_type": "code",
   "execution_count": 98,
   "metadata": {},
   "outputs": [
    {
     "name": "stdout",
     "output_type": "stream",
     "text": [
      "  1.157129 seconds (21.67 k allocations: 1.020 MiB)\n"
     ]
    },
    {
     "data": {
      "text/html": [
       "62583.23004414645"
      ],
      "text/plain": [
       "62583.23004414645"
      ]
     },
     "execution_count": 98,
     "metadata": {},
     "output_type": "execute_result"
    }
   ],
   "source": [
    "@time mean(pmap(i -> begin\n",
    "    A = rand(500,500)\n",
    "    eigvals(A'A)[end]\n",
    "end, 1:100))"
   ]
  },
  {
   "cell_type": "markdown",
   "metadata": {},
   "source": [
    "`pmap()` is well suited for cases where a large amount of work is done by each function call, whereas `@parallel` is suited for handling situations which involve numerous small iterations."
   ]
  },
  {
   "cell_type": "markdown",
   "metadata": {
    "slideshow": {
     "slide_type": "slide"
    }
   },
   "source": [
    "## Interoperability"
   ]
  },
  {
   "cell_type": "markdown",
   "metadata": {
    "slideshow": {
     "slide_type": "fragment"
    }
   },
   "source": [
    "Lets use Julia to call R to call Julia..."
   ]
  },
  {
   "cell_type": "markdown",
   "metadata": {
    "slideshow": {
     "slide_type": "fragment"
    }
   },
   "source": [
    "Packages **RCall** (julia) and **runr** (R)"
   ]
  },
  {
   "cell_type": "code",
   "execution_count": 83,
   "metadata": {
    "collapsed": true,
    "slideshow": {
     "slide_type": "subslide"
    }
   },
   "outputs": [],
   "source": [
    "using RCall\n",
    "R\"\"\"\n",
    "library(runr)\n",
    "j =  proc_julia()\n",
    "j$start()\n",
    "\"\"\";"
   ]
  },
  {
   "cell_type": "code",
   "execution_count": 84,
   "metadata": {
    "slideshow": {
     "slide_type": "fragment"
    }
   },
   "outputs": [
    {
     "data": {
      "text/plain": [
       "RCall.RObject{RCall.VecSxp}\n",
       "sum(eye(10)-I)\n",
       "# 0.0\n"
      ]
     },
     "execution_count": 84,
     "metadata": {},
     "output_type": "execute_result"
    }
   ],
   "source": [
    "R\"j$exec('sum(eye(10)-I)')\""
   ]
  },
  {
   "cell_type": "code",
   "execution_count": 85,
   "metadata": {
    "collapsed": true,
    "slideshow": {
     "slide_type": "fragment"
    }
   },
   "outputs": [],
   "source": [
    "R\"j$stop()\";"
   ]
  },
  {
   "cell_type": "markdown",
   "metadata": {},
   "source": [
    "## Ranges and Generators\n",
    "### (and R interop!)"
   ]
  },
  {
   "cell_type": "code",
   "execution_count": 100,
   "metadata": {},
   "outputs": [
    {
     "data": {
      "text/plain": [
       "1:10000000"
      ]
     },
     "execution_count": 100,
     "metadata": {},
     "output_type": "execute_result"
    }
   ],
   "source": [
    "x = 1:10_000_000"
   ]
  },
  {
   "cell_type": "code",
   "execution_count": 101,
   "metadata": {},
   "outputs": [
    {
     "data": {
      "text/plain": [
       "(UnitRange{Int64}, true)"
      ]
     },
     "execution_count": 101,
     "metadata": {},
     "output_type": "execute_result"
    }
   ],
   "source": [
    "typeof(x), x isa AbstractArray"
   ]
  },
  {
   "cell_type": "code",
   "execution_count": 102,
   "metadata": {},
   "outputs": [
    {
     "data": {
      "text/plain": [
       "5-element Array{Int64,1}:\n",
       " -2\n",
       " -1\n",
       "  0\n",
       "  1\n",
       "  2"
      ]
     },
     "execution_count": 102,
     "metadata": {},
     "output_type": "execute_result"
    }
   ],
   "source": [
    "x = -2:2\n",
    "[x...]"
   ]
  },
  {
   "cell_type": "code",
   "execution_count": 103,
   "metadata": {},
   "outputs": [
    {
     "name": "stdout",
     "output_type": "stream",
     "text": [
      "[1, 2]\n",
      "[1]\n",
      "Int64[]\n"
     ]
    }
   ],
   "source": [
    "println(collect(1:2))\n",
    "println(collect(1:1))\n",
    "println(collect(1:0));"
   ]
  },
  {
   "cell_type": "code",
   "execution_count": 104,
   "metadata": {},
   "outputs": [
    {
     "name": "stdout",
     "output_type": "stream",
     "text": [
      "[1] 1 2\n",
      "[1] 1\n",
      "[1] 1 0\n"
     ]
    }
   ],
   "source": [
    "R\"\"\"\n",
    "print(1:2)\n",
    "print(1:1)\n",
    "print(1:0)\n",
    "\"\"\";"
   ]
  },
  {
   "cell_type": "code",
   "execution_count": 105,
   "metadata": {},
   "outputs": [
    {
     "data": {
      "text/plain": [
       "2-element Array{Int64,1}:\n",
       " 1\n",
       " 0"
      ]
     },
     "execution_count": 105,
     "metadata": {},
     "output_type": "execute_result"
    }
   ],
   "source": [
    "collect(1:-1:0)"
   ]
  },
  {
   "cell_type": "code",
   "execution_count": 106,
   "metadata": {},
   "outputs": [
    {
     "data": {
      "text/plain": [
       "6-element Array{Float64,1}:\n",
       " 1.0\n",
       " 0.8\n",
       " 0.6\n",
       " 0.4\n",
       " 0.2\n",
       " 0.0"
      ]
     },
     "execution_count": 106,
     "metadata": {},
     "output_type": "execute_result"
    }
   ],
   "source": [
    "collect(1:-0.2:0)"
   ]
  },
  {
   "cell_type": "code",
   "execution_count": 107,
   "metadata": {},
   "outputs": [
    {
     "data": {
      "text/plain": [
       "4-element Array{Union{DataType, UnionAll},1}:\n",
       " Base.Use_StepRangeLen_Instead\n",
       " LinSpace                     \n",
       " OrdinalRange                 \n",
       " StepRangeLen                 "
      ]
     },
     "execution_count": 107,
     "metadata": {},
     "output_type": "execute_result"
    }
   ],
   "source": [
    "x = subtypes(Range)"
   ]
  }
 ],
 "metadata": {
  "anaconda-cloud": {},
  "celltoolbar": "Slideshow",
  "kernelspec": {
   "display_name": "Julia 0.6.0",
   "language": "julia",
   "name": "julia-0.6"
  },
  "language_info": {
   "file_extension": ".jl",
   "mimetype": "application/julia",
   "name": "julia",
   "version": "0.6.0"
  }
 },
 "nbformat": 4,
 "nbformat_minor": 2
}
