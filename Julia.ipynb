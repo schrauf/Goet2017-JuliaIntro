{
 "cells": [
  {
   "cell_type": "code",
   "execution_count": null,
   "metadata": {
    "scrolled": true
   },
   "outputs": [],
   "source": [
    "using RCall, StaticArrays, Interact, Plots, PlotlyJS, GR, ApproxFun, StaticArrays, BenchmarkTools"
   ]
  },
  {
   "cell_type": "markdown",
   "metadata": {
    "slideshow": {
     "slide_type": "slide"
    }
   },
   "source": [
    "# Julia: an introduction"
   ]
  },
  {
   "cell_type": "markdown",
   "metadata": {
    "slideshow": {
     "slide_type": "-"
    }
   },
   "source": [
    "Borrowed extensively from\n",
    "\n",
    "- David P. Sanders ([link](https://github.com/dpsanders))\n",
    "- Bogumił Kamiński ([link](https://github.com/bkamins))"
   ]
  },
  {
   "cell_type": "markdown",
   "metadata": {
    "slideshow": {
     "slide_type": "-"
    }
   },
   "source": [
    "#### Göttingen, 18.10.17"
   ]
  },
  {
   "cell_type": "markdown",
   "metadata": {
    "slideshow": {
     "slide_type": "slide"
    }
   },
   "source": [
    "# What is Julia?"
   ]
  },
  {
   "cell_type": "markdown",
   "metadata": {},
   "source": [
    "http://julialang.org/"
   ]
  },
  {
   "cell_type": "markdown",
   "metadata": {},
   "source": [
    "- Programming language "
   ]
  },
  {
   "cell_type": "markdown",
   "metadata": {
    "slideshow": {
     "slide_type": "fragment"
    }
   },
   "source": [
    "- Free and open source (MIT licensed)"
   ]
  },
  {
   "cell_type": "markdown",
   "metadata": {},
   "source": [
    "- Whose design incorporates best ideas from other languages"
   ]
  },
  {
   "cell_type": "markdown",
   "metadata": {
    "slideshow": {
     "slide_type": "fragment"
    }
   },
   "source": [
    "- Interactive but (just in time) compiled"
   ]
  },
  {
   "cell_type": "markdown",
   "metadata": {
    "slideshow": {
     "slide_type": "fragment"
    }
   },
   "source": [
    "- Compiled, therefore fast"
   ]
  },
  {
   "cell_type": "markdown",
   "metadata": {
    "slideshow": {
     "slide_type": "fragment"
    }
   },
   "source": [
    "- Extensible - by writing Julia code"
   ]
  },
  {
   "cell_type": "markdown",
   "metadata": {
    "slideshow": {
     "slide_type": "fragment"
    }
   },
   "source": [
    "- Packages designed to interact with each other"
   ]
  },
  {
   "cell_type": "markdown",
   "metadata": {
    "slideshow": {
     "slide_type": "subslide"
    }
   },
   "source": [
    "Julia allows me to:\n",
    "\n",
    "- Write readable code"
   ]
  },
  {
   "cell_type": "markdown",
   "metadata": {
    "slideshow": {
     "slide_type": "fragment"
    }
   },
   "source": [
    "- That is generic (works with objects of different types)"
   ]
  },
  {
   "cell_type": "markdown",
   "metadata": {
    "slideshow": {
     "slide_type": "fragment"
    }
   },
   "source": [
    "- But is fast"
   ]
  },
  {
   "cell_type": "markdown",
   "metadata": {
    "slideshow": {
     "slide_type": "skip"
    }
   },
   "source": [
    "For an interesting discussion of what makes Julia unique compared to the various attempts to accelerate Python etc., see\n",
    "https://discourse.julialang.org/t/julia-motivation-why-werent-numpy-scipy-numba-good-enough/"
   ]
  },
  {
   "cell_type": "markdown",
   "metadata": {},
   "source": [
    "## Some history"
   ]
  },
  {
   "cell_type": "markdown",
   "metadata": {},
   "source": [
    "- Work on Julia was started in **2009**"
   ]
  },
  {
   "cell_type": "markdown",
   "metadata": {},
   "source": [
    "- On **2012** it had a public website"
   ]
  },
  {
   "cell_type": "markdown",
   "metadata": {},
   "source": [
    "- **JuliaCon**, a yearly conference, first met in **2014**"
   ]
  },
  {
   "cell_type": "markdown",
   "metadata": {},
   "source": [
    "- ~ 250K users"
   ]
  },
  {
   "cell_type": "markdown",
   "metadata": {
    "slideshow": {
     "slide_type": "subslide"
    }
   },
   "source": [
    "### Julia is (not) quite stable (yet)\n",
    "\n",
    "- Yesterday (May-2017): **v0.5**\n",
    "\n",
    "\n",
    "\n",
    "- Today: **v0.6**\n",
    "\n",
    "\n",
    "\n",
    "- Tomorrow: **v1.0** - first long-term stable release"
   ]
  },
  {
   "cell_type": "markdown",
   "metadata": {},
   "source": [
    "# Use in Genetics"
   ]
  },
  {
   "cell_type": "markdown",
   "metadata": {},
   "source": [
    "- BioJulia http://biojulia.net/\n",
    "![biojulia](http://biojulia.net/img/BioJulia_Brand.svg)"
   ]
  },
  {
   "cell_type": "markdown",
   "metadata": {},
   "source": [
    "- Quantitative genetics Triangle Lab http://qtl.rocks/\n",
    "\n",
    "    - _Introduction to Julia for Statistical Genetics_, by Hao Cheng and Rohan Fernando\n",
    "    - _Statistical Methods for Whole Genome Analyses_, by Rohan Fernando"
   ]
  },
  {
   "cell_type": "markdown",
   "metadata": {},
   "source": [
    "- BGLR-Julia https://github.com/gdlc/BGLR.jl"
   ]
  },
  {
   "cell_type": "markdown",
   "metadata": {},
   "source": [
    "# In statistics\n",
    "\n",
    "- JuliaStats http://juliastats.github.io/\n",
    "![juliastats](https://avatars2.githubusercontent.com/u/2761531?v=4&s=200)\n",
    "- MixedModels.jl, by Douglas Bates (nlme, lme4 in R)\n",
    "- A few neural network packages ([Knet.jl](https://github.com/denizyuret/Knet.jl), [MXNet.jl](https://github.com/dmlc/MXNet.jl),...)"
   ]
  },
  {
   "cell_type": "markdown",
   "metadata": {
    "slideshow": {
     "slide_type": "slide"
    }
   },
   "source": [
    "# How to use Julia"
   ]
  },
  {
   "cell_type": "markdown",
   "metadata": {
    "slideshow": {
     "slide_type": "fragment"
    }
   },
   "source": [
    "- **Command line:** Interactive experiments (REPL) and scripts"
   ]
  },
  {
   "cell_type": "markdown",
   "metadata": {
    "slideshow": {
     "slide_type": "fragment"
    }
   },
   "source": [
    "- [Jupyter Notebook](https://jupyter.org): Coherent narrative documents (see keynote)"
   ]
  },
  {
   "cell_type": "markdown",
   "metadata": {
    "slideshow": {
     "slide_type": "fragment"
    }
   },
   "source": [
    "- [Juno](http://junolab.org/): Julia IDE in Atom editor (inline evaluation)"
   ]
  },
  {
   "cell_type": "markdown",
   "metadata": {
    "slideshow": {
     "slide_type": "fragment"
    }
   },
   "source": [
    "- [JuliaBox.com](http://juliabox.com): Online Jupyter Notebook server"
   ]
  },
  {
   "cell_type": "markdown",
   "metadata": {
    "slideshow": {
     "slide_type": "subslide"
    }
   },
   "source": [
    "## Where to get help\n"
   ]
  },
  {
   "cell_type": "markdown",
   "metadata": {
    "slideshow": {
     "slide_type": "fragment"
    }
   },
   "source": [
    "- Interactively (REPL / Juno / IJulia): `?sin`"
   ]
  },
  {
   "cell_type": "code",
   "execution_count": null,
   "metadata": {},
   "outputs": [],
   "source": [
    "?sin"
   ]
  },
  {
   "cell_type": "markdown",
   "metadata": {
    "slideshow": {
     "slide_type": "fragment"
    }
   },
   "source": [
    "- [Julia docs](https://docs.julialang.org/en/stable/)"
   ]
  },
  {
   "cell_type": "markdown",
   "metadata": {},
   "source": [
    "- wiki, kaggle (images), ...?"
   ]
  },
  {
   "cell_type": "markdown",
   "metadata": {
    "slideshow": {
     "slide_type": "fragment"
    }
   },
   "source": [
    "- Google, Stack Overflow"
   ]
  },
  {
   "cell_type": "markdown",
   "metadata": {
    "slideshow": {
     "slide_type": "fragment"
    }
   },
   "source": [
    "- Discourse discussion forum: https://discourse.julialang.org/"
   ]
  },
  {
   "cell_type": "markdown",
   "metadata": {
    "slideshow": {
     "slide_type": "fragment"
    }
   },
   "source": [
    "- Gitter chat room(s):  https://gitter.im/JuliaLang/julia"
   ]
  },
  {
   "cell_type": "markdown",
   "metadata": {},
   "source": [
    "Books tend to get outdated but a good one is:\n",
    "\n",
    "- _Julia for Data Science_, by Ansul Joshi"
   ]
  },
  {
   "cell_type": "markdown",
   "metadata": {},
   "source": [
    "## A Recommendation\n",
    "\n",
    "- Familiarize with the syntax\n",
    "    - Julia Express\n",
    "    - Julia Documentation\n",
    "\n",
    "\n",
    "- Explore packages from your domain area\n",
    "    - JuliaOpt\n",
    "    - JuliaStat\n",
    "    - BioJulia"
   ]
  },
  {
   "cell_type": "markdown",
   "metadata": {},
   "source": [
    "## Some useful packages (I use)\n",
    "\n",
    "- [RCall.jl](https://github.com/JuliaInterop/RCall.jl)\n",
    "- [Plots.jl](https://juliaplots.github.io/)\n",
    "- [HDF5.jl](https://github.com/JuliaIO/HDF5.jl)\n",
    "- [ApproxFun.jl](https://github.com/JuliaApproximation/ApproxFun.jl)\n",
    "- [SymPy.jl](https://github.com/JuliaPy/SymPy.jl)"
   ]
  },
  {
   "cell_type": "markdown",
   "metadata": {},
   "source": [
    "<a id='DetExample'></a>"
   ]
  },
  {
   "cell_type": "markdown",
   "metadata": {
    "slideshow": {
     "slide_type": "slide"
    }
   },
   "source": [
    "## Example 1: derivative of the determinant of a diagonal matrix"
   ]
  },
  {
   "cell_type": "markdown",
   "metadata": {
    "slideshow": {
     "slide_type": "fragment"
    }
   },
   "source": [
    "- Julia is fast"
   ]
  },
  {
   "cell_type": "markdown",
   "metadata": {
    "slideshow": {
     "slide_type": "fragment"
    }
   },
   "source": [
    "- But it can also be very concise"
   ]
  },
  {
   "cell_type": "code",
   "execution_count": null,
   "metadata": {
    "slideshow": {
     "slide_type": "subslide"
    }
   },
   "outputs": [],
   "source": [
    "using SymPy\n",
    "vars = @syms a b c d e f g h i real=true\n",
    "A = reshape([vars...],3,3)"
   ]
  },
  {
   "cell_type": "code",
   "execution_count": null,
   "metadata": {
    "slideshow": {
     "slide_type": "subslide"
    }
   },
   "outputs": [],
   "source": [
    "detA = simplify(det(A))"
   ]
  },
  {
   "cell_type": "code",
   "execution_count": null,
   "metadata": {
    "slideshow": {
     "slide_type": "fragment"
    }
   },
   "outputs": [],
   "source": [
    "dA = diff.(detA,A)"
   ]
  },
  {
   "cell_type": "code",
   "execution_count": null,
   "metadata": {
    "slideshow": {
     "slide_type": "subslide"
    }
   },
   "outputs": [],
   "source": [
    "subs(dA,b=>0,c=>0,d=>0,g=>0,h=>0)"
   ]
  },
  {
   "cell_type": "markdown",
   "metadata": {
    "slideshow": {
     "slide_type": "fragment"
    }
   },
   "source": [
    "![formula](https://wikimedia.org/api/rest_v1/media/math/render/svg/835e914386933faeafc643d130b90e668296479e)\n",
    "https://en.wikipedia.org/wiki/Jacobi's_formula"
   ]
  },
  {
   "cell_type": "markdown",
   "metadata": {
    "slideshow": {
     "slide_type": "slide"
    }
   },
   "source": [
    "# Syntax and General Design"
   ]
  },
  {
   "cell_type": "code",
   "execution_count": null,
   "metadata": {
    "collapsed": true,
    "slideshow": {
     "slide_type": "subslide"
    }
   },
   "outputs": [],
   "source": [
    "x = 1.0 # x is Float64\n",
    "x = 1 # now x is Int32 on 32 bit machine and Int64 on 64 bit machine"
   ]
  },
  {
   "cell_type": "code",
   "execution_count": null,
   "metadata": {
    "collapsed": true,
    "slideshow": {
     "slide_type": "subslide"
    }
   },
   "outputs": [],
   "source": [
    "x = (a = 1; 2 * a) # after: x = 2; a = 1"
   ]
  },
  {
   "cell_type": "code",
   "execution_count": null,
   "metadata": {
    "collapsed": true,
    "slideshow": {
     "slide_type": "fragment"
    }
   },
   "outputs": [],
   "source": [
    "y = begin\n",
    "    b = 3\n",
    "    3 * b\n",
    "end # after: y = 9; b = 3"
   ]
  },
  {
   "cell_type": "code",
   "execution_count": null,
   "metadata": {
    "collapsed": true,
    "slideshow": {
     "slide_type": "subslide"
    }
   },
   "outputs": [],
   "source": [
    "if false # if clause requires Bool test\n",
    "    z = 1\n",
    "elseif 1==2\n",
    "    z = 2\n",
    "else\n",
    "    a = 3\n",
    "end # after this a = 3 and z is undefined"
   ]
  },
  {
   "cell_type": "code",
   "execution_count": null,
   "metadata": {
    "collapsed": true,
    "slideshow": {
     "slide_type": "fragment"
    }
   },
   "outputs": [],
   "source": [
    "1==2 ? \"A\" : \"B\" # standard ternary operator"
   ]
  },
  {
   "cell_type": "code",
   "execution_count": null,
   "metadata": {
    "collapsed": true,
    "slideshow": {
     "slide_type": "subslide"
    }
   },
   "outputs": [],
   "source": [
    "i = 1\n",
    "while true\n",
    "    i += 1\n",
    "    if i > 10\n",
    "        break\n",
    "    end\n",
    "end"
   ]
  },
  {
   "cell_type": "code",
   "execution_count": null,
   "metadata": {
    "collapsed": true,
    "slideshow": {
     "slide_type": "subslide"
    }
   },
   "outputs": [],
   "source": [
    "for x in 1:10 # x in collection, can also use = here instead of in\n",
    "    if 3 < x < 6\n",
    "        continue # skip one iteration\n",
    "    end\n",
    "    println(x)\n",
    "end"
   ]
  },
  {
   "cell_type": "code",
   "execution_count": null,
   "metadata": {
    "collapsed": true,
    "slideshow": {
     "slide_type": "subslide"
    }
   },
   "outputs": [],
   "source": [
    "f(x, y = 10) = x + y # new function f with y defaulting to 10\n",
    "                     # last expression result returned"
   ]
  },
  {
   "cell_type": "code",
   "execution_count": null,
   "metadata": {
    "collapsed": true,
    "slideshow": {
     "slide_type": "fragment"
    }
   },
   "outputs": [],
   "source": [
    "f(3, 2) # simple call, 5 returned"
   ]
  },
  {
   "cell_type": "code",
   "execution_count": null,
   "metadata": {
    "collapsed": true,
    "slideshow": {
     "slide_type": "fragment"
    }
   },
   "outputs": [],
   "source": [
    "f(3) # 13 returned"
   ]
  },
  {
   "cell_type": "code",
   "execution_count": null,
   "metadata": {
    "collapsed": true,
    "slideshow": {
     "slide_type": "subslide"
    }
   },
   "outputs": [],
   "source": [
    "function g(x::Int, y::Int) # type restriction\n",
    "    return y, x            # explicit return of a tuple\n",
    "end"
   ]
  },
  {
   "cell_type": "code",
   "execution_count": null,
   "metadata": {
    "collapsed": true,
    "slideshow": {
     "slide_type": "fragment"
    }
   },
   "outputs": [],
   "source": [
    "g(x::Int, y::Bool) = x * y # add multiple dispatch"
   ]
  },
  {
   "cell_type": "code",
   "execution_count": null,
   "metadata": {
    "collapsed": true,
    "slideshow": {
     "slide_type": "fragment"
    }
   },
   "outputs": [],
   "source": [
    "g(2, true) "
   ]
  },
  {
   "cell_type": "code",
   "execution_count": null,
   "metadata": {
    "collapsed": true,
    "slideshow": {
     "slide_type": "subslide"
    }
   },
   "outputs": [],
   "source": [
    "methods(g) # list all methods defined for g"
   ]
  },
  {
   "cell_type": "code",
   "execution_count": null,
   "metadata": {
    "collapsed": true,
    "slideshow": {
     "slide_type": "subslide"
    }
   },
   "outputs": [],
   "source": [
    "(x -> x^2)(3) # anonymous function with a call"
   ]
  },
  {
   "cell_type": "code",
   "execution_count": null,
   "metadata": {
    "collapsed": true,
    "slideshow": {
     "slide_type": "fragment"
    }
   },
   "outputs": [],
   "source": [
    "() -> 0 # anonymous function with no arguments"
   ]
  },
  {
   "cell_type": "code",
   "execution_count": null,
   "metadata": {
    "collapsed": true,
    "slideshow": {
     "slide_type": "subslide"
    }
   },
   "outputs": [],
   "source": [
    "m = rand(3,4)\n",
    "map(x -> (x > 0) ? x^2 : -x^2, m) # 3x4 array returned with transformed data"
   ]
  },
  {
   "cell_type": "code",
   "execution_count": null,
   "metadata": {
    "collapsed": true,
    "slideshow": {
     "slide_type": "fragment"
    }
   },
   "outputs": [],
   "source": [
    "filter(x -> bits(x)[end] == ’0’, 1:12) # a fancy way to choose even integers from the range"
   ]
  },
  {
   "cell_type": "markdown",
   "metadata": {
    "slideshow": {
     "slide_type": "fragment"
    }
   },
   "source": [
    "- **Convention:** functions with a \"!\" at the end modify their first argument"
   ]
  },
  {
   "cell_type": "markdown",
   "metadata": {
    "collapsed": true,
    "slideshow": {
     "slide_type": "slide"
    }
   },
   "source": [
    "## Basic literals and types"
   ]
  },
  {
   "cell_type": "code",
   "execution_count": null,
   "metadata": {
    "collapsed": true
   },
   "outputs": [],
   "source": [
    "1::Int64 # 64-bit integer, no overflow warnings, fails on 32 bit Julia\n",
    "1.0::Float64 # 64-bit float, defines NaN, -Inf, Inf\n",
    "true::Bool # boolean, allows \"true\" and \"false\"\n",
    "'c'::Char # character, allows Unicode\n",
    "\"s\"::AbstractString # strings, allows Unicode, see also Strings\n",
    "nothing::Void # only instance of Void"
   ]
  },
  {
   "cell_type": "code",
   "execution_count": null,
   "metadata": {
    "slideshow": {
     "slide_type": "subslide"
    }
   },
   "outputs": [],
   "source": [
    "5.0::Int"
   ]
  },
  {
   "cell_type": "code",
   "execution_count": null,
   "metadata": {
    "slideshow": {
     "slide_type": "fragment"
    }
   },
   "outputs": [],
   "source": [
    "x = 0.5\n",
    "x::Float64"
   ]
  },
  {
   "cell_type": "markdown",
   "metadata": {
    "slideshow": {
     "slide_type": "subslide"
    }
   },
   "source": [
    "###### Number type hierarchy"
   ]
  },
  {
   "cell_type": "markdown",
   "metadata": {
    "slideshow": {
     "slide_type": "-"
    }
   },
   "source": [
    "![Hierarchy of numeric types](Hierarchy of numeric types.png)"
   ]
  },
  {
   "cell_type": "code",
   "execution_count": null,
   "metadata": {
    "slideshow": {
     "slide_type": "subslide"
    }
   },
   "outputs": [],
   "source": [
    "e"
   ]
  },
  {
   "cell_type": "code",
   "execution_count": null,
   "metadata": {
    "slideshow": {
     "slide_type": "fragment"
    }
   },
   "outputs": [],
   "source": [
    "typeof(π)"
   ]
  },
  {
   "cell_type": "code",
   "execution_count": null,
   "metadata": {
    "slideshow": {
     "slide_type": "fragment"
    }
   },
   "outputs": [],
   "source": [
    "Float16(e)"
   ]
  },
  {
   "cell_type": "code",
   "execution_count": null,
   "metadata": {
    "slideshow": {
     "slide_type": "fragment"
    }
   },
   "outputs": [],
   "source": [
    "Float64(e)"
   ]
  },
  {
   "cell_type": "code",
   "execution_count": null,
   "metadata": {
    "slideshow": {
     "slide_type": "fragment"
    }
   },
   "outputs": [],
   "source": [
    "BigFloat(e)"
   ]
  },
  {
   "cell_type": "code",
   "execution_count": null,
   "metadata": {
    "slideshow": {
     "slide_type": "subslide"
    }
   },
   "outputs": [],
   "source": [
    "srand(123)\n",
    "X = rand(1000,1000)\n",
    "G = X'X\n",
    "G /= maximum(G)\n",
    "det(G)"
   ]
  },
  {
   "cell_type": "code",
   "execution_count": null,
   "metadata": {
    "slideshow": {
     "slide_type": "fragment"
    }
   },
   "outputs": [],
   "source": [
    "prod(BigFloat.(eigvals(G)))"
   ]
  },
  {
   "cell_type": "code",
   "execution_count": null,
   "metadata": {
    "slideshow": {
     "slide_type": "fragment"
    }
   },
   "outputs": [],
   "source": [
    "sum(log10.(eigvals(G)))"
   ]
  },
  {
   "cell_type": "code",
   "execution_count": null,
   "metadata": {
    "slideshow": {
     "slide_type": "fragment"
    }
   },
   "outputs": [],
   "source": [
    "any(eigvals(G) .<= 0)"
   ]
  },
  {
   "cell_type": "markdown",
   "metadata": {
    "slideshow": {
     "slide_type": "fragment"
    }
   },
   "source": [
    "There are always many ways to do things."
   ]
  },
  {
   "cell_type": "markdown",
   "metadata": {
    "slideshow": {
     "slide_type": "subslide"
    }
   },
   "source": [
    "- Julia is not the solution to your problem."
   ]
  },
  {
   "cell_type": "markdown",
   "metadata": {
    "slideshow": {
     "slide_type": "skip"
    }
   },
   "source": [
    "- There is already an R package (or Python module) for that"
   ]
  },
  {
   "cell_type": "markdown",
   "metadata": {
    "slideshow": {
     "slide_type": "fragment"
    }
   },
   "source": [
    "- it is a tool than can help you re-thinking how you do things"
   ]
  },
  {
   "cell_type": "markdown",
   "metadata": {
    "slideshow": {
     "slide_type": "slide"
    }
   },
   "source": [
    "## Arrays"
   ]
  },
  {
   "cell_type": "markdown",
   "metadata": {
    "slideshow": {
     "slide_type": "fragment"
    }
   },
   "source": [
    "Julia has excellent functionality for manipulating arrays and for linear algebra. We will have a quick look at this subject, which is much more complicated than you might suspect; see e.g. the talk on \"Taking vector transposes seriously\"."
   ]
  },
  {
   "cell_type": "markdown",
   "metadata": {
    "slideshow": {
     "slide_type": "fragment"
    }
   },
   "source": [
    "Let's define a 2x2 array (matrix):"
   ]
  },
  {
   "cell_type": "code",
   "execution_count": null,
   "metadata": {
    "slideshow": {
     "slide_type": "fragment"
    }
   },
   "outputs": [],
   "source": [
    "M = [1 2 3; 4 5 6; 7 8 9]  # a 3x3 matrix"
   ]
  },
  {
   "cell_type": "code",
   "execution_count": null,
   "metadata": {
    "slideshow": {
     "slide_type": "subslide"
    }
   },
   "outputs": [],
   "source": [
    "part = M[2:3, 1:2]"
   ]
  },
  {
   "cell_type": "code",
   "execution_count": null,
   "metadata": {
    "slideshow": {
     "slide_type": "fragment"
    }
   },
   "outputs": [],
   "source": [
    "part[1, 1]"
   ]
  },
  {
   "cell_type": "code",
   "execution_count": null,
   "metadata": {
    "slideshow": {
     "slide_type": "subslide"
    }
   },
   "outputs": [],
   "source": [
    "part[1, 1] = 10"
   ]
  },
  {
   "cell_type": "code",
   "execution_count": null,
   "metadata": {
    "slideshow": {
     "slide_type": "fragment"
    }
   },
   "outputs": [],
   "source": [
    "part"
   ]
  },
  {
   "cell_type": "code",
   "execution_count": null,
   "metadata": {
    "slideshow": {
     "slide_type": "subslide"
    }
   },
   "outputs": [],
   "source": [
    "M"
   ]
  },
  {
   "cell_type": "markdown",
   "metadata": {
    "slideshow": {
     "slide_type": "fragment"
    }
   },
   "source": [
    "We see that `M` has *not* been modified: `part` was a **copy** of that part of `M`."
   ]
  },
  {
   "cell_type": "markdown",
   "metadata": {
    "slideshow": {
     "slide_type": "slide"
    }
   },
   "source": [
    "## Views"
   ]
  },
  {
   "cell_type": "markdown",
   "metadata": {
    "slideshow": {
     "slide_type": "-"
    }
   },
   "source": [
    "We often do *not* want a copy, but rather just a reference to the same data, which is called a `view`: "
   ]
  },
  {
   "cell_type": "code",
   "execution_count": null,
   "metadata": {
    "slideshow": {
     "slide_type": "fragment"
    }
   },
   "outputs": [],
   "source": [
    "V = view(M, 2:3, 1:2)"
   ]
  },
  {
   "cell_type": "code",
   "execution_count": null,
   "metadata": {
    "slideshow": {
     "slide_type": "fragment"
    }
   },
   "outputs": [],
   "source": [
    "typeof(V)"
   ]
  },
  {
   "cell_type": "markdown",
   "metadata": {
    "slideshow": {
     "slide_type": "fragment"
    }
   },
   "source": [
    "Although this type looks complicated, it just contains the necessary information for the object to manipulate correctly the underlying data."
   ]
  },
  {
   "cell_type": "markdown",
   "metadata": {
    "slideshow": {
     "slide_type": "fragment"
    }
   },
   "source": [
    "If we modify `V`, then `M` also gets modified, since it is the same data:"
   ]
  },
  {
   "cell_type": "code",
   "execution_count": null,
   "metadata": {
    "slideshow": {
     "slide_type": "subslide"
    }
   },
   "outputs": [],
   "source": [
    "V[1, 1]"
   ]
  },
  {
   "cell_type": "code",
   "execution_count": null,
   "metadata": {
    "slideshow": {
     "slide_type": "fragment"
    }
   },
   "outputs": [],
   "source": [
    "V[1, 1] = 100"
   ]
  },
  {
   "cell_type": "code",
   "execution_count": null,
   "metadata": {
    "slideshow": {
     "slide_type": "fragment"
    }
   },
   "outputs": [],
   "source": [
    "M"
   ]
  },
  {
   "cell_type": "code",
   "execution_count": null,
   "metadata": {
    "slideshow": {
     "slide_type": "slide"
    }
   },
   "outputs": [],
   "source": [
    "V"
   ]
  },
  {
   "cell_type": "code",
   "execution_count": null,
   "metadata": {
    "slideshow": {
     "slide_type": "fragment"
    }
   },
   "outputs": [],
   "source": [
    "isa(V, AbstractArray)"
   ]
  },
  {
   "cell_type": "code",
   "execution_count": null,
   "metadata": {
    "slideshow": {
     "slide_type": "fragment"
    }
   },
   "outputs": [],
   "source": [
    "subtypes(AbstractArray) # behave 'like' an Array"
   ]
  },
  {
   "cell_type": "code",
   "execution_count": null,
   "metadata": {
    "slideshow": {
     "slide_type": "slide"
    }
   },
   "outputs": [],
   "source": [
    "D = Diagonal(M)"
   ]
  },
  {
   "cell_type": "code",
   "execution_count": null,
   "metadata": {},
   "outputs": [],
   "source": [
    "D.diag"
   ]
  },
  {
   "cell_type": "code",
   "execution_count": null,
   "metadata": {
    "scrolled": true,
    "slideshow": {
     "slide_type": "subslide"
    }
   },
   "outputs": [],
   "source": [
    "@less D * [1,2,3]"
   ]
  },
  {
   "cell_type": "code",
   "execution_count": null,
   "metadata": {},
   "outputs": [],
   "source": [
    "@less Symmetric(rand(10,10))'"
   ]
  },
  {
   "cell_type": "markdown",
   "metadata": {},
   "source": [
    "## In-place and vectorized operations: \"`.`\" (\"pointwise\")"
   ]
  },
  {
   "cell_type": "markdown",
   "metadata": {},
   "source": [
    "Suppose we have two matrices and wish to add one to the other:"
   ]
  },
  {
   "cell_type": "code",
   "execution_count": null,
   "metadata": {
    "collapsed": true
   },
   "outputs": [],
   "source": [
    "A = rand(1000, 1000)\n",
    "B = rand(1000, 1000);"
   ]
  },
  {
   "cell_type": "markdown",
   "metadata": {},
   "source": [
    "Coming from other languages, we might expect to write `A += B`, and indeed this works:"
   ]
  },
  {
   "cell_type": "code",
   "execution_count": null,
   "metadata": {
    "collapsed": true
   },
   "outputs": [],
   "source": [
    "A += B"
   ]
  },
  {
   "cell_type": "markdown",
   "metadata": {},
   "source": [
    "This is just \"syntactic sugar\" (i.e. a cute way of writing) `A = A + B`."
   ]
  },
  {
   "cell_type": "markdown",
   "metadata": {},
   "source": [
    "However, it turns out that this does not do what you think it does, namely \"in-place addition\", in which each element of `A` is updated in place. Rather, it allocates a new temporary object for the result of `A + B`. We can see this:"
   ]
  },
  {
   "cell_type": "code",
   "execution_count": null,
   "metadata": {
    "collapsed": true
   },
   "outputs": [],
   "source": [
    "using BenchmarkTools\n",
    "\n",
    "@btime $A += $B;"
   ]
  },
  {
   "cell_type": "markdown",
   "metadata": {},
   "source": [
    "Note the large amount of allocation here (1,000,000 $\\times$ 8 bytes)"
   ]
  },
  {
   "cell_type": "markdown",
   "metadata": {},
   "source": [
    "The in-place behaviour can be obtained using **pointwise operators**:"
   ]
  },
  {
   "cell_type": "code",
   "execution_count": null,
   "metadata": {
    "collapsed": true
   },
   "outputs": [],
   "source": [
    "A .= A .+ B"
   ]
  },
  {
   "cell_type": "code",
   "execution_count": null,
   "metadata": {
    "collapsed": true
   },
   "outputs": [],
   "source": [
    "@btime A .= A .+ B;"
   ]
  },
  {
   "cell_type": "markdown",
   "metadata": {},
   "source": [
    "Furthermore, we can chain such operations together with no creation of temporaries:"
   ]
  },
  {
   "cell_type": "code",
   "execution_count": null,
   "metadata": {
    "collapsed": true
   },
   "outputs": [],
   "source": [
    "C = rand(1000, 1000)\n",
    "\n",
    "@btime A .+= B + C  # allocates"
   ]
  },
  {
   "cell_type": "code",
   "execution_count": null,
   "metadata": {
    "collapsed": true
   },
   "outputs": [],
   "source": [
    "@btime A .+= B .+ C  # does not allocate"
   ]
  },
  {
   "cell_type": "markdown",
   "metadata": {},
   "source": [
    "See [this blog post by Steven Johnson](https://julialang.org/blog/2017/01/moredots) for more details."
   ]
  },
  {
   "cell_type": "code",
   "execution_count": null,
   "metadata": {
    "collapsed": true
   },
   "outputs": [],
   "source": [
    "module Mod\n",
    "export x # what module exposes for the world\n",
    "    x = 1\n",
    "    y = 2 # hidden variable\n",
    "# load standard packages this way\n",
    "end # M"
   ]
  },
  {
   "cell_type": "code",
   "execution_count": null,
   "metadata": {
    "collapsed": true
   },
   "outputs": [],
   "source": [
    "# load standard packages this way\n",
    "using Mod"
   ]
  },
  {
   "cell_type": "code",
   "execution_count": null,
   "metadata": {
    "collapsed": true
   },
   "outputs": [],
   "source": [
    "x # import all exported variables"
   ]
  },
  {
   "cell_type": "code",
   "execution_count": null,
   "metadata": {
    "collapsed": true
   },
   "outputs": [],
   "source": [
    "Mod.y # direct variable access possible"
   ]
  },
  {
   "cell_type": "markdown",
   "metadata": {},
   "source": [
    "## Efficient small matrices and vectors"
   ]
  },
  {
   "cell_type": "markdown",
   "metadata": {},
   "source": [
    "For small matrices and vectors, the generic vector and matrix code is too slow, since the type does not contain the information on the number of elements contained in the array, so that generic loops are used.\n",
    "\n",
    "The `StaticArrays.jl` package fixes this problem by unrolling operations for small arrays."
   ]
  },
  {
   "cell_type": "code",
   "execution_count": null,
   "metadata": {
    "collapsed": true
   },
   "outputs": [],
   "source": [
    "# Pkg.add(\"StaticArrays\")\n",
    "using StaticArrays, BenchmarkTools"
   ]
  },
  {
   "cell_type": "code",
   "execution_count": null,
   "metadata": {
    "collapsed": true
   },
   "outputs": [],
   "source": [
    "function bench()\n",
    "    x = SVector(1, 2)\n",
    "    y = [1, 2]\n",
    "    \n",
    "    @btime $x + $x\n",
    "    @btime $y + $y\n",
    "end"
   ]
  },
  {
   "cell_type": "code",
   "execution_count": null,
   "metadata": {
    "collapsed": true
   },
   "outputs": [],
   "source": [
    "bench()"
   ]
  },
  {
   "cell_type": "code",
   "execution_count": null,
   "metadata": {
    "collapsed": true
   },
   "outputs": [],
   "source": [
    "x = SVector(1, 2)\n",
    "@code_lowered x + x"
   ]
  },
  {
   "cell_type": "code",
   "execution_count": null,
   "metadata": {
    "collapsed": true
   },
   "outputs": [],
   "source": [
    "@code_typed x + x"
   ]
  },
  {
   "cell_type": "code",
   "execution_count": null,
   "metadata": {
    "collapsed": true
   },
   "outputs": [],
   "source": [
    "@code_llvm x + x"
   ]
  },
  {
   "cell_type": "code",
   "execution_count": null,
   "metadata": {
    "collapsed": true
   },
   "outputs": [],
   "source": [
    "@code_native x + x"
   ]
  },
  {
   "cell_type": "code",
   "execution_count": null,
   "metadata": {
    "collapsed": true
   },
   "outputs": [],
   "source": [
    "y = [1, 2]\n",
    "@code_native y + y"
   ]
  },
  {
   "cell_type": "markdown",
   "metadata": {},
   "source": [
    "## Simulation of Data"
   ]
  },
  {
   "cell_type": "code",
   "execution_count": null,
   "metadata": {
    "collapsed": true
   },
   "outputs": [],
   "source": [
    "using Distributions\n",
    "using StatsBase"
   ]
  },
  {
   "cell_type": "code",
   "execution_count": null,
   "metadata": {
    "collapsed": true
   },
   "outputs": [],
   "source": [
    "n = 10 #number of observations\n",
    "k = 15    #number of covariates\n",
    "\n",
    "varBeta = 0.1\n",
    "varRes  = 1.0\n",
    "\n",
    "x = rand([0,1,2],(n,k))\n",
    "X = [ones(n) x]\n",
    "\n",
    "betaTrue=[1, (randn(k)*sqrt(varBeta))...]\n",
    "y = X*betaTrue .+ randn(n)*sqrt(varRes);"
   ]
  },
  {
   "cell_type": "markdown",
   "metadata": {},
   "source": [
    "## MME"
   ]
  },
  {
   "cell_type": "code",
   "execution_count": null,
   "metadata": {
    "scrolled": false
   },
   "outputs": [],
   "source": [
    "λ=varRes/varBeta\n",
    "d=speye(k+1)\n",
    "d[1,1]=0\n",
    "lhs=X'X+d*λ\n",
    "rhs=X'y\n",
    "sol=lhs\\rhs"
   ]
  },
  {
   "cell_type": "markdown",
   "metadata": {
    "slideshow": {
     "slide_type": "slide"
    }
   },
   "source": [
    "## Random walk example"
   ]
  },
  {
   "cell_type": "markdown",
   "metadata": {
    "slideshow": {
     "slide_type": "fragment"
    }
   },
   "source": [
    "An important model in science (biology, chemistry, physics, etc.) is Brownian motion, or random walk, a model of a molecule moving in a medium."
   ]
  },
  {
   "cell_type": "markdown",
   "metadata": {
    "slideshow": {
     "slide_type": "fragment"
    }
   },
   "source": [
    "The simplest model we can make is a particle jumping at random on the integers. We save the list of consecutive positions in an array."
   ]
  },
  {
   "cell_type": "markdown",
   "metadata": {
    "slideshow": {
     "slide_type": "fragment"
    }
   },
   "source": [
    "We wrap the code in a function in order to make it more general (e.g. to be able to change the number of steps). It turns out that this also makes it (much) more efficient in Julia:"
   ]
  },
  {
   "cell_type": "code",
   "execution_count": 2,
   "metadata": {
    "slideshow": {
     "slide_type": "slide"
    }
   },
   "outputs": [
    {
     "data": {
      "text/plain": [
       "walk"
      ]
     },
     "execution_count": 2,
     "metadata": {},
     "output_type": "execute_result"
    }
   ],
   "source": [
    "\"\"\"\n",
    "    walk(T)\n",
    "\n",
    "Simulate a simple random walk up to time `T`.\n",
    "Returns the trajectory as a `Vector`.\n",
    "\"\"\"\n",
    "function walk(T)\n",
    "    x = 0  # position\n",
    "    trajectory = [x]  # initialise vector\n",
    "    for t in 1:T  # range\n",
    "        if rand() < 0.5\n",
    "            x += 1       # equivalent to `x = x + 1`, i.e. modifies the value of x\n",
    "        else\n",
    "            x -= 1\n",
    "        end        \n",
    "        push!(trajectory, x)  # add the value of `x` to the Vector `trajectory`\n",
    "    end    \n",
    "    return trajectory\n",
    "end"
   ]
  },
  {
   "cell_type": "code",
   "execution_count": 3,
   "metadata": {
    "slideshow": {
     "slide_type": "slide"
    }
   },
   "outputs": [
    {
     "name": "stdout",
     "output_type": "stream",
     "text": [
      "search: \u001b[1mw\u001b[22m\u001b[1ma\u001b[22m\u001b[1ml\u001b[22m\u001b[1mk\u001b[22mdir sho\u001b[1mw\u001b[22m\u001b[1ma\u001b[22m\u001b[1ml\u001b[22ml ro\u001b[1mw\u001b[22mv\u001b[1ma\u001b[22m\u001b[1ml\u001b[22ms is\u001b[1mw\u001b[22mrit\u001b[1ma\u001b[22mb\u001b[1ml\u001b[22me mime\u001b[1mw\u001b[22mrit\u001b[1ma\u001b[22mb\u001b[1ml\u001b[22me \u001b[1mw\u001b[22mhiteb\u001b[1ma\u001b[22m\u001b[1ml\u001b[22mance \u001b[1mw\u001b[22m\u001b[1ma\u001b[22mtch_fi\u001b[1ml\u001b[22me\n",
      "\n"
     ]
    },
    {
     "data": {
      "text/markdown": [
       "```\n",
       "walk(T)\n",
       "```\n",
       "\n",
       "Simulate a simple random walk up to time `T`. Returns the trajectory as a `Vector`.\n"
      ],
      "text/plain": [
       "```\n",
       "walk(T)\n",
       "```\n",
       "\n",
       "Simulate a simple random walk up to time `T`. Returns the trajectory as a `Vector`.\n"
      ]
     },
     "execution_count": 3,
     "metadata": {},
     "output_type": "execute_result"
    }
   ],
   "source": [
    "?walk"
   ]
  },
  {
   "cell_type": "markdown",
   "metadata": {
    "slideshow": {
     "slide_type": "fragment"
    }
   },
   "source": [
    "We call the function and give the calculated data a name:"
   ]
  },
  {
   "cell_type": "code",
   "execution_count": 4,
   "metadata": {},
   "outputs": [
    {
     "data": {
      "text/plain": [
       "11-element Array{Int64,1}:\n",
       "  0\n",
       " -1\n",
       " -2\n",
       " -1\n",
       " -2\n",
       " -1\n",
       " -2\n",
       " -3\n",
       " -4\n",
       " -3\n",
       " -4"
      ]
     },
     "execution_count": 4,
     "metadata": {},
     "output_type": "execute_result"
    }
   ],
   "source": [
    "traj = walk(10)\n",
    "traj"
   ]
  },
  {
   "cell_type": "markdown",
   "metadata": {
    "slideshow": {
     "slide_type": "subslide"
    }
   },
   "source": [
    "We can use `show(traj)` to use less vertical space:"
   ]
  },
  {
   "cell_type": "code",
   "execution_count": 5,
   "metadata": {},
   "outputs": [
    {
     "name": "stdout",
     "output_type": "stream",
     "text": [
      "[0, -1, -2, -1, -2, -1, -2, -3, -4, -3, -4]"
     ]
    }
   ],
   "source": [
    "show(traj)"
   ]
  },
  {
   "cell_type": "markdown",
   "metadata": {
    "slideshow": {
     "slide_type": "slide"
    }
   },
   "source": [
    "## Graphic output"
   ]
  },
  {
   "cell_type": "markdown",
   "metadata": {
    "slideshow": {
     "slide_type": "fragment"
    }
   },
   "source": [
    "- Many Packages\n",
    "    - PyPlot\n",
    "    - GR\n",
    "    - PlotlyJs\n",
    "    - PGFPlots\n",
    "    - UnicodePlots"
   ]
  },
  {
   "cell_type": "markdown",
   "metadata": {
    "slideshow": {
     "slide_type": "fragment"
    }
   },
   "source": [
    "- A MetaPackage: Plots.jl"
   ]
  },
  {
   "cell_type": "markdown",
   "metadata": {
    "slideshow": {
     "slide_type": "subslide"
    }
   },
   "source": [
    "We wish to plot the trajectory $x(t)$ as a function of $t$. \n",
    "\n",
    "We recommen the `Plots.jl` package, which provides a common interface to several plotting \"backends\":"
   ]
  },
  {
   "cell_type": "code",
   "execution_count": 6,
   "metadata": {
    "slideshow": {
     "slide_type": "fragment"
    }
   },
   "outputs": [
    {
     "data": {
      "text/plain": [
       "Plots.GRBackend()"
      ]
     },
     "execution_count": 6,
     "metadata": {},
     "output_type": "execute_result"
    }
   ],
   "source": [
    "using Plots           # load the package in each session\n",
    "gr()   # choose the GR backend"
   ]
  },
  {
   "cell_type": "code",
   "execution_count": 7,
   "metadata": {
    "slideshow": {
     "slide_type": "subslide"
    }
   },
   "outputs": [
    {
     "data": {
      "text/html": [
       "<?xml version=\"1.0\" encoding=\"utf-8\"?>\n",
       "<svg xmlns=\"http://www.w3.org/2000/svg\" xmlns:xlink=\"http://www.w3.org/1999/xlink\" width=\"600\" height=\"400\" viewBox=\"0 0 600 400\">\n",
       "<defs>\n",
       "  <clipPath id=\"clip00\">\n",
       "    <rect x=\"0\" y=\"0\" width=\"600\" height=\"400\"/>\n",
       "  </clipPath>\n",
       "</defs>\n",
       "<polygon clip-path=\"url(#clip00)\" points=\"\n",
       "0,400 600,400 600,0 0,0 \n",
       "  \" fill=\"#ffffff\" fill-opacity=\"1\"/>\n",
       "<defs>\n",
       "  <clipPath id=\"clip01\">\n",
       "    <rect x=\"120\" y=\"0\" width=\"421\" height=\"400\"/>\n",
       "  </clipPath>\n",
       "</defs>\n",
       "<polygon clip-path=\"url(#clip00)\" points=\"\n",
       "39.3701,376.378 592.126,376.378 592.126,7.87402 39.3701,7.87402 \n",
       "  \" fill=\"#ffffff\" fill-opacity=\"1\"/>\n",
       "<defs>\n",
       "  <clipPath id=\"clip02\">\n",
       "    <rect x=\"39\" y=\"7\" width=\"554\" height=\"370\"/>\n",
       "  </clipPath>\n",
       "</defs>\n",
       "<polyline clip-path=\"url(#clip02)\" style=\"stroke:#000000; stroke-width:1; stroke-opacity:0.5; fill:none\" stroke-dasharray=\"1, 2\" points=\"\n",
       "  131.496,370.85 131.496,13.4016 \n",
       "  \"/>\n",
       "<polyline clip-path=\"url(#clip02)\" style=\"stroke:#000000; stroke-width:1; stroke-opacity:0.5; fill:none\" stroke-dasharray=\"1, 2\" points=\"\n",
       "  285.039,370.85 285.039,13.4016 \n",
       "  \"/>\n",
       "<polyline clip-path=\"url(#clip02)\" style=\"stroke:#000000; stroke-width:1; stroke-opacity:0.5; fill:none\" stroke-dasharray=\"1, 2\" points=\"\n",
       "  438.583,370.85 438.583,13.4016 \n",
       "  \"/>\n",
       "<polyline clip-path=\"url(#clip02)\" style=\"stroke:#000000; stroke-width:1; stroke-opacity:0.5; fill:none\" stroke-dasharray=\"1, 2\" points=\"\n",
       "  592.126,370.85 592.126,13.4016 \n",
       "  \"/>\n",
       "<polyline clip-path=\"url(#clip02)\" style=\"stroke:#000000; stroke-width:1; stroke-opacity:0.5; fill:none\" stroke-dasharray=\"1, 2\" points=\"\n",
       "  47.6614,376.378 583.835,376.378 \n",
       "  \"/>\n",
       "<polyline clip-path=\"url(#clip02)\" style=\"stroke:#000000; stroke-width:1; stroke-opacity:0.5; fill:none\" stroke-dasharray=\"1, 2\" points=\"\n",
       "  47.6614,314.961 583.835,314.961 \n",
       "  \"/>\n",
       "<polyline clip-path=\"url(#clip02)\" style=\"stroke:#000000; stroke-width:1; stroke-opacity:0.5; fill:none\" stroke-dasharray=\"1, 2\" points=\"\n",
       "  47.6614,253.543 583.835,253.543 \n",
       "  \"/>\n",
       "<polyline clip-path=\"url(#clip02)\" style=\"stroke:#000000; stroke-width:1; stroke-opacity:0.5; fill:none\" stroke-dasharray=\"1, 2\" points=\"\n",
       "  47.6614,192.126 583.835,192.126 \n",
       "  \"/>\n",
       "<polyline clip-path=\"url(#clip02)\" style=\"stroke:#000000; stroke-width:1; stroke-opacity:0.5; fill:none\" stroke-dasharray=\"1, 2\" points=\"\n",
       "  47.6614,130.709 583.835,130.709 \n",
       "  \"/>\n",
       "<polyline clip-path=\"url(#clip02)\" style=\"stroke:#000000; stroke-width:1; stroke-opacity:0.5; fill:none\" stroke-dasharray=\"1, 2\" points=\"\n",
       "  47.6614,69.2913 583.835,69.2913 \n",
       "  \"/>\n",
       "<polyline clip-path=\"url(#clip02)\" style=\"stroke:#000000; stroke-width:1; stroke-opacity:0.5; fill:none\" stroke-dasharray=\"1, 2\" points=\"\n",
       "  47.6614,7.87402 583.835,7.87402 \n",
       "  \"/>\n",
       "<polyline clip-path=\"url(#clip00)\" style=\"stroke:#000000; stroke-width:1; stroke-opacity:1; fill:none\" points=\"\n",
       "  39.3701,376.378 592.126,376.378 \n",
       "  \"/>\n",
       "<polyline clip-path=\"url(#clip00)\" style=\"stroke:#000000; stroke-width:1; stroke-opacity:1; fill:none\" points=\"\n",
       "  131.496,376.378 131.496,370.85 \n",
       "  \"/>\n",
       "<polyline clip-path=\"url(#clip00)\" style=\"stroke:#000000; stroke-width:1; stroke-opacity:1; fill:none\" points=\"\n",
       "  285.039,376.378 285.039,370.85 \n",
       "  \"/>\n",
       "<polyline clip-path=\"url(#clip00)\" style=\"stroke:#000000; stroke-width:1; stroke-opacity:1; fill:none\" points=\"\n",
       "  438.583,376.378 438.583,370.85 \n",
       "  \"/>\n",
       "<polyline clip-path=\"url(#clip00)\" style=\"stroke:#000000; stroke-width:1; stroke-opacity:1; fill:none\" points=\"\n",
       "  592.126,376.378 592.126,370.85 \n",
       "  \"/>\n",
       "<polyline clip-path=\"url(#clip00)\" style=\"stroke:#000000; stroke-width:1; stroke-opacity:1; fill:none\" points=\"\n",
       "  39.3701,376.378 39.3701,7.87402 \n",
       "  \"/>\n",
       "<polyline clip-path=\"url(#clip00)\" style=\"stroke:#000000; stroke-width:1; stroke-opacity:1; fill:none\" points=\"\n",
       "  39.3701,376.378 47.6614,376.378 \n",
       "  \"/>\n",
       "<polyline clip-path=\"url(#clip00)\" style=\"stroke:#000000; stroke-width:1; stroke-opacity:1; fill:none\" points=\"\n",
       "  39.3701,314.961 47.6614,314.961 \n",
       "  \"/>\n",
       "<polyline clip-path=\"url(#clip00)\" style=\"stroke:#000000; stroke-width:1; stroke-opacity:1; fill:none\" points=\"\n",
       "  39.3701,253.543 47.6614,253.543 \n",
       "  \"/>\n",
       "<polyline clip-path=\"url(#clip00)\" style=\"stroke:#000000; stroke-width:1; stroke-opacity:1; fill:none\" points=\"\n",
       "  39.3701,192.126 47.6614,192.126 \n",
       "  \"/>\n",
       "<polyline clip-path=\"url(#clip00)\" style=\"stroke:#000000; stroke-width:1; stroke-opacity:1; fill:none\" points=\"\n",
       "  39.3701,130.709 47.6614,130.709 \n",
       "  \"/>\n",
       "<polyline clip-path=\"url(#clip00)\" style=\"stroke:#000000; stroke-width:1; stroke-opacity:1; fill:none\" points=\"\n",
       "  39.3701,69.2913 47.6614,69.2913 \n",
       "  \"/>\n",
       "<polyline clip-path=\"url(#clip00)\" style=\"stroke:#000000; stroke-width:1; stroke-opacity:1; fill:none\" points=\"\n",
       "  39.3701,7.87402 47.6614,7.87402 \n",
       "  \"/>\n",
       "<g clip-path=\"url(#clip00)\">\n",
       "<text style=\"fill:#000000; fill-opacity:1; font-family:Arial,Helvetica Neue,Helvetica,sans-serif; font-size:12; text-anchor:middle;\" transform=\"rotate(0, 131.496, 390.178)\" x=\"131.496\" y=\"390.178\">2.5</text>\n",
       "</g>\n",
       "<g clip-path=\"url(#clip00)\">\n",
       "<text style=\"fill:#000000; fill-opacity:1; font-family:Arial,Helvetica Neue,Helvetica,sans-serif; font-size:12; text-anchor:middle;\" transform=\"rotate(0, 285.039, 390.178)\" x=\"285.039\" y=\"390.178\">5.0</text>\n",
       "</g>\n",
       "<g clip-path=\"url(#clip00)\">\n",
       "<text style=\"fill:#000000; fill-opacity:1; font-family:Arial,Helvetica Neue,Helvetica,sans-serif; font-size:12; text-anchor:middle;\" transform=\"rotate(0, 438.583, 390.178)\" x=\"438.583\" y=\"390.178\">7.5</text>\n",
       "</g>\n",
       "<g clip-path=\"url(#clip00)\">\n",
       "<text style=\"fill:#000000; fill-opacity:1; font-family:Arial,Helvetica Neue,Helvetica,sans-serif; font-size:12; text-anchor:middle;\" transform=\"rotate(0, 592.126, 390.178)\" x=\"592.126\" y=\"390.178\">10.0</text>\n",
       "</g>\n",
       "<g clip-path=\"url(#clip00)\">\n",
       "<text style=\"fill:#000000; fill-opacity:1; font-family:Arial,Helvetica Neue,Helvetica,sans-serif; font-size:12; text-anchor:end;\" transform=\"rotate(0, 33.3701, 380.878)\" x=\"33.3701\" y=\"380.878\">-1.0</text>\n",
       "</g>\n",
       "<g clip-path=\"url(#clip00)\">\n",
       "<text style=\"fill:#000000; fill-opacity:1; font-family:Arial,Helvetica Neue,Helvetica,sans-serif; font-size:12; text-anchor:end;\" transform=\"rotate(0, 33.3701, 319.461)\" x=\"33.3701\" y=\"319.461\">-0.5</text>\n",
       "</g>\n",
       "<g clip-path=\"url(#clip00)\">\n",
       "<text style=\"fill:#000000; fill-opacity:1; font-family:Arial,Helvetica Neue,Helvetica,sans-serif; font-size:12; text-anchor:end;\" transform=\"rotate(0, 33.3701, 258.043)\" x=\"33.3701\" y=\"258.043\">0.0</text>\n",
       "</g>\n",
       "<g clip-path=\"url(#clip00)\">\n",
       "<text style=\"fill:#000000; fill-opacity:1; font-family:Arial,Helvetica Neue,Helvetica,sans-serif; font-size:12; text-anchor:end;\" transform=\"rotate(0, 33.3701, 196.626)\" x=\"33.3701\" y=\"196.626\">0.5</text>\n",
       "</g>\n",
       "<g clip-path=\"url(#clip00)\">\n",
       "<text style=\"fill:#000000; fill-opacity:1; font-family:Arial,Helvetica Neue,Helvetica,sans-serif; font-size:12; text-anchor:end;\" transform=\"rotate(0, 33.3701, 135.209)\" x=\"33.3701\" y=\"135.209\">1.0</text>\n",
       "</g>\n",
       "<g clip-path=\"url(#clip00)\">\n",
       "<text style=\"fill:#000000; fill-opacity:1; font-family:Arial,Helvetica Neue,Helvetica,sans-serif; font-size:12; text-anchor:end;\" transform=\"rotate(0, 33.3701, 73.7913)\" x=\"33.3701\" y=\"73.7913\">1.5</text>\n",
       "</g>\n",
       "<g clip-path=\"url(#clip00)\">\n",
       "<text style=\"fill:#000000; fill-opacity:1; font-family:Arial,Helvetica Neue,Helvetica,sans-serif; font-size:12; text-anchor:end;\" transform=\"rotate(0, 33.3701, 12.374)\" x=\"33.3701\" y=\"12.374\">2.0</text>\n",
       "</g>\n",
       "<polyline clip-path=\"url(#clip02)\" style=\"stroke:#009af9; stroke-width:1; stroke-opacity:1; fill:none\" points=\"\n",
       "  39.3701,253.543 100.787,376.378 162.205,253.543 223.622,376.378 285.039,253.543 346.457,376.378 407.874,253.543 469.291,130.709 530.709,253.543 592.126,130.709 \n",
       "  \n",
       "  \"/>\n",
       "<polyline clip-path=\"url(#clip02)\" style=\"stroke:#000000; stroke-width:2; stroke-opacity:1; fill:none\" stroke-dasharray=\"8, 5\" points=\"\n",
       "  39.3701,253.543 592.126,253.543 \n",
       "  \"/>\n",
       "<polygon clip-path=\"url(#clip00)\" points=\"\n",
       "501.61,74.114 574.126,74.114 574.126,28.754 501.61,28.754 \n",
       "  \" fill=\"#ffffff\" fill-opacity=\"1\"/>\n",
       "<polyline clip-path=\"url(#clip00)\" style=\"stroke:#000000; stroke-width:1; stroke-opacity:1; fill:none\" points=\"\n",
       "  501.61,74.114 574.126,74.114 574.126,28.754 501.61,28.754 501.61,74.114 \n",
       "  \"/>\n",
       "<polyline clip-path=\"url(#clip00)\" style=\"stroke:#009af9; stroke-width:1; stroke-opacity:1; fill:none\" points=\"\n",
       "  507.61,43.874 543.61,43.874 \n",
       "  \"/>\n",
       "<g clip-path=\"url(#clip00)\">\n",
       "<text style=\"fill:#000000; fill-opacity:1; font-family:Arial,Helvetica Neue,Helvetica,sans-serif; font-size:12; text-anchor:start;\" transform=\"rotate(0, 549.61, 48.374)\" x=\"549.61\" y=\"48.374\">y1</text>\n",
       "</g>\n",
       "<polyline clip-path=\"url(#clip00)\" style=\"stroke:#000000; stroke-width:2; stroke-opacity:1; fill:none\" stroke-dasharray=\"8, 5\" points=\"\n",
       "  507.61,58.994 543.61,58.994 \n",
       "  \"/>\n",
       "<g clip-path=\"url(#clip00)\">\n",
       "<text style=\"fill:#000000; fill-opacity:1; font-family:Arial,Helvetica Neue,Helvetica,sans-serif; font-size:12; text-anchor:start;\" transform=\"rotate(0, 549.61, 63.494)\" x=\"549.61\" y=\"63.494\">y2</text>\n",
       "</g>\n",
       "</svg>\n"
      ]
     },
     "execution_count": 7,
     "metadata": {},
     "output_type": "execute_result"
    }
   ],
   "source": [
    "T = 10\n",
    "plot(1:T, walk(T))  # vector of x coordinates, and vector of y coordinates\n",
    "\n",
    "hline!([0], c=:black, ls=:dash, lw=2)  # add dashed horizontal line to plot"
   ]
  },
  {
   "cell_type": "markdown",
   "metadata": {
    "slideshow": {
     "slide_type": "subslide"
    }
   },
   "source": [
    "Let's draw a few walks:"
   ]
  },
  {
   "cell_type": "code",
   "execution_count": 8,
   "metadata": {
    "scrolled": false
   },
   "outputs": [
    {
     "data": {
      "text/html": [
       "<?xml version=\"1.0\" encoding=\"utf-8\"?>\n",
       "<svg xmlns=\"http://www.w3.org/2000/svg\" xmlns:xlink=\"http://www.w3.org/1999/xlink\" width=\"600\" height=\"400\" viewBox=\"0 0 600 400\">\n",
       "<defs>\n",
       "  <clipPath id=\"clip00\">\n",
       "    <rect x=\"0\" y=\"0\" width=\"600\" height=\"400\"/>\n",
       "  </clipPath>\n",
       "</defs>\n",
       "<polygon clip-path=\"url(#clip00)\" points=\"\n",
       "0,400 600,400 600,0 0,0 \n",
       "  \" fill=\"#ffffff\" fill-opacity=\"1\"/>\n",
       "<defs>\n",
       "  <clipPath id=\"clip01\">\n",
       "    <rect x=\"120\" y=\"0\" width=\"421\" height=\"400\"/>\n",
       "  </clipPath>\n",
       "</defs>\n",
       "<polygon clip-path=\"url(#clip00)\" points=\"\n",
       "39.3701,376.378 592.126,376.378 592.126,7.87402 39.3701,7.87402 \n",
       "  \" fill=\"#ffffff\" fill-opacity=\"1\"/>\n",
       "<defs>\n",
       "  <clipPath id=\"clip02\">\n",
       "    <rect x=\"39\" y=\"7\" width=\"554\" height=\"370\"/>\n",
       "  </clipPath>\n",
       "</defs>\n",
       "<polyline clip-path=\"url(#clip02)\" style=\"stroke:#000000; stroke-width:1; stroke-opacity:0.5; fill:none\" stroke-dasharray=\"1, 2\" points=\"\n",
       "  210.915,370.85 210.915,13.4016 \n",
       "  \"/>\n",
       "<polyline clip-path=\"url(#clip02)\" style=\"stroke:#000000; stroke-width:1; stroke-opacity:0.5; fill:none\" stroke-dasharray=\"1, 2\" points=\"\n",
       "  401.52,370.85 401.52,13.4016 \n",
       "  \"/>\n",
       "<polyline clip-path=\"url(#clip02)\" style=\"stroke:#000000; stroke-width:1; stroke-opacity:0.5; fill:none\" stroke-dasharray=\"1, 2\" points=\"\n",
       "  592.126,370.85 592.126,13.4016 \n",
       "  \"/>\n",
       "<polyline clip-path=\"url(#clip02)\" style=\"stroke:#000000; stroke-width:1; stroke-opacity:0.5; fill:none\" stroke-dasharray=\"1, 2\" points=\"\n",
       "  47.6614,357.953 583.835,357.953 \n",
       "  \"/>\n",
       "<polyline clip-path=\"url(#clip02)\" style=\"stroke:#000000; stroke-width:1; stroke-opacity:0.5; fill:none\" stroke-dasharray=\"1, 2\" points=\"\n",
       "  47.6614,265.827 583.835,265.827 \n",
       "  \"/>\n",
       "<polyline clip-path=\"url(#clip02)\" style=\"stroke:#000000; stroke-width:1; stroke-opacity:0.5; fill:none\" stroke-dasharray=\"1, 2\" points=\"\n",
       "  47.6614,173.701 583.835,173.701 \n",
       "  \"/>\n",
       "<polyline clip-path=\"url(#clip02)\" style=\"stroke:#000000; stroke-width:1; stroke-opacity:0.5; fill:none\" stroke-dasharray=\"1, 2\" points=\"\n",
       "  47.6614,81.5748 583.835,81.5748 \n",
       "  \"/>\n",
       "<polyline clip-path=\"url(#clip00)\" style=\"stroke:#000000; stroke-width:1; stroke-opacity:1; fill:none\" points=\"\n",
       "  39.3701,376.378 592.126,376.378 \n",
       "  \"/>\n",
       "<polyline clip-path=\"url(#clip00)\" style=\"stroke:#000000; stroke-width:1; stroke-opacity:1; fill:none\" points=\"\n",
       "  210.915,376.378 210.915,370.85 \n",
       "  \"/>\n",
       "<polyline clip-path=\"url(#clip00)\" style=\"stroke:#000000; stroke-width:1; stroke-opacity:1; fill:none\" points=\"\n",
       "  401.52,376.378 401.52,370.85 \n",
       "  \"/>\n",
       "<polyline clip-path=\"url(#clip00)\" style=\"stroke:#000000; stroke-width:1; stroke-opacity:1; fill:none\" points=\"\n",
       "  592.126,376.378 592.126,370.85 \n",
       "  \"/>\n",
       "<polyline clip-path=\"url(#clip00)\" style=\"stroke:#000000; stroke-width:1; stroke-opacity:1; fill:none\" points=\"\n",
       "  39.3701,376.378 39.3701,7.87402 \n",
       "  \"/>\n",
       "<polyline clip-path=\"url(#clip00)\" style=\"stroke:#000000; stroke-width:1; stroke-opacity:1; fill:none\" points=\"\n",
       "  39.3701,357.953 47.6614,357.953 \n",
       "  \"/>\n",
       "<polyline clip-path=\"url(#clip00)\" style=\"stroke:#000000; stroke-width:1; stroke-opacity:1; fill:none\" points=\"\n",
       "  39.3701,265.827 47.6614,265.827 \n",
       "  \"/>\n",
       "<polyline clip-path=\"url(#clip00)\" style=\"stroke:#000000; stroke-width:1; stroke-opacity:1; fill:none\" points=\"\n",
       "  39.3701,173.701 47.6614,173.701 \n",
       "  \"/>\n",
       "<polyline clip-path=\"url(#clip00)\" style=\"stroke:#000000; stroke-width:1; stroke-opacity:1; fill:none\" points=\"\n",
       "  39.3701,81.5748 47.6614,81.5748 \n",
       "  \"/>\n",
       "<g clip-path=\"url(#clip00)\">\n",
       "<text style=\"fill:#000000; fill-opacity:1; font-family:Arial,Helvetica Neue,Helvetica,sans-serif; font-size:12; text-anchor:middle;\" transform=\"rotate(0, 210.915, 390.178)\" x=\"210.915\" y=\"390.178\">10</text>\n",
       "</g>\n",
       "<g clip-path=\"url(#clip00)\">\n",
       "<text style=\"fill:#000000; fill-opacity:1; font-family:Arial,Helvetica Neue,Helvetica,sans-serif; font-size:12; text-anchor:middle;\" transform=\"rotate(0, 401.52, 390.178)\" x=\"401.52\" y=\"390.178\">20</text>\n",
       "</g>\n",
       "<g clip-path=\"url(#clip00)\">\n",
       "<text style=\"fill:#000000; fill-opacity:1; font-family:Arial,Helvetica Neue,Helvetica,sans-serif; font-size:12; text-anchor:middle;\" transform=\"rotate(0, 592.126, 390.178)\" x=\"592.126\" y=\"390.178\">30</text>\n",
       "</g>\n",
       "<g clip-path=\"url(#clip00)\">\n",
       "<text style=\"fill:#000000; fill-opacity:1; font-family:Arial,Helvetica Neue,Helvetica,sans-serif; font-size:12; text-anchor:end;\" transform=\"rotate(0, 33.3701, 362.453)\" x=\"33.3701\" y=\"362.453\">-10</text>\n",
       "</g>\n",
       "<g clip-path=\"url(#clip00)\">\n",
       "<text style=\"fill:#000000; fill-opacity:1; font-family:Arial,Helvetica Neue,Helvetica,sans-serif; font-size:12; text-anchor:end;\" transform=\"rotate(0, 33.3701, 270.327)\" x=\"33.3701\" y=\"270.327\">-5</text>\n",
       "</g>\n",
       "<g clip-path=\"url(#clip00)\">\n",
       "<text style=\"fill:#000000; fill-opacity:1; font-family:Arial,Helvetica Neue,Helvetica,sans-serif; font-size:12; text-anchor:end;\" transform=\"rotate(0, 33.3701, 178.201)\" x=\"33.3701\" y=\"178.201\">0</text>\n",
       "</g>\n",
       "<g clip-path=\"url(#clip00)\">\n",
       "<text style=\"fill:#000000; fill-opacity:1; font-family:Arial,Helvetica Neue,Helvetica,sans-serif; font-size:12; text-anchor:end;\" transform=\"rotate(0, 33.3701, 86.0748)\" x=\"33.3701\" y=\"86.0748\">5</text>\n",
       "</g>\n",
       "<polyline clip-path=\"url(#clip02)\" style=\"stroke:#009af9; stroke-width:1; stroke-opacity:1; fill:none\" points=\"\n",
       "  39.3701,173.701 58.4306,155.276 77.4912,136.85 96.5517,155.276 115.612,173.701 134.673,192.126 153.733,173.701 172.794,192.126 191.854,173.701 210.915,155.276 \n",
       "  229.976,136.85 249.036,155.276 268.097,173.701 287.157,192.126 306.218,173.701 325.278,192.126 344.339,210.551 363.399,192.126 382.46,173.701 401.52,155.276 \n",
       "  420.581,173.701 439.642,155.276 458.702,136.85 477.763,118.425 496.823,136.85 515.884,155.276 534.944,173.701 554.005,192.126 573.065,210.551 592.126,192.126 \n",
       "  \n",
       "  \"/>\n",
       "<polyline clip-path=\"url(#clip02)\" style=\"stroke:#e26f46; stroke-width:1; stroke-opacity:1; fill:none\" points=\"\n",
       "  39.3701,173.701 58.4306,192.126 77.4912,173.701 96.5517,155.276 115.612,136.85 134.673,155.276 153.733,173.701 172.794,192.126 191.854,173.701 210.915,155.276 \n",
       "  229.976,136.85 249.036,155.276 268.097,173.701 287.157,192.126 306.218,210.551 325.278,192.126 344.339,173.701 363.399,192.126 382.46,173.701 401.52,155.276 \n",
       "  420.581,173.701 439.642,155.276 458.702,136.85 477.763,155.276 496.823,173.701 515.884,155.276 534.944,136.85 554.005,118.425 573.065,136.85 592.126,118.425 \n",
       "  \n",
       "  \"/>\n",
       "<polyline clip-path=\"url(#clip02)\" style=\"stroke:#3da44d; stroke-width:1; stroke-opacity:1; fill:none\" points=\"\n",
       "  39.3701,173.701 58.4306,192.126 77.4912,210.551 96.5517,228.976 115.612,210.551 134.673,192.126 153.733,210.551 172.794,192.126 191.854,173.701 210.915,155.276 \n",
       "  229.976,173.701 249.036,192.126 268.097,173.701 287.157,192.126 306.218,210.551 325.278,192.126 344.339,173.701 363.399,192.126 382.46,210.551 401.52,192.126 \n",
       "  420.581,173.701 439.642,155.276 458.702,136.85 477.763,155.276 496.823,173.701 515.884,192.126 534.944,173.701 554.005,155.276 573.065,173.701 592.126,155.276 \n",
       "  \n",
       "  \"/>\n",
       "<polyline clip-path=\"url(#clip02)\" style=\"stroke:#c271d2; stroke-width:1; stroke-opacity:1; fill:none\" points=\"\n",
       "  39.3701,173.701 58.4306,192.126 77.4912,173.701 96.5517,155.276 115.612,173.701 134.673,155.276 153.733,173.701 172.794,155.276 191.854,136.85 210.915,118.425 \n",
       "  229.976,136.85 249.036,155.276 268.097,136.85 287.157,118.425 306.218,100 325.278,118.425 344.339,136.85 363.399,118.425 382.46,100 401.52,118.425 \n",
       "  420.581,100 439.642,118.425 458.702,100 477.763,81.5748 496.823,63.1496 515.884,44.7244 534.944,26.2992 554.005,44.7244 573.065,26.2992 592.126,7.87402 \n",
       "  \n",
       "  \"/>\n",
       "<polyline clip-path=\"url(#clip02)\" style=\"stroke:#ac8d18; stroke-width:1; stroke-opacity:1; fill:none\" points=\"\n",
       "  39.3701,173.701 58.4306,192.126 77.4912,210.551 96.5517,192.126 115.612,210.551 134.673,228.976 153.733,210.551 172.794,228.976 191.854,247.402 210.915,228.976 \n",
       "  229.976,247.402 249.036,265.827 268.097,284.252 287.157,302.677 306.218,321.102 325.278,339.528 344.339,321.102 363.399,302.677 382.46,321.102 401.52,339.528 \n",
       "  420.581,321.102 439.642,302.677 458.702,321.102 477.763,339.528 496.823,357.953 515.884,339.528 534.944,357.953 554.005,376.378 573.065,357.953 592.126,339.528 \n",
       "  \n",
       "  \"/>\n",
       "<polyline clip-path=\"url(#clip02)\" style=\"stroke:#00a9ad; stroke-width:1; stroke-opacity:1; fill:none\" points=\"\n",
       "  39.3701,173.701 58.4306,192.126 77.4912,173.701 96.5517,155.276 115.612,136.85 134.673,118.425 153.733,136.85 172.794,155.276 191.854,136.85 210.915,155.276 \n",
       "  229.976,173.701 249.036,155.276 268.097,136.85 287.157,155.276 306.218,136.85 325.278,155.276 344.339,173.701 363.399,192.126 382.46,210.551 401.52,192.126 \n",
       "  420.581,173.701 439.642,155.276 458.702,173.701 477.763,192.126 496.823,210.551 515.884,192.126 534.944,173.701 554.005,192.126 573.065,173.701 592.126,192.126 \n",
       "  \n",
       "  \"/>\n",
       "<polyline clip-path=\"url(#clip02)\" style=\"stroke:#ed5d92; stroke-width:1; stroke-opacity:1; fill:none\" points=\"\n",
       "  39.3701,173.701 58.4306,155.276 77.4912,173.701 96.5517,155.276 115.612,173.701 134.673,155.276 153.733,173.701 172.794,192.126 191.854,173.701 210.915,192.126 \n",
       "  229.976,210.551 249.036,192.126 268.097,210.551 287.157,228.976 306.218,210.551 325.278,192.126 344.339,210.551 363.399,192.126 382.46,210.551 401.52,192.126 \n",
       "  420.581,210.551 439.642,228.976 458.702,247.402 477.763,228.976 496.823,210.551 515.884,228.976 534.944,210.551 554.005,192.126 573.065,173.701 592.126,155.276 \n",
       "  \n",
       "  \"/>\n",
       "<polyline clip-path=\"url(#clip02)\" style=\"stroke:#c68125; stroke-width:1; stroke-opacity:1; fill:none\" points=\"\n",
       "  39.3701,173.701 58.4306,192.126 77.4912,210.551 96.5517,192.126 115.612,210.551 134.673,228.976 153.733,247.402 172.794,265.827 191.854,247.402 210.915,265.827 \n",
       "  229.976,284.252 249.036,265.827 268.097,284.252 287.157,265.827 306.218,247.402 325.278,228.976 344.339,247.402 363.399,265.827 382.46,247.402 401.52,265.827 \n",
       "  420.581,247.402 439.642,228.976 458.702,210.551 477.763,192.126 496.823,173.701 515.884,192.126 534.944,173.701 554.005,192.126 573.065,173.701 592.126,192.126 \n",
       "  \n",
       "  \"/>\n",
       "<polyline clip-path=\"url(#clip02)\" style=\"stroke:#00a98d; stroke-width:1; stroke-opacity:1; fill:none\" points=\"\n",
       "  39.3701,173.701 58.4306,155.276 77.4912,136.85 96.5517,155.276 115.612,173.701 134.673,192.126 153.733,173.701 172.794,155.276 191.854,136.85 210.915,155.276 \n",
       "  229.976,136.85 249.036,118.425 268.097,136.85 287.157,155.276 306.218,173.701 325.278,155.276 344.339,136.85 363.399,118.425 382.46,100 401.52,81.5748 \n",
       "  420.581,100 439.642,81.5748 458.702,63.1496 477.763,44.7244 496.823,63.1496 515.884,81.5748 534.944,63.1496 554.005,44.7244 573.065,63.1496 592.126,44.7244 \n",
       "  \n",
       "  \"/>\n",
       "<polyline clip-path=\"url(#clip02)\" style=\"stroke:#8e971d; stroke-width:1; stroke-opacity:1; fill:none\" points=\"\n",
       "  39.3701,173.701 58.4306,192.126 77.4912,210.551 96.5517,192.126 115.612,210.551 134.673,192.126 153.733,210.551 172.794,192.126 191.854,210.551 210.915,192.126 \n",
       "  229.976,173.701 249.036,155.276 268.097,136.85 287.157,118.425 306.218,100 325.278,81.5748 344.339,100 363.399,81.5748 382.46,100 401.52,118.425 \n",
       "  420.581,136.85 439.642,118.425 458.702,100 477.763,81.5748 496.823,63.1496 515.884,44.7244 534.944,26.2992 554.005,44.7244 573.065,63.1496 592.126,81.5748 \n",
       "  \n",
       "  \"/>\n",
       "<polyline clip-path=\"url(#clip02)\" style=\"stroke:#000000; stroke-width:2; stroke-opacity:1; fill:none\" stroke-dasharray=\"8, 5\" points=\"\n",
       "  39.3701,173.701 592.126,173.701 \n",
       "  \"/>\n",
       "</svg>\n"
      ]
     },
     "execution_count": 8,
     "metadata": {},
     "output_type": "execute_result"
    }
   ],
   "source": [
    "T = 30  # maximum time\n",
    "N = 10  # number of walks\n",
    "\n",
    "plot(legend=false)  # make empty plot with no legend\n",
    "\n",
    "for i in 1:N\n",
    "    plot!(1:T, walk(T))   # ! means \"add to plot\"\n",
    "end\n",
    "\n",
    "hline!([0], c=:black, ls=:dash, lw=2)  # add"
   ]
  },
  {
   "cell_type": "code",
   "execution_count": 9,
   "metadata": {
    "slideshow": {
     "slide_type": "subslide"
    }
   },
   "outputs": [
    {
     "data": {
      "text/html": [
       "<div id=\"interact-js-shim\">\n",
       "    <script charset=\"utf-8\">\n",
       "(function (IPython, $, _, MathJax) {\n",
       "    $.event.special.destroyed = {\n",
       "\tremove: function(o) {\n",
       "\t    if (o.handler) {\n",
       "\t\to.handler.apply(this, arguments)\n",
       "\t    }\n",
       "\t}\n",
       "    }\n",
       "\n",
       "    var OutputArea = IPython.version >= \"4.0.0\" ? require(\"notebook/js/outputarea\").OutputArea : IPython.OutputArea;\n",
       "\n",
       "    var redrawValue = function (container, type, val) {\n",
       "\tvar selector = $(\"<div/>\");\n",
       "\tvar oa = new OutputArea(_.extend(selector, {\n",
       "\t    selector: selector,\n",
       "\t    prompt_area: true,\n",
       "\t    events: IPython.events,\n",
       "\t    keyboard_manager: IPython.keyboard_manager\n",
       "\t})); // Hack to work with IPython 2.1.0\n",
       "\n",
       "\tswitch (type) {\n",
       "\tcase \"image/png\":\n",
       "            var _src = 'data:' + type + ';base64,' + val;\n",
       "\t    $(container).find(\"img\").attr('src', _src);\n",
       "\t    break;\n",
       "\tcase \"text/latex\":\n",
       "\t\tif (MathJax){\n",
       "\t\t\tvar math = MathJax.Hub.getAllJax(container)[0];\n",
       "\t\t\tMathJax.Hub.Queue([\"Text\", math, val.replace(/^\\${1,2}|\\${1,2}$/g, '')]);\n",
       "\t\t\tbreak;\n",
       "\t\t}\n",
       "\tdefault:\n",
       "\t    var toinsert = OutputArea.append_map[type].apply(\n",
       "\t\toa, [val, {}, selector]\n",
       "\t    );\n",
       "\t    $(container).empty().append(toinsert.contents());\n",
       "\t    selector.remove();\n",
       "\t}\n",
       "    }\n",
       "\n",
       "\n",
       "    $(document).ready(function() {\n",
       "\tfunction initComm(evt, data) {\n",
       "\t    var comm_manager = data.kernel.comm_manager;\n",
       "        //_.extend(comm_manager.targets, require(\"widgets/js/widget\"))\n",
       "\t    comm_manager.register_target(\"Signal\", function (comm) {\n",
       "            comm.on_msg(function (msg) {\n",
       "                var val = msg.content.data.value;\n",
       "                $(\".signal-\" + comm.comm_id).each(function() {\n",
       "                var type = $(this).data(\"type\");\n",
       "                if (typeof(val[type]) !== \"undefined\" && val[type] !== null) {\n",
       "                    redrawValue(this, type, val[type], type);\n",
       "                }\n",
       "                });\n",
       "                delete val;\n",
       "                delete msg.content.data.value;\n",
       "            });\n",
       "\t    });\n",
       "\n",
       "\t    // coordingate with Comm and redraw Signals\n",
       "\t    // XXX: Test using Reactive here to improve performance\n",
       "\t    $([IPython.events]).on(\n",
       "\t\t'output_appended.OutputArea', function (event, type, value, md, toinsert) {\n",
       "\t\t    if (md && md.reactive) {\n",
       "                // console.log(md.comm_id);\n",
       "                toinsert.addClass(\"signal-\" + md.comm_id);\n",
       "                toinsert.data(\"type\", type);\n",
       "                // Signal back indicating the mimetype required\n",
       "                var comm_manager = IPython.notebook.kernel.comm_manager;\n",
       "                var comm = comm_manager.comms[md.comm_id];\n",
       "                comm.then(function (c) {\n",
       "                    c.send({action: \"subscribe_mime\",\n",
       "                       mime: type});\n",
       "                    toinsert.bind(\"destroyed\", function() {\n",
       "                        c.send({action: \"unsubscribe_mime\",\n",
       "                               mime: type});\n",
       "                    });\n",
       "                })\n",
       "\t\t    }\n",
       "\t    });\n",
       "\t}\n",
       "\n",
       "\ttry {\n",
       "\t    // try to initialize right away. otherwise, wait on the status_started event.\n",
       "\t    initComm(undefined, IPython.notebook);\n",
       "\t} catch (e) {\n",
       "\t    $([IPython.events]).on('kernel_created.Kernel kernel_created.Session', initComm);\n",
       "\t}\n",
       "    });\n",
       "})(IPython, jQuery, _, MathJax);\n",
       "</script>\n",
       "    <script>\n",
       "        window.interactLoadedFlag = true\n",
       "       $(\"#interact-js-shim\").bind(\"destroyed\", function () {\n",
       "           if (window.interactLoadedFlag) {\n",
       "               console.warn(\"JavaScript required by Interact will be removed if you remove this cell or run using Interact more than once.\")\n",
       "           }\n",
       "       })\n",
       "       $([IPython.events]).on(\"kernel_starting.Kernel kernel_restarting.Kernel\", function () { window.interactLoadedFlag = false })\n",
       "   </script>\n",
       "</div>"
      ]
     },
     "metadata": {},
     "output_type": "display_data"
    }
   ],
   "source": [
    "using Interact"
   ]
  },
  {
   "cell_type": "code",
   "execution_count": 10,
   "metadata": {},
   "outputs": [
    {
     "data": {
      "text/html": [],
      "text/plain": [
       "Interact.Options{:SelectionSlider,Int64}(1: \"input\" = 50 Int64 , \"T\", 50, \"50\", Interact.OptionDict(DataStructures.OrderedDict(\"1\"=>1,\"2\"=>2,\"3\"=>3,\"4\"=>4,\"5\"=>5,\"6\"=>6,\"7\"=>7,\"8\"=>8,\"9\"=>9,\"10\"=>10…), Dict(68=>\"68\",2=>\"2\",89=>\"89\",11=>\"11\",39=>\"39\",46=>\"46\",85=>\"85\",25=>\"25\",55=>\"55\",42=>\"42\"…)), Any[], Any[], true, \"horizontal\")"
      ]
     },
     "metadata": {},
     "output_type": "display_data"
    },
    {
     "data": {
      "text/html": [],
      "text/plain": [
       "Interact.Options{:SelectionSlider,Int64}(3: \"input-2\" = 500 Int64 , \"N\", 500, \"500\", Interact.OptionDict(DataStructures.OrderedDict(\"1\"=>1,\"2\"=>2,\"3\"=>3,\"4\"=>4,\"5\"=>5,\"6\"=>6,\"7\"=>7,\"8\"=>8,\"9\"=>9,\"10\"=>10…), Dict(306=>\"306\",29=>\"29\",74=>\"74\",905=>\"905\",176=>\"176\",892=>\"892\",285=>\"285\",318=>\"318\",873=>\"873\",975=>\"975\"…)), Any[], Any[], true, \"horizontal\")"
      ]
     },
     "metadata": {},
     "output_type": "display_data"
    },
    {
     "data": {
      "text/html": [
       "<?xml version=\"1.0\" encoding=\"utf-8\"?>\n",
       "<svg xmlns=\"http://www.w3.org/2000/svg\" xmlns:xlink=\"http://www.w3.org/1999/xlink\" width=\"600\" height=\"400\" viewBox=\"0 0 600 400\">\n",
       "<defs>\n",
       "  <clipPath id=\"clip00\">\n",
       "    <rect x=\"0\" y=\"0\" width=\"600\" height=\"400\"/>\n",
       "  </clipPath>\n",
       "</defs>\n",
       "<polygon clip-path=\"url(#clip00)\" points=\"\n",
       "0,400 600,400 600,0 0,0 \n",
       "  \" fill=\"#ffffff\" fill-opacity=\"1\"/>\n",
       "<defs>\n",
       "  <clipPath id=\"clip01\">\n",
       "    <rect x=\"120\" y=\"0\" width=\"421\" height=\"400\"/>\n",
       "  </clipPath>\n",
       "</defs>\n",
       "<polygon clip-path=\"url(#clip00)\" points=\"\n",
       "39.3701,376.378 592.126,376.378 592.126,7.87402 39.3701,7.87402 \n",
       "  \" fill=\"#ffffff\" fill-opacity=\"1\"/>\n",
       "<defs>\n",
       "  <clipPath id=\"clip02\">\n",
       "    <rect x=\"39\" y=\"7\" width=\"554\" height=\"370\"/>\n",
       "  </clipPath>\n",
       "</defs>\n",
       "<polyline clip-path=\"url(#clip02)\" style=\"stroke:#000000; stroke-width:1; stroke-opacity:0.5; fill:none\" stroke-dasharray=\"1, 2\" points=\"\n",
       "  39.3701,370.85 39.3701,13.4016 \n",
       "  \"/>\n",
       "<polyline clip-path=\"url(#clip02)\" style=\"stroke:#000000; stroke-width:1; stroke-opacity:0.5; fill:none\" stroke-dasharray=\"1, 2\" points=\"\n",
       "  149.921,370.85 149.921,13.4016 \n",
       "  \"/>\n",
       "<polyline clip-path=\"url(#clip02)\" style=\"stroke:#000000; stroke-width:1; stroke-opacity:0.5; fill:none\" stroke-dasharray=\"1, 2\" points=\"\n",
       "  260.472,370.85 260.472,13.4016 \n",
       "  \"/>\n",
       "<polyline clip-path=\"url(#clip02)\" style=\"stroke:#000000; stroke-width:1; stroke-opacity:0.5; fill:none\" stroke-dasharray=\"1, 2\" points=\"\n",
       "  371.024,370.85 371.024,13.4016 \n",
       "  \"/>\n",
       "<polyline clip-path=\"url(#clip02)\" style=\"stroke:#000000; stroke-width:1; stroke-opacity:0.5; fill:none\" stroke-dasharray=\"1, 2\" points=\"\n",
       "  481.575,370.85 481.575,13.4016 \n",
       "  \"/>\n",
       "<polyline clip-path=\"url(#clip02)\" style=\"stroke:#000000; stroke-width:1; stroke-opacity:0.5; fill:none\" stroke-dasharray=\"1, 2\" points=\"\n",
       "  592.126,370.85 592.126,13.4016 \n",
       "  \"/>\n",
       "<polyline clip-path=\"url(#clip02)\" style=\"stroke:#000000; stroke-width:1; stroke-opacity:0.5; fill:none\" stroke-dasharray=\"1, 2\" points=\"\n",
       "  47.6614,376.378 583.835,376.378 \n",
       "  \"/>\n",
       "<polyline clip-path=\"url(#clip02)\" style=\"stroke:#000000; stroke-width:1; stroke-opacity:0.5; fill:none\" stroke-dasharray=\"1, 2\" points=\"\n",
       "  47.6614,284.252 583.835,284.252 \n",
       "  \"/>\n",
       "<polyline clip-path=\"url(#clip02)\" style=\"stroke:#000000; stroke-width:1; stroke-opacity:0.5; fill:none\" stroke-dasharray=\"1, 2\" points=\"\n",
       "  47.6614,192.126 583.835,192.126 \n",
       "  \"/>\n",
       "<polyline clip-path=\"url(#clip02)\" style=\"stroke:#000000; stroke-width:1; stroke-opacity:0.5; fill:none\" stroke-dasharray=\"1, 2\" points=\"\n",
       "  47.6614,100 583.835,100 \n",
       "  \"/>\n",
       "<polyline clip-path=\"url(#clip02)\" style=\"stroke:#000000; stroke-width:1; stroke-opacity:0.5; fill:none\" stroke-dasharray=\"1, 2\" points=\"\n",
       "  47.6614,7.87402 583.835,7.87402 \n",
       "  \"/>\n",
       "<polyline clip-path=\"url(#clip00)\" style=\"stroke:#000000; stroke-width:1; stroke-opacity:1; fill:none\" points=\"\n",
       "  39.3701,376.378 592.126,376.378 \n",
       "  \"/>\n",
       "<polyline clip-path=\"url(#clip00)\" style=\"stroke:#000000; stroke-width:1; stroke-opacity:1; fill:none\" points=\"\n",
       "  39.3701,376.378 39.3701,370.85 \n",
       "  \"/>\n",
       "<polyline clip-path=\"url(#clip00)\" style=\"stroke:#000000; stroke-width:1; stroke-opacity:1; fill:none\" points=\"\n",
       "  149.921,376.378 149.921,370.85 \n",
       "  \"/>\n",
       "<polyline clip-path=\"url(#clip00)\" style=\"stroke:#000000; stroke-width:1; stroke-opacity:1; fill:none\" points=\"\n",
       "  260.472,376.378 260.472,370.85 \n",
       "  \"/>\n",
       "<polyline clip-path=\"url(#clip00)\" style=\"stroke:#000000; stroke-width:1; stroke-opacity:1; fill:none\" points=\"\n",
       "  371.024,376.378 371.024,370.85 \n",
       "  \"/>\n",
       "<polyline clip-path=\"url(#clip00)\" style=\"stroke:#000000; stroke-width:1; stroke-opacity:1; fill:none\" points=\"\n",
       "  481.575,376.378 481.575,370.85 \n",
       "  \"/>\n",
       "<polyline clip-path=\"url(#clip00)\" style=\"stroke:#000000; stroke-width:1; stroke-opacity:1; fill:none\" points=\"\n",
       "  592.126,376.378 592.126,370.85 \n",
       "  \"/>\n",
       "<polyline clip-path=\"url(#clip00)\" style=\"stroke:#000000; stroke-width:1; stroke-opacity:1; fill:none\" points=\"\n",
       "  39.3701,376.378 39.3701,7.87402 \n",
       "  \"/>\n",
       "<polyline clip-path=\"url(#clip00)\" style=\"stroke:#000000; stroke-width:1; stroke-opacity:1; fill:none\" points=\"\n",
       "  39.3701,376.378 47.6614,376.378 \n",
       "  \"/>\n",
       "<polyline clip-path=\"url(#clip00)\" style=\"stroke:#000000; stroke-width:1; stroke-opacity:1; fill:none\" points=\"\n",
       "  39.3701,284.252 47.6614,284.252 \n",
       "  \"/>\n",
       "<polyline clip-path=\"url(#clip00)\" style=\"stroke:#000000; stroke-width:1; stroke-opacity:1; fill:none\" points=\"\n",
       "  39.3701,192.126 47.6614,192.126 \n",
       "  \"/>\n",
       "<polyline clip-path=\"url(#clip00)\" style=\"stroke:#000000; stroke-width:1; stroke-opacity:1; fill:none\" points=\"\n",
       "  39.3701,100 47.6614,100 \n",
       "  \"/>\n",
       "<polyline clip-path=\"url(#clip00)\" style=\"stroke:#000000; stroke-width:1; stroke-opacity:1; fill:none\" points=\"\n",
       "  39.3701,7.87402 47.6614,7.87402 \n",
       "  \"/>\n",
       "<g clip-path=\"url(#clip00)\">\n",
       "<text style=\"fill:#000000; fill-opacity:1; font-family:Arial,Helvetica Neue,Helvetica,sans-serif; font-size:12; text-anchor:middle;\" transform=\"rotate(0, 39.3701, 390.178)\" x=\"39.3701\" y=\"390.178\">0</text>\n",
       "</g>\n",
       "<g clip-path=\"url(#clip00)\">\n",
       "<text style=\"fill:#000000; fill-opacity:1; font-family:Arial,Helvetica Neue,Helvetica,sans-serif; font-size:12; text-anchor:middle;\" transform=\"rotate(0, 149.921, 390.178)\" x=\"149.921\" y=\"390.178\">20</text>\n",
       "</g>\n",
       "<g clip-path=\"url(#clip00)\">\n",
       "<text style=\"fill:#000000; fill-opacity:1; font-family:Arial,Helvetica Neue,Helvetica,sans-serif; font-size:12; text-anchor:middle;\" transform=\"rotate(0, 260.472, 390.178)\" x=\"260.472\" y=\"390.178\">40</text>\n",
       "</g>\n",
       "<g clip-path=\"url(#clip00)\">\n",
       "<text style=\"fill:#000000; fill-opacity:1; font-family:Arial,Helvetica Neue,Helvetica,sans-serif; font-size:12; text-anchor:middle;\" transform=\"rotate(0, 371.024, 390.178)\" x=\"371.024\" y=\"390.178\">60</text>\n",
       "</g>\n",
       "<g clip-path=\"url(#clip00)\">\n",
       "<text style=\"fill:#000000; fill-opacity:1; font-family:Arial,Helvetica Neue,Helvetica,sans-serif; font-size:12; text-anchor:middle;\" transform=\"rotate(0, 481.575, 390.178)\" x=\"481.575\" y=\"390.178\">80</text>\n",
       "</g>\n",
       "<g clip-path=\"url(#clip00)\">\n",
       "<text style=\"fill:#000000; fill-opacity:1; font-family:Arial,Helvetica Neue,Helvetica,sans-serif; font-size:12; text-anchor:middle;\" transform=\"rotate(0, 592.126, 390.178)\" x=\"592.126\" y=\"390.178\">100</text>\n",
       "</g>\n",
       "<g clip-path=\"url(#clip00)\">\n",
       "<text style=\"fill:#000000; fill-opacity:1; font-family:Arial,Helvetica Neue,Helvetica,sans-serif; font-size:12; text-anchor:end;\" transform=\"rotate(0, 33.3701, 380.878)\" x=\"33.3701\" y=\"380.878\">-50</text>\n",
       "</g>\n",
       "<g clip-path=\"url(#clip00)\">\n",
       "<text style=\"fill:#000000; fill-opacity:1; font-family:Arial,Helvetica Neue,Helvetica,sans-serif; font-size:12; text-anchor:end;\" transform=\"rotate(0, 33.3701, 288.752)\" x=\"33.3701\" y=\"288.752\">-25</text>\n",
       "</g>\n",
       "<g clip-path=\"url(#clip00)\">\n",
       "<text style=\"fill:#000000; fill-opacity:1; font-family:Arial,Helvetica Neue,Helvetica,sans-serif; font-size:12; text-anchor:end;\" transform=\"rotate(0, 33.3701, 196.626)\" x=\"33.3701\" y=\"196.626\">0</text>\n",
       "</g>\n",
       "<g clip-path=\"url(#clip00)\">\n",
       "<text style=\"fill:#000000; fill-opacity:1; font-family:Arial,Helvetica Neue,Helvetica,sans-serif; font-size:12; text-anchor:end;\" transform=\"rotate(0, 33.3701, 104.5)\" x=\"33.3701\" y=\"104.5\">25</text>\n",
       "</g>\n",
       "<g clip-path=\"url(#clip00)\">\n",
       "<text style=\"fill:#000000; fill-opacity:1; font-family:Arial,Helvetica Neue,Helvetica,sans-serif; font-size:12; text-anchor:end;\" transform=\"rotate(0, 33.3701, 12.374)\" x=\"33.3701\" y=\"12.374\">50</text>\n",
       "</g>\n",
       "<polyline clip-path=\"url(#clip02)\" style=\"stroke:#009af9; stroke-width:1; stroke-opacity:1; fill:none\" points=\"\n",
       "  44.8976,192.126 50.4252,188.441 55.9528,184.756 61.4803,181.071 67.0079,177.386 72.5354,181.071 78.063,184.756 83.5906,188.441 89.1181,192.126 94.6457,188.441 \n",
       "  100.173,192.126 105.701,195.811 111.228,192.126 116.756,195.811 122.283,192.126 127.811,195.811 133.339,192.126 138.866,188.441 144.394,184.756 149.921,188.441 \n",
       "  155.449,184.756 160.976,181.071 166.504,177.386 172.031,181.071 177.559,177.386 183.087,173.701 188.614,177.386 194.142,173.701 199.669,170.016 205.197,166.331 \n",
       "  210.724,162.646 216.252,166.331 221.78,170.016 227.307,166.331 232.835,162.646 238.362,158.961 243.89,162.646 249.417,166.331 254.945,162.646 260.472,158.961 \n",
       "  266,162.646 271.528,166.331 277.055,170.016 282.583,173.701 288.11,170.016 293.638,173.701 299.165,170.016 304.693,173.701 310.22,170.016 315.748,166.331 \n",
       "  \n",
       "  \"/>\n",
       "<polyline clip-path=\"url(#clip02)\" style=\"stroke:#e26f46; stroke-width:1; stroke-opacity:1; fill:none\" points=\"\n",
       "  44.8976,192.126 50.4252,195.811 55.9528,192.126 61.4803,188.441 67.0079,184.756 72.5354,181.071 78.063,184.756 83.5906,181.071 89.1181,184.756 94.6457,188.441 \n",
       "  100.173,192.126 105.701,195.811 111.228,199.496 116.756,203.181 122.283,199.496 127.811,203.181 133.339,206.866 138.866,210.551 144.394,206.866 149.921,203.181 \n",
       "  155.449,199.496 160.976,203.181 166.504,199.496 172.031,203.181 177.559,206.866 183.087,210.551 188.614,206.866 194.142,210.551 199.669,214.236 205.197,210.551 \n",
       "  210.724,214.236 216.252,210.551 221.78,214.236 227.307,217.921 232.835,214.236 238.362,210.551 243.89,206.866 249.417,203.181 254.945,199.496 260.472,203.181 \n",
       "  266,206.866 271.528,210.551 277.055,206.866 282.583,210.551 288.11,214.236 293.638,210.551 299.165,214.236 304.693,217.921 310.22,221.606 315.748,225.291 \n",
       "  \n",
       "  \"/>\n",
       "<polyline clip-path=\"url(#clip02)\" style=\"stroke:#3da44d; stroke-width:1; stroke-opacity:1; fill:none\" points=\"\n",
       "  44.8976,192.126 50.4252,188.441 55.9528,184.756 61.4803,181.071 67.0079,184.756 72.5354,188.441 78.063,184.756 83.5906,181.071 89.1181,177.386 94.6457,181.071 \n",
       "  100.173,177.386 105.701,173.701 111.228,170.016 116.756,173.701 122.283,177.386 127.811,173.701 133.339,177.386 138.866,181.071 144.394,177.386 149.921,181.071 \n",
       "  155.449,177.386 160.976,181.071 166.504,177.386 172.031,173.701 177.559,177.386 183.087,181.071 188.614,184.756 194.142,188.441 199.669,192.126 205.197,188.441 \n",
       "  210.724,184.756 216.252,188.441 221.78,184.756 227.307,188.441 232.835,184.756 238.362,181.071 243.89,177.386 249.417,181.071 254.945,177.386 260.472,181.071 \n",
       "  266,184.756 271.528,181.071 277.055,177.386 282.583,173.701 288.11,170.016 293.638,173.701 299.165,177.386 304.693,181.071 310.22,184.756 315.748,188.441 \n",
       "  \n",
       "  \"/>\n",
       "<polyline clip-path=\"url(#clip02)\" style=\"stroke:#c271d2; stroke-width:1; stroke-opacity:1; fill:none\" points=\"\n",
       "  44.8976,192.126 50.4252,188.441 55.9528,192.126 61.4803,195.811 67.0079,199.496 72.5354,203.181 78.063,199.496 83.5906,203.181 89.1181,206.866 94.6457,203.181 \n",
       "  100.173,206.866 105.701,210.551 111.228,206.866 116.756,210.551 122.283,206.866 127.811,203.181 133.339,206.866 138.866,203.181 144.394,199.496 149.921,195.811 \n",
       "  155.449,192.126 160.976,188.441 166.504,184.756 172.031,181.071 177.559,177.386 183.087,173.701 188.614,177.386 194.142,181.071 199.669,184.756 205.197,181.071 \n",
       "  210.724,184.756 216.252,188.441 221.78,184.756 227.307,188.441 232.835,184.756 238.362,188.441 243.89,184.756 249.417,181.071 254.945,184.756 260.472,188.441 \n",
       "  266,192.126 271.528,195.811 277.055,199.496 282.583,195.811 288.11,192.126 293.638,195.811 299.165,199.496 304.693,195.811 310.22,192.126 315.748,195.811 \n",
       "  \n",
       "  \"/>\n",
       "<polyline clip-path=\"url(#clip02)\" style=\"stroke:#ac8d18; stroke-width:1; stroke-opacity:1; fill:none\" points=\"\n",
       "  44.8976,192.126 50.4252,188.441 55.9528,192.126 61.4803,195.811 67.0079,199.496 72.5354,195.811 78.063,199.496 83.5906,203.181 89.1181,206.866 94.6457,203.181 \n",
       "  100.173,206.866 105.701,203.181 111.228,199.496 116.756,195.811 122.283,199.496 127.811,203.181 133.339,206.866 138.866,203.181 144.394,206.866 149.921,203.181 \n",
       "  155.449,199.496 160.976,203.181 166.504,206.866 172.031,210.551 177.559,214.236 183.087,217.921 188.614,221.606 194.142,217.921 199.669,214.236 205.197,210.551 \n",
       "  210.724,214.236 216.252,217.921 221.78,214.236 227.307,210.551 232.835,214.236 238.362,217.921 243.89,221.606 249.417,217.921 254.945,214.236 260.472,217.921 \n",
       "  266,221.606 271.528,217.921 277.055,214.236 282.583,210.551 288.11,206.866 293.638,210.551 299.165,214.236 304.693,210.551 310.22,214.236 315.748,217.921 \n",
       "  \n",
       "  \"/>\n",
       "<polyline clip-path=\"url(#clip02)\" style=\"stroke:#00a9ad; stroke-width:1; stroke-opacity:1; fill:none\" points=\"\n",
       "  44.8976,192.126 50.4252,188.441 55.9528,184.756 61.4803,188.441 67.0079,184.756 72.5354,188.441 78.063,192.126 83.5906,188.441 89.1181,184.756 94.6457,188.441 \n",
       "  100.173,192.126 105.701,188.441 111.228,184.756 116.756,181.071 122.283,177.386 127.811,181.071 133.339,184.756 138.866,188.441 144.394,192.126 149.921,195.811 \n",
       "  155.449,192.126 160.976,195.811 166.504,192.126 172.031,195.811 177.559,199.496 183.087,195.811 188.614,199.496 194.142,195.811 199.669,192.126 205.197,188.441 \n",
       "  210.724,184.756 216.252,181.071 221.78,184.756 227.307,188.441 232.835,192.126 238.362,195.811 243.89,199.496 249.417,203.181 254.945,199.496 260.472,203.181 \n",
       "  266,206.866 271.528,203.181 277.055,206.866 282.583,203.181 288.11,199.496 293.638,203.181 299.165,199.496 304.693,203.181 310.22,199.496 315.748,203.181 \n",
       "  \n",
       "  \"/>\n",
       "<polyline clip-path=\"url(#clip02)\" style=\"stroke:#ed5d92; stroke-width:1; stroke-opacity:1; fill:none\" points=\"\n",
       "  44.8976,192.126 50.4252,195.811 55.9528,199.496 61.4803,203.181 67.0079,206.866 72.5354,210.551 78.063,206.866 83.5906,210.551 89.1181,206.866 94.6457,203.181 \n",
       "  100.173,199.496 105.701,203.181 111.228,199.496 116.756,203.181 122.283,199.496 127.811,203.181 133.339,199.496 138.866,195.811 144.394,192.126 149.921,195.811 \n",
       "  155.449,199.496 160.976,203.181 166.504,199.496 172.031,195.811 177.559,199.496 183.087,195.811 188.614,199.496 194.142,195.811 199.669,192.126 205.197,195.811 \n",
       "  210.724,199.496 216.252,203.181 221.78,199.496 227.307,195.811 232.835,199.496 238.362,195.811 243.89,192.126 249.417,188.441 254.945,184.756 260.472,181.071 \n",
       "  266,177.386 271.528,173.701 277.055,177.386 282.583,181.071 288.11,184.756 293.638,188.441 299.165,184.756 304.693,181.071 310.22,184.756 315.748,188.441 \n",
       "  \n",
       "  \"/>\n",
       "<polyline clip-path=\"url(#clip02)\" style=\"stroke:#c68125; stroke-width:1; stroke-opacity:1; fill:none\" points=\"\n",
       "  44.8976,192.126 50.4252,188.441 55.9528,184.756 61.4803,181.071 67.0079,184.756 72.5354,188.441 78.063,192.126 83.5906,188.441 89.1181,192.126 94.6457,188.441 \n",
       "  100.173,184.756 105.701,188.441 111.228,192.126 116.756,188.441 122.283,192.126 127.811,188.441 133.339,192.126 138.866,188.441 144.394,184.756 149.921,188.441 \n",
       "  155.449,184.756 160.976,188.441 166.504,192.126 172.031,195.811 177.559,192.126 183.087,188.441 188.614,184.756 194.142,181.071 199.669,177.386 205.197,173.701 \n",
       "  210.724,177.386 216.252,181.071 221.78,184.756 227.307,181.071 232.835,184.756 238.362,188.441 243.89,192.126 249.417,195.811 254.945,192.126 260.472,188.441 \n",
       "  266,192.126 271.528,195.811 277.055,199.496 282.583,203.181 288.11,206.866 293.638,210.551 299.165,206.866 304.693,203.181 310.22,199.496 315.748,203.181 \n",
       "  \n",
       "  \"/>\n",
       "<polyline clip-path=\"url(#clip02)\" style=\"stroke:#00a98d; stroke-width:1; stroke-opacity:1; fill:none\" points=\"\n",
       "  44.8976,192.126 50.4252,195.811 55.9528,199.496 61.4803,195.811 67.0079,192.126 72.5354,195.811 78.063,192.126 83.5906,195.811 89.1181,199.496 94.6457,203.181 \n",
       "  100.173,199.496 105.701,203.181 111.228,199.496 116.756,195.811 122.283,199.496 127.811,195.811 133.339,192.126 138.866,188.441 144.394,192.126 149.921,188.441 \n",
       "  155.449,184.756 160.976,188.441 166.504,184.756 172.031,181.071 177.559,184.756 183.087,188.441 188.614,192.126 194.142,195.811 199.669,199.496 205.197,195.811 \n",
       "  210.724,192.126 216.252,195.811 221.78,192.126 227.307,188.441 232.835,192.126 238.362,195.811 243.89,192.126 249.417,195.811 254.945,192.126 260.472,188.441 \n",
       "  266,192.126 271.528,195.811 277.055,199.496 282.583,203.181 288.11,199.496 293.638,203.181 299.165,206.866 304.693,203.181 310.22,199.496 315.748,203.181 \n",
       "  \n",
       "  \"/>\n",
       "<polyline clip-path=\"url(#clip02)\" style=\"stroke:#8e971d; stroke-width:1; stroke-opacity:1; fill:none\" points=\"\n",
       "  44.8976,192.126 50.4252,188.441 55.9528,192.126 61.4803,188.441 67.0079,192.126 72.5354,195.811 78.063,199.496 83.5906,203.181 89.1181,199.496 94.6457,203.181 \n",
       "  100.173,199.496 105.701,195.811 111.228,199.496 116.756,195.811 122.283,192.126 127.811,188.441 133.339,184.756 138.866,181.071 144.394,184.756 149.921,181.071 \n",
       "  155.449,184.756 160.976,181.071 166.504,177.386 172.031,173.701 177.559,170.016 183.087,166.331 188.614,170.016 194.142,166.331 199.669,162.646 205.197,158.961 \n",
       "  210.724,155.276 216.252,158.961 221.78,155.276 227.307,158.961 232.835,155.276 238.362,151.591 243.89,155.276 249.417,151.591 254.945,147.906 260.472,144.22 \n",
       "  266,140.535 271.528,144.22 277.055,147.906 282.583,151.591 288.11,147.906 293.638,144.22 299.165,147.906 304.693,144.22 310.22,147.906 315.748,151.591 \n",
       "  \n",
       "  \"/>\n",
       "<polyline clip-path=\"url(#clip02)\" style=\"stroke:#00a8cb; stroke-width:1; stroke-opacity:1; fill:none\" points=\"\n",
       "  44.8976,192.126 50.4252,195.811 55.9528,192.126 61.4803,188.441 67.0079,184.756 72.5354,188.441 78.063,192.126 83.5906,195.811 89.1181,192.126 94.6457,195.811 \n",
       "  100.173,199.496 105.701,203.181 111.228,199.496 116.756,203.181 122.283,199.496 127.811,195.811 133.339,199.496 138.866,195.811 144.394,192.126 149.921,188.441 \n",
       "  155.449,192.126 160.976,195.811 166.504,192.126 172.031,188.441 177.559,192.126 183.087,195.811 188.614,199.496 194.142,203.181 199.669,206.866 205.197,203.181 \n",
       "  210.724,206.866 216.252,203.181 221.78,199.496 227.307,203.181 232.835,206.866 238.362,203.181 243.89,199.496 249.417,195.811 254.945,192.126 260.472,188.441 \n",
       "  266,184.756 271.528,188.441 277.055,184.756 282.583,188.441 288.11,192.126 293.638,188.441 299.165,192.126 304.693,195.811 310.22,192.126 315.748,188.441 \n",
       "  \n",
       "  \"/>\n",
       "<polyline clip-path=\"url(#clip02)\" style=\"stroke:#9b7fe8; stroke-width:1; stroke-opacity:1; fill:none\" points=\"\n",
       "  44.8976,192.126 50.4252,188.441 55.9528,184.756 61.4803,181.071 67.0079,177.386 72.5354,181.071 78.063,184.756 83.5906,188.441 89.1181,192.126 94.6457,188.441 \n",
       "  100.173,184.756 105.701,181.071 111.228,177.386 116.756,173.701 122.283,170.016 127.811,173.701 133.339,170.016 138.866,173.701 144.394,170.016 149.921,166.331 \n",
       "  155.449,170.016 160.976,173.701 166.504,177.386 172.031,181.071 177.559,177.386 183.087,173.701 188.614,170.016 194.142,166.331 199.669,162.646 205.197,166.331 \n",
       "  210.724,162.646 216.252,166.331 221.78,162.646 227.307,158.961 232.835,155.276 238.362,158.961 243.89,155.276 249.417,151.591 254.945,155.276 260.472,151.591 \n",
       "  266,147.906 271.528,144.22 277.055,140.535 282.583,136.85 288.11,140.535 293.638,144.22 299.165,147.906 304.693,144.22 310.22,140.535 315.748,136.85 \n",
       "  \n",
       "  \"/>\n",
       "<polyline clip-path=\"url(#clip02)\" style=\"stroke:#608cf6; stroke-width:1; stroke-opacity:1; fill:none\" points=\"\n",
       "  44.8976,192.126 50.4252,188.441 55.9528,192.126 61.4803,188.441 67.0079,192.126 72.5354,195.811 78.063,192.126 83.5906,188.441 89.1181,192.126 94.6457,195.811 \n",
       "  100.173,199.496 105.701,195.811 111.228,192.126 116.756,188.441 122.283,184.756 127.811,181.071 133.339,184.756 138.866,181.071 144.394,177.386 149.921,173.701 \n",
       "  155.449,170.016 160.976,173.701 166.504,177.386 172.031,181.071 177.559,184.756 183.087,188.441 188.614,192.126 194.142,188.441 199.669,184.756 205.197,188.441 \n",
       "  210.724,184.756 216.252,181.071 221.78,177.386 227.307,173.701 232.835,170.016 238.362,166.331 243.89,170.016 249.417,166.331 254.945,170.016 260.472,173.701 \n",
       "  266,177.386 271.528,173.701 277.055,170.016 282.583,166.331 288.11,170.016 293.638,173.701 299.165,170.016 304.693,166.331 310.22,170.016 315.748,173.701 \n",
       "  \n",
       "  \"/>\n",
       "<polyline clip-path=\"url(#clip02)\" style=\"stroke:#f05f73; stroke-width:1; stroke-opacity:1; fill:none\" points=\"\n",
       "  44.8976,192.126 50.4252,195.811 55.9528,192.126 61.4803,195.811 67.0079,199.496 72.5354,195.811 78.063,192.126 83.5906,188.441 89.1181,184.756 94.6457,181.071 \n",
       "  100.173,177.386 105.701,173.701 111.228,170.016 116.756,166.331 122.283,170.016 127.811,166.331 133.339,162.646 138.866,158.961 144.394,155.276 149.921,151.591 \n",
       "  155.449,147.906 160.976,151.591 166.504,155.276 172.031,158.961 177.559,155.276 183.087,158.961 188.614,162.646 194.142,158.961 199.669,155.276 205.197,151.591 \n",
       "  210.724,155.276 216.252,158.961 221.78,162.646 227.307,166.331 232.835,162.646 238.362,166.331 243.89,170.016 249.417,173.701 254.945,170.016 260.472,173.701 \n",
       "  266,170.016 271.528,173.701 277.055,177.386 282.583,173.701 288.11,170.016 293.638,173.701 299.165,177.386 304.693,181.071 310.22,184.756 315.748,181.071 \n",
       "  \n",
       "  \"/>\n",
       "<polyline clip-path=\"url(#clip02)\" style=\"stroke:#dd64b5; stroke-width:1; stroke-opacity:1; fill:none\" points=\"\n",
       "  44.8976,192.126 50.4252,188.441 55.9528,192.126 61.4803,195.811 67.0079,192.126 72.5354,188.441 78.063,184.756 83.5906,188.441 89.1181,192.126 94.6457,195.811 \n",
       "  100.173,192.126 105.701,188.441 111.228,192.126 116.756,188.441 122.283,192.126 127.811,188.441 133.339,184.756 138.866,188.441 144.394,184.756 149.921,181.071 \n",
       "  155.449,184.756 160.976,188.441 166.504,192.126 172.031,195.811 177.559,199.496 183.087,195.811 188.614,192.126 194.142,195.811 199.669,192.126 205.197,195.811 \n",
       "  210.724,192.126 216.252,195.811 221.78,199.496 227.307,203.181 232.835,199.496 238.362,203.181 243.89,199.496 249.417,203.181 254.945,206.866 260.472,203.181 \n",
       "  266,206.866 271.528,210.551 277.055,214.236 282.583,210.551 288.11,214.236 293.638,210.551 299.165,206.866 304.693,203.181 310.22,199.496 315.748,195.811 \n",
       "  \n",
       "  \"/>\n",
       "<polyline clip-path=\"url(#clip02)\" style=\"stroke:#6b9e32; stroke-width:1; stroke-opacity:1; fill:none\" points=\"\n",
       "  44.8976,192.126 50.4252,188.441 55.9528,192.126 61.4803,188.441 67.0079,192.126 72.5354,195.811 78.063,192.126 83.5906,188.441 89.1181,184.756 94.6457,181.071 \n",
       "  100.173,177.386 105.701,173.701 111.228,170.016 116.756,173.701 122.283,177.386 127.811,181.071 133.339,177.386 138.866,181.071 144.394,177.386 149.921,173.701 \n",
       "  155.449,170.016 160.976,166.331 166.504,170.016 172.031,173.701 177.559,177.386 183.087,181.071 188.614,184.756 194.142,188.441 199.669,192.126 205.197,188.441 \n",
       "  210.724,192.126 216.252,188.441 221.78,184.756 227.307,188.441 232.835,184.756 238.362,188.441 243.89,192.126 249.417,188.441 254.945,192.126 260.472,195.811 \n",
       "  266,199.496 271.528,195.811 277.055,192.126 282.583,195.811 288.11,199.496 293.638,195.811 299.165,192.126 304.693,195.811 310.22,192.126 315.748,188.441 \n",
       "  \n",
       "  \"/>\n",
       "<polyline clip-path=\"url(#clip02)\" style=\"stroke:#718c69; stroke-width:1; stroke-opacity:1; fill:none\" points=\"\n",
       "  44.8976,192.126 50.4252,188.441 55.9528,192.126 61.4803,195.811 67.0079,199.496 72.5354,203.181 78.063,206.866 83.5906,203.181 89.1181,199.496 94.6457,195.811 \n",
       "  100.173,192.126 105.701,188.441 111.228,192.126 116.756,195.811 122.283,199.496 127.811,203.181 133.339,199.496 138.866,203.181 144.394,199.496 149.921,203.181 \n",
       "  155.449,199.496 160.976,203.181 166.504,199.496 172.031,203.181 177.559,206.866 183.087,203.181 188.614,199.496 194.142,203.181 199.669,199.496 205.197,203.181 \n",
       "  210.724,199.496 216.252,203.181 221.78,199.496 227.307,195.811 232.835,192.126 238.362,195.811 243.89,192.126 249.417,195.811 254.945,192.126 260.472,188.441 \n",
       "  266,184.756 271.528,181.071 277.055,184.756 282.583,181.071 288.11,177.386 293.638,173.701 299.165,177.386 304.693,173.701 310.22,170.016 315.748,173.701 \n",
       "  \n",
       "  \"/>\n",
       "<polyline clip-path=\"url(#clip02)\" style=\"stroke:#47988b; stroke-width:1; stroke-opacity:1; fill:none\" points=\"\n",
       "  44.8976,192.126 50.4252,188.441 55.9528,184.756 61.4803,188.441 67.0079,184.756 72.5354,181.071 78.063,177.386 83.5906,173.701 89.1181,177.386 94.6457,173.701 \n",
       "  100.173,177.386 105.701,173.701 111.228,177.386 116.756,173.701 122.283,170.016 127.811,166.331 133.339,162.646 138.866,158.961 144.394,162.646 149.921,158.961 \n",
       "  155.449,162.646 160.976,166.331 166.504,162.646 172.031,166.331 177.559,162.646 183.087,158.961 188.614,155.276 194.142,151.591 199.669,147.906 205.197,144.22 \n",
       "  210.724,147.906 216.252,151.591 221.78,147.906 227.307,144.22 232.835,147.906 238.362,144.22 243.89,147.906 249.417,144.22 254.945,147.906 260.472,144.22 \n",
       "  266,147.906 271.528,151.591 277.055,155.276 282.583,151.591 288.11,155.276 293.638,151.591 299.165,147.906 304.693,144.22 310.22,147.906 315.748,144.22 \n",
       "  \n",
       "  \"/>\n",
       "<polyline clip-path=\"url(#clip02)\" style=\"stroke:#1ea68c; stroke-width:1; stroke-opacity:1; fill:none\" points=\"\n",
       "  44.8976,192.126 50.4252,188.441 55.9528,184.756 61.4803,181.071 67.0079,177.386 72.5354,173.701 78.063,177.386 83.5906,173.701 89.1181,170.016 94.6457,166.331 \n",
       "  100.173,170.016 105.701,166.331 111.228,162.646 116.756,158.961 122.283,155.276 127.811,158.961 133.339,162.646 138.866,158.961 144.394,162.646 149.921,166.331 \n",
       "  155.449,170.016 160.976,166.331 166.504,162.646 172.031,166.331 177.559,170.016 183.087,166.331 188.614,162.646 194.142,158.961 199.669,162.646 205.197,166.331 \n",
       "  210.724,170.016 216.252,173.701 221.78,177.386 227.307,181.071 232.835,184.756 238.362,181.071 243.89,177.386 249.417,181.071 254.945,177.386 260.472,181.071 \n",
       "  266,184.756 271.528,188.441 277.055,184.756 282.583,188.441 288.11,192.126 293.638,195.811 299.165,199.496 304.693,203.181 310.22,199.496 315.748,195.811 \n",
       "  \n",
       "  \"/>\n",
       "<polyline clip-path=\"url(#clip02)\" style=\"stroke:#af78dd; stroke-width:1; stroke-opacity:1; fill:none\" points=\"\n",
       "  44.8976,192.126 50.4252,188.441 55.9528,192.126 61.4803,188.441 67.0079,184.756 72.5354,181.071 78.063,184.756 83.5906,188.441 89.1181,184.756 94.6457,188.441 \n",
       "  100.173,192.126 105.701,188.441 111.228,192.126 116.756,188.441 122.283,192.126 127.811,195.811 133.339,192.126 138.866,195.811 144.394,192.126 149.921,188.441 \n",
       "  155.449,184.756 160.976,181.071 166.504,184.756 172.031,181.071 177.559,184.756 183.087,188.441 188.614,192.126 194.142,188.441 199.669,184.756 205.197,188.441 \n",
       "  210.724,184.756 216.252,181.071 221.78,184.756 227.307,181.071 232.835,177.386 238.362,181.071 243.89,177.386 249.417,173.701 254.945,177.386 260.472,181.071 \n",
       "  266,184.756 271.528,188.441 277.055,192.126 282.583,188.441 288.11,184.756 293.638,188.441 299.165,184.756 304.693,188.441 310.22,192.126 315.748,188.441 \n",
       "  \n",
       "  \"/>\n",
       "<polyline clip-path=\"url(#clip02)\" style=\"stroke:#868d87; stroke-width:1; stroke-opacity:1; fill:none\" points=\"\n",
       "  44.8976,192.126 50.4252,195.811 55.9528,199.496 61.4803,203.181 67.0079,206.866 72.5354,210.551 78.063,206.866 83.5906,210.551 89.1181,206.866 94.6457,203.181 \n",
       "  100.173,206.866 105.701,210.551 111.228,214.236 116.756,217.921 122.283,221.606 127.811,217.921 133.339,214.236 138.866,210.551 144.394,206.866 149.921,203.181 \n",
       "  155.449,206.866 160.976,210.551 166.504,206.866 172.031,203.181 177.559,206.866 183.087,210.551 188.614,214.236 194.142,217.921 199.669,221.606 205.197,225.291 \n",
       "  210.724,221.606 216.252,225.291 221.78,221.606 227.307,225.291 232.835,221.606 238.362,217.921 243.89,214.236 249.417,210.551 254.945,206.866 260.472,210.551 \n",
       "  266,206.866 271.528,210.551 277.055,214.236 282.583,217.921 288.11,221.606 293.638,217.921 299.165,214.236 304.693,217.921 310.22,214.236 315.748,210.551 \n",
       "  \n",
       "  \"/>\n",
       "<polyline clip-path=\"url(#clip02)\" style=\"stroke:#47a065; stroke-width:1; stroke-opacity:1; fill:none\" points=\"\n",
       "  44.8976,192.126 50.4252,188.441 55.9528,192.126 61.4803,195.811 67.0079,199.496 72.5354,195.811 78.063,199.496 83.5906,195.811 89.1181,192.126 94.6457,195.811 \n",
       "  100.173,192.126 105.701,188.441 111.228,184.756 116.756,188.441 122.283,192.126 127.811,195.811 133.339,192.126 138.866,195.811 144.394,199.496 149.921,195.811 \n",
       "  155.449,199.496 160.976,195.811 166.504,199.496 172.031,195.811 177.559,199.496 183.087,195.811 188.614,192.126 194.142,195.811 199.669,199.496 205.197,203.181 \n",
       "  210.724,199.496 216.252,195.811 221.78,199.496 227.307,203.181 232.835,199.496 238.362,203.181 243.89,199.496 249.417,203.181 254.945,199.496 260.472,195.811 \n",
       "  266,192.126 271.528,188.441 277.055,192.126 282.583,188.441 288.11,184.756 293.638,188.441 299.165,192.126 304.693,195.811 310.22,192.126 315.748,188.441 \n",
       "  \n",
       "  \"/>\n",
       "<polyline clip-path=\"url(#clip02)\" style=\"stroke:#7683af; stroke-width:1; stroke-opacity:1; fill:none\" points=\"\n",
       "  44.8976,192.126 50.4252,188.441 55.9528,184.756 61.4803,181.071 67.0079,177.386 72.5354,173.701 78.063,170.016 83.5906,166.331 89.1181,170.016 94.6457,166.331 \n",
       "  100.173,170.016 105.701,166.331 111.228,170.016 116.756,173.701 122.283,177.386 127.811,181.071 133.339,184.756 138.866,188.441 144.394,184.756 149.921,188.441 \n",
       "  155.449,184.756 160.976,181.071 166.504,177.386 172.031,181.071 177.559,184.756 183.087,188.441 188.614,192.126 194.142,188.441 199.669,184.756 205.197,188.441 \n",
       "  210.724,192.126 216.252,188.441 221.78,192.126 227.307,195.811 232.835,199.496 238.362,203.181 243.89,206.866 249.417,203.181 254.945,206.866 260.472,203.181 \n",
       "  266,206.866 271.528,210.551 277.055,206.866 282.583,203.181 288.11,206.866 293.638,203.181 299.165,206.866 304.693,203.181 310.22,199.496 315.748,203.181 \n",
       "  \n",
       "  \"/>\n",
       "<polyline clip-path=\"url(#clip02)\" style=\"stroke:#b08086; stroke-width:1; stroke-opacity:1; fill:none\" points=\"\n",
       "  44.8976,192.126 50.4252,195.811 55.9528,192.126 61.4803,188.441 67.0079,192.126 72.5354,188.441 78.063,184.756 83.5906,188.441 89.1181,184.756 94.6457,181.071 \n",
       "  100.173,177.386 105.701,181.071 111.228,184.756 116.756,181.071 122.283,184.756 127.811,181.071 133.339,177.386 138.866,173.701 144.394,177.386 149.921,181.071 \n",
       "  155.449,184.756 160.976,181.071 166.504,177.386 172.031,173.701 177.559,177.386 183.087,181.071 188.614,184.756 194.142,188.441 199.669,192.126 205.197,195.811 \n",
       "  210.724,192.126 216.252,188.441 221.78,192.126 227.307,195.811 232.835,192.126 238.362,195.811 243.89,199.496 249.417,203.181 254.945,199.496 260.472,195.811 \n",
       "  266,192.126 271.528,195.811 277.055,199.496 282.583,195.811 288.11,192.126 293.638,195.811 299.165,192.126 304.693,195.811 310.22,199.496 315.748,195.811 \n",
       "  \n",
       "  \"/>\n",
       "<polyline clip-path=\"url(#clip02)\" style=\"stroke:#309ac1; stroke-width:1; stroke-opacity:1; fill:none\" points=\"\n",
       "  44.8976,192.126 50.4252,188.441 55.9528,192.126 61.4803,188.441 67.0079,192.126 72.5354,188.441 78.063,192.126 83.5906,195.811 89.1181,199.496 94.6457,203.181 \n",
       "  100.173,199.496 105.701,195.811 111.228,192.126 116.756,195.811 122.283,192.126 127.811,195.811 133.339,199.496 138.866,195.811 144.394,192.126 149.921,188.441 \n",
       "  155.449,192.126 160.976,195.811 166.504,192.126 172.031,188.441 177.559,184.756 183.087,188.441 188.614,184.756 194.142,188.441 199.669,184.756 205.197,181.071 \n",
       "  210.724,177.386 216.252,181.071 221.78,177.386 227.307,181.071 232.835,177.386 238.362,181.071 243.89,177.386 249.417,173.701 254.945,177.386 260.472,173.701 \n",
       "  266,170.016 271.528,173.701 277.055,170.016 282.583,166.331 288.11,170.016 293.638,173.701 299.165,177.386 304.693,173.701 310.22,177.386 315.748,173.701 \n",
       "  \n",
       "  \"/>\n",
       "<polyline clip-path=\"url(#clip02)\" style=\"stroke:#788490; stroke-width:1; stroke-opacity:1; fill:none\" points=\"\n",
       "  44.8976,192.126 50.4252,188.441 55.9528,184.756 61.4803,188.441 67.0079,184.756 72.5354,188.441 78.063,192.126 83.5906,188.441 89.1181,192.126 94.6457,195.811 \n",
       "  100.173,199.496 105.701,203.181 111.228,206.866 116.756,203.181 122.283,206.866 127.811,203.181 133.339,206.866 138.866,210.551 144.394,214.236 149.921,217.921 \n",
       "  155.449,221.606 160.976,217.921 166.504,214.236 172.031,217.921 177.559,214.236 183.087,210.551 188.614,214.236 194.142,210.551 199.669,206.866 205.197,210.551 \n",
       "  210.724,214.236 216.252,217.921 221.78,221.606 227.307,217.921 232.835,221.606 238.362,217.921 243.89,221.606 249.417,217.921 254.945,214.236 260.472,217.921 \n",
       "  266,221.606 271.528,225.291 277.055,228.976 282.583,225.291 288.11,228.976 293.638,232.661 299.165,228.976 304.693,225.291 310.22,221.606 315.748,225.291 \n",
       "  \n",
       "  \"/>\n",
       "<polyline clip-path=\"url(#clip02)\" style=\"stroke:#e561a4; stroke-width:1; stroke-opacity:1; fill:none\" points=\"\n",
       "  44.8976,192.126 50.4252,188.441 55.9528,192.126 61.4803,188.441 67.0079,192.126 72.5354,195.811 78.063,199.496 83.5906,195.811 89.1181,199.496 94.6457,203.181 \n",
       "  100.173,199.496 105.701,195.811 111.228,199.496 116.756,203.181 122.283,206.866 127.811,210.551 133.339,214.236 138.866,217.921 144.394,214.236 149.921,210.551 \n",
       "  155.449,206.866 160.976,210.551 166.504,214.236 172.031,217.921 177.559,221.606 183.087,217.921 188.614,221.606 194.142,225.291 199.669,221.606 205.197,217.921 \n",
       "  210.724,214.236 216.252,217.921 221.78,221.606 227.307,225.291 232.835,221.606 238.362,217.921 243.89,221.606 249.417,217.921 254.945,214.236 260.472,217.921 \n",
       "  266,221.606 271.528,225.291 277.055,228.976 282.583,232.661 288.11,228.976 293.638,232.661 299.165,236.346 304.693,240.031 310.22,236.346 315.748,232.661 \n",
       "  \n",
       "  \"/>\n",
       "<polyline clip-path=\"url(#clip02)\" style=\"stroke:#99902c; stroke-width:1; stroke-opacity:1; fill:none\" points=\"\n",
       "  44.8976,192.126 50.4252,188.441 55.9528,184.756 61.4803,181.071 67.0079,177.386 72.5354,173.701 78.063,170.016 83.5906,166.331 89.1181,162.646 94.6457,158.961 \n",
       "  100.173,155.276 105.701,158.961 111.228,155.276 116.756,151.591 122.283,155.276 127.811,158.961 133.339,155.276 138.866,151.591 144.394,147.906 149.921,144.22 \n",
       "  155.449,140.535 160.976,144.22 166.504,147.906 172.031,151.591 177.559,147.906 183.087,144.22 188.614,140.535 194.142,136.85 199.669,133.165 205.197,129.48 \n",
       "  210.724,133.165 216.252,129.48 221.78,133.165 227.307,136.85 232.835,133.165 238.362,136.85 243.89,140.535 249.417,136.85 254.945,133.165 260.472,136.85 \n",
       "  266,140.535 271.528,136.85 277.055,133.165 282.583,129.48 288.11,125.795 293.638,129.48 299.165,125.795 304.693,129.48 310.22,133.165 315.748,136.85 \n",
       "  \n",
       "  \"/>\n",
       "<polyline clip-path=\"url(#clip02)\" style=\"stroke:#389a7b; stroke-width:1; stroke-opacity:1; fill:none\" points=\"\n",
       "  44.8976,192.126 50.4252,188.441 55.9528,184.756 61.4803,188.441 67.0079,192.126 72.5354,195.811 78.063,199.496 83.5906,203.181 89.1181,206.866 94.6457,203.181 \n",
       "  100.173,199.496 105.701,195.811 111.228,199.496 116.756,195.811 122.283,192.126 127.811,195.811 133.339,199.496 138.866,195.811 144.394,192.126 149.921,195.811 \n",
       "  155.449,192.126 160.976,188.441 166.504,184.756 172.031,181.071 177.559,177.386 183.087,173.701 188.614,170.016 194.142,173.701 199.669,170.016 205.197,173.701 \n",
       "  210.724,177.386 216.252,173.701 221.78,170.016 227.307,166.331 232.835,170.016 238.362,166.331 243.89,170.016 249.417,173.701 254.945,170.016 260.472,173.701 \n",
       "  266,170.016 271.528,166.331 277.055,170.016 282.583,166.331 288.11,170.016 293.638,173.701 299.165,177.386 304.693,173.701 310.22,170.016 315.748,173.701 \n",
       "  \n",
       "  \"/>\n",
       "<polyline clip-path=\"url(#clip02)\" style=\"stroke:#d968a2; stroke-width:1; stroke-opacity:1; fill:none\" points=\"\n",
       "  44.8976,192.126 50.4252,195.811 55.9528,192.126 61.4803,195.811 67.0079,192.126 72.5354,188.441 78.063,192.126 83.5906,188.441 89.1181,192.126 94.6457,195.811 \n",
       "  100.173,192.126 105.701,188.441 111.228,184.756 116.756,188.441 122.283,184.756 127.811,181.071 133.339,177.386 138.866,173.701 144.394,177.386 149.921,173.701 \n",
       "  155.449,177.386 160.976,173.701 166.504,177.386 172.031,181.071 177.559,177.386 183.087,173.701 188.614,177.386 194.142,181.071 199.669,184.756 205.197,188.441 \n",
       "  210.724,192.126 216.252,195.811 221.78,199.496 227.307,203.181 232.835,199.496 238.362,195.811 243.89,199.496 249.417,203.181 254.945,206.866 260.472,210.551 \n",
       "  266,206.866 271.528,210.551 277.055,206.866 282.583,210.551 288.11,206.866 293.638,203.181 299.165,206.866 304.693,210.551 310.22,206.866 315.748,210.551 \n",
       "  \n",
       "  \"/>\n",
       "<polyline clip-path=\"url(#clip02)\" style=\"stroke:#009af9; stroke-width:1; stroke-opacity:1; fill:none\" points=\"\n",
       "  44.8976,192.126 50.4252,195.811 55.9528,192.126 61.4803,188.441 67.0079,192.126 72.5354,188.441 78.063,184.756 83.5906,188.441 89.1181,184.756 94.6457,188.441 \n",
       "  100.173,184.756 105.701,188.441 111.228,192.126 116.756,195.811 122.283,199.496 127.811,195.811 133.339,199.496 138.866,195.811 144.394,192.126 149.921,188.441 \n",
       "  155.449,192.126 160.976,188.441 166.504,184.756 172.031,188.441 177.559,184.756 183.087,181.071 188.614,184.756 194.142,188.441 199.669,192.126 205.197,188.441 \n",
       "  210.724,192.126 216.252,195.811 221.78,192.126 227.307,195.811 232.835,199.496 238.362,195.811 243.89,192.126 249.417,195.811 254.945,192.126 260.472,195.811 \n",
       "  266,192.126 271.528,195.811 277.055,199.496 282.583,203.181 288.11,206.866 293.638,203.181 299.165,206.866 304.693,210.551 310.22,206.866 315.748,203.181 \n",
       "  \n",
       "  \"/>\n",
       "<polyline clip-path=\"url(#clip02)\" style=\"stroke:#e26f46; stroke-width:1; stroke-opacity:1; fill:none\" points=\"\n",
       "  44.8976,192.126 50.4252,195.811 55.9528,199.496 61.4803,195.811 67.0079,199.496 72.5354,195.811 78.063,192.126 83.5906,195.811 89.1181,192.126 94.6457,188.441 \n",
       "  100.173,192.126 105.701,188.441 111.228,184.756 116.756,181.071 122.283,184.756 127.811,181.071 133.339,184.756 138.866,188.441 144.394,184.756 149.921,188.441 \n",
       "  155.449,184.756 160.976,188.441 166.504,192.126 172.031,188.441 177.559,184.756 183.087,181.071 188.614,184.756 194.142,188.441 199.669,192.126 205.197,195.811 \n",
       "  210.724,199.496 216.252,203.181 221.78,199.496 227.307,203.181 232.835,199.496 238.362,195.811 243.89,199.496 249.417,195.811 254.945,192.126 260.472,188.441 \n",
       "  266,184.756 271.528,188.441 277.055,184.756 282.583,188.441 288.11,184.756 293.638,181.071 299.165,177.386 304.693,173.701 310.22,170.016 315.748,166.331 \n",
       "  \n",
       "  \"/>\n",
       "<polyline clip-path=\"url(#clip02)\" style=\"stroke:#3da44d; stroke-width:1; stroke-opacity:1; fill:none\" points=\"\n",
       "  44.8976,192.126 50.4252,188.441 55.9528,184.756 61.4803,188.441 67.0079,192.126 72.5354,195.811 78.063,192.126 83.5906,195.811 89.1181,199.496 94.6457,203.181 \n",
       "  100.173,206.866 105.701,210.551 111.228,214.236 116.756,217.921 122.283,221.606 127.811,217.921 133.339,221.606 138.866,225.291 144.394,228.976 149.921,232.661 \n",
       "  155.449,236.346 160.976,232.661 166.504,236.346 172.031,240.031 177.559,236.346 183.087,240.031 188.614,236.346 194.142,232.661 199.669,236.346 205.197,232.661 \n",
       "  210.724,228.976 216.252,225.291 221.78,228.976 227.307,225.291 232.835,228.976 238.362,225.291 243.89,228.976 249.417,232.661 254.945,236.346 260.472,240.031 \n",
       "  266,236.346 271.528,240.031 277.055,236.346 282.583,232.661 288.11,236.346 293.638,232.661 299.165,236.346 304.693,232.661 310.22,228.976 315.748,225.291 \n",
       "  \n",
       "  \"/>\n",
       "<polyline clip-path=\"url(#clip02)\" style=\"stroke:#c271d2; stroke-width:1; stroke-opacity:1; fill:none\" points=\"\n",
       "  44.8976,192.126 50.4252,195.811 55.9528,199.496 61.4803,195.811 67.0079,199.496 72.5354,195.811 78.063,199.496 83.5906,203.181 89.1181,206.866 94.6457,203.181 \n",
       "  100.173,199.496 105.701,195.811 111.228,199.496 116.756,203.181 122.283,199.496 127.811,203.181 133.339,206.866 138.866,210.551 144.394,214.236 149.921,210.551 \n",
       "  155.449,206.866 160.976,210.551 166.504,214.236 172.031,217.921 177.559,214.236 183.087,217.921 188.614,221.606 194.142,217.921 199.669,214.236 205.197,210.551 \n",
       "  210.724,214.236 216.252,210.551 221.78,214.236 227.307,217.921 232.835,214.236 238.362,210.551 243.89,214.236 249.417,210.551 254.945,214.236 260.472,217.921 \n",
       "  266,221.606 271.528,217.921 277.055,214.236 282.583,210.551 288.11,206.866 293.638,210.551 299.165,206.866 304.693,203.181 310.22,199.496 315.748,203.181 \n",
       "  \n",
       "  \"/>\n",
       "<polyline clip-path=\"url(#clip02)\" style=\"stroke:#ac8d18; stroke-width:1; stroke-opacity:1; fill:none\" points=\"\n",
       "  44.8976,192.126 50.4252,195.811 55.9528,199.496 61.4803,203.181 67.0079,206.866 72.5354,203.181 78.063,199.496 83.5906,195.811 89.1181,199.496 94.6457,203.181 \n",
       "  100.173,206.866 105.701,203.181 111.228,206.866 116.756,203.181 122.283,206.866 127.811,210.551 133.339,206.866 138.866,203.181 144.394,199.496 149.921,195.811 \n",
       "  155.449,199.496 160.976,203.181 166.504,206.866 172.031,210.551 177.559,214.236 183.087,210.551 188.614,206.866 194.142,203.181 199.669,199.496 205.197,195.811 \n",
       "  210.724,199.496 216.252,195.811 221.78,192.126 227.307,188.441 232.835,192.126 238.362,195.811 243.89,192.126 249.417,195.811 254.945,199.496 260.472,195.811 \n",
       "  266,192.126 271.528,188.441 277.055,192.126 282.583,195.811 288.11,199.496 293.638,203.181 299.165,199.496 304.693,203.181 310.22,206.866 315.748,203.181 \n",
       "  \n",
       "  \"/>\n",
       "<polyline clip-path=\"url(#clip02)\" style=\"stroke:#00a9ad; stroke-width:1; stroke-opacity:1; fill:none\" points=\"\n",
       "  44.8976,192.126 50.4252,188.441 55.9528,192.126 61.4803,195.811 67.0079,192.126 72.5354,188.441 78.063,192.126 83.5906,188.441 89.1181,192.126 94.6457,195.811 \n",
       "  100.173,199.496 105.701,203.181 111.228,199.496 116.756,203.181 122.283,199.496 127.811,203.181 133.339,206.866 138.866,210.551 144.394,206.866 149.921,210.551 \n",
       "  155.449,214.236 160.976,217.921 166.504,214.236 172.031,217.921 177.559,214.236 183.087,217.921 188.614,214.236 194.142,210.551 199.669,206.866 205.197,203.181 \n",
       "  210.724,199.496 216.252,195.811 221.78,192.126 227.307,188.441 232.835,192.126 238.362,195.811 243.89,199.496 249.417,203.181 254.945,206.866 260.472,210.551 \n",
       "  266,206.866 271.528,210.551 277.055,214.236 282.583,210.551 288.11,206.866 293.638,203.181 299.165,199.496 304.693,195.811 310.22,192.126 315.748,188.441 \n",
       "  \n",
       "  \"/>\n",
       "<polyline clip-path=\"url(#clip02)\" style=\"stroke:#ed5d92; stroke-width:1; stroke-opacity:1; fill:none\" points=\"\n",
       "  44.8976,192.126 50.4252,188.441 55.9528,192.126 61.4803,188.441 67.0079,192.126 72.5354,188.441 78.063,184.756 83.5906,181.071 89.1181,184.756 94.6457,181.071 \n",
       "  100.173,177.386 105.701,181.071 111.228,184.756 116.756,188.441 122.283,192.126 127.811,195.811 133.339,192.126 138.866,188.441 144.394,184.756 149.921,188.441 \n",
       "  155.449,192.126 160.976,195.811 166.504,199.496 172.031,203.181 177.559,206.866 183.087,203.181 188.614,206.866 194.142,203.181 199.669,206.866 205.197,210.551 \n",
       "  210.724,206.866 216.252,210.551 221.78,206.866 227.307,203.181 232.835,206.866 238.362,203.181 243.89,199.496 249.417,195.811 254.945,192.126 260.472,188.441 \n",
       "  266,184.756 271.528,188.441 277.055,184.756 282.583,181.071 288.11,184.756 293.638,181.071 299.165,184.756 304.693,181.071 310.22,177.386 315.748,173.701 \n",
       "  \n",
       "  \"/>\n",
       "<polyline clip-path=\"url(#clip02)\" style=\"stroke:#c68125; stroke-width:1; stroke-opacity:1; fill:none\" points=\"\n",
       "  44.8976,192.126 50.4252,188.441 55.9528,184.756 61.4803,181.071 67.0079,184.756 72.5354,188.441 78.063,192.126 83.5906,195.811 89.1181,199.496 94.6457,195.811 \n",
       "  100.173,192.126 105.701,188.441 111.228,192.126 116.756,188.441 122.283,184.756 127.811,181.071 133.339,184.756 138.866,188.441 144.394,184.756 149.921,188.441 \n",
       "  155.449,192.126 160.976,195.811 166.504,199.496 172.031,203.181 177.559,206.866 183.087,210.551 188.614,206.866 194.142,203.181 199.669,206.866 205.197,203.181 \n",
       "  210.724,206.866 216.252,203.181 221.78,206.866 227.307,203.181 232.835,206.866 238.362,210.551 243.89,214.236 249.417,217.921 254.945,221.606 260.472,217.921 \n",
       "  266,221.606 271.528,217.921 277.055,221.606 282.583,217.921 288.11,221.606 293.638,217.921 299.165,214.236 304.693,210.551 310.22,214.236 315.748,210.551 \n",
       "  \n",
       "  \"/>\n",
       "<polyline clip-path=\"url(#clip02)\" style=\"stroke:#00a98d; stroke-width:1; stroke-opacity:1; fill:none\" points=\"\n",
       "  44.8976,192.126 50.4252,195.811 55.9528,199.496 61.4803,195.811 67.0079,192.126 72.5354,188.441 78.063,184.756 83.5906,181.071 89.1181,184.756 94.6457,188.441 \n",
       "  100.173,184.756 105.701,181.071 111.228,177.386 116.756,173.701 122.283,170.016 127.811,173.701 133.339,177.386 138.866,173.701 144.394,177.386 149.921,173.701 \n",
       "  155.449,170.016 160.976,166.331 166.504,170.016 172.031,173.701 177.559,177.386 183.087,173.701 188.614,177.386 194.142,181.071 199.669,177.386 205.197,181.071 \n",
       "  210.724,184.756 216.252,181.071 221.78,177.386 227.307,173.701 232.835,177.386 238.362,181.071 243.89,177.386 249.417,181.071 254.945,184.756 260.472,181.071 \n",
       "  266,177.386 271.528,181.071 277.055,177.386 282.583,173.701 288.11,177.386 293.638,181.071 299.165,177.386 304.693,181.071 310.22,184.756 315.748,188.441 \n",
       "  \n",
       "  \"/>\n",
       "<polyline clip-path=\"url(#clip02)\" style=\"stroke:#8e971d; stroke-width:1; stroke-opacity:1; fill:none\" points=\"\n",
       "  44.8976,192.126 50.4252,195.811 55.9528,199.496 61.4803,203.181 67.0079,199.496 72.5354,203.181 78.063,199.496 83.5906,195.811 89.1181,192.126 94.6457,188.441 \n",
       "  100.173,192.126 105.701,195.811 111.228,192.126 116.756,195.811 122.283,192.126 127.811,188.441 133.339,192.126 138.866,195.811 144.394,192.126 149.921,195.811 \n",
       "  155.449,199.496 160.976,195.811 166.504,192.126 172.031,188.441 177.559,184.756 183.087,188.441 188.614,192.126 194.142,195.811 199.669,192.126 205.197,195.811 \n",
       "  210.724,192.126 216.252,195.811 221.78,199.496 227.307,203.181 232.835,199.496 238.362,195.811 243.89,192.126 249.417,195.811 254.945,192.126 260.472,195.811 \n",
       "  266,192.126 271.528,195.811 277.055,199.496 282.583,195.811 288.11,199.496 293.638,195.811 299.165,199.496 304.693,203.181 310.22,199.496 315.748,195.811 \n",
       "  \n",
       "  \"/>\n",
       "<polyline clip-path=\"url(#clip02)\" style=\"stroke:#00a8cb; stroke-width:1; stroke-opacity:1; fill:none\" points=\"\n",
       "  44.8976,192.126 50.4252,188.441 55.9528,184.756 61.4803,188.441 67.0079,192.126 72.5354,195.811 78.063,192.126 83.5906,195.811 89.1181,192.126 94.6457,188.441 \n",
       "  100.173,192.126 105.701,195.811 111.228,199.496 116.756,203.181 122.283,206.866 127.811,203.181 133.339,206.866 138.866,203.181 144.394,199.496 149.921,195.811 \n",
       "  155.449,199.496 160.976,203.181 166.504,206.866 172.031,210.551 177.559,206.866 183.087,210.551 188.614,206.866 194.142,203.181 199.669,206.866 205.197,203.181 \n",
       "  210.724,206.866 216.252,203.181 221.78,206.866 227.307,210.551 232.835,214.236 238.362,210.551 243.89,214.236 249.417,217.921 254.945,221.606 260.472,225.291 \n",
       "  266,221.606 271.528,217.921 277.055,214.236 282.583,217.921 288.11,221.606 293.638,217.921 299.165,221.606 304.693,217.921 310.22,214.236 315.748,217.921 \n",
       "  \n",
       "  \"/>\n",
       "<polyline clip-path=\"url(#clip02)\" style=\"stroke:#9b7fe8; stroke-width:1; stroke-opacity:1; fill:none\" points=\"\n",
       "  44.8976,192.126 50.4252,188.441 55.9528,184.756 61.4803,188.441 67.0079,184.756 72.5354,188.441 78.063,192.126 83.5906,195.811 89.1181,192.126 94.6457,188.441 \n",
       "  100.173,192.126 105.701,195.811 111.228,192.126 116.756,195.811 122.283,199.496 127.811,203.181 133.339,199.496 138.866,195.811 144.394,199.496 149.921,195.811 \n",
       "  155.449,192.126 160.976,188.441 166.504,184.756 172.031,188.441 177.559,192.126 183.087,188.441 188.614,192.126 194.142,188.441 199.669,184.756 205.197,181.071 \n",
       "  210.724,184.756 216.252,181.071 221.78,177.386 227.307,181.071 232.835,184.756 238.362,181.071 243.89,184.756 249.417,181.071 254.945,184.756 260.472,188.441 \n",
       "  266,184.756 271.528,188.441 277.055,192.126 282.583,195.811 288.11,199.496 293.638,195.811 299.165,199.496 304.693,195.811 310.22,192.126 315.748,195.811 \n",
       "  \n",
       "  \"/>\n",
       "<polyline clip-path=\"url(#clip02)\" style=\"stroke:#608cf6; stroke-width:1; stroke-opacity:1; fill:none\" points=\"\n",
       "  44.8976,192.126 50.4252,195.811 55.9528,199.496 61.4803,203.181 67.0079,206.866 72.5354,210.551 78.063,206.866 83.5906,210.551 89.1181,206.866 94.6457,203.181 \n",
       "  100.173,206.866 105.701,210.551 111.228,206.866 116.756,210.551 122.283,206.866 127.811,210.551 133.339,206.866 138.866,203.181 144.394,206.866 149.921,210.551 \n",
       "  155.449,206.866 160.976,203.181 166.504,206.866 172.031,210.551 177.559,206.866 183.087,203.181 188.614,199.496 194.142,203.181 199.669,206.866 205.197,210.551 \n",
       "  210.724,206.866 216.252,203.181 221.78,199.496 227.307,203.181 232.835,199.496 238.362,203.181 243.89,206.866 249.417,203.181 254.945,199.496 260.472,195.811 \n",
       "  266,199.496 271.528,195.811 277.055,199.496 282.583,203.181 288.11,199.496 293.638,203.181 299.165,199.496 304.693,195.811 310.22,199.496 315.748,203.181 \n",
       "  \n",
       "  \"/>\n",
       "<polyline clip-path=\"url(#clip02)\" style=\"stroke:#f05f73; stroke-width:1; stroke-opacity:1; fill:none\" points=\"\n",
       "  44.8976,192.126 50.4252,195.811 55.9528,199.496 61.4803,203.181 67.0079,199.496 72.5354,203.181 78.063,206.866 83.5906,210.551 89.1181,214.236 94.6457,210.551 \n",
       "  100.173,214.236 105.701,210.551 111.228,214.236 116.756,217.921 122.283,221.606 127.811,217.921 133.339,221.606 138.866,217.921 144.394,221.606 149.921,225.291 \n",
       "  155.449,221.606 160.976,225.291 166.504,221.606 172.031,217.921 177.559,221.606 183.087,225.291 188.614,228.976 194.142,225.291 199.669,228.976 205.197,232.661 \n",
       "  210.724,228.976 216.252,232.661 221.78,228.976 227.307,232.661 232.835,236.346 238.362,232.661 243.89,228.976 249.417,232.661 254.945,228.976 260.472,225.291 \n",
       "  266,221.606 271.528,225.291 277.055,221.606 282.583,225.291 288.11,228.976 293.638,225.291 299.165,228.976 304.693,232.661 310.22,236.346 315.748,240.031 \n",
       "  \n",
       "  \"/>\n",
       "<polyline clip-path=\"url(#clip02)\" style=\"stroke:#dd64b5; stroke-width:1; stroke-opacity:1; fill:none\" points=\"\n",
       "  44.8976,192.126 50.4252,195.811 55.9528,199.496 61.4803,203.181 67.0079,199.496 72.5354,195.811 78.063,199.496 83.5906,195.811 89.1181,192.126 94.6457,188.441 \n",
       "  100.173,184.756 105.701,181.071 111.228,184.756 116.756,181.071 122.283,184.756 127.811,188.441 133.339,184.756 138.866,188.441 144.394,192.126 149.921,188.441 \n",
       "  155.449,184.756 160.976,181.071 166.504,177.386 172.031,173.701 177.559,170.016 183.087,166.331 188.614,170.016 194.142,173.701 199.669,177.386 205.197,173.701 \n",
       "  210.724,170.016 216.252,166.331 221.78,170.016 227.307,166.331 232.835,162.646 238.362,158.961 243.89,162.646 249.417,166.331 254.945,162.646 260.472,166.331 \n",
       "  266,170.016 271.528,166.331 277.055,170.016 282.583,166.331 288.11,162.646 293.638,166.331 299.165,162.646 304.693,158.961 310.22,162.646 315.748,158.961 \n",
       "  \n",
       "  \"/>\n",
       "<polyline clip-path=\"url(#clip02)\" style=\"stroke:#6b9e32; stroke-width:1; stroke-opacity:1; fill:none\" points=\"\n",
       "  44.8976,192.126 50.4252,188.441 55.9528,192.126 61.4803,195.811 67.0079,192.126 72.5354,195.811 78.063,199.496 83.5906,203.181 89.1181,206.866 94.6457,203.181 \n",
       "  100.173,206.866 105.701,203.181 111.228,206.866 116.756,203.181 122.283,199.496 127.811,195.811 133.339,192.126 138.866,195.811 144.394,192.126 149.921,188.441 \n",
       "  155.449,184.756 160.976,188.441 166.504,184.756 172.031,188.441 177.559,192.126 183.087,188.441 188.614,192.126 194.142,195.811 199.669,192.126 205.197,188.441 \n",
       "  210.724,184.756 216.252,181.071 221.78,184.756 227.307,181.071 232.835,177.386 238.362,173.701 243.89,170.016 249.417,173.701 254.945,170.016 260.472,166.331 \n",
       "  266,170.016 271.528,166.331 277.055,170.016 282.583,173.701 288.11,177.386 293.638,173.701 299.165,177.386 304.693,173.701 310.22,170.016 315.748,166.331 \n",
       "  \n",
       "  \"/>\n",
       "<polyline clip-path=\"url(#clip02)\" style=\"stroke:#718c69; stroke-width:1; stroke-opacity:1; fill:none\" points=\"\n",
       "  44.8976,192.126 50.4252,188.441 55.9528,192.126 61.4803,188.441 67.0079,192.126 72.5354,195.811 78.063,199.496 83.5906,195.811 89.1181,192.126 94.6457,188.441 \n",
       "  100.173,184.756 105.701,181.071 111.228,177.386 116.756,173.701 122.283,170.016 127.811,166.331 133.339,162.646 138.866,166.331 144.394,162.646 149.921,158.961 \n",
       "  155.449,162.646 160.976,166.331 166.504,170.016 172.031,166.331 177.559,170.016 183.087,173.701 188.614,170.016 194.142,166.331 199.669,162.646 205.197,166.331 \n",
       "  210.724,162.646 216.252,158.961 221.78,155.276 227.307,158.961 232.835,162.646 238.362,166.331 243.89,162.646 249.417,166.331 254.945,170.016 260.472,166.331 \n",
       "  266,170.016 271.528,173.701 277.055,177.386 282.583,173.701 288.11,177.386 293.638,181.071 299.165,184.756 304.693,181.071 310.22,184.756 315.748,188.441 \n",
       "  \n",
       "  \"/>\n",
       "<polyline clip-path=\"url(#clip02)\" style=\"stroke:#47988b; stroke-width:1; stroke-opacity:1; fill:none\" points=\"\n",
       "  44.8976,192.126 50.4252,188.441 55.9528,184.756 61.4803,181.071 67.0079,177.386 72.5354,173.701 78.063,170.016 83.5906,173.701 89.1181,177.386 94.6457,181.071 \n",
       "  100.173,177.386 105.701,173.701 111.228,170.016 116.756,173.701 122.283,170.016 127.811,173.701 133.339,177.386 138.866,181.071 144.394,177.386 149.921,173.701 \n",
       "  155.449,170.016 160.976,166.331 166.504,162.646 172.031,158.961 177.559,155.276 183.087,151.591 188.614,147.906 194.142,144.22 199.669,147.906 205.197,144.22 \n",
       "  210.724,147.906 216.252,144.22 221.78,140.535 227.307,136.85 232.835,133.165 238.362,136.85 243.89,133.165 249.417,136.85 254.945,140.535 260.472,144.22 \n",
       "  266,140.535 271.528,144.22 277.055,147.906 282.583,151.591 288.11,155.276 293.638,158.961 299.165,162.646 304.693,166.331 310.22,162.646 315.748,158.961 \n",
       "  \n",
       "  \"/>\n",
       "<polyline clip-path=\"url(#clip02)\" style=\"stroke:#1ea68c; stroke-width:1; stroke-opacity:1; fill:none\" points=\"\n",
       "  44.8976,192.126 50.4252,195.811 55.9528,199.496 61.4803,195.811 67.0079,192.126 72.5354,195.811 78.063,199.496 83.5906,195.811 89.1181,199.496 94.6457,195.811 \n",
       "  100.173,199.496 105.701,203.181 111.228,206.866 116.756,210.551 122.283,214.236 127.811,210.551 133.339,206.866 138.866,210.551 144.394,214.236 149.921,217.921 \n",
       "  155.449,221.606 160.976,217.921 166.504,214.236 172.031,210.551 177.559,214.236 183.087,210.551 188.614,214.236 194.142,217.921 199.669,214.236 205.197,210.551 \n",
       "  210.724,206.866 216.252,210.551 221.78,206.866 227.307,210.551 232.835,214.236 238.362,217.921 243.89,214.236 249.417,217.921 254.945,214.236 260.472,210.551 \n",
       "  266,214.236 271.528,217.921 277.055,214.236 282.583,210.551 288.11,214.236 293.638,210.551 299.165,214.236 304.693,210.551 310.22,214.236 315.748,210.551 \n",
       "  \n",
       "  \"/>\n",
       "<polyline clip-path=\"url(#clip02)\" style=\"stroke:#af78dd; stroke-width:1; stroke-opacity:1; fill:none\" points=\"\n",
       "  44.8976,192.126 50.4252,195.811 55.9528,199.496 61.4803,203.181 67.0079,199.496 72.5354,203.181 78.063,199.496 83.5906,203.181 89.1181,206.866 94.6457,210.551 \n",
       "  100.173,206.866 105.701,210.551 111.228,214.236 116.756,210.551 122.283,214.236 127.811,217.921 133.339,214.236 138.866,210.551 144.394,206.866 149.921,203.181 \n",
       "  155.449,199.496 160.976,203.181 166.504,199.496 172.031,195.811 177.559,192.126 183.087,188.441 188.614,192.126 194.142,195.811 199.669,192.126 205.197,195.811 \n",
       "  210.724,192.126 216.252,195.811 221.78,199.496 227.307,195.811 232.835,192.126 238.362,188.441 243.89,184.756 249.417,181.071 254.945,184.756 260.472,181.071 \n",
       "  266,184.756 271.528,188.441 277.055,184.756 282.583,188.441 288.11,184.756 293.638,181.071 299.165,177.386 304.693,181.071 310.22,177.386 315.748,181.071 \n",
       "  \n",
       "  \"/>\n",
       "<polyline clip-path=\"url(#clip02)\" style=\"stroke:#868d87; stroke-width:1; stroke-opacity:1; fill:none\" points=\"\n",
       "  44.8976,192.126 50.4252,188.441 55.9528,184.756 61.4803,181.071 67.0079,184.756 72.5354,188.441 78.063,192.126 83.5906,195.811 89.1181,199.496 94.6457,203.181 \n",
       "  100.173,206.866 105.701,203.181 111.228,199.496 116.756,203.181 122.283,206.866 127.811,203.181 133.339,199.496 138.866,195.811 144.394,192.126 149.921,188.441 \n",
       "  155.449,184.756 160.976,181.071 166.504,184.756 172.031,181.071 177.559,184.756 183.087,181.071 188.614,177.386 194.142,173.701 199.669,170.016 205.197,166.331 \n",
       "  210.724,170.016 216.252,166.331 221.78,170.016 227.307,173.701 232.835,170.016 238.362,166.331 243.89,162.646 249.417,158.961 254.945,162.646 260.472,158.961 \n",
       "  266,162.646 271.528,158.961 277.055,162.646 282.583,158.961 288.11,155.276 293.638,158.961 299.165,155.276 304.693,158.961 310.22,162.646 315.748,158.961 \n",
       "  \n",
       "  \"/>\n",
       "<polyline clip-path=\"url(#clip02)\" style=\"stroke:#47a065; stroke-width:1; stroke-opacity:1; fill:none\" points=\"\n",
       "  44.8976,192.126 50.4252,188.441 55.9528,192.126 61.4803,188.441 67.0079,192.126 72.5354,188.441 78.063,192.126 83.5906,195.811 89.1181,192.126 94.6457,188.441 \n",
       "  100.173,192.126 105.701,188.441 111.228,184.756 116.756,188.441 122.283,184.756 127.811,181.071 133.339,177.386 138.866,181.071 144.394,177.386 149.921,173.701 \n",
       "  155.449,170.016 160.976,173.701 166.504,170.016 172.031,166.331 177.559,162.646 183.087,158.961 188.614,155.276 194.142,158.961 199.669,162.646 205.197,166.331 \n",
       "  210.724,162.646 216.252,166.331 221.78,170.016 227.307,166.331 232.835,170.016 238.362,173.701 243.89,170.016 249.417,173.701 254.945,170.016 260.472,173.701 \n",
       "  266,170.016 271.528,166.331 277.055,170.016 282.583,166.331 288.11,162.646 293.638,158.961 299.165,162.646 304.693,158.961 310.22,155.276 315.748,151.591 \n",
       "  \n",
       "  \"/>\n",
       "<polyline clip-path=\"url(#clip02)\" style=\"stroke:#7683af; stroke-width:1; stroke-opacity:1; fill:none\" points=\"\n",
       "  44.8976,192.126 50.4252,188.441 55.9528,192.126 61.4803,188.441 67.0079,184.756 72.5354,188.441 78.063,192.126 83.5906,195.811 89.1181,192.126 94.6457,195.811 \n",
       "  100.173,192.126 105.701,195.811 111.228,199.496 116.756,203.181 122.283,206.866 127.811,203.181 133.339,206.866 138.866,210.551 144.394,206.866 149.921,203.181 \n",
       "  155.449,199.496 160.976,203.181 166.504,199.496 172.031,195.811 177.559,192.126 183.087,188.441 188.614,192.126 194.142,188.441 199.669,184.756 205.197,181.071 \n",
       "  210.724,177.386 216.252,173.701 221.78,177.386 227.307,181.071 232.835,184.756 238.362,181.071 243.89,177.386 249.417,173.701 254.945,177.386 260.472,181.071 \n",
       "  266,184.756 271.528,188.441 277.055,184.756 282.583,181.071 288.11,184.756 293.638,181.071 299.165,177.386 304.693,173.701 310.22,177.386 315.748,173.701 \n",
       "  \n",
       "  \"/>\n",
       "<polyline clip-path=\"url(#clip02)\" style=\"stroke:#b08086; stroke-width:1; stroke-opacity:1; fill:none\" points=\"\n",
       "  44.8976,192.126 50.4252,188.441 55.9528,192.126 61.4803,195.811 67.0079,199.496 72.5354,195.811 78.063,199.496 83.5906,195.811 89.1181,192.126 94.6457,195.811 \n",
       "  100.173,192.126 105.701,195.811 111.228,192.126 116.756,188.441 122.283,184.756 127.811,188.441 133.339,184.756 138.866,181.071 144.394,177.386 149.921,181.071 \n",
       "  155.449,177.386 160.976,173.701 166.504,177.386 172.031,173.701 177.559,170.016 183.087,173.701 188.614,177.386 194.142,173.701 199.669,170.016 205.197,173.701 \n",
       "  210.724,170.016 216.252,173.701 221.78,177.386 227.307,173.701 232.835,177.386 238.362,181.071 243.89,177.386 249.417,173.701 254.945,170.016 260.472,166.331 \n",
       "  266,162.646 271.528,166.331 277.055,162.646 282.583,158.961 288.11,155.276 293.638,158.961 299.165,155.276 304.693,151.591 310.22,155.276 315.748,158.961 \n",
       "  \n",
       "  \"/>\n",
       "<polyline clip-path=\"url(#clip02)\" style=\"stroke:#309ac1; stroke-width:1; stroke-opacity:1; fill:none\" points=\"\n",
       "  44.8976,192.126 50.4252,188.441 55.9528,192.126 61.4803,195.811 67.0079,199.496 72.5354,203.181 78.063,206.866 83.5906,210.551 89.1181,206.866 94.6457,203.181 \n",
       "  100.173,206.866 105.701,203.181 111.228,206.866 116.756,210.551 122.283,206.866 127.811,210.551 133.339,214.236 138.866,210.551 144.394,214.236 149.921,217.921 \n",
       "  155.449,214.236 160.976,210.551 166.504,214.236 172.031,217.921 177.559,221.606 183.087,225.291 188.614,228.976 194.142,232.661 199.669,236.346 205.197,232.661 \n",
       "  210.724,236.346 216.252,232.661 221.78,228.976 227.307,225.291 232.835,228.976 238.362,225.291 243.89,228.976 249.417,232.661 254.945,236.346 260.472,240.031 \n",
       "  266,236.346 271.528,240.031 277.055,236.346 282.583,232.661 288.11,236.346 293.638,232.661 299.165,236.346 304.693,240.031 310.22,243.717 315.748,240.031 \n",
       "  \n",
       "  \"/>\n",
       "<polyline clip-path=\"url(#clip02)\" style=\"stroke:#788490; stroke-width:1; stroke-opacity:1; fill:none\" points=\"\n",
       "  44.8976,192.126 50.4252,195.811 55.9528,199.496 61.4803,203.181 67.0079,199.496 72.5354,195.811 78.063,192.126 83.5906,188.441 89.1181,184.756 94.6457,181.071 \n",
       "  100.173,184.756 105.701,188.441 111.228,184.756 116.756,188.441 122.283,184.756 127.811,181.071 133.339,177.386 138.866,173.701 144.394,177.386 149.921,181.071 \n",
       "  155.449,184.756 160.976,181.071 166.504,177.386 172.031,181.071 177.559,184.756 183.087,181.071 188.614,177.386 194.142,173.701 199.669,177.386 205.197,173.701 \n",
       "  210.724,170.016 216.252,166.331 221.78,170.016 227.307,166.331 232.835,170.016 238.362,166.331 243.89,162.646 249.417,158.961 254.945,162.646 260.472,158.961 \n",
       "  266,162.646 271.528,158.961 277.055,155.276 282.583,151.591 288.11,155.276 293.638,158.961 299.165,155.276 304.693,158.961 310.22,155.276 315.748,158.961 \n",
       "  \n",
       "  \"/>\n",
       "<polyline clip-path=\"url(#clip02)\" style=\"stroke:#e561a4; stroke-width:1; stroke-opacity:1; fill:none\" points=\"\n",
       "  44.8976,192.126 50.4252,188.441 55.9528,192.126 61.4803,195.811 67.0079,192.126 72.5354,195.811 78.063,199.496 83.5906,195.811 89.1181,192.126 94.6457,188.441 \n",
       "  100.173,184.756 105.701,181.071 111.228,184.756 116.756,181.071 122.283,177.386 127.811,173.701 133.339,177.386 138.866,181.071 144.394,184.756 149.921,181.071 \n",
       "  155.449,177.386 160.976,181.071 166.504,177.386 172.031,181.071 177.559,184.756 183.087,181.071 188.614,177.386 194.142,173.701 199.669,170.016 205.197,166.331 \n",
       "  210.724,162.646 216.252,158.961 221.78,162.646 227.307,166.331 232.835,162.646 238.362,166.331 243.89,162.646 249.417,166.331 254.945,162.646 260.472,166.331 \n",
       "  266,162.646 271.528,158.961 277.055,162.646 282.583,158.961 288.11,162.646 293.638,158.961 299.165,162.646 304.693,166.331 310.22,170.016 315.748,173.701 \n",
       "  \n",
       "  \"/>\n",
       "<polyline clip-path=\"url(#clip02)\" style=\"stroke:#99902c; stroke-width:1; stroke-opacity:1; fill:none\" points=\"\n",
       "  44.8976,192.126 50.4252,188.441 55.9528,192.126 61.4803,188.441 67.0079,184.756 72.5354,181.071 78.063,177.386 83.5906,173.701 89.1181,177.386 94.6457,173.701 \n",
       "  100.173,170.016 105.701,173.701 111.228,170.016 116.756,173.701 122.283,170.016 127.811,166.331 133.339,162.646 138.866,158.961 144.394,155.276 149.921,158.961 \n",
       "  155.449,155.276 160.976,158.961 166.504,162.646 172.031,158.961 177.559,162.646 183.087,158.961 188.614,155.276 194.142,151.591 199.669,155.276 205.197,151.591 \n",
       "  210.724,147.906 216.252,151.591 221.78,147.906 227.307,144.22 232.835,147.906 238.362,144.22 243.89,147.906 249.417,151.591 254.945,147.906 260.472,144.22 \n",
       "  266,140.535 271.528,136.85 277.055,140.535 282.583,144.22 288.11,147.906 293.638,151.591 299.165,147.906 304.693,144.22 310.22,140.535 315.748,136.85 \n",
       "  \n",
       "  \"/>\n",
       "<polyline clip-path=\"url(#clip02)\" style=\"stroke:#389a7b; stroke-width:1; stroke-opacity:1; fill:none\" points=\"\n",
       "  44.8976,192.126 50.4252,195.811 55.9528,192.126 61.4803,188.441 67.0079,192.126 72.5354,195.811 78.063,199.496 83.5906,203.181 89.1181,199.496 94.6457,203.181 \n",
       "  100.173,199.496 105.701,203.181 111.228,199.496 116.756,203.181 122.283,199.496 127.811,203.181 133.339,199.496 138.866,203.181 144.394,206.866 149.921,210.551 \n",
       "  155.449,214.236 160.976,210.551 166.504,214.236 172.031,210.551 177.559,214.236 183.087,210.551 188.614,214.236 194.142,217.921 199.669,214.236 205.197,217.921 \n",
       "  210.724,221.606 216.252,225.291 221.78,221.606 227.307,217.921 232.835,221.606 238.362,217.921 243.89,221.606 249.417,217.921 254.945,214.236 260.472,217.921 \n",
       "  266,221.606 271.528,225.291 277.055,221.606 282.583,217.921 288.11,214.236 293.638,217.921 299.165,221.606 304.693,225.291 310.22,228.976 315.748,225.291 \n",
       "  \n",
       "  \"/>\n",
       "<polyline clip-path=\"url(#clip02)\" style=\"stroke:#d968a2; stroke-width:1; stroke-opacity:1; fill:none\" points=\"\n",
       "  44.8976,192.126 50.4252,188.441 55.9528,192.126 61.4803,195.811 67.0079,192.126 72.5354,188.441 78.063,192.126 83.5906,188.441 89.1181,184.756 94.6457,188.441 \n",
       "  100.173,192.126 105.701,195.811 111.228,199.496 116.756,203.181 122.283,206.866 127.811,203.181 133.339,199.496 138.866,203.181 144.394,199.496 149.921,203.181 \n",
       "  155.449,206.866 160.976,203.181 166.504,199.496 172.031,195.811 177.559,192.126 183.087,188.441 188.614,192.126 194.142,195.811 199.669,199.496 205.197,195.811 \n",
       "  210.724,192.126 216.252,195.811 221.78,192.126 227.307,195.811 232.835,199.496 238.362,203.181 243.89,206.866 249.417,210.551 254.945,214.236 260.472,217.921 \n",
       "  266,214.236 271.528,217.921 277.055,221.606 282.583,225.291 288.11,221.606 293.638,217.921 299.165,221.606 304.693,217.921 310.22,221.606 315.748,225.291 \n",
       "  \n",
       "  \"/>\n",
       "<polyline clip-path=\"url(#clip02)\" style=\"stroke:#009af9; stroke-width:1; stroke-opacity:1; fill:none\" points=\"\n",
       "  44.8976,192.126 50.4252,195.811 55.9528,199.496 61.4803,203.181 67.0079,206.866 72.5354,210.551 78.063,206.866 83.5906,203.181 89.1181,199.496 94.6457,195.811 \n",
       "  100.173,192.126 105.701,188.441 111.228,184.756 116.756,188.441 122.283,192.126 127.811,195.811 133.339,199.496 138.866,203.181 144.394,206.866 149.921,210.551 \n",
       "  155.449,206.866 160.976,210.551 166.504,214.236 172.031,210.551 177.559,214.236 183.087,217.921 188.614,221.606 194.142,225.291 199.669,221.606 205.197,225.291 \n",
       "  210.724,228.976 216.252,225.291 221.78,228.976 227.307,232.661 232.835,236.346 238.362,232.661 243.89,236.346 249.417,232.661 254.945,228.976 260.472,232.661 \n",
       "  266,228.976 271.528,225.291 277.055,221.606 282.583,217.921 288.11,214.236 293.638,217.921 299.165,221.606 304.693,225.291 310.22,228.976 315.748,232.661 \n",
       "  \n",
       "  \"/>\n",
       "<polyline clip-path=\"url(#clip02)\" style=\"stroke:#e26f46; stroke-width:1; stroke-opacity:1; fill:none\" points=\"\n",
       "  44.8976,192.126 50.4252,188.441 55.9528,184.756 61.4803,181.071 67.0079,177.386 72.5354,181.071 78.063,177.386 83.5906,181.071 89.1181,177.386 94.6457,173.701 \n",
       "  100.173,177.386 105.701,173.701 111.228,177.386 116.756,181.071 122.283,177.386 127.811,181.071 133.339,177.386 138.866,173.701 144.394,170.016 149.921,166.331 \n",
       "  155.449,162.646 160.976,166.331 166.504,170.016 172.031,166.331 177.559,162.646 183.087,158.961 188.614,162.646 194.142,158.961 199.669,155.276 205.197,151.591 \n",
       "  210.724,147.906 216.252,144.22 221.78,147.906 227.307,144.22 232.835,140.535 238.362,144.22 243.89,140.535 249.417,136.85 254.945,140.535 260.472,136.85 \n",
       "  266,133.165 271.528,129.48 277.055,133.165 282.583,136.85 288.11,133.165 293.638,136.85 299.165,133.165 304.693,129.48 310.22,125.795 315.748,129.48 \n",
       "  \n",
       "  \"/>\n",
       "<polyline clip-path=\"url(#clip02)\" style=\"stroke:#3da44d; stroke-width:1; stroke-opacity:1; fill:none\" points=\"\n",
       "  44.8976,192.126 50.4252,195.811 55.9528,199.496 61.4803,203.181 67.0079,199.496 72.5354,203.181 78.063,206.866 83.5906,210.551 89.1181,214.236 94.6457,210.551 \n",
       "  100.173,206.866 105.701,203.181 111.228,199.496 116.756,203.181 122.283,206.866 127.811,210.551 133.339,214.236 138.866,210.551 144.394,206.866 149.921,203.181 \n",
       "  155.449,199.496 160.976,203.181 166.504,206.866 172.031,203.181 177.559,206.866 183.087,203.181 188.614,206.866 194.142,210.551 199.669,206.866 205.197,203.181 \n",
       "  210.724,206.866 216.252,210.551 221.78,206.866 227.307,203.181 232.835,199.496 238.362,195.811 243.89,199.496 249.417,195.811 254.945,199.496 260.472,195.811 \n",
       "  266,192.126 271.528,188.441 277.055,184.756 282.583,181.071 288.11,184.756 293.638,181.071 299.165,184.756 304.693,181.071 310.22,177.386 315.748,173.701 \n",
       "  \n",
       "  \"/>\n",
       "<polyline clip-path=\"url(#clip02)\" style=\"stroke:#c271d2; stroke-width:1; stroke-opacity:1; fill:none\" points=\"\n",
       "  44.8976,192.126 50.4252,188.441 55.9528,184.756 61.4803,181.071 67.0079,184.756 72.5354,181.071 78.063,177.386 83.5906,181.071 89.1181,184.756 94.6457,188.441 \n",
       "  100.173,184.756 105.701,181.071 111.228,177.386 116.756,181.071 122.283,177.386 127.811,181.071 133.339,177.386 138.866,173.701 144.394,177.386 149.921,181.071 \n",
       "  155.449,184.756 160.976,188.441 166.504,192.126 172.031,188.441 177.559,192.126 183.087,188.441 188.614,184.756 194.142,188.441 199.669,184.756 205.197,188.441 \n",
       "  210.724,192.126 216.252,188.441 221.78,192.126 227.307,188.441 232.835,192.126 238.362,195.811 243.89,192.126 249.417,188.441 254.945,192.126 260.472,188.441 \n",
       "  266,184.756 271.528,188.441 277.055,184.756 282.583,188.441 288.11,192.126 293.638,188.441 299.165,192.126 304.693,195.811 310.22,199.496 315.748,195.811 \n",
       "  \n",
       "  \"/>\n",
       "<polyline clip-path=\"url(#clip02)\" style=\"stroke:#ac8d18; stroke-width:1; stroke-opacity:1; fill:none\" points=\"\n",
       "  44.8976,192.126 50.4252,188.441 55.9528,192.126 61.4803,195.811 67.0079,199.496 72.5354,195.811 78.063,199.496 83.5906,195.811 89.1181,199.496 94.6457,203.181 \n",
       "  100.173,199.496 105.701,203.181 111.228,206.866 116.756,203.181 122.283,199.496 127.811,195.811 133.339,192.126 138.866,188.441 144.394,192.126 149.921,188.441 \n",
       "  155.449,192.126 160.976,188.441 166.504,184.756 172.031,181.071 177.559,177.386 183.087,173.701 188.614,177.386 194.142,173.701 199.669,177.386 205.197,181.071 \n",
       "  210.724,184.756 216.252,188.441 221.78,192.126 227.307,188.441 232.835,184.756 238.362,181.071 243.89,184.756 249.417,181.071 254.945,177.386 260.472,173.701 \n",
       "  266,170.016 271.528,173.701 277.055,177.386 282.583,181.071 288.11,177.386 293.638,173.701 299.165,177.386 304.693,181.071 310.22,177.386 315.748,181.071 \n",
       "  \n",
       "  \"/>\n",
       "<polyline clip-path=\"url(#clip02)\" style=\"stroke:#00a9ad; stroke-width:1; stroke-opacity:1; fill:none\" points=\"\n",
       "  44.8976,192.126 50.4252,195.811 55.9528,192.126 61.4803,188.441 67.0079,192.126 72.5354,195.811 78.063,199.496 83.5906,203.181 89.1181,206.866 94.6457,203.181 \n",
       "  100.173,199.496 105.701,195.811 111.228,199.496 116.756,203.181 122.283,199.496 127.811,203.181 133.339,199.496 138.866,203.181 144.394,199.496 149.921,203.181 \n",
       "  155.449,206.866 160.976,203.181 166.504,206.866 172.031,203.181 177.559,206.866 183.087,203.181 188.614,206.866 194.142,203.181 199.669,199.496 205.197,195.811 \n",
       "  210.724,199.496 216.252,203.181 221.78,206.866 227.307,203.181 232.835,199.496 238.362,203.181 243.89,199.496 249.417,195.811 254.945,192.126 260.472,195.811 \n",
       "  266,199.496 271.528,195.811 277.055,192.126 282.583,188.441 288.11,184.756 293.638,181.071 299.165,184.756 304.693,188.441 310.22,184.756 315.748,188.441 \n",
       "  \n",
       "  \"/>\n",
       "<polyline clip-path=\"url(#clip02)\" style=\"stroke:#ed5d92; stroke-width:1; stroke-opacity:1; fill:none\" points=\"\n",
       "  44.8976,192.126 50.4252,195.811 55.9528,199.496 61.4803,195.811 67.0079,192.126 72.5354,188.441 78.063,184.756 83.5906,188.441 89.1181,184.756 94.6457,188.441 \n",
       "  100.173,184.756 105.701,188.441 111.228,192.126 116.756,195.811 122.283,192.126 127.811,188.441 133.339,192.126 138.866,188.441 144.394,192.126 149.921,188.441 \n",
       "  155.449,192.126 160.976,188.441 166.504,192.126 172.031,188.441 177.559,184.756 183.087,181.071 188.614,184.756 194.142,181.071 199.669,184.756 205.197,181.071 \n",
       "  210.724,184.756 216.252,188.441 221.78,184.756 227.307,181.071 232.835,184.756 238.362,181.071 243.89,184.756 249.417,188.441 254.945,192.126 260.472,195.811 \n",
       "  266,192.126 271.528,188.441 277.055,184.756 282.583,188.441 288.11,184.756 293.638,188.441 299.165,184.756 304.693,181.071 310.22,177.386 315.748,181.071 \n",
       "  \n",
       "  \"/>\n",
       "<polyline clip-path=\"url(#clip02)\" style=\"stroke:#c68125; stroke-width:1; stroke-opacity:1; fill:none\" points=\"\n",
       "  44.8976,192.126 50.4252,195.811 55.9528,192.126 61.4803,188.441 67.0079,184.756 72.5354,181.071 78.063,184.756 83.5906,181.071 89.1181,184.756 94.6457,188.441 \n",
       "  100.173,184.756 105.701,181.071 111.228,184.756 116.756,188.441 122.283,184.756 127.811,188.441 133.339,192.126 138.866,188.441 144.394,192.126 149.921,188.441 \n",
       "  155.449,184.756 160.976,188.441 166.504,184.756 172.031,181.071 177.559,177.386 183.087,181.071 188.614,177.386 194.142,181.071 199.669,177.386 205.197,181.071 \n",
       "  210.724,184.756 216.252,181.071 221.78,177.386 227.307,173.701 232.835,177.386 238.362,173.701 243.89,177.386 249.417,173.701 254.945,177.386 260.472,181.071 \n",
       "  266,177.386 271.528,181.071 277.055,177.386 282.583,181.071 288.11,184.756 293.638,181.071 299.165,177.386 304.693,173.701 310.22,177.386 315.748,173.701 \n",
       "  \n",
       "  \"/>\n",
       "<polyline clip-path=\"url(#clip02)\" style=\"stroke:#00a98d; stroke-width:1; stroke-opacity:1; fill:none\" points=\"\n",
       "  44.8976,192.126 50.4252,188.441 55.9528,192.126 61.4803,195.811 67.0079,192.126 72.5354,195.811 78.063,192.126 83.5906,195.811 89.1181,192.126 94.6457,195.811 \n",
       "  100.173,192.126 105.701,188.441 111.228,184.756 116.756,181.071 122.283,184.756 127.811,188.441 133.339,192.126 138.866,188.441 144.394,192.126 149.921,188.441 \n",
       "  155.449,184.756 160.976,181.071 166.504,177.386 172.031,181.071 177.559,177.386 183.087,181.071 188.614,184.756 194.142,181.071 199.669,184.756 205.197,188.441 \n",
       "  210.724,192.126 216.252,195.811 221.78,199.496 227.307,203.181 232.835,206.866 238.362,210.551 243.89,206.866 249.417,203.181 254.945,206.866 260.472,210.551 \n",
       "  266,214.236 271.528,217.921 277.055,221.606 282.583,225.291 288.11,221.606 293.638,225.291 299.165,221.606 304.693,217.921 310.22,221.606 315.748,217.921 \n",
       "  \n",
       "  \"/>\n",
       "<polyline clip-path=\"url(#clip02)\" style=\"stroke:#8e971d; stroke-width:1; stroke-opacity:1; fill:none\" points=\"\n",
       "  44.8976,192.126 50.4252,195.811 55.9528,199.496 61.4803,203.181 67.0079,199.496 72.5354,203.181 78.063,199.496 83.5906,195.811 89.1181,192.126 94.6457,195.811 \n",
       "  100.173,192.126 105.701,188.441 111.228,192.126 116.756,195.811 122.283,192.126 127.811,195.811 133.339,192.126 138.866,188.441 144.394,184.756 149.921,181.071 \n",
       "  155.449,177.386 160.976,181.071 166.504,177.386 172.031,181.071 177.559,184.756 183.087,181.071 188.614,177.386 194.142,181.071 199.669,177.386 205.197,181.071 \n",
       "  210.724,184.756 216.252,188.441 221.78,184.756 227.307,181.071 232.835,177.386 238.362,181.071 243.89,184.756 249.417,188.441 254.945,192.126 260.472,195.811 \n",
       "  266,192.126 271.528,195.811 277.055,192.126 282.583,195.811 288.11,192.126 293.638,195.811 299.165,199.496 304.693,195.811 310.22,199.496 315.748,203.181 \n",
       "  \n",
       "  \"/>\n",
       "<polyline clip-path=\"url(#clip02)\" style=\"stroke:#00a8cb; stroke-width:1; stroke-opacity:1; fill:none\" points=\"\n",
       "  44.8976,192.126 50.4252,195.811 55.9528,199.496 61.4803,203.181 67.0079,199.496 72.5354,195.811 78.063,192.126 83.5906,195.811 89.1181,199.496 94.6457,195.811 \n",
       "  100.173,199.496 105.701,203.181 111.228,199.496 116.756,195.811 122.283,199.496 127.811,195.811 133.339,192.126 138.866,195.811 144.394,192.126 149.921,195.811 \n",
       "  155.449,192.126 160.976,188.441 166.504,184.756 172.031,181.071 177.559,177.386 183.087,173.701 188.614,170.016 194.142,173.701 199.669,170.016 205.197,166.331 \n",
       "  210.724,170.016 216.252,166.331 221.78,170.016 227.307,166.331 232.835,162.646 238.362,158.961 243.89,155.276 249.417,151.591 254.945,155.276 260.472,158.961 \n",
       "  266,162.646 271.528,166.331 277.055,162.646 282.583,166.331 288.11,170.016 293.638,166.331 299.165,170.016 304.693,166.331 310.22,170.016 315.748,173.701 \n",
       "  \n",
       "  \"/>\n",
       "<polyline clip-path=\"url(#clip02)\" style=\"stroke:#9b7fe8; stroke-width:1; stroke-opacity:1; fill:none\" points=\"\n",
       "  44.8976,192.126 50.4252,195.811 55.9528,192.126 61.4803,195.811 67.0079,199.496 72.5354,195.811 78.063,192.126 83.5906,188.441 89.1181,192.126 94.6457,188.441 \n",
       "  100.173,192.126 105.701,195.811 111.228,192.126 116.756,188.441 122.283,192.126 127.811,195.811 133.339,199.496 138.866,203.181 144.394,199.496 149.921,195.811 \n",
       "  155.449,192.126 160.976,195.811 166.504,192.126 172.031,195.811 177.559,199.496 183.087,195.811 188.614,192.126 194.142,195.811 199.669,199.496 205.197,203.181 \n",
       "  210.724,199.496 216.252,203.181 221.78,199.496 227.307,203.181 232.835,199.496 238.362,195.811 243.89,192.126 249.417,188.441 254.945,184.756 260.472,181.071 \n",
       "  266,184.756 271.528,188.441 277.055,192.126 282.583,188.441 288.11,184.756 293.638,181.071 299.165,177.386 304.693,181.071 310.22,184.756 315.748,181.071 \n",
       "  \n",
       "  \"/>\n",
       "<polyline clip-path=\"url(#clip02)\" style=\"stroke:#608cf6; stroke-width:1; stroke-opacity:1; fill:none\" points=\"\n",
       "  44.8976,192.126 50.4252,188.441 55.9528,184.756 61.4803,181.071 67.0079,177.386 72.5354,173.701 78.063,170.016 83.5906,166.331 89.1181,162.646 94.6457,158.961 \n",
       "  100.173,162.646 105.701,158.961 111.228,162.646 116.756,166.331 122.283,170.016 127.811,173.701 133.339,170.016 138.866,173.701 144.394,177.386 149.921,173.701 \n",
       "  155.449,170.016 160.976,166.331 166.504,170.016 172.031,173.701 177.559,170.016 183.087,173.701 188.614,170.016 194.142,173.701 199.669,177.386 205.197,181.071 \n",
       "  210.724,184.756 216.252,181.071 221.78,184.756 227.307,181.071 232.835,184.756 238.362,188.441 243.89,192.126 249.417,188.441 254.945,192.126 260.472,188.441 \n",
       "  266,184.756 271.528,181.071 277.055,184.756 282.583,188.441 288.11,184.756 293.638,188.441 299.165,184.756 304.693,188.441 310.22,184.756 315.748,181.071 \n",
       "  \n",
       "  \"/>\n",
       "<polyline clip-path=\"url(#clip02)\" style=\"stroke:#f05f73; stroke-width:1; stroke-opacity:1; fill:none\" points=\"\n",
       "  44.8976,192.126 50.4252,188.441 55.9528,192.126 61.4803,195.811 67.0079,192.126 72.5354,195.811 78.063,192.126 83.5906,195.811 89.1181,199.496 94.6457,195.811 \n",
       "  100.173,199.496 105.701,203.181 111.228,199.496 116.756,203.181 122.283,199.496 127.811,195.811 133.339,192.126 138.866,188.441 144.394,184.756 149.921,181.071 \n",
       "  155.449,184.756 160.976,188.441 166.504,192.126 172.031,188.441 177.559,184.756 183.087,188.441 188.614,184.756 194.142,188.441 199.669,192.126 205.197,188.441 \n",
       "  210.724,184.756 216.252,188.441 221.78,184.756 227.307,188.441 232.835,184.756 238.362,188.441 243.89,184.756 249.417,188.441 254.945,192.126 260.472,195.811 \n",
       "  266,192.126 271.528,188.441 277.055,184.756 282.583,188.441 288.11,192.126 293.638,195.811 299.165,192.126 304.693,188.441 310.22,192.126 315.748,195.811 \n",
       "  \n",
       "  \"/>\n",
       "<polyline clip-path=\"url(#clip02)\" style=\"stroke:#dd64b5; stroke-width:1; stroke-opacity:1; fill:none\" points=\"\n",
       "  44.8976,192.126 50.4252,195.811 55.9528,192.126 61.4803,188.441 67.0079,192.126 72.5354,188.441 78.063,192.126 83.5906,195.811 89.1181,192.126 94.6457,195.811 \n",
       "  100.173,199.496 105.701,195.811 111.228,192.126 116.756,188.441 122.283,192.126 127.811,195.811 133.339,192.126 138.866,195.811 144.394,199.496 149.921,195.811 \n",
       "  155.449,199.496 160.976,195.811 166.504,192.126 172.031,195.811 177.559,192.126 183.087,195.811 188.614,199.496 194.142,203.181 199.669,206.866 205.197,210.551 \n",
       "  210.724,214.236 216.252,210.551 221.78,206.866 227.307,203.181 232.835,206.866 238.362,210.551 243.89,214.236 249.417,210.551 254.945,206.866 260.472,203.181 \n",
       "  266,206.866 271.528,203.181 277.055,199.496 282.583,203.181 288.11,199.496 293.638,203.181 299.165,199.496 304.693,195.811 310.22,199.496 315.748,203.181 \n",
       "  \n",
       "  \"/>\n",
       "<polyline clip-path=\"url(#clip02)\" style=\"stroke:#6b9e32; stroke-width:1; stroke-opacity:1; fill:none\" points=\"\n",
       "  44.8976,192.126 50.4252,195.811 55.9528,192.126 61.4803,188.441 67.0079,192.126 72.5354,195.811 78.063,192.126 83.5906,188.441 89.1181,192.126 94.6457,188.441 \n",
       "  100.173,192.126 105.701,188.441 111.228,184.756 116.756,181.071 122.283,177.386 127.811,173.701 133.339,170.016 138.866,173.701 144.394,170.016 149.921,166.331 \n",
       "  155.449,170.016 160.976,173.701 166.504,170.016 172.031,166.331 177.559,170.016 183.087,173.701 188.614,170.016 194.142,173.701 199.669,177.386 205.197,181.071 \n",
       "  210.724,177.386 216.252,181.071 221.78,184.756 227.307,181.071 232.835,184.756 238.362,181.071 243.89,177.386 249.417,173.701 254.945,177.386 260.472,181.071 \n",
       "  266,177.386 271.528,173.701 277.055,177.386 282.583,173.701 288.11,170.016 293.638,166.331 299.165,162.646 304.693,166.331 310.22,162.646 315.748,158.961 \n",
       "  \n",
       "  \"/>\n",
       "<polyline clip-path=\"url(#clip02)\" style=\"stroke:#718c69; stroke-width:1; stroke-opacity:1; fill:none\" points=\"\n",
       "  44.8976,192.126 50.4252,195.811 55.9528,192.126 61.4803,188.441 67.0079,184.756 72.5354,188.441 78.063,192.126 83.5906,188.441 89.1181,192.126 94.6457,195.811 \n",
       "  100.173,192.126 105.701,188.441 111.228,184.756 116.756,188.441 122.283,184.756 127.811,181.071 133.339,177.386 138.866,181.071 144.394,177.386 149.921,181.071 \n",
       "  155.449,184.756 160.976,181.071 166.504,177.386 172.031,181.071 177.559,177.386 183.087,181.071 188.614,177.386 194.142,181.071 199.669,177.386 205.197,181.071 \n",
       "  210.724,177.386 216.252,173.701 221.78,177.386 227.307,181.071 232.835,184.756 238.362,188.441 243.89,184.756 249.417,181.071 254.945,184.756 260.472,188.441 \n",
       "  266,192.126 271.528,188.441 277.055,192.126 282.583,195.811 288.11,199.496 293.638,195.811 299.165,192.126 304.693,188.441 310.22,192.126 315.748,188.441 \n",
       "  \n",
       "  \"/>\n",
       "<polyline clip-path=\"url(#clip02)\" style=\"stroke:#47988b; stroke-width:1; stroke-opacity:1; fill:none\" points=\"\n",
       "  44.8976,192.126 50.4252,188.441 55.9528,184.756 61.4803,181.071 67.0079,177.386 72.5354,173.701 78.063,170.016 83.5906,166.331 89.1181,170.016 94.6457,173.701 \n",
       "  100.173,177.386 105.701,173.701 111.228,170.016 116.756,166.331 122.283,162.646 127.811,166.331 133.339,170.016 138.866,166.331 144.394,162.646 149.921,166.331 \n",
       "  155.449,162.646 160.976,158.961 166.504,162.646 172.031,158.961 177.559,155.276 183.087,158.961 188.614,162.646 194.142,158.961 199.669,162.646 205.197,158.961 \n",
       "  210.724,162.646 216.252,166.331 221.78,162.646 227.307,158.961 232.835,155.276 238.362,151.591 243.89,147.906 249.417,151.591 254.945,147.906 260.472,151.591 \n",
       "  266,155.276 271.528,158.961 277.055,162.646 282.583,166.331 288.11,162.646 293.638,158.961 299.165,155.276 304.693,151.591 310.22,155.276 315.748,151.591 \n",
       "  \n",
       "  \"/>\n",
       "<polyline clip-path=\"url(#clip02)\" style=\"stroke:#1ea68c; stroke-width:1; stroke-opacity:1; fill:none\" points=\"\n",
       "  44.8976,192.126 50.4252,188.441 55.9528,192.126 61.4803,195.811 67.0079,192.126 72.5354,195.811 78.063,192.126 83.5906,195.811 89.1181,192.126 94.6457,188.441 \n",
       "  100.173,192.126 105.701,195.811 111.228,192.126 116.756,188.441 122.283,184.756 127.811,181.071 133.339,177.386 138.866,173.701 144.394,177.386 149.921,181.071 \n",
       "  155.449,177.386 160.976,181.071 166.504,184.756 172.031,181.071 177.559,177.386 183.087,181.071 188.614,177.386 194.142,173.701 199.669,177.386 205.197,173.701 \n",
       "  210.724,170.016 216.252,166.331 221.78,162.646 227.307,166.331 232.835,162.646 238.362,158.961 243.89,162.646 249.417,158.961 254.945,155.276 260.472,151.591 \n",
       "  266,147.906 271.528,144.22 277.055,140.535 282.583,144.22 288.11,140.535 293.638,144.22 299.165,147.906 304.693,144.22 310.22,147.906 315.748,151.591 \n",
       "  \n",
       "  \"/>\n",
       "<polyline clip-path=\"url(#clip02)\" style=\"stroke:#af78dd; stroke-width:1; stroke-opacity:1; fill:none\" points=\"\n",
       "  44.8976,192.126 50.4252,188.441 55.9528,184.756 61.4803,181.071 67.0079,177.386 72.5354,173.701 78.063,170.016 83.5906,173.701 89.1181,170.016 94.6457,173.701 \n",
       "  100.173,170.016 105.701,166.331 111.228,162.646 116.756,166.331 122.283,162.646 127.811,158.961 133.339,162.646 138.866,166.331 144.394,162.646 149.921,166.331 \n",
       "  155.449,162.646 160.976,158.961 166.504,155.276 172.031,151.591 177.559,147.906 183.087,144.22 188.614,140.535 194.142,136.85 199.669,140.535 205.197,144.22 \n",
       "  210.724,140.535 216.252,144.22 221.78,140.535 227.307,144.22 232.835,140.535 238.362,136.85 243.89,133.165 249.417,129.48 254.945,133.165 260.472,129.48 \n",
       "  266,133.165 271.528,136.85 277.055,133.165 282.583,129.48 288.11,133.165 293.638,129.48 299.165,125.795 304.693,122.11 310.22,125.795 315.748,122.11 \n",
       "  \n",
       "  \"/>\n",
       "<polyline clip-path=\"url(#clip02)\" style=\"stroke:#868d87; stroke-width:1; stroke-opacity:1; fill:none\" points=\"\n",
       "  44.8976,192.126 50.4252,188.441 55.9528,184.756 61.4803,181.071 67.0079,177.386 72.5354,173.701 78.063,177.386 83.5906,181.071 89.1181,177.386 94.6457,173.701 \n",
       "  100.173,177.386 105.701,181.071 111.228,184.756 116.756,188.441 122.283,192.126 127.811,195.811 133.339,199.496 138.866,203.181 144.394,199.496 149.921,195.811 \n",
       "  155.449,192.126 160.976,188.441 166.504,184.756 172.031,181.071 177.559,177.386 183.087,181.071 188.614,177.386 194.142,173.701 199.669,170.016 205.197,173.701 \n",
       "  210.724,170.016 216.252,173.701 221.78,170.016 227.307,173.701 232.835,177.386 238.362,181.071 243.89,184.756 249.417,181.071 254.945,184.756 260.472,181.071 \n",
       "  266,177.386 271.528,181.071 277.055,177.386 282.583,173.701 288.11,177.386 293.638,173.701 299.165,177.386 304.693,181.071 310.22,184.756 315.748,181.071 \n",
       "  \n",
       "  \"/>\n",
       "<polyline clip-path=\"url(#clip02)\" style=\"stroke:#47a065; stroke-width:1; stroke-opacity:1; fill:none\" points=\"\n",
       "  44.8976,192.126 50.4252,188.441 55.9528,192.126 61.4803,188.441 67.0079,192.126 72.5354,195.811 78.063,192.126 83.5906,195.811 89.1181,199.496 94.6457,195.811 \n",
       "  100.173,199.496 105.701,203.181 111.228,206.866 116.756,203.181 122.283,206.866 127.811,203.181 133.339,199.496 138.866,195.811 144.394,199.496 149.921,195.811 \n",
       "  155.449,192.126 160.976,188.441 166.504,184.756 172.031,188.441 177.559,184.756 183.087,181.071 188.614,184.756 194.142,188.441 199.669,192.126 205.197,195.811 \n",
       "  210.724,199.496 216.252,195.811 221.78,199.496 227.307,203.181 232.835,199.496 238.362,203.181 243.89,206.866 249.417,203.181 254.945,206.866 260.472,210.551 \n",
       "  266,206.866 271.528,210.551 277.055,206.866 282.583,210.551 288.11,214.236 293.638,210.551 299.165,206.866 304.693,203.181 310.22,199.496 315.748,203.181 \n",
       "  \n",
       "  \"/>\n",
       "<polyline clip-path=\"url(#clip02)\" style=\"stroke:#7683af; stroke-width:1; stroke-opacity:1; fill:none\" points=\"\n",
       "  44.8976,192.126 50.4252,195.811 55.9528,199.496 61.4803,195.811 67.0079,199.496 72.5354,195.811 78.063,192.126 83.5906,188.441 89.1181,192.126 94.6457,195.811 \n",
       "  100.173,199.496 105.701,195.811 111.228,199.496 116.756,203.181 122.283,199.496 127.811,195.811 133.339,199.496 138.866,195.811 144.394,192.126 149.921,188.441 \n",
       "  155.449,192.126 160.976,195.811 166.504,192.126 172.031,188.441 177.559,192.126 183.087,195.811 188.614,199.496 194.142,195.811 199.669,199.496 205.197,203.181 \n",
       "  210.724,206.866 216.252,210.551 221.78,214.236 227.307,217.921 232.835,214.236 238.362,210.551 243.89,214.236 249.417,210.551 254.945,206.866 260.472,203.181 \n",
       "  266,199.496 271.528,203.181 277.055,199.496 282.583,195.811 288.11,192.126 293.638,188.441 299.165,192.126 304.693,188.441 310.22,192.126 315.748,188.441 \n",
       "  \n",
       "  \"/>\n",
       "<polyline clip-path=\"url(#clip02)\" style=\"stroke:#b08086; stroke-width:1; stroke-opacity:1; fill:none\" points=\"\n",
       "  44.8976,192.126 50.4252,188.441 55.9528,192.126 61.4803,195.811 67.0079,199.496 72.5354,203.181 78.063,199.496 83.5906,195.811 89.1181,199.496 94.6457,195.811 \n",
       "  100.173,192.126 105.701,188.441 111.228,192.126 116.756,188.441 122.283,184.756 127.811,181.071 133.339,184.756 138.866,188.441 144.394,184.756 149.921,188.441 \n",
       "  155.449,192.126 160.976,195.811 166.504,199.496 172.031,195.811 177.559,192.126 183.087,188.441 188.614,184.756 194.142,188.441 199.669,192.126 205.197,188.441 \n",
       "  210.724,184.756 216.252,188.441 221.78,184.756 227.307,188.441 232.835,184.756 238.362,181.071 243.89,177.386 249.417,181.071 254.945,177.386 260.472,173.701 \n",
       "  266,170.016 271.528,166.331 277.055,170.016 282.583,173.701 288.11,177.386 293.638,173.701 299.165,177.386 304.693,173.701 310.22,170.016 315.748,173.701 \n",
       "  \n",
       "  \"/>\n",
       "<polyline clip-path=\"url(#clip02)\" style=\"stroke:#309ac1; stroke-width:1; stroke-opacity:1; fill:none\" points=\"\n",
       "  44.8976,192.126 50.4252,195.811 55.9528,192.126 61.4803,195.811 67.0079,199.496 72.5354,195.811 78.063,192.126 83.5906,195.811 89.1181,199.496 94.6457,195.811 \n",
       "  100.173,199.496 105.701,195.811 111.228,192.126 116.756,195.811 122.283,199.496 127.811,203.181 133.339,199.496 138.866,203.181 144.394,199.496 149.921,203.181 \n",
       "  155.449,206.866 160.976,203.181 166.504,206.866 172.031,210.551 177.559,214.236 183.087,210.551 188.614,206.866 194.142,210.551 199.669,206.866 205.197,210.551 \n",
       "  210.724,206.866 216.252,210.551 221.78,206.866 227.307,203.181 232.835,206.866 238.362,203.181 243.89,206.866 249.417,210.551 254.945,214.236 260.472,217.921 \n",
       "  266,214.236 271.528,217.921 277.055,214.236 282.583,217.921 288.11,214.236 293.638,217.921 299.165,214.236 304.693,217.921 310.22,221.606 315.748,217.921 \n",
       "  \n",
       "  \"/>\n",
       "<polyline clip-path=\"url(#clip02)\" style=\"stroke:#788490; stroke-width:1; stroke-opacity:1; fill:none\" points=\"\n",
       "  44.8976,192.126 50.4252,195.811 55.9528,192.126 61.4803,195.811 67.0079,199.496 72.5354,203.181 78.063,199.496 83.5906,195.811 89.1181,192.126 94.6457,195.811 \n",
       "  100.173,192.126 105.701,188.441 111.228,192.126 116.756,188.441 122.283,192.126 127.811,188.441 133.339,192.126 138.866,188.441 144.394,184.756 149.921,181.071 \n",
       "  155.449,177.386 160.976,173.701 166.504,170.016 172.031,166.331 177.559,170.016 183.087,166.331 188.614,162.646 194.142,166.331 199.669,162.646 205.197,158.961 \n",
       "  210.724,155.276 216.252,151.591 221.78,147.906 227.307,144.22 232.835,147.906 238.362,144.22 243.89,140.535 249.417,144.22 254.945,147.906 260.472,151.591 \n",
       "  266,155.276 271.528,151.591 277.055,147.906 282.583,144.22 288.11,147.906 293.638,144.22 299.165,147.906 304.693,144.22 310.22,147.906 315.748,151.591 \n",
       "  \n",
       "  \"/>\n",
       "<polyline clip-path=\"url(#clip02)\" style=\"stroke:#e561a4; stroke-width:1; stroke-opacity:1; fill:none\" points=\"\n",
       "  44.8976,192.126 50.4252,195.811 55.9528,192.126 61.4803,188.441 67.0079,192.126 72.5354,195.811 78.063,192.126 83.5906,195.811 89.1181,192.126 94.6457,195.811 \n",
       "  100.173,199.496 105.701,195.811 111.228,192.126 116.756,188.441 122.283,192.126 127.811,188.441 133.339,184.756 138.866,181.071 144.394,184.756 149.921,181.071 \n",
       "  155.449,184.756 160.976,181.071 166.504,177.386 172.031,173.701 177.559,177.386 183.087,173.701 188.614,177.386 194.142,173.701 199.669,170.016 205.197,173.701 \n",
       "  210.724,177.386 216.252,173.701 221.78,177.386 227.307,181.071 232.835,184.756 238.362,188.441 243.89,192.126 249.417,188.441 254.945,184.756 260.472,188.441 \n",
       "  266,184.756 271.528,181.071 277.055,177.386 282.583,181.071 288.11,177.386 293.638,181.071 299.165,184.756 304.693,181.071 310.22,177.386 315.748,181.071 \n",
       "  \n",
       "  \"/>\n",
       "<polyline clip-path=\"url(#clip02)\" style=\"stroke:#99902c; stroke-width:1; stroke-opacity:1; fill:none\" points=\"\n",
       "  44.8976,192.126 50.4252,195.811 55.9528,199.496 61.4803,203.181 67.0079,199.496 72.5354,203.181 78.063,199.496 83.5906,203.181 89.1181,199.496 94.6457,203.181 \n",
       "  100.173,206.866 105.701,210.551 111.228,206.866 116.756,210.551 122.283,206.866 127.811,210.551 133.339,214.236 138.866,217.921 144.394,214.236 149.921,217.921 \n",
       "  155.449,221.606 160.976,217.921 166.504,221.606 172.031,225.291 177.559,221.606 183.087,217.921 188.614,214.236 194.142,210.551 199.669,214.236 205.197,217.921 \n",
       "  210.724,221.606 216.252,225.291 221.78,221.606 227.307,217.921 232.835,214.236 238.362,210.551 243.89,206.866 249.417,203.181 254.945,206.866 260.472,210.551 \n",
       "  266,206.866 271.528,203.181 277.055,199.496 282.583,195.811 288.11,192.126 293.638,195.811 299.165,199.496 304.693,203.181 310.22,199.496 315.748,203.181 \n",
       "  \n",
       "  \"/>\n",
       "<polyline clip-path=\"url(#clip02)\" style=\"stroke:#389a7b; stroke-width:1; stroke-opacity:1; fill:none\" points=\"\n",
       "  44.8976,192.126 50.4252,195.811 55.9528,192.126 61.4803,195.811 67.0079,199.496 72.5354,203.181 78.063,199.496 83.5906,203.181 89.1181,206.866 94.6457,203.181 \n",
       "  100.173,199.496 105.701,195.811 111.228,199.496 116.756,195.811 122.283,199.496 127.811,195.811 133.339,192.126 138.866,195.811 144.394,192.126 149.921,188.441 \n",
       "  155.449,192.126 160.976,195.811 166.504,192.126 172.031,195.811 177.559,199.496 183.087,195.811 188.614,199.496 194.142,203.181 199.669,206.866 205.197,203.181 \n",
       "  210.724,199.496 216.252,195.811 221.78,192.126 227.307,188.441 232.835,192.126 238.362,188.441 243.89,184.756 249.417,181.071 254.945,177.386 260.472,173.701 \n",
       "  266,170.016 271.528,166.331 277.055,170.016 282.583,173.701 288.11,170.016 293.638,173.701 299.165,177.386 304.693,181.071 310.22,177.386 315.748,181.071 \n",
       "  \n",
       "  \"/>\n",
       "<polyline clip-path=\"url(#clip02)\" style=\"stroke:#d968a2; stroke-width:1; stroke-opacity:1; fill:none\" points=\"\n",
       "  44.8976,192.126 50.4252,195.811 55.9528,199.496 61.4803,195.811 67.0079,199.496 72.5354,195.811 78.063,199.496 83.5906,195.811 89.1181,192.126 94.6457,195.811 \n",
       "  100.173,192.126 105.701,188.441 111.228,184.756 116.756,181.071 122.283,184.756 127.811,181.071 133.339,184.756 138.866,188.441 144.394,192.126 149.921,188.441 \n",
       "  155.449,184.756 160.976,188.441 166.504,184.756 172.031,181.071 177.559,184.756 183.087,188.441 188.614,192.126 194.142,195.811 199.669,192.126 205.197,195.811 \n",
       "  210.724,192.126 216.252,195.811 221.78,192.126 227.307,188.441 232.835,192.126 238.362,195.811 243.89,192.126 249.417,188.441 254.945,192.126 260.472,195.811 \n",
       "  266,199.496 271.528,203.181 277.055,206.866 282.583,210.551 288.11,206.866 293.638,203.181 299.165,199.496 304.693,195.811 310.22,192.126 315.748,188.441 \n",
       "  \n",
       "  \"/>\n",
       "<polyline clip-path=\"url(#clip02)\" style=\"stroke:#009af9; stroke-width:1; stroke-opacity:1; fill:none\" points=\"\n",
       "  44.8976,192.126 50.4252,195.811 55.9528,192.126 61.4803,195.811 67.0079,199.496 72.5354,203.181 78.063,199.496 83.5906,195.811 89.1181,192.126 94.6457,195.811 \n",
       "  100.173,199.496 105.701,203.181 111.228,206.866 116.756,210.551 122.283,214.236 127.811,210.551 133.339,214.236 138.866,217.921 144.394,221.606 149.921,225.291 \n",
       "  155.449,228.976 160.976,225.291 166.504,228.976 172.031,232.661 177.559,228.976 183.087,225.291 188.614,228.976 194.142,225.291 199.669,221.606 205.197,217.921 \n",
       "  210.724,221.606 216.252,225.291 221.78,228.976 227.307,232.661 232.835,228.976 238.362,232.661 243.89,236.346 249.417,232.661 254.945,236.346 260.472,232.661 \n",
       "  266,236.346 271.528,240.031 277.055,236.346 282.583,240.031 288.11,236.346 293.638,232.661 299.165,236.346 304.693,232.661 310.22,228.976 315.748,232.661 \n",
       "  \n",
       "  \"/>\n",
       "<polyline clip-path=\"url(#clip02)\" style=\"stroke:#e26f46; stroke-width:1; stroke-opacity:1; fill:none\" points=\"\n",
       "  44.8976,192.126 50.4252,188.441 55.9528,184.756 61.4803,181.071 67.0079,177.386 72.5354,181.071 78.063,177.386 83.5906,173.701 89.1181,177.386 94.6457,181.071 \n",
       "  100.173,177.386 105.701,181.071 111.228,184.756 116.756,181.071 122.283,177.386 127.811,181.071 133.339,177.386 138.866,181.071 144.394,184.756 149.921,188.441 \n",
       "  155.449,192.126 160.976,195.811 166.504,199.496 172.031,203.181 177.559,199.496 183.087,195.811 188.614,192.126 194.142,188.441 199.669,184.756 205.197,181.071 \n",
       "  210.724,177.386 216.252,181.071 221.78,184.756 227.307,188.441 232.835,192.126 238.362,188.441 243.89,192.126 249.417,195.811 254.945,192.126 260.472,195.811 \n",
       "  266,199.496 271.528,203.181 277.055,199.496 282.583,195.811 288.11,199.496 293.638,203.181 299.165,206.866 304.693,203.181 310.22,199.496 315.748,195.811 \n",
       "  \n",
       "  \"/>\n",
       "<polyline clip-path=\"url(#clip02)\" style=\"stroke:#3da44d; stroke-width:1; stroke-opacity:1; fill:none\" points=\"\n",
       "  44.8976,192.126 50.4252,188.441 55.9528,192.126 61.4803,188.441 67.0079,192.126 72.5354,188.441 78.063,192.126 83.5906,195.811 89.1181,192.126 94.6457,195.811 \n",
       "  100.173,199.496 105.701,203.181 111.228,199.496 116.756,195.811 122.283,199.496 127.811,195.811 133.339,199.496 138.866,203.181 144.394,206.866 149.921,203.181 \n",
       "  155.449,199.496 160.976,195.811 166.504,199.496 172.031,195.811 177.559,192.126 183.087,195.811 188.614,199.496 194.142,195.811 199.669,192.126 205.197,188.441 \n",
       "  210.724,192.126 216.252,188.441 221.78,184.756 227.307,181.071 232.835,177.386 238.362,173.701 243.89,177.386 249.417,181.071 254.945,177.386 260.472,181.071 \n",
       "  266,177.386 271.528,181.071 277.055,177.386 282.583,173.701 288.11,170.016 293.638,166.331 299.165,162.646 304.693,158.961 310.22,162.646 315.748,166.331 \n",
       "  \n",
       "  \"/>\n",
       "<polyline clip-path=\"url(#clip02)\" style=\"stroke:#c271d2; stroke-width:1; stroke-opacity:1; fill:none\" points=\"\n",
       "  44.8976,192.126 50.4252,195.811 55.9528,199.496 61.4803,195.811 67.0079,199.496 72.5354,203.181 78.063,199.496 83.5906,203.181 89.1181,206.866 94.6457,203.181 \n",
       "  100.173,206.866 105.701,203.181 111.228,199.496 116.756,195.811 122.283,192.126 127.811,188.441 133.339,184.756 138.866,188.441 144.394,192.126 149.921,195.811 \n",
       "  155.449,192.126 160.976,188.441 166.504,192.126 172.031,195.811 177.559,199.496 183.087,195.811 188.614,199.496 194.142,195.811 199.669,199.496 205.197,203.181 \n",
       "  210.724,206.866 216.252,210.551 221.78,206.866 227.307,210.551 232.835,214.236 238.362,217.921 243.89,221.606 249.417,217.921 254.945,214.236 260.472,210.551 \n",
       "  266,214.236 271.528,217.921 277.055,214.236 282.583,217.921 288.11,214.236 293.638,210.551 299.165,214.236 304.693,217.921 310.22,214.236 315.748,217.921 \n",
       "  \n",
       "  \"/>\n",
       "<polyline clip-path=\"url(#clip02)\" style=\"stroke:#ac8d18; stroke-width:1; stroke-opacity:1; fill:none\" points=\"\n",
       "  44.8976,192.126 50.4252,195.811 55.9528,192.126 61.4803,195.811 67.0079,192.126 72.5354,195.811 78.063,192.126 83.5906,188.441 89.1181,184.756 94.6457,181.071 \n",
       "  100.173,177.386 105.701,173.701 111.228,170.016 116.756,173.701 122.283,170.016 127.811,173.701 133.339,177.386 138.866,181.071 144.394,184.756 149.921,188.441 \n",
       "  155.449,192.126 160.976,188.441 166.504,192.126 172.031,195.811 177.559,192.126 183.087,195.811 188.614,192.126 194.142,195.811 199.669,199.496 205.197,195.811 \n",
       "  210.724,199.496 216.252,203.181 221.78,199.496 227.307,203.181 232.835,206.866 238.362,203.181 243.89,206.866 249.417,203.181 254.945,199.496 260.472,203.181 \n",
       "  266,199.496 271.528,195.811 277.055,192.126 282.583,188.441 288.11,192.126 293.638,188.441 299.165,184.756 304.693,181.071 310.22,177.386 315.748,181.071 \n",
       "  \n",
       "  \"/>\n",
       "<polyline clip-path=\"url(#clip02)\" style=\"stroke:#00a9ad; stroke-width:1; stroke-opacity:1; fill:none\" points=\"\n",
       "  44.8976,192.126 50.4252,195.811 55.9528,199.496 61.4803,203.181 67.0079,199.496 72.5354,203.181 78.063,199.496 83.5906,203.181 89.1181,199.496 94.6457,203.181 \n",
       "  100.173,206.866 105.701,203.181 111.228,199.496 116.756,195.811 122.283,199.496 127.811,203.181 133.339,199.496 138.866,203.181 144.394,199.496 149.921,195.811 \n",
       "  155.449,192.126 160.976,195.811 166.504,192.126 172.031,188.441 177.559,192.126 183.087,195.811 188.614,192.126 194.142,195.811 199.669,199.496 205.197,203.181 \n",
       "  210.724,206.866 216.252,203.181 221.78,199.496 227.307,195.811 232.835,192.126 238.362,188.441 243.89,192.126 249.417,188.441 254.945,192.126 260.472,188.441 \n",
       "  266,184.756 271.528,188.441 277.055,192.126 282.583,195.811 288.11,199.496 293.638,195.811 299.165,199.496 304.693,203.181 310.22,199.496 315.748,195.811 \n",
       "  \n",
       "  \"/>\n",
       "<polyline clip-path=\"url(#clip02)\" style=\"stroke:#ed5d92; stroke-width:1; stroke-opacity:1; fill:none\" points=\"\n",
       "  44.8976,192.126 50.4252,195.811 55.9528,199.496 61.4803,195.811 67.0079,192.126 72.5354,195.811 78.063,199.496 83.5906,195.811 89.1181,199.496 94.6457,203.181 \n",
       "  100.173,199.496 105.701,195.811 111.228,192.126 116.756,195.811 122.283,199.496 127.811,203.181 133.339,199.496 138.866,203.181 144.394,199.496 149.921,195.811 \n",
       "  155.449,199.496 160.976,203.181 166.504,199.496 172.031,195.811 177.559,199.496 183.087,195.811 188.614,199.496 194.142,195.811 199.669,199.496 205.197,203.181 \n",
       "  210.724,199.496 216.252,195.811 221.78,199.496 227.307,203.181 232.835,199.496 238.362,195.811 243.89,192.126 249.417,195.811 254.945,192.126 260.472,188.441 \n",
       "  266,184.756 271.528,188.441 277.055,184.756 282.583,188.441 288.11,192.126 293.638,188.441 299.165,192.126 304.693,195.811 310.22,192.126 315.748,188.441 \n",
       "  \n",
       "  \"/>\n",
       "<polyline clip-path=\"url(#clip02)\" style=\"stroke:#c68125; stroke-width:1; stroke-opacity:1; fill:none\" points=\"\n",
       "  44.8976,192.126 50.4252,195.811 55.9528,199.496 61.4803,203.181 67.0079,206.866 72.5354,203.181 78.063,206.866 83.5906,210.551 89.1181,206.866 94.6457,210.551 \n",
       "  100.173,206.866 105.701,203.181 111.228,206.866 116.756,203.181 122.283,199.496 127.811,203.181 133.339,199.496 138.866,195.811 144.394,199.496 149.921,195.811 \n",
       "  155.449,199.496 160.976,195.811 166.504,199.496 172.031,195.811 177.559,192.126 183.087,195.811 188.614,192.126 194.142,188.441 199.669,192.126 205.197,195.811 \n",
       "  210.724,192.126 216.252,188.441 221.78,184.756 227.307,181.071 232.835,184.756 238.362,181.071 243.89,177.386 249.417,173.701 254.945,170.016 260.472,166.331 \n",
       "  266,170.016 271.528,166.331 277.055,162.646 282.583,166.331 288.11,162.646 293.638,158.961 299.165,162.646 304.693,166.331 310.22,162.646 315.748,158.961 \n",
       "  \n",
       "  \"/>\n",
       "<polyline clip-path=\"url(#clip02)\" style=\"stroke:#00a98d; stroke-width:1; stroke-opacity:1; fill:none\" points=\"\n",
       "  44.8976,192.126 50.4252,195.811 55.9528,192.126 61.4803,195.811 67.0079,192.126 72.5354,195.811 78.063,192.126 83.5906,195.811 89.1181,192.126 94.6457,188.441 \n",
       "  100.173,192.126 105.701,188.441 111.228,184.756 116.756,181.071 122.283,184.756 127.811,181.071 133.339,177.386 138.866,181.071 144.394,184.756 149.921,181.071 \n",
       "  155.449,177.386 160.976,181.071 166.504,184.756 172.031,181.071 177.559,184.756 183.087,181.071 188.614,177.386 194.142,181.071 199.669,177.386 205.197,173.701 \n",
       "  210.724,170.016 216.252,166.331 221.78,170.016 227.307,166.331 232.835,170.016 238.362,166.331 243.89,170.016 249.417,173.701 254.945,170.016 260.472,166.331 \n",
       "  266,162.646 271.528,166.331 277.055,162.646 282.583,158.961 288.11,162.646 293.638,158.961 299.165,162.646 304.693,158.961 310.22,162.646 315.748,166.331 \n",
       "  \n",
       "  \"/>\n",
       "<polyline clip-path=\"url(#clip02)\" style=\"stroke:#8e971d; stroke-width:1; stroke-opacity:1; fill:none\" points=\"\n",
       "  44.8976,192.126 50.4252,195.811 55.9528,192.126 61.4803,188.441 67.0079,184.756 72.5354,181.071 78.063,177.386 83.5906,181.071 89.1181,177.386 94.6457,181.071 \n",
       "  100.173,184.756 105.701,188.441 111.228,184.756 116.756,181.071 122.283,177.386 127.811,173.701 133.339,170.016 138.866,173.701 144.394,177.386 149.921,181.071 \n",
       "  155.449,184.756 160.976,181.071 166.504,184.756 172.031,188.441 177.559,184.756 183.087,188.441 188.614,192.126 194.142,188.441 199.669,192.126 205.197,195.811 \n",
       "  210.724,199.496 216.252,195.811 221.78,199.496 227.307,195.811 232.835,192.126 238.362,195.811 243.89,192.126 249.417,188.441 254.945,192.126 260.472,195.811 \n",
       "  266,192.126 271.528,188.441 277.055,192.126 282.583,195.811 288.11,192.126 293.638,188.441 299.165,192.126 304.693,195.811 310.22,192.126 315.748,195.811 \n",
       "  \n",
       "  \"/>\n",
       "<polyline clip-path=\"url(#clip02)\" style=\"stroke:#00a8cb; stroke-width:1; stroke-opacity:1; fill:none\" points=\"\n",
       "  44.8976,192.126 50.4252,195.811 55.9528,199.496 61.4803,203.181 67.0079,199.496 72.5354,195.811 78.063,192.126 83.5906,195.811 89.1181,199.496 94.6457,195.811 \n",
       "  100.173,192.126 105.701,195.811 111.228,192.126 116.756,195.811 122.283,192.126 127.811,188.441 133.339,192.126 138.866,188.441 144.394,184.756 149.921,181.071 \n",
       "  155.449,177.386 160.976,173.701 166.504,170.016 172.031,173.701 177.559,170.016 183.087,166.331 188.614,162.646 194.142,158.961 199.669,155.276 205.197,151.591 \n",
       "  210.724,147.906 216.252,151.591 221.78,147.906 227.307,144.22 232.835,140.535 238.362,144.22 243.89,140.535 249.417,144.22 254.945,140.535 260.472,136.85 \n",
       "  266,140.535 271.528,136.85 277.055,133.165 282.583,136.85 288.11,133.165 293.638,129.48 299.165,125.795 304.693,129.48 310.22,133.165 315.748,136.85 \n",
       "  \n",
       "  \"/>\n",
       "<polyline clip-path=\"url(#clip02)\" style=\"stroke:#9b7fe8; stroke-width:1; stroke-opacity:1; fill:none\" points=\"\n",
       "  44.8976,192.126 50.4252,188.441 55.9528,184.756 61.4803,188.441 67.0079,184.756 72.5354,181.071 78.063,184.756 83.5906,188.441 89.1181,192.126 94.6457,195.811 \n",
       "  100.173,199.496 105.701,195.811 111.228,192.126 116.756,188.441 122.283,192.126 127.811,188.441 133.339,184.756 138.866,188.441 144.394,184.756 149.921,188.441 \n",
       "  155.449,184.756 160.976,188.441 166.504,184.756 172.031,181.071 177.559,184.756 183.087,188.441 188.614,192.126 194.142,188.441 199.669,192.126 205.197,195.811 \n",
       "  210.724,199.496 216.252,203.181 221.78,206.866 227.307,203.181 232.835,199.496 238.362,195.811 243.89,199.496 249.417,195.811 254.945,199.496 260.472,195.811 \n",
       "  266,199.496 271.528,203.181 277.055,199.496 282.583,203.181 288.11,199.496 293.638,195.811 299.165,192.126 304.693,195.811 310.22,192.126 315.748,195.811 \n",
       "  \n",
       "  \"/>\n",
       "<polyline clip-path=\"url(#clip02)\" style=\"stroke:#608cf6; stroke-width:1; stroke-opacity:1; fill:none\" points=\"\n",
       "  44.8976,192.126 50.4252,188.441 55.9528,192.126 61.4803,195.811 67.0079,199.496 72.5354,203.181 78.063,206.866 83.5906,210.551 89.1181,214.236 94.6457,210.551 \n",
       "  100.173,206.866 105.701,203.181 111.228,199.496 116.756,203.181 122.283,206.866 127.811,210.551 133.339,214.236 138.866,210.551 144.394,206.866 149.921,203.181 \n",
       "  155.449,206.866 160.976,210.551 166.504,214.236 172.031,210.551 177.559,214.236 183.087,210.551 188.614,214.236 194.142,210.551 199.669,206.866 205.197,203.181 \n",
       "  210.724,206.866 216.252,210.551 221.78,214.236 227.307,210.551 232.835,206.866 238.362,210.551 243.89,206.866 249.417,210.551 254.945,214.236 260.472,210.551 \n",
       "  266,206.866 271.528,203.181 277.055,199.496 282.583,203.181 288.11,206.866 293.638,203.181 299.165,206.866 304.693,203.181 310.22,206.866 315.748,210.551 \n",
       "  \n",
       "  \"/>\n",
       "<polyline clip-path=\"url(#clip02)\" style=\"stroke:#f05f73; stroke-width:1; stroke-opacity:1; fill:none\" points=\"\n",
       "  44.8976,192.126 50.4252,195.811 55.9528,199.496 61.4803,203.181 67.0079,199.496 72.5354,203.181 78.063,206.866 83.5906,203.181 89.1181,199.496 94.6457,203.181 \n",
       "  100.173,206.866 105.701,210.551 111.228,206.866 116.756,210.551 122.283,214.236 127.811,217.921 133.339,214.236 138.866,210.551 144.394,214.236 149.921,217.921 \n",
       "  155.449,221.606 160.976,225.291 166.504,228.976 172.031,232.661 177.559,228.976 183.087,225.291 188.614,228.976 194.142,232.661 199.669,236.346 205.197,232.661 \n",
       "  210.724,228.976 216.252,225.291 221.78,228.976 227.307,225.291 232.835,221.606 238.362,225.291 243.89,228.976 249.417,232.661 254.945,228.976 260.472,232.661 \n",
       "  266,228.976 271.528,225.291 277.055,228.976 282.583,225.291 288.11,221.606 293.638,225.291 299.165,228.976 304.693,232.661 310.22,236.346 315.748,232.661 \n",
       "  \n",
       "  \"/>\n",
       "<polyline clip-path=\"url(#clip02)\" style=\"stroke:#dd64b5; stroke-width:1; stroke-opacity:1; fill:none\" points=\"\n",
       "  44.8976,192.126 50.4252,195.811 55.9528,192.126 61.4803,188.441 67.0079,184.756 72.5354,181.071 78.063,177.386 83.5906,181.071 89.1181,184.756 94.6457,181.071 \n",
       "  100.173,184.756 105.701,181.071 111.228,184.756 116.756,181.071 122.283,184.756 127.811,181.071 133.339,184.756 138.866,181.071 144.394,177.386 149.921,181.071 \n",
       "  155.449,177.386 160.976,181.071 166.504,184.756 172.031,181.071 177.559,177.386 183.087,173.701 188.614,170.016 194.142,166.331 199.669,170.016 205.197,173.701 \n",
       "  210.724,177.386 216.252,181.071 221.78,184.756 227.307,181.071 232.835,177.386 238.362,173.701 243.89,170.016 249.417,166.331 254.945,162.646 260.472,166.331 \n",
       "  266,162.646 271.528,158.961 277.055,162.646 282.583,166.331 288.11,162.646 293.638,158.961 299.165,162.646 304.693,158.961 310.22,155.276 315.748,158.961 \n",
       "  \n",
       "  \"/>\n",
       "<polyline clip-path=\"url(#clip02)\" style=\"stroke:#6b9e32; stroke-width:1; stroke-opacity:1; fill:none\" points=\"\n",
       "  44.8976,192.126 50.4252,195.811 55.9528,192.126 61.4803,195.811 67.0079,192.126 72.5354,188.441 78.063,184.756 83.5906,188.441 89.1181,192.126 94.6457,195.811 \n",
       "  100.173,192.126 105.701,188.441 111.228,184.756 116.756,188.441 122.283,184.756 127.811,181.071 133.339,177.386 138.866,173.701 144.394,170.016 149.921,173.701 \n",
       "  155.449,170.016 160.976,166.331 166.504,162.646 172.031,158.961 177.559,162.646 183.087,158.961 188.614,155.276 194.142,151.591 199.669,147.906 205.197,151.591 \n",
       "  210.724,147.906 216.252,151.591 221.78,147.906 227.307,144.22 232.835,147.906 238.362,144.22 243.89,147.906 249.417,144.22 254.945,140.535 260.472,136.85 \n",
       "  266,140.535 271.528,144.22 277.055,140.535 282.583,136.85 288.11,133.165 293.638,136.85 299.165,140.535 304.693,136.85 310.22,133.165 315.748,129.48 \n",
       "  \n",
       "  \"/>\n",
       "<polyline clip-path=\"url(#clip02)\" style=\"stroke:#718c69; stroke-width:1; stroke-opacity:1; fill:none\" points=\"\n",
       "  44.8976,192.126 50.4252,188.441 55.9528,192.126 61.4803,195.811 67.0079,199.496 72.5354,195.811 78.063,199.496 83.5906,203.181 89.1181,199.496 94.6457,203.181 \n",
       "  100.173,206.866 105.701,210.551 111.228,206.866 116.756,203.181 122.283,206.866 127.811,210.551 133.339,206.866 138.866,210.551 144.394,206.866 149.921,210.551 \n",
       "  155.449,206.866 160.976,203.181 166.504,206.866 172.031,210.551 177.559,214.236 183.087,217.921 188.614,214.236 194.142,217.921 199.669,214.236 205.197,210.551 \n",
       "  210.724,206.866 216.252,210.551 221.78,214.236 227.307,217.921 232.835,221.606 238.362,217.921 243.89,221.606 249.417,225.291 254.945,228.976 260.472,225.291 \n",
       "  266,228.976 271.528,225.291 277.055,228.976 282.583,232.661 288.11,236.346 293.638,232.661 299.165,236.346 304.693,232.661 310.22,236.346 315.748,232.661 \n",
       "  \n",
       "  \"/>\n",
       "<polyline clip-path=\"url(#clip02)\" style=\"stroke:#47988b; stroke-width:1; stroke-opacity:1; fill:none\" points=\"\n",
       "  44.8976,192.126 50.4252,195.811 55.9528,199.496 61.4803,195.811 67.0079,199.496 72.5354,203.181 78.063,199.496 83.5906,203.181 89.1181,199.496 94.6457,195.811 \n",
       "  100.173,192.126 105.701,195.811 111.228,199.496 116.756,195.811 122.283,192.126 127.811,188.441 133.339,192.126 138.866,188.441 144.394,184.756 149.921,181.071 \n",
       "  155.449,177.386 160.976,173.701 166.504,170.016 172.031,173.701 177.559,170.016 183.087,166.331 188.614,162.646 194.142,158.961 199.669,162.646 205.197,166.331 \n",
       "  210.724,162.646 216.252,166.331 221.78,170.016 227.307,166.331 232.835,162.646 238.362,158.961 243.89,155.276 249.417,158.961 254.945,162.646 260.472,166.331 \n",
       "  266,170.016 271.528,173.701 277.055,177.386 282.583,173.701 288.11,170.016 293.638,166.331 299.165,170.016 304.693,166.331 310.22,170.016 315.748,173.701 \n",
       "  \n",
       "  \"/>\n",
       "<polyline clip-path=\"url(#clip02)\" style=\"stroke:#1ea68c; stroke-width:1; stroke-opacity:1; fill:none\" points=\"\n",
       "  44.8976,192.126 50.4252,188.441 55.9528,184.756 61.4803,181.071 67.0079,184.756 72.5354,181.071 78.063,177.386 83.5906,173.701 89.1181,170.016 94.6457,166.331 \n",
       "  100.173,170.016 105.701,166.331 111.228,162.646 116.756,166.331 122.283,162.646 127.811,166.331 133.339,162.646 138.866,158.961 144.394,162.646 149.921,158.961 \n",
       "  155.449,155.276 160.976,158.961 166.504,155.276 172.031,151.591 177.559,155.276 183.087,151.591 188.614,155.276 194.142,158.961 199.669,155.276 205.197,158.961 \n",
       "  210.724,162.646 216.252,166.331 221.78,162.646 227.307,166.331 232.835,170.016 238.362,166.331 243.89,162.646 249.417,158.961 254.945,162.646 260.472,166.331 \n",
       "  266,162.646 271.528,166.331 277.055,162.646 282.583,158.961 288.11,155.276 293.638,151.591 299.165,155.276 304.693,158.961 310.22,155.276 315.748,158.961 \n",
       "  \n",
       "  \"/>\n",
       "<polyline clip-path=\"url(#clip02)\" style=\"stroke:#af78dd; stroke-width:1; stroke-opacity:1; fill:none\" points=\"\n",
       "  44.8976,192.126 50.4252,195.811 55.9528,199.496 61.4803,195.811 67.0079,192.126 72.5354,188.441 78.063,192.126 83.5906,188.441 89.1181,192.126 94.6457,195.811 \n",
       "  100.173,199.496 105.701,195.811 111.228,199.496 116.756,195.811 122.283,199.496 127.811,203.181 133.339,199.496 138.866,203.181 144.394,206.866 149.921,203.181 \n",
       "  155.449,199.496 160.976,195.811 166.504,199.496 172.031,203.181 177.559,206.866 183.087,210.551 188.614,214.236 194.142,217.921 199.669,214.236 205.197,210.551 \n",
       "  210.724,206.866 216.252,210.551 221.78,206.866 227.307,203.181 232.835,199.496 238.362,195.811 243.89,192.126 249.417,188.441 254.945,184.756 260.472,188.441 \n",
       "  266,184.756 271.528,188.441 277.055,184.756 282.583,188.441 288.11,184.756 293.638,188.441 299.165,192.126 304.693,195.811 310.22,192.126 315.748,195.811 \n",
       "  \n",
       "  \"/>\n",
       "<polyline clip-path=\"url(#clip02)\" style=\"stroke:#868d87; stroke-width:1; stroke-opacity:1; fill:none\" points=\"\n",
       "  44.8976,192.126 50.4252,188.441 55.9528,184.756 61.4803,181.071 67.0079,184.756 72.5354,181.071 78.063,177.386 83.5906,173.701 89.1181,170.016 94.6457,166.331 \n",
       "  100.173,170.016 105.701,166.331 111.228,162.646 116.756,158.961 122.283,155.276 127.811,158.961 133.339,155.276 138.866,158.961 144.394,155.276 149.921,151.591 \n",
       "  155.449,155.276 160.976,151.591 166.504,155.276 172.031,151.591 177.559,147.906 183.087,151.591 188.614,147.906 194.142,151.591 199.669,147.906 205.197,151.591 \n",
       "  210.724,147.906 216.252,151.591 221.78,155.276 227.307,158.961 232.835,155.276 238.362,158.961 243.89,162.646 249.417,158.961 254.945,162.646 260.472,166.331 \n",
       "  266,162.646 271.528,158.961 277.055,155.276 282.583,151.591 288.11,155.276 293.638,158.961 299.165,162.646 304.693,166.331 310.22,170.016 315.748,173.701 \n",
       "  \n",
       "  \"/>\n",
       "<polyline clip-path=\"url(#clip02)\" style=\"stroke:#47a065; stroke-width:1; stroke-opacity:1; fill:none\" points=\"\n",
       "  44.8976,192.126 50.4252,188.441 55.9528,184.756 61.4803,188.441 67.0079,184.756 72.5354,181.071 78.063,177.386 83.5906,181.071 89.1181,177.386 94.6457,173.701 \n",
       "  100.173,177.386 105.701,173.701 111.228,177.386 116.756,181.071 122.283,177.386 127.811,173.701 133.339,170.016 138.866,166.331 144.394,170.016 149.921,173.701 \n",
       "  155.449,177.386 160.976,173.701 166.504,177.386 172.031,173.701 177.559,177.386 183.087,173.701 188.614,170.016 194.142,166.331 199.669,170.016 205.197,166.331 \n",
       "  210.724,170.016 216.252,166.331 221.78,170.016 227.307,166.331 232.835,162.646 238.362,166.331 243.89,162.646 249.417,166.331 254.945,170.016 260.472,166.331 \n",
       "  266,162.646 271.528,166.331 277.055,162.646 282.583,166.331 288.11,162.646 293.638,166.331 299.165,162.646 304.693,158.961 310.22,155.276 315.748,151.591 \n",
       "  \n",
       "  \"/>\n",
       "<polyline clip-path=\"url(#clip02)\" style=\"stroke:#7683af; stroke-width:1; stroke-opacity:1; fill:none\" points=\"\n",
       "  44.8976,192.126 50.4252,195.811 55.9528,192.126 61.4803,188.441 67.0079,192.126 72.5354,188.441 78.063,192.126 83.5906,188.441 89.1181,184.756 94.6457,188.441 \n",
       "  100.173,192.126 105.701,195.811 111.228,199.496 116.756,203.181 122.283,206.866 127.811,203.181 133.339,206.866 138.866,203.181 144.394,206.866 149.921,203.181 \n",
       "  155.449,199.496 160.976,203.181 166.504,199.496 172.031,195.811 177.559,192.126 183.087,195.811 188.614,192.126 194.142,195.811 199.669,192.126 205.197,188.441 \n",
       "  210.724,184.756 216.252,188.441 221.78,192.126 227.307,188.441 232.835,184.756 238.362,188.441 243.89,184.756 249.417,181.071 254.945,184.756 260.472,181.071 \n",
       "  266,184.756 271.528,188.441 277.055,184.756 282.583,188.441 288.11,184.756 293.638,188.441 299.165,192.126 304.693,188.441 310.22,192.126 315.748,188.441 \n",
       "  \n",
       "  \"/>\n",
       "<polyline clip-path=\"url(#clip02)\" style=\"stroke:#b08086; stroke-width:1; stroke-opacity:1; fill:none\" points=\"\n",
       "  44.8976,192.126 50.4252,195.811 55.9528,199.496 61.4803,195.811 67.0079,192.126 72.5354,195.811 78.063,192.126 83.5906,195.811 89.1181,192.126 94.6457,188.441 \n",
       "  100.173,184.756 105.701,188.441 111.228,192.126 116.756,195.811 122.283,199.496 127.811,203.181 133.339,199.496 138.866,195.811 144.394,199.496 149.921,203.181 \n",
       "  155.449,199.496 160.976,203.181 166.504,206.866 172.031,203.181 177.559,206.866 183.087,203.181 188.614,206.866 194.142,210.551 199.669,206.866 205.197,203.181 \n",
       "  210.724,206.866 216.252,210.551 221.78,214.236 227.307,210.551 232.835,206.866 238.362,210.551 243.89,206.866 249.417,203.181 254.945,199.496 260.472,203.181 \n",
       "  266,199.496 271.528,195.811 277.055,192.126 282.583,188.441 288.11,184.756 293.638,181.071 299.165,184.756 304.693,188.441 310.22,184.756 315.748,181.071 \n",
       "  \n",
       "  \"/>\n",
       "<polyline clip-path=\"url(#clip02)\" style=\"stroke:#309ac1; stroke-width:1; stroke-opacity:1; fill:none\" points=\"\n",
       "  44.8976,192.126 50.4252,188.441 55.9528,184.756 61.4803,181.071 67.0079,177.386 72.5354,173.701 78.063,170.016 83.5906,173.701 89.1181,170.016 94.6457,173.701 \n",
       "  100.173,177.386 105.701,173.701 111.228,170.016 116.756,166.331 122.283,162.646 127.811,158.961 133.339,162.646 138.866,166.331 144.394,162.646 149.921,166.331 \n",
       "  155.449,162.646 160.976,166.331 166.504,170.016 172.031,166.331 177.559,162.646 183.087,166.331 188.614,162.646 194.142,158.961 199.669,162.646 205.197,166.331 \n",
       "  210.724,170.016 216.252,173.701 221.78,177.386 227.307,181.071 232.835,184.756 238.362,181.071 243.89,177.386 249.417,181.071 254.945,184.756 260.472,188.441 \n",
       "  266,184.756 271.528,188.441 277.055,192.126 282.583,195.811 288.11,199.496 293.638,203.181 299.165,199.496 304.693,195.811 310.22,199.496 315.748,203.181 \n",
       "  \n",
       "  \"/>\n",
       "<polyline clip-path=\"url(#clip02)\" style=\"stroke:#788490; stroke-width:1; stroke-opacity:1; fill:none\" points=\"\n",
       "  44.8976,192.126 50.4252,195.811 55.9528,192.126 61.4803,188.441 67.0079,184.756 72.5354,181.071 78.063,184.756 83.5906,188.441 89.1181,192.126 94.6457,195.811 \n",
       "  100.173,192.126 105.701,195.811 111.228,199.496 116.756,195.811 122.283,192.126 127.811,195.811 133.339,199.496 138.866,195.811 144.394,199.496 149.921,195.811 \n",
       "  155.449,199.496 160.976,195.811 166.504,192.126 172.031,195.811 177.559,192.126 183.087,195.811 188.614,199.496 194.142,195.811 199.669,199.496 205.197,195.811 \n",
       "  210.724,199.496 216.252,203.181 221.78,206.866 227.307,210.551 232.835,206.866 238.362,210.551 243.89,206.866 249.417,210.551 254.945,206.866 260.472,203.181 \n",
       "  266,199.496 271.528,195.811 277.055,192.126 282.583,188.441 288.11,192.126 293.638,195.811 299.165,199.496 304.693,203.181 310.22,206.866 315.748,210.551 \n",
       "  \n",
       "  \"/>\n",
       "<polyline clip-path=\"url(#clip02)\" style=\"stroke:#e561a4; stroke-width:1; stroke-opacity:1; fill:none\" points=\"\n",
       "  44.8976,192.126 50.4252,195.811 55.9528,199.496 61.4803,203.181 67.0079,199.496 72.5354,195.811 78.063,192.126 83.5906,188.441 89.1181,192.126 94.6457,195.811 \n",
       "  100.173,199.496 105.701,203.181 111.228,199.496 116.756,203.181 122.283,206.866 127.811,210.551 133.339,214.236 138.866,217.921 144.394,221.606 149.921,217.921 \n",
       "  155.449,221.606 160.976,225.291 166.504,228.976 172.031,232.661 177.559,236.346 183.087,232.661 188.614,228.976 194.142,225.291 199.669,221.606 205.197,217.921 \n",
       "  210.724,214.236 216.252,217.921 221.78,214.236 227.307,210.551 232.835,206.866 238.362,210.551 243.89,206.866 249.417,210.551 254.945,206.866 260.472,203.181 \n",
       "  266,206.866 271.528,203.181 277.055,206.866 282.583,203.181 288.11,206.866 293.638,210.551 299.165,206.866 304.693,203.181 310.22,206.866 315.748,203.181 \n",
       "  \n",
       "  \"/>\n",
       "<polyline clip-path=\"url(#clip02)\" style=\"stroke:#99902c; stroke-width:1; stroke-opacity:1; fill:none\" points=\"\n",
       "  44.8976,192.126 50.4252,188.441 55.9528,192.126 61.4803,195.811 67.0079,192.126 72.5354,188.441 78.063,192.126 83.5906,188.441 89.1181,192.126 94.6457,195.811 \n",
       "  100.173,192.126 105.701,195.811 111.228,192.126 116.756,195.811 122.283,192.126 127.811,195.811 133.339,192.126 138.866,195.811 144.394,192.126 149.921,195.811 \n",
       "  155.449,192.126 160.976,188.441 166.504,184.756 172.031,181.071 177.559,177.386 183.087,173.701 188.614,170.016 194.142,166.331 199.669,162.646 205.197,158.961 \n",
       "  210.724,162.646 216.252,166.331 221.78,170.016 227.307,166.331 232.835,162.646 238.362,166.331 243.89,170.016 249.417,173.701 254.945,170.016 260.472,173.701 \n",
       "  266,177.386 271.528,173.701 277.055,170.016 282.583,173.701 288.11,177.386 293.638,173.701 299.165,177.386 304.693,173.701 310.22,177.386 315.748,181.071 \n",
       "  \n",
       "  \"/>\n",
       "<polyline clip-path=\"url(#clip02)\" style=\"stroke:#389a7b; stroke-width:1; stroke-opacity:1; fill:none\" points=\"\n",
       "  44.8976,192.126 50.4252,188.441 55.9528,192.126 61.4803,195.811 67.0079,192.126 72.5354,195.811 78.063,192.126 83.5906,195.811 89.1181,199.496 94.6457,195.811 \n",
       "  100.173,199.496 105.701,195.811 111.228,199.496 116.756,203.181 122.283,206.866 127.811,203.181 133.339,199.496 138.866,203.181 144.394,206.866 149.921,203.181 \n",
       "  155.449,206.866 160.976,210.551 166.504,206.866 172.031,203.181 177.559,206.866 183.087,210.551 188.614,214.236 194.142,210.551 199.669,214.236 205.197,217.921 \n",
       "  210.724,221.606 216.252,217.921 221.78,221.606 227.307,217.921 232.835,214.236 238.362,210.551 243.89,206.866 249.417,210.551 254.945,206.866 260.472,203.181 \n",
       "  266,199.496 271.528,195.811 277.055,199.496 282.583,195.811 288.11,192.126 293.638,188.441 299.165,192.126 304.693,188.441 310.22,184.756 315.748,181.071 \n",
       "  \n",
       "  \"/>\n",
       "<polyline clip-path=\"url(#clip02)\" style=\"stroke:#d968a2; stroke-width:1; stroke-opacity:1; fill:none\" points=\"\n",
       "  44.8976,192.126 50.4252,195.811 55.9528,199.496 61.4803,203.181 67.0079,206.866 72.5354,210.551 78.063,214.236 83.5906,210.551 89.1181,214.236 94.6457,217.921 \n",
       "  100.173,214.236 105.701,217.921 111.228,221.606 116.756,217.921 122.283,221.606 127.811,225.291 133.339,221.606 138.866,225.291 144.394,228.976 149.921,232.661 \n",
       "  155.449,236.346 160.976,240.031 166.504,236.346 172.031,232.661 177.559,236.346 183.087,232.661 188.614,236.346 194.142,232.661 199.669,228.976 205.197,232.661 \n",
       "  210.724,228.976 216.252,232.661 221.78,236.346 227.307,232.661 232.835,236.346 238.362,240.031 243.89,236.346 249.417,232.661 254.945,228.976 260.472,225.291 \n",
       "  266,228.976 271.528,232.661 277.055,228.976 282.583,232.661 288.11,236.346 293.638,232.661 299.165,236.346 304.693,232.661 310.22,236.346 315.748,232.661 \n",
       "  \n",
       "  \"/>\n",
       "<polyline clip-path=\"url(#clip02)\" style=\"stroke:#009af9; stroke-width:1; stroke-opacity:1; fill:none\" points=\"\n",
       "  44.8976,192.126 50.4252,188.441 55.9528,184.756 61.4803,181.071 67.0079,184.756 72.5354,188.441 78.063,184.756 83.5906,188.441 89.1181,184.756 94.6457,181.071 \n",
       "  100.173,184.756 105.701,181.071 111.228,184.756 116.756,188.441 122.283,192.126 127.811,195.811 133.339,192.126 138.866,188.441 144.394,192.126 149.921,195.811 \n",
       "  155.449,192.126 160.976,195.811 166.504,192.126 172.031,188.441 177.559,192.126 183.087,188.441 188.614,184.756 194.142,188.441 199.669,192.126 205.197,195.811 \n",
       "  210.724,199.496 216.252,195.811 221.78,192.126 227.307,188.441 232.835,192.126 238.362,195.811 243.89,199.496 249.417,203.181 254.945,206.866 260.472,210.551 \n",
       "  266,206.866 271.528,210.551 277.055,206.866 282.583,210.551 288.11,206.866 293.638,210.551 299.165,214.236 304.693,217.921 310.22,221.606 315.748,217.921 \n",
       "  \n",
       "  \"/>\n",
       "<polyline clip-path=\"url(#clip02)\" style=\"stroke:#e26f46; stroke-width:1; stroke-opacity:1; fill:none\" points=\"\n",
       "  44.8976,192.126 50.4252,188.441 55.9528,192.126 61.4803,195.811 67.0079,199.496 72.5354,203.181 78.063,199.496 83.5906,195.811 89.1181,199.496 94.6457,203.181 \n",
       "  100.173,199.496 105.701,195.811 111.228,199.496 116.756,195.811 122.283,199.496 127.811,203.181 133.339,199.496 138.866,195.811 144.394,192.126 149.921,188.441 \n",
       "  155.449,184.756 160.976,188.441 166.504,192.126 172.031,188.441 177.559,184.756 183.087,188.441 188.614,192.126 194.142,188.441 199.669,184.756 205.197,181.071 \n",
       "  210.724,184.756 216.252,188.441 221.78,192.126 227.307,188.441 232.835,192.126 238.362,188.441 243.89,192.126 249.417,195.811 254.945,199.496 260.472,195.811 \n",
       "  266,199.496 271.528,203.181 277.055,206.866 282.583,203.181 288.11,199.496 293.638,195.811 299.165,192.126 304.693,195.811 310.22,199.496 315.748,203.181 \n",
       "  \n",
       "  \"/>\n",
       "<polyline clip-path=\"url(#clip02)\" style=\"stroke:#3da44d; stroke-width:1; stroke-opacity:1; fill:none\" points=\"\n",
       "  44.8976,192.126 50.4252,188.441 55.9528,192.126 61.4803,195.811 67.0079,199.496 72.5354,203.181 78.063,199.496 83.5906,203.181 89.1181,199.496 94.6457,203.181 \n",
       "  100.173,199.496 105.701,203.181 111.228,206.866 116.756,210.551 122.283,214.236 127.811,210.551 133.339,206.866 138.866,210.551 144.394,214.236 149.921,210.551 \n",
       "  155.449,214.236 160.976,210.551 166.504,206.866 172.031,210.551 177.559,214.236 183.087,217.921 188.614,214.236 194.142,217.921 199.669,214.236 205.197,210.551 \n",
       "  210.724,214.236 216.252,217.921 221.78,221.606 227.307,225.291 232.835,221.606 238.362,225.291 243.89,221.606 249.417,225.291 254.945,221.606 260.472,217.921 \n",
       "  266,221.606 271.528,217.921 277.055,221.606 282.583,225.291 288.11,228.976 293.638,232.661 299.165,228.976 304.693,232.661 310.22,236.346 315.748,240.031 \n",
       "  \n",
       "  \"/>\n",
       "<polyline clip-path=\"url(#clip02)\" style=\"stroke:#c271d2; stroke-width:1; stroke-opacity:1; fill:none\" points=\"\n",
       "  44.8976,192.126 50.4252,188.441 55.9528,192.126 61.4803,188.441 67.0079,192.126 72.5354,195.811 78.063,192.126 83.5906,188.441 89.1181,184.756 94.6457,188.441 \n",
       "  100.173,192.126 105.701,195.811 111.228,192.126 116.756,195.811 122.283,199.496 127.811,203.181 133.339,206.866 138.866,203.181 144.394,206.866 149.921,203.181 \n",
       "  155.449,199.496 160.976,195.811 166.504,199.496 172.031,203.181 177.559,199.496 183.087,203.181 188.614,206.866 194.142,210.551 199.669,214.236 205.197,217.921 \n",
       "  210.724,214.236 216.252,210.551 221.78,214.236 227.307,210.551 232.835,206.866 238.362,203.181 243.89,199.496 249.417,195.811 254.945,199.496 260.472,203.181 \n",
       "  266,199.496 271.528,203.181 277.055,206.866 282.583,210.551 288.11,206.866 293.638,210.551 299.165,214.236 304.693,217.921 310.22,214.236 315.748,217.921 \n",
       "  \n",
       "  \"/>\n",
       "<polyline clip-path=\"url(#clip02)\" style=\"stroke:#ac8d18; stroke-width:1; stroke-opacity:1; fill:none\" points=\"\n",
       "  44.8976,192.126 50.4252,188.441 55.9528,184.756 61.4803,188.441 67.0079,192.126 72.5354,195.811 78.063,192.126 83.5906,188.441 89.1181,192.126 94.6457,188.441 \n",
       "  100.173,192.126 105.701,188.441 111.228,192.126 116.756,188.441 122.283,192.126 127.811,188.441 133.339,184.756 138.866,181.071 144.394,184.756 149.921,181.071 \n",
       "  155.449,177.386 160.976,181.071 166.504,177.386 172.031,181.071 177.559,184.756 183.087,181.071 188.614,184.756 194.142,181.071 199.669,184.756 205.197,188.441 \n",
       "  210.724,184.756 216.252,188.441 221.78,184.756 227.307,188.441 232.835,184.756 238.362,188.441 243.89,192.126 249.417,188.441 254.945,184.756 260.472,188.441 \n",
       "  266,184.756 271.528,188.441 277.055,192.126 282.583,195.811 288.11,199.496 293.638,195.811 299.165,192.126 304.693,188.441 310.22,192.126 315.748,195.811 \n",
       "  \n",
       "  \"/>\n",
       "<polyline clip-path=\"url(#clip02)\" style=\"stroke:#00a9ad; stroke-width:1; stroke-opacity:1; fill:none\" points=\"\n",
       "  44.8976,192.126 50.4252,195.811 55.9528,192.126 61.4803,195.811 67.0079,192.126 72.5354,195.811 78.063,199.496 83.5906,203.181 89.1181,206.866 94.6457,210.551 \n",
       "  100.173,214.236 105.701,210.551 111.228,214.236 116.756,210.551 122.283,206.866 127.811,210.551 133.339,206.866 138.866,210.551 144.394,214.236 149.921,217.921 \n",
       "  155.449,214.236 160.976,210.551 166.504,206.866 172.031,203.181 177.559,206.866 183.087,210.551 188.614,206.866 194.142,210.551 199.669,206.866 205.197,203.181 \n",
       "  210.724,206.866 216.252,203.181 221.78,206.866 227.307,210.551 232.835,214.236 238.362,217.921 243.89,214.236 249.417,210.551 254.945,214.236 260.472,210.551 \n",
       "  266,214.236 271.528,217.921 277.055,214.236 282.583,217.921 288.11,221.606 293.638,225.291 299.165,221.606 304.693,217.921 310.22,214.236 315.748,210.551 \n",
       "  \n",
       "  \"/>\n",
       "<polyline clip-path=\"url(#clip02)\" style=\"stroke:#ed5d92; stroke-width:1; stroke-opacity:1; fill:none\" points=\"\n",
       "  44.8976,192.126 50.4252,188.441 55.9528,184.756 61.4803,188.441 67.0079,184.756 72.5354,188.441 78.063,192.126 83.5906,188.441 89.1181,192.126 94.6457,195.811 \n",
       "  100.173,199.496 105.701,195.811 111.228,199.496 116.756,203.181 122.283,206.866 127.811,210.551 133.339,214.236 138.866,210.551 144.394,206.866 149.921,210.551 \n",
       "  155.449,214.236 160.976,210.551 166.504,214.236 172.031,210.551 177.559,214.236 183.087,210.551 188.614,214.236 194.142,217.921 199.669,221.606 205.197,217.921 \n",
       "  210.724,221.606 216.252,217.921 221.78,214.236 227.307,210.551 232.835,214.236 238.362,210.551 243.89,214.236 249.417,210.551 254.945,206.866 260.472,203.181 \n",
       "  266,206.866 271.528,210.551 277.055,206.866 282.583,210.551 288.11,214.236 293.638,210.551 299.165,206.866 304.693,203.181 310.22,199.496 315.748,203.181 \n",
       "  \n",
       "  \"/>\n",
       "<polyline clip-path=\"url(#clip02)\" style=\"stroke:#c68125; stroke-width:1; stroke-opacity:1; fill:none\" points=\"\n",
       "  44.8976,192.126 50.4252,195.811 55.9528,199.496 61.4803,195.811 67.0079,192.126 72.5354,188.441 78.063,192.126 83.5906,188.441 89.1181,184.756 94.6457,181.071 \n",
       "  100.173,177.386 105.701,173.701 111.228,170.016 116.756,173.701 122.283,177.386 127.811,173.701 133.339,170.016 138.866,166.331 144.394,170.016 149.921,173.701 \n",
       "  155.449,170.016 160.976,166.331 166.504,170.016 172.031,166.331 177.559,162.646 183.087,166.331 188.614,170.016 194.142,166.331 199.669,162.646 205.197,158.961 \n",
       "  210.724,162.646 216.252,166.331 221.78,170.016 227.307,166.331 232.835,162.646 238.362,158.961 243.89,162.646 249.417,158.961 254.945,162.646 260.472,166.331 \n",
       "  266,170.016 271.528,173.701 277.055,170.016 282.583,173.701 288.11,170.016 293.638,166.331 299.165,162.646 304.693,166.331 310.22,170.016 315.748,166.331 \n",
       "  \n",
       "  \"/>\n",
       "<polyline clip-path=\"url(#clip02)\" style=\"stroke:#00a98d; stroke-width:1; stroke-opacity:1; fill:none\" points=\"\n",
       "  44.8976,192.126 50.4252,195.811 55.9528,199.496 61.4803,203.181 67.0079,199.496 72.5354,195.811 78.063,192.126 83.5906,195.811 89.1181,192.126 94.6457,195.811 \n",
       "  100.173,192.126 105.701,188.441 111.228,192.126 116.756,188.441 122.283,184.756 127.811,181.071 133.339,184.756 138.866,188.441 144.394,192.126 149.921,188.441 \n",
       "  155.449,192.126 160.976,188.441 166.504,192.126 172.031,195.811 177.559,192.126 183.087,195.811 188.614,192.126 194.142,188.441 199.669,192.126 205.197,188.441 \n",
       "  210.724,192.126 216.252,195.811 221.78,192.126 227.307,188.441 232.835,184.756 238.362,188.441 243.89,184.756 249.417,188.441 254.945,184.756 260.472,188.441 \n",
       "  266,184.756 271.528,188.441 277.055,184.756 282.583,181.071 288.11,177.386 293.638,181.071 299.165,177.386 304.693,173.701 310.22,170.016 315.748,166.331 \n",
       "  \n",
       "  \"/>\n",
       "<polyline clip-path=\"url(#clip02)\" style=\"stroke:#8e971d; stroke-width:1; stroke-opacity:1; fill:none\" points=\"\n",
       "  44.8976,192.126 50.4252,195.811 55.9528,192.126 61.4803,195.811 67.0079,192.126 72.5354,195.811 78.063,199.496 83.5906,195.811 89.1181,199.496 94.6457,203.181 \n",
       "  100.173,206.866 105.701,210.551 111.228,206.866 116.756,203.181 122.283,206.866 127.811,210.551 133.339,206.866 138.866,203.181 144.394,206.866 149.921,210.551 \n",
       "  155.449,214.236 160.976,217.921 166.504,221.606 172.031,225.291 177.559,228.976 183.087,225.291 188.614,221.606 194.142,225.291 199.669,228.976 205.197,232.661 \n",
       "  210.724,236.346 216.252,240.031 221.78,243.717 227.307,240.031 232.835,243.717 238.362,247.402 243.89,251.087 249.417,254.772 254.945,251.087 260.472,254.772 \n",
       "  266,251.087 271.528,254.772 277.055,258.457 282.583,262.142 288.11,258.457 293.638,254.772 299.165,251.087 304.693,247.402 310.22,251.087 315.748,254.772 \n",
       "  \n",
       "  \"/>\n",
       "<polyline clip-path=\"url(#clip02)\" style=\"stroke:#00a8cb; stroke-width:1; stroke-opacity:1; fill:none\" points=\"\n",
       "  44.8976,192.126 50.4252,195.811 55.9528,192.126 61.4803,195.811 67.0079,199.496 72.5354,195.811 78.063,199.496 83.5906,203.181 89.1181,206.866 94.6457,210.551 \n",
       "  100.173,214.236 105.701,217.921 111.228,221.606 116.756,217.921 122.283,221.606 127.811,225.291 133.339,228.976 138.866,232.661 144.394,228.976 149.921,225.291 \n",
       "  155.449,228.976 160.976,232.661 166.504,236.346 172.031,232.661 177.559,236.346 183.087,240.031 188.614,243.717 194.142,247.402 199.669,243.717 205.197,240.031 \n",
       "  210.724,236.346 216.252,240.031 221.78,243.717 227.307,240.031 232.835,236.346 238.362,232.661 243.89,228.976 249.417,232.661 254.945,236.346 260.472,240.031 \n",
       "  266,236.346 271.528,232.661 277.055,228.976 282.583,232.661 288.11,236.346 293.638,240.031 299.165,236.346 304.693,240.031 310.22,243.717 315.748,247.402 \n",
       "  \n",
       "  \"/>\n",
       "<polyline clip-path=\"url(#clip02)\" style=\"stroke:#9b7fe8; stroke-width:1; stroke-opacity:1; fill:none\" points=\"\n",
       "  44.8976,192.126 50.4252,195.811 55.9528,199.496 61.4803,195.811 67.0079,199.496 72.5354,195.811 78.063,199.496 83.5906,195.811 89.1181,192.126 94.6457,195.811 \n",
       "  100.173,192.126 105.701,195.811 111.228,192.126 116.756,195.811 122.283,199.496 127.811,195.811 133.339,192.126 138.866,195.811 144.394,199.496 149.921,203.181 \n",
       "  155.449,206.866 160.976,203.181 166.504,199.496 172.031,195.811 177.559,199.496 183.087,203.181 188.614,206.866 194.142,210.551 199.669,214.236 205.197,217.921 \n",
       "  210.724,214.236 216.252,210.551 221.78,206.866 227.307,203.181 232.835,206.866 238.362,203.181 243.89,206.866 249.417,210.551 254.945,214.236 260.472,210.551 \n",
       "  266,214.236 271.528,210.551 277.055,206.866 282.583,203.181 288.11,206.866 293.638,210.551 299.165,206.866 304.693,203.181 310.22,199.496 315.748,195.811 \n",
       "  \n",
       "  \"/>\n",
       "<polyline clip-path=\"url(#clip02)\" style=\"stroke:#608cf6; stroke-width:1; stroke-opacity:1; fill:none\" points=\"\n",
       "  44.8976,192.126 50.4252,195.811 55.9528,192.126 61.4803,188.441 67.0079,192.126 72.5354,195.811 78.063,199.496 83.5906,203.181 89.1181,206.866 94.6457,210.551 \n",
       "  100.173,214.236 105.701,210.551 111.228,206.866 116.756,210.551 122.283,214.236 127.811,217.921 133.339,214.236 138.866,210.551 144.394,206.866 149.921,203.181 \n",
       "  155.449,199.496 160.976,203.181 166.504,206.866 172.031,210.551 177.559,206.866 183.087,210.551 188.614,214.236 194.142,210.551 199.669,206.866 205.197,203.181 \n",
       "  210.724,206.866 216.252,210.551 221.78,214.236 227.307,210.551 232.835,214.236 238.362,217.921 243.89,221.606 249.417,217.921 254.945,214.236 260.472,210.551 \n",
       "  266,206.866 271.528,203.181 277.055,206.866 282.583,203.181 288.11,199.496 293.638,195.811 299.165,199.496 304.693,203.181 310.22,206.866 315.748,210.551 \n",
       "  \n",
       "  \"/>\n",
       "<polyline clip-path=\"url(#clip02)\" style=\"stroke:#f05f73; stroke-width:1; stroke-opacity:1; fill:none\" points=\"\n",
       "  44.8976,192.126 50.4252,188.441 55.9528,184.756 61.4803,188.441 67.0079,184.756 72.5354,188.441 78.063,184.756 83.5906,188.441 89.1181,184.756 94.6457,188.441 \n",
       "  100.173,184.756 105.701,188.441 111.228,192.126 116.756,188.441 122.283,184.756 127.811,188.441 133.339,192.126 138.866,188.441 144.394,192.126 149.921,188.441 \n",
       "  155.449,192.126 160.976,195.811 166.504,192.126 172.031,188.441 177.559,192.126 183.087,188.441 188.614,192.126 194.142,195.811 199.669,192.126 205.197,195.811 \n",
       "  210.724,192.126 216.252,188.441 221.78,184.756 227.307,181.071 232.835,177.386 238.362,181.071 243.89,184.756 249.417,188.441 254.945,192.126 260.472,195.811 \n",
       "  266,199.496 271.528,203.181 277.055,199.496 282.583,203.181 288.11,206.866 293.638,210.551 299.165,214.236 304.693,210.551 310.22,214.236 315.748,217.921 \n",
       "  \n",
       "  \"/>\n",
       "<polyline clip-path=\"url(#clip02)\" style=\"stroke:#dd64b5; stroke-width:1; stroke-opacity:1; fill:none\" points=\"\n",
       "  44.8976,192.126 50.4252,188.441 55.9528,192.126 61.4803,195.811 67.0079,199.496 72.5354,203.181 78.063,199.496 83.5906,203.181 89.1181,206.866 94.6457,210.551 \n",
       "  100.173,206.866 105.701,210.551 111.228,214.236 116.756,210.551 122.283,214.236 127.811,210.551 133.339,214.236 138.866,210.551 144.394,206.866 149.921,210.551 \n",
       "  155.449,206.866 160.976,210.551 166.504,206.866 172.031,210.551 177.559,206.866 183.087,203.181 188.614,206.866 194.142,203.181 199.669,199.496 205.197,195.811 \n",
       "  210.724,192.126 216.252,195.811 221.78,199.496 227.307,203.181 232.835,199.496 238.362,195.811 243.89,199.496 249.417,195.811 254.945,199.496 260.472,195.811 \n",
       "  266,192.126 271.528,195.811 277.055,199.496 282.583,203.181 288.11,199.496 293.638,195.811 299.165,199.496 304.693,195.811 310.22,199.496 315.748,203.181 \n",
       "  \n",
       "  \"/>\n",
       "<polyline clip-path=\"url(#clip02)\" style=\"stroke:#6b9e32; stroke-width:1; stroke-opacity:1; fill:none\" points=\"\n",
       "  44.8976,192.126 50.4252,188.441 55.9528,184.756 61.4803,188.441 67.0079,184.756 72.5354,188.441 78.063,192.126 83.5906,195.811 89.1181,199.496 94.6457,195.811 \n",
       "  100.173,199.496 105.701,203.181 111.228,206.866 116.756,203.181 122.283,206.866 127.811,210.551 133.339,214.236 138.866,217.921 144.394,221.606 149.921,225.291 \n",
       "  155.449,221.606 160.976,225.291 166.504,228.976 172.031,232.661 177.559,228.976 183.087,232.661 188.614,236.346 194.142,240.031 199.669,236.346 205.197,232.661 \n",
       "  210.724,228.976 216.252,225.291 221.78,228.976 227.307,232.661 232.835,236.346 238.362,232.661 243.89,236.346 249.417,232.661 254.945,228.976 260.472,232.661 \n",
       "  266,228.976 271.528,232.661 277.055,236.346 282.583,240.031 288.11,243.717 293.638,240.031 299.165,243.717 304.693,240.031 310.22,243.717 315.748,247.402 \n",
       "  \n",
       "  \"/>\n",
       "<polyline clip-path=\"url(#clip02)\" style=\"stroke:#718c69; stroke-width:1; stroke-opacity:1; fill:none\" points=\"\n",
       "  44.8976,192.126 50.4252,195.811 55.9528,192.126 61.4803,188.441 67.0079,192.126 72.5354,195.811 78.063,192.126 83.5906,195.811 89.1181,199.496 94.6457,203.181 \n",
       "  100.173,206.866 105.701,210.551 111.228,206.866 116.756,203.181 122.283,206.866 127.811,203.181 133.339,199.496 138.866,203.181 144.394,199.496 149.921,203.181 \n",
       "  155.449,199.496 160.976,203.181 166.504,199.496 172.031,203.181 177.559,199.496 183.087,203.181 188.614,199.496 194.142,195.811 199.669,199.496 205.197,203.181 \n",
       "  210.724,206.866 216.252,203.181 221.78,206.866 227.307,203.181 232.835,206.866 238.362,203.181 243.89,206.866 249.417,203.181 254.945,206.866 260.472,210.551 \n",
       "  266,214.236 271.528,210.551 277.055,214.236 282.583,210.551 288.11,214.236 293.638,217.921 299.165,214.236 304.693,210.551 310.22,214.236 315.748,217.921 \n",
       "  \n",
       "  \"/>\n",
       "<polyline clip-path=\"url(#clip02)\" style=\"stroke:#47988b; stroke-width:1; stroke-opacity:1; fill:none\" points=\"\n",
       "  44.8976,192.126 50.4252,188.441 55.9528,184.756 61.4803,188.441 67.0079,184.756 72.5354,188.441 78.063,184.756 83.5906,181.071 89.1181,177.386 94.6457,181.071 \n",
       "  100.173,177.386 105.701,181.071 111.228,184.756 116.756,181.071 122.283,184.756 127.811,188.441 133.339,184.756 138.866,188.441 144.394,192.126 149.921,195.811 \n",
       "  155.449,192.126 160.976,195.811 166.504,192.126 172.031,188.441 177.559,192.126 183.087,188.441 188.614,192.126 194.142,195.811 199.669,192.126 205.197,195.811 \n",
       "  210.724,199.496 216.252,203.181 221.78,199.496 227.307,195.811 232.835,199.496 238.362,195.811 243.89,192.126 249.417,195.811 254.945,199.496 260.472,203.181 \n",
       "  266,199.496 271.528,203.181 277.055,199.496 282.583,203.181 288.11,199.496 293.638,195.811 299.165,192.126 304.693,195.811 310.22,199.496 315.748,203.181 \n",
       "  \n",
       "  \"/>\n",
       "<polyline clip-path=\"url(#clip02)\" style=\"stroke:#1ea68c; stroke-width:1; stroke-opacity:1; fill:none\" points=\"\n",
       "  44.8976,192.126 50.4252,188.441 55.9528,192.126 61.4803,188.441 67.0079,184.756 72.5354,181.071 78.063,177.386 83.5906,173.701 89.1181,170.016 94.6457,173.701 \n",
       "  100.173,177.386 105.701,181.071 111.228,177.386 116.756,173.701 122.283,170.016 127.811,166.331 133.339,162.646 138.866,158.961 144.394,162.646 149.921,158.961 \n",
       "  155.449,162.646 160.976,166.331 166.504,170.016 172.031,166.331 177.559,162.646 183.087,166.331 188.614,170.016 194.142,166.331 199.669,170.016 205.197,166.331 \n",
       "  210.724,170.016 216.252,173.701 221.78,177.386 227.307,173.701 232.835,177.386 238.362,173.701 243.89,170.016 249.417,166.331 254.945,170.016 260.472,166.331 \n",
       "  266,170.016 271.528,166.331 277.055,162.646 282.583,158.961 288.11,162.646 293.638,158.961 299.165,162.646 304.693,166.331 310.22,162.646 315.748,166.331 \n",
       "  \n",
       "  \"/>\n",
       "<polyline clip-path=\"url(#clip02)\" style=\"stroke:#af78dd; stroke-width:1; stroke-opacity:1; fill:none\" points=\"\n",
       "  44.8976,192.126 50.4252,195.811 55.9528,199.496 61.4803,203.181 67.0079,199.496 72.5354,195.811 78.063,199.496 83.5906,203.181 89.1181,199.496 94.6457,195.811 \n",
       "  100.173,192.126 105.701,188.441 111.228,192.126 116.756,195.811 122.283,192.126 127.811,195.811 133.339,192.126 138.866,195.811 144.394,192.126 149.921,195.811 \n",
       "  155.449,192.126 160.976,195.811 166.504,192.126 172.031,195.811 177.559,199.496 183.087,195.811 188.614,192.126 194.142,188.441 199.669,184.756 205.197,181.071 \n",
       "  210.724,184.756 216.252,181.071 221.78,177.386 227.307,173.701 232.835,177.386 238.362,181.071 243.89,177.386 249.417,173.701 254.945,177.386 260.472,173.701 \n",
       "  266,177.386 271.528,181.071 277.055,177.386 282.583,173.701 288.11,177.386 293.638,181.071 299.165,177.386 304.693,173.701 310.22,170.016 315.748,173.701 \n",
       "  \n",
       "  \"/>\n",
       "<polyline clip-path=\"url(#clip02)\" style=\"stroke:#868d87; stroke-width:1; stroke-opacity:1; fill:none\" points=\"\n",
       "  44.8976,192.126 50.4252,195.811 55.9528,199.496 61.4803,203.181 67.0079,206.866 72.5354,203.181 78.063,199.496 83.5906,195.811 89.1181,199.496 94.6457,203.181 \n",
       "  100.173,199.496 105.701,195.811 111.228,192.126 116.756,195.811 122.283,199.496 127.811,195.811 133.339,192.126 138.866,195.811 144.394,199.496 149.921,195.811 \n",
       "  155.449,192.126 160.976,188.441 166.504,192.126 172.031,195.811 177.559,199.496 183.087,195.811 188.614,199.496 194.142,195.811 199.669,199.496 205.197,195.811 \n",
       "  210.724,192.126 216.252,188.441 221.78,184.756 227.307,181.071 232.835,184.756 238.362,181.071 243.89,184.756 249.417,181.071 254.945,184.756 260.472,181.071 \n",
       "  266,184.756 271.528,181.071 277.055,177.386 282.583,173.701 288.11,170.016 293.638,166.331 299.165,170.016 304.693,173.701 310.22,177.386 315.748,181.071 \n",
       "  \n",
       "  \"/>\n",
       "<polyline clip-path=\"url(#clip02)\" style=\"stroke:#47a065; stroke-width:1; stroke-opacity:1; fill:none\" points=\"\n",
       "  44.8976,192.126 50.4252,195.811 55.9528,199.496 61.4803,195.811 67.0079,199.496 72.5354,195.811 78.063,199.496 83.5906,203.181 89.1181,199.496 94.6457,203.181 \n",
       "  100.173,199.496 105.701,195.811 111.228,192.126 116.756,188.441 122.283,192.126 127.811,195.811 133.339,192.126 138.866,195.811 144.394,199.496 149.921,203.181 \n",
       "  155.449,206.866 160.976,210.551 166.504,214.236 172.031,210.551 177.559,214.236 183.087,217.921 188.614,214.236 194.142,217.921 199.669,221.606 205.197,225.291 \n",
       "  210.724,228.976 216.252,232.661 221.78,228.976 227.307,232.661 232.835,228.976 238.362,232.661 243.89,228.976 249.417,225.291 254.945,221.606 260.472,217.921 \n",
       "  266,221.606 271.528,217.921 277.055,221.606 282.583,225.291 288.11,228.976 293.638,225.291 299.165,228.976 304.693,232.661 310.22,236.346 315.748,232.661 \n",
       "  \n",
       "  \"/>\n",
       "<polyline clip-path=\"url(#clip02)\" style=\"stroke:#7683af; stroke-width:1; stroke-opacity:1; fill:none\" points=\"\n",
       "  44.8976,192.126 50.4252,188.441 55.9528,184.756 61.4803,188.441 67.0079,184.756 72.5354,188.441 78.063,192.126 83.5906,195.811 89.1181,192.126 94.6457,188.441 \n",
       "  100.173,184.756 105.701,188.441 111.228,184.756 116.756,188.441 122.283,184.756 127.811,181.071 133.339,184.756 138.866,181.071 144.394,184.756 149.921,181.071 \n",
       "  155.449,184.756 160.976,181.071 166.504,184.756 172.031,188.441 177.559,184.756 183.087,181.071 188.614,184.756 194.142,188.441 199.669,184.756 205.197,188.441 \n",
       "  210.724,184.756 216.252,181.071 221.78,177.386 227.307,173.701 232.835,177.386 238.362,173.701 243.89,177.386 249.417,173.701 254.945,170.016 260.472,173.701 \n",
       "  266,177.386 271.528,181.071 277.055,177.386 282.583,173.701 288.11,177.386 293.638,181.071 299.165,177.386 304.693,181.071 310.22,184.756 315.748,181.071 \n",
       "  \n",
       "  \"/>\n",
       "<polyline clip-path=\"url(#clip02)\" style=\"stroke:#b08086; stroke-width:1; stroke-opacity:1; fill:none\" points=\"\n",
       "  44.8976,192.126 50.4252,195.811 55.9528,199.496 61.4803,203.181 67.0079,199.496 72.5354,203.181 78.063,206.866 83.5906,210.551 89.1181,214.236 94.6457,210.551 \n",
       "  100.173,206.866 105.701,210.551 111.228,214.236 116.756,210.551 122.283,214.236 127.811,217.921 133.339,214.236 138.866,217.921 144.394,221.606 149.921,217.921 \n",
       "  155.449,221.606 160.976,217.921 166.504,214.236 172.031,210.551 177.559,214.236 183.087,217.921 188.614,214.236 194.142,217.921 199.669,221.606 205.197,217.921 \n",
       "  210.724,214.236 216.252,210.551 221.78,206.866 227.307,203.181 232.835,206.866 238.362,210.551 243.89,214.236 249.417,210.551 254.945,206.866 260.472,203.181 \n",
       "  266,199.496 271.528,195.811 277.055,199.496 282.583,203.181 288.11,199.496 293.638,203.181 299.165,206.866 304.693,203.181 310.22,206.866 315.748,203.181 \n",
       "  \n",
       "  \"/>\n",
       "<polyline clip-path=\"url(#clip02)\" style=\"stroke:#309ac1; stroke-width:1; stroke-opacity:1; fill:none\" points=\"\n",
       "  44.8976,192.126 50.4252,188.441 55.9528,192.126 61.4803,188.441 67.0079,184.756 72.5354,188.441 78.063,192.126 83.5906,195.811 89.1181,192.126 94.6457,195.811 \n",
       "  100.173,199.496 105.701,203.181 111.228,206.866 116.756,203.181 122.283,199.496 127.811,203.181 133.339,206.866 138.866,203.181 144.394,199.496 149.921,195.811 \n",
       "  155.449,192.126 160.976,195.811 166.504,192.126 172.031,195.811 177.559,199.496 183.087,195.811 188.614,192.126 194.142,188.441 199.669,192.126 205.197,188.441 \n",
       "  210.724,192.126 216.252,195.811 221.78,192.126 227.307,195.811 232.835,192.126 238.362,188.441 243.89,184.756 249.417,188.441 254.945,192.126 260.472,195.811 \n",
       "  266,199.496 271.528,195.811 277.055,192.126 282.583,195.811 288.11,192.126 293.638,195.811 299.165,199.496 304.693,203.181 310.22,199.496 315.748,203.181 \n",
       "  \n",
       "  \"/>\n",
       "<polyline clip-path=\"url(#clip02)\" style=\"stroke:#788490; stroke-width:1; stroke-opacity:1; fill:none\" points=\"\n",
       "  44.8976,192.126 50.4252,195.811 55.9528,199.496 61.4803,195.811 67.0079,199.496 72.5354,195.811 78.063,199.496 83.5906,195.811 89.1181,192.126 94.6457,195.811 \n",
       "  100.173,199.496 105.701,203.181 111.228,199.496 116.756,195.811 122.283,192.126 127.811,188.441 133.339,192.126 138.866,195.811 144.394,199.496 149.921,195.811 \n",
       "  155.449,192.126 160.976,188.441 166.504,184.756 172.031,188.441 177.559,184.756 183.087,188.441 188.614,184.756 194.142,188.441 199.669,192.126 205.197,188.441 \n",
       "  210.724,192.126 216.252,195.811 221.78,192.126 227.307,195.811 232.835,192.126 238.362,195.811 243.89,192.126 249.417,188.441 254.945,192.126 260.472,195.811 \n",
       "  266,199.496 271.528,195.811 277.055,192.126 282.583,195.811 288.11,199.496 293.638,203.181 299.165,199.496 304.693,195.811 310.22,192.126 315.748,188.441 \n",
       "  \n",
       "  \"/>\n",
       "<polyline clip-path=\"url(#clip02)\" style=\"stroke:#e561a4; stroke-width:1; stroke-opacity:1; fill:none\" points=\"\n",
       "  44.8976,192.126 50.4252,188.441 55.9528,184.756 61.4803,181.071 67.0079,184.756 72.5354,188.441 78.063,184.756 83.5906,188.441 89.1181,184.756 94.6457,181.071 \n",
       "  100.173,177.386 105.701,181.071 111.228,184.756 116.756,181.071 122.283,177.386 127.811,181.071 133.339,184.756 138.866,181.071 144.394,177.386 149.921,181.071 \n",
       "  155.449,177.386 160.976,173.701 166.504,170.016 172.031,173.701 177.559,170.016 183.087,173.701 188.614,177.386 194.142,173.701 199.669,177.386 205.197,173.701 \n",
       "  210.724,170.016 216.252,166.331 221.78,162.646 227.307,166.331 232.835,170.016 238.362,166.331 243.89,170.016 249.417,173.701 254.945,177.386 260.472,181.071 \n",
       "  266,184.756 271.528,181.071 277.055,184.756 282.583,188.441 288.11,184.756 293.638,181.071 299.165,184.756 304.693,188.441 310.22,192.126 315.748,195.811 \n",
       "  \n",
       "  \"/>\n",
       "<polyline clip-path=\"url(#clip02)\" style=\"stroke:#99902c; stroke-width:1; stroke-opacity:1; fill:none\" points=\"\n",
       "  44.8976,192.126 50.4252,188.441 55.9528,184.756 61.4803,181.071 67.0079,177.386 72.5354,173.701 78.063,170.016 83.5906,166.331 89.1181,170.016 94.6457,173.701 \n",
       "  100.173,170.016 105.701,166.331 111.228,170.016 116.756,166.331 122.283,170.016 127.811,173.701 133.339,170.016 138.866,166.331 144.394,162.646 149.921,158.961 \n",
       "  155.449,162.646 160.976,166.331 166.504,162.646 172.031,166.331 177.559,162.646 183.087,158.961 188.614,162.646 194.142,158.961 199.669,162.646 205.197,158.961 \n",
       "  210.724,162.646 216.252,166.331 221.78,170.016 227.307,166.331 232.835,162.646 238.362,158.961 243.89,162.646 249.417,158.961 254.945,155.276 260.472,151.591 \n",
       "  266,155.276 271.528,151.591 277.055,155.276 282.583,158.961 288.11,162.646 293.638,166.331 299.165,162.646 304.693,158.961 310.22,155.276 315.748,151.591 \n",
       "  \n",
       "  \"/>\n",
       "<polyline clip-path=\"url(#clip02)\" style=\"stroke:#389a7b; stroke-width:1; stroke-opacity:1; fill:none\" points=\"\n",
       "  44.8976,192.126 50.4252,195.811 55.9528,199.496 61.4803,203.181 67.0079,199.496 72.5354,195.811 78.063,199.496 83.5906,195.811 89.1181,199.496 94.6457,195.811 \n",
       "  100.173,199.496 105.701,203.181 111.228,206.866 116.756,210.551 122.283,206.866 127.811,210.551 133.339,206.866 138.866,210.551 144.394,214.236 149.921,217.921 \n",
       "  155.449,221.606 160.976,225.291 166.504,221.606 172.031,217.921 177.559,221.606 183.087,225.291 188.614,221.606 194.142,225.291 199.669,228.976 205.197,232.661 \n",
       "  210.724,228.976 216.252,232.661 221.78,228.976 227.307,232.661 232.835,228.976 238.362,232.661 243.89,228.976 249.417,225.291 254.945,228.976 260.472,225.291 \n",
       "  266,221.606 271.528,225.291 277.055,221.606 282.583,225.291 288.11,221.606 293.638,225.291 299.165,221.606 304.693,217.921 310.22,214.236 315.748,210.551 \n",
       "  \n",
       "  \"/>\n",
       "<polyline clip-path=\"url(#clip02)\" style=\"stroke:#d968a2; stroke-width:1; stroke-opacity:1; fill:none\" points=\"\n",
       "  44.8976,192.126 50.4252,188.441 55.9528,184.756 61.4803,188.441 67.0079,184.756 72.5354,188.441 78.063,192.126 83.5906,195.811 89.1181,192.126 94.6457,188.441 \n",
       "  100.173,192.126 105.701,188.441 111.228,184.756 116.756,181.071 122.283,177.386 127.811,181.071 133.339,184.756 138.866,188.441 144.394,192.126 149.921,195.811 \n",
       "  155.449,192.126 160.976,195.811 166.504,192.126 172.031,188.441 177.559,192.126 183.087,195.811 188.614,199.496 194.142,195.811 199.669,192.126 205.197,195.811 \n",
       "  210.724,192.126 216.252,188.441 221.78,184.756 227.307,181.071 232.835,184.756 238.362,181.071 243.89,177.386 249.417,181.071 254.945,184.756 260.472,181.071 \n",
       "  266,184.756 271.528,181.071 277.055,184.756 282.583,188.441 288.11,192.126 293.638,195.811 299.165,199.496 304.693,195.811 310.22,192.126 315.748,195.811 \n",
       "  \n",
       "  \"/>\n",
       "<polyline clip-path=\"url(#clip02)\" style=\"stroke:#009af9; stroke-width:1; stroke-opacity:1; fill:none\" points=\"\n",
       "  44.8976,192.126 50.4252,188.441 55.9528,192.126 61.4803,195.811 67.0079,199.496 72.5354,195.811 78.063,192.126 83.5906,188.441 89.1181,192.126 94.6457,188.441 \n",
       "  100.173,192.126 105.701,195.811 111.228,199.496 116.756,195.811 122.283,192.126 127.811,188.441 133.339,192.126 138.866,195.811 144.394,199.496 149.921,203.181 \n",
       "  155.449,206.866 160.976,203.181 166.504,199.496 172.031,203.181 177.559,206.866 183.087,210.551 188.614,214.236 194.142,210.551 199.669,214.236 205.197,210.551 \n",
       "  210.724,206.866 216.252,203.181 221.78,206.866 227.307,203.181 232.835,199.496 238.362,195.811 243.89,199.496 249.417,203.181 254.945,199.496 260.472,203.181 \n",
       "  266,206.866 271.528,210.551 277.055,214.236 282.583,210.551 288.11,214.236 293.638,210.551 299.165,214.236 304.693,210.551 310.22,206.866 315.748,210.551 \n",
       "  \n",
       "  \"/>\n",
       "<polyline clip-path=\"url(#clip02)\" style=\"stroke:#e26f46; stroke-width:1; stroke-opacity:1; fill:none\" points=\"\n",
       "  44.8976,192.126 50.4252,195.811 55.9528,199.496 61.4803,195.811 67.0079,192.126 72.5354,188.441 78.063,184.756 83.5906,188.441 89.1181,184.756 94.6457,181.071 \n",
       "  100.173,177.386 105.701,173.701 111.228,177.386 116.756,173.701 122.283,170.016 127.811,173.701 133.339,177.386 138.866,181.071 144.394,177.386 149.921,181.071 \n",
       "  155.449,177.386 160.976,173.701 166.504,177.386 172.031,173.701 177.559,177.386 183.087,181.071 188.614,177.386 194.142,173.701 199.669,170.016 205.197,173.701 \n",
       "  210.724,170.016 216.252,173.701 221.78,170.016 227.307,173.701 232.835,170.016 238.362,166.331 243.89,162.646 249.417,158.961 254.945,155.276 260.472,158.961 \n",
       "  266,155.276 271.528,151.591 277.055,147.906 282.583,151.591 288.11,147.906 293.638,144.22 299.165,140.535 304.693,144.22 310.22,140.535 315.748,144.22 \n",
       "  \n",
       "  \"/>\n",
       "<polyline clip-path=\"url(#clip02)\" style=\"stroke:#3da44d; stroke-width:1; stroke-opacity:1; fill:none\" points=\"\n",
       "  44.8976,192.126 50.4252,195.811 55.9528,199.496 61.4803,203.181 67.0079,206.866 72.5354,210.551 78.063,206.866 83.5906,203.181 89.1181,206.866 94.6457,210.551 \n",
       "  100.173,206.866 105.701,210.551 111.228,214.236 116.756,217.921 122.283,214.236 127.811,217.921 133.339,221.606 138.866,217.921 144.394,221.606 149.921,225.291 \n",
       "  155.449,228.976 160.976,232.661 166.504,228.976 172.031,225.291 177.559,221.606 183.087,225.291 188.614,228.976 194.142,225.291 199.669,221.606 205.197,217.921 \n",
       "  210.724,221.606 216.252,217.921 221.78,221.606 227.307,217.921 232.835,214.236 238.362,217.921 243.89,221.606 249.417,225.291 254.945,228.976 260.472,225.291 \n",
       "  266,228.976 271.528,232.661 277.055,228.976 282.583,225.291 288.11,228.976 293.638,232.661 299.165,228.976 304.693,225.291 310.22,228.976 315.748,225.291 \n",
       "  \n",
       "  \"/>\n",
       "<polyline clip-path=\"url(#clip02)\" style=\"stroke:#c271d2; stroke-width:1; stroke-opacity:1; fill:none\" points=\"\n",
       "  44.8976,192.126 50.4252,188.441 55.9528,192.126 61.4803,188.441 67.0079,192.126 72.5354,195.811 78.063,199.496 83.5906,203.181 89.1181,199.496 94.6457,195.811 \n",
       "  100.173,192.126 105.701,195.811 111.228,192.126 116.756,195.811 122.283,192.126 127.811,195.811 133.339,192.126 138.866,195.811 144.394,199.496 149.921,203.181 \n",
       "  155.449,206.866 160.976,210.551 166.504,206.866 172.031,203.181 177.559,206.866 183.087,203.181 188.614,199.496 194.142,195.811 199.669,192.126 205.197,195.811 \n",
       "  210.724,199.496 216.252,203.181 221.78,199.496 227.307,195.811 232.835,192.126 238.362,195.811 243.89,199.496 249.417,195.811 254.945,199.496 260.472,203.181 \n",
       "  266,199.496 271.528,195.811 277.055,192.126 282.583,188.441 288.11,184.756 293.638,188.441 299.165,184.756 304.693,188.441 310.22,184.756 315.748,188.441 \n",
       "  \n",
       "  \"/>\n",
       "<polyline clip-path=\"url(#clip02)\" style=\"stroke:#ac8d18; stroke-width:1; stroke-opacity:1; fill:none\" points=\"\n",
       "  44.8976,192.126 50.4252,195.811 55.9528,199.496 61.4803,203.181 67.0079,199.496 72.5354,195.811 78.063,192.126 83.5906,195.811 89.1181,192.126 94.6457,195.811 \n",
       "  100.173,199.496 105.701,195.811 111.228,199.496 116.756,195.811 122.283,199.496 127.811,195.811 133.339,192.126 138.866,195.811 144.394,192.126 149.921,188.441 \n",
       "  155.449,184.756 160.976,188.441 166.504,192.126 172.031,188.441 177.559,184.756 183.087,188.441 188.614,192.126 194.142,188.441 199.669,192.126 205.197,188.441 \n",
       "  210.724,184.756 216.252,181.071 221.78,184.756 227.307,181.071 232.835,177.386 238.362,181.071 243.89,184.756 249.417,181.071 254.945,177.386 260.472,181.071 \n",
       "  266,184.756 271.528,188.441 277.055,192.126 282.583,188.441 288.11,192.126 293.638,188.441 299.165,184.756 304.693,188.441 310.22,192.126 315.748,195.811 \n",
       "  \n",
       "  \"/>\n",
       "<polyline clip-path=\"url(#clip02)\" style=\"stroke:#00a9ad; stroke-width:1; stroke-opacity:1; fill:none\" points=\"\n",
       "  44.8976,192.126 50.4252,195.811 55.9528,199.496 61.4803,203.181 67.0079,199.496 72.5354,203.181 78.063,199.496 83.5906,195.811 89.1181,192.126 94.6457,195.811 \n",
       "  100.173,192.126 105.701,188.441 111.228,192.126 116.756,188.441 122.283,184.756 127.811,181.071 133.339,184.756 138.866,181.071 144.394,177.386 149.921,181.071 \n",
       "  155.449,177.386 160.976,173.701 166.504,170.016 172.031,173.701 177.559,177.386 183.087,181.071 188.614,177.386 194.142,173.701 199.669,170.016 205.197,166.331 \n",
       "  210.724,170.016 216.252,173.701 221.78,170.016 227.307,166.331 232.835,162.646 238.362,166.331 243.89,170.016 249.417,166.331 254.945,162.646 260.472,166.331 \n",
       "  266,170.016 271.528,173.701 277.055,170.016 282.583,173.701 288.11,170.016 293.638,173.701 299.165,170.016 304.693,173.701 310.22,177.386 315.748,181.071 \n",
       "  \n",
       "  \"/>\n",
       "<polyline clip-path=\"url(#clip02)\" style=\"stroke:#ed5d92; stroke-width:1; stroke-opacity:1; fill:none\" points=\"\n",
       "  44.8976,192.126 50.4252,188.441 55.9528,192.126 61.4803,195.811 67.0079,199.496 72.5354,195.811 78.063,192.126 83.5906,195.811 89.1181,199.496 94.6457,195.811 \n",
       "  100.173,192.126 105.701,188.441 111.228,192.126 116.756,195.811 122.283,192.126 127.811,195.811 133.339,192.126 138.866,195.811 144.394,199.496 149.921,195.811 \n",
       "  155.449,199.496 160.976,195.811 166.504,192.126 172.031,188.441 177.559,184.756 183.087,188.441 188.614,184.756 194.142,181.071 199.669,184.756 205.197,181.071 \n",
       "  210.724,177.386 216.252,181.071 221.78,184.756 227.307,188.441 232.835,192.126 238.362,195.811 243.89,192.126 249.417,188.441 254.945,184.756 260.472,181.071 \n",
       "  266,177.386 271.528,173.701 277.055,177.386 282.583,181.071 288.11,184.756 293.638,188.441 299.165,184.756 304.693,188.441 310.22,184.756 315.748,188.441 \n",
       "  \n",
       "  \"/>\n",
       "<polyline clip-path=\"url(#clip02)\" style=\"stroke:#c68125; stroke-width:1; stroke-opacity:1; fill:none\" points=\"\n",
       "  44.8976,192.126 50.4252,195.811 55.9528,192.126 61.4803,188.441 67.0079,184.756 72.5354,188.441 78.063,184.756 83.5906,188.441 89.1181,192.126 94.6457,195.811 \n",
       "  100.173,192.126 105.701,195.811 111.228,199.496 116.756,195.811 122.283,199.496 127.811,195.811 133.339,199.496 138.866,203.181 144.394,206.866 149.921,203.181 \n",
       "  155.449,199.496 160.976,203.181 166.504,199.496 172.031,195.811 177.559,192.126 183.087,188.441 188.614,192.126 194.142,195.811 199.669,199.496 205.197,203.181 \n",
       "  210.724,206.866 216.252,210.551 221.78,206.866 227.307,210.551 232.835,206.866 238.362,203.181 243.89,206.866 249.417,203.181 254.945,199.496 260.472,195.811 \n",
       "  266,192.126 271.528,188.441 277.055,192.126 282.583,188.441 288.11,192.126 293.638,188.441 299.165,192.126 304.693,188.441 310.22,184.756 315.748,188.441 \n",
       "  \n",
       "  \"/>\n",
       "<polyline clip-path=\"url(#clip02)\" style=\"stroke:#00a98d; stroke-width:1; stroke-opacity:1; fill:none\" points=\"\n",
       "  44.8976,192.126 50.4252,188.441 55.9528,192.126 61.4803,188.441 67.0079,184.756 72.5354,188.441 78.063,184.756 83.5906,188.441 89.1181,192.126 94.6457,195.811 \n",
       "  100.173,199.496 105.701,195.811 111.228,199.496 116.756,195.811 122.283,192.126 127.811,188.441 133.339,192.126 138.866,195.811 144.394,199.496 149.921,195.811 \n",
       "  155.449,192.126 160.976,195.811 166.504,192.126 172.031,195.811 177.559,199.496 183.087,203.181 188.614,199.496 194.142,195.811 199.669,192.126 205.197,195.811 \n",
       "  210.724,199.496 216.252,195.811 221.78,199.496 227.307,203.181 232.835,199.496 238.362,195.811 243.89,192.126 249.417,188.441 254.945,184.756 260.472,181.071 \n",
       "  266,184.756 271.528,181.071 277.055,177.386 282.583,173.701 288.11,177.386 293.638,181.071 299.165,184.756 304.693,181.071 310.22,184.756 315.748,181.071 \n",
       "  \n",
       "  \"/>\n",
       "<polyline clip-path=\"url(#clip02)\" style=\"stroke:#8e971d; stroke-width:1; stroke-opacity:1; fill:none\" points=\"\n",
       "  44.8976,192.126 50.4252,195.811 55.9528,199.496 61.4803,195.811 67.0079,199.496 72.5354,195.811 78.063,199.496 83.5906,195.811 89.1181,199.496 94.6457,195.811 \n",
       "  100.173,199.496 105.701,203.181 111.228,199.496 116.756,195.811 122.283,192.126 127.811,188.441 133.339,192.126 138.866,188.441 144.394,192.126 149.921,188.441 \n",
       "  155.449,192.126 160.976,195.811 166.504,199.496 172.031,195.811 177.559,199.496 183.087,195.811 188.614,192.126 194.142,188.441 199.669,192.126 205.197,188.441 \n",
       "  210.724,192.126 216.252,188.441 221.78,192.126 227.307,195.811 232.835,192.126 238.362,188.441 243.89,184.756 249.417,181.071 254.945,177.386 260.472,173.701 \n",
       "  266,177.386 271.528,181.071 277.055,184.756 282.583,181.071 288.11,184.756 293.638,188.441 299.165,184.756 304.693,188.441 310.22,192.126 315.748,188.441 \n",
       "  \n",
       "  \"/>\n",
       "<polyline clip-path=\"url(#clip02)\" style=\"stroke:#00a8cb; stroke-width:1; stroke-opacity:1; fill:none\" points=\"\n",
       "  44.8976,192.126 50.4252,195.811 55.9528,192.126 61.4803,188.441 67.0079,184.756 72.5354,181.071 78.063,177.386 83.5906,181.071 89.1181,184.756 94.6457,188.441 \n",
       "  100.173,184.756 105.701,181.071 111.228,184.756 116.756,188.441 122.283,192.126 127.811,195.811 133.339,199.496 138.866,195.811 144.394,199.496 149.921,203.181 \n",
       "  155.449,199.496 160.976,203.181 166.504,199.496 172.031,195.811 177.559,199.496 183.087,195.811 188.614,199.496 194.142,203.181 199.669,206.866 205.197,203.181 \n",
       "  210.724,206.866 216.252,210.551 221.78,214.236 227.307,217.921 232.835,214.236 238.362,217.921 243.89,221.606 249.417,225.291 254.945,228.976 260.472,232.661 \n",
       "  266,228.976 271.528,225.291 277.055,221.606 282.583,217.921 288.11,221.606 293.638,217.921 299.165,214.236 304.693,217.921 310.22,221.606 315.748,217.921 \n",
       "  \n",
       "  \"/>\n",
       "<polyline clip-path=\"url(#clip02)\" style=\"stroke:#9b7fe8; stroke-width:1; stroke-opacity:1; fill:none\" points=\"\n",
       "  44.8976,192.126 50.4252,188.441 55.9528,192.126 61.4803,188.441 67.0079,184.756 72.5354,188.441 78.063,184.756 83.5906,181.071 89.1181,177.386 94.6457,173.701 \n",
       "  100.173,177.386 105.701,173.701 111.228,177.386 116.756,181.071 122.283,184.756 127.811,188.441 133.339,184.756 138.866,181.071 144.394,177.386 149.921,181.071 \n",
       "  155.449,177.386 160.976,181.071 166.504,184.756 172.031,181.071 177.559,177.386 183.087,173.701 188.614,170.016 194.142,173.701 199.669,177.386 205.197,173.701 \n",
       "  210.724,177.386 216.252,173.701 221.78,170.016 227.307,173.701 232.835,170.016 238.362,166.331 243.89,170.016 249.417,166.331 254.945,170.016 260.472,173.701 \n",
       "  266,177.386 271.528,173.701 277.055,177.386 282.583,181.071 288.11,177.386 293.638,181.071 299.165,177.386 304.693,181.071 310.22,177.386 315.748,181.071 \n",
       "  \n",
       "  \"/>\n",
       "<polyline clip-path=\"url(#clip02)\" style=\"stroke:#608cf6; stroke-width:1; stroke-opacity:1; fill:none\" points=\"\n",
       "  44.8976,192.126 50.4252,195.811 55.9528,199.496 61.4803,195.811 67.0079,199.496 72.5354,203.181 78.063,199.496 83.5906,195.811 89.1181,199.496 94.6457,195.811 \n",
       "  100.173,199.496 105.701,195.811 111.228,192.126 116.756,195.811 122.283,199.496 127.811,203.181 133.339,206.866 138.866,210.551 144.394,206.866 149.921,203.181 \n",
       "  155.449,199.496 160.976,195.811 166.504,192.126 172.031,188.441 177.559,192.126 183.087,195.811 188.614,192.126 194.142,188.441 199.669,192.126 205.197,188.441 \n",
       "  210.724,184.756 216.252,188.441 221.78,184.756 227.307,188.441 232.835,184.756 238.362,188.441 243.89,184.756 249.417,181.071 254.945,177.386 260.472,173.701 \n",
       "  266,170.016 271.528,166.331 277.055,162.646 282.583,166.331 288.11,162.646 293.638,158.961 299.165,162.646 304.693,158.961 310.22,155.276 315.748,151.591 \n",
       "  \n",
       "  \"/>\n",
       "<polyline clip-path=\"url(#clip02)\" style=\"stroke:#f05f73; stroke-width:1; stroke-opacity:1; fill:none\" points=\"\n",
       "  44.8976,192.126 50.4252,195.811 55.9528,192.126 61.4803,188.441 67.0079,184.756 72.5354,188.441 78.063,192.126 83.5906,195.811 89.1181,192.126 94.6457,195.811 \n",
       "  100.173,199.496 105.701,203.181 111.228,206.866 116.756,203.181 122.283,206.866 127.811,203.181 133.339,206.866 138.866,210.551 144.394,206.866 149.921,210.551 \n",
       "  155.449,214.236 160.976,210.551 166.504,206.866 172.031,203.181 177.559,206.866 183.087,203.181 188.614,199.496 194.142,195.811 199.669,199.496 205.197,203.181 \n",
       "  210.724,199.496 216.252,203.181 221.78,199.496 227.307,195.811 232.835,199.496 238.362,203.181 243.89,199.496 249.417,195.811 254.945,192.126 260.472,188.441 \n",
       "  266,184.756 271.528,188.441 277.055,184.756 282.583,181.071 288.11,177.386 293.638,173.701 299.165,170.016 304.693,166.331 310.22,162.646 315.748,158.961 \n",
       "  \n",
       "  \"/>\n",
       "<polyline clip-path=\"url(#clip02)\" style=\"stroke:#dd64b5; stroke-width:1; stroke-opacity:1; fill:none\" points=\"\n",
       "  44.8976,192.126 50.4252,195.811 55.9528,192.126 61.4803,195.811 67.0079,199.496 72.5354,203.181 78.063,206.866 83.5906,210.551 89.1181,206.866 94.6457,203.181 \n",
       "  100.173,206.866 105.701,203.181 111.228,199.496 116.756,195.811 122.283,192.126 127.811,195.811 133.339,199.496 138.866,203.181 144.394,206.866 149.921,210.551 \n",
       "  155.449,214.236 160.976,210.551 166.504,214.236 172.031,217.921 177.559,221.606 183.087,217.921 188.614,214.236 194.142,210.551 199.669,214.236 205.197,217.921 \n",
       "  210.724,221.606 216.252,217.921 221.78,221.606 227.307,217.921 232.835,214.236 238.362,210.551 243.89,206.866 249.417,203.181 254.945,199.496 260.472,203.181 \n",
       "  266,206.866 271.528,203.181 277.055,206.866 282.583,203.181 288.11,206.866 293.638,210.551 299.165,206.866 304.693,203.181 310.22,199.496 315.748,203.181 \n",
       "  \n",
       "  \"/>\n",
       "<polyline clip-path=\"url(#clip02)\" style=\"stroke:#6b9e32; stroke-width:1; stroke-opacity:1; fill:none\" points=\"\n",
       "  44.8976,192.126 50.4252,195.811 55.9528,192.126 61.4803,188.441 67.0079,192.126 72.5354,188.441 78.063,184.756 83.5906,188.441 89.1181,184.756 94.6457,181.071 \n",
       "  100.173,184.756 105.701,181.071 111.228,184.756 116.756,188.441 122.283,184.756 127.811,188.441 133.339,192.126 138.866,188.441 144.394,184.756 149.921,181.071 \n",
       "  155.449,184.756 160.976,181.071 166.504,177.386 172.031,181.071 177.559,177.386 183.087,173.701 188.614,177.386 194.142,173.701 199.669,177.386 205.197,173.701 \n",
       "  210.724,170.016 216.252,173.701 221.78,170.016 227.307,166.331 232.835,170.016 238.362,166.331 243.89,162.646 249.417,166.331 254.945,162.646 260.472,158.961 \n",
       "  266,162.646 271.528,166.331 277.055,170.016 282.583,166.331 288.11,170.016 293.638,166.331 299.165,170.016 304.693,166.331 310.22,170.016 315.748,166.331 \n",
       "  \n",
       "  \"/>\n",
       "<polyline clip-path=\"url(#clip02)\" style=\"stroke:#718c69; stroke-width:1; stroke-opacity:1; fill:none\" points=\"\n",
       "  44.8976,192.126 50.4252,195.811 55.9528,199.496 61.4803,195.811 67.0079,192.126 72.5354,188.441 78.063,184.756 83.5906,188.441 89.1181,192.126 94.6457,195.811 \n",
       "  100.173,199.496 105.701,203.181 111.228,199.496 116.756,195.811 122.283,199.496 127.811,203.181 133.339,206.866 138.866,203.181 144.394,199.496 149.921,203.181 \n",
       "  155.449,199.496 160.976,203.181 166.504,199.496 172.031,203.181 177.559,199.496 183.087,203.181 188.614,206.866 194.142,203.181 199.669,206.866 205.197,210.551 \n",
       "  210.724,214.236 216.252,210.551 221.78,214.236 227.307,217.921 232.835,214.236 238.362,210.551 243.89,214.236 249.417,217.921 254.945,221.606 260.472,217.921 \n",
       "  266,214.236 271.528,210.551 277.055,206.866 282.583,210.551 288.11,206.866 293.638,210.551 299.165,214.236 304.693,217.921 310.22,214.236 315.748,210.551 \n",
       "  \n",
       "  \"/>\n",
       "<polyline clip-path=\"url(#clip02)\" style=\"stroke:#47988b; stroke-width:1; stroke-opacity:1; fill:none\" points=\"\n",
       "  44.8976,192.126 50.4252,188.441 55.9528,184.756 61.4803,188.441 67.0079,184.756 72.5354,188.441 78.063,184.756 83.5906,181.071 89.1181,177.386 94.6457,173.701 \n",
       "  100.173,177.386 105.701,173.701 111.228,177.386 116.756,181.071 122.283,177.386 127.811,181.071 133.339,184.756 138.866,181.071 144.394,177.386 149.921,173.701 \n",
       "  155.449,170.016 160.976,173.701 166.504,170.016 172.031,173.701 177.559,170.016 183.087,173.701 188.614,177.386 194.142,173.701 199.669,170.016 205.197,166.331 \n",
       "  210.724,162.646 216.252,166.331 221.78,162.646 227.307,166.331 232.835,170.016 238.362,173.701 243.89,177.386 249.417,173.701 254.945,177.386 260.472,181.071 \n",
       "  266,184.756 271.528,181.071 277.055,184.756 282.583,188.441 288.11,192.126 293.638,188.441 299.165,184.756 304.693,188.441 310.22,192.126 315.748,188.441 \n",
       "  \n",
       "  \"/>\n",
       "<polyline clip-path=\"url(#clip02)\" style=\"stroke:#1ea68c; stroke-width:1; stroke-opacity:1; fill:none\" points=\"\n",
       "  44.8976,192.126 50.4252,188.441 55.9528,184.756 61.4803,181.071 67.0079,177.386 72.5354,173.701 78.063,177.386 83.5906,181.071 89.1181,184.756 94.6457,181.071 \n",
       "  100.173,184.756 105.701,181.071 111.228,184.756 116.756,188.441 122.283,192.126 127.811,188.441 133.339,184.756 138.866,188.441 144.394,184.756 149.921,188.441 \n",
       "  155.449,184.756 160.976,188.441 166.504,184.756 172.031,181.071 177.559,184.756 183.087,181.071 188.614,177.386 194.142,173.701 199.669,177.386 205.197,181.071 \n",
       "  210.724,177.386 216.252,173.701 221.78,177.386 227.307,181.071 232.835,177.386 238.362,181.071 243.89,184.756 249.417,188.441 254.945,184.756 260.472,181.071 \n",
       "  266,184.756 271.528,188.441 277.055,184.756 282.583,188.441 288.11,192.126 293.638,188.441 299.165,184.756 304.693,181.071 310.22,184.756 315.748,181.071 \n",
       "  \n",
       "  \"/>\n",
       "<polyline clip-path=\"url(#clip02)\" style=\"stroke:#af78dd; stroke-width:1; stroke-opacity:1; fill:none\" points=\"\n",
       "  44.8976,192.126 50.4252,188.441 55.9528,192.126 61.4803,188.441 67.0079,184.756 72.5354,188.441 78.063,192.126 83.5906,188.441 89.1181,192.126 94.6457,188.441 \n",
       "  100.173,192.126 105.701,188.441 111.228,184.756 116.756,181.071 122.283,184.756 127.811,181.071 133.339,184.756 138.866,181.071 144.394,184.756 149.921,181.071 \n",
       "  155.449,184.756 160.976,181.071 166.504,184.756 172.031,188.441 177.559,184.756 183.087,188.441 188.614,192.126 194.142,195.811 199.669,192.126 205.197,188.441 \n",
       "  210.724,184.756 216.252,181.071 221.78,177.386 227.307,181.071 232.835,184.756 238.362,181.071 243.89,184.756 249.417,181.071 254.945,177.386 260.472,173.701 \n",
       "  266,177.386 271.528,181.071 277.055,184.756 282.583,188.441 288.11,192.126 293.638,195.811 299.165,199.496 304.693,203.181 310.22,206.866 315.748,210.551 \n",
       "  \n",
       "  \"/>\n",
       "<polyline clip-path=\"url(#clip02)\" style=\"stroke:#868d87; stroke-width:1; stroke-opacity:1; fill:none\" points=\"\n",
       "  44.8976,192.126 50.4252,195.811 55.9528,199.496 61.4803,203.181 67.0079,199.496 72.5354,203.181 78.063,199.496 83.5906,203.181 89.1181,206.866 94.6457,210.551 \n",
       "  100.173,214.236 105.701,210.551 111.228,214.236 116.756,217.921 122.283,214.236 127.811,217.921 133.339,221.606 138.866,217.921 144.394,214.236 149.921,217.921 \n",
       "  155.449,214.236 160.976,217.921 166.504,221.606 172.031,217.921 177.559,214.236 183.087,210.551 188.614,206.866 194.142,210.551 199.669,206.866 205.197,210.551 \n",
       "  210.724,206.866 216.252,203.181 221.78,206.866 227.307,210.551 232.835,214.236 238.362,210.551 243.89,206.866 249.417,203.181 254.945,206.866 260.472,210.551 \n",
       "  266,206.866 271.528,203.181 277.055,206.866 282.583,203.181 288.11,206.866 293.638,210.551 299.165,214.236 304.693,217.921 310.22,214.236 315.748,217.921 \n",
       "  \n",
       "  \"/>\n",
       "<polyline clip-path=\"url(#clip02)\" style=\"stroke:#47a065; stroke-width:1; stroke-opacity:1; fill:none\" points=\"\n",
       "  44.8976,192.126 50.4252,195.811 55.9528,192.126 61.4803,188.441 67.0079,192.126 72.5354,195.811 78.063,192.126 83.5906,188.441 89.1181,192.126 94.6457,188.441 \n",
       "  100.173,184.756 105.701,181.071 111.228,184.756 116.756,188.441 122.283,184.756 127.811,188.441 133.339,184.756 138.866,181.071 144.394,184.756 149.921,181.071 \n",
       "  155.449,184.756 160.976,181.071 166.504,184.756 172.031,188.441 177.559,184.756 183.087,181.071 188.614,184.756 194.142,181.071 199.669,177.386 205.197,181.071 \n",
       "  210.724,184.756 216.252,188.441 221.78,192.126 227.307,195.811 232.835,192.126 238.362,188.441 243.89,184.756 249.417,181.071 254.945,184.756 260.472,188.441 \n",
       "  266,184.756 271.528,188.441 277.055,184.756 282.583,188.441 288.11,192.126 293.638,188.441 299.165,192.126 304.693,195.811 310.22,199.496 315.748,203.181 \n",
       "  \n",
       "  \"/>\n",
       "<polyline clip-path=\"url(#clip02)\" style=\"stroke:#7683af; stroke-width:1; stroke-opacity:1; fill:none\" points=\"\n",
       "  44.8976,192.126 50.4252,195.811 55.9528,192.126 61.4803,188.441 67.0079,184.756 72.5354,188.441 78.063,184.756 83.5906,188.441 89.1181,184.756 94.6457,188.441 \n",
       "  100.173,192.126 105.701,195.811 111.228,199.496 116.756,195.811 122.283,192.126 127.811,195.811 133.339,192.126 138.866,195.811 144.394,192.126 149.921,195.811 \n",
       "  155.449,199.496 160.976,203.181 166.504,206.866 172.031,210.551 177.559,214.236 183.087,210.551 188.614,214.236 194.142,217.921 199.669,221.606 205.197,225.291 \n",
       "  210.724,221.606 216.252,225.291 221.78,221.606 227.307,225.291 232.835,221.606 238.362,217.921 243.89,214.236 249.417,210.551 254.945,206.866 260.472,203.181 \n",
       "  266,199.496 271.528,203.181 277.055,206.866 282.583,210.551 288.11,214.236 293.638,210.551 299.165,214.236 304.693,210.551 310.22,206.866 315.748,210.551 \n",
       "  \n",
       "  \"/>\n",
       "<polyline clip-path=\"url(#clip02)\" style=\"stroke:#b08086; stroke-width:1; stroke-opacity:1; fill:none\" points=\"\n",
       "  44.8976,192.126 50.4252,188.441 55.9528,184.756 61.4803,181.071 67.0079,184.756 72.5354,188.441 78.063,192.126 83.5906,188.441 89.1181,192.126 94.6457,195.811 \n",
       "  100.173,192.126 105.701,188.441 111.228,184.756 116.756,181.071 122.283,177.386 127.811,181.071 133.339,177.386 138.866,181.071 144.394,177.386 149.921,173.701 \n",
       "  155.449,170.016 160.976,173.701 166.504,177.386 172.031,173.701 177.559,177.386 183.087,181.071 188.614,184.756 194.142,188.441 199.669,184.756 205.197,181.071 \n",
       "  210.724,177.386 216.252,173.701 221.78,170.016 227.307,166.331 232.835,170.016 238.362,173.701 243.89,177.386 249.417,181.071 254.945,184.756 260.472,181.071 \n",
       "  266,177.386 271.528,181.071 277.055,184.756 282.583,188.441 288.11,192.126 293.638,195.811 299.165,199.496 304.693,195.811 310.22,199.496 315.748,195.811 \n",
       "  \n",
       "  \"/>\n",
       "<polyline clip-path=\"url(#clip02)\" style=\"stroke:#309ac1; stroke-width:1; stroke-opacity:1; fill:none\" points=\"\n",
       "  44.8976,192.126 50.4252,195.811 55.9528,199.496 61.4803,195.811 67.0079,192.126 72.5354,195.811 78.063,192.126 83.5906,188.441 89.1181,184.756 94.6457,188.441 \n",
       "  100.173,192.126 105.701,195.811 111.228,192.126 116.756,195.811 122.283,199.496 127.811,195.811 133.339,199.496 138.866,195.811 144.394,192.126 149.921,195.811 \n",
       "  155.449,192.126 160.976,195.811 166.504,199.496 172.031,203.181 177.559,199.496 183.087,195.811 188.614,192.126 194.142,195.811 199.669,199.496 205.197,203.181 \n",
       "  210.724,199.496 216.252,195.811 221.78,199.496 227.307,195.811 232.835,192.126 238.362,188.441 243.89,184.756 249.417,181.071 254.945,184.756 260.472,188.441 \n",
       "  266,192.126 271.528,188.441 277.055,184.756 282.583,188.441 288.11,192.126 293.638,188.441 299.165,184.756 304.693,188.441 310.22,184.756 315.748,181.071 \n",
       "  \n",
       "  \"/>\n",
       "<polyline clip-path=\"url(#clip02)\" style=\"stroke:#788490; stroke-width:1; stroke-opacity:1; fill:none\" points=\"\n",
       "  44.8976,192.126 50.4252,188.441 55.9528,184.756 61.4803,188.441 67.0079,184.756 72.5354,188.441 78.063,184.756 83.5906,188.441 89.1181,184.756 94.6457,181.071 \n",
       "  100.173,177.386 105.701,173.701 111.228,170.016 116.756,166.331 122.283,170.016 127.811,173.701 133.339,177.386 138.866,181.071 144.394,177.386 149.921,181.071 \n",
       "  155.449,184.756 160.976,181.071 166.504,177.386 172.031,181.071 177.559,177.386 183.087,173.701 188.614,177.386 194.142,181.071 199.669,184.756 205.197,181.071 \n",
       "  210.724,184.756 216.252,188.441 221.78,184.756 227.307,181.071 232.835,184.756 238.362,188.441 243.89,192.126 249.417,188.441 254.945,184.756 260.472,188.441 \n",
       "  266,184.756 271.528,181.071 277.055,177.386 282.583,181.071 288.11,177.386 293.638,181.071 299.165,177.386 304.693,173.701 310.22,177.386 315.748,173.701 \n",
       "  \n",
       "  \"/>\n",
       "<polyline clip-path=\"url(#clip02)\" style=\"stroke:#e561a4; stroke-width:1; stroke-opacity:1; fill:none\" points=\"\n",
       "  44.8976,192.126 50.4252,188.441 55.9528,184.756 61.4803,181.071 67.0079,177.386 72.5354,173.701 78.063,177.386 83.5906,173.701 89.1181,170.016 94.6457,173.701 \n",
       "  100.173,177.386 105.701,181.071 111.228,177.386 116.756,173.701 122.283,170.016 127.811,166.331 133.339,170.016 138.866,166.331 144.394,170.016 149.921,166.331 \n",
       "  155.449,162.646 160.976,166.331 166.504,162.646 172.031,158.961 177.559,155.276 183.087,151.591 188.614,155.276 194.142,151.591 199.669,147.906 205.197,151.591 \n",
       "  210.724,147.906 216.252,151.591 221.78,155.276 227.307,151.591 232.835,147.906 238.362,151.591 243.89,155.276 249.417,158.961 254.945,162.646 260.472,166.331 \n",
       "  266,170.016 271.528,173.701 277.055,170.016 282.583,166.331 288.11,162.646 293.638,158.961 299.165,155.276 304.693,158.961 310.22,155.276 315.748,151.591 \n",
       "  \n",
       "  \"/>\n",
       "<polyline clip-path=\"url(#clip02)\" style=\"stroke:#99902c; stroke-width:1; stroke-opacity:1; fill:none\" points=\"\n",
       "  44.8976,192.126 50.4252,188.441 55.9528,184.756 61.4803,181.071 67.0079,177.386 72.5354,181.071 78.063,184.756 83.5906,181.071 89.1181,184.756 94.6457,188.441 \n",
       "  100.173,192.126 105.701,188.441 111.228,184.756 116.756,188.441 122.283,184.756 127.811,181.071 133.339,184.756 138.866,188.441 144.394,184.756 149.921,188.441 \n",
       "  155.449,184.756 160.976,188.441 166.504,184.756 172.031,188.441 177.559,192.126 183.087,188.441 188.614,184.756 194.142,181.071 199.669,177.386 205.197,181.071 \n",
       "  210.724,184.756 216.252,188.441 221.78,184.756 227.307,188.441 232.835,192.126 238.362,195.811 243.89,199.496 249.417,203.181 254.945,199.496 260.472,195.811 \n",
       "  266,192.126 271.528,195.811 277.055,199.496 282.583,195.811 288.11,192.126 293.638,195.811 299.165,192.126 304.693,188.441 310.22,192.126 315.748,188.441 \n",
       "  \n",
       "  \"/>\n",
       "<polyline clip-path=\"url(#clip02)\" style=\"stroke:#389a7b; stroke-width:1; stroke-opacity:1; fill:none\" points=\"\n",
       "  44.8976,192.126 50.4252,188.441 55.9528,192.126 61.4803,195.811 67.0079,192.126 72.5354,188.441 78.063,184.756 83.5906,188.441 89.1181,192.126 94.6457,188.441 \n",
       "  100.173,184.756 105.701,188.441 111.228,192.126 116.756,195.811 122.283,199.496 127.811,203.181 133.339,206.866 138.866,203.181 144.394,199.496 149.921,203.181 \n",
       "  155.449,199.496 160.976,203.181 166.504,206.866 172.031,210.551 177.559,214.236 183.087,217.921 188.614,214.236 194.142,217.921 199.669,214.236 205.197,210.551 \n",
       "  210.724,206.866 216.252,210.551 221.78,206.866 227.307,203.181 232.835,206.866 238.362,203.181 243.89,199.496 249.417,203.181 254.945,199.496 260.472,195.811 \n",
       "  266,192.126 271.528,195.811 277.055,199.496 282.583,195.811 288.11,192.126 293.638,188.441 299.165,184.756 304.693,188.441 310.22,184.756 315.748,181.071 \n",
       "  \n",
       "  \"/>\n",
       "<polyline clip-path=\"url(#clip02)\" style=\"stroke:#d968a2; stroke-width:1; stroke-opacity:1; fill:none\" points=\"\n",
       "  44.8976,192.126 50.4252,188.441 55.9528,184.756 61.4803,188.441 67.0079,184.756 72.5354,181.071 78.063,184.756 83.5906,188.441 89.1181,184.756 94.6457,181.071 \n",
       "  100.173,177.386 105.701,181.071 111.228,177.386 116.756,181.071 122.283,177.386 127.811,173.701 133.339,177.386 138.866,181.071 144.394,177.386 149.921,173.701 \n",
       "  155.449,177.386 160.976,173.701 166.504,170.016 172.031,173.701 177.559,170.016 183.087,166.331 188.614,170.016 194.142,166.331 199.669,162.646 205.197,158.961 \n",
       "  210.724,162.646 216.252,158.961 221.78,162.646 227.307,166.331 232.835,162.646 238.362,158.961 243.89,162.646 249.417,158.961 254.945,155.276 260.472,151.591 \n",
       "  266,155.276 271.528,151.591 277.055,147.906 282.583,151.591 288.11,147.906 293.638,151.591 299.165,147.906 304.693,151.591 310.22,155.276 315.748,158.961 \n",
       "  \n",
       "  \"/>\n",
       "<polyline clip-path=\"url(#clip02)\" style=\"stroke:#009af9; stroke-width:1; stroke-opacity:1; fill:none\" points=\"\n",
       "  44.8976,192.126 50.4252,195.811 55.9528,192.126 61.4803,188.441 67.0079,192.126 72.5354,188.441 78.063,192.126 83.5906,188.441 89.1181,192.126 94.6457,188.441 \n",
       "  100.173,192.126 105.701,188.441 111.228,184.756 116.756,188.441 122.283,192.126 127.811,195.811 133.339,199.496 138.866,195.811 144.394,199.496 149.921,195.811 \n",
       "  155.449,192.126 160.976,195.811 166.504,199.496 172.031,203.181 177.559,206.866 183.087,210.551 188.614,214.236 194.142,217.921 199.669,214.236 205.197,217.921 \n",
       "  210.724,214.236 216.252,210.551 221.78,206.866 227.307,203.181 232.835,206.866 238.362,203.181 243.89,206.866 249.417,210.551 254.945,206.866 260.472,203.181 \n",
       "  266,199.496 271.528,195.811 277.055,192.126 282.583,188.441 288.11,184.756 293.638,188.441 299.165,192.126 304.693,188.441 310.22,192.126 315.748,195.811 \n",
       "  \n",
       "  \"/>\n",
       "<polyline clip-path=\"url(#clip02)\" style=\"stroke:#e26f46; stroke-width:1; stroke-opacity:1; fill:none\" points=\"\n",
       "  44.8976,192.126 50.4252,195.811 55.9528,199.496 61.4803,203.181 67.0079,199.496 72.5354,195.811 78.063,199.496 83.5906,195.811 89.1181,199.496 94.6457,203.181 \n",
       "  100.173,206.866 105.701,203.181 111.228,199.496 116.756,203.181 122.283,199.496 127.811,195.811 133.339,199.496 138.866,195.811 144.394,199.496 149.921,195.811 \n",
       "  155.449,199.496 160.976,195.811 166.504,199.496 172.031,195.811 177.559,192.126 183.087,188.441 188.614,184.756 194.142,181.071 199.669,184.756 205.197,181.071 \n",
       "  210.724,184.756 216.252,188.441 221.78,192.126 227.307,188.441 232.835,184.756 238.362,188.441 243.89,192.126 249.417,188.441 254.945,184.756 260.472,181.071 \n",
       "  266,184.756 271.528,188.441 277.055,184.756 282.583,188.441 288.11,192.126 293.638,188.441 299.165,192.126 304.693,195.811 310.22,192.126 315.748,188.441 \n",
       "  \n",
       "  \"/>\n",
       "<polyline clip-path=\"url(#clip02)\" style=\"stroke:#3da44d; stroke-width:1; stroke-opacity:1; fill:none\" points=\"\n",
       "  44.8976,192.126 50.4252,188.441 55.9528,184.756 61.4803,181.071 67.0079,184.756 72.5354,188.441 78.063,184.756 83.5906,188.441 89.1181,184.756 94.6457,188.441 \n",
       "  100.173,192.126 105.701,188.441 111.228,184.756 116.756,181.071 122.283,177.386 127.811,173.701 133.339,170.016 138.866,166.331 144.394,162.646 149.921,158.961 \n",
       "  155.449,162.646 160.976,158.961 166.504,155.276 172.031,151.591 177.559,147.906 183.087,151.591 188.614,147.906 194.142,151.591 199.669,155.276 205.197,158.961 \n",
       "  210.724,162.646 216.252,158.961 221.78,162.646 227.307,158.961 232.835,162.646 238.362,158.961 243.89,162.646 249.417,166.331 254.945,170.016 260.472,166.331 \n",
       "  266,170.016 271.528,173.701 277.055,170.016 282.583,173.701 288.11,177.386 293.638,173.701 299.165,170.016 304.693,166.331 310.22,162.646 315.748,166.331 \n",
       "  \n",
       "  \"/>\n",
       "<polyline clip-path=\"url(#clip02)\" style=\"stroke:#c271d2; stroke-width:1; stroke-opacity:1; fill:none\" points=\"\n",
       "  44.8976,192.126 50.4252,195.811 55.9528,199.496 61.4803,195.811 67.0079,192.126 72.5354,195.811 78.063,192.126 83.5906,188.441 89.1181,184.756 94.6457,181.071 \n",
       "  100.173,184.756 105.701,181.071 111.228,184.756 116.756,181.071 122.283,177.386 127.811,173.701 133.339,170.016 138.866,173.701 144.394,170.016 149.921,166.331 \n",
       "  155.449,162.646 160.976,166.331 166.504,170.016 172.031,173.701 177.559,170.016 183.087,166.331 188.614,170.016 194.142,166.331 199.669,162.646 205.197,166.331 \n",
       "  210.724,170.016 216.252,166.331 221.78,162.646 227.307,166.331 232.835,162.646 238.362,158.961 243.89,155.276 249.417,158.961 254.945,155.276 260.472,151.591 \n",
       "  266,147.906 271.528,151.591 277.055,147.906 282.583,144.22 288.11,147.906 293.638,151.591 299.165,155.276 304.693,151.591 310.22,147.906 315.748,151.591 \n",
       "  \n",
       "  \"/>\n",
       "<polyline clip-path=\"url(#clip02)\" style=\"stroke:#ac8d18; stroke-width:1; stroke-opacity:1; fill:none\" points=\"\n",
       "  44.8976,192.126 50.4252,195.811 55.9528,192.126 61.4803,195.811 67.0079,199.496 72.5354,195.811 78.063,192.126 83.5906,188.441 89.1181,192.126 94.6457,188.441 \n",
       "  100.173,192.126 105.701,195.811 111.228,192.126 116.756,195.811 122.283,199.496 127.811,203.181 133.339,199.496 138.866,203.181 144.394,206.866 149.921,203.181 \n",
       "  155.449,199.496 160.976,203.181 166.504,199.496 172.031,203.181 177.559,199.496 183.087,195.811 188.614,192.126 194.142,188.441 199.669,192.126 205.197,188.441 \n",
       "  210.724,192.126 216.252,188.441 221.78,184.756 227.307,181.071 232.835,184.756 238.362,188.441 243.89,184.756 249.417,181.071 254.945,177.386 260.472,181.071 \n",
       "  266,184.756 271.528,188.441 277.055,192.126 282.583,195.811 288.11,192.126 293.638,188.441 299.165,184.756 304.693,181.071 310.22,177.386 315.748,181.071 \n",
       "  \n",
       "  \"/>\n",
       "<polyline clip-path=\"url(#clip02)\" style=\"stroke:#00a9ad; stroke-width:1; stroke-opacity:1; fill:none\" points=\"\n",
       "  44.8976,192.126 50.4252,188.441 55.9528,192.126 61.4803,188.441 67.0079,192.126 72.5354,188.441 78.063,184.756 83.5906,181.071 89.1181,177.386 94.6457,173.701 \n",
       "  100.173,170.016 105.701,166.331 111.228,162.646 116.756,166.331 122.283,170.016 127.811,166.331 133.339,170.016 138.866,166.331 144.394,162.646 149.921,166.331 \n",
       "  155.449,162.646 160.976,158.961 166.504,155.276 172.031,151.591 177.559,147.906 183.087,151.591 188.614,155.276 194.142,158.961 199.669,155.276 205.197,158.961 \n",
       "  210.724,155.276 216.252,151.591 221.78,147.906 227.307,144.22 232.835,147.906 238.362,144.22 243.89,147.906 249.417,151.591 254.945,147.906 260.472,144.22 \n",
       "  266,140.535 271.528,144.22 277.055,147.906 282.583,144.22 288.11,147.906 293.638,144.22 299.165,140.535 304.693,136.85 310.22,133.165 315.748,136.85 \n",
       "  \n",
       "  \"/>\n",
       "<polyline clip-path=\"url(#clip02)\" style=\"stroke:#ed5d92; stroke-width:1; stroke-opacity:1; fill:none\" points=\"\n",
       "  44.8976,192.126 50.4252,195.811 55.9528,199.496 61.4803,203.181 67.0079,206.866 72.5354,210.551 78.063,214.236 83.5906,217.921 89.1181,221.606 94.6457,217.921 \n",
       "  100.173,221.606 105.701,225.291 111.228,228.976 116.756,225.291 122.283,221.606 127.811,225.291 133.339,221.606 138.866,225.291 144.394,228.976 149.921,225.291 \n",
       "  155.449,228.976 160.976,225.291 166.504,221.606 172.031,225.291 177.559,221.606 183.087,217.921 188.614,214.236 194.142,210.551 199.669,206.866 205.197,210.551 \n",
       "  210.724,206.866 216.252,210.551 221.78,206.866 227.307,203.181 232.835,206.866 238.362,210.551 243.89,214.236 249.417,210.551 254.945,214.236 260.472,210.551 \n",
       "  266,214.236 271.528,210.551 277.055,214.236 282.583,217.921 288.11,214.236 293.638,210.551 299.165,214.236 304.693,217.921 310.22,214.236 315.748,217.921 \n",
       "  \n",
       "  \"/>\n",
       "<polyline clip-path=\"url(#clip02)\" style=\"stroke:#c68125; stroke-width:1; stroke-opacity:1; fill:none\" points=\"\n",
       "  44.8976,192.126 50.4252,195.811 55.9528,192.126 61.4803,188.441 67.0079,184.756 72.5354,181.071 78.063,177.386 83.5906,181.071 89.1181,177.386 94.6457,181.071 \n",
       "  100.173,184.756 105.701,188.441 111.228,192.126 116.756,188.441 122.283,192.126 127.811,188.441 133.339,184.756 138.866,188.441 144.394,184.756 149.921,181.071 \n",
       "  155.449,177.386 160.976,173.701 166.504,170.016 172.031,166.331 177.559,170.016 183.087,173.701 188.614,170.016 194.142,166.331 199.669,170.016 205.197,173.701 \n",
       "  210.724,177.386 216.252,181.071 221.78,177.386 227.307,173.701 232.835,170.016 238.362,166.331 243.89,162.646 249.417,158.961 254.945,162.646 260.472,158.961 \n",
       "  266,155.276 271.528,158.961 277.055,162.646 282.583,166.331 288.11,170.016 293.638,173.701 299.165,170.016 304.693,166.331 310.22,170.016 315.748,166.331 \n",
       "  \n",
       "  \"/>\n",
       "<polyline clip-path=\"url(#clip02)\" style=\"stroke:#00a98d; stroke-width:1; stroke-opacity:1; fill:none\" points=\"\n",
       "  44.8976,192.126 50.4252,195.811 55.9528,192.126 61.4803,195.811 67.0079,199.496 72.5354,195.811 78.063,199.496 83.5906,195.811 89.1181,192.126 94.6457,188.441 \n",
       "  100.173,192.126 105.701,195.811 111.228,192.126 116.756,195.811 122.283,192.126 127.811,188.441 133.339,184.756 138.866,181.071 144.394,177.386 149.921,173.701 \n",
       "  155.449,177.386 160.976,173.701 166.504,177.386 172.031,173.701 177.559,170.016 183.087,173.701 188.614,177.386 194.142,181.071 199.669,177.386 205.197,181.071 \n",
       "  210.724,184.756 216.252,188.441 221.78,192.126 227.307,195.811 232.835,199.496 238.362,203.181 243.89,199.496 249.417,195.811 254.945,199.496 260.472,195.811 \n",
       "  266,199.496 271.528,203.181 277.055,206.866 282.583,203.181 288.11,199.496 293.638,195.811 299.165,199.496 304.693,203.181 310.22,206.866 315.748,210.551 \n",
       "  \n",
       "  \"/>\n",
       "<polyline clip-path=\"url(#clip02)\" style=\"stroke:#8e971d; stroke-width:1; stroke-opacity:1; fill:none\" points=\"\n",
       "  44.8976,192.126 50.4252,195.811 55.9528,192.126 61.4803,188.441 67.0079,192.126 72.5354,188.441 78.063,184.756 83.5906,181.071 89.1181,177.386 94.6457,173.701 \n",
       "  100.173,170.016 105.701,173.701 111.228,170.016 116.756,166.331 122.283,162.646 127.811,158.961 133.339,162.646 138.866,166.331 144.394,162.646 149.921,158.961 \n",
       "  155.449,155.276 160.976,158.961 166.504,155.276 172.031,151.591 177.559,147.906 183.087,151.591 188.614,147.906 194.142,144.22 199.669,140.535 205.197,136.85 \n",
       "  210.724,140.535 216.252,136.85 221.78,140.535 227.307,136.85 232.835,140.535 238.362,136.85 243.89,133.165 249.417,129.48 254.945,133.165 260.472,136.85 \n",
       "  266,133.165 271.528,129.48 277.055,125.795 282.583,122.11 288.11,125.795 293.638,129.48 299.165,133.165 304.693,129.48 310.22,133.165 315.748,136.85 \n",
       "  \n",
       "  \"/>\n",
       "<polyline clip-path=\"url(#clip02)\" style=\"stroke:#00a8cb; stroke-width:1; stroke-opacity:1; fill:none\" points=\"\n",
       "  44.8976,192.126 50.4252,188.441 55.9528,184.756 61.4803,181.071 67.0079,184.756 72.5354,181.071 78.063,184.756 83.5906,181.071 89.1181,177.386 94.6457,173.701 \n",
       "  100.173,177.386 105.701,173.701 111.228,170.016 116.756,166.331 122.283,162.646 127.811,166.331 133.339,170.016 138.866,173.701 144.394,177.386 149.921,181.071 \n",
       "  155.449,184.756 160.976,188.441 166.504,192.126 172.031,195.811 177.559,192.126 183.087,188.441 188.614,192.126 194.142,195.811 199.669,199.496 205.197,195.811 \n",
       "  210.724,192.126 216.252,195.811 221.78,192.126 227.307,195.811 232.835,199.496 238.362,203.181 243.89,199.496 249.417,195.811 254.945,192.126 260.472,188.441 \n",
       "  266,192.126 271.528,188.441 277.055,192.126 282.583,188.441 288.11,184.756 293.638,188.441 299.165,192.126 304.693,195.811 310.22,192.126 315.748,195.811 \n",
       "  \n",
       "  \"/>\n",
       "<polyline clip-path=\"url(#clip02)\" style=\"stroke:#9b7fe8; stroke-width:1; stroke-opacity:1; fill:none\" points=\"\n",
       "  44.8976,192.126 50.4252,195.811 55.9528,199.496 61.4803,195.811 67.0079,192.126 72.5354,195.811 78.063,199.496 83.5906,195.811 89.1181,192.126 94.6457,188.441 \n",
       "  100.173,184.756 105.701,181.071 111.228,177.386 116.756,173.701 122.283,170.016 127.811,166.331 133.339,162.646 138.866,166.331 144.394,162.646 149.921,166.331 \n",
       "  155.449,170.016 160.976,166.331 166.504,162.646 172.031,158.961 177.559,155.276 183.087,151.591 188.614,147.906 194.142,144.22 199.669,147.906 205.197,144.22 \n",
       "  210.724,147.906 216.252,151.591 221.78,155.276 227.307,158.961 232.835,155.276 238.362,158.961 243.89,155.276 249.417,158.961 254.945,155.276 260.472,151.591 \n",
       "  266,147.906 271.528,144.22 277.055,147.906 282.583,144.22 288.11,147.906 293.638,151.591 299.165,147.906 304.693,144.22 310.22,140.535 315.748,144.22 \n",
       "  \n",
       "  \"/>\n",
       "<polyline clip-path=\"url(#clip02)\" style=\"stroke:#608cf6; stroke-width:1; stroke-opacity:1; fill:none\" points=\"\n",
       "  44.8976,192.126 50.4252,188.441 55.9528,184.756 61.4803,181.071 67.0079,177.386 72.5354,173.701 78.063,170.016 83.5906,173.701 89.1181,170.016 94.6457,173.701 \n",
       "  100.173,170.016 105.701,173.701 111.228,177.386 116.756,173.701 122.283,177.386 127.811,181.071 133.339,184.756 138.866,188.441 144.394,184.756 149.921,188.441 \n",
       "  155.449,184.756 160.976,188.441 166.504,192.126 172.031,195.811 177.559,199.496 183.087,195.811 188.614,192.126 194.142,195.811 199.669,192.126 205.197,195.811 \n",
       "  210.724,199.496 216.252,195.811 221.78,199.496 227.307,195.811 232.835,192.126 238.362,188.441 243.89,192.126 249.417,195.811 254.945,192.126 260.472,195.811 \n",
       "  266,192.126 271.528,195.811 277.055,199.496 282.583,203.181 288.11,206.866 293.638,203.181 299.165,199.496 304.693,203.181 310.22,199.496 315.748,203.181 \n",
       "  \n",
       "  \"/>\n",
       "<polyline clip-path=\"url(#clip02)\" style=\"stroke:#f05f73; stroke-width:1; stroke-opacity:1; fill:none\" points=\"\n",
       "  44.8976,192.126 50.4252,195.811 55.9528,192.126 61.4803,188.441 67.0079,192.126 72.5354,188.441 78.063,192.126 83.5906,188.441 89.1181,184.756 94.6457,181.071 \n",
       "  100.173,184.756 105.701,181.071 111.228,184.756 116.756,181.071 122.283,184.756 127.811,188.441 133.339,192.126 138.866,195.811 144.394,192.126 149.921,188.441 \n",
       "  155.449,192.126 160.976,195.811 166.504,199.496 172.031,203.181 177.559,206.866 183.087,203.181 188.614,206.866 194.142,203.181 199.669,206.866 205.197,203.181 \n",
       "  210.724,206.866 216.252,210.551 221.78,206.866 227.307,210.551 232.835,206.866 238.362,203.181 243.89,199.496 249.417,195.811 254.945,192.126 260.472,195.811 \n",
       "  266,192.126 271.528,188.441 277.055,184.756 282.583,181.071 288.11,177.386 293.638,173.701 299.165,177.386 304.693,181.071 310.22,177.386 315.748,173.701 \n",
       "  \n",
       "  \"/>\n",
       "<polyline clip-path=\"url(#clip02)\" style=\"stroke:#dd64b5; stroke-width:1; stroke-opacity:1; fill:none\" points=\"\n",
       "  44.8976,192.126 50.4252,188.441 55.9528,192.126 61.4803,195.811 67.0079,192.126 72.5354,195.811 78.063,199.496 83.5906,195.811 89.1181,199.496 94.6457,195.811 \n",
       "  100.173,199.496 105.701,195.811 111.228,192.126 116.756,195.811 122.283,192.126 127.811,188.441 133.339,192.126 138.866,195.811 144.394,192.126 149.921,195.811 \n",
       "  155.449,199.496 160.976,195.811 166.504,199.496 172.031,195.811 177.559,192.126 183.087,188.441 188.614,184.756 194.142,188.441 199.669,192.126 205.197,195.811 \n",
       "  210.724,199.496 216.252,203.181 221.78,199.496 227.307,203.181 232.835,206.866 238.362,210.551 243.89,214.236 249.417,210.551 254.945,214.236 260.472,210.551 \n",
       "  266,214.236 271.528,217.921 277.055,221.606 282.583,217.921 288.11,214.236 293.638,210.551 299.165,214.236 304.693,210.551 310.22,214.236 315.748,210.551 \n",
       "  \n",
       "  \"/>\n",
       "<polyline clip-path=\"url(#clip02)\" style=\"stroke:#6b9e32; stroke-width:1; stroke-opacity:1; fill:none\" points=\"\n",
       "  44.8976,192.126 50.4252,188.441 55.9528,192.126 61.4803,188.441 67.0079,192.126 72.5354,195.811 78.063,192.126 83.5906,188.441 89.1181,192.126 94.6457,188.441 \n",
       "  100.173,192.126 105.701,188.441 111.228,192.126 116.756,188.441 122.283,184.756 127.811,181.071 133.339,184.756 138.866,188.441 144.394,192.126 149.921,195.811 \n",
       "  155.449,192.126 160.976,195.811 166.504,199.496 172.031,195.811 177.559,199.496 183.087,203.181 188.614,199.496 194.142,195.811 199.669,192.126 205.197,188.441 \n",
       "  210.724,184.756 216.252,188.441 221.78,184.756 227.307,188.441 232.835,184.756 238.362,181.071 243.89,177.386 249.417,173.701 254.945,177.386 260.472,173.701 \n",
       "  266,177.386 271.528,173.701 277.055,177.386 282.583,173.701 288.11,177.386 293.638,173.701 299.165,177.386 304.693,181.071 310.22,184.756 315.748,181.071 \n",
       "  \n",
       "  \"/>\n",
       "<polyline clip-path=\"url(#clip02)\" style=\"stroke:#718c69; stroke-width:1; stroke-opacity:1; fill:none\" points=\"\n",
       "  44.8976,192.126 50.4252,188.441 55.9528,184.756 61.4803,188.441 67.0079,192.126 72.5354,188.441 78.063,192.126 83.5906,195.811 89.1181,199.496 94.6457,203.181 \n",
       "  100.173,199.496 105.701,203.181 111.228,206.866 116.756,203.181 122.283,206.866 127.811,203.181 133.339,206.866 138.866,210.551 144.394,206.866 149.921,210.551 \n",
       "  155.449,214.236 160.976,210.551 166.504,214.236 172.031,210.551 177.559,214.236 183.087,217.921 188.614,221.606 194.142,225.291 199.669,221.606 205.197,225.291 \n",
       "  210.724,228.976 216.252,225.291 221.78,221.606 227.307,225.291 232.835,228.976 238.362,232.661 243.89,228.976 249.417,232.661 254.945,228.976 260.472,225.291 \n",
       "  266,228.976 271.528,225.291 277.055,221.606 282.583,225.291 288.11,221.606 293.638,217.921 299.165,221.606 304.693,225.291 310.22,221.606 315.748,217.921 \n",
       "  \n",
       "  \"/>\n",
       "<polyline clip-path=\"url(#clip02)\" style=\"stroke:#47988b; stroke-width:1; stroke-opacity:1; fill:none\" points=\"\n",
       "  44.8976,192.126 50.4252,195.811 55.9528,199.496 61.4803,203.181 67.0079,206.866 72.5354,203.181 78.063,206.866 83.5906,203.181 89.1181,199.496 94.6457,195.811 \n",
       "  100.173,192.126 105.701,195.811 111.228,199.496 116.756,203.181 122.283,206.866 127.811,203.181 133.339,206.866 138.866,210.551 144.394,214.236 149.921,210.551 \n",
       "  155.449,206.866 160.976,210.551 166.504,206.866 172.031,203.181 177.559,206.866 183.087,210.551 188.614,214.236 194.142,217.921 199.669,214.236 205.197,217.921 \n",
       "  210.724,221.606 216.252,217.921 221.78,221.606 227.307,217.921 232.835,221.606 238.362,225.291 243.89,221.606 249.417,225.291 254.945,221.606 260.472,225.291 \n",
       "  266,228.976 271.528,232.661 277.055,228.976 282.583,232.661 288.11,228.976 293.638,232.661 299.165,228.976 304.693,232.661 310.22,228.976 315.748,232.661 \n",
       "  \n",
       "  \"/>\n",
       "<polyline clip-path=\"url(#clip02)\" style=\"stroke:#1ea68c; stroke-width:1; stroke-opacity:1; fill:none\" points=\"\n",
       "  44.8976,192.126 50.4252,188.441 55.9528,192.126 61.4803,188.441 67.0079,184.756 72.5354,188.441 78.063,184.756 83.5906,188.441 89.1181,192.126 94.6457,188.441 \n",
       "  100.173,184.756 105.701,188.441 111.228,184.756 116.756,188.441 122.283,184.756 127.811,181.071 133.339,184.756 138.866,188.441 144.394,192.126 149.921,195.811 \n",
       "  155.449,192.126 160.976,188.441 166.504,192.126 172.031,188.441 177.559,184.756 183.087,181.071 188.614,177.386 194.142,173.701 199.669,170.016 205.197,166.331 \n",
       "  210.724,162.646 216.252,158.961 221.78,155.276 227.307,158.961 232.835,155.276 238.362,158.961 243.89,155.276 249.417,158.961 254.945,155.276 260.472,151.591 \n",
       "  266,147.906 271.528,151.591 277.055,147.906 282.583,151.591 288.11,155.276 293.638,158.961 299.165,162.646 304.693,166.331 310.22,170.016 315.748,173.701 \n",
       "  \n",
       "  \"/>\n",
       "<polyline clip-path=\"url(#clip02)\" style=\"stroke:#af78dd; stroke-width:1; stroke-opacity:1; fill:none\" points=\"\n",
       "  44.8976,192.126 50.4252,188.441 55.9528,184.756 61.4803,181.071 67.0079,184.756 72.5354,181.071 78.063,177.386 83.5906,181.071 89.1181,177.386 94.6457,181.071 \n",
       "  100.173,177.386 105.701,173.701 111.228,177.386 116.756,181.071 122.283,184.756 127.811,181.071 133.339,177.386 138.866,181.071 144.394,184.756 149.921,188.441 \n",
       "  155.449,192.126 160.976,195.811 166.504,192.126 172.031,188.441 177.559,192.126 183.087,188.441 188.614,184.756 194.142,188.441 199.669,192.126 205.197,195.811 \n",
       "  210.724,192.126 216.252,195.811 221.78,192.126 227.307,188.441 232.835,192.126 238.362,195.811 243.89,192.126 249.417,195.811 254.945,192.126 260.472,188.441 \n",
       "  266,184.756 271.528,181.071 277.055,184.756 282.583,181.071 288.11,177.386 293.638,173.701 299.165,177.386 304.693,181.071 310.22,177.386 315.748,173.701 \n",
       "  \n",
       "  \"/>\n",
       "<polyline clip-path=\"url(#clip02)\" style=\"stroke:#868d87; stroke-width:1; stroke-opacity:1; fill:none\" points=\"\n",
       "  44.8976,192.126 50.4252,195.811 55.9528,199.496 61.4803,203.181 67.0079,199.496 72.5354,203.181 78.063,199.496 83.5906,203.181 89.1181,206.866 94.6457,210.551 \n",
       "  100.173,214.236 105.701,217.921 111.228,221.606 116.756,217.921 122.283,221.606 127.811,217.921 133.339,221.606 138.866,225.291 144.394,221.606 149.921,225.291 \n",
       "  155.449,221.606 160.976,217.921 166.504,214.236 172.031,217.921 177.559,214.236 183.087,217.921 188.614,221.606 194.142,225.291 199.669,221.606 205.197,225.291 \n",
       "  210.724,228.976 216.252,232.661 221.78,236.346 227.307,240.031 232.835,243.717 238.362,240.031 243.89,243.717 249.417,240.031 254.945,243.717 260.472,240.031 \n",
       "  266,236.346 271.528,232.661 277.055,228.976 282.583,232.661 288.11,228.976 293.638,225.291 299.165,221.606 304.693,217.921 310.22,214.236 315.748,217.921 \n",
       "  \n",
       "  \"/>\n",
       "<polyline clip-path=\"url(#clip02)\" style=\"stroke:#47a065; stroke-width:1; stroke-opacity:1; fill:none\" points=\"\n",
       "  44.8976,192.126 50.4252,188.441 55.9528,184.756 61.4803,188.441 67.0079,184.756 72.5354,181.071 78.063,184.756 83.5906,188.441 89.1181,192.126 94.6457,188.441 \n",
       "  100.173,192.126 105.701,195.811 111.228,192.126 116.756,188.441 122.283,192.126 127.811,195.811 133.339,199.496 138.866,195.811 144.394,192.126 149.921,195.811 \n",
       "  155.449,192.126 160.976,195.811 166.504,192.126 172.031,188.441 177.559,184.756 183.087,188.441 188.614,192.126 194.142,188.441 199.669,192.126 205.197,195.811 \n",
       "  210.724,199.496 216.252,195.811 221.78,199.496 227.307,203.181 232.835,199.496 238.362,195.811 243.89,199.496 249.417,195.811 254.945,192.126 260.472,188.441 \n",
       "  266,192.126 271.528,188.441 277.055,192.126 282.583,188.441 288.11,192.126 293.638,188.441 299.165,184.756 304.693,188.441 310.22,192.126 315.748,188.441 \n",
       "  \n",
       "  \"/>\n",
       "<polyline clip-path=\"url(#clip02)\" style=\"stroke:#7683af; stroke-width:1; stroke-opacity:1; fill:none\" points=\"\n",
       "  44.8976,192.126 50.4252,188.441 55.9528,192.126 61.4803,195.811 67.0079,199.496 72.5354,195.811 78.063,192.126 83.5906,195.811 89.1181,192.126 94.6457,195.811 \n",
       "  100.173,199.496 105.701,195.811 111.228,199.496 116.756,195.811 122.283,199.496 127.811,195.811 133.339,192.126 138.866,188.441 144.394,184.756 149.921,181.071 \n",
       "  155.449,184.756 160.976,188.441 166.504,192.126 172.031,188.441 177.559,192.126 183.087,188.441 188.614,192.126 194.142,188.441 199.669,192.126 205.197,188.441 \n",
       "  210.724,192.126 216.252,195.811 221.78,199.496 227.307,195.811 232.835,199.496 238.362,195.811 243.89,199.496 249.417,195.811 254.945,192.126 260.472,195.811 \n",
       "  266,192.126 271.528,188.441 277.055,184.756 282.583,188.441 288.11,192.126 293.638,188.441 299.165,184.756 304.693,188.441 310.22,192.126 315.748,188.441 \n",
       "  \n",
       "  \"/>\n",
       "<polyline clip-path=\"url(#clip02)\" style=\"stroke:#b08086; stroke-width:1; stroke-opacity:1; fill:none\" points=\"\n",
       "  44.8976,192.126 50.4252,188.441 55.9528,192.126 61.4803,188.441 67.0079,192.126 72.5354,195.811 78.063,192.126 83.5906,188.441 89.1181,184.756 94.6457,188.441 \n",
       "  100.173,192.126 105.701,195.811 111.228,199.496 116.756,203.181 122.283,199.496 127.811,203.181 133.339,206.866 138.866,203.181 144.394,199.496 149.921,195.811 \n",
       "  155.449,199.496 160.976,203.181 166.504,206.866 172.031,210.551 177.559,206.866 183.087,210.551 188.614,214.236 194.142,210.551 199.669,206.866 205.197,203.181 \n",
       "  210.724,206.866 216.252,203.181 221.78,206.866 227.307,210.551 232.835,214.236 238.362,217.921 243.89,221.606 249.417,225.291 254.945,228.976 260.472,232.661 \n",
       "  266,228.976 271.528,232.661 277.055,228.976 282.583,232.661 288.11,228.976 293.638,232.661 299.165,236.346 304.693,240.031 310.22,236.346 315.748,232.661 \n",
       "  \n",
       "  \"/>\n",
       "<polyline clip-path=\"url(#clip02)\" style=\"stroke:#309ac1; stroke-width:1; stroke-opacity:1; fill:none\" points=\"\n",
       "  44.8976,192.126 50.4252,195.811 55.9528,199.496 61.4803,195.811 67.0079,199.496 72.5354,195.811 78.063,199.496 83.5906,195.811 89.1181,199.496 94.6457,203.181 \n",
       "  100.173,199.496 105.701,195.811 111.228,199.496 116.756,203.181 122.283,199.496 127.811,195.811 133.339,192.126 138.866,195.811 144.394,199.496 149.921,195.811 \n",
       "  155.449,192.126 160.976,188.441 166.504,184.756 172.031,188.441 177.559,192.126 183.087,188.441 188.614,184.756 194.142,188.441 199.669,192.126 205.197,188.441 \n",
       "  210.724,184.756 216.252,188.441 221.78,192.126 227.307,195.811 232.835,199.496 238.362,195.811 243.89,192.126 249.417,195.811 254.945,199.496 260.472,203.181 \n",
       "  266,199.496 271.528,195.811 277.055,192.126 282.583,195.811 288.11,192.126 293.638,188.441 299.165,184.756 304.693,181.071 310.22,184.756 315.748,181.071 \n",
       "  \n",
       "  \"/>\n",
       "<polyline clip-path=\"url(#clip02)\" style=\"stroke:#788490; stroke-width:1; stroke-opacity:1; fill:none\" points=\"\n",
       "  44.8976,192.126 50.4252,188.441 55.9528,184.756 61.4803,181.071 67.0079,184.756 72.5354,181.071 78.063,177.386 83.5906,173.701 89.1181,177.386 94.6457,173.701 \n",
       "  100.173,170.016 105.701,166.331 111.228,162.646 116.756,158.961 122.283,155.276 127.811,158.961 133.339,155.276 138.866,151.591 144.394,155.276 149.921,151.591 \n",
       "  155.449,147.906 160.976,144.22 166.504,147.906 172.031,151.591 177.559,155.276 183.087,158.961 188.614,155.276 194.142,151.591 199.669,155.276 205.197,158.961 \n",
       "  210.724,155.276 216.252,151.591 221.78,155.276 227.307,151.591 232.835,147.906 238.362,144.22 243.89,140.535 249.417,144.22 254.945,147.906 260.472,151.591 \n",
       "  266,147.906 271.528,144.22 277.055,140.535 282.583,136.85 288.11,133.165 293.638,136.85 299.165,140.535 304.693,144.22 310.22,140.535 315.748,136.85 \n",
       "  \n",
       "  \"/>\n",
       "<polyline clip-path=\"url(#clip02)\" style=\"stroke:#e561a4; stroke-width:1; stroke-opacity:1; fill:none\" points=\"\n",
       "  44.8976,192.126 50.4252,188.441 55.9528,184.756 61.4803,188.441 67.0079,184.756 72.5354,188.441 78.063,184.756 83.5906,181.071 89.1181,177.386 94.6457,181.071 \n",
       "  100.173,184.756 105.701,181.071 111.228,184.756 116.756,181.071 122.283,184.756 127.811,181.071 133.339,177.386 138.866,181.071 144.394,177.386 149.921,173.701 \n",
       "  155.449,170.016 160.976,166.331 166.504,170.016 172.031,173.701 177.559,170.016 183.087,173.701 188.614,177.386 194.142,181.071 199.669,184.756 205.197,181.071 \n",
       "  210.724,177.386 216.252,181.071 221.78,177.386 227.307,173.701 232.835,170.016 238.362,173.701 243.89,177.386 249.417,173.701 254.945,177.386 260.472,173.701 \n",
       "  266,177.386 271.528,181.071 277.055,177.386 282.583,181.071 288.11,177.386 293.638,181.071 299.165,177.386 304.693,181.071 310.22,177.386 315.748,181.071 \n",
       "  \n",
       "  \"/>\n",
       "<polyline clip-path=\"url(#clip02)\" style=\"stroke:#99902c; stroke-width:1; stroke-opacity:1; fill:none\" points=\"\n",
       "  44.8976,192.126 50.4252,188.441 55.9528,184.756 61.4803,188.441 67.0079,192.126 72.5354,188.441 78.063,192.126 83.5906,188.441 89.1181,184.756 94.6457,181.071 \n",
       "  100.173,184.756 105.701,181.071 111.228,177.386 116.756,173.701 122.283,170.016 127.811,166.331 133.339,170.016 138.866,173.701 144.394,177.386 149.921,181.071 \n",
       "  155.449,184.756 160.976,181.071 166.504,177.386 172.031,181.071 177.559,184.756 183.087,188.441 188.614,184.756 194.142,188.441 199.669,192.126 205.197,188.441 \n",
       "  210.724,192.126 216.252,188.441 221.78,192.126 227.307,195.811 232.835,192.126 238.362,188.441 243.89,192.126 249.417,195.811 254.945,192.126 260.472,188.441 \n",
       "  266,192.126 271.528,188.441 277.055,192.126 282.583,188.441 288.11,192.126 293.638,195.811 299.165,192.126 304.693,195.811 310.22,192.126 315.748,188.441 \n",
       "  \n",
       "  \"/>\n",
       "<polyline clip-path=\"url(#clip02)\" style=\"stroke:#389a7b; stroke-width:1; stroke-opacity:1; fill:none\" points=\"\n",
       "  44.8976,192.126 50.4252,188.441 55.9528,184.756 61.4803,181.071 67.0079,184.756 72.5354,188.441 78.063,192.126 83.5906,195.811 89.1181,192.126 94.6457,188.441 \n",
       "  100.173,184.756 105.701,181.071 111.228,177.386 116.756,181.071 122.283,184.756 127.811,188.441 133.339,184.756 138.866,188.441 144.394,184.756 149.921,181.071 \n",
       "  155.449,184.756 160.976,188.441 166.504,192.126 172.031,188.441 177.559,192.126 183.087,195.811 188.614,192.126 194.142,195.811 199.669,199.496 205.197,195.811 \n",
       "  210.724,192.126 216.252,188.441 221.78,192.126 227.307,188.441 232.835,192.126 238.362,188.441 243.89,192.126 249.417,195.811 254.945,199.496 260.472,195.811 \n",
       "  266,192.126 271.528,188.441 277.055,184.756 282.583,181.071 288.11,184.756 293.638,188.441 299.165,184.756 304.693,181.071 310.22,184.756 315.748,188.441 \n",
       "  \n",
       "  \"/>\n",
       "<polyline clip-path=\"url(#clip02)\" style=\"stroke:#d968a2; stroke-width:1; stroke-opacity:1; fill:none\" points=\"\n",
       "  44.8976,192.126 50.4252,195.811 55.9528,199.496 61.4803,195.811 67.0079,199.496 72.5354,195.811 78.063,192.126 83.5906,188.441 89.1181,192.126 94.6457,195.811 \n",
       "  100.173,199.496 105.701,203.181 111.228,199.496 116.756,203.181 122.283,206.866 127.811,203.181 133.339,199.496 138.866,195.811 144.394,192.126 149.921,195.811 \n",
       "  155.449,199.496 160.976,203.181 166.504,199.496 172.031,203.181 177.559,199.496 183.087,195.811 188.614,192.126 194.142,195.811 199.669,199.496 205.197,203.181 \n",
       "  210.724,206.866 216.252,203.181 221.78,206.866 227.307,210.551 232.835,206.866 238.362,203.181 243.89,199.496 249.417,203.181 254.945,199.496 260.472,203.181 \n",
       "  266,206.866 271.528,203.181 277.055,199.496 282.583,203.181 288.11,199.496 293.638,203.181 299.165,206.866 304.693,203.181 310.22,206.866 315.748,203.181 \n",
       "  \n",
       "  \"/>\n",
       "<polyline clip-path=\"url(#clip02)\" style=\"stroke:#009af9; stroke-width:1; stroke-opacity:1; fill:none\" points=\"\n",
       "  44.8976,192.126 50.4252,195.811 55.9528,192.126 61.4803,195.811 67.0079,199.496 72.5354,195.811 78.063,199.496 83.5906,195.811 89.1181,192.126 94.6457,195.811 \n",
       "  100.173,192.126 105.701,188.441 111.228,192.126 116.756,188.441 122.283,192.126 127.811,188.441 133.339,184.756 138.866,188.441 144.394,184.756 149.921,188.441 \n",
       "  155.449,184.756 160.976,188.441 166.504,184.756 172.031,188.441 177.559,192.126 183.087,188.441 188.614,184.756 194.142,181.071 199.669,184.756 205.197,181.071 \n",
       "  210.724,184.756 216.252,181.071 221.78,177.386 227.307,181.071 232.835,184.756 238.362,181.071 243.89,177.386 249.417,181.071 254.945,184.756 260.472,188.441 \n",
       "  266,192.126 271.528,195.811 277.055,199.496 282.583,203.181 288.11,206.866 293.638,203.181 299.165,206.866 304.693,210.551 310.22,206.866 315.748,203.181 \n",
       "  \n",
       "  \"/>\n",
       "<polyline clip-path=\"url(#clip02)\" style=\"stroke:#e26f46; stroke-width:1; stroke-opacity:1; fill:none\" points=\"\n",
       "  44.8976,192.126 50.4252,195.811 55.9528,199.496 61.4803,195.811 67.0079,192.126 72.5354,188.441 78.063,184.756 83.5906,181.071 89.1181,177.386 94.6457,181.071 \n",
       "  100.173,177.386 105.701,181.071 111.228,177.386 116.756,181.071 122.283,177.386 127.811,173.701 133.339,170.016 138.866,166.331 144.394,170.016 149.921,166.331 \n",
       "  155.449,162.646 160.976,166.331 166.504,170.016 172.031,166.331 177.559,170.016 183.087,166.331 188.614,162.646 194.142,166.331 199.669,162.646 205.197,166.331 \n",
       "  210.724,170.016 216.252,166.331 221.78,170.016 227.307,166.331 232.835,170.016 238.362,173.701 243.89,170.016 249.417,173.701 254.945,170.016 260.472,173.701 \n",
       "  266,177.386 271.528,181.071 277.055,177.386 282.583,173.701 288.11,170.016 293.638,173.701 299.165,177.386 304.693,181.071 310.22,184.756 315.748,181.071 \n",
       "  \n",
       "  \"/>\n",
       "<polyline clip-path=\"url(#clip02)\" style=\"stroke:#3da44d; stroke-width:1; stroke-opacity:1; fill:none\" points=\"\n",
       "  44.8976,192.126 50.4252,188.441 55.9528,184.756 61.4803,181.071 67.0079,177.386 72.5354,181.071 78.063,184.756 83.5906,188.441 89.1181,184.756 94.6457,181.071 \n",
       "  100.173,177.386 105.701,173.701 111.228,177.386 116.756,181.071 122.283,177.386 127.811,173.701 133.339,170.016 138.866,166.331 144.394,170.016 149.921,166.331 \n",
       "  155.449,170.016 160.976,166.331 166.504,170.016 172.031,166.331 177.559,162.646 183.087,166.331 188.614,170.016 194.142,173.701 199.669,170.016 205.197,173.701 \n",
       "  210.724,170.016 216.252,173.701 221.78,177.386 227.307,173.701 232.835,170.016 238.362,173.701 243.89,177.386 249.417,173.701 254.945,170.016 260.472,166.331 \n",
       "  266,162.646 271.528,158.961 277.055,155.276 282.583,151.591 288.11,155.276 293.638,151.591 299.165,155.276 304.693,151.591 310.22,155.276 315.748,151.591 \n",
       "  \n",
       "  \"/>\n",
       "<polyline clip-path=\"url(#clip02)\" style=\"stroke:#c271d2; stroke-width:1; stroke-opacity:1; fill:none\" points=\"\n",
       "  44.8976,192.126 50.4252,195.811 55.9528,192.126 61.4803,195.811 67.0079,199.496 72.5354,203.181 78.063,206.866 83.5906,210.551 89.1181,206.866 94.6457,210.551 \n",
       "  100.173,214.236 105.701,217.921 111.228,214.236 116.756,210.551 122.283,214.236 127.811,210.551 133.339,214.236 138.866,217.921 144.394,221.606 149.921,225.291 \n",
       "  155.449,221.606 160.976,217.921 166.504,214.236 172.031,210.551 177.559,214.236 183.087,217.921 188.614,221.606 194.142,225.291 199.669,221.606 205.197,217.921 \n",
       "  210.724,221.606 216.252,217.921 221.78,214.236 227.307,217.921 232.835,221.606 238.362,225.291 243.89,221.606 249.417,225.291 254.945,228.976 260.472,225.291 \n",
       "  266,228.976 271.528,225.291 277.055,228.976 282.583,225.291 288.11,228.976 293.638,225.291 299.165,221.606 304.693,225.291 310.22,228.976 315.748,225.291 \n",
       "  \n",
       "  \"/>\n",
       "<polyline clip-path=\"url(#clip02)\" style=\"stroke:#ac8d18; stroke-width:1; stroke-opacity:1; fill:none\" points=\"\n",
       "  44.8976,192.126 50.4252,188.441 55.9528,192.126 61.4803,188.441 67.0079,184.756 72.5354,188.441 78.063,184.756 83.5906,181.071 89.1181,184.756 94.6457,181.071 \n",
       "  100.173,184.756 105.701,188.441 111.228,192.126 116.756,188.441 122.283,184.756 127.811,181.071 133.339,177.386 138.866,173.701 144.394,170.016 149.921,166.331 \n",
       "  155.449,162.646 160.976,166.331 166.504,170.016 172.031,166.331 177.559,162.646 183.087,158.961 188.614,162.646 194.142,158.961 199.669,155.276 205.197,158.961 \n",
       "  210.724,162.646 216.252,158.961 221.78,155.276 227.307,151.591 232.835,147.906 238.362,151.591 243.89,155.276 249.417,151.591 254.945,147.906 260.472,144.22 \n",
       "  266,140.535 271.528,144.22 277.055,147.906 282.583,151.591 288.11,155.276 293.638,158.961 299.165,155.276 304.693,158.961 310.22,162.646 315.748,158.961 \n",
       "  \n",
       "  \"/>\n",
       "<polyline clip-path=\"url(#clip02)\" style=\"stroke:#00a9ad; stroke-width:1; stroke-opacity:1; fill:none\" points=\"\n",
       "  44.8976,192.126 50.4252,195.811 55.9528,192.126 61.4803,195.811 67.0079,199.496 72.5354,195.811 78.063,199.496 83.5906,203.181 89.1181,199.496 94.6457,203.181 \n",
       "  100.173,206.866 105.701,210.551 111.228,206.866 116.756,203.181 122.283,206.866 127.811,210.551 133.339,214.236 138.866,210.551 144.394,214.236 149.921,217.921 \n",
       "  155.449,221.606 160.976,225.291 166.504,228.976 172.031,225.291 177.559,221.606 183.087,225.291 188.614,228.976 194.142,225.291 199.669,228.976 205.197,225.291 \n",
       "  210.724,221.606 216.252,217.921 221.78,214.236 227.307,210.551 232.835,206.866 238.362,210.551 243.89,214.236 249.417,217.921 254.945,214.236 260.472,210.551 \n",
       "  266,214.236 271.528,217.921 277.055,214.236 282.583,217.921 288.11,214.236 293.638,210.551 299.165,214.236 304.693,217.921 310.22,221.606 315.748,217.921 \n",
       "  \n",
       "  \"/>\n",
       "<polyline clip-path=\"url(#clip02)\" style=\"stroke:#ed5d92; stroke-width:1; stroke-opacity:1; fill:none\" points=\"\n",
       "  44.8976,192.126 50.4252,195.811 55.9528,199.496 61.4803,195.811 67.0079,192.126 72.5354,195.811 78.063,199.496 83.5906,195.811 89.1181,199.496 94.6457,203.181 \n",
       "  100.173,199.496 105.701,203.181 111.228,199.496 116.756,203.181 122.283,199.496 127.811,203.181 133.339,199.496 138.866,195.811 144.394,192.126 149.921,188.441 \n",
       "  155.449,192.126 160.976,188.441 166.504,192.126 172.031,188.441 177.559,192.126 183.087,195.811 188.614,192.126 194.142,188.441 199.669,184.756 205.197,188.441 \n",
       "  210.724,192.126 216.252,188.441 221.78,184.756 227.307,188.441 232.835,184.756 238.362,188.441 243.89,192.126 249.417,195.811 254.945,199.496 260.472,203.181 \n",
       "  266,206.866 271.528,210.551 277.055,206.866 282.583,203.181 288.11,206.866 293.638,203.181 299.165,199.496 304.693,203.181 310.22,206.866 315.748,203.181 \n",
       "  \n",
       "  \"/>\n",
       "<polyline clip-path=\"url(#clip02)\" style=\"stroke:#c68125; stroke-width:1; stroke-opacity:1; fill:none\" points=\"\n",
       "  44.8976,192.126 50.4252,188.441 55.9528,184.756 61.4803,181.071 67.0079,184.756 72.5354,181.071 78.063,184.756 83.5906,181.071 89.1181,177.386 94.6457,173.701 \n",
       "  100.173,170.016 105.701,166.331 111.228,162.646 116.756,166.331 122.283,170.016 127.811,166.331 133.339,170.016 138.866,173.701 144.394,177.386 149.921,181.071 \n",
       "  155.449,184.756 160.976,181.071 166.504,177.386 172.031,181.071 177.559,184.756 183.087,188.441 188.614,184.756 194.142,181.071 199.669,184.756 205.197,188.441 \n",
       "  210.724,192.126 216.252,188.441 221.78,192.126 227.307,195.811 232.835,199.496 238.362,195.811 243.89,199.496 249.417,195.811 254.945,192.126 260.472,195.811 \n",
       "  266,192.126 271.528,195.811 277.055,199.496 282.583,195.811 288.11,199.496 293.638,203.181 299.165,206.866 304.693,203.181 310.22,199.496 315.748,195.811 \n",
       "  \n",
       "  \"/>\n",
       "<polyline clip-path=\"url(#clip02)\" style=\"stroke:#00a98d; stroke-width:1; stroke-opacity:1; fill:none\" points=\"\n",
       "  44.8976,192.126 50.4252,188.441 55.9528,192.126 61.4803,195.811 67.0079,192.126 72.5354,195.811 78.063,192.126 83.5906,188.441 89.1181,184.756 94.6457,181.071 \n",
       "  100.173,184.756 105.701,188.441 111.228,184.756 116.756,181.071 122.283,184.756 127.811,188.441 133.339,192.126 138.866,188.441 144.394,184.756 149.921,181.071 \n",
       "  155.449,184.756 160.976,188.441 166.504,192.126 172.031,188.441 177.559,192.126 183.087,195.811 188.614,192.126 194.142,195.811 199.669,199.496 205.197,203.181 \n",
       "  210.724,199.496 216.252,195.811 221.78,192.126 227.307,195.811 232.835,192.126 238.362,195.811 243.89,199.496 249.417,195.811 254.945,192.126 260.472,195.811 \n",
       "  266,192.126 271.528,195.811 277.055,192.126 282.583,188.441 288.11,184.756 293.638,188.441 299.165,192.126 304.693,188.441 310.22,184.756 315.748,181.071 \n",
       "  \n",
       "  \"/>\n",
       "<polyline clip-path=\"url(#clip02)\" style=\"stroke:#8e971d; stroke-width:1; stroke-opacity:1; fill:none\" points=\"\n",
       "  44.8976,192.126 50.4252,188.441 55.9528,192.126 61.4803,195.811 67.0079,199.496 72.5354,195.811 78.063,199.496 83.5906,195.811 89.1181,192.126 94.6457,195.811 \n",
       "  100.173,192.126 105.701,188.441 111.228,184.756 116.756,188.441 122.283,184.756 127.811,181.071 133.339,177.386 138.866,173.701 144.394,177.386 149.921,173.701 \n",
       "  155.449,170.016 160.976,173.701 166.504,170.016 172.031,173.701 177.559,170.016 183.087,166.331 188.614,162.646 194.142,166.331 199.669,170.016 205.197,173.701 \n",
       "  210.724,177.386 216.252,181.071 221.78,184.756 227.307,181.071 232.835,184.756 238.362,181.071 243.89,184.756 249.417,188.441 254.945,192.126 260.472,188.441 \n",
       "  266,192.126 271.528,188.441 277.055,184.756 282.583,188.441 288.11,184.756 293.638,188.441 299.165,192.126 304.693,195.811 310.22,192.126 315.748,188.441 \n",
       "  \n",
       "  \"/>\n",
       "<polyline clip-path=\"url(#clip02)\" style=\"stroke:#00a8cb; stroke-width:1; stroke-opacity:1; fill:none\" points=\"\n",
       "  44.8976,192.126 50.4252,195.811 55.9528,199.496 61.4803,203.181 67.0079,206.866 72.5354,203.181 78.063,199.496 83.5906,203.181 89.1181,206.866 94.6457,203.181 \n",
       "  100.173,206.866 105.701,203.181 111.228,199.496 116.756,203.181 122.283,206.866 127.811,210.551 133.339,206.866 138.866,210.551 144.394,214.236 149.921,210.551 \n",
       "  155.449,206.866 160.976,210.551 166.504,214.236 172.031,217.921 177.559,221.606 183.087,217.921 188.614,221.606 194.142,225.291 199.669,228.976 205.197,232.661 \n",
       "  210.724,236.346 216.252,240.031 221.78,236.346 227.307,232.661 232.835,228.976 238.362,232.661 243.89,228.976 249.417,225.291 254.945,221.606 260.472,225.291 \n",
       "  266,221.606 271.528,217.921 277.055,214.236 282.583,217.921 288.11,221.606 293.638,225.291 299.165,221.606 304.693,217.921 310.22,221.606 315.748,217.921 \n",
       "  \n",
       "  \"/>\n",
       "<polyline clip-path=\"url(#clip02)\" style=\"stroke:#9b7fe8; stroke-width:1; stroke-opacity:1; fill:none\" points=\"\n",
       "  44.8976,192.126 50.4252,188.441 55.9528,192.126 61.4803,188.441 67.0079,184.756 72.5354,181.071 78.063,184.756 83.5906,188.441 89.1181,184.756 94.6457,188.441 \n",
       "  100.173,192.126 105.701,195.811 111.228,192.126 116.756,195.811 122.283,192.126 127.811,188.441 133.339,192.126 138.866,188.441 144.394,184.756 149.921,181.071 \n",
       "  155.449,184.756 160.976,188.441 166.504,192.126 172.031,188.441 177.559,184.756 183.087,188.441 188.614,184.756 194.142,188.441 199.669,184.756 205.197,181.071 \n",
       "  210.724,177.386 216.252,173.701 221.78,177.386 227.307,173.701 232.835,170.016 238.362,173.701 243.89,177.386 249.417,173.701 254.945,170.016 260.472,173.701 \n",
       "  266,170.016 271.528,166.331 277.055,170.016 282.583,173.701 288.11,177.386 293.638,181.071 299.165,177.386 304.693,181.071 310.22,184.756 315.748,188.441 \n",
       "  \n",
       "  \"/>\n",
       "<polyline clip-path=\"url(#clip02)\" style=\"stroke:#608cf6; stroke-width:1; stroke-opacity:1; fill:none\" points=\"\n",
       "  44.8976,192.126 50.4252,188.441 55.9528,192.126 61.4803,195.811 67.0079,199.496 72.5354,203.181 78.063,206.866 83.5906,203.181 89.1181,199.496 94.6457,195.811 \n",
       "  100.173,192.126 105.701,195.811 111.228,199.496 116.756,195.811 122.283,192.126 127.811,195.811 133.339,192.126 138.866,188.441 144.394,184.756 149.921,181.071 \n",
       "  155.449,177.386 160.976,181.071 166.504,177.386 172.031,181.071 177.559,177.386 183.087,173.701 188.614,170.016 194.142,166.331 199.669,162.646 205.197,166.331 \n",
       "  210.724,162.646 216.252,158.961 221.78,162.646 227.307,166.331 232.835,162.646 238.362,158.961 243.89,155.276 249.417,158.961 254.945,155.276 260.472,151.591 \n",
       "  266,155.276 271.528,151.591 277.055,147.906 282.583,151.591 288.11,155.276 293.638,151.591 299.165,147.906 304.693,144.22 310.22,140.535 315.748,144.22 \n",
       "  \n",
       "  \"/>\n",
       "<polyline clip-path=\"url(#clip02)\" style=\"stroke:#f05f73; stroke-width:1; stroke-opacity:1; fill:none\" points=\"\n",
       "  44.8976,192.126 50.4252,188.441 55.9528,192.126 61.4803,188.441 67.0079,192.126 72.5354,195.811 78.063,199.496 83.5906,195.811 89.1181,199.496 94.6457,195.811 \n",
       "  100.173,192.126 105.701,195.811 111.228,192.126 116.756,188.441 122.283,192.126 127.811,195.811 133.339,199.496 138.866,195.811 144.394,199.496 149.921,203.181 \n",
       "  155.449,199.496 160.976,195.811 166.504,192.126 172.031,188.441 177.559,184.756 183.087,181.071 188.614,184.756 194.142,181.071 199.669,184.756 205.197,181.071 \n",
       "  210.724,184.756 216.252,188.441 221.78,192.126 227.307,188.441 232.835,192.126 238.362,195.811 243.89,192.126 249.417,195.811 254.945,199.496 260.472,195.811 \n",
       "  266,192.126 271.528,195.811 277.055,199.496 282.583,195.811 288.11,199.496 293.638,195.811 299.165,199.496 304.693,203.181 310.22,199.496 315.748,203.181 \n",
       "  \n",
       "  \"/>\n",
       "<polyline clip-path=\"url(#clip02)\" style=\"stroke:#dd64b5; stroke-width:1; stroke-opacity:1; fill:none\" points=\"\n",
       "  44.8976,192.126 50.4252,195.811 55.9528,192.126 61.4803,188.441 67.0079,192.126 72.5354,195.811 78.063,199.496 83.5906,195.811 89.1181,199.496 94.6457,195.811 \n",
       "  100.173,199.496 105.701,195.811 111.228,199.496 116.756,203.181 122.283,199.496 127.811,195.811 133.339,192.126 138.866,188.441 144.394,192.126 149.921,188.441 \n",
       "  155.449,184.756 160.976,181.071 166.504,184.756 172.031,188.441 177.559,192.126 183.087,195.811 188.614,192.126 194.142,195.811 199.669,199.496 205.197,203.181 \n",
       "  210.724,199.496 216.252,195.811 221.78,199.496 227.307,203.181 232.835,199.496 238.362,195.811 243.89,192.126 249.417,188.441 254.945,192.126 260.472,188.441 \n",
       "  266,184.756 271.528,181.071 277.055,184.756 282.583,181.071 288.11,184.756 293.638,188.441 299.165,184.756 304.693,188.441 310.22,184.756 315.748,188.441 \n",
       "  \n",
       "  \"/>\n",
       "<polyline clip-path=\"url(#clip02)\" style=\"stroke:#6b9e32; stroke-width:1; stroke-opacity:1; fill:none\" points=\"\n",
       "  44.8976,192.126 50.4252,195.811 55.9528,192.126 61.4803,195.811 67.0079,199.496 72.5354,203.181 78.063,206.866 83.5906,203.181 89.1181,199.496 94.6457,195.811 \n",
       "  100.173,199.496 105.701,195.811 111.228,192.126 116.756,195.811 122.283,199.496 127.811,203.181 133.339,199.496 138.866,203.181 144.394,199.496 149.921,203.181 \n",
       "  155.449,199.496 160.976,203.181 166.504,206.866 172.031,203.181 177.559,206.866 183.087,203.181 188.614,206.866 194.142,210.551 199.669,214.236 205.197,217.921 \n",
       "  210.724,214.236 216.252,217.921 221.78,221.606 227.307,225.291 232.835,221.606 238.362,217.921 243.89,214.236 249.417,210.551 254.945,214.236 260.472,217.921 \n",
       "  266,221.606 271.528,217.921 277.055,214.236 282.583,217.921 288.11,221.606 293.638,225.291 299.165,221.606 304.693,217.921 310.22,221.606 315.748,225.291 \n",
       "  \n",
       "  \"/>\n",
       "<polyline clip-path=\"url(#clip02)\" style=\"stroke:#718c69; stroke-width:1; stroke-opacity:1; fill:none\" points=\"\n",
       "  44.8976,192.126 50.4252,188.441 55.9528,184.756 61.4803,181.071 67.0079,177.386 72.5354,173.701 78.063,177.386 83.5906,181.071 89.1181,177.386 94.6457,173.701 \n",
       "  100.173,170.016 105.701,173.701 111.228,170.016 116.756,166.331 122.283,170.016 127.811,166.331 133.339,162.646 138.866,158.961 144.394,162.646 149.921,158.961 \n",
       "  155.449,155.276 160.976,151.591 166.504,155.276 172.031,158.961 177.559,155.276 183.087,158.961 188.614,155.276 194.142,151.591 199.669,147.906 205.197,144.22 \n",
       "  210.724,140.535 216.252,144.22 221.78,147.906 227.307,151.591 232.835,147.906 238.362,144.22 243.89,140.535 249.417,144.22 254.945,147.906 260.472,151.591 \n",
       "  266,155.276 271.528,151.591 277.055,147.906 282.583,144.22 288.11,140.535 293.638,136.85 299.165,140.535 304.693,144.22 310.22,147.906 315.748,144.22 \n",
       "  \n",
       "  \"/>\n",
       "<polyline clip-path=\"url(#clip02)\" style=\"stroke:#47988b; stroke-width:1; stroke-opacity:1; fill:none\" points=\"\n",
       "  44.8976,192.126 50.4252,188.441 55.9528,184.756 61.4803,181.071 67.0079,177.386 72.5354,181.071 78.063,177.386 83.5906,173.701 89.1181,170.016 94.6457,166.331 \n",
       "  100.173,162.646 105.701,158.961 111.228,155.276 116.756,151.591 122.283,147.906 127.811,151.591 133.339,147.906 138.866,151.591 144.394,155.276 149.921,158.961 \n",
       "  155.449,155.276 160.976,151.591 166.504,155.276 172.031,151.591 177.559,147.906 183.087,144.22 188.614,147.906 194.142,151.591 199.669,147.906 205.197,151.591 \n",
       "  210.724,155.276 216.252,151.591 221.78,147.906 227.307,151.591 232.835,147.906 238.362,144.22 243.89,140.535 249.417,136.85 254.945,140.535 260.472,136.85 \n",
       "  266,140.535 271.528,144.22 277.055,147.906 282.583,144.22 288.11,140.535 293.638,144.22 299.165,147.906 304.693,144.22 310.22,140.535 315.748,136.85 \n",
       "  \n",
       "  \"/>\n",
       "<polyline clip-path=\"url(#clip02)\" style=\"stroke:#1ea68c; stroke-width:1; stroke-opacity:1; fill:none\" points=\"\n",
       "  44.8976,192.126 50.4252,195.811 55.9528,192.126 61.4803,195.811 67.0079,199.496 72.5354,203.181 78.063,199.496 83.5906,195.811 89.1181,199.496 94.6457,203.181 \n",
       "  100.173,199.496 105.701,203.181 111.228,206.866 116.756,210.551 122.283,214.236 127.811,217.921 133.339,214.236 138.866,217.921 144.394,214.236 149.921,210.551 \n",
       "  155.449,214.236 160.976,210.551 166.504,214.236 172.031,217.921 177.559,221.606 183.087,225.291 188.614,221.606 194.142,217.921 199.669,221.606 205.197,217.921 \n",
       "  210.724,221.606 216.252,225.291 221.78,221.606 227.307,225.291 232.835,228.976 238.362,225.291 243.89,221.606 249.417,217.921 254.945,214.236 260.472,210.551 \n",
       "  266,206.866 271.528,210.551 277.055,206.866 282.583,210.551 288.11,214.236 293.638,210.551 299.165,206.866 304.693,210.551 310.22,214.236 315.748,210.551 \n",
       "  \n",
       "  \"/>\n",
       "<polyline clip-path=\"url(#clip02)\" style=\"stroke:#af78dd; stroke-width:1; stroke-opacity:1; fill:none\" points=\"\n",
       "  44.8976,192.126 50.4252,195.811 55.9528,199.496 61.4803,195.811 67.0079,199.496 72.5354,195.811 78.063,199.496 83.5906,195.811 89.1181,192.126 94.6457,195.811 \n",
       "  100.173,192.126 105.701,188.441 111.228,184.756 116.756,181.071 122.283,177.386 127.811,181.071 133.339,184.756 138.866,188.441 144.394,184.756 149.921,188.441 \n",
       "  155.449,192.126 160.976,188.441 166.504,184.756 172.031,181.071 177.559,177.386 183.087,173.701 188.614,177.386 194.142,181.071 199.669,177.386 205.197,181.071 \n",
       "  210.724,184.756 216.252,188.441 221.78,184.756 227.307,188.441 232.835,192.126 238.362,195.811 243.89,199.496 249.417,195.811 254.945,192.126 260.472,195.811 \n",
       "  266,199.496 271.528,195.811 277.055,199.496 282.583,203.181 288.11,199.496 293.638,195.811 299.165,192.126 304.693,188.441 310.22,192.126 315.748,188.441 \n",
       "  \n",
       "  \"/>\n",
       "<polyline clip-path=\"url(#clip02)\" style=\"stroke:#868d87; stroke-width:1; stroke-opacity:1; fill:none\" points=\"\n",
       "  44.8976,192.126 50.4252,195.811 55.9528,192.126 61.4803,188.441 67.0079,184.756 72.5354,188.441 78.063,192.126 83.5906,195.811 89.1181,199.496 94.6457,203.181 \n",
       "  100.173,206.866 105.701,203.181 111.228,206.866 116.756,203.181 122.283,199.496 127.811,195.811 133.339,199.496 138.866,203.181 144.394,199.496 149.921,203.181 \n",
       "  155.449,206.866 160.976,210.551 166.504,214.236 172.031,210.551 177.559,214.236 183.087,210.551 188.614,206.866 194.142,203.181 199.669,199.496 205.197,195.811 \n",
       "  210.724,199.496 216.252,195.811 221.78,192.126 227.307,188.441 232.835,192.126 238.362,188.441 243.89,192.126 249.417,195.811 254.945,192.126 260.472,188.441 \n",
       "  266,192.126 271.528,195.811 277.055,192.126 282.583,188.441 288.11,192.126 293.638,188.441 299.165,184.756 304.693,181.071 310.22,177.386 315.748,173.701 \n",
       "  \n",
       "  \"/>\n",
       "<polyline clip-path=\"url(#clip02)\" style=\"stroke:#47a065; stroke-width:1; stroke-opacity:1; fill:none\" points=\"\n",
       "  44.8976,192.126 50.4252,195.811 55.9528,192.126 61.4803,195.811 67.0079,199.496 72.5354,195.811 78.063,192.126 83.5906,188.441 89.1181,184.756 94.6457,181.071 \n",
       "  100.173,177.386 105.701,173.701 111.228,177.386 116.756,173.701 122.283,170.016 127.811,173.701 133.339,170.016 138.866,173.701 144.394,170.016 149.921,173.701 \n",
       "  155.449,170.016 160.976,173.701 166.504,170.016 172.031,173.701 177.559,170.016 183.087,166.331 188.614,162.646 194.142,166.331 199.669,162.646 205.197,158.961 \n",
       "  210.724,155.276 216.252,151.591 221.78,155.276 227.307,151.591 232.835,147.906 238.362,144.22 243.89,147.906 249.417,144.22 254.945,140.535 260.472,136.85 \n",
       "  266,133.165 271.528,136.85 277.055,133.165 282.583,129.48 288.11,125.795 293.638,122.11 299.165,125.795 304.693,129.48 310.22,133.165 315.748,136.85 \n",
       "  \n",
       "  \"/>\n",
       "<polyline clip-path=\"url(#clip02)\" style=\"stroke:#7683af; stroke-width:1; stroke-opacity:1; fill:none\" points=\"\n",
       "  44.8976,192.126 50.4252,195.811 55.9528,199.496 61.4803,195.811 67.0079,199.496 72.5354,203.181 78.063,199.496 83.5906,203.181 89.1181,206.866 94.6457,203.181 \n",
       "  100.173,206.866 105.701,210.551 111.228,206.866 116.756,210.551 122.283,206.866 127.811,210.551 133.339,214.236 138.866,217.921 144.394,221.606 149.921,225.291 \n",
       "  155.449,228.976 160.976,232.661 166.504,236.346 172.031,240.031 177.559,243.717 183.087,240.031 188.614,243.717 194.142,247.402 199.669,251.087 205.197,254.772 \n",
       "  210.724,251.087 216.252,247.402 221.78,243.717 227.307,247.402 232.835,243.717 238.362,240.031 243.89,236.346 249.417,240.031 254.945,243.717 260.472,240.031 \n",
       "  266,243.717 271.528,247.402 277.055,243.717 282.583,240.031 288.11,243.717 293.638,247.402 299.165,243.717 304.693,240.031 310.22,236.346 315.748,232.661 \n",
       "  \n",
       "  \"/>\n",
       "<polyline clip-path=\"url(#clip02)\" style=\"stroke:#b08086; stroke-width:1; stroke-opacity:1; fill:none\" points=\"\n",
       "  44.8976,192.126 50.4252,188.441 55.9528,192.126 61.4803,195.811 67.0079,199.496 72.5354,195.811 78.063,199.496 83.5906,203.181 89.1181,199.496 94.6457,203.181 \n",
       "  100.173,199.496 105.701,195.811 111.228,199.496 116.756,203.181 122.283,199.496 127.811,195.811 133.339,199.496 138.866,203.181 144.394,206.866 149.921,203.181 \n",
       "  155.449,206.866 160.976,203.181 166.504,206.866 172.031,203.181 177.559,206.866 183.087,210.551 188.614,214.236 194.142,217.921 199.669,214.236 205.197,217.921 \n",
       "  210.724,214.236 216.252,217.921 221.78,214.236 227.307,217.921 232.835,221.606 238.362,217.921 243.89,221.606 249.417,225.291 254.945,228.976 260.472,225.291 \n",
       "  266,221.606 271.528,225.291 277.055,228.976 282.583,232.661 288.11,228.976 293.638,225.291 299.165,228.976 304.693,225.291 310.22,228.976 315.748,225.291 \n",
       "  \n",
       "  \"/>\n",
       "<polyline clip-path=\"url(#clip02)\" style=\"stroke:#309ac1; stroke-width:1; stroke-opacity:1; fill:none\" points=\"\n",
       "  44.8976,192.126 50.4252,195.811 55.9528,199.496 61.4803,195.811 67.0079,192.126 72.5354,195.811 78.063,192.126 83.5906,188.441 89.1181,192.126 94.6457,188.441 \n",
       "  100.173,184.756 105.701,181.071 111.228,177.386 116.756,173.701 122.283,170.016 127.811,173.701 133.339,177.386 138.866,173.701 144.394,170.016 149.921,173.701 \n",
       "  155.449,170.016 160.976,173.701 166.504,170.016 172.031,166.331 177.559,170.016 183.087,173.701 188.614,177.386 194.142,181.071 199.669,184.756 205.197,188.441 \n",
       "  210.724,184.756 216.252,188.441 221.78,184.756 227.307,188.441 232.835,184.756 238.362,181.071 243.89,184.756 249.417,181.071 254.945,184.756 260.472,181.071 \n",
       "  266,184.756 271.528,188.441 277.055,184.756 282.583,181.071 288.11,177.386 293.638,173.701 299.165,177.386 304.693,173.701 310.22,177.386 315.748,173.701 \n",
       "  \n",
       "  \"/>\n",
       "<polyline clip-path=\"url(#clip02)\" style=\"stroke:#788490; stroke-width:1; stroke-opacity:1; fill:none\" points=\"\n",
       "  44.8976,192.126 50.4252,195.811 55.9528,199.496 61.4803,203.181 67.0079,206.866 72.5354,203.181 78.063,199.496 83.5906,203.181 89.1181,199.496 94.6457,195.811 \n",
       "  100.173,199.496 105.701,195.811 111.228,199.496 116.756,203.181 122.283,206.866 127.811,203.181 133.339,206.866 138.866,210.551 144.394,206.866 149.921,210.551 \n",
       "  155.449,214.236 160.976,210.551 166.504,214.236 172.031,210.551 177.559,214.236 183.087,210.551 188.614,206.866 194.142,203.181 199.669,206.866 205.197,210.551 \n",
       "  210.724,206.866 216.252,203.181 221.78,199.496 227.307,203.181 232.835,206.866 238.362,210.551 243.89,206.866 249.417,210.551 254.945,206.866 260.472,203.181 \n",
       "  266,199.496 271.528,195.811 277.055,199.496 282.583,195.811 288.11,199.496 293.638,203.181 299.165,199.496 304.693,203.181 310.22,199.496 315.748,195.811 \n",
       "  \n",
       "  \"/>\n",
       "<polyline clip-path=\"url(#clip02)\" style=\"stroke:#e561a4; stroke-width:1; stroke-opacity:1; fill:none\" points=\"\n",
       "  44.8976,192.126 50.4252,188.441 55.9528,192.126 61.4803,188.441 67.0079,184.756 72.5354,188.441 78.063,192.126 83.5906,188.441 89.1181,192.126 94.6457,195.811 \n",
       "  100.173,192.126 105.701,188.441 111.228,184.756 116.756,188.441 122.283,192.126 127.811,195.811 133.339,192.126 138.866,195.811 144.394,192.126 149.921,195.811 \n",
       "  155.449,192.126 160.976,188.441 166.504,192.126 172.031,195.811 177.559,199.496 183.087,203.181 188.614,206.866 194.142,210.551 199.669,206.866 205.197,210.551 \n",
       "  210.724,206.866 216.252,203.181 221.78,199.496 227.307,195.811 232.835,192.126 238.362,195.811 243.89,199.496 249.417,203.181 254.945,199.496 260.472,203.181 \n",
       "  266,206.866 271.528,203.181 277.055,206.866 282.583,210.551 288.11,206.866 293.638,203.181 299.165,206.866 304.693,203.181 310.22,199.496 315.748,203.181 \n",
       "  \n",
       "  \"/>\n",
       "<polyline clip-path=\"url(#clip02)\" style=\"stroke:#99902c; stroke-width:1; stroke-opacity:1; fill:none\" points=\"\n",
       "  44.8976,192.126 50.4252,188.441 55.9528,192.126 61.4803,188.441 67.0079,192.126 72.5354,188.441 78.063,192.126 83.5906,195.811 89.1181,199.496 94.6457,195.811 \n",
       "  100.173,199.496 105.701,203.181 111.228,206.866 116.756,203.181 122.283,206.866 127.811,210.551 133.339,214.236 138.866,217.921 144.394,221.606 149.921,225.291 \n",
       "  155.449,221.606 160.976,217.921 166.504,214.236 172.031,217.921 177.559,214.236 183.087,210.551 188.614,214.236 194.142,217.921 199.669,221.606 205.197,217.921 \n",
       "  210.724,214.236 216.252,217.921 221.78,214.236 227.307,217.921 232.835,221.606 238.362,217.921 243.89,214.236 249.417,210.551 254.945,214.236 260.472,217.921 \n",
       "  266,221.606 271.528,217.921 277.055,214.236 282.583,210.551 288.11,214.236 293.638,210.551 299.165,206.866 304.693,203.181 310.22,206.866 315.748,203.181 \n",
       "  \n",
       "  \"/>\n",
       "<polyline clip-path=\"url(#clip02)\" style=\"stroke:#389a7b; stroke-width:1; stroke-opacity:1; fill:none\" points=\"\n",
       "  44.8976,192.126 50.4252,188.441 55.9528,192.126 61.4803,188.441 67.0079,184.756 72.5354,188.441 78.063,184.756 83.5906,181.071 89.1181,177.386 94.6457,181.071 \n",
       "  100.173,177.386 105.701,173.701 111.228,170.016 116.756,173.701 122.283,177.386 127.811,181.071 133.339,184.756 138.866,188.441 144.394,192.126 149.921,188.441 \n",
       "  155.449,184.756 160.976,188.441 166.504,192.126 172.031,195.811 177.559,199.496 183.087,195.811 188.614,192.126 194.142,195.811 199.669,199.496 205.197,203.181 \n",
       "  210.724,206.866 216.252,210.551 221.78,206.866 227.307,203.181 232.835,199.496 238.362,203.181 243.89,199.496 249.417,203.181 254.945,199.496 260.472,195.811 \n",
       "  266,192.126 271.528,188.441 277.055,192.126 282.583,195.811 288.11,192.126 293.638,188.441 299.165,192.126 304.693,195.811 310.22,199.496 315.748,203.181 \n",
       "  \n",
       "  \"/>\n",
       "<polyline clip-path=\"url(#clip02)\" style=\"stroke:#d968a2; stroke-width:1; stroke-opacity:1; fill:none\" points=\"\n",
       "  44.8976,192.126 50.4252,195.811 55.9528,199.496 61.4803,195.811 67.0079,199.496 72.5354,203.181 78.063,199.496 83.5906,195.811 89.1181,192.126 94.6457,188.441 \n",
       "  100.173,192.126 105.701,188.441 111.228,192.126 116.756,195.811 122.283,192.126 127.811,188.441 133.339,184.756 138.866,188.441 144.394,192.126 149.921,188.441 \n",
       "  155.449,184.756 160.976,188.441 166.504,192.126 172.031,195.811 177.559,199.496 183.087,203.181 188.614,206.866 194.142,210.551 199.669,214.236 205.197,217.921 \n",
       "  210.724,221.606 216.252,225.291 221.78,221.606 227.307,217.921 232.835,214.236 238.362,217.921 243.89,214.236 249.417,210.551 254.945,214.236 260.472,217.921 \n",
       "  266,221.606 271.528,225.291 277.055,221.606 282.583,217.921 288.11,221.606 293.638,217.921 299.165,214.236 304.693,217.921 310.22,221.606 315.748,225.291 \n",
       "  \n",
       "  \"/>\n",
       "<polyline clip-path=\"url(#clip02)\" style=\"stroke:#009af9; stroke-width:1; stroke-opacity:1; fill:none\" points=\"\n",
       "  44.8976,192.126 50.4252,188.441 55.9528,192.126 61.4803,195.811 67.0079,199.496 72.5354,203.181 78.063,199.496 83.5906,203.181 89.1181,206.866 94.6457,203.181 \n",
       "  100.173,199.496 105.701,203.181 111.228,206.866 116.756,210.551 122.283,214.236 127.811,217.921 133.339,221.606 138.866,225.291 144.394,228.976 149.921,225.291 \n",
       "  155.449,228.976 160.976,232.661 166.504,228.976 172.031,232.661 177.559,236.346 183.087,232.661 188.614,236.346 194.142,240.031 199.669,236.346 205.197,232.661 \n",
       "  210.724,236.346 216.252,240.031 221.78,236.346 227.307,232.661 232.835,228.976 238.362,225.291 243.89,228.976 249.417,225.291 254.945,221.606 260.472,225.291 \n",
       "  266,228.976 271.528,225.291 277.055,228.976 282.583,225.291 288.11,221.606 293.638,217.921 299.165,221.606 304.693,225.291 310.22,228.976 315.748,232.661 \n",
       "  \n",
       "  \"/>\n",
       "<polyline clip-path=\"url(#clip02)\" style=\"stroke:#e26f46; stroke-width:1; stroke-opacity:1; fill:none\" points=\"\n",
       "  44.8976,192.126 50.4252,195.811 55.9528,199.496 61.4803,203.181 67.0079,206.866 72.5354,203.181 78.063,199.496 83.5906,195.811 89.1181,199.496 94.6457,203.181 \n",
       "  100.173,199.496 105.701,203.181 111.228,199.496 116.756,195.811 122.283,192.126 127.811,188.441 133.339,184.756 138.866,188.441 144.394,184.756 149.921,188.441 \n",
       "  155.449,192.126 160.976,188.441 166.504,184.756 172.031,181.071 177.559,177.386 183.087,173.701 188.614,170.016 194.142,166.331 199.669,170.016 205.197,173.701 \n",
       "  210.724,177.386 216.252,181.071 221.78,177.386 227.307,173.701 232.835,170.016 238.362,173.701 243.89,170.016 249.417,173.701 254.945,177.386 260.472,181.071 \n",
       "  266,177.386 271.528,173.701 277.055,170.016 282.583,166.331 288.11,162.646 293.638,158.961 299.165,162.646 304.693,158.961 310.22,162.646 315.748,158.961 \n",
       "  \n",
       "  \"/>\n",
       "<polyline clip-path=\"url(#clip02)\" style=\"stroke:#3da44d; stroke-width:1; stroke-opacity:1; fill:none\" points=\"\n",
       "  44.8976,192.126 50.4252,195.811 55.9528,199.496 61.4803,195.811 67.0079,199.496 72.5354,203.181 78.063,199.496 83.5906,195.811 89.1181,192.126 94.6457,188.441 \n",
       "  100.173,192.126 105.701,188.441 111.228,192.126 116.756,195.811 122.283,192.126 127.811,188.441 133.339,192.126 138.866,195.811 144.394,192.126 149.921,188.441 \n",
       "  155.449,184.756 160.976,181.071 166.504,184.756 172.031,181.071 177.559,177.386 183.087,181.071 188.614,177.386 194.142,181.071 199.669,184.756 205.197,188.441 \n",
       "  210.724,192.126 216.252,188.441 221.78,192.126 227.307,188.441 232.835,184.756 238.362,188.441 243.89,184.756 249.417,188.441 254.945,192.126 260.472,188.441 \n",
       "  266,184.756 271.528,188.441 277.055,192.126 282.583,188.441 288.11,192.126 293.638,195.811 299.165,192.126 304.693,195.811 310.22,192.126 315.748,188.441 \n",
       "  \n",
       "  \"/>\n",
       "<polyline clip-path=\"url(#clip02)\" style=\"stroke:#c271d2; stroke-width:1; stroke-opacity:1; fill:none\" points=\"\n",
       "  44.8976,192.126 50.4252,195.811 55.9528,192.126 61.4803,188.441 67.0079,192.126 72.5354,188.441 78.063,184.756 83.5906,188.441 89.1181,192.126 94.6457,195.811 \n",
       "  100.173,192.126 105.701,188.441 111.228,192.126 116.756,195.811 122.283,199.496 127.811,203.181 133.339,199.496 138.866,203.181 144.394,199.496 149.921,195.811 \n",
       "  155.449,192.126 160.976,188.441 166.504,184.756 172.031,181.071 177.559,177.386 183.087,181.071 188.614,184.756 194.142,188.441 199.669,184.756 205.197,181.071 \n",
       "  210.724,184.756 216.252,181.071 221.78,177.386 227.307,173.701 232.835,170.016 238.362,166.331 243.89,162.646 249.417,166.331 254.945,170.016 260.472,173.701 \n",
       "  266,170.016 271.528,166.331 277.055,162.646 282.583,166.331 288.11,170.016 293.638,173.701 299.165,177.386 304.693,181.071 310.22,184.756 315.748,188.441 \n",
       "  \n",
       "  \"/>\n",
       "<polyline clip-path=\"url(#clip02)\" style=\"stroke:#ac8d18; stroke-width:1; stroke-opacity:1; fill:none\" points=\"\n",
       "  44.8976,192.126 50.4252,195.811 55.9528,199.496 61.4803,203.181 67.0079,199.496 72.5354,203.181 78.063,206.866 83.5906,203.181 89.1181,206.866 94.6457,210.551 \n",
       "  100.173,206.866 105.701,203.181 111.228,199.496 116.756,195.811 122.283,192.126 127.811,188.441 133.339,192.126 138.866,188.441 144.394,192.126 149.921,195.811 \n",
       "  155.449,192.126 160.976,188.441 166.504,184.756 172.031,188.441 177.559,184.756 183.087,188.441 188.614,184.756 194.142,181.071 199.669,177.386 205.197,173.701 \n",
       "  210.724,170.016 216.252,173.701 221.78,170.016 227.307,173.701 232.835,170.016 238.362,173.701 243.89,170.016 249.417,173.701 254.945,177.386 260.472,181.071 \n",
       "  266,177.386 271.528,181.071 277.055,184.756 282.583,188.441 288.11,184.756 293.638,188.441 299.165,192.126 304.693,188.441 310.22,192.126 315.748,195.811 \n",
       "  \n",
       "  \"/>\n",
       "<polyline clip-path=\"url(#clip02)\" style=\"stroke:#00a9ad; stroke-width:1; stroke-opacity:1; fill:none\" points=\"\n",
       "  44.8976,192.126 50.4252,195.811 55.9528,192.126 61.4803,195.811 67.0079,192.126 72.5354,195.811 78.063,199.496 83.5906,195.811 89.1181,192.126 94.6457,188.441 \n",
       "  100.173,184.756 105.701,181.071 111.228,177.386 116.756,173.701 122.283,177.386 127.811,173.701 133.339,177.386 138.866,181.071 144.394,177.386 149.921,181.071 \n",
       "  155.449,184.756 160.976,181.071 166.504,184.756 172.031,181.071 177.559,177.386 183.087,173.701 188.614,170.016 194.142,173.701 199.669,170.016 205.197,166.331 \n",
       "  210.724,170.016 216.252,166.331 221.78,170.016 227.307,173.701 232.835,177.386 238.362,173.701 243.89,170.016 249.417,166.331 254.945,170.016 260.472,166.331 \n",
       "  266,170.016 271.528,166.331 277.055,170.016 282.583,173.701 288.11,170.016 293.638,173.701 299.165,170.016 304.693,173.701 310.22,177.386 315.748,181.071 \n",
       "  \n",
       "  \"/>\n",
       "<polyline clip-path=\"url(#clip02)\" style=\"stroke:#ed5d92; stroke-width:1; stroke-opacity:1; fill:none\" points=\"\n",
       "  44.8976,192.126 50.4252,195.811 55.9528,199.496 61.4803,203.181 67.0079,199.496 72.5354,203.181 78.063,199.496 83.5906,195.811 89.1181,192.126 94.6457,188.441 \n",
       "  100.173,184.756 105.701,181.071 111.228,177.386 116.756,173.701 122.283,177.386 127.811,173.701 133.339,170.016 138.866,173.701 144.394,170.016 149.921,173.701 \n",
       "  155.449,170.016 160.976,173.701 166.504,170.016 172.031,173.701 177.559,177.386 183.087,181.071 188.614,184.756 194.142,188.441 199.669,184.756 205.197,181.071 \n",
       "  210.724,184.756 216.252,181.071 221.78,177.386 227.307,181.071 232.835,177.386 238.362,181.071 243.89,184.756 249.417,188.441 254.945,184.756 260.472,181.071 \n",
       "  266,184.756 271.528,181.071 277.055,177.386 282.583,173.701 288.11,177.386 293.638,173.701 299.165,177.386 304.693,173.701 310.22,177.386 315.748,173.701 \n",
       "  \n",
       "  \"/>\n",
       "<polyline clip-path=\"url(#clip02)\" style=\"stroke:#c68125; stroke-width:1; stroke-opacity:1; fill:none\" points=\"\n",
       "  44.8976,192.126 50.4252,188.441 55.9528,184.756 61.4803,188.441 67.0079,192.126 72.5354,195.811 78.063,192.126 83.5906,188.441 89.1181,184.756 94.6457,181.071 \n",
       "  100.173,184.756 105.701,181.071 111.228,184.756 116.756,181.071 122.283,184.756 127.811,181.071 133.339,184.756 138.866,188.441 144.394,192.126 149.921,195.811 \n",
       "  155.449,199.496 160.976,195.811 166.504,199.496 172.031,203.181 177.559,199.496 183.087,195.811 188.614,199.496 194.142,195.811 199.669,192.126 205.197,195.811 \n",
       "  210.724,192.126 216.252,188.441 221.78,184.756 227.307,188.441 232.835,184.756 238.362,188.441 243.89,192.126 249.417,195.811 254.945,199.496 260.472,195.811 \n",
       "  266,192.126 271.528,195.811 277.055,192.126 282.583,188.441 288.11,184.756 293.638,181.071 299.165,184.756 304.693,188.441 310.22,192.126 315.748,188.441 \n",
       "  \n",
       "  \"/>\n",
       "<polyline clip-path=\"url(#clip02)\" style=\"stroke:#00a98d; stroke-width:1; stroke-opacity:1; fill:none\" points=\"\n",
       "  44.8976,192.126 50.4252,195.811 55.9528,199.496 61.4803,195.811 67.0079,199.496 72.5354,203.181 78.063,206.866 83.5906,203.181 89.1181,206.866 94.6457,210.551 \n",
       "  100.173,206.866 105.701,210.551 111.228,214.236 116.756,210.551 122.283,214.236 127.811,210.551 133.339,214.236 138.866,210.551 144.394,206.866 149.921,203.181 \n",
       "  155.449,199.496 160.976,203.181 166.504,206.866 172.031,210.551 177.559,206.866 183.087,203.181 188.614,199.496 194.142,195.811 199.669,192.126 205.197,188.441 \n",
       "  210.724,192.126 216.252,188.441 221.78,184.756 227.307,181.071 232.835,177.386 238.362,173.701 243.89,177.386 249.417,173.701 254.945,170.016 260.472,173.701 \n",
       "  266,170.016 271.528,166.331 277.055,170.016 282.583,173.701 288.11,170.016 293.638,173.701 299.165,170.016 304.693,166.331 310.22,170.016 315.748,173.701 \n",
       "  \n",
       "  \"/>\n",
       "<polyline clip-path=\"url(#clip02)\" style=\"stroke:#8e971d; stroke-width:1; stroke-opacity:1; fill:none\" points=\"\n",
       "  44.8976,192.126 50.4252,188.441 55.9528,192.126 61.4803,195.811 67.0079,199.496 72.5354,195.811 78.063,192.126 83.5906,188.441 89.1181,184.756 94.6457,181.071 \n",
       "  100.173,177.386 105.701,181.071 111.228,184.756 116.756,181.071 122.283,184.756 127.811,188.441 133.339,192.126 138.866,195.811 144.394,199.496 149.921,203.181 \n",
       "  155.449,199.496 160.976,203.181 166.504,199.496 172.031,195.811 177.559,199.496 183.087,203.181 188.614,206.866 194.142,203.181 199.669,199.496 205.197,195.811 \n",
       "  210.724,192.126 216.252,195.811 221.78,192.126 227.307,195.811 232.835,199.496 238.362,195.811 243.89,192.126 249.417,195.811 254.945,192.126 260.472,195.811 \n",
       "  266,192.126 271.528,195.811 277.055,192.126 282.583,188.441 288.11,184.756 293.638,181.071 299.165,184.756 304.693,181.071 310.22,177.386 315.748,173.701 \n",
       "  \n",
       "  \"/>\n",
       "<polyline clip-path=\"url(#clip02)\" style=\"stroke:#00a8cb; stroke-width:1; stroke-opacity:1; fill:none\" points=\"\n",
       "  44.8976,192.126 50.4252,188.441 55.9528,184.756 61.4803,181.071 67.0079,184.756 72.5354,181.071 78.063,184.756 83.5906,181.071 89.1181,177.386 94.6457,173.701 \n",
       "  100.173,170.016 105.701,166.331 111.228,170.016 116.756,166.331 122.283,162.646 127.811,166.331 133.339,170.016 138.866,166.331 144.394,170.016 149.921,166.331 \n",
       "  155.449,170.016 160.976,166.331 166.504,170.016 172.031,166.331 177.559,162.646 183.087,158.961 188.614,162.646 194.142,166.331 199.669,162.646 205.197,166.331 \n",
       "  210.724,170.016 216.252,166.331 221.78,170.016 227.307,166.331 232.835,162.646 238.362,166.331 243.89,162.646 249.417,166.331 254.945,170.016 260.472,166.331 \n",
       "  266,162.646 271.528,166.331 277.055,162.646 282.583,158.961 288.11,162.646 293.638,158.961 299.165,155.276 304.693,151.591 310.22,155.276 315.748,158.961 \n",
       "  \n",
       "  \"/>\n",
       "<polyline clip-path=\"url(#clip02)\" style=\"stroke:#9b7fe8; stroke-width:1; stroke-opacity:1; fill:none\" points=\"\n",
       "  44.8976,192.126 50.4252,188.441 55.9528,192.126 61.4803,195.811 67.0079,192.126 72.5354,188.441 78.063,184.756 83.5906,188.441 89.1181,184.756 94.6457,188.441 \n",
       "  100.173,192.126 105.701,188.441 111.228,184.756 116.756,181.071 122.283,177.386 127.811,181.071 133.339,177.386 138.866,181.071 144.394,177.386 149.921,173.701 \n",
       "  155.449,177.386 160.976,181.071 166.504,184.756 172.031,188.441 177.559,192.126 183.087,188.441 188.614,184.756 194.142,188.441 199.669,184.756 205.197,188.441 \n",
       "  210.724,192.126 216.252,188.441 221.78,184.756 227.307,181.071 232.835,177.386 238.362,181.071 243.89,177.386 249.417,173.701 254.945,170.016 260.472,166.331 \n",
       "  266,170.016 271.528,173.701 277.055,170.016 282.583,173.701 288.11,170.016 293.638,166.331 299.165,170.016 304.693,173.701 310.22,177.386 315.748,181.071 \n",
       "  \n",
       "  \"/>\n",
       "<polyline clip-path=\"url(#clip02)\" style=\"stroke:#608cf6; stroke-width:1; stroke-opacity:1; fill:none\" points=\"\n",
       "  44.8976,192.126 50.4252,188.441 55.9528,192.126 61.4803,188.441 67.0079,184.756 72.5354,181.071 78.063,177.386 83.5906,173.701 89.1181,170.016 94.6457,166.331 \n",
       "  100.173,162.646 105.701,166.331 111.228,170.016 116.756,166.331 122.283,170.016 127.811,166.331 133.339,170.016 138.866,166.331 144.394,170.016 149.921,173.701 \n",
       "  155.449,170.016 160.976,173.701 166.504,170.016 172.031,166.331 177.559,162.646 183.087,158.961 188.614,162.646 194.142,166.331 199.669,170.016 205.197,173.701 \n",
       "  210.724,170.016 216.252,166.331 221.78,162.646 227.307,158.961 232.835,155.276 238.362,158.961 243.89,155.276 249.417,158.961 254.945,155.276 260.472,151.591 \n",
       "  266,147.906 271.528,151.591 277.055,155.276 282.583,158.961 288.11,162.646 293.638,166.331 299.165,170.016 304.693,173.701 310.22,170.016 315.748,166.331 \n",
       "  \n",
       "  \"/>\n",
       "<polyline clip-path=\"url(#clip02)\" style=\"stroke:#f05f73; stroke-width:1; stroke-opacity:1; fill:none\" points=\"\n",
       "  44.8976,192.126 50.4252,195.811 55.9528,199.496 61.4803,203.181 67.0079,206.866 72.5354,210.551 78.063,214.236 83.5906,210.551 89.1181,214.236 94.6457,210.551 \n",
       "  100.173,206.866 105.701,210.551 111.228,214.236 116.756,217.921 122.283,221.606 127.811,217.921 133.339,214.236 138.866,217.921 144.394,214.236 149.921,210.551 \n",
       "  155.449,214.236 160.976,210.551 166.504,214.236 172.031,210.551 177.559,214.236 183.087,210.551 188.614,214.236 194.142,217.921 199.669,214.236 205.197,210.551 \n",
       "  210.724,206.866 216.252,210.551 221.78,206.866 227.307,203.181 232.835,206.866 238.362,203.181 243.89,206.866 249.417,203.181 254.945,206.866 260.472,210.551 \n",
       "  266,214.236 271.528,210.551 277.055,214.236 282.583,217.921 288.11,214.236 293.638,210.551 299.165,214.236 304.693,217.921 310.22,221.606 315.748,217.921 \n",
       "  \n",
       "  \"/>\n",
       "<polyline clip-path=\"url(#clip02)\" style=\"stroke:#dd64b5; stroke-width:1; stroke-opacity:1; fill:none\" points=\"\n",
       "  44.8976,192.126 50.4252,188.441 55.9528,192.126 61.4803,188.441 67.0079,192.126 72.5354,195.811 78.063,192.126 83.5906,188.441 89.1181,184.756 94.6457,181.071 \n",
       "  100.173,184.756 105.701,181.071 111.228,177.386 116.756,173.701 122.283,177.386 127.811,181.071 133.339,177.386 138.866,181.071 144.394,177.386 149.921,173.701 \n",
       "  155.449,170.016 160.976,173.701 166.504,177.386 172.031,181.071 177.559,184.756 183.087,181.071 188.614,177.386 194.142,173.701 199.669,170.016 205.197,173.701 \n",
       "  210.724,170.016 216.252,173.701 221.78,177.386 227.307,181.071 232.835,177.386 238.362,173.701 243.89,177.386 249.417,181.071 254.945,184.756 260.472,181.071 \n",
       "  266,184.756 271.528,188.441 277.055,192.126 282.583,195.811 288.11,199.496 293.638,203.181 299.165,206.866 304.693,203.181 310.22,199.496 315.748,195.811 \n",
       "  \n",
       "  \"/>\n",
       "<polyline clip-path=\"url(#clip02)\" style=\"stroke:#6b9e32; stroke-width:1; stroke-opacity:1; fill:none\" points=\"\n",
       "  44.8976,192.126 50.4252,195.811 55.9528,192.126 61.4803,195.811 67.0079,192.126 72.5354,195.811 78.063,192.126 83.5906,188.441 89.1181,184.756 94.6457,181.071 \n",
       "  100.173,177.386 105.701,181.071 111.228,177.386 116.756,173.701 122.283,170.016 127.811,166.331 133.339,162.646 138.866,166.331 144.394,170.016 149.921,173.701 \n",
       "  155.449,170.016 160.976,166.331 166.504,162.646 172.031,166.331 177.559,170.016 183.087,173.701 188.614,170.016 194.142,166.331 199.669,170.016 205.197,173.701 \n",
       "  210.724,170.016 216.252,166.331 221.78,162.646 227.307,158.961 232.835,162.646 238.362,158.961 243.89,162.646 249.417,158.961 254.945,162.646 260.472,158.961 \n",
       "  266,162.646 271.528,158.961 277.055,162.646 282.583,158.961 288.11,155.276 293.638,158.961 299.165,162.646 304.693,166.331 310.22,170.016 315.748,166.331 \n",
       "  \n",
       "  \"/>\n",
       "<polyline clip-path=\"url(#clip02)\" style=\"stroke:#718c69; stroke-width:1; stroke-opacity:1; fill:none\" points=\"\n",
       "  44.8976,192.126 50.4252,195.811 55.9528,192.126 61.4803,195.811 67.0079,199.496 72.5354,195.811 78.063,199.496 83.5906,195.811 89.1181,192.126 94.6457,195.811 \n",
       "  100.173,199.496 105.701,203.181 111.228,199.496 116.756,203.181 122.283,206.866 127.811,210.551 133.339,214.236 138.866,217.921 144.394,221.606 149.921,217.921 \n",
       "  155.449,214.236 160.976,210.551 166.504,214.236 172.031,217.921 177.559,221.606 183.087,217.921 188.614,214.236 194.142,210.551 199.669,214.236 205.197,217.921 \n",
       "  210.724,221.606 216.252,217.921 221.78,221.606 227.307,217.921 232.835,214.236 238.362,217.921 243.89,214.236 249.417,217.921 254.945,214.236 260.472,210.551 \n",
       "  266,206.866 271.528,210.551 277.055,206.866 282.583,210.551 288.11,206.866 293.638,210.551 299.165,214.236 304.693,210.551 310.22,206.866 315.748,210.551 \n",
       "  \n",
       "  \"/>\n",
       "<polyline clip-path=\"url(#clip02)\" style=\"stroke:#47988b; stroke-width:1; stroke-opacity:1; fill:none\" points=\"\n",
       "  44.8976,192.126 50.4252,188.441 55.9528,192.126 61.4803,195.811 67.0079,192.126 72.5354,188.441 78.063,192.126 83.5906,195.811 89.1181,199.496 94.6457,203.181 \n",
       "  100.173,199.496 105.701,195.811 111.228,199.496 116.756,195.811 122.283,192.126 127.811,188.441 133.339,192.126 138.866,195.811 144.394,192.126 149.921,195.811 \n",
       "  155.449,199.496 160.976,203.181 166.504,199.496 172.031,195.811 177.559,199.496 183.087,203.181 188.614,199.496 194.142,195.811 199.669,192.126 205.197,195.811 \n",
       "  210.724,199.496 216.252,195.811 221.78,192.126 227.307,188.441 232.835,192.126 238.362,188.441 243.89,192.126 249.417,195.811 254.945,199.496 260.472,195.811 \n",
       "  266,192.126 271.528,188.441 277.055,184.756 282.583,181.071 288.11,184.756 293.638,181.071 299.165,177.386 304.693,173.701 310.22,170.016 315.748,173.701 \n",
       "  \n",
       "  \"/>\n",
       "<polyline clip-path=\"url(#clip02)\" style=\"stroke:#1ea68c; stroke-width:1; stroke-opacity:1; fill:none\" points=\"\n",
       "  44.8976,192.126 50.4252,188.441 55.9528,192.126 61.4803,195.811 67.0079,192.126 72.5354,188.441 78.063,184.756 83.5906,181.071 89.1181,177.386 94.6457,181.071 \n",
       "  100.173,184.756 105.701,188.441 111.228,192.126 116.756,188.441 122.283,192.126 127.811,195.811 133.339,199.496 138.866,203.181 144.394,206.866 149.921,203.181 \n",
       "  155.449,206.866 160.976,203.181 166.504,199.496 172.031,195.811 177.559,199.496 183.087,195.811 188.614,199.496 194.142,195.811 199.669,192.126 205.197,188.441 \n",
       "  210.724,192.126 216.252,195.811 221.78,199.496 227.307,195.811 232.835,199.496 238.362,195.811 243.89,199.496 249.417,203.181 254.945,199.496 260.472,203.181 \n",
       "  266,206.866 271.528,203.181 277.055,199.496 282.583,195.811 288.11,199.496 293.638,195.811 299.165,192.126 304.693,188.441 310.22,184.756 315.748,188.441 \n",
       "  \n",
       "  \"/>\n",
       "<polyline clip-path=\"url(#clip02)\" style=\"stroke:#af78dd; stroke-width:1; stroke-opacity:1; fill:none\" points=\"\n",
       "  44.8976,192.126 50.4252,195.811 55.9528,199.496 61.4803,195.811 67.0079,192.126 72.5354,195.811 78.063,199.496 83.5906,203.181 89.1181,206.866 94.6457,203.181 \n",
       "  100.173,206.866 105.701,203.181 111.228,206.866 116.756,210.551 122.283,206.866 127.811,210.551 133.339,206.866 138.866,203.181 144.394,199.496 149.921,195.811 \n",
       "  155.449,192.126 160.976,188.441 166.504,192.126 172.031,188.441 177.559,184.756 183.087,188.441 188.614,192.126 194.142,188.441 199.669,192.126 205.197,195.811 \n",
       "  210.724,199.496 216.252,195.811 221.78,192.126 227.307,188.441 232.835,192.126 238.362,195.811 243.89,199.496 249.417,195.811 254.945,192.126 260.472,195.811 \n",
       "  266,199.496 271.528,203.181 277.055,199.496 282.583,195.811 288.11,199.496 293.638,203.181 299.165,206.866 304.693,203.181 310.22,199.496 315.748,203.181 \n",
       "  \n",
       "  \"/>\n",
       "<polyline clip-path=\"url(#clip02)\" style=\"stroke:#868d87; stroke-width:1; stroke-opacity:1; fill:none\" points=\"\n",
       "  44.8976,192.126 50.4252,195.811 55.9528,192.126 61.4803,188.441 67.0079,184.756 72.5354,188.441 78.063,192.126 83.5906,188.441 89.1181,184.756 94.6457,181.071 \n",
       "  100.173,184.756 105.701,188.441 111.228,184.756 116.756,188.441 122.283,192.126 127.811,188.441 133.339,192.126 138.866,188.441 144.394,184.756 149.921,188.441 \n",
       "  155.449,192.126 160.976,188.441 166.504,184.756 172.031,188.441 177.559,192.126 183.087,188.441 188.614,184.756 194.142,181.071 199.669,177.386 205.197,181.071 \n",
       "  210.724,177.386 216.252,173.701 221.78,170.016 227.307,166.331 232.835,170.016 238.362,166.331 243.89,170.016 249.417,173.701 254.945,177.386 260.472,173.701 \n",
       "  266,170.016 271.528,166.331 277.055,162.646 282.583,158.961 288.11,155.276 293.638,158.961 299.165,155.276 304.693,151.591 310.22,155.276 315.748,158.961 \n",
       "  \n",
       "  \"/>\n",
       "<polyline clip-path=\"url(#clip02)\" style=\"stroke:#47a065; stroke-width:1; stroke-opacity:1; fill:none\" points=\"\n",
       "  44.8976,192.126 50.4252,188.441 55.9528,192.126 61.4803,188.441 67.0079,192.126 72.5354,188.441 78.063,184.756 83.5906,181.071 89.1181,177.386 94.6457,173.701 \n",
       "  100.173,177.386 105.701,181.071 111.228,177.386 116.756,173.701 122.283,177.386 127.811,173.701 133.339,170.016 138.866,166.331 144.394,170.016 149.921,173.701 \n",
       "  155.449,177.386 160.976,173.701 166.504,170.016 172.031,173.701 177.559,170.016 183.087,173.701 188.614,177.386 194.142,181.071 199.669,177.386 205.197,181.071 \n",
       "  210.724,177.386 216.252,181.071 221.78,177.386 227.307,173.701 232.835,170.016 238.362,166.331 243.89,170.016 249.417,166.331 254.945,162.646 260.472,158.961 \n",
       "  266,162.646 271.528,166.331 277.055,162.646 282.583,158.961 288.11,155.276 293.638,158.961 299.165,162.646 304.693,166.331 310.22,170.016 315.748,166.331 \n",
       "  \n",
       "  \"/>\n",
       "<polyline clip-path=\"url(#clip02)\" style=\"stroke:#7683af; stroke-width:1; stroke-opacity:1; fill:none\" points=\"\n",
       "  44.8976,192.126 50.4252,195.811 55.9528,199.496 61.4803,203.181 67.0079,206.866 72.5354,210.551 78.063,214.236 83.5906,210.551 89.1181,206.866 94.6457,210.551 \n",
       "  100.173,206.866 105.701,203.181 111.228,199.496 116.756,195.811 122.283,199.496 127.811,195.811 133.339,192.126 138.866,188.441 144.394,192.126 149.921,195.811 \n",
       "  155.449,199.496 160.976,203.181 166.504,199.496 172.031,203.181 177.559,206.866 183.087,203.181 188.614,199.496 194.142,203.181 199.669,206.866 205.197,210.551 \n",
       "  210.724,214.236 216.252,210.551 221.78,214.236 227.307,210.551 232.835,214.236 238.362,217.921 243.89,221.606 249.417,225.291 254.945,228.976 260.472,225.291 \n",
       "  266,221.606 271.528,225.291 277.055,221.606 282.583,225.291 288.11,221.606 293.638,225.291 299.165,228.976 304.693,232.661 310.22,236.346 315.748,240.031 \n",
       "  \n",
       "  \"/>\n",
       "<polyline clip-path=\"url(#clip02)\" style=\"stroke:#b08086; stroke-width:1; stroke-opacity:1; fill:none\" points=\"\n",
       "  44.8976,192.126 50.4252,195.811 55.9528,192.126 61.4803,195.811 67.0079,192.126 72.5354,195.811 78.063,199.496 83.5906,203.181 89.1181,199.496 94.6457,195.811 \n",
       "  100.173,192.126 105.701,195.811 111.228,192.126 116.756,188.441 122.283,184.756 127.811,188.441 133.339,184.756 138.866,181.071 144.394,184.756 149.921,181.071 \n",
       "  155.449,177.386 160.976,173.701 166.504,170.016 172.031,173.701 177.559,177.386 183.087,173.701 188.614,177.386 194.142,173.701 199.669,177.386 205.197,173.701 \n",
       "  210.724,170.016 216.252,173.701 221.78,170.016 227.307,173.701 232.835,177.386 238.362,181.071 243.89,177.386 249.417,181.071 254.945,184.756 260.472,181.071 \n",
       "  266,184.756 271.528,181.071 277.055,184.756 282.583,181.071 288.11,177.386 293.638,173.701 299.165,170.016 304.693,173.701 310.22,177.386 315.748,181.071 \n",
       "  \n",
       "  \"/>\n",
       "<polyline clip-path=\"url(#clip02)\" style=\"stroke:#309ac1; stroke-width:1; stroke-opacity:1; fill:none\" points=\"\n",
       "  44.8976,192.126 50.4252,195.811 55.9528,192.126 61.4803,195.811 67.0079,199.496 72.5354,195.811 78.063,192.126 83.5906,188.441 89.1181,192.126 94.6457,195.811 \n",
       "  100.173,192.126 105.701,188.441 111.228,192.126 116.756,195.811 122.283,192.126 127.811,188.441 133.339,192.126 138.866,195.811 144.394,199.496 149.921,203.181 \n",
       "  155.449,206.866 160.976,203.181 166.504,206.866 172.031,210.551 177.559,214.236 183.087,210.551 188.614,214.236 194.142,210.551 199.669,206.866 205.197,210.551 \n",
       "  210.724,214.236 216.252,210.551 221.78,214.236 227.307,217.921 232.835,221.606 238.362,225.291 243.89,221.606 249.417,225.291 254.945,228.976 260.472,232.661 \n",
       "  266,236.346 271.528,240.031 277.055,236.346 282.583,240.031 288.11,243.717 293.638,247.402 299.165,243.717 304.693,247.402 310.22,251.087 315.748,254.772 \n",
       "  \n",
       "  \"/>\n",
       "<polyline clip-path=\"url(#clip02)\" style=\"stroke:#788490; stroke-width:1; stroke-opacity:1; fill:none\" points=\"\n",
       "  44.8976,192.126 50.4252,195.811 55.9528,192.126 61.4803,195.811 67.0079,199.496 72.5354,203.181 78.063,199.496 83.5906,195.811 89.1181,199.496 94.6457,195.811 \n",
       "  100.173,199.496 105.701,203.181 111.228,206.866 116.756,203.181 122.283,199.496 127.811,203.181 133.339,199.496 138.866,195.811 144.394,192.126 149.921,195.811 \n",
       "  155.449,192.126 160.976,188.441 166.504,192.126 172.031,188.441 177.559,184.756 183.087,188.441 188.614,192.126 194.142,195.811 199.669,192.126 205.197,195.811 \n",
       "  210.724,199.496 216.252,203.181 221.78,206.866 227.307,203.181 232.835,206.866 238.362,203.181 243.89,206.866 249.417,210.551 254.945,214.236 260.472,210.551 \n",
       "  266,206.866 271.528,203.181 277.055,199.496 282.583,195.811 288.11,192.126 293.638,195.811 299.165,199.496 304.693,203.181 310.22,199.496 315.748,195.811 \n",
       "  \n",
       "  \"/>\n",
       "<polyline clip-path=\"url(#clip02)\" style=\"stroke:#e561a4; stroke-width:1; stroke-opacity:1; fill:none\" points=\"\n",
       "  44.8976,192.126 50.4252,188.441 55.9528,184.756 61.4803,188.441 67.0079,192.126 72.5354,188.441 78.063,184.756 83.5906,188.441 89.1181,192.126 94.6457,195.811 \n",
       "  100.173,192.126 105.701,188.441 111.228,192.126 116.756,195.811 122.283,199.496 127.811,195.811 133.339,199.496 138.866,195.811 144.394,192.126 149.921,195.811 \n",
       "  155.449,199.496 160.976,195.811 166.504,199.496 172.031,195.811 177.559,199.496 183.087,195.811 188.614,199.496 194.142,203.181 199.669,206.866 205.197,203.181 \n",
       "  210.724,206.866 216.252,210.551 221.78,214.236 227.307,210.551 232.835,214.236 238.362,210.551 243.89,214.236 249.417,210.551 254.945,206.866 260.472,210.551 \n",
       "  266,206.866 271.528,203.181 277.055,206.866 282.583,203.181 288.11,199.496 293.638,203.181 299.165,206.866 304.693,210.551 310.22,206.866 315.748,203.181 \n",
       "  \n",
       "  \"/>\n",
       "<polyline clip-path=\"url(#clip02)\" style=\"stroke:#99902c; stroke-width:1; stroke-opacity:1; fill:none\" points=\"\n",
       "  44.8976,192.126 50.4252,195.811 55.9528,192.126 61.4803,195.811 67.0079,192.126 72.5354,195.811 78.063,199.496 83.5906,203.181 89.1181,206.866 94.6457,203.181 \n",
       "  100.173,199.496 105.701,203.181 111.228,199.496 116.756,203.181 122.283,199.496 127.811,203.181 133.339,206.866 138.866,203.181 144.394,199.496 149.921,203.181 \n",
       "  155.449,199.496 160.976,203.181 166.504,199.496 172.031,195.811 177.559,199.496 183.087,195.811 188.614,199.496 194.142,203.181 199.669,199.496 205.197,195.811 \n",
       "  210.724,192.126 216.252,195.811 221.78,192.126 227.307,195.811 232.835,192.126 238.362,188.441 243.89,192.126 249.417,195.811 254.945,192.126 260.472,188.441 \n",
       "  266,184.756 271.528,181.071 277.055,184.756 282.583,181.071 288.11,177.386 293.638,173.701 299.165,177.386 304.693,173.701 310.22,170.016 315.748,166.331 \n",
       "  \n",
       "  \"/>\n",
       "<polyline clip-path=\"url(#clip02)\" style=\"stroke:#389a7b; stroke-width:1; stroke-opacity:1; fill:none\" points=\"\n",
       "  44.8976,192.126 50.4252,188.441 55.9528,184.756 61.4803,188.441 67.0079,192.126 72.5354,188.441 78.063,192.126 83.5906,188.441 89.1181,184.756 94.6457,181.071 \n",
       "  100.173,184.756 105.701,188.441 111.228,184.756 116.756,188.441 122.283,184.756 127.811,181.071 133.339,177.386 138.866,173.701 144.394,177.386 149.921,181.071 \n",
       "  155.449,177.386 160.976,173.701 166.504,170.016 172.031,166.331 177.559,170.016 183.087,166.331 188.614,162.646 194.142,158.961 199.669,155.276 205.197,158.961 \n",
       "  210.724,155.276 216.252,158.961 221.78,162.646 227.307,158.961 232.835,162.646 238.362,158.961 243.89,162.646 249.417,158.961 254.945,155.276 260.472,158.961 \n",
       "  266,155.276 271.528,158.961 277.055,162.646 282.583,166.331 288.11,170.016 293.638,173.701 299.165,170.016 304.693,166.331 310.22,162.646 315.748,158.961 \n",
       "  \n",
       "  \"/>\n",
       "<polyline clip-path=\"url(#clip02)\" style=\"stroke:#d968a2; stroke-width:1; stroke-opacity:1; fill:none\" points=\"\n",
       "  44.8976,192.126 50.4252,188.441 55.9528,192.126 61.4803,195.811 67.0079,199.496 72.5354,203.181 78.063,206.866 83.5906,203.181 89.1181,199.496 94.6457,195.811 \n",
       "  100.173,199.496 105.701,203.181 111.228,199.496 116.756,203.181 122.283,199.496 127.811,195.811 133.339,199.496 138.866,203.181 144.394,199.496 149.921,203.181 \n",
       "  155.449,206.866 160.976,210.551 166.504,206.866 172.031,210.551 177.559,214.236 183.087,210.551 188.614,214.236 194.142,210.551 199.669,206.866 205.197,210.551 \n",
       "  210.724,214.236 216.252,210.551 221.78,206.866 227.307,203.181 232.835,199.496 238.362,195.811 243.89,199.496 249.417,203.181 254.945,199.496 260.472,203.181 \n",
       "  266,206.866 271.528,210.551 277.055,206.866 282.583,210.551 288.11,214.236 293.638,210.551 299.165,214.236 304.693,217.921 310.22,221.606 315.748,225.291 \n",
       "  \n",
       "  \"/>\n",
       "<polyline clip-path=\"url(#clip02)\" style=\"stroke:#009af9; stroke-width:1; stroke-opacity:1; fill:none\" points=\"\n",
       "  44.8976,192.126 50.4252,195.811 55.9528,199.496 61.4803,195.811 67.0079,199.496 72.5354,195.811 78.063,192.126 83.5906,188.441 89.1181,184.756 94.6457,188.441 \n",
       "  100.173,184.756 105.701,188.441 111.228,192.126 116.756,188.441 122.283,192.126 127.811,195.811 133.339,192.126 138.866,188.441 144.394,192.126 149.921,195.811 \n",
       "  155.449,199.496 160.976,203.181 166.504,199.496 172.031,195.811 177.559,199.496 183.087,203.181 188.614,206.866 194.142,203.181 199.669,206.866 205.197,203.181 \n",
       "  210.724,206.866 216.252,210.551 221.78,214.236 227.307,217.921 232.835,214.236 238.362,217.921 243.89,214.236 249.417,210.551 254.945,206.866 260.472,203.181 \n",
       "  266,206.866 271.528,210.551 277.055,214.236 282.583,217.921 288.11,214.236 293.638,217.921 299.165,221.606 304.693,225.291 310.22,228.976 315.748,232.661 \n",
       "  \n",
       "  \"/>\n",
       "<polyline clip-path=\"url(#clip02)\" style=\"stroke:#e26f46; stroke-width:1; stroke-opacity:1; fill:none\" points=\"\n",
       "  44.8976,192.126 50.4252,195.811 55.9528,192.126 61.4803,188.441 67.0079,184.756 72.5354,188.441 78.063,192.126 83.5906,188.441 89.1181,184.756 94.6457,181.071 \n",
       "  100.173,177.386 105.701,181.071 111.228,184.756 116.756,188.441 122.283,192.126 127.811,195.811 133.339,192.126 138.866,188.441 144.394,192.126 149.921,195.811 \n",
       "  155.449,199.496 160.976,203.181 166.504,199.496 172.031,195.811 177.559,192.126 183.087,188.441 188.614,192.126 194.142,195.811 199.669,199.496 205.197,203.181 \n",
       "  210.724,199.496 216.252,195.811 221.78,199.496 227.307,203.181 232.835,199.496 238.362,203.181 243.89,206.866 249.417,210.551 254.945,214.236 260.472,210.551 \n",
       "  266,214.236 271.528,210.551 277.055,206.866 282.583,203.181 288.11,206.866 293.638,203.181 299.165,206.866 304.693,203.181 310.22,199.496 315.748,195.811 \n",
       "  \n",
       "  \"/>\n",
       "<polyline clip-path=\"url(#clip02)\" style=\"stroke:#3da44d; stroke-width:1; stroke-opacity:1; fill:none\" points=\"\n",
       "  44.8976,192.126 50.4252,195.811 55.9528,199.496 61.4803,195.811 67.0079,199.496 72.5354,203.181 78.063,206.866 83.5906,203.181 89.1181,199.496 94.6457,195.811 \n",
       "  100.173,192.126 105.701,188.441 111.228,192.126 116.756,188.441 122.283,192.126 127.811,195.811 133.339,192.126 138.866,188.441 144.394,192.126 149.921,195.811 \n",
       "  155.449,199.496 160.976,203.181 166.504,199.496 172.031,203.181 177.559,199.496 183.087,195.811 188.614,199.496 194.142,203.181 199.669,199.496 205.197,203.181 \n",
       "  210.724,206.866 216.252,203.181 221.78,206.866 227.307,203.181 232.835,206.866 238.362,210.551 243.89,206.866 249.417,203.181 254.945,199.496 260.472,195.811 \n",
       "  266,199.496 271.528,195.811 277.055,199.496 282.583,195.811 288.11,192.126 293.638,195.811 299.165,192.126 304.693,188.441 310.22,184.756 315.748,181.071 \n",
       "  \n",
       "  \"/>\n",
       "<polyline clip-path=\"url(#clip02)\" style=\"stroke:#c271d2; stroke-width:1; stroke-opacity:1; fill:none\" points=\"\n",
       "  44.8976,192.126 50.4252,195.811 55.9528,192.126 61.4803,188.441 67.0079,184.756 72.5354,188.441 78.063,184.756 83.5906,181.071 89.1181,177.386 94.6457,181.071 \n",
       "  100.173,177.386 105.701,181.071 111.228,177.386 116.756,173.701 122.283,177.386 127.811,181.071 133.339,177.386 138.866,181.071 144.394,177.386 149.921,173.701 \n",
       "  155.449,170.016 160.976,166.331 166.504,162.646 172.031,158.961 177.559,162.646 183.087,166.331 188.614,170.016 194.142,166.331 199.669,162.646 205.197,166.331 \n",
       "  210.724,162.646 216.252,166.331 221.78,162.646 227.307,158.961 232.835,162.646 238.362,158.961 243.89,162.646 249.417,158.961 254.945,162.646 260.472,158.961 \n",
       "  266,162.646 271.528,166.331 277.055,170.016 282.583,166.331 288.11,170.016 293.638,166.331 299.165,170.016 304.693,173.701 310.22,177.386 315.748,173.701 \n",
       "  \n",
       "  \"/>\n",
       "<polyline clip-path=\"url(#clip02)\" style=\"stroke:#ac8d18; stroke-width:1; stroke-opacity:1; fill:none\" points=\"\n",
       "  44.8976,192.126 50.4252,195.811 55.9528,199.496 61.4803,195.811 67.0079,192.126 72.5354,188.441 78.063,184.756 83.5906,181.071 89.1181,177.386 94.6457,173.701 \n",
       "  100.173,177.386 105.701,181.071 111.228,177.386 116.756,173.701 122.283,170.016 127.811,166.331 133.339,170.016 138.866,173.701 144.394,177.386 149.921,173.701 \n",
       "  155.449,177.386 160.976,181.071 166.504,177.386 172.031,173.701 177.559,170.016 183.087,166.331 188.614,162.646 194.142,158.961 199.669,162.646 205.197,166.331 \n",
       "  210.724,162.646 216.252,166.331 221.78,162.646 227.307,158.961 232.835,155.276 238.362,158.961 243.89,155.276 249.417,151.591 254.945,155.276 260.472,158.961 \n",
       "  266,162.646 271.528,158.961 277.055,162.646 282.583,166.331 288.11,170.016 293.638,166.331 299.165,170.016 304.693,173.701 310.22,177.386 315.748,173.701 \n",
       "  \n",
       "  \"/>\n",
       "<polyline clip-path=\"url(#clip02)\" style=\"stroke:#00a9ad; stroke-width:1; stroke-opacity:1; fill:none\" points=\"\n",
       "  44.8976,192.126 50.4252,188.441 55.9528,192.126 61.4803,195.811 67.0079,192.126 72.5354,188.441 78.063,184.756 83.5906,188.441 89.1181,184.756 94.6457,188.441 \n",
       "  100.173,184.756 105.701,188.441 111.228,184.756 116.756,181.071 122.283,177.386 127.811,181.071 133.339,177.386 138.866,181.071 144.394,184.756 149.921,181.071 \n",
       "  155.449,177.386 160.976,173.701 166.504,177.386 172.031,181.071 177.559,177.386 183.087,173.701 188.614,170.016 194.142,173.701 199.669,177.386 205.197,181.071 \n",
       "  210.724,177.386 216.252,181.071 221.78,177.386 227.307,173.701 232.835,177.386 238.362,181.071 243.89,184.756 249.417,188.441 254.945,184.756 260.472,181.071 \n",
       "  266,177.386 271.528,173.701 277.055,177.386 282.583,181.071 288.11,177.386 293.638,181.071 299.165,184.756 304.693,188.441 310.22,184.756 315.748,181.071 \n",
       "  \n",
       "  \"/>\n",
       "<polyline clip-path=\"url(#clip02)\" style=\"stroke:#ed5d92; stroke-width:1; stroke-opacity:1; fill:none\" points=\"\n",
       "  44.8976,192.126 50.4252,195.811 55.9528,192.126 61.4803,195.811 67.0079,199.496 72.5354,195.811 78.063,199.496 83.5906,195.811 89.1181,199.496 94.6457,195.811 \n",
       "  100.173,199.496 105.701,195.811 111.228,199.496 116.756,195.811 122.283,199.496 127.811,195.811 133.339,192.126 138.866,188.441 144.394,184.756 149.921,181.071 \n",
       "  155.449,177.386 160.976,173.701 166.504,177.386 172.031,173.701 177.559,170.016 183.087,173.701 188.614,177.386 194.142,173.701 199.669,170.016 205.197,173.701 \n",
       "  210.724,177.386 216.252,173.701 221.78,170.016 227.307,173.701 232.835,177.386 238.362,181.071 243.89,177.386 249.417,173.701 254.945,170.016 260.472,173.701 \n",
       "  266,177.386 271.528,173.701 277.055,170.016 282.583,173.701 288.11,177.386 293.638,173.701 299.165,177.386 304.693,181.071 310.22,184.756 315.748,188.441 \n",
       "  \n",
       "  \"/>\n",
       "<polyline clip-path=\"url(#clip02)\" style=\"stroke:#c68125; stroke-width:1; stroke-opacity:1; fill:none\" points=\"\n",
       "  44.8976,192.126 50.4252,195.811 55.9528,192.126 61.4803,195.811 67.0079,192.126 72.5354,195.811 78.063,192.126 83.5906,195.811 89.1181,192.126 94.6457,195.811 \n",
       "  100.173,192.126 105.701,195.811 111.228,192.126 116.756,195.811 122.283,192.126 127.811,195.811 133.339,199.496 138.866,203.181 144.394,206.866 149.921,203.181 \n",
       "  155.449,199.496 160.976,203.181 166.504,206.866 172.031,203.181 177.559,199.496 183.087,195.811 188.614,192.126 194.142,188.441 199.669,184.756 205.197,188.441 \n",
       "  210.724,192.126 216.252,188.441 221.78,184.756 227.307,188.441 232.835,192.126 238.362,195.811 243.89,192.126 249.417,188.441 254.945,184.756 260.472,188.441 \n",
       "  266,184.756 271.528,181.071 277.055,184.756 282.583,188.441 288.11,192.126 293.638,195.811 299.165,192.126 304.693,195.811 310.22,192.126 315.748,195.811 \n",
       "  \n",
       "  \"/>\n",
       "<polyline clip-path=\"url(#clip02)\" style=\"stroke:#00a98d; stroke-width:1; stroke-opacity:1; fill:none\" points=\"\n",
       "  44.8976,192.126 50.4252,195.811 55.9528,199.496 61.4803,195.811 67.0079,199.496 72.5354,195.811 78.063,192.126 83.5906,188.441 89.1181,184.756 94.6457,181.071 \n",
       "  100.173,184.756 105.701,188.441 111.228,192.126 116.756,188.441 122.283,192.126 127.811,195.811 133.339,192.126 138.866,188.441 144.394,192.126 149.921,195.811 \n",
       "  155.449,192.126 160.976,188.441 166.504,192.126 172.031,188.441 177.559,192.126 183.087,188.441 188.614,184.756 194.142,188.441 199.669,184.756 205.197,181.071 \n",
       "  210.724,177.386 216.252,173.701 221.78,177.386 227.307,181.071 232.835,177.386 238.362,181.071 243.89,184.756 249.417,181.071 254.945,184.756 260.472,188.441 \n",
       "  266,192.126 271.528,195.811 277.055,199.496 282.583,195.811 288.11,199.496 293.638,203.181 299.165,206.866 304.693,210.551 310.22,214.236 315.748,210.551 \n",
       "  \n",
       "  \"/>\n",
       "<polyline clip-path=\"url(#clip02)\" style=\"stroke:#8e971d; stroke-width:1; stroke-opacity:1; fill:none\" points=\"\n",
       "  44.8976,192.126 50.4252,195.811 55.9528,199.496 61.4803,203.181 67.0079,206.866 72.5354,203.181 78.063,199.496 83.5906,195.811 89.1181,192.126 94.6457,188.441 \n",
       "  100.173,192.126 105.701,188.441 111.228,192.126 116.756,188.441 122.283,192.126 127.811,188.441 133.339,184.756 138.866,188.441 144.394,192.126 149.921,188.441 \n",
       "  155.449,184.756 160.976,181.071 166.504,184.756 172.031,181.071 177.559,184.756 183.087,181.071 188.614,184.756 194.142,181.071 199.669,177.386 205.197,173.701 \n",
       "  210.724,170.016 216.252,173.701 221.78,170.016 227.307,166.331 232.835,162.646 238.362,158.961 243.89,155.276 249.417,151.591 254.945,155.276 260.472,158.961 \n",
       "  266,162.646 271.528,158.961 277.055,155.276 282.583,158.961 288.11,162.646 293.638,158.961 299.165,155.276 304.693,158.961 310.22,155.276 315.748,151.591 \n",
       "  \n",
       "  \"/>\n",
       "<polyline clip-path=\"url(#clip02)\" style=\"stroke:#00a8cb; stroke-width:1; stroke-opacity:1; fill:none\" points=\"\n",
       "  44.8976,192.126 50.4252,188.441 55.9528,184.756 61.4803,181.071 67.0079,177.386 72.5354,181.071 78.063,177.386 83.5906,173.701 89.1181,177.386 94.6457,181.071 \n",
       "  100.173,177.386 105.701,181.071 111.228,184.756 116.756,181.071 122.283,177.386 127.811,181.071 133.339,184.756 138.866,181.071 144.394,184.756 149.921,181.071 \n",
       "  155.449,177.386 160.976,181.071 166.504,177.386 172.031,181.071 177.559,177.386 183.087,181.071 188.614,177.386 194.142,173.701 199.669,170.016 205.197,166.331 \n",
       "  210.724,162.646 216.252,166.331 221.78,162.646 227.307,158.961 232.835,155.276 238.362,151.591 243.89,155.276 249.417,158.961 254.945,162.646 260.472,166.331 \n",
       "  266,162.646 271.528,158.961 277.055,162.646 282.583,166.331 288.11,162.646 293.638,158.961 299.165,162.646 304.693,158.961 310.22,155.276 315.748,158.961 \n",
       "  \n",
       "  \"/>\n",
       "<polyline clip-path=\"url(#clip02)\" style=\"stroke:#9b7fe8; stroke-width:1; stroke-opacity:1; fill:none\" points=\"\n",
       "  44.8976,192.126 50.4252,188.441 55.9528,184.756 61.4803,188.441 67.0079,192.126 72.5354,188.441 78.063,184.756 83.5906,181.071 89.1181,177.386 94.6457,173.701 \n",
       "  100.173,177.386 105.701,173.701 111.228,177.386 116.756,181.071 122.283,184.756 127.811,188.441 133.339,192.126 138.866,188.441 144.394,192.126 149.921,195.811 \n",
       "  155.449,192.126 160.976,188.441 166.504,184.756 172.031,188.441 177.559,192.126 183.087,188.441 188.614,184.756 194.142,181.071 199.669,184.756 205.197,181.071 \n",
       "  210.724,177.386 216.252,181.071 221.78,184.756 227.307,188.441 232.835,184.756 238.362,181.071 243.89,184.756 249.417,181.071 254.945,184.756 260.472,188.441 \n",
       "  266,192.126 271.528,195.811 277.055,199.496 282.583,203.181 288.11,199.496 293.638,203.181 299.165,199.496 304.693,203.181 310.22,206.866 315.748,210.551 \n",
       "  \n",
       "  \"/>\n",
       "<polyline clip-path=\"url(#clip02)\" style=\"stroke:#608cf6; stroke-width:1; stroke-opacity:1; fill:none\" points=\"\n",
       "  44.8976,192.126 50.4252,195.811 55.9528,199.496 61.4803,203.181 67.0079,206.866 72.5354,210.551 78.063,206.866 83.5906,210.551 89.1181,206.866 94.6457,210.551 \n",
       "  100.173,206.866 105.701,210.551 111.228,214.236 116.756,210.551 122.283,206.866 127.811,210.551 133.339,206.866 138.866,210.551 144.394,214.236 149.921,217.921 \n",
       "  155.449,221.606 160.976,225.291 166.504,228.976 172.031,225.291 177.559,228.976 183.087,232.661 188.614,236.346 194.142,232.661 199.669,228.976 205.197,232.661 \n",
       "  210.724,228.976 216.252,225.291 221.78,221.606 227.307,217.921 232.835,221.606 238.362,217.921 243.89,214.236 249.417,210.551 254.945,214.236 260.472,210.551 \n",
       "  266,214.236 271.528,210.551 277.055,214.236 282.583,217.921 288.11,214.236 293.638,217.921 299.165,221.606 304.693,217.921 310.22,214.236 315.748,217.921 \n",
       "  \n",
       "  \"/>\n",
       "<polyline clip-path=\"url(#clip02)\" style=\"stroke:#f05f73; stroke-width:1; stroke-opacity:1; fill:none\" points=\"\n",
       "  44.8976,192.126 50.4252,195.811 55.9528,192.126 61.4803,188.441 67.0079,192.126 72.5354,188.441 78.063,192.126 83.5906,195.811 89.1181,192.126 94.6457,188.441 \n",
       "  100.173,184.756 105.701,188.441 111.228,192.126 116.756,195.811 122.283,199.496 127.811,195.811 133.339,192.126 138.866,195.811 144.394,199.496 149.921,195.811 \n",
       "  155.449,192.126 160.976,195.811 166.504,199.496 172.031,203.181 177.559,206.866 183.087,203.181 188.614,199.496 194.142,203.181 199.669,199.496 205.197,195.811 \n",
       "  210.724,199.496 216.252,195.811 221.78,192.126 227.307,188.441 232.835,184.756 238.362,188.441 243.89,184.756 249.417,188.441 254.945,184.756 260.472,188.441 \n",
       "  266,184.756 271.528,188.441 277.055,192.126 282.583,188.441 288.11,192.126 293.638,188.441 299.165,184.756 304.693,188.441 310.22,184.756 315.748,188.441 \n",
       "  \n",
       "  \"/>\n",
       "<polyline clip-path=\"url(#clip02)\" style=\"stroke:#dd64b5; stroke-width:1; stroke-opacity:1; fill:none\" points=\"\n",
       "  44.8976,192.126 50.4252,188.441 55.9528,184.756 61.4803,181.071 67.0079,184.756 72.5354,188.441 78.063,184.756 83.5906,181.071 89.1181,177.386 94.6457,173.701 \n",
       "  100.173,177.386 105.701,181.071 111.228,184.756 116.756,181.071 122.283,184.756 127.811,181.071 133.339,177.386 138.866,173.701 144.394,170.016 149.921,166.331 \n",
       "  155.449,162.646 160.976,158.961 166.504,155.276 172.031,158.961 177.559,162.646 183.087,166.331 188.614,170.016 194.142,173.701 199.669,177.386 205.197,173.701 \n",
       "  210.724,170.016 216.252,166.331 221.78,162.646 227.307,166.331 232.835,170.016 238.362,166.331 243.89,162.646 249.417,158.961 254.945,155.276 260.472,151.591 \n",
       "  266,155.276 271.528,151.591 277.055,155.276 282.583,158.961 288.11,162.646 293.638,158.961 299.165,162.646 304.693,166.331 310.22,170.016 315.748,173.701 \n",
       "  \n",
       "  \"/>\n",
       "<polyline clip-path=\"url(#clip02)\" style=\"stroke:#6b9e32; stroke-width:1; stroke-opacity:1; fill:none\" points=\"\n",
       "  44.8976,192.126 50.4252,195.811 55.9528,199.496 61.4803,195.811 67.0079,199.496 72.5354,195.811 78.063,199.496 83.5906,195.811 89.1181,192.126 94.6457,188.441 \n",
       "  100.173,184.756 105.701,188.441 111.228,184.756 116.756,188.441 122.283,192.126 127.811,195.811 133.339,192.126 138.866,188.441 144.394,184.756 149.921,181.071 \n",
       "  155.449,177.386 160.976,181.071 166.504,184.756 172.031,188.441 177.559,184.756 183.087,181.071 188.614,177.386 194.142,181.071 199.669,177.386 205.197,181.071 \n",
       "  210.724,184.756 216.252,181.071 221.78,177.386 227.307,173.701 232.835,170.016 238.362,173.701 243.89,170.016 249.417,173.701 254.945,170.016 260.472,173.701 \n",
       "  266,177.386 271.528,173.701 277.055,177.386 282.583,181.071 288.11,184.756 293.638,181.071 299.165,184.756 304.693,188.441 310.22,192.126 315.748,195.811 \n",
       "  \n",
       "  \"/>\n",
       "<polyline clip-path=\"url(#clip02)\" style=\"stroke:#718c69; stroke-width:1; stroke-opacity:1; fill:none\" points=\"\n",
       "  44.8976,192.126 50.4252,195.811 55.9528,192.126 61.4803,188.441 67.0079,192.126 72.5354,195.811 78.063,192.126 83.5906,195.811 89.1181,199.496 94.6457,203.181 \n",
       "  100.173,206.866 105.701,203.181 111.228,199.496 116.756,195.811 122.283,192.126 127.811,188.441 133.339,192.126 138.866,188.441 144.394,184.756 149.921,188.441 \n",
       "  155.449,184.756 160.976,181.071 166.504,177.386 172.031,173.701 177.559,170.016 183.087,166.331 188.614,170.016 194.142,166.331 199.669,162.646 205.197,158.961 \n",
       "  210.724,162.646 216.252,166.331 221.78,170.016 227.307,166.331 232.835,162.646 238.362,158.961 243.89,155.276 249.417,158.961 254.945,155.276 260.472,158.961 \n",
       "  266,155.276 271.528,158.961 277.055,155.276 282.583,158.961 288.11,162.646 293.638,158.961 299.165,162.646 304.693,158.961 310.22,162.646 315.748,158.961 \n",
       "  \n",
       "  \"/>\n",
       "<polyline clip-path=\"url(#clip02)\" style=\"stroke:#47988b; stroke-width:1; stroke-opacity:1; fill:none\" points=\"\n",
       "  44.8976,192.126 50.4252,188.441 55.9528,184.756 61.4803,181.071 67.0079,184.756 72.5354,181.071 78.063,177.386 83.5906,173.701 89.1181,170.016 94.6457,166.331 \n",
       "  100.173,162.646 105.701,158.961 111.228,162.646 116.756,158.961 122.283,155.276 127.811,151.591 133.339,147.906 138.866,144.22 144.394,147.906 149.921,144.22 \n",
       "  155.449,140.535 160.976,136.85 166.504,140.535 172.031,136.85 177.559,133.165 183.087,129.48 188.614,125.795 194.142,129.48 199.669,133.165 205.197,129.48 \n",
       "  210.724,133.165 216.252,136.85 221.78,140.535 227.307,136.85 232.835,133.165 238.362,136.85 243.89,133.165 249.417,136.85 254.945,140.535 260.472,136.85 \n",
       "  266,133.165 271.528,129.48 277.055,133.165 282.583,129.48 288.11,125.795 293.638,129.48 299.165,133.165 304.693,136.85 310.22,140.535 315.748,144.22 \n",
       "  \n",
       "  \"/>\n",
       "<polyline clip-path=\"url(#clip02)\" style=\"stroke:#1ea68c; stroke-width:1; stroke-opacity:1; fill:none\" points=\"\n",
       "  44.8976,192.126 50.4252,195.811 55.9528,199.496 61.4803,203.181 67.0079,206.866 72.5354,203.181 78.063,199.496 83.5906,203.181 89.1181,199.496 94.6457,203.181 \n",
       "  100.173,206.866 105.701,210.551 111.228,206.866 116.756,203.181 122.283,206.866 127.811,210.551 133.339,206.866 138.866,210.551 144.394,206.866 149.921,203.181 \n",
       "  155.449,199.496 160.976,195.811 166.504,192.126 172.031,188.441 177.559,192.126 183.087,188.441 188.614,192.126 194.142,195.811 199.669,192.126 205.197,188.441 \n",
       "  210.724,184.756 216.252,181.071 221.78,184.756 227.307,181.071 232.835,184.756 238.362,181.071 243.89,177.386 249.417,173.701 254.945,177.386 260.472,181.071 \n",
       "  266,184.756 271.528,181.071 277.055,177.386 282.583,181.071 288.11,184.756 293.638,181.071 299.165,177.386 304.693,181.071 310.22,177.386 315.748,173.701 \n",
       "  \n",
       "  \"/>\n",
       "<polyline clip-path=\"url(#clip02)\" style=\"stroke:#af78dd; stroke-width:1; stroke-opacity:1; fill:none\" points=\"\n",
       "  44.8976,192.126 50.4252,195.811 55.9528,192.126 61.4803,188.441 67.0079,184.756 72.5354,181.071 78.063,177.386 83.5906,181.071 89.1181,184.756 94.6457,181.071 \n",
       "  100.173,184.756 105.701,181.071 111.228,177.386 116.756,173.701 122.283,170.016 127.811,166.331 133.339,162.646 138.866,158.961 144.394,162.646 149.921,166.331 \n",
       "  155.449,170.016 160.976,166.331 166.504,170.016 172.031,166.331 177.559,162.646 183.087,166.331 188.614,162.646 194.142,166.331 199.669,162.646 205.197,166.331 \n",
       "  210.724,170.016 216.252,166.331 221.78,170.016 227.307,166.331 232.835,170.016 238.362,173.701 243.89,177.386 249.417,181.071 254.945,184.756 260.472,181.071 \n",
       "  266,177.386 271.528,173.701 277.055,170.016 282.583,173.701 288.11,177.386 293.638,173.701 299.165,177.386 304.693,181.071 310.22,184.756 315.748,188.441 \n",
       "  \n",
       "  \"/>\n",
       "<polyline clip-path=\"url(#clip02)\" style=\"stroke:#868d87; stroke-width:1; stroke-opacity:1; fill:none\" points=\"\n",
       "  44.8976,192.126 50.4252,188.441 55.9528,184.756 61.4803,181.071 67.0079,177.386 72.5354,181.071 78.063,177.386 83.5906,181.071 89.1181,184.756 94.6457,188.441 \n",
       "  100.173,192.126 105.701,195.811 111.228,199.496 116.756,203.181 122.283,199.496 127.811,203.181 133.339,206.866 138.866,210.551 144.394,206.866 149.921,203.181 \n",
       "  155.449,206.866 160.976,203.181 166.504,199.496 172.031,195.811 177.559,199.496 183.087,195.811 188.614,192.126 194.142,195.811 199.669,192.126 205.197,195.811 \n",
       "  210.724,199.496 216.252,203.181 221.78,206.866 227.307,210.551 232.835,206.866 238.362,203.181 243.89,206.866 249.417,203.181 254.945,199.496 260.472,203.181 \n",
       "  266,206.866 271.528,210.551 277.055,206.866 282.583,203.181 288.11,206.866 293.638,210.551 299.165,214.236 304.693,217.921 310.22,221.606 315.748,225.291 \n",
       "  \n",
       "  \"/>\n",
       "<polyline clip-path=\"url(#clip02)\" style=\"stroke:#47a065; stroke-width:1; stroke-opacity:1; fill:none\" points=\"\n",
       "  44.8976,192.126 50.4252,188.441 55.9528,192.126 61.4803,195.811 67.0079,192.126 72.5354,188.441 78.063,192.126 83.5906,195.811 89.1181,199.496 94.6457,195.811 \n",
       "  100.173,199.496 105.701,195.811 111.228,192.126 116.756,195.811 122.283,199.496 127.811,195.811 133.339,192.126 138.866,188.441 144.394,192.126 149.921,188.441 \n",
       "  155.449,184.756 160.976,181.071 166.504,177.386 172.031,181.071 177.559,184.756 183.087,181.071 188.614,177.386 194.142,181.071 199.669,184.756 205.197,181.071 \n",
       "  210.724,177.386 216.252,173.701 221.78,170.016 227.307,166.331 232.835,162.646 238.362,166.331 243.89,162.646 249.417,166.331 254.945,170.016 260.472,166.331 \n",
       "  266,170.016 271.528,166.331 277.055,162.646 282.583,158.961 288.11,162.646 293.638,166.331 299.165,162.646 304.693,166.331 310.22,162.646 315.748,166.331 \n",
       "  \n",
       "  \"/>\n",
       "<polyline clip-path=\"url(#clip02)\" style=\"stroke:#7683af; stroke-width:1; stroke-opacity:1; fill:none\" points=\"\n",
       "  44.8976,192.126 50.4252,195.811 55.9528,192.126 61.4803,188.441 67.0079,192.126 72.5354,188.441 78.063,192.126 83.5906,188.441 89.1181,192.126 94.6457,188.441 \n",
       "  100.173,192.126 105.701,188.441 111.228,184.756 116.756,188.441 122.283,192.126 127.811,195.811 133.339,192.126 138.866,195.811 144.394,199.496 149.921,195.811 \n",
       "  155.449,199.496 160.976,195.811 166.504,199.496 172.031,203.181 177.559,206.866 183.087,210.551 188.614,206.866 194.142,203.181 199.669,199.496 205.197,203.181 \n",
       "  210.724,199.496 216.252,195.811 221.78,199.496 227.307,195.811 232.835,192.126 238.362,195.811 243.89,192.126 249.417,195.811 254.945,199.496 260.472,195.811 \n",
       "  266,199.496 271.528,195.811 277.055,199.496 282.583,195.811 288.11,199.496 293.638,203.181 299.165,199.496 304.693,195.811 310.22,199.496 315.748,195.811 \n",
       "  \n",
       "  \"/>\n",
       "<polyline clip-path=\"url(#clip02)\" style=\"stroke:#b08086; stroke-width:1; stroke-opacity:1; fill:none\" points=\"\n",
       "  44.8976,192.126 50.4252,188.441 55.9528,192.126 61.4803,188.441 67.0079,184.756 72.5354,181.071 78.063,184.756 83.5906,188.441 89.1181,184.756 94.6457,181.071 \n",
       "  100.173,184.756 105.701,181.071 111.228,184.756 116.756,188.441 122.283,184.756 127.811,181.071 133.339,177.386 138.866,181.071 144.394,184.756 149.921,188.441 \n",
       "  155.449,192.126 160.976,195.811 166.504,192.126 172.031,188.441 177.559,192.126 183.087,195.811 188.614,199.496 194.142,195.811 199.669,199.496 205.197,195.811 \n",
       "  210.724,199.496 216.252,203.181 221.78,199.496 227.307,203.181 232.835,206.866 238.362,210.551 243.89,214.236 249.417,210.551 254.945,206.866 260.472,210.551 \n",
       "  266,206.866 271.528,203.181 277.055,206.866 282.583,203.181 288.11,206.866 293.638,210.551 299.165,206.866 304.693,210.551 310.22,214.236 315.748,217.921 \n",
       "  \n",
       "  \"/>\n",
       "<polyline clip-path=\"url(#clip02)\" style=\"stroke:#309ac1; stroke-width:1; stroke-opacity:1; fill:none\" points=\"\n",
       "  44.8976,192.126 50.4252,195.811 55.9528,192.126 61.4803,195.811 67.0079,192.126 72.5354,188.441 78.063,184.756 83.5906,181.071 89.1181,184.756 94.6457,181.071 \n",
       "  100.173,177.386 105.701,181.071 111.228,184.756 116.756,181.071 122.283,184.756 127.811,188.441 133.339,192.126 138.866,188.441 144.394,192.126 149.921,188.441 \n",
       "  155.449,192.126 160.976,188.441 166.504,192.126 172.031,188.441 177.559,184.756 183.087,181.071 188.614,184.756 194.142,188.441 199.669,184.756 205.197,188.441 \n",
       "  210.724,184.756 216.252,181.071 221.78,177.386 227.307,173.701 232.835,170.016 238.362,173.701 243.89,177.386 249.417,181.071 254.945,177.386 260.472,173.701 \n",
       "  266,170.016 271.528,173.701 277.055,170.016 282.583,173.701 288.11,177.386 293.638,181.071 299.165,177.386 304.693,181.071 310.22,177.386 315.748,181.071 \n",
       "  \n",
       "  \"/>\n",
       "<polyline clip-path=\"url(#clip02)\" style=\"stroke:#788490; stroke-width:1; stroke-opacity:1; fill:none\" points=\"\n",
       "  44.8976,192.126 50.4252,188.441 55.9528,192.126 61.4803,188.441 67.0079,184.756 72.5354,181.071 78.063,177.386 83.5906,173.701 89.1181,170.016 94.6457,173.701 \n",
       "  100.173,170.016 105.701,166.331 111.228,162.646 116.756,166.331 122.283,170.016 127.811,173.701 133.339,177.386 138.866,173.701 144.394,177.386 149.921,173.701 \n",
       "  155.449,177.386 160.976,173.701 166.504,170.016 172.031,166.331 177.559,162.646 183.087,166.331 188.614,162.646 194.142,166.331 199.669,170.016 205.197,166.331 \n",
       "  210.724,162.646 216.252,166.331 221.78,162.646 227.307,166.331 232.835,162.646 238.362,158.961 243.89,162.646 249.417,158.961 254.945,162.646 260.472,158.961 \n",
       "  266,162.646 271.528,166.331 277.055,170.016 282.583,166.331 288.11,162.646 293.638,158.961 299.165,162.646 304.693,166.331 310.22,170.016 315.748,173.701 \n",
       "  \n",
       "  \"/>\n",
       "<polyline clip-path=\"url(#clip02)\" style=\"stroke:#e561a4; stroke-width:1; stroke-opacity:1; fill:none\" points=\"\n",
       "  44.8976,192.126 50.4252,188.441 55.9528,184.756 61.4803,181.071 67.0079,184.756 72.5354,181.071 78.063,177.386 83.5906,181.071 89.1181,184.756 94.6457,181.071 \n",
       "  100.173,184.756 105.701,188.441 111.228,192.126 116.756,188.441 122.283,184.756 127.811,181.071 133.339,184.756 138.866,188.441 144.394,192.126 149.921,195.811 \n",
       "  155.449,192.126 160.976,188.441 166.504,192.126 172.031,195.811 177.559,199.496 183.087,203.181 188.614,206.866 194.142,203.181 199.669,199.496 205.197,203.181 \n",
       "  210.724,199.496 216.252,203.181 221.78,199.496 227.307,195.811 232.835,199.496 238.362,203.181 243.89,199.496 249.417,195.811 254.945,192.126 260.472,188.441 \n",
       "  266,184.756 271.528,188.441 277.055,184.756 282.583,181.071 288.11,177.386 293.638,181.071 299.165,184.756 304.693,188.441 310.22,184.756 315.748,188.441 \n",
       "  \n",
       "  \"/>\n",
       "<polyline clip-path=\"url(#clip02)\" style=\"stroke:#99902c; stroke-width:1; stroke-opacity:1; fill:none\" points=\"\n",
       "  44.8976,192.126 50.4252,195.811 55.9528,199.496 61.4803,195.811 67.0079,199.496 72.5354,203.181 78.063,206.866 83.5906,210.551 89.1181,206.866 94.6457,203.181 \n",
       "  100.173,206.866 105.701,210.551 111.228,214.236 116.756,210.551 122.283,214.236 127.811,210.551 133.339,214.236 138.866,217.921 144.394,221.606 149.921,225.291 \n",
       "  155.449,221.606 160.976,217.921 166.504,221.606 172.031,225.291 177.559,228.976 183.087,232.661 188.614,236.346 194.142,240.031 199.669,243.717 205.197,247.402 \n",
       "  210.724,243.717 216.252,247.402 221.78,243.717 227.307,247.402 232.835,243.717 238.362,247.402 243.89,251.087 249.417,254.772 254.945,258.457 260.472,254.772 \n",
       "  266,258.457 271.528,254.772 277.055,258.457 282.583,254.772 288.11,258.457 293.638,262.142 299.165,265.827 304.693,269.512 310.22,273.197 315.748,269.512 \n",
       "  \n",
       "  \"/>\n",
       "<polyline clip-path=\"url(#clip02)\" style=\"stroke:#389a7b; stroke-width:1; stroke-opacity:1; fill:none\" points=\"\n",
       "  44.8976,192.126 50.4252,195.811 55.9528,199.496 61.4803,203.181 67.0079,199.496 72.5354,195.811 78.063,192.126 83.5906,188.441 89.1181,184.756 94.6457,181.071 \n",
       "  100.173,177.386 105.701,181.071 111.228,184.756 116.756,181.071 122.283,184.756 127.811,188.441 133.339,192.126 138.866,195.811 144.394,192.126 149.921,188.441 \n",
       "  155.449,184.756 160.976,188.441 166.504,184.756 172.031,188.441 177.559,192.126 183.087,195.811 188.614,192.126 194.142,195.811 199.669,199.496 205.197,195.811 \n",
       "  210.724,192.126 216.252,195.811 221.78,192.126 227.307,188.441 232.835,192.126 238.362,195.811 243.89,199.496 249.417,203.181 254.945,199.496 260.472,203.181 \n",
       "  266,199.496 271.528,195.811 277.055,192.126 282.583,188.441 288.11,184.756 293.638,188.441 299.165,192.126 304.693,195.811 310.22,192.126 315.748,188.441 \n",
       "  \n",
       "  \"/>\n",
       "<polyline clip-path=\"url(#clip02)\" style=\"stroke:#d968a2; stroke-width:1; stroke-opacity:1; fill:none\" points=\"\n",
       "  44.8976,192.126 50.4252,195.811 55.9528,192.126 61.4803,188.441 67.0079,192.126 72.5354,195.811 78.063,192.126 83.5906,188.441 89.1181,192.126 94.6457,188.441 \n",
       "  100.173,192.126 105.701,195.811 111.228,192.126 116.756,195.811 122.283,192.126 127.811,188.441 133.339,184.756 138.866,188.441 144.394,184.756 149.921,188.441 \n",
       "  155.449,192.126 160.976,195.811 166.504,192.126 172.031,188.441 177.559,184.756 183.087,188.441 188.614,192.126 194.142,195.811 199.669,192.126 205.197,195.811 \n",
       "  210.724,192.126 216.252,188.441 221.78,192.126 227.307,188.441 232.835,184.756 238.362,188.441 243.89,184.756 249.417,181.071 254.945,177.386 260.472,181.071 \n",
       "  266,184.756 271.528,188.441 277.055,184.756 282.583,181.071 288.11,177.386 293.638,173.701 299.165,177.386 304.693,173.701 310.22,177.386 315.748,173.701 \n",
       "  \n",
       "  \"/>\n",
       "<polyline clip-path=\"url(#clip02)\" style=\"stroke:#009af9; stroke-width:1; stroke-opacity:1; fill:none\" points=\"\n",
       "  44.8976,192.126 50.4252,188.441 55.9528,192.126 61.4803,188.441 67.0079,192.126 72.5354,188.441 78.063,192.126 83.5906,195.811 89.1181,192.126 94.6457,195.811 \n",
       "  100.173,192.126 105.701,195.811 111.228,192.126 116.756,195.811 122.283,199.496 127.811,203.181 133.339,206.866 138.866,203.181 144.394,206.866 149.921,203.181 \n",
       "  155.449,206.866 160.976,210.551 166.504,206.866 172.031,203.181 177.559,206.866 183.087,203.181 188.614,199.496 194.142,203.181 199.669,206.866 205.197,203.181 \n",
       "  210.724,206.866 216.252,210.551 221.78,206.866 227.307,210.551 232.835,206.866 238.362,210.551 243.89,214.236 249.417,217.921 254.945,214.236 260.472,210.551 \n",
       "  266,206.866 271.528,203.181 277.055,199.496 282.583,195.811 288.11,192.126 293.638,195.811 299.165,199.496 304.693,203.181 310.22,199.496 315.748,203.181 \n",
       "  \n",
       "  \"/>\n",
       "<polyline clip-path=\"url(#clip02)\" style=\"stroke:#e26f46; stroke-width:1; stroke-opacity:1; fill:none\" points=\"\n",
       "  44.8976,192.126 50.4252,195.811 55.9528,199.496 61.4803,195.811 67.0079,192.126 72.5354,195.811 78.063,192.126 83.5906,195.811 89.1181,199.496 94.6457,195.811 \n",
       "  100.173,199.496 105.701,195.811 111.228,192.126 116.756,188.441 122.283,192.126 127.811,188.441 133.339,192.126 138.866,188.441 144.394,192.126 149.921,188.441 \n",
       "  155.449,192.126 160.976,195.811 166.504,192.126 172.031,188.441 177.559,184.756 183.087,181.071 188.614,184.756 194.142,188.441 199.669,192.126 205.197,195.811 \n",
       "  210.724,199.496 216.252,203.181 221.78,206.866 227.307,203.181 232.835,199.496 238.362,195.811 243.89,199.496 249.417,195.811 254.945,199.496 260.472,203.181 \n",
       "  266,199.496 271.528,203.181 277.055,199.496 282.583,203.181 288.11,199.496 293.638,195.811 299.165,192.126 304.693,188.441 310.22,184.756 315.748,181.071 \n",
       "  \n",
       "  \"/>\n",
       "<polyline clip-path=\"url(#clip02)\" style=\"stroke:#3da44d; stroke-width:1; stroke-opacity:1; fill:none\" points=\"\n",
       "  44.8976,192.126 50.4252,195.811 55.9528,199.496 61.4803,203.181 67.0079,199.496 72.5354,203.181 78.063,206.866 83.5906,210.551 89.1181,214.236 94.6457,217.921 \n",
       "  100.173,221.606 105.701,217.921 111.228,214.236 116.756,210.551 122.283,214.236 127.811,217.921 133.339,214.236 138.866,210.551 144.394,206.866 149.921,203.181 \n",
       "  155.449,206.866 160.976,203.181 166.504,206.866 172.031,203.181 177.559,206.866 183.087,210.551 188.614,214.236 194.142,210.551 199.669,214.236 205.197,210.551 \n",
       "  210.724,214.236 216.252,217.921 221.78,214.236 227.307,217.921 232.835,221.606 238.362,225.291 243.89,228.976 249.417,232.661 254.945,228.976 260.472,232.661 \n",
       "  266,236.346 271.528,232.661 277.055,236.346 282.583,240.031 288.11,243.717 293.638,247.402 299.165,251.087 304.693,247.402 310.22,251.087 315.748,254.772 \n",
       "  \n",
       "  \"/>\n",
       "<polyline clip-path=\"url(#clip02)\" style=\"stroke:#c271d2; stroke-width:1; stroke-opacity:1; fill:none\" points=\"\n",
       "  44.8976,192.126 50.4252,195.811 55.9528,199.496 61.4803,203.181 67.0079,206.866 72.5354,203.181 78.063,206.866 83.5906,210.551 89.1181,206.866 94.6457,203.181 \n",
       "  100.173,206.866 105.701,203.181 111.228,199.496 116.756,203.181 122.283,206.866 127.811,203.181 133.339,199.496 138.866,195.811 144.394,199.496 149.921,195.811 \n",
       "  155.449,199.496 160.976,203.181 166.504,199.496 172.031,203.181 177.559,206.866 183.087,210.551 188.614,214.236 194.142,210.551 199.669,206.866 205.197,210.551 \n",
       "  210.724,214.236 216.252,210.551 221.78,206.866 227.307,210.551 232.835,214.236 238.362,210.551 243.89,206.866 249.417,203.181 254.945,206.866 260.472,210.551 \n",
       "  266,214.236 271.528,210.551 277.055,214.236 282.583,210.551 288.11,206.866 293.638,210.551 299.165,214.236 304.693,210.551 310.22,206.866 315.748,210.551 \n",
       "  \n",
       "  \"/>\n",
       "<polyline clip-path=\"url(#clip02)\" style=\"stroke:#ac8d18; stroke-width:1; stroke-opacity:1; fill:none\" points=\"\n",
       "  44.8976,192.126 50.4252,195.811 55.9528,192.126 61.4803,188.441 67.0079,184.756 72.5354,181.071 78.063,177.386 83.5906,173.701 89.1181,170.016 94.6457,166.331 \n",
       "  100.173,162.646 105.701,166.331 111.228,162.646 116.756,158.961 122.283,162.646 127.811,166.331 133.339,162.646 138.866,166.331 144.394,170.016 149.921,166.331 \n",
       "  155.449,162.646 160.976,166.331 166.504,170.016 172.031,166.331 177.559,170.016 183.087,173.701 188.614,177.386 194.142,173.701 199.669,170.016 205.197,166.331 \n",
       "  210.724,170.016 216.252,166.331 221.78,170.016 227.307,166.331 232.835,170.016 238.362,173.701 243.89,170.016 249.417,166.331 254.945,170.016 260.472,173.701 \n",
       "  266,177.386 271.528,181.071 277.055,184.756 282.583,181.071 288.11,177.386 293.638,173.701 299.165,177.386 304.693,173.701 310.22,177.386 315.748,173.701 \n",
       "  \n",
       "  \"/>\n",
       "<polyline clip-path=\"url(#clip02)\" style=\"stroke:#00a9ad; stroke-width:1; stroke-opacity:1; fill:none\" points=\"\n",
       "  44.8976,192.126 50.4252,188.441 55.9528,192.126 61.4803,195.811 67.0079,192.126 72.5354,195.811 78.063,199.496 83.5906,203.181 89.1181,199.496 94.6457,203.181 \n",
       "  100.173,199.496 105.701,195.811 111.228,192.126 116.756,188.441 122.283,192.126 127.811,188.441 133.339,192.126 138.866,195.811 144.394,192.126 149.921,195.811 \n",
       "  155.449,199.496 160.976,195.811 166.504,192.126 172.031,195.811 177.559,199.496 183.087,195.811 188.614,192.126 194.142,188.441 199.669,192.126 205.197,188.441 \n",
       "  210.724,184.756 216.252,188.441 221.78,192.126 227.307,188.441 232.835,184.756 238.362,188.441 243.89,192.126 249.417,195.811 254.945,199.496 260.472,195.811 \n",
       "  266,199.496 271.528,203.181 277.055,199.496 282.583,203.181 288.11,206.866 293.638,203.181 299.165,199.496 304.693,203.181 310.22,206.866 315.748,203.181 \n",
       "  \n",
       "  \"/>\n",
       "<polyline clip-path=\"url(#clip02)\" style=\"stroke:#ed5d92; stroke-width:1; stroke-opacity:1; fill:none\" points=\"\n",
       "  44.8976,192.126 50.4252,188.441 55.9528,184.756 61.4803,181.071 67.0079,177.386 72.5354,181.071 78.063,177.386 83.5906,173.701 89.1181,170.016 94.6457,173.701 \n",
       "  100.173,177.386 105.701,173.701 111.228,170.016 116.756,173.701 122.283,177.386 127.811,181.071 133.339,177.386 138.866,173.701 144.394,177.386 149.921,181.071 \n",
       "  155.449,184.756 160.976,188.441 166.504,184.756 172.031,188.441 177.559,192.126 183.087,195.811 188.614,192.126 194.142,188.441 199.669,192.126 205.197,195.811 \n",
       "  210.724,192.126 216.252,188.441 221.78,192.126 227.307,188.441 232.835,184.756 238.362,188.441 243.89,192.126 249.417,195.811 254.945,199.496 260.472,203.181 \n",
       "  266,199.496 271.528,195.811 277.055,199.496 282.583,195.811 288.11,199.496 293.638,203.181 299.165,199.496 304.693,203.181 310.22,206.866 315.748,210.551 \n",
       "  \n",
       "  \"/>\n",
       "<polyline clip-path=\"url(#clip02)\" style=\"stroke:#c68125; stroke-width:1; stroke-opacity:1; fill:none\" points=\"\n",
       "  44.8976,192.126 50.4252,188.441 55.9528,192.126 61.4803,195.811 67.0079,199.496 72.5354,203.181 78.063,199.496 83.5906,195.811 89.1181,199.496 94.6457,203.181 \n",
       "  100.173,199.496 105.701,195.811 111.228,192.126 116.756,195.811 122.283,199.496 127.811,203.181 133.339,206.866 138.866,210.551 144.394,214.236 149.921,210.551 \n",
       "  155.449,214.236 160.976,217.921 166.504,221.606 172.031,217.921 177.559,221.606 183.087,217.921 188.614,221.606 194.142,217.921 199.669,214.236 205.197,210.551 \n",
       "  210.724,214.236 216.252,210.551 221.78,206.866 227.307,203.181 232.835,199.496 238.362,195.811 243.89,192.126 249.417,195.811 254.945,192.126 260.472,195.811 \n",
       "  266,199.496 271.528,203.181 277.055,206.866 282.583,210.551 288.11,214.236 293.638,217.921 299.165,221.606 304.693,217.921 310.22,214.236 315.748,217.921 \n",
       "  \n",
       "  \"/>\n",
       "<polyline clip-path=\"url(#clip02)\" style=\"stroke:#00a98d; stroke-width:1; stroke-opacity:1; fill:none\" points=\"\n",
       "  44.8976,192.126 50.4252,195.811 55.9528,199.496 61.4803,195.811 67.0079,192.126 72.5354,188.441 78.063,184.756 83.5906,181.071 89.1181,177.386 94.6457,173.701 \n",
       "  100.173,170.016 105.701,166.331 111.228,162.646 116.756,166.331 122.283,170.016 127.811,173.701 133.339,177.386 138.866,173.701 144.394,177.386 149.921,181.071 \n",
       "  155.449,177.386 160.976,173.701 166.504,177.386 172.031,181.071 177.559,177.386 183.087,181.071 188.614,184.756 194.142,188.441 199.669,192.126 205.197,195.811 \n",
       "  210.724,199.496 216.252,203.181 221.78,206.866 227.307,203.181 232.835,206.866 238.362,203.181 243.89,199.496 249.417,195.811 254.945,192.126 260.472,195.811 \n",
       "  266,199.496 271.528,195.811 277.055,199.496 282.583,203.181 288.11,199.496 293.638,203.181 299.165,199.496 304.693,195.811 310.22,192.126 315.748,195.811 \n",
       "  \n",
       "  \"/>\n",
       "<polyline clip-path=\"url(#clip02)\" style=\"stroke:#8e971d; stroke-width:1; stroke-opacity:1; fill:none\" points=\"\n",
       "  44.8976,192.126 50.4252,195.811 55.9528,192.126 61.4803,188.441 67.0079,184.756 72.5354,188.441 78.063,184.756 83.5906,188.441 89.1181,184.756 94.6457,188.441 \n",
       "  100.173,192.126 105.701,188.441 111.228,184.756 116.756,188.441 122.283,192.126 127.811,188.441 133.339,184.756 138.866,188.441 144.394,192.126 149.921,195.811 \n",
       "  155.449,192.126 160.976,195.811 166.504,192.126 172.031,195.811 177.559,199.496 183.087,195.811 188.614,199.496 194.142,195.811 199.669,199.496 205.197,203.181 \n",
       "  210.724,199.496 216.252,203.181 221.78,199.496 227.307,203.181 232.835,206.866 238.362,210.551 243.89,214.236 249.417,217.921 254.945,221.606 260.472,225.291 \n",
       "  266,221.606 271.528,225.291 277.055,228.976 282.583,232.661 288.11,228.976 293.638,225.291 299.165,228.976 304.693,225.291 310.22,228.976 315.748,232.661 \n",
       "  \n",
       "  \"/>\n",
       "<polyline clip-path=\"url(#clip02)\" style=\"stroke:#00a8cb; stroke-width:1; stroke-opacity:1; fill:none\" points=\"\n",
       "  44.8976,192.126 50.4252,195.811 55.9528,199.496 61.4803,203.181 67.0079,206.866 72.5354,210.551 78.063,214.236 83.5906,210.551 89.1181,214.236 94.6457,210.551 \n",
       "  100.173,214.236 105.701,217.921 111.228,214.236 116.756,217.921 122.283,221.606 127.811,217.921 133.339,221.606 138.866,225.291 144.394,228.976 149.921,225.291 \n",
       "  155.449,221.606 160.976,217.921 166.504,214.236 172.031,217.921 177.559,221.606 183.087,225.291 188.614,228.976 194.142,232.661 199.669,228.976 205.197,232.661 \n",
       "  210.724,236.346 216.252,240.031 221.78,236.346 227.307,240.031 232.835,243.717 238.362,247.402 243.89,243.717 249.417,247.402 254.945,243.717 260.472,247.402 \n",
       "  266,251.087 271.528,254.772 277.055,251.087 282.583,254.772 288.11,258.457 293.638,262.142 299.165,265.827 304.693,269.512 310.22,265.827 315.748,269.512 \n",
       "  \n",
       "  \"/>\n",
       "<polyline clip-path=\"url(#clip02)\" style=\"stroke:#9b7fe8; stroke-width:1; stroke-opacity:1; fill:none\" points=\"\n",
       "  44.8976,192.126 50.4252,188.441 55.9528,192.126 61.4803,188.441 67.0079,184.756 72.5354,188.441 78.063,192.126 83.5906,188.441 89.1181,192.126 94.6457,188.441 \n",
       "  100.173,192.126 105.701,195.811 111.228,199.496 116.756,203.181 122.283,199.496 127.811,195.811 133.339,192.126 138.866,188.441 144.394,184.756 149.921,181.071 \n",
       "  155.449,177.386 160.976,173.701 166.504,177.386 172.031,181.071 177.559,177.386 183.087,181.071 188.614,177.386 194.142,181.071 199.669,184.756 205.197,188.441 \n",
       "  210.724,192.126 216.252,188.441 221.78,184.756 227.307,181.071 232.835,184.756 238.362,181.071 243.89,184.756 249.417,181.071 254.945,184.756 260.472,181.071 \n",
       "  266,184.756 271.528,181.071 277.055,177.386 282.583,173.701 288.11,177.386 293.638,181.071 299.165,177.386 304.693,181.071 310.22,177.386 315.748,181.071 \n",
       "  \n",
       "  \"/>\n",
       "<polyline clip-path=\"url(#clip02)\" style=\"stroke:#608cf6; stroke-width:1; stroke-opacity:1; fill:none\" points=\"\n",
       "  44.8976,192.126 50.4252,188.441 55.9528,192.126 61.4803,195.811 67.0079,192.126 72.5354,188.441 78.063,184.756 83.5906,181.071 89.1181,177.386 94.6457,181.071 \n",
       "  100.173,177.386 105.701,173.701 111.228,177.386 116.756,173.701 122.283,177.386 127.811,181.071 133.339,184.756 138.866,188.441 144.394,192.126 149.921,195.811 \n",
       "  155.449,192.126 160.976,188.441 166.504,192.126 172.031,188.441 177.559,184.756 183.087,188.441 188.614,192.126 194.142,195.811 199.669,192.126 205.197,188.441 \n",
       "  210.724,192.126 216.252,188.441 221.78,184.756 227.307,181.071 232.835,184.756 238.362,188.441 243.89,184.756 249.417,188.441 254.945,184.756 260.472,181.071 \n",
       "  266,177.386 271.528,173.701 277.055,170.016 282.583,173.701 288.11,170.016 293.638,166.331 299.165,170.016 304.693,173.701 310.22,177.386 315.748,173.701 \n",
       "  \n",
       "  \"/>\n",
       "<polyline clip-path=\"url(#clip02)\" style=\"stroke:#f05f73; stroke-width:1; stroke-opacity:1; fill:none\" points=\"\n",
       "  44.8976,192.126 50.4252,188.441 55.9528,184.756 61.4803,188.441 67.0079,192.126 72.5354,188.441 78.063,184.756 83.5906,181.071 89.1181,184.756 94.6457,181.071 \n",
       "  100.173,184.756 105.701,181.071 111.228,177.386 116.756,181.071 122.283,184.756 127.811,188.441 133.339,192.126 138.866,195.811 144.394,199.496 149.921,203.181 \n",
       "  155.449,206.866 160.976,203.181 166.504,206.866 172.031,203.181 177.559,206.866 183.087,203.181 188.614,199.496 194.142,195.811 199.669,192.126 205.197,188.441 \n",
       "  210.724,192.126 216.252,188.441 221.78,192.126 227.307,195.811 232.835,199.496 238.362,203.181 243.89,199.496 249.417,203.181 254.945,199.496 260.472,195.811 \n",
       "  266,192.126 271.528,195.811 277.055,192.126 282.583,195.811 288.11,199.496 293.638,203.181 299.165,206.866 304.693,203.181 310.22,199.496 315.748,195.811 \n",
       "  \n",
       "  \"/>\n",
       "<polyline clip-path=\"url(#clip02)\" style=\"stroke:#dd64b5; stroke-width:1; stroke-opacity:1; fill:none\" points=\"\n",
       "  44.8976,192.126 50.4252,195.811 55.9528,192.126 61.4803,195.811 67.0079,199.496 72.5354,195.811 78.063,199.496 83.5906,203.181 89.1181,206.866 94.6457,203.181 \n",
       "  100.173,199.496 105.701,195.811 111.228,199.496 116.756,195.811 122.283,192.126 127.811,188.441 133.339,184.756 138.866,188.441 144.394,192.126 149.921,195.811 \n",
       "  155.449,199.496 160.976,195.811 166.504,199.496 172.031,195.811 177.559,199.496 183.087,195.811 188.614,199.496 194.142,195.811 199.669,192.126 205.197,195.811 \n",
       "  210.724,192.126 216.252,195.811 221.78,192.126 227.307,188.441 232.835,184.756 238.362,188.441 243.89,192.126 249.417,195.811 254.945,199.496 260.472,195.811 \n",
       "  266,199.496 271.528,195.811 277.055,199.496 282.583,203.181 288.11,199.496 293.638,195.811 299.165,192.126 304.693,188.441 310.22,192.126 315.748,188.441 \n",
       "  \n",
       "  \"/>\n",
       "<polyline clip-path=\"url(#clip02)\" style=\"stroke:#6b9e32; stroke-width:1; stroke-opacity:1; fill:none\" points=\"\n",
       "  44.8976,192.126 50.4252,188.441 55.9528,192.126 61.4803,188.441 67.0079,192.126 72.5354,195.811 78.063,192.126 83.5906,195.811 89.1181,192.126 94.6457,195.811 \n",
       "  100.173,192.126 105.701,188.441 111.228,184.756 116.756,188.441 122.283,192.126 127.811,188.441 133.339,192.126 138.866,188.441 144.394,184.756 149.921,181.071 \n",
       "  155.449,184.756 160.976,181.071 166.504,177.386 172.031,181.071 177.559,177.386 183.087,181.071 188.614,177.386 194.142,173.701 199.669,170.016 205.197,166.331 \n",
       "  210.724,170.016 216.252,173.701 221.78,177.386 227.307,181.071 232.835,177.386 238.362,181.071 243.89,184.756 249.417,188.441 254.945,192.126 260.472,188.441 \n",
       "  266,192.126 271.528,195.811 277.055,192.126 282.583,195.811 288.11,192.126 293.638,188.441 299.165,192.126 304.693,188.441 310.22,192.126 315.748,195.811 \n",
       "  \n",
       "  \"/>\n",
       "<polyline clip-path=\"url(#clip02)\" style=\"stroke:#718c69; stroke-width:1; stroke-opacity:1; fill:none\" points=\"\n",
       "  44.8976,192.126 50.4252,195.811 55.9528,192.126 61.4803,188.441 67.0079,184.756 72.5354,181.071 78.063,184.756 83.5906,188.441 89.1181,184.756 94.6457,181.071 \n",
       "  100.173,177.386 105.701,181.071 111.228,177.386 116.756,173.701 122.283,170.016 127.811,173.701 133.339,170.016 138.866,173.701 144.394,177.386 149.921,181.071 \n",
       "  155.449,177.386 160.976,173.701 166.504,170.016 172.031,173.701 177.559,170.016 183.087,173.701 188.614,177.386 194.142,173.701 199.669,170.016 205.197,166.331 \n",
       "  210.724,170.016 216.252,166.331 221.78,170.016 227.307,166.331 232.835,162.646 238.362,166.331 243.89,170.016 249.417,173.701 254.945,177.386 260.472,181.071 \n",
       "  266,177.386 271.528,181.071 277.055,184.756 282.583,181.071 288.11,184.756 293.638,188.441 299.165,192.126 304.693,195.811 310.22,192.126 315.748,188.441 \n",
       "  \n",
       "  \"/>\n",
       "<polyline clip-path=\"url(#clip02)\" style=\"stroke:#47988b; stroke-width:1; stroke-opacity:1; fill:none\" points=\"\n",
       "  44.8976,192.126 50.4252,195.811 55.9528,199.496 61.4803,203.181 67.0079,206.866 72.5354,203.181 78.063,199.496 83.5906,195.811 89.1181,192.126 94.6457,195.811 \n",
       "  100.173,192.126 105.701,195.811 111.228,192.126 116.756,188.441 122.283,192.126 127.811,195.811 133.339,199.496 138.866,195.811 144.394,192.126 149.921,195.811 \n",
       "  155.449,192.126 160.976,195.811 166.504,199.496 172.031,203.181 177.559,206.866 183.087,210.551 188.614,206.866 194.142,210.551 199.669,214.236 205.197,217.921 \n",
       "  210.724,221.606 216.252,225.291 221.78,221.606 227.307,217.921 232.835,221.606 238.362,225.291 243.89,221.606 249.417,217.921 254.945,221.606 260.472,217.921 \n",
       "  266,214.236 271.528,217.921 277.055,221.606 282.583,225.291 288.11,221.606 293.638,217.921 299.165,221.606 304.693,225.291 310.22,221.606 315.748,225.291 \n",
       "  \n",
       "  \"/>\n",
       "<polyline clip-path=\"url(#clip02)\" style=\"stroke:#1ea68c; stroke-width:1; stroke-opacity:1; fill:none\" points=\"\n",
       "  44.8976,192.126 50.4252,195.811 55.9528,192.126 61.4803,188.441 67.0079,192.126 72.5354,195.811 78.063,192.126 83.5906,188.441 89.1181,184.756 94.6457,188.441 \n",
       "  100.173,192.126 105.701,188.441 111.228,192.126 116.756,195.811 122.283,192.126 127.811,195.811 133.339,199.496 138.866,203.181 144.394,206.866 149.921,203.181 \n",
       "  155.449,199.496 160.976,195.811 166.504,192.126 172.031,195.811 177.559,192.126 183.087,188.441 188.614,184.756 194.142,181.071 199.669,184.756 205.197,188.441 \n",
       "  210.724,184.756 216.252,181.071 221.78,184.756 227.307,181.071 232.835,184.756 238.362,188.441 243.89,192.126 249.417,195.811 254.945,192.126 260.472,188.441 \n",
       "  266,184.756 271.528,188.441 277.055,192.126 282.583,188.441 288.11,192.126 293.638,188.441 299.165,184.756 304.693,188.441 310.22,184.756 315.748,181.071 \n",
       "  \n",
       "  \"/>\n",
       "<polyline clip-path=\"url(#clip02)\" style=\"stroke:#af78dd; stroke-width:1; stroke-opacity:1; fill:none\" points=\"\n",
       "  44.8976,192.126 50.4252,188.441 55.9528,184.756 61.4803,181.071 67.0079,177.386 72.5354,173.701 78.063,170.016 83.5906,166.331 89.1181,170.016 94.6457,166.331 \n",
       "  100.173,170.016 105.701,166.331 111.228,170.016 116.756,166.331 122.283,170.016 127.811,173.701 133.339,177.386 138.866,181.071 144.394,184.756 149.921,188.441 \n",
       "  155.449,192.126 160.976,195.811 166.504,192.126 172.031,188.441 177.559,192.126 183.087,195.811 188.614,199.496 194.142,203.181 199.669,206.866 205.197,210.551 \n",
       "  210.724,214.236 216.252,210.551 221.78,214.236 227.307,217.921 232.835,221.606 238.362,225.291 243.89,221.606 249.417,225.291 254.945,221.606 260.472,225.291 \n",
       "  266,221.606 271.528,217.921 277.055,221.606 282.583,217.921 288.11,214.236 293.638,217.921 299.165,221.606 304.693,217.921 310.22,214.236 315.748,210.551 \n",
       "  \n",
       "  \"/>\n",
       "<polyline clip-path=\"url(#clip02)\" style=\"stroke:#868d87; stroke-width:1; stroke-opacity:1; fill:none\" points=\"\n",
       "  44.8976,192.126 50.4252,188.441 55.9528,192.126 61.4803,188.441 67.0079,184.756 72.5354,181.071 78.063,177.386 83.5906,181.071 89.1181,184.756 94.6457,181.071 \n",
       "  100.173,184.756 105.701,188.441 111.228,192.126 116.756,195.811 122.283,192.126 127.811,188.441 133.339,184.756 138.866,188.441 144.394,184.756 149.921,181.071 \n",
       "  155.449,177.386 160.976,173.701 166.504,177.386 172.031,181.071 177.559,177.386 183.087,181.071 188.614,184.756 194.142,188.441 199.669,192.126 205.197,188.441 \n",
       "  210.724,192.126 216.252,195.811 221.78,199.496 227.307,195.811 232.835,192.126 238.362,195.811 243.89,192.126 249.417,195.811 254.945,199.496 260.472,203.181 \n",
       "  266,199.496 271.528,203.181 277.055,199.496 282.583,195.811 288.11,199.496 293.638,203.181 299.165,199.496 304.693,195.811 310.22,199.496 315.748,203.181 \n",
       "  \n",
       "  \"/>\n",
       "<polyline clip-path=\"url(#clip02)\" style=\"stroke:#47a065; stroke-width:1; stroke-opacity:1; fill:none\" points=\"\n",
       "  44.8976,192.126 50.4252,188.441 55.9528,184.756 61.4803,181.071 67.0079,177.386 72.5354,181.071 78.063,184.756 83.5906,181.071 89.1181,184.756 94.6457,181.071 \n",
       "  100.173,177.386 105.701,173.701 111.228,170.016 116.756,173.701 122.283,177.386 127.811,181.071 133.339,184.756 138.866,181.071 144.394,184.756 149.921,181.071 \n",
       "  155.449,177.386 160.976,181.071 166.504,184.756 172.031,181.071 177.559,177.386 183.087,173.701 188.614,177.386 194.142,181.071 199.669,177.386 205.197,181.071 \n",
       "  210.724,184.756 216.252,188.441 221.78,192.126 227.307,188.441 232.835,184.756 238.362,188.441 243.89,184.756 249.417,188.441 254.945,192.126 260.472,188.441 \n",
       "  266,192.126 271.528,195.811 277.055,192.126 282.583,188.441 288.11,192.126 293.638,188.441 299.165,184.756 304.693,181.071 310.22,177.386 315.748,173.701 \n",
       "  \n",
       "  \"/>\n",
       "<polyline clip-path=\"url(#clip02)\" style=\"stroke:#7683af; stroke-width:1; stroke-opacity:1; fill:none\" points=\"\n",
       "  44.8976,192.126 50.4252,195.811 55.9528,199.496 61.4803,203.181 67.0079,199.496 72.5354,203.181 78.063,206.866 83.5906,203.181 89.1181,206.866 94.6457,210.551 \n",
       "  100.173,206.866 105.701,210.551 111.228,214.236 116.756,210.551 122.283,214.236 127.811,210.551 133.339,206.866 138.866,210.551 144.394,214.236 149.921,210.551 \n",
       "  155.449,214.236 160.976,210.551 166.504,206.866 172.031,203.181 177.559,206.866 183.087,203.181 188.614,199.496 194.142,195.811 199.669,192.126 205.197,195.811 \n",
       "  210.724,199.496 216.252,195.811 221.78,199.496 227.307,203.181 232.835,199.496 238.362,203.181 243.89,199.496 249.417,195.811 254.945,192.126 260.472,188.441 \n",
       "  266,184.756 271.528,188.441 277.055,192.126 282.583,188.441 288.11,184.756 293.638,181.071 299.165,184.756 304.693,181.071 310.22,177.386 315.748,173.701 \n",
       "  \n",
       "  \"/>\n",
       "<polyline clip-path=\"url(#clip02)\" style=\"stroke:#b08086; stroke-width:1; stroke-opacity:1; fill:none\" points=\"\n",
       "  44.8976,192.126 50.4252,188.441 55.9528,192.126 61.4803,188.441 67.0079,192.126 72.5354,195.811 78.063,192.126 83.5906,188.441 89.1181,184.756 94.6457,181.071 \n",
       "  100.173,184.756 105.701,188.441 111.228,192.126 116.756,195.811 122.283,199.496 127.811,203.181 133.339,206.866 138.866,210.551 144.394,214.236 149.921,217.921 \n",
       "  155.449,214.236 160.976,217.921 166.504,214.236 172.031,210.551 177.559,214.236 183.087,210.551 188.614,206.866 194.142,203.181 199.669,206.866 205.197,210.551 \n",
       "  210.724,206.866 216.252,210.551 221.78,214.236 227.307,217.921 232.835,221.606 238.362,217.921 243.89,214.236 249.417,210.551 254.945,206.866 260.472,203.181 \n",
       "  266,199.496 271.528,195.811 277.055,192.126 282.583,188.441 288.11,184.756 293.638,181.071 299.165,177.386 304.693,173.701 310.22,177.386 315.748,181.071 \n",
       "  \n",
       "  \"/>\n",
       "<polyline clip-path=\"url(#clip02)\" style=\"stroke:#309ac1; stroke-width:1; stroke-opacity:1; fill:none\" points=\"\n",
       "  44.8976,192.126 50.4252,195.811 55.9528,192.126 61.4803,195.811 67.0079,192.126 72.5354,195.811 78.063,192.126 83.5906,188.441 89.1181,192.126 94.6457,195.811 \n",
       "  100.173,192.126 105.701,188.441 111.228,184.756 116.756,188.441 122.283,184.756 127.811,188.441 133.339,184.756 138.866,181.071 144.394,184.756 149.921,188.441 \n",
       "  155.449,184.756 160.976,181.071 166.504,184.756 172.031,188.441 177.559,192.126 183.087,188.441 188.614,184.756 194.142,188.441 199.669,184.756 205.197,181.071 \n",
       "  210.724,177.386 216.252,173.701 221.78,177.386 227.307,173.701 232.835,177.386 238.362,181.071 243.89,184.756 249.417,188.441 254.945,184.756 260.472,188.441 \n",
       "  266,184.756 271.528,181.071 277.055,184.756 282.583,181.071 288.11,184.756 293.638,181.071 299.165,177.386 304.693,173.701 310.22,170.016 315.748,173.701 \n",
       "  \n",
       "  \"/>\n",
       "<polyline clip-path=\"url(#clip02)\" style=\"stroke:#788490; stroke-width:1; stroke-opacity:1; fill:none\" points=\"\n",
       "  44.8976,192.126 50.4252,195.811 55.9528,192.126 61.4803,195.811 67.0079,199.496 72.5354,195.811 78.063,199.496 83.5906,195.811 89.1181,199.496 94.6457,203.181 \n",
       "  100.173,199.496 105.701,195.811 111.228,199.496 116.756,203.181 122.283,199.496 127.811,203.181 133.339,199.496 138.866,195.811 144.394,199.496 149.921,203.181 \n",
       "  155.449,199.496 160.976,203.181 166.504,206.866 172.031,210.551 177.559,206.866 183.087,210.551 188.614,206.866 194.142,203.181 199.669,199.496 205.197,203.181 \n",
       "  210.724,206.866 216.252,210.551 221.78,214.236 227.307,217.921 232.835,214.236 238.362,210.551 243.89,214.236 249.417,217.921 254.945,214.236 260.472,217.921 \n",
       "  266,214.236 271.528,210.551 277.055,214.236 282.583,217.921 288.11,221.606 293.638,217.921 299.165,221.606 304.693,217.921 310.22,221.606 315.748,225.291 \n",
       "  \n",
       "  \"/>\n",
       "<polyline clip-path=\"url(#clip02)\" style=\"stroke:#e561a4; stroke-width:1; stroke-opacity:1; fill:none\" points=\"\n",
       "  44.8976,192.126 50.4252,188.441 55.9528,184.756 61.4803,188.441 67.0079,184.756 72.5354,181.071 78.063,177.386 83.5906,173.701 89.1181,170.016 94.6457,166.331 \n",
       "  100.173,162.646 105.701,158.961 111.228,155.276 116.756,151.591 122.283,147.906 127.811,144.22 133.339,147.906 138.866,151.591 144.394,155.276 149.921,151.591 \n",
       "  155.449,147.906 160.976,151.591 166.504,155.276 172.031,151.591 177.559,155.276 183.087,158.961 188.614,155.276 194.142,151.591 199.669,147.906 205.197,144.22 \n",
       "  210.724,140.535 216.252,144.22 221.78,140.535 227.307,144.22 232.835,147.906 238.362,151.591 243.89,147.906 249.417,151.591 254.945,155.276 260.472,158.961 \n",
       "  266,155.276 271.528,151.591 277.055,147.906 282.583,151.591 288.11,155.276 293.638,158.961 299.165,162.646 304.693,166.331 310.22,170.016 315.748,166.331 \n",
       "  \n",
       "  \"/>\n",
       "<polyline clip-path=\"url(#clip02)\" style=\"stroke:#99902c; stroke-width:1; stroke-opacity:1; fill:none\" points=\"\n",
       "  44.8976,192.126 50.4252,195.811 55.9528,192.126 61.4803,188.441 67.0079,192.126 72.5354,195.811 78.063,192.126 83.5906,188.441 89.1181,192.126 94.6457,195.811 \n",
       "  100.173,192.126 105.701,195.811 111.228,199.496 116.756,195.811 122.283,199.496 127.811,195.811 133.339,199.496 138.866,195.811 144.394,192.126 149.921,188.441 \n",
       "  155.449,184.756 160.976,181.071 166.504,177.386 172.031,173.701 177.559,170.016 183.087,173.701 188.614,177.386 194.142,173.701 199.669,170.016 205.197,166.331 \n",
       "  210.724,170.016 216.252,173.701 221.78,170.016 227.307,173.701 232.835,177.386 238.362,181.071 243.89,184.756 249.417,188.441 254.945,184.756 260.472,181.071 \n",
       "  266,184.756 271.528,188.441 277.055,184.756 282.583,188.441 288.11,192.126 293.638,188.441 299.165,192.126 304.693,195.811 310.22,192.126 315.748,195.811 \n",
       "  \n",
       "  \"/>\n",
       "<polyline clip-path=\"url(#clip02)\" style=\"stroke:#389a7b; stroke-width:1; stroke-opacity:1; fill:none\" points=\"\n",
       "  44.8976,192.126 50.4252,195.811 55.9528,199.496 61.4803,203.181 67.0079,199.496 72.5354,203.181 78.063,199.496 83.5906,203.181 89.1181,199.496 94.6457,203.181 \n",
       "  100.173,206.866 105.701,210.551 111.228,214.236 116.756,217.921 122.283,221.606 127.811,225.291 133.339,221.606 138.866,225.291 144.394,228.976 149.921,225.291 \n",
       "  155.449,228.976 160.976,232.661 166.504,236.346 172.031,240.031 177.559,243.717 183.087,240.031 188.614,243.717 194.142,240.031 199.669,236.346 205.197,240.031 \n",
       "  210.724,243.717 216.252,240.031 221.78,236.346 227.307,232.661 232.835,228.976 238.362,225.291 243.89,221.606 249.417,225.291 254.945,228.976 260.472,232.661 \n",
       "  266,236.346 271.528,232.661 277.055,228.976 282.583,232.661 288.11,228.976 293.638,225.291 299.165,221.606 304.693,225.291 310.22,221.606 315.748,225.291 \n",
       "  \n",
       "  \"/>\n",
       "<polyline clip-path=\"url(#clip02)\" style=\"stroke:#d968a2; stroke-width:1; stroke-opacity:1; fill:none\" points=\"\n",
       "  44.8976,192.126 50.4252,195.811 55.9528,199.496 61.4803,203.181 67.0079,206.866 72.5354,210.551 78.063,214.236 83.5906,210.551 89.1181,206.866 94.6457,210.551 \n",
       "  100.173,214.236 105.701,217.921 111.228,221.606 116.756,217.921 122.283,214.236 127.811,217.921 133.339,221.606 138.866,217.921 144.394,221.606 149.921,217.921 \n",
       "  155.449,214.236 160.976,210.551 166.504,206.866 172.031,210.551 177.559,206.866 183.087,203.181 188.614,199.496 194.142,203.181 199.669,206.866 205.197,210.551 \n",
       "  210.724,206.866 216.252,203.181 221.78,206.866 227.307,210.551 232.835,214.236 238.362,217.921 243.89,214.236 249.417,210.551 254.945,214.236 260.472,210.551 \n",
       "  266,206.866 271.528,210.551 277.055,206.866 282.583,203.181 288.11,206.866 293.638,210.551 299.165,214.236 304.693,217.921 310.22,214.236 315.748,217.921 \n",
       "  \n",
       "  \"/>\n",
       "<polyline clip-path=\"url(#clip02)\" style=\"stroke:#009af9; stroke-width:1; stroke-opacity:1; fill:none\" points=\"\n",
       "  44.8976,192.126 50.4252,195.811 55.9528,192.126 61.4803,195.811 67.0079,192.126 72.5354,195.811 78.063,192.126 83.5906,195.811 89.1181,192.126 94.6457,195.811 \n",
       "  100.173,199.496 105.701,203.181 111.228,206.866 116.756,203.181 122.283,206.866 127.811,203.181 133.339,206.866 138.866,203.181 144.394,199.496 149.921,195.811 \n",
       "  155.449,192.126 160.976,188.441 166.504,184.756 172.031,188.441 177.559,184.756 183.087,181.071 188.614,184.756 194.142,188.441 199.669,192.126 205.197,188.441 \n",
       "  210.724,184.756 216.252,181.071 221.78,177.386 227.307,173.701 232.835,170.016 238.362,166.331 243.89,162.646 249.417,166.331 254.945,162.646 260.472,166.331 \n",
       "  266,162.646 271.528,166.331 277.055,170.016 282.583,173.701 288.11,177.386 293.638,173.701 299.165,170.016 304.693,166.331 310.22,170.016 315.748,173.701 \n",
       "  \n",
       "  \"/>\n",
       "<polyline clip-path=\"url(#clip02)\" style=\"stroke:#e26f46; stroke-width:1; stroke-opacity:1; fill:none\" points=\"\n",
       "  44.8976,192.126 50.4252,188.441 55.9528,184.756 61.4803,181.071 67.0079,184.756 72.5354,181.071 78.063,177.386 83.5906,181.071 89.1181,177.386 94.6457,173.701 \n",
       "  100.173,170.016 105.701,173.701 111.228,170.016 116.756,173.701 122.283,170.016 127.811,173.701 133.339,170.016 138.866,173.701 144.394,170.016 149.921,166.331 \n",
       "  155.449,162.646 160.976,158.961 166.504,162.646 172.031,166.331 177.559,170.016 183.087,173.701 188.614,170.016 194.142,166.331 199.669,162.646 205.197,166.331 \n",
       "  210.724,162.646 216.252,166.331 221.78,162.646 227.307,158.961 232.835,155.276 238.362,158.961 243.89,155.276 249.417,158.961 254.945,162.646 260.472,166.331 \n",
       "  266,162.646 271.528,158.961 277.055,155.276 282.583,158.961 288.11,162.646 293.638,158.961 299.165,162.646 304.693,166.331 310.22,162.646 315.748,158.961 \n",
       "  \n",
       "  \"/>\n",
       "<polyline clip-path=\"url(#clip02)\" style=\"stroke:#3da44d; stroke-width:1; stroke-opacity:1; fill:none\" points=\"\n",
       "  44.8976,192.126 50.4252,195.811 55.9528,199.496 61.4803,203.181 67.0079,206.866 72.5354,203.181 78.063,199.496 83.5906,195.811 89.1181,199.496 94.6457,195.811 \n",
       "  100.173,192.126 105.701,195.811 111.228,192.126 116.756,195.811 122.283,199.496 127.811,195.811 133.339,192.126 138.866,188.441 144.394,192.126 149.921,195.811 \n",
       "  155.449,199.496 160.976,203.181 166.504,199.496 172.031,195.811 177.559,192.126 183.087,188.441 188.614,192.126 194.142,195.811 199.669,199.496 205.197,203.181 \n",
       "  210.724,206.866 216.252,210.551 221.78,214.236 227.307,217.921 232.835,221.606 238.362,225.291 243.89,221.606 249.417,217.921 254.945,221.606 260.472,225.291 \n",
       "  266,228.976 271.528,225.291 277.055,228.976 282.583,232.661 288.11,228.976 293.638,232.661 299.165,236.346 304.693,240.031 310.22,236.346 315.748,240.031 \n",
       "  \n",
       "  \"/>\n",
       "<polyline clip-path=\"url(#clip02)\" style=\"stroke:#c271d2; stroke-width:1; stroke-opacity:1; fill:none\" points=\"\n",
       "  44.8976,192.126 50.4252,195.811 55.9528,192.126 61.4803,195.811 67.0079,192.126 72.5354,188.441 78.063,184.756 83.5906,181.071 89.1181,177.386 94.6457,181.071 \n",
       "  100.173,184.756 105.701,181.071 111.228,177.386 116.756,181.071 122.283,184.756 127.811,188.441 133.339,184.756 138.866,188.441 144.394,184.756 149.921,188.441 \n",
       "  155.449,184.756 160.976,181.071 166.504,177.386 172.031,173.701 177.559,170.016 183.087,173.701 188.614,177.386 194.142,181.071 199.669,184.756 205.197,188.441 \n",
       "  210.724,184.756 216.252,188.441 221.78,184.756 227.307,181.071 232.835,177.386 238.362,181.071 243.89,177.386 249.417,181.071 254.945,177.386 260.472,181.071 \n",
       "  266,184.756 271.528,181.071 277.055,177.386 282.583,181.071 288.11,184.756 293.638,188.441 299.165,192.126 304.693,195.811 310.22,199.496 315.748,203.181 \n",
       "  \n",
       "  \"/>\n",
       "<polyline clip-path=\"url(#clip02)\" style=\"stroke:#ac8d18; stroke-width:1; stroke-opacity:1; fill:none\" points=\"\n",
       "  44.8976,192.126 50.4252,195.811 55.9528,199.496 61.4803,203.181 67.0079,199.496 72.5354,195.811 78.063,199.496 83.5906,203.181 89.1181,199.496 94.6457,195.811 \n",
       "  100.173,192.126 105.701,195.811 111.228,192.126 116.756,195.811 122.283,192.126 127.811,188.441 133.339,184.756 138.866,181.071 144.394,177.386 149.921,181.071 \n",
       "  155.449,177.386 160.976,181.071 166.504,184.756 172.031,181.071 177.559,184.756 183.087,188.441 188.614,192.126 194.142,188.441 199.669,184.756 205.197,188.441 \n",
       "  210.724,192.126 216.252,195.811 221.78,199.496 227.307,203.181 232.835,206.866 238.362,203.181 243.89,199.496 249.417,195.811 254.945,192.126 260.472,188.441 \n",
       "  266,184.756 271.528,188.441 277.055,184.756 282.583,188.441 288.11,192.126 293.638,188.441 299.165,184.756 304.693,188.441 310.22,192.126 315.748,188.441 \n",
       "  \n",
       "  \"/>\n",
       "<polyline clip-path=\"url(#clip02)\" style=\"stroke:#00a9ad; stroke-width:1; stroke-opacity:1; fill:none\" points=\"\n",
       "  44.8976,192.126 50.4252,195.811 55.9528,192.126 61.4803,188.441 67.0079,192.126 72.5354,188.441 78.063,192.126 83.5906,195.811 89.1181,199.496 94.6457,203.181 \n",
       "  100.173,199.496 105.701,195.811 111.228,192.126 116.756,188.441 122.283,192.126 127.811,195.811 133.339,199.496 138.866,203.181 144.394,206.866 149.921,210.551 \n",
       "  155.449,214.236 160.976,217.921 166.504,214.236 172.031,217.921 177.559,221.606 183.087,217.921 188.614,221.606 194.142,225.291 199.669,221.606 205.197,225.291 \n",
       "  210.724,221.606 216.252,217.921 221.78,221.606 227.307,217.921 232.835,221.606 238.362,217.921 243.89,214.236 249.417,217.921 254.945,221.606 260.472,217.921 \n",
       "  266,221.606 271.528,217.921 277.055,214.236 282.583,210.551 288.11,214.236 293.638,217.921 299.165,221.606 304.693,217.921 310.22,221.606 315.748,217.921 \n",
       "  \n",
       "  \"/>\n",
       "<polyline clip-path=\"url(#clip02)\" style=\"stroke:#ed5d92; stroke-width:1; stroke-opacity:1; fill:none\" points=\"\n",
       "  44.8976,192.126 50.4252,195.811 55.9528,192.126 61.4803,188.441 67.0079,184.756 72.5354,188.441 78.063,192.126 83.5906,188.441 89.1181,192.126 94.6457,195.811 \n",
       "  100.173,192.126 105.701,195.811 111.228,199.496 116.756,203.181 122.283,206.866 127.811,203.181 133.339,206.866 138.866,203.181 144.394,206.866 149.921,203.181 \n",
       "  155.449,206.866 160.976,210.551 166.504,214.236 172.031,210.551 177.559,206.866 183.087,203.181 188.614,199.496 194.142,195.811 199.669,199.496 205.197,203.181 \n",
       "  210.724,199.496 216.252,195.811 221.78,199.496 227.307,195.811 232.835,192.126 238.362,188.441 243.89,184.756 249.417,181.071 254.945,184.756 260.472,188.441 \n",
       "  266,192.126 271.528,195.811 277.055,199.496 282.583,195.811 288.11,192.126 293.638,195.811 299.165,192.126 304.693,188.441 310.22,184.756 315.748,181.071 \n",
       "  \n",
       "  \"/>\n",
       "<polyline clip-path=\"url(#clip02)\" style=\"stroke:#c68125; stroke-width:1; stroke-opacity:1; fill:none\" points=\"\n",
       "  44.8976,192.126 50.4252,195.811 55.9528,192.126 61.4803,188.441 67.0079,184.756 72.5354,188.441 78.063,184.756 83.5906,181.071 89.1181,177.386 94.6457,181.071 \n",
       "  100.173,177.386 105.701,173.701 111.228,177.386 116.756,181.071 122.283,177.386 127.811,181.071 133.339,184.756 138.866,181.071 144.394,184.756 149.921,181.071 \n",
       "  155.449,177.386 160.976,181.071 166.504,184.756 172.031,181.071 177.559,177.386 183.087,173.701 188.614,170.016 194.142,173.701 199.669,177.386 205.197,173.701 \n",
       "  210.724,170.016 216.252,166.331 221.78,162.646 227.307,166.331 232.835,170.016 238.362,166.331 243.89,170.016 249.417,166.331 254.945,170.016 260.472,173.701 \n",
       "  266,177.386 271.528,173.701 277.055,170.016 282.583,173.701 288.11,170.016 293.638,166.331 299.165,170.016 304.693,173.701 310.22,177.386 315.748,181.071 \n",
       "  \n",
       "  \"/>\n",
       "<polyline clip-path=\"url(#clip02)\" style=\"stroke:#00a98d; stroke-width:1; stroke-opacity:1; fill:none\" points=\"\n",
       "  44.8976,192.126 50.4252,188.441 55.9528,192.126 61.4803,195.811 67.0079,192.126 72.5354,188.441 78.063,184.756 83.5906,188.441 89.1181,184.756 94.6457,181.071 \n",
       "  100.173,177.386 105.701,181.071 111.228,184.756 116.756,188.441 122.283,184.756 127.811,181.071 133.339,177.386 138.866,173.701 144.394,170.016 149.921,173.701 \n",
       "  155.449,177.386 160.976,173.701 166.504,170.016 172.031,166.331 177.559,162.646 183.087,158.961 188.614,162.646 194.142,166.331 199.669,170.016 205.197,173.701 \n",
       "  210.724,177.386 216.252,173.701 221.78,177.386 227.307,173.701 232.835,170.016 238.362,173.701 243.89,170.016 249.417,166.331 254.945,162.646 260.472,166.331 \n",
       "  266,170.016 271.528,173.701 277.055,170.016 282.583,173.701 288.11,177.386 293.638,173.701 299.165,177.386 304.693,173.701 310.22,170.016 315.748,173.701 \n",
       "  \n",
       "  \"/>\n",
       "<polyline clip-path=\"url(#clip02)\" style=\"stroke:#8e971d; stroke-width:1; stroke-opacity:1; fill:none\" points=\"\n",
       "  44.8976,192.126 50.4252,188.441 55.9528,192.126 61.4803,195.811 67.0079,199.496 72.5354,195.811 78.063,199.496 83.5906,203.181 89.1181,206.866 94.6457,210.551 \n",
       "  100.173,214.236 105.701,210.551 111.228,214.236 116.756,217.921 122.283,221.606 127.811,217.921 133.339,221.606 138.866,225.291 144.394,228.976 149.921,232.661 \n",
       "  155.449,228.976 160.976,232.661 166.504,236.346 172.031,240.031 177.559,243.717 183.087,240.031 188.614,243.717 194.142,247.402 199.669,251.087 205.197,254.772 \n",
       "  210.724,258.457 216.252,262.142 221.78,265.827 227.307,262.142 232.835,265.827 238.362,262.142 243.89,265.827 249.417,269.512 254.945,265.827 260.472,262.142 \n",
       "  266,258.457 271.528,254.772 277.055,251.087 282.583,254.772 288.11,258.457 293.638,254.772 299.165,258.457 304.693,262.142 310.22,258.457 315.748,254.772 \n",
       "  \n",
       "  \"/>\n",
       "<polyline clip-path=\"url(#clip02)\" style=\"stroke:#00a8cb; stroke-width:1; stroke-opacity:1; fill:none\" points=\"\n",
       "  44.8976,192.126 50.4252,195.811 55.9528,192.126 61.4803,195.811 67.0079,199.496 72.5354,195.811 78.063,199.496 83.5906,203.181 89.1181,206.866 94.6457,210.551 \n",
       "  100.173,206.866 105.701,203.181 111.228,206.866 116.756,203.181 122.283,199.496 127.811,195.811 133.339,192.126 138.866,195.811 144.394,192.126 149.921,195.811 \n",
       "  155.449,192.126 160.976,195.811 166.504,192.126 172.031,188.441 177.559,192.126 183.087,188.441 188.614,192.126 194.142,195.811 199.669,192.126 205.197,188.441 \n",
       "  210.724,184.756 216.252,181.071 221.78,184.756 227.307,181.071 232.835,177.386 238.362,181.071 243.89,177.386 249.417,173.701 254.945,170.016 260.472,173.701 \n",
       "  266,177.386 271.528,173.701 277.055,177.386 282.583,181.071 288.11,184.756 293.638,181.071 299.165,184.756 304.693,181.071 310.22,184.756 315.748,188.441 \n",
       "  \n",
       "  \"/>\n",
       "<polyline clip-path=\"url(#clip02)\" style=\"stroke:#9b7fe8; stroke-width:1; stroke-opacity:1; fill:none\" points=\"\n",
       "  44.8976,192.126 50.4252,195.811 55.9528,199.496 61.4803,203.181 67.0079,199.496 72.5354,195.811 78.063,199.496 83.5906,195.811 89.1181,192.126 94.6457,195.811 \n",
       "  100.173,192.126 105.701,188.441 111.228,192.126 116.756,195.811 122.283,199.496 127.811,195.811 133.339,199.496 138.866,203.181 144.394,199.496 149.921,203.181 \n",
       "  155.449,206.866 160.976,210.551 166.504,214.236 172.031,217.921 177.559,221.606 183.087,225.291 188.614,228.976 194.142,232.661 199.669,236.346 205.197,232.661 \n",
       "  210.724,228.976 216.252,225.291 221.78,228.976 227.307,225.291 232.835,228.976 238.362,225.291 243.89,228.976 249.417,232.661 254.945,236.346 260.472,232.661 \n",
       "  266,228.976 271.528,225.291 277.055,228.976 282.583,225.291 288.11,221.606 293.638,225.291 299.165,221.606 304.693,225.291 310.22,221.606 315.748,225.291 \n",
       "  \n",
       "  \"/>\n",
       "<polyline clip-path=\"url(#clip02)\" style=\"stroke:#608cf6; stroke-width:1; stroke-opacity:1; fill:none\" points=\"\n",
       "  44.8976,192.126 50.4252,188.441 55.9528,184.756 61.4803,188.441 67.0079,184.756 72.5354,188.441 78.063,184.756 83.5906,188.441 89.1181,192.126 94.6457,195.811 \n",
       "  100.173,192.126 105.701,195.811 111.228,192.126 116.756,195.811 122.283,192.126 127.811,195.811 133.339,192.126 138.866,188.441 144.394,192.126 149.921,188.441 \n",
       "  155.449,184.756 160.976,188.441 166.504,192.126 172.031,188.441 177.559,184.756 183.087,188.441 188.614,184.756 194.142,181.071 199.669,177.386 205.197,181.071 \n",
       "  210.724,177.386 216.252,181.071 221.78,177.386 227.307,173.701 232.835,177.386 238.362,173.701 243.89,177.386 249.417,173.701 254.945,170.016 260.472,173.701 \n",
       "  266,170.016 271.528,166.331 277.055,162.646 282.583,166.331 288.11,170.016 293.638,166.331 299.165,162.646 304.693,158.961 310.22,155.276 315.748,158.961 \n",
       "  \n",
       "  \"/>\n",
       "<polyline clip-path=\"url(#clip02)\" style=\"stroke:#f05f73; stroke-width:1; stroke-opacity:1; fill:none\" points=\"\n",
       "  44.8976,192.126 50.4252,195.811 55.9528,192.126 61.4803,188.441 67.0079,184.756 72.5354,181.071 78.063,177.386 83.5906,181.071 89.1181,177.386 94.6457,173.701 \n",
       "  100.173,177.386 105.701,181.071 111.228,177.386 116.756,173.701 122.283,177.386 127.811,173.701 133.339,170.016 138.866,173.701 144.394,170.016 149.921,173.701 \n",
       "  155.449,177.386 160.976,173.701 166.504,177.386 172.031,181.071 177.559,184.756 183.087,181.071 188.614,184.756 194.142,181.071 199.669,177.386 205.197,181.071 \n",
       "  210.724,177.386 216.252,173.701 221.78,177.386 227.307,173.701 232.835,177.386 238.362,181.071 243.89,184.756 249.417,188.441 254.945,184.756 260.472,181.071 \n",
       "  266,184.756 271.528,188.441 277.055,192.126 282.583,195.811 288.11,199.496 293.638,195.811 299.165,199.496 304.693,195.811 310.22,192.126 315.748,195.811 \n",
       "  \n",
       "  \"/>\n",
       "<polyline clip-path=\"url(#clip02)\" style=\"stroke:#dd64b5; stroke-width:1; stroke-opacity:1; fill:none\" points=\"\n",
       "  44.8976,192.126 50.4252,195.811 55.9528,192.126 61.4803,188.441 67.0079,192.126 72.5354,195.811 78.063,192.126 83.5906,188.441 89.1181,192.126 94.6457,188.441 \n",
       "  100.173,184.756 105.701,188.441 111.228,184.756 116.756,188.441 122.283,192.126 127.811,195.811 133.339,199.496 138.866,195.811 144.394,192.126 149.921,188.441 \n",
       "  155.449,192.126 160.976,188.441 166.504,192.126 172.031,195.811 177.559,199.496 183.087,195.811 188.614,192.126 194.142,188.441 199.669,192.126 205.197,195.811 \n",
       "  210.724,192.126 216.252,195.811 221.78,199.496 227.307,203.181 232.835,199.496 238.362,195.811 243.89,192.126 249.417,188.441 254.945,192.126 260.472,195.811 \n",
       "  266,192.126 271.528,188.441 277.055,184.756 282.583,188.441 288.11,184.756 293.638,188.441 299.165,184.756 304.693,181.071 310.22,184.756 315.748,181.071 \n",
       "  \n",
       "  \"/>\n",
       "<polyline clip-path=\"url(#clip02)\" style=\"stroke:#6b9e32; stroke-width:1; stroke-opacity:1; fill:none\" points=\"\n",
       "  44.8976,192.126 50.4252,195.811 55.9528,199.496 61.4803,195.811 67.0079,199.496 72.5354,203.181 78.063,199.496 83.5906,195.811 89.1181,192.126 94.6457,195.811 \n",
       "  100.173,199.496 105.701,203.181 111.228,206.866 116.756,210.551 122.283,214.236 127.811,210.551 133.339,214.236 138.866,210.551 144.394,206.866 149.921,210.551 \n",
       "  155.449,214.236 160.976,210.551 166.504,214.236 172.031,210.551 177.559,214.236 183.087,210.551 188.614,206.866 194.142,203.181 199.669,199.496 205.197,195.811 \n",
       "  210.724,192.126 216.252,188.441 221.78,192.126 227.307,188.441 232.835,184.756 238.362,188.441 243.89,184.756 249.417,181.071 254.945,177.386 260.472,173.701 \n",
       "  266,177.386 271.528,173.701 277.055,177.386 282.583,181.071 288.11,184.756 293.638,188.441 299.165,184.756 304.693,181.071 310.22,177.386 315.748,173.701 \n",
       "  \n",
       "  \"/>\n",
       "<polyline clip-path=\"url(#clip02)\" style=\"stroke:#718c69; stroke-width:1; stroke-opacity:1; fill:none\" points=\"\n",
       "  44.8976,192.126 50.4252,195.811 55.9528,199.496 61.4803,195.811 67.0079,199.496 72.5354,203.181 78.063,199.496 83.5906,203.181 89.1181,206.866 94.6457,210.551 \n",
       "  100.173,206.866 105.701,203.181 111.228,199.496 116.756,203.181 122.283,206.866 127.811,203.181 133.339,206.866 138.866,203.181 144.394,206.866 149.921,203.181 \n",
       "  155.449,206.866 160.976,210.551 166.504,214.236 172.031,217.921 177.559,214.236 183.087,217.921 188.614,214.236 194.142,217.921 199.669,214.236 205.197,210.551 \n",
       "  210.724,214.236 216.252,210.551 221.78,214.236 227.307,217.921 232.835,221.606 238.362,225.291 243.89,221.606 249.417,217.921 254.945,221.606 260.472,217.921 \n",
       "  266,221.606 271.528,225.291 277.055,221.606 282.583,217.921 288.11,214.236 293.638,210.551 299.165,214.236 304.693,210.551 310.22,206.866 315.748,203.181 \n",
       "  \n",
       "  \"/>\n",
       "<polyline clip-path=\"url(#clip02)\" style=\"stroke:#47988b; stroke-width:1; stroke-opacity:1; fill:none\" points=\"\n",
       "  44.8976,192.126 50.4252,188.441 55.9528,192.126 61.4803,195.811 67.0079,199.496 72.5354,203.181 78.063,206.866 83.5906,210.551 89.1181,214.236 94.6457,210.551 \n",
       "  100.173,206.866 105.701,210.551 111.228,214.236 116.756,217.921 122.283,214.236 127.811,217.921 133.339,221.606 138.866,225.291 144.394,228.976 149.921,225.291 \n",
       "  155.449,221.606 160.976,225.291 166.504,221.606 172.031,225.291 177.559,221.606 183.087,225.291 188.614,221.606 194.142,225.291 199.669,221.606 205.197,217.921 \n",
       "  210.724,221.606 216.252,217.921 221.78,221.606 227.307,225.291 232.835,228.976 238.362,225.291 243.89,221.606 249.417,225.291 254.945,221.606 260.472,225.291 \n",
       "  266,221.606 271.528,225.291 277.055,228.976 282.583,232.661 288.11,228.976 293.638,232.661 299.165,236.346 304.693,232.661 310.22,228.976 315.748,225.291 \n",
       "  \n",
       "  \"/>\n",
       "<polyline clip-path=\"url(#clip02)\" style=\"stroke:#1ea68c; stroke-width:1; stroke-opacity:1; fill:none\" points=\"\n",
       "  44.8976,192.126 50.4252,188.441 55.9528,192.126 61.4803,188.441 67.0079,192.126 72.5354,195.811 78.063,192.126 83.5906,195.811 89.1181,199.496 94.6457,195.811 \n",
       "  100.173,192.126 105.701,188.441 111.228,184.756 116.756,188.441 122.283,192.126 127.811,188.441 133.339,192.126 138.866,195.811 144.394,192.126 149.921,188.441 \n",
       "  155.449,192.126 160.976,188.441 166.504,192.126 172.031,188.441 177.559,192.126 183.087,195.811 188.614,199.496 194.142,203.181 199.669,199.496 205.197,203.181 \n",
       "  210.724,206.866 216.252,203.181 221.78,206.866 227.307,210.551 232.835,206.866 238.362,203.181 243.89,206.866 249.417,210.551 254.945,214.236 260.472,217.921 \n",
       "  266,214.236 271.528,210.551 277.055,214.236 282.583,217.921 288.11,214.236 293.638,210.551 299.165,206.866 304.693,210.551 310.22,214.236 315.748,217.921 \n",
       "  \n",
       "  \"/>\n",
       "<polyline clip-path=\"url(#clip02)\" style=\"stroke:#af78dd; stroke-width:1; stroke-opacity:1; fill:none\" points=\"\n",
       "  44.8976,192.126 50.4252,188.441 55.9528,192.126 61.4803,188.441 67.0079,192.126 72.5354,188.441 78.063,192.126 83.5906,195.811 89.1181,192.126 94.6457,195.811 \n",
       "  100.173,199.496 105.701,203.181 111.228,206.866 116.756,210.551 122.283,206.866 127.811,210.551 133.339,214.236 138.866,217.921 144.394,214.236 149.921,217.921 \n",
       "  155.449,214.236 160.976,210.551 166.504,214.236 172.031,217.921 177.559,221.606 183.087,217.921 188.614,214.236 194.142,210.551 199.669,206.866 205.197,210.551 \n",
       "  210.724,214.236 216.252,210.551 221.78,214.236 227.307,217.921 232.835,214.236 238.362,210.551 243.89,206.866 249.417,210.551 254.945,214.236 260.472,210.551 \n",
       "  266,214.236 271.528,210.551 277.055,214.236 282.583,217.921 288.11,214.236 293.638,217.921 299.165,214.236 304.693,217.921 310.22,214.236 315.748,210.551 \n",
       "  \n",
       "  \"/>\n",
       "<polyline clip-path=\"url(#clip02)\" style=\"stroke:#868d87; stroke-width:1; stroke-opacity:1; fill:none\" points=\"\n",
       "  44.8976,192.126 50.4252,188.441 55.9528,192.126 61.4803,188.441 67.0079,192.126 72.5354,188.441 78.063,184.756 83.5906,188.441 89.1181,192.126 94.6457,188.441 \n",
       "  100.173,184.756 105.701,188.441 111.228,192.126 116.756,188.441 122.283,184.756 127.811,188.441 133.339,184.756 138.866,188.441 144.394,184.756 149.921,188.441 \n",
       "  155.449,192.126 160.976,195.811 166.504,192.126 172.031,188.441 177.559,184.756 183.087,188.441 188.614,192.126 194.142,188.441 199.669,184.756 205.197,181.071 \n",
       "  210.724,177.386 216.252,173.701 221.78,170.016 227.307,166.331 232.835,162.646 238.362,158.961 243.89,162.646 249.417,166.331 254.945,162.646 260.472,158.961 \n",
       "  266,155.276 271.528,158.961 277.055,155.276 282.583,158.961 288.11,162.646 293.638,158.961 299.165,155.276 304.693,151.591 310.22,155.276 315.748,151.591 \n",
       "  \n",
       "  \"/>\n",
       "<polyline clip-path=\"url(#clip02)\" style=\"stroke:#47a065; stroke-width:1; stroke-opacity:1; fill:none\" points=\"\n",
       "  44.8976,192.126 50.4252,195.811 55.9528,199.496 61.4803,195.811 67.0079,192.126 72.5354,188.441 78.063,184.756 83.5906,181.071 89.1181,184.756 94.6457,188.441 \n",
       "  100.173,192.126 105.701,195.811 111.228,199.496 116.756,195.811 122.283,199.496 127.811,195.811 133.339,199.496 138.866,195.811 144.394,199.496 149.921,203.181 \n",
       "  155.449,199.496 160.976,203.181 166.504,199.496 172.031,195.811 177.559,192.126 183.087,195.811 188.614,192.126 194.142,195.811 199.669,192.126 205.197,188.441 \n",
       "  210.724,184.756 216.252,181.071 221.78,184.756 227.307,181.071 232.835,184.756 238.362,181.071 243.89,177.386 249.417,181.071 254.945,184.756 260.472,181.071 \n",
       "  266,184.756 271.528,181.071 277.055,184.756 282.583,188.441 288.11,184.756 293.638,188.441 299.165,184.756 304.693,181.071 310.22,184.756 315.748,188.441 \n",
       "  \n",
       "  \"/>\n",
       "<polyline clip-path=\"url(#clip02)\" style=\"stroke:#7683af; stroke-width:1; stroke-opacity:1; fill:none\" points=\"\n",
       "  44.8976,192.126 50.4252,195.811 55.9528,199.496 61.4803,203.181 67.0079,199.496 72.5354,195.811 78.063,199.496 83.5906,203.181 89.1181,199.496 94.6457,203.181 \n",
       "  100.173,199.496 105.701,195.811 111.228,192.126 116.756,195.811 122.283,199.496 127.811,195.811 133.339,199.496 138.866,195.811 144.394,192.126 149.921,195.811 \n",
       "  155.449,192.126 160.976,195.811 166.504,199.496 172.031,203.181 177.559,206.866 183.087,203.181 188.614,206.866 194.142,203.181 199.669,199.496 205.197,195.811 \n",
       "  210.724,199.496 216.252,203.181 221.78,199.496 227.307,203.181 232.835,199.496 238.362,195.811 243.89,199.496 249.417,203.181 254.945,206.866 260.472,203.181 \n",
       "  266,199.496 271.528,195.811 277.055,192.126 282.583,188.441 288.11,192.126 293.638,188.441 299.165,184.756 304.693,188.441 310.22,184.756 315.748,181.071 \n",
       "  \n",
       "  \"/>\n",
       "<polyline clip-path=\"url(#clip02)\" style=\"stroke:#b08086; stroke-width:1; stroke-opacity:1; fill:none\" points=\"\n",
       "  44.8976,192.126 50.4252,195.811 55.9528,192.126 61.4803,188.441 67.0079,192.126 72.5354,195.811 78.063,192.126 83.5906,188.441 89.1181,192.126 94.6457,195.811 \n",
       "  100.173,199.496 105.701,203.181 111.228,199.496 116.756,203.181 122.283,206.866 127.811,210.551 133.339,214.236 138.866,217.921 144.394,214.236 149.921,210.551 \n",
       "  155.449,206.866 160.976,203.181 166.504,206.866 172.031,203.181 177.559,206.866 183.087,203.181 188.614,206.866 194.142,203.181 199.669,199.496 205.197,195.811 \n",
       "  210.724,192.126 216.252,188.441 221.78,184.756 227.307,188.441 232.835,184.756 238.362,181.071 243.89,184.756 249.417,181.071 254.945,177.386 260.472,181.071 \n",
       "  266,184.756 271.528,188.441 277.055,184.756 282.583,188.441 288.11,184.756 293.638,188.441 299.165,192.126 304.693,188.441 310.22,184.756 315.748,181.071 \n",
       "  \n",
       "  \"/>\n",
       "<polyline clip-path=\"url(#clip02)\" style=\"stroke:#309ac1; stroke-width:1; stroke-opacity:1; fill:none\" points=\"\n",
       "  44.8976,192.126 50.4252,188.441 55.9528,184.756 61.4803,188.441 67.0079,192.126 72.5354,188.441 78.063,184.756 83.5906,181.071 89.1181,177.386 94.6457,173.701 \n",
       "  100.173,177.386 105.701,181.071 111.228,177.386 116.756,173.701 122.283,177.386 127.811,181.071 133.339,177.386 138.866,181.071 144.394,184.756 149.921,188.441 \n",
       "  155.449,192.126 160.976,188.441 166.504,184.756 172.031,188.441 177.559,184.756 183.087,181.071 188.614,184.756 194.142,181.071 199.669,177.386 205.197,173.701 \n",
       "  210.724,170.016 216.252,173.701 221.78,177.386 227.307,181.071 232.835,177.386 238.362,181.071 243.89,184.756 249.417,188.441 254.945,192.126 260.472,188.441 \n",
       "  266,192.126 271.528,188.441 277.055,192.126 282.583,195.811 288.11,199.496 293.638,203.181 299.165,206.866 304.693,203.181 310.22,199.496 315.748,203.181 \n",
       "  \n",
       "  \"/>\n",
       "<polyline clip-path=\"url(#clip02)\" style=\"stroke:#788490; stroke-width:1; stroke-opacity:1; fill:none\" points=\"\n",
       "  44.8976,192.126 50.4252,188.441 55.9528,184.756 61.4803,188.441 67.0079,192.126 72.5354,188.441 78.063,192.126 83.5906,195.811 89.1181,192.126 94.6457,195.811 \n",
       "  100.173,199.496 105.701,195.811 111.228,199.496 116.756,195.811 122.283,192.126 127.811,195.811 133.339,199.496 138.866,195.811 144.394,192.126 149.921,195.811 \n",
       "  155.449,199.496 160.976,203.181 166.504,199.496 172.031,203.181 177.559,199.496 183.087,195.811 188.614,192.126 194.142,195.811 199.669,199.496 205.197,203.181 \n",
       "  210.724,199.496 216.252,195.811 221.78,199.496 227.307,195.811 232.835,192.126 238.362,188.441 243.89,184.756 249.417,181.071 254.945,177.386 260.472,181.071 \n",
       "  266,177.386 271.528,181.071 277.055,177.386 282.583,181.071 288.11,177.386 293.638,173.701 299.165,177.386 304.693,173.701 310.22,177.386 315.748,181.071 \n",
       "  \n",
       "  \"/>\n",
       "<polyline clip-path=\"url(#clip02)\" style=\"stroke:#e561a4; stroke-width:1; stroke-opacity:1; fill:none\" points=\"\n",
       "  44.8976,192.126 50.4252,188.441 55.9528,184.756 61.4803,188.441 67.0079,184.756 72.5354,181.071 78.063,184.756 83.5906,181.071 89.1181,177.386 94.6457,181.071 \n",
       "  100.173,177.386 105.701,173.701 111.228,170.016 116.756,173.701 122.283,170.016 127.811,166.331 133.339,170.016 138.866,173.701 144.394,170.016 149.921,166.331 \n",
       "  155.449,170.016 160.976,166.331 166.504,162.646 172.031,166.331 177.559,170.016 183.087,173.701 188.614,170.016 194.142,173.701 199.669,170.016 205.197,173.701 \n",
       "  210.724,177.386 216.252,173.701 221.78,170.016 227.307,166.331 232.835,162.646 238.362,166.331 243.89,170.016 249.417,166.331 254.945,162.646 260.472,166.331 \n",
       "  266,162.646 271.528,158.961 277.055,155.276 282.583,151.591 288.11,155.276 293.638,158.961 299.165,155.276 304.693,151.591 310.22,155.276 315.748,158.961 \n",
       "  \n",
       "  \"/>\n",
       "<polyline clip-path=\"url(#clip02)\" style=\"stroke:#99902c; stroke-width:1; stroke-opacity:1; fill:none\" points=\"\n",
       "  44.8976,192.126 50.4252,195.811 55.9528,192.126 61.4803,188.441 67.0079,184.756 72.5354,188.441 78.063,192.126 83.5906,188.441 89.1181,184.756 94.6457,181.071 \n",
       "  100.173,177.386 105.701,173.701 111.228,170.016 116.756,173.701 122.283,170.016 127.811,173.701 133.339,177.386 138.866,173.701 144.394,177.386 149.921,181.071 \n",
       "  155.449,184.756 160.976,181.071 166.504,177.386 172.031,173.701 177.559,177.386 183.087,173.701 188.614,170.016 194.142,173.701 199.669,170.016 205.197,173.701 \n",
       "  210.724,177.386 216.252,173.701 221.78,177.386 227.307,181.071 232.835,184.756 238.362,188.441 243.89,192.126 249.417,188.441 254.945,192.126 260.472,195.811 \n",
       "  266,192.126 271.528,195.811 277.055,199.496 282.583,195.811 288.11,199.496 293.638,203.181 299.165,206.866 304.693,210.551 310.22,214.236 315.748,217.921 \n",
       "  \n",
       "  \"/>\n",
       "<polyline clip-path=\"url(#clip02)\" style=\"stroke:#389a7b; stroke-width:1; stroke-opacity:1; fill:none\" points=\"\n",
       "  44.8976,192.126 50.4252,195.811 55.9528,199.496 61.4803,195.811 67.0079,192.126 72.5354,188.441 78.063,184.756 83.5906,181.071 89.1181,177.386 94.6457,173.701 \n",
       "  100.173,170.016 105.701,166.331 111.228,162.646 116.756,158.961 122.283,162.646 127.811,166.331 133.339,170.016 138.866,166.331 144.394,162.646 149.921,158.961 \n",
       "  155.449,155.276 160.976,158.961 166.504,162.646 172.031,158.961 177.559,162.646 183.087,158.961 188.614,155.276 194.142,158.961 199.669,155.276 205.197,158.961 \n",
       "  210.724,162.646 216.252,158.961 221.78,155.276 227.307,158.961 232.835,155.276 238.362,158.961 243.89,162.646 249.417,166.331 254.945,162.646 260.472,158.961 \n",
       "  266,162.646 271.528,166.331 277.055,162.646 282.583,166.331 288.11,162.646 293.638,158.961 299.165,155.276 304.693,158.961 310.22,155.276 315.748,151.591 \n",
       "  \n",
       "  \"/>\n",
       "<polyline clip-path=\"url(#clip02)\" style=\"stroke:#d968a2; stroke-width:1; stroke-opacity:1; fill:none\" points=\"\n",
       "  44.8976,192.126 50.4252,188.441 55.9528,192.126 61.4803,195.811 67.0079,199.496 72.5354,203.181 78.063,199.496 83.5906,203.181 89.1181,199.496 94.6457,203.181 \n",
       "  100.173,206.866 105.701,210.551 111.228,214.236 116.756,210.551 122.283,214.236 127.811,210.551 133.339,214.236 138.866,210.551 144.394,206.866 149.921,203.181 \n",
       "  155.449,199.496 160.976,203.181 166.504,199.496 172.031,195.811 177.559,199.496 183.087,195.811 188.614,199.496 194.142,203.181 199.669,206.866 205.197,203.181 \n",
       "  210.724,199.496 216.252,195.811 221.78,199.496 227.307,203.181 232.835,206.866 238.362,210.551 243.89,206.866 249.417,210.551 254.945,214.236 260.472,217.921 \n",
       "  266,221.606 271.528,225.291 277.055,221.606 282.583,217.921 288.11,214.236 293.638,217.921 299.165,221.606 304.693,217.921 310.22,221.606 315.748,217.921 \n",
       "  \n",
       "  \"/>\n",
       "<polyline clip-path=\"url(#clip02)\" style=\"stroke:#009af9; stroke-width:1; stroke-opacity:1; fill:none\" points=\"\n",
       "  44.8976,192.126 50.4252,195.811 55.9528,199.496 61.4803,203.181 67.0079,199.496 72.5354,203.181 78.063,199.496 83.5906,203.181 89.1181,206.866 94.6457,210.551 \n",
       "  100.173,214.236 105.701,217.921 111.228,221.606 116.756,225.291 122.283,228.976 127.811,232.661 133.339,228.976 138.866,225.291 144.394,228.976 149.921,225.291 \n",
       "  155.449,221.606 160.976,217.921 166.504,221.606 172.031,217.921 177.559,214.236 183.087,217.921 188.614,214.236 194.142,210.551 199.669,214.236 205.197,217.921 \n",
       "  210.724,214.236 216.252,217.921 221.78,221.606 227.307,225.291 232.835,228.976 238.362,225.291 243.89,221.606 249.417,217.921 254.945,214.236 260.472,217.921 \n",
       "  266,214.236 271.528,217.921 277.055,221.606 282.583,225.291 288.11,228.976 293.638,225.291 299.165,228.976 304.693,225.291 310.22,221.606 315.748,217.921 \n",
       "  \n",
       "  \"/>\n",
       "<polyline clip-path=\"url(#clip02)\" style=\"stroke:#e26f46; stroke-width:1; stroke-opacity:1; fill:none\" points=\"\n",
       "  44.8976,192.126 50.4252,195.811 55.9528,199.496 61.4803,195.811 67.0079,192.126 72.5354,195.811 78.063,199.496 83.5906,195.811 89.1181,199.496 94.6457,195.811 \n",
       "  100.173,192.126 105.701,188.441 111.228,184.756 116.756,188.441 122.283,192.126 127.811,195.811 133.339,199.496 138.866,195.811 144.394,199.496 149.921,203.181 \n",
       "  155.449,206.866 160.976,203.181 166.504,199.496 172.031,195.811 177.559,199.496 183.087,203.181 188.614,199.496 194.142,203.181 199.669,199.496 205.197,195.811 \n",
       "  210.724,199.496 216.252,203.181 221.78,206.866 227.307,203.181 232.835,199.496 238.362,203.181 243.89,199.496 249.417,203.181 254.945,199.496 260.472,195.811 \n",
       "  266,199.496 271.528,195.811 277.055,192.126 282.583,188.441 288.11,184.756 293.638,181.071 299.165,184.756 304.693,188.441 310.22,192.126 315.748,195.811 \n",
       "  \n",
       "  \"/>\n",
       "<polyline clip-path=\"url(#clip02)\" style=\"stroke:#3da44d; stroke-width:1; stroke-opacity:1; fill:none\" points=\"\n",
       "  44.8976,192.126 50.4252,188.441 55.9528,184.756 61.4803,181.071 67.0079,184.756 72.5354,181.071 78.063,184.756 83.5906,188.441 89.1181,192.126 94.6457,195.811 \n",
       "  100.173,199.496 105.701,195.811 111.228,192.126 116.756,188.441 122.283,192.126 127.811,188.441 133.339,184.756 138.866,181.071 144.394,177.386 149.921,181.071 \n",
       "  155.449,184.756 160.976,188.441 166.504,184.756 172.031,188.441 177.559,184.756 183.087,181.071 188.614,184.756 194.142,181.071 199.669,177.386 205.197,181.071 \n",
       "  210.724,177.386 216.252,173.701 221.78,177.386 227.307,181.071 232.835,177.386 238.362,181.071 243.89,184.756 249.417,188.441 254.945,192.126 260.472,188.441 \n",
       "  266,184.756 271.528,188.441 277.055,184.756 282.583,181.071 288.11,177.386 293.638,173.701 299.165,170.016 304.693,166.331 310.22,162.646 315.748,158.961 \n",
       "  \n",
       "  \"/>\n",
       "<polyline clip-path=\"url(#clip02)\" style=\"stroke:#c271d2; stroke-width:1; stroke-opacity:1; fill:none\" points=\"\n",
       "  44.8976,192.126 50.4252,188.441 55.9528,184.756 61.4803,188.441 67.0079,184.756 72.5354,188.441 78.063,184.756 83.5906,188.441 89.1181,192.126 94.6457,195.811 \n",
       "  100.173,199.496 105.701,203.181 111.228,206.866 116.756,210.551 122.283,206.866 127.811,203.181 133.339,199.496 138.866,203.181 144.394,199.496 149.921,203.181 \n",
       "  155.449,199.496 160.976,195.811 166.504,199.496 172.031,195.811 177.559,192.126 183.087,188.441 188.614,184.756 194.142,188.441 199.669,184.756 205.197,181.071 \n",
       "  210.724,177.386 216.252,181.071 221.78,184.756 227.307,181.071 232.835,184.756 238.362,188.441 243.89,184.756 249.417,181.071 254.945,177.386 260.472,181.071 \n",
       "  266,177.386 271.528,173.701 277.055,177.386 282.583,181.071 288.11,184.756 293.638,188.441 299.165,184.756 304.693,188.441 310.22,192.126 315.748,188.441 \n",
       "  \n",
       "  \"/>\n",
       "<polyline clip-path=\"url(#clip02)\" style=\"stroke:#ac8d18; stroke-width:1; stroke-opacity:1; fill:none\" points=\"\n",
       "  44.8976,192.126 50.4252,195.811 55.9528,199.496 61.4803,195.811 67.0079,199.496 72.5354,203.181 78.063,206.866 83.5906,203.181 89.1181,199.496 94.6457,203.181 \n",
       "  100.173,199.496 105.701,195.811 111.228,199.496 116.756,203.181 122.283,206.866 127.811,210.551 133.339,214.236 138.866,217.921 144.394,221.606 149.921,225.291 \n",
       "  155.449,221.606 160.976,217.921 166.504,214.236 172.031,217.921 177.559,214.236 183.087,210.551 188.614,206.866 194.142,203.181 199.669,199.496 205.197,203.181 \n",
       "  210.724,206.866 216.252,210.551 221.78,214.236 227.307,217.921 232.835,214.236 238.362,217.921 243.89,214.236 249.417,217.921 254.945,221.606 260.472,217.921 \n",
       "  266,221.606 271.528,217.921 277.055,214.236 282.583,217.921 288.11,214.236 293.638,217.921 299.165,221.606 304.693,217.921 310.22,214.236 315.748,217.921 \n",
       "  \n",
       "  \"/>\n",
       "<polyline clip-path=\"url(#clip02)\" style=\"stroke:#00a9ad; stroke-width:1; stroke-opacity:1; fill:none\" points=\"\n",
       "  44.8976,192.126 50.4252,188.441 55.9528,184.756 61.4803,181.071 67.0079,177.386 72.5354,181.071 78.063,177.386 83.5906,181.071 89.1181,177.386 94.6457,181.071 \n",
       "  100.173,177.386 105.701,181.071 111.228,177.386 116.756,181.071 122.283,184.756 127.811,188.441 133.339,184.756 138.866,188.441 144.394,184.756 149.921,188.441 \n",
       "  155.449,192.126 160.976,188.441 166.504,184.756 172.031,181.071 177.559,184.756 183.087,188.441 188.614,192.126 194.142,188.441 199.669,184.756 205.197,181.071 \n",
       "  210.724,184.756 216.252,181.071 221.78,177.386 227.307,173.701 232.835,177.386 238.362,181.071 243.89,184.756 249.417,188.441 254.945,184.756 260.472,188.441 \n",
       "  266,184.756 271.528,188.441 277.055,192.126 282.583,188.441 288.11,192.126 293.638,195.811 299.165,199.496 304.693,203.181 310.22,199.496 315.748,195.811 \n",
       "  \n",
       "  \"/>\n",
       "<polyline clip-path=\"url(#clip02)\" style=\"stroke:#ed5d92; stroke-width:1; stroke-opacity:1; fill:none\" points=\"\n",
       "  44.8976,192.126 50.4252,195.811 55.9528,199.496 61.4803,195.811 67.0079,199.496 72.5354,195.811 78.063,199.496 83.5906,203.181 89.1181,199.496 94.6457,195.811 \n",
       "  100.173,199.496 105.701,203.181 111.228,206.866 116.756,203.181 122.283,199.496 127.811,203.181 133.339,199.496 138.866,203.181 144.394,199.496 149.921,203.181 \n",
       "  155.449,199.496 160.976,203.181 166.504,206.866 172.031,203.181 177.559,199.496 183.087,203.181 188.614,199.496 194.142,195.811 199.669,192.126 205.197,195.811 \n",
       "  210.724,199.496 216.252,203.181 221.78,206.866 227.307,203.181 232.835,199.496 238.362,203.181 243.89,206.866 249.417,203.181 254.945,206.866 260.472,210.551 \n",
       "  266,214.236 271.528,210.551 277.055,206.866 282.583,203.181 288.11,206.866 293.638,203.181 299.165,206.866 304.693,210.551 310.22,206.866 315.748,203.181 \n",
       "  \n",
       "  \"/>\n",
       "<polyline clip-path=\"url(#clip02)\" style=\"stroke:#c68125; stroke-width:1; stroke-opacity:1; fill:none\" points=\"\n",
       "  44.8976,192.126 50.4252,188.441 55.9528,184.756 61.4803,188.441 67.0079,192.126 72.5354,195.811 78.063,199.496 83.5906,203.181 89.1181,206.866 94.6457,203.181 \n",
       "  100.173,206.866 105.701,210.551 111.228,206.866 116.756,210.551 122.283,214.236 127.811,217.921 133.339,214.236 138.866,217.921 144.394,214.236 149.921,217.921 \n",
       "  155.449,221.606 160.976,225.291 166.504,228.976 172.031,232.661 177.559,236.346 183.087,232.661 188.614,236.346 194.142,240.031 199.669,243.717 205.197,247.402 \n",
       "  210.724,243.717 216.252,247.402 221.78,243.717 227.307,240.031 232.835,236.346 238.362,232.661 243.89,228.976 249.417,232.661 254.945,236.346 260.472,232.661 \n",
       "  266,236.346 271.528,232.661 277.055,236.346 282.583,240.031 288.11,236.346 293.638,240.031 299.165,236.346 304.693,232.661 310.22,236.346 315.748,232.661 \n",
       "  \n",
       "  \"/>\n",
       "<polyline clip-path=\"url(#clip02)\" style=\"stroke:#00a98d; stroke-width:1; stroke-opacity:1; fill:none\" points=\"\n",
       "  44.8976,192.126 50.4252,195.811 55.9528,192.126 61.4803,188.441 67.0079,184.756 72.5354,181.071 78.063,184.756 83.5906,188.441 89.1181,184.756 94.6457,188.441 \n",
       "  100.173,184.756 105.701,188.441 111.228,192.126 116.756,195.811 122.283,192.126 127.811,188.441 133.339,184.756 138.866,181.071 144.394,177.386 149.921,181.071 \n",
       "  155.449,184.756 160.976,181.071 166.504,177.386 172.031,181.071 177.559,177.386 183.087,181.071 188.614,184.756 194.142,188.441 199.669,192.126 205.197,188.441 \n",
       "  210.724,192.126 216.252,188.441 221.78,192.126 227.307,195.811 232.835,192.126 238.362,188.441 243.89,184.756 249.417,188.441 254.945,184.756 260.472,188.441 \n",
       "  266,184.756 271.528,181.071 277.055,177.386 282.583,181.071 288.11,184.756 293.638,181.071 299.165,184.756 304.693,181.071 310.22,177.386 315.748,181.071 \n",
       "  \n",
       "  \"/>\n",
       "<polyline clip-path=\"url(#clip02)\" style=\"stroke:#8e971d; stroke-width:1; stroke-opacity:1; fill:none\" points=\"\n",
       "  44.8976,192.126 50.4252,195.811 55.9528,192.126 61.4803,195.811 67.0079,192.126 72.5354,188.441 78.063,192.126 83.5906,188.441 89.1181,184.756 94.6457,188.441 \n",
       "  100.173,184.756 105.701,181.071 111.228,184.756 116.756,188.441 122.283,184.756 127.811,181.071 133.339,184.756 138.866,181.071 144.394,184.756 149.921,188.441 \n",
       "  155.449,184.756 160.976,188.441 166.504,184.756 172.031,181.071 177.559,177.386 183.087,173.701 188.614,170.016 194.142,173.701 199.669,177.386 205.197,173.701 \n",
       "  210.724,170.016 216.252,173.701 221.78,177.386 227.307,173.701 232.835,177.386 238.362,181.071 243.89,177.386 249.417,173.701 254.945,177.386 260.472,181.071 \n",
       "  266,184.756 271.528,188.441 277.055,192.126 282.583,188.441 288.11,192.126 293.638,195.811 299.165,192.126 304.693,195.811 310.22,192.126 315.748,188.441 \n",
       "  \n",
       "  \"/>\n",
       "<polyline clip-path=\"url(#clip02)\" style=\"stroke:#00a8cb; stroke-width:1; stroke-opacity:1; fill:none\" points=\"\n",
       "  44.8976,192.126 50.4252,188.441 55.9528,192.126 61.4803,195.811 67.0079,199.496 72.5354,195.811 78.063,199.496 83.5906,203.181 89.1181,206.866 94.6457,203.181 \n",
       "  100.173,206.866 105.701,203.181 111.228,206.866 116.756,203.181 122.283,199.496 127.811,203.181 133.339,199.496 138.866,195.811 144.394,199.496 149.921,195.811 \n",
       "  155.449,199.496 160.976,203.181 166.504,199.496 172.031,195.811 177.559,199.496 183.087,195.811 188.614,192.126 194.142,195.811 199.669,192.126 205.197,188.441 \n",
       "  210.724,192.126 216.252,195.811 221.78,199.496 227.307,203.181 232.835,199.496 238.362,195.811 243.89,199.496 249.417,195.811 254.945,199.496 260.472,203.181 \n",
       "  266,199.496 271.528,203.181 277.055,199.496 282.583,195.811 288.11,199.496 293.638,195.811 299.165,192.126 304.693,188.441 310.22,184.756 315.748,188.441 \n",
       "  \n",
       "  \"/>\n",
       "<polyline clip-path=\"url(#clip02)\" style=\"stroke:#9b7fe8; stroke-width:1; stroke-opacity:1; fill:none\" points=\"\n",
       "  44.8976,192.126 50.4252,188.441 55.9528,184.756 61.4803,188.441 67.0079,184.756 72.5354,188.441 78.063,184.756 83.5906,188.441 89.1181,184.756 94.6457,188.441 \n",
       "  100.173,184.756 105.701,181.071 111.228,184.756 116.756,181.071 122.283,177.386 127.811,181.071 133.339,184.756 138.866,188.441 144.394,184.756 149.921,181.071 \n",
       "  155.449,177.386 160.976,181.071 166.504,177.386 172.031,181.071 177.559,177.386 183.087,173.701 188.614,177.386 194.142,181.071 199.669,184.756 205.197,181.071 \n",
       "  210.724,184.756 216.252,181.071 221.78,184.756 227.307,188.441 232.835,192.126 238.362,188.441 243.89,184.756 249.417,181.071 254.945,184.756 260.472,188.441 \n",
       "  266,184.756 271.528,188.441 277.055,192.126 282.583,195.811 288.11,192.126 293.638,188.441 299.165,184.756 304.693,188.441 310.22,192.126 315.748,188.441 \n",
       "  \n",
       "  \"/>\n",
       "<polyline clip-path=\"url(#clip02)\" style=\"stroke:#608cf6; stroke-width:1; stroke-opacity:1; fill:none\" points=\"\n",
       "  44.8976,192.126 50.4252,195.811 55.9528,199.496 61.4803,195.811 67.0079,199.496 72.5354,203.181 78.063,199.496 83.5906,195.811 89.1181,199.496 94.6457,203.181 \n",
       "  100.173,199.496 105.701,195.811 111.228,192.126 116.756,195.811 122.283,192.126 127.811,188.441 133.339,184.756 138.866,181.071 144.394,184.756 149.921,181.071 \n",
       "  155.449,177.386 160.976,181.071 166.504,184.756 172.031,188.441 177.559,192.126 183.087,188.441 188.614,184.756 194.142,188.441 199.669,192.126 205.197,195.811 \n",
       "  210.724,192.126 216.252,195.811 221.78,192.126 227.307,188.441 232.835,184.756 238.362,181.071 243.89,177.386 249.417,173.701 254.945,170.016 260.472,173.701 \n",
       "  266,170.016 271.528,173.701 277.055,177.386 282.583,181.071 288.11,184.756 293.638,188.441 299.165,184.756 304.693,188.441 310.22,184.756 315.748,188.441 \n",
       "  \n",
       "  \"/>\n",
       "<polyline clip-path=\"url(#clip02)\" style=\"stroke:#f05f73; stroke-width:1; stroke-opacity:1; fill:none\" points=\"\n",
       "  44.8976,192.126 50.4252,195.811 55.9528,192.126 61.4803,195.811 67.0079,192.126 72.5354,188.441 78.063,192.126 83.5906,195.811 89.1181,199.496 94.6457,195.811 \n",
       "  100.173,192.126 105.701,195.811 111.228,192.126 116.756,188.441 122.283,192.126 127.811,188.441 133.339,192.126 138.866,195.811 144.394,199.496 149.921,203.181 \n",
       "  155.449,199.496 160.976,203.181 166.504,199.496 172.031,195.811 177.559,199.496 183.087,203.181 188.614,206.866 194.142,210.551 199.669,214.236 205.197,210.551 \n",
       "  210.724,214.236 216.252,210.551 221.78,206.866 227.307,210.551 232.835,214.236 238.362,217.921 243.89,221.606 249.417,217.921 254.945,221.606 260.472,225.291 \n",
       "  266,221.606 271.528,225.291 277.055,228.976 282.583,232.661 288.11,228.976 293.638,225.291 299.165,228.976 304.693,232.661 310.22,228.976 315.748,232.661 \n",
       "  \n",
       "  \"/>\n",
       "<polyline clip-path=\"url(#clip02)\" style=\"stroke:#dd64b5; stroke-width:1; stroke-opacity:1; fill:none\" points=\"\n",
       "  44.8976,192.126 50.4252,195.811 55.9528,199.496 61.4803,195.811 67.0079,192.126 72.5354,195.811 78.063,192.126 83.5906,188.441 89.1181,192.126 94.6457,188.441 \n",
       "  100.173,192.126 105.701,195.811 111.228,192.126 116.756,195.811 122.283,199.496 127.811,203.181 133.339,199.496 138.866,203.181 144.394,206.866 149.921,210.551 \n",
       "  155.449,206.866 160.976,203.181 166.504,206.866 172.031,210.551 177.559,206.866 183.087,203.181 188.614,199.496 194.142,203.181 199.669,199.496 205.197,203.181 \n",
       "  210.724,206.866 216.252,210.551 221.78,214.236 227.307,210.551 232.835,206.866 238.362,210.551 243.89,214.236 249.417,217.921 254.945,221.606 260.472,217.921 \n",
       "  266,214.236 271.528,210.551 277.055,214.236 282.583,217.921 288.11,214.236 293.638,210.551 299.165,214.236 304.693,217.921 310.22,221.606 315.748,217.921 \n",
       "  \n",
       "  \"/>\n",
       "<polyline clip-path=\"url(#clip02)\" style=\"stroke:#6b9e32; stroke-width:1; stroke-opacity:1; fill:none\" points=\"\n",
       "  44.8976,192.126 50.4252,195.811 55.9528,199.496 61.4803,195.811 67.0079,199.496 72.5354,195.811 78.063,192.126 83.5906,195.811 89.1181,192.126 94.6457,195.811 \n",
       "  100.173,192.126 105.701,188.441 111.228,184.756 116.756,188.441 122.283,184.756 127.811,181.071 133.339,177.386 138.866,181.071 144.394,184.756 149.921,188.441 \n",
       "  155.449,192.126 160.976,195.811 166.504,199.496 172.031,195.811 177.559,199.496 183.087,195.811 188.614,192.126 194.142,195.811 199.669,192.126 205.197,188.441 \n",
       "  210.724,192.126 216.252,195.811 221.78,199.496 227.307,195.811 232.835,199.496 238.362,195.811 243.89,192.126 249.417,195.811 254.945,192.126 260.472,188.441 \n",
       "  266,192.126 271.528,195.811 277.055,199.496 282.583,195.811 288.11,199.496 293.638,195.811 299.165,199.496 304.693,195.811 310.22,192.126 315.748,188.441 \n",
       "  \n",
       "  \"/>\n",
       "<polyline clip-path=\"url(#clip02)\" style=\"stroke:#718c69; stroke-width:1; stroke-opacity:1; fill:none\" points=\"\n",
       "  44.8976,192.126 50.4252,195.811 55.9528,192.126 61.4803,195.811 67.0079,192.126 72.5354,195.811 78.063,192.126 83.5906,195.811 89.1181,199.496 94.6457,195.811 \n",
       "  100.173,199.496 105.701,195.811 111.228,192.126 116.756,188.441 122.283,184.756 127.811,181.071 133.339,184.756 138.866,188.441 144.394,192.126 149.921,188.441 \n",
       "  155.449,184.756 160.976,181.071 166.504,177.386 172.031,173.701 177.559,170.016 183.087,173.701 188.614,170.016 194.142,173.701 199.669,177.386 205.197,173.701 \n",
       "  210.724,170.016 216.252,166.331 221.78,170.016 227.307,166.331 232.835,170.016 238.362,166.331 243.89,162.646 249.417,166.331 254.945,162.646 260.472,158.961 \n",
       "  266,162.646 271.528,158.961 277.055,162.646 282.583,166.331 288.11,170.016 293.638,166.331 299.165,162.646 304.693,158.961 310.22,155.276 315.748,151.591 \n",
       "  \n",
       "  \"/>\n",
       "<polyline clip-path=\"url(#clip02)\" style=\"stroke:#47988b; stroke-width:1; stroke-opacity:1; fill:none\" points=\"\n",
       "  44.8976,192.126 50.4252,195.811 55.9528,199.496 61.4803,195.811 67.0079,199.496 72.5354,203.181 78.063,206.866 83.5906,203.181 89.1181,199.496 94.6457,195.811 \n",
       "  100.173,192.126 105.701,195.811 111.228,192.126 116.756,188.441 122.283,184.756 127.811,188.441 133.339,184.756 138.866,188.441 144.394,184.756 149.921,188.441 \n",
       "  155.449,184.756 160.976,188.441 166.504,184.756 172.031,181.071 177.559,184.756 183.087,188.441 188.614,184.756 194.142,181.071 199.669,184.756 205.197,188.441 \n",
       "  210.724,184.756 216.252,188.441 221.78,184.756 227.307,188.441 232.835,192.126 238.362,188.441 243.89,192.126 249.417,188.441 254.945,192.126 260.472,195.811 \n",
       "  266,199.496 271.528,195.811 277.055,192.126 282.583,188.441 288.11,184.756 293.638,181.071 299.165,177.386 304.693,181.071 310.22,177.386 315.748,181.071 \n",
       "  \n",
       "  \"/>\n",
       "<polyline clip-path=\"url(#clip02)\" style=\"stroke:#1ea68c; stroke-width:1; stroke-opacity:1; fill:none\" points=\"\n",
       "  44.8976,192.126 50.4252,195.811 55.9528,199.496 61.4803,195.811 67.0079,192.126 72.5354,195.811 78.063,192.126 83.5906,188.441 89.1181,192.126 94.6457,188.441 \n",
       "  100.173,192.126 105.701,195.811 111.228,199.496 116.756,203.181 122.283,206.866 127.811,203.181 133.339,199.496 138.866,195.811 144.394,192.126 149.921,188.441 \n",
       "  155.449,192.126 160.976,188.441 166.504,192.126 172.031,195.811 177.559,199.496 183.087,195.811 188.614,192.126 194.142,195.811 199.669,192.126 205.197,188.441 \n",
       "  210.724,192.126 216.252,188.441 221.78,184.756 227.307,188.441 232.835,184.756 238.362,181.071 243.89,184.756 249.417,188.441 254.945,192.126 260.472,188.441 \n",
       "  266,192.126 271.528,195.811 277.055,192.126 282.583,195.811 288.11,192.126 293.638,195.811 299.165,199.496 304.693,203.181 310.22,206.866 315.748,210.551 \n",
       "  \n",
       "  \"/>\n",
       "<polyline clip-path=\"url(#clip02)\" style=\"stroke:#af78dd; stroke-width:1; stroke-opacity:1; fill:none\" points=\"\n",
       "  44.8976,192.126 50.4252,195.811 55.9528,192.126 61.4803,195.811 67.0079,199.496 72.5354,195.811 78.063,199.496 83.5906,203.181 89.1181,206.866 94.6457,203.181 \n",
       "  100.173,199.496 105.701,195.811 111.228,199.496 116.756,203.181 122.283,206.866 127.811,203.181 133.339,206.866 138.866,210.551 144.394,214.236 149.921,217.921 \n",
       "  155.449,214.236 160.976,217.921 166.504,221.606 172.031,225.291 177.559,221.606 183.087,217.921 188.614,214.236 194.142,210.551 199.669,206.866 205.197,203.181 \n",
       "  210.724,199.496 216.252,203.181 221.78,206.866 227.307,203.181 232.835,199.496 238.362,195.811 243.89,199.496 249.417,195.811 254.945,199.496 260.472,203.181 \n",
       "  266,199.496 271.528,203.181 277.055,206.866 282.583,203.181 288.11,199.496 293.638,195.811 299.165,192.126 304.693,188.441 310.22,184.756 315.748,188.441 \n",
       "  \n",
       "  \"/>\n",
       "<polyline clip-path=\"url(#clip02)\" style=\"stroke:#868d87; stroke-width:1; stroke-opacity:1; fill:none\" points=\"\n",
       "  44.8976,192.126 50.4252,188.441 55.9528,192.126 61.4803,195.811 67.0079,199.496 72.5354,195.811 78.063,199.496 83.5906,203.181 89.1181,206.866 94.6457,203.181 \n",
       "  100.173,199.496 105.701,203.181 111.228,206.866 116.756,210.551 122.283,214.236 127.811,210.551 133.339,206.866 138.866,210.551 144.394,214.236 149.921,210.551 \n",
       "  155.449,206.866 160.976,203.181 166.504,206.866 172.031,210.551 177.559,214.236 183.087,217.921 188.614,221.606 194.142,225.291 199.669,228.976 205.197,232.661 \n",
       "  210.724,236.346 216.252,240.031 221.78,243.717 227.307,247.402 232.835,251.087 238.362,254.772 243.89,258.457 249.417,254.772 254.945,258.457 260.472,262.142 \n",
       "  266,258.457 271.528,254.772 277.055,251.087 282.583,254.772 288.11,258.457 293.638,254.772 299.165,258.457 304.693,254.772 310.22,251.087 315.748,247.402 \n",
       "  \n",
       "  \"/>\n",
       "<polyline clip-path=\"url(#clip02)\" style=\"stroke:#47a065; stroke-width:1; stroke-opacity:1; fill:none\" points=\"\n",
       "  44.8976,192.126 50.4252,195.811 55.9528,199.496 61.4803,203.181 67.0079,199.496 72.5354,203.181 78.063,199.496 83.5906,203.181 89.1181,206.866 94.6457,210.551 \n",
       "  100.173,214.236 105.701,210.551 111.228,206.866 116.756,203.181 122.283,199.496 127.811,195.811 133.339,192.126 138.866,188.441 144.394,192.126 149.921,188.441 \n",
       "  155.449,184.756 160.976,181.071 166.504,177.386 172.031,173.701 177.559,170.016 183.087,166.331 188.614,170.016 194.142,166.331 199.669,170.016 205.197,166.331 \n",
       "  210.724,162.646 216.252,158.961 221.78,155.276 227.307,158.961 232.835,155.276 238.362,158.961 243.89,162.646 249.417,158.961 254.945,162.646 260.472,166.331 \n",
       "  266,170.016 271.528,166.331 277.055,170.016 282.583,173.701 288.11,177.386 293.638,181.071 299.165,177.386 304.693,173.701 310.22,170.016 315.748,166.331 \n",
       "  \n",
       "  \"/>\n",
       "<polyline clip-path=\"url(#clip02)\" style=\"stroke:#7683af; stroke-width:1; stroke-opacity:1; fill:none\" points=\"\n",
       "  44.8976,192.126 50.4252,195.811 55.9528,192.126 61.4803,188.441 67.0079,192.126 72.5354,195.811 78.063,192.126 83.5906,188.441 89.1181,192.126 94.6457,195.811 \n",
       "  100.173,192.126 105.701,195.811 111.228,192.126 116.756,188.441 122.283,192.126 127.811,188.441 133.339,184.756 138.866,188.441 144.394,184.756 149.921,188.441 \n",
       "  155.449,192.126 160.976,188.441 166.504,192.126 172.031,195.811 177.559,192.126 183.087,188.441 188.614,184.756 194.142,181.071 199.669,184.756 205.197,181.071 \n",
       "  210.724,177.386 216.252,181.071 221.78,177.386 227.307,173.701 232.835,170.016 238.362,166.331 243.89,162.646 249.417,166.331 254.945,170.016 260.472,173.701 \n",
       "  266,177.386 271.528,181.071 277.055,184.756 282.583,188.441 288.11,184.756 293.638,181.071 299.165,184.756 304.693,181.071 310.22,177.386 315.748,173.701 \n",
       "  \n",
       "  \"/>\n",
       "<polyline clip-path=\"url(#clip02)\" style=\"stroke:#b08086; stroke-width:1; stroke-opacity:1; fill:none\" points=\"\n",
       "  44.8976,192.126 50.4252,195.811 55.9528,199.496 61.4803,203.181 67.0079,199.496 72.5354,203.181 78.063,199.496 83.5906,195.811 89.1181,199.496 94.6457,203.181 \n",
       "  100.173,206.866 105.701,203.181 111.228,206.866 116.756,210.551 122.283,214.236 127.811,210.551 133.339,214.236 138.866,210.551 144.394,206.866 149.921,210.551 \n",
       "  155.449,206.866 160.976,203.181 166.504,206.866 172.031,210.551 177.559,214.236 183.087,217.921 188.614,221.606 194.142,217.921 199.669,214.236 205.197,210.551 \n",
       "  210.724,206.866 216.252,203.181 221.78,199.496 227.307,195.811 232.835,192.126 238.362,195.811 243.89,192.126 249.417,188.441 254.945,184.756 260.472,188.441 \n",
       "  266,192.126 271.528,188.441 277.055,192.126 282.583,188.441 288.11,184.756 293.638,181.071 299.165,177.386 304.693,173.701 310.22,170.016 315.748,166.331 \n",
       "  \n",
       "  \"/>\n",
       "<polyline clip-path=\"url(#clip02)\" style=\"stroke:#309ac1; stroke-width:1; stroke-opacity:1; fill:none\" points=\"\n",
       "  44.8976,192.126 50.4252,188.441 55.9528,184.756 61.4803,181.071 67.0079,177.386 72.5354,173.701 78.063,170.016 83.5906,166.331 89.1181,162.646 94.6457,166.331 \n",
       "  100.173,162.646 105.701,158.961 111.228,162.646 116.756,158.961 122.283,162.646 127.811,158.961 133.339,155.276 138.866,151.591 144.394,155.276 149.921,151.591 \n",
       "  155.449,155.276 160.976,151.591 166.504,155.276 172.031,151.591 177.559,155.276 183.087,158.961 188.614,155.276 194.142,158.961 199.669,162.646 205.197,158.961 \n",
       "  210.724,162.646 216.252,158.961 221.78,155.276 227.307,151.591 232.835,155.276 238.362,151.591 243.89,147.906 249.417,144.22 254.945,147.906 260.472,151.591 \n",
       "  266,155.276 271.528,151.591 277.055,147.906 282.583,151.591 288.11,147.906 293.638,144.22 299.165,147.906 304.693,151.591 310.22,155.276 315.748,158.961 \n",
       "  \n",
       "  \"/>\n",
       "<polyline clip-path=\"url(#clip02)\" style=\"stroke:#788490; stroke-width:1; stroke-opacity:1; fill:none\" points=\"\n",
       "  44.8976,192.126 50.4252,188.441 55.9528,192.126 61.4803,188.441 67.0079,184.756 72.5354,188.441 78.063,192.126 83.5906,188.441 89.1181,192.126 94.6457,195.811 \n",
       "  100.173,199.496 105.701,203.181 111.228,199.496 116.756,203.181 122.283,199.496 127.811,203.181 133.339,206.866 138.866,203.181 144.394,199.496 149.921,203.181 \n",
       "  155.449,206.866 160.976,203.181 166.504,199.496 172.031,203.181 177.559,199.496 183.087,203.181 188.614,206.866 194.142,203.181 199.669,199.496 205.197,203.181 \n",
       "  210.724,199.496 216.252,203.181 221.78,206.866 227.307,210.551 232.835,214.236 238.362,217.921 243.89,221.606 249.417,225.291 254.945,221.606 260.472,217.921 \n",
       "  266,221.606 271.528,217.921 277.055,214.236 282.583,210.551 288.11,206.866 293.638,203.181 299.165,199.496 304.693,195.811 310.22,192.126 315.748,195.811 \n",
       "  \n",
       "  \"/>\n",
       "<polyline clip-path=\"url(#clip02)\" style=\"stroke:#e561a4; stroke-width:1; stroke-opacity:1; fill:none\" points=\"\n",
       "  44.8976,192.126 50.4252,195.811 55.9528,192.126 61.4803,188.441 67.0079,192.126 72.5354,195.811 78.063,192.126 83.5906,188.441 89.1181,192.126 94.6457,195.811 \n",
       "  100.173,199.496 105.701,195.811 111.228,192.126 116.756,188.441 122.283,192.126 127.811,195.811 133.339,192.126 138.866,188.441 144.394,184.756 149.921,188.441 \n",
       "  155.449,184.756 160.976,188.441 166.504,192.126 172.031,195.811 177.559,192.126 183.087,195.811 188.614,192.126 194.142,195.811 199.669,199.496 205.197,203.181 \n",
       "  210.724,206.866 216.252,210.551 221.78,214.236 227.307,217.921 232.835,221.606 238.362,217.921 243.89,221.606 249.417,225.291 254.945,221.606 260.472,225.291 \n",
       "  266,221.606 271.528,217.921 277.055,214.236 282.583,217.921 288.11,221.606 293.638,217.921 299.165,221.606 304.693,217.921 310.22,214.236 315.748,217.921 \n",
       "  \n",
       "  \"/>\n",
       "<polyline clip-path=\"url(#clip02)\" style=\"stroke:#99902c; stroke-width:1; stroke-opacity:1; fill:none\" points=\"\n",
       "  44.8976,192.126 50.4252,195.811 55.9528,192.126 61.4803,195.811 67.0079,192.126 72.5354,188.441 78.063,184.756 83.5906,188.441 89.1181,184.756 94.6457,188.441 \n",
       "  100.173,192.126 105.701,188.441 111.228,192.126 116.756,195.811 122.283,199.496 127.811,195.811 133.339,192.126 138.866,195.811 144.394,199.496 149.921,203.181 \n",
       "  155.449,206.866 160.976,203.181 166.504,206.866 172.031,203.181 177.559,199.496 183.087,195.811 188.614,199.496 194.142,203.181 199.669,206.866 205.197,210.551 \n",
       "  210.724,214.236 216.252,210.551 221.78,214.236 227.307,217.921 232.835,221.606 238.362,225.291 243.89,221.606 249.417,217.921 254.945,214.236 260.472,210.551 \n",
       "  266,206.866 271.528,203.181 277.055,199.496 282.583,195.811 288.11,199.496 293.638,195.811 299.165,192.126 304.693,188.441 310.22,192.126 315.748,188.441 \n",
       "  \n",
       "  \"/>\n",
       "<polyline clip-path=\"url(#clip02)\" style=\"stroke:#389a7b; stroke-width:1; stroke-opacity:1; fill:none\" points=\"\n",
       "  44.8976,192.126 50.4252,188.441 55.9528,192.126 61.4803,195.811 67.0079,199.496 72.5354,203.181 78.063,199.496 83.5906,195.811 89.1181,192.126 94.6457,188.441 \n",
       "  100.173,184.756 105.701,181.071 111.228,184.756 116.756,188.441 122.283,192.126 127.811,188.441 133.339,184.756 138.866,181.071 144.394,177.386 149.921,181.071 \n",
       "  155.449,184.756 160.976,181.071 166.504,184.756 172.031,188.441 177.559,192.126 183.087,195.811 188.614,192.126 194.142,195.811 199.669,199.496 205.197,203.181 \n",
       "  210.724,206.866 216.252,203.181 221.78,206.866 227.307,210.551 232.835,206.866 238.362,210.551 243.89,214.236 249.417,210.551 254.945,214.236 260.472,210.551 \n",
       "  266,206.866 271.528,203.181 277.055,206.866 282.583,203.181 288.11,199.496 293.638,195.811 299.165,199.496 304.693,203.181 310.22,199.496 315.748,203.181 \n",
       "  \n",
       "  \"/>\n",
       "<polyline clip-path=\"url(#clip02)\" style=\"stroke:#d968a2; stroke-width:1; stroke-opacity:1; fill:none\" points=\"\n",
       "  44.8976,192.126 50.4252,188.441 55.9528,192.126 61.4803,188.441 67.0079,192.126 72.5354,188.441 78.063,184.756 83.5906,181.071 89.1181,184.756 94.6457,181.071 \n",
       "  100.173,184.756 105.701,188.441 111.228,184.756 116.756,181.071 122.283,184.756 127.811,188.441 133.339,192.126 138.866,188.441 144.394,184.756 149.921,188.441 \n",
       "  155.449,192.126 160.976,188.441 166.504,184.756 172.031,181.071 177.559,184.756 183.087,188.441 188.614,184.756 194.142,188.441 199.669,192.126 205.197,188.441 \n",
       "  210.724,184.756 216.252,188.441 221.78,192.126 227.307,195.811 232.835,199.496 238.362,203.181 243.89,206.866 249.417,203.181 254.945,199.496 260.472,203.181 \n",
       "  266,206.866 271.528,203.181 277.055,206.866 282.583,203.181 288.11,199.496 293.638,195.811 299.165,192.126 304.693,188.441 310.22,192.126 315.748,188.441 \n",
       "  \n",
       "  \"/>\n",
       "<polyline clip-path=\"url(#clip02)\" style=\"stroke:#009af9; stroke-width:1; stroke-opacity:1; fill:none\" points=\"\n",
       "  44.8976,192.126 50.4252,188.441 55.9528,184.756 61.4803,181.071 67.0079,184.756 72.5354,188.441 78.063,192.126 83.5906,195.811 89.1181,192.126 94.6457,188.441 \n",
       "  100.173,184.756 105.701,188.441 111.228,184.756 116.756,181.071 122.283,177.386 127.811,173.701 133.339,177.386 138.866,173.701 144.394,170.016 149.921,173.701 \n",
       "  155.449,177.386 160.976,181.071 166.504,177.386 172.031,181.071 177.559,177.386 183.087,173.701 188.614,170.016 194.142,166.331 199.669,170.016 205.197,166.331 \n",
       "  210.724,170.016 216.252,166.331 221.78,162.646 227.307,166.331 232.835,162.646 238.362,158.961 243.89,162.646 249.417,158.961 254.945,162.646 260.472,158.961 \n",
       "  266,155.276 271.528,151.591 277.055,147.906 282.583,144.22 288.11,140.535 293.638,136.85 299.165,133.165 304.693,136.85 310.22,133.165 315.748,129.48 \n",
       "  \n",
       "  \"/>\n",
       "<polyline clip-path=\"url(#clip02)\" style=\"stroke:#e26f46; stroke-width:1; stroke-opacity:1; fill:none\" points=\"\n",
       "  44.8976,192.126 50.4252,195.811 55.9528,192.126 61.4803,188.441 67.0079,192.126 72.5354,188.441 78.063,192.126 83.5906,195.811 89.1181,192.126 94.6457,188.441 \n",
       "  100.173,184.756 105.701,188.441 111.228,184.756 116.756,188.441 122.283,184.756 127.811,188.441 133.339,192.126 138.866,195.811 144.394,192.126 149.921,188.441 \n",
       "  155.449,192.126 160.976,188.441 166.504,192.126 172.031,195.811 177.559,192.126 183.087,195.811 188.614,199.496 194.142,195.811 199.669,192.126 205.197,188.441 \n",
       "  210.724,184.756 216.252,188.441 221.78,192.126 227.307,188.441 232.835,184.756 238.362,188.441 243.89,192.126 249.417,195.811 254.945,192.126 260.472,195.811 \n",
       "  266,199.496 271.528,195.811 277.055,199.496 282.583,195.811 288.11,192.126 293.638,195.811 299.165,199.496 304.693,195.811 310.22,199.496 315.748,203.181 \n",
       "  \n",
       "  \"/>\n",
       "<polyline clip-path=\"url(#clip02)\" style=\"stroke:#3da44d; stroke-width:1; stroke-opacity:1; fill:none\" points=\"\n",
       "  44.8976,192.126 50.4252,188.441 55.9528,184.756 61.4803,188.441 67.0079,184.756 72.5354,181.071 78.063,184.756 83.5906,181.071 89.1181,177.386 94.6457,173.701 \n",
       "  100.173,170.016 105.701,173.701 111.228,177.386 116.756,173.701 122.283,177.386 127.811,181.071 133.339,177.386 138.866,181.071 144.394,184.756 149.921,181.071 \n",
       "  155.449,184.756 160.976,188.441 166.504,184.756 172.031,181.071 177.559,177.386 183.087,173.701 188.614,170.016 194.142,173.701 199.669,170.016 205.197,166.331 \n",
       "  210.724,170.016 216.252,173.701 221.78,170.016 227.307,166.331 232.835,162.646 238.362,166.331 243.89,170.016 249.417,173.701 254.945,177.386 260.472,181.071 \n",
       "  266,177.386 271.528,173.701 277.055,177.386 282.583,181.071 288.11,177.386 293.638,173.701 299.165,170.016 304.693,166.331 310.22,170.016 315.748,166.331 \n",
       "  \n",
       "  \"/>\n",
       "<polyline clip-path=\"url(#clip02)\" style=\"stroke:#c271d2; stroke-width:1; stroke-opacity:1; fill:none\" points=\"\n",
       "  44.8976,192.126 50.4252,195.811 55.9528,192.126 61.4803,188.441 67.0079,192.126 72.5354,195.811 78.063,199.496 83.5906,203.181 89.1181,199.496 94.6457,195.811 \n",
       "  100.173,199.496 105.701,195.811 111.228,192.126 116.756,195.811 122.283,199.496 127.811,195.811 133.339,192.126 138.866,195.811 144.394,199.496 149.921,203.181 \n",
       "  155.449,206.866 160.976,210.551 166.504,206.866 172.031,210.551 177.559,206.866 183.087,210.551 188.614,214.236 194.142,217.921 199.669,221.606 205.197,225.291 \n",
       "  210.724,221.606 216.252,225.291 221.78,221.606 227.307,217.921 232.835,221.606 238.362,217.921 243.89,214.236 249.417,210.551 254.945,206.866 260.472,203.181 \n",
       "  266,199.496 271.528,195.811 277.055,192.126 282.583,195.811 288.11,192.126 293.638,195.811 299.165,192.126 304.693,188.441 310.22,192.126 315.748,188.441 \n",
       "  \n",
       "  \"/>\n",
       "<polyline clip-path=\"url(#clip02)\" style=\"stroke:#ac8d18; stroke-width:1; stroke-opacity:1; fill:none\" points=\"\n",
       "  44.8976,192.126 50.4252,188.441 55.9528,192.126 61.4803,188.441 67.0079,184.756 72.5354,188.441 78.063,192.126 83.5906,195.811 89.1181,199.496 94.6457,203.181 \n",
       "  100.173,206.866 105.701,203.181 111.228,206.866 116.756,203.181 122.283,199.496 127.811,203.181 133.339,206.866 138.866,210.551 144.394,206.866 149.921,203.181 \n",
       "  155.449,199.496 160.976,195.811 166.504,192.126 172.031,188.441 177.559,192.126 183.087,195.811 188.614,192.126 194.142,188.441 199.669,184.756 205.197,188.441 \n",
       "  210.724,184.756 216.252,181.071 221.78,184.756 227.307,181.071 232.835,177.386 238.362,181.071 243.89,184.756 249.417,181.071 254.945,184.756 260.472,188.441 \n",
       "  266,192.126 271.528,195.811 277.055,199.496 282.583,203.181 288.11,199.496 293.638,203.181 299.165,199.496 304.693,203.181 310.22,199.496 315.748,203.181 \n",
       "  \n",
       "  \"/>\n",
       "<polyline clip-path=\"url(#clip02)\" style=\"stroke:#00a9ad; stroke-width:1; stroke-opacity:1; fill:none\" points=\"\n",
       "  44.8976,192.126 50.4252,195.811 55.9528,192.126 61.4803,188.441 67.0079,192.126 72.5354,195.811 78.063,199.496 83.5906,203.181 89.1181,206.866 94.6457,210.551 \n",
       "  100.173,214.236 105.701,217.921 111.228,221.606 116.756,225.291 122.283,221.606 127.811,225.291 133.339,228.976 138.866,232.661 144.394,228.976 149.921,225.291 \n",
       "  155.449,228.976 160.976,232.661 166.504,228.976 172.031,232.661 177.559,228.976 183.087,232.661 188.614,236.346 194.142,232.661 199.669,228.976 205.197,225.291 \n",
       "  210.724,221.606 216.252,225.291 221.78,228.976 227.307,232.661 232.835,228.976 238.362,232.661 243.89,236.346 249.417,240.031 254.945,243.717 260.472,240.031 \n",
       "  266,236.346 271.528,232.661 277.055,228.976 282.583,225.291 288.11,221.606 293.638,217.921 299.165,214.236 304.693,210.551 310.22,206.866 315.748,203.181 \n",
       "  \n",
       "  \"/>\n",
       "<polyline clip-path=\"url(#clip02)\" style=\"stroke:#ed5d92; stroke-width:1; stroke-opacity:1; fill:none\" points=\"\n",
       "  44.8976,192.126 50.4252,195.811 55.9528,199.496 61.4803,203.181 67.0079,199.496 72.5354,195.811 78.063,192.126 83.5906,195.811 89.1181,192.126 94.6457,195.811 \n",
       "  100.173,199.496 105.701,203.181 111.228,199.496 116.756,195.811 122.283,192.126 127.811,188.441 133.339,192.126 138.866,188.441 144.394,192.126 149.921,188.441 \n",
       "  155.449,192.126 160.976,195.811 166.504,192.126 172.031,195.811 177.559,192.126 183.087,188.441 188.614,192.126 194.142,188.441 199.669,184.756 205.197,181.071 \n",
       "  210.724,177.386 216.252,181.071 221.78,177.386 227.307,173.701 232.835,177.386 238.362,181.071 243.89,184.756 249.417,188.441 254.945,184.756 260.472,181.071 \n",
       "  266,177.386 271.528,181.071 277.055,177.386 282.583,181.071 288.11,177.386 293.638,181.071 299.165,177.386 304.693,181.071 310.22,184.756 315.748,181.071 \n",
       "  \n",
       "  \"/>\n",
       "<polyline clip-path=\"url(#clip02)\" style=\"stroke:#c68125; stroke-width:1; stroke-opacity:1; fill:none\" points=\"\n",
       "  44.8976,192.126 50.4252,188.441 55.9528,184.756 61.4803,181.071 67.0079,184.756 72.5354,181.071 78.063,184.756 83.5906,188.441 89.1181,184.756 94.6457,188.441 \n",
       "  100.173,192.126 105.701,188.441 111.228,184.756 116.756,181.071 122.283,184.756 127.811,181.071 133.339,184.756 138.866,188.441 144.394,184.756 149.921,188.441 \n",
       "  155.449,184.756 160.976,181.071 166.504,184.756 172.031,188.441 177.559,192.126 183.087,195.811 188.614,192.126 194.142,188.441 199.669,192.126 205.197,195.811 \n",
       "  210.724,192.126 216.252,188.441 221.78,192.126 227.307,195.811 232.835,192.126 238.362,195.811 243.89,192.126 249.417,195.811 254.945,192.126 260.472,188.441 \n",
       "  266,192.126 271.528,195.811 277.055,199.496 282.583,195.811 288.11,192.126 293.638,195.811 299.165,199.496 304.693,203.181 310.22,199.496 315.748,195.811 \n",
       "  \n",
       "  \"/>\n",
       "<polyline clip-path=\"url(#clip02)\" style=\"stroke:#00a98d; stroke-width:1; stroke-opacity:1; fill:none\" points=\"\n",
       "  44.8976,192.126 50.4252,188.441 55.9528,184.756 61.4803,181.071 67.0079,177.386 72.5354,173.701 78.063,170.016 83.5906,166.331 89.1181,170.016 94.6457,166.331 \n",
       "  100.173,162.646 105.701,158.961 111.228,155.276 116.756,158.961 122.283,155.276 127.811,158.961 133.339,155.276 138.866,158.961 144.394,162.646 149.921,166.331 \n",
       "  155.449,170.016 160.976,173.701 166.504,177.386 172.031,181.071 177.559,184.756 183.087,181.071 188.614,177.386 194.142,173.701 199.669,177.386 205.197,181.071 \n",
       "  210.724,184.756 216.252,188.441 221.78,192.126 227.307,195.811 232.835,192.126 238.362,195.811 243.89,192.126 249.417,195.811 254.945,199.496 260.472,195.811 \n",
       "  266,199.496 271.528,195.811 277.055,199.496 282.583,195.811 288.11,199.496 293.638,203.181 299.165,206.866 304.693,203.181 310.22,199.496 315.748,195.811 \n",
       "  \n",
       "  \"/>\n",
       "<polyline clip-path=\"url(#clip02)\" style=\"stroke:#8e971d; stroke-width:1; stroke-opacity:1; fill:none\" points=\"\n",
       "  44.8976,192.126 50.4252,195.811 55.9528,199.496 61.4803,195.811 67.0079,192.126 72.5354,188.441 78.063,184.756 83.5906,188.441 89.1181,184.756 94.6457,181.071 \n",
       "  100.173,177.386 105.701,181.071 111.228,184.756 116.756,188.441 122.283,184.756 127.811,181.071 133.339,177.386 138.866,181.071 144.394,184.756 149.921,181.071 \n",
       "  155.449,177.386 160.976,181.071 166.504,177.386 172.031,181.071 177.559,177.386 183.087,173.701 188.614,170.016 194.142,173.701 199.669,177.386 205.197,181.071 \n",
       "  210.724,184.756 216.252,181.071 221.78,177.386 227.307,181.071 232.835,177.386 238.362,181.071 243.89,184.756 249.417,181.071 254.945,184.756 260.472,181.071 \n",
       "  266,177.386 271.528,173.701 277.055,177.386 282.583,181.071 288.11,184.756 293.638,188.441 299.165,184.756 304.693,181.071 310.22,177.386 315.748,173.701 \n",
       "  \n",
       "  \"/>\n",
       "<polyline clip-path=\"url(#clip02)\" style=\"stroke:#00a8cb; stroke-width:1; stroke-opacity:1; fill:none\" points=\"\n",
       "  44.8976,192.126 50.4252,188.441 55.9528,192.126 61.4803,188.441 67.0079,192.126 72.5354,195.811 78.063,199.496 83.5906,203.181 89.1181,206.866 94.6457,210.551 \n",
       "  100.173,214.236 105.701,210.551 111.228,214.236 116.756,210.551 122.283,214.236 127.811,217.921 133.339,214.236 138.866,217.921 144.394,221.606 149.921,217.921 \n",
       "  155.449,214.236 160.976,217.921 166.504,221.606 172.031,217.921 177.559,214.236 183.087,217.921 188.614,221.606 194.142,225.291 199.669,228.976 205.197,225.291 \n",
       "  210.724,228.976 216.252,225.291 221.78,228.976 227.307,225.291 232.835,228.976 238.362,225.291 243.89,228.976 249.417,232.661 254.945,236.346 260.472,240.031 \n",
       "  266,236.346 271.528,240.031 277.055,236.346 282.583,240.031 288.11,243.717 293.638,240.031 299.165,243.717 304.693,240.031 310.22,243.717 315.748,240.031 \n",
       "  \n",
       "  \"/>\n",
       "<polyline clip-path=\"url(#clip02)\" style=\"stroke:#9b7fe8; stroke-width:1; stroke-opacity:1; fill:none\" points=\"\n",
       "  44.8976,192.126 50.4252,195.811 55.9528,192.126 61.4803,195.811 67.0079,192.126 72.5354,195.811 78.063,192.126 83.5906,195.811 89.1181,199.496 94.6457,203.181 \n",
       "  100.173,206.866 105.701,210.551 111.228,206.866 116.756,203.181 122.283,206.866 127.811,210.551 133.339,214.236 138.866,210.551 144.394,206.866 149.921,210.551 \n",
       "  155.449,214.236 160.976,210.551 166.504,214.236 172.031,210.551 177.559,214.236 183.087,217.921 188.614,214.236 194.142,217.921 199.669,221.606 205.197,225.291 \n",
       "  210.724,221.606 216.252,225.291 221.78,228.976 227.307,232.661 232.835,236.346 238.362,240.031 243.89,236.346 249.417,240.031 254.945,236.346 260.472,232.661 \n",
       "  266,236.346 271.528,232.661 277.055,228.976 282.583,232.661 288.11,228.976 293.638,225.291 299.165,221.606 304.693,217.921 310.22,221.606 315.748,217.921 \n",
       "  \n",
       "  \"/>\n",
       "<polyline clip-path=\"url(#clip02)\" style=\"stroke:#608cf6; stroke-width:1; stroke-opacity:1; fill:none\" points=\"\n",
       "  44.8976,192.126 50.4252,195.811 55.9528,192.126 61.4803,195.811 67.0079,199.496 72.5354,195.811 78.063,199.496 83.5906,195.811 89.1181,199.496 94.6457,195.811 \n",
       "  100.173,192.126 105.701,195.811 111.228,192.126 116.756,188.441 122.283,184.756 127.811,188.441 133.339,192.126 138.866,188.441 144.394,192.126 149.921,195.811 \n",
       "  155.449,199.496 160.976,203.181 166.504,199.496 172.031,203.181 177.559,199.496 183.087,203.181 188.614,199.496 194.142,195.811 199.669,199.496 205.197,203.181 \n",
       "  210.724,199.496 216.252,195.811 221.78,199.496 227.307,195.811 232.835,192.126 238.362,188.441 243.89,184.756 249.417,188.441 254.945,192.126 260.472,188.441 \n",
       "  266,184.756 271.528,188.441 277.055,192.126 282.583,195.811 288.11,199.496 293.638,203.181 299.165,199.496 304.693,203.181 310.22,199.496 315.748,195.811 \n",
       "  \n",
       "  \"/>\n",
       "<polyline clip-path=\"url(#clip02)\" style=\"stroke:#f05f73; stroke-width:1; stroke-opacity:1; fill:none\" points=\"\n",
       "  44.8976,192.126 50.4252,195.811 55.9528,192.126 61.4803,188.441 67.0079,184.756 72.5354,181.071 78.063,177.386 83.5906,173.701 89.1181,177.386 94.6457,173.701 \n",
       "  100.173,170.016 105.701,173.701 111.228,170.016 116.756,166.331 122.283,162.646 127.811,166.331 133.339,170.016 138.866,166.331 144.394,162.646 149.921,166.331 \n",
       "  155.449,162.646 160.976,166.331 166.504,162.646 172.031,158.961 177.559,155.276 183.087,158.961 188.614,162.646 194.142,166.331 199.669,170.016 205.197,173.701 \n",
       "  210.724,170.016 216.252,166.331 221.78,162.646 227.307,166.331 232.835,162.646 238.362,158.961 243.89,155.276 249.417,158.961 254.945,162.646 260.472,158.961 \n",
       "  266,162.646 271.528,166.331 277.055,170.016 282.583,173.701 288.11,177.386 293.638,181.071 299.165,184.756 304.693,181.071 310.22,177.386 315.748,181.071 \n",
       "  \n",
       "  \"/>\n",
       "<polyline clip-path=\"url(#clip02)\" style=\"stroke:#dd64b5; stroke-width:1; stroke-opacity:1; fill:none\" points=\"\n",
       "  44.8976,192.126 50.4252,195.811 55.9528,192.126 61.4803,188.441 67.0079,184.756 72.5354,181.071 78.063,177.386 83.5906,173.701 89.1181,177.386 94.6457,181.071 \n",
       "  100.173,177.386 105.701,173.701 111.228,170.016 116.756,173.701 122.283,170.016 127.811,173.701 133.339,177.386 138.866,173.701 144.394,170.016 149.921,173.701 \n",
       "  155.449,170.016 160.976,166.331 166.504,170.016 172.031,173.701 177.559,177.386 183.087,181.071 188.614,184.756 194.142,181.071 199.669,184.756 205.197,181.071 \n",
       "  210.724,177.386 216.252,181.071 221.78,177.386 227.307,181.071 232.835,184.756 238.362,181.071 243.89,184.756 249.417,188.441 254.945,192.126 260.472,188.441 \n",
       "  266,192.126 271.528,195.811 277.055,199.496 282.583,203.181 288.11,206.866 293.638,203.181 299.165,206.866 304.693,203.181 310.22,199.496 315.748,195.811 \n",
       "  \n",
       "  \"/>\n",
       "<polyline clip-path=\"url(#clip02)\" style=\"stroke:#6b9e32; stroke-width:1; stroke-opacity:1; fill:none\" points=\"\n",
       "  44.8976,192.126 50.4252,195.811 55.9528,192.126 61.4803,195.811 67.0079,199.496 72.5354,203.181 78.063,206.866 83.5906,203.181 89.1181,206.866 94.6457,203.181 \n",
       "  100.173,199.496 105.701,195.811 111.228,192.126 116.756,195.811 122.283,192.126 127.811,195.811 133.339,199.496 138.866,195.811 144.394,192.126 149.921,195.811 \n",
       "  155.449,192.126 160.976,195.811 166.504,199.496 172.031,195.811 177.559,192.126 183.087,195.811 188.614,199.496 194.142,195.811 199.669,199.496 205.197,203.181 \n",
       "  210.724,206.866 216.252,210.551 221.78,206.866 227.307,210.551 232.835,206.866 238.362,203.181 243.89,199.496 249.417,203.181 254.945,199.496 260.472,203.181 \n",
       "  266,206.866 271.528,203.181 277.055,206.866 282.583,203.181 288.11,199.496 293.638,203.181 299.165,206.866 304.693,210.551 310.22,214.236 315.748,210.551 \n",
       "  \n",
       "  \"/>\n",
       "<polyline clip-path=\"url(#clip02)\" style=\"stroke:#718c69; stroke-width:1; stroke-opacity:1; fill:none\" points=\"\n",
       "  44.8976,192.126 50.4252,188.441 55.9528,184.756 61.4803,181.071 67.0079,177.386 72.5354,181.071 78.063,184.756 83.5906,181.071 89.1181,184.756 94.6457,188.441 \n",
       "  100.173,192.126 105.701,195.811 111.228,192.126 116.756,195.811 122.283,199.496 127.811,203.181 133.339,206.866 138.866,210.551 144.394,206.866 149.921,203.181 \n",
       "  155.449,199.496 160.976,203.181 166.504,206.866 172.031,210.551 177.559,214.236 183.087,210.551 188.614,206.866 194.142,210.551 199.669,206.866 205.197,203.181 \n",
       "  210.724,199.496 216.252,195.811 221.78,199.496 227.307,203.181 232.835,199.496 238.362,195.811 243.89,199.496 249.417,195.811 254.945,199.496 260.472,195.811 \n",
       "  266,192.126 271.528,188.441 277.055,184.756 282.583,181.071 288.11,177.386 293.638,181.071 299.165,184.756 304.693,181.071 310.22,177.386 315.748,173.701 \n",
       "  \n",
       "  \"/>\n",
       "<polyline clip-path=\"url(#clip02)\" style=\"stroke:#47988b; stroke-width:1; stroke-opacity:1; fill:none\" points=\"\n",
       "  44.8976,192.126 50.4252,188.441 55.9528,192.126 61.4803,195.811 67.0079,199.496 72.5354,203.181 78.063,206.866 83.5906,210.551 89.1181,206.866 94.6457,210.551 \n",
       "  100.173,214.236 105.701,210.551 111.228,214.236 116.756,217.921 122.283,221.606 127.811,217.921 133.339,214.236 138.866,217.921 144.394,221.606 149.921,225.291 \n",
       "  155.449,228.976 160.976,225.291 166.504,221.606 172.031,217.921 177.559,214.236 183.087,210.551 188.614,214.236 194.142,210.551 199.669,214.236 205.197,210.551 \n",
       "  210.724,214.236 216.252,217.921 221.78,221.606 227.307,217.921 232.835,221.606 238.362,217.921 243.89,221.606 249.417,225.291 254.945,221.606 260.472,225.291 \n",
       "  266,221.606 271.528,225.291 277.055,221.606 282.583,217.921 288.11,214.236 293.638,210.551 299.165,206.866 304.693,210.551 310.22,214.236 315.748,210.551 \n",
       "  \n",
       "  \"/>\n",
       "<polyline clip-path=\"url(#clip02)\" style=\"stroke:#1ea68c; stroke-width:1; stroke-opacity:1; fill:none\" points=\"\n",
       "  44.8976,192.126 50.4252,195.811 55.9528,199.496 61.4803,195.811 67.0079,199.496 72.5354,203.181 78.063,199.496 83.5906,203.181 89.1181,199.496 94.6457,203.181 \n",
       "  100.173,206.866 105.701,203.181 111.228,199.496 116.756,203.181 122.283,199.496 127.811,203.181 133.339,206.866 138.866,210.551 144.394,214.236 149.921,210.551 \n",
       "  155.449,206.866 160.976,203.181 166.504,206.866 172.031,210.551 177.559,214.236 183.087,210.551 188.614,214.236 194.142,210.551 199.669,214.236 205.197,210.551 \n",
       "  210.724,206.866 216.252,203.181 221.78,199.496 227.307,203.181 232.835,199.496 238.362,195.811 243.89,199.496 249.417,203.181 254.945,206.866 260.472,210.551 \n",
       "  266,206.866 271.528,210.551 277.055,206.866 282.583,203.181 288.11,206.866 293.638,203.181 299.165,199.496 304.693,203.181 310.22,206.866 315.748,210.551 \n",
       "  \n",
       "  \"/>\n",
       "<polyline clip-path=\"url(#clip02)\" style=\"stroke:#af78dd; stroke-width:1; stroke-opacity:1; fill:none\" points=\"\n",
       "  44.8976,192.126 50.4252,188.441 55.9528,184.756 61.4803,181.071 67.0079,184.756 72.5354,188.441 78.063,192.126 83.5906,195.811 89.1181,192.126 94.6457,188.441 \n",
       "  100.173,184.756 105.701,188.441 111.228,192.126 116.756,195.811 122.283,192.126 127.811,188.441 133.339,192.126 138.866,188.441 144.394,184.756 149.921,181.071 \n",
       "  155.449,177.386 160.976,181.071 166.504,184.756 172.031,188.441 177.559,192.126 183.087,188.441 188.614,184.756 194.142,188.441 199.669,192.126 205.197,188.441 \n",
       "  210.724,184.756 216.252,181.071 221.78,184.756 227.307,181.071 232.835,184.756 238.362,181.071 243.89,177.386 249.417,173.701 254.945,170.016 260.472,173.701 \n",
       "  266,177.386 271.528,181.071 277.055,184.756 282.583,188.441 288.11,192.126 293.638,188.441 299.165,192.126 304.693,188.441 310.22,192.126 315.748,188.441 \n",
       "  \n",
       "  \"/>\n",
       "<polyline clip-path=\"url(#clip02)\" style=\"stroke:#868d87; stroke-width:1; stroke-opacity:1; fill:none\" points=\"\n",
       "  44.8976,192.126 50.4252,188.441 55.9528,192.126 61.4803,188.441 67.0079,192.126 72.5354,195.811 78.063,199.496 83.5906,195.811 89.1181,192.126 94.6457,195.811 \n",
       "  100.173,199.496 105.701,195.811 111.228,199.496 116.756,203.181 122.283,206.866 127.811,210.551 133.339,214.236 138.866,210.551 144.394,214.236 149.921,210.551 \n",
       "  155.449,214.236 160.976,210.551 166.504,206.866 172.031,203.181 177.559,206.866 183.087,203.181 188.614,206.866 194.142,203.181 199.669,199.496 205.197,203.181 \n",
       "  210.724,199.496 216.252,203.181 221.78,206.866 227.307,203.181 232.835,199.496 238.362,195.811 243.89,192.126 249.417,195.811 254.945,199.496 260.472,203.181 \n",
       "  266,206.866 271.528,203.181 277.055,206.866 282.583,210.551 288.11,214.236 293.638,217.921 299.165,214.236 304.693,217.921 310.22,221.606 315.748,217.921 \n",
       "  \n",
       "  \"/>\n",
       "<polyline clip-path=\"url(#clip02)\" style=\"stroke:#47a065; stroke-width:1; stroke-opacity:1; fill:none\" points=\"\n",
       "  44.8976,192.126 50.4252,195.811 55.9528,199.496 61.4803,195.811 67.0079,192.126 72.5354,188.441 78.063,184.756 83.5906,181.071 89.1181,184.756 94.6457,181.071 \n",
       "  100.173,184.756 105.701,181.071 111.228,184.756 116.756,188.441 122.283,184.756 127.811,181.071 133.339,184.756 138.866,188.441 144.394,184.756 149.921,181.071 \n",
       "  155.449,184.756 160.976,188.441 166.504,184.756 172.031,181.071 177.559,184.756 183.087,181.071 188.614,184.756 194.142,188.441 199.669,192.126 205.197,188.441 \n",
       "  210.724,184.756 216.252,188.441 221.78,192.126 227.307,195.811 232.835,192.126 238.362,195.811 243.89,192.126 249.417,195.811 254.945,199.496 260.472,203.181 \n",
       "  266,199.496 271.528,195.811 277.055,192.126 282.583,195.811 288.11,192.126 293.638,188.441 299.165,192.126 304.693,195.811 310.22,199.496 315.748,195.811 \n",
       "  \n",
       "  \"/>\n",
       "<polyline clip-path=\"url(#clip02)\" style=\"stroke:#7683af; stroke-width:1; stroke-opacity:1; fill:none\" points=\"\n",
       "  44.8976,192.126 50.4252,188.441 55.9528,184.756 61.4803,181.071 67.0079,177.386 72.5354,181.071 78.063,177.386 83.5906,173.701 89.1181,170.016 94.6457,166.331 \n",
       "  100.173,162.646 105.701,158.961 111.228,155.276 116.756,158.961 122.283,155.276 127.811,158.961 133.339,155.276 138.866,158.961 144.394,155.276 149.921,158.961 \n",
       "  155.449,155.276 160.976,158.961 166.504,162.646 172.031,158.961 177.559,155.276 183.087,158.961 188.614,162.646 194.142,158.961 199.669,162.646 205.197,158.961 \n",
       "  210.724,162.646 216.252,166.331 221.78,170.016 227.307,166.331 232.835,170.016 238.362,173.701 243.89,170.016 249.417,166.331 254.945,162.646 260.472,166.331 \n",
       "  266,162.646 271.528,158.961 277.055,162.646 282.583,166.331 288.11,170.016 293.638,173.701 299.165,177.386 304.693,181.071 310.22,184.756 315.748,181.071 \n",
       "  \n",
       "  \"/>\n",
       "<polyline clip-path=\"url(#clip02)\" style=\"stroke:#b08086; stroke-width:1; stroke-opacity:1; fill:none\" points=\"\n",
       "  44.8976,192.126 50.4252,188.441 55.9528,192.126 61.4803,195.811 67.0079,192.126 72.5354,195.811 78.063,192.126 83.5906,195.811 89.1181,192.126 94.6457,188.441 \n",
       "  100.173,192.126 105.701,195.811 111.228,192.126 116.756,188.441 122.283,184.756 127.811,188.441 133.339,184.756 138.866,181.071 144.394,177.386 149.921,173.701 \n",
       "  155.449,177.386 160.976,181.071 166.504,184.756 172.031,181.071 177.559,177.386 183.087,173.701 188.614,170.016 194.142,173.701 199.669,170.016 205.197,166.331 \n",
       "  210.724,162.646 216.252,166.331 221.78,162.646 227.307,166.331 232.835,170.016 238.362,166.331 243.89,162.646 249.417,166.331 254.945,162.646 260.472,158.961 \n",
       "  266,155.276 271.528,158.961 277.055,162.646 282.583,166.331 288.11,170.016 293.638,166.331 299.165,170.016 304.693,166.331 310.22,170.016 315.748,173.701 \n",
       "  \n",
       "  \"/>\n",
       "<polyline clip-path=\"url(#clip02)\" style=\"stroke:#309ac1; stroke-width:1; stroke-opacity:1; fill:none\" points=\"\n",
       "  44.8976,192.126 50.4252,195.811 55.9528,199.496 61.4803,195.811 67.0079,192.126 72.5354,195.811 78.063,192.126 83.5906,195.811 89.1181,199.496 94.6457,203.181 \n",
       "  100.173,206.866 105.701,203.181 111.228,206.866 116.756,203.181 122.283,199.496 127.811,195.811 133.339,192.126 138.866,195.811 144.394,199.496 149.921,203.181 \n",
       "  155.449,199.496 160.976,203.181 166.504,206.866 172.031,203.181 177.559,199.496 183.087,195.811 188.614,192.126 194.142,195.811 199.669,199.496 205.197,203.181 \n",
       "  210.724,206.866 216.252,203.181 221.78,206.866 227.307,203.181 232.835,199.496 238.362,195.811 243.89,192.126 249.417,188.441 254.945,192.126 260.472,195.811 \n",
       "  266,199.496 271.528,195.811 277.055,192.126 282.583,195.811 288.11,192.126 293.638,188.441 299.165,192.126 304.693,188.441 310.22,192.126 315.748,195.811 \n",
       "  \n",
       "  \"/>\n",
       "<polyline clip-path=\"url(#clip02)\" style=\"stroke:#788490; stroke-width:1; stroke-opacity:1; fill:none\" points=\"\n",
       "  44.8976,192.126 50.4252,195.811 55.9528,199.496 61.4803,195.811 67.0079,199.496 72.5354,203.181 78.063,206.866 83.5906,210.551 89.1181,214.236 94.6457,217.921 \n",
       "  100.173,214.236 105.701,210.551 111.228,206.866 116.756,210.551 122.283,214.236 127.811,210.551 133.339,214.236 138.866,217.921 144.394,221.606 149.921,217.921 \n",
       "  155.449,221.606 160.976,225.291 166.504,221.606 172.031,217.921 177.559,221.606 183.087,217.921 188.614,221.606 194.142,225.291 199.669,228.976 205.197,232.661 \n",
       "  210.724,228.976 216.252,232.661 221.78,228.976 227.307,232.661 232.835,228.976 238.362,232.661 243.89,228.976 249.417,232.661 254.945,228.976 260.472,225.291 \n",
       "  266,228.976 271.528,225.291 277.055,221.606 282.583,217.921 288.11,214.236 293.638,210.551 299.165,206.866 304.693,203.181 310.22,206.866 315.748,203.181 \n",
       "  \n",
       "  \"/>\n",
       "<polyline clip-path=\"url(#clip02)\" style=\"stroke:#e561a4; stroke-width:1; stroke-opacity:1; fill:none\" points=\"\n",
       "  44.8976,192.126 50.4252,195.811 55.9528,199.496 61.4803,203.181 67.0079,199.496 72.5354,195.811 78.063,192.126 83.5906,195.811 89.1181,199.496 94.6457,203.181 \n",
       "  100.173,199.496 105.701,203.181 111.228,199.496 116.756,195.811 122.283,192.126 127.811,195.811 133.339,192.126 138.866,195.811 144.394,192.126 149.921,188.441 \n",
       "  155.449,184.756 160.976,181.071 166.504,177.386 172.031,181.071 177.559,177.386 183.087,173.701 188.614,170.016 194.142,166.331 199.669,170.016 205.197,173.701 \n",
       "  210.724,170.016 216.252,173.701 221.78,170.016 227.307,166.331 232.835,170.016 238.362,173.701 243.89,177.386 249.417,173.701 254.945,177.386 260.472,173.701 \n",
       "  266,170.016 271.528,173.701 277.055,177.386 282.583,181.071 288.11,177.386 293.638,173.701 299.165,170.016 304.693,173.701 310.22,170.016 315.748,166.331 \n",
       "  \n",
       "  \"/>\n",
       "<polyline clip-path=\"url(#clip02)\" style=\"stroke:#99902c; stroke-width:1; stroke-opacity:1; fill:none\" points=\"\n",
       "  44.8976,192.126 50.4252,195.811 55.9528,192.126 61.4803,188.441 67.0079,192.126 72.5354,195.811 78.063,199.496 83.5906,195.811 89.1181,199.496 94.6457,203.181 \n",
       "  100.173,206.866 105.701,210.551 111.228,214.236 116.756,210.551 122.283,206.866 127.811,203.181 133.339,199.496 138.866,195.811 144.394,192.126 149.921,188.441 \n",
       "  155.449,184.756 160.976,181.071 166.504,184.756 172.031,188.441 177.559,192.126 183.087,195.811 188.614,192.126 194.142,188.441 199.669,184.756 205.197,188.441 \n",
       "  210.724,184.756 216.252,181.071 221.78,184.756 227.307,181.071 232.835,184.756 238.362,188.441 243.89,192.126 249.417,195.811 254.945,199.496 260.472,203.181 \n",
       "  266,206.866 271.528,210.551 277.055,214.236 282.583,210.551 288.11,206.866 293.638,210.551 299.165,214.236 304.693,210.551 310.22,206.866 315.748,210.551 \n",
       "  \n",
       "  \"/>\n",
       "<polyline clip-path=\"url(#clip02)\" style=\"stroke:#389a7b; stroke-width:1; stroke-opacity:1; fill:none\" points=\"\n",
       "  44.8976,192.126 50.4252,195.811 55.9528,199.496 61.4803,203.181 67.0079,199.496 72.5354,195.811 78.063,192.126 83.5906,188.441 89.1181,184.756 94.6457,188.441 \n",
       "  100.173,184.756 105.701,188.441 111.228,192.126 116.756,195.811 122.283,199.496 127.811,203.181 133.339,206.866 138.866,203.181 144.394,206.866 149.921,210.551 \n",
       "  155.449,206.866 160.976,203.181 166.504,199.496 172.031,195.811 177.559,192.126 183.087,188.441 188.614,192.126 194.142,188.441 199.669,184.756 205.197,188.441 \n",
       "  210.724,184.756 216.252,188.441 221.78,184.756 227.307,181.071 232.835,184.756 238.362,181.071 243.89,184.756 249.417,188.441 254.945,184.756 260.472,181.071 \n",
       "  266,177.386 271.528,173.701 277.055,177.386 282.583,181.071 288.11,184.756 293.638,181.071 299.165,177.386 304.693,173.701 310.22,177.386 315.748,181.071 \n",
       "  \n",
       "  \"/>\n",
       "<polyline clip-path=\"url(#clip02)\" style=\"stroke:#d968a2; stroke-width:1; stroke-opacity:1; fill:none\" points=\"\n",
       "  44.8976,192.126 50.4252,188.441 55.9528,192.126 61.4803,188.441 67.0079,184.756 72.5354,181.071 78.063,184.756 83.5906,181.071 89.1181,184.756 94.6457,181.071 \n",
       "  100.173,177.386 105.701,173.701 111.228,177.386 116.756,181.071 122.283,177.386 127.811,181.071 133.339,184.756 138.866,181.071 144.394,177.386 149.921,181.071 \n",
       "  155.449,184.756 160.976,181.071 166.504,184.756 172.031,188.441 177.559,184.756 183.087,188.441 188.614,192.126 194.142,195.811 199.669,199.496 205.197,195.811 \n",
       "  210.724,192.126 216.252,188.441 221.78,192.126 227.307,188.441 232.835,192.126 238.362,195.811 243.89,199.496 249.417,203.181 254.945,206.866 260.472,203.181 \n",
       "  266,199.496 271.528,203.181 277.055,206.866 282.583,203.181 288.11,206.866 293.638,210.551 299.165,206.866 304.693,210.551 310.22,214.236 315.748,217.921 \n",
       "  \n",
       "  \"/>\n",
       "<polyline clip-path=\"url(#clip02)\" style=\"stroke:#009af9; stroke-width:1; stroke-opacity:1; fill:none\" points=\"\n",
       "  44.8976,192.126 50.4252,188.441 55.9528,184.756 61.4803,181.071 67.0079,184.756 72.5354,181.071 78.063,177.386 83.5906,181.071 89.1181,177.386 94.6457,181.071 \n",
       "  100.173,184.756 105.701,181.071 111.228,184.756 116.756,181.071 122.283,177.386 127.811,173.701 133.339,170.016 138.866,166.331 144.394,162.646 149.921,158.961 \n",
       "  155.449,155.276 160.976,158.961 166.504,162.646 172.031,158.961 177.559,162.646 183.087,158.961 188.614,155.276 194.142,158.961 199.669,155.276 205.197,151.591 \n",
       "  210.724,155.276 216.252,151.591 221.78,147.906 227.307,144.22 232.835,140.535 238.362,136.85 243.89,133.165 249.417,129.48 254.945,133.165 260.472,136.85 \n",
       "  266,140.535 271.528,144.22 277.055,147.906 282.583,144.22 288.11,140.535 293.638,144.22 299.165,140.535 304.693,136.85 310.22,133.165 315.748,129.48 \n",
       "  \n",
       "  \"/>\n",
       "<polyline clip-path=\"url(#clip02)\" style=\"stroke:#e26f46; stroke-width:1; stroke-opacity:1; fill:none\" points=\"\n",
       "  44.8976,192.126 50.4252,188.441 55.9528,192.126 61.4803,195.811 67.0079,192.126 72.5354,195.811 78.063,192.126 83.5906,195.811 89.1181,192.126 94.6457,188.441 \n",
       "  100.173,184.756 105.701,181.071 111.228,177.386 116.756,173.701 122.283,177.386 127.811,173.701 133.339,177.386 138.866,173.701 144.394,170.016 149.921,166.331 \n",
       "  155.449,170.016 160.976,173.701 166.504,177.386 172.031,181.071 177.559,184.756 183.087,181.071 188.614,177.386 194.142,173.701 199.669,170.016 205.197,166.331 \n",
       "  210.724,170.016 216.252,173.701 221.78,177.386 227.307,173.701 232.835,177.386 238.362,173.701 243.89,170.016 249.417,173.701 254.945,177.386 260.472,173.701 \n",
       "  266,170.016 271.528,166.331 277.055,162.646 282.583,158.961 288.11,162.646 293.638,166.331 299.165,162.646 304.693,166.331 310.22,162.646 315.748,166.331 \n",
       "  \n",
       "  \"/>\n",
       "<polyline clip-path=\"url(#clip02)\" style=\"stroke:#3da44d; stroke-width:1; stroke-opacity:1; fill:none\" points=\"\n",
       "  44.8976,192.126 50.4252,188.441 55.9528,192.126 61.4803,195.811 67.0079,192.126 72.5354,195.811 78.063,192.126 83.5906,188.441 89.1181,184.756 94.6457,188.441 \n",
       "  100.173,192.126 105.701,188.441 111.228,192.126 116.756,188.441 122.283,184.756 127.811,188.441 133.339,184.756 138.866,188.441 144.394,184.756 149.921,181.071 \n",
       "  155.449,177.386 160.976,173.701 166.504,177.386 172.031,181.071 177.559,177.386 183.087,173.701 188.614,170.016 194.142,173.701 199.669,170.016 205.197,173.701 \n",
       "  210.724,170.016 216.252,173.701 221.78,177.386 227.307,173.701 232.835,177.386 238.362,181.071 243.89,177.386 249.417,181.071 254.945,177.386 260.472,181.071 \n",
       "  266,184.756 271.528,188.441 277.055,192.126 282.583,188.441 288.11,184.756 293.638,188.441 299.165,184.756 304.693,188.441 310.22,192.126 315.748,195.811 \n",
       "  \n",
       "  \"/>\n",
       "<polyline clip-path=\"url(#clip02)\" style=\"stroke:#c271d2; stroke-width:1; stroke-opacity:1; fill:none\" points=\"\n",
       "  44.8976,192.126 50.4252,188.441 55.9528,184.756 61.4803,181.071 67.0079,184.756 72.5354,188.441 78.063,192.126 83.5906,195.811 89.1181,192.126 94.6457,195.811 \n",
       "  100.173,192.126 105.701,188.441 111.228,192.126 116.756,195.811 122.283,192.126 127.811,195.811 133.339,199.496 138.866,195.811 144.394,199.496 149.921,195.811 \n",
       "  155.449,199.496 160.976,195.811 166.504,192.126 172.031,195.811 177.559,199.496 183.087,195.811 188.614,199.496 194.142,195.811 199.669,192.126 205.197,195.811 \n",
       "  210.724,199.496 216.252,195.811 221.78,192.126 227.307,195.811 232.835,199.496 238.362,203.181 243.89,206.866 249.417,203.181 254.945,199.496 260.472,203.181 \n",
       "  266,199.496 271.528,203.181 277.055,206.866 282.583,210.551 288.11,214.236 293.638,210.551 299.165,206.866 304.693,210.551 310.22,206.866 315.748,203.181 \n",
       "  \n",
       "  \"/>\n",
       "<polyline clip-path=\"url(#clip02)\" style=\"stroke:#ac8d18; stroke-width:1; stroke-opacity:1; fill:none\" points=\"\n",
       "  44.8976,192.126 50.4252,195.811 55.9528,199.496 61.4803,195.811 67.0079,199.496 72.5354,203.181 78.063,199.496 83.5906,203.181 89.1181,206.866 94.6457,210.551 \n",
       "  100.173,214.236 105.701,210.551 111.228,206.866 116.756,210.551 122.283,206.866 127.811,203.181 133.339,199.496 138.866,195.811 144.394,199.496 149.921,203.181 \n",
       "  155.449,206.866 160.976,210.551 166.504,214.236 172.031,210.551 177.559,206.866 183.087,210.551 188.614,206.866 194.142,210.551 199.669,214.236 205.197,210.551 \n",
       "  210.724,214.236 216.252,217.921 221.78,221.606 227.307,225.291 232.835,228.976 238.362,225.291 243.89,221.606 249.417,225.291 254.945,228.976 260.472,232.661 \n",
       "  266,228.976 271.528,225.291 277.055,221.606 282.583,225.291 288.11,221.606 293.638,225.291 299.165,228.976 304.693,232.661 310.22,236.346 315.748,240.031 \n",
       "  \n",
       "  \"/>\n",
       "<polyline clip-path=\"url(#clip02)\" style=\"stroke:#00a9ad; stroke-width:1; stroke-opacity:1; fill:none\" points=\"\n",
       "  44.8976,192.126 50.4252,195.811 55.9528,199.496 61.4803,195.811 67.0079,192.126 72.5354,188.441 78.063,192.126 83.5906,195.811 89.1181,199.496 94.6457,203.181 \n",
       "  100.173,206.866 105.701,203.181 111.228,199.496 116.756,203.181 122.283,206.866 127.811,203.181 133.339,206.866 138.866,210.551 144.394,214.236 149.921,217.921 \n",
       "  155.449,221.606 160.976,225.291 166.504,221.606 172.031,217.921 177.559,221.606 183.087,225.291 188.614,221.606 194.142,225.291 199.669,221.606 205.197,225.291 \n",
       "  210.724,228.976 216.252,225.291 221.78,221.606 227.307,225.291 232.835,228.976 238.362,225.291 243.89,221.606 249.417,225.291 254.945,221.606 260.472,217.921 \n",
       "  266,221.606 271.528,225.291 277.055,228.976 282.583,225.291 288.11,228.976 293.638,225.291 299.165,228.976 304.693,232.661 310.22,236.346 315.748,232.661 \n",
       "  \n",
       "  \"/>\n",
       "<polyline clip-path=\"url(#clip02)\" style=\"stroke:#ed5d92; stroke-width:1; stroke-opacity:1; fill:none\" points=\"\n",
       "  44.8976,192.126 50.4252,188.441 55.9528,184.756 61.4803,181.071 67.0079,177.386 72.5354,181.071 78.063,177.386 83.5906,173.701 89.1181,177.386 94.6457,173.701 \n",
       "  100.173,170.016 105.701,173.701 111.228,177.386 116.756,173.701 122.283,170.016 127.811,173.701 133.339,177.386 138.866,181.071 144.394,184.756 149.921,181.071 \n",
       "  155.449,184.756 160.976,181.071 166.504,177.386 172.031,173.701 177.559,177.386 183.087,173.701 188.614,177.386 194.142,181.071 199.669,184.756 205.197,188.441 \n",
       "  210.724,192.126 216.252,195.811 221.78,199.496 227.307,203.181 232.835,206.866 238.362,203.181 243.89,199.496 249.417,195.811 254.945,192.126 260.472,188.441 \n",
       "  266,192.126 271.528,195.811 277.055,199.496 282.583,195.811 288.11,199.496 293.638,203.181 299.165,206.866 304.693,210.551 310.22,214.236 315.748,217.921 \n",
       "  \n",
       "  \"/>\n",
       "<polyline clip-path=\"url(#clip02)\" style=\"stroke:#c68125; stroke-width:1; stroke-opacity:1; fill:none\" points=\"\n",
       "  44.8976,192.126 50.4252,188.441 55.9528,192.126 61.4803,195.811 67.0079,192.126 72.5354,195.811 78.063,199.496 83.5906,195.811 89.1181,192.126 94.6457,195.811 \n",
       "  100.173,192.126 105.701,188.441 111.228,192.126 116.756,195.811 122.283,192.126 127.811,195.811 133.339,192.126 138.866,195.811 144.394,199.496 149.921,195.811 \n",
       "  155.449,192.126 160.976,195.811 166.504,192.126 172.031,188.441 177.559,184.756 183.087,181.071 188.614,177.386 194.142,173.701 199.669,177.386 205.197,181.071 \n",
       "  210.724,184.756 216.252,188.441 221.78,184.756 227.307,181.071 232.835,184.756 238.362,181.071 243.89,184.756 249.417,181.071 254.945,184.756 260.472,181.071 \n",
       "  266,184.756 271.528,188.441 277.055,184.756 282.583,188.441 288.11,192.126 293.638,195.811 299.165,199.496 304.693,203.181 310.22,199.496 315.748,203.181 \n",
       "  \n",
       "  \"/>\n",
       "<polyline clip-path=\"url(#clip02)\" style=\"stroke:#00a98d; stroke-width:1; stroke-opacity:1; fill:none\" points=\"\n",
       "  44.8976,192.126 50.4252,188.441 55.9528,184.756 61.4803,188.441 67.0079,184.756 72.5354,181.071 78.063,177.386 83.5906,173.701 89.1181,177.386 94.6457,181.071 \n",
       "  100.173,184.756 105.701,181.071 111.228,177.386 116.756,173.701 122.283,177.386 127.811,181.071 133.339,184.756 138.866,181.071 144.394,177.386 149.921,173.701 \n",
       "  155.449,177.386 160.976,181.071 166.504,177.386 172.031,181.071 177.559,184.756 183.087,188.441 188.614,192.126 194.142,195.811 199.669,199.496 205.197,203.181 \n",
       "  210.724,199.496 216.252,203.181 221.78,199.496 227.307,195.811 232.835,199.496 238.362,203.181 243.89,199.496 249.417,195.811 254.945,192.126 260.472,188.441 \n",
       "  266,192.126 271.528,195.811 277.055,199.496 282.583,203.181 288.11,199.496 293.638,203.181 299.165,199.496 304.693,203.181 310.22,199.496 315.748,203.181 \n",
       "  \n",
       "  \"/>\n",
       "<polyline clip-path=\"url(#clip02)\" style=\"stroke:#8e971d; stroke-width:1; stroke-opacity:1; fill:none\" points=\"\n",
       "  44.8976,192.126 50.4252,195.811 55.9528,192.126 61.4803,195.811 67.0079,192.126 72.5354,195.811 78.063,192.126 83.5906,195.811 89.1181,192.126 94.6457,195.811 \n",
       "  100.173,199.496 105.701,203.181 111.228,206.866 116.756,210.551 122.283,214.236 127.811,210.551 133.339,206.866 138.866,210.551 144.394,206.866 149.921,203.181 \n",
       "  155.449,206.866 160.976,210.551 166.504,214.236 172.031,210.551 177.559,214.236 183.087,210.551 188.614,214.236 194.142,217.921 199.669,214.236 205.197,210.551 \n",
       "  210.724,206.866 216.252,203.181 221.78,206.866 227.307,210.551 232.835,206.866 238.362,210.551 243.89,206.866 249.417,210.551 254.945,214.236 260.472,217.921 \n",
       "  266,214.236 271.528,210.551 277.055,206.866 282.583,210.551 288.11,206.866 293.638,210.551 299.165,206.866 304.693,203.181 310.22,199.496 315.748,195.811 \n",
       "  \n",
       "  \"/>\n",
       "<polyline clip-path=\"url(#clip02)\" style=\"stroke:#00a8cb; stroke-width:1; stroke-opacity:1; fill:none\" points=\"\n",
       "  44.8976,192.126 50.4252,195.811 55.9528,192.126 61.4803,188.441 67.0079,184.756 72.5354,188.441 78.063,184.756 83.5906,188.441 89.1181,184.756 94.6457,188.441 \n",
       "  100.173,184.756 105.701,181.071 111.228,177.386 116.756,173.701 122.283,170.016 127.811,166.331 133.339,170.016 138.866,166.331 144.394,170.016 149.921,166.331 \n",
       "  155.449,162.646 160.976,166.331 166.504,170.016 172.031,166.331 177.559,170.016 183.087,166.331 188.614,162.646 194.142,166.331 199.669,170.016 205.197,166.331 \n",
       "  210.724,170.016 216.252,173.701 221.78,170.016 227.307,173.701 232.835,170.016 238.362,173.701 243.89,170.016 249.417,173.701 254.945,170.016 260.472,173.701 \n",
       "  266,177.386 271.528,181.071 277.055,177.386 282.583,181.071 288.11,184.756 293.638,188.441 299.165,192.126 304.693,188.441 310.22,192.126 315.748,195.811 \n",
       "  \n",
       "  \"/>\n",
       "<polyline clip-path=\"url(#clip02)\" style=\"stroke:#9b7fe8; stroke-width:1; stroke-opacity:1; fill:none\" points=\"\n",
       "  44.8976,192.126 50.4252,195.811 55.9528,192.126 61.4803,195.811 67.0079,199.496 72.5354,203.181 78.063,199.496 83.5906,195.811 89.1181,192.126 94.6457,195.811 \n",
       "  100.173,199.496 105.701,203.181 111.228,206.866 116.756,203.181 122.283,206.866 127.811,210.551 133.339,214.236 138.866,217.921 144.394,214.236 149.921,217.921 \n",
       "  155.449,221.606 160.976,217.921 166.504,214.236 172.031,217.921 177.559,221.606 183.087,217.921 188.614,214.236 194.142,210.551 199.669,214.236 205.197,210.551 \n",
       "  210.724,206.866 216.252,210.551 221.78,214.236 227.307,210.551 232.835,206.866 238.362,203.181 243.89,206.866 249.417,203.181 254.945,206.866 260.472,210.551 \n",
       "  266,214.236 271.528,210.551 277.055,206.866 282.583,203.181 288.11,199.496 293.638,203.181 299.165,199.496 304.693,195.811 310.22,192.126 315.748,188.441 \n",
       "  \n",
       "  \"/>\n",
       "<polyline clip-path=\"url(#clip02)\" style=\"stroke:#608cf6; stroke-width:1; stroke-opacity:1; fill:none\" points=\"\n",
       "  44.8976,192.126 50.4252,188.441 55.9528,192.126 61.4803,195.811 67.0079,199.496 72.5354,195.811 78.063,199.496 83.5906,203.181 89.1181,206.866 94.6457,203.181 \n",
       "  100.173,206.866 105.701,203.181 111.228,199.496 116.756,195.811 122.283,192.126 127.811,195.811 133.339,192.126 138.866,188.441 144.394,192.126 149.921,195.811 \n",
       "  155.449,192.126 160.976,195.811 166.504,192.126 172.031,195.811 177.559,199.496 183.087,195.811 188.614,192.126 194.142,195.811 199.669,192.126 205.197,188.441 \n",
       "  210.724,192.126 216.252,188.441 221.78,192.126 227.307,195.811 232.835,199.496 238.362,195.811 243.89,199.496 249.417,203.181 254.945,206.866 260.472,203.181 \n",
       "  266,199.496 271.528,195.811 277.055,199.496 282.583,203.181 288.11,206.866 293.638,210.551 299.165,206.866 304.693,203.181 310.22,199.496 315.748,203.181 \n",
       "  \n",
       "  \"/>\n",
       "<polyline clip-path=\"url(#clip02)\" style=\"stroke:#f05f73; stroke-width:1; stroke-opacity:1; fill:none\" points=\"\n",
       "  44.8976,192.126 50.4252,188.441 55.9528,184.756 61.4803,188.441 67.0079,192.126 72.5354,195.811 78.063,199.496 83.5906,203.181 89.1181,199.496 94.6457,195.811 \n",
       "  100.173,199.496 105.701,203.181 111.228,199.496 116.756,195.811 122.283,192.126 127.811,188.441 133.339,184.756 138.866,188.441 144.394,192.126 149.921,188.441 \n",
       "  155.449,192.126 160.976,195.811 166.504,192.126 172.031,195.811 177.559,199.496 183.087,195.811 188.614,199.496 194.142,203.181 199.669,199.496 205.197,195.811 \n",
       "  210.724,192.126 216.252,188.441 221.78,184.756 227.307,181.071 232.835,177.386 238.362,173.701 243.89,177.386 249.417,173.701 254.945,170.016 260.472,173.701 \n",
       "  266,170.016 271.528,166.331 277.055,162.646 282.583,166.331 288.11,162.646 293.638,166.331 299.165,162.646 304.693,158.961 310.22,162.646 315.748,158.961 \n",
       "  \n",
       "  \"/>\n",
       "<polyline clip-path=\"url(#clip02)\" style=\"stroke:#dd64b5; stroke-width:1; stroke-opacity:1; fill:none\" points=\"\n",
       "  44.8976,192.126 50.4252,188.441 55.9528,192.126 61.4803,188.441 67.0079,184.756 72.5354,181.071 78.063,177.386 83.5906,173.701 89.1181,177.386 94.6457,181.071 \n",
       "  100.173,177.386 105.701,181.071 111.228,184.756 116.756,188.441 122.283,192.126 127.811,195.811 133.339,192.126 138.866,188.441 144.394,192.126 149.921,188.441 \n",
       "  155.449,192.126 160.976,188.441 166.504,184.756 172.031,188.441 177.559,184.756 183.087,181.071 188.614,177.386 194.142,181.071 199.669,177.386 205.197,173.701 \n",
       "  210.724,170.016 216.252,173.701 221.78,170.016 227.307,173.701 232.835,177.386 238.362,173.701 243.89,177.386 249.417,173.701 254.945,170.016 260.472,173.701 \n",
       "  266,170.016 271.528,166.331 277.055,170.016 282.583,173.701 288.11,170.016 293.638,166.331 299.165,162.646 304.693,166.331 310.22,170.016 315.748,166.331 \n",
       "  \n",
       "  \"/>\n",
       "<polyline clip-path=\"url(#clip02)\" style=\"stroke:#6b9e32; stroke-width:1; stroke-opacity:1; fill:none\" points=\"\n",
       "  44.8976,192.126 50.4252,195.811 55.9528,192.126 61.4803,188.441 67.0079,184.756 72.5354,181.071 78.063,177.386 83.5906,173.701 89.1181,170.016 94.6457,173.701 \n",
       "  100.173,170.016 105.701,173.701 111.228,177.386 116.756,181.071 122.283,177.386 127.811,181.071 133.339,177.386 138.866,173.701 144.394,170.016 149.921,166.331 \n",
       "  155.449,170.016 160.976,166.331 166.504,162.646 172.031,158.961 177.559,155.276 183.087,151.591 188.614,155.276 194.142,151.591 199.669,155.276 205.197,151.591 \n",
       "  210.724,155.276 216.252,158.961 221.78,162.646 227.307,166.331 232.835,162.646 238.362,158.961 243.89,155.276 249.417,158.961 254.945,155.276 260.472,158.961 \n",
       "  266,155.276 271.528,151.591 277.055,147.906 282.583,151.591 288.11,155.276 293.638,158.961 299.165,155.276 304.693,158.961 310.22,162.646 315.748,158.961 \n",
       "  \n",
       "  \"/>\n",
       "<polyline clip-path=\"url(#clip02)\" style=\"stroke:#718c69; stroke-width:1; stroke-opacity:1; fill:none\" points=\"\n",
       "  44.8976,192.126 50.4252,188.441 55.9528,192.126 61.4803,188.441 67.0079,184.756 72.5354,188.441 78.063,192.126 83.5906,188.441 89.1181,184.756 94.6457,188.441 \n",
       "  100.173,184.756 105.701,181.071 111.228,177.386 116.756,181.071 122.283,177.386 127.811,173.701 133.339,170.016 138.866,166.331 144.394,162.646 149.921,166.331 \n",
       "  155.449,170.016 160.976,166.331 166.504,162.646 172.031,158.961 177.559,162.646 183.087,158.961 188.614,155.276 194.142,151.591 199.669,147.906 205.197,151.591 \n",
       "  210.724,147.906 216.252,144.22 221.78,140.535 227.307,144.22 232.835,140.535 238.362,144.22 243.89,140.535 249.417,144.22 254.945,147.906 260.472,151.591 \n",
       "  266,147.906 271.528,151.591 277.055,147.906 282.583,144.22 288.11,140.535 293.638,144.22 299.165,147.906 304.693,144.22 310.22,140.535 315.748,136.85 \n",
       "  \n",
       "  \"/>\n",
       "<polyline clip-path=\"url(#clip02)\" style=\"stroke:#47988b; stroke-width:1; stroke-opacity:1; fill:none\" points=\"\n",
       "  44.8976,192.126 50.4252,188.441 55.9528,184.756 61.4803,181.071 67.0079,184.756 72.5354,181.071 78.063,184.756 83.5906,181.071 89.1181,184.756 94.6457,181.071 \n",
       "  100.173,177.386 105.701,181.071 111.228,184.756 116.756,181.071 122.283,177.386 127.811,181.071 133.339,177.386 138.866,181.071 144.394,184.756 149.921,188.441 \n",
       "  155.449,184.756 160.976,188.441 166.504,184.756 172.031,181.071 177.559,184.756 183.087,188.441 188.614,184.756 194.142,188.441 199.669,192.126 205.197,195.811 \n",
       "  210.724,199.496 216.252,203.181 221.78,206.866 227.307,203.181 232.835,199.496 238.362,195.811 243.89,199.496 249.417,203.181 254.945,206.866 260.472,210.551 \n",
       "  266,206.866 271.528,210.551 277.055,214.236 282.583,217.921 288.11,221.606 293.638,225.291 299.165,228.976 304.693,225.291 310.22,228.976 315.748,232.661 \n",
       "  \n",
       "  \"/>\n",
       "<polyline clip-path=\"url(#clip02)\" style=\"stroke:#1ea68c; stroke-width:1; stroke-opacity:1; fill:none\" points=\"\n",
       "  44.8976,192.126 50.4252,188.441 55.9528,184.756 61.4803,188.441 67.0079,184.756 72.5354,181.071 78.063,184.756 83.5906,188.441 89.1181,184.756 94.6457,188.441 \n",
       "  100.173,192.126 105.701,195.811 111.228,199.496 116.756,203.181 122.283,199.496 127.811,203.181 133.339,199.496 138.866,203.181 144.394,199.496 149.921,203.181 \n",
       "  155.449,206.866 160.976,203.181 166.504,199.496 172.031,195.811 177.559,199.496 183.087,203.181 188.614,206.866 194.142,210.551 199.669,206.866 205.197,210.551 \n",
       "  210.724,214.236 216.252,217.921 221.78,214.236 227.307,210.551 232.835,206.866 238.362,210.551 243.89,214.236 249.417,210.551 254.945,214.236 260.472,210.551 \n",
       "  266,206.866 271.528,203.181 277.055,199.496 282.583,203.181 288.11,199.496 293.638,195.811 299.165,192.126 304.693,195.811 310.22,192.126 315.748,188.441 \n",
       "  \n",
       "  \"/>\n",
       "<polyline clip-path=\"url(#clip02)\" style=\"stroke:#af78dd; stroke-width:1; stroke-opacity:1; fill:none\" points=\"\n",
       "  44.8976,192.126 50.4252,188.441 55.9528,184.756 61.4803,188.441 67.0079,192.126 72.5354,188.441 78.063,184.756 83.5906,181.071 89.1181,184.756 94.6457,181.071 \n",
       "  100.173,177.386 105.701,181.071 111.228,184.756 116.756,181.071 122.283,184.756 127.811,181.071 133.339,177.386 138.866,181.071 144.394,177.386 149.921,181.071 \n",
       "  155.449,184.756 160.976,181.071 166.504,177.386 172.031,173.701 177.559,170.016 183.087,166.331 188.614,162.646 194.142,158.961 199.669,155.276 205.197,151.591 \n",
       "  210.724,155.276 216.252,158.961 221.78,162.646 227.307,166.331 232.835,162.646 238.362,158.961 243.89,155.276 249.417,158.961 254.945,155.276 260.472,151.591 \n",
       "  266,155.276 271.528,151.591 277.055,147.906 282.583,151.591 288.11,147.906 293.638,144.22 299.165,140.535 304.693,144.22 310.22,147.906 315.748,144.22 \n",
       "  \n",
       "  \"/>\n",
       "<polyline clip-path=\"url(#clip02)\" style=\"stroke:#868d87; stroke-width:1; stroke-opacity:1; fill:none\" points=\"\n",
       "  44.8976,192.126 50.4252,188.441 55.9528,192.126 61.4803,188.441 67.0079,184.756 72.5354,188.441 78.063,184.756 83.5906,181.071 89.1181,177.386 94.6457,173.701 \n",
       "  100.173,170.016 105.701,173.701 111.228,177.386 116.756,181.071 122.283,177.386 127.811,173.701 133.339,177.386 138.866,181.071 144.394,184.756 149.921,181.071 \n",
       "  155.449,177.386 160.976,173.701 166.504,170.016 172.031,173.701 177.559,170.016 183.087,166.331 188.614,162.646 194.142,166.331 199.669,162.646 205.197,166.331 \n",
       "  210.724,162.646 216.252,158.961 221.78,162.646 227.307,166.331 232.835,162.646 238.362,158.961 243.89,155.276 249.417,151.591 254.945,147.906 260.472,144.22 \n",
       "  266,147.906 271.528,144.22 277.055,147.906 282.583,151.591 288.11,147.906 293.638,144.22 299.165,147.906 304.693,144.22 310.22,140.535 315.748,144.22 \n",
       "  \n",
       "  \"/>\n",
       "<polyline clip-path=\"url(#clip02)\" style=\"stroke:#47a065; stroke-width:1; stroke-opacity:1; fill:none\" points=\"\n",
       "  44.8976,192.126 50.4252,195.811 55.9528,192.126 61.4803,195.811 67.0079,199.496 72.5354,203.181 78.063,206.866 83.5906,203.181 89.1181,199.496 94.6457,203.181 \n",
       "  100.173,206.866 105.701,203.181 111.228,199.496 116.756,195.811 122.283,192.126 127.811,195.811 133.339,199.496 138.866,195.811 144.394,192.126 149.921,188.441 \n",
       "  155.449,192.126 160.976,195.811 166.504,199.496 172.031,203.181 177.559,206.866 183.087,210.551 188.614,206.866 194.142,203.181 199.669,206.866 205.197,210.551 \n",
       "  210.724,214.236 216.252,210.551 221.78,206.866 227.307,203.181 232.835,199.496 238.362,195.811 243.89,199.496 249.417,203.181 254.945,206.866 260.472,203.181 \n",
       "  266,206.866 271.528,203.181 277.055,199.496 282.583,203.181 288.11,206.866 293.638,203.181 299.165,199.496 304.693,195.811 310.22,192.126 315.748,188.441 \n",
       "  \n",
       "  \"/>\n",
       "<polyline clip-path=\"url(#clip02)\" style=\"stroke:#7683af; stroke-width:1; stroke-opacity:1; fill:none\" points=\"\n",
       "  44.8976,192.126 50.4252,195.811 55.9528,199.496 61.4803,195.811 67.0079,192.126 72.5354,195.811 78.063,192.126 83.5906,195.811 89.1181,192.126 94.6457,188.441 \n",
       "  100.173,184.756 105.701,188.441 111.228,184.756 116.756,188.441 122.283,192.126 127.811,195.811 133.339,199.496 138.866,195.811 144.394,192.126 149.921,188.441 \n",
       "  155.449,184.756 160.976,181.071 166.504,177.386 172.031,173.701 177.559,170.016 183.087,166.331 188.614,170.016 194.142,166.331 199.669,162.646 205.197,166.331 \n",
       "  210.724,170.016 216.252,166.331 221.78,162.646 227.307,166.331 232.835,162.646 238.362,158.961 243.89,155.276 249.417,151.591 254.945,147.906 260.472,151.591 \n",
       "  266,147.906 271.528,151.591 277.055,155.276 282.583,158.961 288.11,155.276 293.638,151.591 299.165,147.906 304.693,144.22 310.22,147.906 315.748,144.22 \n",
       "  \n",
       "  \"/>\n",
       "<polyline clip-path=\"url(#clip02)\" style=\"stroke:#b08086; stroke-width:1; stroke-opacity:1; fill:none\" points=\"\n",
       "  44.8976,192.126 50.4252,195.811 55.9528,199.496 61.4803,195.811 67.0079,199.496 72.5354,195.811 78.063,192.126 83.5906,195.811 89.1181,199.496 94.6457,195.811 \n",
       "  100.173,199.496 105.701,203.181 111.228,199.496 116.756,203.181 122.283,199.496 127.811,203.181 133.339,199.496 138.866,195.811 144.394,192.126 149.921,188.441 \n",
       "  155.449,192.126 160.976,188.441 166.504,184.756 172.031,181.071 177.559,177.386 183.087,173.701 188.614,170.016 194.142,166.331 199.669,170.016 205.197,166.331 \n",
       "  210.724,170.016 216.252,173.701 221.78,177.386 227.307,181.071 232.835,184.756 238.362,188.441 243.89,192.126 249.417,188.441 254.945,192.126 260.472,195.811 \n",
       "  266,192.126 271.528,195.811 277.055,192.126 282.583,188.441 288.11,192.126 293.638,195.811 299.165,192.126 304.693,195.811 310.22,199.496 315.748,195.811 \n",
       "  \n",
       "  \"/>\n",
       "<polyline clip-path=\"url(#clip02)\" style=\"stroke:#309ac1; stroke-width:1; stroke-opacity:1; fill:none\" points=\"\n",
       "  44.8976,192.126 50.4252,188.441 55.9528,184.756 61.4803,188.441 67.0079,192.126 72.5354,195.811 78.063,199.496 83.5906,195.811 89.1181,192.126 94.6457,195.811 \n",
       "  100.173,199.496 105.701,195.811 111.228,192.126 116.756,195.811 122.283,192.126 127.811,195.811 133.339,192.126 138.866,188.441 144.394,192.126 149.921,195.811 \n",
       "  155.449,199.496 160.976,195.811 166.504,192.126 172.031,188.441 177.559,184.756 183.087,181.071 188.614,184.756 194.142,181.071 199.669,177.386 205.197,181.071 \n",
       "  210.724,184.756 216.252,188.441 221.78,184.756 227.307,188.441 232.835,184.756 238.362,188.441 243.89,192.126 249.417,195.811 254.945,199.496 260.472,203.181 \n",
       "  266,199.496 271.528,203.181 277.055,206.866 282.583,203.181 288.11,206.866 293.638,203.181 299.165,206.866 304.693,210.551 310.22,206.866 315.748,203.181 \n",
       "  \n",
       "  \"/>\n",
       "<polyline clip-path=\"url(#clip02)\" style=\"stroke:#788490; stroke-width:1; stroke-opacity:1; fill:none\" points=\"\n",
       "  44.8976,192.126 50.4252,195.811 55.9528,192.126 61.4803,195.811 67.0079,192.126 72.5354,195.811 78.063,199.496 83.5906,195.811 89.1181,199.496 94.6457,195.811 \n",
       "  100.173,199.496 105.701,195.811 111.228,199.496 116.756,203.181 122.283,199.496 127.811,195.811 133.339,199.496 138.866,203.181 144.394,199.496 149.921,195.811 \n",
       "  155.449,192.126 160.976,188.441 166.504,192.126 172.031,195.811 177.559,192.126 183.087,188.441 188.614,192.126 194.142,188.441 199.669,192.126 205.197,188.441 \n",
       "  210.724,192.126 216.252,188.441 221.78,192.126 227.307,195.811 232.835,192.126 238.362,195.811 243.89,199.496 249.417,203.181 254.945,199.496 260.472,203.181 \n",
       "  266,199.496 271.528,195.811 277.055,192.126 282.583,195.811 288.11,199.496 293.638,203.181 299.165,199.496 304.693,203.181 310.22,206.866 315.748,210.551 \n",
       "  \n",
       "  \"/>\n",
       "<polyline clip-path=\"url(#clip02)\" style=\"stroke:#e561a4; stroke-width:1; stroke-opacity:1; fill:none\" points=\"\n",
       "  44.8976,192.126 50.4252,188.441 55.9528,184.756 61.4803,181.071 67.0079,177.386 72.5354,181.071 78.063,177.386 83.5906,173.701 89.1181,170.016 94.6457,166.331 \n",
       "  100.173,170.016 105.701,166.331 111.228,162.646 116.756,166.331 122.283,170.016 127.811,166.331 133.339,162.646 138.866,158.961 144.394,162.646 149.921,158.961 \n",
       "  155.449,155.276 160.976,158.961 166.504,162.646 172.031,166.331 177.559,162.646 183.087,158.961 188.614,162.646 194.142,158.961 199.669,155.276 205.197,158.961 \n",
       "  210.724,155.276 216.252,151.591 221.78,155.276 227.307,151.591 232.835,147.906 238.362,144.22 243.89,147.906 249.417,144.22 254.945,147.906 260.472,151.591 \n",
       "  266,155.276 271.528,158.961 277.055,162.646 282.583,166.331 288.11,162.646 293.638,166.331 299.165,162.646 304.693,166.331 310.22,170.016 315.748,173.701 \n",
       "  \n",
       "  \"/>\n",
       "<polyline clip-path=\"url(#clip02)\" style=\"stroke:#99902c; stroke-width:1; stroke-opacity:1; fill:none\" points=\"\n",
       "  44.8976,192.126 50.4252,188.441 55.9528,192.126 61.4803,195.811 67.0079,199.496 72.5354,203.181 78.063,199.496 83.5906,195.811 89.1181,199.496 94.6457,203.181 \n",
       "  100.173,199.496 105.701,195.811 111.228,192.126 116.756,188.441 122.283,192.126 127.811,195.811 133.339,192.126 138.866,195.811 144.394,199.496 149.921,203.181 \n",
       "  155.449,206.866 160.976,210.551 166.504,214.236 172.031,217.921 177.559,214.236 183.087,217.921 188.614,214.236 194.142,210.551 199.669,214.236 205.197,217.921 \n",
       "  210.724,221.606 216.252,225.291 221.78,228.976 227.307,232.661 232.835,228.976 238.362,232.661 243.89,228.976 249.417,232.661 254.945,236.346 260.472,232.661 \n",
       "  266,236.346 271.528,240.031 277.055,243.717 282.583,240.031 288.11,243.717 293.638,240.031 299.165,236.346 304.693,240.031 310.22,236.346 315.748,232.661 \n",
       "  \n",
       "  \"/>\n",
       "<polyline clip-path=\"url(#clip02)\" style=\"stroke:#389a7b; stroke-width:1; stroke-opacity:1; fill:none\" points=\"\n",
       "  44.8976,192.126 50.4252,188.441 55.9528,184.756 61.4803,188.441 67.0079,184.756 72.5354,188.441 78.063,192.126 83.5906,188.441 89.1181,184.756 94.6457,181.071 \n",
       "  100.173,184.756 105.701,188.441 111.228,192.126 116.756,188.441 122.283,192.126 127.811,195.811 133.339,199.496 138.866,195.811 144.394,199.496 149.921,195.811 \n",
       "  155.449,192.126 160.976,188.441 166.504,192.126 172.031,195.811 177.559,192.126 183.087,188.441 188.614,192.126 194.142,188.441 199.669,192.126 205.197,188.441 \n",
       "  210.724,184.756 216.252,188.441 221.78,192.126 227.307,195.811 232.835,199.496 238.362,195.811 243.89,192.126 249.417,188.441 254.945,192.126 260.472,195.811 \n",
       "  266,199.496 271.528,195.811 277.055,192.126 282.583,188.441 288.11,184.756 293.638,181.071 299.165,184.756 304.693,181.071 310.22,177.386 315.748,173.701 \n",
       "  \n",
       "  \"/>\n",
       "<polyline clip-path=\"url(#clip02)\" style=\"stroke:#d968a2; stroke-width:1; stroke-opacity:1; fill:none\" points=\"\n",
       "  44.8976,192.126 50.4252,195.811 55.9528,192.126 61.4803,195.811 67.0079,192.126 72.5354,195.811 78.063,199.496 83.5906,203.181 89.1181,199.496 94.6457,195.811 \n",
       "  100.173,199.496 105.701,203.181 111.228,199.496 116.756,195.811 122.283,199.496 127.811,203.181 133.339,206.866 138.866,203.181 144.394,206.866 149.921,203.181 \n",
       "  155.449,199.496 160.976,195.811 166.504,192.126 172.031,195.811 177.559,192.126 183.087,195.811 188.614,199.496 194.142,203.181 199.669,206.866 205.197,203.181 \n",
       "  210.724,199.496 216.252,203.181 221.78,199.496 227.307,203.181 232.835,206.866 238.362,210.551 243.89,214.236 249.417,217.921 254.945,214.236 260.472,210.551 \n",
       "  266,214.236 271.528,210.551 277.055,214.236 282.583,210.551 288.11,206.866 293.638,210.551 299.165,214.236 304.693,217.921 310.22,221.606 315.748,225.291 \n",
       "  \n",
       "  \"/>\n",
       "<polyline clip-path=\"url(#clip02)\" style=\"stroke:#009af9; stroke-width:1; stroke-opacity:1; fill:none\" points=\"\n",
       "  44.8976,192.126 50.4252,195.811 55.9528,192.126 61.4803,195.811 67.0079,192.126 72.5354,188.441 78.063,192.126 83.5906,195.811 89.1181,192.126 94.6457,188.441 \n",
       "  100.173,192.126 105.701,195.811 111.228,192.126 116.756,188.441 122.283,192.126 127.811,188.441 133.339,192.126 138.866,188.441 144.394,184.756 149.921,188.441 \n",
       "  155.449,184.756 160.976,188.441 166.504,192.126 172.031,188.441 177.559,192.126 183.087,188.441 188.614,192.126 194.142,195.811 199.669,199.496 205.197,195.811 \n",
       "  210.724,192.126 216.252,195.811 221.78,199.496 227.307,203.181 232.835,206.866 238.362,210.551 243.89,214.236 249.417,217.921 254.945,221.606 260.472,217.921 \n",
       "  266,221.606 271.528,225.291 277.055,221.606 282.583,217.921 288.11,214.236 293.638,217.921 299.165,214.236 304.693,210.551 310.22,214.236 315.748,217.921 \n",
       "  \n",
       "  \"/>\n",
       "<polyline clip-path=\"url(#clip02)\" style=\"stroke:#e26f46; stroke-width:1; stroke-opacity:1; fill:none\" points=\"\n",
       "  44.8976,192.126 50.4252,195.811 55.9528,192.126 61.4803,195.811 67.0079,192.126 72.5354,195.811 78.063,192.126 83.5906,188.441 89.1181,192.126 94.6457,195.811 \n",
       "  100.173,199.496 105.701,195.811 111.228,199.496 116.756,203.181 122.283,206.866 127.811,203.181 133.339,206.866 138.866,203.181 144.394,199.496 149.921,203.181 \n",
       "  155.449,199.496 160.976,195.811 166.504,199.496 172.031,203.181 177.559,199.496 183.087,195.811 188.614,192.126 194.142,188.441 199.669,192.126 205.197,188.441 \n",
       "  210.724,184.756 216.252,181.071 221.78,184.756 227.307,188.441 232.835,184.756 238.362,188.441 243.89,184.756 249.417,188.441 254.945,192.126 260.472,195.811 \n",
       "  266,192.126 271.528,188.441 277.055,184.756 282.583,181.071 288.11,177.386 293.638,181.071 299.165,177.386 304.693,181.071 310.22,184.756 315.748,181.071 \n",
       "  \n",
       "  \"/>\n",
       "<polyline clip-path=\"url(#clip02)\" style=\"stroke:#3da44d; stroke-width:1; stroke-opacity:1; fill:none\" points=\"\n",
       "  44.8976,192.126 50.4252,195.811 55.9528,192.126 61.4803,195.811 67.0079,192.126 72.5354,195.811 78.063,199.496 83.5906,195.811 89.1181,192.126 94.6457,188.441 \n",
       "  100.173,184.756 105.701,181.071 111.228,184.756 116.756,188.441 122.283,192.126 127.811,188.441 133.339,192.126 138.866,188.441 144.394,184.756 149.921,181.071 \n",
       "  155.449,177.386 160.976,181.071 166.504,177.386 172.031,173.701 177.559,170.016 183.087,166.331 188.614,162.646 194.142,166.331 199.669,170.016 205.197,166.331 \n",
       "  210.724,170.016 216.252,173.701 221.78,177.386 227.307,181.071 232.835,177.386 238.362,181.071 243.89,177.386 249.417,173.701 254.945,177.386 260.472,173.701 \n",
       "  266,170.016 271.528,166.331 277.055,170.016 282.583,173.701 288.11,177.386 293.638,181.071 299.165,184.756 304.693,188.441 310.22,184.756 315.748,181.071 \n",
       "  \n",
       "  \"/>\n",
       "<polyline clip-path=\"url(#clip02)\" style=\"stroke:#c271d2; stroke-width:1; stroke-opacity:1; fill:none\" points=\"\n",
       "  44.8976,192.126 50.4252,188.441 55.9528,184.756 61.4803,181.071 67.0079,177.386 72.5354,173.701 78.063,170.016 83.5906,166.331 89.1181,170.016 94.6457,166.331 \n",
       "  100.173,170.016 105.701,166.331 111.228,162.646 116.756,158.961 122.283,162.646 127.811,158.961 133.339,155.276 138.866,158.961 144.394,162.646 149.921,158.961 \n",
       "  155.449,155.276 160.976,158.961 166.504,155.276 172.031,158.961 177.559,155.276 183.087,158.961 188.614,162.646 194.142,158.961 199.669,162.646 205.197,158.961 \n",
       "  210.724,162.646 216.252,166.331 221.78,170.016 227.307,166.331 232.835,170.016 238.362,173.701 243.89,170.016 249.417,173.701 254.945,177.386 260.472,181.071 \n",
       "  266,184.756 271.528,188.441 277.055,184.756 282.583,188.441 288.11,184.756 293.638,188.441 299.165,192.126 304.693,195.811 310.22,192.126 315.748,188.441 \n",
       "  \n",
       "  \"/>\n",
       "<polyline clip-path=\"url(#clip02)\" style=\"stroke:#ac8d18; stroke-width:1; stroke-opacity:1; fill:none\" points=\"\n",
       "  44.8976,192.126 50.4252,195.811 55.9528,192.126 61.4803,195.811 67.0079,199.496 72.5354,195.811 78.063,192.126 83.5906,195.811 89.1181,192.126 94.6457,188.441 \n",
       "  100.173,184.756 105.701,181.071 111.228,184.756 116.756,181.071 122.283,177.386 127.811,173.701 133.339,177.386 138.866,181.071 144.394,184.756 149.921,181.071 \n",
       "  155.449,184.756 160.976,188.441 166.504,192.126 172.031,188.441 177.559,184.756 183.087,188.441 188.614,192.126 194.142,195.811 199.669,199.496 205.197,195.811 \n",
       "  210.724,199.496 216.252,195.811 221.78,199.496 227.307,195.811 232.835,192.126 238.362,188.441 243.89,184.756 249.417,181.071 254.945,184.756 260.472,181.071 \n",
       "  266,177.386 271.528,173.701 277.055,177.386 282.583,181.071 288.11,177.386 293.638,173.701 299.165,177.386 304.693,181.071 310.22,184.756 315.748,181.071 \n",
       "  \n",
       "  \"/>\n",
       "<polyline clip-path=\"url(#clip02)\" style=\"stroke:#00a9ad; stroke-width:1; stroke-opacity:1; fill:none\" points=\"\n",
       "  44.8976,192.126 50.4252,188.441 55.9528,184.756 61.4803,188.441 67.0079,184.756 72.5354,188.441 78.063,192.126 83.5906,188.441 89.1181,192.126 94.6457,195.811 \n",
       "  100.173,199.496 105.701,203.181 111.228,199.496 116.756,195.811 122.283,192.126 127.811,188.441 133.339,192.126 138.866,188.441 144.394,184.756 149.921,188.441 \n",
       "  155.449,184.756 160.976,181.071 166.504,177.386 172.031,181.071 177.559,184.756 183.087,181.071 188.614,184.756 194.142,181.071 199.669,184.756 205.197,188.441 \n",
       "  210.724,192.126 216.252,188.441 221.78,184.756 227.307,188.441 232.835,184.756 238.362,181.071 243.89,177.386 249.417,181.071 254.945,177.386 260.472,181.071 \n",
       "  266,177.386 271.528,173.701 277.055,177.386 282.583,173.701 288.11,177.386 293.638,181.071 299.165,177.386 304.693,173.701 310.22,177.386 315.748,173.701 \n",
       "  \n",
       "  \"/>\n",
       "<polyline clip-path=\"url(#clip02)\" style=\"stroke:#ed5d92; stroke-width:1; stroke-opacity:1; fill:none\" points=\"\n",
       "  44.8976,192.126 50.4252,195.811 55.9528,199.496 61.4803,203.181 67.0079,199.496 72.5354,203.181 78.063,206.866 83.5906,203.181 89.1181,199.496 94.6457,203.181 \n",
       "  100.173,199.496 105.701,203.181 111.228,199.496 116.756,195.811 122.283,199.496 127.811,203.181 133.339,199.496 138.866,195.811 144.394,192.126 149.921,188.441 \n",
       "  155.449,184.756 160.976,188.441 166.504,184.756 172.031,181.071 177.559,177.386 183.087,181.071 188.614,184.756 194.142,188.441 199.669,192.126 205.197,188.441 \n",
       "  210.724,184.756 216.252,181.071 221.78,184.756 227.307,181.071 232.835,177.386 238.362,173.701 243.89,177.386 249.417,173.701 254.945,170.016 260.472,166.331 \n",
       "  266,162.646 271.528,158.961 277.055,155.276 282.583,158.961 288.11,155.276 293.638,158.961 299.165,162.646 304.693,166.331 310.22,162.646 315.748,158.961 \n",
       "  \n",
       "  \"/>\n",
       "<polyline clip-path=\"url(#clip02)\" style=\"stroke:#c68125; stroke-width:1; stroke-opacity:1; fill:none\" points=\"\n",
       "  44.8976,192.126 50.4252,195.811 55.9528,192.126 61.4803,195.811 67.0079,199.496 72.5354,195.811 78.063,199.496 83.5906,203.181 89.1181,206.866 94.6457,203.181 \n",
       "  100.173,206.866 105.701,203.181 111.228,206.866 116.756,210.551 122.283,214.236 127.811,210.551 133.339,214.236 138.866,217.921 144.394,214.236 149.921,210.551 \n",
       "  155.449,214.236 160.976,217.921 166.504,214.236 172.031,210.551 177.559,206.866 183.087,210.551 188.614,214.236 194.142,217.921 199.669,221.606 205.197,217.921 \n",
       "  210.724,214.236 216.252,217.921 221.78,214.236 227.307,210.551 232.835,214.236 238.362,210.551 243.89,214.236 249.417,217.921 254.945,221.606 260.472,217.921 \n",
       "  266,214.236 271.528,210.551 277.055,206.866 282.583,203.181 288.11,206.866 293.638,203.181 299.165,199.496 304.693,195.811 310.22,199.496 315.748,203.181 \n",
       "  \n",
       "  \"/>\n",
       "<polyline clip-path=\"url(#clip02)\" style=\"stroke:#00a98d; stroke-width:1; stroke-opacity:1; fill:none\" points=\"\n",
       "  44.8976,192.126 50.4252,188.441 55.9528,192.126 61.4803,188.441 67.0079,184.756 72.5354,188.441 78.063,192.126 83.5906,195.811 89.1181,199.496 94.6457,203.181 \n",
       "  100.173,199.496 105.701,195.811 111.228,192.126 116.756,195.811 122.283,192.126 127.811,188.441 133.339,184.756 138.866,181.071 144.394,177.386 149.921,173.701 \n",
       "  155.449,170.016 160.976,173.701 166.504,170.016 172.031,173.701 177.559,177.386 183.087,181.071 188.614,184.756 194.142,188.441 199.669,192.126 205.197,188.441 \n",
       "  210.724,184.756 216.252,188.441 221.78,192.126 227.307,195.811 232.835,199.496 238.362,203.181 243.89,206.866 249.417,210.551 254.945,214.236 260.472,210.551 \n",
       "  266,214.236 271.528,217.921 277.055,214.236 282.583,217.921 288.11,221.606 293.638,225.291 299.165,228.976 304.693,232.661 310.22,236.346 315.748,232.661 \n",
       "  \n",
       "  \"/>\n",
       "<polyline clip-path=\"url(#clip02)\" style=\"stroke:#8e971d; stroke-width:1; stroke-opacity:1; fill:none\" points=\"\n",
       "  44.8976,192.126 50.4252,188.441 55.9528,184.756 61.4803,181.071 67.0079,184.756 72.5354,181.071 78.063,177.386 83.5906,173.701 89.1181,170.016 94.6457,166.331 \n",
       "  100.173,170.016 105.701,166.331 111.228,162.646 116.756,166.331 122.283,162.646 127.811,158.961 133.339,155.276 138.866,158.961 144.394,155.276 149.921,151.591 \n",
       "  155.449,147.906 160.976,144.22 166.504,140.535 172.031,144.22 177.559,140.535 183.087,136.85 188.614,133.165 194.142,136.85 199.669,133.165 205.197,129.48 \n",
       "  210.724,125.795 216.252,122.11 221.78,125.795 227.307,129.48 232.835,133.165 238.362,129.48 243.89,133.165 249.417,136.85 254.945,133.165 260.472,129.48 \n",
       "  266,133.165 271.528,129.48 277.055,125.795 282.583,122.11 288.11,118.425 293.638,114.74 299.165,111.055 304.693,114.74 310.22,111.055 315.748,107.37 \n",
       "  \n",
       "  \"/>\n",
       "<polyline clip-path=\"url(#clip02)\" style=\"stroke:#00a8cb; stroke-width:1; stroke-opacity:1; fill:none\" points=\"\n",
       "  44.8976,192.126 50.4252,195.811 55.9528,199.496 61.4803,195.811 67.0079,199.496 72.5354,195.811 78.063,192.126 83.5906,188.441 89.1181,192.126 94.6457,195.811 \n",
       "  100.173,199.496 105.701,195.811 111.228,199.496 116.756,203.181 122.283,199.496 127.811,203.181 133.339,199.496 138.866,195.811 144.394,199.496 149.921,195.811 \n",
       "  155.449,192.126 160.976,195.811 166.504,192.126 172.031,188.441 177.559,184.756 183.087,181.071 188.614,184.756 194.142,181.071 199.669,184.756 205.197,181.071 \n",
       "  210.724,184.756 216.252,188.441 221.78,184.756 227.307,181.071 232.835,177.386 238.362,173.701 243.89,170.016 249.417,166.331 254.945,162.646 260.472,166.331 \n",
       "  266,170.016 271.528,166.331 277.055,162.646 282.583,158.961 288.11,155.276 293.638,158.961 299.165,155.276 304.693,158.961 310.22,155.276 315.748,158.961 \n",
       "  \n",
       "  \"/>\n",
       "<polyline clip-path=\"url(#clip02)\" style=\"stroke:#9b7fe8; stroke-width:1; stroke-opacity:1; fill:none\" points=\"\n",
       "  44.8976,192.126 50.4252,195.811 55.9528,192.126 61.4803,188.441 67.0079,184.756 72.5354,181.071 78.063,177.386 83.5906,173.701 89.1181,170.016 94.6457,166.331 \n",
       "  100.173,162.646 105.701,158.961 111.228,162.646 116.756,166.331 122.283,162.646 127.811,158.961 133.339,162.646 138.866,166.331 144.394,162.646 149.921,158.961 \n",
       "  155.449,162.646 160.976,158.961 166.504,162.646 172.031,158.961 177.559,155.276 183.087,158.961 188.614,162.646 194.142,158.961 199.669,155.276 205.197,158.961 \n",
       "  210.724,162.646 216.252,158.961 221.78,155.276 227.307,151.591 232.835,147.906 238.362,151.591 243.89,147.906 249.417,144.22 254.945,147.906 260.472,144.22 \n",
       "  266,140.535 271.528,144.22 277.055,140.535 282.583,144.22 288.11,147.906 293.638,151.591 299.165,155.276 304.693,158.961 310.22,155.276 315.748,151.591 \n",
       "  \n",
       "  \"/>\n",
       "<polyline clip-path=\"url(#clip02)\" style=\"stroke:#608cf6; stroke-width:1; stroke-opacity:1; fill:none\" points=\"\n",
       "  44.8976,192.126 50.4252,195.811 55.9528,199.496 61.4803,195.811 67.0079,192.126 72.5354,188.441 78.063,192.126 83.5906,195.811 89.1181,199.496 94.6457,195.811 \n",
       "  100.173,199.496 105.701,203.181 111.228,199.496 116.756,195.811 122.283,192.126 127.811,195.811 133.339,199.496 138.866,195.811 144.394,192.126 149.921,195.811 \n",
       "  155.449,199.496 160.976,203.181 166.504,206.866 172.031,210.551 177.559,214.236 183.087,210.551 188.614,214.236 194.142,210.551 199.669,206.866 205.197,210.551 \n",
       "  210.724,214.236 216.252,210.551 221.78,214.236 227.307,217.921 232.835,214.236 238.362,210.551 243.89,214.236 249.417,217.921 254.945,221.606 260.472,217.921 \n",
       "  266,221.606 271.528,217.921 277.055,221.606 282.583,217.921 288.11,221.606 293.638,225.291 299.165,221.606 304.693,217.921 310.22,221.606 315.748,217.921 \n",
       "  \n",
       "  \"/>\n",
       "<polyline clip-path=\"url(#clip02)\" style=\"stroke:#f05f73; stroke-width:1; stroke-opacity:1; fill:none\" points=\"\n",
       "  44.8976,192.126 50.4252,188.441 55.9528,192.126 61.4803,195.811 67.0079,192.126 72.5354,195.811 78.063,199.496 83.5906,195.811 89.1181,192.126 94.6457,188.441 \n",
       "  100.173,192.126 105.701,188.441 111.228,192.126 116.756,195.811 122.283,192.126 127.811,188.441 133.339,192.126 138.866,188.441 144.394,184.756 149.921,181.071 \n",
       "  155.449,184.756 160.976,188.441 166.504,192.126 172.031,195.811 177.559,192.126 183.087,188.441 188.614,192.126 194.142,195.811 199.669,199.496 205.197,203.181 \n",
       "  210.724,199.496 216.252,195.811 221.78,192.126 227.307,195.811 232.835,192.126 238.362,188.441 243.89,192.126 249.417,188.441 254.945,192.126 260.472,188.441 \n",
       "  266,184.756 271.528,181.071 277.055,184.756 282.583,188.441 288.11,184.756 293.638,188.441 299.165,184.756 304.693,181.071 310.22,184.756 315.748,181.071 \n",
       "  \n",
       "  \"/>\n",
       "<polyline clip-path=\"url(#clip02)\" style=\"stroke:#dd64b5; stroke-width:1; stroke-opacity:1; fill:none\" points=\"\n",
       "  44.8976,192.126 50.4252,195.811 55.9528,199.496 61.4803,203.181 67.0079,199.496 72.5354,203.181 78.063,199.496 83.5906,195.811 89.1181,192.126 94.6457,188.441 \n",
       "  100.173,192.126 105.701,188.441 111.228,184.756 116.756,188.441 122.283,192.126 127.811,195.811 133.339,199.496 138.866,203.181 144.394,199.496 149.921,195.811 \n",
       "  155.449,199.496 160.976,195.811 166.504,199.496 172.031,203.181 177.559,206.866 183.087,203.181 188.614,206.866 194.142,203.181 199.669,206.866 205.197,210.551 \n",
       "  210.724,214.236 216.252,210.551 221.78,206.866 227.307,203.181 232.835,199.496 238.362,203.181 243.89,206.866 249.417,210.551 254.945,206.866 260.472,210.551 \n",
       "  266,206.866 271.528,203.181 277.055,206.866 282.583,203.181 288.11,199.496 293.638,195.811 299.165,199.496 304.693,195.811 310.22,199.496 315.748,203.181 \n",
       "  \n",
       "  \"/>\n",
       "<polyline clip-path=\"url(#clip02)\" style=\"stroke:#6b9e32; stroke-width:1; stroke-opacity:1; fill:none\" points=\"\n",
       "  44.8976,192.126 50.4252,188.441 55.9528,192.126 61.4803,188.441 67.0079,184.756 72.5354,181.071 78.063,184.756 83.5906,181.071 89.1181,184.756 94.6457,188.441 \n",
       "  100.173,192.126 105.701,188.441 111.228,192.126 116.756,188.441 122.283,192.126 127.811,195.811 133.339,199.496 138.866,203.181 144.394,199.496 149.921,195.811 \n",
       "  155.449,192.126 160.976,195.811 166.504,192.126 172.031,195.811 177.559,192.126 183.087,195.811 188.614,192.126 194.142,195.811 199.669,192.126 205.197,195.811 \n",
       "  210.724,199.496 216.252,203.181 221.78,206.866 227.307,210.551 232.835,206.866 238.362,210.551 243.89,214.236 249.417,210.551 254.945,214.236 260.472,217.921 \n",
       "  266,214.236 271.528,210.551 277.055,206.866 282.583,210.551 288.11,206.866 293.638,203.181 299.165,199.496 304.693,195.811 310.22,199.496 315.748,203.181 \n",
       "  \n",
       "  \"/>\n",
       "<polyline clip-path=\"url(#clip02)\" style=\"stroke:#718c69; stroke-width:1; stroke-opacity:1; fill:none\" points=\"\n",
       "  44.8976,192.126 50.4252,195.811 55.9528,192.126 61.4803,188.441 67.0079,184.756 72.5354,188.441 78.063,192.126 83.5906,195.811 89.1181,199.496 94.6457,203.181 \n",
       "  100.173,199.496 105.701,195.811 111.228,192.126 116.756,195.811 122.283,192.126 127.811,195.811 133.339,192.126 138.866,188.441 144.394,184.756 149.921,188.441 \n",
       "  155.449,192.126 160.976,188.441 166.504,192.126 172.031,188.441 177.559,184.756 183.087,188.441 188.614,184.756 194.142,181.071 199.669,184.756 205.197,188.441 \n",
       "  210.724,192.126 216.252,188.441 221.78,192.126 227.307,188.441 232.835,192.126 238.362,195.811 243.89,199.496 249.417,195.811 254.945,199.496 260.472,195.811 \n",
       "  266,199.496 271.528,203.181 277.055,206.866 282.583,210.551 288.11,214.236 293.638,217.921 299.165,214.236 304.693,217.921 310.22,221.606 315.748,225.291 \n",
       "  \n",
       "  \"/>\n",
       "<polyline clip-path=\"url(#clip02)\" style=\"stroke:#47988b; stroke-width:1; stroke-opacity:1; fill:none\" points=\"\n",
       "  44.8976,192.126 50.4252,195.811 55.9528,199.496 61.4803,203.181 67.0079,206.866 72.5354,203.181 78.063,206.866 83.5906,203.181 89.1181,199.496 94.6457,195.811 \n",
       "  100.173,199.496 105.701,195.811 111.228,192.126 116.756,188.441 122.283,192.126 127.811,195.811 133.339,199.496 138.866,195.811 144.394,199.496 149.921,203.181 \n",
       "  155.449,206.866 160.976,210.551 166.504,206.866 172.031,203.181 177.559,199.496 183.087,203.181 188.614,206.866 194.142,203.181 199.669,206.866 205.197,203.181 \n",
       "  210.724,206.866 216.252,210.551 221.78,206.866 227.307,203.181 232.835,199.496 238.362,203.181 243.89,199.496 249.417,203.181 254.945,199.496 260.472,195.811 \n",
       "  266,192.126 271.528,188.441 277.055,184.756 282.583,188.441 288.11,184.756 293.638,181.071 299.165,184.756 304.693,181.071 310.22,184.756 315.748,188.441 \n",
       "  \n",
       "  \"/>\n",
       "<polyline clip-path=\"url(#clip02)\" style=\"stroke:#1ea68c; stroke-width:1; stroke-opacity:1; fill:none\" points=\"\n",
       "  44.8976,192.126 50.4252,188.441 55.9528,184.756 61.4803,188.441 67.0079,184.756 72.5354,181.071 78.063,184.756 83.5906,181.071 89.1181,184.756 94.6457,181.071 \n",
       "  100.173,177.386 105.701,181.071 111.228,177.386 116.756,181.071 122.283,184.756 127.811,181.071 133.339,184.756 138.866,181.071 144.394,184.756 149.921,181.071 \n",
       "  155.449,177.386 160.976,173.701 166.504,170.016 172.031,166.331 177.559,170.016 183.087,166.331 188.614,170.016 194.142,173.701 199.669,170.016 205.197,173.701 \n",
       "  210.724,177.386 216.252,173.701 221.78,170.016 227.307,173.701 232.835,177.386 238.362,181.071 243.89,177.386 249.417,181.071 254.945,184.756 260.472,181.071 \n",
       "  266,177.386 271.528,173.701 277.055,177.386 282.583,173.701 288.11,177.386 293.638,173.701 299.165,170.016 304.693,166.331 310.22,170.016 315.748,166.331 \n",
       "  \n",
       "  \"/>\n",
       "<polyline clip-path=\"url(#clip02)\" style=\"stroke:#af78dd; stroke-width:1; stroke-opacity:1; fill:none\" points=\"\n",
       "  44.8976,192.126 50.4252,195.811 55.9528,199.496 61.4803,203.181 67.0079,206.866 72.5354,203.181 78.063,206.866 83.5906,210.551 89.1181,206.866 94.6457,203.181 \n",
       "  100.173,206.866 105.701,203.181 111.228,206.866 116.756,203.181 122.283,206.866 127.811,203.181 133.339,206.866 138.866,203.181 144.394,206.866 149.921,203.181 \n",
       "  155.449,199.496 160.976,203.181 166.504,199.496 172.031,195.811 177.559,199.496 183.087,195.811 188.614,199.496 194.142,195.811 199.669,199.496 205.197,203.181 \n",
       "  210.724,199.496 216.252,195.811 221.78,192.126 227.307,188.441 232.835,192.126 238.362,195.811 243.89,192.126 249.417,188.441 254.945,192.126 260.472,195.811 \n",
       "  266,199.496 271.528,195.811 277.055,199.496 282.583,203.181 288.11,206.866 293.638,210.551 299.165,206.866 304.693,203.181 310.22,206.866 315.748,203.181 \n",
       "  \n",
       "  \"/>\n",
       "<polyline clip-path=\"url(#clip02)\" style=\"stroke:#868d87; stroke-width:1; stroke-opacity:1; fill:none\" points=\"\n",
       "  44.8976,192.126 50.4252,195.811 55.9528,199.496 61.4803,195.811 67.0079,199.496 72.5354,195.811 78.063,199.496 83.5906,195.811 89.1181,199.496 94.6457,195.811 \n",
       "  100.173,192.126 105.701,195.811 111.228,199.496 116.756,195.811 122.283,192.126 127.811,188.441 133.339,192.126 138.866,188.441 144.394,184.756 149.921,181.071 \n",
       "  155.449,177.386 160.976,181.071 166.504,184.756 172.031,188.441 177.559,192.126 183.087,188.441 188.614,184.756 194.142,181.071 199.669,177.386 205.197,173.701 \n",
       "  210.724,170.016 216.252,173.701 221.78,177.386 227.307,173.701 232.835,177.386 238.362,181.071 243.89,184.756 249.417,181.071 254.945,177.386 260.472,181.071 \n",
       "  266,184.756 271.528,188.441 277.055,192.126 282.583,195.811 288.11,192.126 293.638,188.441 299.165,184.756 304.693,188.441 310.22,184.756 315.748,188.441 \n",
       "  \n",
       "  \"/>\n",
       "<polyline clip-path=\"url(#clip02)\" style=\"stroke:#47a065; stroke-width:1; stroke-opacity:1; fill:none\" points=\"\n",
       "  44.8976,192.126 50.4252,188.441 55.9528,192.126 61.4803,195.811 67.0079,199.496 72.5354,195.811 78.063,199.496 83.5906,195.811 89.1181,192.126 94.6457,195.811 \n",
       "  100.173,199.496 105.701,203.181 111.228,206.866 116.756,203.181 122.283,206.866 127.811,203.181 133.339,199.496 138.866,195.811 144.394,192.126 149.921,195.811 \n",
       "  155.449,192.126 160.976,188.441 166.504,184.756 172.031,188.441 177.559,184.756 183.087,188.441 188.614,184.756 194.142,181.071 199.669,177.386 205.197,181.071 \n",
       "  210.724,184.756 216.252,181.071 221.78,177.386 227.307,181.071 232.835,184.756 238.362,188.441 243.89,192.126 249.417,195.811 254.945,192.126 260.472,188.441 \n",
       "  266,184.756 271.528,181.071 277.055,184.756 282.583,181.071 288.11,184.756 293.638,188.441 299.165,192.126 304.693,195.811 310.22,199.496 315.748,203.181 \n",
       "  \n",
       "  \"/>\n",
       "<polyline clip-path=\"url(#clip02)\" style=\"stroke:#7683af; stroke-width:1; stroke-opacity:1; fill:none\" points=\"\n",
       "  44.8976,192.126 50.4252,188.441 55.9528,184.756 61.4803,181.071 67.0079,184.756 72.5354,188.441 78.063,184.756 83.5906,188.441 89.1181,184.756 94.6457,181.071 \n",
       "  100.173,184.756 105.701,188.441 111.228,192.126 116.756,195.811 122.283,199.496 127.811,203.181 133.339,206.866 138.866,203.181 144.394,206.866 149.921,210.551 \n",
       "  155.449,214.236 160.976,217.921 166.504,221.606 172.031,217.921 177.559,221.606 183.087,217.921 188.614,214.236 194.142,210.551 199.669,214.236 205.197,217.921 \n",
       "  210.724,214.236 216.252,217.921 221.78,221.606 227.307,225.291 232.835,221.606 238.362,225.291 243.89,221.606 249.417,217.921 254.945,214.236 260.472,210.551 \n",
       "  266,206.866 271.528,203.181 277.055,199.496 282.583,203.181 288.11,206.866 293.638,203.181 299.165,206.866 304.693,203.181 310.22,206.866 315.748,210.551 \n",
       "  \n",
       "  \"/>\n",
       "<polyline clip-path=\"url(#clip02)\" style=\"stroke:#b08086; stroke-width:1; stroke-opacity:1; fill:none\" points=\"\n",
       "  44.8976,192.126 50.4252,188.441 55.9528,184.756 61.4803,181.071 67.0079,184.756 72.5354,181.071 78.063,184.756 83.5906,188.441 89.1181,184.756 94.6457,181.071 \n",
       "  100.173,177.386 105.701,181.071 111.228,177.386 116.756,181.071 122.283,184.756 127.811,181.071 133.339,177.386 138.866,173.701 144.394,170.016 149.921,173.701 \n",
       "  155.449,177.386 160.976,181.071 166.504,177.386 172.031,181.071 177.559,177.386 183.087,181.071 188.614,177.386 194.142,181.071 199.669,177.386 205.197,173.701 \n",
       "  210.724,177.386 216.252,173.701 221.78,170.016 227.307,166.331 232.835,162.646 238.362,158.961 243.89,162.646 249.417,166.331 254.945,162.646 260.472,158.961 \n",
       "  266,162.646 271.528,166.331 277.055,170.016 282.583,166.331 288.11,170.016 293.638,166.331 299.165,170.016 304.693,166.331 310.22,170.016 315.748,166.331 \n",
       "  \n",
       "  \"/>\n",
       "<polyline clip-path=\"url(#clip02)\" style=\"stroke:#309ac1; stroke-width:1; stroke-opacity:1; fill:none\" points=\"\n",
       "  44.8976,192.126 50.4252,195.811 55.9528,192.126 61.4803,188.441 67.0079,192.126 72.5354,195.811 78.063,192.126 83.5906,188.441 89.1181,184.756 94.6457,188.441 \n",
       "  100.173,184.756 105.701,181.071 111.228,184.756 116.756,188.441 122.283,184.756 127.811,181.071 133.339,184.756 138.866,181.071 144.394,184.756 149.921,188.441 \n",
       "  155.449,192.126 160.976,195.811 166.504,192.126 172.031,195.811 177.559,199.496 183.087,195.811 188.614,192.126 194.142,195.811 199.669,199.496 205.197,195.811 \n",
       "  210.724,199.496 216.252,203.181 221.78,206.866 227.307,210.551 232.835,206.866 238.362,210.551 243.89,214.236 249.417,217.921 254.945,214.236 260.472,210.551 \n",
       "  266,206.866 271.528,203.181 277.055,199.496 282.583,203.181 288.11,206.866 293.638,203.181 299.165,206.866 304.693,210.551 310.22,206.866 315.748,203.181 \n",
       "  \n",
       "  \"/>\n",
       "<polyline clip-path=\"url(#clip02)\" style=\"stroke:#788490; stroke-width:1; stroke-opacity:1; fill:none\" points=\"\n",
       "  44.8976,192.126 50.4252,195.811 55.9528,192.126 61.4803,195.811 67.0079,199.496 72.5354,203.181 78.063,199.496 83.5906,195.811 89.1181,199.496 94.6457,203.181 \n",
       "  100.173,199.496 105.701,203.181 111.228,206.866 116.756,210.551 122.283,206.866 127.811,210.551 133.339,214.236 138.866,217.921 144.394,221.606 149.921,217.921 \n",
       "  155.449,214.236 160.976,210.551 166.504,206.866 172.031,210.551 177.559,214.236 183.087,210.551 188.614,214.236 194.142,217.921 199.669,221.606 205.197,217.921 \n",
       "  210.724,221.606 216.252,225.291 221.78,221.606 227.307,225.291 232.835,228.976 238.362,225.291 243.89,228.976 249.417,232.661 254.945,236.346 260.472,240.031 \n",
       "  266,236.346 271.528,232.661 277.055,236.346 282.583,232.661 288.11,228.976 293.638,232.661 299.165,228.976 304.693,225.291 310.22,221.606 315.748,217.921 \n",
       "  \n",
       "  \"/>\n",
       "<polyline clip-path=\"url(#clip02)\" style=\"stroke:#e561a4; stroke-width:1; stroke-opacity:1; fill:none\" points=\"\n",
       "  44.8976,192.126 50.4252,195.811 55.9528,199.496 61.4803,203.181 67.0079,206.866 72.5354,210.551 78.063,214.236 83.5906,210.551 89.1181,206.866 94.6457,203.181 \n",
       "  100.173,206.866 105.701,210.551 111.228,206.866 116.756,210.551 122.283,206.866 127.811,203.181 133.339,199.496 138.866,195.811 144.394,192.126 149.921,195.811 \n",
       "  155.449,199.496 160.976,203.181 166.504,199.496 172.031,195.811 177.559,199.496 183.087,203.181 188.614,206.866 194.142,210.551 199.669,214.236 205.197,217.921 \n",
       "  210.724,221.606 216.252,217.921 221.78,214.236 227.307,210.551 232.835,206.866 238.362,203.181 243.89,206.866 249.417,203.181 254.945,199.496 260.472,195.811 \n",
       "  266,192.126 271.528,188.441 277.055,192.126 282.583,188.441 288.11,184.756 293.638,188.441 299.165,184.756 304.693,181.071 310.22,184.756 315.748,188.441 \n",
       "  \n",
       "  \"/>\n",
       "<polyline clip-path=\"url(#clip02)\" style=\"stroke:#99902c; stroke-width:1; stroke-opacity:1; fill:none\" points=\"\n",
       "  44.8976,192.126 50.4252,195.811 55.9528,199.496 61.4803,203.181 67.0079,206.866 72.5354,210.551 78.063,206.866 83.5906,210.551 89.1181,214.236 94.6457,217.921 \n",
       "  100.173,214.236 105.701,210.551 111.228,206.866 116.756,210.551 122.283,206.866 127.811,203.181 133.339,206.866 138.866,210.551 144.394,214.236 149.921,210.551 \n",
       "  155.449,214.236 160.976,217.921 166.504,221.606 172.031,217.921 177.559,221.606 183.087,225.291 188.614,221.606 194.142,217.921 199.669,221.606 205.197,225.291 \n",
       "  210.724,228.976 216.252,232.661 221.78,228.976 227.307,232.661 232.835,228.976 238.362,225.291 243.89,228.976 249.417,225.291 254.945,228.976 260.472,225.291 \n",
       "  266,221.606 271.528,217.921 277.055,221.606 282.583,217.921 288.11,221.606 293.638,217.921 299.165,214.236 304.693,210.551 310.22,214.236 315.748,210.551 \n",
       "  \n",
       "  \"/>\n",
       "<polyline clip-path=\"url(#clip02)\" style=\"stroke:#389a7b; stroke-width:1; stroke-opacity:1; fill:none\" points=\"\n",
       "  44.8976,192.126 50.4252,188.441 55.9528,184.756 61.4803,181.071 67.0079,184.756 72.5354,188.441 78.063,192.126 83.5906,188.441 89.1181,184.756 94.6457,181.071 \n",
       "  100.173,184.756 105.701,188.441 111.228,184.756 116.756,188.441 122.283,192.126 127.811,195.811 133.339,199.496 138.866,203.181 144.394,206.866 149.921,203.181 \n",
       "  155.449,206.866 160.976,203.181 166.504,206.866 172.031,203.181 177.559,199.496 183.087,203.181 188.614,199.496 194.142,203.181 199.669,199.496 205.197,195.811 \n",
       "  210.724,192.126 216.252,188.441 221.78,192.126 227.307,195.811 232.835,192.126 238.362,188.441 243.89,192.126 249.417,188.441 254.945,184.756 260.472,188.441 \n",
       "  266,192.126 271.528,195.811 277.055,199.496 282.583,195.811 288.11,192.126 293.638,188.441 299.165,184.756 304.693,188.441 310.22,192.126 315.748,195.811 \n",
       "  \n",
       "  \"/>\n",
       "<polyline clip-path=\"url(#clip02)\" style=\"stroke:#d968a2; stroke-width:1; stroke-opacity:1; fill:none\" points=\"\n",
       "  44.8976,192.126 50.4252,195.811 55.9528,192.126 61.4803,188.441 67.0079,184.756 72.5354,181.071 78.063,177.386 83.5906,181.071 89.1181,177.386 94.6457,181.071 \n",
       "  100.173,177.386 105.701,173.701 111.228,170.016 116.756,166.331 122.283,162.646 127.811,166.331 133.339,170.016 138.866,166.331 144.394,162.646 149.921,158.961 \n",
       "  155.449,155.276 160.976,151.591 166.504,155.276 172.031,158.961 177.559,155.276 183.087,158.961 188.614,162.646 194.142,166.331 199.669,170.016 205.197,166.331 \n",
       "  210.724,170.016 216.252,166.331 221.78,170.016 227.307,173.701 232.835,170.016 238.362,166.331 243.89,162.646 249.417,158.961 254.945,155.276 260.472,158.961 \n",
       "  266,155.276 271.528,151.591 277.055,155.276 282.583,151.591 288.11,155.276 293.638,158.961 299.165,162.646 304.693,166.331 310.22,170.016 315.748,173.701 \n",
       "  \n",
       "  \"/>\n",
       "<polyline clip-path=\"url(#clip02)\" style=\"stroke:#009af9; stroke-width:1; stroke-opacity:1; fill:none\" points=\"\n",
       "  44.8976,192.126 50.4252,188.441 55.9528,192.126 61.4803,195.811 67.0079,199.496 72.5354,195.811 78.063,199.496 83.5906,203.181 89.1181,199.496 94.6457,203.181 \n",
       "  100.173,199.496 105.701,203.181 111.228,199.496 116.756,203.181 122.283,206.866 127.811,210.551 133.339,214.236 138.866,217.921 144.394,214.236 149.921,210.551 \n",
       "  155.449,206.866 160.976,210.551 166.504,214.236 172.031,210.551 177.559,214.236 183.087,217.921 188.614,221.606 194.142,217.921 199.669,214.236 205.197,210.551 \n",
       "  210.724,206.866 216.252,203.181 221.78,206.866 227.307,210.551 232.835,206.866 238.362,210.551 243.89,214.236 249.417,217.921 254.945,214.236 260.472,217.921 \n",
       "  266,214.236 271.528,217.921 277.055,214.236 282.583,217.921 288.11,214.236 293.638,217.921 299.165,221.606 304.693,217.921 310.22,214.236 315.748,210.551 \n",
       "  \n",
       "  \"/>\n",
       "<polyline clip-path=\"url(#clip02)\" style=\"stroke:#e26f46; stroke-width:1; stroke-opacity:1; fill:none\" points=\"\n",
       "  44.8976,192.126 50.4252,195.811 55.9528,199.496 61.4803,195.811 67.0079,199.496 72.5354,195.811 78.063,192.126 83.5906,195.811 89.1181,192.126 94.6457,188.441 \n",
       "  100.173,192.126 105.701,188.441 111.228,192.126 116.756,188.441 122.283,184.756 127.811,188.441 133.339,184.756 138.866,181.071 144.394,184.756 149.921,188.441 \n",
       "  155.449,192.126 160.976,195.811 166.504,199.496 172.031,203.181 177.559,199.496 183.087,203.181 188.614,199.496 194.142,203.181 199.669,199.496 205.197,195.811 \n",
       "  210.724,199.496 216.252,203.181 221.78,199.496 227.307,203.181 232.835,206.866 238.362,203.181 243.89,199.496 249.417,195.811 254.945,192.126 260.472,188.441 \n",
       "  266,192.126 271.528,195.811 277.055,199.496 282.583,203.181 288.11,199.496 293.638,203.181 299.165,206.866 304.693,210.551 310.22,206.866 315.748,210.551 \n",
       "  \n",
       "  \"/>\n",
       "<polyline clip-path=\"url(#clip02)\" style=\"stroke:#3da44d; stroke-width:1; stroke-opacity:1; fill:none\" points=\"\n",
       "  44.8976,192.126 50.4252,195.811 55.9528,199.496 61.4803,195.811 67.0079,192.126 72.5354,188.441 78.063,192.126 83.5906,195.811 89.1181,192.126 94.6457,188.441 \n",
       "  100.173,192.126 105.701,188.441 111.228,184.756 116.756,181.071 122.283,184.756 127.811,188.441 133.339,192.126 138.866,188.441 144.394,184.756 149.921,181.071 \n",
       "  155.449,177.386 160.976,181.071 166.504,177.386 172.031,173.701 177.559,170.016 183.087,166.331 188.614,162.646 194.142,166.331 199.669,162.646 205.197,166.331 \n",
       "  210.724,170.016 216.252,173.701 221.78,177.386 227.307,181.071 232.835,184.756 238.362,188.441 243.89,184.756 249.417,181.071 254.945,184.756 260.472,188.441 \n",
       "  266,184.756 271.528,181.071 277.055,177.386 282.583,173.701 288.11,177.386 293.638,173.701 299.165,177.386 304.693,181.071 310.22,177.386 315.748,181.071 \n",
       "  \n",
       "  \"/>\n",
       "<polyline clip-path=\"url(#clip02)\" style=\"stroke:#c271d2; stroke-width:1; stroke-opacity:1; fill:none\" points=\"\n",
       "  44.8976,192.126 50.4252,188.441 55.9528,184.756 61.4803,181.071 67.0079,184.756 72.5354,181.071 78.063,184.756 83.5906,188.441 89.1181,184.756 94.6457,188.441 \n",
       "  100.173,192.126 105.701,195.811 111.228,199.496 116.756,203.181 122.283,206.866 127.811,203.181 133.339,199.496 138.866,195.811 144.394,192.126 149.921,188.441 \n",
       "  155.449,192.126 160.976,188.441 166.504,184.756 172.031,181.071 177.559,184.756 183.087,188.441 188.614,184.756 194.142,188.441 199.669,192.126 205.197,195.811 \n",
       "  210.724,199.496 216.252,195.811 221.78,192.126 227.307,188.441 232.835,184.756 238.362,181.071 243.89,177.386 249.417,181.071 254.945,184.756 260.472,181.071 \n",
       "  266,184.756 271.528,188.441 277.055,184.756 282.583,181.071 288.11,177.386 293.638,173.701 299.165,177.386 304.693,181.071 310.22,177.386 315.748,181.071 \n",
       "  \n",
       "  \"/>\n",
       "<polyline clip-path=\"url(#clip02)\" style=\"stroke:#ac8d18; stroke-width:1; stroke-opacity:1; fill:none\" points=\"\n",
       "  44.8976,192.126 50.4252,188.441 55.9528,192.126 61.4803,195.811 67.0079,192.126 72.5354,195.811 78.063,199.496 83.5906,195.811 89.1181,192.126 94.6457,195.811 \n",
       "  100.173,199.496 105.701,195.811 111.228,199.496 116.756,203.181 122.283,199.496 127.811,203.181 133.339,199.496 138.866,195.811 144.394,199.496 149.921,195.811 \n",
       "  155.449,192.126 160.976,188.441 166.504,184.756 172.031,181.071 177.559,184.756 183.087,188.441 188.614,192.126 194.142,195.811 199.669,199.496 205.197,203.181 \n",
       "  210.724,199.496 216.252,203.181 221.78,206.866 227.307,210.551 232.835,206.866 238.362,210.551 243.89,214.236 249.417,217.921 254.945,221.606 260.472,217.921 \n",
       "  266,214.236 271.528,217.921 277.055,214.236 282.583,210.551 288.11,206.866 293.638,203.181 299.165,199.496 304.693,195.811 310.22,192.126 315.748,188.441 \n",
       "  \n",
       "  \"/>\n",
       "<polyline clip-path=\"url(#clip02)\" style=\"stroke:#00a9ad; stroke-width:1; stroke-opacity:1; fill:none\" points=\"\n",
       "  44.8976,192.126 50.4252,188.441 55.9528,192.126 61.4803,188.441 67.0079,192.126 72.5354,188.441 78.063,192.126 83.5906,188.441 89.1181,192.126 94.6457,188.441 \n",
       "  100.173,192.126 105.701,188.441 111.228,192.126 116.756,188.441 122.283,184.756 127.811,188.441 133.339,184.756 138.866,188.441 144.394,184.756 149.921,188.441 \n",
       "  155.449,184.756 160.976,181.071 166.504,184.756 172.031,188.441 177.559,192.126 183.087,188.441 188.614,192.126 194.142,188.441 199.669,184.756 205.197,188.441 \n",
       "  210.724,184.756 216.252,188.441 221.78,184.756 227.307,188.441 232.835,184.756 238.362,181.071 243.89,177.386 249.417,181.071 254.945,177.386 260.472,181.071 \n",
       "  266,177.386 271.528,181.071 277.055,177.386 282.583,181.071 288.11,177.386 293.638,181.071 299.165,184.756 304.693,181.071 310.22,184.756 315.748,181.071 \n",
       "  \n",
       "  \"/>\n",
       "<polyline clip-path=\"url(#clip02)\" style=\"stroke:#ed5d92; stroke-width:1; stroke-opacity:1; fill:none\" points=\"\n",
       "  44.8976,192.126 50.4252,195.811 55.9528,199.496 61.4803,195.811 67.0079,199.496 72.5354,203.181 78.063,206.866 83.5906,210.551 89.1181,206.866 94.6457,203.181 \n",
       "  100.173,199.496 105.701,195.811 111.228,192.126 116.756,188.441 122.283,184.756 127.811,181.071 133.339,184.756 138.866,188.441 144.394,192.126 149.921,188.441 \n",
       "  155.449,192.126 160.976,188.441 166.504,184.756 172.031,181.071 177.559,177.386 183.087,181.071 188.614,184.756 194.142,181.071 199.669,177.386 205.197,173.701 \n",
       "  210.724,177.386 216.252,181.071 221.78,184.756 227.307,188.441 232.835,184.756 238.362,181.071 243.89,184.756 249.417,181.071 254.945,184.756 260.472,181.071 \n",
       "  266,177.386 271.528,173.701 277.055,170.016 282.583,173.701 288.11,170.016 293.638,173.701 299.165,177.386 304.693,173.701 310.22,170.016 315.748,173.701 \n",
       "  \n",
       "  \"/>\n",
       "<polyline clip-path=\"url(#clip02)\" style=\"stroke:#c68125; stroke-width:1; stroke-opacity:1; fill:none\" points=\"\n",
       "  44.8976,192.126 50.4252,195.811 55.9528,192.126 61.4803,195.811 67.0079,199.496 72.5354,195.811 78.063,192.126 83.5906,188.441 89.1181,192.126 94.6457,188.441 \n",
       "  100.173,184.756 105.701,181.071 111.228,177.386 116.756,181.071 122.283,177.386 127.811,173.701 133.339,170.016 138.866,173.701 144.394,177.386 149.921,181.071 \n",
       "  155.449,177.386 160.976,181.071 166.504,177.386 172.031,181.071 177.559,184.756 183.087,188.441 188.614,192.126 194.142,195.811 199.669,199.496 205.197,195.811 \n",
       "  210.724,199.496 216.252,203.181 221.78,199.496 227.307,203.181 232.835,206.866 238.362,210.551 243.89,206.866 249.417,203.181 254.945,206.866 260.472,210.551 \n",
       "  266,206.866 271.528,210.551 277.055,206.866 282.583,210.551 288.11,206.866 293.638,210.551 299.165,214.236 304.693,210.551 310.22,206.866 315.748,203.181 \n",
       "  \n",
       "  \"/>\n",
       "<polyline clip-path=\"url(#clip02)\" style=\"stroke:#00a98d; stroke-width:1; stroke-opacity:1; fill:none\" points=\"\n",
       "  44.8976,192.126 50.4252,195.811 55.9528,199.496 61.4803,203.181 67.0079,206.866 72.5354,210.551 78.063,214.236 83.5906,210.551 89.1181,214.236 94.6457,210.551 \n",
       "  100.173,206.866 105.701,203.181 111.228,199.496 116.756,195.811 122.283,199.496 127.811,203.181 133.339,206.866 138.866,210.551 144.394,214.236 149.921,217.921 \n",
       "  155.449,221.606 160.976,217.921 166.504,214.236 172.031,217.921 177.559,214.236 183.087,217.921 188.614,214.236 194.142,210.551 199.669,206.866 205.197,210.551 \n",
       "  210.724,214.236 216.252,217.921 221.78,221.606 227.307,225.291 232.835,221.606 238.362,225.291 243.89,221.606 249.417,225.291 254.945,221.606 260.472,225.291 \n",
       "  266,228.976 271.528,225.291 277.055,228.976 282.583,232.661 288.11,236.346 293.638,232.661 299.165,228.976 304.693,225.291 310.22,228.976 315.748,232.661 \n",
       "  \n",
       "  \"/>\n",
       "<polyline clip-path=\"url(#clip02)\" style=\"stroke:#8e971d; stroke-width:1; stroke-opacity:1; fill:none\" points=\"\n",
       "  44.8976,192.126 50.4252,195.811 55.9528,199.496 61.4803,195.811 67.0079,192.126 72.5354,195.811 78.063,192.126 83.5906,188.441 89.1181,184.756 94.6457,181.071 \n",
       "  100.173,184.756 105.701,181.071 111.228,177.386 116.756,181.071 122.283,177.386 127.811,181.071 133.339,177.386 138.866,173.701 144.394,177.386 149.921,173.701 \n",
       "  155.449,177.386 160.976,181.071 166.504,184.756 172.031,188.441 177.559,184.756 183.087,181.071 188.614,184.756 194.142,181.071 199.669,184.756 205.197,188.441 \n",
       "  210.724,192.126 216.252,195.811 221.78,199.496 227.307,203.181 232.835,199.496 238.362,203.181 243.89,206.866 249.417,210.551 254.945,214.236 260.472,210.551 \n",
       "  266,214.236 271.528,210.551 277.055,214.236 282.583,210.551 288.11,206.866 293.638,210.551 299.165,214.236 304.693,210.551 310.22,214.236 315.748,210.551 \n",
       "  \n",
       "  \"/>\n",
       "<polyline clip-path=\"url(#clip02)\" style=\"stroke:#00a8cb; stroke-width:1; stroke-opacity:1; fill:none\" points=\"\n",
       "  44.8976,192.126 50.4252,188.441 55.9528,192.126 61.4803,195.811 67.0079,192.126 72.5354,195.811 78.063,192.126 83.5906,195.811 89.1181,199.496 94.6457,195.811 \n",
       "  100.173,199.496 105.701,203.181 111.228,199.496 116.756,203.181 122.283,206.866 127.811,210.551 133.339,214.236 138.866,210.551 144.394,214.236 149.921,210.551 \n",
       "  155.449,206.866 160.976,210.551 166.504,214.236 172.031,217.921 177.559,221.606 183.087,217.921 188.614,214.236 194.142,217.921 199.669,221.606 205.197,225.291 \n",
       "  210.724,221.606 216.252,217.921 221.78,221.606 227.307,217.921 232.835,214.236 238.362,210.551 243.89,214.236 249.417,210.551 254.945,206.866 260.472,203.181 \n",
       "  266,199.496 271.528,203.181 277.055,206.866 282.583,210.551 288.11,206.866 293.638,210.551 299.165,206.866 304.693,203.181 310.22,199.496 315.748,195.811 \n",
       "  \n",
       "  \"/>\n",
       "<polyline clip-path=\"url(#clip02)\" style=\"stroke:#9b7fe8; stroke-width:1; stroke-opacity:1; fill:none\" points=\"\n",
       "  44.8976,192.126 50.4252,195.811 55.9528,192.126 61.4803,195.811 67.0079,199.496 72.5354,203.181 78.063,206.866 83.5906,203.181 89.1181,206.866 94.6457,203.181 \n",
       "  100.173,206.866 105.701,210.551 111.228,214.236 116.756,217.921 122.283,221.606 127.811,225.291 133.339,221.606 138.866,225.291 144.394,221.606 149.921,217.921 \n",
       "  155.449,221.606 160.976,217.921 166.504,214.236 172.031,217.921 177.559,214.236 183.087,210.551 188.614,206.866 194.142,203.181 199.669,206.866 205.197,210.551 \n",
       "  210.724,214.236 216.252,217.921 221.78,221.606 227.307,217.921 232.835,221.606 238.362,217.921 243.89,221.606 249.417,225.291 254.945,228.976 260.472,225.291 \n",
       "  266,221.606 271.528,225.291 277.055,221.606 282.583,217.921 288.11,214.236 293.638,210.551 299.165,206.866 304.693,203.181 310.22,206.866 315.748,210.551 \n",
       "  \n",
       "  \"/>\n",
       "<polyline clip-path=\"url(#clip02)\" style=\"stroke:#608cf6; stroke-width:1; stroke-opacity:1; fill:none\" points=\"\n",
       "  44.8976,192.126 50.4252,195.811 55.9528,199.496 61.4803,203.181 67.0079,199.496 72.5354,203.181 78.063,199.496 83.5906,195.811 89.1181,192.126 94.6457,188.441 \n",
       "  100.173,184.756 105.701,181.071 111.228,184.756 116.756,188.441 122.283,192.126 127.811,195.811 133.339,192.126 138.866,188.441 144.394,192.126 149.921,188.441 \n",
       "  155.449,192.126 160.976,195.811 166.504,192.126 172.031,195.811 177.559,192.126 183.087,195.811 188.614,199.496 194.142,203.181 199.669,206.866 205.197,210.551 \n",
       "  210.724,214.236 216.252,217.921 221.78,214.236 227.307,210.551 232.835,214.236 238.362,217.921 243.89,214.236 249.417,217.921 254.945,214.236 260.472,210.551 \n",
       "  266,214.236 271.528,217.921 277.055,214.236 282.583,210.551 288.11,214.236 293.638,217.921 299.165,221.606 304.693,225.291 310.22,221.606 315.748,217.921 \n",
       "  \n",
       "  \"/>\n",
       "<polyline clip-path=\"url(#clip02)\" style=\"stroke:#f05f73; stroke-width:1; stroke-opacity:1; fill:none\" points=\"\n",
       "  44.8976,192.126 50.4252,195.811 55.9528,192.126 61.4803,195.811 67.0079,199.496 72.5354,203.181 78.063,199.496 83.5906,203.181 89.1181,206.866 94.6457,203.181 \n",
       "  100.173,206.866 105.701,203.181 111.228,206.866 116.756,210.551 122.283,214.236 127.811,210.551 133.339,206.866 138.866,203.181 144.394,206.866 149.921,203.181 \n",
       "  155.449,199.496 160.976,195.811 166.504,192.126 172.031,188.441 177.559,184.756 183.087,181.071 188.614,184.756 194.142,188.441 199.669,192.126 205.197,195.811 \n",
       "  210.724,199.496 216.252,203.181 221.78,206.866 227.307,210.551 232.835,214.236 238.362,210.551 243.89,206.866 249.417,210.551 254.945,206.866 260.472,203.181 \n",
       "  266,199.496 271.528,195.811 277.055,199.496 282.583,195.811 288.11,199.496 293.638,195.811 299.165,192.126 304.693,188.441 310.22,192.126 315.748,188.441 \n",
       "  \n",
       "  \"/>\n",
       "<polyline clip-path=\"url(#clip02)\" style=\"stroke:#dd64b5; stroke-width:1; stroke-opacity:1; fill:none\" points=\"\n",
       "  44.8976,192.126 50.4252,188.441 55.9528,184.756 61.4803,188.441 67.0079,192.126 72.5354,195.811 78.063,199.496 83.5906,195.811 89.1181,192.126 94.6457,188.441 \n",
       "  100.173,184.756 105.701,188.441 111.228,184.756 116.756,181.071 122.283,184.756 127.811,181.071 133.339,184.756 138.866,188.441 144.394,184.756 149.921,181.071 \n",
       "  155.449,184.756 160.976,188.441 166.504,184.756 172.031,188.441 177.559,184.756 183.087,188.441 188.614,184.756 194.142,188.441 199.669,192.126 205.197,195.811 \n",
       "  210.724,192.126 216.252,195.811 221.78,199.496 227.307,195.811 232.835,199.496 238.362,195.811 243.89,192.126 249.417,188.441 254.945,184.756 260.472,188.441 \n",
       "  266,184.756 271.528,188.441 277.055,184.756 282.583,188.441 288.11,184.756 293.638,181.071 299.165,184.756 304.693,188.441 310.22,192.126 315.748,195.811 \n",
       "  \n",
       "  \"/>\n",
       "<polyline clip-path=\"url(#clip02)\" style=\"stroke:#6b9e32; stroke-width:1; stroke-opacity:1; fill:none\" points=\"\n",
       "  44.8976,192.126 50.4252,195.811 55.9528,199.496 61.4803,195.811 67.0079,199.496 72.5354,203.181 78.063,199.496 83.5906,203.181 89.1181,206.866 94.6457,203.181 \n",
       "  100.173,206.866 105.701,210.551 111.228,206.866 116.756,203.181 122.283,199.496 127.811,195.811 133.339,192.126 138.866,195.811 144.394,192.126 149.921,195.811 \n",
       "  155.449,192.126 160.976,195.811 166.504,192.126 172.031,188.441 177.559,192.126 183.087,195.811 188.614,192.126 194.142,188.441 199.669,184.756 205.197,188.441 \n",
       "  210.724,192.126 216.252,188.441 221.78,192.126 227.307,195.811 232.835,199.496 238.362,195.811 243.89,192.126 249.417,188.441 254.945,192.126 260.472,195.811 \n",
       "  266,199.496 271.528,195.811 277.055,192.126 282.583,195.811 288.11,192.126 293.638,188.441 299.165,192.126 304.693,188.441 310.22,192.126 315.748,195.811 \n",
       "  \n",
       "  \"/>\n",
       "<polyline clip-path=\"url(#clip02)\" style=\"stroke:#718c69; stroke-width:1; stroke-opacity:1; fill:none\" points=\"\n",
       "  44.8976,192.126 50.4252,188.441 55.9528,184.756 61.4803,188.441 67.0079,192.126 72.5354,195.811 78.063,192.126 83.5906,195.811 89.1181,199.496 94.6457,203.181 \n",
       "  100.173,206.866 105.701,210.551 111.228,214.236 116.756,210.551 122.283,214.236 127.811,217.921 133.339,221.606 138.866,225.291 144.394,221.606 149.921,217.921 \n",
       "  155.449,221.606 160.976,217.921 166.504,221.606 172.031,225.291 177.559,228.976 183.087,232.661 188.614,236.346 194.142,232.661 199.669,228.976 205.197,225.291 \n",
       "  210.724,228.976 216.252,225.291 221.78,228.976 227.307,232.661 232.835,228.976 238.362,225.291 243.89,228.976 249.417,232.661 254.945,228.976 260.472,232.661 \n",
       "  266,236.346 271.528,240.031 277.055,236.346 282.583,240.031 288.11,243.717 293.638,247.402 299.165,243.717 304.693,247.402 310.22,251.087 315.748,254.772 \n",
       "  \n",
       "  \"/>\n",
       "<polyline clip-path=\"url(#clip02)\" style=\"stroke:#47988b; stroke-width:1; stroke-opacity:1; fill:none\" points=\"\n",
       "  44.8976,192.126 50.4252,188.441 55.9528,184.756 61.4803,181.071 67.0079,184.756 72.5354,188.441 78.063,184.756 83.5906,181.071 89.1181,177.386 94.6457,173.701 \n",
       "  100.173,177.386 105.701,173.701 111.228,170.016 116.756,173.701 122.283,170.016 127.811,173.701 133.339,170.016 138.866,166.331 144.394,162.646 149.921,166.331 \n",
       "  155.449,170.016 160.976,166.331 166.504,162.646 172.031,158.961 177.559,162.646 183.087,166.331 188.614,162.646 194.142,158.961 199.669,155.276 205.197,158.961 \n",
       "  210.724,155.276 216.252,151.591 221.78,155.276 227.307,158.961 232.835,155.276 238.362,158.961 243.89,162.646 249.417,166.331 254.945,162.646 260.472,166.331 \n",
       "  266,170.016 271.528,166.331 277.055,162.646 282.583,166.331 288.11,162.646 293.638,166.331 299.165,170.016 304.693,166.331 310.22,170.016 315.748,173.701 \n",
       "  \n",
       "  \"/>\n",
       "<polyline clip-path=\"url(#clip02)\" style=\"stroke:#1ea68c; stroke-width:1; stroke-opacity:1; fill:none\" points=\"\n",
       "  44.8976,192.126 50.4252,188.441 55.9528,192.126 61.4803,195.811 67.0079,199.496 72.5354,203.181 78.063,199.496 83.5906,195.811 89.1181,192.126 94.6457,188.441 \n",
       "  100.173,192.126 105.701,195.811 111.228,192.126 116.756,195.811 122.283,192.126 127.811,195.811 133.339,192.126 138.866,188.441 144.394,184.756 149.921,188.441 \n",
       "  155.449,192.126 160.976,195.811 166.504,199.496 172.031,203.181 177.559,199.496 183.087,195.811 188.614,192.126 194.142,195.811 199.669,192.126 205.197,195.811 \n",
       "  210.724,199.496 216.252,203.181 221.78,206.866 227.307,203.181 232.835,206.866 238.362,210.551 243.89,214.236 249.417,210.551 254.945,214.236 260.472,217.921 \n",
       "  266,214.236 271.528,210.551 277.055,206.866 282.583,203.181 288.11,199.496 293.638,195.811 299.165,199.496 304.693,203.181 310.22,199.496 315.748,195.811 \n",
       "  \n",
       "  \"/>\n",
       "<polyline clip-path=\"url(#clip02)\" style=\"stroke:#af78dd; stroke-width:1; stroke-opacity:1; fill:none\" points=\"\n",
       "  44.8976,192.126 50.4252,195.811 55.9528,192.126 61.4803,195.811 67.0079,199.496 72.5354,203.181 78.063,199.496 83.5906,195.811 89.1181,199.496 94.6457,203.181 \n",
       "  100.173,199.496 105.701,203.181 111.228,199.496 116.756,195.811 122.283,192.126 127.811,188.441 133.339,192.126 138.866,188.441 144.394,184.756 149.921,181.071 \n",
       "  155.449,177.386 160.976,173.701 166.504,170.016 172.031,173.701 177.559,177.386 183.087,181.071 188.614,177.386 194.142,173.701 199.669,170.016 205.197,166.331 \n",
       "  210.724,162.646 216.252,158.961 221.78,162.646 227.307,166.331 232.835,162.646 238.362,158.961 243.89,162.646 249.417,166.331 254.945,162.646 260.472,158.961 \n",
       "  266,155.276 271.528,158.961 277.055,155.276 282.583,151.591 288.11,147.906 293.638,144.22 299.165,140.535 304.693,136.85 310.22,133.165 315.748,129.48 \n",
       "  \n",
       "  \"/>\n",
       "<polyline clip-path=\"url(#clip02)\" style=\"stroke:#000000; stroke-width:2; stroke-opacity:1; fill:none\" stroke-dasharray=\"8, 5\" points=\"\n",
       "  39.3701,192.126 592.126,192.126 \n",
       "  \"/>\n",
       "</svg>\n"
      ]
     },
     "execution_count": 10,
     "metadata": {
      "comm_id": "fa9dd4a5-f519-49dc-98b3-91e7d9382f12",
      "reactive": true
     },
     "output_type": "execute_result"
    }
   ],
   "source": [
    "max_T = 100\n",
    "max_N = 1000\n",
    "\n",
    "@manipulate for T in 1:max_T, N in 1:max_N\n",
    "    p = plot(legend=false, xlim=(0, max_T), ylim=(-5sqrt(max_T), 5sqrt(max_T)))  # make empty plot with no legend; fix axes limits\n",
    "    for i in 1:N\n",
    "        plot!(p, 1:T, walk(T))   # ! means \"add to plot\"\n",
    "    end\n",
    "    hline!(p, [0], c=:black, ls=:dash, lw=2)  # add\n",
    "    p\n",
    "end"
   ]
  },
  {
   "cell_type": "code",
   "execution_count": 11,
   "metadata": {
    "slideshow": {
     "slide_type": "subslide"
    }
   },
   "outputs": [
    {
     "name": "stderr",
     "output_type": "stream",
     "text": [
      "\u001b[1m\u001b[36mINFO: \u001b[39m\u001b[22m\u001b[36mSaved animation to /home/matias/Documents/Programación/Julia/julia_towards_1.0/tmp.gif\n",
      "\u001b[39m"
     ]
    },
    {
     "data": {
      "text/html": [
       "<img src=\"tmp.gif?0.6134727184020632>\" />"
      ],
      "text/plain": [
       "Plots.AnimatedGif(\"/home/matias/Documents/Programación/Julia/julia_towards_1.0/tmp.gif\")"
      ]
     },
     "execution_count": 11,
     "metadata": {},
     "output_type": "execute_result"
    }
   ],
   "source": [
    "T = 30  # maximum time\n",
    "N = 10  # number of walks\n",
    "many_walks = hcat([walk(T) for i in 1:N]...)\n",
    "\n",
    "@gif for tf in 1:0.5:T\n",
    "    t = floor(Int,tf)\n",
    "    plot(xlims = (0,T), ylims = extrema(many_walks), legend=false)  # make empty plot with no legend\n",
    "    for i in 1:N\n",
    "        plot!(1:t, many_walks[1:t,i])   # ! means \"add to plot\"\n",
    "    end\n",
    "    hline!([0], c=:black, ls=:dash, lw=2)  # add\n",
    "end"
   ]
  },
  {
   "cell_type": "code",
   "execution_count": null,
   "metadata": {
    "collapsed": true,
    "slideshow": {
     "slide_type": "subslide"
    }
   },
   "outputs": [],
   "source": [
    "using ProfileView"
   ]
  },
  {
   "cell_type": "code",
   "execution_count": null,
   "metadata": {
    "collapsed": true,
    "slideshow": {
     "slide_type": "fragment"
    }
   },
   "outputs": [],
   "source": [
    "Profile.clear()\n",
    "for i in 1:1000\n",
    "    @profile walk(10000)\n",
    "end;"
   ]
  },
  {
   "cell_type": "code",
   "execution_count": null,
   "metadata": {
    "slideshow": {
     "slide_type": "fragment"
    }
   },
   "outputs": [],
   "source": [
    "ProfileViewSVG.view()"
   ]
  },
  {
   "cell_type": "markdown",
   "metadata": {},
   "source": [
    "## Example 3: Binomial sampler"
   ]
  },
  {
   "cell_type": "code",
   "execution_count": null,
   "metadata": {
    "collapsed": true
   },
   "outputs": [],
   "source": [
    "function binomial_rv(n, p)\n",
    "    count = 0\n",
    "    U = rand(n)\n",
    "    for i in 1:n\n",
    "        if U[i] < p\n",
    "            count = count + 1    # Or count += 1\n",
    "        end\n",
    "    end\n",
    "    return count\n",
    "end\n",
    "\n",
    "for j in 1:25\n",
    "    b = binomial_rv(10, 0.5)\n",
    "    print(\"$b, \")\n",
    "end"
   ]
  },
  {
   "cell_type": "code",
   "execution_count": null,
   "metadata": {
    "collapsed": true
   },
   "outputs": [],
   "source": [
    "binomial_rv(n, p) = sum(rand() .> p for i in 1:n)"
   ]
  },
  {
   "cell_type": "code",
   "execution_count": null,
   "metadata": {
    "collapsed": true
   },
   "outputs": [],
   "source": [
    "binomial_rv(1000,0.5)"
   ]
  },
  {
   "cell_type": "code",
   "execution_count": null,
   "metadata": {
    "collapsed": true
   },
   "outputs": [],
   "source": [
    "R\"function(n,p) sum(runif(n) > p)\"(1000,0.5)"
   ]
  },
  {
   "cell_type": "markdown",
   "metadata": {
    "slideshow": {
     "slide_type": "slide"
    }
   },
   "source": [
    "## Parallelism"
   ]
  },
  {
   "cell_type": "markdown",
   "metadata": {},
   "source": [
    "`pmap` and `@parallel` are the two most frequently used and useful functions."
   ]
  },
  {
   "cell_type": "code",
   "execution_count": null,
   "metadata": {},
   "outputs": [],
   "source": [
    "addprocs(Sys.CPU_CORES)"
   ]
  },
  {
   "cell_type": "code",
   "execution_count": null,
   "metadata": {
    "collapsed": true
   },
   "outputs": [],
   "source": [
    "pbinomial_rv(n, p) = @parallel (+) for i=1:n\n",
    "    Int(rand() > p)\n",
    "end"
   ]
  },
  {
   "cell_type": "code",
   "execution_count": null,
   "metadata": {
    "collapsed": true
   },
   "outputs": [],
   "source": [
    "@btime binomial_rv(1_000_000,0.2)"
   ]
  },
  {
   "cell_type": "code",
   "execution_count": null,
   "metadata": {},
   "outputs": [],
   "source": [
    "@btime pbinomial_rv(1_000_000,0.2)"
   ]
  },
  {
   "cell_type": "code",
   "execution_count": null,
   "metadata": {},
   "outputs": [],
   "source": [
    "@time mean(pmap(i -> begin\n",
    "    A = rand(500,500)\n",
    "    eigvals(A'A)[end]\n",
    "end, 1:100))"
   ]
  },
  {
   "cell_type": "code",
   "execution_count": null,
   "metadata": {},
   "outputs": [],
   "source": [
    "@time mean(map(i -> begin\n",
    "    A = rand(500,500)\n",
    "    eigvals(A'A)[end]\n",
    "end, 1:100))"
   ]
  },
  {
   "cell_type": "markdown",
   "metadata": {},
   "source": [
    "`pmap()` is well suited for cases where a large amount of work is done by each function call, whereas `@parallel` is suited for handling situations which involve numerous small iterations."
   ]
  },
  {
   "cell_type": "markdown",
   "metadata": {
    "slideshow": {
     "slide_type": "slide"
    }
   },
   "source": [
    "## Interoperability"
   ]
  },
  {
   "cell_type": "markdown",
   "metadata": {
    "slideshow": {
     "slide_type": "fragment"
    }
   },
   "source": [
    "Lets use Julia to call R to call Julia..."
   ]
  },
  {
   "cell_type": "markdown",
   "metadata": {
    "slideshow": {
     "slide_type": "fragment"
    }
   },
   "source": [
    "Packages **RCall** (julia) and **runr** (R)"
   ]
  },
  {
   "cell_type": "code",
   "execution_count": null,
   "metadata": {
    "collapsed": true,
    "slideshow": {
     "slide_type": "subslide"
    }
   },
   "outputs": [],
   "source": [
    "using RCall\n",
    "R\"\"\"\n",
    "library(runr)\n",
    "j = proc_julia()\n",
    "j$start()\n",
    "\"\"\";"
   ]
  },
  {
   "cell_type": "code",
   "execution_count": null,
   "metadata": {
    "slideshow": {
     "slide_type": "fragment"
    }
   },
   "outputs": [],
   "source": [
    "R\"j$exec('sum(eye(10)-I)')\""
   ]
  },
  {
   "cell_type": "code",
   "execution_count": 12,
   "metadata": {
    "slideshow": {
     "slide_type": "fragment"
    }
   },
   "outputs": [
    {
     "ename": "LoadError",
     "evalue": "\u001b[91mUndefVarError: @R_str not defined\u001b[39m",
     "output_type": "error",
     "traceback": [
      "\u001b[91mUndefVarError: @R_str not defined\u001b[39m",
      "",
      "Stacktrace:",
      " [1] \u001b[1minclude_string\u001b[22m\u001b[22m\u001b[1m(\u001b[22m\u001b[22m::String, ::String\u001b[1m)\u001b[22m\u001b[22m at \u001b[1m./loading.jl:515\u001b[22m\u001b[22m"
     ]
    }
   ],
   "source": [
    "R\"j$stop()\";"
   ]
  },
  {
   "cell_type": "markdown",
   "metadata": {},
   "source": [
    "## Ranges and Generators\n",
    "### (and R interop!)"
   ]
  },
  {
   "cell_type": "code",
   "execution_count": null,
   "metadata": {
    "collapsed": true
   },
   "outputs": [],
   "source": [
    "x = 1:10_000_000"
   ]
  },
  {
   "cell_type": "code",
   "execution_count": null,
   "metadata": {
    "collapsed": true
   },
   "outputs": [],
   "source": [
    "typeof(x), x isa AbstractArray"
   ]
  },
  {
   "cell_type": "code",
   "execution_count": null,
   "metadata": {
    "collapsed": true
   },
   "outputs": [],
   "source": [
    "x = -2:2\n",
    "[x...]"
   ]
  },
  {
   "cell_type": "code",
   "execution_count": null,
   "metadata": {
    "collapsed": true
   },
   "outputs": [],
   "source": [
    "println(collect(1:2))\n",
    "println(collect(1:1))\n",
    "println(collect(1:0));"
   ]
  },
  {
   "cell_type": "code",
   "execution_count": null,
   "metadata": {
    "collapsed": true
   },
   "outputs": [],
   "source": [
    "R\"\"\"\n",
    "print(1:2)\n",
    "print(1:1)\n",
    "print(1:0)\n",
    "\"\"\";"
   ]
  },
  {
   "cell_type": "code",
   "execution_count": null,
   "metadata": {
    "collapsed": true
   },
   "outputs": [],
   "source": [
    "collect(1:-1:0)"
   ]
  },
  {
   "cell_type": "code",
   "execution_count": null,
   "metadata": {
    "collapsed": true
   },
   "outputs": [],
   "source": [
    "collect(1:-0.2:0)"
   ]
  },
  {
   "cell_type": "code",
   "execution_count": null,
   "metadata": {
    "collapsed": true
   },
   "outputs": [],
   "source": [
    "x = subtypes(Range)"
   ]
  }
 ],
 "metadata": {
  "anaconda-cloud": {},
  "celltoolbar": "Slideshow",
  "kernelspec": {
   "display_name": "Julia 0.6.0",
   "language": "julia",
   "name": "julia-0.6"
  },
  "language_info": {
   "file_extension": ".jl",
   "mimetype": "application/julia",
   "name": "julia",
   "version": "0.6.0"
  }
 },
 "nbformat": 4,
 "nbformat_minor": 2
}
